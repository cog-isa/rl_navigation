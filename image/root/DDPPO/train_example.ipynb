{
 "cells": [
  {
   "cell_type": "code",
   "execution_count": 2,
   "metadata": {},
   "outputs": [],
   "source": [
    "import argparse\n",
    "import random\n",
    "import numpy as np\n",
    "from habitat_baselines.config.default import get_config\n",
    "import habitat\n",
    "import os\n",
    "from habitat import Config, logger\n",
    "from habitat import Config, Dataset\n",
    "import matplotlib.pyplot as plt\n",
    "import transformations as tf"
   ]
  },
  {
   "cell_type": "code",
   "execution_count": 3,
   "metadata": {},
   "outputs": [],
   "source": [
    "import contextlib\n",
    "import time\n",
    "from collections import OrderedDict, defaultdict, deque\n",
    "from typing import Any, Dict, List, Optional\n",
    "from habitat_baselines.rl.ddppo.algo.ddp_utils import (\n",
    "    EXIT,\n",
    "    REQUEUE,\n",
    "    add_signal_handlers,\n",
    "    init_distrib_slurm,\n",
    "    load_interrupted_state,\n",
    "    requeue_job,\n",
    "    save_interrupted_state,\n",
    ")\n",
    "from habitat_baselines.common.baseline_registry import baseline_registry\n",
    "#from habitat_baselines.common.env_utils import construct_envs\n",
    "from habitat_baselines.common.environments import get_env_class\n",
    "from habitat_baselines.common.rollout_storage import RolloutStorage\n",
    "from habitat_baselines.common.tensorboard_utils import TensorboardWriter\n",
    "from habitat_baselines.common.utils import batch_obs, linear_decay\n",
    "import numpy as np\n",
    "import torch\n",
    "import torch.distributed as distrib\n",
    "import torch.nn as nn\n",
    "from gym import spaces\n",
    "from gym.spaces.dict_space import Dict as SpaceDict\n",
    "from torch.optim.lr_scheduler import LambdaLR\n",
    "from habitat_baselines.rl.ddppo.policy.resnet_policy import PointNavResNetPolicy\n",
    "from habitat_baselines.rl.ddppo.algo.ddppo import DDPPO\n",
    "from habitat_baselines.common.base_trainer import BaseRLTrainer\n",
    "from habitat_baselines.common.baseline_registry import baseline_registry"
   ]
  },
  {
   "cell_type": "code",
   "execution_count": 4,
   "metadata": {},
   "outputs": [],
   "source": [
    "from ppotrainer import PPOTrainer\n",
    "from ddpotrainer import DDPPOTrainer\n",
    "from constructenv import construct_envs\n",
    "from env import MyRLEnvNew\n",
    "from habitat import make_dataset\n",
    "from constructenv import make_env_fn\n",
    "from vectorenv import VectorEnv\n",
    "from utils import FrameSkip, FrameStack, draw_top_down_map"
   ]
  },
  {
   "cell_type": "code",
   "execution_count": 5,
   "metadata": {},
   "outputs": [],
   "source": [
    "os.environ[\"CUDA_DEVICE_ORDER\"]=\"PCI_BUS_ID\"   \n",
    "os.environ[\"CUDA_VISIBLE_DEVICES\"]=\"0,1,2,3\""
   ]
  },
  {
   "cell_type": "markdown",
   "metadata": {},
   "source": [
    "# Config init"
   ]
  },
  {
   "cell_type": "code",
   "execution_count": 6,
   "metadata": {},
   "outputs": [],
   "source": [
    "import fileinput\n",
    "filename = \"/habitat-api/habitat_baselines/config/pointnav/ddppo_pointnav.yaml\"\n",
    "with fileinput.FileInput(filename, inplace=True, backup='.bak') as file:\n",
    "    for line in file:\n",
    "        print(line.replace('\\\"configs/tasks/pointnav_gibson.yaml\\\"', '\\\"/habitat-api/configs/tasks/pointnav_gibson.yaml\\\"'), end='')\n",
    "with fileinput.FileInput(filename, inplace=True, backup='.bak') as file:        \n",
    "    for line in file:    \n",
    "        print(line.replace('GLOO', 'NCCL'), end='')"
   ]
  },
  {
   "cell_type": "code",
   "execution_count": 7,
   "metadata": {},
   "outputs": [],
   "source": [
    "W = 256#640\n",
    "H = 256#360\n",
    "config_paths=\"/data/challenge_pointnav2020.local.rgbd.yaml\"\n",
    "config = habitat.get_config(config_paths=config_paths)\n",
    "config.defrost()\n",
    "config.SIMULATOR.RGB_SENSOR.HEIGHT = H\n",
    "config.SIMULATOR.RGB_SENSOR.WIDTH = W\n",
    "config.SIMULATOR.DEPTH_SENSOR.HEIGHT = H\n",
    "config.SIMULATOR.DEPTH_SENSOR.WIDTH = W\n",
    "config.DATASET.DATA_PATH = '/data/v1/{split}/{split}.json.gz'\n",
    "config.TASK.MEASUREMENTS.append(\"TOP_DOWN_MAP\")\n",
    "config.TASK.SENSORS = [\"HEADING_SENSOR\", \"COMPASS_SENSOR\", \"GPS_SENSOR\", \"POINTGOAL_SENSOR\", \"POINTGOAL_WITH_GPS_COMPASS_SENSOR\"]\n",
    "config.TASK.POINTGOAL_WITH_GPS_COMPASS_SENSOR.DIMENSIONALITY = 3\n",
    "config.TASK.POINTGOAL_WITH_GPS_COMPASS_SENSOR.GOAL_FORMAT = \"CARTESIAN\"\n",
    "config.TASK.POINTGOAL_SENSOR.DIMENSIONALITY = 3\n",
    "config.TASK.POINTGOAL_SENSOR.GOAL_FORMAT = \"CARTESIAN\"\n",
    "config.TASK.GPS_SENSOR.DIMENSIONALITY = 3\n",
    "config.TASK.GPS_SENSOR.GOAL_FORMAT = \"CARTESIAN\"\n",
    "config.TASK.AGENT_POSITION_SENSOR = habitat.Config()\n",
    "config.TASK.AGENT_POSITION_SENSOR.TYPE = \"position_sensor\"\n",
    "config.TASK.AGENT_POSITION_SENSOR.ANSWER_TO_LIFE = 42\n",
    "config.TASK.SENSORS.append(\"AGENT_POSITION_SENSOR\")\n",
    "config.SIMULATOR.TURN_ANGLE = 0.5\n",
    "config.SIMULATOR.TILT_ANGLE = 0.5\n",
    "config.SIMULATOR.FORWARD_STEP_SIZE = 0.0125\n",
    "config.ENVIRONMENT.MAX_EPISODE_STEPS = 500*20\n",
    "config.TASK.TOP_DOWN_MAP.MAX_EPISODE_STEPS = 500*20\n",
    "config.DATASET.SCENES_DIR = '/data'\n",
    "config.DATASET.SPLIT = 'train'\n",
    "config.SIMULATOR.SCENE = '/data/gibson/Aldrich.glb'\n",
    "#config.SIMULATOR_GPU_ID = 0\n",
    "config.freeze()"
   ]
  },
  {
   "cell_type": "code",
   "execution_count": 8,
   "metadata": {},
   "outputs": [],
   "source": [
    "config2 = get_config('/habitat-api/habitat_baselines/config/pointnav/ddppo_pointnav.yaml', [])\n",
    "ii = 0\n",
    "for i in config2.TASK_CONFIG.keys():\n",
    "    config2.TASK_CONFIG[i] = config[i]\n",
    "    ii+=1\n",
    "config = config2    "
   ]
  },
  {
   "cell_type": "code",
   "execution_count": 9,
   "metadata": {},
   "outputs": [],
   "source": [
    "config.defrost()\n",
    "config.TASK_CONFIG.DATASET.DATA_PATH = '/data/v1/{split}/{split}.json.gz'\n",
    "config.TASK_CONFIG.DATASET.SCENES_DIR = '/data'\n",
    "config.TASK_CONFIG.DATASET.SPLIT = 'train'\n",
    "config.TASK_CONFIG.SIMULATOR.SCENE = '/data/gibson/Aldrich.glb'\n",
    "config.TASK_CONFIG.TASK.GOAL_SENSOR_UUID = 'pos'#'pointgoal_with_gps_compass'\n",
    "config.NUM_UPDATES = 50000\n",
    "config.ENV_NAME = 'MyRLEnvNew'\n",
    "config.NUM_PROCESSES = 4\n",
    "config.RL.FRAMESKIP = 20\n",
    "config.RL.FRAMESTACK = 1\n",
    "config.freeze()"
   ]
  },
  {
   "cell_type": "markdown",
   "metadata": {},
   "source": [
    "## Construct one env (example)"
   ]
  },
  {
   "cell_type": "code",
   "execution_count": 10,
   "metadata": {},
   "outputs": [
    {
     "name": "stderr",
     "output_type": "stream",
     "text": [
      "2020-04-20 11:47:26,060 Initializing dataset PointNav-v1\n"
     ]
    },
    {
     "name": "stdout",
     "output_type": "stream",
     "text": [
      "MyRLEnvNew\n"
     ]
    },
    {
     "name": "stderr",
     "output_type": "stream",
     "text": [
      "2020-04-20 11:49:07,228 initializing sim Sim-v0\n",
      "2020-04-20 11:49:11,572 Initializing task Nav-v0\n"
     ]
    }
   ],
   "source": [
    "print(config.ENV_NAME)\n",
    "env_class = get_env_class(config.ENV_NAME)\n",
    "dataset = make_dataset(config.TASK_CONFIG.DATASET.TYPE, config=config.TASK_CONFIG.DATASET)\n",
    "one_env = env_class(config=config, dataset=dataset)"
   ]
  },
  {
   "cell_type": "code",
   "execution_count": 11,
   "metadata": {},
   "outputs": [],
   "source": [
    "obs = one_env.reset()"
   ]
  },
  {
   "cell_type": "code",
   "execution_count": 12,
   "metadata": {},
   "outputs": [
    {
     "name": "stdout",
     "output_type": "stream",
     "text": [
      "Env is done:  False\n",
      "Current coordinates:  [-0.010852810071638443, -0.1271613578026929]\n",
      "Goal coordinates:  [3.6716153970517493, 3.1951804621038757]\n",
      "Distance to goal:  [-3.68246821 -3.32234182]\n"
     ]
    },
    {
     "data": {
      "image/png": "[encoded data removed]",
      "text/plain": [
       "<Figure size 720x720 with 2 Axes>"
      ]
     },
     "metadata": {
      "needs_background": "light"
     },
     "output_type": "display_data"
    }
   ],
   "source": [
    "observations, rewards, dones, infos = one_env.step(action=3)\n",
    "top_down_map = draw_top_down_map(infos, one_env.obs[\"heading\"][0], one_env.obs['rgb'][0].shape[0])\n",
    "plt.rcParams[\"figure.figsize\"] = [10,10]\n",
    "plt.subplot(1, 2, 1)\n",
    "plt.imshow(observations['depth'][:,:,0])\n",
    "plt.subplot(1, 2, 2)\n",
    "plt.imshow(top_down_map)\n",
    "print('Env is done: ',dones)\n",
    "print('Current coordinates: ',[one_env.trux,one_env.truy])\n",
    "print('Goal coordinates: ',[one_env.goalx, one_env.goaly])\n",
    "print('Distance to goal: ',observations['pos'])"
   ]
  },
  {
   "cell_type": "markdown",
   "metadata": {},
   "source": [
    "## Construct multiple envs with VectorEnv (example)"
   ]
  },
  {
   "cell_type": "code",
   "execution_count": 10,
   "metadata": {},
   "outputs": [],
   "source": [
    "num_processes = config.NUM_PROCESSES\n",
    "configs = [config.clone() for i in range(num_processes)]\n",
    "env_class = get_env_class(config.ENV_NAME)\n",
    "env_classes = [env_class for _ in range(num_processes)]\n",
    "\n",
    "envs = VectorEnv(make_env_fn=make_env_fn,\n",
    "                env_fn_args=tuple(tuple(zip(configs, env_classes, range(num_processes)))))"
   ]
  },
  {
   "cell_type": "code",
   "execution_count": 11,
   "metadata": {},
   "outputs": [],
   "source": [
    "obs = envs.reset()"
   ]
  },
  {
   "cell_type": "code",
   "execution_count": 24,
   "metadata": {},
   "outputs": [
    {
     "name": "stdout",
     "output_type": "stream",
     "text": [
      "Env is done:  [False, True, False, False]\n",
      "Current coordinates:  [[0.0, -0.0], [0, 0], [0.0, 0.0], [0.0, 0.0]]\n",
      "Goal coordinates:  [[-3.5805551791662182, -2.679196743347948], [3.03660953066954, -3.774702505809769], [3.282126369898093, -2.1211995405329493], [6.049706151078575, -5.3510740687665965]]\n",
      "Distance to goal:  [[3.5805551791662182, 2.679196743347948], [-3.03660953066954, 3.774702505809769], [-3.282126369898093, 2.1211995405329493], [-6.049706151078575, 5.3510740687665965]]\n"
     ]
    },
    {
     "data": {
      "image/png": "[encoded data removed]",
      "text/plain": [
       "<Figure size 432x288 with 8 Axes>"
      ]
     },
     "metadata": {
      "needs_background": "light"
     },
     "output_type": "display_data"
    }
   ],
   "source": [
    "outputs = envs.step([2,0,2,2])\n",
    "\n",
    "observations, rewards, dones, infos = [list(x) for x in zip(*outputs)]\n",
    "\n",
    "OBSERVATION_SPACE_COMMAND = 'obs'\n",
    "for write_fn in envs._connection_write_fns:\n",
    "    write_fn((OBSERVATION_SPACE_COMMAND, None))\n",
    "obs = [read_fn() for read_fn in envs._connection_read_fns]\n",
    "\n",
    "OBSERVATION_SPACE_COMMAND = ['trux','truy','goalx','goaly']\n",
    "for i,command in enumerate(OBSERVATION_SPACE_COMMAND):\n",
    "    for write_fn in envs._connection_write_fns:\n",
    "        write_fn((command, None))\n",
    "    OBSERVATION_SPACE_COMMAND[i] = [read_fn() for read_fn in envs._connection_read_fns]\n",
    "\n",
    "figure, axes = plt.subplots(nrows=2, ncols=config.NUM_PROCESSES)\n",
    "for i in range(config.NUM_PROCESSES):\n",
    "    top_down_map = draw_top_down_map(infos[i], obs[i][\"heading\"][0], obs[i]['rgb'][0].shape[0])\n",
    "    axes[0, i].imshow(observations[i]['depth'][:,:,0])\n",
    "    axes[1, i].imshow(top_down_map)\n",
    "    \n",
    "print('Env is done: ',dones)\n",
    "print('Current coordinates: ',list(map(list, zip(*OBSERVATION_SPACE_COMMAND[:2]))))\n",
    "print('Goal coordinates: ',list(map(list, zip(*OBSERVATION_SPACE_COMMAND[2:]))))\n",
    "print('Distance to goal: ',[list(observations[i]['pos']) for i in range(config.NUM_PROCESSES)])"
   ]
  },
  {
   "cell_type": "markdown",
   "metadata": {},
   "source": [
    "## How to communicate with VectorEnv manually (example)"
   ]
  },
  {
   "cell_type": "code",
   "execution_count": null,
   "metadata": {},
   "outputs": [],
   "source": [
    "data = [0,0,0,0]\n",
    "STEP_COMMAND = \"step\"\n",
    "\n",
    "if isinstance(data[0], (int, np.integer, str)):\n",
    "    data = [{\"action\": {\"action\": action}} for action in data]\n",
    "envs._is_waiting = True\n",
    "for write_fn, args in zip(envs._connection_write_fns, data):\n",
    "    write_fn((STEP_COMMAND, args))\n",
    "\n",
    "outputs = []\n",
    "for read_fn in envs._connection_read_fns:\n",
    "    outputs.append(read_fn())\n",
    "observations, rewards, dones, infos = [list(x) for x in zip(*outputs)]    \n",
    "envs._is_waiting = False\n",
    "plt.imshow(observations[1]['depth'][:,:,0])"
   ]
  },
  {
   "cell_type": "code",
   "execution_count": null,
   "metadata": {},
   "outputs": [],
   "source": [
    "OBSERVATION_SPACE_COMMAND = 'obs'\n",
    "for write_fn in trainer.envs._connection_write_fns:\n",
    "    write_fn((OBSERVATION_SPACE_COMMAND, None))\n",
    "obs = [read_fn() for read_fn in trainer.envs._connection_read_fns]"
   ]
  },
  {
   "cell_type": "code",
   "execution_count": null,
   "metadata": {},
   "outputs": [],
   "source": [
    "outputs = trainer.envs.step([3 for i in range(config.NUM_PROCESSES)])\n",
    "observations, rewards, dones, infos = [list(x) for x in zip(*outputs)]"
   ]
  },
  {
   "cell_type": "markdown",
   "metadata": {},
   "source": [
    "# Run training process"
   ]
  },
  {
   "cell_type": "code",
   "execution_count": 10,
   "metadata": {},
   "outputs": [],
   "source": [
    "random.seed(config.TASK_CONFIG.SEED)\n",
    "np.random.seed(config.TASK_CONFIG.SEED)"
   ]
  },
  {
   "cell_type": "code",
   "execution_count": 11,
   "metadata": {},
   "outputs": [],
   "source": [
    "config.defrost()\n",
    "config.RL.DDPPO.pretrained_weights = 'gibson-2plus-resnet50.pth'\n",
    "config.RL.DDPPO.pretrained_encoder = False\n",
    "config.RL.DDPPO.pretrained = False\n",
    "config.freeze()"
   ]
  },
  {
   "cell_type": "code",
   "execution_count": 12,
   "metadata": {},
   "outputs": [],
   "source": [
    "trainer_init = baseline_registry.get_trainer(config.TRAINER_NAME)"
   ]
  },
  {
   "cell_type": "code",
   "execution_count": 13,
   "metadata": {
    "collapsed": true,
    "jupyter": {
     "outputs_hidden": true
    }
   },
   "outputs": [
    {
     "name": "stderr",
     "output_type": "stream",
     "text": [
      "2020-04-20 11:49:42,693 config: BASE_TASK_CONFIG_PATH: /habitat-api/configs/tasks/pointnav_gibson.yaml\n",
      "CHECKPOINT_FOLDER: data/new_checkpoints\n",
      "CHECKPOINT_INTERVAL: 50\n",
      "CMD_TRAILING_OPTS: []\n",
      "ENV_NAME: MyRLEnvNew\n",
      "EVAL:\n",
      "  SPLIT: val\n",
      "  USE_CKPT_CONFIG: True\n",
      "EVAL_CKPT_PATH_DIR: data/new_checkpoints\n",
      "LOG_FILE: train.log\n",
      "LOG_INTERVAL: 10\n",
      "NUM_PROCESSES: 4\n",
      "NUM_UPDATES: 50000\n",
      "ORBSLAM2:\n",
      "  ANGLE_TH: 0.2617993877991494\n",
      "  BETA: 100\n",
      "  CAMERA_HEIGHT: 1.25\n",
      "  DEPTH_DENORM: 10.0\n",
      "  DIST_REACHED_TH: 0.15\n",
      "  DIST_TO_STOP: 0.05\n",
      "  D_OBSTACLE_MAX: 4.0\n",
      "  D_OBSTACLE_MIN: 0.1\n",
      "  H_OBSTACLE_MAX: 1.25\n",
      "  H_OBSTACLE_MIN: 0.375\n",
      "  MAP_CELL_SIZE: 0.1\n",
      "  MAP_SIZE: 40\n",
      "  MIN_PTS_IN_OBSTACLE: 320.0\n",
      "  NEXT_WAYPOINT_TH: 0.5\n",
      "  NUM_ACTIONS: 3\n",
      "  PLANNER_MAX_STEPS: 500\n",
      "  PREPROCESS_MAP: True\n",
      "  SLAM_SETTINGS_PATH: habitat_baselines/slambased/data/mp3d3_small1k.yaml\n",
      "  SLAM_VOCAB_PATH: habitat_baselines/slambased/data/ORBvoc.txt\n",
      "RL:\n",
      "  DDPPO:\n",
      "    backbone: resnet50\n",
      "    distrib_backend: NCCL\n",
      "    num_recurrent_layers: 2\n",
      "    pretrained: False\n",
      "    pretrained_encoder: False\n",
      "    pretrained_weights: gibson-2plus-resnet50.pth\n",
      "    reset_critic: True\n",
      "    rnn_type: LSTM\n",
      "    sync_frac: 0.6\n",
      "    train_encoder: True\n",
      "  FRAMESKIP: 20\n",
      "  FRAMESTACK: 1\n",
      "  PPO:\n",
      "    clip_param: 0.2\n",
      "    entropy_coef: 0.01\n",
      "    eps: 1e-05\n",
      "    gamma: 0.99\n",
      "    hidden_size: 512\n",
      "    lr: 0.00025\n",
      "    max_grad_norm: 0.2\n",
      "    num_mini_batch: 2\n",
      "    num_steps: 128\n",
      "    ppo_epoch: 2\n",
      "    reward_window_size: 50\n",
      "    tau: 0.95\n",
      "    use_gae: True\n",
      "    use_linear_clip_decay: False\n",
      "    use_linear_lr_decay: False\n",
      "    use_normalized_advantage: False\n",
      "    value_loss_coef: 0.5\n",
      "  REWARD_MEASURE: distance_to_goal\n",
      "  SLACK_REWARD: -0.01\n",
      "  SUCCESS_MEASURE: spl\n",
      "  SUCCESS_REWARD: 2.5\n",
      "SENSORS: ['DEPTH_SENSOR']\n",
      "SIMULATOR_GPU_ID: 0\n",
      "TASK_CONFIG:\n",
      "  DATASET:\n",
      "    CONTENT_SCENES: ['*']\n",
      "    DATA_PATH: /data/v1/{split}/{split}.json.gz\n",
      "    SCENES_DIR: /data\n",
      "    SPLIT: train\n",
      "    TYPE: PointNav-v1\n",
      "  ENVIRONMENT:\n",
      "    ITERATOR_OPTIONS:\n",
      "      CYCLE: True\n",
      "      GROUP_BY_SCENE: True\n",
      "      MAX_SCENE_REPEAT_EPISODES: -1\n",
      "      MAX_SCENE_REPEAT_STEPS: 10000\n",
      "      NUM_EPISODE_SAMPLE: -1\n",
      "      SHUFFLE: False\n",
      "      STEP_REPETITION_RANGE: 0.2\n",
      "    MAX_EPISODE_SECONDS: 10000000\n",
      "    MAX_EPISODE_STEPS: 10000\n",
      "  PYROBOT:\n",
      "    BASE_CONTROLLER: proportional\n",
      "    BASE_PLANNER: none\n",
      "    BUMP_SENSOR:\n",
      "      TYPE: PyRobotBumpSensor\n",
      "    DEPTH_SENSOR:\n",
      "      CENTER_CROP: False\n",
      "      HEIGHT: 480\n",
      "      MAX_DEPTH: 5.0\n",
      "      MIN_DEPTH: 0.0\n",
      "      NORMALIZE_DEPTH: True\n",
      "      TYPE: PyRobotDepthSensor\n",
      "      WIDTH: 640\n",
      "    LOCOBOT:\n",
      "      ACTIONS: ['BASE_ACTIONS', 'CAMERA_ACTIONS']\n",
      "      BASE_ACTIONS: ['go_to_relative', 'go_to_absolute']\n",
      "      CAMERA_ACTIONS: ['set_pan', 'set_tilt', 'set_pan_tilt']\n",
      "    RGB_SENSOR:\n",
      "      CENTER_CROP: False\n",
      "      HEIGHT: 480\n",
      "      TYPE: PyRobotRGBSensor\n",
      "      WIDTH: 640\n",
      "    ROBOT: locobot\n",
      "    ROBOTS: ['locobot']\n",
      "    SENSORS: ['RGB_SENSOR', 'DEPTH_SENSOR', 'BUMP_SENSOR']\n",
      "  SEED: 100\n",
      "  SIMULATOR:\n",
      "    ACTION_SPACE_CONFIG: pyrobotnoisy\n",
      "    AGENTS: ['AGENT_0']\n",
      "    AGENT_0:\n",
      "      ANGULAR_ACCELERATION: 12.56\n",
      "      ANGULAR_FRICTION: 1.0\n",
      "      COEFFICIENT_OF_RESTITUTION: 0.0\n",
      "      HEIGHT: 0.88\n",
      "      IS_SET_START_STATE: False\n",
      "      LINEAR_ACCELERATION: 20.0\n",
      "      LINEAR_FRICTION: 0.5\n",
      "      MASS: 32.0\n",
      "      RADIUS: 0.18\n",
      "      SENSORS: ['RGB_SENSOR', 'DEPTH_SENSOR']\n",
      "      START_POSITION: [0, 0, 0]\n",
      "      START_ROTATION: [0, 0, 0, 1]\n",
      "    DEFAULT_AGENT_ID: 0\n",
      "    DEPTH_SENSOR:\n",
      "      HEIGHT: 256\n",
      "      HFOV: 70\n",
      "      MAX_DEPTH: 10.0\n",
      "      MIN_DEPTH: 0.1\n",
      "      NOISE_MODEL: RedwoodDepthNoiseModel\n",
      "      NORMALIZE_DEPTH: True\n",
      "      ORIENTATION: [0.0, 0.0, 0.0]\n",
      "      POSITION: [0, 0.88, 0]\n",
      "      TYPE: HabitatSimDepthSensor\n",
      "      WIDTH: 256\n",
      "    FORWARD_STEP_SIZE: 0.0125\n",
      "    HABITAT_SIM_V0:\n",
      "      ALLOW_SLIDING: False\n",
      "      ENABLE_PHYSICS: False\n",
      "      GPU_DEVICE_ID: 0\n",
      "      GPU_GPU: False\n",
      "      PHYSICS_CONFIG_FILE: ./data/default.phys_scene_config.json\n",
      "    NOISE_MODEL:\n",
      "      CONTROLLER: Proportional\n",
      "      NOISE_MULTIPLIER: 0.5\n",
      "      ROBOT: LoCoBot\n",
      "    RGB_SENSOR:\n",
      "      HEIGHT: 256\n",
      "      HFOV: 70\n",
      "      NOISE_MODEL: GaussianNoiseModel\n",
      "      NOISE_MODEL_KWARGS:\n",
      "        intensity_constant: 0.1\n",
      "      ORIENTATION: [0.0, 0.0, 0.0]\n",
      "      POSITION: [0, 0.88, 0]\n",
      "      TYPE: HabitatSimRGBSensor\n",
      "      WIDTH: 256\n",
      "    SCENE: /data/gibson/Aldrich.glb\n",
      "    SEED: 100\n",
      "    SEMANTIC_SENSOR:\n",
      "      HEIGHT: 480\n",
      "      HFOV: 90\n",
      "      ORIENTATION: [0.0, 0.0, 0.0]\n",
      "      POSITION: [0, 1.25, 0]\n",
      "      TYPE: HabitatSimSemanticSensor\n",
      "      WIDTH: 640\n",
      "    TILT_ANGLE: 0.5\n",
      "    TURN_ANGLE: 0.5\n",
      "    TYPE: Sim-v0\n",
      "  TASK:\n",
      "    ACTIONS:\n",
      "      ANSWER:\n",
      "        TYPE: AnswerAction\n",
      "      LOOK_DOWN:\n",
      "        TYPE: LookDownAction\n",
      "      LOOK_UP:\n",
      "        TYPE: LookUpAction\n",
      "      MOVE_FORWARD:\n",
      "        TYPE: MoveForwardAction\n",
      "      STOP:\n",
      "        TYPE: StopAction\n",
      "      TELEPORT:\n",
      "        TYPE: TeleportAction\n",
      "      TURN_LEFT:\n",
      "        TYPE: TurnLeftAction\n",
      "      TURN_RIGHT:\n",
      "        TYPE: TurnRightAction\n",
      "    AGENT_POSITION_SENSOR:\n",
      "      ANSWER_TO_LIFE: 42\n",
      "      TYPE: position_sensor\n",
      "    ANSWER_ACCURACY:\n",
      "      TYPE: AnswerAccuracy\n",
      "    COLLISIONS:\n",
      "      TYPE: Collisions\n",
      "    COMPASS_SENSOR:\n",
      "      TYPE: CompassSensor\n",
      "    CORRECT_ANSWER:\n",
      "      TYPE: CorrectAnswer\n",
      "    DISTANCE_TO_GOAL:\n",
      "      DISTANCE_TO: POINT\n",
      "      TYPE: DistanceToGoal\n",
      "    EPISODE_INFO:\n",
      "      TYPE: EpisodeInfo\n",
      "    GOAL_SENSOR_UUID: pos\n",
      "    GPS_SENSOR:\n",
      "      DIMENSIONALITY: 3\n",
      "      GOAL_FORMAT: CARTESIAN\n",
      "      TYPE: GPSSensor\n",
      "    HEADING_SENSOR:\n",
      "      TYPE: HeadingSensor\n",
      "    INSTRUCTION_SENSOR:\n",
      "      TYPE: InstructionSensor\n",
      "    INSTRUCTION_SENSOR_UUID: instruction\n",
      "    MEASUREMENTS: ['DISTANCE_TO_GOAL', 'SUCCESS', 'SPL', 'TOP_DOWN_MAP']\n",
      "    OBJECTGOAL_SENSOR:\n",
      "      GOAL_SPEC: TASK_CATEGORY_ID\n",
      "      GOAL_SPEC_MAX_VAL: 50\n",
      "      TYPE: ObjectGoalSensor\n",
      "    POINTGOAL_SENSOR:\n",
      "      DIMENSIONALITY: 3\n",
      "      GOAL_FORMAT: CARTESIAN\n",
      "      TYPE: PointGoalSensor\n",
      "    POINTGOAL_WITH_GPS_COMPASS_SENSOR:\n",
      "      DIMENSIONALITY: 3\n",
      "      GOAL_FORMAT: CARTESIAN\n",
      "      TYPE: PointGoalWithGPSCompassSensor\n",
      "    POSSIBLE_ACTIONS: ['STOP', 'MOVE_FORWARD', 'TURN_LEFT', 'TURN_RIGHT']\n",
      "    PROXIMITY_SENSOR:\n",
      "      MAX_DETECTION_RADIUS: 2.0\n",
      "      TYPE: ProximitySensor\n",
      "    QUESTION_SENSOR:\n",
      "      TYPE: QuestionSensor\n",
      "    SENSORS: ['HEADING_SENSOR', 'COMPASS_SENSOR', 'GPS_SENSOR', 'POINTGOAL_SENSOR', 'POINTGOAL_WITH_GPS_COMPASS_SENSOR', 'AGENT_POSITION_SENSOR']\n",
      "    SOFT_SPL:\n",
      "      TYPE: SoftSPL\n",
      "    SPL:\n",
      "      TYPE: SPL\n",
      "    SUCCESS:\n",
      "      SUCCESS_DISTANCE: 0.36\n",
      "      TYPE: Success\n",
      "    SUCCESS_DISTANCE: 0.36\n",
      "    TOP_DOWN_MAP:\n",
      "      DRAW_BORDER: True\n",
      "      DRAW_GOAL_AABBS: True\n",
      "      DRAW_GOAL_POSITIONS: True\n",
      "      DRAW_SHORTEST_PATH: True\n",
      "      DRAW_SOURCE: True\n",
      "      DRAW_VIEW_POINTS: True\n",
      "      FOG_OF_WAR:\n",
      "        DRAW: True\n",
      "        FOV: 90\n",
      "        VISIBILITY_DIST: 5.0\n",
      "      MAP_PADDING: 3\n",
      "      MAP_RESOLUTION: 1250\n",
      "      MAX_EPISODE_STEPS: 10000\n",
      "      NUM_TOPDOWN_MAP_SAMPLE_POINTS: 20000\n",
      "      TYPE: TopDownMap\n",
      "    TYPE: Nav-v0\n",
      "TENSORBOARD_DIR: tb\n",
      "TEST_EPISODE_COUNT: 994\n",
      "TORCH_GPU_ID: 0\n",
      "TRAINER_NAME: ddppo\n",
      "VIDEO_DIR: video_dir\n",
      "VIDEO_OPTION: []\n"
     ]
    }
   ],
   "source": [
    "trainer = trainer_init(config)"
   ]
  },
  {
   "cell_type": "code",
   "execution_count": 14,
   "metadata": {},
   "outputs": [
    {
     "name": "stderr",
     "output_type": "stream",
     "text": [
      "2020-04-20 11:49:45,366 Initializing dataset PointNav-v1\n"
     ]
    },
    {
     "name": "stdout",
     "output_type": "stream",
     "text": [
      "0\n"
     ]
    },
    {
     "name": "stderr",
     "output_type": "stream",
     "text": [
      "2020-04-20 11:50:24,001 agent number of trainable parameters: 12454917\n"
     ]
    }
   ],
   "source": [
    "trainer.train_init()"
   ]
  },
  {
   "cell_type": "code",
   "execution_count": 16,
   "metadata": {},
   "outputs": [
    {
     "data": {
      "text/plain": [
       "<All keys matched successfully>"
      ]
     },
     "execution_count": 16,
     "metadata": {},
     "output_type": "execute_result"
    }
   ],
   "source": [
    "pretrained_state = torch.load(config.RL.DDPPO.pretrained_weights, map_location=\"cpu\")\n",
    "trainer.actor_critic.net.visual_encoder.backbone.load_state_dict({k[len(\"actor_critic.net.visual_encoder.backbone.\") :]: v for k, v in pretrained_state[\"state_dict\"].items() if \"actor_critic.net.visual_encoder.backbone\" in k})\n",
    "for param in trainer.actor_critic.net.visual_encoder.backbone.parameters():\n",
    "    param.requires_grad = False\n",
    "trainer.actor_critic.net.prev_action_embedding.load_state_dict({k[len(\"actor_critic.net.prev_action_embedding.\") :]: v for k, v in pretrained_state[\"state_dict\"].items() if \"actor_critic.net.prev_action_embedding\" in k})\n",
    "for param in trainer.actor_critic.net.prev_action_embedding.parameters():\n",
    "    param.requires_grad = False\n",
    "trainer.actor_critic.net.tgt_embeding.load_state_dict({k[len(\"actor_critic.net.tgt_embeding.\") :]: v for k, v in pretrained_state[\"state_dict\"].items() if \"actor_critic.net.tgt_embeding\" in k})\n",
    "for param in trainer.actor_critic.net.tgt_embeding.parameters():\n",
    "    param.requires_grad = False\n",
    "trainer.actor_critic.net.visual_encoder.compression.load_state_dict({k[len(\"actor_critic.net.visual_encoder.compression.\") :]: v for k, v in pretrained_state[\"state_dict\"].items() if \"actor_critic.net.visual_encoder.compression\" in k})\n",
    "for param in trainer.actor_critic.net.visual_encoder.compression.parameters():\n",
    "    param.requires_grad = False\n",
    "trainer.actor_critic.net.visual_fc.load_state_dict({k[len(\"actor_critic.net.visual_fc.\") :]: v for k, v in pretrained_state[\"state_dict\"].items() if \"actor_critic.net.visual_fc\" in k})\n",
    "for param in trainer.actor_critic.net.visual_fc.parameters():\n",
    "    param.requires_grad = False\n",
    "trainer.actor_critic.net.state_encoder.load_state_dict({k[len(\"actor_critic.net.state_encoder.\") :]: v for k, v in pretrained_state[\"state_dict\"].items() if \"actor_critic.net.state_encoder\" in k})\n",
    "for param in trainer.actor_critic.net.state_encoder.parameters():\n",
    "    param.requires_grad = False\n",
    "trainer.actor_critic.critic.load_state_dict({k[len(\"actor_critic.critic.\") :]: v for k, v in pretrained_state[\"state_dict\"].items() if \"actor_critic.critic\" in k})\n",
    "#for param in trainer.actor_critic.critic.parameters():\n",
    "#    param.requires_grad = False\n",
    "trainer.actor_critic.action_distribution.load_state_dict({k[len(\"actor_critic.action_distribution.\") :]: v for k, v in pretrained_state[\"state_dict\"].items() if \"actor_critic.action_distribution\" in k})\n",
    "#for param in trainer.actor_critic.action_distribution.parameters():\n",
    "#    param.requires_grad = False"
   ]
  },
  {
   "cell_type": "code",
   "execution_count": null,
   "metadata": {},
   "outputs": [
    {
     "name": "stdout",
     "output_type": "stream",
     "text": [
      "RESET\n",
      "{'distance_to_goal': 6.347223281860352, 'spl': 0.0, 'success': 0.0, 'top_down_map.agent_angle': -1.5574531555175781}\n",
      "{'distance_to_goal': 0.0, 'spl': 0.0, 'success': 0.0, 'top_down_map.agent_angle': 0.0}\n",
      "{'distance_to_goal': 4.617747783660889, 'spl': 0.0, 'success': 0.0, 'top_down_map.agent_angle': -0.6120705604553223}\n",
      "{'distance_to_goal': 3.82579345703125, 'spl': 0.0, 'success': 0.0, 'top_down_map.agent_angle': -1.2838016510009767}\n",
      "{'distance_to_goal': 5.246660444471571, 'spl': 0.0, 'success': 0.0, 'top_down_map.agent_angle': -1.9643819597032335}\n",
      "{'distance_to_goal': 5.053762582632212, 'spl': 0.0, 'success': 0.0, 'top_down_map.agent_angle': -1.7681915576641376}\n",
      "{'distance_to_goal': 4.832377115885417, 'spl': 0.0, 'success': 0.0, 'top_down_map.agent_angle': -1.3591558668348525}\n",
      "{'distance_to_goal': 5.1124626159667965, 'spl': 0.0, 'success': 0.0, 'top_down_map.agent_angle': -1.359938621520996}\n",
      "{'distance_to_goal': 4.803353945414226, 'spl': 0.002036044684549173, 'success': 0.041666666666666664, 'top_down_map.agent_angle': -1.3657100995381672}\n",
      "{'distance_to_goal': 5.12628279061153, 'spl': 0.001685002497557936, 'success': 0.034482758620689655, 'top_down_map.agent_angle': -1.3258082948882004}\n"
     ]
    },
    {
     "name": "stderr",
     "output_type": "stream",
     "text": [
      "2020-04-20 11:59:07,721 update: 10\tfps: 11.347\t\n",
      "2020-04-20 11:59:07,724 update: 10\tenv-time: 454.384s\tpth-time: 41.441s\tframes: 5632.0\n",
      "2020-04-20 11:59:07,725 Average window size: 11  distance_to_goal: 5.258  reward: -0.738  spl: 0.002  success: 0.032  top_down_map.agent_angle: -1.325\n"
     ]
    },
    {
     "name": "stdout",
     "output_type": "stream",
     "text": [
      "{'distance_to_goal': 5.2581614832724295, 'spl': 0.001576292659005811, 'success': 0.03225806451612903, 'top_down_map.agent_angle': -1.3245382001323085}\n",
      "{'distance_to_goal': 5.362117658342634, 'spl': 0.001396144926548004, 'success': 0.02857142857142857, 'top_down_map.agent_angle': -1.4878923688616073}\n",
      "{'distance_to_goal': 5.362117658342634, 'spl': 0.001396144926548004, 'success': 0.02857142857142857, 'top_down_map.agent_angle': -1.4878923688616073}\n",
      "{'distance_to_goal': 5.524390616068026, 'spl': 0.0011918310348580524, 'success': 0.024390243902439025, 'top_down_map.agent_angle': -1.673659161823552}\n",
      "{'distance_to_goal': 5.524390616068026, 'spl': 0.0011918310348580524, 'success': 0.024390243902439025, 'top_down_map.agent_angle': -1.673659161823552}\n",
      "{'distance_to_goal': 5.490209621853299, 'spl': 0.002034140792157915, 'success': 0.044444444444444446, 'top_down_map.agent_angle': -1.7540483262803819}\n",
      "{'distance_to_goal': 5.648767588089924, 'spl': 0.0018680884825940036, 'success': 0.04081632653061224, 'top_down_map.agent_angle': -1.759750677614796}\n",
      "{'distance_to_goal': 5.726967289762677, 'spl': 0.001727100672586909, 'success': 0.03773584905660377, 'top_down_map.agent_angle': -1.653839111328125}\n",
      "{'distance_to_goal': 5.726967289762677, 'spl': 0.001727100672586909, 'success': 0.03773584905660377, 'top_down_map.agent_angle': -1.653839111328125}\n",
      "{'distance_to_goal': 5.682033397533275, 'spl': 0.0016951173267982624, 'success': 0.037037037037037035, 'top_down_map.agent_angle': -1.6627669157805267}\n"
     ]
    },
    {
     "name": "stderr",
     "output_type": "stream",
     "text": [
      "2020-04-20 12:06:30,205 update: 20\tfps: 11.452\t\n",
      "2020-04-20 12:06:30,207 update: 20\tenv-time: 859.044s\tpth-time: 78.845s\tframes: 10752.0\n",
      "2020-04-20 12:06:30,208 Average window size: 21  distance_to_goal: 5.658  reward: -0.661  spl: 0.002  success: 0.036  top_down_map.agent_angle: -1.635\n"
     ]
    },
    {
     "name": "stdout",
     "output_type": "stream",
     "text": [
      "{'distance_to_goal': 5.657634190150669, 'spl': 0.0016345774222697531, 'success': 0.03571428571428571, 'top_down_map.agent_angle': -1.6351473672049386}\n",
      "{'distance_to_goal': 5.622313452548668, 'spl': 0.0015005956663460029, 'success': 0.03278688524590164, 'top_down_map.agent_angle': -1.5665821012903431}\n",
      "{'distance_to_goal': 5.622313452548668, 'spl': 0.0015005956663460029, 'success': 0.03278688524590164, 'top_down_map.agent_angle': -1.5665821012903431}\n",
      "{'distance_to_goal': 5.777712735262784, 'spl': 0.0013869141764713056, 'success': 0.030303030303030304, 'top_down_map.agent_angle': -1.6176565921667851}\n",
      "{'distance_to_goal': 5.6595750696518845, 'spl': 0.00181371729601832, 'success': 0.04411764705882353, 'top_down_map.agent_angle': -1.6084085352280562}\n",
      "{'distance_to_goal': 5.667204091246699, 'spl': 0.0017370813539330388, 'success': 0.04225352112676056, 'top_down_map.agent_angle': -1.6486990485392825}\n",
      "{'distance_to_goal': 5.67849365234375, 'spl': 0.0020871941248575845, 'success': 0.05333333333333334, 'top_down_map.agent_angle': -1.6893046061197916}\n",
      "{'distance_to_goal': 5.742029190063477, 'spl': 0.0019567444920539855, 'success': 0.05, 'top_down_map.agent_angle': -1.7758611679077148}\n",
      "{'distance_to_goal': 5.742029190063477, 'spl': 0.0019567444920539855, 'success': 0.05, 'top_down_map.agent_angle': -1.7758611679077148}\n",
      "{'distance_to_goal': 5.742029190063477, 'spl': 0.0019567444920539855, 'success': 0.05, 'top_down_map.agent_angle': -1.7758611679077148}\n"
     ]
    },
    {
     "name": "stderr",
     "output_type": "stream",
     "text": [
      "2020-04-20 12:14:10,314 update: 30\tfps: 11.346\t\n",
      "2020-04-20 12:14:10,317 update: 30\tenv-time: 1281.573s\tpth-time: 116.007s\tframes: 15872.0\n",
      "2020-04-20 12:14:10,318 Average window size: 31  distance_to_goal: 5.836  reward: -0.856  spl: 0.002  success: 0.049  top_down_map.agent_angle: -1.727\n"
     ]
    },
    {
     "name": "stdout",
     "output_type": "stream",
     "text": [
      "{'distance_to_goal': 5.836176058141197, 'spl': 0.0019090190166380348, 'success': 0.04878048780487805, 'top_down_map.agent_angle': -1.7274882618973895}\n",
      "{'distance_to_goal': 5.980091566450141, 'spl': 0.0017588714535316725, 'success': 0.0449438202247191, 'top_down_map.agent_angle': -1.7048074100794417}\n",
      "{'distance_to_goal': 5.980091566450141, 'spl': 0.0017588714535316725, 'success': 0.0449438202247191, 'top_down_map.agent_angle': -1.7048074100794417}\n",
      "{'distance_to_goal': 5.930213080512153, 'spl': 0.0017393284373813205, 'success': 0.044444444444444446, 'top_down_map.agent_angle': -1.6896280924479166}\n",
      "{'distance_to_goal': 6.042275470236073, 'spl': 0.0017015169496121614, 'success': 0.043478260869565216, 'top_down_map.agent_angle': -1.7327197530995244}\n",
      "{'distance_to_goal': 6.055672327677409, 'spl': 0.001630620410044988, 'success': 0.041666666666666664, 'top_down_map.agent_angle': -1.7401905059814453}\n",
      "{'distance_to_goal': 5.89903455677599, 'spl': 0.0015498966273694936, 'success': 0.039603960396039604, 'top_down_map.agent_angle': -1.726835345277692}\n",
      "{'distance_to_goal': 5.849921133003983, 'spl': 0.0015347015623952828, 'success': 0.0392156862745098, 'top_down_map.agent_angle': -1.702501184800092}\n",
      "{'distance_to_goal': 5.849819973782376, 'spl': 0.001410266300579449, 'success': 0.036036036036036036, 'top_down_map.agent_angle': -1.6738688151041667}\n",
      "{'distance_to_goal': 5.849819973782376, 'spl': 0.001410266300579449, 'success': 0.036036036036036036, 'top_down_map.agent_angle': -1.6738688151041667}\n"
     ]
    },
    {
     "name": "stderr",
     "output_type": "stream",
     "text": [
      "2020-04-20 12:21:54,068 update: 40\tfps: 11.270\t\n",
      "2020-04-20 12:21:54,070 update: 40\tenv-time: 1707.262s\tpth-time: 153.639s\tframes: 20992.0\n",
      "2020-04-20 12:21:54,071 Average window size: 41  distance_to_goal: 5.981  reward: -0.889  spl: 0.001  success: 0.034  top_down_map.agent_angle: -1.706\n"
     ]
    },
    {
     "name": "stdout",
     "output_type": "stream",
     "text": [
      "{'distance_to_goal': 5.980552936422414, 'spl': 0.0013494789600372314, 'success': 0.034482758620689655, 'top_down_map.agent_angle': -1.7058054167648842}\n",
      "{'distance_to_goal': 6.062031208967962, 'spl': 0.0013154584820530995, 'success': 0.03361344537815126, 'top_down_map.agent_angle': -1.7204839882730436}\n",
      "{'distance_to_goal': 6.03416748046875, 'spl': 0.0013044963280359903, 'success': 0.03333333333333333, 'top_down_map.agent_angle': -1.694996134440104}\n",
      "{'distance_to_goal': 6.03416748046875, 'spl': 0.0013044963280359903, 'success': 0.03333333333333333, 'top_down_map.agent_angle': -1.694996134440104}\n",
      "{'distance_to_goal': 6.062120281282018, 'spl': 0.0012831111423304824, 'success': 0.03278688524590164, 'top_down_map.agent_angle': -1.662151023989818}\n"
     ]
    }
   ],
   "source": [
    "trainer.train()"
   ]
  },
  {
   "cell_type": "code",
   "execution_count": null,
   "metadata": {},
   "outputs": [],
   "source": []
  }
 ],
 "metadata": {
  "kernelspec": {
   "display_name": "Python 3",
   "language": "python",
   "name": "python3"
  },
  "language_info": {
   "codemirror_mode": {
    "name": "ipython",
    "version": 3
   },
   "file_extension": ".py",
   "mimetype": "text/x-python",
   "name": "python",
   "nbconvert_exporter": "python",
   "pygments_lexer": "ipython3",
   "version": "3.6.10"
  }
 },
 "nbformat": 4,
 "nbformat_minor": 4
}
