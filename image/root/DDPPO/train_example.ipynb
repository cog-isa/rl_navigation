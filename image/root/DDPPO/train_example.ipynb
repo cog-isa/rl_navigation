{
 "cells": [
  {
   "cell_type": "code",
   "execution_count": 2,
   "metadata": {},
   "outputs": [],
   "source": [
    "import argparse\n",
    "import random\n",
    "import numpy as np\n",
    "from habitat_baselines.config.default import get_config\n",
    "import habitat\n",
    "import os\n",
    "from habitat import Config, logger\n",
    "from habitat import Config, Dataset\n",
    "import matplotlib.pyplot as plt\n",
    "import transformations as tf"
   ]
  },
  {
   "cell_type": "code",
   "execution_count": 3,
   "metadata": {},
   "outputs": [],
   "source": [
    "import contextlib\n",
    "import time\n",
    "from collections import OrderedDict, defaultdict, deque\n",
    "from typing import Any, Dict, List, Optional\n",
    "from habitat_baselines.rl.ddppo.algo.ddp_utils import (\n",
    "    EXIT,\n",
    "    REQUEUE,\n",
    "    add_signal_handlers,\n",
    "    init_distrib_slurm,\n",
    "    load_interrupted_state,\n",
    "    requeue_job,\n",
    "    save_interrupted_state,\n",
    ")\n",
    "from habitat_baselines.common.baseline_registry import baseline_registry\n",
    "#from habitat_baselines.common.env_utils import construct_envs\n",
    "from habitat_baselines.common.environments import get_env_class\n",
    "from habitat_baselines.common.rollout_storage import RolloutStorage\n",
    "from habitat_baselines.common.tensorboard_utils import TensorboardWriter\n",
    "from habitat_baselines.common.utils import batch_obs, linear_decay\n",
    "import numpy as np\n",
    "import torch\n",
    "import torch.distributed as distrib\n",
    "import torch.nn as nn\n",
    "from gym import spaces\n",
    "from gym.spaces.dict_space import Dict as SpaceDict\n",
    "from torch.optim.lr_scheduler import LambdaLR\n",
    "from habitat_baselines.rl.ddppo.policy.resnet_policy import PointNavResNetPolicy\n",
    "from habitat_baselines.rl.ddppo.algo.ddppo import DDPPO\n",
    "from habitat_baselines.common.base_trainer import BaseRLTrainer\n",
    "from habitat_baselines.common.baseline_registry import baseline_registry"
   ]
  },
  {
   "cell_type": "code",
   "execution_count": 4,
   "metadata": {},
   "outputs": [],
   "source": [
    "from ppotrainer import PPOTrainer\n",
    "from ddpotrainer import DDPPOTrainer\n",
    "from constructenv import construct_envs\n",
    "from env import MyRLEnv, NavRLEnv1, MyRLEnvNew\n",
    "from habitat import make_dataset\n",
    "from constructenv import make_env_fn\n",
    "from vectorenv import VectorEnv\n",
    "from utils import FrameSkip, FrameStack, draw_top_down_map"
   ]
  },
  {
   "cell_type": "code",
   "execution_count": 5,
   "metadata": {},
   "outputs": [],
   "source": [
    "os.environ[\"CUDA_DEVICE_ORDER\"]=\"PCI_BUS_ID\"   \n",
    "os.environ[\"CUDA_VISIBLE_DEVICES\"]=\"0,1,2,3\""
   ]
  },
  {
   "cell_type": "markdown",
   "metadata": {},
   "source": [
    "# Config init"
   ]
  },
  {
   "cell_type": "code",
   "execution_count": 6,
   "metadata": {},
   "outputs": [],
   "source": [
    "import fileinput\n",
    "filename = \"/habitat-api/habitat_baselines/config/pointnav/ddppo_pointnav.yaml\"\n",
    "with fileinput.FileInput(filename, inplace=True, backup='.bak') as file:\n",
    "    for line in file:\n",
    "        print(line.replace('\\\"configs/tasks/pointnav_gibson.yaml\\\"', '\\\"/habitat-api/configs/tasks/pointnav_gibson.yaml\\\"'), end='')\n",
    "with fileinput.FileInput(filename, inplace=True, backup='.bak') as file:        \n",
    "    for line in file:    \n",
    "        print(line.replace('GLOO', 'NCCL'), end='')"
   ]
  },
  {
   "cell_type": "code",
   "execution_count": 7,
   "metadata": {},
   "outputs": [],
   "source": [
    "W = 256#640\n",
    "H = 256#360\n",
    "config_paths=\"/data/challenge_pointnav2020.local.rgbd.yaml\"\n",
    "config = habitat.get_config(config_paths=config_paths)\n",
    "config.defrost()\n",
    "config.SIMULATOR.RGB_SENSOR.HEIGHT = H\n",
    "config.SIMULATOR.RGB_SENSOR.WIDTH = W\n",
    "config.SIMULATOR.DEPTH_SENSOR.HEIGHT = H\n",
    "config.SIMULATOR.DEPTH_SENSOR.WIDTH = W\n",
    "config.DATASET.DATA_PATH = '/data/v1/{split}/{split}.json.gz'\n",
    "config.TASK.MEASUREMENTS.append(\"TOP_DOWN_MAP\")\n",
    "config.TASK.SENSORS = [\"HEADING_SENSOR\", \"COMPASS_SENSOR\", \"GPS_SENSOR\", \"POINTGOAL_SENSOR\", \"POINTGOAL_WITH_GPS_COMPASS_SENSOR\"]\n",
    "config.TASK.POINTGOAL_WITH_GPS_COMPASS_SENSOR.DIMENSIONALITY = 3\n",
    "config.TASK.POINTGOAL_WITH_GPS_COMPASS_SENSOR.GOAL_FORMAT = \"CARTESIAN\"\n",
    "config.TASK.POINTGOAL_SENSOR.DIMENSIONALITY = 3\n",
    "config.TASK.POINTGOAL_SENSOR.GOAL_FORMAT = \"CARTESIAN\"\n",
    "config.TASK.GPS_SENSOR.DIMENSIONALITY = 3\n",
    "config.TASK.GPS_SENSOR.GOAL_FORMAT = \"CARTESIAN\"\n",
    "config.TASK.AGENT_POSITION_SENSOR = habitat.Config()\n",
    "config.TASK.AGENT_POSITION_SENSOR.TYPE = \"position_sensor\"\n",
    "config.TASK.AGENT_POSITION_SENSOR.ANSWER_TO_LIFE = 42\n",
    "config.TASK.SENSORS.append(\"AGENT_POSITION_SENSOR\")\n",
    "config.SIMULATOR.TURN_ANGLE = 0.5\n",
    "config.SIMULATOR.TILT_ANGLE = 0.5\n",
    "config.SIMULATOR.FORWARD_STEP_SIZE = 0.0125\n",
    "config.ENVIRONMENT.MAX_EPISODE_STEPS = 500*20\n",
    "config.TASK.TOP_DOWN_MAP.MAX_EPISODE_STEPS = 500*20\n",
    "config.DATASET.SCENES_DIR = '/data'\n",
    "config.DATASET.SPLIT = 'train'\n",
    "config.SIMULATOR.SCENE = '/data/gibson/Aldrich.glb'\n",
    "#config.SIMULATOR_GPU_ID = 0\n",
    "config.freeze()"
   ]
  },
  {
   "cell_type": "code",
   "execution_count": 8,
   "metadata": {},
   "outputs": [],
   "source": [
    "config2 = get_config('/habitat-api/habitat_baselines/config/pointnav/ddppo_pointnav.yaml', [])\n",
    "ii = 0\n",
    "for i in config2.TASK_CONFIG.keys():\n",
    "    config2.TASK_CONFIG[i] = config[i]\n",
    "    ii+=1\n",
    "config = config2    "
   ]
  },
  {
   "cell_type": "code",
   "execution_count": 9,
   "metadata": {},
   "outputs": [],
   "source": [
    "config.defrost()\n",
    "config.TASK_CONFIG.DATASET.DATA_PATH = '/data/v1/{split}/{split}.json.gz'\n",
    "config.TASK_CONFIG.DATASET.SCENES_DIR = '/data'\n",
    "config.TASK_CONFIG.DATASET.SPLIT = 'train'\n",
    "config.TASK_CONFIG.SIMULATOR.SCENE = '/data/gibson/Aldrich.glb'\n",
    "config.TASK_CONFIG.TASK.GOAL_SENSOR_UUID = 'pos'#'pointgoal_with_gps_compass'\n",
    "config.NUM_UPDATES = 50000\n",
    "config.ENV_NAME = 'MyRLEnvNew'\n",
    "config.NUM_PROCESSES = 6\n",
    "config.RL.FRAMESKIP = 20\n",
    "config.RL.FRAMESTACK = 1\n",
    "config.freeze()"
   ]
  },
  {
   "cell_type": "markdown",
   "metadata": {},
   "source": [
    "## Construct one env (example)"
   ]
  },
  {
   "cell_type": "code",
   "execution_count": null,
   "metadata": {},
   "outputs": [],
   "source": [
    "print(config.ENV_NAME)\n",
    "env_class = get_env_class(config.ENV_NAME)\n",
    "dataset = make_dataset(config.TASK_CONFIG.DATASET.TYPE, config=config.TASK_CONFIG.DATASET)\n",
    "one_env = env_class(config=config, dataset=dataset)"
   ]
  },
  {
   "cell_type": "code",
   "execution_count": null,
   "metadata": {},
   "outputs": [],
   "source": [
    "obs = one_env.reset()"
   ]
  },
  {
   "cell_type": "code",
   "execution_count": null,
   "metadata": {},
   "outputs": [],
   "source": [
    "observations, rewards, dones, infos = one_env.step(action=3)\n",
    "top_down_map = draw_top_down_map(infos, one_env.obs[\"heading\"][0], one_env.obs['rgb'][0].shape[0])\n",
    "plt.rcParams[\"figure.figsize\"] = [10,10]\n",
    "plt.subplot(1, 2, 1)\n",
    "plt.imshow(observations['depth'][:,:,0])\n",
    "plt.subplot(1, 2, 2)\n",
    "plt.imshow(top_down_map)\n",
    "print('Env is done: ',dones)\n",
    "print('Current coordinates: ',[one_env.trux,one_env.truy])\n",
    "print('Goal coordinates: ',[one_env.goalx, one_env.goaly])\n",
    "print('Distance to goal: ',observations['pos'])"
   ]
  },
  {
   "cell_type": "markdown",
   "metadata": {},
   "source": [
    "## Construct multiple envs with VectorEnv (example)"
   ]
  },
  {
   "cell_type": "code",
   "execution_count": null,
   "metadata": {},
   "outputs": [],
   "source": [
    "num_processes = config.NUM_PROCESSES\n",
    "configs = [config.clone() for i in range(num_processes)]\n",
    "env_class = get_env_class(config.ENV_NAME)\n",
    "env_classes = [env_class for _ in range(num_processes)]\n",
    "\n",
    "envs = VectorEnv(make_env_fn=make_env_fn,\n",
    "                env_fn_args=tuple(tuple(zip(configs, env_classes, range(num_processes)))))"
   ]
  },
  {
   "cell_type": "code",
   "execution_count": null,
   "metadata": {},
   "outputs": [],
   "source": [
    "obs = envs.reset()"
   ]
  },
  {
   "cell_type": "code",
   "execution_count": null,
   "metadata": {},
   "outputs": [],
   "source": [
    "outputs = envs.step([2,2,2,2])\n",
    "\n",
    "observations, rewards, dones, infos = [list(x) for x in zip(*outputs)]\n",
    "\n",
    "OBSERVATION_SPACE_COMMAND = 'obs'\n",
    "for write_fn in envs._connection_write_fns:\n",
    "    write_fn((OBSERVATION_SPACE_COMMAND, None))\n",
    "obs = [read_fn() for read_fn in envs._connection_read_fns]\n",
    "\n",
    "OBSERVATION_SPACE_COMMAND = ['trux','truy','goalx','goaly']\n",
    "for i,command in enumerate(OBSERVATION_SPACE_COMMAND):\n",
    "    for write_fn in envs._connection_write_fns:\n",
    "        write_fn((command, None))\n",
    "    OBSERVATION_SPACE_COMMAND[i] = [read_fn() for read_fn in envs._connection_read_fns]\n",
    "\n",
    "figure, axes = plt.subplots(nrows=2, ncols=config.NUM_PROCESSES)\n",
    "for i in range(config.NUM_PROCESSES):\n",
    "    top_down_map = draw_top_down_map(infos[i], obs[i][0][\"heading\"][0], obs[i][0]['rgb'][0].shape[0])\n",
    "    axes[0, i].imshow(observations[i]['depth'][:,:,0])\n",
    "    axes[1, i].imshow(top_down_map)\n",
    "    \n",
    "print('Env is done: ',dones)\n",
    "print('Current coordinates: ',list(map(list, zip(*OBSERVATION_SPACE_COMMAND[:2]))))\n",
    "print('Goal coordinates: ',list(map(list, zip(*OBSERVATION_SPACE_COMMAND[2:]))))\n",
    "print('Distance to goal: ',[list(observations[i]['pos']) for i in range(config.NUM_PROCESSES)])"
   ]
  },
  {
   "cell_type": "markdown",
   "metadata": {},
   "source": [
    "## How to communicate with VectorEnv manually (example)"
   ]
  },
  {
   "cell_type": "code",
   "execution_count": null,
   "metadata": {},
   "outputs": [],
   "source": [
    "data = [0,0,0,0]\n",
    "STEP_COMMAND = \"step\"\n",
    "\n",
    "if isinstance(data[0], (int, np.integer, str)):\n",
    "    data = [{\"action\": {\"action\": action}} for action in data]\n",
    "envs._is_waiting = True\n",
    "for write_fn, args in zip(envs._connection_write_fns, data):\n",
    "    write_fn((STEP_COMMAND, args))\n",
    "\n",
    "outputs = []\n",
    "for read_fn in envs._connection_read_fns:\n",
    "    outputs.append(read_fn())\n",
    "observations, rewards, dones, infos = [list(x) for x in zip(*outputs)]    \n",
    "envs._is_waiting = False\n",
    "plt.imshow(observations[1]['depth'][:,:,0])"
   ]
  },
  {
   "cell_type": "code",
   "execution_count": null,
   "metadata": {},
   "outputs": [],
   "source": [
    "OBSERVATION_SPACE_COMMAND = 'obs'\n",
    "for write_fn in trainer.envs._connection_write_fns:\n",
    "    write_fn((OBSERVATION_SPACE_COMMAND, None))\n",
    "obs = [read_fn() for read_fn in trainer.envs._connection_read_fns]"
   ]
  },
  {
   "cell_type": "code",
   "execution_count": null,
   "metadata": {},
   "outputs": [],
   "source": [
    "outputs = trainer.envs.step([3 for i in range(config.NUM_PROCESSES)])\n",
    "observations, rewards, dones, infos = [list(x) for x in zip(*outputs)]"
   ]
  },
  {
   "cell_type": "markdown",
   "metadata": {},
   "source": [
    "# Run training process"
   ]
  },
  {
   "cell_type": "code",
   "execution_count": 10,
   "metadata": {},
   "outputs": [],
   "source": [
    "random.seed(config.TASK_CONFIG.SEED)\n",
    "np.random.seed(config.TASK_CONFIG.SEED)"
   ]
  },
  {
   "cell_type": "code",
   "execution_count": 11,
   "metadata": {},
   "outputs": [],
   "source": [
    "config.defrost()\n",
    "config.RL.DDPPO.pretrained_weights = 'gibson-2plus-resnet50.pth'\n",
    "config.RL.DDPPO.pretrained_encoder = False\n",
    "config.RL.DDPPO.pretrained = False\n",
    "config.freeze()"
   ]
  },
  {
   "cell_type": "code",
   "execution_count": 12,
   "metadata": {},
   "outputs": [],
   "source": [
    "trainer_init = baseline_registry.get_trainer(config.TRAINER_NAME)"
   ]
  },
  {
   "cell_type": "code",
   "execution_count": 13,
   "metadata": {
    "collapsed": true,
    "jupyter": {
     "outputs_hidden": true
    }
   },
   "outputs": [
    {
     "name": "stderr",
     "output_type": "stream",
     "text": [
      "2020-04-12 17:09:16,911 config: BASE_TASK_CONFIG_PATH: /habitat-api/configs/tasks/pointnav_gibson.yaml\n",
      "CHECKPOINT_FOLDER: data/new_checkpoints\n",
      "CHECKPOINT_INTERVAL: 50\n",
      "CMD_TRAILING_OPTS: []\n",
      "ENV_NAME: MyRLEnvNew\n",
      "EVAL:\n",
      "  SPLIT: val\n",
      "  USE_CKPT_CONFIG: True\n",
      "EVAL_CKPT_PATH_DIR: data/new_checkpoints\n",
      "LOG_FILE: train.log\n",
      "LOG_INTERVAL: 10\n",
      "NUM_PROCESSES: 6\n",
      "NUM_UPDATES: 50000\n",
      "ORBSLAM2:\n",
      "  ANGLE_TH: 0.2617993877991494\n",
      "  BETA: 100\n",
      "  CAMERA_HEIGHT: 1.25\n",
      "  DEPTH_DENORM: 10.0\n",
      "  DIST_REACHED_TH: 0.15\n",
      "  DIST_TO_STOP: 0.05\n",
      "  D_OBSTACLE_MAX: 4.0\n",
      "  D_OBSTACLE_MIN: 0.1\n",
      "  H_OBSTACLE_MAX: 1.25\n",
      "  H_OBSTACLE_MIN: 0.375\n",
      "  MAP_CELL_SIZE: 0.1\n",
      "  MAP_SIZE: 40\n",
      "  MIN_PTS_IN_OBSTACLE: 320.0\n",
      "  NEXT_WAYPOINT_TH: 0.5\n",
      "  NUM_ACTIONS: 3\n",
      "  PLANNER_MAX_STEPS: 500\n",
      "  PREPROCESS_MAP: True\n",
      "  SLAM_SETTINGS_PATH: habitat_baselines/slambased/data/mp3d3_small1k.yaml\n",
      "  SLAM_VOCAB_PATH: habitat_baselines/slambased/data/ORBvoc.txt\n",
      "RL:\n",
      "  DDPPO:\n",
      "    backbone: resnet50\n",
      "    distrib_backend: NCCL\n",
      "    num_recurrent_layers: 2\n",
      "    pretrained: False\n",
      "    pretrained_encoder: False\n",
      "    pretrained_weights: gibson-2plus-resnet50.pth\n",
      "    reset_critic: True\n",
      "    rnn_type: LSTM\n",
      "    sync_frac: 0.6\n",
      "    train_encoder: True\n",
      "  FRAMESKIP: 20\n",
      "  FRAMESTACK: 1\n",
      "  PPO:\n",
      "    clip_param: 0.2\n",
      "    entropy_coef: 0.01\n",
      "    eps: 1e-05\n",
      "    gamma: 0.99\n",
      "    hidden_size: 512\n",
      "    lr: 0.00025\n",
      "    max_grad_norm: 0.2\n",
      "    num_mini_batch: 2\n",
      "    num_steps: 128\n",
      "    ppo_epoch: 2\n",
      "    reward_window_size: 50\n",
      "    tau: 0.95\n",
      "    use_gae: True\n",
      "    use_linear_clip_decay: False\n",
      "    use_linear_lr_decay: False\n",
      "    use_normalized_advantage: False\n",
      "    value_loss_coef: 0.5\n",
      "  REWARD_MEASURE: distance_to_goal\n",
      "  SLACK_REWARD: -0.01\n",
      "  SUCCESS_MEASURE: spl\n",
      "  SUCCESS_REWARD: 2.5\n",
      "SENSORS: ['DEPTH_SENSOR']\n",
      "SIMULATOR_GPU_ID: 0\n",
      "TASK_CONFIG:\n",
      "  DATASET:\n",
      "    CONTENT_SCENES: ['*']\n",
      "    DATA_PATH: /data/v1/{split}/{split}.json.gz\n",
      "    SCENES_DIR: /data\n",
      "    SPLIT: train\n",
      "    TYPE: PointNav-v1\n",
      "  ENVIRONMENT:\n",
      "    ITERATOR_OPTIONS:\n",
      "      CYCLE: True\n",
      "      GROUP_BY_SCENE: True\n",
      "      MAX_SCENE_REPEAT_EPISODES: -1\n",
      "      MAX_SCENE_REPEAT_STEPS: 10000\n",
      "      NUM_EPISODE_SAMPLE: -1\n",
      "      SHUFFLE: True\n",
      "      STEP_REPETITION_RANGE: 0.2\n",
      "    MAX_EPISODE_SECONDS: 10000000\n",
      "    MAX_EPISODE_STEPS: 10000\n",
      "  PYROBOT:\n",
      "    BASE_CONTROLLER: proportional\n",
      "    BASE_PLANNER: none\n",
      "    BUMP_SENSOR:\n",
      "      TYPE: PyRobotBumpSensor\n",
      "    DEPTH_SENSOR:\n",
      "      CENTER_CROP: False\n",
      "      HEIGHT: 480\n",
      "      MAX_DEPTH: 5.0\n",
      "      MIN_DEPTH: 0.0\n",
      "      NORMALIZE_DEPTH: True\n",
      "      TYPE: PyRobotDepthSensor\n",
      "      WIDTH: 640\n",
      "    LOCOBOT:\n",
      "      ACTIONS: ['BASE_ACTIONS', 'CAMERA_ACTIONS']\n",
      "      BASE_ACTIONS: ['go_to_relative', 'go_to_absolute']\n",
      "      CAMERA_ACTIONS: ['set_pan', 'set_tilt', 'set_pan_tilt']\n",
      "    RGB_SENSOR:\n",
      "      CENTER_CROP: False\n",
      "      HEIGHT: 480\n",
      "      TYPE: PyRobotRGBSensor\n",
      "      WIDTH: 640\n",
      "    ROBOT: locobot\n",
      "    ROBOTS: ['locobot']\n",
      "    SENSORS: ['RGB_SENSOR', 'DEPTH_SENSOR', 'BUMP_SENSOR']\n",
      "  SEED: 100\n",
      "  SIMULATOR:\n",
      "    ACTION_SPACE_CONFIG: v0\n",
      "    AGENTS: ['AGENT_0']\n",
      "    AGENT_0:\n",
      "      ANGULAR_ACCELERATION: 12.56\n",
      "      ANGULAR_FRICTION: 1.0\n",
      "      COEFFICIENT_OF_RESTITUTION: 0.0\n",
      "      HEIGHT: 0.88\n",
      "      IS_SET_START_STATE: False\n",
      "      LINEAR_ACCELERATION: 20.0\n",
      "      LINEAR_FRICTION: 0.5\n",
      "      MASS: 32.0\n",
      "      RADIUS: 0.18\n",
      "      SENSORS: ['RGB_SENSOR', 'DEPTH_SENSOR']\n",
      "      START_POSITION: [0, 0, 0]\n",
      "      START_ROTATION: [0, 0, 0, 1]\n",
      "    DEFAULT_AGENT_ID: 0\n",
      "    DEPTH_SENSOR:\n",
      "      HEIGHT: 256\n",
      "      HFOV: 70\n",
      "      MAX_DEPTH: 10.0\n",
      "      MIN_DEPTH: 0.1\n",
      "      NOISE_MODEL: RedwoodDepthNoiseModel\n",
      "      NORMALIZE_DEPTH: True\n",
      "      ORIENTATION: [0.0, 0.0, 0.0]\n",
      "      POSITION: [0, 0.88, 0]\n",
      "      TYPE: HabitatSimDepthSensor\n",
      "      WIDTH: 256\n",
      "    FORWARD_STEP_SIZE: 0.0125\n",
      "    HABITAT_SIM_V0:\n",
      "      ALLOW_SLIDING: False\n",
      "      ENABLE_PHYSICS: False\n",
      "      GPU_DEVICE_ID: 0\n",
      "      GPU_GPU: False\n",
      "      PHYSICS_CONFIG_FILE: ./data/default.phys_scene_config.json\n",
      "    NOISE_MODEL:\n",
      "      CONTROLLER: Proportional\n",
      "      NOISE_MULTIPLIER: 0.5\n",
      "    RGB_SENSOR:\n",
      "      HEIGHT: 256\n",
      "      HFOV: 70\n",
      "      NOISE_MODEL: GaussianNoiseModel\n",
      "      NOISE_MODEL_KWARGS:\n",
      "        intensity_constant: 0.1\n",
      "      ORIENTATION: [0.0, 0.0, 0.0]\n",
      "      POSITION: [0, 0.88, 0]\n",
      "      TYPE: HabitatSimRGBSensor\n",
      "      WIDTH: 256\n",
      "    SCENE: /data/gibson/Aldrich.glb\n",
      "    SEED: 100\n",
      "    SEMANTIC_SENSOR:\n",
      "      HEIGHT: 480\n",
      "      HFOV: 90\n",
      "      ORIENTATION: [0.0, 0.0, 0.0]\n",
      "      POSITION: [0, 1.25, 0]\n",
      "      TYPE: HabitatSimSemanticSensor\n",
      "      WIDTH: 640\n",
      "    TILT_ANGLE: 0.5\n",
      "    TURN_ANGLE: 0.5\n",
      "    TYPE: Sim-v0\n",
      "  TASK:\n",
      "    ACTIONS:\n",
      "      ANSWER:\n",
      "        TYPE: AnswerAction\n",
      "      LOOK_DOWN:\n",
      "        TYPE: LookDownAction\n",
      "      LOOK_UP:\n",
      "        TYPE: LookUpAction\n",
      "      MOVE_FORWARD:\n",
      "        TYPE: MoveForwardAction\n",
      "      STOP:\n",
      "        TYPE: StopAction\n",
      "      TELEPORT:\n",
      "        TYPE: TeleportAction\n",
      "      TURN_LEFT:\n",
      "        TYPE: TurnLeftAction\n",
      "      TURN_RIGHT:\n",
      "        TYPE: TurnRightAction\n",
      "    AGENT_POSITION_SENSOR:\n",
      "      ANSWER_TO_LIFE: 42\n",
      "      TYPE: position_sensor\n",
      "    ANSWER_ACCURACY:\n",
      "      TYPE: AnswerAccuracy\n",
      "    COLLISIONS:\n",
      "      TYPE: Collisions\n",
      "    COMPASS_SENSOR:\n",
      "      TYPE: CompassSensor\n",
      "    CORRECT_ANSWER:\n",
      "      TYPE: CorrectAnswer\n",
      "    DISTANCE_TO_GOAL:\n",
      "      DISTANCE_TO: POINT\n",
      "      TYPE: DistanceToGoal\n",
      "    EPISODE_INFO:\n",
      "      TYPE: EpisodeInfo\n",
      "    GOAL_SENSOR_UUID: pos\n",
      "    GPS_SENSOR:\n",
      "      DIMENSIONALITY: 3\n",
      "      GOAL_FORMAT: CARTESIAN\n",
      "      TYPE: GPSSensor\n",
      "    HEADING_SENSOR:\n",
      "      TYPE: HeadingSensor\n",
      "    INSTRUCTION_SENSOR:\n",
      "      TYPE: InstructionSensor\n",
      "    INSTRUCTION_SENSOR_UUID: instruction\n",
      "    MEASUREMENTS: ['DISTANCE_TO_GOAL', 'SPL', 'TOP_DOWN_MAP']\n",
      "    OBJECTGOAL_SENSOR:\n",
      "      GOAL_SPEC: TASK_CATEGORY_ID\n",
      "      GOAL_SPEC_MAX_VAL: 50\n",
      "      TYPE: ObjectGoalSensor\n",
      "    POINTGOAL_SENSOR:\n",
      "      DIMENSIONALITY: 3\n",
      "      GOAL_FORMAT: CARTESIAN\n",
      "      TYPE: PointGoalSensor\n",
      "    POINTGOAL_WITH_GPS_COMPASS_SENSOR:\n",
      "      DIMENSIONALITY: 3\n",
      "      GOAL_FORMAT: CARTESIAN\n",
      "      TYPE: PointGoalWithGPSCompassSensor\n",
      "    POSSIBLE_ACTIONS: ['STOP', 'MOVE_FORWARD', 'TURN_LEFT', 'TURN_RIGHT']\n",
      "    PROXIMITY_SENSOR:\n",
      "      MAX_DETECTION_RADIUS: 2.0\n",
      "      TYPE: ProximitySensor\n",
      "    QUESTION_SENSOR:\n",
      "      TYPE: QuestionSensor\n",
      "    SENSORS: ['HEADING_SENSOR', 'COMPASS_SENSOR', 'GPS_SENSOR', 'POINTGOAL_SENSOR', 'POINTGOAL_WITH_GPS_COMPASS_SENSOR', 'AGENT_POSITION_SENSOR']\n",
      "    SPL:\n",
      "      SUCCESS_DISTANCE: 0.36\n",
      "      TYPE: SPL\n",
      "    SUCCESS_DISTANCE: 0.36\n",
      "    TOP_DOWN_MAP:\n",
      "      DRAW_BORDER: True\n",
      "      DRAW_GOAL_AABBS: True\n",
      "      DRAW_GOAL_POSITIONS: True\n",
      "      DRAW_SHORTEST_PATH: True\n",
      "      DRAW_SOURCE: True\n",
      "      DRAW_VIEW_POINTS: True\n",
      "      FOG_OF_WAR:\n",
      "        DRAW: True\n",
      "        FOV: 90\n",
      "        VISIBILITY_DIST: 5.0\n",
      "      MAP_PADDING: 3\n",
      "      MAP_RESOLUTION: 1250\n",
      "      MAX_EPISODE_STEPS: 10000\n",
      "      NUM_TOPDOWN_MAP_SAMPLE_POINTS: 20000\n",
      "      TYPE: TopDownMap\n",
      "    TYPE: Nav-v0\n",
      "TENSORBOARD_DIR: tb\n",
      "TEST_EPISODE_COUNT: 994\n",
      "TORCH_GPU_ID: 0\n",
      "TRAINER_NAME: ddppo\n",
      "VIDEO_DIR: video_dir\n",
      "VIDEO_OPTION: []\n"
     ]
    }
   ],
   "source": [
    "trainer = trainer_init(config)"
   ]
  },
  {
   "cell_type": "code",
   "execution_count": 14,
   "metadata": {},
   "outputs": [
    {
     "name": "stderr",
     "output_type": "stream",
     "text": [
      "2020-04-12 17:09:19,679 Initializing dataset PointNav-v1\n"
     ]
    },
    {
     "name": "stdout",
     "output_type": "stream",
     "text": [
      "0\n"
     ]
    },
    {
     "name": "stderr",
     "output_type": "stream",
     "text": [
      "2020-04-12 17:09:49,472 agent number of trainable parameters: 12454917\n"
     ]
    }
   ],
   "source": [
    "trainer.train_init()"
   ]
  },
  {
   "cell_type": "code",
   "execution_count": 15,
   "metadata": {},
   "outputs": [
    {
     "data": {
      "text/plain": [
       "<All keys matched successfully>"
      ]
     },
     "execution_count": 15,
     "metadata": {},
     "output_type": "execute_result"
    }
   ],
   "source": [
    "pretrained_state = torch.load(config.RL.DDPPO.pretrained_weights, map_location=\"cpu\")\n",
    "trainer.actor_critic.net.visual_encoder.backbone.load_state_dict({k[len(\"actor_critic.net.visual_encoder.backbone.\") :]: v for k, v in pretrained_state[\"state_dict\"].items() if \"actor_critic.net.visual_encoder.backbone\" in k})\n",
    "for param in trainer.actor_critic.net.visual_encoder.backbone.parameters():\n",
    "    param.requires_grad = False\n",
    "trainer.actor_critic.net.prev_action_embedding.load_state_dict({k[len(\"actor_critic.net.prev_action_embedding.\") :]: v for k, v in pretrained_state[\"state_dict\"].items() if \"actor_critic.net.prev_action_embedding\" in k})\n",
    "for param in trainer.actor_critic.net.prev_action_embedding.parameters():\n",
    "    param.requires_grad = False\n",
    "trainer.actor_critic.net.tgt_embeding.load_state_dict({k[len(\"actor_critic.net.tgt_embeding.\") :]: v for k, v in pretrained_state[\"state_dict\"].items() if \"actor_critic.net.tgt_embeding\" in k})\n",
    "for param in trainer.actor_critic.net.tgt_embeding.parameters():\n",
    "    param.requires_grad = False\n",
    "trainer.actor_critic.net.visual_encoder.compression.load_state_dict({k[len(\"actor_critic.net.visual_encoder.compression.\") :]: v for k, v in pretrained_state[\"state_dict\"].items() if \"actor_critic.net.visual_encoder.compression\" in k})\n",
    "for param in trainer.actor_critic.net.visual_encoder.compression.parameters():\n",
    "    param.requires_grad = False\n",
    "trainer.actor_critic.net.visual_fc.load_state_dict({k[len(\"actor_critic.net.visual_fc.\") :]: v for k, v in pretrained_state[\"state_dict\"].items() if \"actor_critic.net.visual_fc\" in k})\n",
    "for param in trainer.actor_critic.net.visual_fc.parameters():\n",
    "    param.requires_grad = False\n",
    "trainer.actor_critic.net.state_encoder.load_state_dict({k[len(\"actor_critic.net.state_encoder.\") :]: v for k, v in pretrained_state[\"state_dict\"].items() if \"actor_critic.net.state_encoder\" in k})\n",
    "for param in trainer.actor_critic.net.state_encoder.parameters():\n",
    "    param.requires_grad = False\n",
    "trainer.actor_critic.net.state_encoder.load_state_dict({k[len(\"actor_critic.net.state_encoder.\") :]: v for k, v in pretrained_state[\"state_dict\"].items() if \"actor_critic.net.state_encoder\" in k})\n",
    "for param in trainer.actor_critic.net.state_encoder.parameters():\n",
    "    param.requires_grad = False\n",
    "trainer.actor_critic.critic.load_state_dict({k[len(\"actor_critic.critic.\") :]: v for k, v in pretrained_state[\"state_dict\"].items() if \"actor_critic.critic\" in k})\n",
    "#for param in trainer.actor_critic.critic.parameters():\n",
    "#    param.requires_grad = False\n",
    "trainer.actor_critic.action_distribution.load_state_dict({k[len(\"actor_critic.action_distribution.\") :]: v for k, v in pretrained_state[\"state_dict\"].items() if \"actor_critic.action_distribution\" in k})\n",
    "#for param in trainer.actor_critic.action_distribution.parameters():\n",
    "#    param.requires_grad = False"
   ]
  },
  {
   "cell_type": "code",
   "execution_count": null,
   "metadata": {
    "collapsed": true,
    "jupyter": {
     "outputs_hidden": true
    }
   },
   "outputs": [
    {
     "name": "stdout",
     "output_type": "stream",
     "text": [
      "RESET\n",
      "{'distance_to_goal': 7.028730773925782, 'spl': 0.0, 'top_down_map.agent_angle': -1.535555076599121}\n",
      "{'distance_to_goal': 0.0, 'spl': 0.0, 'top_down_map.agent_angle': 0.0}\n",
      "{'distance_to_goal': 3.6885706583658853, 'spl': 0.0, 'top_down_map.agent_angle': -0.48458099365234375}\n",
      "{'distance_to_goal': 5.647449970245361, 'spl': 0.0, 'top_down_map.agent_angle': -1.6650047302246094}\n",
      "{'distance_to_goal': 5.647449970245361, 'spl': 0.0, 'top_down_map.agent_angle': -1.6650047302246094}\n",
      "{'distance_to_goal': 5.647449970245361, 'spl': 0.0, 'top_down_map.agent_angle': -1.6650047302246094}\n",
      "{'distance_to_goal': 5.882303025987413, 'spl': 0.0, 'top_down_map.agent_angle': -1.7763037151760526}\n",
      "{'distance_to_goal': 6.332211529767072, 'spl': 0.0, 'top_down_map.agent_angle': -1.6125813236942999}\n",
      "{'distance_to_goal': 6.332211529767072, 'spl': 0.0, 'top_down_map.agent_angle': -1.6125813236942999}\n",
      "{'distance_to_goal': 6.332211529767072, 'spl': 0.0, 'top_down_map.agent_angle': -1.6125813236942999}\n"
     ]
    },
    {
     "name": "stderr",
     "output_type": "stream",
     "text": [
      "2020-04-12 17:22:54,413 update: 10\tfps: 10.897\t\n",
      "2020-04-12 17:22:54,416 update: 10\tenv-time: 731.690s\tpth-time: 42.957s\tframes: 8448.0\n",
      "2020-04-12 17:22:54,416 Average window size: 11  distance_to_goal: 6.553  reward: -2.183  spl: 0.000  top_down_map.agent_angle: -1.450\n"
     ]
    },
    {
     "name": "stdout",
     "output_type": "stream",
     "text": [
      "{'distance_to_goal': 6.553165558845766, 'spl': 0.0, 'top_down_map.agent_angle': -1.4504128732988912}\n",
      "{'distance_to_goal': 6.460648699504573, 'spl': 0.0, 'top_down_map.agent_angle': -1.535490268614234}\n",
      "{'distance_to_goal': 6.460648699504573, 'spl': 0.0, 'top_down_map.agent_angle': -1.535490268614234}\n",
      "{'distance_to_goal': 6.460648699504573, 'spl': 0.0, 'top_down_map.agent_angle': -1.535490268614234}\n",
      "{'distance_to_goal': 6.495611146438954, 'spl': 0.0, 'top_down_map.agent_angle': -1.5976896064226018}\n",
      "{'distance_to_goal': 6.427370343889509, 'spl': 0.0, 'top_down_map.agent_angle': -1.5581636428833008}\n",
      "{'distance_to_goal': 6.427370343889509, 'spl': 0.0, 'top_down_map.agent_angle': -1.5581636428833008}\n",
      "{'distance_to_goal': 6.427370343889509, 'spl': 0.0, 'top_down_map.agent_angle': -1.5581636428833008}\n",
      "{'distance_to_goal': 6.411245781078673, 'spl': 0.0, 'top_down_map.agent_angle': -1.5604092782003838}\n",
      "{'distance_to_goal': 6.521736376213305, 'spl': 0.0, 'top_down_map.agent_angle': -1.5126567031397964}\n"
     ]
    },
    {
     "name": "stderr",
     "output_type": "stream",
     "text": [
      "2020-04-12 17:34:51,162 update: 20\tfps: 10.810\t\n",
      "2020-04-12 17:34:51,166 update: 20\tenv-time: 1408.621s\tpth-time: 82.290s\tframes: 16128.0\n",
      "2020-04-12 17:34:51,167 Average window size: 21  distance_to_goal: 6.522  reward: -2.265  spl: 0.000  top_down_map.agent_angle: -1.513\n"
     ]
    },
    {
     "name": "stdout",
     "output_type": "stream",
     "text": [
      "{'distance_to_goal': 6.521736376213305, 'spl': 0.0, 'top_down_map.agent_angle': -1.5126567031397964}\n",
      "{'distance_to_goal': 6.521736376213305, 'spl': 0.0, 'top_down_map.agent_angle': -1.5126567031397964}\n",
      "{'distance_to_goal': 6.505678546962454, 'spl': 0.0, 'top_down_map.agent_angle': -1.5115600130451259}\n",
      "{'distance_to_goal': 6.599710836038961, 'spl': 0.0, 'top_down_map.agent_angle': -1.5032792524857954}\n",
      "{'distance_to_goal': 6.599710836038961, 'spl': 0.0, 'top_down_map.agent_angle': -1.5032792524857954}\n",
      "{'distance_to_goal': 6.599710836038961, 'spl': 0.0, 'top_down_map.agent_angle': -1.5032792524857954}\n",
      "{'distance_to_goal': 6.562496909612341, 'spl': 0.0, 'top_down_map.agent_angle': -1.4759353444546084}\n",
      "{'distance_to_goal': 6.607742823911517, 'spl': 0.0, 'top_down_map.agent_angle': -1.6144956095834797}\n",
      "{'distance_to_goal': 6.607742823911517, 'spl': 0.0, 'top_down_map.agent_angle': -1.6144956095834797}\n",
      "{'distance_to_goal': 6.704453178074049, 'spl': 0.0, 'top_down_map.agent_angle': -1.585563327955163}\n"
     ]
    },
    {
     "name": "stderr",
     "output_type": "stream",
     "text": [
      "2020-04-12 17:46:42,331 update: 30\tfps: 10.806\t\n",
      "2020-04-12 17:46:42,334 update: 30\tenv-time: 2080.280s\tpth-time: 121.317s\tframes: 23808.0\n",
      "2020-04-12 17:46:42,335 Average window size: 31  distance_to_goal: 6.704  reward: -2.292  spl: 0.000  top_down_map.agent_angle: -1.586\n"
     ]
    },
    {
     "name": "stdout",
     "output_type": "stream",
     "text": [
      "{'distance_to_goal': 6.704453178074049, 'spl': 0.0, 'top_down_map.agent_angle': -1.585563327955163}\n",
      "{'distance_to_goal': 6.806392211914062, 'spl': 0.004024078845977783, 'top_down_map.agent_angle': -1.566338348388672}\n",
      "{'distance_to_goal': 6.7974303594910275, 'spl': 0.003984236481166122, 'top_down_map.agent_angle': -1.5752684338258045}\n",
      "{'distance_to_goal': 6.792518765318627, 'spl': 0.003945175339193905, 'top_down_map.agent_angle': -1.5953991459865196}\n",
      "{'distance_to_goal': 6.792518765318627, 'spl': 0.003945175339193905, 'top_down_map.agent_angle': -1.5953991459865196}\n",
      "{'distance_to_goal': 6.782553732932151, 'spl': 0.0036252962576376426, 'top_down_map.agent_angle': -1.653766528980152}\n",
      "{'distance_to_goal': 6.800890470805921, 'spl': 0.0035298937245419153, 'top_down_map.agent_angle': -1.6414402744226289}\n",
      "{'distance_to_goal': 6.849907184469289, 'spl': 0.003469033487911882, 'top_down_map.agent_angle': -1.6625746365251213}\n",
      "{'distance_to_goal': 6.849907184469289, 'spl': 0.003469033487911882, 'top_down_map.agent_angle': -1.6625746365251213}\n",
      "{'distance_to_goal': 6.749003260588843, 'spl': 0.003325684996675854, 'top_down_map.agent_angle': -1.72397077576188}\n"
     ]
    },
    {
     "name": "stderr",
     "output_type": "stream",
     "text": [
      "2020-04-12 17:58:52,975 update: 40\tfps: 10.733\t\n",
      "2020-04-12 17:58:52,977 update: 40\tenv-time: 2770.812s\tpth-time: 160.947s\tframes: 31488.0\n",
      "2020-04-12 17:58:52,978 Average window size: 41  distance_to_goal: 6.711  reward: -2.338  spl: 0.003  top_down_map.agent_angle: -1.723\n"
     ]
    },
    {
     "name": "stdout",
     "output_type": "stream",
     "text": [
      "{'distance_to_goal': 6.710550276959529, 'spl': 0.003298425283588347, 'top_down_map.agent_angle': -1.7226178528832607}\n",
      "{'distance_to_goal': 6.712264522429435, 'spl': 0.0032452248757885347, 'top_down_map.agent_angle': -1.7176000533565399}\n",
      "{'distance_to_goal': 6.712264522429435, 'spl': 0.0032452248757885347, 'top_down_map.agent_angle': -1.7176000533565399}\n",
      "{'distance_to_goal': 6.692199244643703, 'spl': 0.0030485445802861996, 'top_down_map.agent_angle': -1.6890302715879497}\n",
      "{'distance_to_goal': 6.804558195891204, 'spl': 0.0029807991451687283, 'top_down_map.agent_angle': -1.6731325502748842}\n",
      "{'distance_to_goal': 6.745342752207881, 'spl': 0.002915999163752017, 'top_down_map.agent_angle': -1.707431737927423}\n",
      "{'distance_to_goal': 6.741029866536459, 'spl': 0.0026827192306518553, 'top_down_map.agent_angle': -1.6753716023763021}\n",
      "{'distance_to_goal': 6.795533811891234, 'spl': 0.0026130382116738853, 'top_down_map.agent_angle': -1.7117107440898944}\n",
      "{'distance_to_goal': 6.795533811891234, 'spl': 0.0026130382116738853, 'top_down_map.agent_angle': -1.7117107440898944}\n",
      "{'distance_to_goal': 6.800549710181452, 'spl': 0.002596179900630828, 'top_down_map.agent_angle': -1.709687263734879}\n"
     ]
    },
    {
     "name": "stderr",
     "output_type": "stream",
     "text": [
      "2020-04-12 18:10:56,989 update: 50\tfps: 10.708\t\n",
      "2020-04-12 18:10:56,991 update: 50\tenv-time: 3455.089s\tpth-time: 200.193s\tframes: 39168.0\n",
      "2020-04-12 18:10:56,992 Average window size: 50  distance_to_goal: 6.825  reward: -2.119  spl: 0.002  top_down_map.agent_angle: -1.752\n"
     ]
    },
    {
     "name": "stdout",
     "output_type": "stream",
     "text": [
      "{'distance_to_goal': 6.824996491392215, 'spl': 0.0024096280514837023, 'top_down_map.agent_angle': -1.7517058777951908}\n",
      "{'distance_to_goal': 6.882494823042169, 'spl': 0.0024241438831191465, 'top_down_map.agent_angle': -1.7714159862104668}\n",
      "{'distance_to_goal': 6.949024075776144, 'spl': 0.0026301168927959366, 'top_down_map.agent_angle': -1.757311852149714}\n",
      "{'distance_to_goal': 6.924183238636363, 'spl': 0.0026130382116738853, 'top_down_map.agent_angle': -1.7516483455509335}\n",
      "{'distance_to_goal': 7.005921128216912, 'spl': 0.002367105203516343, 'top_down_map.agent_angle': -1.7439250272863052}\n",
      "{'distance_to_goal': 7.0027310523761095, 'spl': 0.0023811117431821204, 'top_down_map.agent_angle': -1.726612339358358}\n",
      "{'distance_to_goal': 6.989833068847656, 'spl': 0.0025150492787361146, 'top_down_map.agent_angle': -1.7514453887939454}\n",
      "{'distance_to_goal': 6.971006040219907, 'spl': 0.002483999287640607, 'top_down_map.agent_angle': -1.7350806718991127}\n",
      "{'distance_to_goal': 7.001234980354532, 'spl': 0.0023532624830279432, 'top_down_map.agent_angle': -1.7293951023391814}\n",
      "{'distance_to_goal': 6.968193821653107, 'spl': 0.0023811117431821204, 'top_down_map.agent_angle': -1.7555865225707286}\n"
     ]
    },
    {
     "name": "stderr",
     "output_type": "stream",
     "text": [
      "2020-04-12 18:22:46,739 update: 60\tfps: 10.726\t\n",
      "2020-04-12 18:22:46,742 update: 60\tenv-time: 4124.831s\tpth-time: 239.623s\tframes: 46848.0\n",
      "2020-04-12 18:22:46,743 Average window size: 50  distance_to_goal: 7.018  reward: -2.081  spl: 0.003  top_down_map.agent_angle: -1.753\n"
     ]
    },
    {
     "name": "stdout",
     "output_type": "stream",
     "text": [
      "{'distance_to_goal': 7.01815239288522, 'spl': 0.0025308671987281654, 'top_down_map.agent_angle': -1.75284158958579}\n",
      "{'distance_to_goal': 7.01815239288522, 'spl': 0.0025308671987281654, 'top_down_map.agent_angle': -1.75284158958579}\n",
      "{'distance_to_goal': 7.060927280159884, 'spl': 0.0023395807244056877, 'top_down_map.agent_angle': -1.6713015534156976}\n",
      "{'distance_to_goal': 7.07718841374269, 'spl': 0.0023532624830279432, 'top_down_map.agent_angle': -1.6386995371322186}\n",
      "{'distance_to_goal': 7.112401422464623, 'spl': 0.0025308671987281654, 'top_down_map.agent_angle': -1.6410645298987814}\n",
      "{'distance_to_goal': 7.112401422464623, 'spl': 0.0025308671987281654, 'top_down_map.agent_angle': -1.6410645298987814}\n",
      "{'distance_to_goal': 7.121974400111607, 'spl': 0.002395285027367728, 'top_down_map.agent_angle': -1.646572476341611}\n",
      "{'distance_to_goal': 7.1053921851886095, 'spl': 0.0023811117431821204, 'top_down_map.agent_angle': -1.6518895978758321}\n",
      "{'distance_to_goal': 7.132228042140151, 'spl': 0.0024388356642289595, 'top_down_map.agent_angle': -1.652740108605587}\n",
      "{'distance_to_goal': 7.132228042140151, 'spl': 0.0024388356642289595, 'top_down_map.agent_angle': -1.652740108605587}\n"
     ]
    },
    {
     "name": "stderr",
     "output_type": "stream",
     "text": [
      "2020-04-12 18:34:48,575 update: 70\tfps: 10.714\t\n",
      "2020-04-12 18:34:48,579 update: 70\tenv-time: 4806.900s\tpth-time: 278.906s\tframes: 54528.0\n",
      "2020-04-12 18:34:48,581 Average window size: 50  distance_to_goal: 7.075  reward: -2.008  spl: 0.002  top_down_map.agent_angle: -1.618\n"
     ]
    },
    {
     "name": "stdout",
     "output_type": "stream",
     "text": [
      "{'distance_to_goal': 7.07494294241573, 'spl': 0.0022607184527965074, 'top_down_map.agent_angle': -1.6178127674574263}\n",
      "{'distance_to_goal': 7.084147135416667, 'spl': 0.002273490873433776, 'top_down_map.agent_angle': -1.6188220007944916}\n",
      "{'distance_to_goal': 7.147212563222543, 'spl': 0.002326057136403343, 'top_down_map.agent_angle': -1.596979042009122}\n",
      "{'distance_to_goal': 7.151109943282132, 'spl': 0.002273490873433776, 'top_down_map.agent_angle': -1.6148673019840218}\n",
      "{'distance_to_goal': 7.088657733521175, 'spl': 0.0021989501890588977, 'top_down_map.agent_angle': -1.5780839763703893}\n",
      "{'distance_to_goal': 7.110008698343579, 'spl': 0.0021989501890588977, 'top_down_map.agent_angle': -1.5811233937414617}\n",
      "{'distance_to_goal': 7.018619113498264, 'spl': 0.002235599358876546, 'top_down_map.agent_angle': -1.5804972330729166}\n",
      "{'distance_to_goal': 7.0155912789191985, 'spl': 0.0022232479812031953, 'top_down_map.agent_angle': -1.581634015668163}\n",
      "{'distance_to_goal': 6.953861468404696, 'spl': 0.0022232479812031953, 'top_down_map.agent_angle': -1.5663866917731353}\n",
      "{'distance_to_goal': 6.955544943337912, 'spl': 0.002211032332954826, 'top_down_map.agent_angle': -1.5578247741028504}\n"
     ]
    },
    {
     "name": "stderr",
     "output_type": "stream",
     "text": [
      "2020-04-12 18:46:39,142 update: 80\tfps: 10.726\t\n",
      "2020-04-12 18:46:39,144 update: 80\tenv-time: 5477.771s\tpth-time: 318.112s\tframes: 62208.0\n",
      "2020-04-12 18:46:39,145 Average window size: 50  distance_to_goal: 6.889  reward: -1.915  spl: 0.000  top_down_map.agent_angle: -1.572\n"
     ]
    },
    {
     "name": "stdout",
     "output_type": "stream",
     "text": [
      "{'distance_to_goal': 6.888720151394774, 'spl': 0.0, 'top_down_map.agent_angle': -1.5716499285509358}\n",
      "{'distance_to_goal': 6.894499525512006, 'spl': 0.0, 'top_down_map.agent_angle': -1.5668247028932734}\n",
      "{'distance_to_goal': 6.991876775568182, 'spl': 0.0, 'top_down_map.agent_angle': -1.5771060066427138}\n",
      "{'distance_to_goal': 7.0341361837184175, 'spl': 0.0, 'top_down_map.agent_angle': -1.5895314318068483}\n",
      "{'distance_to_goal': 7.040224404859293, 'spl': 0.0, 'top_down_map.agent_angle': -1.560466346940445}\n",
      "{'distance_to_goal': 7.014151347052191, 'spl': 0.0, 'top_down_map.agent_angle': -1.541642179194185}\n",
      "{'distance_to_goal': 6.998774892276096, 'spl': 0.0, 'top_down_map.agent_angle': -1.505711034401176}\n",
      "{'distance_to_goal': 6.95238576201618, 'spl': 0.0, 'top_down_map.agent_angle': -1.5179347314205267}\n",
      "{'distance_to_goal': 6.958667116116751, 'spl': 0.0, 'top_down_map.agent_angle': -1.482897608413309}\n",
      "{'distance_to_goal': 6.976555718315972, 'spl': 0.0, 'top_down_map.agent_angle': -1.4879551126499369}\n"
     ]
    },
    {
     "name": "stderr",
     "output_type": "stream",
     "text": [
      "2020-04-12 18:58:36,535 update: 90\tfps: 10.723\t\n",
      "2020-04-12 18:58:36,538 update: 90\tenv-time: 6155.128s\tpth-time: 357.662s\tframes: 69888.0\n",
      "2020-04-12 18:58:36,539 Average window size: 50  distance_to_goal: 6.998  reward: -1.739  spl: 0.000  top_down_map.agent_angle: -1.489\n"
     ]
    },
    {
     "name": "stdout",
     "output_type": "stream",
     "text": [
      "{'distance_to_goal': 6.997999403211805, 'spl': 0.0, 'top_down_map.agent_angle': -1.4888197773634786}\n",
      "{'distance_to_goal': 7.033531821646341, 'spl': 0.0, 'top_down_map.agent_angle': -1.4789169683689025}\n",
      "{'distance_to_goal': 7.134523297300433, 'spl': 0.0, 'top_down_map.agent_angle': -1.4841692329633354}\n",
      "{'distance_to_goal': 7.091512651585821, 'spl': 0.0, 'top_down_map.agent_angle': -1.50580517213736}\n",
      "{'distance_to_goal': 7.138556485152363, 'spl': 0.0, 'top_down_map.agent_angle': -1.4930848078941232}\n",
      "{'distance_to_goal': 7.1499227953206805, 'spl': 0.0, 'top_down_map.agent_angle': -1.4755242632321661}\n",
      "{'distance_to_goal': 7.2034047444661455, 'spl': 0.0, 'top_down_map.agent_angle': -1.458595911661784}\n",
      "{'distance_to_goal': 7.140489917116117, 'spl': 0.0, 'top_down_map.agent_angle': -1.440436813431948}\n",
      "{'distance_to_goal': 7.119183744364117, 'spl': 0.0, 'top_down_map.agent_angle': -1.4611113439151897}\n",
      "{'distance_to_goal': 7.117813998429233, 'spl': 0.0, 'top_down_map.agent_angle': -1.408201187375992}\n"
     ]
    },
    {
     "name": "stderr",
     "output_type": "stream",
     "text": [
      "2020-04-12 19:10:35,624 update: 100\tfps: 10.719\t\n",
      "2020-04-12 19:10:35,627 update: 100\tenv-time: 6834.186s\tpth-time: 397.204s\tframes: 77568.0\n",
      "2020-04-12 19:10:35,628 Average window size: 50  distance_to_goal: 7.107  reward: -1.798  spl: 0.000  top_down_map.agent_angle: -1.398\n"
     ]
    },
    {
     "name": "stdout",
     "output_type": "stream",
     "text": [
      "{'distance_to_goal': 7.107296642244171, 'spl': 0.0, 'top_down_map.agent_angle': -1.3984523634836463}\n",
      "{'distance_to_goal': 7.076931840945512, 'spl': 0.0, 'top_down_map.agent_angle': -1.4068412585136219}\n",
      "{'distance_to_goal': 7.10586455374053, 'spl': 0.0, 'top_down_map.agent_angle': -1.37389381485756}\n",
      "{'distance_to_goal': 7.045487959306318, 'spl': 0.0, 'top_down_map.agent_angle': -1.3478987138349932}\n",
      "{'distance_to_goal': 6.979183459408069, 'spl': 0.0, 'top_down_map.agent_angle': -1.3192232323702051}\n",
      "{'distance_to_goal': 6.979183459408069, 'spl': 0.0, 'top_down_map.agent_angle': -1.3192232323702051}\n",
      "{'distance_to_goal': 6.998027701652487, 'spl': 0.0, 'top_down_map.agent_angle': -1.3471018207010799}\n",
      "{'distance_to_goal': 6.970960679945055, 'spl': 0.0, 'top_down_map.agent_angle': -1.3332579057295244}\n",
      "{'distance_to_goal': 7.074177631578947, 'spl': 0.0, 'top_down_map.agent_angle': -1.42685546875}\n",
      "{'distance_to_goal': 7.074177631578947, 'spl': 0.0, 'top_down_map.agent_angle': -1.42685546875}\n"
     ]
    },
    {
     "name": "stderr",
     "output_type": "stream",
     "text": [
      "2020-04-12 19:22:30,073 update: 110\tfps: 10.722\t\n",
      "2020-04-12 19:22:30,075 update: 110\tenv-time: 7508.356s\tpth-time: 436.919s\tframes: 85248.0\n",
      "2020-04-12 19:22:30,076 Average window size: 50  distance_to_goal: 7.061  reward: -1.815  spl: 0.000  top_down_map.agent_angle: -1.426\n"
     ]
    },
    {
     "name": "stdout",
     "output_type": "stream",
     "text": [
      "{'distance_to_goal': 7.060941401216173, 'spl': 0.0, 'top_down_map.agent_angle': -1.4262997342139174}\n",
      "{'distance_to_goal': 7.029743799094946, 'spl': 0.0, 'top_down_map.agent_angle': -1.4718717981557377}\n",
      "{'distance_to_goal': 6.934249385710685, 'spl': 0.0, 'top_down_map.agent_angle': -1.4884566440377185}\n",
      "{'distance_to_goal': 6.964735536317567, 'spl': 0.0, 'top_down_map.agent_angle': -1.500458423511402}\n",
      "{'distance_to_goal': 6.945610168783422, 'spl': 0.0, 'top_down_map.agent_angle': -1.4992923838569518}\n",
      "{'distance_to_goal': 6.859242868947459, 'spl': 0.0, 'top_down_map.agent_angle': -1.4938777043269231}\n",
      "{'distance_to_goal': 6.872650481842377, 'spl': 0.0, 'top_down_map.agent_angle': -1.4698167738023695}\n",
      "{'distance_to_goal': 6.842406540774228, 'spl': 0.0, 'top_down_map.agent_angle': -1.482526457711552}\n",
      "{'distance_to_goal': 6.7993177476820055, 'spl': 0.0, 'top_down_map.agent_angle': -1.452213161594265}\n",
      "{'distance_to_goal': 6.771116140797652, 'spl': 0.0, 'top_down_map.agent_angle': -1.478176728137949}\n"
     ]
    },
    {
     "name": "stderr",
     "output_type": "stream",
     "text": [
      "2020-04-12 19:34:29,704 update: 120\tfps: 10.718\t\n",
      "2020-04-12 19:34:29,707 update: 120\tenv-time: 8187.985s\tpth-time: 476.436s\tframes: 92928.0\n",
      "2020-04-12 19:34:29,709 Average window size: 50  distance_to_goal: 6.869  reward: -1.838  spl: 0.000  top_down_map.agent_angle: -1.521\n"
     ]
    },
    {
     "name": "stdout",
     "output_type": "stream",
     "text": [
      "{'distance_to_goal': 6.868772434543919, 'spl': 0.0, 'top_down_map.agent_angle': -1.5205455883129222}\n",
      "{'distance_to_goal': 6.8715478247338595, 'spl': 0.0, 'top_down_map.agent_angle': -1.5611983079176683}\n",
      "{'distance_to_goal': 6.879588487413194, 'spl': 0.0, 'top_down_map.agent_angle': -1.544954596625434}\n",
      "{'distance_to_goal': 6.9292403584685776, 'spl': 0.0, 'top_down_map.agent_angle': -1.5820811571995856}\n",
      "{'distance_to_goal': 6.980047840889686, 'spl': 0.0, 'top_down_map.agent_angle': -1.591340612192623}\n",
      "{'distance_to_goal': 7.076573458584872, 'spl': 0.0, 'top_down_map.agent_angle': -1.5282963839444248}\n",
      "{'distance_to_goal': 7.073545976118608, 'spl': 0.0, 'top_down_map.agent_angle': -1.5410783941095525}\n",
      "{'distance_to_goal': 7.097805217161017, 'spl': 0.0, 'top_down_map.agent_angle': -1.5400087173375707}\n",
      "{'distance_to_goal': 7.161857185782967, 'spl': 0.0, 'top_down_map.agent_angle': -1.584928240094866}\n",
      "{'distance_to_goal': 7.1823339304212706, 'spl': 0.0, 'top_down_map.agent_angle': -1.5726419522617403}\n"
     ]
    },
    {
     "name": "stderr",
     "output_type": "stream",
     "text": [
      "2020-04-12 19:46:35,531 update: 130\tfps: 10.707\t\n",
      "2020-04-12 19:46:35,534 update: 130\tenv-time: 8874.024s\tpth-time: 515.733s\tframes: 100608.0\n",
      "2020-04-12 19:46:35,535 Average window size: 50  distance_to_goal: 7.184  reward: -1.925  spl: 0.000  top_down_map.agent_angle: -1.572\n"
     ]
    },
    {
     "name": "stdout",
     "output_type": "stream",
     "text": [
      "{'distance_to_goal': 7.183768717447917, 'spl': 0.0, 'top_down_map.agent_angle': -1.572411092122396}\n",
      "{'distance_to_goal': 7.1072314453125, 'spl': 0.0, 'top_down_map.agent_angle': -1.5311788504464285}\n",
      "{'distance_to_goal': 7.060183361748964, 'spl': 0.0, 'top_down_map.agent_angle': -1.5695311825578384}\n",
      "{'distance_to_goal': 7.07456473627034, 'spl': 0.0, 'top_down_map.agent_angle': -1.562311296632304}\n",
      "{'distance_to_goal': 7.098778098638804, 'spl': 0.0, 'top_down_map.agent_angle': -1.5916869742738688}\n",
      "{'distance_to_goal': 7.0759226481119795, 'spl': 0.0, 'top_down_map.agent_angle': -1.563003176734561}\n",
      "{'distance_to_goal': 7.1593176486224115, 'spl': 0.0, 'top_down_map.agent_angle': -1.5486396022096893}\n",
      "{'distance_to_goal': 7.196034749348958, 'spl': 0.002243457628147943, 'top_down_map.agent_angle': -1.5378890264601934}\n",
      "{'distance_to_goal': 7.207081254706325, 'spl': 0.002270487238125629, 'top_down_map.agent_angle': -1.5320611057511295}\n",
      "{'distance_to_goal': 7.092697870163691, 'spl': 0.002243457628147943, 'top_down_map.agent_angle': -1.5373665945870536}\n"
     ]
    },
    {
     "name": "stderr",
     "output_type": "stream",
     "text": [
      "2020-04-12 19:58:20,067 update: 140\tfps: 10.721\t\n",
      "2020-04-12 19:58:20,069 update: 140\tenv-time: 9538.713s\tpth-time: 555.088s\tframes: 108288.0\n",
      "2020-04-12 19:58:20,070 Average window size: 50  distance_to_goal: 7.040  reward: -2.007  spl: 0.002  top_down_map.agent_angle: -1.650\n"
     ]
    },
    {
     "name": "stdout",
     "output_type": "stream",
     "text": [
      "{'distance_to_goal': 7.039826331779971, 'spl': 0.002204098722390961, 'top_down_map.agent_angle': -1.649594669453582}\n",
      "{'distance_to_goal': 6.972483197380515, 'spl': 0.002217064008993261, 'top_down_map.agent_angle': -1.6903058220358456}\n",
      "{'distance_to_goal': 6.939623151506696, 'spl': 0.002243457628147943, 'top_down_map.agent_angle': -1.6759906950451078}\n",
      "{'distance_to_goal': 6.9248750574448525, 'spl': 0.002217064008993261, 'top_down_map.agent_angle': -1.6806109260110293}\n",
      "{'distance_to_goal': 6.952938682154605, 'spl': 0.002204098722390961, 'top_down_map.agent_angle': -1.7347137272706505}\n",
      "{'distance_to_goal': 6.810749368106618, 'spl': 0.002217064008993261, 'top_down_map.agent_angle': -1.709272496840533}\n",
      "{'distance_to_goal': 6.864990234375, 'spl': 0.002270487238125629, 'top_down_map.agent_angle': -1.7378699980586407}\n",
      "{'distance_to_goal': 6.863622153677592, 'spl': 0.002298176106883258, 'top_down_map.agent_angle': -1.7371971316453887}\n",
      "{'distance_to_goal': 6.874755859375, 'spl': 0.002243457628147943, 'top_down_map.agent_angle': -1.7383086794898623}\n",
      "{'distance_to_goal': 6.828733145472515, 'spl': 0.002270487238125629, 'top_down_map.agent_angle': -1.7599362292921688}\n"
     ]
    },
    {
     "name": "stderr",
     "output_type": "stream",
     "text": [
      "2020-04-12 20:10:28,199 update: 150\tfps: 10.709\t\n",
      "2020-04-12 20:10:28,202 update: 150\tenv-time: 10226.906s\tpth-time: 594.545s\tframes: 115968.0\n",
      "2020-04-12 20:10:28,203 Average window size: 50  distance_to_goal: 6.870  reward: -2.002  spl: 0.002  top_down_map.agent_angle: -1.727\n"
     ]
    },
    {
     "name": "stdout",
     "output_type": "stream",
     "text": [
      "{'distance_to_goal': 6.870198804278706, 'spl': 0.0021912841949352, 'top_down_map.agent_angle': -1.7266180348950764}\n",
      "{'distance_to_goal': 6.9181966616239166, 'spl': 0.0021786178123055166, 'top_down_map.agent_angle': -1.7767919639631502}\n",
      "{'distance_to_goal': 6.936262055305438, 'spl': 0.002129383511462454, 'top_down_map.agent_angle': -1.7934427207472634}\n",
      "{'distance_to_goal': 6.952887284128289, 'spl': 0.002204098722390961, 'top_down_map.agent_angle': -1.8364261381807383}\n",
      "{'distance_to_goal': 7.029029583108836, 'spl': 0.0021660970202807724, 'top_down_map.agent_angle': -1.851458670079023}\n",
      "{'distance_to_goal': 7.0798460494640265, 'spl': 0.0021912841949352, 'top_down_map.agent_angle': -1.8431568589321403}\n",
      "{'distance_to_goal': 7.13721036650444, 'spl': 0.0020595676586276195, 'top_down_map.agent_angle': -1.8847742966615437}\n",
      "{'distance_to_goal': 7.023402622767857, 'spl': 0.002153719323022025, 'top_down_map.agent_angle': -1.8038267299107142}\n",
      "{'distance_to_goal': 6.989452045925415, 'spl': 0.0020823253123141124, 'top_down_map.agent_angle': -1.8422726794501036}\n",
      "{'distance_to_goal': 7.00838968028193, 'spl': 0.002048374356135078, 'top_down_map.agent_angle': -1.8571593243142832}\n"
     ]
    },
    {
     "name": "stderr",
     "output_type": "stream",
     "text": [
      "2020-04-12 20:22:19,154 update: 160\tfps: 10.715\t\n",
      "2020-04-12 20:22:19,157 update: 160\tenv-time: 10898.004s\tpth-time: 633.815s\tframes: 123648.0\n",
      "2020-04-12 20:22:19,158 Average window size: 50  distance_to_goal: 6.972  reward: -1.856  spl: 0.002  top_down_map.agent_angle: -1.881\n"
     ]
    },
    {
     "name": "stdout",
     "output_type": "stream",
     "text": [
      "{'distance_to_goal': 6.9721221923828125, 'spl': 0.002048374356135078, 'top_down_map.agent_angle': -1.8805226865022078}\n",
      "{'distance_to_goal': 7.041433091980318, 'spl': 0.0020823253123141124, 'top_down_map.agent_angle': -1.8951935320269337}\n",
      "{'distance_to_goal': 7.043412093277816, 'spl': 0.002070883964444255, 'top_down_map.agent_angle': -1.90304196535886}\n",
      "{'distance_to_goal': 7.025906323111631, 'spl': 0.0020155127354484193, 'top_down_map.agent_angle': -1.866049373851103}\n",
      "{'distance_to_goal': 7.088208270329301, 'spl': 0.0020263488254239482, 'top_down_map.agent_angle': -1.8565127465032762}\n",
      "{'distance_to_goal': 7.140579715851815, 'spl': 0.0020263488254239482, 'top_down_map.agent_angle': -1.8673026792464718}\n",
      "{'distance_to_goal': 7.124454621345766, 'spl': 0.0020263488254239482, 'top_down_map.agent_angle': -1.8606249081191195}\n",
      "{'distance_to_goal': 7.072639973958333, 'spl': 0.0019328250334813045, 'top_down_map.agent_angle': -1.845604216746795}\n",
      "{'distance_to_goal': 7.11802326182209, 'spl': 0.001994184558353727, 'top_down_map.agent_angle': -1.881956070188492}\n",
      "{'distance_to_goal': 7.01633924119016, 'spl': 0.0020047919230258213, 'top_down_map.agent_angle': -1.8628057926259143}\n"
     ]
    },
    {
     "name": "stderr",
     "output_type": "stream",
     "text": [
      "2020-04-12 20:34:11,636 update: 170\tfps: 10.718\t\n",
      "2020-04-12 20:34:11,639 update: 170\tenv-time: 11570.558s\tpth-time: 673.264s\tframes: 131328.0\n",
      "2020-04-12 20:34:11,639 Average window size: 50  distance_to_goal: 6.942  reward: -1.729  spl: 0.002  top_down_map.agent_angle: -1.855\n"
     ]
    },
    {
     "name": "stdout",
     "output_type": "stream",
     "text": [
      "{'distance_to_goal': 6.942172983530406, 'spl': 0.002037302062318132, 'top_down_map.agent_angle': -1.8548458614864864}\n",
      "{'distance_to_goal': 6.938875030359456, 'spl': 0.0019528543084396598, 'top_down_map.agent_angle': -1.8421422138115284}\n",
      "{'distance_to_goal': 6.9918309771825395, 'spl': 0.001994184558353727, 'top_down_map.agent_angle': -1.8418550037202381}\n",
      "{'distance_to_goal': 6.96974362609207, 'spl': 0.0020263488254239482, 'top_down_map.agent_angle': -1.8491133823189685}\n",
      "{'distance_to_goal': 6.96974362609207, 'spl': 0.0020263488254239482, 'top_down_map.agent_angle': -1.8491133823189685}\n",
      "{'distance_to_goal': 7.041219289679276, 'spl': 0.001983688850151865, 'top_down_map.agent_angle': -1.8448964972245065}\n",
      "{'distance_to_goal': 7.048395684424867, 'spl': 0.0020047919230258213, 'top_down_map.agent_angle': -1.8908621605406417}\n",
      "{'distance_to_goal': 6.9433155889096465, 'spl': 0.002048374356135078, 'top_down_map.agent_angle': -1.873300137727157}\n",
      "{'distance_to_goal': 6.955423657359972, 'spl': 0.0020595676586276195, 'top_down_map.agent_angle': -1.8843532207885074}\n",
      "{'distance_to_goal': 6.92194181743421, 'spl': 0.001983688850151865, 'top_down_map.agent_angle': -1.853912995990954}\n"
     ]
    },
    {
     "name": "stderr",
     "output_type": "stream",
     "text": [
      "2020-04-12 20:46:23,095 update: 180\tfps: 10.706\t\n",
      "2020-04-12 20:46:23,097 update: 180\tenv-time: 12262.258s\tpth-time: 712.538s\tframes: 139008.0\n",
      "2020-04-12 20:46:23,098 Average window size: 50  distance_to_goal: 6.921  reward: -1.713  spl: 0.002  top_down_map.agent_angle: -1.863\n"
     ]
    },
    {
     "name": "stdout",
     "output_type": "stream",
     "text": [
      "{'distance_to_goal': 6.920961733217593, 'spl': 0.001994184558353727, 'top_down_map.agent_angle': -1.862817996393436}\n",
      "{'distance_to_goal': 6.927067324112022, 'spl': 0.0020595676586276195, 'top_down_map.agent_angle': -1.8157326953658641}\n",
      "{'distance_to_goal': 6.9454959353885135, 'spl': 0.002037302062318132, 'top_down_map.agent_angle': -1.793079932960304}\n",
      "{'distance_to_goal': 6.903287020596591, 'spl': 0.0020155127354484193, 'top_down_map.agent_angle': -1.8153312805502173}\n",
      "{'distance_to_goal': 6.855412909325133, 'spl': 0.0020047919230258213, 'top_down_map.agent_angle': -1.8166909725108045}\n",
      "{'distance_to_goal': 6.793890183971774, 'spl': 0.0020263488254239482, 'top_down_map.agent_angle': -1.8262791787424395}\n",
      "{'distance_to_goal': 6.785805768507688, 'spl': 0.0, 'top_down_map.agent_angle': -1.8319411660260696}\n",
      "{'distance_to_goal': 6.739314736479923, 'spl': 0.0, 'top_down_map.agent_angle': -1.817141518073996}\n",
      "{'distance_to_goal': 6.7212777944711535, 'spl': 0.0, 'top_down_map.agent_angle': -1.8039632161458334}\n",
      "{'distance_to_goal': 6.7285494979139395, 'spl': 0.0, 'top_down_map.agent_angle': -1.7011312914144305}\n"
     ]
    },
    {
     "name": "stderr",
     "output_type": "stream",
     "text": [
      "2020-04-12 20:58:22,521 update: 190\tfps: 10.705\t\n",
      "2020-04-12 20:58:22,523 update: 190\tenv-time: 12941.932s\tpth-time: 751.803s\tframes: 146688.0\n",
      "2020-04-12 20:58:22,524 Average window size: 50  distance_to_goal: 6.710  reward: -1.748  spl: 0.000  top_down_map.agent_angle: -1.670\n"
     ]
    },
    {
     "name": "stdout",
     "output_type": "stream",
     "text": [
      "{'distance_to_goal': 6.7101934523809526, 'spl': 0.0, 'top_down_map.agent_angle': -1.6703499284370866}\n",
      "{'distance_to_goal': 6.655939102172852, 'spl': 0.0, 'top_down_map.agent_angle': -1.6722769737243652}\n",
      "{'distance_to_goal': 6.65234752537049, 'spl': 0.0, 'top_down_map.agent_angle': -1.655716886225435}\n",
      "{'distance_to_goal': 6.714300661670919, 'spl': 0.0, 'top_down_map.agent_angle': -1.611495660275829}\n",
      "{'distance_to_goal': 6.717514195393041, 'spl': 0.0, 'top_down_map.agent_angle': -1.6254061669418491}\n",
      "{'distance_to_goal': 6.638668284696691, 'spl': 0.0, 'top_down_map.agent_angle': -1.6607686959060968}\n",
      "{'distance_to_goal': 6.674891453163297, 'spl': 0.0, 'top_down_map.agent_angle': -1.6476459877163756}\n",
      "{'distance_to_goal': 6.657498501314976, 'spl': 0.0, 'top_down_map.agent_angle': -1.6457993913405011}\n",
      "{'distance_to_goal': 6.663344800172739, 'spl': 0.001245717457191429, 'top_down_map.agent_angle': -1.65183369238772}\n",
      "{'distance_to_goal': 6.632143326991581, 'spl': 0.0012844444247725097, 'top_down_map.agent_angle': -1.6773945704642972}\n"
     ]
    },
    {
     "name": "stderr",
     "output_type": "stream",
     "text": [
      "2020-04-12 21:10:20,180 update: 200\tfps: 10.704\t\n",
      "2020-04-12 21:10:20,183 update: 200\tenv-time: 13619.328s\tpth-time: 791.577s\tframes: 154368.0\n",
      "2020-04-12 21:10:20,183 Average window size: 50  distance_to_goal: 6.576  reward: -1.681  spl: 0.001  top_down_map.agent_angle: -1.674\n"
     ]
    },
    {
     "name": "stdout",
     "output_type": "stream",
     "text": [
      "{'distance_to_goal': 6.5756655092592595, 'spl': 0.001311628433762404, 'top_down_map.agent_angle': -1.6741752826347553}\n",
      "{'distance_to_goal': 6.505697047456782, 'spl': 0.0013186051807505018, 'top_down_map.agent_angle': -1.672937920752992}\n",
      "{'distance_to_goal': 6.498037880345395, 'spl': 0.0013047251262162862, 'top_down_map.agent_angle': -1.67410888671875}\n",
      "{'distance_to_goal': 6.387389817162958, 'spl': 0.0012978941046130595, 'top_down_map.agent_angle': -1.6654225294502618}\n",
      "{'distance_to_goal': 6.370302529859293, 'spl': 0.0012978941046130595, 'top_down_map.agent_angle': -1.6593698231961715}\n",
      "{'distance_to_goal': 6.2789993703039615, 'spl': 0.0013546326447054337, 'top_down_map.agent_angle': -1.6053483473147199}\n",
      "{'distance_to_goal': 6.269176317297894, 'spl': 0.001347270510766817, 'top_down_map.agent_angle': -1.6339877584706182}\n",
      "{'distance_to_goal': 6.337913181470788, 'spl': 0.001347270510766817, 'top_down_map.agent_angle': -1.572929216467816}\n",
      "{'distance_to_goal': 6.342878363105688, 'spl': 0.0013926841234892942, 'top_down_map.agent_angle': -1.557685594880179}\n",
      "{'distance_to_goal': 6.406890357672835, 'spl': 0.0013849037652575104, 'top_down_map.agent_angle': -1.5625753562543645}\n"
     ]
    },
    {
     "name": "stderr",
     "output_type": "stream",
     "text": [
      "2020-04-12 21:22:20,351 update: 210\tfps: 10.702\t\n",
      "2020-04-12 21:22:20,354 update: 210\tenv-time: 14299.489s\tpth-time: 831.031s\tframes: 162048.0\n",
      "2020-04-12 21:22:20,355 Average window size: 50  distance_to_goal: 6.403  reward: -1.781  spl: 0.001  top_down_map.agent_angle: -1.558\n"
     ]
    },
    {
     "name": "stdout",
     "output_type": "stream",
     "text": [
      "{'distance_to_goal': 6.40264108327514, 'spl': 0.0013849037652575104, 'top_down_map.agent_angle': -1.5580696660047137}\n",
      "{'distance_to_goal': 6.408062744140625, 'spl': 0.0013772098554505241, 'top_down_map.agent_angle': -1.5776609632703993}\n",
      "{'distance_to_goal': 6.408841538703305, 'spl': 0.0014246998504660595, 'top_down_map.agent_angle': -1.6069802470590877}\n",
      "{'distance_to_goal': 6.4198897879464285, 'spl': 0.0014165587084633963, 'top_down_map.agent_angle': -1.6013532366071428}\n",
      "{'distance_to_goal': 6.3205636160714285, 'spl': 0.0014165587084633963, 'top_down_map.agent_angle': -1.5965143694196429}\n",
      "{'distance_to_goal': 6.303769558836511, 'spl': 0.0014005523953734146, 'top_down_map.agent_angle': -1.595523295429467}\n",
      "{'distance_to_goal': 6.331353574810606, 'spl': 0.0015024107514005718, 'top_down_map.agent_angle': -1.6465369022253789}\n",
      "{'distance_to_goal': 6.382315499441964, 'spl': 0.0014755819879827044, 'top_down_map.agent_angle': -1.6407913934616816}\n",
      "{'distance_to_goal': 6.339268791605029, 'spl': 0.001466850733615943, 'top_down_map.agent_angle': -1.628537510979105}\n",
      "{'distance_to_goal': 6.339328182444853, 'spl': 0.0014582221998887903, 'top_down_map.agent_angle': -1.6171234130859375}\n"
     ]
    },
    {
     "name": "stderr",
     "output_type": "stream",
     "text": [
      "2020-04-12 21:34:23,655 update: 220\tfps: 10.699\t\n",
      "2020-04-12 21:34:23,657 update: 220\tenv-time: 14982.804s\tpth-time: 870.531s\tframes: 169728.0\n",
      "2020-04-12 21:34:23,658 Average window size: 50  distance_to_goal: 6.298  reward: -1.952  spl: 0.002  top_down_map.agent_angle: -1.647\n"
     ]
    },
    {
     "name": "stdout",
     "output_type": "stream",
     "text": [
      "{'distance_to_goal': 6.297513608579282, 'spl': 0.0015302331727228048, 'top_down_map.agent_angle': -1.647094538182388}\n",
      "{'distance_to_goal': 6.275870945142663, 'spl': 0.0015397377265906481, 'top_down_map.agent_angle': -1.620420467779503}\n",
      "{'distance_to_goal': 6.267195000705949, 'spl': 0.00149336008422346, 'top_down_map.agent_angle': -1.6154211572853916}\n",
      "{'distance_to_goal': 6.310584214154412, 'spl': 0.0014582221998887903, 'top_down_map.agent_angle': -1.6229756074793198}\n",
      "{'distance_to_goal': 6.1930491129557295, 'spl': 0.0014755819879827044, 'top_down_map.agent_angle': -1.5567741394042969}\n",
      "{'distance_to_goal': 6.195114929552023, 'spl': 0.0014329351097173084, 'top_down_map.agent_angle': -1.525970988190932}\n",
      "{'distance_to_goal': 6.234903734783794, 'spl': 0.0014412661277970603, 'top_down_map.agent_angle': -1.5171476852062136}\n",
      "{'distance_to_goal': 6.251816860465116, 'spl': 0.0014412661277970603, 'top_down_map.agent_angle': -1.5309043706849563}\n",
      "{'distance_to_goal': 6.278660939839072, 'spl': 0.001484417808270026, 'top_down_map.agent_angle': -1.5402797310652134}\n",
      "{'distance_to_goal': 6.229712653882576, 'spl': 0.0015024107514005718, 'top_down_map.agent_angle': -1.5388606215968277}\n"
     ]
    },
    {
     "name": "stderr",
     "output_type": "stream",
     "text": [
      "2020-04-12 21:46:16,336 update: 230\tfps: 10.702\t\n",
      "2020-04-12 21:46:16,338 update: 230\tenv-time: 15655.591s\tpth-time: 909.940s\tframes: 177408.0\n",
      "2020-04-12 21:46:16,339 Average window size: 50  distance_to_goal: 6.213  reward: -1.879  spl: 0.001  top_down_map.agent_angle: -1.547\n"
     ]
    },
    {
     "name": "stdout",
     "output_type": "stream",
     "text": [
      "{'distance_to_goal': 6.212780320500753, 'spl': 0.00149336008422346, 'top_down_map.agent_angle': -1.5465823253953312}\n",
      "{'distance_to_goal': 6.231863112676711, 'spl': 0.0014755819879827044, 'top_down_map.agent_angle': -1.5700196765718006}\n",
      "{'distance_to_goal': 6.281112316042878, 'spl': 0.0014412661277970603, 'top_down_map.agent_angle': -1.5092897636945857}\n",
      "{'distance_to_goal': 6.266629338978293, 'spl': 0.001484417808270026, 'top_down_map.agent_angle': -1.5934148548605913}\n",
      "{'distance_to_goal': 6.308998243343195, 'spl': 0.001466850733615943, 'top_down_map.agent_angle': -1.5874655458348743}\n",
      "{'distance_to_goal': 6.333241532488567, 'spl': 0.0015115717925676486, 'top_down_map.agent_angle': -1.5848282604682735}\n",
      "{'distance_to_goal': 6.391809309491459, 'spl': 0.0015397377265906481, 'top_down_map.agent_angle': -1.5607284640673524}\n",
      "{'distance_to_goal': 6.470581445938501, 'spl': 0.0015890882947506048, 'top_down_map.agent_angle': -1.5730805030235877}\n",
      "{'distance_to_goal': 6.544750821058917, 'spl': 0.0015789667132553782, 'top_down_map.agent_angle': -1.636959391794387}\n",
      "{'distance_to_goal': 6.53284675844254, 'spl': 0.001599340477297383, 'top_down_map.agent_angle': -1.6410158218876008}\n"
     ]
    },
    {
     "name": "stderr",
     "output_type": "stream",
     "text": [
      "2020-04-12 21:58:18,655 update: 240\tfps: 10.699\t\n",
      "2020-04-12 21:58:18,657 update: 240\tenv-time: 16337.873s\tpth-time: 949.487s\tframes: 185088.0\n",
      "2020-04-12 21:58:18,657 Average window size: 50  distance_to_goal: 6.590  reward: -2.007  spl: 0.002  top_down_map.agent_angle: -1.634\n"
     ]
    },
    {
     "name": "stdout",
     "output_type": "stream",
     "text": [
      "{'distance_to_goal': 6.589739399571573, 'spl': 0.001599340477297383, 'top_down_map.agent_angle': -1.6341795890561996}\n",
      "{'distance_to_goal': 6.592733847128378, 'spl': 0.0016749849593317187, 'top_down_map.agent_angle': -1.6340042320457664}\n",
      "{'distance_to_goal': 6.576755953150869, 'spl': 0.0016417071124575785, 'top_down_map.agent_angle': -1.6298292551609064}\n",
      "{'distance_to_goal': 6.605665782954069, 'spl': 0.001663743449537546, 'top_down_map.agent_angle': -1.6252702546599727}\n",
      "{'distance_to_goal': 6.678758177038741, 'spl': 0.0016979299587746189, 'top_down_map.agent_angle': -1.5174398552881527}\n",
      "{'distance_to_goal': 6.642035637702142, 'spl': 0.0017335508670006598, 'top_down_map.agent_angle': -1.5139436521730223}\n",
      "{'distance_to_goal': 6.654000538793103, 'spl': 0.0017096398205592713, 'top_down_map.agent_angle': -1.5376971014614762}\n",
      "{'distance_to_goal': 6.700009663899739, 'spl': 0.0, 'top_down_map.agent_angle': -1.5268327924940321}\n",
      "{'distance_to_goal': 6.718971410290949, 'spl': 0.0, 'top_down_map.agent_angle': -1.553716409617457}\n",
      "{'distance_to_goal': 6.709701114230686, 'spl': 0.0, 'top_down_map.agent_angle': -1.5529037051730685}\n"
     ]
    },
    {
     "name": "stderr",
     "output_type": "stream",
     "text": [
      "2020-04-12 22:10:21,760 update: 250\tfps: 10.696\t\n",
      "2020-04-12 22:10:21,762 update: 250\tenv-time: 17021.074s\tpth-time: 988.902s\tframes: 192768.0\n",
      "2020-04-12 22:10:21,763 Average window size: 50  distance_to_goal: 6.741  reward: -2.282  spl: 0.000  top_down_map.agent_angle: -1.497\n"
     ]
    },
    {
     "name": "stdout",
     "output_type": "stream",
     "text": [
      "{'distance_to_goal': 6.7406599714949325, 'spl': 0.0, 'top_down_map.agent_angle': -1.4971742372255068}\n",
      "{'distance_to_goal': 6.806056976318359, 'spl': 0.0, 'top_down_map.agent_angle': -1.5051711400349934}\n",
      "{'distance_to_goal': 6.767183091905382, 'spl': 0.0, 'top_down_map.agent_angle': -1.5137845145331488}\n",
      "{'distance_to_goal': 6.8408821895204746, 'spl': 0.0, 'top_down_map.agent_angle': -1.523431606950431}\n",
      "{'distance_to_goal': 6.73510202420812, 'spl': 0.0022982614380972727, 'top_down_map.agent_angle': -1.52006873305963}\n",
      "{'distance_to_goal': 6.768274095323351, 'spl': 0.002346141884724299, 'top_down_map.agent_angle': -1.4929090076022677}\n",
      "{'distance_to_goal': 6.790500505596188, 'spl': 0.0023960597971652417, 'top_down_map.agent_angle': -1.4901781014516844}\n",
      "{'distance_to_goal': 6.781889173719618, 'spl': 0.002346141884724299, 'top_down_map.agent_angle': -1.4794146219889324}\n",
      "{'distance_to_goal': 6.730216979980469, 'spl': 0.002346141884724299, 'top_down_map.agent_angle': -1.483239597744412}\n",
      "{'distance_to_goal': 6.753624484963613, 'spl': 0.002314002954796569, 'top_down_map.agent_angle': -1.449182588760167}\n"
     ]
    },
    {
     "name": "stderr",
     "output_type": "stream",
     "text": [
      "2020-04-12 22:22:10,256 update: 260\tfps: 10.701\t\n",
      "2020-04-12 22:22:10,259 update: 260\tenv-time: 17689.538s\tpth-time: 1028.371s\tframes: 200448.0\n",
      "2020-04-12 22:22:10,260 Average window size: 50  distance_to_goal: 6.738  reward: -2.274  spl: 0.002  top_down_map.agent_angle: -1.437\n"
     ]
    },
    {
     "name": "stdout",
     "output_type": "stream",
     "text": [
      "{'distance_to_goal': 6.73839792264562, 'spl': 0.0022982614380972727, 'top_down_map.agent_angle': -1.436552501860119}\n",
      "{'distance_to_goal': 6.7028887860186686, 'spl': 0.002193795009092851, 'top_down_map.agent_angle': -1.4877932659991375}\n",
      "{'distance_to_goal': 6.879410282258065, 'spl': 0.0021796414929051555, 'top_down_map.agent_angle': -1.516631095640121}\n",
      "{'distance_to_goal': 6.92202256601068, 'spl': 0.002138255894938602, 'top_down_map.agent_angle': -1.5156628572488133}\n",
      "{'distance_to_goal': 6.960543724798387, 'spl': 0.0021796414929051555, 'top_down_map.agent_angle': -1.5283311413180443}\n",
      "{'distance_to_goal': 6.961257837380574, 'spl': 0.002151875359237574, 'top_down_map.agent_angle': -1.5250837969931827}\n",
      "{'distance_to_goal': 6.932833033681705, 'spl': 0.0022373803403993317, 'top_down_map.agent_angle': -1.5134331911604926}\n",
      "{'distance_to_goal': 6.953881999790268, 'spl': 0.002267412291277175, 'top_down_map.agent_angle': -1.5203756037974518}\n",
      "{'distance_to_goal': 6.9579665725295605, 'spl': 0.0022827326445966152, 'top_down_map.agent_angle': -1.5327554651208826}\n",
      "{'distance_to_goal': 6.902748726509713, 'spl': 0.0022827326445966152, 'top_down_map.agent_angle': -1.4849257598052155}\n"
     ]
    },
    {
     "name": "stderr",
     "output_type": "stream",
     "text": [
      "2020-04-12 22:34:11,288 update: 270\tfps: 10.699\t\n",
      "2020-04-12 22:34:11,290 update: 270\tenv-time: 18371.096s\tpth-time: 1067.355s\tframes: 208128.0\n",
      "2020-04-12 22:34:11,290 Average window size: 50  distance_to_goal: 6.974  reward: -2.302  spl: 0.002  top_down_map.agent_angle: -1.544\n"
     ]
    },
    {
     "name": "stdout",
     "output_type": "stream",
     "text": [
      "{'distance_to_goal': 6.974007975260417, 'spl': 0.0022522962093353273, 'top_down_map.agent_angle': -1.5438726806640626}\n",
      "{'distance_to_goal': 6.978585439185574, 'spl': 0.002314002954796569, 'top_down_map.agent_angle': -1.527098146203446}\n",
      "{'distance_to_goal': 6.939295201868444, 'spl': 0.002362548471330763, 'top_down_map.agent_angle': -1.5369972282356315}\n",
      "{'distance_to_goal': 7.045920176048801, 'spl': 0.002314002954796569, 'top_down_map.agent_angle': -1.6124340736702696}\n",
      "{'distance_to_goal': 7.108202253069196, 'spl': 0.002413174510002136, 'top_down_map.agent_angle': -1.6533297947474888}\n",
      "{'distance_to_goal': 7.103611537388393, 'spl': 0.002413174510002136, 'top_down_map.agent_angle': -1.6507294791085378}\n",
      "{'distance_to_goal': 7.065014212472098, 'spl': 0.002413174510002136, 'top_down_map.agent_angle': -1.6259561811174665}\n",
      "{'distance_to_goal': 7.02572265625, 'spl': 0.0022522962093353273, 'top_down_map.agent_angle': -1.6384434000651042}\n",
      "{'distance_to_goal': 7.175782845690359, 'spl': 0.0022081335385640464, 'top_down_map.agent_angle': -1.6932566524331087}\n",
      "{'distance_to_goal': 7.182833219829359, 'spl': 0.0022226607328967043, 'top_down_map.agent_angle': -1.6859042519017269}\n"
     ]
    },
    {
     "name": "stderr",
     "output_type": "stream",
     "text": [
      "2020-04-12 22:46:07,933 update: 280\tfps: 10.700\t\n",
      "2020-04-12 22:46:07,935 update: 280\tenv-time: 19047.567s\tpth-time: 1107.043s\tframes: 215808.0\n",
      "2020-04-12 22:46:07,936 Average window size: 50  distance_to_goal: 7.155  reward: -2.326  spl: 0.002  top_down_map.agent_angle: -1.688\n"
     ]
    },
    {
     "name": "stdout",
     "output_type": "stream",
     "text": [
      "{'distance_to_goal': 7.154701026710304, 'spl': 0.0022827326445966152, 'top_down_map.agent_angle': -1.6877438313252218}\n",
      "{'distance_to_goal': 7.223941725127551, 'spl': 0.0022982614380972727, 'top_down_map.agent_angle': -1.7407597133091517}\n",
      "{'distance_to_goal': 7.392838873830782, 'spl': 0.0022982614380972727, 'top_down_map.agent_angle': -1.6944531291520515}\n",
      "{'distance_to_goal': 7.434197013608871, 'spl': 0.0021796414929051555, 'top_down_map.agent_angle': -1.6913538778981856}\n",
      "{'distance_to_goal': 7.434197013608871, 'spl': 0.0021796414929051555, 'top_down_map.agent_angle': -1.6913538778981856}\n",
      "{'distance_to_goal': 7.4447869635247566, 'spl': 0.002193795009092851, 'top_down_map.agent_angle': -1.7085361233005276}\n",
      "{'distance_to_goal': 7.418699596774194, 'spl': 0.0021796414929051555, 'top_down_map.agent_angle': -1.7168086882560485}\n",
      "{'distance_to_goal': 7.412337662337662, 'spl': 0.002193795009092851, 'top_down_map.agent_angle': -1.6495854761693385}\n",
      "{'distance_to_goal': 7.412337662337662, 'spl': 0.002193795009092851, 'top_down_map.agent_angle': -1.6495854761693385}\n",
      "{'distance_to_goal': 7.393730213439542, 'spl': 0.0022081335385640464, 'top_down_map.agent_angle': -1.6619448194316788}\n"
     ]
    },
    {
     "name": "stderr",
     "output_type": "stream",
     "text": [
      "2020-04-12 22:58:09,459 update: 290\tfps: 10.698\t\n",
      "2020-04-12 22:58:09,462 update: 290\tenv-time: 19729.221s\tpth-time: 1146.427s\tframes: 223488.0\n",
      "2020-04-12 22:58:09,463 Average window size: 50  distance_to_goal: 7.275  reward: -2.198  spl: 0.002  top_down_map.agent_angle: -1.668\n"
     ]
    },
    {
     "name": "stdout",
     "output_type": "stream",
     "text": [
      "{'distance_to_goal': 7.274654364435928, 'spl': 0.002124807744655969, 'top_down_map.agent_angle': -1.6681184588738207}\n",
      "{'distance_to_goal': 7.227509516819268, 'spl': 0.002151875359237574, 'top_down_map.agent_angle': -1.7061567367262143}\n",
      "{'distance_to_goal': 7.227509516819268, 'spl': 0.002151875359237574, 'top_down_map.agent_angle': -1.7061567367262143}\n",
      "{'distance_to_goal': 7.2640625, 'spl': 0.0022522962093353273, 'top_down_map.agent_angle': -1.7722859700520834}\n",
      "{'distance_to_goal': 7.227387422360248, 'spl': 0.002098412617393162, 'top_down_map.agent_angle': -1.7068299477144797}\n",
      "{'distance_to_goal': 7.242471815664557, 'spl': 0.002138255894938602, 'top_down_map.agent_angle': -1.6783429882194423}\n",
      "{'distance_to_goal': 7.210700988769531, 'spl': 0.0021115276962518693, 'top_down_map.agent_angle': -1.6780403137207032}\n",
      "{'distance_to_goal': 7.221669830890916, 'spl': 0.002098412617393162, 'top_down_map.agent_angle': -1.6273280552455358}\n",
      "{'distance_to_goal': 7.167717910394436, 'spl': 0.002060027020733531, 'top_down_map.agent_angle': -1.6158570080268673}\n",
      "{'distance_to_goal': 7.225275213068182, 'spl': 0.002047542008486661, 'top_down_map.agent_angle': -1.6674218380089962}\n"
     ]
    },
    {
     "name": "stderr",
     "output_type": "stream",
     "text": [
      "2020-04-12 23:10:00,318 update: 300\tfps: 10.702\t\n",
      "2020-04-12 23:10:00,320 update: 300\tenv-time: 20399.995s\tpth-time: 1186.026s\tframes: 231168.0\n",
      "2020-04-12 23:10:00,321 Average window size: 50  distance_to_goal: 7.236  reward: -2.030  spl: 0.002  top_down_map.agent_angle: -1.677\n"
     ]
    },
    {
     "name": "stdout",
     "output_type": "stream",
     "text": [
      "{'distance_to_goal': 7.235576583678464, 'spl': 0.002035207418074091, 'top_down_map.agent_angle': -1.6771712705313442}\n",
      "{'distance_to_goal': 7.238705206773952, 'spl': 0.00202302054730718, 'top_down_map.agent_angle': -1.624523779589259}\n",
      "{'distance_to_goal': 7.181900562959559, 'spl': 0.0019873201847076414, 'top_down_map.agent_angle': -1.5975388470818015}\n",
      "{'distance_to_goal': 7.288313997005988, 'spl': 0.0, 'top_down_map.agent_angle': -1.5954889537331587}\n",
      "{'distance_to_goal': 7.288313997005988, 'spl': 0.0, 'top_down_map.agent_angle': -1.5954889537331587}\n",
      "{'distance_to_goal': 7.160829442492603, 'spl': 0.0, 'top_down_map.agent_angle': -1.6185479700212648}\n",
      "{'distance_to_goal': 7.103060507360911, 'spl': 0.0, 'top_down_map.agent_angle': -1.6376910788475434}\n",
      "{'distance_to_goal': 7.096791821856831, 'spl': 0.002336614700250847, 'top_down_map.agent_angle': -1.6161495474881904}\n",
      "{'distance_to_goal': 7.097221419656065, 'spl': 0.0023780930677109215, 'top_down_map.agent_angle': -1.6436478654308433}\n",
      "{'distance_to_goal': 7.130177637289839, 'spl': 0.0023502791137026066, 'top_down_map.agent_angle': -1.6516684370431287}\n"
     ]
    },
    {
     "name": "stderr",
     "output_type": "stream",
     "text": [
      "2020-04-12 23:22:00,834 update: 310\tfps: 10.700\t\n",
      "2020-04-12 23:22:00,836 update: 310\tenv-time: 21080.619s\tpth-time: 1225.363s\tframes: 238848.0\n",
      "2020-04-12 23:22:00,837 Average window size: 50  distance_to_goal: 7.134  reward: -1.875  spl: 0.002  top_down_map.agent_angle: -1.639\n"
     ]
    },
    {
     "name": "stdout",
     "output_type": "stream",
     "text": [
      "{'distance_to_goal': 7.133674172794118, 'spl': 0.002364104284959681, 'top_down_map.agent_angle': -1.6388819077435661}\n",
      "{'distance_to_goal': 7.074417731665463, 'spl': 0.0023231082568967963, 'top_down_map.agent_angle': -1.6130226443957731}\n",
      "{'distance_to_goal': 7.0945013137090776, 'spl': 0.002392248383590153, 'top_down_map.agent_angle': -1.6288312276204426}\n",
      "{'distance_to_goal': 7.11042963072311, 'spl': 0.002336614700250847, 'top_down_map.agent_angle': -1.6508922133334847}\n",
      "{'distance_to_goal': 7.03224035575565, 'spl': 0.00227060863527201, 'top_down_map.agent_angle': -1.6289246984794314}\n",
      "{'distance_to_goal': 6.995404087217514, 'spl': 0.00227060863527201, 'top_down_map.agent_angle': -1.6378208311264124}\n",
      "{'distance_to_goal': 6.974409746201657, 'spl': 0.0022204294389124076, 'top_down_map.agent_angle': -1.6660102296270718}\n",
      "{'distance_to_goal': 7.027683945952869, 'spl': 0.002196162450508993, 'top_down_map.agent_angle': -1.6748260331284153}\n",
      "{'distance_to_goal': 7.060650267887636, 'spl': 0.002196162450508993, 'top_down_map.agent_angle': -1.6864217122395833}\n",
      "{'distance_to_goal': 6.948991952698087, 'spl': 0.002196162450508993, 'top_down_map.agent_angle': -1.675022146089481}\n"
     ]
    },
    {
     "name": "stderr",
     "output_type": "stream",
     "text": [
      "2020-04-12 23:34:01,722 update: 320\tfps: 10.699\t\n",
      "2020-04-12 23:34:01,725 update: 320\tenv-time: 21761.624s\tpth-time: 1264.762s\tframes: 246528.0\n",
      "2020-04-12 23:34:01,726 Average window size: 50  distance_to_goal: 6.909  reward: -1.599  spl: 0.002  top_down_map.agent_angle: -1.717\n"
     ]
    },
    {
     "name": "stdout",
     "output_type": "stream",
     "text": [
      "{'distance_to_goal': 6.908806295955882, 'spl': 0.0021491857135997098, 'top_down_map.agent_angle': -1.7173954764789439}\n",
      "{'distance_to_goal': 6.923359427222594, 'spl': 0.0021491857135997098, 'top_down_map.agent_angle': -1.7022352575618316}\n",
      "{'distance_to_goal': 6.786143427309782, 'spl': 0.0021842267850170965, 'top_down_map.agent_angle': -1.6498237278150476}\n",
      "{'distance_to_goal': 6.555161794026692, 'spl': 0.006313306589921315, 'top_down_map.agent_angle': -1.6163886388142903}\n",
      "{'distance_to_goal': 6.578579126862047, 'spl': 0.006280595156812915, 'top_down_map.agent_angle': -1.6321907636415156}\n",
      "{'distance_to_goal': 6.5722074360427465, 'spl': 0.006280595156812915, 'top_down_map.agent_angle': -1.6250815910378886}\n",
      "{'distance_to_goal': 6.522775680954392, 'spl': 0.006552188460891311, 'top_down_map.agent_angle': -1.6212214289484796}\n",
      "{'distance_to_goal': 6.477711553158968, 'spl': 0.006587798180787459, 'top_down_map.agent_angle': -1.564384294592816}\n",
      "{'distance_to_goal': 6.443774807837702, 'spl': 0.0065169616412091, 'top_down_map.agent_angle': -1.5531862320438508}\n",
      "{'distance_to_goal': 6.503320051387032, 'spl': 0.006482111578956644, 'top_down_map.agent_angle': -1.542886173023897}\n"
     ]
    },
    {
     "name": "stderr",
     "output_type": "stream",
     "text": [
      "2020-04-12 23:45:46,475 update: 330\tfps: 10.705\t\n",
      "2020-04-12 23:45:46,479 update: 330\tenv-time: 22426.434s\tpth-time: 1304.215s\tframes: 254208.0\n",
      "2020-04-12 23:45:46,479 Average window size: 50  distance_to_goal: 6.436  reward: -1.577  spl: 0.007  top_down_map.agent_angle: -1.517\n"
     ]
    },
    {
     "name": "stdout",
     "output_type": "stream",
     "text": [
      "{'distance_to_goal': 6.435676282872268, 'spl': 0.006623797077950233, 'top_down_map.agent_angle': -1.516846703701332}\n",
      "{'distance_to_goal': 6.392851298564189, 'spl': 0.006552188460891311, 'top_down_map.agent_angle': -1.555674949852196}\n",
      "{'distance_to_goal': 6.261898426527388, 'spl': 0.006809858793622992, 'top_down_map.agent_angle': -1.5323938948384832}\n",
      "{'distance_to_goal': 6.226143973214286, 'spl': 0.006660191567389519, 'top_down_map.agent_angle': -1.5605254120879122}\n",
      "{'distance_to_goal': 6.191560514680632, 'spl': 0.006660191567389519, 'top_down_map.agent_angle': -1.6082681509164662}\n",
      "{'distance_to_goal': 6.242573055413251, 'spl': 0.006623797077950233, 'top_down_map.agent_angle': -1.5998645219646517}\n",
      "{'distance_to_goal': 6.267172108525815, 'spl': 0.006587798180787459, 'top_down_map.agent_angle': -1.5945474375849185}\n",
      "{'distance_to_goal': 6.2415771484375, 'spl': 0.0064476322620473005, 'top_down_map.agent_angle': -1.592506246363863}\n",
      "{'distance_to_goal': 6.308330335115132, 'spl': 0.006379762448762593, 'top_down_map.agent_angle': -1.6176359477796052}\n",
      "{'distance_to_goal': 6.396806196732954, 'spl': 0.006482111578956644, 'top_down_map.agent_angle': -1.6128726082052138}\n"
     ]
    },
    {
     "name": "stderr",
     "output_type": "stream",
     "text": [
      "2020-04-12 23:57:49,881 update: 340\tfps: 10.702\t\n",
      "2020-04-12 23:57:49,884 update: 340\tenv-time: 23109.854s\tpth-time: 1343.715s\tframes: 261888.0\n",
      "2020-04-12 23:57:49,885 Average window size: 50  distance_to_goal: 6.377  reward: -1.522  spl: 0.007  top_down_map.agent_angle: -1.636\n"
     ]
    },
    {
     "name": "stdout",
     "output_type": "stream",
     "text": [
      "{'distance_to_goal': 6.377400716145833, 'spl': 0.006623797077950233, 'top_down_map.agent_angle': -1.63579988740181}\n",
      "{'distance_to_goal': 6.4113201161541005, 'spl': 0.006413517805634352, 'top_down_map.agent_angle': -1.6165178894365906}\n",
      "{'distance_to_goal': 6.408259512809328, 'spl': 0.009727202091120222, 'top_down_map.agent_angle': -1.6024454959152918}\n",
      "{'distance_to_goal': 6.376170056931516, 'spl': 0.010192866021014274, 'top_down_map.agent_angle': -1.6470645336394614}\n",
      "{'distance_to_goal': 6.338233460771277, 'spl': 0.010192866021014274, 'top_down_map.agent_angle': -1.667437289623504}\n",
      "{'distance_to_goal': 6.355840211273522, 'spl': 0.010302466730917654, 'top_down_map.agent_angle': -1.6675803892074093}\n",
      "{'distance_to_goal': 6.386240913268717, 'spl': 0.010247373325939484, 'top_down_map.agent_angle': -1.6943623751880013}\n",
      "{'distance_to_goal': 6.475854883856952, 'spl': 0.010247373325939484, 'top_down_map.agent_angle': -1.6763419900985963}\n",
      "{'distance_to_goal': 6.4500159163501385, 'spl': 0.010587065259396043, 'top_down_map.agent_angle': -1.6670051701161084}\n",
      "{'distance_to_goal': 6.438782749913674, 'spl': 0.010587065259396043, 'top_down_map.agent_angle': -1.6584821669436292}\n"
     ]
    },
    {
     "name": "stderr",
     "output_type": "stream",
     "text": [
      "2020-04-13 00:09:55,795 update: 350\tfps: 10.699\t\n",
      "2020-04-13 00:09:55,798 update: 350\tenv-time: 23795.657s\tpth-time: 1383.342s\tframes: 269568.0\n",
      "2020-04-13 00:09:55,799 Average window size: 50  distance_to_goal: 6.457  reward: -1.471  spl: 0.010  top_down_map.agent_angle: -1.695\n"
     ]
    },
    {
     "name": "stdout",
     "output_type": "stream",
     "text": [
      "{'distance_to_goal': 6.456690249235733, 'spl': 0.010414450064949368, 'top_down_map.agent_angle': -1.694574439007303}\n",
      "{'distance_to_goal': 6.378038800628492, 'spl': 0.010705356491344601, 'top_down_map.agent_angle': -1.7297871339254538}\n",
      "{'distance_to_goal': 6.391086535507373, 'spl': 0.010765498943543166, 'top_down_map.agent_angle': -1.7253387108277738}\n",
      "{'distance_to_goal': 6.391086535507373, 'spl': 0.010765498943543166, 'top_down_map.agent_angle': -1.7253387108277738}\n",
      "{'distance_to_goal': 6.390963040865385, 'spl': 0.010528894571157603, 'top_down_map.agent_angle': -1.7054213639144058}\n",
      "{'distance_to_goal': 6.392738079202586, 'spl': 0.011012981677877492, 'top_down_map.agent_angle': -1.7009512364179238}\n",
      "{'distance_to_goal': 6.417049714888649, 'spl': 0.008703224275303983, 'top_down_map.agent_angle': -1.7032942497867278}\n",
      "{'distance_to_goal': 6.417049714888649, 'spl': 0.008703224275303983, 'top_down_map.agent_angle': -1.7032942497867278}\n",
      "{'distance_to_goal': 6.3961160594019395, 'spl': 0.008703224275303983, 'top_down_map.agent_angle': -1.6680617058414153}\n",
      "{'distance_to_goal': 6.4297964130333085, 'spl': 0.009068030083250857, 'top_down_map.agent_angle': -1.6473363088276571}\n"
     ]
    },
    {
     "name": "stderr",
     "output_type": "stream",
     "text": [
      "2020-04-13 00:21:54,113 update: 360\tfps: 10.698\t\n",
      "2020-04-13 00:21:54,117 update: 360\tenv-time: 24474.203s\tpth-time: 1422.527s\tframes: 277248.0\n",
      "2020-04-13 00:21:54,118 Average window size: 50  distance_to_goal: 6.423  reward: -1.728  spl: 0.009  top_down_map.agent_angle: -1.648\n"
     ]
    },
    {
     "name": "stdout",
     "output_type": "stream",
     "text": [
      "{'distance_to_goal': 6.42328763295369, 'spl': 0.009122656770499355, 'top_down_map.agent_angle': -1.6475203180887612}\n",
      "{'distance_to_goal': 6.42328763295369, 'spl': 0.009122656770499355, 'top_down_map.agent_angle': -1.6475203180887612}\n",
      "{'distance_to_goal': 6.4418504703679735, 'spl': 0.008960716117768597, 'top_down_map.agent_angle': -1.6594828769300112}\n",
      "{'distance_to_goal': 6.440521788454341, 'spl': 0.009068030083250857, 'top_down_map.agent_angle': -1.701845637338604}\n",
      "{'distance_to_goal': 6.490848359607515, 'spl': 0.009014053713707696, 'top_down_map.agent_angle': -1.68123535882859}\n",
      "{'distance_to_goal': 6.5636097977801064, 'spl': 0.009233908682334714, 'top_down_map.agent_angle': -1.616795423554211}\n",
      "{'distance_to_goal': 6.498357325424383, 'spl': 0.00934790755495613, 'top_down_map.agent_angle': -1.6062290521315585}\n",
      "{'distance_to_goal': 6.504435221354167, 'spl': 0.00934790755495613, 'top_down_map.agent_angle': -1.6087265956548997}\n",
      "{'distance_to_goal': 6.563081539935947, 'spl': 0.009405969092564553, 'top_down_map.agent_angle': -1.6407540836689636}\n",
      "{'distance_to_goal': 6.552086871603261, 'spl': 0.009405969092564553, 'top_down_map.agent_angle': -1.609119865464868}\n"
     ]
    },
    {
     "name": "stderr",
     "output_type": "stream",
     "text": [
      "2020-04-13 00:33:51,836 update: 370\tfps: 10.698\t\n",
      "2020-04-13 00:33:51,838 update: 370\tenv-time: 25152.161s\tpth-time: 1461.809s\tframes: 284928.0\n",
      "2020-04-13 00:33:51,838 Average window size: 50  distance_to_goal: 6.539  reward: -1.820  spl: 0.009  top_down_map.agent_angle: -1.608\n"
     ]
    },
    {
     "name": "stdout",
     "output_type": "stream",
     "text": [
      "{'distance_to_goal': 6.539212799072265, 'spl': 0.009464756399393082, 'top_down_map.agent_angle': -1.608268928527832}\n",
      "{'distance_to_goal': 6.658200807209257, 'spl': 0.009584563442423373, 'top_down_map.agent_angle': -1.6497088082229034}\n",
      "{'distance_to_goal': 6.968880846609477, 'spl': 0.004601986190072851, 'top_down_map.agent_angle': -1.6421365176930147}\n",
      "{'distance_to_goal': 7.010333990595143, 'spl': 0.004484738134274817, 'top_down_map.agent_angle': -1.632053836895402}\n",
      "{'distance_to_goal': 7.021191719250801, 'spl': 0.004513486455648373, 'top_down_map.agent_angle': -1.6470900315504808}\n",
      "{'distance_to_goal': 7.038893356821895, 'spl': 0.008079937080931819, 'top_down_map.agent_angle': -1.6366926205703636}\n",
      "{'distance_to_goal': 6.957135535233857, 'spl': 0.008186956115116347, 'top_down_map.agent_angle': -1.6741624036372103}\n",
      "{'distance_to_goal': 7.068462544102823, 'spl': 0.007975679828274634, 'top_down_map.agent_angle': -1.6792391869329637}\n",
      "{'distance_to_goal': 7.000214019379058, 'spl': 0.008027469957029664, 'top_down_map.agent_angle': -1.6925649271382914}\n",
      "{'distance_to_goal': 7.046947925121753, 'spl': 0.008027469957029664, 'top_down_map.agent_angle': -1.7006685331270293}\n"
     ]
    },
    {
     "name": "stderr",
     "output_type": "stream",
     "text": [
      "2020-04-13 00:45:51,859 update: 380\tfps: 10.698\t\n",
      "2020-04-13 00:45:51,861 update: 380\tenv-time: 25831.838s\tpth-time: 1501.657s\tframes: 292608.0\n",
      "2020-04-13 00:45:51,861 Average window size: 50  distance_to_goal: 6.986  reward: -1.887  spl: 0.008  top_down_map.agent_angle: -1.678\n"
     ]
    },
    {
     "name": "stdout",
     "output_type": "stream",
     "text": [
      "{'distance_to_goal': 6.98636003880719, 'spl': 0.008079937080931819, 'top_down_map.agent_angle': -1.6782904730902777}\n",
      "{'distance_to_goal': 7.010885941354852, 'spl': 0.008133094561727424, 'top_down_map.agent_angle': -1.6989145780864514}\n",
      "{'distance_to_goal': 7.032741060192953, 'spl': 0.00829684814350717, 'top_down_map.agent_angle': -1.6801311313705956}\n",
      "{'distance_to_goal': 7.059892511692177, 'spl': 0.008409730431173934, 'top_down_map.agent_angle': -1.6407819475446428}\n",
      "{'distance_to_goal': 6.991727261929898, 'spl': 0.008352907928260597, 'top_down_map.agent_angle': -1.6109221174910262}\n",
      "{'distance_to_goal': 6.901309543185764, 'spl': 0.008584933148490058, 'top_down_map.agent_angle': -1.6547830369737413}\n",
      "{'distance_to_goal': 6.935141705452128, 'spl': 0.008767591300585591, 'top_down_map.agent_angle': -1.6680254564217643}\n",
      "{'distance_to_goal': 6.893545777258212, 'spl': 0.009023579367755974, 'top_down_map.agent_angle': -1.625322105240648}\n",
      "{'distance_to_goal': 6.882507769730839, 'spl': 0.009023579367755974, 'top_down_map.agent_angle': -1.6435832002737227}\n",
      "{'distance_to_goal': 7.157087419416521, 'spl': 0.008644967646031947, 'top_down_map.agent_angle': -1.6444727757593969}\n"
     ]
    },
    {
     "name": "stderr",
     "output_type": "stream",
     "text": [
      "2020-04-13 00:57:45,770 update: 390\tfps: 10.699\t\n",
      "2020-04-13 00:57:45,773 update: 390\tenv-time: 26505.217s\tpth-time: 1541.690s\tframes: 300288.0\n",
      "2020-04-13 00:57:45,774 Average window size: 50  distance_to_goal: 7.070  reward: -2.156  spl: 0.009  top_down_map.agent_angle: -1.715\n"
     ]
    },
    {
     "name": "stdout",
     "output_type": "stream",
     "text": [
      "{'distance_to_goal': 7.070171517385563, 'spl': 0.008705847699877242, 'top_down_map.agent_angle': -1.7150702677981955}\n",
      "{'distance_to_goal': 7.195533303653493, 'spl': 0.003912694313946892, 'top_down_map.agent_angle': -1.7449711070341223}\n",
      "{'distance_to_goal': 7.112198090889085, 'spl': 0.0037473692020899814, 'top_down_map.agent_angle': -1.7384200834892165}\n",
      "{'distance_to_goal': 7.2167499870653975, 'spl': 0.003524016070839585, 'top_down_map.agent_angle': -1.6819217505044495}\n",
      "{'distance_to_goal': 7.239398906757305, 'spl': 0.003455366407121931, 'top_down_map.agent_angle': -1.6852910425755885}\n",
      "{'distance_to_goal': 7.22158935546875, 'spl': 0.003547509511311849, 'top_down_map.agent_angle': -1.6652482096354166}\n",
      "{'distance_to_goal': 7.029931319387336, 'spl': 0.005690751107115494, 'top_down_map.agent_angle': -1.6940821597450657}\n",
      "{'distance_to_goal': 6.982524128703328, 'spl': 0.005616845248581527, 'top_down_map.agent_angle': -1.6677085579215707}\n",
      "{'distance_to_goal': 7.005827668425325, 'spl': 0.005616845248581527, 'top_down_map.agent_angle': -1.659583549994927}\n",
      "{'distance_to_goal': 7.194088497677365, 'spl': 0.005844555191091589, 'top_down_map.agent_angle': -1.6635168951910895}\n"
     ]
    },
    {
     "name": "stderr",
     "output_type": "stream",
     "text": [
      "2020-04-13 01:09:30,252 update: 400\tfps: 10.704\t\n",
      "2020-04-13 01:09:30,253 update: 400\tenv-time: 27169.288s\tpth-time: 1581.592s\tframes: 307968.0\n",
      "2020-04-13 01:09:30,254 Average window size: 50  distance_to_goal: 7.145  reward: -2.253  spl: 0.006  top_down_map.agent_angle: -1.641\n"
     ]
    },
    {
     "name": "stdout",
     "output_type": "stream",
     "text": [
      "{'distance_to_goal': 7.14471923828125, 'spl': 0.0057666277885437016, 'top_down_map.agent_angle': -1.64119140625}\n",
      "{'distance_to_goal': 7.084718413700331, 'spl': 0.005728438200540101, 'top_down_map.agent_angle': -1.6874979789683362}\n",
      "{'distance_to_goal': 7.1160724346454325, 'spl': 0.005544834412061251, 'top_down_map.agent_angle': -1.676686017941206}\n",
      "{'distance_to_goal': 7.39525146484375, 'spl': 0.0057666277885437016, 'top_down_map.agent_angle': -1.7374812825520833}\n",
      "{'distance_to_goal': 7.383320868769778, 'spl': 0.005474646634693387, 'top_down_map.agent_angle': -1.6594862153258505}\n",
      "{'distance_to_goal': 7.3821473732972755, 'spl': 0.005544834412061251, 'top_down_map.agent_angle': -1.656659639798678}\n",
      "{'distance_to_goal': 7.3660810920083595, 'spl': 0.0055095169954239185, 'top_down_map.agent_angle': -1.6579028087057126}\n",
      "{'distance_to_goal': 7.347754369808149, 'spl': 0.005474646634693387, 'top_down_map.agent_angle': -1.6971841160255143}\n",
      "{'distance_to_goal': 7.334590260575458, 'spl': 0.005274354684643629, 'top_down_map.agent_angle': -1.700209454792302}\n",
      "{'distance_to_goal': 7.2035908759394776, 'spl': 0.005474646634693387, 'top_down_map.agent_angle': -1.7299273527121242}\n"
     ]
    },
    {
     "name": "stderr",
     "output_type": "stream",
     "text": [
      "2020-04-13 01:21:16,843 update: 410\tfps: 10.708\t\n",
      "2020-04-13 01:21:16,846 update: 410\tenv-time: 27835.605s\tpth-time: 1621.317s\tframes: 315648.0\n",
      "2020-04-13 01:21:16,847 Average window size: 50  distance_to_goal: 7.204  reward: -2.086  spl: 0.005  top_down_map.agent_angle: -1.730\n"
     ]
    },
    {
     "name": "stdout",
     "output_type": "stream",
     "text": [
      "{'distance_to_goal': 7.2035908759394776, 'spl': 0.005474646634693387, 'top_down_map.agent_angle': -1.7299273527121242}\n",
      "{'distance_to_goal': 7.1604972839355465, 'spl': 0.0054062135517597195, 'top_down_map.agent_angle': -1.734579849243164}\n",
      "{'distance_to_goal': 7.243114021253882, 'spl': 0.005372634585599722, 'top_down_map.agent_angle': -1.718634563943614}\n",
      "{'distance_to_goal': 7.235245716722706, 'spl': 0.005474646634693387, 'top_down_map.agent_angle': -1.6983704385878164}\n",
      "{'distance_to_goal': 7.216175568409455, 'spl': 0.005544834412061251, 'top_down_map.agent_angle': -1.718819838303786}\n",
      "{'distance_to_goal': 7.116655782687883, 'spl': 0.005306712688843897, 'top_down_map.agent_angle': -1.72878747483704}\n",
      "{'distance_to_goal': 7.198120857007575, 'spl': 0.005242388898676092, 'top_down_map.agent_angle': -1.7310593113754735}\n",
      "{'distance_to_goal': 7.159034401361196, 'spl': 0.005306712688843897, 'top_down_map.agent_angle': -1.7101232610597201}\n",
      "{'distance_to_goal': 7.203666590437105, 'spl': 0.005474646634693387, 'top_down_map.agent_angle': -1.7014146635803995}\n",
      "{'distance_to_goal': 7.099342904439786, 'spl': 0.005274354684643629, 'top_down_map.agent_angle': -1.7173698239210176}\n"
     ]
    },
    {
     "name": "stderr",
     "output_type": "stream",
     "text": [
      "2020-04-13 01:33:18,925 update: 420\tfps: 10.706\t\n",
      "2020-04-13 01:33:18,927 update: 420\tenv-time: 28517.587s\tpth-time: 1660.918s\tframes: 323328.0\n",
      "2020-04-13 01:33:18,928 Average window size: 50  distance_to_goal: 7.117  reward: -1.942  spl: 0.005  top_down_map.agent_angle: -1.651\n"
     ]
    },
    {
     "name": "stdout",
     "output_type": "stream",
     "text": [
      "{'distance_to_goal': 7.116982596261161, 'spl': 0.005148774811199733, 'top_down_map.agent_angle': -1.650637490408761}\n",
      "{'distance_to_goal': 7.058054854230183, 'spl': 0.005274354684643629, 'top_down_map.agent_angle': -1.681121826171875}\n",
      "{'distance_to_goal': 7.100946300757859, 'spl': 0.005179605798093145, 'top_down_map.agent_angle': -1.6394287840334956}\n",
      "{'distance_to_goal': 7.079074994255515, 'spl': 0.005088200989891501, 'top_down_map.agent_angle': -1.6355964211856617}\n",
      "{'distance_to_goal': 7.174031118328652, 'spl': 0.0018700434920493137, 'top_down_map.agent_angle': -1.6407335259941187}\n",
      "{'distance_to_goal': 7.158602627840909, 'spl': 0.0018912939862771468, 'top_down_map.agent_angle': -1.6157864657315342}\n",
      "{'distance_to_goal': 7.053603684971098, 'spl': 0.001924090991819525, 'top_down_map.agent_angle': -1.6678149272940752}\n",
      "{'distance_to_goal': 7.100059937895014, 'spl': 0.0018700434920493137, 'top_down_map.agent_angle': -1.6681842589646243}\n",
      "{'distance_to_goal': 7.088244092333448, 'spl': 0.0018289436350811968, 'top_down_map.agent_angle': -1.6919562371222527}\n",
      "{'distance_to_goal': 7.074553609545765, 'spl': 0.0018189494075670919, 'top_down_map.agent_angle': -1.6750364876835724}\n"
     ]
    },
    {
     "name": "stderr",
     "output_type": "stream",
     "text": [
      "2020-04-13 01:44:58,002 update: 430\tfps: 10.713\t\n",
      "2020-04-13 01:44:58,004 update: 430\tenv-time: 29175.986s\tpth-time: 1701.087s\tframes: 331008.0\n",
      "2020-04-13 01:44:58,005 Average window size: 50  distance_to_goal: 7.100  reward: -1.788  spl: 0.002  top_down_map.agent_angle: -1.664\n"
     ]
    },
    {
     "name": "stdout",
     "output_type": "stream",
     "text": [
      "{'distance_to_goal': 7.099572075737847, 'spl': 0.0018492652310265435, 'top_down_map.agent_angle': -1.6643948025173612}\n",
      "{'distance_to_goal': 7.158872477213541, 'spl': 0.0018492652310265435, 'top_down_map.agent_angle': -1.6382439507378472}\n",
      "{'distance_to_goal': 7.156588194800205, 'spl': 0.0018189494075670919, 'top_down_map.agent_angle': -1.622925805263832}\n",
      "{'distance_to_goal': 7.182824772309492, 'spl': 0.0017800413988490794, 'top_down_map.agent_angle': -1.6426494414793615}\n",
      "{'distance_to_goal': 7.187844251198744, 'spl': 0.0017612049819300413, 'top_down_map.agent_angle': -1.6534042762070107}\n",
      "{'distance_to_goal': 7.184502003724093, 'spl': 0.0017247033242734603, 'top_down_map.agent_angle': -1.6258261883197054}\n",
      "{'distance_to_goal': 7.194432373046875, 'spl': 0.0016643387079238892, 'top_down_map.agent_angle': -1.6610992431640625}\n",
      "{'distance_to_goal': 7.22698974609375, 'spl': 0.001647860106855336, 'top_down_map.agent_angle': -1.6629128031211324}\n",
      "{'distance_to_goal': 7.031167587047906, 'spl': 0.0016896839674354204, 'top_down_map.agent_angle': -1.642382626606123}\n",
      "{'distance_to_goal': 7.0914395189038215, 'spl': 0.0017247033242734603, 'top_down_map.agent_angle': -1.601443275886496}\n"
     ]
    },
    {
     "name": "stderr",
     "output_type": "stream",
     "text": [
      "2020-04-13 01:56:55,664 update: 440\tfps: 10.712\t\n",
      "2020-04-13 01:56:55,667 update: 440\tenv-time: 29853.078s\tpth-time: 1741.149s\tframes: 338688.0\n",
      "2020-04-13 01:56:55,668 Average window size: 50  distance_to_goal: 7.147  reward: -1.604  spl: 0.002  top_down_map.agent_angle: -1.591\n"
     ]
    },
    {
     "name": "stdout",
     "output_type": "stream",
     "text": [
      "{'distance_to_goal': 7.146911308092949, 'spl': 0.0017070140594091171, 'top_down_map.agent_angle': -1.591166021885016}\n",
      "{'distance_to_goal': 7.233285903930664, 'spl': 0.0017336861540873845, 'top_down_map.agent_angle': -1.6196293830871582}\n",
      "{'distance_to_goal': 7.186505328167926, 'spl': 0.0018289436350811968, 'top_down_map.agent_angle': -1.6467380733280392}\n",
      "{'distance_to_goal': 7.1375973879635985, 'spl': 0.0018289436350811968, 'top_down_map.agent_angle': -1.6340291788289836}\n",
      "{'distance_to_goal': 7.1679419213598905, 'spl': 0.0018289436350811968, 'top_down_map.agent_angle': -1.64132321535886}\n",
      "{'distance_to_goal': 7.233045789930555, 'spl': 0.0, 'top_down_map.agent_angle': -1.6428782145182292}\n",
      "{'distance_to_goal': 7.2698586203835225, 'spl': 0.0, 'top_down_map.agent_angle': -1.6585466211492366}\n",
      "{'distance_to_goal': 7.281575745640539, 'spl': 0.0, 'top_down_map.agent_angle': -1.6324886090189055}\n",
      "{'distance_to_goal': 7.17734375, 'spl': 0.0, 'top_down_map.agent_angle': -1.5553490889699835}\n",
      "{'distance_to_goal': 7.228674705992353, 'spl': 0.0, 'top_down_map.agent_angle': -1.576107106310256}\n"
     ]
    },
    {
     "name": "stderr",
     "output_type": "stream",
     "text": [
      "2020-04-13 02:08:49,786 update: 450\tfps: 10.713\t\n",
      "2020-04-13 02:08:49,789 update: 450\tenv-time: 30526.574s\tpth-time: 1781.272s\tframes: 346368.0\n",
      "2020-04-13 02:08:49,790 Average window size: 50  distance_to_goal: 7.258  reward: -1.668  spl: 0.000  top_down_map.agent_angle: -1.549\n"
     ]
    },
    {
     "name": "stdout",
     "output_type": "stream",
     "text": [
      "{'distance_to_goal': 7.257523731518817, 'spl': 0.0, 'top_down_map.agent_angle': -1.5486497776482695}\n",
      "{'distance_to_goal': 7.26847972040591, 'spl': 0.0, 'top_down_map.agent_angle': -1.535254768703295}\n",
      "{'distance_to_goal': 7.103649572423986, 'spl': 0.0, 'top_down_map.agent_angle': -1.4696427628800677}\n",
      "{'distance_to_goal': 7.066288248697917, 'spl': 0.0, 'top_down_map.agent_angle': -1.5408482869466147}\n",
      "{'distance_to_goal': 6.998287698496943, 'spl': 0.0, 'top_down_map.agent_angle': -1.5516952846361243}\n",
      "{'distance_to_goal': 6.989425259734948, 'spl': 0.0, 'top_down_map.agent_angle': -1.5446015203186354}\n",
      "{'distance_to_goal': 6.9788433217747325, 'spl': 0.0, 'top_down_map.agent_angle': -1.5310442103421624}\n",
      "{'distance_to_goal': 6.976285673881489, 'spl': 0.0, 'top_down_map.agent_angle': -1.536066607699368}\n",
      "{'distance_to_goal': 6.988018431950136, 'spl': 0.0, 'top_down_map.agent_angle': -1.5413288053919056}\n",
      "{'distance_to_goal': 7.082148750835562, 'spl': 0.0, 'top_down_map.agent_angle': -1.5437372381036931}\n"
     ]
    },
    {
     "name": "stderr",
     "output_type": "stream",
     "text": [
      "2020-04-13 02:20:44,872 update: 460\tfps: 10.714\t\n",
      "2020-04-13 02:20:44,874 update: 460\tenv-time: 31200.906s\tpth-time: 1821.477s\tframes: 354048.0\n",
      "2020-04-13 02:20:44,874 Average window size: 50  distance_to_goal: 7.097  reward: -1.781  spl: 0.000  top_down_map.agent_angle: -1.501\n"
     ]
    },
    {
     "name": "stdout",
     "output_type": "stream",
     "text": [
      "{'distance_to_goal': 7.097331186358848, 'spl': 0.0, 'top_down_map.agent_angle': -1.5011267501316714}\n",
      "{'distance_to_goal': 7.048593585410814, 'spl': 0.0, 'top_down_map.agent_angle': -1.4462115684252106}\n",
      "{'distance_to_goal': 7.115134560600829, 'spl': 0.0, 'top_down_map.agent_angle': -1.5126612542083908}\n",
      "{'distance_to_goal': 7.148158208237892, 'spl': 0.0, 'top_down_map.agent_angle': -1.52243297636821}\n",
      "{'distance_to_goal': 7.24571434227196, 'spl': 0.0, 'top_down_map.agent_angle': -1.4911756360853041}\n",
      "{'distance_to_goal': 7.092690088415659, 'spl': 0.0, 'top_down_map.agent_angle': -1.495567403813844}\n",
      "{'distance_to_goal': 7.134748742935505, 'spl': 0.0, 'top_down_map.agent_angle': -1.4958983076379655}\n",
      "{'distance_to_goal': 7.20678333400451, 'spl': 0.0, 'top_down_map.agent_angle': -1.5167399927512886}\n",
      "{'distance_to_goal': 7.297888573179853, 'spl': 0.0, 'top_down_map.agent_angle': -1.4969277889170545}\n",
      "{'distance_to_goal': 7.216634114583333, 'spl': 0.0, 'top_down_map.agent_angle': -1.5677942346643519}\n"
     ]
    },
    {
     "name": "stderr",
     "output_type": "stream",
     "text": [
      "2020-04-13 02:32:40,068 update: 470\tfps: 10.714\t\n",
      "2020-04-13 02:32:40,070 update: 470\tenv-time: 31875.236s\tpth-time: 1861.838s\tframes: 361728.0\n",
      "2020-04-13 02:32:40,071 Average window size: 50  distance_to_goal: 7.299  reward: -1.764  spl: 0.000  top_down_map.agent_angle: -1.590\n"
     ]
    },
    {
     "name": "stdout",
     "output_type": "stream",
     "text": [
      "{'distance_to_goal': 7.299418444511218, 'spl': 0.0, 'top_down_map.agent_angle': -1.5901551857972755}\n",
      "{'distance_to_goal': 7.195241999498663, 'spl': 0.0, 'top_down_map.agent_angle': -1.6006187398165943}\n",
      "{'distance_to_goal': 7.197429265202703, 'spl': 0.0, 'top_down_map.agent_angle': -1.590718532252956}\n",
      "{'distance_to_goal': 7.111246519984461, 'spl': 0.0, 'top_down_map.agent_angle': -1.6110615598562672}\n",
      "{'distance_to_goal': 7.119295334433489, 'spl': 0.0, 'top_down_map.agent_angle': -1.6482411756872493}\n",
      "{'distance_to_goal': 7.176233510502049, 'spl': 0.0, 'top_down_map.agent_angle': -1.6135509053214652}\n",
      "{'distance_to_goal': 7.133221915598666, 'spl': 0.0, 'top_down_map.agent_angle': -1.6116573033707866}\n",
      "{'distance_to_goal': 7.061963288680367, 'spl': 0.0, 'top_down_map.agent_angle': -1.6321812505307405}\n",
      "{'distance_to_goal': 7.208813211192256, 'spl': 0.0, 'top_down_map.agent_angle': -1.6159709432850713}\n",
      "{'distance_to_goal': 7.204973220825195, 'spl': 0.0, 'top_down_map.agent_angle': -1.6006714502970378}\n"
     ]
    },
    {
     "name": "stderr",
     "output_type": "stream",
     "text": [
      "2020-04-13 02:44:27,759 update: 480\tfps: 10.717\t\n",
      "2020-04-13 02:44:27,761 update: 480\tenv-time: 32542.289s\tpth-time: 1901.969s\tframes: 369408.0\n",
      "2020-04-13 02:44:27,762 Average window size: 50  distance_to_goal: 7.183  reward: -1.794  spl: 0.000  top_down_map.agent_angle: -1.616\n"
     ]
    },
    {
     "name": "stdout",
     "output_type": "stream",
     "text": [
      "{'distance_to_goal': 7.182810199198299, 'spl': 0.0, 'top_down_map.agent_angle': -1.616136321222595}\n",
      "{'distance_to_goal': 7.148482342155612, 'spl': 0.0, 'top_down_map.agent_angle': -1.6090185982840401}\n",
      "{'distance_to_goal': 7.155651092529297, 'spl': 0.0, 'top_down_map.agent_angle': -1.6243430773417156}\n",
      "{'distance_to_goal': 7.12850193245701, 'spl': 0.0, 'top_down_map.agent_angle': -1.6263813644489915}\n",
      "{'distance_to_goal': 7.145963585895041, 'spl': 0.0, 'top_down_map.agent_angle': -1.6478138799252717}\n",
      "{'distance_to_goal': 7.041641071278562, 'spl': 0.0, 'top_down_map.agent_angle': -1.6517187959404402}\n",
      "{'distance_to_goal': 6.980657762096774, 'spl': 0.0, 'top_down_map.agent_angle': -1.6182643111034105}\n",
      "{'distance_to_goal': 6.983740634605533, 'spl': 0.0, 'top_down_map.agent_angle': -1.61608970100111}\n",
      "{'distance_to_goal': 6.9319863809121625, 'spl': 0.0, 'top_down_map.agent_angle': -1.6245224411423143}\n",
      "{'distance_to_goal': 6.835161528716216, 'spl': 0.0, 'top_down_map.agent_angle': -1.6356633366765203}\n"
     ]
    },
    {
     "name": "stderr",
     "output_type": "stream",
     "text": [
      "2020-04-13 02:56:18,913 update: 490\tfps: 10.719\t\n",
      "2020-04-13 02:56:18,915 update: 490\tenv-time: 33212.939s\tpth-time: 1941.973s\tframes: 377088.0\n",
      "2020-04-13 02:56:18,916 Average window size: 50  distance_to_goal: 6.792  reward: -1.880  spl: 0.000  top_down_map.agent_angle: -1.586\n"
     ]
    },
    {
     "name": "stdout",
     "output_type": "stream",
     "text": [
      "{'distance_to_goal': 6.792427394701087, 'spl': 0.0, 'top_down_map.agent_angle': -1.5859439683997112}\n",
      "{'distance_to_goal': 6.776682590793919, 'spl': 0.0, 'top_down_map.agent_angle': -1.5953393884607263}\n",
      "{'distance_to_goal': 6.8362597914599865, 'spl': 0.0, 'top_down_map.agent_angle': -1.621796623108879}\n",
      "{'distance_to_goal': 6.81107414205661, 'spl': 0.0, 'top_down_map.agent_angle': -1.5874831913653469}\n",
      "{'distance_to_goal': 6.857796438116776, 'spl': 0.0, 'top_down_map.agent_angle': -1.5944883647717927}\n",
      "{'distance_to_goal': 6.913157040310889, 'spl': 0.0, 'top_down_map.agent_angle': -1.5859408034491784}\n",
      "{'distance_to_goal': 6.894753138224284, 'spl': 0.0, 'top_down_map.agent_angle': -1.6539934476216633}\n",
      "{'distance_to_goal': 6.898270737278006, 'spl': 0.0, 'top_down_map.agent_angle': -1.7273913107283128}\n",
      "{'distance_to_goal': 6.892096986161902, 'spl': 0.0, 'top_down_map.agent_angle': -1.7450506332072806}\n",
      "{'distance_to_goal': 6.867261250813802, 'spl': 0.0, 'top_down_map.agent_angle': -1.7799194653828938}\n"
     ]
    },
    {
     "name": "stderr",
     "output_type": "stream",
     "text": [
      "2020-04-13 03:08:09,654 update: 500\tfps: 10.721\t\n",
      "2020-04-13 03:08:09,657 update: 500\tenv-time: 33882.608s\tpth-time: 1982.541s\tframes: 384768.0\n",
      "2020-04-13 03:08:09,658 Average window size: 50  distance_to_goal: 6.828  reward: -1.741  spl: 0.000  top_down_map.agent_angle: -1.826\n"
     ]
    },
    {
     "name": "stdout",
     "output_type": "stream",
     "text": [
      "{'distance_to_goal': 6.827932627413285, 'spl': 0.0, 'top_down_map.agent_angle': -1.8263423580149705}\n",
      "{'distance_to_goal': 6.853495279947917, 'spl': 0.0, 'top_down_map.agent_angle': -1.8342053095499675}\n",
      "{'distance_to_goal': 6.885354359944661, 'spl': 0.0, 'top_down_map.agent_angle': -1.833520730336507}\n",
      "{'distance_to_goal': 6.950112024943034, 'spl': 0.0, 'top_down_map.agent_angle': -1.8281853993733723}\n",
      "{'distance_to_goal': 6.95416820629223, 'spl': 0.0, 'top_down_map.agent_angle': -1.8605364825274493}\n",
      "{'distance_to_goal': 6.9696044921875, 'spl': 0.0, 'top_down_map.agent_angle': -1.838464819866678}\n",
      "{'distance_to_goal': 6.984033203125, 'spl': 0.0, 'top_down_map.agent_angle': -1.8094053526182432}\n",
      "{'distance_to_goal': 6.97534634204621, 'spl': 0.0, 'top_down_map.agent_angle': -1.7452658795295877}\n",
      "{'distance_to_goal': 6.939301344452712, 'spl': 0.0, 'top_down_map.agent_angle': -1.7425068850239749}\n",
      "{'distance_to_goal': 6.928219443873355, 'spl': 0.0, 'top_down_map.agent_angle': -1.7272929944490132}\n"
     ]
    },
    {
     "name": "stderr",
     "output_type": "stream",
     "text": [
      "2020-04-13 03:19:59,569 update: 510\tfps: 10.723\t\n",
      "2020-04-13 03:19:59,572 update: 510\tenv-time: 34551.613s\tpth-time: 2022.880s\tframes: 392448.0\n",
      "2020-04-13 03:19:59,573 Average window size: 50  distance_to_goal: 7.015  reward: -1.712  spl: 0.000  top_down_map.agent_angle: -1.752\n"
     ]
    },
    {
     "name": "stdout",
     "output_type": "stream",
     "text": [
      "{'distance_to_goal': 7.015217885921139, 'spl': 0.0, 'top_down_map.agent_angle': -1.7524088115592278}\n",
      "{'distance_to_goal': 6.974429448445638, 'spl': 0.0, 'top_down_map.agent_angle': -1.7117513020833333}\n",
      "{'distance_to_goal': 6.8925174197635135, 'spl': 0.0, 'top_down_map.agent_angle': -1.6851275469805744}\n",
      "{'distance_to_goal': 6.878615669582201, 'spl': 0.0, 'top_down_map.agent_angle': -1.7011377085810122}\n",
      "{'distance_to_goal': 6.939302884615385, 'spl': 0.0, 'top_down_map.agent_angle': -1.7034697480254122}\n",
      "{'distance_to_goal': 6.823731125042003, 'spl': 0.0, 'top_down_map.agent_angle': -1.6363787907426075}\n",
      "{'distance_to_goal': 6.749082460508242, 'spl': 0.0, 'top_down_map.agent_angle': -1.6265304062392685}\n",
      "{'distance_to_goal': 6.749082460508242, 'spl': 0.0, 'top_down_map.agent_angle': -1.6265304062392685}\n",
      "{'distance_to_goal': 6.783592224121094, 'spl': 0.0, 'top_down_map.agent_angle': -1.6193792169744319}\n",
      "{'distance_to_goal': 6.6761865234375, 'spl': 0.0, 'top_down_map.agent_angle': -1.5750533621651785}\n"
     ]
    },
    {
     "name": "stderr",
     "output_type": "stream",
     "text": [
      "2020-04-13 03:31:55,401 update: 520\tfps: 10.723\t\n",
      "2020-04-13 03:31:55,404 update: 520\tenv-time: 35226.896s\tpth-time: 2062.927s\tframes: 400128.0\n",
      "2020-04-13 03:31:55,406 Average window size: 50  distance_to_goal: 6.686  reward: -1.829  spl: 0.000  top_down_map.agent_angle: -1.561\n"
     ]
    },
    {
     "name": "stdout",
     "output_type": "stream",
     "text": [
      "{'distance_to_goal': 6.685525373979048, 'spl': 0.0, 'top_down_map.agent_angle': -1.5609425631436435}\n",
      "{'distance_to_goal': 6.7031633649553575, 'spl': 0.0, 'top_down_map.agent_angle': -1.5742393275669644}\n",
      "{'distance_to_goal': 6.697525379269622, 'spl': 0.0, 'top_down_map.agent_angle': -1.5706593713095023}\n",
      "{'distance_to_goal': 6.721888434957471, 'spl': 0.0, 'top_down_map.agent_angle': -1.5669877091808433}\n",
      "{'distance_to_goal': 6.69718755677689, 'spl': 0.0, 'top_down_map.agent_angle': -1.566715684047965}\n",
      "{'distance_to_goal': 6.69718755677689, 'spl': 0.0, 'top_down_map.agent_angle': -1.566715684047965}\n",
      "{'distance_to_goal': 6.732282049005682, 'spl': 0.0, 'top_down_map.agent_angle': -1.5021138509114584}\n",
      "{'distance_to_goal': 6.559914937833461, 'spl': 0.0, 'top_down_map.agent_angle': -1.5191382431402438}\n",
      "{'distance_to_goal': 6.545952519284019, 'spl': 0.0, 'top_down_map.agent_angle': -1.5127588585962224}\n",
      "{'distance_to_goal': 6.499900817871094, 'spl': 0.0, 'top_down_map.agent_angle': -1.5063995361328124}\n"
     ]
    },
    {
     "name": "stderr",
     "output_type": "stream",
     "text": [
      "2020-04-13 03:43:44,838 update: 530\tfps: 10.725\t\n",
      "2020-04-13 03:43:44,841 update: 530\tenv-time: 35895.773s\tpth-time: 2102.986s\tframes: 407808.0\n",
      "2020-04-13 03:43:44,842 Average window size: 50  distance_to_goal: 6.519  reward: -2.063  spl: 0.000  top_down_map.agent_angle: -1.520\n"
     ]
    },
    {
     "name": "stdout",
     "output_type": "stream",
     "text": [
      "{'distance_to_goal': 6.519451983563312, 'spl': 0.0, 'top_down_map.agent_angle': -1.5197222821124188}\n",
      "{'distance_to_goal': 6.611537277318869, 'spl': 0.0, 'top_down_map.agent_angle': -1.4502518769282444}\n",
      "{'distance_to_goal': 6.566602184514331, 'spl': 0.0, 'top_down_map.agent_angle': -1.4219191241416202}\n",
      "{'distance_to_goal': 6.5605638721321204, 'spl': 0.0, 'top_down_map.agent_angle': -1.4233338561239122}\n",
      "{'distance_to_goal': 6.64978107128268, 'spl': 0.0, 'top_down_map.agent_angle': -1.3167780458537581}\n",
      "{'distance_to_goal': 6.6398781224300985, 'spl': 0.0, 'top_down_map.agent_angle': -1.3205431887978}\n",
      "{'distance_to_goal': 6.559241903981855, 'spl': 0.0, 'top_down_map.agent_angle': -1.3682327762726814}\n",
      "{'distance_to_goal': 6.613984949448529, 'spl': 0.0, 'top_down_map.agent_angle': -1.3787247402216094}\n",
      "{'distance_to_goal': 6.616663411458333, 'spl': 0.0, 'top_down_map.agent_angle': -1.3560581461588541}\n",
      "{'distance_to_goal': 6.602264609112836, 'spl': 0.0, 'top_down_map.agent_angle': -1.3860741941720847}\n"
     ]
    },
    {
     "name": "stderr",
     "output_type": "stream",
     "text": [
      "2020-04-13 03:55:34,907 update: 540\tfps: 10.726\t\n",
      "2020-04-13 03:55:34,909 update: 540\tenv-time: 36565.008s\tpth-time: 2143.317s\tframes: 415488.0\n",
      "2020-04-13 03:55:34,910 Average window size: 50  distance_to_goal: 6.548  reward: -2.081  spl: 0.003  top_down_map.agent_angle: -1.398\n"
     ]
    },
    {
     "name": "stdout",
     "output_type": "stream",
     "text": [
      "{'distance_to_goal': 6.547689879966887, 'spl': 0.003080222780341344, 'top_down_map.agent_angle': -1.3983859636925704}\n",
      "{'distance_to_goal': 6.5779402449324325, 'spl': 0.0031426597285915065, 'top_down_map.agent_angle': -1.3551580068227407}\n",
      "{'distance_to_goal': 6.406526223207131, 'spl': 0.0029814976912278393, 'top_down_map.agent_angle': -1.3506295619866786}\n",
      "{'distance_to_goal': 6.388363942792338, 'spl': 0.003000733160203503, 'top_down_map.agent_angle': -1.352308113344254}\n",
      "{'distance_to_goal': 6.268785352830763, 'spl': 0.003020218440464565, 'top_down_map.agent_angle': -1.3681218531224635}\n",
      "{'distance_to_goal': 6.2252783203125, 'spl': 0.0031007575988769532, 'top_down_map.agent_angle': -1.3115226236979167}\n",
      "{'distance_to_goal': 6.261848309288727, 'spl': 0.0028534579130769506, 'top_down_map.agent_angle': -1.2668078837950536}\n",
      "{'distance_to_goal': 6.169637293903374, 'spl': 0.0028534579130769506, 'top_down_map.agent_angle': -1.243669568395322}\n",
      "{'distance_to_goal': 6.1580863952636715, 'spl': 0.0029069602489471434, 'top_down_map.agent_angle': -1.192613410949707}\n",
      "{'distance_to_goal': 6.1509947957871836, 'spl': 0.0029437572141236897, 'top_down_map.agent_angle': -1.1553319617162776}\n"
     ]
    },
    {
     "name": "stderr",
     "output_type": "stream",
     "text": [
      "2020-04-13 04:07:25,291 update: 550\tfps: 10.728\t\n",
      "2020-04-13 04:07:25,294 update: 550\tenv-time: 37234.442s\tpth-time: 2183.762s\tframes: 423168.0\n",
      "2020-04-13 04:07:25,295 Average window size: 50  distance_to_goal: 6.140  reward: -1.909  spl: 0.003  top_down_map.agent_angle: -1.174\n"
     ]
    },
    {
     "name": "stdout",
     "output_type": "stream",
     "text": [
      "{'distance_to_goal': 6.139987275094697, 'spl': 0.002818870544433594, 'top_down_map.agent_angle': -1.173974424419981}\n",
      "{'distance_to_goal': 6.069633759647967, 'spl': 0.0028018893965755603, 'top_down_map.agent_angle': -1.156360488340079}\n",
      "{'distance_to_goal': 6.045510374469521, 'spl': 0.0028710718508119936, 'top_down_map.agent_angle': -1.1408702709056713}\n",
      "{'distance_to_goal': 5.962497940982681, 'spl': 0.00494569001427616, 'top_down_map.agent_angle': -1.157397902155497}\n",
      "{'distance_to_goal': 6.0250092455621305, 'spl': 0.0048578967004132695, 'top_down_map.agent_angle': -1.151373327131102}\n",
      "{'distance_to_goal': 6.003444283308383, 'spl': 0.004916075104011033, 'top_down_map.agent_angle': -1.1542011192458832}\n",
      "{'distance_to_goal': 6.012479629984663, 'spl': 0.005036714983864064, 'top_down_map.agent_angle': -1.1959825761479104}\n",
      "{'distance_to_goal': 5.985410008285985, 'spl': 0.00497566389315056, 'top_down_map.agent_angle': -1.1814382842092803}\n",
      "{'distance_to_goal': 6.0642929974724264, 'spl': 0.004829320837469662, 'top_down_map.agent_angle': -1.1782212201286764}\n",
      "{'distance_to_goal': 5.979482627776732, 'spl': 0.00494569001427616, 'top_down_map.agent_angle': -1.1418499314641377}\n"
     ]
    },
    {
     "name": "stderr",
     "output_type": "stream",
     "text": [
      "2020-04-13 04:19:13,331 update: 560\tfps: 10.730\t\n",
      "2020-04-13 04:19:13,335 update: 560\tenv-time: 37901.927s\tpth-time: 2223.761s\tframes: 430848.0\n",
      "2020-04-13 04:19:13,336 Average window size: 50  distance_to_goal: 5.942  reward: -1.877  spl: 0.005  top_down_map.agent_angle: -1.114\n"
     ]
    },
    {
     "name": "stdout",
     "output_type": "stream",
     "text": [
      "{'distance_to_goal': 5.941975911458333, 'spl': 0.005067805817097794, 'top_down_map.agent_angle': -1.1138121051552854}\n",
      "{'distance_to_goal': 6.0102712372202935, 'spl': 0.005067805817097794, 'top_down_map.agent_angle': -1.1444820827907987}\n",
      "{'distance_to_goal': 6.08069883404356, 'spl': 0.00497566389315056, 'top_down_map.agent_angle': -1.1664911443536932}\n",
      "{'distance_to_goal': 6.087834398674242, 'spl': 0.00497566389315056, 'top_down_map.agent_angle': -1.1245291045217802}\n",
      "{'distance_to_goal': 6.2194429500374255, 'spl': 0.004916075104011033, 'top_down_map.agent_angle': -1.1619781676880614}\n",
      "{'distance_to_goal': 6.169815509639985, 'spl': 0.004801079195145278, 'top_down_map.agent_angle': -1.1913830495020101}\n",
      "{'distance_to_goal': 6.1339455089349855, 'spl': 0.0047183019676427735, 'top_down_map.agent_angle': -1.1780346399066093}\n",
      "{'distance_to_goal': 6.1339455089349855, 'spl': 0.0047183019676427735, 'top_down_map.agent_angle': -1.1780346399066093}\n",
      "{'distance_to_goal': 6.127727883399566, 'spl': 0.0047455753894210554, 'top_down_map.agent_angle': -1.2302025591017882}\n",
      "{'distance_to_goal': 6.217019636078743, 'spl': 0.004638330747852218, 'top_down_map.agent_angle': -1.2934266860875707}\n"
     ]
    },
    {
     "name": "stderr",
     "output_type": "stream",
     "text": [
      "2020-04-13 04:31:07,116 update: 570\tfps: 10.730\t\n",
      "2020-04-13 04:31:07,119 update: 570\tenv-time: 38575.278s\tpth-time: 2263.693s\tframes: 438528.0\n",
      "2020-04-13 04:31:07,120 Average window size: 50  distance_to_goal: 6.197  reward: -1.721  spl: 0.005  top_down_map.agent_angle: -1.282\n"
     ]
    },
    {
     "name": "stdout",
     "output_type": "stream",
     "text": [
      "{'distance_to_goal': 6.196709830001746, 'spl': 0.00458650582329521, 'top_down_map.agent_angle': -1.2823585211897695}\n",
      "{'distance_to_goal': 6.219861046742585, 'spl': 0.004638330747852218, 'top_down_map.agent_angle': -1.2675617455089159}\n",
      "{'distance_to_goal': 6.188291376287287, 'spl': 0.0046646848998286505, 'top_down_map.agent_angle': -1.224919405850497}\n",
      "{'distance_to_goal': 6.280460133272059, 'spl': 0.004390291670426965, 'top_down_map.agent_angle': -1.2785373626545788}\n",
      "{'distance_to_goal': 6.296709656084656, 'spl': 0.004343833557512394, 'top_down_map.agent_angle': -1.2871820359002977}\n",
      "{'distance_to_goal': 6.299744308635753, 'spl': 0.004413895389085175, 'top_down_map.agent_angle': -1.3115941529632897}\n",
      "{'distance_to_goal': 6.301155465548156, 'spl': 0.00448625432988985, 'top_down_map.agent_angle': -1.3093114967554644}\n",
      "{'distance_to_goal': 6.428325795872326, 'spl': 0.004390291670426965, 'top_down_map.agent_angle': -1.3494458530038436}\n",
      "{'distance_to_goal': 6.466882654138513, 'spl': 0.00443775428308023, 'top_down_map.agent_angle': -1.3531802615603885}\n",
      "{'distance_to_goal': 6.44042039954144, 'spl': 0.004461872512879579, 'top_down_map.agent_angle': -1.3494440161663552}\n"
     ]
    },
    {
     "name": "stderr",
     "output_type": "stream",
     "text": [
      "2020-04-13 04:42:54,446 update: 580\tfps: 10.733\t\n",
      "2020-04-13 04:42:54,449 update: 580\tenv-time: 39242.084s\tpth-time: 2303.709s\tframes: 446208.0\n",
      "2020-04-13 04:42:54,451 Average window size: 50  distance_to_goal: 6.395  reward: -1.632  spl: 0.005  top_down_map.agent_angle: -1.344\n"
     ]
    },
    {
     "name": "stdout",
     "output_type": "stream",
     "text": [
      "{'distance_to_goal': 6.3953446024689224, 'spl': 0.004535826200938357, 'top_down_map.agent_angle': -1.343692674162638}\n",
      "{'distance_to_goal': 6.462517116380774, 'spl': 0.004461872512879579, 'top_down_map.agent_angle': -1.370454041854195}\n",
      "{'distance_to_goal': 6.475813758564505, 'spl': 0.004390291670426965, 'top_down_map.agent_angle': -1.3603128851416277}\n",
      "{'distance_to_goal': 6.463755068571671, 'spl': 0.004461872512879579, 'top_down_map.agent_angle': -1.387011652407439}\n",
      "{'distance_to_goal': 6.469012920673077, 'spl': 0.004510904078955179, 'top_down_map.agent_angle': -1.3913487025669642}\n",
      "{'distance_to_goal': 6.639177781375334, 'spl': 0.004390291670426965, 'top_down_map.agent_angle': -1.3789418266418783}\n",
      "{'distance_to_goal': 6.649120189525463, 'spl': 0.004343833557512394, 'top_down_map.agent_angle': -1.3551018931878307}\n",
      "{'distance_to_goal': 6.652640031210741, 'spl': 0.004125550464170063, 'top_down_map.agent_angle': -1.3233180980586527}\n",
      "{'distance_to_goal': 6.719180619896357, 'spl': 0.004125550464170063, 'top_down_map.agent_angle': -1.3275022267097205}\n",
      "{'distance_to_goal': 6.776905916175064, 'spl': 0.0018156678700933652, 'top_down_map.agent_angle': -1.3072327594367825}\n"
     ]
    },
    {
     "name": "stderr",
     "output_type": "stream",
     "text": [
      "2020-04-13 04:54:47,226 update: 590\tfps: 10.733\t\n",
      "2020-04-13 04:54:47,229 update: 590\tenv-time: 39914.101s\tpth-time: 2343.966s\tframes: 453888.0\n",
      "2020-04-13 04:54:47,229 Average window size: 50  distance_to_goal: 6.754  reward: -1.551  spl: 0.002  top_down_map.agent_angle: -1.325\n"
     ]
    },
    {
     "name": "stdout",
     "output_type": "stream",
     "text": [
      "{'distance_to_goal': 6.754287332447652, 'spl': 0.0018064512819203024, 'top_down_map.agent_angle': -1.3252554181868654}\n",
      "{'distance_to_goal': 7.022608284998422, 'spl': 0.0017973277905974725, 'top_down_map.agent_angle': -1.3742062347103852}\n",
      "{'distance_to_goal': 6.99702675977544, 'spl': 0.0017882959926547716, 'top_down_map.agent_angle': -1.3481011318801037}\n",
      "{'distance_to_goal': 7.016577518347538, 'spl': 0.0017973277905974725, 'top_down_map.agent_angle': -1.3521859525430082}\n",
      "{'distance_to_goal': 7.00660675647212, 'spl': 0.0017444652085210762, 'top_down_map.agent_angle': -1.3423520256491268}\n",
      "{'distance_to_goal': 6.92370667120423, 'spl': 0.0017973277905974725, 'top_down_map.agent_angle': -1.4040357801649306}\n",
      "{'distance_to_goal': 7.053720851840102, 'spl': 0.0018064512819203024, 'top_down_map.agent_angle': -1.405025424085898}\n",
      "{'distance_to_goal': 7.046337147049492, 'spl': 0.0018064512819203024, 'top_down_map.agent_angle': -1.3906325906666401}\n",
      "{'distance_to_goal': 7.020523602689677, 'spl': 0.0017705020026781073, 'top_down_map.agent_angle': -1.389329141645289}\n",
      "{'distance_to_goal': 7.106459155525129, 'spl': 0.0018343860955582453, 'top_down_map.agent_angle': -1.3971471098280444}\n"
     ]
    },
    {
     "name": "stderr",
     "output_type": "stream",
     "text": [
      "2020-04-13 05:06:34,803 update: 600\tfps: 10.735\t\n",
      "2020-04-13 05:06:34,805 update: 600\tenv-time: 40581.593s\tpth-time: 2383.549s\tframes: 461568.0\n",
      "2020-04-13 05:06:34,831 Average window size: 50  distance_to_goal: 7.150  reward: -1.605  spl: 0.002  top_down_map.agent_angle: -1.410\n"
     ]
    },
    {
     "name": "stdout",
     "output_type": "stream",
     "text": [
      "{'distance_to_goal': 7.15002952695517, 'spl': 0.0018631984426088983, 'top_down_map.agent_angle': -1.4098552284440444}\n",
      "{'distance_to_goal': 7.124420007893459, 'spl': 0.0018438906867269407, 'top_down_map.agent_angle': -1.419610690576425}\n",
      "{'distance_to_goal': 7.20425447162829, 'spl': 0.0, 'top_down_map.agent_angle': -1.4049040141858553}\n",
      "{'distance_to_goal': 7.121768043154762, 'spl': 0.0, 'top_down_map.agent_angle': -1.429315799127811}\n",
      "{'distance_to_goal': 7.119587350398936, 'spl': 0.0, 'top_down_map.agent_angle': -1.4363539675448804}\n",
      "{'distance_to_goal': 7.102405427631579, 'spl': 0.0, 'top_down_map.agent_angle': -1.426469662314967}\n",
      "{'distance_to_goal': 7.015635979869378, 'spl': 0.0, 'top_down_map.agent_angle': -1.4122320911871693}\n",
      "{'distance_to_goal': 6.967317488386825, 'spl': 0.0, 'top_down_map.agent_angle': -1.4329085066511824}\n",
      "{'distance_to_goal': 6.99927095023308, 'spl': 0.0, 'top_down_map.agent_angle': -1.4682453640258115}\n",
      "{'distance_to_goal': 6.998434743573589, 'spl': 0.0, 'top_down_map.agent_angle': -1.5121404176117272}\n"
     ]
    },
    {
     "name": "stderr",
     "output_type": "stream",
     "text": [
      "2020-04-13 05:18:27,760 update: 610\tfps: 10.736\t\n",
      "2020-04-13 05:18:27,763 update: 610\tenv-time: 41253.689s\tpth-time: 2423.814s\tframes: 469248.0\n",
      "2020-04-13 05:18:27,764 Average window size: 50  distance_to_goal: 6.879  reward: -1.761  spl: 0.000  top_down_map.agent_angle: -1.512\n"
     ]
    },
    {
     "name": "stdout",
     "output_type": "stream",
     "text": [
      "{'distance_to_goal': 6.879068153782895, 'spl': 0.0, 'top_down_map.agent_angle': -1.5119905170641448}\n",
      "{'distance_to_goal': 6.830864075033422, 'spl': 0.0, 'top_down_map.agent_angle': -1.4984666140959224}\n",
      "{'distance_to_goal': 6.8435191278872285, 'spl': 0.0, 'top_down_map.agent_angle': -1.5256161897078804}\n",
      "{'distance_to_goal': 6.680674342105263, 'spl': 0.0, 'top_down_map.agent_angle': -1.5905180278577302}\n",
      "{'distance_to_goal': 6.665242939095222, 'spl': 0.0, 'top_down_map.agent_angle': -1.5091038249550066}\n",
      "{'distance_to_goal': 6.711927625868055, 'spl': 0.0, 'top_down_map.agent_angle': -1.5389397838128307}\n",
      "{'distance_to_goal': 6.711927625868055, 'spl': 0.0, 'top_down_map.agent_angle': -1.5389397838128307}\n",
      "{'distance_to_goal': 6.656857105011635, 'spl': 0.0, 'top_down_map.agent_angle': -1.4767753114091589}\n",
      "{'distance_to_goal': 6.540442482035428, 'spl': 0.0, 'top_down_map.agent_angle': -1.4664040631788937}\n",
      "{'distance_to_goal': 6.568890739889706, 'spl': 0.0, 'top_down_map.agent_angle': -1.5109603800238136}\n"
     ]
    },
    {
     "name": "stderr",
     "output_type": "stream",
     "text": [
      "2020-04-13 05:30:16,053 update: 620\tfps: 10.738\t\n",
      "2020-04-13 05:30:16,055 update: 620\tenv-time: 41921.152s\tpth-time: 2464.144s\tframes: 476928.0\n",
      "2020-04-13 05:30:16,056 Average window size: 50  distance_to_goal: 6.569  reward: -1.756  spl: 0.000  top_down_map.agent_angle: -1.511\n"
     ]
    },
    {
     "name": "stdout",
     "output_type": "stream",
     "text": [
      "{'distance_to_goal': 6.568890739889706, 'spl': 0.0, 'top_down_map.agent_angle': -1.5109603800238136}\n",
      "{'distance_to_goal': 6.525099734042553, 'spl': 0.0, 'top_down_map.agent_angle': -1.5279060526097075}\n",
      "{'distance_to_goal': 6.488389157458563, 'spl': 0.0, 'top_down_map.agent_angle': -1.4528653476778315}\n",
      "{'distance_to_goal': 6.509794657939189, 'spl': 0.0, 'top_down_map.agent_angle': -1.4834901551942568}\n",
      "{'distance_to_goal': 6.503071660580843, 'spl': 0.0, 'top_down_map.agent_angle': -1.4725481116253396}\n",
      "{'distance_to_goal': 6.502891208814538, 'spl': 0.0, 'top_down_map.agent_angle': -1.4625625610351562}\n",
      "{'distance_to_goal': 6.448764004550138, 'spl': 0.0, 'top_down_map.agent_angle': -1.4262836162860577}\n",
      "{'distance_to_goal': 6.439124935963115, 'spl': 0.0, 'top_down_map.agent_angle': -1.4129121707436816}\n",
      "{'distance_to_goal': 6.426917904713115, 'spl': 0.0, 'top_down_map.agent_angle': -1.4245331977885929}\n",
      "{'distance_to_goal': 6.382641336192256, 'spl': 0.0, 'top_down_map.agent_angle': -1.4690502000891643}\n"
     ]
    },
    {
     "name": "stderr",
     "output_type": "stream",
     "text": [
      "2020-04-13 05:42:13,406 update: 630\tfps: 10.737\t\n",
      "2020-04-13 05:42:13,410 update: 630\tenv-time: 42597.699s\tpth-time: 2504.447s\tframes: 484608.0\n",
      "2020-04-13 05:42:13,412 Average window size: 50  distance_to_goal: 6.379  reward: -1.727  spl: 0.000  top_down_map.agent_angle: -1.450\n"
     ]
    },
    {
     "name": "stdout",
     "output_type": "stream",
     "text": [
      "{'distance_to_goal': 6.379145168365642, 'spl': 0.0, 'top_down_map.agent_angle': -1.44964534331133}\n",
      "{'distance_to_goal': 6.405441947605299, 'spl': 0.0, 'top_down_map.agent_angle': -1.4730861497961956}\n",
      "{'distance_to_goal': 6.470254434121622, 'spl': 0.0, 'top_down_map.agent_angle': -1.483506981102196}\n",
      "{'distance_to_goal': 6.505748521959459, 'spl': 0.0, 'top_down_map.agent_angle': -1.486511890308277}\n",
      "{'distance_to_goal': 6.44813487293956, 'spl': 0.0, 'top_down_map.agent_angle': -1.4762650374527817}\n",
      "{'distance_to_goal': 6.416941767153532, 'spl': 0.0, 'top_down_map.agent_angle': -1.4677283245584238}\n",
      "{'distance_to_goal': 6.37233985503974, 'spl': 0.0, 'top_down_map.agent_angle': -1.5108252729294618}\n",
      "{'distance_to_goal': 6.305652707122093, 'spl': 0.0, 'top_down_map.agent_angle': -1.5205970586732376}\n",
      "{'distance_to_goal': 6.37235107421875, 'spl': 0.0025585744116041398, 'top_down_map.agent_angle': -1.538800557454427}\n",
      "{'distance_to_goal': 6.277561683439266, 'spl': 0.00260194007959743, 'top_down_map.agent_angle': -1.5553476796985346}\n"
     ]
    },
    {
     "name": "stderr",
     "output_type": "stream",
     "text": [
      "2020-04-13 05:54:00,686 update: 640\tfps: 10.739\t\n",
      "2020-04-13 05:54:00,689 update: 640\tenv-time: 43264.379s\tpth-time: 2544.541s\tframes: 492288.0\n",
      "2020-04-13 05:54:00,691 Average window size: 50  distance_to_goal: 6.070  reward: -1.920  spl: 0.003  top_down_map.agent_angle: -1.539\n"
     ]
    },
    {
     "name": "stdout",
     "output_type": "stream",
     "text": [
      "{'distance_to_goal': 6.069872462107036, 'spl': 0.002757744874782905, 'top_down_map.agent_angle': -1.5392017478714446}\n",
      "{'distance_to_goal': 6.0840461455195785, 'spl': 0.002774357795715332, 'top_down_map.agent_angle': -1.5532517031014683}\n",
      "{'distance_to_goal': 6.112808766084559, 'spl': 0.0027090787887573244, 'top_down_map.agent_angle': -1.5364911247702207}\n",
      "{'distance_to_goal': 6.0573774326347305, 'spl': 0.007295761279717177, 'top_down_map.agent_angle': -1.5598221282045284}\n",
      "{'distance_to_goal': 6.160578221450617, 'spl': 0.007520939096992398, 'top_down_map.agent_angle': -1.5576503423996915}\n",
      "{'distance_to_goal': 6.0871924139132165, 'spl': 0.0077604594503998, 'top_down_map.agent_angle': -1.5352608261594347}\n",
      "{'distance_to_goal': 6.1458303740530305, 'spl': 0.007384194749774355, 'top_down_map.agent_angle': -1.5549619732481061}\n",
      "{'distance_to_goal': 6.221530821265244, 'spl': 0.007429220327516881, 'top_down_map.agent_angle': -1.5828831370283918}\n",
      "{'distance_to_goal': 6.299145657592025, 'spl': 0.007474798366336004, 'top_down_map.agent_angle': -1.577395948164302}\n",
      "{'distance_to_goal': 6.306775426572086, 'spl': 0.007474798366336004, 'top_down_map.agent_angle': -1.567316535060391}\n"
     ]
    },
    {
     "name": "stderr",
     "output_type": "stream",
     "text": [
      "2020-04-13 06:05:50,642 update: 650\tfps: 10.740\t\n",
      "2020-04-13 06:05:50,644 update: 650\tenv-time: 43933.889s\tpth-time: 2584.485s\tframes: 499968.0\n",
      "2020-04-13 06:05:50,645 Average window size: 50  distance_to_goal: 6.288  reward: -1.902  spl: 0.007  top_down_map.agent_angle: -1.542\n"
     ]
    },
    {
     "name": "stdout",
     "output_type": "stream",
     "text": [
      "{'distance_to_goal': 6.288315370858434, 'spl': 0.0073397116488721, 'top_down_map.agent_angle': -1.5422308129000377}\n",
      "{'distance_to_goal': 6.328314103143064, 'spl': 0.007042729096605599, 'top_down_map.agent_angle': -1.5444494699467124}\n",
      "{'distance_to_goal': 6.462818337552374, 'spl': 0.006806659964875802, 'top_down_map.agent_angle': -1.499163920652933}\n",
      "{'distance_to_goal': 6.462818337552374, 'spl': 0.006806659964875802, 'top_down_map.agent_angle': -1.499163920652933}\n",
      "{'distance_to_goal': 6.458470465728591, 'spl': 0.006731448252556733, 'top_down_map.agent_angle': -1.5134523507639848}\n",
      "{'distance_to_goal': 6.51513671875, 'spl': 0.006768845187293158, 'top_down_map.agent_angle': -1.545490519205729}\n",
      "{'distance_to_goal': 6.584636310954671, 'spl': 0.00669446227314708, 'top_down_map.agent_angle': -1.5171710003863323}\n",
      "{'distance_to_goal': 6.584636310954671, 'spl': 0.00669446227314708, 'top_down_map.agent_angle': -1.5171710003863323}\n",
      "{'distance_to_goal': 6.545195690176105, 'spl': 0.006731448252556733, 'top_down_map.agent_angle': -1.4697778185428176}\n",
      "{'distance_to_goal': 6.552348605835635, 'spl': 0.006731448252556733, 'top_down_map.agent_angle': -1.4737319524775552}\n"
     ]
    },
    {
     "name": "stderr",
     "output_type": "stream",
     "text": [
      "2020-04-13 06:17:46,384 update: 660\tfps: 10.740\t\n",
      "2020-04-13 06:17:46,387 update: 660\tenv-time: 44608.925s\tpth-time: 2624.632s\tframes: 507648.0\n",
      "2020-04-13 06:17:46,423 Average window size: 50  distance_to_goal: 6.538  reward: -1.786  spl: 0.007  top_down_map.agent_angle: -1.488\n"
     ]
    },
    {
     "name": "stdout",
     "output_type": "stream",
     "text": [
      "{'distance_to_goal': 6.537539974673764, 'spl': 0.00669446227314708, 'top_down_map.agent_angle': -1.4881041809752746}\n",
      "{'distance_to_goal': 6.537539974673764, 'spl': 0.00669446227314708, 'top_down_map.agent_angle': -1.4881041809752746}\n",
      "{'distance_to_goal': 6.63611328125, 'spl': 0.0069622407640729635, 'top_down_map.agent_angle': -1.4040565708705357}\n",
      "{'distance_to_goal': 6.6840936569940474, 'spl': 0.0072523341292426696, 'top_down_map.agent_angle': -1.4751637776692708}\n",
      "{'distance_to_goal': 6.689986565209537, 'spl': 0.007042729096605599, 'top_down_map.agent_angle': -1.4440124158914378}\n",
      "{'distance_to_goal': 6.68994000314296, 'spl': 0.007002253642027405, 'top_down_map.agent_angle': -1.4617014917834052}\n",
      "{'distance_to_goal': 6.774606878107244, 'spl': 0.006922682577913458, 'top_down_map.agent_angle': -1.4709243774414062}\n",
      "{'distance_to_goal': 6.814050009084302, 'spl': 0.007083675196004468, 'top_down_map.agent_angle': -1.4405180465343386}\n",
      "{'distance_to_goal': 6.875868363813921, 'spl': 0.006922682577913458, 'top_down_map.agent_angle': -1.379197207364169}\n",
      "{'distance_to_goal': 6.8735856210719275, 'spl': 0.006806659964875802, 'top_down_map.agent_angle': -1.3980654924275489}\n"
     ]
    },
    {
     "name": "stderr",
     "output_type": "stream",
     "text": [
      "2020-04-13 06:29:38,875 update: 670\tfps: 10.741\t\n",
      "2020-04-13 06:29:38,878 update: 670\tenv-time: 45281.040s\tpth-time: 2664.471s\tframes: 515328.0\n",
      "2020-04-13 06:29:38,879 Average window size: 50  distance_to_goal: 6.897  reward: -1.842  spl: 0.007  top_down_map.agent_angle: -1.404\n"
     ]
    },
    {
     "name": "stdout",
     "output_type": "stream",
     "text": [
      "{'distance_to_goal': 6.897440363851826, 'spl': 0.0068448996275998234, 'top_down_map.agent_angle': -1.4039947852659762}\n",
      "{'distance_to_goal': 6.884834591278248, 'spl': 0.006883571376908297, 'top_down_map.agent_angle': -1.4407072767699505}\n",
      "{'distance_to_goal': 6.8915490438771805, 'spl': 0.007083675196004468, 'top_down_map.agent_angle': -1.398250136264535}\n",
      "{'distance_to_goal': 6.962425148094093, 'spl': 0.00669446227314708, 'top_down_map.agent_angle': -1.4045430277730082}\n",
      "{'distance_to_goal': 7.029571205057124, 'spl': 0.006550495342541767, 'top_down_map.agent_angle': -1.374513687626008}\n",
      "{'distance_to_goal': 6.914673511402027, 'spl': 0.0065859034254744245, 'top_down_map.agent_angle': -1.3848824165962839}\n",
      "{'distance_to_goal': 6.826737721761067, 'spl': 0.0063457923630873365, 'top_down_map.agent_angle': -1.3796240488688152}\n",
      "{'distance_to_goal': 6.860201517740886, 'spl': 0.0063457923630873365, 'top_down_map.agent_angle': -1.387367566426595}\n",
      "{'distance_to_goal': 6.883636636078043, 'spl': 0.006446519225993485, 'top_down_map.agent_angle': -1.390856869006283}\n",
      "{'distance_to_goal': 6.769768965871711, 'spl': 0.007663569952312268, 'top_down_map.agent_angle': -1.3629487690172697}\n"
     ]
    },
    {
     "name": "stderr",
     "output_type": "stream",
     "text": [
      "2020-04-13 06:41:22,605 update: 680\tfps: 10.743\t\n",
      "2020-04-13 06:41:22,608 update: 680\tenv-time: 45943.466s\tpth-time: 2705.272s\tframes: 523008.0\n",
      "2020-04-13 06:41:22,608 Average window size: 50  distance_to_goal: 6.719  reward: -1.682  spl: 0.008  top_down_map.agent_angle: -1.360\n"
     ]
    },
    {
     "name": "stdout",
     "output_type": "stream",
     "text": [
      "{'distance_to_goal': 6.718843125805412, 'spl': 0.0075055582007182015, 'top_down_map.agent_angle': -1.3595747800217461}\n",
      "{'distance_to_goal': 6.667566487208549, 'spl': 0.0075444471033125965, 'top_down_map.agent_angle': -1.370329387447377}\n",
      "{'distance_to_goal': 6.67622320713141, 'spl': 0.0074670681586632365, 'top_down_map.agent_angle': -1.3588594876802884}\n",
      "{'distance_to_goal': 6.633050215871711, 'spl': 0.007663569952312268, 'top_down_map.agent_angle': -1.3437467876233553}\n",
      "{'distance_to_goal': 6.642732121394231, 'spl': 0.0074670681586632365, 'top_down_map.agent_angle': -1.3951243865184295}\n",
      "{'distance_to_goal': 6.600745849609375, 'spl': 0.007280391454696655, 'top_down_map.agent_angle': -1.4266622924804688}\n",
      "{'distance_to_goal': 6.660802080126231, 'spl': 0.007172799462755325, 'top_down_map.agent_angle': -1.4284060623845443}\n",
      "{'distance_to_goal': 6.584037936463648, 'spl': 0.005079259981914442, 'top_down_map.agent_angle': -1.4011249152981504}\n",
      "{'distance_to_goal': 6.630918891868781, 'spl': 0.004952910231120551, 'top_down_map.agent_angle': -1.3716038945895523}\n",
      "{'distance_to_goal': 6.645963461092203, 'spl': 0.004928390873540746, 'top_down_map.agent_angle': -1.3995518448329207}\n"
     ]
    },
    {
     "name": "stderr",
     "output_type": "stream",
     "text": [
      "2020-04-13 06:53:14,464 update: 690\tfps: 10.744\t\n",
      "2020-04-13 06:53:14,467 update: 690\tenv-time: 46614.828s\tpth-time: 2745.272s\tframes: 530688.0\n",
      "2020-04-13 06:53:14,468 Average window size: 50  distance_to_goal: 6.657  reward: -1.564  spl: 0.005  top_down_map.agent_angle: -1.424\n"
     ]
    },
    {
     "name": "stdout",
     "output_type": "stream",
     "text": [
      "{'distance_to_goal': 6.656972894435976, 'spl': 0.004856268080269418, 'top_down_map.agent_angle': -1.4244986185213415}\n",
      "{'distance_to_goal': 6.608586705146144, 'spl': 0.004952910231120551, 'top_down_map.agent_angle': -1.4229426597481343}\n",
      "{'distance_to_goal': 6.634964729975728, 'spl': 0.0011538162972163227, 'top_down_map.agent_angle': -1.4402234716322815}\n",
      "{'distance_to_goal': 6.558283342633929, 'spl': 0.0011318388439360118, 'top_down_map.agent_angle': -1.4311639694940477}\n",
      "{'distance_to_goal': 6.523642622716895, 'spl': 0.0010853249188427512, 'top_down_map.agent_angle': -1.501948944509846}\n",
      "{'distance_to_goal': 6.548353344614055, 'spl': 0.0010953279134864632, 'top_down_map.agent_angle': -1.5142203476022464}\n",
      "{'distance_to_goal': 6.537622294294724, 'spl': 0.0010903034735163417, 'top_down_map.agent_angle': -1.4985903118728499}\n",
      "{'distance_to_goal': 6.4681396484375, 'spl': 0.0010903034735163417, 'top_down_map.agent_angle': -1.5220051336725917}\n",
      "{'distance_to_goal': 6.450166590073529, 'spl': 0.0010755029738758483, 'top_down_map.agent_angle': -1.4789627558505374}\n",
      "{'distance_to_goal': 6.580404375700673, 'spl': 0.0010658572072940022, 'top_down_map.agent_angle': -1.4878961537450952}\n"
     ]
    },
    {
     "name": "stderr",
     "output_type": "stream",
     "text": [
      "2020-04-13 07:05:02,481 update: 700\tfps: 10.745\t\n",
      "2020-04-13 07:05:02,485 update: 700\tenv-time: 47282.185s\tpth-time: 2785.430s\tframes: 538368.0\n",
      "2020-04-13 07:05:02,485 Average window size: 50  distance_to_goal: 6.568  reward: -1.458  spl: 0.001  top_down_map.agent_angle: -1.476\n"
     ]
    },
    {
     "name": "stdout",
     "output_type": "stream",
     "text": [
      "{'distance_to_goal': 6.56815931532118, 'spl': 0.0011003988760489006, 'top_down_map.agent_angle': -1.4760939986617476}\n",
      "{'distance_to_goal': 6.584579252860915, 'spl': 0.0011158974517678992, 'top_down_map.agent_angle': -1.468563455930898}\n",
      "{'distance_to_goal': 6.609944281176986, 'spl': 0.0011106829776942172, 'top_down_map.agent_angle': -1.4781696640442465}\n",
      "{'distance_to_goal': 6.623241729019953, 'spl': 0.0011158974517678992, 'top_down_map.agent_angle': -1.4548202299735915}\n",
      "{'distance_to_goal': 6.611928547398326, 'spl': 0.0011372543407969498, 'top_down_map.agent_angle': -1.450728274988786}\n",
      "{'distance_to_goal': 6.555243210565476, 'spl': 0.0011318388439360118, 'top_down_map.agent_angle': -1.438653273809524}\n",
      "{'distance_to_goal': 6.568601201495853, 'spl': 0.0011264746787988745, 'top_down_map.agent_angle': -1.4478554386663212}\n",
      "{'distance_to_goal': 6.5789008507361775, 'spl': 0.001142721909743089, 'top_down_map.agent_angle': -1.4679321875939002}\n",
      "{'distance_to_goal': 6.653008152596393, 'spl': 0.0011825181951570273, 'top_down_map.agent_angle': -1.460399115263526}\n",
      "{'distance_to_goal': 6.66137932342233, 'spl': 0.0011538162972163227, 'top_down_map.agent_angle': -1.4600281946867415}\n"
     ]
    },
    {
     "name": "stderr",
     "output_type": "stream",
     "text": [
      "2020-04-13 07:16:51,343 update: 710\tfps: 10.746\t\n",
      "2020-04-13 07:16:51,346 update: 710\tenv-time: 47950.618s\tpth-time: 2825.293s\tframes: 546048.0\n",
      "2020-04-13 07:16:51,347 Average window size: 50  distance_to_goal: 6.634  reward: -1.500  spl: 0.001  top_down_map.agent_angle: -1.450\n"
     ]
    },
    {
     "name": "stdout",
     "output_type": "stream",
     "text": [
      "{'distance_to_goal': 6.633840707632212, 'spl': 0.001142721909743089, 'top_down_map.agent_angle': -1.4495162963867188}\n",
      "{'distance_to_goal': 6.673039729420732, 'spl': 0.0011594446693978658, 'top_down_map.agent_angle': -1.4602229420731707}\n",
      "{'distance_to_goal': 6.694215063955269, 'spl': 0.0011651282216988358, 'top_down_map.agent_angle': -1.453398162243413}\n",
      "{'distance_to_goal': 6.675622921178837, 'spl': 0.001176664144685953, 'top_down_map.agent_angle': -1.4515483591816214}\n",
      "{'distance_to_goal': 6.69096084222561, 'spl': 0.0011594446693978658, 'top_down_map.agent_angle': -1.4395358946265244}\n",
      "{'distance_to_goal': 6.681429668537621, 'spl': 0.0011538162972163227, 'top_down_map.agent_angle': -1.4442458662014563}\n",
      "{'distance_to_goal': 6.6916887555803575, 'spl': 0.0011318388439360118, 'top_down_map.agent_angle': -1.4779674711681547}\n",
      "{'distance_to_goal': 6.615816107206938, 'spl': 0.0011372543407969498, 'top_down_map.agent_angle': -1.468486877149372}\n",
      "{'distance_to_goal': 6.613398625300481, 'spl': 0.001142721909743089, 'top_down_map.agent_angle': -1.457284193772536}\n",
      "{'distance_to_goal': 6.640608326981707, 'spl': 0.0011594446693978658, 'top_down_map.agent_angle': -1.4519808141196646}\n"
     ]
    },
    {
     "name": "stderr",
     "output_type": "stream",
     "text": [
      "2020-04-13 07:28:50,005 update: 720\tfps: 10.746\t\n",
      "2020-04-13 07:28:50,009 update: 720\tenv-time: 48629.068s\tpth-time: 2865.007s\tframes: 553728.0\n",
      "2020-04-13 07:28:50,035 Average window size: 50  distance_to_goal: 6.677  reward: -1.565  spl: 0.001  top_down_map.agent_angle: -1.456\n"
     ]
    },
    {
     "name": "stdout",
     "output_type": "stream",
     "text": [
      "{'distance_to_goal': 6.676610610064338, 'spl': 0.0011651282216988358, 'top_down_map.agent_angle': -1.4563021192363663}\n",
      "{'distance_to_goal': 6.657673762394832, 'spl': 0.001142721909743089, 'top_down_map.agent_angle': -1.459093534029447}\n",
      "{'distance_to_goal': 6.572459716796875, 'spl': 0.0011884307861328126, 'top_down_map.agent_angle': -1.4346633911132813}\n",
      "{'distance_to_goal': 6.5165489783653845, 'spl': 0.0012189033703926282, 'top_down_map.agent_angle': -1.473973670372596}\n",
      "{'distance_to_goal': 6.5762820512820515, 'spl': 0.0012189033703926282, 'top_down_map.agent_angle': -1.5095484024439103}\n",
      "{'distance_to_goal': 6.5842706515704315, 'spl': 0.001206528716886104, 'top_down_map.agent_angle': -1.5135160339665292}\n",
      "{'distance_to_goal': 6.594080452967172, 'spl': 0.0012004351375078915, 'top_down_map.agent_angle': -1.4954140403053977}\n",
      "{'distance_to_goal': 6.504606039217203, 'spl': 0.001176664144685953, 'top_down_map.agent_angle': -1.4565308825804455}\n",
      "{'distance_to_goal': 6.587921925080129, 'spl': 0.0, 'top_down_map.agent_angle': -1.4923590244391025}\n",
      "{'distance_to_goal': 6.593856968830541, 'spl': 0.0, 'top_down_map.agent_angle': -1.4825961712709408}\n"
     ]
    },
    {
     "name": "stderr",
     "output_type": "stream",
     "text": [
      "2020-04-13 07:40:42,804 update: 730\tfps: 10.746\t\n",
      "2020-04-13 07:40:42,808 update: 730\tenv-time: 49301.375s\tpth-time: 2904.976s\tframes: 561408.0\n",
      "2020-04-13 07:40:42,809 Average window size: 50  distance_to_goal: 6.643  reward: -1.609  spl: 0.000  top_down_map.agent_angle: -1.492\n"
     ]
    },
    {
     "name": "stdout",
     "output_type": "stream",
     "text": [
      "{'distance_to_goal': 6.643173828125, 'spl': 0.0, 'top_down_map.agent_angle': -1.4915298461914062}\n",
      "{'distance_to_goal': 6.617997997303299, 'spl': 0.0, 'top_down_map.agent_angle': -1.49318946799651}\n",
      "{'distance_to_goal': 6.553622708462252, 'spl': 0.0, 'top_down_map.agent_angle': -1.5236302744043935}\n",
      "{'distance_to_goal': 6.555776742788462, 'spl': 0.0, 'top_down_map.agent_angle': -1.4879669971955127}\n",
      "{'distance_to_goal': 6.635267966704843, 'spl': 0.0, 'top_down_map.agent_angle': -1.4625867274419175}\n",
      "{'distance_to_goal': 6.573610968338816, 'spl': 0.0, 'top_down_map.agent_angle': -1.4727799265008223}\n",
      "{'distance_to_goal': 6.588728412828948, 'spl': 0.0, 'top_down_map.agent_angle': -1.484345124897204}\n",
      "{'distance_to_goal': 6.526634828292113, 'spl': 0.0, 'top_down_map.agent_angle': -1.5092127182904411}\n",
      "{'distance_to_goal': 6.515690015709919, 'spl': 0.0, 'top_down_map.agent_angle': -1.489866837211277}\n",
      "{'distance_to_goal': 6.534528459821429, 'spl': 0.0, 'top_down_map.agent_angle': -1.462471427498283}\n"
     ]
    },
    {
     "name": "stderr",
     "output_type": "stream",
     "text": [
      "2020-04-13 07:52:47,634 update: 740\tfps: 10.744\t\n",
      "2020-04-13 07:52:47,638 update: 740\tenv-time: 49985.516s\tpth-time: 2945.164s\tframes: 569088.0\n",
      "2020-04-13 07:52:47,640 Average window size: 50  distance_to_goal: 6.866  reward: -1.754  spl: 0.000  top_down_map.agent_angle: -1.487\n"
     ]
    },
    {
     "name": "stdout",
     "output_type": "stream",
     "text": [
      "{'distance_to_goal': 6.865965511924342, 'spl': 0.0, 'top_down_map.agent_angle': -1.4874020225123354}\n",
      "{'distance_to_goal': 6.883853379116263, 'spl': 0.0, 'top_down_map.agent_angle': -1.521514892578125}\n",
      "{'distance_to_goal': 6.97022855951545, 'spl': 0.0, 'top_down_map.agent_angle': -1.518458677141854}\n",
      "{'distance_to_goal': 7.019814453125, 'spl': 0.0, 'top_down_map.agent_angle': -1.44283447265625}\n",
      "{'distance_to_goal': 6.903282428609914, 'spl': 0.0, 'top_down_map.agent_angle': -1.4434537339484554}\n",
      "{'distance_to_goal': 6.6970970195959945, 'spl': 0.0, 'top_down_map.agent_angle': -1.4188111025984116}\n",
      "{'distance_to_goal': 6.582730937936453, 'spl': 0.0, 'top_down_map.agent_angle': -1.3865803127182263}\n",
      "{'distance_to_goal': 6.59667275168679, 'spl': 0.0, 'top_down_map.agent_angle': -1.4354761297052556}\n",
      "{'distance_to_goal': 6.455035041360294, 'spl': 0.0, 'top_down_map.agent_angle': -1.4365485696231617}\n",
      "{'distance_to_goal': 6.431548549107143, 'spl': 0.0, 'top_down_map.agent_angle': -1.4424155970982142}\n"
     ]
    },
    {
     "name": "stderr",
     "output_type": "stream",
     "text": [
      "2020-04-13 08:04:34,199 update: 750\tfps: 10.746\t\n",
      "2020-04-13 08:04:34,204 update: 750\tenv-time: 50651.471s\tpth-time: 2985.272s\tframes: 576768.0\n",
      "2020-04-13 08:04:34,205 Average window size: 50  distance_to_goal: 6.320  reward: -1.842  spl: 0.000  top_down_map.agent_angle: -1.490\n"
     ]
    },
    {
     "name": "stdout",
     "output_type": "stream",
     "text": [
      "{'distance_to_goal': 6.320243158284024, 'spl': 0.0, 'top_down_map.agent_angle': -1.4903755865153476}\n",
      "{'distance_to_goal': 6.262767543454142, 'spl': 0.0, 'top_down_map.agent_angle': -1.480486085428994}\n",
      "{'distance_to_goal': 6.1179726340553975, 'spl': 0.0, 'top_down_map.agent_angle': -1.5337299000133167}\n",
      "{'distance_to_goal': 6.076578328897665, 'spl': 0.0, 'top_down_map.agent_angle': -1.5551234654017858}\n",
      "{'distance_to_goal': 6.069946978725283, 'spl': 0.0, 'top_down_map.agent_angle': -1.6033463127868997}\n",
      "{'distance_to_goal': 6.030433439265536, 'spl': 0.0, 'top_down_map.agent_angle': -1.581802626787606}\n",
      "{'distance_to_goal': 6.051298173446229, 'spl': 0.0, 'top_down_map.agent_angle': -1.585284526121683}\n",
      "{'distance_to_goal': 6.194421192956349, 'spl': 0.0, 'top_down_map.agent_angle': -1.6001302729208002}\n",
      "{'distance_to_goal': 6.342398325602214, 'spl': 0.0, 'top_down_map.agent_angle': -1.596785545349121}\n",
      "{'distance_to_goal': 6.369188168174342, 'spl': 0.0, 'top_down_map.agent_angle': -1.6097328587582236}\n"
     ]
    },
    {
     "name": "stderr",
     "output_type": "stream",
     "text": [
      "2020-04-13 08:16:21,925 update: 760\tfps: 10.747\t\n",
      "2020-04-13 08:16:21,929 update: 760\tenv-time: 51318.757s\tpth-time: 3025.139s\tframes: 584448.0\n",
      "2020-04-13 08:16:21,931 Average window size: 50  distance_to_goal: 6.326  reward: -1.654  spl: 0.000  top_down_map.agent_angle: -1.631\n"
     ]
    },
    {
     "name": "stdout",
     "output_type": "stream",
     "text": [
      "{'distance_to_goal': 6.32598298725329, 'spl': 0.0, 'top_down_map.agent_angle': -1.6312165912828946}\n",
      "{'distance_to_goal': 6.350789388020833, 'spl': 0.0, 'top_down_map.agent_angle': -1.6330095926920574}\n",
      "{'distance_to_goal': 6.418124229029606, 'spl': 0.0, 'top_down_map.agent_angle': -1.6510286030016448}\n",
      "{'distance_to_goal': 6.405939275568182, 'spl': 0.0, 'top_down_map.agent_angle': -1.6383709423044786}\n",
      "{'distance_to_goal': 6.6142373609293195, 'spl': 0.0, 'top_down_map.agent_angle': -1.6405368026014397}\n",
      "{'distance_to_goal': 6.645462601273148, 'spl': 0.0, 'top_down_map.agent_angle': -1.6448457909639551}\n",
      "{'distance_to_goal': 6.67664483252992, 'spl': 0.0, 'top_down_map.agent_angle': -1.6740339563248006}\n",
      "{'distance_to_goal': 6.689706404578877, 'spl': 0.0, 'top_down_map.agent_angle': -1.6729445839948196}\n",
      "{'distance_to_goal': 6.609041045984456, 'spl': 0.0, 'top_down_map.agent_angle': -1.6708778816183614}\n",
      "{'distance_to_goal': 6.549815021494709, 'spl': 0.0, 'top_down_map.agent_angle': -1.6630355592757937}\n"
     ]
    },
    {
     "name": "stderr",
     "output_type": "stream",
     "text": [
      "2020-04-13 08:28:15,336 update: 770\tfps: 10.747\t\n",
      "2020-04-13 08:28:15,340 update: 770\tenv-time: 51991.835s\tpth-time: 3064.974s\tframes: 592128.0\n",
      "2020-04-13 08:28:15,341 Average window size: 50  distance_to_goal: 6.534  reward: -1.672  spl: 0.000  top_down_map.agent_angle: -1.674\n"
     ]
    },
    {
     "name": "stdout",
     "output_type": "stream",
     "text": [
      "{'distance_to_goal': 6.5342306045287435, 'spl': 0.0, 'top_down_map.agent_angle': -1.6737047491226604}\n",
      "{'distance_to_goal': 6.62350788522274, 'spl': 0.0, 'top_down_map.agent_angle': -1.6899427048703457}\n",
      "{'distance_to_goal': 6.596201685855263, 'spl': 0.0, 'top_down_map.agent_angle': -1.6853836862664473}\n",
      "{'distance_to_goal': 6.52628797165891, 'spl': 0.0, 'top_down_map.agent_angle': -1.684628425760472}\n",
      "{'distance_to_goal': 6.634070970735498, 'spl': 0.0, 'top_down_map.agent_angle': -1.7563732842714088}\n",
      "{'distance_to_goal': 6.642194112141927, 'spl': 0.0, 'top_down_map.agent_angle': -1.7189340591430664}\n",
      "{'distance_to_goal': 6.736078762115642, 'spl': 0.0, 'top_down_map.agent_angle': -1.751849985377674}\n",
      "{'distance_to_goal': 6.79544392037899, 'spl': 0.0, 'top_down_map.agent_angle': -1.7561427988904588}\n",
      "{'distance_to_goal': 6.792897703786376, 'spl': 0.0, 'top_down_map.agent_angle': -1.7406593605324074}\n",
      "{'distance_to_goal': 6.710527973790323, 'spl': 0.0006341113839098202, 'top_down_map.agent_angle': -1.6820550733996975}\n"
     ]
    },
    {
     "name": "stderr",
     "output_type": "stream",
     "text": [
      "2020-04-13 08:40:04,319 update: 780\tfps: 10.748\t\n",
      "2020-04-13 08:40:04,322 update: 780\tenv-time: 52660.243s\tpth-time: 3105.047s\tframes: 599808.0\n",
      "2020-04-13 08:40:04,323 Average window size: 50  distance_to_goal: 6.702  reward: -1.694  spl: 0.001  top_down_map.agent_angle: -1.698\n"
     ]
    },
    {
     "name": "stdout",
     "output_type": "stream",
     "text": [
      "{'distance_to_goal': 6.702149750084005, 'spl': 0.0006341113839098202, 'top_down_map.agent_angle': -1.6981224142095095}\n",
      "{'distance_to_goal': 6.836337362753379, 'spl': 0.0006375390130120355, 'top_down_map.agent_angle': -1.6851796743032095}\n",
      "{'distance_to_goal': 6.838516318732924, 'spl': 0.0006445066524985058, 'top_down_map.agent_angle': -1.6944703482539276}\n",
      "{'distance_to_goal': 6.874260943868886, 'spl': 0.0006410038989523183, 'top_down_map.agent_angle': -1.6843102496603262}\n",
      "{'distance_to_goal': 6.8716994322062845, 'spl': 0.0006445066524985058, 'top_down_map.agent_angle': -1.6318572831284153}\n",
      "{'distance_to_goal': 6.871816983786962, 'spl': 0.0006341113839098202, 'top_down_map.agent_angle': -1.645577379452285}\n",
      "{'distance_to_goal': 6.945816790471311, 'spl': 0.0006445066524985058, 'top_down_map.agent_angle': -1.6378447318989071}\n",
      "{'distance_to_goal': 7.111953176128926, 'spl': 0.0006175116094619191, 'top_down_map.agent_angle': -1.6590668843054646}\n",
      "{'distance_to_goal': 7.068705773478404, 'spl': 0.0006175116094619191, 'top_down_map.agent_angle': -1.6801904808164267}\n",
      "{'distance_to_goal': 6.807469185152202, 'spl': 0.0006111125254260444, 'top_down_map.agent_angle': -1.6701843577963082}\n"
     ]
    },
    {
     "name": "stderr",
     "output_type": "stream",
     "text": [
      "2020-04-13 08:52:10,823 update: 790\tfps: 10.746\t\n",
      "2020-04-13 08:52:10,827 update: 790\tenv-time: 53346.001s\tpth-time: 3145.277s\tframes: 607488.0\n",
      "2020-04-13 08:52:10,828 Average window size: 50  distance_to_goal: 6.859  reward: -1.599  spl: 0.001  top_down_map.agent_angle: -1.604\n"
     ]
    },
    {
     "name": "stdout",
     "output_type": "stream",
     "text": [
      "{'distance_to_goal': 6.859246504934211, 'spl': 0.0006207616705643503, 'top_down_map.agent_angle': -1.6044041683799342}\n",
      "{'distance_to_goal': 6.88476814191366, 'spl': 0.0006079624608619926, 'top_down_map.agent_angle': -1.5698352302472616}\n",
      "{'distance_to_goal': 6.86527819511218, 'spl': 0.0038935053042876413, 'top_down_map.agent_angle': -1.5484838241185896}\n",
      "{'distance_to_goal': 6.9600732421875, 'spl': 0.0037961676716804504, 'top_down_map.agent_angle': -1.516661376953125}\n",
      "{'distance_to_goal': 7.092728699689136, 'spl': 0.003975044682387906, 'top_down_map.agent_angle': -1.5360947853607656}\n",
      "{'distance_to_goal': 7.109886289267016, 'spl': 0.003975044682387906, 'top_down_map.agent_angle': -1.552201355939136}\n",
      "{'distance_to_goal': 7.080767759342783, 'spl': 0.003913574919258196, 'top_down_map.agent_angle': -1.5952994749718106}\n",
      "{'distance_to_goal': 7.079048808495603, 'spl': 0.003815243891136131, 'top_down_map.agent_angle': -1.6050976317132537}\n",
      "{'distance_to_goal': 7.1293186326101035, 'spl': 0.00393385250951342, 'top_down_map.agent_angle': -1.6184682895482514}\n",
      "{'distance_to_goal': 7.169591786910076, 'spl': 0.003873640481306582, 'top_down_map.agent_angle': -1.6054235964405292}\n"
     ]
    },
    {
     "name": "stderr",
     "output_type": "stream",
     "text": [
      "2020-04-13 09:04:20,129 update: 800\tfps: 10.743\t\n",
      "2020-04-13 09:04:20,134 update: 800\tenv-time: 54034.770s\tpth-time: 3185.313s\tframes: 615168.0\n",
      "2020-04-13 09:04:20,135 Average window size: 50  distance_to_goal: 7.180  reward: -1.605  spl: 0.004  top_down_map.agent_angle: -1.592\n"
     ]
    },
    {
     "name": "stdout",
     "output_type": "stream",
     "text": [
      "{'distance_to_goal': 7.179549236686862, 'spl': 0.003873640481306582, 'top_down_map.agent_angle': -1.5921964061503509}\n",
      "{'distance_to_goal': 7.365450097139551, 'spl': 0.0040171086472809, 'top_down_map.agent_angle': -1.5831285910631614}\n",
      "{'distance_to_goal': 7.44381352906586, 'spl': 0.004081900722237044, 'top_down_map.agent_angle': -1.5616753690986223}\n",
      "{'distance_to_goal': 7.422128135279605, 'spl': 0.003995965970189948, 'top_down_map.agent_angle': -1.5548548648231908}\n",
      "{'distance_to_goal': 7.448806681960979, 'spl': 0.0040171086472809, 'top_down_map.agent_angle': -1.5653722046544312}\n",
      "{'distance_to_goal': 7.567699675864362, 'spl': 0.004038476246468564, 'top_down_map.agent_angle': -1.563072366917387}\n",
      "{'distance_to_goal': 7.455126683356354, 'spl': 0.004194660410696631, 'top_down_map.agent_angle': -1.5818076792342888}\n",
      "{'distance_to_goal': 7.35504150390625, 'spl': 0.004313826899636875, 'top_down_map.agent_angle': -1.5780299793590198}\n",
      "{'distance_to_goal': 7.35504150390625, 'spl': 0.004313826899636875, 'top_down_map.agent_angle': -1.5780299793590198}\n",
      "{'distance_to_goal': 7.406954520089286, 'spl': 0.004338477339063372, 'top_down_map.agent_angle': -1.5918153599330358}\n"
     ]
    },
    {
     "name": "stderr",
     "output_type": "stream",
     "text": [
      "2020-04-13 09:16:44,125 update: 810\tfps: 10.738\t\n",
      "2020-04-13 09:16:44,128 update: 810\tenv-time: 54737.736s\tpth-time: 3225.771s\tframes: 622848.0\n",
      "2020-04-13 09:16:44,133 Average window size: 50  distance_to_goal: 7.334  reward: -1.876  spl: 0.004  top_down_map.agent_angle: -1.565\n"
     ]
    },
    {
     "name": "stdout",
     "output_type": "stream",
     "text": [
      "{'distance_to_goal': 7.334265548191714, 'spl': 0.004265356934472417, 'top_down_map.agent_angle': -1.5650062132417486}\n",
      "{'distance_to_goal': 7.175154801253434, 'spl': 0.004171612826022473, 'top_down_map.agent_angle': -1.5316463931576236}\n",
      "{'distance_to_goal': 7.056087679476351, 'spl': 0.004103965050465352, 'top_down_map.agent_angle': -1.5586488466005068}\n",
      "{'distance_to_goal': 6.743788576916437, 'spl': 0.004194660410696631, 'top_down_map.agent_angle': -1.5823489025811464}\n",
      "{'distance_to_goal': 6.706481262877747, 'spl': 0.004171612826022473, 'top_down_map.agent_angle': -1.590301513671875}\n",
      "{'distance_to_goal': 6.721068009086277, 'spl': 0.004126269208348315, 'top_down_map.agent_angle': -1.5884190434994905}\n",
      "{'distance_to_goal': 6.647165398848684, 'spl': 0.0047547795270618635, 'top_down_map.agent_angle': -1.5675951505962171}\n",
      "{'distance_to_goal': 6.699489142305108, 'spl': 0.004857032850224484, 'top_down_map.agent_angle': -1.5477882303217405}\n",
      "{'distance_to_goal': 6.668403787815825, 'spl': 0.004805362287988054, 'top_down_map.agent_angle': -1.5622240431765293}\n",
      "{'distance_to_goal': 6.673675042229729, 'spl': 0.00488328708184732, 'top_down_map.agent_angle': -1.5538455447635136}\n"
     ]
    },
    {
     "name": "stderr",
     "output_type": "stream",
     "text": [
      "2020-04-13 09:28:35,414 update: 820\tfps: 10.739\t\n",
      "2020-04-13 09:28:35,416 update: 820\tenv-time: 55408.397s\tpth-time: 3265.890s\tframes: 630528.0\n",
      "2020-04-13 09:28:35,417 Average window size: 50  distance_to_goal: 6.545  reward: -1.608  spl: 0.005  top_down_map.agent_angle: -1.589\n"
     ]
    },
    {
     "name": "stdout",
     "output_type": "stream",
     "text": [
      "{'distance_to_goal': 6.5447022776124335, 'spl': 0.004779937090697112, 'top_down_map.agent_angle': -1.5893050905257937}\n",
      "{'distance_to_goal': 6.549494079270288, 'spl': 0.004729885393412326, 'top_down_map.agent_angle': -1.5827291598494764}\n",
      "{'distance_to_goal': 6.569008738724227, 'spl': 0.004656742835782238, 'top_down_map.agent_angle': -1.5859277469595683}\n",
      "{'distance_to_goal': 6.560323802347716, 'spl': 0.004585827970262711, 'top_down_map.agent_angle': -1.5760432984018085}\n",
      "{'distance_to_goal': 6.5252698533078455, 'spl': 0.0059465499634438375, 'top_down_map.agent_angle': -1.6396636962890625}\n",
      "{'distance_to_goal': 6.523292582302807, 'spl': 0.005978349695868671, 'top_down_map.agent_angle': -1.6512647006600936}\n",
      "{'distance_to_goal': 6.54425957862367, 'spl': 0.0059465499634438375, 'top_down_map.agent_angle': -1.6270274710147938}\n",
      "{'distance_to_goal': 6.5483213682432435, 'spl': 0.006042980503391575, 'top_down_map.agent_angle': -1.6433643237964528}\n",
      "{'distance_to_goal': 6.629349079537899, 'spl': 0.005319184445320291, 'top_down_map.agent_angle': -1.715540459815492}\n",
      "{'distance_to_goal': 6.631773270387701, 'spl': 0.005347629281926282, 'top_down_map.agent_angle': -1.7121526544744319}\n"
     ]
    },
    {
     "name": "stderr",
     "output_type": "stream",
     "text": [
      "2020-04-13 09:40:44,967 update: 830\tfps: 10.736\t\n",
      "2020-04-13 09:40:44,971 update: 830\tenv-time: 56097.216s\tpth-time: 3306.129s\tframes: 638208.0\n",
      "2020-04-13 09:40:44,971 Average window size: 50  distance_to_goal: 6.649  reward: -1.535  spl: 0.005  top_down_map.agent_angle: -1.722\n"
     ]
    },
    {
     "name": "stdout",
     "output_type": "stream",
     "text": [
      "{'distance_to_goal': 6.648745551783377, 'spl': 0.005235637045655575, 'top_down_map.agent_angle': -1.7217995209219568}\n",
      "{'distance_to_goal': 6.6504058047279795, 'spl': 0.005181381739482979, 'top_down_map.agent_angle': -1.7117325382529145}\n",
      "{'distance_to_goal': 6.590870425575658, 'spl': 0.005263193030106394, 'top_down_map.agent_angle': -1.723200747841283}\n",
      "{'distance_to_goal': 6.616312771557487, 'spl': 0.005347629281926282, 'top_down_map.agent_angle': -1.749167049632353}\n",
      "{'distance_to_goal': 6.679972330729167, 'spl': 0.005050538766263712, 'top_down_map.agent_angle': -1.72520462190262}\n",
      "{'distance_to_goal': 6.678902587890625, 'spl': 0.005000033378601074, 'top_down_map.agent_angle': -1.7378765869140624}\n",
      "{'distance_to_goal': 6.502510070800781, 'spl': 0.005208368102709453, 'top_down_map.agent_angle': -1.720932960510254}\n",
      "{'distance_to_goal': 6.516909281412761, 'spl': 0.005208368102709453, 'top_down_map.agent_angle': -1.7185277938842773}\n",
      "{'distance_to_goal': 6.482691055689102, 'spl': 0.005128239362667769, 'top_down_map.agent_angle': -1.6866414388020834}\n",
      "{'distance_to_goal': 6.471369529257015, 'spl': 0.005102074876123545, 'top_down_map.agent_angle': -1.7150919388751595}\n"
     ]
    },
    {
     "name": "stderr",
     "output_type": "stream",
     "text": [
      "2020-04-13 09:52:56,636 update: 840\tfps: 10.733\t\n",
      "2020-04-13 09:52:56,639 update: 840\tenv-time: 56788.223s\tpth-time: 3346.290s\tframes: 645888.0\n",
      "2020-04-13 09:52:56,640 Average window size: 50  distance_to_goal: 6.438  reward: -1.548  spl: 0.005  top_down_map.agent_angle: -1.752\n"
     ]
    },
    {
     "name": "stdout",
     "output_type": "stream",
     "text": [
      "{'distance_to_goal': 6.437501271565755, 'spl': 0.005208368102709453, 'top_down_map.agent_angle': -1.7523269653320312}\n",
      "{'distance_to_goal': 6.463313277049731, 'spl': 0.0019285909591182585, 'top_down_map.agent_angle': -1.7772249611475135}\n",
      "{'distance_to_goal': 6.438369834357924, 'spl': 0.0019602072043497054, 'top_down_map.agent_angle': -1.7925298305157105}\n",
      "{'distance_to_goal': 6.481163817025274, 'spl': 0.0019602072043497054, 'top_down_map.agent_angle': -1.7875026014984632}\n",
      "{'distance_to_goal': 6.5130041976001385, 'spl': 0.001981866952464067, 'top_down_map.agent_angle': -1.7857568224490676}\n",
      "{'distance_to_goal': 6.546726869733146, 'spl': 0.0020152692044718883, 'top_down_map.agent_angle': -1.7278939579310042}\n",
      "{'distance_to_goal': 6.807156032986111, 'spl': 0.0018979784042116195, 'top_down_map.agent_angle': -1.7263609871031746}\n",
      "{'distance_to_goal': 6.787588661595395, 'spl': 0.0018879890441894532, 'top_down_map.agent_angle': -1.7060543662623355}\n",
      "{'distance_to_goal': 6.730225854990434, 'spl': 0.0018301934612040616, 'top_down_map.agent_angle': -1.7162185980349172}\n",
      "{'distance_to_goal': 6.750139508928571, 'spl': 0.0018301934612040616, 'top_down_map.agent_angle': -1.7127330546476403}\n"
     ]
    },
    {
     "name": "stderr",
     "output_type": "stream",
     "text": [
      "2020-04-13 10:05:07,736 update: 850\tfps: 10.730\t\n",
      "2020-04-13 10:05:07,738 update: 850\tenv-time: 57478.278s\tpth-time: 3386.830s\tframes: 653568.0\n",
      "2020-04-13 10:05:07,739 Average window size: 50  distance_to_goal: 6.680  reward: -1.622  spl: 0.002  top_down_map.agent_angle: -1.705\n"
     ]
    },
    {
     "name": "stdout",
     "output_type": "stream",
     "text": [
      "{'distance_to_goal': 6.680460818527918, 'spl': 0.00182090313906597, 'top_down_map.agent_angle': -1.705065422251745}\n",
      "{'distance_to_goal': 6.6658935546875, 'spl': 0.0018490614350309077, 'top_down_map.agent_angle': -1.6949790089400774}\n",
      "{'distance_to_goal': 6.699811131821066, 'spl': 0.00182090313906597, 'top_down_map.agent_angle': -1.6573783758328047}\n",
      "{'distance_to_goal': 6.703749319807214, 'spl': 0.0017846662606765976, 'top_down_map.agent_angle': -1.6343195521416356}\n",
      "{'distance_to_goal': 6.569473876953125, 'spl': 0.0017935895919799804, 'top_down_map.agent_angle': -1.59973388671875}\n",
      "{'distance_to_goal': 6.66841714689047, 'spl': 0.0017758312791880996, 'top_down_map.agent_angle': -1.5980789637801671}\n",
      "{'distance_to_goal': 6.734017085103155, 'spl': 0.0017413491184271655, 'top_down_map.agent_angle': -1.6074310599021542}\n",
      "{'distance_to_goal': 6.734017085103155, 'spl': 0.0017413491184271655, 'top_down_map.agent_angle': -1.6074310599021542}\n",
      "{'distance_to_goal': 6.700672769781404, 'spl': 0.0017670833418521976, 'top_down_map.agent_angle': -1.6000627790178572}\n",
      "{'distance_to_goal': 6.720800045147613, 'spl': 0.0018026026050050054, 'top_down_map.agent_angle': -1.6344420466590766}\n"
     ]
    },
    {
     "name": "stderr",
     "output_type": "stream",
     "text": [
      "2020-04-13 10:17:21,217 update: 860\tfps: 10.727\t\n",
      "2020-04-13 10:17:21,219 update: 860\tenv-time: 58171.206s\tpth-time: 3426.837s\tframes: 661248.0\n",
      "2020-04-13 10:17:21,247 Average window size: 50  distance_to_goal: 6.827  reward: -1.584  spl: 0.002  top_down_map.agent_angle: -1.652\n"
     ]
    },
    {
     "name": "stdout",
     "output_type": "stream",
     "text": [
      "{'distance_to_goal': 6.826584388469827, 'spl': 0.0017670833418521976, 'top_down_map.agent_angle': -1.6523422466710282}\n",
      "{'distance_to_goal': 6.90921957185953, 'spl': 0.0017758312791880996, 'top_down_map.agent_angle': -1.6716647006497525}\n",
      "{'distance_to_goal': 7.006634736180905, 'spl': 0.0018026026050050054, 'top_down_map.agent_angle': -1.668818028128926}\n",
      "{'distance_to_goal': 7.045335319173995, 'spl': 0.0018026026050050054, 'top_down_map.agent_angle': -1.6426842464274498}\n",
      "{'distance_to_goal': 6.953686891488694, 'spl': 0.005598476184672446, 'top_down_map.agent_angle': -1.6622887999568152}\n",
      "{'distance_to_goal': 6.999662438217475, 'spl': 0.006587231645778734, 'top_down_map.agent_angle': -1.6763190444634886}\n",
      "{'distance_to_goal': 7.010211338141025, 'spl': 0.006621012320885291, 'top_down_map.agent_angle': -1.709168732471955}\n",
      "{'distance_to_goal': 7.080111014410622, 'spl': 0.00668962384752659, 'top_down_map.agent_angle': -1.7076820808371114}\n",
      "{'distance_to_goal': 7.092361138791454, 'spl': 0.006587231645778734, 'top_down_map.agent_angle': -1.6920941411232462}\n",
      "{'distance_to_goal': 7.158940479008838, 'spl': 0.00652069395238703, 'top_down_map.agent_angle': -1.6087057710898043}\n"
     ]
    },
    {
     "name": "stderr",
     "output_type": "stream",
     "text": [
      "2020-04-13 10:29:23,497 update: 870\tfps: 10.726\t\n",
      "2020-04-13 10:29:23,501 update: 870\tenv-time: 58852.768s\tpth-time: 3467.024s\tframes: 668928.0\n",
      "2020-04-13 10:29:23,501 Average window size: 50  distance_to_goal: 7.178  reward: -1.559  spl: 0.007  top_down_map.agent_angle: -1.621\n"
     ]
    },
    {
     "name": "stdout",
     "output_type": "stream",
     "text": [
      "{'distance_to_goal': 7.178481820913461, 'spl': 0.006621012320885291, 'top_down_map.agent_angle': -1.6208499223758013}\n",
      "{'distance_to_goal': 7.284157035277062, 'spl': 0.006655141250374391, 'top_down_map.agent_angle': -1.6113319003704898}\n",
      "{'distance_to_goal': 7.289231320644947, 'spl': 0.00686753937538634, 'top_down_map.agent_angle': -1.580477775411403}\n",
      "{'distance_to_goal': 7.286344659391534, 'spl': 0.005696053227419576, 'top_down_map.agent_angle': -1.5487244621155754}\n",
      "{'distance_to_goal': 7.288461049397786, 'spl': 0.005607052395741145, 'top_down_map.agent_angle': -1.5628007253011067}\n",
      "{'distance_to_goal': 7.273478403141361, 'spl': 0.0056364086910068055, 'top_down_map.agent_angle': -1.5723937668725458}\n",
      "{'distance_to_goal': 7.285134520206152, 'spl': 0.0056364086910068055, 'top_down_map.agent_angle': -1.556227758916885}\n",
      "{'distance_to_goal': 7.219751501596102, 'spl': 0.005787925053668278, 'top_down_map.agent_angle': -1.540599864016297}\n",
      "{'distance_to_goal': 7.239727216897552, 'spl': 0.005549247731867525, 'top_down_map.agent_angle': -1.5777364514537693}\n",
      "{'distance_to_goal': 7.108540852864583, 'spl': 0.005607052395741145, 'top_down_map.agent_angle': -1.5420808792114258}\n"
     ]
    },
    {
     "name": "stderr",
     "output_type": "stream",
     "text": [
      "2020-04-13 10:41:28,041 update: 880\tfps: 10.725\t\n",
      "2020-04-13 10:41:28,043 update: 880\tenv-time: 59536.693s\tpth-time: 3507.149s\tframes: 676608.0\n",
      "2020-04-13 10:41:28,045 Average window size: 50  distance_to_goal: 7.089  reward: -1.607  spl: 0.006  top_down_map.agent_angle: -1.540\n"
     ]
    },
    {
     "name": "stdout",
     "output_type": "stream",
     "text": [
      "{'distance_to_goal': 7.088743199852749, 'spl': 0.0056364086910068055, 'top_down_map.agent_angle': -1.5401953252822316}\n",
      "{'distance_to_goal': 7.082611874595207, 'spl': 0.005578000310789118, 'top_down_map.agent_angle': -1.5323366155278497}\n",
      "{'distance_to_goal': 7.082611874595207, 'spl': 0.005578000310789118, 'top_down_map.agent_angle': -1.5323366155278497}\n",
      "{'distance_to_goal': 7.058555061048497, 'spl': 0.005882809070941529, 'top_down_map.agent_angle': -1.501924108286373}\n",
      "{'distance_to_goal': 7.013920017930328, 'spl': 0.005882809070941529, 'top_down_map.agent_angle': -1.4903397690403006}\n",
      "{'distance_to_goal': 7.071841032608695, 'spl': 0.005850837282512499, 'top_down_map.agent_angle': -1.5006899626358696}\n",
      "{'distance_to_goal': 7.092277107657967, 'spl': 0.005915132197704944, 'top_down_map.agent_angle': -1.4903309581043955}\n",
      "{'distance_to_goal': 7.069489397321429, 'spl': 0.006151737485613142, 'top_down_map.agent_angle': -1.5261910574776785}\n",
      "{'distance_to_goal': 6.998363709181882, 'spl': 0.006048056516754493, 'top_down_map.agent_angle': -1.4973154818074088}\n",
      "{'distance_to_goal': 6.9551536602209945, 'spl': 0.005947812486090054, 'top_down_map.agent_angle': -1.4909418432752073}\n"
     ]
    },
    {
     "name": "stderr",
     "output_type": "stream",
     "text": [
      "2020-04-13 10:53:24,086 update: 890\tfps: 10.725\t\n",
      "2020-04-13 10:53:24,088 update: 890\tenv-time: 60211.943s\tpth-time: 3547.435s\tframes: 684288.0\n",
      "2020-04-13 10:53:24,089 Average window size: 50  distance_to_goal: 6.947  reward: -1.651  spl: 0.006  top_down_map.agent_angle: -1.487\n"
     ]
    },
    {
     "name": "stdout",
     "output_type": "stream",
     "text": [
      "{'distance_to_goal': 6.946763780381945, 'spl': 0.005980855888790554, 'top_down_map.agent_angle': -1.487468465169271}\n",
      "{'distance_to_goal': 6.930925641741071, 'spl': 0.005915132197704944, 'top_down_map.agent_angle': -1.518508072737809}\n",
      "{'distance_to_goal': 6.924568684895833, 'spl': 0.005980855888790554, 'top_down_map.agent_angle': -1.5286180284288196}\n",
      "{'distance_to_goal': 6.906920716002747, 'spl': 0.005915132197704944, 'top_down_map.agent_angle': -1.5053653926639767}\n",
      "{'distance_to_goal': 6.956325365149456, 'spl': 0.005850837282512499, 'top_down_map.agent_angle': -1.5318991619607676}\n",
      "{'distance_to_goal': 6.754920054290254, 'spl': 0.006082226327583614, 'top_down_map.agent_angle': -1.5484339827198093}\n",
      "{'distance_to_goal': 6.759538130326704, 'spl': 0.006116784431717612, 'top_down_map.agent_angle': -1.5415403192693538}\n",
      "{'distance_to_goal': 6.767444699309593, 'spl': 0.006259035232455232, 'top_down_map.agent_angle': -1.490640684615734}\n",
      "{'distance_to_goal': 6.775487439385776, 'spl': 0.006187092298748849, 'top_down_map.agent_angle': -1.5314039909976653}\n",
      "{'distance_to_goal': 6.848203842249294, 'spl': 0.006082226327583614, 'top_down_map.agent_angle': -1.5594378972457628}\n"
     ]
    },
    {
     "name": "stderr",
     "output_type": "stream",
     "text": [
      "2020-04-13 11:05:24,466 update: 900\tfps: 10.724\t\n",
      "2020-04-13 11:05:24,469 update: 900\tenv-time: 60891.352s\tpth-time: 3587.892s\tframes: 691968.0\n",
      "2020-04-13 11:05:24,469 Average window size: 50  distance_to_goal: 6.883  reward: -1.532  spl: 0.006  top_down_map.agent_angle: -1.586\n"
     ]
    },
    {
     "name": "stdout",
     "output_type": "stream",
     "text": [
      "{'distance_to_goal': 6.883380782132768, 'spl': 0.006082226327583614, 'top_down_map.agent_angle': -1.5863450907044492}\n",
      "{'distance_to_goal': 6.956904970366379, 'spl': 0.006187092298748849, 'top_down_map.agent_angle': -1.5963054086970188}\n",
      "{'distance_to_goal': 6.936668218568314, 'spl': 0.006259035232455232, 'top_down_map.agent_angle': -1.6369625357694404}\n",
      "{'distance_to_goal': 7.072515410494942, 'spl': 0.006222855838047976, 'top_down_map.agent_angle': -1.6659806973672326}\n",
      "{'distance_to_goal': 6.965691226652299, 'spl': 0.006187092298748849, 'top_down_map.agent_angle': -1.6233425798087284}\n",
      "{'distance_to_goal': 6.9040922062125745, 'spl': 0.0064464314968999984, 'top_down_map.agent_angle': -1.618103758303705}\n"
     ]
    },
    {
     "ename": "KeyboardInterrupt",
     "evalue": "",
     "output_type": "error",
     "traceback": [
      "\u001b[0;31m---------------------------------------------------------------------------\u001b[0m",
      "\u001b[0;31mKeyboardInterrupt\u001b[0m                         Traceback (most recent call last)",
      "\u001b[0;32m<ipython-input-16-3435b262f1ae>\u001b[0m in \u001b[0;36m<module>\u001b[0;34m\u001b[0m\n\u001b[0;32m----> 1\u001b[0;31m \u001b[0mtrainer\u001b[0m\u001b[0;34m.\u001b[0m\u001b[0mtrain\u001b[0m\u001b[0;34m(\u001b[0m\u001b[0;34m)\u001b[0m\u001b[0;34m\u001b[0m\u001b[0;34m\u001b[0m\u001b[0m\n\u001b[0m",
      "\u001b[0;32m~/DDPPO/ddpotrainer.py\u001b[0m in \u001b[0;36mtrain\u001b[0;34m(self)\u001b[0m\n\u001b[1;32m    294\u001b[0m                 \u001b[0;32mfor\u001b[0m \u001b[0mstep\u001b[0m \u001b[0;32min\u001b[0m \u001b[0mrange\u001b[0m\u001b[0;34m(\u001b[0m\u001b[0mppo_cfg\u001b[0m\u001b[0;34m.\u001b[0m\u001b[0mnum_steps\u001b[0m\u001b[0;34m)\u001b[0m\u001b[0;34m:\u001b[0m\u001b[0;34m\u001b[0m\u001b[0;34m\u001b[0m\u001b[0m\n\u001b[1;32m    295\u001b[0m                     \u001b[0;31m#print('!!!!!!!!!!!!!!!!!STEP: ', step, ppo_cfg.num_steps)\u001b[0m\u001b[0;34m\u001b[0m\u001b[0;34m\u001b[0m\u001b[0;34m\u001b[0m\u001b[0m\n\u001b[0;32m--> 296\u001b[0;31m                     \u001b[0;34m(\u001b[0m\u001b[0mdelta_pth_time\u001b[0m\u001b[0;34m,\u001b[0m\u001b[0mdelta_env_time\u001b[0m\u001b[0;34m,\u001b[0m\u001b[0mdelta_steps\u001b[0m\u001b[0;34m)\u001b[0m \u001b[0;34m=\u001b[0m \u001b[0mself\u001b[0m\u001b[0;34m.\u001b[0m\u001b[0m_collect_rollout_step\u001b[0m\u001b[0;34m(\u001b[0m\u001b[0mrollouts\u001b[0m\u001b[0;34m,\u001b[0m \u001b[0mcurrent_episode_reward\u001b[0m\u001b[0;34m,\u001b[0m \u001b[0mrunning_episode_stats\u001b[0m\u001b[0;34m)\u001b[0m\u001b[0;34m\u001b[0m\u001b[0;34m\u001b[0m\u001b[0m\n\u001b[0m\u001b[1;32m    297\u001b[0m                     \u001b[0mpth_time\u001b[0m \u001b[0;34m+=\u001b[0m \u001b[0mdelta_pth_time\u001b[0m\u001b[0;34m\u001b[0m\u001b[0;34m\u001b[0m\u001b[0m\n\u001b[1;32m    298\u001b[0m                     \u001b[0menv_time\u001b[0m \u001b[0;34m+=\u001b[0m \u001b[0mdelta_env_time\u001b[0m\u001b[0;34m\u001b[0m\u001b[0;34m\u001b[0m\u001b[0m\n",
      "\u001b[0;32m~/DDPPO/ppotrainer.py\u001b[0m in \u001b[0;36m_collect_rollout_step\u001b[0;34m(self, rollouts, current_episode_reward, running_episode_stats)\u001b[0m\n\u001b[1;32m    136\u001b[0m                 \u001b[0mrollouts\u001b[0m\u001b[0;34m.\u001b[0m\u001b[0mrecurrent_hidden_states\u001b[0m\u001b[0;34m[\u001b[0m\u001b[0mrollouts\u001b[0m\u001b[0;34m.\u001b[0m\u001b[0mstep\u001b[0m\u001b[0;34m]\u001b[0m\u001b[0;34m,\u001b[0m\u001b[0;34m\u001b[0m\u001b[0;34m\u001b[0m\u001b[0m\n\u001b[1;32m    137\u001b[0m                 \u001b[0mrollouts\u001b[0m\u001b[0;34m.\u001b[0m\u001b[0mprev_actions\u001b[0m\u001b[0;34m[\u001b[0m\u001b[0mrollouts\u001b[0m\u001b[0;34m.\u001b[0m\u001b[0mstep\u001b[0m\u001b[0;34m]\u001b[0m\u001b[0;34m,\u001b[0m\u001b[0;34m\u001b[0m\u001b[0;34m\u001b[0m\u001b[0m\n\u001b[0;32m--> 138\u001b[0;31m                 rollouts.masks[rollouts.step])\n\u001b[0m\u001b[1;32m    139\u001b[0m \u001b[0;34m\u001b[0m\u001b[0m\n\u001b[1;32m    140\u001b[0m         \u001b[0mpth_time\u001b[0m \u001b[0;34m+=\u001b[0m \u001b[0mtime\u001b[0m\u001b[0;34m.\u001b[0m\u001b[0mtime\u001b[0m\u001b[0;34m(\u001b[0m\u001b[0;34m)\u001b[0m \u001b[0;34m-\u001b[0m \u001b[0mt_sample_action\u001b[0m\u001b[0;34m\u001b[0m\u001b[0;34m\u001b[0m\u001b[0m\n",
      "\u001b[0;32m/habitat-api/habitat_baselines/rl/ppo/policy.py\u001b[0m in \u001b[0;36mact\u001b[0;34m(self, observations, rnn_hidden_states, prev_actions, masks, deterministic)\u001b[0m\n\u001b[1;32m     38\u001b[0m     ):\n\u001b[1;32m     39\u001b[0m         features, rnn_hidden_states = self.net(\n\u001b[0;32m---> 40\u001b[0;31m             \u001b[0mobservations\u001b[0m\u001b[0;34m,\u001b[0m \u001b[0mrnn_hidden_states\u001b[0m\u001b[0;34m,\u001b[0m \u001b[0mprev_actions\u001b[0m\u001b[0;34m,\u001b[0m \u001b[0mmasks\u001b[0m\u001b[0;34m\u001b[0m\u001b[0;34m\u001b[0m\u001b[0m\n\u001b[0m\u001b[1;32m     41\u001b[0m         )\n\u001b[1;32m     42\u001b[0m         \u001b[0mdistribution\u001b[0m \u001b[0;34m=\u001b[0m \u001b[0mself\u001b[0m\u001b[0;34m.\u001b[0m\u001b[0maction_distribution\u001b[0m\u001b[0;34m(\u001b[0m\u001b[0mfeatures\u001b[0m\u001b[0;34m)\u001b[0m\u001b[0;34m\u001b[0m\u001b[0;34m\u001b[0m\u001b[0m\n",
      "\u001b[0;32m/opt/conda/envs/habitat/lib/python3.6/site-packages/torch-1.4.0-py3.6-linux-x86_64.egg/torch/nn/modules/module.py\u001b[0m in \u001b[0;36m__call__\u001b[0;34m(self, *input, **kwargs)\u001b[0m\n\u001b[1;32m    530\u001b[0m             \u001b[0mresult\u001b[0m \u001b[0;34m=\u001b[0m \u001b[0mself\u001b[0m\u001b[0;34m.\u001b[0m\u001b[0m_slow_forward\u001b[0m\u001b[0;34m(\u001b[0m\u001b[0;34m*\u001b[0m\u001b[0minput\u001b[0m\u001b[0;34m,\u001b[0m \u001b[0;34m**\u001b[0m\u001b[0mkwargs\u001b[0m\u001b[0;34m)\u001b[0m\u001b[0;34m\u001b[0m\u001b[0;34m\u001b[0m\u001b[0m\n\u001b[1;32m    531\u001b[0m         \u001b[0;32melse\u001b[0m\u001b[0;34m:\u001b[0m\u001b[0;34m\u001b[0m\u001b[0;34m\u001b[0m\u001b[0m\n\u001b[0;32m--> 532\u001b[0;31m             \u001b[0mresult\u001b[0m \u001b[0;34m=\u001b[0m \u001b[0mself\u001b[0m\u001b[0;34m.\u001b[0m\u001b[0mforward\u001b[0m\u001b[0;34m(\u001b[0m\u001b[0;34m*\u001b[0m\u001b[0minput\u001b[0m\u001b[0;34m,\u001b[0m \u001b[0;34m**\u001b[0m\u001b[0mkwargs\u001b[0m\u001b[0;34m)\u001b[0m\u001b[0;34m\u001b[0m\u001b[0;34m\u001b[0m\u001b[0m\n\u001b[0m\u001b[1;32m    533\u001b[0m         \u001b[0;32mfor\u001b[0m \u001b[0mhook\u001b[0m \u001b[0;32min\u001b[0m \u001b[0mself\u001b[0m\u001b[0;34m.\u001b[0m\u001b[0m_forward_hooks\u001b[0m\u001b[0;34m.\u001b[0m\u001b[0mvalues\u001b[0m\u001b[0;34m(\u001b[0m\u001b[0;34m)\u001b[0m\u001b[0;34m:\u001b[0m\u001b[0;34m\u001b[0m\u001b[0;34m\u001b[0m\u001b[0m\n\u001b[1;32m    534\u001b[0m             \u001b[0mhook_result\u001b[0m \u001b[0;34m=\u001b[0m \u001b[0mhook\u001b[0m\u001b[0;34m(\u001b[0m\u001b[0mself\u001b[0m\u001b[0;34m,\u001b[0m \u001b[0minput\u001b[0m\u001b[0;34m,\u001b[0m \u001b[0mresult\u001b[0m\u001b[0;34m)\u001b[0m\u001b[0;34m\u001b[0m\u001b[0;34m\u001b[0m\u001b[0m\n",
      "\u001b[0;32m~/DDPPO/resnet_policy.py\u001b[0m in \u001b[0;36mforward\u001b[0;34m(self, observations, rnn_hidden_states, prev_actions, masks)\u001b[0m\n\u001b[1;32m    239\u001b[0m                 \u001b[0mvisual_feats\u001b[0m \u001b[0;34m=\u001b[0m \u001b[0mobservations\u001b[0m\u001b[0;34m[\u001b[0m\u001b[0;34m\"visual_features\"\u001b[0m\u001b[0;34m]\u001b[0m\u001b[0;34m\u001b[0m\u001b[0;34m\u001b[0m\u001b[0m\n\u001b[1;32m    240\u001b[0m             \u001b[0;32melse\u001b[0m\u001b[0;34m:\u001b[0m\u001b[0;34m\u001b[0m\u001b[0;34m\u001b[0m\u001b[0m\n\u001b[0;32m--> 241\u001b[0;31m                 \u001b[0mvisual_feats\u001b[0m \u001b[0;34m=\u001b[0m \u001b[0mself\u001b[0m\u001b[0;34m.\u001b[0m\u001b[0mvisual_encoder\u001b[0m\u001b[0;34m(\u001b[0m\u001b[0mobservations\u001b[0m\u001b[0;34m)\u001b[0m\u001b[0;34m\u001b[0m\u001b[0;34m\u001b[0m\u001b[0m\n\u001b[0m\u001b[1;32m    242\u001b[0m \u001b[0;34m\u001b[0m\u001b[0m\n\u001b[1;32m    243\u001b[0m             \u001b[0mvisual_feats\u001b[0m \u001b[0;34m=\u001b[0m \u001b[0mself\u001b[0m\u001b[0;34m.\u001b[0m\u001b[0mvisual_fc\u001b[0m\u001b[0;34m(\u001b[0m\u001b[0mvisual_feats\u001b[0m\u001b[0;34m)\u001b[0m\u001b[0;34m\u001b[0m\u001b[0;34m\u001b[0m\u001b[0m\n",
      "\u001b[0;32m/opt/conda/envs/habitat/lib/python3.6/site-packages/torch-1.4.0-py3.6-linux-x86_64.egg/torch/nn/modules/module.py\u001b[0m in \u001b[0;36m__call__\u001b[0;34m(self, *input, **kwargs)\u001b[0m\n\u001b[1;32m    530\u001b[0m             \u001b[0mresult\u001b[0m \u001b[0;34m=\u001b[0m \u001b[0mself\u001b[0m\u001b[0;34m.\u001b[0m\u001b[0m_slow_forward\u001b[0m\u001b[0;34m(\u001b[0m\u001b[0;34m*\u001b[0m\u001b[0minput\u001b[0m\u001b[0;34m,\u001b[0m \u001b[0;34m**\u001b[0m\u001b[0mkwargs\u001b[0m\u001b[0;34m)\u001b[0m\u001b[0;34m\u001b[0m\u001b[0;34m\u001b[0m\u001b[0m\n\u001b[1;32m    531\u001b[0m         \u001b[0;32melse\u001b[0m\u001b[0;34m:\u001b[0m\u001b[0;34m\u001b[0m\u001b[0;34m\u001b[0m\u001b[0m\n\u001b[0;32m--> 532\u001b[0;31m             \u001b[0mresult\u001b[0m \u001b[0;34m=\u001b[0m \u001b[0mself\u001b[0m\u001b[0;34m.\u001b[0m\u001b[0mforward\u001b[0m\u001b[0;34m(\u001b[0m\u001b[0;34m*\u001b[0m\u001b[0minput\u001b[0m\u001b[0;34m,\u001b[0m \u001b[0;34m**\u001b[0m\u001b[0mkwargs\u001b[0m\u001b[0;34m)\u001b[0m\u001b[0;34m\u001b[0m\u001b[0;34m\u001b[0m\u001b[0m\n\u001b[0m\u001b[1;32m    533\u001b[0m         \u001b[0;32mfor\u001b[0m \u001b[0mhook\u001b[0m \u001b[0;32min\u001b[0m \u001b[0mself\u001b[0m\u001b[0;34m.\u001b[0m\u001b[0m_forward_hooks\u001b[0m\u001b[0;34m.\u001b[0m\u001b[0mvalues\u001b[0m\u001b[0;34m(\u001b[0m\u001b[0;34m)\u001b[0m\u001b[0;34m:\u001b[0m\u001b[0;34m\u001b[0m\u001b[0;34m\u001b[0m\u001b[0m\n\u001b[1;32m    534\u001b[0m             \u001b[0mhook_result\u001b[0m \u001b[0;34m=\u001b[0m \u001b[0mhook\u001b[0m\u001b[0;34m(\u001b[0m\u001b[0mself\u001b[0m\u001b[0;34m,\u001b[0m \u001b[0minput\u001b[0m\u001b[0;34m,\u001b[0m \u001b[0mresult\u001b[0m\u001b[0;34m)\u001b[0m\u001b[0;34m\u001b[0m\u001b[0;34m\u001b[0m\u001b[0m\n",
      "\u001b[0;32m~/DDPPO/resnet_policy.py\u001b[0m in \u001b[0;36mforward\u001b[0;34m(self, observations)\u001b[0m\n\u001b[1;32m    145\u001b[0m \u001b[0;34m\u001b[0m\u001b[0m\n\u001b[1;32m    146\u001b[0m         \u001b[0mx\u001b[0m \u001b[0;34m=\u001b[0m \u001b[0mself\u001b[0m\u001b[0;34m.\u001b[0m\u001b[0mrunning_mean_and_var\u001b[0m\u001b[0;34m(\u001b[0m\u001b[0mx\u001b[0m\u001b[0;34m)\u001b[0m\u001b[0;34m\u001b[0m\u001b[0;34m\u001b[0m\u001b[0m\n\u001b[0;32m--> 147\u001b[0;31m         \u001b[0mx\u001b[0m \u001b[0;34m=\u001b[0m \u001b[0mself\u001b[0m\u001b[0;34m.\u001b[0m\u001b[0mbackbone\u001b[0m\u001b[0;34m(\u001b[0m\u001b[0mx\u001b[0m\u001b[0;34m)\u001b[0m\u001b[0;34m\u001b[0m\u001b[0;34m\u001b[0m\u001b[0m\n\u001b[0m\u001b[1;32m    148\u001b[0m         \u001b[0mx\u001b[0m \u001b[0;34m=\u001b[0m \u001b[0mself\u001b[0m\u001b[0;34m.\u001b[0m\u001b[0mcompression\u001b[0m\u001b[0;34m(\u001b[0m\u001b[0mx\u001b[0m\u001b[0;34m)\u001b[0m\u001b[0;34m\u001b[0m\u001b[0;34m\u001b[0m\u001b[0m\n\u001b[1;32m    149\u001b[0m         \u001b[0;32mreturn\u001b[0m \u001b[0mx\u001b[0m\u001b[0;34m\u001b[0m\u001b[0;34m\u001b[0m\u001b[0m\n",
      "\u001b[0;32m/opt/conda/envs/habitat/lib/python3.6/site-packages/torch-1.4.0-py3.6-linux-x86_64.egg/torch/nn/modules/module.py\u001b[0m in \u001b[0;36m__call__\u001b[0;34m(self, *input, **kwargs)\u001b[0m\n\u001b[1;32m    530\u001b[0m             \u001b[0mresult\u001b[0m \u001b[0;34m=\u001b[0m \u001b[0mself\u001b[0m\u001b[0;34m.\u001b[0m\u001b[0m_slow_forward\u001b[0m\u001b[0;34m(\u001b[0m\u001b[0;34m*\u001b[0m\u001b[0minput\u001b[0m\u001b[0;34m,\u001b[0m \u001b[0;34m**\u001b[0m\u001b[0mkwargs\u001b[0m\u001b[0;34m)\u001b[0m\u001b[0;34m\u001b[0m\u001b[0;34m\u001b[0m\u001b[0m\n\u001b[1;32m    531\u001b[0m         \u001b[0;32melse\u001b[0m\u001b[0;34m:\u001b[0m\u001b[0;34m\u001b[0m\u001b[0;34m\u001b[0m\u001b[0m\n\u001b[0;32m--> 532\u001b[0;31m             \u001b[0mresult\u001b[0m \u001b[0;34m=\u001b[0m \u001b[0mself\u001b[0m\u001b[0;34m.\u001b[0m\u001b[0mforward\u001b[0m\u001b[0;34m(\u001b[0m\u001b[0;34m*\u001b[0m\u001b[0minput\u001b[0m\u001b[0;34m,\u001b[0m \u001b[0;34m**\u001b[0m\u001b[0mkwargs\u001b[0m\u001b[0;34m)\u001b[0m\u001b[0;34m\u001b[0m\u001b[0;34m\u001b[0m\u001b[0m\n\u001b[0m\u001b[1;32m    533\u001b[0m         \u001b[0;32mfor\u001b[0m \u001b[0mhook\u001b[0m \u001b[0;32min\u001b[0m \u001b[0mself\u001b[0m\u001b[0;34m.\u001b[0m\u001b[0m_forward_hooks\u001b[0m\u001b[0;34m.\u001b[0m\u001b[0mvalues\u001b[0m\u001b[0;34m(\u001b[0m\u001b[0;34m)\u001b[0m\u001b[0;34m:\u001b[0m\u001b[0;34m\u001b[0m\u001b[0;34m\u001b[0m\u001b[0m\n\u001b[1;32m    534\u001b[0m             \u001b[0mhook_result\u001b[0m \u001b[0;34m=\u001b[0m \u001b[0mhook\u001b[0m\u001b[0;34m(\u001b[0m\u001b[0mself\u001b[0m\u001b[0;34m,\u001b[0m \u001b[0minput\u001b[0m\u001b[0;34m,\u001b[0m \u001b[0mresult\u001b[0m\u001b[0;34m)\u001b[0m\u001b[0;34m\u001b[0m\u001b[0;34m\u001b[0m\u001b[0m\n",
      "\u001b[0;32m/habitat-api/habitat_baselines/rl/ddppo/policy/resnet.py\u001b[0m in \u001b[0;36mforward\u001b[0;34m(self, x)\u001b[0m\n\u001b[1;32m    248\u001b[0m \u001b[0;34m\u001b[0m\u001b[0m\n\u001b[1;32m    249\u001b[0m         \u001b[0mx\u001b[0m \u001b[0;34m=\u001b[0m \u001b[0mself\u001b[0m\u001b[0;34m.\u001b[0m\u001b[0mlayer1\u001b[0m\u001b[0;34m(\u001b[0m\u001b[0mx\u001b[0m\u001b[0;34m)\u001b[0m\u001b[0;34m\u001b[0m\u001b[0;34m\u001b[0m\u001b[0m\n\u001b[0;32m--> 250\u001b[0;31m         \u001b[0mx\u001b[0m \u001b[0;34m=\u001b[0m \u001b[0mself\u001b[0m\u001b[0;34m.\u001b[0m\u001b[0mlayer2\u001b[0m\u001b[0;34m(\u001b[0m\u001b[0mx\u001b[0m\u001b[0;34m)\u001b[0m\u001b[0;34m\u001b[0m\u001b[0;34m\u001b[0m\u001b[0m\n\u001b[0m\u001b[1;32m    251\u001b[0m         \u001b[0mx\u001b[0m \u001b[0;34m=\u001b[0m \u001b[0mself\u001b[0m\u001b[0;34m.\u001b[0m\u001b[0mlayer3\u001b[0m\u001b[0;34m(\u001b[0m\u001b[0mx\u001b[0m\u001b[0;34m)\u001b[0m\u001b[0;34m\u001b[0m\u001b[0;34m\u001b[0m\u001b[0m\n\u001b[1;32m    252\u001b[0m         \u001b[0mx\u001b[0m \u001b[0;34m=\u001b[0m \u001b[0mself\u001b[0m\u001b[0;34m.\u001b[0m\u001b[0mlayer4\u001b[0m\u001b[0;34m(\u001b[0m\u001b[0mx\u001b[0m\u001b[0;34m)\u001b[0m\u001b[0;34m\u001b[0m\u001b[0;34m\u001b[0m\u001b[0m\n",
      "\u001b[0;32m/opt/conda/envs/habitat/lib/python3.6/site-packages/torch-1.4.0-py3.6-linux-x86_64.egg/torch/nn/modules/module.py\u001b[0m in \u001b[0;36m__call__\u001b[0;34m(self, *input, **kwargs)\u001b[0m\n\u001b[1;32m    530\u001b[0m             \u001b[0mresult\u001b[0m \u001b[0;34m=\u001b[0m \u001b[0mself\u001b[0m\u001b[0;34m.\u001b[0m\u001b[0m_slow_forward\u001b[0m\u001b[0;34m(\u001b[0m\u001b[0;34m*\u001b[0m\u001b[0minput\u001b[0m\u001b[0;34m,\u001b[0m \u001b[0;34m**\u001b[0m\u001b[0mkwargs\u001b[0m\u001b[0;34m)\u001b[0m\u001b[0;34m\u001b[0m\u001b[0;34m\u001b[0m\u001b[0m\n\u001b[1;32m    531\u001b[0m         \u001b[0;32melse\u001b[0m\u001b[0;34m:\u001b[0m\u001b[0;34m\u001b[0m\u001b[0;34m\u001b[0m\u001b[0m\n\u001b[0;32m--> 532\u001b[0;31m             \u001b[0mresult\u001b[0m \u001b[0;34m=\u001b[0m \u001b[0mself\u001b[0m\u001b[0;34m.\u001b[0m\u001b[0mforward\u001b[0m\u001b[0;34m(\u001b[0m\u001b[0;34m*\u001b[0m\u001b[0minput\u001b[0m\u001b[0;34m,\u001b[0m \u001b[0;34m**\u001b[0m\u001b[0mkwargs\u001b[0m\u001b[0;34m)\u001b[0m\u001b[0;34m\u001b[0m\u001b[0;34m\u001b[0m\u001b[0m\n\u001b[0m\u001b[1;32m    533\u001b[0m         \u001b[0;32mfor\u001b[0m \u001b[0mhook\u001b[0m \u001b[0;32min\u001b[0m \u001b[0mself\u001b[0m\u001b[0;34m.\u001b[0m\u001b[0m_forward_hooks\u001b[0m\u001b[0;34m.\u001b[0m\u001b[0mvalues\u001b[0m\u001b[0;34m(\u001b[0m\u001b[0;34m)\u001b[0m\u001b[0;34m:\u001b[0m\u001b[0;34m\u001b[0m\u001b[0;34m\u001b[0m\u001b[0m\n\u001b[1;32m    534\u001b[0m             \u001b[0mhook_result\u001b[0m \u001b[0;34m=\u001b[0m \u001b[0mhook\u001b[0m\u001b[0;34m(\u001b[0m\u001b[0mself\u001b[0m\u001b[0;34m,\u001b[0m \u001b[0minput\u001b[0m\u001b[0;34m,\u001b[0m \u001b[0mresult\u001b[0m\u001b[0;34m)\u001b[0m\u001b[0;34m\u001b[0m\u001b[0;34m\u001b[0m\u001b[0m\n",
      "\u001b[0;32m/opt/conda/envs/habitat/lib/python3.6/site-packages/torch-1.4.0-py3.6-linux-x86_64.egg/torch/nn/modules/container.py\u001b[0m in \u001b[0;36mforward\u001b[0;34m(self, input)\u001b[0m\n\u001b[1;32m     98\u001b[0m     \u001b[0;32mdef\u001b[0m \u001b[0mforward\u001b[0m\u001b[0;34m(\u001b[0m\u001b[0mself\u001b[0m\u001b[0;34m,\u001b[0m \u001b[0minput\u001b[0m\u001b[0;34m)\u001b[0m\u001b[0;34m:\u001b[0m\u001b[0;34m\u001b[0m\u001b[0;34m\u001b[0m\u001b[0m\n\u001b[1;32m     99\u001b[0m         \u001b[0;32mfor\u001b[0m \u001b[0mmodule\u001b[0m \u001b[0;32min\u001b[0m \u001b[0mself\u001b[0m\u001b[0;34m:\u001b[0m\u001b[0;34m\u001b[0m\u001b[0;34m\u001b[0m\u001b[0m\n\u001b[0;32m--> 100\u001b[0;31m             \u001b[0minput\u001b[0m \u001b[0;34m=\u001b[0m \u001b[0mmodule\u001b[0m\u001b[0;34m(\u001b[0m\u001b[0minput\u001b[0m\u001b[0;34m)\u001b[0m\u001b[0;34m\u001b[0m\u001b[0;34m\u001b[0m\u001b[0m\n\u001b[0m\u001b[1;32m    101\u001b[0m         \u001b[0;32mreturn\u001b[0m \u001b[0minput\u001b[0m\u001b[0;34m\u001b[0m\u001b[0;34m\u001b[0m\u001b[0m\n\u001b[1;32m    102\u001b[0m \u001b[0;34m\u001b[0m\u001b[0m\n",
      "\u001b[0;32m/opt/conda/envs/habitat/lib/python3.6/site-packages/torch-1.4.0-py3.6-linux-x86_64.egg/torch/nn/modules/module.py\u001b[0m in \u001b[0;36m__call__\u001b[0;34m(self, *input, **kwargs)\u001b[0m\n\u001b[1;32m    530\u001b[0m             \u001b[0mresult\u001b[0m \u001b[0;34m=\u001b[0m \u001b[0mself\u001b[0m\u001b[0;34m.\u001b[0m\u001b[0m_slow_forward\u001b[0m\u001b[0;34m(\u001b[0m\u001b[0;34m*\u001b[0m\u001b[0minput\u001b[0m\u001b[0;34m,\u001b[0m \u001b[0;34m**\u001b[0m\u001b[0mkwargs\u001b[0m\u001b[0;34m)\u001b[0m\u001b[0;34m\u001b[0m\u001b[0;34m\u001b[0m\u001b[0m\n\u001b[1;32m    531\u001b[0m         \u001b[0;32melse\u001b[0m\u001b[0;34m:\u001b[0m\u001b[0;34m\u001b[0m\u001b[0;34m\u001b[0m\u001b[0m\n\u001b[0;32m--> 532\u001b[0;31m             \u001b[0mresult\u001b[0m \u001b[0;34m=\u001b[0m \u001b[0mself\u001b[0m\u001b[0;34m.\u001b[0m\u001b[0mforward\u001b[0m\u001b[0;34m(\u001b[0m\u001b[0;34m*\u001b[0m\u001b[0minput\u001b[0m\u001b[0;34m,\u001b[0m \u001b[0;34m**\u001b[0m\u001b[0mkwargs\u001b[0m\u001b[0;34m)\u001b[0m\u001b[0;34m\u001b[0m\u001b[0;34m\u001b[0m\u001b[0m\n\u001b[0m\u001b[1;32m    533\u001b[0m         \u001b[0;32mfor\u001b[0m \u001b[0mhook\u001b[0m \u001b[0;32min\u001b[0m \u001b[0mself\u001b[0m\u001b[0;34m.\u001b[0m\u001b[0m_forward_hooks\u001b[0m\u001b[0;34m.\u001b[0m\u001b[0mvalues\u001b[0m\u001b[0;34m(\u001b[0m\u001b[0;34m)\u001b[0m\u001b[0;34m:\u001b[0m\u001b[0;34m\u001b[0m\u001b[0;34m\u001b[0m\u001b[0m\n\u001b[1;32m    534\u001b[0m             \u001b[0mhook_result\u001b[0m \u001b[0;34m=\u001b[0m \u001b[0mhook\u001b[0m\u001b[0;34m(\u001b[0m\u001b[0mself\u001b[0m\u001b[0;34m,\u001b[0m \u001b[0minput\u001b[0m\u001b[0;34m,\u001b[0m \u001b[0mresult\u001b[0m\u001b[0;34m)\u001b[0m\u001b[0;34m\u001b[0m\u001b[0;34m\u001b[0m\u001b[0m\n",
      "\u001b[0;32m/habitat-api/habitat_baselines/rl/ddppo/policy/resnet.py\u001b[0m in \u001b[0;36mforward\u001b[0;34m(self, x)\u001b[0m\n\u001b[1;32m    139\u001b[0m \u001b[0;34m\u001b[0m\u001b[0m\n\u001b[1;32m    140\u001b[0m     \u001b[0;32mdef\u001b[0m \u001b[0mforward\u001b[0m\u001b[0;34m(\u001b[0m\u001b[0mself\u001b[0m\u001b[0;34m,\u001b[0m \u001b[0mx\u001b[0m\u001b[0;34m)\u001b[0m\u001b[0;34m:\u001b[0m\u001b[0;34m\u001b[0m\u001b[0;34m\u001b[0m\u001b[0m\n\u001b[0;32m--> 141\u001b[0;31m         \u001b[0;32mreturn\u001b[0m \u001b[0mself\u001b[0m\u001b[0;34m.\u001b[0m\u001b[0m_impl\u001b[0m\u001b[0;34m(\u001b[0m\u001b[0mx\u001b[0m\u001b[0;34m)\u001b[0m\u001b[0;34m\u001b[0m\u001b[0;34m\u001b[0m\u001b[0m\n\u001b[0m\u001b[1;32m    142\u001b[0m \u001b[0;34m\u001b[0m\u001b[0m\n\u001b[1;32m    143\u001b[0m \u001b[0;34m\u001b[0m\u001b[0m\n",
      "\u001b[0;32m/habitat-api/habitat_baselines/rl/ddppo/policy/resnet.py\u001b[0m in \u001b[0;36m_impl\u001b[0;34m(self, x)\u001b[0m\n\u001b[1;32m    131\u001b[0m         \u001b[0midentity\u001b[0m \u001b[0;34m=\u001b[0m \u001b[0mx\u001b[0m\u001b[0;34m\u001b[0m\u001b[0;34m\u001b[0m\u001b[0m\n\u001b[1;32m    132\u001b[0m \u001b[0;34m\u001b[0m\u001b[0m\n\u001b[0;32m--> 133\u001b[0;31m         \u001b[0mout\u001b[0m \u001b[0;34m=\u001b[0m \u001b[0mself\u001b[0m\u001b[0;34m.\u001b[0m\u001b[0mconvs\u001b[0m\u001b[0;34m(\u001b[0m\u001b[0mx\u001b[0m\u001b[0;34m)\u001b[0m\u001b[0;34m\u001b[0m\u001b[0;34m\u001b[0m\u001b[0m\n\u001b[0m\u001b[1;32m    134\u001b[0m \u001b[0;34m\u001b[0m\u001b[0m\n\u001b[1;32m    135\u001b[0m         \u001b[0;32mif\u001b[0m \u001b[0mself\u001b[0m\u001b[0;34m.\u001b[0m\u001b[0mdownsample\u001b[0m \u001b[0;32mis\u001b[0m \u001b[0;32mnot\u001b[0m \u001b[0;32mNone\u001b[0m\u001b[0;34m:\u001b[0m\u001b[0;34m\u001b[0m\u001b[0;34m\u001b[0m\u001b[0m\n",
      "\u001b[0;32m/opt/conda/envs/habitat/lib/python3.6/site-packages/torch-1.4.0-py3.6-linux-x86_64.egg/torch/nn/modules/module.py\u001b[0m in \u001b[0;36m__call__\u001b[0;34m(self, *input, **kwargs)\u001b[0m\n\u001b[1;32m    530\u001b[0m             \u001b[0mresult\u001b[0m \u001b[0;34m=\u001b[0m \u001b[0mself\u001b[0m\u001b[0;34m.\u001b[0m\u001b[0m_slow_forward\u001b[0m\u001b[0;34m(\u001b[0m\u001b[0;34m*\u001b[0m\u001b[0minput\u001b[0m\u001b[0;34m,\u001b[0m \u001b[0;34m**\u001b[0m\u001b[0mkwargs\u001b[0m\u001b[0;34m)\u001b[0m\u001b[0;34m\u001b[0m\u001b[0;34m\u001b[0m\u001b[0m\n\u001b[1;32m    531\u001b[0m         \u001b[0;32melse\u001b[0m\u001b[0;34m:\u001b[0m\u001b[0;34m\u001b[0m\u001b[0;34m\u001b[0m\u001b[0m\n\u001b[0;32m--> 532\u001b[0;31m             \u001b[0mresult\u001b[0m \u001b[0;34m=\u001b[0m \u001b[0mself\u001b[0m\u001b[0;34m.\u001b[0m\u001b[0mforward\u001b[0m\u001b[0;34m(\u001b[0m\u001b[0;34m*\u001b[0m\u001b[0minput\u001b[0m\u001b[0;34m,\u001b[0m \u001b[0;34m**\u001b[0m\u001b[0mkwargs\u001b[0m\u001b[0;34m)\u001b[0m\u001b[0;34m\u001b[0m\u001b[0;34m\u001b[0m\u001b[0m\n\u001b[0m\u001b[1;32m    533\u001b[0m         \u001b[0;32mfor\u001b[0m \u001b[0mhook\u001b[0m \u001b[0;32min\u001b[0m \u001b[0mself\u001b[0m\u001b[0;34m.\u001b[0m\u001b[0m_forward_hooks\u001b[0m\u001b[0;34m.\u001b[0m\u001b[0mvalues\u001b[0m\u001b[0;34m(\u001b[0m\u001b[0;34m)\u001b[0m\u001b[0;34m:\u001b[0m\u001b[0;34m\u001b[0m\u001b[0;34m\u001b[0m\u001b[0m\n\u001b[1;32m    534\u001b[0m             \u001b[0mhook_result\u001b[0m \u001b[0;34m=\u001b[0m \u001b[0mhook\u001b[0m\u001b[0;34m(\u001b[0m\u001b[0mself\u001b[0m\u001b[0;34m,\u001b[0m \u001b[0minput\u001b[0m\u001b[0;34m,\u001b[0m \u001b[0mresult\u001b[0m\u001b[0;34m)\u001b[0m\u001b[0;34m\u001b[0m\u001b[0;34m\u001b[0m\u001b[0m\n",
      "\u001b[0;32m/opt/conda/envs/habitat/lib/python3.6/site-packages/torch-1.4.0-py3.6-linux-x86_64.egg/torch/nn/modules/container.py\u001b[0m in \u001b[0;36mforward\u001b[0;34m(self, input)\u001b[0m\n\u001b[1;32m     98\u001b[0m     \u001b[0;32mdef\u001b[0m \u001b[0mforward\u001b[0m\u001b[0;34m(\u001b[0m\u001b[0mself\u001b[0m\u001b[0;34m,\u001b[0m \u001b[0minput\u001b[0m\u001b[0;34m)\u001b[0m\u001b[0;34m:\u001b[0m\u001b[0;34m\u001b[0m\u001b[0;34m\u001b[0m\u001b[0m\n\u001b[1;32m     99\u001b[0m         \u001b[0;32mfor\u001b[0m \u001b[0mmodule\u001b[0m \u001b[0;32min\u001b[0m \u001b[0mself\u001b[0m\u001b[0;34m:\u001b[0m\u001b[0;34m\u001b[0m\u001b[0;34m\u001b[0m\u001b[0m\n\u001b[0;32m--> 100\u001b[0;31m             \u001b[0minput\u001b[0m \u001b[0;34m=\u001b[0m \u001b[0mmodule\u001b[0m\u001b[0;34m(\u001b[0m\u001b[0minput\u001b[0m\u001b[0;34m)\u001b[0m\u001b[0;34m\u001b[0m\u001b[0;34m\u001b[0m\u001b[0m\n\u001b[0m\u001b[1;32m    101\u001b[0m         \u001b[0;32mreturn\u001b[0m \u001b[0minput\u001b[0m\u001b[0;34m\u001b[0m\u001b[0;34m\u001b[0m\u001b[0m\n\u001b[1;32m    102\u001b[0m \u001b[0;34m\u001b[0m\u001b[0m\n",
      "\u001b[0;32m/opt/conda/envs/habitat/lib/python3.6/site-packages/torch-1.4.0-py3.6-linux-x86_64.egg/torch/nn/modules/module.py\u001b[0m in \u001b[0;36m__call__\u001b[0;34m(self, *input, **kwargs)\u001b[0m\n\u001b[1;32m    530\u001b[0m             \u001b[0mresult\u001b[0m \u001b[0;34m=\u001b[0m \u001b[0mself\u001b[0m\u001b[0;34m.\u001b[0m\u001b[0m_slow_forward\u001b[0m\u001b[0;34m(\u001b[0m\u001b[0;34m*\u001b[0m\u001b[0minput\u001b[0m\u001b[0;34m,\u001b[0m \u001b[0;34m**\u001b[0m\u001b[0mkwargs\u001b[0m\u001b[0;34m)\u001b[0m\u001b[0;34m\u001b[0m\u001b[0;34m\u001b[0m\u001b[0m\n\u001b[1;32m    531\u001b[0m         \u001b[0;32melse\u001b[0m\u001b[0;34m:\u001b[0m\u001b[0;34m\u001b[0m\u001b[0;34m\u001b[0m\u001b[0m\n\u001b[0;32m--> 532\u001b[0;31m             \u001b[0mresult\u001b[0m \u001b[0;34m=\u001b[0m \u001b[0mself\u001b[0m\u001b[0;34m.\u001b[0m\u001b[0mforward\u001b[0m\u001b[0;34m(\u001b[0m\u001b[0;34m*\u001b[0m\u001b[0minput\u001b[0m\u001b[0;34m,\u001b[0m \u001b[0;34m**\u001b[0m\u001b[0mkwargs\u001b[0m\u001b[0;34m)\u001b[0m\u001b[0;34m\u001b[0m\u001b[0;34m\u001b[0m\u001b[0m\n\u001b[0m\u001b[1;32m    533\u001b[0m         \u001b[0;32mfor\u001b[0m \u001b[0mhook\u001b[0m \u001b[0;32min\u001b[0m \u001b[0mself\u001b[0m\u001b[0;34m.\u001b[0m\u001b[0m_forward_hooks\u001b[0m\u001b[0;34m.\u001b[0m\u001b[0mvalues\u001b[0m\u001b[0;34m(\u001b[0m\u001b[0;34m)\u001b[0m\u001b[0;34m:\u001b[0m\u001b[0;34m\u001b[0m\u001b[0;34m\u001b[0m\u001b[0m\n\u001b[1;32m    534\u001b[0m             \u001b[0mhook_result\u001b[0m \u001b[0;34m=\u001b[0m \u001b[0mhook\u001b[0m\u001b[0;34m(\u001b[0m\u001b[0mself\u001b[0m\u001b[0;34m,\u001b[0m \u001b[0minput\u001b[0m\u001b[0;34m,\u001b[0m \u001b[0mresult\u001b[0m\u001b[0;34m)\u001b[0m\u001b[0;34m\u001b[0m\u001b[0;34m\u001b[0m\u001b[0m\n",
      "\u001b[0;32m/opt/conda/envs/habitat/lib/python3.6/site-packages/torch-1.4.0-py3.6-linux-x86_64.egg/torch/nn/modules/normalization.py\u001b[0m in \u001b[0;36mforward\u001b[0;34m(self, input)\u001b[0m\n\u001b[1;32m    224\u001b[0m     \u001b[0;32mdef\u001b[0m \u001b[0mforward\u001b[0m\u001b[0;34m(\u001b[0m\u001b[0mself\u001b[0m\u001b[0;34m,\u001b[0m \u001b[0minput\u001b[0m\u001b[0;34m)\u001b[0m\u001b[0;34m:\u001b[0m\u001b[0;34m\u001b[0m\u001b[0;34m\u001b[0m\u001b[0m\n\u001b[1;32m    225\u001b[0m         return F.group_norm(\n\u001b[0;32m--> 226\u001b[0;31m             input, self.num_groups, self.weight, self.bias, self.eps)\n\u001b[0m\u001b[1;32m    227\u001b[0m \u001b[0;34m\u001b[0m\u001b[0m\n\u001b[1;32m    228\u001b[0m     \u001b[0;32mdef\u001b[0m \u001b[0mextra_repr\u001b[0m\u001b[0;34m(\u001b[0m\u001b[0mself\u001b[0m\u001b[0;34m)\u001b[0m\u001b[0;34m:\u001b[0m\u001b[0;34m\u001b[0m\u001b[0;34m\u001b[0m\u001b[0m\n",
      "\u001b[0;32m/opt/conda/envs/habitat/lib/python3.6/site-packages/torch-1.4.0-py3.6-linux-x86_64.egg/torch/nn/functional.py\u001b[0m in \u001b[0;36mgroup_norm\u001b[0;34m(input, num_groups, weight, bias, eps)\u001b[0m\n\u001b[1;32m   1704\u001b[0m     \"\"\"\n\u001b[1;32m   1705\u001b[0m     return torch.group_norm(input, num_groups, weight, bias, eps,\n\u001b[0;32m-> 1706\u001b[0;31m                             torch.backends.cudnn.enabled)\n\u001b[0m\u001b[1;32m   1707\u001b[0m \u001b[0;34m\u001b[0m\u001b[0m\n\u001b[1;32m   1708\u001b[0m \u001b[0;34m\u001b[0m\u001b[0m\n",
      "\u001b[0;31mKeyboardInterrupt\u001b[0m: "
     ]
    }
   ],
   "source": [
    "trainer.train()"
   ]
  },
  {
   "cell_type": "code",
   "execution_count": null,
   "metadata": {},
   "outputs": [],
   "source": []
  }
 ],
 "metadata": {
  "kernelspec": {
   "display_name": "Python 3",
   "language": "python",
   "name": "python3"
  },
  "language_info": {
   "codemirror_mode": {
    "name": "ipython",
    "version": 3
   },
   "file_extension": ".py",
   "mimetype": "text/x-python",
   "name": "python",
   "nbconvert_exporter": "python",
   "pygments_lexer": "ipython3",
   "version": "3.6.10"
  }
 },
 "nbformat": 4,
 "nbformat_minor": 4
}
