{
 "cells": [
  {
   "cell_type": "code",
   "execution_count": null,
   "metadata": {},
   "outputs": [],
   "source": [
    "import h5py    \n",
    "import numpy as np    \n",
    "import matplotlib.pyplot as plt\n",
    "import os\n",
    "import subprocess"
   ]
  },
  {
   "cell_type": "code",
   "execution_count": null,
   "metadata": {},
   "outputs": [],
   "source": [
    "f1 = h5py.File('pointcloud.hdf5', 'r')"
   ]
  },
  {
   "cell_type": "code",
   "execution_count": null,
   "metadata": {},
   "outputs": [],
   "source": [
    "f1.keys()"
   ]
  },
  {
   "cell_type": "code",
   "execution_count": null,
   "metadata": {},
   "outputs": [],
   "source": [
    "!rm -r ./image_slam\n",
    "!mkdir ./image_slam"
   ]
  },
  {
   "cell_type": "code",
   "execution_count": null,
   "metadata": {},
   "outputs": [],
   "source": [
    "for i in range(1):\n",
    "    x = f1['points'][i][:,0]\n",
    "    y = f1['points'][i][:,1]\n",
    "    z = f1['points'][i][:,2]\n",
    "    x = np.array([x[i] for i in range(len(x)) if z[i]>-5 and z[i]<5])\n",
    "    y = np.array([y[i] for i in range(len(y)) if z[i]>-5 and z[i]<5])\n",
    "    z = np.array([z[i] for i in range(len(z)) if z[i]>-5 and z[i]<5])\n",
    "    fig = plt.figure(figsize=(30,10))\n",
    "    ax = fig.add_subplot(131, projection='3d')\n",
    "    ax2 = fig.add_subplot(132)\n",
    "    ax3 = fig.add_subplot(133)\n",
    "    ax2.imshow(np.array(f1['depth'])[i].reshape((240,320)));\n",
    "    ax3.imshow(np.array(f1['rgb'])[i].reshape((240,320,3)));\n",
    "    ax.scatter(x,y,z)\n",
    "\n",
    "    ax.set_xlabel('X Label')\n",
    "    ax.set_ylabel('Y Label')\n",
    "    ax.set_zlabel('Z Label')\n",
    "    ax.azim = 180\n",
    "    ax.elev = 90\n",
    "    ax.set_xlim3d(0, 30)\n",
    "    ax.set_ylim3d(-15, 15)\n",
    "    ax.set_zlim3d(-15, 15)\n",
    "    folder = 'image_slam'\n",
    "    fig.savefig(folder+\"/file%02d.png\" % i)\n",
    "    plt.show()"
   ]
  },
  {
   "cell_type": "code",
   "execution_count": null,
   "metadata": {},
   "outputs": [],
   "source": [
    "!rm video_name.mp4\n",
    "os.chdir('/root/image_slam')\n",
    "subprocess.call([\n",
    "        'ffmpeg', '-framerate', '8', '-i', 'file%02d.png', '-r', '30', '-pix_fmt', 'yuv420p',\n",
    "        '../video_name.mp4'\n",
    "    ])\n",
    "os.chdir('/root')"
   ]
  }
 ],
 "metadata": {
  "kernelspec": {
   "display_name": "Python 3",
   "language": "python",
   "name": "python3"
  },
  "language_info": {
   "codemirror_mode": {
    "name": "ipython",
    "version": 3
   },
   "file_extension": ".py",
   "mimetype": "text/x-python",
   "name": "python",
   "nbconvert_exporter": "python",
   "pygments_lexer": "ipython3",
   "version": "3.6.10"
  }
 },
 "nbformat": 4,
 "nbformat_minor": 4
}
