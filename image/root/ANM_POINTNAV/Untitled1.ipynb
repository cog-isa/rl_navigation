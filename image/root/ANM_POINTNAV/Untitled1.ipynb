{
 "cells": [
  {
   "cell_type": "code",
   "execution_count": 2,
   "metadata": {},
   "outputs": [],
   "source": [
    "import argparse\n",
    "import random\n",
    "import numpy as np\n",
    "from habitat_baselines.config.default import get_config\n",
    "import habitat\n",
    "import os\n",
    "from habitat import Config, logger\n",
    "from habitat import Config, Dataset\n",
    "import matplotlib.pyplot as plt\n",
    "import transformations as tf"
   ]
  },
  {
   "cell_type": "code",
   "execution_count": 3,
   "metadata": {},
   "outputs": [],
   "source": [
    "import contextlib\n",
    "import time\n",
    "from collections import OrderedDict, defaultdict, deque\n",
    "from typing import Any, Dict, List, Optional\n",
    "from habitat_baselines.rl.ddppo.algo.ddp_utils import (\n",
    "    EXIT,\n",
    "    REQUEUE,\n",
    "    add_signal_handlers,\n",
    "    init_distrib_slurm,\n",
    "    load_interrupted_state,\n",
    "    requeue_job,\n",
    "    save_interrupted_state,\n",
    ")\n",
    "from habitat_baselines.common.baseline_registry import baseline_registry\n",
    "#from habitat_baselines.common.env_utils import construct_envs\n",
    "from habitat_baselines.common.environments import get_env_class\n",
    "from habitat_baselines.common.rollout_storage import RolloutStorage\n",
    "from habitat_baselines.common.tensorboard_utils import TensorboardWriter\n",
    "from habitat_baselines.common.utils import batch_obs, linear_decay\n",
    "import numpy as np\n",
    "import torch\n",
    "import torch.distributed as distrib\n",
    "import torch.nn as nn\n",
    "from gym import spaces\n",
    "from gym.spaces.dict_space import Dict as SpaceDict\n",
    "from torch.optim.lr_scheduler import LambdaLR\n",
    "from habitat_baselines.rl.ddppo.policy.resnet_policy import PointNavResNetPolicy\n",
    "from habitat_baselines.rl.ddppo.algo.ddppo import DDPPO\n",
    "from habitat_baselines.common.base_trainer import BaseRLTrainer\n",
    "from habitat_baselines.common.baseline_registry import baseline_registry"
   ]
  },
  {
   "cell_type": "code",
   "execution_count": 4,
   "metadata": {},
   "outputs": [],
   "source": [
    "import gym\n",
    "import logging\n",
    "from arguments import get_args\n",
    "from config_init import get_config_init\n",
    "from utils.storage import GlobalRolloutStorage, FIFOMemory\n",
    "from utils.optimization import get_optimizer\n",
    "from model import RL_Policy, Local_IL_Policy, Neural_SLAM_Module\n",
    "from habitat.datasets.pointnav.pointnav_dataset import PointNavDatasetV1\n",
    "import sys\n",
    "import matplotlib\n",
    "if sys.platform == 'darwin':\n",
    "    matplotlib.use(\"tkagg\")\n",
    "import matplotlib.pyplot as plt\n",
    "import matplotlib.pyplot as plt\n",
    "from matplotlib.patches import Circle\n",
    "%matplotlib inline"
   ]
  },
  {
   "cell_type": "code",
   "execution_count": 5,
   "metadata": {},
   "outputs": [],
   "source": [
    "from ppotrainer import PPOTrainer\n",
    "from ddpotrainer import DDPPOTrainer\n",
    "from constructenv import construct_envs\n",
    "from my_env import MyRLEnvNew\n",
    "from habitat import make_dataset\n",
    "from constructenv import make_env_fn\n",
    "from vectorenv import VectorEnv\n",
    "from util import draw_top_down_map"
   ]
  },
  {
   "cell_type": "code",
   "execution_count": 6,
   "metadata": {},
   "outputs": [
    {
     "name": "stdout",
     "output_type": "stream",
     "text": [
      "Auto GPU config:\n",
      "Number of processes: 36\n",
      "Number of processes on GPU 0: 0\n",
      "Number of processes per GPU: 12\n"
     ]
    }
   ],
   "source": [
    "argumnts = ''\n",
    "args = get_args(argumnts)\n",
    "args.num_processes = 4\n",
    "num_scenes = args.num_processes\n",
    "num_episodes = int(args.num_episodes)\n",
    "config = get_config_init()\n",
    "config.defrost()\n",
    "config.NUM_PROCESSES = args.num_processes\n",
    "config.freeze()\n",
    "device = args.device = torch.device(\"cuda:0\" if args.cuda else \"cpu\")\n",
    "\n",
    "costs = deque(maxlen=1000)\n",
    "exp_costs = deque(maxlen=1000)\n",
    "pose_costs = deque(maxlen=1000)"
   ]
  },
  {
   "cell_type": "markdown",
   "metadata": {},
   "source": [
    "# One env"
   ]
  },
  {
   "cell_type": "code",
   "execution_count": 7,
   "metadata": {
    "collapsed": true,
    "jupyter": {
     "outputs_hidden": true
    }
   },
   "outputs": [
    {
     "ename": "KeyboardInterrupt",
     "evalue": "",
     "output_type": "error",
     "traceback": [
      "\u001b[0;31m---------------------------------------------------------------------------\u001b[0m",
      "\u001b[0;31mKeyboardInterrupt\u001b[0m                         Traceback (most recent call last)",
      "\u001b[0;32m<ipython-input-7-cc79edb804c9>\u001b[0m in \u001b[0;36m<module>\u001b[0;34m\u001b[0m\n\u001b[1;32m      1\u001b[0m \u001b[0mrank\u001b[0m \u001b[0;34m=\u001b[0m \u001b[0mrange\u001b[0m\u001b[0;34m(\u001b[0m\u001b[0margs\u001b[0m\u001b[0;34m.\u001b[0m\u001b[0mnum_processes\u001b[0m\u001b[0;34m)\u001b[0m\u001b[0;34m\u001b[0m\u001b[0;34m\u001b[0m\u001b[0m\n\u001b[0;32m----> 2\u001b[0;31m \u001b[0mdataset\u001b[0m \u001b[0;34m=\u001b[0m \u001b[0mPointNavDatasetV1\u001b[0m\u001b[0;34m(\u001b[0m\u001b[0mconfig\u001b[0m\u001b[0;34m.\u001b[0m\u001b[0mTASK_CONFIG\u001b[0m\u001b[0;34m.\u001b[0m\u001b[0mDATASET\u001b[0m\u001b[0;34m)\u001b[0m\u001b[0;34m\u001b[0m\u001b[0;34m\u001b[0m\u001b[0m\n\u001b[0m\u001b[1;32m      3\u001b[0m \u001b[0mone_env\u001b[0m \u001b[0;34m=\u001b[0m \u001b[0mMyRLEnvNew\u001b[0m\u001b[0;34m(\u001b[0m\u001b[0margs\u001b[0m\u001b[0;34m=\u001b[0m\u001b[0margs\u001b[0m\u001b[0;34m,\u001b[0m \u001b[0mrank\u001b[0m\u001b[0;34m=\u001b[0m\u001b[0mrank\u001b[0m\u001b[0;34m,\u001b[0m \u001b[0mconfig\u001b[0m\u001b[0;34m=\u001b[0m\u001b[0mconfig\u001b[0m\u001b[0;34m,\u001b[0m \u001b[0mdataset\u001b[0m\u001b[0;34m=\u001b[0m\u001b[0mdataset\u001b[0m\u001b[0;34m)\u001b[0m\u001b[0;34m\u001b[0m\u001b[0;34m\u001b[0m\u001b[0m\n",
      "\u001b[0;32m/habitat-api/habitat/datasets/pointnav/pointnav_dataset.py\u001b[0m in \u001b[0;36m__init__\u001b[0;34m(self, config)\u001b[0m\n\u001b[1;32m    113\u001b[0m                 )\n\u001b[1;32m    114\u001b[0m                 \u001b[0;32mwith\u001b[0m \u001b[0mgzip\u001b[0m\u001b[0;34m.\u001b[0m\u001b[0mopen\u001b[0m\u001b[0;34m(\u001b[0m\u001b[0mscene_filename\u001b[0m\u001b[0;34m,\u001b[0m \u001b[0;34m\"rt\"\u001b[0m\u001b[0;34m)\u001b[0m \u001b[0;32mas\u001b[0m \u001b[0mf\u001b[0m\u001b[0;34m:\u001b[0m\u001b[0;34m\u001b[0m\u001b[0;34m\u001b[0m\u001b[0m\n\u001b[0;32m--> 115\u001b[0;31m                     \u001b[0mself\u001b[0m\u001b[0;34m.\u001b[0m\u001b[0mfrom_json\u001b[0m\u001b[0;34m(\u001b[0m\u001b[0mf\u001b[0m\u001b[0;34m.\u001b[0m\u001b[0mread\u001b[0m\u001b[0;34m(\u001b[0m\u001b[0;34m)\u001b[0m\u001b[0;34m,\u001b[0m \u001b[0mscenes_dir\u001b[0m\u001b[0;34m=\u001b[0m\u001b[0mconfig\u001b[0m\u001b[0;34m.\u001b[0m\u001b[0mSCENES_DIR\u001b[0m\u001b[0;34m)\u001b[0m\u001b[0;34m\u001b[0m\u001b[0;34m\u001b[0m\u001b[0m\n\u001b[0m\u001b[1;32m    116\u001b[0m \u001b[0;34m\u001b[0m\u001b[0m\n\u001b[1;32m    117\u001b[0m         \u001b[0;32melse\u001b[0m\u001b[0;34m:\u001b[0m\u001b[0;34m\u001b[0m\u001b[0;34m\u001b[0m\u001b[0m\n",
      "\u001b[0;32m/habitat-api/habitat/datasets/pointnav/pointnav_dataset.py\u001b[0m in \u001b[0;36mfrom_json\u001b[0;34m(self, json_str, scenes_dir)\u001b[0m\n\u001b[1;32m    123\u001b[0m         \u001b[0mself\u001b[0m\u001b[0;34m,\u001b[0m \u001b[0mjson_str\u001b[0m\u001b[0;34m:\u001b[0m \u001b[0mstr\u001b[0m\u001b[0;34m,\u001b[0m \u001b[0mscenes_dir\u001b[0m\u001b[0;34m:\u001b[0m \u001b[0mOptional\u001b[0m\u001b[0;34m[\u001b[0m\u001b[0mstr\u001b[0m\u001b[0;34m]\u001b[0m \u001b[0;34m=\u001b[0m \u001b[0;32mNone\u001b[0m\u001b[0;34m\u001b[0m\u001b[0;34m\u001b[0m\u001b[0m\n\u001b[1;32m    124\u001b[0m     ) -> None:\n\u001b[0;32m--> 125\u001b[0;31m         \u001b[0mdeserialized\u001b[0m \u001b[0;34m=\u001b[0m \u001b[0mjson\u001b[0m\u001b[0;34m.\u001b[0m\u001b[0mloads\u001b[0m\u001b[0;34m(\u001b[0m\u001b[0mjson_str\u001b[0m\u001b[0;34m)\u001b[0m\u001b[0;34m\u001b[0m\u001b[0;34m\u001b[0m\u001b[0m\n\u001b[0m\u001b[1;32m    126\u001b[0m         \u001b[0;32mif\u001b[0m \u001b[0mCONTENT_SCENES_PATH_FIELD\u001b[0m \u001b[0;32min\u001b[0m \u001b[0mdeserialized\u001b[0m\u001b[0;34m:\u001b[0m\u001b[0;34m\u001b[0m\u001b[0;34m\u001b[0m\u001b[0m\n\u001b[1;32m    127\u001b[0m             \u001b[0mself\u001b[0m\u001b[0;34m.\u001b[0m\u001b[0mcontent_scenes_path\u001b[0m \u001b[0;34m=\u001b[0m \u001b[0mdeserialized\u001b[0m\u001b[0;34m[\u001b[0m\u001b[0mCONTENT_SCENES_PATH_FIELD\u001b[0m\u001b[0;34m]\u001b[0m\u001b[0;34m\u001b[0m\u001b[0;34m\u001b[0m\u001b[0m\n",
      "\u001b[0;32m/opt/conda/envs/habitat/lib/python3.6/json/__init__.py\u001b[0m in \u001b[0;36mloads\u001b[0;34m(s, encoding, cls, object_hook, parse_float, parse_int, parse_constant, object_pairs_hook, **kw)\u001b[0m\n\u001b[1;32m    352\u001b[0m             \u001b[0mparse_int\u001b[0m \u001b[0;32mis\u001b[0m \u001b[0;32mNone\u001b[0m \u001b[0;32mand\u001b[0m \u001b[0mparse_float\u001b[0m \u001b[0;32mis\u001b[0m \u001b[0;32mNone\u001b[0m \u001b[0;32mand\u001b[0m\u001b[0;34m\u001b[0m\u001b[0;34m\u001b[0m\u001b[0m\n\u001b[1;32m    353\u001b[0m             parse_constant is None and object_pairs_hook is None and not kw):\n\u001b[0;32m--> 354\u001b[0;31m         \u001b[0;32mreturn\u001b[0m \u001b[0m_default_decoder\u001b[0m\u001b[0;34m.\u001b[0m\u001b[0mdecode\u001b[0m\u001b[0;34m(\u001b[0m\u001b[0ms\u001b[0m\u001b[0;34m)\u001b[0m\u001b[0;34m\u001b[0m\u001b[0;34m\u001b[0m\u001b[0m\n\u001b[0m\u001b[1;32m    355\u001b[0m     \u001b[0;32mif\u001b[0m \u001b[0mcls\u001b[0m \u001b[0;32mis\u001b[0m \u001b[0;32mNone\u001b[0m\u001b[0;34m:\u001b[0m\u001b[0;34m\u001b[0m\u001b[0;34m\u001b[0m\u001b[0m\n\u001b[1;32m    356\u001b[0m         \u001b[0mcls\u001b[0m \u001b[0;34m=\u001b[0m \u001b[0mJSONDecoder\u001b[0m\u001b[0;34m\u001b[0m\u001b[0;34m\u001b[0m\u001b[0m\n",
      "\u001b[0;32m/opt/conda/envs/habitat/lib/python3.6/json/decoder.py\u001b[0m in \u001b[0;36mdecode\u001b[0;34m(self, s, _w)\u001b[0m\n\u001b[1;32m    337\u001b[0m \u001b[0;34m\u001b[0m\u001b[0m\n\u001b[1;32m    338\u001b[0m         \"\"\"\n\u001b[0;32m--> 339\u001b[0;31m         \u001b[0mobj\u001b[0m\u001b[0;34m,\u001b[0m \u001b[0mend\u001b[0m \u001b[0;34m=\u001b[0m \u001b[0mself\u001b[0m\u001b[0;34m.\u001b[0m\u001b[0mraw_decode\u001b[0m\u001b[0;34m(\u001b[0m\u001b[0ms\u001b[0m\u001b[0;34m,\u001b[0m \u001b[0midx\u001b[0m\u001b[0;34m=\u001b[0m\u001b[0m_w\u001b[0m\u001b[0;34m(\u001b[0m\u001b[0ms\u001b[0m\u001b[0;34m,\u001b[0m \u001b[0;36m0\u001b[0m\u001b[0;34m)\u001b[0m\u001b[0;34m.\u001b[0m\u001b[0mend\u001b[0m\u001b[0;34m(\u001b[0m\u001b[0;34m)\u001b[0m\u001b[0;34m)\u001b[0m\u001b[0;34m\u001b[0m\u001b[0;34m\u001b[0m\u001b[0m\n\u001b[0m\u001b[1;32m    340\u001b[0m         \u001b[0mend\u001b[0m \u001b[0;34m=\u001b[0m \u001b[0m_w\u001b[0m\u001b[0;34m(\u001b[0m\u001b[0ms\u001b[0m\u001b[0;34m,\u001b[0m \u001b[0mend\u001b[0m\u001b[0;34m)\u001b[0m\u001b[0;34m.\u001b[0m\u001b[0mend\u001b[0m\u001b[0;34m(\u001b[0m\u001b[0;34m)\u001b[0m\u001b[0;34m\u001b[0m\u001b[0;34m\u001b[0m\u001b[0m\n\u001b[1;32m    341\u001b[0m         \u001b[0;32mif\u001b[0m \u001b[0mend\u001b[0m \u001b[0;34m!=\u001b[0m \u001b[0mlen\u001b[0m\u001b[0;34m(\u001b[0m\u001b[0ms\u001b[0m\u001b[0;34m)\u001b[0m\u001b[0;34m:\u001b[0m\u001b[0;34m\u001b[0m\u001b[0;34m\u001b[0m\u001b[0m\n",
      "\u001b[0;32m/opt/conda/envs/habitat/lib/python3.6/json/decoder.py\u001b[0m in \u001b[0;36mraw_decode\u001b[0;34m(self, s, idx)\u001b[0m\n\u001b[1;32m    353\u001b[0m         \"\"\"\n\u001b[1;32m    354\u001b[0m         \u001b[0;32mtry\u001b[0m\u001b[0;34m:\u001b[0m\u001b[0;34m\u001b[0m\u001b[0;34m\u001b[0m\u001b[0m\n\u001b[0;32m--> 355\u001b[0;31m             \u001b[0mobj\u001b[0m\u001b[0;34m,\u001b[0m \u001b[0mend\u001b[0m \u001b[0;34m=\u001b[0m \u001b[0mself\u001b[0m\u001b[0;34m.\u001b[0m\u001b[0mscan_once\u001b[0m\u001b[0;34m(\u001b[0m\u001b[0ms\u001b[0m\u001b[0;34m,\u001b[0m \u001b[0midx\u001b[0m\u001b[0;34m)\u001b[0m\u001b[0;34m\u001b[0m\u001b[0;34m\u001b[0m\u001b[0m\n\u001b[0m\u001b[1;32m    356\u001b[0m         \u001b[0;32mexcept\u001b[0m \u001b[0mStopIteration\u001b[0m \u001b[0;32mas\u001b[0m \u001b[0merr\u001b[0m\u001b[0;34m:\u001b[0m\u001b[0;34m\u001b[0m\u001b[0;34m\u001b[0m\u001b[0m\n\u001b[1;32m    357\u001b[0m             \u001b[0;32mraise\u001b[0m \u001b[0mJSONDecodeError\u001b[0m\u001b[0;34m(\u001b[0m\u001b[0;34m\"Expecting value\"\u001b[0m\u001b[0;34m,\u001b[0m \u001b[0ms\u001b[0m\u001b[0;34m,\u001b[0m \u001b[0merr\u001b[0m\u001b[0;34m.\u001b[0m\u001b[0mvalue\u001b[0m\u001b[0;34m)\u001b[0m \u001b[0;32mfrom\u001b[0m \u001b[0;32mNone\u001b[0m\u001b[0;34m\u001b[0m\u001b[0;34m\u001b[0m\u001b[0m\n",
      "\u001b[0;31mKeyboardInterrupt\u001b[0m: "
     ]
    }
   ],
   "source": [
    "rank = range(args.num_processes)\n",
    "dataset = PointNavDatasetV1(config.TASK_CONFIG.DATASET)\n",
    "one_env = MyRLEnvNew(args=args, rank=rank, config=config, dataset=dataset)"
   ]
  },
  {
   "cell_type": "code",
   "execution_count": null,
   "metadata": {},
   "outputs": [],
   "source": [
    "obs = one_env.reset()"
   ]
  },
  {
   "cell_type": "code",
   "execution_count": null,
   "metadata": {},
   "outputs": [],
   "source": [
    "plt.imshow(obs[0]['depth'])"
   ]
  },
  {
   "cell_type": "markdown",
   "metadata": {},
   "source": [
    "# Test envs"
   ]
  },
  {
   "cell_type": "code",
   "execution_count": 7,
   "metadata": {},
   "outputs": [
    {
     "name": "stderr",
     "output_type": "stream",
     "text": [
      "2020-04-20 17:26:48,586 Initializing dataset PointNav-v1\n"
     ]
    }
   ],
   "source": [
    "envs = construct_envs(args, config, get_env_class(config.ENV_NAME))"
   ]
  },
  {
   "cell_type": "code",
   "execution_count": 8,
   "metadata": {},
   "outputs": [],
   "source": [
    "observations, info = envs.reset()"
   ]
  },
  {
   "cell_type": "code",
   "execution_count": 9,
   "metadata": {},
   "outputs": [],
   "source": [
    "from habitat_baselines.common.utils import batch_obs, linear_decay\n",
    "from habitat_baselines.common.rollout_storage import RolloutStorage\n",
    "from gym.spaces.box import Box\n",
    "from resnet_policy import PointNavResNetPolicy\n",
    "batch = batch_obs(observations)\n",
    "obs_space = envs.observation_spaces[0]\n",
    "rollouts = RolloutStorage(\n",
    "            config.RL.PPO.num_steps,\n",
    "            envs.num_envs,\n",
    "            obs_space,\n",
    "            envs.action_spaces[0],\n",
    "            config.RL.PPO.hidden_size,\n",
    "            num_recurrent_layers=config.RL.DDPPO.num_recurrent_layers)\n",
    "rollouts.to(args.device)"
   ]
  },
  {
   "cell_type": "code",
   "execution_count": 10,
   "metadata": {},
   "outputs": [],
   "source": [
    "for sensor in rollouts.observations:\n",
    "    rollouts.observations[sensor][0].copy_(batch[sensor])"
   ]
  },
  {
   "cell_type": "code",
   "execution_count": 12,
   "metadata": {},
   "outputs": [],
   "source": [
    "actor_critic = PointNavResNetPolicy(\n",
    "            observation_space=envs.observation_spaces[0],\n",
    "            action_space=envs.action_spaces[0],\n",
    "            hidden_size=config.RL.PPO.hidden_size,\n",
    "            rnn_type=config.RL.DDPPO.rnn_type,\n",
    "            num_recurrent_layers=config.RL.DDPPO.num_recurrent_layers,\n",
    "            backbone=config.RL.DDPPO.backbone,\n",
    "            goal_sensor_uuid=config.TASK_CONFIG.TASK.GOAL_SENSOR_UUID,\n",
    "            normalize_visual_inputs=\"rgb\"\n",
    "            in envs.observation_spaces[0].spaces,\n",
    "        )\n",
    "actor_critic.to(device);"
   ]
  },
  {
   "cell_type": "code",
   "execution_count": 13,
   "metadata": {},
   "outputs": [],
   "source": [
    "obs_space = envs.observation_spaces[0]\n",
    "ppo_cfg = config.RL.PPO\n",
    "rollouts = RolloutStorage(\n",
    "            ppo_cfg.num_steps,\n",
    "            envs.num_envs,\n",
    "            obs_space,\n",
    "            envs.action_spaces[0],\n",
    "            ppo_cfg.hidden_size,\n",
    "            num_recurrent_layers=actor_critic.net.num_recurrent_layers)\n",
    "rollouts.to(device)"
   ]
  },
  {
   "cell_type": "code",
   "execution_count": 14,
   "metadata": {},
   "outputs": [],
   "source": [
    "step_observation = {k: v[rollouts.step] for k, v in rollouts.observations.items()}"
   ]
  },
  {
   "cell_type": "code",
   "execution_count": 15,
   "metadata": {},
   "outputs": [],
   "source": [
    "(values, actions, actions_log_probs, recurrent_hidden_states) = actor_critic.act(\n",
    "                step_observation,\n",
    "                rollouts.recurrent_hidden_states[rollouts.step],\n",
    "                rollouts.prev_actions[rollouts.step],\n",
    "                rollouts.masks[rollouts.step])"
   ]
  },
  {
   "cell_type": "code",
   "execution_count": 16,
   "metadata": {},
   "outputs": [],
   "source": [
    "outputs = envs.step([a[0].item() for a in actions])\n",
    "observations, rewards, dones, infos = [list(x) for x in zip(*outputs)]\n",
    "observations = [observations[ii] if i!=0 else observations[ii][0] for ii, i in enumerate(actions)]"
   ]
  },
  {
   "cell_type": "code",
   "execution_count": 17,
   "metadata": {},
   "outputs": [],
   "source": [
    "from habitat_baselines.common.utils import batch_obs\n",
    "batch = batch_obs(observations)\n",
    "rewards = torch.tensor(\n",
    "            rewards, dtype=torch.float, device='cuda:0')\n",
    "rewards = rewards.unsqueeze(1)\n",
    "masks = torch.tensor([[0.0] if done else [1.0] for done in dones],\n",
    "            dtype=torch.float,\n",
    "            device='cuda:0')"
   ]
  },
  {
   "cell_type": "code",
   "execution_count": 18,
   "metadata": {},
   "outputs": [],
   "source": [
    "rollouts.insert(\n",
    "            batch,\n",
    "            recurrent_hidden_states,\n",
    "            actions,\n",
    "            actions_log_probs,\n",
    "            values,\n",
    "            rewards,\n",
    "            masks)"
   ]
  },
  {
   "cell_type": "code",
   "execution_count": 19,
   "metadata": {},
   "outputs": [],
   "source": [
    "OBSERVATION_SPACE_COMMAND = 'mapper_gt_pose'\n",
    "for write_fn in envs._connection_write_fns:\n",
    "    write_fn((OBSERVATION_SPACE_COMMAND, None))\n",
    "obs = [read_fn() for read_fn in envs._connection_read_fns]"
   ]
  },
  {
   "cell_type": "code",
   "execution_count": 20,
   "metadata": {},
   "outputs": [],
   "source": [
    "# slam\n",
    "nslam_module = Neural_SLAM_Module(args).to(device)\n",
    "slam_optimizer = get_optimizer(nslam_module.parameters(),\n",
    "                               args.slam_optimizer)\n",
    "# Storage\n",
    "slam_memory = FIFOMemory(args.slam_batch_size)"
   ]
  },
  {
   "cell_type": "code",
   "execution_count": 21,
   "metadata": {},
   "outputs": [
    {
     "name": "stderr",
     "output_type": "stream",
     "text": [
      "/opt/conda/envs/habitat/lib/python3.6/site-packages/torch/nn/functional.py:2764: UserWarning: Default grid_sample and affine_grid behavior has changed to align_corners=False since 1.3.0. Please specify align_corners=True if the old behavior is desired. See the documentation of grid_sample for details.\n",
      "  warnings.warn(\"Default grid_sample and affine_grid behavior has changed \"\n",
      "/opt/conda/envs/habitat/lib/python3.6/site-packages/torch/nn/functional.py:2705: UserWarning: Default grid_sample and affine_grid behavior has changed to align_corners=False since 1.3.0. Please specify align_corners=True if the old behavior is desired. See the documentation of grid_sample for details.\n",
      "  warnings.warn(\"Default grid_sample and affine_grid behavior has changed \"\n"
     ]
    }
   ],
   "source": [
    "map_size = args.map_size_cm // args.map_resolution\n",
    "num_scenes = args.num_processes\n",
    "full_w, full_h = map_size, map_size\n",
    "local_w, local_h = int(full_w / args.global_downscaling), \\\n",
    "                   int(full_h / args.global_downscaling)\n",
    "local_map = torch.zeros(num_scenes, 4, local_w, local_h).float().to(device)\n",
    "local_pose = torch.zeros(num_scenes, 3).float().to(device)\n",
    "poses = torch.from_numpy(np.asarray(\n",
    "    [info[env_idx]['sensor_pose'] for env_idx\n",
    "     in range(num_scenes)])\n",
    ").float().to(device)\n",
    "\n",
    "obs_new = torch.from_numpy(np.array([observations[i]['rgb'] for i in range(args.num_processes)])).float().to(device)\n",
    "\n",
    "_, _, local_map[:, 0, :, :], local_map[:, 1, :, :], _, local_pose = \\\n",
    "    nslam_module(obs_new, obs_new, poses, local_map[:, 0, :, :],\n",
    "                 local_map[:, 1, :, :], local_pose)"
   ]
  },
  {
   "cell_type": "code",
   "execution_count": 22,
   "metadata": {},
   "outputs": [
    {
     "data": {
      "text/plain": [
       "<matplotlib.image.AxesImage at 0x7f8e70861da0>"
      ]
     },
     "execution_count": 22,
     "metadata": {},
     "output_type": "execute_result"
    },
    {
     "data": {
      "image/png": "[encoded data removed]",
      "text/plain": [
       "<Figure size 432x288 with 1 Axes>"
      ]
     },
     "metadata": {
      "needs_background": "light"
     },
     "output_type": "display_data"
    }
   ],
   "source": [
    "plt.imshow(local_map[0][0].cpu())"
   ]
  },
  {
   "cell_type": "markdown",
   "metadata": {},
   "source": [
    "# Trainer"
   ]
  },
  {
   "cell_type": "code",
   "execution_count": 7,
   "metadata": {},
   "outputs": [],
   "source": [
    "trainer_init = baseline_registry.get_trainer(config.TRAINER_NAME)"
   ]
  },
  {
   "cell_type": "code",
   "execution_count": 8,
   "metadata": {
    "collapsed": true,
    "jupyter": {
     "outputs_hidden": true
    }
   },
   "outputs": [
    {
     "name": "stderr",
     "output_type": "stream",
     "text": [
      "2020-04-20 17:30:49,423 config: BASE_TASK_CONFIG_PATH: /habitat-api/configs/tasks/pointnav_gibson.yaml\n",
      "CHECKPOINT_FOLDER: data/new_checkpoints\n",
      "CHECKPOINT_INTERVAL: 50\n",
      "CMD_TRAILING_OPTS: []\n",
      "ENV_NAME: MyRLEnvNew\n",
      "EVAL:\n",
      "  SPLIT: val\n",
      "  USE_CKPT_CONFIG: True\n",
      "EVAL_CKPT_PATH_DIR: data/new_checkpoints\n",
      "LOG_FILE: train.log\n",
      "LOG_INTERVAL: 10\n",
      "NUM_PROCESSES: 4\n",
      "NUM_UPDATES: 50000\n",
      "ORBSLAM2:\n",
      "  ANGLE_TH: 0.2617993877991494\n",
      "  BETA: 100\n",
      "  CAMERA_HEIGHT: 1.25\n",
      "  DEPTH_DENORM: 10.0\n",
      "  DIST_REACHED_TH: 0.15\n",
      "  DIST_TO_STOP: 0.05\n",
      "  D_OBSTACLE_MAX: 4.0\n",
      "  D_OBSTACLE_MIN: 0.1\n",
      "  H_OBSTACLE_MAX: 1.25\n",
      "  H_OBSTACLE_MIN: 0.375\n",
      "  MAP_CELL_SIZE: 0.1\n",
      "  MAP_SIZE: 40\n",
      "  MIN_PTS_IN_OBSTACLE: 320.0\n",
      "  NEXT_WAYPOINT_TH: 0.5\n",
      "  NUM_ACTIONS: 3\n",
      "  PLANNER_MAX_STEPS: 500\n",
      "  PREPROCESS_MAP: True\n",
      "  SLAM_SETTINGS_PATH: habitat_baselines/slambased/data/mp3d3_small1k.yaml\n",
      "  SLAM_VOCAB_PATH: habitat_baselines/slambased/data/ORBvoc.txt\n",
      "RL:\n",
      "  DDPPO:\n",
      "    backbone: resnet50\n",
      "    distrib_backend: NCCL\n",
      "    num_recurrent_layers: 2\n",
      "    pretrained: False\n",
      "    pretrained_encoder: False\n",
      "    pretrained_weights: data/ddppo-models/gibson-2plus-resnet50.pth\n",
      "    reset_critic: True\n",
      "    rnn_type: LSTM\n",
      "    sync_frac: 0.6\n",
      "    train_encoder: True\n",
      "  FRAMESKIP: 20\n",
      "  FRAMESTACK: 1\n",
      "  PPO:\n",
      "    clip_param: 0.2\n",
      "    entropy_coef: 0.01\n",
      "    eps: 1e-05\n",
      "    gamma: 0.99\n",
      "    hidden_size: 512\n",
      "    lr: 0.00025\n",
      "    max_grad_norm: 0.2\n",
      "    num_mini_batch: 2\n",
      "    num_steps: 128\n",
      "    ppo_epoch: 2\n",
      "    reward_window_size: 50\n",
      "    tau: 0.95\n",
      "    use_gae: True\n",
      "    use_linear_clip_decay: False\n",
      "    use_linear_lr_decay: False\n",
      "    use_normalized_advantage: False\n",
      "    value_loss_coef: 0.5\n",
      "  REWARD_MEASURE: distance_to_goal\n",
      "  SLACK_REWARD: -0.01\n",
      "  SUCCESS_MEASURE: spl\n",
      "  SUCCESS_REWARD: 2.5\n",
      "SENSORS: ['DEPTH_SENSOR']\n",
      "SIMULATOR_GPU_ID: 0\n",
      "TASK_CONFIG:\n",
      "  DATASET:\n",
      "    CONTENT_SCENES: ['*']\n",
      "    DATA_PATH: /data/v1/{split}/{split}.json.gz\n",
      "    SCENES_DIR: /data\n",
      "    SPLIT: train\n",
      "    TYPE: PointNav-v1\n",
      "  ENVIRONMENT:\n",
      "    ITERATOR_OPTIONS:\n",
      "      CYCLE: True\n",
      "      GROUP_BY_SCENE: True\n",
      "      MAX_SCENE_REPEAT_EPISODES: -1\n",
      "      MAX_SCENE_REPEAT_STEPS: 10000\n",
      "      NUM_EPISODE_SAMPLE: -1\n",
      "      SHUFFLE: False\n",
      "      STEP_REPETITION_RANGE: 0.2\n",
      "    MAX_EPISODE_SECONDS: 10000000\n",
      "    MAX_EPISODE_STEPS: 10000\n",
      "  PYROBOT:\n",
      "    BASE_CONTROLLER: proportional\n",
      "    BASE_PLANNER: none\n",
      "    BUMP_SENSOR:\n",
      "      TYPE: PyRobotBumpSensor\n",
      "    DEPTH_SENSOR:\n",
      "      CENTER_CROP: False\n",
      "      HEIGHT: 480\n",
      "      MAX_DEPTH: 5.0\n",
      "      MIN_DEPTH: 0.0\n",
      "      NORMALIZE_DEPTH: True\n",
      "      TYPE: PyRobotDepthSensor\n",
      "      WIDTH: 640\n",
      "    LOCOBOT:\n",
      "      ACTIONS: ['BASE_ACTIONS', 'CAMERA_ACTIONS']\n",
      "      BASE_ACTIONS: ['go_to_relative', 'go_to_absolute']\n",
      "      CAMERA_ACTIONS: ['set_pan', 'set_tilt', 'set_pan_tilt']\n",
      "    RGB_SENSOR:\n",
      "      CENTER_CROP: False\n",
      "      HEIGHT: 480\n",
      "      TYPE: PyRobotRGBSensor\n",
      "      WIDTH: 640\n",
      "    ROBOT: locobot\n",
      "    ROBOTS: ['locobot']\n",
      "    SENSORS: ['RGB_SENSOR', 'DEPTH_SENSOR', 'BUMP_SENSOR']\n",
      "  SEED: 100\n",
      "  SIMULATOR:\n",
      "    ACTION_SPACE_CONFIG: pyrobotnoisy\n",
      "    AGENTS: ['AGENT_0']\n",
      "    AGENT_0:\n",
      "      ANGULAR_ACCELERATION: 12.56\n",
      "      ANGULAR_FRICTION: 1.0\n",
      "      COEFFICIENT_OF_RESTITUTION: 0.0\n",
      "      HEIGHT: 0.88\n",
      "      IS_SET_START_STATE: False\n",
      "      LINEAR_ACCELERATION: 20.0\n",
      "      LINEAR_FRICTION: 0.5\n",
      "      MASS: 32.0\n",
      "      RADIUS: 0.18\n",
      "      SENSORS: ['RGB_SENSOR', 'DEPTH_SENSOR']\n",
      "      START_POSITION: [0, 0, 0]\n",
      "      START_ROTATION: [0, 0, 0, 1]\n",
      "    DEFAULT_AGENT_ID: 0\n",
      "    DEPTH_SENSOR:\n",
      "      HEIGHT: 256\n",
      "      HFOV: 70\n",
      "      MAX_DEPTH: 10.0\n",
      "      MIN_DEPTH: 0.1\n",
      "      NOISE_MODEL: RedwoodDepthNoiseModel\n",
      "      NORMALIZE_DEPTH: True\n",
      "      ORIENTATION: [0.0, 0.0, 0.0]\n",
      "      POSITION: [0, 0.88, 0]\n",
      "      TYPE: HabitatSimDepthSensor\n",
      "      WIDTH: 256\n",
      "    FORWARD_STEP_SIZE: 0.05\n",
      "    HABITAT_SIM_V0:\n",
      "      ALLOW_SLIDING: False\n",
      "      ENABLE_PHYSICS: False\n",
      "      GPU_DEVICE_ID: 0\n",
      "      GPU_GPU: False\n",
      "      PHYSICS_CONFIG_FILE: ./data/default.phys_scene_config.json\n",
      "    NOISE_MODEL:\n",
      "      CONTROLLER: Proportional\n",
      "      NOISE_MULTIPLIER: 0.5\n",
      "      ROBOT: LoCoBot\n",
      "    RGB_SENSOR:\n",
      "      HEIGHT: 256\n",
      "      HFOV: 70\n",
      "      NOISE_MODEL: GaussianNoiseModel\n",
      "      NOISE_MODEL_KWARGS:\n",
      "        intensity_constant: 0.1\n",
      "      ORIENTATION: [0.0, 0.0, 0.0]\n",
      "      POSITION: [0, 0.88, 0]\n",
      "      TYPE: HabitatSimRGBSensor\n",
      "      WIDTH: 256\n",
      "    SCENE: /data/gibson/Aldrich.glb\n",
      "    SEED: 100\n",
      "    SEMANTIC_SENSOR:\n",
      "      HEIGHT: 480\n",
      "      HFOV: 90\n",
      "      ORIENTATION: [0.0, 0.0, 0.0]\n",
      "      POSITION: [0, 1.25, 0]\n",
      "      TYPE: HabitatSimSemanticSensor\n",
      "      WIDTH: 640\n",
      "    TILT_ANGLE: 0.5\n",
      "    TURN_ANGLE: 0.5\n",
      "    TYPE: Sim-v0\n",
      "  TASK:\n",
      "    ACTIONS:\n",
      "      ANSWER:\n",
      "        TYPE: AnswerAction\n",
      "      LOOK_DOWN:\n",
      "        TYPE: LookDownAction\n",
      "      LOOK_UP:\n",
      "        TYPE: LookUpAction\n",
      "      MOVE_FORWARD:\n",
      "        TYPE: MoveForwardAction\n",
      "      STOP:\n",
      "        TYPE: StopAction\n",
      "      TELEPORT:\n",
      "        TYPE: TeleportAction\n",
      "      TURN_LEFT:\n",
      "        TYPE: TurnLeftAction\n",
      "      TURN_RIGHT:\n",
      "        TYPE: TurnRightAction\n",
      "    AGENT_POSITION_SENSOR:\n",
      "      ANSWER_TO_LIFE: 42\n",
      "      TYPE: position_sensor\n",
      "    ANSWER_ACCURACY:\n",
      "      TYPE: AnswerAccuracy\n",
      "    COLLISIONS:\n",
      "      TYPE: Collisions\n",
      "    COMPASS_SENSOR:\n",
      "      TYPE: CompassSensor\n",
      "    CORRECT_ANSWER:\n",
      "      TYPE: CorrectAnswer\n",
      "    DISTANCE_TO_GOAL:\n",
      "      DISTANCE_TO: POINT\n",
      "      TYPE: DistanceToGoal\n",
      "    EPISODE_INFO:\n",
      "      TYPE: EpisodeInfo\n",
      "    GOAL_SENSOR_UUID: pos\n",
      "    GPS_SENSOR:\n",
      "      DIMENSIONALITY: 3\n",
      "      GOAL_FORMAT: CARTESIAN\n",
      "      TYPE: GPSSensor\n",
      "    HEADING_SENSOR:\n",
      "      TYPE: HeadingSensor\n",
      "    INSTRUCTION_SENSOR:\n",
      "      TYPE: InstructionSensor\n",
      "    INSTRUCTION_SENSOR_UUID: instruction\n",
      "    MEASUREMENTS: ['DISTANCE_TO_GOAL', 'SUCCESS', 'SPL', 'TOP_DOWN_MAP']\n",
      "    OBJECTGOAL_SENSOR:\n",
      "      GOAL_SPEC: TASK_CATEGORY_ID\n",
      "      GOAL_SPEC_MAX_VAL: 50\n",
      "      TYPE: ObjectGoalSensor\n",
      "    POINTGOAL_SENSOR:\n",
      "      DIMENSIONALITY: 3\n",
      "      GOAL_FORMAT: CARTESIAN\n",
      "      TYPE: PointGoalSensor\n",
      "    POINTGOAL_WITH_GPS_COMPASS_SENSOR:\n",
      "      DIMENSIONALITY: 3\n",
      "      GOAL_FORMAT: CARTESIAN\n",
      "      TYPE: PointGoalWithGPSCompassSensor\n",
      "    POSSIBLE_ACTIONS: ['STOP', 'MOVE_FORWARD', 'TURN_LEFT', 'TURN_RIGHT']\n",
      "    PROXIMITY_SENSOR:\n",
      "      MAX_DETECTION_RADIUS: 2.0\n",
      "      TYPE: ProximitySensor\n",
      "    QUESTION_SENSOR:\n",
      "      TYPE: QuestionSensor\n",
      "    SENSORS: ['HEADING_SENSOR', 'COMPASS_SENSOR', 'GPS_SENSOR', 'POINTGOAL_SENSOR', 'POINTGOAL_WITH_GPS_COMPASS_SENSOR', 'AGENT_POSITION_SENSOR']\n",
      "    SOFT_SPL:\n",
      "      TYPE: SoftSPL\n",
      "    SPL:\n",
      "      TYPE: SPL\n",
      "    SUCCESS:\n",
      "      SUCCESS_DISTANCE: 0.36\n",
      "      TYPE: Success\n",
      "    SUCCESS_DISTANCE: 0.36\n",
      "    TOP_DOWN_MAP:\n",
      "      DRAW_BORDER: True\n",
      "      DRAW_GOAL_AABBS: True\n",
      "      DRAW_GOAL_POSITIONS: True\n",
      "      DRAW_SHORTEST_PATH: True\n",
      "      DRAW_SOURCE: True\n",
      "      DRAW_VIEW_POINTS: True\n",
      "      FOG_OF_WAR:\n",
      "        DRAW: True\n",
      "        FOV: 90\n",
      "        VISIBILITY_DIST: 5.0\n",
      "      MAP_PADDING: 3\n",
      "      MAP_RESOLUTION: 1250\n",
      "      MAX_EPISODE_STEPS: 10000\n",
      "      NUM_TOPDOWN_MAP_SAMPLE_POINTS: 20000\n",
      "      TYPE: TopDownMap\n",
      "    TYPE: Nav-v0\n",
      "TENSORBOARD_DIR: tb\n",
      "TEST_EPISODE_COUNT: 994\n",
      "TORCH_GPU_ID: 0\n",
      "TRAINER_NAME: ddppo\n",
      "VIDEO_DIR: video_dir\n",
      "VIDEO_OPTION: []\n"
     ]
    }
   ],
   "source": [
    "trainer = trainer_init(args, config)"
   ]
  },
  {
   "cell_type": "code",
   "execution_count": 9,
   "metadata": {},
   "outputs": [
    {
     "name": "stderr",
     "output_type": "stream",
     "text": [
      "2020-04-20 17:30:51,769 Initializing dataset PointNav-v1\n"
     ]
    },
    {
     "name": "stdout",
     "output_type": "stream",
     "text": [
      "0\n"
     ]
    },
    {
     "name": "stderr",
     "output_type": "stream",
     "text": [
      "2020-04-20 17:31:59,549 agent number of trainable parameters: 12454917\n"
     ]
    }
   ],
   "source": [
    "trainer.train_init()"
   ]
  },
  {
   "cell_type": "code",
   "execution_count": 10,
   "metadata": {},
   "outputs": [
    {
     "name": "stderr",
     "output_type": "stream",
     "text": [
      "/opt/conda/envs/habitat/lib/python3.6/site-packages/torch/nn/functional.py:2764: UserWarning: Default grid_sample and affine_grid behavior has changed to align_corners=False since 1.3.0. Please specify align_corners=True if the old behavior is desired. See the documentation of grid_sample for details.\n",
      "  warnings.warn(\"Default grid_sample and affine_grid behavior has changed \"\n",
      "/opt/conda/envs/habitat/lib/python3.6/site-packages/torch/nn/functional.py:2705: UserWarning: Default grid_sample and affine_grid behavior has changed to align_corners=False since 1.3.0. Please specify align_corners=True if the old behavior is desired. See the documentation of grid_sample for details.\n",
      "  warnings.warn(\"Default grid_sample and affine_grid behavior has changed \"\n"
     ]
    },
    {
     "name": "stdout",
     "output_type": "stream",
     "text": [
      "RESET\n",
      "TIME FOR FULL STEP:  55.832067012786865\n",
      "TIME FOR FULL STEP:  11.472138166427612\n",
      "TIME FOR FULL STEP:  2.0133156776428223\n",
      "TIME FOR FULL STEP:  1.5479369163513184\n",
      "TIME FOR FULL STEP:  9.391511917114258\n",
      "TIME FOR FULL STEP:  2.033215045928955\n",
      "TIME FOR FULL STEP:  1.9659950733184814\n",
      "TIME FOR FULL STEP:  7.835747241973877\n",
      "TIME FOR FULL STEP:  28.70339870452881\n",
      "TIME FOR FULL STEP:  1.4724581241607666\n",
      "TIME FOR FULL STEP:  10.45283842086792\n",
      "TIME FOR FULL STEP:  5.195009231567383\n",
      "TIME FOR FULL STEP:  1.897247076034546\n",
      "TIME FOR FULL STEP:  7.096537113189697\n",
      "TIME FOR FULL STEP:  8.197608947753906\n",
      "TIME FOR FULL STEP:  2.2439284324645996\n",
      "TIME FOR FULL STEP:  10.145846605300903\n",
      "TIME FOR FULL STEP:  8.501797676086426\n",
      "TIME FOR FULL STEP:  9.595996379852295\n",
      "TIME FOR FULL STEP:  10.069940090179443\n",
      "TIME FOR FULL STEP:  12.583564758300781\n",
      "TIME FOR FULL STEP:  10.429518938064575\n",
      "TIME FOR FULL STEP:  11.274292945861816\n",
      "TIME FOR FULL STEP:  11.423981666564941\n",
      "TIME FOR FULL STEP:  1.6081969738006592\n",
      "TIME FOR FULL STEP:  8.961406707763672\n",
      "TIME FOR FULL STEP:  7.059111595153809\n",
      "TIME FOR FULL STEP:  1.1968412399291992\n",
      "TIME FOR FULL STEP:  12.26473069190979\n",
      "TIME FOR FULL STEP:  20.78217911720276\n",
      "TIME FOR FULL STEP:  1.333338975906372\n",
      "TIME FOR FULL STEP:  13.370096445083618\n",
      "TIME FOR FULL STEP:  1.0756421089172363\n",
      "TIME FOR FULL STEP:  1.1773686408996582\n",
      "TIME FOR FULL STEP:  8.265544891357422\n",
      "TIME FOR FULL STEP:  12.345780849456787\n",
      "TIME FOR FULL STEP:  6.417773008346558\n",
      "TIME FOR FULL STEP:  1.531419277191162\n",
      "TIME FOR FULL STEP:  6.051206350326538\n",
      "TIME FOR FULL STEP:  6.143723726272583\n",
      "TIME FOR FULL STEP:  1.6479194164276123\n",
      "TIME FOR FULL STEP:  1.3700714111328125\n",
      "TIME FOR FULL STEP:  13.81786298751831\n",
      "TIME FOR FULL STEP:  1.1936147212982178\n",
      "TIME FOR FULL STEP:  15.539310932159424\n",
      "TIME FOR FULL STEP:  12.41119933128357\n",
      "TIME FOR FULL STEP:  8.55559253692627\n",
      "TIME FOR FULL STEP:  1.3148927688598633\n",
      "TIME FOR FULL STEP:  1.3267133235931396\n",
      "TIME FOR FULL STEP:  1.332212209701538\n",
      "TIME FOR FULL STEP:  10.402912139892578\n",
      "TIME FOR FULL STEP:  8.491873979568481\n",
      "TIME FOR FULL STEP:  1.3581416606903076\n",
      "TIME FOR FULL STEP:  8.358124494552612\n",
      "TIME FOR FULL STEP:  15.629207372665405\n",
      "TIME FOR FULL STEP:  6.149651765823364\n",
      "TIME FOR FULL STEP:  17.785489320755005\n",
      "TIME FOR FULL STEP:  8.637479305267334\n",
      "TIME FOR FULL STEP:  5.361231088638306\n",
      "TIME FOR FULL STEP:  1.639613389968872\n",
      "TIME FOR FULL STEP:  6.525078535079956\n",
      "TIME FOR FULL STEP:  18.125917196273804\n",
      "TIME FOR FULL STEP:  1.1968450546264648\n",
      "TIME FOR FULL STEP:  9.07897162437439\n",
      "TIME FOR FULL STEP:  1.2230558395385742\n",
      "TIME FOR FULL STEP:  6.732798337936401\n",
      "TIME FOR FULL STEP:  9.75085163116455\n",
      "TIME FOR FULL STEP:  9.473570346832275\n",
      "TIME FOR FULL STEP:  9.249733924865723\n",
      "TIME FOR FULL STEP:  1.496335744857788\n",
      "TIME FOR FULL STEP:  5.826792240142822\n",
      "TIME FOR FULL STEP:  31.09984588623047\n",
      "TIME FOR FULL STEP:  1.0032291412353516\n",
      "TIME FOR FULL STEP:  0.9683115482330322\n",
      "TIME FOR FULL STEP:  6.268990755081177\n",
      "TIME FOR FULL STEP:  5.844005107879639\n",
      "TIME FOR FULL STEP:  7.142096757888794\n",
      "TIME FOR FULL STEP:  6.972161769866943\n",
      "TIME FOR FULL STEP:  1.1367309093475342\n",
      "TIME FOR FULL STEP:  1.1260836124420166\n",
      "TIME FOR FULL STEP:  1.3527257442474365\n",
      "TIME FOR FULL STEP:  1.5999407768249512\n",
      "TIME FOR FULL STEP:  15.748841524124146\n",
      "TIME FOR FULL STEP:  1.0896310806274414\n",
      "TIME FOR FULL STEP:  6.098613977432251\n",
      "TIME FOR FULL STEP:  1.1333270072937012\n",
      "TIME FOR FULL STEP:  1.002476692199707\n",
      "TIME FOR FULL STEP:  5.661243677139282\n",
      "TIME FOR FULL STEP:  6.178034782409668\n",
      "TIME FOR FULL STEP:  1.8547892570495605\n",
      "TIME FOR FULL STEP:  12.771671772003174\n",
      "TIME FOR FULL STEP:  22.909380435943604\n",
      "TIME FOR FULL STEP:  1.5164659023284912\n",
      "TIME FOR FULL STEP:  8.586055755615234\n",
      "TIME FOR FULL STEP:  1.2928853034973145\n",
      "TIME FOR FULL STEP:  17.789299726486206\n",
      "TIME FOR FULL STEP:  17.11696982383728\n",
      "TIME FOR FULL STEP:  1.193554401397705\n",
      "TIME FOR FULL STEP:  17.4735906124115\n",
      "TIME FOR FULL STEP:  22.028740882873535\n",
      "TIME FOR FULL STEP:  15.799943208694458\n",
      "TIME FOR FULL STEP:  1.3244645595550537\n",
      "TIME FOR FULL STEP:  9.121812105178833\n",
      "TIME FOR FULL STEP:  1.193922519683838\n",
      "TIME FOR FULL STEP:  1.1007890701293945\n",
      "TIME FOR FULL STEP:  11.178675413131714\n",
      "TIME FOR FULL STEP:  5.803490161895752\n",
      "TIME FOR FULL STEP:  6.387108087539673\n",
      "TIME FOR FULL STEP:  1.8344378471374512\n",
      "TIME FOR FULL STEP:  5.337677478790283\n",
      "TIME FOR FULL STEP:  6.079708576202393\n",
      "TIME FOR FULL STEP:  4.814709186553955\n",
      "TIME FOR FULL STEP:  5.737441778182983\n",
      "TIME FOR FULL STEP:  4.674115896224976\n",
      "TIME FOR FULL STEP:  1.1135227680206299\n",
      "TIME FOR FULL STEP:  9.069066762924194\n",
      "TIME FOR FULL STEP:  0.9321670532226562\n",
      "TIME FOR FULL STEP:  11.241371870040894\n",
      "TIME FOR FULL STEP:  5.5954906940460205\n",
      "TIME FOR FULL STEP:  8.496220588684082\n",
      "TIME FOR FULL STEP:  17.85299825668335\n",
      "TIME FOR FULL STEP:  9.077200651168823\n",
      "TIME FOR FULL STEP:  9.949852466583252\n",
      "TIME FOR FULL STEP:  1.0992965698242188\n",
      "TIME FOR FULL STEP:  7.867825746536255\n",
      "TIME FOR FULL STEP:  7.708831787109375\n",
      "TIME FOR FULL STEP:  5.913575887680054\n",
      "TIME FOR FULL STEP:  17.06953763961792\n",
      "+128\n",
      "{'distance_to_goal': 6.421975681924413, 'spl': 0.0, 'success': 0.0}\n",
      "TIME FOR FULL STEP:  5.272948265075684\n",
      "TIME FOR FULL STEP:  1.0569589138031006\n",
      "TIME FOR FULL STEP:  14.319826364517212\n",
      "TIME FOR FULL STEP:  8.929165363311768\n",
      "TIME FOR FULL STEP:  9.25779914855957\n",
      "TIME FOR FULL STEP:  4.619649410247803\n",
      "TIME FOR FULL STEP:  7.3138487339019775\n",
      "TIME FOR FULL STEP:  14.398780345916748\n",
      "TIME FOR FULL STEP:  32.59120750427246\n",
      "TIME FOR FULL STEP:  16.23375153541565\n",
      "TIME FOR FULL STEP:  1.098783016204834\n",
      "TIME FOR FULL STEP:  1.1342642307281494\n",
      "TIME FOR FULL STEP:  4.318385124206543\n",
      "TIME FOR FULL STEP:  7.022863149642944\n",
      "TIME FOR FULL STEP:  17.182798862457275\n",
      "TIME FOR FULL STEP:  12.823728561401367\n",
      "TIME FOR FULL STEP:  1.1361944675445557\n"
     ]
    },
    {
     "ename": "KeyboardInterrupt",
     "evalue": "",
     "output_type": "error",
     "traceback": [
      "\u001b[0;31m---------------------------------------------------------------------------\u001b[0m",
      "\u001b[0;31mKeyboardInterrupt\u001b[0m                         Traceback (most recent call last)",
      "\u001b[0;32m<ipython-input-10-3435b262f1ae>\u001b[0m in \u001b[0;36m<module>\u001b[0;34m\u001b[0m\n\u001b[0;32m----> 1\u001b[0;31m \u001b[0mtrainer\u001b[0m\u001b[0;34m.\u001b[0m\u001b[0mtrain\u001b[0m\u001b[0;34m(\u001b[0m\u001b[0;34m)\u001b[0m\u001b[0;34m\u001b[0m\u001b[0;34m\u001b[0m\u001b[0m\n\u001b[0m",
      "\u001b[0;32m~/ANM_POINTNAV/ddpotrainer.py\u001b[0m in \u001b[0;36mtrain\u001b[0;34m(self)\u001b[0m\n\u001b[1;32m    335\u001b[0m                     \u001b[0;31m#print('!!!!!!!!!!!!!!!!!STEP: ', step, ppo_cfg.num_steps)\u001b[0m\u001b[0;34m\u001b[0m\u001b[0;34m\u001b[0m\u001b[0;34m\u001b[0m\u001b[0m\n\u001b[1;32m    336\u001b[0m                     \u001b[0mtime_start\u001b[0m \u001b[0;34m=\u001b[0m \u001b[0mtime\u001b[0m\u001b[0;34m.\u001b[0m\u001b[0mtime\u001b[0m\u001b[0;34m(\u001b[0m\u001b[0;34m)\u001b[0m\u001b[0;34m\u001b[0m\u001b[0;34m\u001b[0m\u001b[0m\n\u001b[0;32m--> 337\u001b[0;31m                     \u001b[0;34m(\u001b[0m\u001b[0mdelta_pth_time\u001b[0m\u001b[0;34m,\u001b[0m\u001b[0mdelta_env_time\u001b[0m\u001b[0;34m,\u001b[0m\u001b[0mdelta_steps\u001b[0m\u001b[0;34m)\u001b[0m \u001b[0;34m=\u001b[0m \u001b[0mself\u001b[0m\u001b[0;34m.\u001b[0m\u001b[0m_collect_rollout_step\u001b[0m\u001b[0;34m(\u001b[0m\u001b[0mrollouts\u001b[0m\u001b[0;34m,\u001b[0m \u001b[0mcurrent_episode_reward\u001b[0m\u001b[0;34m,\u001b[0m \u001b[0mrunning_episode_stats\u001b[0m\u001b[0;34m,\u001b[0m \u001b[0mself\u001b[0m\u001b[0;34m.\u001b[0m\u001b[0mslam_memory\u001b[0m\u001b[0;34m,\u001b[0m \u001b[0mself\u001b[0m\u001b[0;34m.\u001b[0m\u001b[0mslam_optimizer\u001b[0m\u001b[0;34m,\u001b[0m \u001b[0mself\u001b[0m\u001b[0;34m.\u001b[0m\u001b[0mnslam_module\u001b[0m\u001b[0;34m,\u001b[0m\u001b[0margs\u001b[0m\u001b[0;34m)\u001b[0m\u001b[0;34m\u001b[0m\u001b[0;34m\u001b[0m\u001b[0m\n\u001b[0m\u001b[1;32m    338\u001b[0m                     \u001b[0mtime_end\u001b[0m \u001b[0;34m=\u001b[0m \u001b[0mtime\u001b[0m\u001b[0;34m.\u001b[0m\u001b[0mtime\u001b[0m\u001b[0;34m(\u001b[0m\u001b[0;34m)\u001b[0m\u001b[0;34m\u001b[0m\u001b[0;34m\u001b[0m\u001b[0m\n\u001b[1;32m    339\u001b[0m                     \u001b[0mprint\u001b[0m\u001b[0;34m(\u001b[0m\u001b[0;34m'TIME FOR FULL STEP: '\u001b[0m\u001b[0;34m,\u001b[0m\u001b[0mtime_end\u001b[0m\u001b[0;34m-\u001b[0m\u001b[0mtime_start\u001b[0m\u001b[0;34m)\u001b[0m\u001b[0;34m\u001b[0m\u001b[0;34m\u001b[0m\u001b[0m\n",
      "\u001b[0;32m~/ANM_POINTNAV/ppotrainer.py\u001b[0m in \u001b[0;36m_collect_rollout_step\u001b[0;34m(self, rollouts, current_episode_reward, running_episode_stats, slam_memory, slam_optimizer, nslam_module, args)\u001b[0m\n\u001b[1;32m    144\u001b[0m \u001b[0;34m\u001b[0m\u001b[0m\n\u001b[1;32m    145\u001b[0m \u001b[0;34m\u001b[0m\u001b[0m\n\u001b[0;32m--> 146\u001b[0;31m         \u001b[0moutputs\u001b[0m \u001b[0;34m=\u001b[0m \u001b[0mself\u001b[0m\u001b[0;34m.\u001b[0m\u001b[0menvs\u001b[0m\u001b[0;34m.\u001b[0m\u001b[0mstep\u001b[0m\u001b[0;34m(\u001b[0m\u001b[0;34m[\u001b[0m\u001b[0ma\u001b[0m\u001b[0;34m[\u001b[0m\u001b[0;36m0\u001b[0m\u001b[0;34m]\u001b[0m\u001b[0;34m.\u001b[0m\u001b[0mitem\u001b[0m\u001b[0;34m(\u001b[0m\u001b[0;34m)\u001b[0m \u001b[0;32mfor\u001b[0m \u001b[0ma\u001b[0m \u001b[0;32min\u001b[0m \u001b[0mactions\u001b[0m\u001b[0;34m]\u001b[0m\u001b[0;34m)\u001b[0m\u001b[0;34m\u001b[0m\u001b[0;34m\u001b[0m\u001b[0m\n\u001b[0m\u001b[1;32m    147\u001b[0m \u001b[0;34m\u001b[0m\u001b[0m\n\u001b[1;32m    148\u001b[0m \u001b[0;34m\u001b[0m\u001b[0m\n",
      "\u001b[0;32m~/ANM_POINTNAV/vectorenv.py\u001b[0m in \u001b[0;36mstep\u001b[0;34m(self, data)\u001b[0m\n\u001b[1;32m    291\u001b[0m         \"\"\"\n\u001b[1;32m    292\u001b[0m         \u001b[0mself\u001b[0m\u001b[0;34m.\u001b[0m\u001b[0masync_step\u001b[0m\u001b[0;34m(\u001b[0m\u001b[0mdata\u001b[0m\u001b[0;34m)\u001b[0m\u001b[0;34m\u001b[0m\u001b[0;34m\u001b[0m\u001b[0m\n\u001b[0;32m--> 293\u001b[0;31m         \u001b[0;32mreturn\u001b[0m \u001b[0mself\u001b[0m\u001b[0;34m.\u001b[0m\u001b[0mwait_step\u001b[0m\u001b[0;34m(\u001b[0m\u001b[0;34m)\u001b[0m\u001b[0;34m\u001b[0m\u001b[0;34m\u001b[0m\u001b[0m\n\u001b[0m\u001b[1;32m    294\u001b[0m \u001b[0;34m\u001b[0m\u001b[0m\n\u001b[1;32m    295\u001b[0m     \u001b[0;32mdef\u001b[0m \u001b[0mclose\u001b[0m\u001b[0;34m(\u001b[0m\u001b[0mself\u001b[0m\u001b[0;34m)\u001b[0m \u001b[0;34m->\u001b[0m \u001b[0;32mNone\u001b[0m\u001b[0;34m:\u001b[0m\u001b[0;34m\u001b[0m\u001b[0;34m\u001b[0m\u001b[0m\n",
      "\u001b[0;32m~/ANM_POINTNAV/vectorenv.py\u001b[0m in \u001b[0;36mwait_step\u001b[0;34m(self)\u001b[0m\n\u001b[1;32m    279\u001b[0m         \u001b[0mobservations\u001b[0m \u001b[0;34m=\u001b[0m \u001b[0;34m[\u001b[0m\u001b[0;34m]\u001b[0m\u001b[0;34m\u001b[0m\u001b[0;34m\u001b[0m\u001b[0m\n\u001b[1;32m    280\u001b[0m         \u001b[0;32mfor\u001b[0m \u001b[0mread_fn\u001b[0m \u001b[0;32min\u001b[0m \u001b[0mself\u001b[0m\u001b[0;34m.\u001b[0m\u001b[0m_connection_read_fns\u001b[0m\u001b[0;34m:\u001b[0m\u001b[0;34m\u001b[0m\u001b[0;34m\u001b[0m\u001b[0m\n\u001b[0;32m--> 281\u001b[0;31m             \u001b[0mobservations\u001b[0m\u001b[0;34m.\u001b[0m\u001b[0mappend\u001b[0m\u001b[0;34m(\u001b[0m\u001b[0mread_fn\u001b[0m\u001b[0;34m(\u001b[0m\u001b[0;34m)\u001b[0m\u001b[0;34m)\u001b[0m\u001b[0;34m\u001b[0m\u001b[0;34m\u001b[0m\u001b[0m\n\u001b[0m\u001b[1;32m    282\u001b[0m         \u001b[0mself\u001b[0m\u001b[0;34m.\u001b[0m\u001b[0m_is_waiting\u001b[0m \u001b[0;34m=\u001b[0m \u001b[0;32mFalse\u001b[0m\u001b[0;34m\u001b[0m\u001b[0;34m\u001b[0m\u001b[0m\n\u001b[1;32m    283\u001b[0m         \u001b[0;32mreturn\u001b[0m \u001b[0mobservations\u001b[0m\u001b[0;34m\u001b[0m\u001b[0;34m\u001b[0m\u001b[0m\n",
      "\u001b[0;32m/opt/conda/envs/habitat/lib/python3.6/multiprocessing/connection.py\u001b[0m in \u001b[0;36mrecv\u001b[0;34m(self)\u001b[0m\n\u001b[1;32m    248\u001b[0m         \u001b[0mself\u001b[0m\u001b[0;34m.\u001b[0m\u001b[0m_check_closed\u001b[0m\u001b[0;34m(\u001b[0m\u001b[0;34m)\u001b[0m\u001b[0;34m\u001b[0m\u001b[0;34m\u001b[0m\u001b[0m\n\u001b[1;32m    249\u001b[0m         \u001b[0mself\u001b[0m\u001b[0;34m.\u001b[0m\u001b[0m_check_readable\u001b[0m\u001b[0;34m(\u001b[0m\u001b[0;34m)\u001b[0m\u001b[0;34m\u001b[0m\u001b[0;34m\u001b[0m\u001b[0m\n\u001b[0;32m--> 250\u001b[0;31m         \u001b[0mbuf\u001b[0m \u001b[0;34m=\u001b[0m \u001b[0mself\u001b[0m\u001b[0;34m.\u001b[0m\u001b[0m_recv_bytes\u001b[0m\u001b[0;34m(\u001b[0m\u001b[0;34m)\u001b[0m\u001b[0;34m\u001b[0m\u001b[0;34m\u001b[0m\u001b[0m\n\u001b[0m\u001b[1;32m    251\u001b[0m         \u001b[0;32mreturn\u001b[0m \u001b[0m_ForkingPickler\u001b[0m\u001b[0;34m.\u001b[0m\u001b[0mloads\u001b[0m\u001b[0;34m(\u001b[0m\u001b[0mbuf\u001b[0m\u001b[0;34m.\u001b[0m\u001b[0mgetbuffer\u001b[0m\u001b[0;34m(\u001b[0m\u001b[0;34m)\u001b[0m\u001b[0;34m)\u001b[0m\u001b[0;34m\u001b[0m\u001b[0;34m\u001b[0m\u001b[0m\n\u001b[1;32m    252\u001b[0m \u001b[0;34m\u001b[0m\u001b[0m\n",
      "\u001b[0;32m/opt/conda/envs/habitat/lib/python3.6/multiprocessing/connection.py\u001b[0m in \u001b[0;36m_recv_bytes\u001b[0;34m(self, maxsize)\u001b[0m\n\u001b[1;32m    405\u001b[0m \u001b[0;34m\u001b[0m\u001b[0m\n\u001b[1;32m    406\u001b[0m     \u001b[0;32mdef\u001b[0m \u001b[0m_recv_bytes\u001b[0m\u001b[0;34m(\u001b[0m\u001b[0mself\u001b[0m\u001b[0;34m,\u001b[0m \u001b[0mmaxsize\u001b[0m\u001b[0;34m=\u001b[0m\u001b[0;32mNone\u001b[0m\u001b[0;34m)\u001b[0m\u001b[0;34m:\u001b[0m\u001b[0;34m\u001b[0m\u001b[0;34m\u001b[0m\u001b[0m\n\u001b[0;32m--> 407\u001b[0;31m         \u001b[0mbuf\u001b[0m \u001b[0;34m=\u001b[0m \u001b[0mself\u001b[0m\u001b[0;34m.\u001b[0m\u001b[0m_recv\u001b[0m\u001b[0;34m(\u001b[0m\u001b[0;36m4\u001b[0m\u001b[0;34m)\u001b[0m\u001b[0;34m\u001b[0m\u001b[0;34m\u001b[0m\u001b[0m\n\u001b[0m\u001b[1;32m    408\u001b[0m         \u001b[0msize\u001b[0m\u001b[0;34m,\u001b[0m \u001b[0;34m=\u001b[0m \u001b[0mstruct\u001b[0m\u001b[0;34m.\u001b[0m\u001b[0munpack\u001b[0m\u001b[0;34m(\u001b[0m\u001b[0;34m\"!i\"\u001b[0m\u001b[0;34m,\u001b[0m \u001b[0mbuf\u001b[0m\u001b[0;34m.\u001b[0m\u001b[0mgetvalue\u001b[0m\u001b[0;34m(\u001b[0m\u001b[0;34m)\u001b[0m\u001b[0;34m)\u001b[0m\u001b[0;34m\u001b[0m\u001b[0;34m\u001b[0m\u001b[0m\n\u001b[1;32m    409\u001b[0m         \u001b[0;32mif\u001b[0m \u001b[0mmaxsize\u001b[0m \u001b[0;32mis\u001b[0m \u001b[0;32mnot\u001b[0m \u001b[0;32mNone\u001b[0m \u001b[0;32mand\u001b[0m \u001b[0msize\u001b[0m \u001b[0;34m>\u001b[0m \u001b[0mmaxsize\u001b[0m\u001b[0;34m:\u001b[0m\u001b[0;34m\u001b[0m\u001b[0;34m\u001b[0m\u001b[0m\n",
      "\u001b[0;32m/opt/conda/envs/habitat/lib/python3.6/multiprocessing/connection.py\u001b[0m in \u001b[0;36m_recv\u001b[0;34m(self, size, read)\u001b[0m\n\u001b[1;32m    377\u001b[0m         \u001b[0mremaining\u001b[0m \u001b[0;34m=\u001b[0m \u001b[0msize\u001b[0m\u001b[0;34m\u001b[0m\u001b[0;34m\u001b[0m\u001b[0m\n\u001b[1;32m    378\u001b[0m         \u001b[0;32mwhile\u001b[0m \u001b[0mremaining\u001b[0m \u001b[0;34m>\u001b[0m \u001b[0;36m0\u001b[0m\u001b[0;34m:\u001b[0m\u001b[0;34m\u001b[0m\u001b[0;34m\u001b[0m\u001b[0m\n\u001b[0;32m--> 379\u001b[0;31m             \u001b[0mchunk\u001b[0m \u001b[0;34m=\u001b[0m \u001b[0mread\u001b[0m\u001b[0;34m(\u001b[0m\u001b[0mhandle\u001b[0m\u001b[0;34m,\u001b[0m \u001b[0mremaining\u001b[0m\u001b[0;34m)\u001b[0m\u001b[0;34m\u001b[0m\u001b[0;34m\u001b[0m\u001b[0m\n\u001b[0m\u001b[1;32m    380\u001b[0m             \u001b[0mn\u001b[0m \u001b[0;34m=\u001b[0m \u001b[0mlen\u001b[0m\u001b[0;34m(\u001b[0m\u001b[0mchunk\u001b[0m\u001b[0;34m)\u001b[0m\u001b[0;34m\u001b[0m\u001b[0;34m\u001b[0m\u001b[0m\n\u001b[1;32m    381\u001b[0m             \u001b[0;32mif\u001b[0m \u001b[0mn\u001b[0m \u001b[0;34m==\u001b[0m \u001b[0;36m0\u001b[0m\u001b[0;34m:\u001b[0m\u001b[0;34m\u001b[0m\u001b[0;34m\u001b[0m\u001b[0m\n",
      "\u001b[0;31mKeyboardInterrupt\u001b[0m: "
     ]
    }
   ],
   "source": [
    "trainer.train()"
   ]
  },
  {
   "cell_type": "code",
   "execution_count": null,
   "metadata": {},
   "outputs": [],
   "source": []
  }
 ],
 "metadata": {
  "kernelspec": {
   "display_name": "Python 3",
   "language": "python",
   "name": "python3"
  },
  "language_info": {
   "codemirror_mode": {
    "name": "ipython",
    "version": 3
   },
   "file_extension": ".py",
   "mimetype": "text/x-python",
   "name": "python",
   "nbconvert_exporter": "python",
   "pygments_lexer": "ipython3",
   "version": "3.6.10"
  }
 },
 "nbformat": 4,
 "nbformat_minor": 4
}
