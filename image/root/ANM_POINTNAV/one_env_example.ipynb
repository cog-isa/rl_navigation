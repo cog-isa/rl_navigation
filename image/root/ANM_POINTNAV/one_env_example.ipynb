{
 "cells": [
  {
   "cell_type": "code",
   "execution_count": 2,
   "metadata": {},
   "outputs": [],
   "source": [
    "import time\n",
    "from collections import deque\n",
    "\n",
    "import os\n",
    "\n",
    "os.environ[\"OMP_NUM_THREADS\"] = \"1\"\n",
    "import numpy as np\n",
    "import torch\n",
    "import torch.nn as nn\n",
    "from torch.nn import functional as F\n",
    "import random\n",
    "\n",
    "import gym\n",
    "import logging\n",
    "from arguments import get_args\n",
    "from config_init import get_config_init\n",
    "from utils.storage import GlobalRolloutStorage, FIFOMemory\n",
    "from utils.optimization import get_optimizer\n",
    "from model import RL_Policy, Local_IL_Policy, Neural_SLAM_Module\n",
    "from habitat.datasets.pointnav.pointnav_dataset import PointNavDatasetV1\n",
    "from util import AgentPositionSensor,draw_top_down_map,inverse_transform,make_train_data,RewardForwardFilter,RunningMeanStd,global_grad_norm_\n",
    "\n",
    "#from ppo import PPO\n",
    "\n",
    "import sys\n",
    "import matplotlib\n",
    "\n",
    "if sys.platform == 'darwin':\n",
    "    matplotlib.use(\"tkagg\")\n",
    "import matplotlib.pyplot as plt\n",
    "\n",
    "import matplotlib.pyplot as plt\n",
    "from matplotlib.patches import Circle\n",
    "%matplotlib inline"
   ]
  },
  {
   "cell_type": "code",
   "execution_count": 3,
   "metadata": {},
   "outputs": [
    {
     "name": "stdout",
     "output_type": "stream",
     "text": [
      "Auto GPU config:\n",
      "Number of processes: 36\n",
      "Number of processes on GPU 0: 0\n",
      "Number of processes per GPU: 12\n"
     ]
    }
   ],
   "source": [
    "argumnts = ''\n",
    "args = get_args(argumnts)\n",
    "config = get_config_init()"
   ]
  },
  {
   "cell_type": "code",
   "execution_count": 4,
   "metadata": {},
   "outputs": [],
   "source": [
    "device = args.device = torch.device(\"cuda:0\" if args.cuda else \"cpu\")\n",
    "args.num_processes = 1\n",
    "num_scenes = args.num_processes\n",
    "num_episodes = int(args.num_episodes)\n",
    "costs = deque(maxlen=1000)\n",
    "exp_costs = deque(maxlen=1000)\n",
    "pose_costs = deque(maxlen=1000)"
   ]
  },
  {
   "cell_type": "code",
   "execution_count": 5,
   "metadata": {},
   "outputs": [],
   "source": [
    "from my_env import MyRLEnvNew"
   ]
  },
  {
   "cell_type": "code",
   "execution_count": 6,
   "metadata": {},
   "outputs": [
    {
     "name": "stderr",
     "output_type": "stream",
     "text": [
      "2020-04-20 15:19:44,626 initializing sim Sim-v0\n",
      "2020-04-20 15:19:48,599 Initializing task Nav-v0\n"
     ]
    }
   ],
   "source": [
    "rank = range(args.num_processes)\n",
    "dataset = PointNavDatasetV1(config.TASK_CONFIG.DATASET)\n",
    "one_env = MyRLEnvNew(args=args, rank=rank, config=config, dataset=dataset)"
   ]
  },
  {
   "cell_type": "code",
   "execution_count": 7,
   "metadata": {},
   "outputs": [
    {
     "name": "stderr",
     "output_type": "stream",
     "text": [
      "2020-04-20 15:19:51,749 Computing map for /data/gibson/Adrian.glb\n",
      "/opt/conda/envs/habitat/lib/python3.6/site-packages/torch/nn/functional.py:2764: UserWarning: Default grid_sample and affine_grid behavior has changed to align_corners=False since 1.3.0. Please specify align_corners=True if the old behavior is desired. See the documentation of grid_sample for details.\n",
      "  warnings.warn(\"Default grid_sample and affine_grid behavior has changed \"\n",
      "/opt/conda/envs/habitat/lib/python3.6/site-packages/torch/nn/functional.py:2705: UserWarning: Default grid_sample and affine_grid behavior has changed to align_corners=False since 1.3.0. Please specify align_corners=True if the old behavior is desired. See the documentation of grid_sample for details.\n",
      "  warnings.warn(\"Default grid_sample and affine_grid behavior has changed \"\n"
     ]
    }
   ],
   "source": [
    "obs, info = one_env.reset()"
   ]
  },
  {
   "cell_type": "code",
   "execution_count": 8,
   "metadata": {},
   "outputs": [],
   "source": [
    "# slam\n",
    "nslam_module = Neural_SLAM_Module(args).to(device)\n",
    "slam_optimizer = get_optimizer(nslam_module.parameters(),\n",
    "                               args.slam_optimizer)\n",
    "# Storage\n",
    "slam_memory = FIFOMemory(args.slam_batch_size)"
   ]
  },
  {
   "cell_type": "code",
   "execution_count": 9,
   "metadata": {},
   "outputs": [],
   "source": [
    "map_size = args.map_size_cm // args.map_resolution\n",
    "num_scenes = 1\n",
    "full_w, full_h = map_size, map_size\n",
    "local_w, local_h = int(full_w / args.global_downscaling), \\\n",
    "                   int(full_h / args.global_downscaling)\n",
    "local_map = torch.zeros(num_scenes, 4, local_w, local_h).float().to(device)\n",
    "local_pose = torch.zeros(num_scenes, 3).float().to(device)\n",
    "poses = torch.from_numpy(np.asarray(\n",
    "    [info['sensor_pose'] for env_idx\n",
    "     in range(num_scenes)])\n",
    ").float().to(device)\n",
    "\n",
    "obs_new = torch.from_numpy(np.asarray(one_env.res(obs['rgb'])).transpose(2, 0, 1)).unsqueeze(0).float().to(device)\n",
    "\n",
    "_, _, local_map[:, 0, :, :], local_map[:, 1, :, :], _, local_pose = \\\n",
    "    nslam_module(obs_new, obs_new, poses, local_map[:, 0, :, :],\n",
    "                 local_map[:, 1, :, :], local_pose)"
   ]
  },
  {
   "cell_type": "code",
   "execution_count": 10,
   "metadata": {},
   "outputs": [
    {
     "name": "stdout",
     "output_type": "stream",
     "text": [
      "(7.235676, -1.5530449, 0.6856071308761865)\n",
      "[240.0, 240.0, 0.0]\n"
     ]
    },
    {
     "data": {
      "image/png": "[encoded data removed]",
      "text/plain": [
       "<Figure size 1080x720 with 4 Axes>"
      ]
     },
     "metadata": {
      "needs_background": "light"
     },
     "output_type": "display_data"
    }
   ],
   "source": [
    "f = plt.figure(figsize=(15,10))\n",
    "ax = f.add_subplot(141)\n",
    "ax2 = f.add_subplot(142)\n",
    "ax3 = f.add_subplot(143)\n",
    "ax4 = f.add_subplot(144)\n",
    "circ = Circle((one_env.mapper_gt_pose[0]/10*2,one_env.mapper_gt_pose[0]/10*2),3,color='red')\n",
    "circ2 = Circle((one_env.mapper_gt_pose[0]/10*2,one_env.mapper_gt_pose[0]/10*2),3,color='red')\n",
    "circ3 = Circle((one_env.mapper_gt_pose[0]/10*2,one_env.mapper_gt_pose[0]/10*2),3,color='red')\n",
    "ax.imshow(one_env.explorable_map)\n",
    "ax.add_patch(circ)\n",
    "ax2.imshow(one_env.explored_map)\n",
    "ax2.add_patch(circ2)\n",
    "ax3.imshow(one_env.map)\n",
    "ax3.add_patch(circ3)\n",
    "ax4.imshow(local_map[0, 0, :, :].cpu().numpy())\n",
    "print(one_env.last_sim_location)\n",
    "print([one_env.mapper_gt_pose[0]/10*2,one_env.mapper_gt_pose[1]/10*2,one_env.mapper_gt_pose[2]])"
   ]
  },
  {
   "cell_type": "code",
   "execution_count": null,
   "metadata": {
    "collapsed": true,
    "jupyter": {
     "outputs_hidden": true
    }
   },
   "outputs": [
    {
     "name": "stderr",
     "output_type": "stream",
     "text": [
      "2020-04-20 15:20:01,616 Computing map for /data/gibson/Adrian.glb\n"
     ]
    },
    {
     "name": "stdout",
     "output_type": "stream",
     "text": [
      "0 \t TIME TO RESET:  \t 5.685142517089844\n",
      "1 \t TIME TO STEP:  0.0452878475189209\n",
      "2 \t TIME TO STEP:  0.018576860427856445\n",
      "3 \t TIME TO STEP:  0.019179344177246094\n",
      "4 \t TIME TO STEP:  0.0191805362701416\n",
      "5 \t TIME TO STEP:  0.0193328857421875\n",
      "6 \t TIME TO STEP:  0.01890707015991211\n",
      "7 \t TIME TO STEP:  0.01937413215637207\n",
      "8 \t TIME TO STEP:  0.019821643829345703\n",
      "9 \t TIME TO STEP:  0.019504547119140625\n"
     ]
    },
    {
     "name": "stderr",
     "output_type": "stream",
     "text": [
      "2020-04-20 15:20:07,485 Computing map for /data/gibson/Adrian.glb\n"
     ]
    },
    {
     "name": "stdout",
     "output_type": "stream",
     "text": [
      "10 \t TIME TO RESET:  \t 5.627733945846558\n",
      "11 \t TIME TO STEP:  0.047940731048583984\n",
      "12 \t TIME TO STEP:  0.019506216049194336\n",
      "13 \t TIME TO STEP:  0.019261837005615234\n",
      "14 \t TIME TO STEP:  0.01933145523071289\n",
      "15 \t TIME TO STEP:  0.01940131187438965\n",
      "16 \t TIME TO STEP:  0.03516364097595215\n",
      "17 \t TIME TO STEP:  0.019032001495361328\n",
      "18 \t TIME TO STEP:  0.02042698860168457\n",
      "19 \t TIME TO STEP:  0.034130096435546875\n"
     ]
    },
    {
     "name": "stderr",
     "output_type": "stream",
     "text": [
      "2020-04-20 15:20:13,362 Computing map for /data/gibson/Adrian.glb\n",
      "2020-04-20 15:20:18,783 Invalid map: /data/gibson/Adrian.glb/4\n",
      "2020-04-20 15:20:18,996 Computing map for /data/gibson/Adrian.glb\n"
     ]
    },
    {
     "name": "stdout",
     "output_type": "stream",
     "text": [
      "20 \t TIME TO RESET:  \t 11.29744839668274\n",
      "21 \t TIME TO STEP:  0.019548892974853516\n",
      "22 \t TIME TO STEP:  0.059593915939331055\n",
      "23 \t TIME TO STEP:  0.03439021110534668\n",
      "24 \t TIME TO STEP:  0.02800750732421875\n",
      "25 \t TIME TO STEP:  0.018682479858398438\n",
      "26 \t TIME TO STEP:  0.01873326301574707\n",
      "27 \t TIME TO STEP:  0.01969456672668457\n",
      "28 \t TIME TO STEP:  0.01999974250793457\n",
      "29 \t TIME TO STEP:  0.029661893844604492\n"
     ]
    },
    {
     "name": "stderr",
     "output_type": "stream",
     "text": [
      "2020-04-20 15:20:24,911 Computing map for /data/gibson/Adrian.glb\n",
      "2020-04-20 15:20:30,303 Invalid map: /data/gibson/Adrian.glb/5\n",
      "2020-04-20 15:20:30,520 Computing map for /data/gibson/Adrian.glb\n",
      "2020-04-20 15:20:35,915 Invalid map: /data/gibson/Adrian.glb/5\n",
      "2020-04-20 15:20:36,131 Computing map for /data/gibson/Adrian.glb\n",
      "2020-04-20 15:20:41,658 Invalid map: /data/gibson/Adrian.glb/5\n",
      "2020-04-20 15:20:41,896 Computing map for /data/gibson/Adrian.glb\n"
     ]
    },
    {
     "name": "stdout",
     "output_type": "stream",
     "text": [
      "30 \t TIME TO RESET:  \t 22.682038068771362\n",
      "31 \t TIME TO STEP:  0.07992267608642578\n",
      "32 \t TIME TO STEP:  0.04920315742492676\n",
      "33 \t TIME TO STEP:  0.05809211730957031\n",
      "34 \t TIME TO STEP:  0.03375744819641113\n",
      "35 \t TIME TO STEP:  0.024201393127441406\n",
      "36 \t TIME TO STEP:  0.019352197647094727\n",
      "37 \t TIME TO STEP:  0.047582387924194336\n",
      "38 \t TIME TO STEP:  0.01916027069091797\n",
      "39 \t TIME TO STEP:  0.01980757713317871\n"
     ]
    },
    {
     "name": "stderr",
     "output_type": "stream",
     "text": [
      "2020-04-20 15:20:47,947 Computing map for /data/gibson/Adrian.glb\n"
     ]
    },
    {
     "name": "stdout",
     "output_type": "stream",
     "text": [
      "40 \t TIME TO RESET:  \t 5.876062870025635\n",
      "41 \t TIME TO STEP:  0.033652544021606445\n",
      "42 \t TIME TO STEP:  0.02045583724975586\n",
      "43 \t TIME TO STEP:  0.02052164077758789\n",
      "44 \t TIME TO STEP:  0.020014524459838867\n",
      "45 \t TIME TO STEP:  0.020753860473632812\n",
      "46 \t TIME TO STEP:  0.03579425811767578\n",
      "47 \t TIME TO STEP:  0.02128911018371582\n",
      "48 \t TIME TO STEP:  0.01992940902709961\n",
      "49 \t TIME TO STEP:  0.021455764770507812\n"
     ]
    },
    {
     "name": "stderr",
     "output_type": "stream",
     "text": [
      "2020-04-20 15:20:54,040 Computing map for /data/gibson/Adrian.glb\n"
     ]
    },
    {
     "name": "stdout",
     "output_type": "stream",
     "text": [
      "50 \t TIME TO RESET:  \t 5.816633701324463\n",
      "51 \t TIME TO STEP:  0.051979780197143555\n",
      "52 \t TIME TO STEP:  0.020965576171875\n",
      "53 \t TIME TO STEP:  0.020871639251708984\n",
      "54 \t TIME TO STEP:  0.019772052764892578\n",
      "55 \t TIME TO STEP:  0.020070552825927734\n",
      "56 \t TIME TO STEP:  0.020328998565673828\n",
      "57 \t TIME TO STEP:  0.02005791664123535\n",
      "58 \t TIME TO STEP:  0.02005934715270996\n"
     ]
    },
    {
     "name": "stderr",
     "output_type": "stream",
     "text": [
      "2020-04-20 15:21:00,056 Computing map for /data/gibson/Adrian.glb\n"
     ]
    },
    {
     "name": "stdout",
     "output_type": "stream",
     "text": [
      "59 \t TIME TO STEP:  0.022228240966796875\n",
      "60 \t TIME TO RESET:  \t 5.719959735870361\n",
      "61 \t TIME TO STEP:  0.03261876106262207\n",
      "62 \t TIME TO STEP:  0.02056145668029785\n",
      "63 \t TIME TO STEP:  0.02024221420288086\n",
      "64 \t TIME TO STEP:  0.03389453887939453\n",
      "65 \t TIME TO STEP:  0.03647279739379883\n",
      "66 \t TIME TO STEP:  0.0625302791595459\n",
      "67 \t TIME TO STEP:  0.020494937896728516\n",
      "68 \t TIME TO STEP:  0.05113840103149414\n",
      "69 \t TIME TO STEP:  0.05298161506652832\n"
     ]
    },
    {
     "name": "stderr",
     "output_type": "stream",
     "text": [
      "2020-04-20 15:21:06,125 Computing map for /data/gibson/Adrian.glb\n",
      "2020-04-20 15:21:11,534 Invalid map: /data/gibson/Adrian.glb/9\n",
      "2020-04-20 15:21:11,744 Computing map for /data/gibson/Adrian.glb\n"
     ]
    },
    {
     "name": "stdout",
     "output_type": "stream",
     "text": [
      "70 \t TIME TO RESET:  \t 11.293906450271606\n",
      "71 \t TIME TO STEP:  0.0228118896484375\n",
      "72 \t TIME TO STEP:  0.021357059478759766\n",
      "73 \t TIME TO STEP:  0.02079629898071289\n",
      "74 \t TIME TO STEP:  0.020204782485961914\n",
      "75 \t TIME TO STEP:  0.020142316818237305\n",
      "76 \t TIME TO STEP:  0.020334243774414062\n",
      "77 \t TIME TO STEP:  0.020161151885986328\n",
      "78 \t TIME TO STEP:  0.020064115524291992\n",
      "79 \t TIME TO STEP:  0.020325422286987305\n"
     ]
    },
    {
     "name": "stderr",
     "output_type": "stream",
     "text": [
      "2020-04-20 15:21:17,608 Computing map for /data/gibson/Adrian.glb\n"
     ]
    },
    {
     "name": "stdout",
     "output_type": "stream",
     "text": [
      "80 \t TIME TO RESET:  \t 5.776385307312012\n",
      "81 \t TIME TO STEP:  0.05615568161010742\n",
      "82 \t TIME TO STEP:  0.07503342628479004\n",
      "83 \t TIME TO STEP:  0.03680849075317383\n",
      "84 \t TIME TO STEP:  0.019795656204223633\n",
      "85 \t TIME TO STEP:  0.02064681053161621\n",
      "86 \t TIME TO STEP:  0.02055811882019043\n",
      "87 \t TIME TO STEP:  0.02001476287841797\n",
      "88 \t TIME TO STEP:  0.02075028419494629\n",
      "89 \t TIME TO STEP:  0.02034926414489746\n"
     ]
    },
    {
     "name": "stderr",
     "output_type": "stream",
     "text": [
      "2020-04-20 15:21:23,676 Computing map for /data/gibson/Adrian.glb\n"
     ]
    },
    {
     "name": "stdout",
     "output_type": "stream",
     "text": [
      "90 \t TIME TO RESET:  \t 5.8052802085876465\n",
      "91 \t TIME TO STEP:  0.06985950469970703\n",
      "92 \t TIME TO STEP:  0.020968198776245117\n",
      "93 \t TIME TO STEP:  0.020081043243408203\n",
      "94 \t TIME TO STEP:  0.020434141159057617\n",
      "95 \t TIME TO STEP:  0.02022576332092285\n",
      "96 \t TIME TO STEP:  0.020224571228027344\n",
      "97 \t TIME TO STEP:  0.020673036575317383\n",
      "98 \t TIME TO STEP:  0.03433108329772949\n",
      "99 \t TIME TO STEP:  0.03488922119140625\n"
     ]
    },
    {
     "name": "stderr",
     "output_type": "stream",
     "text": [
      "2020-04-20 15:21:29,743 Computing map for /data/gibson/Adrian.glb\n"
     ]
    },
    {
     "name": "stdout",
     "output_type": "stream",
     "text": [
      "100 \t TIME TO RESET:  \t 5.748404026031494\n",
      "101 \t TIME TO STEP:  0.02325749397277832\n",
      "102 \t TIME TO STEP:  0.06719565391540527\n",
      "103 \t TIME TO STEP:  0.020791292190551758\n",
      "104 \t TIME TO STEP:  0.020371437072753906\n",
      "105 \t TIME TO STEP:  0.02026963233947754\n",
      "106 \t TIME TO STEP:  0.020563602447509766\n",
      "107 \t TIME TO STEP:  0.02032470703125\n",
      "108 \t TIME TO STEP:  0.022405147552490234\n",
      "109 \t TIME TO STEP:  0.020678997039794922\n"
     ]
    },
    {
     "name": "stderr",
     "output_type": "stream",
     "text": [
      "2020-04-20 15:21:35,745 Computing map for /data/gibson/Adrian.glb\n",
      "2020-04-20 15:21:41,179 Invalid map: /data/gibson/Adrian.glb/13\n",
      "2020-04-20 15:21:41,400 Computing map for /data/gibson/Adrian.glb\n"
     ]
    },
    {
     "name": "stdout",
     "output_type": "stream",
     "text": [
      "110 \t TIME TO RESET:  \t 11.432425498962402\n",
      "111 \t TIME TO STEP:  0.06600308418273926\n",
      "112 \t TIME TO STEP:  0.05142784118652344\n",
      "113 \t TIME TO STEP:  0.020486116409301758\n",
      "114 \t TIME TO STEP:  0.020145654678344727\n",
      "115 \t TIME TO STEP:  0.020191192626953125\n",
      "116 \t TIME TO STEP:  0.020734310150146484\n",
      "117 \t TIME TO STEP:  0.023221731185913086\n",
      "118 \t TIME TO STEP:  0.02284836769104004\n",
      "119 \t TIME TO STEP:  0.021482467651367188\n"
     ]
    },
    {
     "name": "stderr",
     "output_type": "stream",
     "text": [
      "2020-04-20 15:21:47,442 Computing map for /data/gibson/Adrian.glb\n"
     ]
    },
    {
     "name": "stdout",
     "output_type": "stream",
     "text": [
      "120 \t TIME TO RESET:  \t 5.752538204193115\n",
      "121 \t TIME TO STEP:  0.05382800102233887\n",
      "122 \t TIME TO STEP:  0.06708049774169922\n",
      "123 \t TIME TO STEP:  0.06910109519958496\n",
      "124 \t TIME TO STEP:  0.05430293083190918\n",
      "125 \t TIME TO STEP:  0.05405163764953613\n",
      "126 \t TIME TO STEP:  0.054701805114746094\n",
      "127 \t TIME TO STEP:  0.05274510383605957\n",
      "128 \t TIME TO STEP:  0.0653235912322998\n",
      "129 \t TIME TO STEP:  0.02010321617126465\n"
     ]
    },
    {
     "name": "stderr",
     "output_type": "stream",
     "text": [
      "2020-04-20 15:21:53,676 Computing map for /data/gibson/Adrian.glb\n",
      "2020-04-20 15:21:59,103 Invalid map: /data/gibson/Adrian.glb/15\n",
      "2020-04-20 15:21:59,311 Computing map for /data/gibson/Adrian.glb\n",
      "2020-04-20 15:22:04,778 Invalid map: /data/gibson/Adrian.glb/15\n",
      "2020-04-20 15:22:04,995 Computing map for /data/gibson/Adrian.glb\n",
      "2020-04-20 15:22:10,401 Invalid map: /data/gibson/Adrian.glb/15\n",
      "2020-04-20 15:22:10,626 Computing map for /data/gibson/Adrian.glb\n"
     ]
    },
    {
     "name": "stdout",
     "output_type": "stream",
     "text": [
      "130 \t TIME TO RESET:  \t 22.633705854415894\n",
      "131 \t TIME TO STEP:  0.08205819129943848\n",
      "132 \t TIME TO STEP:  0.05453777313232422\n",
      "133 \t TIME TO STEP:  0.020180702209472656\n",
      "134 \t TIME TO STEP:  0.02080512046813965\n",
      "135 \t TIME TO STEP:  0.020641565322875977\n",
      "136 \t TIME TO STEP:  0.020262479782104492\n",
      "137 \t TIME TO STEP:  0.020125627517700195\n",
      "138 \t TIME TO STEP:  0.020065784454345703\n",
      "139 \t TIME TO STEP:  0.02086949348449707\n"
     ]
    },
    {
     "name": "stderr",
     "output_type": "stream",
     "text": [
      "2020-04-20 15:22:16,589 Computing map for /data/gibson/Adrian.glb\n"
     ]
    },
    {
     "name": "stdout",
     "output_type": "stream",
     "text": [
      "140 \t TIME TO RESET:  \t 5.753215312957764\n",
      "141 \t TIME TO STEP:  0.0370793342590332\n",
      "142 \t TIME TO STEP:  0.019932270050048828\n",
      "143 \t TIME TO STEP:  0.020166635513305664\n",
      "144 \t TIME TO STEP:  0.02027726173400879\n",
      "145 \t TIME TO STEP:  0.02011418342590332\n",
      "146 \t TIME TO STEP:  0.02042245864868164\n",
      "147 \t TIME TO STEP:  0.038979291915893555\n",
      "148 \t TIME TO STEP:  0.04587841033935547\n",
      "149 \t TIME TO STEP:  0.021366119384765625\n"
     ]
    },
    {
     "name": "stderr",
     "output_type": "stream",
     "text": [
      "2020-04-20 15:22:22,612 Computing map for /data/gibson/Adrian.glb\n"
     ]
    },
    {
     "name": "stdout",
     "output_type": "stream",
     "text": [
      "150 \t TIME TO RESET:  \t 5.89906907081604\n",
      "151 \t TIME TO STEP:  0.02484297752380371\n",
      "152 \t TIME TO STEP:  0.021930932998657227\n",
      "153 \t TIME TO STEP:  0.02033400535583496\n",
      "154 \t TIME TO STEP:  0.02017807960510254\n",
      "155 \t TIME TO STEP:  0.02039957046508789\n",
      "156 \t TIME TO STEP:  0.020490646362304688\n",
      "157 \t TIME TO STEP:  0.020381689071655273\n",
      "158 \t TIME TO STEP:  0.020190715789794922\n",
      "159 \t TIME TO STEP:  0.02097606658935547\n"
     ]
    },
    {
     "name": "stderr",
     "output_type": "stream",
     "text": [
      "2020-04-20 15:22:28,699 Computing map for /data/gibson/Adrian.glb\n"
     ]
    },
    {
     "name": "stdout",
     "output_type": "stream",
     "text": [
      "160 \t TIME TO RESET:  \t 5.898068904876709\n",
      "161 \t TIME TO STEP:  0.02108454704284668\n",
      "162 \t TIME TO STEP:  0.020746231079101562\n",
      "163 \t TIME TO STEP:  0.021137237548828125\n",
      "164 \t TIME TO STEP:  0.05413556098937988\n",
      "165 \t TIME TO STEP:  0.05017542839050293\n",
      "166 \t TIME TO STEP:  0.03739595413208008\n",
      "167 \t TIME TO STEP:  0.053069353103637695\n",
      "168 \t TIME TO STEP:  0.06196904182434082\n",
      "169 \t TIME TO STEP:  0.029354095458984375\n"
     ]
    },
    {
     "name": "stderr",
     "output_type": "stream",
     "text": [
      "2020-04-20 15:22:34,929 Computing map for /data/gibson/Adrian.glb\n",
      "2020-04-20 15:22:40,557 Invalid map: /data/gibson/Adrian.glb/19\n",
      "2020-04-20 15:22:40,764 Computing map for /data/gibson/Adrian.glb\n",
      "2020-04-20 15:22:46,394 Invalid map: /data/gibson/Adrian.glb/19\n",
      "2020-04-20 15:22:46,609 Computing map for /data/gibson/Adrian.glb\n",
      "2020-04-20 15:22:52,066 Invalid map: /data/gibson/Adrian.glb/19\n",
      "2020-04-20 15:22:52,287 Computing map for /data/gibson/Adrian.glb\n"
     ]
    },
    {
     "name": "stdout",
     "output_type": "stream",
     "text": [
      "170 \t TIME TO RESET:  \t 23.113388299942017\n",
      "171 \t TIME TO STEP:  0.09235930442810059\n",
      "172 \t TIME TO STEP:  0.03610038757324219\n",
      "173 \t TIME TO STEP:  0.02133655548095703\n",
      "174 \t TIME TO STEP:  0.020424604415893555\n",
      "175 \t TIME TO STEP:  0.020711898803710938\n",
      "176 \t TIME TO STEP:  0.021883249282836914\n",
      "177 \t TIME TO STEP:  0.02130889892578125\n",
      "178 \t TIME TO STEP:  0.02174091339111328\n",
      "179 \t TIME TO STEP:  0.020425081253051758\n"
     ]
    },
    {
     "name": "stderr",
     "output_type": "stream",
     "text": [
      "2020-04-20 15:22:58,317 Computing map for /data/gibson/Adrian.glb\n"
     ]
    },
    {
     "name": "stdout",
     "output_type": "stream",
     "text": [
      "180 \t TIME TO RESET:  \t 5.71710205078125\n",
      "181 \t TIME TO STEP:  0.03822517395019531\n",
      "182 \t TIME TO STEP:  0.021173715591430664\n",
      "183 \t TIME TO STEP:  0.020359516143798828\n",
      "184 \t TIME TO STEP:  0.020241737365722656\n",
      "185 \t TIME TO STEP:  0.020120859146118164\n",
      "186 \t TIME TO STEP:  0.02033376693725586\n",
      "187 \t TIME TO STEP:  0.020149946212768555\n",
      "188 \t TIME TO STEP:  0.020352840423583984\n",
      "189 \t TIME TO STEP:  0.01995396614074707\n"
     ]
    },
    {
     "name": "stderr",
     "output_type": "stream",
     "text": [
      "2020-04-20 15:23:04,238 Computing map for /data/gibson/Adrian.glb\n"
     ]
    },
    {
     "name": "stdout",
     "output_type": "stream",
     "text": [
      "190 \t TIME TO RESET:  \t 5.776017665863037\n",
      "191 \t TIME TO STEP:  0.020659923553466797\n",
      "192 \t TIME TO STEP:  0.021003007888793945\n",
      "193 \t TIME TO STEP:  0.02035379409790039\n",
      "194 \t TIME TO STEP:  0.03803610801696777\n",
      "195 \t TIME TO STEP:  0.020128488540649414\n",
      "196 \t TIME TO STEP:  0.04567575454711914\n",
      "197 \t TIME TO STEP:  0.02030014991760254\n",
      "198 \t TIME TO STEP:  0.021082162857055664\n",
      "199 \t TIME TO STEP:  0.029049158096313477\n"
     ]
    },
    {
     "name": "stderr",
     "output_type": "stream",
     "text": [
      "2020-04-20 15:23:10,259 Computing map for /data/gibson/Adrian.glb\n"
     ]
    },
    {
     "name": "stdout",
     "output_type": "stream",
     "text": [
      "200 \t TIME TO RESET:  \t 5.73778510093689\n",
      "201 \t TIME TO STEP:  0.07150435447692871\n",
      "202 \t TIME TO STEP:  0.0314333438873291\n",
      "203 \t TIME TO STEP:  0.02094292640686035\n",
      "204 \t TIME TO STEP:  0.020656824111938477\n",
      "205 \t TIME TO STEP:  0.02001667022705078\n",
      "206 \t TIME TO STEP:  0.020793676376342773\n",
      "207 \t TIME TO STEP:  0.020386457443237305\n",
      "208 \t TIME TO STEP:  0.020793676376342773\n",
      "209 \t TIME TO STEP:  0.020522356033325195\n"
     ]
    },
    {
     "name": "stderr",
     "output_type": "stream",
     "text": [
      "2020-04-20 15:23:16,237 Computing map for /data/gibson/Adrian.glb\n"
     ]
    },
    {
     "name": "stdout",
     "output_type": "stream",
     "text": [
      "210 \t TIME TO RESET:  \t 5.787220001220703\n",
      "211 \t TIME TO STEP:  0.02198648452758789\n",
      "212 \t TIME TO STEP:  0.029539823532104492\n",
      "213 \t TIME TO STEP:  0.0297393798828125\n",
      "214 \t TIME TO STEP:  0.020582914352416992\n",
      "215 \t TIME TO STEP:  0.05282855033874512\n",
      "216 \t TIME TO STEP:  0.038977861404418945\n",
      "217 \t TIME TO STEP:  0.05838823318481445\n",
      "218 \t TIME TO STEP:  0.053208351135253906\n",
      "219 \t TIME TO STEP:  0.05118274688720703\n"
     ]
    },
    {
     "name": "stderr",
     "output_type": "stream",
     "text": [
      "2020-04-20 15:23:22,389 Computing map for /data/gibson/Adrian.glb\n"
     ]
    },
    {
     "name": "stdout",
     "output_type": "stream",
     "text": [
      "220 \t TIME TO RESET:  \t 5.837875604629517\n",
      "221 \t TIME TO STEP:  0.021033048629760742\n",
      "222 \t TIME TO STEP:  0.020623445510864258\n",
      "223 \t TIME TO STEP:  0.020254135131835938\n",
      "224 \t TIME TO STEP:  0.037018775939941406\n",
      "225 \t TIME TO STEP:  0.020524978637695312\n",
      "226 \t TIME TO STEP:  0.0294189453125\n",
      "227 \t TIME TO STEP:  0.020190715789794922\n",
      "228 \t TIME TO STEP:  0.020390987396240234\n",
      "229 \t TIME TO STEP:  0.02189183235168457\n"
     ]
    },
    {
     "name": "stderr",
     "output_type": "stream",
     "text": [
      "2020-04-20 15:23:28,435 Computing map for /data/gibson/Adrian.glb\n"
     ]
    },
    {
     "name": "stdout",
     "output_type": "stream",
     "text": [
      "230 \t TIME TO RESET:  \t 5.708543539047241\n",
      "231 \t TIME TO STEP:  0.028944015502929688\n",
      "232 \t TIME TO STEP:  0.02029871940612793\n",
      "233 \t TIME TO STEP:  0.020520448684692383\n",
      "234 \t TIME TO STEP:  0.029096364974975586\n",
      "235 \t TIME TO STEP:  0.0200345516204834\n",
      "236 \t TIME TO STEP:  0.02004408836364746\n",
      "237 \t TIME TO STEP:  0.04093289375305176\n",
      "238 \t TIME TO STEP:  0.02119755744934082\n",
      "239 \t TIME TO STEP:  0.02044677734375\n"
     ]
    },
    {
     "name": "stderr",
     "output_type": "stream",
     "text": [
      "2020-04-20 15:23:34,353 Computing map for /data/gibson/Adrian.glb\n",
      "2020-04-20 15:23:39,813 Invalid map: /data/gibson/Adrian.glb/26\n",
      "2020-04-20 15:23:40,029 Computing map for /data/gibson/Adrian.glb\n"
     ]
    },
    {
     "name": "stdout",
     "output_type": "stream",
     "text": [
      "240 \t TIME TO RESET:  \t 11.447591543197632\n",
      "241 \t TIME TO STEP:  0.038217782974243164\n",
      "242 \t TIME TO STEP:  0.020910263061523438\n",
      "243 \t TIME TO STEP:  0.0204160213470459\n",
      "244 \t TIME TO STEP:  0.020833492279052734\n",
      "245 \t TIME TO STEP:  0.020403623580932617\n",
      "246 \t TIME TO STEP:  0.020615816116333008\n",
      "247 \t TIME TO STEP:  0.02054429054260254\n",
      "248 \t TIME TO STEP:  0.021119356155395508\n",
      "249 \t TIME TO STEP:  0.022211313247680664\n"
     ]
    },
    {
     "name": "stderr",
     "output_type": "stream",
     "text": [
      "2020-04-20 15:23:46,021 Computing map for /data/gibson/Adrian.glb\n",
      "2020-04-20 15:23:51,490 Invalid map: /data/gibson/Adrian.glb/27\n",
      "2020-04-20 15:23:51,703 Computing map for /data/gibson/Adrian.glb\n"
     ]
    },
    {
     "name": "stdout",
     "output_type": "stream",
     "text": [
      "250 \t TIME TO RESET:  \t 11.408871412277222\n",
      "251 \t TIME TO STEP:  0.05917096138000488\n",
      "252 \t TIME TO STEP:  0.03003525733947754\n",
      "253 \t TIME TO STEP:  0.045911550521850586\n",
      "254 \t TIME TO STEP:  0.020331859588623047\n",
      "255 \t TIME TO STEP:  0.02014946937561035\n",
      "256 \t TIME TO STEP:  0.02091240882873535\n",
      "257 \t TIME TO STEP:  0.020694971084594727\n",
      "258 \t TIME TO STEP:  0.0205991268157959\n",
      "259 \t TIME TO STEP:  0.02034473419189453\n"
     ]
    },
    {
     "name": "stderr",
     "output_type": "stream",
     "text": [
      "2020-04-20 15:23:57,685 Computing map for /data/gibson/Adrian.glb\n"
     ]
    },
    {
     "name": "stdout",
     "output_type": "stream",
     "text": [
      "260 \t TIME TO RESET:  \t 5.766019344329834\n",
      "261 \t TIME TO STEP:  0.054168701171875\n",
      "262 \t TIME TO STEP:  0.03460955619812012\n",
      "263 \t TIME TO STEP:  0.04024815559387207\n",
      "264 \t TIME TO STEP:  0.020659446716308594\n",
      "265 \t TIME TO STEP:  0.03970646858215332\n",
      "266 \t TIME TO STEP:  0.021088123321533203\n",
      "267 \t TIME TO STEP:  0.020379304885864258\n",
      "268 \t TIME TO STEP:  0.029543399810791016\n",
      "269 \t TIME TO STEP:  0.020235061645507812\n"
     ]
    },
    {
     "name": "stderr",
     "output_type": "stream",
     "text": [
      "2020-04-20 15:24:03,736 Computing map for /data/gibson/Adrian.glb\n",
      "2020-04-20 15:24:09,316 Invalid map: /data/gibson/Adrian.glb/29\n",
      "2020-04-20 15:24:09,548 Computing map for /data/gibson/Adrian.glb\n",
      "2020-04-20 15:24:15,208 Invalid map: /data/gibson/Adrian.glb/29\n",
      "2020-04-20 15:24:15,443 Computing map for /data/gibson/Adrian.glb\n"
     ]
    },
    {
     "name": "stdout",
     "output_type": "stream",
     "text": [
      "270 \t TIME TO RESET:  \t 17.523815393447876\n",
      "271 \t TIME TO STEP:  0.0876009464263916\n",
      "272 \t TIME TO STEP:  0.06590890884399414\n",
      "273 \t TIME TO STEP:  0.05272626876831055\n",
      "274 \t TIME TO STEP:  0.028013229370117188\n",
      "275 \t TIME TO STEP:  0.0452728271484375\n",
      "276 \t TIME TO STEP:  0.019917964935302734\n",
      "277 \t TIME TO STEP:  0.019872665405273438\n",
      "278 \t TIME TO STEP:  0.02000117301940918\n",
      "279 \t TIME TO STEP:  0.019989967346191406\n"
     ]
    },
    {
     "name": "stderr",
     "output_type": "stream",
     "text": [
      "2020-04-20 15:24:21,617 Computing map for /data/gibson/Adrian.glb\n"
     ]
    },
    {
     "name": "stdout",
     "output_type": "stream",
     "text": [
      "280 \t TIME TO RESET:  \t 5.689916610717773\n",
      "281 \t TIME TO STEP:  0.029932737350463867\n",
      "282 \t TIME TO STEP:  0.030125856399536133\n",
      "283 \t TIME TO STEP:  0.02024698257446289\n",
      "284 \t TIME TO STEP:  0.020439624786376953\n",
      "285 \t TIME TO STEP:  0.01999974250793457\n",
      "286 \t TIME TO STEP:  0.02056097984313965\n",
      "287 \t TIME TO STEP:  0.019795656204223633\n",
      "288 \t TIME TO STEP:  0.020284414291381836\n",
      "289 \t TIME TO STEP:  0.029055356979370117\n"
     ]
    },
    {
     "name": "stderr",
     "output_type": "stream",
     "text": [
      "2020-04-20 15:24:27,520 Computing map for /data/gibson/Adrian.glb\n"
     ]
    },
    {
     "name": "stdout",
     "output_type": "stream",
     "text": [
      "290 \t TIME TO RESET:  \t 5.909277439117432\n",
      "291 \t TIME TO STEP:  0.04088282585144043\n",
      "292 \t TIME TO STEP:  0.019025564193725586\n",
      "293 \t TIME TO STEP:  0.046843767166137695\n",
      "294 \t TIME TO STEP:  0.0459895133972168\n",
      "295 \t TIME TO STEP:  0.0580904483795166\n",
      "296 \t TIME TO STEP:  0.025790691375732422\n",
      "297 \t TIME TO STEP:  0.019125938415527344\n",
      "298 \t TIME TO STEP:  0.01904296875\n",
      "299 \t TIME TO STEP:  0.019190549850463867\n"
     ]
    },
    {
     "name": "stderr",
     "output_type": "stream",
     "text": [
      "2020-04-20 15:24:33,707 Computing map for /data/gibson/Adrian.glb\n",
      "2020-04-20 15:24:39,231 Invalid map: /data/gibson/Adrian.glb/32\n",
      "2020-04-20 15:24:39,453 Computing map for /data/gibson/Adrian.glb\n"
     ]
    },
    {
     "name": "stdout",
     "output_type": "stream",
     "text": [
      "300 \t TIME TO RESET:  \t 11.51580262184143\n",
      "301 \t TIME TO STEP:  0.04094266891479492\n",
      "302 \t TIME TO STEP:  0.04571819305419922\n",
      "303 \t TIME TO STEP:  0.04645991325378418\n",
      "304 \t TIME TO STEP:  0.02618241310119629\n",
      "305 \t TIME TO STEP:  0.0399172306060791\n",
      "306 \t TIME TO STEP:  0.019917964935302734\n",
      "307 \t TIME TO STEP:  0.019782304763793945\n",
      "308 \t TIME TO STEP:  0.01975107192993164\n",
      "309 \t TIME TO STEP:  0.019299030303955078\n"
     ]
    },
    {
     "name": "stderr",
     "output_type": "stream",
     "text": [
      "2020-04-20 15:24:45,519 Computing map for /data/gibson/Adrian.glb\n"
     ]
    },
    {
     "name": "stdout",
     "output_type": "stream",
     "text": [
      "310 \t TIME TO RESET:  \t 5.730196714401245\n",
      "311 \t TIME TO STEP:  0.03904366493225098\n",
      "312 \t TIME TO STEP:  0.02777266502380371\n",
      "313 \t TIME TO STEP:  0.05024909973144531\n",
      "314 \t TIME TO STEP:  0.050394296646118164\n",
      "315 \t TIME TO STEP:  0.05098605155944824\n",
      "316 \t TIME TO STEP:  0.03563737869262695\n",
      "317 \t TIME TO STEP:  0.020165205001831055\n",
      "318 \t TIME TO STEP:  0.020031452178955078\n",
      "319 \t TIME TO STEP:  0.019982099533081055\n"
     ]
    },
    {
     "name": "stderr",
     "output_type": "stream",
     "text": [
      "2020-04-20 15:24:51,568 Computing map for /data/gibson/Adrian.glb\n"
     ]
    },
    {
     "name": "stdout",
     "output_type": "stream",
     "text": [
      "320 \t TIME TO RESET:  \t 5.762416839599609\n",
      "321 \t TIME TO STEP:  0.05157756805419922\n",
      "322 \t TIME TO STEP:  0.050336599349975586\n",
      "323 \t TIME TO STEP:  0.019855499267578125\n",
      "324 \t TIME TO STEP:  0.01986837387084961\n",
      "325 \t TIME TO STEP:  0.01998281478881836\n",
      "326 \t TIME TO STEP:  0.020036697387695312\n",
      "327 \t TIME TO STEP:  0.020734548568725586\n",
      "328 \t TIME TO STEP:  0.020064830780029297\n",
      "329 \t TIME TO STEP:  0.01995563507080078\n"
     ]
    },
    {
     "name": "stderr",
     "output_type": "stream",
     "text": [
      "2020-04-20 15:24:57,580 Computing map for /data/gibson/Adrian.glb\n"
     ]
    },
    {
     "name": "stdout",
     "output_type": "stream",
     "text": [
      "330 \t TIME TO RESET:  \t 5.671796798706055\n",
      "331 \t TIME TO STEP:  0.053902387619018555\n",
      "332 \t TIME TO STEP:  0.020244836807250977\n",
      "333 \t TIME TO STEP:  0.020183324813842773\n",
      "334 \t TIME TO STEP:  0.027921438217163086\n",
      "335 \t TIME TO STEP:  0.020058631896972656\n",
      "336 \t TIME TO STEP:  0.01984119415283203\n",
      "337 \t TIME TO STEP:  0.020381450653076172\n",
      "338 \t TIME TO STEP:  0.020312070846557617\n",
      "339 \t TIME TO STEP:  0.021112680435180664\n"
     ]
    },
    {
     "name": "stderr",
     "output_type": "stream",
     "text": [
      "2020-04-20 15:25:03,474 Computing map for /data/gibson/Adrian.glb\n"
     ]
    },
    {
     "name": "stdout",
     "output_type": "stream",
     "text": [
      "340 \t TIME TO RESET:  \t 5.851742744445801\n",
      "341 \t TIME TO STEP:  0.06778860092163086\n",
      "342 \t TIME TO STEP:  0.021742820739746094\n",
      "343 \t TIME TO STEP:  0.02937769889831543\n",
      "344 \t TIME TO STEP:  0.029370784759521484\n",
      "345 \t TIME TO STEP:  0.020082473754882812\n",
      "346 \t TIME TO STEP:  0.02029871940612793\n",
      "347 \t TIME TO STEP:  0.021005630493164062\n",
      "348 \t TIME TO STEP:  0.020404338836669922\n",
      "349 \t TIME TO STEP:  0.02088475227355957\n"
     ]
    },
    {
     "name": "stderr",
     "output_type": "stream",
     "text": [
      "2020-04-20 15:25:09,574 Computing map for /data/gibson/Adrian.glb\n",
      "2020-04-20 15:25:15,144 Invalid map: /data/gibson/Adrian.glb/37\n",
      "2020-04-20 15:25:15,346 Computing map for /data/gibson/Adrian.glb\n"
     ]
    },
    {
     "name": "stdout",
     "output_type": "stream",
     "text": [
      "350 \t TIME TO RESET:  \t 11.709590911865234\n",
      "351 \t TIME TO STEP:  0.05360913276672363\n",
      "352 \t TIME TO STEP:  0.06602883338928223\n",
      "353 \t TIME TO STEP:  0.046042680740356445\n",
      "354 \t TIME TO STEP:  0.03644299507141113\n",
      "355 \t TIME TO STEP:  0.04625654220581055\n",
      "356 \t TIME TO STEP:  0.020579814910888672\n",
      "357 \t TIME TO STEP:  0.02961897850036621\n",
      "358 \t TIME TO STEP:  0.020676851272583008\n",
      "359 \t TIME TO STEP:  0.020468711853027344\n"
     ]
    },
    {
     "name": "stderr",
     "output_type": "stream",
     "text": [
      "2020-04-20 15:25:21,640 Computing map for /data/gibson/Adrian.glb\n"
     ]
    },
    {
     "name": "stdout",
     "output_type": "stream",
     "text": [
      "360 \t TIME TO RESET:  \t 5.9906005859375\n",
      "361 \t TIME TO STEP:  0.03007364273071289\n",
      "362 \t TIME TO STEP:  0.02070784568786621\n",
      "363 \t TIME TO STEP:  0.0214383602142334\n",
      "364 \t TIME TO STEP:  0.020560741424560547\n",
      "365 \t TIME TO STEP:  0.02047872543334961\n",
      "366 \t TIME TO STEP:  0.037093162536621094\n",
      "367 \t TIME TO STEP:  0.020299911499023438\n",
      "368 \t TIME TO STEP:  0.020225048065185547\n",
      "369 \t TIME TO STEP:  0.021554231643676758\n"
     ]
    },
    {
     "name": "stderr",
     "output_type": "stream",
     "text": [
      "2020-04-20 15:25:27,833 Computing map for /data/gibson/Adrian.glb\n",
      "2020-04-20 15:25:33,386 Invalid map: /data/gibson/Adrian.glb/39\n",
      "2020-04-20 15:25:33,603 Computing map for /data/gibson/Adrian.glb\n",
      "2020-04-20 15:25:39,017 Invalid map: /data/gibson/Adrian.glb/39\n",
      "2020-04-20 15:25:39,235 Computing map for /data/gibson/Adrian.glb\n"
     ]
    },
    {
     "name": "stdout",
     "output_type": "stream",
     "text": [
      "370 \t TIME TO RESET:  \t 17.12683653831482\n",
      "371 \t TIME TO STEP:  0.09098649024963379\n",
      "372 \t TIME TO STEP:  0.021410465240478516\n",
      "373 \t TIME TO STEP:  0.05014824867248535\n",
      "374 \t TIME TO STEP:  0.022902727127075195\n",
      "375 \t TIME TO STEP:  0.03452658653259277\n",
      "376 \t TIME TO STEP:  0.026373863220214844\n",
      "377 \t TIME TO STEP:  0.020852327346801758\n",
      "378 \t TIME TO STEP:  0.020198822021484375\n",
      "379 \t TIME TO STEP:  0.022150039672851562\n"
     ]
    },
    {
     "name": "stderr",
     "output_type": "stream",
     "text": [
      "2020-04-20 15:25:45,275 Computing map for /data/gibson/Adrian.glb\n"
     ]
    },
    {
     "name": "stdout",
     "output_type": "stream",
     "text": [
      "380 \t TIME TO RESET:  \t 5.898288011550903\n",
      "381 \t TIME TO STEP:  0.04943561553955078\n",
      "382 \t TIME TO STEP:  0.020946025848388672\n",
      "383 \t TIME TO STEP:  0.0203096866607666\n",
      "384 \t TIME TO STEP:  0.031647443771362305\n",
      "385 \t TIME TO STEP:  0.021752357482910156\n",
      "386 \t TIME TO STEP:  0.02147364616394043\n",
      "387 \t TIME TO STEP:  0.021410703659057617\n",
      "388 \t TIME TO STEP:  0.020585060119628906\n",
      "389 \t TIME TO STEP:  0.020735502243041992\n"
     ]
    },
    {
     "name": "stderr",
     "output_type": "stream",
     "text": [
      "2020-04-20 15:25:51,400 Computing map for /data/gibson/Adrian.glb\n",
      "2020-04-20 15:25:56,980 Invalid map: /data/gibson/Adrian.glb/41\n",
      "2020-04-20 15:25:57,200 Computing map for /data/gibson/Adrian.glb\n"
     ]
    },
    {
     "name": "stdout",
     "output_type": "stream",
     "text": [
      "390 \t TIME TO RESET:  \t 11.631766557693481\n",
      "391 \t TIME TO STEP:  0.04883146286010742\n",
      "392 \t TIME TO STEP:  0.020570039749145508\n",
      "393 \t TIME TO STEP:  0.020557165145874023\n",
      "394 \t TIME TO STEP:  0.054166316986083984\n",
      "395 \t TIME TO STEP:  0.04054403305053711\n",
      "396 \t TIME TO STEP:  0.05572009086608887\n",
      "397 \t TIME TO STEP:  0.03742170333862305\n",
      "398 \t TIME TO STEP:  0.06697535514831543\n",
      "399 \t TIME TO STEP:  0.020696163177490234\n"
     ]
    },
    {
     "name": "stderr",
     "output_type": "stream",
     "text": [
      "2020-04-20 15:26:03,394 Computing map for /data/gibson/Adrian.glb\n",
      "2020-04-20 15:26:08,779 Invalid map: /data/gibson/Adrian.glb/42\n",
      "2020-04-20 15:26:09,002 Computing map for /data/gibson/Adrian.glb\n"
     ]
    },
    {
     "name": "stdout",
     "output_type": "stream",
     "text": [
      "400 \t TIME TO RESET:  \t 11.43476676940918\n",
      "401 \t TIME TO STEP:  0.057698726654052734\n",
      "402 \t TIME TO STEP:  0.055312156677246094\n",
      "403 \t TIME TO STEP:  0.05373191833496094\n",
      "404 \t TIME TO STEP:  0.029444217681884766\n",
      "405 \t TIME TO STEP:  0.021582841873168945\n",
      "406 \t TIME TO STEP:  0.020493268966674805\n",
      "407 \t TIME TO STEP:  0.0210568904876709\n",
      "408 \t TIME TO STEP:  0.020928382873535156\n",
      "409 \t TIME TO STEP:  0.020734071731567383\n"
     ]
    },
    {
     "name": "stderr",
     "output_type": "stream",
     "text": [
      "2020-04-20 15:26:15,133 Computing map for /data/gibson/Adrian.glb\n",
      "2020-04-20 15:26:20,522 Invalid map: /data/gibson/Adrian.glb/43\n",
      "2020-04-20 15:26:20,723 Computing map for /data/gibson/Adrian.glb\n",
      "2020-04-20 15:26:26,174 Invalid map: /data/gibson/Adrian.glb/43\n",
      "2020-04-20 15:26:26,396 Computing map for /data/gibson/Adrian.glb\n"
     ]
    },
    {
     "name": "stdout",
     "output_type": "stream",
     "text": [
      "410 \t TIME TO RESET:  \t 17.003410577774048\n",
      "411 \t TIME TO STEP:  0.07455205917358398\n",
      "412 \t TIME TO STEP:  0.05609297752380371\n",
      "413 \t TIME TO STEP:  0.05386233329772949\n",
      "414 \t TIME TO STEP:  0.021539926528930664\n",
      "415 \t TIME TO STEP:  0.022047996520996094\n",
      "416 \t TIME TO STEP:  0.02037191390991211\n",
      "417 \t TIME TO STEP:  0.02075338363647461\n",
      "418 \t TIME TO STEP:  0.020498991012573242\n",
      "419 \t TIME TO STEP:  0.02046942710876465\n"
     ]
    },
    {
     "name": "stderr",
     "output_type": "stream",
     "text": [
      "2020-04-20 15:26:32,445 Computing map for /data/gibson/Adrian.glb\n",
      "2020-04-20 15:26:38,035 Invalid map: /data/gibson/Adrian.glb/44\n",
      "2020-04-20 15:26:38,266 Computing map for /data/gibson/Adrian.glb\n"
     ]
    },
    {
     "name": "stdout",
     "output_type": "stream",
     "text": [
      "420 \t TIME TO RESET:  \t 11.575881958007812\n",
      "421 \t TIME TO STEP:  0.023030757904052734\n",
      "422 \t TIME TO STEP:  0.03820538520812988\n",
      "423 \t TIME TO STEP:  0.05550050735473633\n",
      "424 \t TIME TO STEP:  0.054427146911621094\n",
      "425 \t TIME TO STEP:  0.03871488571166992\n",
      "426 \t TIME TO STEP:  0.0663602352142334\n",
      "427 \t TIME TO STEP:  0.06413531303405762\n",
      "428 \t TIME TO STEP:  0.05817461013793945\n",
      "429 \t TIME TO STEP:  0.021249055862426758\n"
     ]
    },
    {
     "name": "stderr",
     "output_type": "stream",
     "text": [
      "2020-04-20 15:26:44,445 Computing map for /data/gibson/Adrian.glb\n"
     ]
    },
    {
     "name": "stdout",
     "output_type": "stream",
     "text": [
      "430 \t TIME TO RESET:  \t 5.717605113983154\n",
      "431 \t TIME TO STEP:  0.021737337112426758\n",
      "432 \t TIME TO STEP:  0.020951032638549805\n",
      "433 \t TIME TO STEP:  0.020146608352661133\n",
      "434 \t TIME TO STEP:  0.029282569885253906\n",
      "435 \t TIME TO STEP:  0.02021479606628418\n",
      "436 \t TIME TO STEP:  0.020201921463012695\n",
      "437 \t TIME TO STEP:  0.020733118057250977\n",
      "438 \t TIME TO STEP:  0.02021503448486328\n",
      "439 \t TIME TO STEP:  0.020707130432128906\n"
     ]
    },
    {
     "name": "stderr",
     "output_type": "stream",
     "text": [
      "2020-04-20 15:26:50,366 Computing map for /data/gibson/Adrian.glb\n"
     ]
    },
    {
     "name": "stdout",
     "output_type": "stream",
     "text": [
      "440 \t TIME TO RESET:  \t 5.691708564758301\n",
      "441 \t TIME TO STEP:  0.0532069206237793\n",
      "442 \t TIME TO STEP:  0.028299331665039062\n",
      "443 \t TIME TO STEP:  0.020105361938476562\n",
      "444 \t TIME TO STEP:  0.02001047134399414\n",
      "445 \t TIME TO STEP:  0.019861698150634766\n",
      "446 \t TIME TO STEP:  0.020262479782104492\n",
      "447 \t TIME TO STEP:  0.019935131072998047\n",
      "448 \t TIME TO STEP:  0.019889116287231445\n",
      "449 \t TIME TO STEP:  0.020073652267456055\n"
     ]
    },
    {
     "name": "stderr",
     "output_type": "stream",
     "text": [
      "2020-04-20 15:26:56,270 Computing map for /data/gibson/Adrian.glb\n"
     ]
    },
    {
     "name": "stdout",
     "output_type": "stream",
     "text": [
      "450 \t TIME TO RESET:  \t 5.68059515953064\n",
      "451 \t TIME TO STEP:  0.04462718963623047\n",
      "452 \t TIME TO STEP:  0.020500898361206055\n",
      "453 \t TIME TO STEP:  0.020709514617919922\n",
      "454 \t TIME TO STEP:  0.020334720611572266\n",
      "455 \t TIME TO STEP:  0.03585100173950195\n",
      "456 \t TIME TO STEP:  0.02154994010925293\n",
      "457 \t TIME TO STEP:  0.020717859268188477\n",
      "458 \t TIME TO STEP:  0.038123130798339844\n",
      "459 \t TIME TO STEP:  0.021442651748657227\n"
     ]
    },
    {
     "name": "stderr",
     "output_type": "stream",
     "text": [
      "2020-04-20 15:27:02,196 Computing map for /data/gibson/Adrian.glb\n"
     ]
    },
    {
     "name": "stdout",
     "output_type": "stream",
     "text": [
      "460 \t TIME TO RESET:  \t 5.710018873214722\n",
      "461 \t TIME TO STEP:  0.05666685104370117\n",
      "462 \t TIME TO STEP:  0.06685566902160645\n",
      "463 \t TIME TO STEP:  0.03787875175476074\n",
      "464 \t TIME TO STEP:  0.0205690860748291\n",
      "465 \t TIME TO STEP:  0.02036285400390625\n",
      "466 \t TIME TO STEP:  0.020390748977661133\n",
      "467 \t TIME TO STEP:  0.020109176635742188\n",
      "468 \t TIME TO STEP:  0.03593754768371582\n",
      "469 \t TIME TO STEP:  0.019759416580200195\n"
     ]
    },
    {
     "name": "stderr",
     "output_type": "stream",
     "text": [
      "2020-04-20 15:27:08,214 Computing map for /data/gibson/Adrian.glb\n"
     ]
    },
    {
     "name": "stdout",
     "output_type": "stream",
     "text": [
      "470 \t TIME TO RESET:  \t 5.895304918289185\n",
      "471 \t TIME TO STEP:  0.020360469818115234\n",
      "472 \t TIME TO STEP:  0.04357743263244629\n",
      "473 \t TIME TO STEP:  0.01974654197692871\n",
      "474 \t TIME TO STEP:  0.020233154296875\n",
      "475 \t TIME TO STEP:  0.027497053146362305\n",
      "476 \t TIME TO STEP:  0.01967763900756836\n",
      "477 \t TIME TO STEP:  0.05014467239379883\n",
      "478 \t TIME TO STEP:  0.020477771759033203\n",
      "479 \t TIME TO STEP:  0.021441221237182617\n"
     ]
    },
    {
     "name": "stderr",
     "output_type": "stream",
     "text": [
      "2020-04-20 15:27:14,346 Computing map for /data/gibson/Adrian.glb\n",
      "2020-04-20 15:27:19,936 Invalid map: /data/gibson/Adrian.glb/50\n",
      "2020-04-20 15:27:20,148 Computing map for /data/gibson/Adrian.glb\n"
     ]
    },
    {
     "name": "stdout",
     "output_type": "stream",
     "text": [
      "480 \t TIME TO RESET:  \t 11.603078842163086\n",
      "481 \t TIME TO STEP:  0.022395610809326172\n",
      "482 \t TIME TO STEP:  0.06911325454711914\n",
      "483 \t TIME TO STEP:  0.036324501037597656\n",
      "484 \t TIME TO STEP:  0.019937753677368164\n",
      "485 \t TIME TO STEP:  0.019884109497070312\n",
      "486 \t TIME TO STEP:  0.03575754165649414\n",
      "487 \t TIME TO STEP:  0.023934364318847656\n",
      "488 \t TIME TO STEP:  0.020464181900024414\n",
      "489 \t TIME TO STEP:  0.020114898681640625\n"
     ]
    },
    {
     "name": "stderr",
     "output_type": "stream",
     "text": [
      "2020-04-20 15:27:26,219 Computing map for /data/gibson/Adrian.glb\n",
      "2020-04-20 15:27:31,707 Invalid map: /data/gibson/Adrian.glb/51\n",
      "2020-04-20 15:27:31,923 Computing map for /data/gibson/Adrian.glb\n"
     ]
    },
    {
     "name": "stdout",
     "output_type": "stream",
     "text": [
      "490 \t TIME TO RESET:  \t 11.410969495773315\n",
      "491 \t TIME TO STEP:  0.021296024322509766\n",
      "492 \t TIME TO STEP:  0.020467758178710938\n",
      "493 \t TIME TO STEP:  0.020596742630004883\n",
      "494 \t TIME TO STEP:  0.020586729049682617\n",
      "495 \t TIME TO STEP:  0.02120351791381836\n",
      "496 \t TIME TO STEP:  0.021238327026367188\n",
      "497 \t TIME TO STEP:  0.020696401596069336\n",
      "498 \t TIME TO STEP:  0.02040696144104004\n",
      "499 \t TIME TO STEP:  0.020279645919799805\n"
     ]
    },
    {
     "name": "stderr",
     "output_type": "stream",
     "text": [
      "2020-04-20 15:27:37,817 Computing map for /data/gibson/Adrian.glb\n"
     ]
    },
    {
     "name": "stdout",
     "output_type": "stream",
     "text": [
      "500 \t TIME TO RESET:  \t 5.71656608581543\n",
      "501 \t TIME TO STEP:  0.05747199058532715\n",
      "502 \t TIME TO STEP:  0.031260013580322266\n",
      "503 \t TIME TO STEP:  0.03809952735900879\n",
      "504 \t TIME TO STEP:  0.0654439926147461\n",
      "505 \t TIME TO STEP:  0.04372739791870117\n",
      "506 \t TIME TO STEP:  0.05455613136291504\n",
      "507 \t TIME TO STEP:  0.06507730484008789\n",
      "508 \t TIME TO STEP:  0.08355498313903809\n",
      "509 \t TIME TO STEP:  0.06907200813293457\n"
     ]
    },
    {
     "name": "stderr",
     "output_type": "stream",
     "text": [
      "2020-04-20 15:27:44,048 Computing map for /data/gibson/Adrian.glb\n",
      "2020-04-20 15:27:49,524 Invalid map: /data/gibson/Adrian.glb/53\n",
      "2020-04-20 15:27:49,746 Computing map for /data/gibson/Adrian.glb\n",
      "2020-04-20 15:27:55,171 Invalid map: /data/gibson/Adrian.glb/53\n",
      "2020-04-20 15:27:55,390 Computing map for /data/gibson/Adrian.glb\n",
      "2020-04-20 15:28:00,800 Invalid map: /data/gibson/Adrian.glb/53\n",
      "2020-04-20 15:28:01,018 Computing map for /data/gibson/Adrian.glb\n",
      "2020-04-20 15:28:06,479 Invalid map: /data/gibson/Adrian.glb/53\n",
      "2020-04-20 15:28:06,696 Computing map for /data/gibson/Adrian.glb\n"
     ]
    },
    {
     "name": "stdout",
     "output_type": "stream",
     "text": [
      "510 \t TIME TO RESET:  \t 28.499043226242065\n",
      "511 \t TIME TO STEP:  0.08248114585876465\n",
      "512 \t TIME TO STEP:  0.03750729560852051\n",
      "513 \t TIME TO STEP:  0.0507504940032959\n",
      "514 \t TIME TO STEP:  0.021391868591308594\n",
      "515 \t TIME TO STEP:  0.022083759307861328\n",
      "516 \t TIME TO STEP:  0.020355224609375\n",
      "517 \t TIME TO STEP:  0.02025771141052246\n",
      "518 \t TIME TO STEP:  0.0209958553314209\n",
      "519 \t TIME TO STEP:  0.020499706268310547\n"
     ]
    },
    {
     "name": "stderr",
     "output_type": "stream",
     "text": [
      "2020-04-20 15:28:12,833 Computing map for /data/gibson/Adrian.glb\n",
      "2020-04-20 15:28:18,269 Invalid map: /data/gibson/Adrian.glb/54\n",
      "2020-04-20 15:28:18,481 Computing map for /data/gibson/Adrian.glb\n",
      "2020-04-20 15:28:23,927 Invalid map: /data/gibson/Adrian.glb/54\n",
      "2020-04-20 15:28:24,161 Computing map for /data/gibson/Adrian.glb\n"
     ]
    },
    {
     "name": "stdout",
     "output_type": "stream",
     "text": [
      "520 \t TIME TO RESET:  \t 17.026584148406982\n",
      "521 \t TIME TO STEP:  0.02717280387878418\n",
      "522 \t TIME TO STEP:  0.020661592483520508\n",
      "523 \t TIME TO STEP:  0.05436110496520996\n",
      "524 \t TIME TO STEP:  0.021332502365112305\n",
      "525 \t TIME TO STEP:  0.020888328552246094\n",
      "526 \t TIME TO STEP:  0.0202944278717041\n",
      "527 \t TIME TO STEP:  0.0285794734954834\n",
      "528 \t TIME TO STEP:  0.021497011184692383\n",
      "529 \t TIME TO STEP:  0.020743131637573242\n"
     ]
    },
    {
     "name": "stderr",
     "output_type": "stream",
     "text": [
      "2020-04-20 15:28:30,097 Computing map for /data/gibson/Adrian.glb\n"
     ]
    },
    {
     "name": "stdout",
     "output_type": "stream",
     "text": [
      "530 \t TIME TO RESET:  \t 5.877161026000977\n",
      "531 \t TIME TO STEP:  0.045992374420166016\n",
      "532 \t TIME TO STEP:  0.02920246124267578\n",
      "533 \t TIME TO STEP:  0.020542621612548828\n",
      "534 \t TIME TO STEP:  0.020910978317260742\n",
      "535 \t TIME TO STEP:  0.020337581634521484\n",
      "536 \t TIME TO STEP:  0.02028799057006836\n",
      "537 \t TIME TO STEP:  0.0203855037689209\n",
      "538 \t TIME TO STEP:  0.021087169647216797\n",
      "539 \t TIME TO STEP:  0.02060222625732422\n"
     ]
    },
    {
     "name": "stderr",
     "output_type": "stream",
     "text": [
      "2020-04-20 15:28:36,213 Computing map for /data/gibson/Adrian.glb\n",
      "2020-04-20 15:28:41,783 Invalid map: /data/gibson/Adrian.glb/56\n",
      "2020-04-20 15:28:41,999 Computing map for /data/gibson/Adrian.glb\n"
     ]
    },
    {
     "name": "stdout",
     "output_type": "stream",
     "text": [
      "540 \t TIME TO RESET:  \t 11.545391082763672\n",
      "541 \t TIME TO STEP:  0.07837176322937012\n",
      "542 \t TIME TO STEP:  0.049865007400512695\n",
      "543 \t TIME TO STEP:  0.06189560890197754\n",
      "544 \t TIME TO STEP:  0.06147575378417969\n",
      "545 \t TIME TO STEP:  0.08614802360534668\n",
      "546 \t TIME TO STEP:  0.02241802215576172\n",
      "547 \t TIME TO STEP:  0.03299546241760254\n",
      "548 \t TIME TO STEP:  0.023535490036010742\n",
      "549 \t TIME TO STEP:  0.02008652687072754\n"
     ]
    },
    {
     "name": "stderr",
     "output_type": "stream",
     "text": [
      "2020-04-20 15:28:48,190 Computing map for /data/gibson/Adrian.glb\n"
     ]
    },
    {
     "name": "stdout",
     "output_type": "stream",
     "text": [
      "550 \t TIME TO RESET:  \t 5.851588010787964\n",
      "551 \t TIME TO STEP:  0.02764105796813965\n",
      "552 \t TIME TO STEP:  0.021268844604492188\n",
      "553 \t TIME TO STEP:  0.02144336700439453\n",
      "554 \t TIME TO STEP:  0.028285741806030273\n",
      "555 \t TIME TO STEP:  0.020360231399536133\n",
      "556 \t TIME TO STEP:  0.02018260955810547\n",
      "557 \t TIME TO STEP:  0.02088451385498047\n",
      "558 \t TIME TO STEP:  0.02061176300048828\n",
      "559 \t TIME TO STEP:  0.020791292190551758\n"
     ]
    },
    {
     "name": "stderr",
     "output_type": "stream",
     "text": [
      "2020-04-20 15:28:54,234 Computing map for /data/gibson/Adrian.glb\n",
      "2020-04-20 15:28:59,799 Invalid map: /data/gibson/Adrian.glb/58\n",
      "2020-04-20 15:29:00,015 Computing map for /data/gibson/Adrian.glb\n",
      "2020-04-20 15:29:05,643 Invalid map: /data/gibson/Adrian.glb/58\n",
      "2020-04-20 15:29:05,889 Computing map for /data/gibson/Adrian.glb\n"
     ]
    },
    {
     "name": "stdout",
     "output_type": "stream",
     "text": [
      "560 \t TIME TO RESET:  \t 17.414726495742798\n",
      "561 \t TIME TO STEP:  0.06112194061279297\n",
      "562 \t TIME TO STEP:  0.02200460433959961\n",
      "563 \t TIME TO STEP:  0.05565381050109863\n",
      "564 \t TIME TO STEP:  0.0203397274017334\n",
      "565 \t TIME TO STEP:  0.02039170265197754\n",
      "566 \t TIME TO STEP:  0.07779884338378906\n",
      "567 \t TIME TO STEP:  0.06825566291809082\n",
      "568 \t TIME TO STEP:  0.029627561569213867\n",
      "569 \t TIME TO STEP:  0.05370664596557617\n"
     ]
    },
    {
     "name": "stderr",
     "output_type": "stream",
     "text": [
      "2020-04-20 15:29:12,069 Computing map for /data/gibson/Adrian.glb\n"
     ]
    },
    {
     "name": "stdout",
     "output_type": "stream",
     "text": [
      "570 \t TIME TO RESET:  \t 5.830956697463989\n",
      "571 \t TIME TO STEP:  0.0543217658996582\n",
      "572 \t TIME TO STEP:  0.019968032836914062\n",
      "573 \t TIME TO STEP:  0.020279407501220703\n",
      "574 \t TIME TO STEP:  0.020638227462768555\n",
      "575 \t TIME TO STEP:  0.020310401916503906\n",
      "576 \t TIME TO STEP:  0.02018284797668457\n",
      "577 \t TIME TO STEP:  0.02043747901916504\n",
      "578 \t TIME TO STEP:  0.020241498947143555\n"
     ]
    },
    {
     "name": "stderr",
     "output_type": "stream",
     "text": [
      "2020-04-20 15:29:18,114 Computing map for /data/gibson/Adrian.glb\n"
     ]
    },
    {
     "name": "stdout",
     "output_type": "stream",
     "text": [
      "579 \t TIME TO STEP:  0.030315637588500977\n"
     ]
    },
    {
     "name": "stderr",
     "output_type": "stream",
     "text": [
      "2020-04-20 15:29:23,507 Invalid map: /data/gibson/Adrian.glb/60\n",
      "2020-04-20 15:29:23,751 Computing map for /data/gibson/Adrian.glb\n",
      "2020-04-20 15:29:29,241 Invalid map: /data/gibson/Adrian.glb/60\n",
      "2020-04-20 15:29:29,457 Computing map for /data/gibson/Adrian.glb\n"
     ]
    },
    {
     "name": "stdout",
     "output_type": "stream",
     "text": [
      "580 \t TIME TO RESET:  \t 17.184948682785034\n",
      "581 \t TIME TO STEP:  0.06218314170837402\n",
      "582 \t TIME TO STEP:  0.020511150360107422\n",
      "583 \t TIME TO STEP:  0.02009296417236328\n",
      "584 \t TIME TO STEP:  0.020101070404052734\n",
      "585 \t TIME TO STEP:  0.020186424255371094\n",
      "586 \t TIME TO STEP:  0.029381275177001953\n",
      "587 \t TIME TO STEP:  0.02026987075805664\n",
      "588 \t TIME TO STEP:  0.021213769912719727\n",
      "589 \t TIME TO STEP:  0.020453453063964844\n"
     ]
    },
    {
     "name": "stderr",
     "output_type": "stream",
     "text": [
      "2020-04-20 15:29:35,547 Computing map for /data/gibson/Adrian.glb\n"
     ]
    },
    {
     "name": "stdout",
     "output_type": "stream",
     "text": [
      "590 \t TIME TO RESET:  \t 5.840670108795166\n",
      "591 \t TIME TO STEP:  0.03750181198120117\n",
      "592 \t TIME TO STEP:  0.037548065185546875\n",
      "593 \t TIME TO STEP:  0.05371594429016113\n",
      "594 \t TIME TO STEP:  0.06981062889099121\n",
      "595 \t TIME TO STEP:  0.02183675765991211\n",
      "596 \t TIME TO STEP:  0.020262479782104492\n",
      "597 \t TIME TO STEP:  0.02045130729675293\n",
      "598 \t TIME TO STEP:  0.020293474197387695\n",
      "599 \t TIME TO STEP:  0.019899845123291016\n"
     ]
    },
    {
     "name": "stderr",
     "output_type": "stream",
     "text": [
      "2020-04-20 15:29:41,688 Computing map for /data/gibson/Adrian.glb\n"
     ]
    },
    {
     "name": "stdout",
     "output_type": "stream",
     "text": [
      "600 \t TIME TO RESET:  \t 5.793883562088013\n",
      "601 \t TIME TO STEP:  0.06644630432128906\n",
      "602 \t TIME TO STEP:  0.0419926643371582\n",
      "603 \t TIME TO STEP:  0.019591093063354492\n",
      "604 \t TIME TO STEP:  0.019739627838134766\n",
      "605 \t TIME TO STEP:  0.02045416831970215\n",
      "606 \t TIME TO STEP:  0.02015209197998047\n",
      "607 \t TIME TO STEP:  0.020369768142700195\n",
      "608 \t TIME TO STEP:  0.020324230194091797\n",
      "609 \t TIME TO STEP:  0.01984119415283203\n"
     ]
    },
    {
     "name": "stderr",
     "output_type": "stream",
     "text": [
      "2020-04-20 15:29:47,732 Computing map for /data/gibson/Adrian.glb\n",
      "2020-04-20 15:29:53,147 Invalid map: /data/gibson/Adrian.glb/63\n",
      "2020-04-20 15:29:53,379 Computing map for /data/gibson/Adrian.glb\n"
     ]
    },
    {
     "name": "stdout",
     "output_type": "stream",
     "text": [
      "610 \t TIME TO RESET:  \t 11.515595197677612\n",
      "611 \t TIME TO STEP:  0.025626420974731445\n",
      "612 \t TIME TO STEP:  0.02135634422302246\n",
      "613 \t TIME TO STEP:  0.058718204498291016\n",
      "614 \t TIME TO STEP:  0.023281097412109375\n",
      "615 \t TIME TO STEP:  0.03757286071777344\n",
      "616 \t TIME TO STEP:  0.029766321182250977\n",
      "617 \t TIME TO STEP:  0.05446481704711914\n",
      "618 \t TIME TO STEP:  0.028879642486572266\n",
      "619 \t TIME TO STEP:  0.02027440071105957\n"
     ]
    },
    {
     "name": "stderr",
     "output_type": "stream",
     "text": [
      "2020-04-20 15:29:59,556 Computing map for /data/gibson/Adrian.glb\n"
     ]
    },
    {
     "name": "stdout",
     "output_type": "stream",
     "text": [
      "620 \t TIME TO RESET:  \t 5.760344505310059\n",
      "621 \t TIME TO STEP:  0.023967981338500977\n",
      "622 \t TIME TO STEP:  0.06705856323242188\n",
      "623 \t TIME TO STEP:  0.021201372146606445\n",
      "624 \t TIME TO STEP:  0.02823185920715332\n",
      "625 \t TIME TO STEP:  0.02008342742919922\n",
      "626 \t TIME TO STEP:  0.030208110809326172\n",
      "627 \t TIME TO STEP:  0.021811246871948242\n",
      "628 \t TIME TO STEP:  0.020200014114379883\n",
      "629 \t TIME TO STEP:  0.0210721492767334\n"
     ]
    },
    {
     "name": "stderr",
     "output_type": "stream",
     "text": [
      "2020-04-20 15:30:05,569 Computing map for /data/gibson/Adrian.glb\n"
     ]
    },
    {
     "name": "stdout",
     "output_type": "stream",
     "text": [
      "630 \t TIME TO RESET:  \t 5.828941345214844\n",
      "631 \t TIME TO STEP:  0.032036781311035156\n",
      "632 \t TIME TO STEP:  0.05611133575439453\n",
      "633 \t TIME TO STEP:  0.07337737083435059\n",
      "634 \t TIME TO STEP:  0.02107858657836914\n",
      "635 \t TIME TO STEP:  0.021602869033813477\n",
      "636 \t TIME TO STEP:  0.02012014389038086\n",
      "637 \t TIME TO STEP:  0.020504474639892578\n",
      "638 \t TIME TO STEP:  0.02021026611328125\n",
      "639 \t TIME TO STEP:  0.028328657150268555\n"
     ]
    },
    {
     "name": "stderr",
     "output_type": "stream",
     "text": [
      "2020-04-20 15:30:11,693 Computing map for /data/gibson/Adrian.glb\n"
     ]
    },
    {
     "name": "stdout",
     "output_type": "stream",
     "text": [
      "640 \t TIME TO RESET:  \t 5.828888893127441\n",
      "641 \t TIME TO STEP:  0.05646634101867676\n",
      "642 \t TIME TO STEP:  0.05504107475280762\n",
      "643 \t TIME TO STEP:  0.05348515510559082\n",
      "644 \t TIME TO STEP:  0.05515742301940918\n",
      "645 \t TIME TO STEP:  0.05370926856994629\n",
      "646 \t TIME TO STEP:  0.0676727294921875\n",
      "647 \t TIME TO STEP:  0.041625022888183594\n",
      "648 \t TIME TO STEP:  0.021025896072387695\n",
      "649 \t TIME TO STEP:  0.020372390747070312\n"
     ]
    },
    {
     "name": "stderr",
     "output_type": "stream",
     "text": [
      "2020-04-20 15:30:17,947 Computing map for /data/gibson/Adrian.glb\n",
      "2020-04-20 15:30:23,462 Invalid map: /data/gibson/Adrian.glb/67\n",
      "2020-04-20 15:30:23,679 Computing map for /data/gibson/Adrian.glb\n"
     ]
    },
    {
     "name": "stdout",
     "output_type": "stream",
     "text": [
      "650 \t TIME TO RESET:  \t 11.447578191757202\n",
      "651 \t TIME TO STEP:  0.059072017669677734\n",
      "652 \t TIME TO STEP:  0.021317481994628906\n",
      "653 \t TIME TO STEP:  0.02062368392944336\n",
      "654 \t TIME TO STEP:  0.020961999893188477\n",
      "655 \t TIME TO STEP:  0.06794548034667969\n",
      "656 \t TIME TO STEP:  0.06990861892700195\n",
      "657 \t TIME TO STEP:  0.06013298034667969\n",
      "658 \t TIME TO STEP:  0.020703554153442383\n",
      "659 \t TIME TO STEP:  0.020527124404907227\n"
     ]
    },
    {
     "name": "stderr",
     "output_type": "stream",
     "text": [
      "2020-04-20 15:30:29,756 Computing map for /data/gibson/Adrian.glb\n",
      "2020-04-20 15:30:35,195 Invalid map: /data/gibson/Adrian.glb/68\n",
      "2020-04-20 15:30:35,416 Computing map for /data/gibson/Adrian.glb\n"
     ]
    },
    {
     "name": "stdout",
     "output_type": "stream",
     "text": [
      "660 \t TIME TO RESET:  \t 11.458692073822021\n",
      "661 \t TIME TO STEP:  0.05905294418334961\n",
      "662 \t TIME TO STEP:  0.028202295303344727\n",
      "663 \t TIME TO STEP:  0.019842863082885742\n",
      "664 \t TIME TO STEP:  0.02035665512084961\n",
      "665 \t TIME TO STEP:  0.020564794540405273\n",
      "666 \t TIME TO STEP:  0.02009439468383789\n",
      "667 \t TIME TO STEP:  0.0360109806060791\n",
      "668 \t TIME TO STEP:  0.02226734161376953\n",
      "669 \t TIME TO STEP:  0.020531654357910156\n"
     ]
    },
    {
     "name": "stderr",
     "output_type": "stream",
     "text": [
      "2020-04-20 15:30:41,466 Computing map for /data/gibson/Adrian.glb\n"
     ]
    },
    {
     "name": "stdout",
     "output_type": "stream",
     "text": [
      "670 \t TIME TO RESET:  \t 5.744978904724121\n",
      "671 \t TIME TO STEP:  0.021041154861450195\n",
      "672 \t TIME TO STEP:  0.020395517349243164\n",
      "673 \t TIME TO STEP:  0.02059316635131836\n",
      "674 \t TIME TO STEP:  0.020485401153564453\n",
      "675 \t TIME TO STEP:  0.020714759826660156\n",
      "676 \t TIME TO STEP:  0.02036142349243164\n",
      "677 \t TIME TO STEP:  0.020957469940185547\n",
      "678 \t TIME TO STEP:  0.03174996376037598\n",
      "679 \t TIME TO STEP:  0.021408557891845703\n"
     ]
    },
    {
     "name": "stderr",
     "output_type": "stream",
     "text": [
      "2020-04-20 15:30:47,408 Computing map for /data/gibson/Adrian.glb\n",
      "2020-04-20 15:30:52,856 Invalid map: /data/gibson/Adrian.glb/70\n",
      "2020-04-20 15:30:53,071 Computing map for /data/gibson/Adrian.glb\n",
      "2020-04-20 15:30:58,649 Invalid map: /data/gibson/Adrian.glb/70\n",
      "2020-04-20 15:30:58,893 Computing map for /data/gibson/Adrian.glb\n"
     ]
    },
    {
     "name": "stdout",
     "output_type": "stream",
     "text": [
      "680 \t TIME TO RESET:  \t 17.235249280929565\n",
      "681 \t TIME TO STEP:  0.06920289993286133\n",
      "682 \t TIME TO STEP:  0.0551149845123291\n",
      "683 \t TIME TO STEP:  0.020331144332885742\n",
      "684 \t TIME TO STEP:  0.020451784133911133\n",
      "685 \t TIME TO STEP:  0.020328044891357422\n",
      "686 \t TIME TO STEP:  0.021451234817504883\n",
      "687 \t TIME TO STEP:  0.021859169006347656\n",
      "688 \t TIME TO STEP:  0.028901100158691406\n",
      "689 \t TIME TO STEP:  0.020249128341674805\n"
     ]
    },
    {
     "name": "stderr",
     "output_type": "stream",
     "text": [
      "2020-04-20 15:31:04,923 Computing map for /data/gibson/Adrian.glb\n",
      "2020-04-20 15:31:10,372 Invalid map: /data/gibson/Adrian.glb/71\n",
      "2020-04-20 15:31:10,592 Computing map for /data/gibson/Adrian.glb\n",
      "2020-04-20 15:31:16,029 Invalid map: /data/gibson/Adrian.glb/71\n",
      "2020-04-20 15:31:16,245 Computing map for /data/gibson/Adrian.glb\n",
      "2020-04-20 15:31:21,740 Invalid map: /data/gibson/Adrian.glb/71\n",
      "2020-04-20 15:31:21,955 Computing map for /data/gibson/Adrian.glb\n"
     ]
    },
    {
     "name": "stdout",
     "output_type": "stream",
     "text": [
      "690 \t TIME TO RESET:  \t 22.737910985946655\n",
      "691 \t TIME TO STEP:  0.05854225158691406\n",
      "692 \t TIME TO STEP:  0.03906393051147461\n",
      "693 \t TIME TO STEP:  0.02767038345336914\n",
      "694 \t TIME TO STEP:  0.02046799659729004\n",
      "695 \t TIME TO STEP:  0.01989912986755371\n",
      "696 \t TIME TO STEP:  0.020195960998535156\n",
      "697 \t TIME TO STEP:  0.02075505256652832\n",
      "698 \t TIME TO STEP:  0.020617961883544922\n",
      "699 \t TIME TO STEP:  0.020370960235595703\n"
     ]
    },
    {
     "name": "stderr",
     "output_type": "stream",
     "text": [
      "2020-04-20 15:31:27,908 Computing map for /data/gibson/Adrian.glb\n",
      "2020-04-20 15:31:33,405 Invalid map: /data/gibson/Adrian.glb/72\n",
      "2020-04-20 15:31:33,621 Computing map for /data/gibson/Adrian.glb\n",
      "2020-04-20 15:31:39,073 Invalid map: /data/gibson/Adrian.glb/72\n",
      "2020-04-20 15:31:39,293 Computing map for /data/gibson/Adrian.glb\n"
     ]
    },
    {
     "name": "stdout",
     "output_type": "stream",
     "text": [
      "700 \t TIME TO RESET:  \t 17.16478395462036\n",
      "701 \t TIME TO STEP:  0.0852670669555664\n",
      "702 \t TIME TO STEP:  0.028635740280151367\n",
      "703 \t TIME TO STEP:  0.05332541465759277\n",
      "704 \t TIME TO STEP:  0.02886652946472168\n",
      "705 \t TIME TO STEP:  0.021313905715942383\n",
      "706 \t TIME TO STEP:  0.02002406120300293\n",
      "707 \t TIME TO STEP:  0.020064592361450195\n",
      "708 \t TIME TO STEP:  0.020226716995239258\n",
      "709 \t TIME TO STEP:  0.020610570907592773\n"
     ]
    },
    {
     "name": "stderr",
     "output_type": "stream",
     "text": [
      "2020-04-20 15:31:45,378 Computing map for /data/gibson/Adrian.glb\n",
      "2020-04-20 15:31:50,856 Invalid map: /data/gibson/Adrian.glb/73\n",
      "2020-04-20 15:31:51,068 Computing map for /data/gibson/Adrian.glb\n"
     ]
    },
    {
     "name": "stdout",
     "output_type": "stream",
     "text": [
      "710 \t TIME TO RESET:  \t 11.452880859375\n",
      "711 \t TIME TO STEP:  0.03709244728088379\n",
      "712 \t TIME TO STEP:  0.01976299285888672\n",
      "713 \t TIME TO STEP:  0.02026987075805664\n",
      "714 \t TIME TO STEP:  0.02002406120300293\n",
      "715 \t TIME TO STEP:  0.020620107650756836\n",
      "716 \t TIME TO STEP:  0.029592275619506836\n",
      "717 \t TIME TO STEP:  0.019922494888305664\n",
      "718 \t TIME TO STEP:  0.02031707763671875\n",
      "719 \t TIME TO STEP:  0.020357608795166016\n"
     ]
    },
    {
     "name": "stderr",
     "output_type": "stream",
     "text": [
      "2020-04-20 15:31:57,039 Computing map for /data/gibson/Adrian.glb\n",
      "2020-04-20 15:32:02,448 Invalid map: /data/gibson/Adrian.glb/74\n",
      "2020-04-20 15:32:02,665 Computing map for /data/gibson/Adrian.glb\n",
      "2020-04-20 15:32:08,222 Invalid map: /data/gibson/Adrian.glb/74\n",
      "2020-04-20 15:32:08,430 Computing map for /data/gibson/Adrian.glb\n"
     ]
    },
    {
     "name": "stdout",
     "output_type": "stream",
     "text": [
      "720 \t TIME TO RESET:  \t 17.21806573867798\n",
      "721 \t TIME TO STEP:  0.07675719261169434\n",
      "722 \t TIME TO STEP:  0.05381131172180176\n",
      "723 \t TIME TO STEP:  0.0673985481262207\n",
      "724 \t TIME TO STEP:  0.06923365592956543\n",
      "725 \t TIME TO STEP:  0.019893646240234375\n",
      "726 \t TIME TO STEP:  0.03633236885070801\n",
      "727 \t TIME TO STEP:  0.0283353328704834\n",
      "728 \t TIME TO STEP:  0.019652843475341797\n",
      "729 \t TIME TO STEP:  0.019884347915649414\n"
     ]
    },
    {
     "name": "stderr",
     "output_type": "stream",
     "text": [
      "2020-04-20 15:32:14,692 Computing map for /data/gibson/Adrian.glb\n",
      "2020-04-20 15:32:20,371 Invalid map: /data/gibson/Adrian.glb/75\n",
      "2020-04-20 15:32:20,584 Computing map for /data/gibson/Adrian.glb\n"
     ]
    },
    {
     "name": "stdout",
     "output_type": "stream",
     "text": [
      "730 \t TIME TO RESET:  \t 11.6619713306427\n",
      "731 \t TIME TO STEP:  0.05475187301635742\n",
      "732 \t TIME TO STEP:  0.02018880844116211\n",
      "733 \t TIME TO STEP:  0.02043914794921875\n",
      "734 \t TIME TO STEP:  0.02100396156311035\n",
      "735 \t TIME TO STEP:  0.020301342010498047\n",
      "736 \t TIME TO STEP:  0.02068352699279785\n",
      "737 \t TIME TO STEP:  0.02065277099609375\n",
      "738 \t TIME TO STEP:  0.020346641540527344\n"
     ]
    },
    {
     "name": "stderr",
     "output_type": "stream",
     "text": [
      "2020-04-20 15:32:26,520 Computing map for /data/gibson/Adrian.glb\n"
     ]
    },
    {
     "name": "stdout",
     "output_type": "stream",
     "text": [
      "739 \t TIME TO STEP:  0.021974802017211914\n",
      "740 \t TIME TO RESET:  \t 5.794158458709717\n",
      "741 \t TIME TO STEP:  0.05771660804748535\n",
      "742 \t TIME TO STEP:  0.05459403991699219\n",
      "743 \t TIME TO STEP:  0.05307126045227051\n",
      "744 \t TIME TO STEP:  0.07735300064086914\n",
      "745 \t TIME TO STEP:  0.08839702606201172\n",
      "746 \t TIME TO STEP:  0.05012822151184082\n",
      "747 \t TIME TO STEP:  0.01935124397277832\n",
      "748 \t TIME TO STEP:  0.04865694046020508\n",
      "749 \t TIME TO STEP:  0.048303842544555664\n"
     ]
    },
    {
     "name": "stderr",
     "output_type": "stream",
     "text": [
      "2020-04-20 15:32:32,818 Computing map for /data/gibson/Adrian.glb\n",
      "2020-04-20 15:32:38,470 Invalid map: /data/gibson/Adrian.glb/77\n",
      "2020-04-20 15:32:38,694 Computing map for /data/gibson/Adrian.glb\n"
     ]
    },
    {
     "name": "stdout",
     "output_type": "stream",
     "text": [
      "750 \t TIME TO RESET:  \t 11.744212865829468\n",
      "751 \t TIME TO STEP:  0.04642367362976074\n",
      "752 \t TIME TO STEP:  0.021109580993652344\n",
      "753 \t TIME TO STEP:  0.02077627182006836\n",
      "754 \t TIME TO STEP:  0.020579814910888672\n",
      "755 \t TIME TO STEP:  0.020818710327148438\n",
      "756 \t TIME TO STEP:  0.04752182960510254\n",
      "757 \t TIME TO STEP:  0.05267596244812012\n",
      "758 \t TIME TO STEP:  0.02007460594177246\n",
      "759 \t TIME TO STEP:  0.020002365112304688\n"
     ]
    },
    {
     "name": "stderr",
     "output_type": "stream",
     "text": [
      "2020-04-20 15:32:44,838 Computing map for /data/gibson/Adrian.glb\n",
      "2020-04-20 15:32:50,345 Invalid map: /data/gibson/Adrian.glb/78\n",
      "2020-04-20 15:32:50,560 Computing map for /data/gibson/Adrian.glb\n"
     ]
    },
    {
     "name": "stdout",
     "output_type": "stream",
     "text": [
      "760 \t TIME TO RESET:  \t 11.671991348266602\n",
      "761 \t TIME TO STEP:  0.05450582504272461\n",
      "762 \t TIME TO STEP:  0.043636322021484375\n",
      "763 \t TIME TO STEP:  0.052561283111572266\n",
      "764 \t TIME TO STEP:  0.0671088695526123\n",
      "765 \t TIME TO STEP:  0.05056333541870117\n",
      "766 \t TIME TO STEP:  0.020198822021484375\n",
      "767 \t TIME TO STEP:  0.021858930587768555\n",
      "768 \t TIME TO STEP:  0.020476102828979492\n",
      "769 \t TIME TO STEP:  0.02031564712524414\n"
     ]
    },
    {
     "name": "stderr",
     "output_type": "stream",
     "text": [
      "2020-04-20 15:32:56,866 Computing map for /data/gibson/Adrian.glb\n"
     ]
    },
    {
     "name": "stdout",
     "output_type": "stream",
     "text": [
      "770 \t TIME TO RESET:  \t 5.843842506408691\n",
      "771 \t TIME TO STEP:  0.055431365966796875\n",
      "772 \t TIME TO STEP:  0.020530223846435547\n",
      "773 \t TIME TO STEP:  0.01957845687866211\n",
      "774 \t TIME TO STEP:  0.02108621597290039\n",
      "775 \t TIME TO STEP:  0.020340919494628906\n",
      "776 \t TIME TO STEP:  0.0202939510345459\n",
      "777 \t TIME TO STEP:  0.019852399826049805\n",
      "778 \t TIME TO STEP:  0.020320892333984375\n",
      "779 \t TIME TO STEP:  0.022687435150146484\n"
     ]
    },
    {
     "name": "stderr",
     "output_type": "stream",
     "text": [
      "2020-04-20 15:33:02,929 Computing map for /data/gibson/Adrian.glb\n"
     ]
    },
    {
     "name": "stdout",
     "output_type": "stream",
     "text": [
      "780 \t TIME TO RESET:  \t 5.8288254737854\n",
      "781 \t TIME TO STEP:  0.054913997650146484\n",
      "782 \t TIME TO STEP:  0.05113625526428223\n",
      "783 \t TIME TO STEP:  0.04507780075073242\n",
      "784 \t TIME TO STEP:  0.020555734634399414\n",
      "785 \t TIME TO STEP:  0.020524263381958008\n",
      "786 \t TIME TO STEP:  0.055318593978881836\n",
      "787 \t TIME TO STEP:  0.06732678413391113\n",
      "788 \t TIME TO STEP:  0.05276894569396973\n",
      "789 \t TIME TO STEP:  0.035356760025024414\n"
     ]
    },
    {
     "name": "stderr",
     "output_type": "stream",
     "text": [
      "2020-04-20 15:33:09,176 Computing map for /data/gibson/Adrian.glb\n"
     ]
    },
    {
     "name": "stdout",
     "output_type": "stream",
     "text": [
      "790 \t TIME TO RESET:  \t 5.855859756469727\n",
      "791 \t TIME TO STEP:  0.039469003677368164\n",
      "792 \t TIME TO STEP:  0.01970076560974121\n",
      "793 \t TIME TO STEP:  0.05288410186767578\n",
      "794 \t TIME TO STEP:  0.060918331146240234\n",
      "795 \t TIME TO STEP:  0.026642560958862305\n",
      "796 \t TIME TO STEP:  0.027893781661987305\n",
      "797 \t TIME TO STEP:  0.0371861457824707\n",
      "798 \t TIME TO STEP:  0.026236295700073242\n",
      "799 \t TIME TO STEP:  0.03630352020263672\n"
     ]
    },
    {
     "name": "stderr",
     "output_type": "stream",
     "text": [
      "2020-04-20 15:33:15,359 Computing map for /data/gibson/Adrian.glb\n",
      "2020-04-20 15:33:20,973 Invalid map: /data/gibson/Adrian.glb/82\n",
      "2020-04-20 15:33:21,196 Computing map for /data/gibson/Adrian.glb\n"
     ]
    },
    {
     "name": "stdout",
     "output_type": "stream",
     "text": [
      "800 \t TIME TO RESET:  \t 11.61010456085205\n",
      "801 \t TIME TO STEP:  0.054856061935424805\n",
      "802 \t TIME TO STEP:  0.045438528060913086\n",
      "803 \t TIME TO STEP:  0.02065563201904297\n",
      "804 \t TIME TO STEP:  0.020874738693237305\n",
      "805 \t TIME TO STEP:  0.020137310028076172\n",
      "806 \t TIME TO STEP:  0.020233631134033203\n",
      "807 \t TIME TO STEP:  0.02026677131652832\n",
      "808 \t TIME TO STEP:  0.021813154220581055\n",
      "809 \t TIME TO STEP:  0.02068805694580078\n"
     ]
    },
    {
     "name": "stderr",
     "output_type": "stream",
     "text": [
      "2020-04-20 15:33:27,223 Computing map for /data/gibson/Adrian.glb\n"
     ]
    },
    {
     "name": "stdout",
     "output_type": "stream",
     "text": [
      "810 \t TIME TO RESET:  \t 5.7975075244903564\n",
      "811 \t TIME TO STEP:  0.02156662940979004\n",
      "812 \t TIME TO STEP:  0.021446943283081055\n",
      "813 \t TIME TO STEP:  0.04168415069580078\n",
      "814 \t TIME TO STEP:  0.021859169006347656\n",
      "815 \t TIME TO STEP:  0.037116050720214844\n",
      "816 \t TIME TO STEP:  0.020287752151489258\n",
      "817 \t TIME TO STEP:  0.020208120346069336\n",
      "818 \t TIME TO STEP:  0.0341641902923584\n",
      "819 \t TIME TO STEP:  0.02129220962524414\n"
     ]
    },
    {
     "name": "stderr",
     "output_type": "stream",
     "text": [
      "2020-04-20 15:33:33,287 Computing map for /data/gibson/Adrian.glb\n",
      "2020-04-20 15:33:38,753 Invalid map: /data/gibson/Adrian.glb/84\n",
      "2020-04-20 15:33:38,975 Computing map for /data/gibson/Adrian.glb\n"
     ]
    },
    {
     "name": "stdout",
     "output_type": "stream",
     "text": [
      "820 \t TIME TO RESET:  \t 11.504068374633789\n",
      "821 \t TIME TO STEP:  0.056970834732055664\n",
      "822 \t TIME TO STEP:  0.021356582641601562\n",
      "823 \t TIME TO STEP:  0.0204925537109375\n",
      "824 \t TIME TO STEP:  0.020798921585083008\n",
      "825 \t TIME TO STEP:  0.020855426788330078\n",
      "826 \t TIME TO STEP:  0.028449296951293945\n",
      "827 \t TIME TO STEP:  0.021007299423217773\n",
      "828 \t TIME TO STEP:  0.02092766761779785\n",
      "829 \t TIME TO STEP:  0.02033090591430664\n"
     ]
    },
    {
     "name": "stderr",
     "output_type": "stream",
     "text": [
      "2020-04-20 15:33:45,001 Computing map for /data/gibson/Adrian.glb\n",
      "2020-04-20 15:33:50,580 Invalid map: /data/gibson/Adrian.glb/85\n",
      "2020-04-20 15:33:50,796 Computing map for /data/gibson/Adrian.glb\n",
      "2020-04-20 15:33:56,333 Invalid map: /data/gibson/Adrian.glb/85\n",
      "2020-04-20 15:33:56,549 Computing map for /data/gibson/Adrian.glb\n"
     ]
    },
    {
     "name": "stdout",
     "output_type": "stream",
     "text": [
      "830 \t TIME TO RESET:  \t 17.327606678009033\n",
      "831 \t TIME TO STEP:  0.04622197151184082\n",
      "832 \t TIME TO STEP:  0.021399259567260742\n",
      "833 \t TIME TO STEP:  0.020289897918701172\n",
      "834 \t TIME TO STEP:  0.01970076560974121\n",
      "835 \t TIME TO STEP:  0.019879579544067383\n",
      "836 \t TIME TO STEP:  0.020531654357910156\n",
      "837 \t TIME TO STEP:  0.02034735679626465\n",
      "838 \t TIME TO STEP:  0.020234346389770508\n",
      "839 \t TIME TO STEP:  0.021663904190063477\n"
     ]
    },
    {
     "name": "stderr",
     "output_type": "stream",
     "text": [
      "2020-04-20 15:34:02,522 Computing map for /data/gibson/Adrian.glb\n"
     ]
    },
    {
     "name": "stdout",
     "output_type": "stream",
     "text": [
      "840 \t TIME TO RESET:  \t 5.702991485595703\n",
      "841 \t TIME TO STEP:  0.054876089096069336\n",
      "842 \t TIME TO STEP:  0.020165443420410156\n",
      "843 \t TIME TO STEP:  0.02000713348388672\n",
      "844 \t TIME TO STEP:  0.01998615264892578\n",
      "845 \t TIME TO STEP:  0.020343303680419922\n",
      "846 \t TIME TO STEP:  0.02035832405090332\n",
      "847 \t TIME TO STEP:  0.02006077766418457\n",
      "848 \t TIME TO STEP:  0.020628690719604492\n",
      "849 \t TIME TO STEP:  0.02043628692626953\n"
     ]
    },
    {
     "name": "stderr",
     "output_type": "stream",
     "text": [
      "2020-04-20 15:34:08,445 Computing map for /data/gibson/Adrian.glb\n",
      "2020-04-20 15:34:13,905 Invalid map: /data/gibson/Adrian.glb/87\n",
      "2020-04-20 15:34:14,121 Computing map for /data/gibson/Adrian.glb\n"
     ]
    },
    {
     "name": "stdout",
     "output_type": "stream",
     "text": [
      "850 \t TIME TO RESET:  \t 11.356454372406006\n",
      "851 \t TIME TO STEP:  0.046457767486572266\n",
      "852 \t TIME TO STEP:  0.020453929901123047\n",
      "853 \t TIME TO STEP:  0.028843402862548828\n",
      "854 \t TIME TO STEP:  0.020142078399658203\n",
      "855 \t TIME TO STEP:  0.02027583122253418\n",
      "856 \t TIME TO STEP:  0.02052760124206543\n",
      "857 \t TIME TO STEP:  0.02948904037475586\n",
      "858 \t TIME TO STEP:  0.06328511238098145\n",
      "859 \t TIME TO STEP:  0.04628777503967285\n"
     ]
    },
    {
     "name": "stderr",
     "output_type": "stream",
     "text": [
      "2020-04-20 15:34:20,113 Computing map for /data/gibson/Adrian.glb\n"
     ]
    },
    {
     "name": "stdout",
     "output_type": "stream",
     "text": [
      "860 \t TIME TO RESET:  \t 5.769184112548828\n",
      "861 \t TIME TO STEP:  0.04752230644226074\n",
      "862 \t TIME TO STEP:  0.053700923919677734\n",
      "863 \t TIME TO STEP:  0.028270721435546875\n",
      "864 \t TIME TO STEP:  0.020234346389770508\n",
      "865 \t TIME TO STEP:  0.02910757064819336\n",
      "866 \t TIME TO STEP:  0.020034313201904297\n",
      "867 \t TIME TO STEP:  0.03768730163574219\n",
      "868 \t TIME TO STEP:  0.02021050453186035\n",
      "869 \t TIME TO STEP:  0.02064037322998047\n"
     ]
    },
    {
     "name": "stderr",
     "output_type": "stream",
     "text": [
      "2020-04-20 15:34:26,162 Computing map for /data/gibson/Adrian.glb\n",
      "2020-04-20 15:34:31,598 Invalid map: /data/gibson/Adrian.glb/89\n",
      "2020-04-20 15:34:31,818 Computing map for /data/gibson/Adrian.glb\n"
     ]
    },
    {
     "name": "stdout",
     "output_type": "stream",
     "text": [
      "870 \t TIME TO RESET:  \t 11.457757234573364\n",
      "871 \t TIME TO STEP:  0.055176496505737305\n",
      "872 \t TIME TO STEP:  0.02903580665588379\n",
      "873 \t TIME TO STEP:  0.021040916442871094\n",
      "874 \t TIME TO STEP:  0.020120620727539062\n",
      "875 \t TIME TO STEP:  0.020677566528320312\n",
      "876 \t TIME TO STEP:  0.02017688751220703\n",
      "877 \t TIME TO STEP:  0.020492076873779297\n",
      "878 \t TIME TO STEP:  0.02015972137451172\n",
      "879 \t TIME TO STEP:  0.02098369598388672\n"
     ]
    },
    {
     "name": "stderr",
     "output_type": "stream",
     "text": [
      "2020-04-20 15:34:37,834 Computing map for /data/gibson/Adrian.glb\n",
      "2020-04-20 15:34:43,351 Invalid map: /data/gibson/Adrian.glb/90\n",
      "2020-04-20 15:34:43,574 Computing map for /data/gibson/Adrian.glb\n"
     ]
    },
    {
     "name": "stdout",
     "output_type": "stream",
     "text": [
      "880 \t TIME TO RESET:  \t 11.469522714614868\n",
      "881 \t TIME TO STEP:  0.05245828628540039\n",
      "882 \t TIME TO STEP:  0.03977203369140625\n",
      "883 \t TIME TO STEP:  0.035604000091552734\n",
      "884 \t TIME TO STEP:  0.020065784454345703\n",
      "885 \t TIME TO STEP:  0.050417184829711914\n",
      "886 \t TIME TO STEP:  0.0525052547454834\n",
      "887 \t TIME TO STEP:  0.0200040340423584\n",
      "888 \t TIME TO STEP:  0.019628286361694336\n",
      "889 \t TIME TO STEP:  0.020146608352661133\n"
     ]
    },
    {
     "name": "stderr",
     "output_type": "stream",
     "text": [
      "2020-04-20 15:34:49,614 Computing map for /data/gibson/Adrian.glb\n"
     ]
    },
    {
     "name": "stdout",
     "output_type": "stream",
     "text": [
      "890 \t TIME TO RESET:  \t 5.890823602676392\n",
      "891 \t TIME TO STEP:  0.04327702522277832\n",
      "892 \t TIME TO STEP:  0.02798628807067871\n",
      "893 \t TIME TO STEP:  0.027982711791992188\n",
      "894 \t TIME TO STEP:  0.019644498825073242\n",
      "895 \t TIME TO STEP:  0.019823551177978516\n",
      "896 \t TIME TO STEP:  0.027367830276489258\n",
      "897 \t TIME TO STEP:  0.06804108619689941\n",
      "898 \t TIME TO STEP:  0.04018139839172363\n",
      "899 \t TIME TO STEP:  0.08815383911132812\n"
     ]
    },
    {
     "name": "stderr",
     "output_type": "stream",
     "text": [
      "2020-04-20 15:34:55,869 Computing map for /data/gibson/Adrian.glb\n"
     ]
    },
    {
     "name": "stdout",
     "output_type": "stream",
     "text": [
      "900 \t TIME TO RESET:  \t 5.6765642166137695\n",
      "901 \t TIME TO STEP:  0.0302274227142334\n",
      "902 \t TIME TO STEP:  0.0289306640625\n",
      "903 \t TIME TO STEP:  0.05246305465698242\n",
      "904 \t TIME TO STEP:  0.0521540641784668\n",
      "905 \t TIME TO STEP:  0.05362725257873535\n",
      "906 \t TIME TO STEP:  0.0198516845703125\n",
      "907 \t TIME TO STEP:  0.0203096866607666\n",
      "908 \t TIME TO STEP:  0.01999950408935547\n",
      "909 \t TIME TO STEP:  0.02046823501586914\n"
     ]
    },
    {
     "name": "stderr",
     "output_type": "stream",
     "text": [
      "2020-04-20 15:35:01,846 Computing map for /data/gibson/Adrian.glb\n",
      "2020-04-20 15:35:07,251 Invalid map: /data/gibson/Adrian.glb/93\n",
      "2020-04-20 15:35:07,470 Computing map for /data/gibson/Adrian.glb\n"
     ]
    },
    {
     "name": "stdout",
     "output_type": "stream",
     "text": [
      "910 \t TIME TO RESET:  \t 11.443177700042725\n",
      "911 \t TIME TO STEP:  0.06969475746154785\n",
      "912 \t TIME TO STEP:  0.020866870880126953\n",
      "913 \t TIME TO STEP:  0.020464420318603516\n",
      "914 \t TIME TO STEP:  0.020976781845092773\n",
      "915 \t TIME TO STEP:  0.02104806900024414\n",
      "916 \t TIME TO STEP:  0.020826339721679688\n",
      "917 \t TIME TO STEP:  0.02104663848876953\n",
      "918 \t TIME TO STEP:  0.021811723709106445\n",
      "919 \t TIME TO STEP:  0.02079010009765625\n"
     ]
    },
    {
     "name": "stderr",
     "output_type": "stream",
     "text": [
      "2020-04-20 15:35:13,524 Computing map for /data/gibson/Adrian.glb\n",
      "2020-04-20 15:35:19,020 Invalid map: /data/gibson/Adrian.glb/94\n",
      "2020-04-20 15:35:19,231 Computing map for /data/gibson/Adrian.glb\n",
      "2020-04-20 15:35:24,752 Invalid map: /data/gibson/Adrian.glb/94\n",
      "2020-04-20 15:35:24,968 Computing map for /data/gibson/Adrian.glb\n"
     ]
    },
    {
     "name": "stdout",
     "output_type": "stream",
     "text": [
      "920 \t TIME TO RESET:  \t 17.20802927017212\n",
      "921 \t TIME TO STEP:  0.07974648475646973\n",
      "922 \t TIME TO STEP:  0.05548357963562012\n",
      "923 \t TIME TO STEP:  0.020917654037475586\n",
      "924 \t TIME TO STEP:  0.02102804183959961\n",
      "925 \t TIME TO STEP:  0.020986557006835938\n",
      "926 \t TIME TO STEP:  0.020843505859375\n",
      "927 \t TIME TO STEP:  0.020496129989624023\n",
      "928 \t TIME TO STEP:  0.021330833435058594\n",
      "929 \t TIME TO STEP:  0.02086925506591797\n"
     ]
    },
    {
     "name": "stderr",
     "output_type": "stream",
     "text": [
      "2020-04-20 15:35:31,018 Computing map for /data/gibson/Adrian.glb\n"
     ]
    },
    {
     "name": "stdout",
     "output_type": "stream",
     "text": [
      "930 \t TIME TO RESET:  \t 5.744664192199707\n",
      "931 \t TIME TO STEP:  0.047358036041259766\n",
      "932 \t TIME TO STEP:  0.08196067810058594\n",
      "933 \t TIME TO STEP:  0.0668795108795166\n",
      "934 \t TIME TO STEP:  0.05068039894104004\n",
      "935 \t TIME TO STEP:  0.05097627639770508\n",
      "936 \t TIME TO STEP:  0.037982940673828125\n",
      "937 \t TIME TO STEP:  0.04264402389526367\n",
      "938 \t TIME TO STEP:  0.059960365295410156\n"
     ]
    },
    {
     "name": "stderr",
     "output_type": "stream",
     "text": [
      "2020-04-20 15:35:37,207 Computing map for /data/gibson/Adrian.glb\n"
     ]
    },
    {
     "name": "stdout",
     "output_type": "stream",
     "text": [
      "939 \t TIME TO STEP:  0.021442413330078125\n"
     ]
    },
    {
     "name": "stderr",
     "output_type": "stream",
     "text": [
      "2020-04-20 15:35:42,624 Invalid map: /data/gibson/Adrian.glb/96\n",
      "2020-04-20 15:35:42,840 Computing map for /data/gibson/Adrian.glb\n",
      "2020-04-20 15:35:48,412 Invalid map: /data/gibson/Adrian.glb/96\n",
      "2020-04-20 15:35:48,630 Computing map for /data/gibson/Adrian.glb\n",
      "2020-04-20 15:35:54,142 Invalid map: /data/gibson/Adrian.glb/96\n",
      "2020-04-20 15:35:54,364 Computing map for /data/gibson/Adrian.glb\n"
     ]
    },
    {
     "name": "stdout",
     "output_type": "stream",
     "text": [
      "940 \t TIME TO RESET:  \t 22.895319938659668\n",
      "941 \t TIME TO STEP:  0.04704713821411133\n",
      "942 \t TIME TO STEP:  0.052048444747924805\n",
      "943 \t TIME TO STEP:  0.044545888900756836\n",
      "944 \t TIME TO STEP:  0.02008652687072754\n",
      "945 \t TIME TO STEP:  0.028850555419921875\n",
      "946 \t TIME TO STEP:  0.022068262100219727\n",
      "947 \t TIME TO STEP:  0.020693063735961914\n",
      "948 \t TIME TO STEP:  0.02020549774169922\n",
      "949 \t TIME TO STEP:  0.020025253295898438\n"
     ]
    },
    {
     "name": "stderr",
     "output_type": "stream",
     "text": [
      "2020-04-20 15:36:00,397 Computing map for /data/gibson/Adrian.glb\n"
     ]
    },
    {
     "name": "stdout",
     "output_type": "stream",
     "text": [
      "950 \t TIME TO RESET:  \t 5.787134885787964\n",
      "951 \t TIME TO STEP:  0.0452876091003418\n",
      "952 \t TIME TO STEP:  0.04554581642150879\n",
      "953 \t TIME TO STEP:  0.06459164619445801\n",
      "954 \t TIME TO STEP:  0.053965091705322266\n",
      "955 \t TIME TO STEP:  0.053436279296875\n",
      "956 \t TIME TO STEP:  0.05306506156921387\n",
      "957 \t TIME TO STEP:  0.05294036865234375\n",
      "958 \t TIME TO STEP:  0.037346601486206055\n",
      "959 \t TIME TO STEP:  0.07020163536071777\n"
     ]
    },
    {
     "name": "stderr",
     "output_type": "stream",
     "text": [
      "2020-04-20 15:36:06,693 Computing map for /data/gibson/Adrian.glb\n"
     ]
    },
    {
     "name": "stdout",
     "output_type": "stream",
     "text": [
      "960 \t TIME TO RESET:  \t 5.772274732589722\n",
      "961 \t TIME TO STEP:  0.020982742309570312\n",
      "962 \t TIME TO STEP:  0.020012378692626953\n",
      "963 \t TIME TO STEP:  0.020266294479370117\n",
      "964 \t TIME TO STEP:  0.020030498504638672\n",
      "965 \t TIME TO STEP:  0.019913911819458008\n",
      "966 \t TIME TO STEP:  0.020357370376586914\n",
      "967 \t TIME TO STEP:  0.01974773406982422\n",
      "968 \t TIME TO STEP:  0.020235300064086914\n",
      "969 \t TIME TO STEP:  0.020096540451049805\n"
     ]
    },
    {
     "name": "stderr",
     "output_type": "stream",
     "text": [
      "2020-04-20 15:36:12,619 Computing map for /data/gibson/Adrian.glb\n",
      "2020-04-20 15:36:18,036 Invalid map: /data/gibson/Adrian.glb/99\n",
      "2020-04-20 15:36:18,253 Computing map for /data/gibson/Adrian.glb\n",
      "2020-04-20 15:36:23,687 Invalid map: /data/gibson/Adrian.glb/99\n",
      "2020-04-20 15:36:23,903 Computing map for /data/gibson/Adrian.glb\n",
      "2020-04-20 15:36:29,388 Invalid map: /data/gibson/Adrian.glb/99\n",
      "2020-04-20 15:36:29,611 Computing map for /data/gibson/Adrian.glb\n"
     ]
    },
    {
     "name": "stdout",
     "output_type": "stream",
     "text": [
      "970 \t TIME TO RESET:  \t 22.733768939971924\n",
      "971 \t TIME TO STEP:  0.08295178413391113\n",
      "972 \t TIME TO STEP:  0.02205038070678711\n",
      "973 \t TIME TO STEP:  0.05497336387634277\n",
      "974 \t TIME TO STEP:  0.03129315376281738\n",
      "975 \t TIME TO STEP:  0.022404193878173828\n",
      "976 \t TIME TO STEP:  0.02045917510986328\n",
      "977 \t TIME TO STEP:  0.020151376724243164\n",
      "978 \t TIME TO STEP:  0.02061009407043457\n",
      "979 \t TIME TO STEP:  0.020834684371948242\n"
     ]
    },
    {
     "name": "stderr",
     "output_type": "stream",
     "text": [
      "2020-04-20 15:36:35,647 Computing map for /data/gibson/Adrian.glb\n"
     ]
    },
    {
     "name": "stdout",
     "output_type": "stream",
     "text": [
      "980 \t TIME TO RESET:  \t 5.807506084442139\n",
      "981 \t TIME TO STEP:  0.05034780502319336\n",
      "982 \t TIME TO STEP:  0.05290651321411133\n",
      "983 \t TIME TO STEP:  0.05442190170288086\n",
      "984 \t TIME TO STEP:  0.05620932579040527\n",
      "985 \t TIME TO STEP:  0.053848981857299805\n",
      "986 \t TIME TO STEP:  0.06395244598388672\n",
      "987 \t TIME TO STEP:  0.020177841186523438\n",
      "988 \t TIME TO STEP:  0.020101070404052734\n",
      "989 \t TIME TO STEP:  0.0205230712890625\n"
     ]
    },
    {
     "name": "stderr",
     "output_type": "stream",
     "text": [
      "2020-04-20 15:36:41,850 Computing map for /data/gibson/Adrian.glb\n"
     ]
    },
    {
     "name": "stdout",
     "output_type": "stream",
     "text": [
      "990 \t TIME TO RESET:  \t 5.7864601612091064\n",
      "991 \t TIME TO STEP:  0.056543827056884766\n",
      "992 \t TIME TO STEP:  0.06009554862976074\n",
      "993 \t TIME TO STEP:  0.05775642395019531\n",
      "994 \t TIME TO STEP:  0.0550694465637207\n",
      "995 \t TIME TO STEP:  0.08594942092895508\n",
      "996 \t TIME TO STEP:  0.025875329971313477\n",
      "997 \t TIME TO STEP:  0.04730033874511719\n",
      "998 \t TIME TO STEP:  0.040306806564331055\n",
      "999 \t TIME TO STEP:  0.043067216873168945\n"
     ]
    },
    {
     "name": "stderr",
     "output_type": "stream",
     "text": [
      "2020-04-20 15:36:48,124 Computing map for /data/gibson/Adrian.glb\n"
     ]
    },
    {
     "name": "stdout",
     "output_type": "stream",
     "text": [
      "1000 \t TIME TO RESET:  \t 5.769545555114746\n",
      "1001 \t TIME TO STEP:  0.032530784606933594\n",
      "1002 \t TIME TO STEP:  0.06735038757324219\n",
      "1003 \t TIME TO STEP:  0.03814387321472168\n",
      "1004 \t TIME TO STEP:  0.020044803619384766\n",
      "1005 \t TIME TO STEP:  0.02025151252746582\n",
      "1006 \t TIME TO STEP:  0.020514965057373047\n",
      "1007 \t TIME TO STEP:  0.020488262176513672\n",
      "1008 \t TIME TO STEP:  0.020154476165771484\n",
      "1009 \t TIME TO STEP:  0.05086970329284668\n"
     ]
    },
    {
     "name": "stderr",
     "output_type": "stream",
     "text": [
      "2020-04-20 15:36:54,174 Computing map for /data/gibson/Adrian.glb\n"
     ]
    },
    {
     "name": "stdout",
     "output_type": "stream",
     "text": [
      "1010 \t TIME TO RESET:  \t 5.719054937362671\n",
      "1011 \t TIME TO STEP:  0.033847808837890625\n",
      "1012 \t TIME TO STEP:  0.0206758975982666\n",
      "1013 \t TIME TO STEP:  0.0277254581451416\n",
      "1014 \t TIME TO STEP:  0.0363306999206543\n",
      "1015 \t TIME TO STEP:  0.019606828689575195\n",
      "1016 \t TIME TO STEP:  0.020407915115356445\n",
      "1017 \t TIME TO STEP:  0.020344972610473633\n",
      "1018 \t TIME TO STEP:  0.03631925582885742\n",
      "1019 \t TIME TO STEP:  0.02754998207092285\n"
     ]
    },
    {
     "name": "stderr",
     "output_type": "stream",
     "text": [
      "2020-04-20 15:37:00,139 Computing map for /data/gibson/Adrian.glb\n"
     ]
    },
    {
     "name": "stdout",
     "output_type": "stream",
     "text": [
      "1020 \t TIME TO RESET:  \t 5.706161975860596\n",
      "1021 \t TIME TO STEP:  0.05168867111206055\n",
      "1022 \t TIME TO STEP:  0.019873857498168945\n",
      "1023 \t TIME TO STEP:  0.019825458526611328\n",
      "1024 \t TIME TO STEP:  0.05709385871887207\n",
      "1025 \t TIME TO STEP:  0.04475903511047363\n",
      "1026 \t TIME TO STEP:  0.02249932289123535\n",
      "1027 \t TIME TO STEP:  0.02059769630432129\n",
      "1028 \t TIME TO STEP:  0.03582906723022461\n",
      "1029 \t TIME TO STEP:  0.02000284194946289\n"
     ]
    },
    {
     "name": "stderr",
     "output_type": "stream",
     "text": [
      "2020-04-20 15:37:06,157 Computing map for /data/gibson/Adrian.glb\n",
      "2020-04-20 15:37:11,787 Invalid map: /data/gibson/Adrian.glb/105\n",
      "2020-04-20 15:37:12,010 Computing map for /data/gibson/Adrian.glb\n"
     ]
    },
    {
     "name": "stdout",
     "output_type": "stream",
     "text": [
      "1030 \t TIME TO RESET:  \t 11.650700807571411\n",
      "1031 \t TIME TO STEP:  0.03237628936767578\n",
      "1032 \t TIME TO STEP:  0.02094554901123047\n",
      "1033 \t TIME TO STEP:  0.02050042152404785\n",
      "1034 \t TIME TO STEP:  0.020841598510742188\n",
      "1035 \t TIME TO STEP:  0.02074122428894043\n",
      "1036 \t TIME TO STEP:  0.020470142364501953\n",
      "1037 \t TIME TO STEP:  0.020509958267211914\n",
      "1038 \t TIME TO STEP:  0.02036762237548828\n",
      "1039 \t TIME TO STEP:  0.01982593536376953\n"
     ]
    },
    {
     "name": "stderr",
     "output_type": "stream",
     "text": [
      "2020-04-20 15:37:17,969 Computing map for /data/gibson/Adrian.glb\n"
     ]
    },
    {
     "name": "stdout",
     "output_type": "stream",
     "text": [
      "1040 \t TIME TO RESET:  \t 5.718031167984009\n",
      "1041 \t TIME TO STEP:  0.05626487731933594\n",
      "1042 \t TIME TO STEP:  0.04805469512939453\n",
      "1043 \t TIME TO STEP:  0.020810842514038086\n",
      "1044 \t TIME TO STEP:  0.020174026489257812\n",
      "1045 \t TIME TO STEP:  0.028989076614379883\n",
      "1046 \t TIME TO STEP:  0.019699811935424805\n",
      "1047 \t TIME TO STEP:  0.022185087203979492\n",
      "1048 \t TIME TO STEP:  0.02032303810119629\n",
      "1049 \t TIME TO STEP:  0.02071404457092285\n"
     ]
    },
    {
     "name": "stderr",
     "output_type": "stream",
     "text": [
      "2020-04-20 15:37:23,962 Computing map for /data/gibson/Adrian.glb\n",
      "2020-04-20 15:37:29,419 Invalid map: /data/gibson/Adrian.glb/107\n",
      "2020-04-20 15:37:29,649 Computing map for /data/gibson/Adrian.glb\n"
     ]
    },
    {
     "name": "stdout",
     "output_type": "stream",
     "text": [
      "1050 \t TIME TO RESET:  \t 11.44826340675354\n",
      "1051 \t TIME TO STEP:  0.02113938331604004\n",
      "1052 \t TIME TO STEP:  0.028786659240722656\n",
      "1053 \t TIME TO STEP:  0.020693302154541016\n",
      "1054 \t TIME TO STEP:  0.028839826583862305\n",
      "1055 \t TIME TO STEP:  0.02017378807067871\n",
      "1056 \t TIME TO STEP:  0.054662227630615234\n",
      "1057 \t TIME TO STEP:  0.0576481819152832\n",
      "1058 \t TIME TO STEP:  0.02032327651977539\n",
      "1059 \t TIME TO STEP:  0.020553112030029297\n"
     ]
    },
    {
     "name": "stderr",
     "output_type": "stream",
     "text": [
      "2020-04-20 15:37:35,699 Computing map for /data/gibson/Adrian.glb\n"
     ]
    },
    {
     "name": "stdout",
     "output_type": "stream",
     "text": [
      "1060 \t TIME TO RESET:  \t 5.824282169342041\n",
      "1061 \t TIME TO STEP:  0.021342992782592773\n",
      "1062 \t TIME TO STEP:  0.06844377517700195\n",
      "1063 \t TIME TO STEP:  0.019948720932006836\n",
      "1064 \t TIME TO STEP:  0.04300856590270996\n",
      "1065 \t TIME TO STEP:  0.0504603385925293\n",
      "1066 \t TIME TO STEP:  0.052498579025268555\n",
      "1067 \t TIME TO STEP:  0.027961254119873047\n",
      "1068 \t TIME TO STEP:  0.02896428108215332\n",
      "1069 \t TIME TO STEP:  0.01980304718017578\n"
     ]
    },
    {
     "name": "stderr",
     "output_type": "stream",
     "text": [
      "2020-04-20 15:37:41,849 Computing map for /data/gibson/Adrian.glb\n"
     ]
    },
    {
     "name": "stdout",
     "output_type": "stream",
     "text": [
      "1070 \t TIME TO RESET:  \t 5.74275279045105\n",
      "1071 \t TIME TO STEP:  0.06463813781738281\n",
      "1072 \t TIME TO STEP:  0.04605984687805176\n",
      "1073 \t TIME TO STEP:  0.019938230514526367\n",
      "1074 \t TIME TO STEP:  0.020255565643310547\n",
      "1075 \t TIME TO STEP:  0.020334243774414062\n",
      "1076 \t TIME TO STEP:  0.020188331604003906\n",
      "1077 \t TIME TO STEP:  0.021656513214111328\n",
      "1078 \t TIME TO STEP:  0.0202329158782959\n",
      "1079 \t TIME TO STEP:  0.020146608352661133\n"
     ]
    },
    {
     "name": "stderr",
     "output_type": "stream",
     "text": [
      "2020-04-20 15:37:47,840 Computing map for /data/gibson/Adrian.glb\n",
      "2020-04-20 15:37:53,310 Invalid map: /data/gibson/Adrian.glb/110\n",
      "2020-04-20 15:37:53,526 Computing map for /data/gibson/Adrian.glb\n"
     ]
    },
    {
     "name": "stdout",
     "output_type": "stream",
     "text": [
      "1080 \t TIME TO RESET:  \t 11.48929500579834\n",
      "1081 \t TIME TO STEP:  0.04545116424560547\n",
      "1082 \t TIME TO STEP:  0.03650975227355957\n",
      "1083 \t TIME TO STEP:  0.03590583801269531\n",
      "1084 \t TIME TO STEP:  0.02019333839416504\n",
      "1085 \t TIME TO STEP:  0.020143508911132812\n",
      "1086 \t TIME TO STEP:  0.02036309242248535\n",
      "1087 \t TIME TO STEP:  0.0204160213470459\n",
      "1088 \t TIME TO STEP:  0.020514726638793945\n",
      "1089 \t TIME TO STEP:  0.020021438598632812\n"
     ]
    },
    {
     "name": "stderr",
     "output_type": "stream",
     "text": [
      "2020-04-20 15:37:59,571 Computing map for /data/gibson/Adrian.glb\n"
     ]
    },
    {
     "name": "stdout",
     "output_type": "stream",
     "text": [
      "1090 \t TIME TO RESET:  \t 5.793880939483643\n",
      "1091 \t TIME TO STEP:  0.05306386947631836\n",
      "1092 \t TIME TO STEP:  0.06341409683227539\n",
      "1093 \t TIME TO STEP:  0.05331230163574219\n",
      "1094 \t TIME TO STEP:  0.05765080451965332\n",
      "1095 \t TIME TO STEP:  0.06910014152526855\n",
      "1096 \t TIME TO STEP:  0.06170535087585449\n",
      "1097 \t TIME TO STEP:  0.05370664596557617\n",
      "1098 \t TIME TO STEP:  0.054628610610961914\n",
      "1099 \t TIME TO STEP:  0.0284426212310791\n"
     ]
    },
    {
     "name": "stderr",
     "output_type": "stream",
     "text": [
      "2020-04-20 15:38:05,860 Computing map for /data/gibson/Adrian.glb\n",
      "2020-04-20 15:38:11,407 Invalid map: /data/gibson/Adrian.glb/112\n",
      "2020-04-20 15:38:11,620 Computing map for /data/gibson/Adrian.glb\n",
      "2020-04-20 15:38:17,110 Invalid map: /data/gibson/Adrian.glb/112\n",
      "2020-04-20 15:38:17,333 Computing map for /data/gibson/Adrian.glb\n",
      "2020-04-20 15:38:22,737 Invalid map: /data/gibson/Adrian.glb/112\n",
      "2020-04-20 15:38:22,973 Computing map for /data/gibson/Adrian.glb\n"
     ]
    },
    {
     "name": "stdout",
     "output_type": "stream",
     "text": [
      "1100 \t TIME TO RESET:  \t 22.789244174957275\n",
      "1101 \t TIME TO STEP:  0.08155417442321777\n",
      "1102 \t TIME TO STEP:  0.07029461860656738\n",
      "1103 \t TIME TO STEP:  0.05322456359863281\n",
      "1104 \t TIME TO STEP:  0.05556368827819824\n",
      "1105 \t TIME TO STEP:  0.05440187454223633\n",
      "1106 \t TIME TO STEP:  0.047096967697143555\n",
      "1107 \t TIME TO STEP:  0.027915000915527344\n",
      "1108 \t TIME TO STEP:  0.02029871940612793\n",
      "1109 \t TIME TO STEP:  0.02047109603881836\n"
     ]
    },
    {
     "name": "stderr",
     "output_type": "stream",
     "text": [
      "2020-04-20 15:38:29,083 Computing map for /data/gibson/Adrian.glb\n"
     ]
    },
    {
     "name": "stdout",
     "output_type": "stream",
     "text": [
      "1110 \t TIME TO RESET:  \t 5.732814073562622\n",
      "1111 \t TIME TO STEP:  0.03123617172241211\n",
      "1112 \t TIME TO STEP:  0.019919157028198242\n",
      "1113 \t TIME TO STEP:  0.01978158950805664\n",
      "1114 \t TIME TO STEP:  0.020082712173461914\n",
      "1115 \t TIME TO STEP:  0.020204782485961914\n",
      "1116 \t TIME TO STEP:  0.02030348777770996\n",
      "1117 \t TIME TO STEP:  0.01996755599975586\n",
      "1118 \t TIME TO STEP:  0.020661354064941406\n",
      "1119 \t TIME TO STEP:  0.019942283630371094\n"
     ]
    },
    {
     "name": "stderr",
     "output_type": "stream",
     "text": [
      "2020-04-20 15:38:35,004 Computing map for /data/gibson/Adrian.glb\n",
      "2020-04-20 15:38:40,418 Invalid map: /data/gibson/Adrian.glb/114\n",
      "2020-04-20 15:38:40,645 Computing map for /data/gibson/Adrian.glb\n"
     ]
    },
    {
     "name": "stdout",
     "output_type": "stream",
     "text": [
      "1120 \t TIME TO RESET:  \t 11.338188409805298\n",
      "1121 \t TIME TO STEP:  0.0205533504486084\n",
      "1122 \t TIME TO STEP:  0.05369734764099121\n",
      "1123 \t TIME TO STEP:  0.020012617111206055\n",
      "1124 \t TIME TO STEP:  0.020788192749023438\n",
      "1125 \t TIME TO STEP:  0.02032017707824707\n",
      "1126 \t TIME TO STEP:  0.030918121337890625\n",
      "1127 \t TIME TO STEP:  0.0204465389251709\n",
      "1128 \t TIME TO STEP:  0.02279829978942871\n",
      "1129 \t TIME TO STEP:  0.020321130752563477\n"
     ]
    },
    {
     "name": "stderr",
     "output_type": "stream",
     "text": [
      "2020-04-20 15:38:46,600 Computing map for /data/gibson/Adrian.glb\n"
     ]
    },
    {
     "name": "stdout",
     "output_type": "stream",
     "text": [
      "1130 \t TIME TO RESET:  \t 5.822877645492554\n",
      "1131 \t TIME TO STEP:  0.04658937454223633\n",
      "1132 \t TIME TO STEP:  0.029239892959594727\n",
      "1133 \t TIME TO STEP:  0.020357131958007812\n",
      "1134 \t TIME TO STEP:  0.020754337310791016\n",
      "1135 \t TIME TO STEP:  0.02034783363342285\n",
      "1136 \t TIME TO STEP:  0.028829336166381836\n",
      "1137 \t TIME TO STEP:  0.05435943603515625\n",
      "1138 \t TIME TO STEP:  0.05628466606140137\n",
      "1139 \t TIME TO STEP:  0.020722150802612305\n"
     ]
    },
    {
     "name": "stderr",
     "output_type": "stream",
     "text": [
      "2020-04-20 15:38:52,703 Computing map for /data/gibson/Adrian.glb\n"
     ]
    },
    {
     "name": "stdout",
     "output_type": "stream",
     "text": [
      "1140 \t TIME TO RESET:  \t 5.794061183929443\n",
      "1141 \t TIME TO STEP:  0.02221989631652832\n",
      "1142 \t TIME TO STEP:  0.055672645568847656\n",
      "1143 \t TIME TO STEP:  0.019797325134277344\n",
      "1144 \t TIME TO STEP:  0.020247697830200195\n",
      "1145 \t TIME TO STEP:  0.028002023696899414\n",
      "1146 \t TIME TO STEP:  0.045883893966674805\n",
      "1147 \t TIME TO STEP:  0.022222280502319336\n",
      "1148 \t TIME TO STEP:  0.021164894104003906\n",
      "1149 \t TIME TO STEP:  0.02153944969177246\n"
     ]
    },
    {
     "name": "stderr",
     "output_type": "stream",
     "text": [
      "2020-04-20 15:38:58,758 Computing map for /data/gibson/Adrian.glb\n",
      "2020-04-20 15:39:04,299 Invalid map: /data/gibson/Adrian.glb/117\n",
      "2020-04-20 15:39:04,521 Computing map for /data/gibson/Adrian.glb\n",
      "2020-04-20 15:39:10,035 Invalid map: /data/gibson/Adrian.glb/117\n",
      "2020-04-20 15:39:10,237 Computing map for /data/gibson/Adrian.glb\n"
     ]
    },
    {
     "name": "stdout",
     "output_type": "stream",
     "text": [
      "1150 \t TIME TO RESET:  \t 17.33418035507202\n",
      "1151 \t TIME TO STEP:  0.06797671318054199\n",
      "1152 \t TIME TO STEP:  0.029227495193481445\n",
      "1153 \t TIME TO STEP:  0.020600080490112305\n",
      "1154 \t TIME TO STEP:  0.02885603904724121\n",
      "1155 \t TIME TO STEP:  0.038190603256225586\n",
      "1156 \t TIME TO STEP:  0.02108931541442871\n",
      "1157 \t TIME TO STEP:  0.02044367790222168\n",
      "1158 \t TIME TO STEP:  0.02054119110107422\n",
      "1159 \t TIME TO STEP:  0.021179914474487305\n"
     ]
    },
    {
     "name": "stderr",
     "output_type": "stream",
     "text": [
      "2020-04-20 15:39:16,341 Computing map for /data/gibson/Adrian.glb\n",
      "2020-04-20 15:39:21,803 Invalid map: /data/gibson/Adrian.glb/118\n",
      "2020-04-20 15:39:22,025 Computing map for /data/gibson/Adrian.glb\n",
      "2020-04-20 15:39:27,477 Invalid map: /data/gibson/Adrian.glb/118\n",
      "2020-04-20 15:39:27,696 Computing map for /data/gibson/Adrian.glb\n",
      "2020-04-20 15:39:33,291 Invalid map: /data/gibson/Adrian.glb/118\n",
      "2020-04-20 15:39:33,508 Computing map for /data/gibson/Adrian.glb\n"
     ]
    },
    {
     "name": "stdout",
     "output_type": "stream",
     "text": [
      "1160 \t TIME TO RESET:  \t 22.915186882019043\n",
      "1161 \t TIME TO STEP:  0.0729379653930664\n",
      "1162 \t TIME TO STEP:  0.0413360595703125\n",
      "1163 \t TIME TO STEP:  0.02084183692932129\n",
      "1164 \t TIME TO STEP:  0.02022838592529297\n",
      "1165 \t TIME TO STEP:  0.05874013900756836\n",
      "1166 \t TIME TO STEP:  0.03785419464111328\n",
      "1167 \t TIME TO STEP:  0.020010709762573242\n",
      "1168 \t TIME TO STEP:  0.020238876342773438\n",
      "1169 \t TIME TO STEP:  0.020220279693603516\n"
     ]
    },
    {
     "name": "stderr",
     "output_type": "stream",
     "text": [
      "2020-04-20 15:39:39,588 Computing map for /data/gibson/Adrian.glb\n"
     ]
    },
    {
     "name": "stdout",
     "output_type": "stream",
     "text": [
      "1170 \t TIME TO RESET:  \t 5.705473899841309\n",
      "1171 \t TIME TO STEP:  0.039586782455444336\n",
      "1172 \t TIME TO STEP:  0.02125835418701172\n",
      "1173 \t TIME TO STEP:  0.02065253257751465\n",
      "1174 \t TIME TO STEP:  0.020874738693237305\n",
      "1175 \t TIME TO STEP:  0.02084946632385254\n",
      "1176 \t TIME TO STEP:  0.0202333927154541\n",
      "1177 \t TIME TO STEP:  0.020325660705566406\n",
      "1178 \t TIME TO STEP:  0.020340442657470703\n",
      "1179 \t TIME TO STEP:  0.020932674407958984\n"
     ]
    },
    {
     "name": "stderr",
     "output_type": "stream",
     "text": [
      "2020-04-20 15:39:45,497 Computing map for /data/gibson/Adrian.glb\n",
      "2020-04-20 15:39:51,013 Invalid map: /data/gibson/Adrian.glb/120\n",
      "2020-04-20 15:39:51,248 Computing map for /data/gibson/Adrian.glb\n"
     ]
    },
    {
     "name": "stdout",
     "output_type": "stream",
     "text": [
      "1180 \t TIME TO RESET:  \t 11.442191123962402\n",
      "1181 \t TIME TO STEP:  0.05630064010620117\n",
      "1182 \t TIME TO STEP:  0.020170927047729492\n",
      "1183 \t TIME TO STEP:  0.020030975341796875\n",
      "1184 \t TIME TO STEP:  0.020886898040771484\n",
      "1185 \t TIME TO STEP:  0.019848108291625977\n",
      "1186 \t TIME TO STEP:  0.020420551300048828\n",
      "1187 \t TIME TO STEP:  0.020230770111083984\n",
      "1188 \t TIME TO STEP:  0.020767688751220703\n",
      "1189 \t TIME TO STEP:  0.020578384399414062\n"
     ]
    },
    {
     "name": "stderr",
     "output_type": "stream",
     "text": [
      "2020-04-20 15:39:57,167 Computing map for /data/gibson/Adrian.glb\n"
     ]
    },
    {
     "name": "stdout",
     "output_type": "stream",
     "text": [
      "1190 \t TIME TO RESET:  \t 5.774186611175537\n",
      "1191 \t TIME TO STEP:  0.05366373062133789\n",
      "1192 \t TIME TO STEP:  0.05608677864074707\n",
      "1193 \t TIME TO STEP:  0.033713579177856445\n",
      "1194 \t TIME TO STEP:  0.02275705337524414\n",
      "1195 \t TIME TO STEP:  0.020484209060668945\n",
      "1196 \t TIME TO STEP:  0.021111011505126953\n",
      "1197 \t TIME TO STEP:  0.02044224739074707\n",
      "1198 \t TIME TO STEP:  0.020039081573486328\n",
      "1199 \t TIME TO STEP:  0.020813941955566406\n"
     ]
    },
    {
     "name": "stderr",
     "output_type": "stream",
     "text": [
      "2020-04-20 15:40:03,204 Computing map for /data/gibson/Adrian.glb\n",
      "2020-04-20 15:40:08,732 Invalid map: /data/gibson/Adrian.glb/122\n",
      "2020-04-20 15:40:08,943 Computing map for /data/gibson/Adrian.glb\n",
      "2020-04-20 15:40:14,557 Invalid map: /data/gibson/Adrian.glb/122\n",
      "2020-04-20 15:40:14,791 Computing map for /data/gibson/Adrian.glb\n",
      "2020-04-20 15:40:20,359 Invalid map: /data/gibson/Adrian.glb/122\n",
      "2020-04-20 15:40:20,587 Computing map for /data/gibson/Adrian.glb\n"
     ]
    },
    {
     "name": "stdout",
     "output_type": "stream",
     "text": [
      "1200 \t TIME TO RESET:  \t 23.248679876327515\n",
      "1201 \t TIME TO STEP:  0.04135918617248535\n",
      "1202 \t TIME TO STEP:  0.05610013008117676\n",
      "1203 \t TIME TO STEP:  0.020311594009399414\n",
      "1204 \t TIME TO STEP:  0.020732641220092773\n",
      "1205 \t TIME TO STEP:  0.020583391189575195\n",
      "1206 \t TIME TO STEP:  0.02035069465637207\n",
      "1207 \t TIME TO STEP:  0.020896434783935547\n",
      "1208 \t TIME TO STEP:  0.022423267364501953\n",
      "1209 \t TIME TO STEP:  0.02030158042907715\n"
     ]
    },
    {
     "name": "stderr",
     "output_type": "stream",
     "text": [
      "2020-04-20 15:40:26,713 Computing map for /data/gibson/Adrian.glb\n",
      "2020-04-20 15:40:32,243 Invalid map: /data/gibson/Adrian.glb/123\n",
      "2020-04-20 15:40:32,456 Computing map for /data/gibson/Adrian.glb\n"
     ]
    },
    {
     "name": "stdout",
     "output_type": "stream",
     "text": [
      "1210 \t TIME TO RESET:  \t 11.408613681793213\n",
      "1211 \t TIME TO STEP:  0.05238747596740723\n",
      "1212 \t TIME TO STEP:  0.026834726333618164\n",
      "1213 \t TIME TO STEP:  0.0196988582611084\n",
      "1214 \t TIME TO STEP:  0.01972341537475586\n",
      "1215 \t TIME TO STEP:  0.04955911636352539\n",
      "1216 \t TIME TO STEP:  0.02725529670715332\n",
      "1217 \t TIME TO STEP:  0.020952463150024414\n",
      "1218 \t TIME TO STEP:  0.019789695739746094\n",
      "1219 \t TIME TO STEP:  0.01988697052001953\n"
     ]
    },
    {
     "name": "stderr",
     "output_type": "stream",
     "text": [
      "2020-04-20 15:40:38,362 Computing map for /data/gibson/Adrian.glb\n",
      "2020-04-20 15:40:43,780 Invalid map: /data/gibson/Adrian.glb/124\n",
      "2020-04-20 15:40:43,994 Computing map for /data/gibson/Adrian.glb\n"
     ]
    },
    {
     "name": "stdout",
     "output_type": "stream",
     "text": [
      "1220 \t TIME TO RESET:  \t 11.31889796257019\n",
      "1221 \t TIME TO STEP:  0.04656028747558594\n",
      "1222 \t TIME TO STEP:  0.045386314392089844\n",
      "1223 \t TIME TO STEP:  0.06785273551940918\n",
      "1224 \t TIME TO STEP:  0.02084493637084961\n",
      "1225 \t TIME TO STEP:  0.05369687080383301\n",
      "1226 \t TIME TO STEP:  0.05299544334411621\n",
      "1227 \t TIME TO STEP:  0.020456552505493164\n",
      "1228 \t TIME TO STEP:  0.02006673812866211\n",
      "1229 \t TIME TO STEP:  0.020490169525146484\n"
     ]
    },
    {
     "name": "stderr",
     "output_type": "stream",
     "text": [
      "2020-04-20 15:40:50,053 Computing map for /data/gibson/Adrian.glb\n",
      "2020-04-20 15:40:55,577 Invalid map: /data/gibson/Adrian.glb/125\n",
      "2020-04-20 15:40:55,792 Computing map for /data/gibson/Adrian.glb\n"
     ]
    },
    {
     "name": "stdout",
     "output_type": "stream",
     "text": [
      "1230 \t TIME TO RESET:  \t 11.481522798538208\n",
      "1231 \t TIME TO STEP:  0.028400182723999023\n",
      "1232 \t TIME TO STEP:  0.025362730026245117\n",
      "1233 \t TIME TO STEP:  0.048447370529174805\n",
      "1234 \t TIME TO STEP:  0.046828269958496094\n",
      "1235 \t TIME TO STEP:  0.019478559494018555\n",
      "1236 \t TIME TO STEP:  0.01996326446533203\n",
      "1237 \t TIME TO STEP:  0.020222187042236328\n",
      "1238 \t TIME TO STEP:  0.01953291893005371\n",
      "1239 \t TIME TO STEP:  0.019974470138549805\n"
     ]
    },
    {
     "name": "stderr",
     "output_type": "stream",
     "text": [
      "2020-04-20 15:41:01,763 Computing map for /data/gibson/Adrian.glb\n"
     ]
    },
    {
     "name": "stdout",
     "output_type": "stream",
     "text": [
      "1240 \t TIME TO RESET:  \t 5.683247089385986\n",
      "1241 \t TIME TO STEP:  0.04616379737854004\n",
      "1242 \t TIME TO STEP:  0.04541516304016113\n",
      "1243 \t TIME TO STEP:  0.018915176391601562\n",
      "1244 \t TIME TO STEP:  0.019296884536743164\n",
      "1245 \t TIME TO STEP:  0.01886892318725586\n",
      "1246 \t TIME TO STEP:  0.019026756286621094\n",
      "1247 \t TIME TO STEP:  0.018975496292114258\n",
      "1248 \t TIME TO STEP:  0.03239297866821289\n",
      "1249 \t TIME TO STEP:  0.019063711166381836\n"
     ]
    },
    {
     "name": "stderr",
     "output_type": "stream",
     "text": [
      "2020-04-20 15:41:07,671 Computing map for /data/gibson/Adrian.glb\n",
      "2020-04-20 15:41:13,155 Invalid map: /data/gibson/Adrian.glb/127\n",
      "2020-04-20 15:41:13,371 Computing map for /data/gibson/Adrian.glb\n",
      "2020-04-20 15:41:18,768 Invalid map: /data/gibson/Adrian.glb/127\n",
      "2020-04-20 15:41:18,989 Computing map for /data/gibson/Adrian.glb\n",
      "2020-04-20 15:41:24,515 Invalid map: /data/gibson/Adrian.glb/127\n",
      "2020-04-20 15:41:24,732 Computing map for /data/gibson/Adrian.glb\n"
     ]
    },
    {
     "name": "stdout",
     "output_type": "stream",
     "text": [
      "1250 \t TIME TO RESET:  \t 22.80631923675537\n",
      "1251 \t TIME TO STEP:  0.03659224510192871\n",
      "1252 \t TIME TO STEP:  0.022545576095581055\n",
      "1253 \t TIME TO STEP:  0.020795583724975586\n",
      "1254 \t TIME TO STEP:  0.020299673080444336\n",
      "1255 \t TIME TO STEP:  0.020502805709838867\n",
      "1256 \t TIME TO STEP:  0.020186901092529297\n",
      "1257 \t TIME TO STEP:  0.020714759826660156\n",
      "1258 \t TIME TO STEP:  0.020128250122070312\n",
      "1259 \t TIME TO STEP:  0.02008676528930664\n"
     ]
    },
    {
     "name": "stderr",
     "output_type": "stream",
     "text": [
      "2020-04-20 15:41:30,706 Computing map for /data/gibson/Adrian.glb\n"
     ]
    },
    {
     "name": "stdout",
     "output_type": "stream",
     "text": [
      "1260 \t TIME TO RESET:  \t 5.904162406921387\n",
      "1261 \t TIME TO STEP:  0.05528450012207031\n",
      "1262 \t TIME TO STEP:  0.05332136154174805\n",
      "1263 \t TIME TO STEP:  0.05170273780822754\n",
      "1264 \t TIME TO STEP:  0.04554319381713867\n",
      "1265 \t TIME TO STEP:  0.05323934555053711\n",
      "1266 \t TIME TO STEP:  0.05229330062866211\n",
      "1267 \t TIME TO STEP:  0.019423723220825195\n",
      "1268 \t TIME TO STEP:  0.05172467231750488\n",
      "1269 \t TIME TO STEP:  0.06264686584472656\n"
     ]
    },
    {
     "name": "stderr",
     "output_type": "stream",
     "text": [
      "2020-04-20 15:41:37,057 Computing map for /data/gibson/Adrian.glb\n",
      "2020-04-20 15:41:42,725 Invalid map: /data/gibson/Adrian.glb/129\n",
      "2020-04-20 15:41:42,967 Computing map for /data/gibson/Adrian.glb\n",
      "2020-04-20 15:41:48,465 Invalid map: /data/gibson/Adrian.glb/129\n",
      "2020-04-20 15:41:48,684 Computing map for /data/gibson/Adrian.glb\n",
      "2020-04-20 15:41:54,186 Invalid map: /data/gibson/Adrian.glb/129\n",
      "2020-04-20 15:41:54,433 Computing map for /data/gibson/Adrian.glb\n"
     ]
    },
    {
     "name": "stdout",
     "output_type": "stream",
     "text": [
      "1270 \t TIME TO RESET:  \t 23.151296615600586\n",
      "1271 \t TIME TO STEP:  0.055161476135253906\n",
      "1272 \t TIME TO STEP:  0.022353410720825195\n",
      "1273 \t TIME TO STEP:  0.0294952392578125\n",
      "1274 \t TIME TO STEP:  0.020867347717285156\n",
      "1275 \t TIME TO STEP:  0.020195960998535156\n",
      "1276 \t TIME TO STEP:  0.020494699478149414\n",
      "1277 \t TIME TO STEP:  0.020167112350463867\n",
      "1278 \t TIME TO STEP:  0.020386934280395508\n",
      "1279 \t TIME TO STEP:  0.020506858825683594\n"
     ]
    },
    {
     "name": "stderr",
     "output_type": "stream",
     "text": [
      "2020-04-20 15:42:00,434 Computing map for /data/gibson/Adrian.glb\n"
     ]
    },
    {
     "name": "stdout",
     "output_type": "stream",
     "text": [
      "1280 \t TIME TO RESET:  \t 5.862149953842163\n",
      "1281 \t TIME TO STEP:  0.05652213096618652\n",
      "1282 \t TIME TO STEP:  0.036305904388427734\n",
      "1283 \t TIME TO STEP:  0.02022075653076172\n",
      "1284 \t TIME TO STEP:  0.020797252655029297\n",
      "1285 \t TIME TO STEP:  0.020394563674926758\n",
      "1286 \t TIME TO STEP:  0.020717620849609375\n",
      "1287 \t TIME TO STEP:  0.034246206283569336\n",
      "1288 \t TIME TO STEP:  0.03174328804016113\n",
      "1289 \t TIME TO STEP:  0.02074265480041504\n"
     ]
    },
    {
     "name": "stderr",
     "output_type": "stream",
     "text": [
      "2020-04-20 15:42:06,555 Computing map for /data/gibson/Adrian.glb\n"
     ]
    },
    {
     "name": "stdout",
     "output_type": "stream",
     "text": [
      "1290 \t TIME TO RESET:  \t 5.710316181182861\n",
      "1291 \t TIME TO STEP:  0.0476231575012207\n",
      "1292 \t TIME TO STEP:  0.0463261604309082\n",
      "1293 \t TIME TO STEP:  0.02050948143005371\n",
      "1294 \t TIME TO STEP:  0.020777225494384766\n",
      "1295 \t TIME TO STEP:  0.02015089988708496\n",
      "1296 \t TIME TO STEP:  0.020528078079223633\n",
      "1297 \t TIME TO STEP:  0.02045726776123047\n",
      "1298 \t TIME TO STEP:  0.020902156829833984\n",
      "1299 \t TIME TO STEP:  0.020636558532714844\n"
     ]
    },
    {
     "name": "stderr",
     "output_type": "stream",
     "text": [
      "2020-04-20 15:42:12,503 Computing map for /data/gibson/Adrian.glb\n"
     ]
    },
    {
     "name": "stdout",
     "output_type": "stream",
     "text": [
      "1300 \t TIME TO RESET:  \t 5.842773914337158\n",
      "1301 \t TIME TO STEP:  0.05893659591674805\n",
      "1302 \t TIME TO STEP:  0.05375409126281738\n",
      "1303 \t TIME TO STEP:  0.06709098815917969\n",
      "1304 \t TIME TO STEP:  0.031058788299560547\n",
      "1305 \t TIME TO STEP:  0.020287752151489258\n",
      "1306 \t TIME TO STEP:  0.02067422866821289\n",
      "1307 \t TIME TO STEP:  0.020218372344970703\n",
      "1308 \t TIME TO STEP:  0.02084493637084961\n",
      "1309 \t TIME TO STEP:  0.020589590072631836\n"
     ]
    },
    {
     "name": "stderr",
     "output_type": "stream",
     "text": [
      "2020-04-20 15:42:18,660 Computing map for /data/gibson/Adrian.glb\n",
      "2020-04-20 15:42:24,216 Invalid map: /data/gibson/Adrian.glb/133\n",
      "2020-04-20 15:42:24,441 Computing map for /data/gibson/Adrian.glb\n"
     ]
    },
    {
     "name": "stdout",
     "output_type": "stream",
     "text": [
      "1310 \t TIME TO RESET:  \t 11.495074033737183\n",
      "1311 \t TIME TO STEP:  0.02359151840209961\n",
      "1312 \t TIME TO STEP:  0.0211029052734375\n",
      "1313 \t TIME TO STEP:  0.02077770233154297\n",
      "1314 \t TIME TO STEP:  0.0205991268157959\n",
      "1315 \t TIME TO STEP:  0.02152538299560547\n",
      "1316 \t TIME TO STEP:  0.02065277099609375\n",
      "1317 \t TIME TO STEP:  0.02012801170349121\n",
      "1318 \t TIME TO STEP:  0.020933866500854492\n",
      "1319 \t TIME TO STEP:  0.02025437355041504\n"
     ]
    },
    {
     "name": "stderr",
     "output_type": "stream",
     "text": [
      "2020-04-20 15:42:30,348 Computing map for /data/gibson/Adrian.glb\n",
      "2020-04-20 15:42:35,845 Invalid map: /data/gibson/Adrian.glb/134\n",
      "2020-04-20 15:42:36,064 Computing map for /data/gibson/Adrian.glb\n",
      "2020-04-20 15:42:41,641 Invalid map: /data/gibson/Adrian.glb/134\n",
      "2020-04-20 15:42:41,864 Computing map for /data/gibson/Adrian.glb\n"
     ]
    },
    {
     "name": "stdout",
     "output_type": "stream",
     "text": [
      "1320 \t TIME TO RESET:  \t 17.245745182037354\n",
      "1321 \t TIME TO STEP:  0.05202031135559082\n",
      "1322 \t TIME TO STEP:  0.02366352081298828\n",
      "1323 \t TIME TO STEP:  0.021042823791503906\n",
      "1324 \t TIME TO STEP:  0.020315170288085938\n",
      "1325 \t TIME TO STEP:  0.020623445510864258\n",
      "1326 \t TIME TO STEP:  0.031301021575927734\n",
      "1327 \t TIME TO STEP:  0.020766019821166992\n",
      "1328 \t TIME TO STEP:  0.021038293838500977\n",
      "1329 \t TIME TO STEP:  0.02057647705078125\n"
     ]
    },
    {
     "name": "stderr",
     "output_type": "stream",
     "text": [
      "2020-04-20 15:42:47,835 Computing map for /data/gibson/Adrian.glb\n"
     ]
    },
    {
     "name": "stdout",
     "output_type": "stream",
     "text": [
      "1330 \t TIME TO RESET:  \t 5.758417129516602\n",
      "1331 \t TIME TO STEP:  0.020969629287719727\n",
      "1332 \t TIME TO STEP:  0.0497896671295166\n",
      "1333 \t TIME TO STEP:  0.053792476654052734\n",
      "1334 \t TIME TO STEP:  0.03685498237609863\n",
      "1335 \t TIME TO STEP:  0.020547866821289062\n",
      "1336 \t TIME TO STEP:  0.02074122428894043\n",
      "1337 \t TIME TO STEP:  0.04531979560852051\n",
      "1338 \t TIME TO STEP:  0.02108168601989746\n",
      "1339 \t TIME TO STEP:  0.03086709976196289\n"
     ]
    },
    {
     "name": "stderr",
     "output_type": "stream",
     "text": [
      "2020-04-20 15:42:53,890 Computing map for /data/gibson/Adrian.glb\n"
     ]
    },
    {
     "name": "stdout",
     "output_type": "stream",
     "text": [
      "1340 \t TIME TO RESET:  \t 5.798275470733643\n",
      "1341 \t TIME TO STEP:  0.030708789825439453\n",
      "1342 \t TIME TO STEP:  0.020496606826782227\n",
      "1343 \t TIME TO STEP:  0.03531789779663086\n",
      "1344 \t TIME TO STEP:  0.021852970123291016\n",
      "1345 \t TIME TO STEP:  0.02083134651184082\n",
      "1346 \t TIME TO STEP:  0.02101898193359375\n",
      "1347 \t TIME TO STEP:  0.020540237426757812\n",
      "1348 \t TIME TO STEP:  0.02054762840270996\n",
      "1349 \t TIME TO STEP:  0.03166961669921875\n"
     ]
    },
    {
     "name": "stderr",
     "output_type": "stream",
     "text": [
      "2020-04-20 15:42:59,912 Computing map for /data/gibson/Adrian.glb\n"
     ]
    },
    {
     "name": "stdout",
     "output_type": "stream",
     "text": [
      "1350 \t TIME TO RESET:  \t 5.659820795059204\n",
      "1351 \t TIME TO STEP:  0.05485343933105469\n",
      "1352 \t TIME TO STEP:  0.028630971908569336\n",
      "1353 \t TIME TO STEP:  0.06684279441833496\n",
      "1354 \t TIME TO STEP:  0.0804891586303711\n",
      "1355 \t TIME TO STEP:  0.03824925422668457\n",
      "1356 \t TIME TO STEP:  0.029196977615356445\n",
      "1357 \t TIME TO STEP:  0.020166873931884766\n",
      "1358 \t TIME TO STEP:  0.021077394485473633\n",
      "1359 \t TIME TO STEP:  0.02051711082458496\n"
     ]
    },
    {
     "name": "stderr",
     "output_type": "stream",
     "text": [
      "2020-04-20 15:43:05,935 Computing map for /data/gibson/Adrian.glb\n"
     ]
    },
    {
     "name": "stdout",
     "output_type": "stream",
     "text": [
      "1360 \t TIME TO RESET:  \t 5.740283489227295\n",
      "1361 \t TIME TO STEP:  0.0524747371673584\n",
      "1362 \t TIME TO STEP:  0.020398378372192383\n",
      "1363 \t TIME TO STEP:  0.022612333297729492\n",
      "1364 \t TIME TO STEP:  0.021332979202270508\n",
      "1365 \t TIME TO STEP:  0.03194260597229004\n",
      "1366 \t TIME TO STEP:  0.02087712287902832\n",
      "1367 \t TIME TO STEP:  0.03473401069641113\n",
      "1368 \t TIME TO STEP:  0.02044391632080078\n",
      "1369 \t TIME TO STEP:  0.020195484161376953\n"
     ]
    },
    {
     "name": "stderr",
     "output_type": "stream",
     "text": [
      "2020-04-20 15:43:11,922 Computing map for /data/gibson/Adrian.glb\n",
      "2020-04-20 15:43:17,341 Invalid map: /data/gibson/Adrian.glb/139\n",
      "2020-04-20 15:43:17,555 Computing map for /data/gibson/Adrian.glb\n"
     ]
    },
    {
     "name": "stdout",
     "output_type": "stream",
     "text": [
      "1370 \t TIME TO RESET:  \t 11.449765682220459\n",
      "1371 \t TIME TO STEP:  0.030608415603637695\n",
      "1372 \t TIME TO STEP:  0.047113656997680664\n",
      "1373 \t TIME TO STEP:  0.020039796829223633\n",
      "1374 \t TIME TO STEP:  0.020322799682617188\n",
      "1375 \t TIME TO STEP:  0.020227670669555664\n",
      "1376 \t TIME TO STEP:  0.02061152458190918\n",
      "1377 \t TIME TO STEP:  0.020151853561401367\n",
      "1378 \t TIME TO STEP:  0.02086663246154785\n",
      "1379 \t TIME TO STEP:  0.021046876907348633\n"
     ]
    },
    {
     "name": "stderr",
     "output_type": "stream",
     "text": [
      "2020-04-20 15:43:23,592 Computing map for /data/gibson/Adrian.glb\n"
     ]
    },
    {
     "name": "stdout",
     "output_type": "stream",
     "text": [
      "1380 \t TIME TO RESET:  \t 5.819413423538208\n",
      "1381 \t TIME TO STEP:  0.021393299102783203\n",
      "1382 \t TIME TO STEP:  0.0323488712310791\n",
      "1383 \t TIME TO STEP:  0.05120730400085449\n",
      "1384 \t TIME TO STEP:  0.020847082138061523\n",
      "1385 \t TIME TO STEP:  0.020385265350341797\n",
      "1386 \t TIME TO STEP:  0.020163774490356445\n",
      "1387 \t TIME TO STEP:  0.020086050033569336\n",
      "1388 \t TIME TO STEP:  0.020786762237548828\n",
      "1389 \t TIME TO STEP:  0.05243062973022461\n"
     ]
    },
    {
     "name": "stderr",
     "output_type": "stream",
     "text": [
      "2020-04-20 15:43:29,675 Computing map for /data/gibson/Adrian.glb\n"
     ]
    },
    {
     "name": "stdout",
     "output_type": "stream",
     "text": [
      "1390 \t TIME TO RESET:  \t 5.944533586502075\n",
      "1391 \t TIME TO STEP:  0.04605817794799805\n",
      "1392 \t TIME TO STEP:  0.020510196685791016\n",
      "1393 \t TIME TO STEP:  0.053414106369018555\n",
      "1394 \t TIME TO STEP:  0.053671836853027344\n",
      "1395 \t TIME TO STEP:  0.038208961486816406\n",
      "1396 \t TIME TO STEP:  0.02073216438293457\n",
      "1397 \t TIME TO STEP:  0.020405054092407227\n",
      "1398 \t TIME TO STEP:  0.020352840423583984\n",
      "1399 \t TIME TO STEP:  0.05529952049255371\n"
     ]
    },
    {
     "name": "stderr",
     "output_type": "stream",
     "text": [
      "2020-04-20 15:43:35,958 Computing map for /data/gibson/Adrian.glb\n",
      "2020-04-20 15:43:41,472 Invalid map: /data/gibson/Adrian.glb/142\n",
      "2020-04-20 15:43:41,687 Computing map for /data/gibson/Adrian.glb\n",
      "2020-04-20 15:43:47,145 Invalid map: /data/gibson/Adrian.glb/142\n",
      "2020-04-20 15:43:47,359 Computing map for /data/gibson/Adrian.glb\n"
     ]
    },
    {
     "name": "stdout",
     "output_type": "stream",
     "text": [
      "1400 \t TIME TO RESET:  \t 17.210583448410034\n",
      "1401 \t TIME TO STEP:  0.08564066886901855\n",
      "1402 \t TIME TO STEP:  0.07570314407348633\n",
      "1403 \t TIME TO STEP:  0.08992290496826172\n",
      "1404 \t TIME TO STEP:  0.046636104583740234\n",
      "1405 \t TIME TO STEP:  0.025897502899169922\n",
      "1406 \t TIME TO STEP:  0.04828667640686035\n",
      "1407 \t TIME TO STEP:  0.07184624671936035\n",
      "1408 \t TIME TO STEP:  0.054238319396972656\n",
      "1409 \t TIME TO STEP:  0.019864320755004883\n"
     ]
    },
    {
     "name": "stderr",
     "output_type": "stream",
     "text": [
      "2020-04-20 15:43:53,677 Computing map for /data/gibson/Adrian.glb\n"
     ]
    },
    {
     "name": "stdout",
     "output_type": "stream",
     "text": [
      "1410 \t TIME TO RESET:  \t 5.734485864639282\n",
      "1411 \t TIME TO STEP:  0.023544788360595703\n",
      "1412 \t TIME TO STEP:  0.0201418399810791\n",
      "1413 \t TIME TO STEP:  0.019737720489501953\n",
      "1414 \t TIME TO STEP:  0.019597291946411133\n",
      "1415 \t TIME TO STEP:  0.019498586654663086\n",
      "1416 \t TIME TO STEP:  0.02025628089904785\n",
      "1417 \t TIME TO STEP:  0.019675254821777344\n",
      "1418 \t TIME TO STEP:  0.019889354705810547\n",
      "1419 \t TIME TO STEP:  0.019570350646972656\n"
     ]
    },
    {
     "name": "stderr",
     "output_type": "stream",
     "text": [
      "2020-04-20 15:43:59,605 Computing map for /data/gibson/Adrian.glb\n"
     ]
    },
    {
     "name": "stdout",
     "output_type": "stream",
     "text": [
      "1420 \t TIME TO RESET:  \t 5.865627288818359\n",
      "1421 \t TIME TO STEP:  0.0312647819519043\n",
      "1422 \t TIME TO STEP:  0.020668745040893555\n",
      "1423 \t TIME TO STEP:  0.03661799430847168\n",
      "1424 \t TIME TO STEP:  0.02956223487854004\n",
      "1425 \t TIME TO STEP:  0.06681418418884277\n",
      "1426 \t TIME TO STEP:  0.05114603042602539\n",
      "1427 \t TIME TO STEP:  0.019696950912475586\n",
      "1428 \t TIME TO STEP:  0.04962491989135742\n",
      "1429 \t TIME TO STEP:  0.01969623565673828\n"
     ]
    },
    {
     "name": "stderr",
     "output_type": "stream",
     "text": [
      "2020-04-20 15:44:05,788 Computing map for /data/gibson/Adrian.glb\n"
     ]
    },
    {
     "name": "stdout",
     "output_type": "stream",
     "text": [
      "1430 \t TIME TO RESET:  \t 5.669865846633911\n",
      "1431 \t TIME TO STEP:  0.05277085304260254\n",
      "1432 \t TIME TO STEP:  0.02944660186767578\n",
      "1433 \t TIME TO STEP:  0.0434720516204834\n",
      "1434 \t TIME TO STEP:  0.051126718521118164\n",
      "1435 \t TIME TO STEP:  0.019695520401000977\n",
      "1436 \t TIME TO STEP:  0.02200603485107422\n",
      "1437 \t TIME TO STEP:  0.02000141143798828\n",
      "1438 \t TIME TO STEP:  0.020099401473999023\n",
      "1439 \t TIME TO STEP:  0.01992321014404297\n"
     ]
    },
    {
     "name": "stderr",
     "output_type": "stream",
     "text": [
      "2020-04-20 15:44:11,735 Computing map for /data/gibson/Adrian.glb\n"
     ]
    },
    {
     "name": "stdout",
     "output_type": "stream",
     "text": [
      "1440 \t TIME TO RESET:  \t 5.689732074737549\n",
      "1441 \t TIME TO STEP:  0.027612686157226562\n",
      "1442 \t TIME TO STEP:  0.019797325134277344\n",
      "1443 \t TIME TO STEP:  0.01971149444580078\n",
      "1444 \t TIME TO STEP:  0.020039796829223633\n",
      "1445 \t TIME TO STEP:  0.020168781280517578\n",
      "1446 \t TIME TO STEP:  0.02102804183959961\n",
      "1447 \t TIME TO STEP:  0.020612239837646484\n",
      "1448 \t TIME TO STEP:  0.020660877227783203\n",
      "1449 \t TIME TO STEP:  0.020329952239990234\n"
     ]
    },
    {
     "name": "stderr",
     "output_type": "stream",
     "text": [
      "2020-04-20 15:44:17,639 Computing map for /data/gibson/Adrian.glb\n",
      "2020-04-20 15:44:23,107 Invalid map: /data/gibson/Adrian.glb/147\n",
      "2020-04-20 15:44:23,327 Computing map for /data/gibson/Adrian.glb\n",
      "2020-04-20 15:44:28,790 Invalid map: /data/gibson/Adrian.glb/147\n",
      "2020-04-20 15:44:29,013 Computing map for /data/gibson/Adrian.glb\n"
     ]
    },
    {
     "name": "stdout",
     "output_type": "stream",
     "text": [
      "1450 \t TIME TO RESET:  \t 17.199750900268555\n",
      "1451 \t TIME TO STEP:  0.059140682220458984\n",
      "1452 \t TIME TO STEP:  0.05488300323486328\n",
      "1453 \t TIME TO STEP:  0.05254340171813965\n",
      "1454 \t TIME TO STEP:  0.028984546661376953\n",
      "1455 \t TIME TO STEP:  0.02162456512451172\n",
      "1456 \t TIME TO STEP:  0.020482301712036133\n",
      "1457 \t TIME TO STEP:  0.020323514938354492\n",
      "1458 \t TIME TO STEP:  0.020620346069335938\n",
      "1459 \t TIME TO STEP:  0.020349502563476562\n"
     ]
    },
    {
     "name": "stderr",
     "output_type": "stream",
     "text": [
      "2020-04-20 15:44:35,105 Computing map for /data/gibson/Adrian.glb\n",
      "2020-04-20 15:44:40,579 Invalid map: /data/gibson/Adrian.glb/148\n",
      "2020-04-20 15:44:40,795 Computing map for /data/gibson/Adrian.glb\n"
     ]
    },
    {
     "name": "stdout",
     "output_type": "stream",
     "text": [
      "1460 \t TIME TO RESET:  \t 11.367104053497314\n",
      "1461 \t TIME TO STEP:  0.028840065002441406\n",
      "1462 \t TIME TO STEP:  0.02051258087158203\n",
      "1463 \t TIME TO STEP:  0.020108461380004883\n",
      "1464 \t TIME TO STEP:  0.020298004150390625\n",
      "1465 \t TIME TO STEP:  0.020006656646728516\n",
      "1466 \t TIME TO STEP:  0.02031254768371582\n",
      "1467 \t TIME TO STEP:  0.02012014389038086\n",
      "1468 \t TIME TO STEP:  0.020832538604736328\n",
      "1469 \t TIME TO STEP:  0.019989013671875\n"
     ]
    },
    {
     "name": "stderr",
     "output_type": "stream",
     "text": [
      "2020-04-20 15:44:46,698 Computing map for /data/gibson/Adrian.glb\n"
     ]
    },
    {
     "name": "stdout",
     "output_type": "stream",
     "text": [
      "1470 \t TIME TO RESET:  \t 5.878453016281128\n",
      "1471 \t TIME TO STEP:  0.021462678909301758\n",
      "1472 \t TIME TO STEP:  0.050484657287597656\n",
      "1473 \t TIME TO STEP:  0.021075725555419922\n",
      "1474 \t TIME TO STEP:  0.02091670036315918\n",
      "1475 \t TIME TO STEP:  0.020509719848632812\n",
      "1476 \t TIME TO STEP:  0.020392656326293945\n",
      "1477 \t TIME TO STEP:  0.03810620307922363\n",
      "1478 \t TIME TO STEP:  0.0529332160949707\n",
      "1479 \t TIME TO STEP:  0.028798580169677734\n"
     ]
    },
    {
     "name": "stderr",
     "output_type": "stream",
     "text": [
      "2020-04-20 15:44:52,838 Computing map for /data/gibson/Adrian.glb\n"
     ]
    },
    {
     "name": "stdout",
     "output_type": "stream",
     "text": [
      "1480 \t TIME TO RESET:  \t 5.752932548522949\n",
      "1481 \t TIME TO STEP:  0.053484201431274414\n",
      "1482 \t TIME TO STEP:  0.028838157653808594\n",
      "1483 \t TIME TO STEP:  0.0267789363861084\n",
      "1484 \t TIME TO STEP:  0.03697800636291504\n",
      "1485 \t TIME TO STEP:  0.025442838668823242\n",
      "1486 \t TIME TO STEP:  0.020280838012695312\n",
      "1487 \t TIME TO STEP:  0.021974802017211914\n",
      "1488 \t TIME TO STEP:  0.020053386688232422\n",
      "1489 \t TIME TO STEP:  0.02034759521484375\n"
     ]
    },
    {
     "name": "stderr",
     "output_type": "stream",
     "text": [
      "2020-04-20 15:44:58,850 Computing map for /data/gibson/Adrian.glb\n"
     ]
    },
    {
     "name": "stdout",
     "output_type": "stream",
     "text": [
      "1490 \t TIME TO RESET:  \t 5.866881370544434\n",
      "1491 \t TIME TO STEP:  0.03379225730895996\n",
      "1492 \t TIME TO STEP:  0.020472288131713867\n",
      "1493 \t TIME TO STEP:  0.019806623458862305\n",
      "1494 \t TIME TO STEP:  0.019952774047851562\n",
      "1495 \t TIME TO STEP:  0.019602298736572266\n",
      "1496 \t TIME TO STEP:  0.019896507263183594\n",
      "1497 \t TIME TO STEP:  0.01978468894958496\n",
      "1498 \t TIME TO STEP:  0.019809722900390625\n",
      "1499 \t TIME TO STEP:  0.0202789306640625\n"
     ]
    },
    {
     "name": "stderr",
     "output_type": "stream",
     "text": [
      "2020-04-20 15:45:04,924 Computing map for /data/gibson/Adrian.glb\n"
     ]
    },
    {
     "name": "stdout",
     "output_type": "stream",
     "text": [
      "1500 \t TIME TO RESET:  \t 5.8622636795043945\n",
      "1501 \t TIME TO STEP:  0.03710222244262695\n",
      "1502 \t TIME TO STEP:  0.08066821098327637\n",
      "1503 \t TIME TO STEP:  0.05225396156311035\n",
      "1504 \t TIME TO STEP:  0.026926517486572266\n",
      "1505 \t TIME TO STEP:  0.021250009536743164\n",
      "1506 \t TIME TO STEP:  0.019708871841430664\n",
      "1507 \t TIME TO STEP:  0.02016615867614746\n",
      "1508 \t TIME TO STEP:  0.020200729370117188\n",
      "1509 \t TIME TO STEP:  0.019609928131103516\n"
     ]
    },
    {
     "name": "stderr",
     "output_type": "stream",
     "text": [
      "2020-04-20 15:45:11,071 Computing map for /data/gibson/Adrian.glb\n",
      "2020-04-20 15:45:16,636 Invalid map: /data/gibson/Adrian.glb/153\n",
      "2020-04-20 15:45:16,880 Computing map for /data/gibson/Adrian.glb\n",
      "2020-04-20 15:45:22,413 Invalid map: /data/gibson/Adrian.glb/153\n",
      "2020-04-20 15:45:22,647 Computing map for /data/gibson/Adrian.glb\n"
     ]
    },
    {
     "name": "stdout",
     "output_type": "stream",
     "text": [
      "1510 \t TIME TO RESET:  \t 17.270742177963257\n",
      "1511 \t TIME TO STEP:  0.09967517852783203\n",
      "1512 \t TIME TO STEP:  0.0554654598236084\n",
      "1513 \t TIME TO STEP:  0.046269893646240234\n",
      "1514 \t TIME TO STEP:  0.029479265213012695\n",
      "1515 \t TIME TO STEP:  0.04430556297302246\n",
      "1516 \t TIME TO STEP:  0.05454206466674805\n",
      "1517 \t TIME TO STEP:  0.10617923736572266\n",
      "1518 \t TIME TO STEP:  0.03652811050415039\n",
      "1519 \t TIME TO STEP:  0.04525399208068848\n"
     ]
    },
    {
     "name": "stderr",
     "output_type": "stream",
     "text": [
      "2020-04-20 15:45:28,859 Computing map for /data/gibson/Adrian.glb\n"
     ]
    },
    {
     "name": "stdout",
     "output_type": "stream",
     "text": [
      "1520 \t TIME TO RESET:  \t 5.9413042068481445\n",
      "1521 \t TIME TO STEP:  0.02656078338623047\n",
      "1522 \t TIME TO STEP:  0.06824517250061035\n",
      "1523 \t TIME TO STEP:  0.020427703857421875\n",
      "1524 \t TIME TO STEP:  0.029224395751953125\n",
      "1525 \t TIME TO STEP:  0.020359039306640625\n",
      "1526 \t TIME TO STEP:  0.020161151885986328\n",
      "1527 \t TIME TO STEP:  0.02073216438293457\n",
      "1528 \t TIME TO STEP:  0.02229595184326172\n",
      "1529 \t TIME TO STEP:  0.028119564056396484\n"
     ]
    },
    {
     "name": "stderr",
     "output_type": "stream",
     "text": [
      "2020-04-20 15:45:35,086 Computing map for /data/gibson/Adrian.glb\n",
      "2020-04-20 15:45:40,577 Invalid map: /data/gibson/Adrian.glb/155\n",
      "2020-04-20 15:45:40,784 Computing map for /data/gibson/Adrian.glb\n"
     ]
    },
    {
     "name": "stdout",
     "output_type": "stream",
     "text": [
      "1530 \t TIME TO RESET:  \t 11.609280347824097\n",
      "1531 \t TIME TO STEP:  0.045142412185668945\n",
      "1532 \t TIME TO STEP:  0.020450353622436523\n",
      "1533 \t TIME TO STEP:  0.020038843154907227\n",
      "1534 \t TIME TO STEP:  0.020245790481567383\n",
      "1535 \t TIME TO STEP:  0.019750356674194336\n",
      "1536 \t TIME TO STEP:  0.019820690155029297\n",
      "1537 \t TIME TO STEP:  0.035303354263305664\n",
      "1538 \t TIME TO STEP:  0.050656795501708984\n",
      "1539 \t TIME TO STEP:  0.027067184448242188\n"
     ]
    },
    {
     "name": "stderr",
     "output_type": "stream",
     "text": [
      "2020-04-20 15:45:46,927 Computing map for /data/gibson/Adrian.glb\n"
     ]
    },
    {
     "name": "stdout",
     "output_type": "stream",
     "text": [
      "1540 \t TIME TO RESET:  \t 5.8024444580078125\n",
      "1541 \t TIME TO STEP:  0.030831098556518555\n",
      "1542 \t TIME TO STEP:  0.020093202590942383\n",
      "1543 \t TIME TO STEP:  0.05273175239562988\n",
      "1544 \t TIME TO STEP:  0.028176069259643555\n",
      "1545 \t TIME TO STEP:  0.02050948143005371\n",
      "1546 \t TIME TO STEP:  0.02006053924560547\n",
      "1547 \t TIME TO STEP:  0.020177602767944336\n",
      "1548 \t TIME TO STEP:  0.02816915512084961\n",
      "1549 \t TIME TO STEP:  0.019533872604370117\n"
     ]
    },
    {
     "name": "stderr",
     "output_type": "stream",
     "text": [
      "2020-04-20 15:45:52,969 Computing map for /data/gibson/Adrian.glb\n",
      "2020-04-20 15:45:58,501 Invalid map: /data/gibson/Adrian.glb/157\n",
      "2020-04-20 15:45:58,702 Computing map for /data/gibson/Adrian.glb\n"
     ]
    },
    {
     "name": "stdout",
     "output_type": "stream",
     "text": [
      "1550 \t TIME TO RESET:  \t 11.473174333572388\n",
      "1551 \t TIME TO STEP:  0.028405189514160156\n",
      "1552 \t TIME TO STEP:  0.01984429359436035\n",
      "1553 \t TIME TO STEP:  0.020170211791992188\n",
      "1554 \t TIME TO STEP:  0.019968748092651367\n",
      "1555 \t TIME TO STEP:  0.02025151252746582\n",
      "1556 \t TIME TO STEP:  0.020134449005126953\n",
      "1557 \t TIME TO STEP:  0.01993727684020996\n",
      "1558 \t TIME TO STEP:  0.019707441329956055\n",
      "1559 \t TIME TO STEP:  0.019769668579101562\n"
     ]
    },
    {
     "name": "stderr",
     "output_type": "stream",
     "text": [
      "2020-04-20 15:46:04,631 Computing map for /data/gibson/Adrian.glb\n"
     ]
    },
    {
     "name": "stdout",
     "output_type": "stream",
     "text": [
      "1560 \t TIME TO RESET:  \t 5.7460572719573975\n",
      "1561 \t TIME TO STEP:  0.04327082633972168\n",
      "1562 \t TIME TO STEP:  0.03493642807006836\n",
      "1563 \t TIME TO STEP:  0.01958775520324707\n",
      "1564 \t TIME TO STEP:  0.020453214645385742\n",
      "1565 \t TIME TO STEP:  0.02873992919921875\n",
      "1566 \t TIME TO STEP:  0.01977229118347168\n",
      "1567 \t TIME TO STEP:  0.050765275955200195\n",
      "1568 \t TIME TO STEP:  0.019573211669921875\n",
      "1569 \t TIME TO STEP:  0.019681930541992188\n"
     ]
    },
    {
     "name": "stderr",
     "output_type": "stream",
     "text": [
      "2020-04-20 15:46:10,637 Computing map for /data/gibson/Adrian.glb\n"
     ]
    },
    {
     "name": "stdout",
     "output_type": "stream",
     "text": [
      "1570 \t TIME TO RESET:  \t 5.786734104156494\n",
      "1571 \t TIME TO STEP:  0.05383586883544922\n",
      "1572 \t TIME TO STEP:  0.05380725860595703\n",
      "1573 \t TIME TO STEP:  0.04525160789489746\n",
      "1574 \t TIME TO STEP:  0.05292773246765137\n",
      "1575 \t TIME TO STEP:  0.037274837493896484\n",
      "1576 \t TIME TO STEP:  0.019958019256591797\n",
      "1577 \t TIME TO STEP:  0.020771503448486328\n",
      "1578 \t TIME TO STEP:  0.02055978775024414\n",
      "1579 \t TIME TO STEP:  0.05008578300476074\n"
     ]
    },
    {
     "name": "stderr",
     "output_type": "stream",
     "text": [
      "2020-04-20 15:46:16,800 Computing map for /data/gibson/Adrian.glb\n"
     ]
    },
    {
     "name": "stdout",
     "output_type": "stream",
     "text": [
      "1580 \t TIME TO RESET:  \t 5.895307779312134\n",
      "1581 \t TIME TO STEP:  0.06652331352233887\n",
      "1582 \t TIME TO STEP:  0.05548739433288574\n",
      "1583 \t TIME TO STEP:  0.02031683921813965\n",
      "1584 \t TIME TO STEP:  0.07281303405761719\n",
      "1585 \t TIME TO STEP:  0.05450725555419922\n",
      "1586 \t TIME TO STEP:  0.020505666732788086\n",
      "1587 \t TIME TO STEP:  0.07707810401916504\n",
      "1588 \t TIME TO STEP:  0.05148935317993164\n",
      "1589 \t TIME TO STEP:  0.053139686584472656\n"
     ]
    },
    {
     "name": "stderr",
     "output_type": "stream",
     "text": [
      "2020-04-20 15:46:23,151 Computing map for /data/gibson/Adrian.glb\n",
      "2020-04-20 15:46:28,573 Invalid map: /data/gibson/Adrian.glb/161\n",
      "2020-04-20 15:46:28,788 Computing map for /data/gibson/Adrian.glb\n"
     ]
    },
    {
     "name": "stdout",
     "output_type": "stream",
     "text": [
      "1590 \t TIME TO RESET:  \t 11.301473379135132\n",
      "1591 \t TIME TO STEP:  0.035952091217041016\n",
      "1592 \t TIME TO STEP:  0.020360708236694336\n",
      "1593 \t TIME TO STEP:  0.02010822296142578\n",
      "1594 \t TIME TO STEP:  0.020459413528442383\n",
      "1595 \t TIME TO STEP:  0.020161867141723633\n",
      "1596 \t TIME TO STEP:  0.020231962203979492\n",
      "1597 \t TIME TO STEP:  0.020161151885986328\n",
      "1598 \t TIME TO STEP:  0.020076274871826172\n",
      "1599 \t TIME TO STEP:  0.0354456901550293\n"
     ]
    },
    {
     "name": "stderr",
     "output_type": "stream",
     "text": [
      "2020-04-20 15:46:34,676 Computing map for /data/gibson/Adrian.glb\n",
      "2020-04-20 15:46:40,106 Invalid map: /data/gibson/Adrian.glb/162\n",
      "2020-04-20 15:46:40,328 Computing map for /data/gibson/Adrian.glb\n",
      "2020-04-20 15:46:45,793 Invalid map: /data/gibson/Adrian.glb/162\n",
      "2020-04-20 15:46:46,019 Computing map for /data/gibson/Adrian.glb\n",
      "2020-04-20 15:46:51,649 Invalid map: /data/gibson/Adrian.glb/162\n",
      "2020-04-20 15:46:51,873 Computing map for /data/gibson/Adrian.glb\n",
      "2020-04-20 15:46:57,484 Invalid map: /data/gibson/Adrian.glb/162\n",
      "2020-04-20 15:46:57,703 Computing map for /data/gibson/Adrian.glb\n",
      "2020-04-20 15:47:03,273 Invalid map: /data/gibson/Adrian.glb/162\n",
      "2020-04-20 15:47:03,498 Computing map for /data/gibson/Adrian.glb\n"
     ]
    },
    {
     "name": "stdout",
     "output_type": "stream",
     "text": [
      "1600 \t TIME TO RESET:  \t 34.8002073764801\n",
      "1601 \t TIME TO STEP:  0.09615468978881836\n",
      "1602 \t TIME TO STEP:  0.07949161529541016\n",
      "1603 \t TIME TO STEP:  0.021848678588867188\n",
      "1604 \t TIME TO STEP:  0.022223949432373047\n",
      "1605 \t TIME TO STEP:  0.02042222023010254\n",
      "1606 \t TIME TO STEP:  0.020647048950195312\n",
      "1607 \t TIME TO STEP:  0.020755290985107422\n",
      "1608 \t TIME TO STEP:  0.020954370498657227\n",
      "1609 \t TIME TO STEP:  0.020464420318603516\n"
     ]
    },
    {
     "name": "stderr",
     "output_type": "stream",
     "text": [
      "2020-04-20 15:47:09,790 Computing map for /data/gibson/Adrian.glb\n"
     ]
    },
    {
     "name": "stdout",
     "output_type": "stream",
     "text": [
      "1610 \t TIME TO RESET:  \t 5.849811315536499\n",
      "1611 \t TIME TO STEP:  0.04705309867858887\n",
      "1612 \t TIME TO STEP:  0.06892871856689453\n",
      "1613 \t TIME TO STEP:  0.04484415054321289\n",
      "1614 \t TIME TO STEP:  0.020581960678100586\n",
      "1615 \t TIME TO STEP:  0.020554542541503906\n",
      "1616 \t TIME TO STEP:  0.0205533504486084\n",
      "1617 \t TIME TO STEP:  0.019910097122192383\n",
      "1618 \t TIME TO STEP:  0.020010948181152344\n",
      "1619 \t TIME TO STEP:  0.019820451736450195\n"
     ]
    },
    {
     "name": "stderr",
     "output_type": "stream",
     "text": [
      "2020-04-20 15:47:15,926 Computing map for /data/gibson/Adrian.glb\n"
     ]
    },
    {
     "name": "stdout",
     "output_type": "stream",
     "text": [
      "1620 \t TIME TO RESET:  \t 6.01408052444458\n",
      "1621 \t TIME TO STEP:  0.05772757530212402\n",
      "1622 \t TIME TO STEP:  0.06953573226928711\n",
      "1623 \t TIME TO STEP:  0.06883764266967773\n",
      "1624 \t TIME TO STEP:  0.07069230079650879\n",
      "1625 \t TIME TO STEP:  0.045031070709228516\n",
      "1626 \t TIME TO STEP:  0.054163217544555664\n",
      "1627 \t TIME TO STEP:  0.06767845153808594\n",
      "1628 \t TIME TO STEP:  0.06073784828186035\n",
      "1629 \t TIME TO STEP:  0.05296730995178223\n"
     ]
    },
    {
     "name": "stderr",
     "output_type": "stream",
     "text": [
      "2020-04-20 15:47:22,492 Computing map for /data/gibson/Adrian.glb\n",
      "2020-04-20 15:47:28,157 Invalid map: /data/gibson/Adrian.glb/165\n",
      "2020-04-20 15:47:28,376 Computing map for /data/gibson/Adrian.glb\n",
      "2020-04-20 15:47:33,969 Invalid map: /data/gibson/Adrian.glb/165\n",
      "2020-04-20 15:47:34,213 Computing map for /data/gibson/Adrian.glb\n"
     ]
    },
    {
     "name": "stdout",
     "output_type": "stream",
     "text": [
      "1630 \t TIME TO RESET:  \t 17.732011556625366\n",
      "1631 \t TIME TO STEP:  0.08430147171020508\n",
      "1632 \t TIME TO STEP:  0.05661773681640625\n",
      "1633 \t TIME TO STEP:  0.04344582557678223\n",
      "1634 \t TIME TO STEP:  0.05620718002319336\n",
      "1635 \t TIME TO STEP:  0.03807258605957031\n",
      "1636 \t TIME TO STEP:  0.05416727066040039\n",
      "1637 \t TIME TO STEP:  0.05617213249206543\n",
      "1638 \t TIME TO STEP:  0.06098365783691406\n",
      "1639 \t TIME TO STEP:  0.054497718811035156\n"
     ]
    },
    {
     "name": "stderr",
     "output_type": "stream",
     "text": [
      "2020-04-20 15:47:40,745 Computing map for /data/gibson/Adrian.glb\n"
     ]
    },
    {
     "name": "stdout",
     "output_type": "stream",
     "text": [
      "1640 \t TIME TO RESET:  \t 5.952197790145874\n",
      "1641 \t TIME TO STEP:  0.038800716400146484\n",
      "1642 \t TIME TO STEP:  0.028434038162231445\n",
      "1643 \t TIME TO STEP:  0.02131366729736328\n",
      "1644 \t TIME TO STEP:  0.020723581314086914\n",
      "1645 \t TIME TO STEP:  0.020303964614868164\n",
      "1646 \t TIME TO STEP:  0.02038288116455078\n",
      "1647 \t TIME TO STEP:  0.020121097564697266\n",
      "1648 \t TIME TO STEP:  0.020142316818237305\n",
      "1649 \t TIME TO STEP:  0.02091360092163086\n"
     ]
    },
    {
     "name": "stderr",
     "output_type": "stream",
     "text": [
      "2020-04-20 15:47:46,905 Computing map for /data/gibson/Adrian.glb\n",
      "2020-04-20 15:47:52,574 Invalid map: /data/gibson/Adrian.glb/167\n",
      "2020-04-20 15:47:52,810 Computing map for /data/gibson/Adrian.glb\n",
      "2020-04-20 15:47:58,430 Invalid map: /data/gibson/Adrian.glb/167\n",
      "2020-04-20 15:47:58,646 Computing map for /data/gibson/Adrian.glb\n"
     ]
    },
    {
     "name": "stdout",
     "output_type": "stream",
     "text": [
      "1650 \t TIME TO RESET:  \t 17.754103422164917\n",
      "1651 \t TIME TO STEP:  0.0687406063079834\n",
      "1652 \t TIME TO STEP:  0.036972999572753906\n",
      "1653 \t TIME TO STEP:  0.020693540573120117\n",
      "1654 \t TIME TO STEP:  0.020157575607299805\n",
      "1655 \t TIME TO STEP:  0.02043604850769043\n",
      "1656 \t TIME TO STEP:  0.020389080047607422\n",
      "1657 \t TIME TO STEP:  0.021070480346679688\n",
      "1658 \t TIME TO STEP:  0.031128883361816406\n",
      "1659 \t TIME TO STEP:  0.020503997802734375\n"
     ]
    },
    {
     "name": "stderr",
     "output_type": "stream",
     "text": [
      "2020-04-20 15:48:04,912 Computing map for /data/gibson/Adrian.glb\n",
      "2020-04-20 15:48:10,560 Invalid map: /data/gibson/Adrian.glb/168\n",
      "2020-04-20 15:48:10,761 Computing map for /data/gibson/Adrian.glb\n"
     ]
    },
    {
     "name": "stdout",
     "output_type": "stream",
     "text": [
      "1660 \t TIME TO RESET:  \t 11.717827081680298\n",
      "1661 \t TIME TO STEP:  0.05656075477600098\n",
      "1662 \t TIME TO STEP:  0.06644964218139648\n",
      "1663 \t TIME TO STEP:  0.02014303207397461\n",
      "1664 \t TIME TO STEP:  0.03560018539428711\n",
      "1665 \t TIME TO STEP:  0.030386686325073242\n",
      "1666 \t TIME TO STEP:  0.05375409126281738\n",
      "1667 \t TIME TO STEP:  0.019853830337524414\n",
      "1668 \t TIME TO STEP:  0.02072906494140625\n",
      "1669 \t TIME TO STEP:  0.020264387130737305\n"
     ]
    },
    {
     "name": "stderr",
     "output_type": "stream",
     "text": [
      "2020-04-20 15:48:16,950 Computing map for /data/gibson/Adrian.glb\n"
     ]
    },
    {
     "name": "stdout",
     "output_type": "stream",
     "text": [
      "1670 \t TIME TO RESET:  \t 5.993053197860718\n",
      "1671 \t TIME TO STEP:  0.06098604202270508\n",
      "1672 \t TIME TO STEP:  0.054672956466674805\n",
      "1673 \t TIME TO STEP:  0.054039716720581055\n",
      "1674 \t TIME TO STEP:  0.054924726486206055\n",
      "1675 \t TIME TO STEP:  0.01992201805114746\n",
      "1676 \t TIME TO STEP:  0.01982569694519043\n",
      "1677 \t TIME TO STEP:  0.02012944221496582\n",
      "1678 \t TIME TO STEP:  0.020110368728637695\n",
      "1679 \t TIME TO STEP:  0.019861936569213867\n"
     ]
    },
    {
     "name": "stderr",
     "output_type": "stream",
     "text": [
      "2020-04-20 15:48:23,257 Computing map for /data/gibson/Adrian.glb\n",
      "2020-04-20 15:48:28,795 Invalid map: /data/gibson/Adrian.glb/170\n",
      "2020-04-20 15:48:29,026 Computing map for /data/gibson/Adrian.glb\n"
     ]
    },
    {
     "name": "stdout",
     "output_type": "stream",
     "text": [
      "1680 \t TIME TO RESET:  \t 11.660377264022827\n",
      "1681 \t TIME TO STEP:  0.056391000747680664\n",
      "1682 \t TIME TO STEP:  0.0471041202545166\n",
      "1683 \t TIME TO STEP:  0.055103302001953125\n",
      "1684 \t TIME TO STEP:  0.029576539993286133\n",
      "1685 \t TIME TO STEP:  0.021282672882080078\n",
      "1686 \t TIME TO STEP:  0.020419836044311523\n",
      "1687 \t TIME TO STEP:  0.020653486251831055\n",
      "1688 \t TIME TO STEP:  0.020220518112182617\n",
      "1689 \t TIME TO STEP:  0.02031421661376953\n"
     ]
    },
    {
     "name": "stderr",
     "output_type": "stream",
     "text": [
      "2020-04-20 15:48:35,223 Computing map for /data/gibson/Adrian.glb\n"
     ]
    },
    {
     "name": "stdout",
     "output_type": "stream",
     "text": [
      "1690 \t TIME TO RESET:  \t 5.985199213027954\n",
      "1691 \t TIME TO STEP:  0.03663349151611328\n",
      "1692 \t TIME TO STEP:  0.06569600105285645\n",
      "1693 \t TIME TO STEP:  0.058364152908325195\n",
      "1694 \t TIME TO STEP:  0.020819425582885742\n",
      "1695 \t TIME TO STEP:  0.020035266876220703\n",
      "1696 \t TIME TO STEP:  0.035257577896118164\n",
      "1697 \t TIME TO STEP:  0.021857500076293945\n",
      "1698 \t TIME TO STEP:  0.02056407928466797\n",
      "1699 \t TIME TO STEP:  0.02014946937561035\n"
     ]
    },
    {
     "name": "stderr",
     "output_type": "stream",
     "text": [
      "2020-04-20 15:48:41,513 Computing map for /data/gibson/Adrian.glb\n",
      "2020-04-20 15:48:47,204 Invalid map: /data/gibson/Adrian.glb/172\n",
      "2020-04-20 15:48:47,418 Computing map for /data/gibson/Adrian.glb\n"
     ]
    },
    {
     "name": "stdout",
     "output_type": "stream",
     "text": [
      "1700 \t TIME TO RESET:  \t 11.848302125930786\n",
      "1701 \t TIME TO STEP:  0.05864071846008301\n",
      "1702 \t TIME TO STEP:  0.027627229690551758\n",
      "1703 \t TIME TO STEP:  0.019895315170288086\n",
      "1704 \t TIME TO STEP:  0.020638704299926758\n",
      "1705 \t TIME TO STEP:  0.019928455352783203\n",
      "1706 \t TIME TO STEP:  0.0200042724609375\n",
      "1707 \t TIME TO STEP:  0.020133495330810547\n",
      "1708 \t TIME TO STEP:  0.02045583724975586\n",
      "1709 \t TIME TO STEP:  0.02020883560180664\n"
     ]
    },
    {
     "name": "stderr",
     "output_type": "stream",
     "text": [
      "2020-04-20 15:48:53,584 Computing map for /data/gibson/Adrian.glb\n",
      "2020-04-20 15:48:59,111 Invalid map: /data/gibson/Adrian.glb/173\n",
      "2020-04-20 15:48:59,325 Computing map for /data/gibson/Adrian.glb\n"
     ]
    },
    {
     "name": "stdout",
     "output_type": "stream",
     "text": [
      "1710 \t TIME TO RESET:  \t 11.638713836669922\n",
      "1711 \t TIME TO STEP:  0.05501079559326172\n",
      "1712 \t TIME TO STEP:  0.04299306869506836\n",
      "1713 \t TIME TO STEP:  0.07628154754638672\n",
      "1714 \t TIME TO STEP:  0.059693098068237305\n",
      "1715 \t TIME TO STEP:  0.040592193603515625\n",
      "1716 \t TIME TO STEP:  0.020066261291503906\n",
      "1717 \t TIME TO STEP:  0.020047426223754883\n",
      "1718 \t TIME TO STEP:  0.047637224197387695\n",
      "1719 \t TIME TO STEP:  0.019461393356323242\n"
     ]
    },
    {
     "name": "stderr",
     "output_type": "stream",
     "text": [
      "2020-04-20 15:49:05,612 Computing map for /data/gibson/Adrian.glb\n",
      "2020-04-20 15:49:11,275 Invalid map: /data/gibson/Adrian.glb/174\n",
      "2020-04-20 15:49:11,499 Computing map for /data/gibson/Adrian.glb\n",
      "2020-04-20 15:49:17,197 Invalid map: /data/gibson/Adrian.glb/174\n",
      "2020-04-20 15:49:17,414 Computing map for /data/gibson/Adrian.glb\n"
     ]
    },
    {
     "name": "stdout",
     "output_type": "stream",
     "text": [
      "1720 \t TIME TO RESET:  \t 17.78597354888916\n",
      "1721 \t TIME TO STEP:  0.04949235916137695\n",
      "1722 \t TIME TO STEP:  0.037982940673828125\n",
      "1723 \t TIME TO STEP:  0.053724050521850586\n",
      "1724 \t TIME TO STEP:  0.05327033996582031\n",
      "1725 \t TIME TO STEP:  0.05391860008239746\n",
      "1726 \t TIME TO STEP:  0.053078413009643555\n",
      "1727 \t TIME TO STEP:  0.020372390747070312\n",
      "1728 \t TIME TO STEP:  0.020938396453857422\n",
      "1729 \t TIME TO STEP:  0.02019667625427246\n"
     ]
    },
    {
     "name": "stderr",
     "output_type": "stream",
     "text": [
      "2020-04-20 15:49:23,763 Computing map for /data/gibson/Adrian.glb\n",
      "2020-04-20 15:49:29,400 Invalid map: /data/gibson/Adrian.glb/175\n",
      "2020-04-20 15:49:29,625 Computing map for /data/gibson/Adrian.glb\n"
     ]
    },
    {
     "name": "stdout",
     "output_type": "stream",
     "text": [
      "1730 \t TIME TO RESET:  \t 11.720971822738647\n",
      "1731 \t TIME TO STEP:  0.021010398864746094\n",
      "1732 \t TIME TO STEP:  0.0205843448638916\n",
      "1733 \t TIME TO STEP:  0.020616769790649414\n",
      "1734 \t TIME TO STEP:  0.05417943000793457\n",
      "1735 \t TIME TO STEP:  0.06431460380554199\n",
      "1736 \t TIME TO STEP:  0.0526270866394043\n",
      "1737 \t TIME TO STEP:  0.020524978637695312\n",
      "1738 \t TIME TO STEP:  0.02019524574279785\n",
      "1739 \t TIME TO STEP:  0.020276546478271484\n"
     ]
    },
    {
     "name": "stderr",
     "output_type": "stream",
     "text": [
      "2020-04-20 15:49:35,789 Computing map for /data/gibson/Adrian.glb\n"
     ]
    },
    {
     "name": "stdout",
     "output_type": "stream",
     "text": [
      "1740 \t TIME TO RESET:  \t 5.927416086196899\n",
      "1741 \t TIME TO STEP:  0.05298495292663574\n",
      "1742 \t TIME TO STEP:  0.037853240966796875\n",
      "1743 \t TIME TO STEP:  0.03411102294921875\n",
      "1744 \t TIME TO STEP:  0.03699803352355957\n",
      "1745 \t TIME TO STEP:  0.0216522216796875\n",
      "1746 \t TIME TO STEP:  0.021351099014282227\n",
      "1747 \t TIME TO STEP:  0.02053070068359375\n",
      "1748 \t TIME TO STEP:  0.020226478576660156\n",
      "1749 \t TIME TO STEP:  0.0205233097076416\n"
     ]
    },
    {
     "name": "stderr",
     "output_type": "stream",
     "text": [
      "2020-04-20 15:49:41,975 Computing map for /data/gibson/Adrian.glb\n",
      "2020-04-20 15:49:47,565 Invalid map: /data/gibson/Adrian.glb/177\n",
      "2020-04-20 15:49:47,782 Computing map for /data/gibson/Adrian.glb\n"
     ]
    },
    {
     "name": "stdout",
     "output_type": "stream",
     "text": [
      "1750 \t TIME TO RESET:  \t 11.740150451660156\n",
      "1751 \t TIME TO STEP:  0.04794597625732422\n",
      "1752 \t TIME TO STEP:  0.05578947067260742\n",
      "1753 \t TIME TO STEP:  0.020059585571289062\n",
      "1754 \t TIME TO STEP:  0.0537571907043457\n",
      "1755 \t TIME TO STEP:  0.020130395889282227\n",
      "1756 \t TIME TO STEP:  0.02090740203857422\n",
      "1757 \t TIME TO STEP:  0.020505666732788086\n",
      "1758 \t TIME TO STEP:  0.036981821060180664\n",
      "1759 \t TIME TO STEP:  0.019987106323242188\n"
     ]
    },
    {
     "name": "stderr",
     "output_type": "stream",
     "text": [
      "2020-04-20 15:49:54,012 Computing map for /data/gibson/Adrian.glb\n"
     ]
    },
    {
     "name": "stdout",
     "output_type": "stream",
     "text": [
      "1760 \t TIME TO RESET:  \t 6.055410623550415\n",
      "1761 \t TIME TO STEP:  0.055238962173461914\n",
      "1762 \t TIME TO STEP:  0.06713271141052246\n",
      "1763 \t TIME TO STEP:  0.028465986251831055\n",
      "1764 \t TIME TO STEP:  0.04706740379333496\n",
      "1765 \t TIME TO STEP:  0.05652499198913574\n",
      "1766 \t TIME TO STEP:  0.06601142883300781\n",
      "1767 \t TIME TO STEP:  0.05337333679199219\n",
      "1768 \t TIME TO STEP:  0.07387614250183105\n",
      "1769 \t TIME TO STEP:  0.06562328338623047\n"
     ]
    },
    {
     "name": "stderr",
     "output_type": "stream",
     "text": [
      "2020-04-20 15:50:00,587 Computing map for /data/gibson/Adrian.glb\n"
     ]
    },
    {
     "name": "stdout",
     "output_type": "stream",
     "text": [
      "1770 \t TIME TO RESET:  \t 5.913066864013672\n",
      "1771 \t TIME TO STEP:  0.028570175170898438\n",
      "1772 \t TIME TO STEP:  0.019663095474243164\n",
      "1773 \t TIME TO STEP:  0.02059483528137207\n",
      "1774 \t TIME TO STEP:  0.020355701446533203\n",
      "1775 \t TIME TO STEP:  0.020282983779907227\n",
      "1776 \t TIME TO STEP:  0.020097017288208008\n",
      "1777 \t TIME TO STEP:  0.020847320556640625\n",
      "1778 \t TIME TO STEP:  0.020168304443359375\n",
      "1779 \t TIME TO STEP:  0.020116329193115234\n"
     ]
    },
    {
     "name": "stderr",
     "output_type": "stream",
     "text": [
      "2020-04-20 15:50:06,711 Computing map for /data/gibson/Adrian.glb\n"
     ]
    },
    {
     "name": "stdout",
     "output_type": "stream",
     "text": [
      "1780 \t TIME TO RESET:  \t 5.963504314422607\n",
      "1781 \t TIME TO STEP:  0.03638100624084473\n",
      "1782 \t TIME TO STEP:  0.027446746826171875\n",
      "1783 \t TIME TO STEP:  0.02004551887512207\n",
      "1784 \t TIME TO STEP:  0.019549131393432617\n",
      "1785 \t TIME TO STEP:  0.019734859466552734\n",
      "1786 \t TIME TO STEP:  0.020874738693237305\n",
      "1787 \t TIME TO STEP:  0.0378720760345459\n",
      "1788 \t TIME TO STEP:  0.02064800262451172\n",
      "1789 \t TIME TO STEP:  0.020381689071655273\n"
     ]
    },
    {
     "name": "stderr",
     "output_type": "stream",
     "text": [
      "2020-04-20 15:50:12,871 Computing map for /data/gibson/Adrian.glb\n"
     ]
    },
    {
     "name": "stdout",
     "output_type": "stream",
     "text": [
      "1790 \t TIME TO RESET:  \t 5.992664098739624\n",
      "1791 \t TIME TO STEP:  0.06977415084838867\n",
      "1792 \t TIME TO STEP:  0.029553651809692383\n",
      "1793 \t TIME TO STEP:  0.053908586502075195\n",
      "1794 \t TIME TO STEP:  0.06368136405944824\n",
      "1795 \t TIME TO STEP:  0.04490518569946289\n",
      "1796 \t TIME TO STEP:  0.06740164756774902\n",
      "1797 \t TIME TO STEP:  0.05280900001525879\n",
      "1798 \t TIME TO STEP:  0.0690915584564209\n",
      "1799 \t TIME TO STEP:  0.020484209060668945\n"
     ]
    },
    {
     "name": "stderr",
     "output_type": "stream",
     "text": [
      "2020-04-20 15:50:19,340 Computing map for /data/gibson/Adrian.glb\n",
      "2020-04-20 15:50:24,981 Invalid map: /data/gibson/Adrian.glb/182\n",
      "2020-04-20 15:50:25,196 Computing map for /data/gibson/Adrian.glb\n",
      "2020-04-20 15:50:30,718 Invalid map: /data/gibson/Adrian.glb/182\n",
      "2020-04-20 15:50:30,922 Computing map for /data/gibson/Adrian.glb\n",
      "2020-04-20 15:50:36,606 Invalid map: /data/gibson/Adrian.glb/182\n",
      "2020-04-20 15:50:36,828 Computing map for /data/gibson/Adrian.glb\n",
      "2020-04-20 15:50:42,518 Invalid map: /data/gibson/Adrian.glb/182\n",
      "2020-04-20 15:50:42,740 Computing map for /data/gibson/Adrian.glb\n"
     ]
    },
    {
     "name": "stdout",
     "output_type": "stream",
     "text": [
      "1800 \t TIME TO RESET:  \t 29.290250301361084\n",
      "1801 \t TIME TO STEP:  0.08341336250305176\n",
      "1802 \t TIME TO STEP:  0.019806385040283203\n",
      "1803 \t TIME TO STEP:  0.01984238624572754\n",
      "1804 \t TIME TO STEP:  0.048802852630615234\n",
      "1805 \t TIME TO STEP:  0.019953489303588867\n",
      "1806 \t TIME TO STEP:  0.02060556411743164\n",
      "1807 \t TIME TO STEP:  0.01976776123046875\n",
      "1808 \t TIME TO STEP:  0.01981973648071289\n",
      "1809 \t TIME TO STEP:  0.02045464515686035\n"
     ]
    },
    {
     "name": "stderr",
     "output_type": "stream",
     "text": [
      "2020-04-20 15:50:48,901 Computing map for /data/gibson/Adrian.glb\n"
     ]
    },
    {
     "name": "stdout",
     "output_type": "stream",
     "text": [
      "1810 \t TIME TO RESET:  \t 5.928720474243164\n",
      "1811 \t TIME TO STEP:  0.029603004455566406\n",
      "1812 \t TIME TO STEP:  0.05974578857421875\n",
      "1813 \t TIME TO STEP:  0.026508331298828125\n",
      "1814 \t TIME TO STEP:  0.036773681640625\n",
      "1815 \t TIME TO STEP:  0.07068014144897461\n",
      "1816 \t TIME TO STEP:  0.023618459701538086\n",
      "1817 \t TIME TO STEP:  0.022704124450683594\n",
      "1818 \t TIME TO STEP:  0.023600101470947266\n",
      "1819 \t TIME TO STEP:  0.038498640060424805\n"
     ]
    },
    {
     "name": "stderr",
     "output_type": "stream",
     "text": [
      "2020-04-20 15:50:55,164 Computing map for /data/gibson/Adrian.glb\n"
     ]
    },
    {
     "name": "stdout",
     "output_type": "stream",
     "text": [
      "1820 \t TIME TO RESET:  \t 5.9224419593811035\n",
      "1821 \t TIME TO STEP:  0.03332090377807617\n",
      "1822 \t TIME TO STEP:  0.020711421966552734\n",
      "1823 \t TIME TO STEP:  0.020425796508789062\n",
      "1824 \t TIME TO STEP:  0.0201873779296875\n",
      "1825 \t TIME TO STEP:  0.020627737045288086\n",
      "1826 \t TIME TO STEP:  0.02016305923461914\n",
      "1827 \t TIME TO STEP:  0.02072620391845703\n",
      "1828 \t TIME TO STEP:  0.02793288230895996\n",
      "1829 \t TIME TO STEP:  0.020028352737426758\n"
     ]
    },
    {
     "name": "stderr",
     "output_type": "stream",
     "text": [
      "2020-04-20 15:51:01,291 Computing map for /data/gibson/Adrian.glb\n"
     ]
    },
    {
     "name": "stdout",
     "output_type": "stream",
     "text": [
      "1830 \t TIME TO RESET:  \t 6.004032373428345\n",
      "1831 \t TIME TO STEP:  0.03775310516357422\n",
      "1832 \t TIME TO STEP:  0.03624463081359863\n",
      "1833 \t TIME TO STEP:  0.036804914474487305\n",
      "1834 \t TIME TO STEP:  0.02332758903503418\n",
      "1835 \t TIME TO STEP:  0.02322983741760254\n",
      "1836 \t TIME TO STEP:  0.020596742630004883\n",
      "1837 \t TIME TO STEP:  0.020355224609375\n",
      "1838 \t TIME TO STEP:  0.03633832931518555\n",
      "1839 \t TIME TO STEP:  0.02720928192138672\n"
     ]
    },
    {
     "name": "stderr",
     "output_type": "stream",
     "text": [
      "2020-04-20 15:51:07,566 Computing map for /data/gibson/Adrian.glb\n"
     ]
    },
    {
     "name": "stdout",
     "output_type": "stream",
     "text": [
      "1840 \t TIME TO RESET:  \t 5.994494676589966\n",
      "1841 \t TIME TO STEP:  0.020640134811401367\n",
      "1842 \t TIME TO STEP:  0.08022475242614746\n",
      "1843 \t TIME TO STEP:  0.06639814376831055\n",
      "1844 \t TIME TO STEP:  0.027774333953857422\n",
      "1845 \t TIME TO STEP:  0.02104949951171875\n",
      "1846 \t TIME TO STEP:  0.020087242126464844\n",
      "1847 \t TIME TO STEP:  0.020425796508789062\n",
      "1848 \t TIME TO STEP:  0.020270109176635742\n",
      "1849 \t TIME TO STEP:  0.020586729049682617\n"
     ]
    },
    {
     "name": "stderr",
     "output_type": "stream",
     "text": [
      "2020-04-20 15:51:13,855 Computing map for /data/gibson/Adrian.glb\n"
     ]
    },
    {
     "name": "stdout",
     "output_type": "stream",
     "text": [
      "1850 \t TIME TO RESET:  \t 6.0040552616119385\n",
      "1851 \t TIME TO STEP:  0.05584716796875\n",
      "1852 \t TIME TO STEP:  0.05427074432373047\n",
      "1853 \t TIME TO STEP:  0.02810835838317871\n",
      "1854 \t TIME TO STEP:  0.020219802856445312\n",
      "1855 \t TIME TO STEP:  0.03722381591796875\n",
      "1856 \t TIME TO STEP:  0.024698734283447266\n",
      "1857 \t TIME TO STEP:  0.02252340316772461\n",
      "1858 \t TIME TO STEP:  0.03769683837890625\n",
      "1859 \t TIME TO STEP:  0.0208587646484375\n"
     ]
    },
    {
     "name": "stderr",
     "output_type": "stream",
     "text": [
      "2020-04-20 15:51:20,149 Computing map for /data/gibson/Adrian.glb\n"
     ]
    },
    {
     "name": "stdout",
     "output_type": "stream",
     "text": [
      "1860 \t TIME TO RESET:  \t 5.870126008987427\n",
      "1861 \t TIME TO STEP:  0.023845434188842773\n",
      "1862 \t TIME TO STEP:  0.021053314208984375\n",
      "1863 \t TIME TO STEP:  0.03747248649597168\n",
      "1864 \t TIME TO STEP:  0.02048015594482422\n",
      "1865 \t TIME TO STEP:  0.02115631103515625\n",
      "1866 \t TIME TO STEP:  0.02052474021911621\n",
      "1867 \t TIME TO STEP:  0.020673274993896484\n",
      "1868 \t TIME TO STEP:  0.020349979400634766\n",
      "1869 \t TIME TO STEP:  0.04220271110534668\n"
     ]
    },
    {
     "name": "stderr",
     "output_type": "stream",
     "text": [
      "2020-04-20 15:51:26,259 Computing map for /data/gibson/Adrian.glb\n",
      "2020-04-20 15:51:31,971 Invalid map: /data/gibson/Adrian.glb/189\n",
      "2020-04-20 15:51:32,176 Computing map for /data/gibson/Adrian.glb\n"
     ]
    },
    {
     "name": "stdout",
     "output_type": "stream",
     "text": [
      "1870 \t TIME TO RESET:  \t 11.805215120315552\n",
      "1871 \t TIME TO STEP:  0.03839588165283203\n",
      "1872 \t TIME TO STEP:  0.03569769859313965\n",
      "1873 \t TIME TO STEP:  0.03136587142944336\n",
      "1874 \t TIME TO STEP:  0.020499229431152344\n",
      "1875 \t TIME TO STEP:  0.020235300064086914\n",
      "1876 \t TIME TO STEP:  0.020312786102294922\n",
      "1877 \t TIME TO STEP:  0.02036762237548828\n",
      "1878 \t TIME TO STEP:  0.020441770553588867\n",
      "1879 \t TIME TO STEP:  0.020328521728515625\n"
     ]
    },
    {
     "name": "stderr",
     "output_type": "stream",
     "text": [
      "2020-04-20 15:51:38,299 Computing map for /data/gibson/Adrian.glb\n"
     ]
    },
    {
     "name": "stdout",
     "output_type": "stream",
     "text": [
      "1880 \t TIME TO RESET:  \t 5.94815468788147\n",
      "1881 \t TIME TO STEP:  0.04008126258850098\n",
      "1882 \t TIME TO STEP:  0.04456591606140137\n",
      "1883 \t TIME TO STEP:  0.020038843154907227\n",
      "1884 \t TIME TO STEP:  0.020228862762451172\n",
      "1885 \t TIME TO STEP:  0.020106077194213867\n",
      "1886 \t TIME TO STEP:  0.04500293731689453\n",
      "1887 \t TIME TO STEP:  0.029721498489379883\n",
      "1888 \t TIME TO STEP:  0.02778005599975586\n",
      "1889 \t TIME TO STEP:  0.020253419876098633\n"
     ]
    },
    {
     "name": "stderr",
     "output_type": "stream",
     "text": [
      "2020-04-20 15:51:44,503 Computing map for /data/gibson/Adrian.glb\n",
      "2020-04-20 15:51:50,243 Invalid map: /data/gibson/Adrian.glb/191\n",
      "2020-04-20 15:51:50,465 Computing map for /data/gibson/Adrian.glb\n"
     ]
    },
    {
     "name": "stdout",
     "output_type": "stream",
     "text": [
      "1890 \t TIME TO RESET:  \t 11.970266103744507\n",
      "1891 \t TIME TO STEP:  0.04873538017272949\n",
      "1892 \t TIME TO STEP:  0.05117487907409668\n",
      "1893 \t TIME TO STEP:  0.05471968650817871\n",
      "1894 \t TIME TO STEP:  0.021371126174926758\n",
      "1895 \t TIME TO STEP:  0.03274369239807129\n",
      "1896 \t TIME TO STEP:  0.021561861038208008\n",
      "1897 \t TIME TO STEP:  0.02054595947265625\n",
      "1898 \t TIME TO STEP:  0.02110743522644043\n",
      "1899 \t TIME TO STEP:  0.020776987075805664\n"
     ]
    },
    {
     "name": "stderr",
     "output_type": "stream",
     "text": [
      "2020-04-20 15:51:56,776 Computing map for /data/gibson/Adrian.glb\n"
     ]
    },
    {
     "name": "stdout",
     "output_type": "stream",
     "text": [
      "1900 \t TIME TO RESET:  \t 5.8355491161346436\n",
      "1901 \t TIME TO STEP:  0.023205280303955078\n",
      "1902 \t TIME TO STEP:  0.021061182022094727\n",
      "1903 \t TIME TO STEP:  0.020687103271484375\n",
      "1904 \t TIME TO STEP:  0.020586490631103516\n",
      "1905 \t TIME TO STEP:  0.02026200294494629\n",
      "1906 \t TIME TO STEP:  0.03517746925354004\n",
      "1907 \t TIME TO STEP:  0.03648853302001953\n",
      "1908 \t TIME TO STEP:  0.022533178329467773\n",
      "1909 \t TIME TO STEP:  0.02061176300048828\n"
     ]
    },
    {
     "name": "stderr",
     "output_type": "stream",
     "text": [
      "2020-04-20 15:52:02,833 Computing map for /data/gibson/Adrian.glb\n",
      "2020-04-20 15:52:08,532 Invalid map: /data/gibson/Adrian.glb/193\n",
      "2020-04-20 15:52:08,745 Computing map for /data/gibson/Adrian.glb\n",
      "2020-04-20 15:52:14,428 Invalid map: /data/gibson/Adrian.glb/193\n",
      "2020-04-20 15:52:14,666 Computing map for /data/gibson/Adrian.glb\n",
      "2020-04-20 15:52:20,382 Invalid map: /data/gibson/Adrian.glb/193\n",
      "2020-04-20 15:52:20,610 Computing map for /data/gibson/Adrian.glb\n",
      "2020-04-20 15:52:26,226 Invalid map: /data/gibson/Adrian.glb/193\n",
      "2020-04-20 15:52:26,435 Computing map for /data/gibson/Adrian.glb\n"
     ]
    },
    {
     "name": "stdout",
     "output_type": "stream",
     "text": [
      "1910 \t TIME TO RESET:  \t 29.58573842048645\n",
      "1911 \t TIME TO STEP:  0.050950050354003906\n",
      "1912 \t TIME TO STEP:  0.02154994010925293\n",
      "1913 \t TIME TO STEP:  0.020235538482666016\n",
      "1914 \t TIME TO STEP:  0.02072596549987793\n",
      "1915 \t TIME TO STEP:  0.020418167114257812\n",
      "1916 \t TIME TO STEP:  0.02077651023864746\n",
      "1917 \t TIME TO STEP:  0.029289722442626953\n",
      "1918 \t TIME TO STEP:  0.020064353942871094\n",
      "1919 \t TIME TO STEP:  0.02097797393798828\n"
     ]
    },
    {
     "name": "stderr",
     "output_type": "stream",
     "text": [
      "2020-04-20 15:52:32,648 Computing map for /data/gibson/Adrian.glb\n",
      "2020-04-20 15:52:38,278 Invalid map: /data/gibson/Adrian.glb/194\n",
      "2020-04-20 15:52:38,510 Computing map for /data/gibson/Adrian.glb\n",
      "2020-04-20 15:52:44,165 Invalid map: /data/gibson/Adrian.glb/194\n",
      "2020-04-20 15:52:44,400 Computing map for /data/gibson/Adrian.glb\n"
     ]
    },
    {
     "name": "stdout",
     "output_type": "stream",
     "text": [
      "1920 \t TIME TO RESET:  \t 17.651302814483643\n",
      "1921 \t TIME TO STEP:  0.03829050064086914\n",
      "1922 \t TIME TO STEP:  0.023288249969482422\n",
      "1923 \t TIME TO STEP:  0.019869089126586914\n",
      "1924 \t TIME TO STEP:  0.01977682113647461\n",
      "1925 \t TIME TO STEP:  0.019776582717895508\n",
      "1926 \t TIME TO STEP:  0.020127534866333008\n",
      "1927 \t TIME TO STEP:  0.020070314407348633\n",
      "1928 \t TIME TO STEP:  0.020148515701293945\n",
      "1929 \t TIME TO STEP:  0.0200350284576416\n"
     ]
    },
    {
     "name": "stderr",
     "output_type": "stream",
     "text": [
      "2020-04-20 15:52:50,506 Computing map for /data/gibson/Adrian.glb\n"
     ]
    },
    {
     "name": "stdout",
     "output_type": "stream",
     "text": [
      "1930 \t TIME TO RESET:  \t 5.903820276260376\n",
      "1931 \t TIME TO STEP:  0.030621767044067383\n",
      "1932 \t TIME TO STEP:  0.046253204345703125\n",
      "1933 \t TIME TO STEP:  0.01949286460876465\n",
      "1934 \t TIME TO STEP:  0.020189762115478516\n",
      "1935 \t TIME TO STEP:  0.020253419876098633\n",
      "1936 \t TIME TO STEP:  0.02046680450439453\n",
      "1937 \t TIME TO STEP:  0.020679235458374023\n",
      "1938 \t TIME TO STEP:  0.02026224136352539\n",
      "1939 \t TIME TO STEP:  0.01984095573425293\n"
     ]
    },
    {
     "name": "stderr",
     "output_type": "stream",
     "text": [
      "2020-04-20 15:52:56,631 Computing map for /data/gibson/Adrian.glb\n",
      "2020-04-20 15:53:02,231 Invalid map: /data/gibson/Adrian.glb/196\n",
      "2020-04-20 15:53:02,446 Computing map for /data/gibson/Adrian.glb\n",
      "2020-04-20 15:53:08,124 Invalid map: /data/gibson/Adrian.glb/196\n",
      "2020-04-20 15:53:08,326 Computing map for /data/gibson/Adrian.glb\n"
     ]
    },
    {
     "name": "stdout",
     "output_type": "stream",
     "text": [
      "1940 \t TIME TO RESET:  \t 17.556567668914795\n",
      "1941 \t TIME TO STEP:  0.06690287590026855\n",
      "1942 \t TIME TO STEP:  0.030347347259521484\n",
      "1943 \t TIME TO STEP:  0.019541501998901367\n",
      "1944 \t TIME TO STEP:  0.02011275291442871\n",
      "1945 \t TIME TO STEP:  0.028766632080078125\n",
      "1946 \t TIME TO STEP:  0.02001166343688965\n",
      "1947 \t TIME TO STEP:  0.02096104621887207\n",
      "1948 \t TIME TO STEP:  0.020237445831298828\n",
      "1949 \t TIME TO STEP:  0.02801203727722168\n"
     ]
    },
    {
     "name": "stderr",
     "output_type": "stream",
     "text": [
      "2020-04-20 15:53:14,439 Computing map for /data/gibson/Adrian.glb\n",
      "2020-04-20 15:53:20,018 Invalid map: /data/gibson/Adrian.glb/197\n",
      "2020-04-20 15:53:20,233 Computing map for /data/gibson/Adrian.glb\n",
      "2020-04-20 15:53:25,827 Invalid map: /data/gibson/Adrian.glb/197\n",
      "2020-04-20 15:53:26,071 Computing map for /data/gibson/Adrian.glb\n",
      "2020-04-20 15:53:31,772 Invalid map: /data/gibson/Adrian.glb/197\n",
      "2020-04-20 15:53:31,995 Computing map for /data/gibson/Adrian.glb\n"
     ]
    },
    {
     "name": "stdout",
     "output_type": "stream",
     "text": [
      "1950 \t TIME TO RESET:  \t 23.379835605621338\n",
      "1951 \t TIME TO STEP:  0.08556222915649414\n",
      "1952 \t TIME TO STEP:  0.02057933807373047\n",
      "1953 \t TIME TO STEP:  0.02084636688232422\n",
      "1954 \t TIME TO STEP:  0.02109503746032715\n",
      "1955 \t TIME TO STEP:  0.02515125274658203\n",
      "1956 \t TIME TO STEP:  0.02064204216003418\n",
      "1957 \t TIME TO STEP:  0.021299362182617188\n",
      "1958 \t TIME TO STEP:  0.020486831665039062\n",
      "1959 \t TIME TO STEP:  0.020296096801757812\n"
     ]
    },
    {
     "name": "stderr",
     "output_type": "stream",
     "text": [
      "2020-04-20 15:53:38,085 Computing map for /data/gibson/Adrian.glb\n",
      "2020-04-20 15:53:43,808 Invalid map: /data/gibson/Adrian.glb/198\n",
      "2020-04-20 15:53:44,032 Computing map for /data/gibson/Adrian.glb\n",
      "2020-04-20 15:53:49,703 Invalid map: /data/gibson/Adrian.glb/198\n",
      "2020-04-20 15:53:49,916 Computing map for /data/gibson/Adrian.glb\n"
     ]
    },
    {
     "name": "stdout",
     "output_type": "stream",
     "text": [
      "1960 \t TIME TO RESET:  \t 17.617805004119873\n",
      "1961 \t TIME TO STEP:  0.06057310104370117\n",
      "1962 \t TIME TO STEP:  0.020296812057495117\n",
      "1963 \t TIME TO STEP:  0.03740668296813965\n",
      "1964 \t TIME TO STEP:  0.05720782279968262\n",
      "1965 \t TIME TO STEP:  0.020200729370117188\n",
      "1966 \t TIME TO STEP:  0.04587125778198242\n",
      "1967 \t TIME TO STEP:  0.020487070083618164\n",
      "1968 \t TIME TO STEP:  0.020595312118530273\n",
      "1969 \t TIME TO STEP:  0.03742194175720215\n"
     ]
    },
    {
     "name": "stderr",
     "output_type": "stream",
     "text": [
      "2020-04-20 15:53:56,007 Computing map for /data/gibson/Adrian.glb\n"
     ]
    },
    {
     "name": "stdout",
     "output_type": "stream",
     "text": [
      "1970 \t TIME TO RESET:  \t 5.970384359359741\n",
      "1971 \t TIME TO STEP:  0.05311179161071777\n",
      "1972 \t TIME TO STEP:  0.05278158187866211\n",
      "1973 \t TIME TO STEP:  0.028142690658569336\n",
      "1974 \t TIME TO STEP:  0.02054619789123535\n",
      "1975 \t TIME TO STEP:  0.028009653091430664\n",
      "1976 \t TIME TO STEP:  0.021395444869995117\n",
      "1977 \t TIME TO STEP:  0.02058863639831543\n",
      "1978 \t TIME TO STEP:  0.020699024200439453\n",
      "1979 \t TIME TO STEP:  0.05313229560852051\n"
     ]
    },
    {
     "name": "stderr",
     "output_type": "stream",
     "text": [
      "2020-04-20 15:54:02,286 Computing map for /data/gibson/Adrian.glb\n"
     ]
    },
    {
     "name": "stdout",
     "output_type": "stream",
     "text": [
      "1980 \t TIME TO RESET:  \t 5.928626298904419\n",
      "1981 \t TIME TO STEP:  0.021358728408813477\n",
      "1982 \t TIME TO STEP:  0.02055811882019043\n",
      "1983 \t TIME TO STEP:  0.019777774810791016\n",
      "1984 \t TIME TO STEP:  0.020030498504638672\n",
      "1985 \t TIME TO STEP:  0.02007913589477539\n",
      "1986 \t TIME TO STEP:  0.020450115203857422\n",
      "1987 \t TIME TO STEP:  0.021874427795410156\n",
      "1988 \t TIME TO STEP:  0.02049875259399414\n",
      "1989 \t TIME TO STEP:  0.019958972930908203\n"
     ]
    },
    {
     "name": "stderr",
     "output_type": "stream",
     "text": [
      "2020-04-20 15:54:08,402 Computing map for /data/gibson/Adrian.glb\n"
     ]
    },
    {
     "name": "stdout",
     "output_type": "stream",
     "text": [
      "1990 \t TIME TO RESET:  \t 5.895344018936157\n",
      "1991 \t TIME TO STEP:  0.05535697937011719\n",
      "1992 \t TIME TO STEP:  0.06129193305969238\n",
      "1993 \t TIME TO STEP:  0.026906251907348633\n",
      "1994 \t TIME TO STEP:  0.09443163871765137\n",
      "1995 \t TIME TO STEP:  0.04315352439880371\n",
      "1996 \t TIME TO STEP:  0.05741095542907715\n",
      "1997 \t TIME TO STEP:  0.020045042037963867\n",
      "1998 \t TIME TO STEP:  0.0231935977935791\n",
      "1999 \t TIME TO STEP:  0.020714759826660156\n"
     ]
    },
    {
     "name": "stderr",
     "output_type": "stream",
     "text": [
      "2020-04-20 15:54:14,712 Computing map for /data/gibson/Adrian.glb\n",
      "2020-04-20 15:54:20,457 Invalid map: /data/gibson/Adrian.glb/202\n",
      "2020-04-20 15:54:20,691 Computing map for /data/gibson/Adrian.glb\n"
     ]
    },
    {
     "name": "stdout",
     "output_type": "stream",
     "text": [
      "2000 \t TIME TO RESET:  \t 11.925482034683228\n",
      "2001 \t TIME TO STEP:  0.05814862251281738\n",
      "2002 \t TIME TO STEP:  0.03713583946228027\n",
      "2003 \t TIME TO STEP:  0.05377602577209473\n",
      "2004 \t TIME TO STEP:  0.058125972747802734\n",
      "2005 \t TIME TO STEP:  0.029270172119140625\n",
      "2006 \t TIME TO STEP:  0.02015089988708496\n",
      "2007 \t TIME TO STEP:  0.02036905288696289\n",
      "2008 \t TIME TO STEP:  0.0202639102935791\n",
      "2009 \t TIME TO STEP:  0.02117776870727539\n"
     ]
    },
    {
     "name": "stderr",
     "output_type": "stream",
     "text": [
      "2020-04-20 15:54:26,953 Computing map for /data/gibson/Adrian.glb\n",
      "2020-04-20 15:54:32,657 Invalid map: /data/gibson/Adrian.glb/203\n",
      "2020-04-20 15:54:32,876 Computing map for /data/gibson/Adrian.glb\n"
     ]
    },
    {
     "name": "stdout",
     "output_type": "stream",
     "text": [
      "2010 \t TIME TO RESET:  \t 11.869566440582275\n",
      "2011 \t TIME TO STEP:  0.03133678436279297\n",
      "2012 \t TIME TO STEP:  0.020366907119750977\n",
      "2013 \t TIME TO STEP:  0.05944228172302246\n",
      "2014 \t TIME TO STEP:  0.0210721492767334\n",
      "2015 \t TIME TO STEP:  0.021562814712524414\n",
      "2016 \t TIME TO STEP:  0.020873308181762695\n",
      "2017 \t TIME TO STEP:  0.020235776901245117\n",
      "2018 \t TIME TO STEP:  0.02123117446899414\n",
      "2019 \t TIME TO STEP:  0.02852940559387207\n"
     ]
    },
    {
     "name": "stderr",
     "output_type": "stream",
     "text": [
      "2020-04-20 15:54:39,071 Computing map for /data/gibson/Adrian.glb\n"
     ]
    },
    {
     "name": "stdout",
     "output_type": "stream",
     "text": [
      "2020 \t TIME TO RESET:  \t 6.017706394195557\n",
      "2021 \t TIME TO STEP:  0.05627250671386719\n",
      "2022 \t TIME TO STEP:  0.02102375030517578\n",
      "2023 \t TIME TO STEP:  0.020305395126342773\n",
      "2024 \t TIME TO STEP:  0.02074408531188965\n",
      "2025 \t TIME TO STEP:  0.02090144157409668\n",
      "2026 \t TIME TO STEP:  0.02085709571838379\n",
      "2027 \t TIME TO STEP:  0.021284103393554688\n",
      "2028 \t TIME TO STEP:  0.020127296447753906\n",
      "2029 \t TIME TO STEP:  0.0414891242980957\n"
     ]
    },
    {
     "name": "stderr",
     "output_type": "stream",
     "text": [
      "2020-04-20 15:54:45,327 Computing map for /data/gibson/Adrian.glb\n",
      "2020-04-20 15:54:50,975 Invalid map: /data/gibson/Adrian.glb/205\n",
      "2020-04-20 15:54:51,192 Computing map for /data/gibson/Adrian.glb\n",
      "2020-04-20 15:54:56,787 Invalid map: /data/gibson/Adrian.glb/205\n",
      "2020-04-20 15:54:57,025 Computing map for /data/gibson/Adrian.glb\n"
     ]
    },
    {
     "name": "stdout",
     "output_type": "stream",
     "text": [
      "2030 \t TIME TO RESET:  \t 17.696027755737305\n",
      "2031 \t TIME TO STEP:  0.04585552215576172\n",
      "2032 \t TIME TO STEP:  0.05456662178039551\n",
      "2033 \t TIME TO STEP:  0.02044534683227539\n",
      "2034 \t TIME TO STEP:  0.020269155502319336\n",
      "2035 \t TIME TO STEP:  0.020627737045288086\n",
      "2036 \t TIME TO STEP:  0.020339488983154297\n",
      "2037 \t TIME TO STEP:  0.020317554473876953\n",
      "2038 \t TIME TO STEP:  0.020552635192871094\n",
      "2039 \t TIME TO STEP:  0.020660400390625\n"
     ]
    },
    {
     "name": "stderr",
     "output_type": "stream",
     "text": [
      "2020-04-20 15:55:03,302 Computing map for /data/gibson/Adrian.glb\n"
     ]
    },
    {
     "name": "stdout",
     "output_type": "stream",
     "text": [
      "2040 \t TIME TO RESET:  \t 5.9374120235443115\n",
      "2041 \t TIME TO STEP:  0.059111595153808594\n",
      "2042 \t TIME TO STEP:  0.02086496353149414\n",
      "2043 \t TIME TO STEP:  0.020350933074951172\n",
      "2044 \t TIME TO STEP:  0.02033853530883789\n",
      "2045 \t TIME TO STEP:  0.020940065383911133\n",
      "2046 \t TIME TO STEP:  0.020574331283569336\n",
      "2047 \t TIME TO STEP:  0.020647287368774414\n",
      "2048 \t TIME TO STEP:  0.02206587791442871\n",
      "2049 \t TIME TO STEP:  0.020177125930786133\n"
     ]
    },
    {
     "name": "stderr",
     "output_type": "stream",
     "text": [
      "2020-04-20 15:55:09,431 Computing map for /data/gibson/Adrian.glb\n",
      "2020-04-20 15:55:15,050 Invalid map: /data/gibson/Adrian.glb/207\n",
      "2020-04-20 15:55:15,272 Computing map for /data/gibson/Adrian.glb\n"
     ]
    },
    {
     "name": "stdout",
     "output_type": "stream",
     "text": [
      "2050 \t TIME TO RESET:  \t 11.813827276229858\n",
      "2051 \t TIME TO STEP:  0.036952972412109375\n",
      "2052 \t TIME TO STEP:  0.020067453384399414\n",
      "2053 \t TIME TO STEP:  0.020382404327392578\n",
      "2054 \t TIME TO STEP:  0.02043771743774414\n",
      "2055 \t TIME TO STEP:  0.020570755004882812\n",
      "2056 \t TIME TO STEP:  0.02035975456237793\n",
      "2057 \t TIME TO STEP:  0.02048182487487793\n",
      "2058 \t TIME TO STEP:  0.020228862762451172\n",
      "2059 \t TIME TO STEP:  0.02088022232055664\n"
     ]
    },
    {
     "name": "stderr",
     "output_type": "stream",
     "text": [
      "2020-04-20 15:55:21,437 Computing map for /data/gibson/Adrian.glb\n"
     ]
    },
    {
     "name": "stdout",
     "output_type": "stream",
     "text": [
      "2060 \t TIME TO RESET:  \t 5.9010748863220215\n",
      "2061 \t TIME TO STEP:  0.06231212615966797\n",
      "2062 \t TIME TO STEP:  0.06581401824951172\n",
      "2063 \t TIME TO STEP:  0.02010369300842285\n",
      "2064 \t TIME TO STEP:  0.019707918167114258\n",
      "2065 \t TIME TO STEP:  0.01988506317138672\n",
      "2066 \t TIME TO STEP:  0.022533655166625977\n",
      "2067 \t TIME TO STEP:  0.020578861236572266\n",
      "2068 \t TIME TO STEP:  0.019936561584472656\n",
      "2069 \t TIME TO STEP:  0.019652843475341797\n"
     ]
    },
    {
     "name": "stderr",
     "output_type": "stream",
     "text": [
      "2020-04-20 15:55:27,630 Computing map for /data/gibson/Adrian.glb\n",
      "2020-04-20 15:55:33,284 Invalid map: /data/gibson/Adrian.glb/209\n",
      "2020-04-20 15:55:33,504 Computing map for /data/gibson/Adrian.glb\n"
     ]
    },
    {
     "name": "stdout",
     "output_type": "stream",
     "text": [
      "2070 \t TIME TO RESET:  \t 11.772454261779785\n",
      "2071 \t TIME TO STEP:  0.04531407356262207\n",
      "2072 \t TIME TO STEP:  0.01931309700012207\n",
      "2073 \t TIME TO STEP:  0.019318819046020508\n",
      "2074 \t TIME TO STEP:  0.02020716667175293\n",
      "2075 \t TIME TO STEP:  0.019591331481933594\n",
      "2076 \t TIME TO STEP:  0.019457578659057617\n",
      "2077 \t TIME TO STEP:  0.019971370697021484\n",
      "2078 \t TIME TO STEP:  0.01965045928955078\n",
      "2079 \t TIME TO STEP:  0.020880460739135742\n"
     ]
    },
    {
     "name": "stderr",
     "output_type": "stream",
     "text": [
      "2020-04-20 15:55:39,635 Computing map for /data/gibson/Adrian.glb\n"
     ]
    },
    {
     "name": "stdout",
     "output_type": "stream",
     "text": [
      "2080 \t TIME TO RESET:  \t 6.040426015853882\n",
      "2081 \t TIME TO STEP:  0.03766012191772461\n",
      "2082 \t TIME TO STEP:  0.020360231399536133\n",
      "2083 \t TIME TO STEP:  0.020247459411621094\n",
      "2084 \t TIME TO STEP:  0.02080821990966797\n",
      "2085 \t TIME TO STEP:  0.020227432250976562\n",
      "2086 \t TIME TO STEP:  0.021720170974731445\n",
      "2087 \t TIME TO STEP:  0.02059626579284668\n",
      "2088 \t TIME TO STEP:  0.02048969268798828\n",
      "2089 \t TIME TO STEP:  0.033014774322509766\n"
     ]
    },
    {
     "name": "stderr",
     "output_type": "stream",
     "text": [
      "2020-04-20 15:55:45,859 Computing map for /data/gibson/Adrian.glb\n"
     ]
    },
    {
     "name": "stdout",
     "output_type": "stream",
     "text": [
      "2090 \t TIME TO RESET:  \t 5.843540906906128\n",
      "2091 \t TIME TO STEP:  0.030579328536987305\n",
      "2092 \t TIME TO STEP:  0.030704259872436523\n",
      "2093 \t TIME TO STEP:  0.0352017879486084\n",
      "2094 \t TIME TO STEP:  0.020778179168701172\n",
      "2095 \t TIME TO STEP:  0.019936323165893555\n",
      "2096 \t TIME TO STEP:  0.02141880989074707\n",
      "2097 \t TIME TO STEP:  0.020392417907714844\n",
      "2098 \t TIME TO STEP:  0.019899845123291016\n",
      "2099 \t TIME TO STEP:  0.019826173782348633\n"
     ]
    },
    {
     "name": "stderr",
     "output_type": "stream",
     "text": [
      "2020-04-20 15:55:51,917 Computing map for /data/gibson/Adrian.glb\n",
      "2020-04-20 15:55:57,487 Invalid map: /data/gibson/Adrian.glb/212\n",
      "2020-04-20 15:55:57,724 Computing map for /data/gibson/Adrian.glb\n"
     ]
    },
    {
     "name": "stdout",
     "output_type": "stream",
     "text": [
      "2100 \t TIME TO RESET:  \t 11.819761991500854\n",
      "2101 \t TIME TO STEP:  0.05150485038757324\n",
      "2102 \t TIME TO STEP:  0.045599937438964844\n",
      "2103 \t TIME TO STEP:  0.02020740509033203\n",
      "2104 \t TIME TO STEP:  0.05302882194519043\n",
      "2105 \t TIME TO STEP:  0.05281567573547363\n",
      "2106 \t TIME TO STEP:  0.04715704917907715\n",
      "2107 \t TIME TO STEP:  0.02075934410095215\n",
      "2108 \t TIME TO STEP:  0.02032637596130371\n",
      "2109 \t TIME TO STEP:  0.02021193504333496\n"
     ]
    },
    {
     "name": "stderr",
     "output_type": "stream",
     "text": [
      "2020-04-20 15:56:04,094 Computing map for /data/gibson/Adrian.glb\n",
      "2020-04-20 15:56:09,636 Invalid map: /data/gibson/Adrian.glb/213\n",
      "2020-04-20 15:56:09,858 Computing map for /data/gibson/Adrian.glb\n"
     ]
    },
    {
     "name": "stdout",
     "output_type": "stream",
     "text": [
      "2110 \t TIME TO RESET:  \t 11.813596487045288\n",
      "2111 \t TIME TO STEP:  0.05625772476196289\n",
      "2112 \t TIME TO STEP:  0.020773649215698242\n",
      "2113 \t TIME TO STEP:  0.020251989364624023\n",
      "2114 \t TIME TO STEP:  0.02014017105102539\n",
      "2115 \t TIME TO STEP:  0.020885705947875977\n",
      "2116 \t TIME TO STEP:  0.05348348617553711\n",
      "2117 \t TIME TO STEP:  0.022396087646484375\n",
      "2118 \t TIME TO STEP:  0.020124197006225586\n",
      "2119 \t TIME TO STEP:  0.03478860855102539\n"
     ]
    },
    {
     "name": "stderr",
     "output_type": "stream",
     "text": [
      "2020-04-20 15:56:16,185 Computing map for /data/gibson/Adrian.glb\n"
     ]
    },
    {
     "name": "stdout",
     "output_type": "stream",
     "text": [
      "2120 \t TIME TO RESET:  \t 5.898751974105835\n",
      "2121 \t TIME TO STEP:  0.05704498291015625\n",
      "2122 \t TIME TO STEP:  0.020522117614746094\n",
      "2123 \t TIME TO STEP:  0.019649744033813477\n",
      "2124 \t TIME TO STEP:  0.01973724365234375\n",
      "2125 \t TIME TO STEP:  0.0199432373046875\n",
      "2126 \t TIME TO STEP:  0.06923341751098633\n",
      "2127 \t TIME TO STEP:  0.029925823211669922\n",
      "2128 \t TIME TO STEP:  0.020012855529785156\n",
      "2129 \t TIME TO STEP:  0.02762317657470703\n"
     ]
    },
    {
     "name": "stderr",
     "output_type": "stream",
     "text": [
      "2020-04-20 15:56:22,340 Computing map for /data/gibson/Adrian.glb\n",
      "2020-04-20 15:56:28,021 Invalid map: /data/gibson/Adrian.glb/215\n",
      "2020-04-20 15:56:28,261 Computing map for /data/gibson/Adrian.glb\n"
     ]
    },
    {
     "name": "stdout",
     "output_type": "stream",
     "text": [
      "2130 \t TIME TO RESET:  \t 11.750651359558105\n",
      "2131 \t TIME TO STEP:  0.05562901496887207\n",
      "2132 \t TIME TO STEP:  0.03764224052429199\n",
      "2133 \t TIME TO STEP:  0.020114660263061523\n",
      "2134 \t TIME TO STEP:  0.020268678665161133\n",
      "2135 \t TIME TO STEP:  0.03129124641418457\n",
      "2136 \t TIME TO STEP:  0.02136397361755371\n",
      "2137 \t TIME TO STEP:  0.020481348037719727\n",
      "2138 \t TIME TO STEP:  0.020136356353759766\n",
      "2139 \t TIME TO STEP:  0.02019357681274414\n"
     ]
    },
    {
     "name": "stderr",
     "output_type": "stream",
     "text": [
      "2020-04-20 15:56:34,348 Computing map for /data/gibson/Adrian.glb\n",
      "2020-04-20 15:56:40,041 Invalid map: /data/gibson/Adrian.glb/216\n",
      "2020-04-20 15:56:40,263 Computing map for /data/gibson/Adrian.glb\n"
     ]
    },
    {
     "name": "stdout",
     "output_type": "stream",
     "text": [
      "2140 \t TIME TO RESET:  \t 11.87826132774353\n",
      "2141 \t TIME TO STEP:  0.0424802303314209\n",
      "2142 \t TIME TO STEP:  0.020395994186401367\n",
      "2143 \t TIME TO STEP:  0.020503520965576172\n",
      "2144 \t TIME TO STEP:  0.020137310028076172\n",
      "2145 \t TIME TO STEP:  0.021053314208984375\n",
      "2146 \t TIME TO STEP:  0.020543575286865234\n",
      "2147 \t TIME TO STEP:  0.020047903060913086\n",
      "2148 \t TIME TO STEP:  0.03625154495239258\n",
      "2149 \t TIME TO STEP:  0.036429405212402344\n"
     ]
    },
    {
     "name": "stderr",
     "output_type": "stream",
     "text": [
      "2020-04-20 15:56:46,467 Computing map for /data/gibson/Adrian.glb\n"
     ]
    },
    {
     "name": "stdout",
     "output_type": "stream",
     "text": [
      "2150 \t TIME TO RESET:  \t 5.849262237548828\n",
      "2151 \t TIME TO STEP:  0.050682783126831055\n",
      "2152 \t TIME TO STEP:  0.02045750617980957\n",
      "2153 \t TIME TO STEP:  0.02905559539794922\n",
      "2154 \t TIME TO STEP:  0.03039264678955078\n",
      "2155 \t TIME TO STEP:  0.04673957824707031\n",
      "2156 \t TIME TO STEP:  0.05344557762145996\n",
      "2157 \t TIME TO STEP:  0.02060413360595703\n",
      "2158 \t TIME TO STEP:  0.02160787582397461\n",
      "2159 \t TIME TO STEP:  0.02068495750427246\n"
     ]
    },
    {
     "name": "stderr",
     "output_type": "stream",
     "text": [
      "2020-04-20 15:56:52,609 Computing map for /data/gibson/Adrian.glb\n"
     ]
    },
    {
     "name": "stdout",
     "output_type": "stream",
     "text": [
      "2160 \t TIME TO RESET:  \t 5.916967868804932\n",
      "2161 \t TIME TO STEP:  0.05690288543701172\n",
      "2162 \t TIME TO STEP:  0.053800344467163086\n",
      "2163 \t TIME TO STEP:  0.07691478729248047\n",
      "2164 \t TIME TO STEP:  0.03687787055969238\n",
      "2165 \t TIME TO STEP:  0.0208895206451416\n",
      "2166 \t TIME TO STEP:  0.01999378204345703\n",
      "2167 \t TIME TO STEP:  0.019975662231445312\n",
      "2168 \t TIME TO STEP:  0.02019643783569336\n",
      "2169 \t TIME TO STEP:  0.01987743377685547\n"
     ]
    },
    {
     "name": "stderr",
     "output_type": "stream",
     "text": [
      "2020-04-20 15:56:58,842 Computing map for /data/gibson/Adrian.glb\n"
     ]
    },
    {
     "name": "stdout",
     "output_type": "stream",
     "text": [
      "2170 \t TIME TO RESET:  \t 5.834859132766724\n",
      "2171 \t TIME TO STEP:  0.05392026901245117\n",
      "2172 \t TIME TO STEP:  0.04607510566711426\n",
      "2173 \t TIME TO STEP:  0.019953489303588867\n",
      "2174 \t TIME TO STEP:  0.02003002166748047\n",
      "2175 \t TIME TO STEP:  0.020745038986206055\n",
      "2176 \t TIME TO STEP:  0.020115137100219727\n",
      "2177 \t TIME TO STEP:  0.020630836486816406\n",
      "2178 \t TIME TO STEP:  0.02071547508239746\n",
      "2179 \t TIME TO STEP:  0.01977992057800293\n"
     ]
    },
    {
     "name": "stderr",
     "output_type": "stream",
     "text": [
      "2020-04-20 15:57:04,923 Computing map for /data/gibson/Adrian.glb\n"
     ]
    },
    {
     "name": "stdout",
     "output_type": "stream",
     "text": [
      "2180 \t TIME TO RESET:  \t 5.773153781890869\n",
      "2181 \t TIME TO STEP:  0.03690218925476074\n",
      "2182 \t TIME TO STEP:  0.020650148391723633\n",
      "2183 \t TIME TO STEP:  0.020252704620361328\n",
      "2184 \t TIME TO STEP:  0.020570755004882812\n",
      "2185 \t TIME TO STEP:  0.021679401397705078\n",
      "2186 \t TIME TO STEP:  0.020586013793945312\n",
      "2187 \t TIME TO STEP:  0.02256011962890625\n",
      "2188 \t TIME TO STEP:  0.020195960998535156\n",
      "2189 \t TIME TO STEP:  0.030551671981811523\n"
     ]
    },
    {
     "name": "stderr",
     "output_type": "stream",
     "text": [
      "2020-04-20 15:57:10,914 Computing map for /data/gibson/Adrian.glb\n"
     ]
    },
    {
     "name": "stdout",
     "output_type": "stream",
     "text": [
      "2190 \t TIME TO RESET:  \t 5.88385272026062\n",
      "2191 \t TIME TO STEP:  0.03202652931213379\n",
      "2192 \t TIME TO STEP:  0.02154231071472168\n",
      "2193 \t TIME TO STEP:  0.021217823028564453\n",
      "2194 \t TIME TO STEP:  0.029751300811767578\n",
      "2195 \t TIME TO STEP:  0.020378589630126953\n",
      "2196 \t TIME TO STEP:  0.020154237747192383\n",
      "2197 \t TIME TO STEP:  0.02077198028564453\n",
      "2198 \t TIME TO STEP:  0.020342588424682617\n",
      "2199 \t TIME TO STEP:  0.03177285194396973\n"
     ]
    },
    {
     "name": "stderr",
     "output_type": "stream",
     "text": [
      "2020-04-20 15:57:17,024 Computing map for /data/gibson/Adrian.glb\n"
     ]
    },
    {
     "name": "stdout",
     "output_type": "stream",
     "text": [
      "2200 \t TIME TO RESET:  \t 5.925085067749023\n",
      "2201 \t TIME TO STEP:  0.07411694526672363\n",
      "2202 \t TIME TO STEP:  0.05492210388183594\n",
      "2203 \t TIME TO STEP:  0.019954681396484375\n",
      "2204 \t TIME TO STEP:  0.020162105560302734\n",
      "2205 \t TIME TO STEP:  0.020058631896972656\n",
      "2206 \t TIME TO STEP:  0.021748065948486328\n",
      "2207 \t TIME TO STEP:  0.02029132843017578\n",
      "2208 \t TIME TO STEP:  0.020402193069458008\n",
      "2209 \t TIME TO STEP:  0.020400285720825195\n"
     ]
    },
    {
     "name": "stderr",
     "output_type": "stream",
     "text": [
      "2020-04-20 15:57:23,213 Computing map for /data/gibson/Adrian.glb\n",
      "2020-04-20 15:57:28,896 Invalid map: /data/gibson/Adrian.glb/223\n",
      "2020-04-20 15:57:29,129 Computing map for /data/gibson/Adrian.glb\n",
      "2020-04-20 15:57:34,863 Invalid map: /data/gibson/Adrian.glb/223\n",
      "2020-04-20 15:57:35,084 Computing map for /data/gibson/Adrian.glb\n",
      "2020-04-20 15:57:40,689 Invalid map: /data/gibson/Adrian.glb/223\n",
      "2020-04-20 15:57:40,896 Computing map for /data/gibson/Adrian.glb\n"
     ]
    },
    {
     "name": "stdout",
     "output_type": "stream",
     "text": [
      "2210 \t TIME TO RESET:  \t 23.64776635169983\n",
      "2211 \t TIME TO STEP:  0.03847789764404297\n",
      "2212 \t TIME TO STEP:  0.021411418914794922\n",
      "2213 \t TIME TO STEP:  0.020757198333740234\n",
      "2214 \t TIME TO STEP:  0.02021169662475586\n",
      "2215 \t TIME TO STEP:  0.020684003829956055\n",
      "2216 \t TIME TO STEP:  0.020899057388305664\n",
      "2217 \t TIME TO STEP:  0.020132064819335938\n",
      "2218 \t TIME TO STEP:  0.020203351974487305\n",
      "2219 \t TIME TO STEP:  0.020129919052124023\n"
     ]
    },
    {
     "name": "stderr",
     "output_type": "stream",
     "text": [
      "2020-04-20 15:57:47,073 Computing map for /data/gibson/Adrian.glb\n"
     ]
    },
    {
     "name": "stdout",
     "output_type": "stream",
     "text": [
      "2220 \t TIME TO RESET:  \t 5.793991327285767\n",
      "2221 \t TIME TO STEP:  0.06975531578063965\n",
      "2222 \t TIME TO STEP:  0.03720426559448242\n",
      "2223 \t TIME TO STEP:  0.021491289138793945\n",
      "2224 \t TIME TO STEP:  0.032015085220336914\n",
      "2225 \t TIME TO STEP:  0.06843924522399902\n",
      "2226 \t TIME TO STEP:  0.052896976470947266\n",
      "2227 \t TIME TO STEP:  0.0610959529876709\n",
      "2228 \t TIME TO STEP:  0.05298876762390137\n",
      "2229 \t TIME TO STEP:  0.07707715034484863\n"
     ]
    },
    {
     "name": "stderr",
     "output_type": "stream",
     "text": [
      "2020-04-20 15:57:53,325 Computing map for /data/gibson/Adrian.glb\n",
      "2020-04-20 15:57:58,913 Invalid map: /data/gibson/Adrian.glb/225\n",
      "2020-04-20 15:57:59,133 Computing map for /data/gibson/Adrian.glb\n"
     ]
    },
    {
     "name": "stdout",
     "output_type": "stream",
     "text": [
      "2230 \t TIME TO RESET:  \t 11.71714973449707\n",
      "2231 \t TIME TO STEP:  0.05785417556762695\n",
      "2232 \t TIME TO STEP:  0.05669403076171875\n",
      "2233 \t TIME TO STEP:  0.038892507553100586\n",
      "2234 \t TIME TO STEP:  0.03884625434875488\n",
      "2235 \t TIME TO STEP:  0.030479907989501953\n",
      "2236 \t TIME TO STEP:  0.021004199981689453\n",
      "2237 \t TIME TO STEP:  0.02057480812072754\n",
      "2238 \t TIME TO STEP:  0.020183324813842773\n",
      "2239 \t TIME TO STEP:  0.020621776580810547\n"
     ]
    },
    {
     "name": "stderr",
     "output_type": "stream",
     "text": [
      "2020-04-20 15:58:05,365 Computing map for /data/gibson/Adrian.glb\n"
     ]
    },
    {
     "name": "stdout",
     "output_type": "stream",
     "text": [
      "2240 \t TIME TO RESET:  \t 5.879504203796387\n",
      "2241 \t TIME TO STEP:  0.04654717445373535\n",
      "2242 \t TIME TO STEP:  0.020010948181152344\n",
      "2243 \t TIME TO STEP:  0.020400285720825195\n",
      "2244 \t TIME TO STEP:  0.020416736602783203\n",
      "2245 \t TIME TO STEP:  0.020116090774536133\n",
      "2246 \t TIME TO STEP:  0.02021622657775879\n",
      "2247 \t TIME TO STEP:  0.0202484130859375\n",
      "2248 \t TIME TO STEP:  0.020343303680419922\n",
      "2249 \t TIME TO STEP:  0.02143383026123047\n"
     ]
    },
    {
     "name": "stderr",
     "output_type": "stream",
     "text": [
      "2020-04-20 15:58:11,454 Computing map for /data/gibson/Adrian.glb\n"
     ]
    },
    {
     "name": "stdout",
     "output_type": "stream",
     "text": [
      "2250 \t TIME TO RESET:  \t 5.92786431312561\n",
      "2251 \t TIME TO STEP:  0.06631135940551758\n",
      "2252 \t TIME TO STEP:  0.0655360221862793\n",
      "2253 \t TIME TO STEP:  0.0638430118560791\n",
      "2254 \t TIME TO STEP:  0.02957916259765625\n",
      "2255 \t TIME TO STEP:  0.0726170539855957\n",
      "2256 \t TIME TO STEP:  0.051409006118774414\n",
      "2257 \t TIME TO STEP:  0.0436711311340332\n",
      "2258 \t TIME TO STEP:  0.05344963073730469\n",
      "2259 \t TIME TO STEP:  0.05171370506286621\n"
     ]
    },
    {
     "name": "stderr",
     "output_type": "stream",
     "text": [
      "2020-04-20 15:58:17,882 Computing map for /data/gibson/Adrian.glb\n"
     ]
    },
    {
     "name": "stdout",
     "output_type": "stream",
     "text": [
      "2260 \t TIME TO RESET:  \t 5.853481292724609\n",
      "2261 \t TIME TO STEP:  0.023160219192504883\n",
      "2262 \t TIME TO STEP:  0.020795583724975586\n",
      "2263 \t TIME TO STEP:  0.020054101943969727\n",
      "2264 \t TIME TO STEP:  0.020314931869506836\n",
      "2265 \t TIME TO STEP:  0.019873380661010742\n",
      "2266 \t TIME TO STEP:  0.051988840103149414\n",
      "2267 \t TIME TO STEP:  0.05369210243225098\n",
      "2268 \t TIME TO STEP:  0.020083904266357422\n",
      "2269 \t TIME TO STEP:  0.020061254501342773\n"
     ]
    },
    {
     "name": "stderr",
     "output_type": "stream",
     "text": [
      "2020-04-20 15:58:23,991 Computing map for /data/gibson/Adrian.glb\n"
     ]
    },
    {
     "name": "stdout",
     "output_type": "stream",
     "text": [
      "2270 \t TIME TO RESET:  \t 5.864533185958862\n",
      "2271 \t TIME TO STEP:  0.05476689338684082\n",
      "2272 \t TIME TO STEP:  0.0677039623260498\n",
      "2273 \t TIME TO STEP:  0.03762102127075195\n",
      "2274 \t TIME TO STEP:  0.02022242546081543\n",
      "2275 \t TIME TO STEP:  0.020910024642944336\n",
      "2276 \t TIME TO STEP:  0.020415544509887695\n",
      "2277 \t TIME TO STEP:  0.020398616790771484\n",
      "2278 \t TIME TO STEP:  0.020375490188598633\n",
      "2279 \t TIME TO STEP:  0.02028942108154297\n"
     ]
    },
    {
     "name": "stderr",
     "output_type": "stream",
     "text": [
      "2020-04-20 15:58:30,135 Computing map for /data/gibson/Adrian.glb\n",
      "2020-04-20 15:58:35,848 Invalid map: /data/gibson/Adrian.glb/230\n",
      "2020-04-20 15:58:36,071 Computing map for /data/gibson/Adrian.glb\n"
     ]
    },
    {
     "name": "stdout",
     "output_type": "stream",
     "text": [
      "2280 \t TIME TO RESET:  \t 11.94440507888794\n",
      "2281 \t TIME TO STEP:  0.021172285079956055\n",
      "2282 \t TIME TO STEP:  0.020417451858520508\n",
      "2283 \t TIME TO STEP:  0.021122217178344727\n",
      "2284 \t TIME TO STEP:  0.020752429962158203\n",
      "2285 \t TIME TO STEP:  0.020348072052001953\n",
      "2286 \t TIME TO STEP:  0.04099631309509277\n",
      "2287 \t TIME TO STEP:  0.03658723831176758\n",
      "2288 \t TIME TO STEP:  0.02015376091003418\n"
     ]
    },
    {
     "name": "stderr",
     "output_type": "stream",
     "text": [
      "2020-04-20 15:58:42,286 Computing map for /data/gibson/Adrian.glb\n"
     ]
    },
    {
     "name": "stdout",
     "output_type": "stream",
     "text": [
      "2289 \t TIME TO STEP:  0.021073341369628906\n"
     ]
    },
    {
     "name": "stderr",
     "output_type": "stream",
     "text": [
      "2020-04-20 15:58:47,993 Invalid map: /data/gibson/Adrian.glb/231\n",
      "2020-04-20 15:58:48,223 Computing map for /data/gibson/Adrian.glb\n"
     ]
    },
    {
     "name": "stdout",
     "output_type": "stream",
     "text": [
      "2290 \t TIME TO RESET:  \t 11.944255590438843\n",
      "2291 \t TIME TO STEP:  0.055583953857421875\n",
      "2292 \t TIME TO STEP:  0.0667424201965332\n",
      "2293 \t TIME TO STEP:  0.028558969497680664\n",
      "2294 \t TIME TO STEP:  0.05540800094604492\n",
      "2295 \t TIME TO STEP:  0.06943655014038086\n",
      "2296 \t TIME TO STEP:  0.05164766311645508\n",
      "2297 \t TIME TO STEP:  0.043038129806518555\n",
      "2298 \t TIME TO STEP:  0.02019047737121582\n",
      "2299 \t TIME TO STEP:  0.020403623580932617\n"
     ]
    },
    {
     "name": "stderr",
     "output_type": "stream",
     "text": [
      "2020-04-20 15:58:54,660 Computing map for /data/gibson/Adrian.glb\n"
     ]
    },
    {
     "name": "stdout",
     "output_type": "stream",
     "text": [
      "2300 \t TIME TO RESET:  \t 5.971679449081421\n",
      "2301 \t TIME TO STEP:  0.030979156494140625\n",
      "2302 \t TIME TO STEP:  0.020724773406982422\n",
      "2303 \t TIME TO STEP:  0.020676851272583008\n",
      "2304 \t TIME TO STEP:  0.020514726638793945\n",
      "2305 \t TIME TO STEP:  0.02060246467590332\n",
      "2306 \t TIME TO STEP:  0.02088475227355957\n",
      "2307 \t TIME TO STEP:  0.020624160766601562\n",
      "2308 \t TIME TO STEP:  0.02065134048461914\n",
      "2309 \t TIME TO STEP:  0.02015089988708496\n"
     ]
    },
    {
     "name": "stderr",
     "output_type": "stream",
     "text": [
      "2020-04-20 15:59:00,825 Computing map for /data/gibson/Adrian.glb\n"
     ]
    },
    {
     "name": "stdout",
     "output_type": "stream",
     "text": [
      "2310 \t TIME TO RESET:  \t 5.913678169250488\n",
      "2311 \t TIME TO STEP:  0.04546022415161133\n",
      "2312 \t TIME TO STEP:  0.0558321475982666\n",
      "2313 \t TIME TO STEP:  0.05336594581604004\n",
      "2314 \t TIME TO STEP:  0.06267094612121582\n",
      "2315 \t TIME TO STEP:  0.06777358055114746\n",
      "2316 \t TIME TO STEP:  0.05478930473327637\n",
      "2317 \t TIME TO STEP:  0.06380486488342285\n",
      "2318 \t TIME TO STEP:  0.028679370880126953\n",
      "2319 \t TIME TO STEP:  0.022203922271728516\n"
     ]
    },
    {
     "name": "stderr",
     "output_type": "stream",
     "text": [
      "2020-04-20 15:59:07,202 Computing map for /data/gibson/Adrian.glb\n",
      "2020-04-20 15:59:12,870 Invalid map: /data/gibson/Adrian.glb/234\n",
      "2020-04-20 15:59:13,090 Computing map for /data/gibson/Adrian.glb\n"
     ]
    },
    {
     "name": "stdout",
     "output_type": "stream",
     "text": [
      "2320 \t TIME TO RESET:  \t 11.885093212127686\n",
      "2321 \t TIME TO STEP:  0.021286487579345703\n",
      "2322 \t TIME TO STEP:  0.0540773868560791\n",
      "2323 \t TIME TO STEP:  0.0563960075378418\n",
      "2324 \t TIME TO STEP:  0.02041792869567871\n",
      "2325 \t TIME TO STEP:  0.020226478576660156\n",
      "2326 \t TIME TO STEP:  0.020453691482543945\n",
      "2327 \t TIME TO STEP:  0.02106332778930664\n",
      "2328 \t TIME TO STEP:  0.020846128463745117\n",
      "2329 \t TIME TO STEP:  0.022099018096923828\n"
     ]
    },
    {
     "name": "stderr",
     "output_type": "stream",
     "text": [
      "2020-04-20 15:59:19,345 Computing map for /data/gibson/Adrian.glb\n"
     ]
    },
    {
     "name": "stdout",
     "output_type": "stream",
     "text": [
      "2330 \t TIME TO RESET:  \t 5.864289283752441\n",
      "2331 \t TIME TO STEP:  0.0549311637878418\n",
      "2332 \t TIME TO STEP:  0.020473718643188477\n",
      "2333 \t TIME TO STEP:  0.019901752471923828\n",
      "2334 \t TIME TO STEP:  0.020215988159179688\n",
      "2335 \t TIME TO STEP:  0.020251035690307617\n",
      "2336 \t TIME TO STEP:  0.020214319229125977\n",
      "2337 \t TIME TO STEP:  0.02004694938659668\n",
      "2338 \t TIME TO STEP:  0.021128177642822266\n",
      "2339 \t TIME TO STEP:  0.03681135177612305\n"
     ]
    },
    {
     "name": "stderr",
     "output_type": "stream",
     "text": [
      "2020-04-20 15:59:25,449 Computing map for /data/gibson/Adrian.glb\n",
      "2020-04-20 15:59:31,163 Invalid map: /data/gibson/Adrian.glb/236\n",
      "2020-04-20 15:59:31,389 Computing map for /data/gibson/Adrian.glb\n",
      "2020-04-20 15:59:36,961 Invalid map: /data/gibson/Adrian.glb/236\n",
      "2020-04-20 15:59:37,179 Computing map for /data/gibson/Adrian.glb\n"
     ]
    },
    {
     "name": "stdout",
     "output_type": "stream",
     "text": [
      "2340 \t TIME TO RESET:  \t 17.672728538513184\n",
      "2341 \t TIME TO STEP:  0.04710030555725098\n",
      "2342 \t TIME TO STEP:  0.02085256576538086\n",
      "2343 \t TIME TO STEP:  0.01970076560974121\n",
      "2344 \t TIME TO STEP:  0.02037191390991211\n",
      "2345 \t TIME TO STEP:  0.019932270050048828\n",
      "2346 \t TIME TO STEP:  0.021265506744384766\n",
      "2347 \t TIME TO STEP:  0.020780563354492188\n",
      "2348 \t TIME TO STEP:  0.020184040069580078\n",
      "2349 \t TIME TO STEP:  0.021136760711669922\n"
     ]
    },
    {
     "name": "stderr",
     "output_type": "stream",
     "text": [
      "2020-04-20 15:59:43,328 Computing map for /data/gibson/Adrian.glb\n"
     ]
    },
    {
     "name": "stdout",
     "output_type": "stream",
     "text": [
      "2350 \t TIME TO RESET:  \t 5.91414213180542\n",
      "2351 \t TIME TO STEP:  0.052132606506347656\n",
      "2352 \t TIME TO STEP:  0.05369424819946289\n",
      "2353 \t TIME TO STEP:  0.05702090263366699\n",
      "2354 \t TIME TO STEP:  0.019826889038085938\n",
      "2355 \t TIME TO STEP:  0.0194399356842041\n",
      "2356 \t TIME TO STEP:  0.02001214027404785\n",
      "2357 \t TIME TO STEP:  0.01961827278137207\n",
      "2358 \t TIME TO STEP:  0.019850492477416992\n",
      "2359 \t TIME TO STEP:  0.026832103729248047\n"
     ]
    },
    {
     "name": "stderr",
     "output_type": "stream",
     "text": [
      "2020-04-20 15:59:49,523 Computing map for /data/gibson/Adrian.glb\n"
     ]
    },
    {
     "name": "stdout",
     "output_type": "stream",
     "text": [
      "2360 \t TIME TO RESET:  \t 6.009131193161011\n",
      "2361 \t TIME TO STEP:  0.02882099151611328\n",
      "2362 \t TIME TO STEP:  0.04561877250671387\n",
      "2363 \t TIME TO STEP:  0.06689167022705078\n",
      "2364 \t TIME TO STEP:  0.028741836547851562\n",
      "2365 \t TIME TO STEP:  0.02839064598083496\n",
      "2366 \t TIME TO STEP:  0.02024364471435547\n",
      "2367 \t TIME TO STEP:  0.022154808044433594\n",
      "2368 \t TIME TO STEP:  0.02055525779724121\n",
      "2369 \t TIME TO STEP:  0.020075082778930664\n"
     ]
    },
    {
     "name": "stderr",
     "output_type": "stream",
     "text": [
      "2020-04-20 15:59:55,826 Computing map for /data/gibson/Adrian.glb\n",
      "2020-04-20 16:00:01,346 Invalid map: /data/gibson/Adrian.glb/239\n",
      "2020-04-20 16:00:01,570 Computing map for /data/gibson/Adrian.glb\n"
     ]
    },
    {
     "name": "stdout",
     "output_type": "stream",
     "text": [
      "2370 \t TIME TO RESET:  \t 11.64748215675354\n",
      "2371 \t TIME TO STEP:  0.06660079956054688\n",
      "2372 \t TIME TO STEP:  0.027040481567382812\n",
      "2373 \t TIME TO STEP:  0.01956915855407715\n",
      "2374 \t TIME TO STEP:  0.019778013229370117\n",
      "2375 \t TIME TO STEP:  0.019619464874267578\n",
      "2376 \t TIME TO STEP:  0.02027416229248047\n",
      "2377 \t TIME TO STEP:  0.019755125045776367\n",
      "2378 \t TIME TO STEP:  0.02199077606201172\n",
      "2379 \t TIME TO STEP:  0.020264387130737305\n"
     ]
    },
    {
     "name": "stderr",
     "output_type": "stream",
     "text": [
      "2020-04-20 16:00:07,709 Computing map for /data/gibson/Adrian.glb\n",
      "2020-04-20 16:00:13,295 Invalid map: /data/gibson/Adrian.glb/240\n",
      "2020-04-20 16:00:13,525 Computing map for /data/gibson/Adrian.glb\n"
     ]
    },
    {
     "name": "stdout",
     "output_type": "stream",
     "text": [
      "2380 \t TIME TO RESET:  \t 11.75787353515625\n",
      "2381 \t TIME TO STEP:  0.07138180732727051\n",
      "2382 \t TIME TO STEP:  0.05286097526550293\n",
      "2383 \t TIME TO STEP:  0.027530670166015625\n",
      "2384 \t TIME TO STEP:  0.019844770431518555\n",
      "2385 \t TIME TO STEP:  0.01950836181640625\n",
      "2386 \t TIME TO STEP:  0.020377397537231445\n",
      "2387 \t TIME TO STEP:  0.019707202911376953\n",
      "2388 \t TIME TO STEP:  0.020270824432373047\n",
      "2389 \t TIME TO STEP:  0.020066499710083008\n"
     ]
    },
    {
     "name": "stderr",
     "output_type": "stream",
     "text": [
      "2020-04-20 16:00:19,724 Computing map for /data/gibson/Adrian.glb\n"
     ]
    },
    {
     "name": "stdout",
     "output_type": "stream",
     "text": [
      "2390 \t TIME TO RESET:  \t 5.821094751358032\n",
      "2391 \t TIME TO STEP:  0.05232572555541992\n",
      "2392 \t TIME TO STEP:  0.056061744689941406\n",
      "2393 \t TIME TO STEP:  0.053302764892578125\n",
      "2394 \t TIME TO STEP:  0.020404338836669922\n",
      "2395 \t TIME TO STEP:  0.07847881317138672\n",
      "2396 \t TIME TO STEP:  0.07514286041259766\n",
      "2397 \t TIME TO STEP:  0.06709051132202148\n",
      "2398 \t TIME TO STEP:  0.06188154220581055\n",
      "2399 \t TIME TO STEP:  0.026471614837646484\n"
     ]
    },
    {
     "name": "stderr",
     "output_type": "stream",
     "text": [
      "2020-04-20 16:00:26,092 Computing map for /data/gibson/Adrian.glb\n",
      "2020-04-20 16:00:31,696 Invalid map: /data/gibson/Adrian.glb/242\n",
      "2020-04-20 16:00:31,916 Computing map for /data/gibson/Adrian.glb\n"
     ]
    },
    {
     "name": "stdout",
     "output_type": "stream",
     "text": [
      "2400 \t TIME TO RESET:  \t 11.852951049804688\n",
      "2401 \t TIME TO STEP:  0.06077122688293457\n",
      "2402 \t TIME TO STEP:  0.06857872009277344\n",
      "2403 \t TIME TO STEP:  0.05008506774902344\n",
      "2404 \t TIME TO STEP:  0.05411815643310547\n",
      "2405 \t TIME TO STEP:  0.052669525146484375\n",
      "2406 \t TIME TO STEP:  0.029888629913330078\n",
      "2407 \t TIME TO STEP:  0.02048802375793457\n",
      "2408 \t TIME TO STEP:  0.02082657814025879\n",
      "2409 \t TIME TO STEP:  0.021628141403198242\n"
     ]
    },
    {
     "name": "stderr",
     "output_type": "stream",
     "text": [
      "2020-04-20 16:00:38,302 Computing map for /data/gibson/Adrian.glb\n",
      "2020-04-20 16:00:43,982 Invalid map: /data/gibson/Adrian.glb/243\n",
      "2020-04-20 16:00:44,202 Computing map for /data/gibson/Adrian.glb\n"
     ]
    },
    {
     "name": "stdout",
     "output_type": "stream",
     "text": [
      "2410 \t TIME TO RESET:  \t 11.723645687103271\n",
      "2411 \t TIME TO STEP:  0.022576570510864258\n",
      "2412 \t TIME TO STEP:  0.03846120834350586\n",
      "2413 \t TIME TO STEP:  0.071319580078125\n",
      "2414 \t TIME TO STEP:  0.02604365348815918\n",
      "2415 \t TIME TO STEP:  0.05879998207092285\n",
      "2416 \t TIME TO STEP:  0.020972251892089844\n",
      "2417 \t TIME TO STEP:  0.020470857620239258\n",
      "2418 \t TIME TO STEP:  0.02081465721130371\n",
      "2419 \t TIME TO STEP:  0.020195722579956055\n"
     ]
    },
    {
     "name": "stderr",
     "output_type": "stream",
     "text": [
      "2020-04-20 16:00:50,335 Computing map for /data/gibson/Adrian.glb\n"
     ]
    },
    {
     "name": "stdout",
     "output_type": "stream",
     "text": [
      "2420 \t TIME TO RESET:  \t 6.045203685760498\n",
      "2421 \t TIME TO STEP:  0.055998802185058594\n",
      "2422 \t TIME TO STEP:  0.038413047790527344\n",
      "2423 \t TIME TO STEP:  0.019507884979248047\n",
      "2424 \t TIME TO STEP:  0.020724773406982422\n",
      "2425 \t TIME TO STEP:  0.03724932670593262\n",
      "2426 \t TIME TO STEP:  0.0354461669921875\n",
      "2427 \t TIME TO STEP:  0.020282745361328125\n",
      "2428 \t TIME TO STEP:  0.019200563430786133\n",
      "2429 \t TIME TO STEP:  0.019852399826049805\n"
     ]
    },
    {
     "name": "stderr",
     "output_type": "stream",
     "text": [
      "2020-04-20 16:00:56,625 Computing map for /data/gibson/Adrian.glb\n"
     ]
    },
    {
     "name": "stdout",
     "output_type": "stream",
     "text": [
      "2430 \t TIME TO RESET:  \t 6.015094757080078\n",
      "2431 \t TIME TO STEP:  0.05665087699890137\n",
      "2432 \t TIME TO STEP:  0.029391765594482422\n",
      "2433 \t TIME TO STEP:  0.019959688186645508\n",
      "2434 \t TIME TO STEP:  0.020607709884643555\n",
      "2435 \t TIME TO STEP:  0.020808696746826172\n",
      "2436 \t TIME TO STEP:  0.021996259689331055\n",
      "2437 \t TIME TO STEP:  0.020470857620239258\n",
      "2438 \t TIME TO STEP:  0.020886898040771484\n",
      "2439 \t TIME TO STEP:  0.04615330696105957\n"
     ]
    },
    {
     "name": "stderr",
     "output_type": "stream",
     "text": [
      "2020-04-20 16:01:02,902 Computing map for /data/gibson/Adrian.glb\n",
      "2020-04-20 16:01:08,596 Invalid map: /data/gibson/Adrian.glb/246\n",
      "2020-04-20 16:01:08,811 Computing map for /data/gibson/Adrian.glb\n"
     ]
    },
    {
     "name": "stdout",
     "output_type": "stream",
     "text": [
      "2440 \t TIME TO RESET:  \t 11.813132047653198\n",
      "2441 \t TIME TO STEP:  0.025531530380249023\n",
      "2442 \t TIME TO STEP:  0.02223801612854004\n",
      "2443 \t TIME TO STEP:  0.020216703414916992\n",
      "2444 \t TIME TO STEP:  0.020404338836669922\n",
      "2445 \t TIME TO STEP:  0.0315241813659668\n",
      "2446 \t TIME TO STEP:  0.02137303352355957\n",
      "2447 \t TIME TO STEP:  0.02033400535583496\n",
      "2448 \t TIME TO STEP:  0.02027726173400879\n",
      "2449 \t TIME TO STEP:  0.02078080177307129\n"
     ]
    },
    {
     "name": "stderr",
     "output_type": "stream",
     "text": [
      "2020-04-20 16:01:14,921 Computing map for /data/gibson/Adrian.glb\n",
      "2020-04-20 16:01:20,535 Invalid map: /data/gibson/Adrian.glb/247\n",
      "2020-04-20 16:01:20,754 Computing map for /data/gibson/Adrian.glb\n"
     ]
    },
    {
     "name": "stdout",
     "output_type": "stream",
     "text": [
      "2450 \t TIME TO RESET:  \t 11.884403467178345\n",
      "2451 \t TIME TO STEP:  0.055582523345947266\n",
      "2452 \t TIME TO STEP:  0.02198958396911621\n",
      "2453 \t TIME TO STEP:  0.02026987075805664\n",
      "2454 \t TIME TO STEP:  0.02042222023010254\n",
      "2455 \t TIME TO STEP:  0.02036881446838379\n",
      "2456 \t TIME TO STEP:  0.020420312881469727\n",
      "2457 \t TIME TO STEP:  0.020501136779785156\n",
      "2458 \t TIME TO STEP:  0.02039623260498047\n",
      "2459 \t TIME TO STEP:  0.020864486694335938\n"
     ]
    },
    {
     "name": "stderr",
     "output_type": "stream",
     "text": [
      "2020-04-20 16:01:27,032 Computing map for /data/gibson/Adrian.glb\n",
      "2020-04-20 16:01:32,616 Invalid map: /data/gibson/Adrian.glb/248\n",
      "2020-04-20 16:01:32,866 Computing map for /data/gibson/Adrian.glb\n"
     ]
    },
    {
     "name": "stdout",
     "output_type": "stream",
     "text": [
      "2460 \t TIME TO RESET:  \t 11.760728359222412\n",
      "2461 \t TIME TO STEP:  0.05288219451904297\n",
      "2462 \t TIME TO STEP:  0.06760334968566895\n",
      "2463 \t TIME TO STEP:  0.051226139068603516\n",
      "2464 \t TIME TO STEP:  0.05403423309326172\n",
      "2465 \t TIME TO STEP:  0.02064204216003418\n",
      "2466 \t TIME TO STEP:  0.04995250701904297\n",
      "2467 \t TIME TO STEP:  0.024084806442260742\n",
      "2468 \t TIME TO STEP:  0.03592658042907715\n",
      "2469 \t TIME TO STEP:  0.03627586364746094\n"
     ]
    },
    {
     "name": "stderr",
     "output_type": "stream",
     "text": [
      "2020-04-20 16:01:39,166 Computing map for /data/gibson/Adrian.glb\n"
     ]
    },
    {
     "name": "stdout",
     "output_type": "stream",
     "text": [
      "2470 \t TIME TO RESET:  \t 5.785910129547119\n",
      "2471 \t TIME TO STEP:  0.054522037506103516\n",
      "2472 \t TIME TO STEP:  0.06627702713012695\n",
      "2473 \t TIME TO STEP:  0.046338796615600586\n",
      "2474 \t TIME TO STEP:  0.037653446197509766\n",
      "2475 \t TIME TO STEP:  0.020650863647460938\n",
      "2476 \t TIME TO STEP:  0.020565271377563477\n",
      "2477 \t TIME TO STEP:  0.02021956443786621\n",
      "2478 \t TIME TO STEP:  0.020134687423706055\n",
      "2479 \t TIME TO STEP:  0.044904470443725586\n"
     ]
    },
    {
     "name": "stderr",
     "output_type": "stream",
     "text": [
      "2020-04-20 16:01:45,299 Computing map for /data/gibson/Adrian.glb\n",
      "2020-04-20 16:01:50,831 Invalid map: /data/gibson/Adrian.glb/250\n",
      "2020-04-20 16:01:51,055 Computing map for /data/gibson/Adrian.glb\n",
      "2020-04-20 16:01:56,708 Invalid map: /data/gibson/Adrian.glb/250\n",
      "2020-04-20 16:01:56,925 Computing map for /data/gibson/Adrian.glb\n",
      "2020-04-20 16:02:02,513 Invalid map: /data/gibson/Adrian.glb/250\n",
      "2020-04-20 16:02:02,722 Computing map for /data/gibson/Adrian.glb\n"
     ]
    },
    {
     "name": "stdout",
     "output_type": "stream",
     "text": [
      "2480 \t TIME TO RESET:  \t 23.333516597747803\n",
      "2481 \t TIME TO STEP:  0.08309245109558105\n",
      "2482 \t TIME TO STEP:  0.05527472496032715\n",
      "2483 \t TIME TO STEP:  0.06457114219665527\n",
      "2484 \t TIME TO STEP:  0.05087685585021973\n",
      "2485 \t TIME TO STEP:  0.048134803771972656\n",
      "2486 \t TIME TO STEP:  0.02036309242248535\n",
      "2487 \t TIME TO STEP:  0.02056288719177246\n",
      "2488 \t TIME TO STEP:  0.02043318748474121\n",
      "2489 \t TIME TO STEP:  0.020913124084472656\n"
     ]
    },
    {
     "name": "stderr",
     "output_type": "stream",
     "text": [
      "2020-04-20 16:02:09,026 Computing map for /data/gibson/Adrian.glb\n"
     ]
    },
    {
     "name": "stdout",
     "output_type": "stream",
     "text": [
      "2490 \t TIME TO RESET:  \t 6.013361215591431\n",
      "2491 \t TIME TO STEP:  0.022121191024780273\n",
      "2492 \t TIME TO STEP:  0.02079319953918457\n",
      "2493 \t TIME TO STEP:  0.020290613174438477\n",
      "2494 \t TIME TO STEP:  0.020716190338134766\n",
      "2495 \t TIME TO STEP:  0.020926713943481445\n",
      "2496 \t TIME TO STEP:  0.020541906356811523\n",
      "2497 \t TIME TO STEP:  0.02021169662475586\n",
      "2498 \t TIME TO STEP:  0.020216941833496094\n",
      "2499 \t TIME TO STEP:  0.020021677017211914\n"
     ]
    },
    {
     "name": "stderr",
     "output_type": "stream",
     "text": [
      "2020-04-20 16:02:15,215 Computing map for /data/gibson/Adrian.glb\n"
     ]
    },
    {
     "name": "stdout",
     "output_type": "stream",
     "text": [
      "2500 \t TIME TO RESET:  \t 5.894967555999756\n",
      "2501 \t TIME TO STEP:  0.028789043426513672\n",
      "2502 \t TIME TO STEP:  0.02879500389099121\n",
      "2503 \t TIME TO STEP:  0.03021407127380371\n",
      "2504 \t TIME TO STEP:  0.0373842716217041\n",
      "2505 \t TIME TO STEP:  0.030636310577392578\n",
      "2506 \t TIME TO STEP:  0.053214311599731445\n",
      "2507 \t TIME TO STEP:  0.03772592544555664\n",
      "2508 \t TIME TO STEP:  0.02102971076965332\n",
      "2509 \t TIME TO STEP:  0.021001100540161133\n"
     ]
    },
    {
     "name": "stderr",
     "output_type": "stream",
     "text": [
      "2020-04-20 16:02:21,409 Computing map for /data/gibson/Adrian.glb\n",
      "2020-04-20 16:02:26,962 Invalid map: /data/gibson/Adrian.glb/253\n",
      "2020-04-20 16:02:27,172 Computing map for /data/gibson/Adrian.glb\n"
     ]
    },
    {
     "name": "stdout",
     "output_type": "stream",
     "text": [
      "2510 \t TIME TO RESET:  \t 11.523468017578125\n",
      "2511 \t TIME TO STEP:  0.02272343635559082\n",
      "2512 \t TIME TO STEP:  0.029325485229492188\n",
      "2513 \t TIME TO STEP:  0.020926475524902344\n",
      "2514 \t TIME TO STEP:  0.02090597152709961\n",
      "2515 \t TIME TO STEP:  0.056136369705200195\n",
      "2516 \t TIME TO STEP:  0.030296802520751953\n",
      "2517 \t TIME TO STEP:  0.09233450889587402\n",
      "2518 \t TIME TO STEP:  0.0379786491394043\n",
      "2519 \t TIME TO STEP:  0.03653717041015625\n"
     ]
    },
    {
     "name": "stderr",
     "output_type": "stream",
     "text": [
      "2020-04-20 16:02:33,281 Computing map for /data/gibson/Adrian.glb\n"
     ]
    },
    {
     "name": "stdout",
     "output_type": "stream",
     "text": [
      "2520 \t TIME TO RESET:  \t 5.937115669250488\n",
      "2521 \t TIME TO STEP:  0.03191661834716797\n",
      "2522 \t TIME TO STEP:  0.020301103591918945\n",
      "2523 \t TIME TO STEP:  0.020467519760131836\n",
      "2524 \t TIME TO STEP:  0.020324230194091797\n",
      "2525 \t TIME TO STEP:  0.05324697494506836\n",
      "2526 \t TIME TO STEP:  0.04446673393249512\n",
      "2527 \t TIME TO STEP:  0.05413532257080078\n",
      "2528 \t TIME TO STEP:  0.02009129524230957\n",
      "2529 \t TIME TO STEP:  0.020697355270385742\n"
     ]
    },
    {
     "name": "stderr",
     "output_type": "stream",
     "text": [
      "2020-04-20 16:02:39,504 Computing map for /data/gibson/Adrian.glb\n",
      "2020-04-20 16:02:45,285 Invalid map: /data/gibson/Adrian.glb/255\n",
      "2020-04-20 16:02:45,509 Computing map for /data/gibson/Adrian.glb\n",
      "2020-04-20 16:02:51,304 Invalid map: /data/gibson/Adrian.glb/255\n",
      "2020-04-20 16:02:51,526 Computing map for /data/gibson/Adrian.glb\n"
     ]
    },
    {
     "name": "stdout",
     "output_type": "stream",
     "text": [
      "2530 \t TIME TO RESET:  \t 17.991978406906128\n",
      "2531 \t TIME TO STEP:  0.08761072158813477\n",
      "2532 \t TIME TO STEP:  0.043172597885131836\n",
      "2533 \t TIME TO STEP:  0.021330595016479492\n",
      "2534 \t TIME TO STEP:  0.02026987075805664\n",
      "2535 \t TIME TO STEP:  0.0204617977142334\n",
      "2536 \t TIME TO STEP:  0.022249937057495117\n",
      "2537 \t TIME TO STEP:  0.020225048065185547\n",
      "2538 \t TIME TO STEP:  0.028251171112060547\n",
      "2539 \t TIME TO STEP:  0.019921541213989258\n"
     ]
    },
    {
     "name": "stderr",
     "output_type": "stream",
     "text": [
      "2020-04-20 16:02:57,786 Computing map for /data/gibson/Adrian.glb\n"
     ]
    },
    {
     "name": "stdout",
     "output_type": "stream",
     "text": [
      "2540 \t TIME TO RESET:  \t 5.864229679107666\n",
      "2541 \t TIME TO STEP:  0.05434608459472656\n",
      "2542 \t TIME TO STEP:  0.06247258186340332\n",
      "2543 \t TIME TO STEP:  0.0649862289428711\n",
      "2544 \t TIME TO STEP:  0.06609463691711426\n",
      "2545 \t TIME TO STEP:  0.03648972511291504\n",
      "2546 \t TIME TO STEP:  0.01975083351135254\n",
      "2547 \t TIME TO STEP:  0.019239187240600586\n",
      "2548 \t TIME TO STEP:  0.019342422485351562\n",
      "2549 \t TIME TO STEP:  0.01977825164794922\n"
     ]
    },
    {
     "name": "stderr",
     "output_type": "stream",
     "text": [
      "2020-04-20 16:03:04,017 Computing map for /data/gibson/Adrian.glb\n"
     ]
    },
    {
     "name": "stdout",
     "output_type": "stream",
     "text": [
      "2550 \t TIME TO RESET:  \t 5.815978527069092\n",
      "2551 \t TIME TO STEP:  0.04944658279418945\n",
      "2552 \t TIME TO STEP:  0.022271394729614258\n",
      "2553 \t TIME TO STEP:  0.020372867584228516\n",
      "2554 \t TIME TO STEP:  0.02019643783569336\n",
      "2555 \t TIME TO STEP:  0.020589590072631836\n",
      "2556 \t TIME TO STEP:  0.020496129989624023\n",
      "2557 \t TIME TO STEP:  0.02017354965209961\n",
      "2558 \t TIME TO STEP:  0.020511388778686523\n",
      "2559 \t TIME TO STEP:  0.021847009658813477\n"
     ]
    },
    {
     "name": "stderr",
     "output_type": "stream",
     "text": [
      "2020-04-20 16:03:10,054 Computing map for /data/gibson/Adrian.glb\n"
     ]
    },
    {
     "name": "stdout",
     "output_type": "stream",
     "text": [
      "2560 \t TIME TO RESET:  \t 6.05928897857666\n",
      "2561 \t TIME TO STEP:  0.045491933822631836\n",
      "2562 \t TIME TO STEP:  0.020094633102416992\n",
      "2563 \t TIME TO STEP:  0.020743370056152344\n",
      "2564 \t TIME TO STEP:  0.020532846450805664\n",
      "2565 \t TIME TO STEP:  0.03427696228027344\n",
      "2566 \t TIME TO STEP:  0.020589828491210938\n",
      "2567 \t TIME TO STEP:  0.020044326782226562\n",
      "2568 \t TIME TO STEP:  0.029141902923583984\n",
      "2569 \t TIME TO STEP:  0.019646167755126953\n"
     ]
    },
    {
     "name": "stderr",
     "output_type": "stream",
     "text": [
      "2020-04-20 16:03:16,326 Computing map for /data/gibson/Adrian.glb\n"
     ]
    },
    {
     "name": "stdout",
     "output_type": "stream",
     "text": [
      "2570 \t TIME TO RESET:  \t 5.9659013748168945\n",
      "2571 \t TIME TO STEP:  0.05755734443664551\n",
      "2572 \t TIME TO STEP:  0.020199298858642578\n",
      "2573 \t TIME TO STEP:  0.020842790603637695\n",
      "2574 \t TIME TO STEP:  0.020296573638916016\n",
      "2575 \t TIME TO STEP:  0.0203859806060791\n",
      "2576 \t TIME TO STEP:  0.02013397216796875\n",
      "2577 \t TIME TO STEP:  0.020138025283813477\n",
      "2578 \t TIME TO STEP:  0.02064037322998047\n",
      "2579 \t TIME TO STEP:  0.02160501480102539\n"
     ]
    },
    {
     "name": "stderr",
     "output_type": "stream",
     "text": [
      "2020-04-20 16:03:22,527 Computing map for /data/gibson/Adrian.glb\n"
     ]
    },
    {
     "name": "stdout",
     "output_type": "stream",
     "text": [
      "2580 \t TIME TO RESET:  \t 5.925102949142456\n",
      "2581 \t TIME TO STEP:  0.06861424446105957\n",
      "2582 \t TIME TO STEP:  0.046132564544677734\n",
      "2583 \t TIME TO STEP:  0.019954919815063477\n",
      "2584 \t TIME TO STEP:  0.020284652709960938\n",
      "2585 \t TIME TO STEP:  0.020349740982055664\n",
      "2586 \t TIME TO STEP:  0.02057623863220215\n",
      "2587 \t TIME TO STEP:  0.020520448684692383\n",
      "2588 \t TIME TO STEP:  0.020388364791870117\n",
      "2589 \t TIME TO STEP:  0.020269155502319336\n"
     ]
    },
    {
     "name": "stderr",
     "output_type": "stream",
     "text": [
      "2020-04-20 16:03:28,703 Computing map for /data/gibson/Adrian.glb\n"
     ]
    },
    {
     "name": "stdout",
     "output_type": "stream",
     "text": [
      "2590 \t TIME TO RESET:  \t 5.901177406311035\n",
      "2591 \t TIME TO STEP:  0.056596994400024414\n",
      "2592 \t TIME TO STEP:  0.04499220848083496\n",
      "2593 \t TIME TO STEP:  0.05789351463317871\n",
      "2594 \t TIME TO STEP:  0.05016279220581055\n",
      "2595 \t TIME TO STEP:  0.05418205261230469\n",
      "2596 \t TIME TO STEP:  0.02076554298400879\n",
      "2597 \t TIME TO STEP:  0.02051997184753418\n",
      "2598 \t TIME TO STEP:  0.020936250686645508\n",
      "2599 \t TIME TO STEP:  0.020708084106445312\n"
     ]
    },
    {
     "name": "stderr",
     "output_type": "stream",
     "text": [
      "2020-04-20 16:03:34,979 Computing map for /data/gibson/Adrian.glb\n"
     ]
    },
    {
     "name": "stdout",
     "output_type": "stream",
     "text": [
      "2600 \t TIME TO RESET:  \t 5.9629199504852295\n",
      "2601 \t TIME TO STEP:  0.03801989555358887\n",
      "2602 \t TIME TO STEP:  0.029036760330200195\n",
      "2603 \t TIME TO STEP:  0.019939422607421875\n",
      "2604 \t TIME TO STEP:  0.020177125930786133\n",
      "2605 \t TIME TO STEP:  0.020339250564575195\n",
      "2606 \t TIME TO STEP:  0.028350830078125\n",
      "2607 \t TIME TO STEP:  0.02005767822265625\n",
      "2608 \t TIME TO STEP:  0.020036697387695312\n",
      "2609 \t TIME TO STEP:  0.020705223083496094\n"
     ]
    },
    {
     "name": "stderr",
     "output_type": "stream",
     "text": [
      "2020-04-20 16:03:41,135 Computing map for /data/gibson/Adrian.glb\n"
     ]
    },
    {
     "name": "stdout",
     "output_type": "stream",
     "text": [
      "2610 \t TIME TO RESET:  \t 5.939931392669678\n",
      "2611 \t TIME TO STEP:  0.0639028549194336\n",
      "2612 \t TIME TO STEP:  0.05289173126220703\n",
      "2613 \t TIME TO STEP:  0.020961523056030273\n",
      "2614 \t TIME TO STEP:  0.05118846893310547\n",
      "2615 \t TIME TO STEP:  0.021403789520263672\n",
      "2616 \t TIME TO STEP:  0.05418848991394043\n",
      "2617 \t TIME TO STEP:  0.07166838645935059\n",
      "2618 \t TIME TO STEP:  0.03875565528869629\n",
      "2619 \t TIME TO STEP:  0.06589651107788086\n"
     ]
    },
    {
     "name": "stderr",
     "output_type": "stream",
     "text": [
      "2020-04-20 16:03:47,551 Computing map for /data/gibson/Adrian.glb\n"
     ]
    },
    {
     "name": "stdout",
     "output_type": "stream",
     "text": [
      "2620 \t TIME TO RESET:  \t 6.058854818344116\n",
      "2621 \t TIME TO STEP:  0.04180264472961426\n",
      "2622 \t TIME TO STEP:  0.06771445274353027\n",
      "2623 \t TIME TO STEP:  0.04660916328430176\n",
      "2624 \t TIME TO STEP:  0.020122051239013672\n",
      "2625 \t TIME TO STEP:  0.036936283111572266\n",
      "2626 \t TIME TO STEP:  0.06438803672790527\n",
      "2627 \t TIME TO STEP:  0.06147909164428711\n",
      "2628 \t TIME TO STEP:  0.021171092987060547\n",
      "2629 \t TIME TO STEP:  0.020426034927368164\n"
     ]
    },
    {
     "name": "stderr",
     "output_type": "stream",
     "text": [
      "2020-04-20 16:03:53,974 Computing map for /data/gibson/Adrian.glb\n"
     ]
    },
    {
     "name": "stdout",
     "output_type": "stream",
     "text": [
      "2630 \t TIME TO RESET:  \t 5.880801677703857\n",
      "2631 \t TIME TO STEP:  0.051230430603027344\n",
      "2632 \t TIME TO STEP:  0.05060553550720215\n",
      "2633 \t TIME TO STEP:  0.0224306583404541\n",
      "2634 \t TIME TO STEP:  0.050539255142211914\n",
      "2635 \t TIME TO STEP:  0.02883291244506836\n",
      "2636 \t TIME TO STEP:  0.019711017608642578\n",
      "2637 \t TIME TO STEP:  0.05013775825500488\n",
      "2638 \t TIME TO STEP:  0.020305871963500977\n",
      "2639 \t TIME TO STEP:  0.019742250442504883\n"
     ]
    },
    {
     "name": "stderr",
     "output_type": "stream",
     "text": [
      "2020-04-20 16:04:00,143 Computing map for /data/gibson/Adrian.glb\n"
     ]
    },
    {
     "name": "stdout",
     "output_type": "stream",
     "text": [
      "2640 \t TIME TO RESET:  \t 5.858041286468506\n",
      "2641 \t TIME TO STEP:  0.038825035095214844\n",
      "2642 \t TIME TO STEP:  0.020421504974365234\n",
      "2643 \t TIME TO STEP:  0.02018451690673828\n",
      "2644 \t TIME TO STEP:  0.020642757415771484\n",
      "2645 \t TIME TO STEP:  0.020412683486938477\n",
      "2646 \t TIME TO STEP:  0.03782248497009277\n",
      "2647 \t TIME TO STEP:  0.020269393920898438\n",
      "2648 \t TIME TO STEP:  0.020080089569091797\n",
      "2649 \t TIME TO STEP:  0.020725011825561523\n"
     ]
    },
    {
     "name": "stderr",
     "output_type": "stream",
     "text": [
      "2020-04-20 16:04:06,232 Computing map for /data/gibson/Adrian.glb\n",
      "2020-04-20 16:04:11,885 Invalid map: /data/gibson/Adrian.glb/267\n",
      "2020-04-20 16:04:12,106 Computing map for /data/gibson/Adrian.glb\n"
     ]
    },
    {
     "name": "stdout",
     "output_type": "stream",
     "text": [
      "2650 \t TIME TO RESET:  \t 11.60975456237793\n",
      "2651 \t TIME TO STEP:  0.020879507064819336\n",
      "2652 \t TIME TO STEP:  0.02139115333557129\n",
      "2653 \t TIME TO STEP:  0.0212709903717041\n",
      "2654 \t TIME TO STEP:  0.021134614944458008\n",
      "2655 \t TIME TO STEP:  0.02073812484741211\n",
      "2656 \t TIME TO STEP:  0.02053976058959961\n",
      "2657 \t TIME TO STEP:  0.02065587043762207\n",
      "2658 \t TIME TO STEP:  0.020655155181884766\n",
      "2659 \t TIME TO STEP:  0.020507335662841797\n"
     ]
    },
    {
     "name": "stderr",
     "output_type": "stream",
     "text": [
      "2020-04-20 16:04:18,039 Computing map for /data/gibson/Adrian.glb\n"
     ]
    },
    {
     "name": "stdout",
     "output_type": "stream",
     "text": [
      "2660 \t TIME TO RESET:  \t 5.861334562301636\n",
      "2661 \t TIME TO STEP:  0.06764340400695801\n",
      "2662 \t TIME TO STEP:  0.03839397430419922\n",
      "2663 \t TIME TO STEP:  0.021226882934570312\n",
      "2664 \t TIME TO STEP:  0.020158767700195312\n",
      "2665 \t TIME TO STEP:  0.020281553268432617\n",
      "2666 \t TIME TO STEP:  0.02069258689880371\n",
      "2667 \t TIME TO STEP:  0.021993637084960938\n",
      "2668 \t TIME TO STEP:  0.020474910736083984\n",
      "2669 \t TIME TO STEP:  0.03728532791137695\n"
     ]
    },
    {
     "name": "stderr",
     "output_type": "stream",
     "text": [
      "2020-04-20 16:04:24,171 Computing map for /data/gibson/Adrian.glb\n",
      "2020-04-20 16:04:29,907 Invalid map: /data/gibson/Adrian.glb/269\n",
      "2020-04-20 16:04:30,122 Computing map for /data/gibson/Adrian.glb\n",
      "2020-04-20 16:04:35,676 Invalid map: /data/gibson/Adrian.glb/269\n",
      "2020-04-20 16:04:35,917 Computing map for /data/gibson/Adrian.glb\n",
      "2020-04-20 16:04:41,541 Invalid map: /data/gibson/Adrian.glb/269\n",
      "2020-04-20 16:04:41,760 Computing map for /data/gibson/Adrian.glb\n"
     ]
    },
    {
     "name": "stdout",
     "output_type": "stream",
     "text": [
      "2670 \t TIME TO RESET:  \t 23.5095431804657\n",
      "2671 \t TIME TO STEP:  0.08576631546020508\n",
      "2672 \t TIME TO STEP:  0.06463050842285156\n",
      "2673 \t TIME TO STEP:  0.0735774040222168\n",
      "2674 \t TIME TO STEP:  0.06934213638305664\n",
      "2675 \t TIME TO STEP:  0.02058696746826172\n",
      "2676 \t TIME TO STEP:  0.07083892822265625\n",
      "2677 \t TIME TO STEP:  0.05358409881591797\n",
      "2678 \t TIME TO STEP:  0.019455432891845703\n",
      "2679 \t TIME TO STEP:  0.01967167854309082\n"
     ]
    },
    {
     "name": "stderr",
     "output_type": "stream",
     "text": [
      "2020-04-20 16:04:48,189 Computing map for /data/gibson/Adrian.glb\n"
     ]
    },
    {
     "name": "stdout",
     "output_type": "stream",
     "text": [
      "2680 \t TIME TO RESET:  \t 6.012842893600464\n",
      "2681 \t TIME TO STEP:  0.0326077938079834\n",
      "2682 \t TIME TO STEP:  0.05500984191894531\n",
      "2683 \t TIME TO STEP:  0.01996326446533203\n",
      "2684 \t TIME TO STEP:  0.03162097930908203\n",
      "2685 \t TIME TO STEP:  0.020615339279174805\n",
      "2686 \t TIME TO STEP:  0.022172927856445312\n",
      "2687 \t TIME TO STEP:  0.02879786491394043\n",
      "2688 \t TIME TO STEP:  0.02049422264099121\n",
      "2689 \t TIME TO STEP:  0.01997065544128418\n"
     ]
    },
    {
     "name": "stderr",
     "output_type": "stream",
     "text": [
      "2020-04-20 16:04:54,401 Computing map for /data/gibson/Adrian.glb\n",
      "2020-04-20 16:05:00,038 Invalid map: /data/gibson/Adrian.glb/271\n",
      "2020-04-20 16:05:00,263 Computing map for /data/gibson/Adrian.glb\n",
      "2020-04-20 16:05:05,983 Invalid map: /data/gibson/Adrian.glb/271\n",
      "2020-04-20 16:05:06,200 Computing map for /data/gibson/Adrian.glb\n"
     ]
    },
    {
     "name": "stdout",
     "output_type": "stream",
     "text": [
      "2690 \t TIME TO RESET:  \t 17.645678281784058\n",
      "2691 \t TIME TO STEP:  0.055655717849731445\n",
      "2692 \t TIME TO STEP:  0.05560302734375\n",
      "2693 \t TIME TO STEP:  0.04984283447265625\n",
      "2694 \t TIME TO STEP:  0.06270623207092285\n",
      "2695 \t TIME TO STEP:  0.036426544189453125\n",
      "2696 \t TIME TO STEP:  0.05135917663574219\n",
      "2697 \t TIME TO STEP:  0.0791928768157959\n",
      "2698 \t TIME TO STEP:  0.06193685531616211\n",
      "2699 \t TIME TO STEP:  0.022083520889282227\n"
     ]
    },
    {
     "name": "stderr",
     "output_type": "stream",
     "text": [
      "2020-04-20 16:05:12,551 Computing map for /data/gibson/Adrian.glb\n"
     ]
    },
    {
     "name": "stdout",
     "output_type": "stream",
     "text": [
      "2700 \t TIME TO RESET:  \t 5.987519979476929\n",
      "2701 \t TIME TO STEP:  0.02472519874572754\n",
      "2702 \t TIME TO STEP:  0.02053046226501465\n",
      "2703 \t TIME TO STEP:  0.020897865295410156\n",
      "2704 \t TIME TO STEP:  0.020528078079223633\n",
      "2705 \t TIME TO STEP:  0.03439736366271973\n",
      "2706 \t TIME TO STEP:  0.020751953125\n",
      "2707 \t TIME TO STEP:  0.019843339920043945\n",
      "2708 \t TIME TO STEP:  0.020115375518798828\n",
      "2709 \t TIME TO STEP:  0.020294189453125\n"
     ]
    },
    {
     "name": "stderr",
     "output_type": "stream",
     "text": [
      "2020-04-20 16:05:18,729 Computing map for /data/gibson/Adrian.glb\n"
     ]
    },
    {
     "name": "stdout",
     "output_type": "stream",
     "text": [
      "2710 \t TIME TO RESET:  \t 5.893357038497925\n",
      "2711 \t TIME TO STEP:  0.028459787368774414\n",
      "2712 \t TIME TO STEP:  0.020310163497924805\n",
      "2713 \t TIME TO STEP:  0.02080535888671875\n",
      "2714 \t TIME TO STEP:  0.03116750717163086\n",
      "2715 \t TIME TO STEP:  0.020559072494506836\n",
      "2716 \t TIME TO STEP:  0.020806312561035156\n",
      "2717 \t TIME TO STEP:  0.020130634307861328\n",
      "2718 \t TIME TO STEP:  0.020674705505371094\n",
      "2719 \t TIME TO STEP:  0.02076101303100586\n"
     ]
    },
    {
     "name": "stderr",
     "output_type": "stream",
     "text": [
      "2020-04-20 16:05:24,828 Computing map for /data/gibson/Adrian.glb\n"
     ]
    },
    {
     "name": "stdout",
     "output_type": "stream",
     "text": [
      "2720 \t TIME TO RESET:  \t 5.92212438583374\n",
      "2721 \t TIME TO STEP:  0.04203152656555176\n",
      "2722 \t TIME TO STEP:  0.05269026756286621\n",
      "2723 \t TIME TO STEP:  0.0524754524230957\n",
      "2724 \t TIME TO STEP:  0.05333542823791504\n",
      "2725 \t TIME TO STEP:  0.044947147369384766\n",
      "2726 \t TIME TO STEP:  0.034156084060668945\n",
      "2727 \t TIME TO STEP:  0.021472454071044922\n",
      "2728 \t TIME TO STEP:  0.02070927619934082\n",
      "2729 \t TIME TO STEP:  0.020756959915161133\n"
     ]
    },
    {
     "name": "stderr",
     "output_type": "stream",
     "text": [
      "2020-04-20 16:05:31,106 Computing map for /data/gibson/Adrian.glb\n"
     ]
    },
    {
     "name": "stdout",
     "output_type": "stream",
     "text": [
      "2730 \t TIME TO RESET:  \t 5.8300416469573975\n",
      "2731 \t TIME TO STEP:  0.021226882934570312\n",
      "2732 \t TIME TO STEP:  0.020112991333007812\n",
      "2733 \t TIME TO STEP:  0.020134925842285156\n",
      "2734 \t TIME TO STEP:  0.02019190788269043\n",
      "2735 \t TIME TO STEP:  0.020597219467163086\n",
      "2736 \t TIME TO STEP:  0.02015066146850586\n",
      "2737 \t TIME TO STEP:  0.020235776901245117\n",
      "2738 \t TIME TO STEP:  0.020328998565673828\n",
      "2739 \t TIME TO STEP:  0.019975900650024414\n"
     ]
    },
    {
     "name": "stderr",
     "output_type": "stream",
     "text": [
      "2020-04-20 16:05:37,116 Computing map for /data/gibson/Adrian.glb\n"
     ]
    },
    {
     "name": "stdout",
     "output_type": "stream",
     "text": [
      "2740 \t TIME TO RESET:  \t 5.912177324295044\n",
      "2741 \t TIME TO STEP:  0.0207517147064209\n",
      "2742 \t TIME TO STEP:  0.052693843841552734\n",
      "2743 \t TIME TO STEP:  0.06617331504821777\n",
      "2744 \t TIME TO STEP:  0.05417346954345703\n",
      "2745 \t TIME TO STEP:  0.021266460418701172\n",
      "2746 \t TIME TO STEP:  0.01996445655822754\n",
      "2747 \t TIME TO STEP:  0.020672082901000977\n",
      "2748 \t TIME TO STEP:  0.02899003028869629\n",
      "2749 \t TIME TO STEP:  0.055040836334228516\n"
     ]
    },
    {
     "name": "stderr",
     "output_type": "stream",
     "text": [
      "2020-04-20 16:05:43,353 Computing map for /data/gibson/Adrian.glb\n"
     ]
    },
    {
     "name": "stdout",
     "output_type": "stream",
     "text": [
      "2750 \t TIME TO RESET:  \t 5.812012672424316\n",
      "2751 \t TIME TO STEP:  0.03930306434631348\n",
      "2752 \t TIME TO STEP:  0.03705000877380371\n",
      "2753 \t TIME TO STEP:  0.021154165267944336\n",
      "2754 \t TIME TO STEP:  0.031531572341918945\n",
      "2755 \t TIME TO STEP:  0.062026262283325195\n",
      "2756 \t TIME TO STEP:  0.041130781173706055\n",
      "2757 \t TIME TO STEP:  0.05666756629943848\n",
      "2758 \t TIME TO STEP:  0.05452370643615723\n",
      "2759 \t TIME TO STEP:  0.020250558853149414\n"
     ]
    },
    {
     "name": "stderr",
     "output_type": "stream",
     "text": [
      "2020-04-20 16:05:49,555 Computing map for /data/gibson/Adrian.glb\n"
     ]
    },
    {
     "name": "stdout",
     "output_type": "stream",
     "text": [
      "2760 \t TIME TO RESET:  \t 5.886463403701782\n",
      "2761 \t TIME TO STEP:  0.07646298408508301\n",
      "2762 \t TIME TO STEP:  0.06309127807617188\n",
      "2763 \t TIME TO STEP:  0.04586386680603027\n",
      "2764 \t TIME TO STEP:  0.06870484352111816\n",
      "2765 \t TIME TO STEP:  0.05414438247680664\n",
      "2766 \t TIME TO STEP:  0.054229021072387695\n",
      "2767 \t TIME TO STEP:  0.09288501739501953\n",
      "2768 \t TIME TO STEP:  0.07573223114013672\n",
      "2769 \t TIME TO STEP:  0.04210853576660156\n"
     ]
    },
    {
     "name": "stderr",
     "output_type": "stream",
     "text": [
      "2020-04-20 16:05:56,018 Computing map for /data/gibson/Adrian.glb\n"
     ]
    },
    {
     "name": "stdout",
     "output_type": "stream",
     "text": [
      "2770 \t TIME TO RESET:  \t 6.0821614265441895\n",
      "2771 \t TIME TO STEP:  0.05510520935058594\n",
      "2772 \t TIME TO STEP:  0.03803682327270508\n",
      "2773 \t TIME TO STEP:  0.02065563201904297\n",
      "2774 \t TIME TO STEP:  0.020780563354492188\n",
      "2775 \t TIME TO STEP:  0.021416902542114258\n",
      "2776 \t TIME TO STEP:  0.02087235450744629\n",
      "2777 \t TIME TO STEP:  0.020516157150268555\n",
      "2778 \t TIME TO STEP:  0.031703948974609375\n",
      "2779 \t TIME TO STEP:  0.020856142044067383\n"
     ]
    },
    {
     "name": "stderr",
     "output_type": "stream",
     "text": [
      "2020-04-20 16:06:02,357 Computing map for /data/gibson/Adrian.glb\n",
      "2020-04-20 16:06:08,106 Invalid map: /data/gibson/Adrian.glb/280\n",
      "2020-04-20 16:06:08,329 Computing map for /data/gibson/Adrian.glb\n",
      "2020-04-20 16:06:14,024 Invalid map: /data/gibson/Adrian.glb/280\n",
      "2020-04-20 16:06:14,266 Computing map for /data/gibson/Adrian.glb\n"
     ]
    },
    {
     "name": "stdout",
     "output_type": "stream",
     "text": [
      "2780 \t TIME TO RESET:  \t 17.934830904006958\n",
      "2781 \t TIME TO STEP:  0.08432793617248535\n",
      "2782 \t TIME TO STEP:  0.03939175605773926\n",
      "2783 \t TIME TO STEP:  0.02123117446899414\n",
      "2784 \t TIME TO STEP:  0.020795106887817383\n",
      "2785 \t TIME TO STEP:  0.020672082901000977\n",
      "2786 \t TIME TO STEP:  0.02132439613342285\n",
      "2787 \t TIME TO STEP:  0.0205843448638916\n",
      "2788 \t TIME TO STEP:  0.020526885986328125\n",
      "2789 \t TIME TO STEP:  0.020346403121948242\n"
     ]
    },
    {
     "name": "stderr",
     "output_type": "stream",
     "text": [
      "2020-04-20 16:06:20,547 Computing map for /data/gibson/Adrian.glb\n",
      "2020-04-20 16:06:26,269 Invalid map: /data/gibson/Adrian.glb/281\n",
      "2020-04-20 16:06:26,476 Computing map for /data/gibson/Adrian.glb\n"
     ]
    },
    {
     "name": "stdout",
     "output_type": "stream",
     "text": [
      "2790 \t TIME TO RESET:  \t 11.805545330047607\n",
      "2791 \t TIME TO STEP:  0.022546052932739258\n",
      "2792 \t TIME TO STEP:  0.054694414138793945\n",
      "2793 \t TIME TO STEP:  0.036984920501708984\n",
      "2794 \t TIME TO STEP:  0.020580768585205078\n",
      "2795 \t TIME TO STEP:  0.052309274673461914\n",
      "2796 \t TIME TO STEP:  0.05175924301147461\n",
      "2797 \t TIME TO STEP:  0.07466673851013184\n",
      "2798 \t TIME TO STEP:  0.029401779174804688\n",
      "2799 \t TIME TO STEP:  0.027621984481811523\n"
     ]
    },
    {
     "name": "stderr",
     "output_type": "stream",
     "text": [
      "2020-04-20 16:06:32,722 Computing map for /data/gibson/Adrian.glb\n",
      "2020-04-20 16:06:38,320 Invalid map: /data/gibson/Adrian.glb/282\n",
      "2020-04-20 16:06:38,552 Computing map for /data/gibson/Adrian.glb\n",
      "2020-04-20 16:06:44,270 Invalid map: /data/gibson/Adrian.glb/282\n",
      "2020-04-20 16:06:44,501 Computing map for /data/gibson/Adrian.glb\n"
     ]
    },
    {
     "name": "stdout",
     "output_type": "stream",
     "text": [
      "2800 \t TIME TO RESET:  \t 17.7116482257843\n",
      "2801 \t TIME TO STEP:  0.0494999885559082\n",
      "2802 \t TIME TO STEP:  0.02048516273498535\n",
      "2803 \t TIME TO STEP:  0.020254135131835938\n",
      "2804 \t TIME TO STEP:  0.02031087875366211\n",
      "2805 \t TIME TO STEP:  0.02043008804321289\n",
      "2806 \t TIME TO STEP:  0.020455121994018555\n",
      "2807 \t TIME TO STEP:  0.020757436752319336\n",
      "2808 \t TIME TO STEP:  0.020354032516479492\n",
      "2809 \t TIME TO STEP:  0.0218050479888916\n"
     ]
    },
    {
     "name": "stderr",
     "output_type": "stream",
     "text": [
      "2020-04-20 16:06:50,656 Computing map for /data/gibson/Adrian.glb\n",
      "2020-04-20 16:06:56,254 Invalid map: /data/gibson/Adrian.glb/283\n",
      "2020-04-20 16:06:56,469 Computing map for /data/gibson/Adrian.glb\n"
     ]
    },
    {
     "name": "stdout",
     "output_type": "stream",
     "text": [
      "2810 \t TIME TO RESET:  \t 11.777744770050049\n",
      "2811 \t TIME TO STEP:  0.056360721588134766\n",
      "2812 \t TIME TO STEP:  0.05300140380859375\n",
      "2813 \t TIME TO STEP:  0.04340314865112305\n",
      "2814 \t TIME TO STEP:  0.019781827926635742\n",
      "2815 \t TIME TO STEP:  0.02011585235595703\n",
      "2816 \t TIME TO STEP:  0.02207207679748535\n",
      "2817 \t TIME TO STEP:  0.021004915237426758\n",
      "2818 \t TIME TO STEP:  0.020084619522094727\n",
      "2819 \t TIME TO STEP:  0.02097153663635254\n"
     ]
    },
    {
     "name": "stderr",
     "output_type": "stream",
     "text": [
      "2020-04-20 16:07:02,719 Computing map for /data/gibson/Adrian.glb\n",
      "2020-04-20 16:07:08,399 Invalid map: /data/gibson/Adrian.glb/284\n",
      "2020-04-20 16:07:08,624 Computing map for /data/gibson/Adrian.glb\n"
     ]
    },
    {
     "name": "stdout",
     "output_type": "stream",
     "text": [
      "2820 \t TIME TO RESET:  \t 11.840819835662842\n",
      "2821 \t TIME TO STEP:  0.034546613693237305\n",
      "2822 \t TIME TO STEP:  0.05543875694274902\n",
      "2823 \t TIME TO STEP:  0.055436134338378906\n",
      "2824 \t TIME TO STEP:  0.05341625213623047\n",
      "2825 \t TIME TO STEP:  0.05443072319030762\n",
      "2826 \t TIME TO STEP:  0.05451560020446777\n",
      "2827 \t TIME TO STEP:  0.02831101417541504\n",
      "2828 \t TIME TO STEP:  0.020347118377685547\n",
      "2829 \t TIME TO STEP:  0.020107269287109375\n"
     ]
    },
    {
     "name": "stderr",
     "output_type": "stream",
     "text": [
      "2020-04-20 16:07:14,931 Computing map for /data/gibson/Adrian.glb\n",
      "2020-04-20 16:07:20,518 Invalid map: /data/gibson/Adrian.glb/285\n",
      "2020-04-20 16:07:20,733 Computing map for /data/gibson/Adrian.glb\n"
     ]
    },
    {
     "name": "stdout",
     "output_type": "stream",
     "text": [
      "2830 \t TIME TO RESET:  \t 11.671536445617676\n",
      "2831 \t TIME TO STEP:  0.06969332695007324\n",
      "2832 \t TIME TO STEP:  0.06204724311828613\n",
      "2833 \t TIME TO STEP:  0.02873373031616211\n",
      "2834 \t TIME TO STEP:  0.05548715591430664\n",
      "2835 \t TIME TO STEP:  0.06676959991455078\n",
      "2836 \t TIME TO STEP:  0.053231000900268555\n",
      "2837 \t TIME TO STEP:  0.06441068649291992\n",
      "2838 \t TIME TO STEP:  0.0539398193359375\n",
      "2839 \t TIME TO STEP:  0.07150864601135254\n"
     ]
    },
    {
     "name": "stderr",
     "output_type": "stream",
     "text": [
      "2020-04-20 16:07:27,137 Computing map for /data/gibson/Adrian.glb\n"
     ]
    },
    {
     "name": "stdout",
     "output_type": "stream",
     "text": [
      "2840 \t TIME TO RESET:  \t 5.843717813491821\n",
      "2841 \t TIME TO STEP:  0.0596919059753418\n",
      "2842 \t TIME TO STEP:  0.021396398544311523\n",
      "2843 \t TIME TO STEP:  0.021056652069091797\n",
      "2844 \t TIME TO STEP:  0.02047896385192871\n",
      "2845 \t TIME TO STEP:  0.020925045013427734\n",
      "2846 \t TIME TO STEP:  0.020477294921875\n",
      "2847 \t TIME TO STEP:  0.020305395126342773\n",
      "2848 \t TIME TO STEP:  0.02100849151611328\n",
      "2849 \t TIME TO STEP:  0.021038532257080078\n"
     ]
    },
    {
     "name": "stderr",
     "output_type": "stream",
     "text": [
      "2020-04-20 16:07:33,228 Computing map for /data/gibson/Adrian.glb\n"
     ]
    },
    {
     "name": "stdout",
     "output_type": "stream",
     "text": [
      "2850 \t TIME TO RESET:  \t 5.899123907089233\n",
      "2851 \t TIME TO STEP:  0.03847146034240723\n",
      "2852 \t TIME TO STEP:  0.05713462829589844\n",
      "2853 \t TIME TO STEP:  0.04370617866516113\n",
      "2854 \t TIME TO STEP:  0.051640987396240234\n",
      "2855 \t TIME TO STEP:  0.08766651153564453\n",
      "2856 \t TIME TO STEP:  0.02093052864074707\n",
      "2857 \t TIME TO STEP:  0.020663022994995117\n",
      "2858 \t TIME TO STEP:  0.02056121826171875\n",
      "2859 \t TIME TO STEP:  0.020734548568725586\n"
     ]
    },
    {
     "name": "stderr",
     "output_type": "stream",
     "text": [
      "2020-04-20 16:07:39,461 Computing map for /data/gibson/Adrian.glb\n",
      "2020-04-20 16:07:45,050 Invalid map: /data/gibson/Adrian.glb/288\n",
      "2020-04-20 16:07:45,275 Computing map for /data/gibson/Adrian.glb\n"
     ]
    },
    {
     "name": "stdout",
     "output_type": "stream",
     "text": [
      "2860 \t TIME TO RESET:  \t 11.66832447052002\n",
      "2861 \t TIME TO STEP:  0.029441118240356445\n",
      "2862 \t TIME TO STEP:  0.020045995712280273\n",
      "2863 \t TIME TO STEP:  0.020524978637695312\n",
      "2864 \t TIME TO STEP:  0.020321130752563477\n",
      "2865 \t TIME TO STEP:  0.020259618759155273\n",
      "2866 \t TIME TO STEP:  0.02049708366394043\n",
      "2867 \t TIME TO STEP:  0.019970417022705078\n",
      "2868 \t TIME TO STEP:  0.020356416702270508\n",
      "2869 \t TIME TO STEP:  0.020164012908935547\n"
     ]
    },
    {
     "name": "stderr",
     "output_type": "stream",
     "text": [
      "2020-04-20 16:07:51,317 Computing map for /data/gibson/Adrian.glb\n",
      "2020-04-20 16:07:56,905 Invalid map: /data/gibson/Adrian.glb/289\n",
      "2020-04-20 16:07:57,135 Computing map for /data/gibson/Adrian.glb\n"
     ]
    },
    {
     "name": "stdout",
     "output_type": "stream",
     "text": [
      "2870 \t TIME TO RESET:  \t 11.699092864990234\n",
      "2871 \t TIME TO STEP:  0.0556337833404541\n",
      "2872 \t TIME TO STEP:  0.061371564865112305\n",
      "2873 \t TIME TO STEP:  0.05486774444580078\n",
      "2874 \t TIME TO STEP:  0.04546546936035156\n",
      "2875 \t TIME TO STEP:  0.05768990516662598\n",
      "2876 \t TIME TO STEP:  0.020932912826538086\n",
      "2877 \t TIME TO STEP:  0.019762277603149414\n",
      "2878 \t TIME TO STEP:  0.01983809471130371\n",
      "2879 \t TIME TO STEP:  0.02050161361694336\n"
     ]
    },
    {
     "name": "stderr",
     "output_type": "stream",
     "text": [
      "2020-04-20 16:08:03,359 Computing map for /data/gibson/Adrian.glb\n"
     ]
    },
    {
     "name": "stdout",
     "output_type": "stream",
     "text": [
      "2880 \t TIME TO RESET:  \t 5.944379091262817\n",
      "2881 \t TIME TO STEP:  0.05523109436035156\n",
      "2882 \t TIME TO STEP:  0.06641030311584473\n",
      "2883 \t TIME TO STEP:  0.05673336982727051\n",
      "2884 \t TIME TO STEP:  0.020155906677246094\n",
      "2885 \t TIME TO STEP:  0.02108001708984375\n",
      "2886 \t TIME TO STEP:  0.020385026931762695\n",
      "2887 \t TIME TO STEP:  0.020358562469482422\n",
      "2888 \t TIME TO STEP:  0.020734786987304688\n",
      "2889 \t TIME TO STEP:  0.020812034606933594\n"
     ]
    },
    {
     "name": "stderr",
     "output_type": "stream",
     "text": [
      "2020-04-20 16:08:09,628 Computing map for /data/gibson/Adrian.glb\n"
     ]
    },
    {
     "name": "stdout",
     "output_type": "stream",
     "text": [
      "2890 \t TIME TO RESET:  \t 5.809769153594971\n",
      "2891 \t TIME TO STEP:  0.054140329360961914\n",
      "2892 \t TIME TO STEP:  0.05346226692199707\n",
      "2893 \t TIME TO STEP:  0.06755638122558594\n",
      "2894 \t TIME TO STEP:  0.062101125717163086\n",
      "2895 \t TIME TO STEP:  0.06512212753295898\n",
      "2896 \t TIME TO STEP:  0.053800344467163086\n",
      "2897 \t TIME TO STEP:  0.05099225044250488\n",
      "2898 \t TIME TO STEP:  0.0521693229675293\n",
      "2899 \t TIME TO STEP:  0.04326272010803223\n"
     ]
    },
    {
     "name": "stderr",
     "output_type": "stream",
     "text": [
      "2020-04-20 16:08:15,936 Computing map for /data/gibson/Adrian.glb\n",
      "2020-04-20 16:08:21,630 Invalid map: /data/gibson/Adrian.glb/292\n",
      "2020-04-20 16:08:21,829 Computing map for /data/gibson/Adrian.glb\n",
      "2020-04-20 16:08:27,524 Invalid map: /data/gibson/Adrian.glb/292\n",
      "2020-04-20 16:08:27,749 Computing map for /data/gibson/Adrian.glb\n"
     ]
    },
    {
     "name": "stdout",
     "output_type": "stream",
     "text": [
      "2900 \t TIME TO RESET:  \t 17.825289249420166\n",
      "2901 \t TIME TO STEP:  0.05198359489440918\n",
      "2902 \t TIME TO STEP:  0.020992755889892578\n",
      "2903 \t TIME TO STEP:  0.03603100776672363\n",
      "2904 \t TIME TO STEP:  0.05323338508605957\n",
      "2905 \t TIME TO STEP:  0.02025294303894043\n",
      "2906 \t TIME TO STEP:  0.020624160766601562\n",
      "2907 \t TIME TO STEP:  0.021906614303588867\n",
      "2908 \t TIME TO STEP:  0.0208892822265625\n",
      "2909 \t TIME TO STEP:  0.0202181339263916\n"
     ]
    },
    {
     "name": "stderr",
     "output_type": "stream",
     "text": [
      "2020-04-20 16:08:34,037 Computing map for /data/gibson/Adrian.glb\n"
     ]
    },
    {
     "name": "stdout",
     "output_type": "stream",
     "text": [
      "2910 \t TIME TO RESET:  \t 5.81415319442749\n",
      "2911 \t TIME TO STEP:  0.0312654972076416\n",
      "2912 \t TIME TO STEP:  0.020203351974487305\n",
      "2913 \t TIME TO STEP:  0.01985931396484375\n",
      "2914 \t TIME TO STEP:  0.020316123962402344\n",
      "2915 \t TIME TO STEP:  0.02023792266845703\n",
      "2916 \t TIME TO STEP:  0.020908832550048828\n",
      "2917 \t TIME TO STEP:  0.02016472816467285\n",
      "2918 \t TIME TO STEP:  0.020862340927124023\n",
      "2919 \t TIME TO STEP:  0.021169424057006836\n"
     ]
    },
    {
     "name": "stderr",
     "output_type": "stream",
     "text": [
      "2020-04-20 16:08:40,102 Computing map for /data/gibson/Adrian.glb\n"
     ]
    },
    {
     "name": "stdout",
     "output_type": "stream",
     "text": [
      "2920 \t TIME TO RESET:  \t 6.01150918006897\n",
      "2921 \t TIME TO STEP:  0.05314469337463379\n",
      "2922 \t TIME TO STEP:  0.030651092529296875\n",
      "2923 \t TIME TO STEP:  0.020893096923828125\n",
      "2924 \t TIME TO STEP:  0.03232002258300781\n",
      "2925 \t TIME TO STEP:  0.02177572250366211\n",
      "2926 \t TIME TO STEP:  0.02099466323852539\n",
      "2927 \t TIME TO STEP:  0.02079319953918457\n",
      "2928 \t TIME TO STEP:  0.020603656768798828\n",
      "2929 \t TIME TO STEP:  0.021050214767456055\n"
     ]
    },
    {
     "name": "stderr",
     "output_type": "stream",
     "text": [
      "2020-04-20 16:08:46,299 Computing map for /data/gibson/Adrian.glb\n"
     ]
    },
    {
     "name": "stdout",
     "output_type": "stream",
     "text": [
      "2930 \t TIME TO RESET:  \t 5.958425045013428\n",
      "2931 \t TIME TO STEP:  0.029252290725708008\n",
      "2932 \t TIME TO STEP:  0.049629926681518555\n",
      "2933 \t TIME TO STEP:  0.020234346389770508\n",
      "2934 \t TIME TO STEP:  0.02045607566833496\n",
      "2935 \t TIME TO STEP:  0.02042365074157715\n",
      "2936 \t TIME TO STEP:  0.020354747772216797\n",
      "2937 \t TIME TO STEP:  0.02024555206298828\n",
      "2938 \t TIME TO STEP:  0.020227909088134766\n",
      "2939 \t TIME TO STEP:  0.020915746688842773\n"
     ]
    },
    {
     "name": "stderr",
     "output_type": "stream",
     "text": [
      "2020-04-20 16:08:52,505 Computing map for /data/gibson/Adrian.glb\n",
      "2020-04-20 16:08:58,082 Invalid map: /data/gibson/Adrian.glb/296\n",
      "2020-04-20 16:08:58,296 Computing map for /data/gibson/Adrian.glb\n",
      "2020-04-20 16:09:04,052 Invalid map: /data/gibson/Adrian.glb/296\n",
      "2020-04-20 16:09:04,283 Computing map for /data/gibson/Adrian.glb\n"
     ]
    },
    {
     "name": "stdout",
     "output_type": "stream",
     "text": [
      "2940 \t TIME TO RESET:  \t 17.711395740509033\n",
      "2941 \t TIME TO STEP:  0.07775545120239258\n",
      "2942 \t TIME TO STEP:  0.05271124839782715\n",
      "2943 \t TIME TO STEP:  0.019654512405395508\n",
      "2944 \t TIME TO STEP:  0.02013373374938965\n",
      "2945 \t TIME TO STEP:  0.04442024230957031\n",
      "2946 \t TIME TO STEP:  0.028516769409179688\n",
      "2947 \t TIME TO STEP:  0.01996016502380371\n",
      "2948 \t TIME TO STEP:  0.020255327224731445\n",
      "2949 \t TIME TO STEP:  0.02019524574279785\n"
     ]
    },
    {
     "name": "stderr",
     "output_type": "stream",
     "text": [
      "2020-04-20 16:09:10,500 Computing map for /data/gibson/Adrian.glb\n"
     ]
    },
    {
     "name": "stdout",
     "output_type": "stream",
     "text": [
      "2950 \t TIME TO RESET:  \t 5.938499927520752\n",
      "2951 \t TIME TO STEP:  0.03037118911743164\n",
      "2952 \t TIME TO STEP:  0.02159404754638672\n",
      "2953 \t TIME TO STEP:  0.020846128463745117\n",
      "2954 \t TIME TO STEP:  0.020809412002563477\n",
      "2955 \t TIME TO STEP:  0.020346879959106445\n",
      "2956 \t TIME TO STEP:  0.02029871940612793\n",
      "2957 \t TIME TO STEP:  0.020804405212402344\n",
      "2958 \t TIME TO STEP:  0.020907163619995117\n",
      "2959 \t TIME TO STEP:  0.02029132843017578\n"
     ]
    },
    {
     "name": "stderr",
     "output_type": "stream",
     "text": [
      "2020-04-20 16:09:16,631 Computing map for /data/gibson/Adrian.glb\n",
      "2020-04-20 16:09:22,372 Invalid map: /data/gibson/Adrian.glb/298\n",
      "2020-04-20 16:09:22,640 Computing map for /data/gibson/Adrian.glb\n",
      "2020-04-20 16:09:28,259 Invalid map: /data/gibson/Adrian.glb/298\n",
      "2020-04-20 16:09:28,484 Computing map for /data/gibson/Adrian.glb\n",
      "2020-04-20 16:09:34,182 Invalid map: /data/gibson/Adrian.glb/298\n",
      "2020-04-20 16:09:34,402 Computing map for /data/gibson/Adrian.glb\n",
      "2020-04-20 16:09:39,944 Invalid map: /data/gibson/Adrian.glb/298\n",
      "2020-04-20 16:09:40,172 Computing map for /data/gibson/Adrian.glb\n"
     ]
    },
    {
     "name": "stdout",
     "output_type": "stream",
     "text": [
      "2960 \t TIME TO RESET:  \t 29.48513150215149\n",
      "2961 \t TIME TO STEP:  0.09319424629211426\n",
      "2962 \t TIME TO STEP:  0.035880327224731445\n",
      "2963 \t TIME TO STEP:  0.05016636848449707\n",
      "2964 \t TIME TO STEP:  0.01954364776611328\n",
      "2965 \t TIME TO STEP:  0.020120620727539062\n",
      "2966 \t TIME TO STEP:  0.019884824752807617\n",
      "2967 \t TIME TO STEP:  0.019935131072998047\n",
      "2968 \t TIME TO STEP:  0.019470930099487305\n",
      "2969 \t TIME TO STEP:  0.020261049270629883\n"
     ]
    },
    {
     "name": "stderr",
     "output_type": "stream",
     "text": [
      "2020-04-20 16:09:46,439 Computing map for /data/gibson/Adrian.glb\n"
     ]
    },
    {
     "name": "stdout",
     "output_type": "stream",
     "text": [
      "2970 \t TIME TO RESET:  \t 5.9018354415893555\n",
      "2971 \t TIME TO STEP:  0.029178619384765625\n",
      "2972 \t TIME TO STEP:  0.020522356033325195\n",
      "2973 \t TIME TO STEP:  0.020069122314453125\n",
      "2974 \t TIME TO STEP:  0.03163886070251465\n",
      "2975 \t TIME TO STEP:  0.02087712287902832\n",
      "2976 \t TIME TO STEP:  0.02090167999267578\n",
      "2977 \t TIME TO STEP:  0.0687258243560791\n",
      "2978 \t TIME TO STEP:  0.04070401191711426\n",
      "2979 \t TIME TO STEP:  0.06842446327209473\n"
     ]
    },
    {
     "name": "stderr",
     "output_type": "stream",
     "text": [
      "2020-04-20 16:09:52,651 Computing map for /data/gibson/Adrian.glb\n",
      "2020-04-20 16:09:58,339 Invalid map: /data/gibson/Adrian.glb/300\n",
      "2020-04-20 16:09:58,544 Computing map for /data/gibson/Adrian.glb\n",
      "2020-04-20 16:10:04,191 Invalid map: /data/gibson/Adrian.glb/300\n",
      "2020-04-20 16:10:04,403 Computing map for /data/gibson/Adrian.glb\n",
      "2020-04-20 16:10:10,097 Invalid map: /data/gibson/Adrian.glb/300\n",
      "2020-04-20 16:10:10,322 Computing map for /data/gibson/Adrian.glb\n"
     ]
    },
    {
     "name": "stdout",
     "output_type": "stream",
     "text": [
      "2980 \t TIME TO RESET:  \t 23.64566993713379\n",
      "2981 \t TIME TO STEP:  0.08188986778259277\n",
      "2982 \t TIME TO STEP:  0.05070805549621582\n",
      "2983 \t TIME TO STEP:  0.035958051681518555\n",
      "2984 \t TIME TO STEP:  0.0197904109954834\n",
      "2985 \t TIME TO STEP:  0.05182909965515137\n",
      "2986 \t TIME TO STEP:  0.036438941955566406\n",
      "2987 \t TIME TO STEP:  0.0279695987701416\n",
      "2988 \t TIME TO STEP:  0.019925594329833984\n",
      "2989 \t TIME TO STEP:  0.019696950912475586\n"
     ]
    },
    {
     "name": "stderr",
     "output_type": "stream",
     "text": [
      "2020-04-20 16:10:16,628 Computing map for /data/gibson/Adrian.glb\n",
      "2020-04-20 16:10:22,340 Invalid map: /data/gibson/Adrian.glb/301\n",
      "2020-04-20 16:10:22,573 Computing map for /data/gibson/Adrian.glb\n"
     ]
    },
    {
     "name": "stdout",
     "output_type": "stream",
     "text": [
      "2990 \t TIME TO RESET:  \t 11.820108890533447\n",
      "2991 \t TIME TO STEP:  0.07129025459289551\n",
      "2992 \t TIME TO STEP:  0.02968311309814453\n",
      "2993 \t TIME TO STEP:  0.07412075996398926\n",
      "2994 \t TIME TO STEP:  0.029900312423706055\n",
      "2995 \t TIME TO STEP:  0.020715951919555664\n",
      "2996 \t TIME TO STEP:  0.020183086395263672\n",
      "2997 \t TIME TO STEP:  0.020995378494262695\n",
      "2998 \t TIME TO STEP:  0.02091693878173828\n",
      "2999 \t TIME TO STEP:  0.020646333694458008\n"
     ]
    },
    {
     "name": "stderr",
     "output_type": "stream",
     "text": [
      "2020-04-20 16:10:28,771 Computing map for /data/gibson/Adrian.glb\n",
      "2020-04-20 16:10:34,555 Invalid map: /data/gibson/Adrian.glb/302\n",
      "2020-04-20 16:10:34,770 Computing map for /data/gibson/Adrian.glb\n",
      "2020-04-20 16:10:40,503 Invalid map: /data/gibson/Adrian.glb/302\n",
      "2020-04-20 16:10:40,738 Computing map for /data/gibson/Adrian.glb\n",
      "2020-04-20 16:10:46,372 Invalid map: /data/gibson/Adrian.glb/302\n",
      "2020-04-20 16:10:46,608 Computing map for /data/gibson/Adrian.glb\n"
     ]
    },
    {
     "name": "stdout",
     "output_type": "stream",
     "text": [
      "3000 \t TIME TO RESET:  \t 23.78346347808838\n",
      "3001 \t TIME TO STEP:  0.0374455451965332\n",
      "3002 \t TIME TO STEP:  0.021567821502685547\n",
      "3003 \t TIME TO STEP:  0.021312713623046875\n",
      "3004 \t TIME TO STEP:  0.02138519287109375\n",
      "3005 \t TIME TO STEP:  0.01987457275390625\n",
      "3006 \t TIME TO STEP:  0.02129054069519043\n",
      "3007 \t TIME TO STEP:  0.021008014678955078\n",
      "3008 \t TIME TO STEP:  0.02069687843322754\n",
      "3009 \t TIME TO STEP:  0.0214385986328125\n"
     ]
    },
    {
     "name": "stderr",
     "output_type": "stream",
     "text": [
      "2020-04-20 16:10:52,745 Computing map for /data/gibson/Adrian.glb\n",
      "2020-04-20 16:10:58,420 Invalid map: /data/gibson/Adrian.glb/303\n",
      "2020-04-20 16:10:58,652 Computing map for /data/gibson/Adrian.glb\n"
     ]
    },
    {
     "name": "stdout",
     "output_type": "stream",
     "text": [
      "3010 \t TIME TO RESET:  \t 11.880864381790161\n",
      "3011 \t TIME TO STEP:  0.05337214469909668\n",
      "3012 \t TIME TO STEP:  0.02007746696472168\n",
      "3013 \t TIME TO STEP:  0.020612478256225586\n",
      "3014 \t TIME TO STEP:  0.020326614379882812\n",
      "3015 \t TIME TO STEP:  0.020910263061523438\n",
      "3016 \t TIME TO STEP:  0.022212743759155273\n",
      "3017 \t TIME TO STEP:  0.020177841186523438\n",
      "3018 \t TIME TO STEP:  0.02053380012512207\n"
     ]
    },
    {
     "name": "stderr",
     "output_type": "stream",
     "text": [
      "2020-04-20 16:11:04,839 Computing map for /data/gibson/Adrian.glb\n"
     ]
    },
    {
     "name": "stdout",
     "output_type": "stream",
     "text": [
      "3019 \t TIME TO STEP:  0.020253658294677734\n"
     ]
    },
    {
     "name": "stderr",
     "output_type": "stream",
     "text": [
      "2020-04-20 16:11:10,373 Invalid map: /data/gibson/Adrian.glb/304\n",
      "2020-04-20 16:11:10,605 Computing map for /data/gibson/Adrian.glb\n"
     ]
    },
    {
     "name": "stdout",
     "output_type": "stream",
     "text": [
      "3020 \t TIME TO RESET:  \t 11.693270921707153\n",
      "3021 \t TIME TO STEP:  0.0550539493560791\n",
      "3022 \t TIME TO STEP:  0.06870579719543457\n",
      "3023 \t TIME TO STEP:  0.05279135704040527\n",
      "3024 \t TIME TO STEP:  0.05451083183288574\n",
      "3025 \t TIME TO STEP:  0.05410361289978027\n",
      "3026 \t TIME TO STEP:  0.06110429763793945\n",
      "3027 \t TIME TO STEP:  0.03494668006896973\n",
      "3028 \t TIME TO STEP:  0.02106785774230957\n",
      "3029 \t TIME TO STEP:  0.03295755386352539\n"
     ]
    },
    {
     "name": "stderr",
     "output_type": "stream",
     "text": [
      "2020-04-20 16:11:16,982 Computing map for /data/gibson/Adrian.glb\n",
      "2020-04-20 16:11:22,574 Invalid map: /data/gibson/Adrian.glb/305\n",
      "2020-04-20 16:11:22,793 Computing map for /data/gibson/Adrian.glb\n",
      "2020-04-20 16:11:28,490 Invalid map: /data/gibson/Adrian.glb/305\n",
      "2020-04-20 16:11:28,725 Computing map for /data/gibson/Adrian.glb\n"
     ]
    },
    {
     "name": "stdout",
     "output_type": "stream",
     "text": [
      "3030 \t TIME TO RESET:  \t 17.729042768478394\n",
      "3031 \t TIME TO STEP:  0.08181285858154297\n",
      "3032 \t TIME TO STEP:  0.04520535469055176\n",
      "3033 \t TIME TO STEP:  0.05136299133300781\n",
      "3034 \t TIME TO STEP:  0.06385588645935059\n",
      "3035 \t TIME TO STEP:  0.022844791412353516\n",
      "3036 \t TIME TO STEP:  0.046914100646972656\n",
      "3037 \t TIME TO STEP:  0.02195262908935547\n",
      "3038 \t TIME TO STEP:  0.022301435470581055\n",
      "3039 \t TIME TO STEP:  0.02248525619506836\n"
     ]
    },
    {
     "name": "stderr",
     "output_type": "stream",
     "text": [
      "2020-04-20 16:11:35,119 Computing map for /data/gibson/Adrian.glb\n"
     ]
    },
    {
     "name": "stdout",
     "output_type": "stream",
     "text": [
      "3040 \t TIME TO RESET:  \t 6.078785181045532\n",
      "3041 \t TIME TO STEP:  0.0240023136138916\n",
      "3042 \t TIME TO STEP:  0.02171492576599121\n",
      "3043 \t TIME TO STEP:  0.021498441696166992\n",
      "3044 \t TIME TO STEP:  0.021277666091918945\n",
      "3045 \t TIME TO STEP:  0.020377635955810547\n",
      "3046 \t TIME TO STEP:  0.02084946632385254\n",
      "3047 \t TIME TO STEP:  0.06899309158325195\n",
      "3048 \t TIME TO STEP:  0.07318854331970215\n",
      "3049 \t TIME TO STEP:  0.051947593688964844\n"
     ]
    },
    {
     "name": "stderr",
     "output_type": "stream",
     "text": [
      "2020-04-20 16:11:41,519 Computing map for /data/gibson/Adrian.glb\n",
      "2020-04-20 16:11:47,177 Invalid map: /data/gibson/Adrian.glb/307\n",
      "2020-04-20 16:11:47,401 Computing map for /data/gibson/Adrian.glb\n"
     ]
    },
    {
     "name": "stdout",
     "output_type": "stream",
     "text": [
      "3050 \t TIME TO RESET:  \t 11.914983034133911\n",
      "3051 \t TIME TO STEP:  0.03414344787597656\n",
      "3052 \t TIME TO STEP:  0.020835161209106445\n",
      "3053 \t TIME TO STEP:  0.0204465389251709\n",
      "3054 \t TIME TO STEP:  0.02030777931213379\n",
      "3055 \t TIME TO STEP:  0.020955562591552734\n",
      "3056 \t TIME TO STEP:  0.020423173904418945\n",
      "3057 \t TIME TO STEP:  0.02025771141052246\n",
      "3058 \t TIME TO STEP:  0.020833730697631836\n",
      "3059 \t TIME TO STEP:  0.020258665084838867\n"
     ]
    },
    {
     "name": "stderr",
     "output_type": "stream",
     "text": [
      "2020-04-20 16:11:53,601 Computing map for /data/gibson/Adrian.glb\n"
     ]
    },
    {
     "name": "stdout",
     "output_type": "stream",
     "text": [
      "3060 \t TIME TO RESET:  \t 5.9341630935668945\n",
      "3061 \t TIME TO STEP:  0.046388864517211914\n",
      "3062 \t TIME TO STEP:  0.0671834945678711\n",
      "3063 \t TIME TO STEP:  0.053907155990600586\n",
      "3064 \t TIME TO STEP:  0.020213603973388672\n",
      "3065 \t TIME TO STEP:  0.020741939544677734\n",
      "3066 \t TIME TO STEP:  0.021018505096435547\n",
      "3067 \t TIME TO STEP:  0.02096700668334961\n",
      "3068 \t TIME TO STEP:  0.02025580406188965\n",
      "3069 \t TIME TO STEP:  0.020350933074951172\n"
     ]
    },
    {
     "name": "stderr",
     "output_type": "stream",
     "text": [
      "2020-04-20 16:11:59,854 Computing map for /data/gibson/Adrian.glb\n",
      "2020-04-20 16:12:05,493 Invalid map: /data/gibson/Adrian.glb/309\n",
      "2020-04-20 16:12:05,712 Computing map for /data/gibson/Adrian.glb\n",
      "2020-04-20 16:12:11,436 Invalid map: /data/gibson/Adrian.glb/309\n",
      "2020-04-20 16:12:11,673 Computing map for /data/gibson/Adrian.glb\n",
      "2020-04-20 16:12:17,291 Invalid map: /data/gibson/Adrian.glb/309\n",
      "2020-04-20 16:12:17,519 Computing map for /data/gibson/Adrian.glb\n",
      "2020-04-20 16:12:23,112 Invalid map: /data/gibson/Adrian.glb/309\n",
      "2020-04-20 16:12:23,336 Computing map for /data/gibson/Adrian.glb\n"
     ]
    },
    {
     "name": "stdout",
     "output_type": "stream",
     "text": [
      "3070 \t TIME TO RESET:  \t 29.42709970474243\n",
      "3071 \t TIME TO STEP:  0.08946418762207031\n",
      "3072 \t TIME TO STEP:  0.05354118347167969\n",
      "3073 \t TIME TO STEP:  0.06331086158752441\n",
      "3074 \t TIME TO STEP:  0.023436307907104492\n",
      "3075 \t TIME TO STEP:  0.02032923698425293\n",
      "3076 \t TIME TO STEP:  0.02900981903076172\n",
      "3077 \t TIME TO STEP:  0.02045440673828125\n",
      "3078 \t TIME TO STEP:  0.020354270935058594\n",
      "3079 \t TIME TO STEP:  0.020548343658447266\n"
     ]
    },
    {
     "name": "stderr",
     "output_type": "stream",
     "text": [
      "2020-04-20 16:12:29,659 Computing map for /data/gibson/Adrian.glb\n"
     ]
    },
    {
     "name": "stdout",
     "output_type": "stream",
     "text": [
      "3080 \t TIME TO RESET:  \t 5.918766260147095\n",
      "3081 \t TIME TO STEP:  0.03259110450744629\n",
      "3082 \t TIME TO STEP:  0.020754337310791016\n",
      "3083 \t TIME TO STEP:  0.020262956619262695\n",
      "3084 \t TIME TO STEP:  0.020244836807250977\n",
      "3085 \t TIME TO STEP:  0.021097898483276367\n",
      "3086 \t TIME TO STEP:  0.020717620849609375\n",
      "3087 \t TIME TO STEP:  0.020137786865234375\n",
      "3088 \t TIME TO STEP:  0.02071976661682129\n",
      "3089 \t TIME TO STEP:  0.0201873779296875\n"
     ]
    },
    {
     "name": "stderr",
     "output_type": "stream",
     "text": [
      "2020-04-20 16:12:35,728 Computing map for /data/gibson/Adrian.glb\n",
      "2020-04-20 16:12:41,377 Invalid map: /data/gibson/Adrian.glb/311\n",
      "2020-04-20 16:12:41,604 Computing map for /data/gibson/Adrian.glb\n",
      "2020-04-20 16:12:47,293 Invalid map: /data/gibson/Adrian.glb/311\n",
      "2020-04-20 16:12:47,513 Computing map for /data/gibson/Adrian.glb\n"
     ]
    },
    {
     "name": "stdout",
     "output_type": "stream",
     "text": [
      "3090 \t TIME TO RESET:  \t 17.740272283554077\n",
      "3091 \t TIME TO STEP:  0.04257774353027344\n",
      "3092 \t TIME TO STEP:  0.04980063438415527\n",
      "3093 \t TIME TO STEP:  0.020854949951171875\n",
      "3094 \t TIME TO STEP:  0.01990818977355957\n",
      "3095 \t TIME TO STEP:  0.020151615142822266\n",
      "3096 \t TIME TO STEP:  0.02035212516784668\n",
      "3097 \t TIME TO STEP:  0.020064115524291992\n",
      "3098 \t TIME TO STEP:  0.02116990089416504\n",
      "3099 \t TIME TO STEP:  0.019945621490478516\n"
     ]
    },
    {
     "name": "stderr",
     "output_type": "stream",
     "text": [
      "2020-04-20 16:12:53,700 Computing map for /data/gibson/Adrian.glb\n"
     ]
    },
    {
     "name": "stdout",
     "output_type": "stream",
     "text": [
      "3100 \t TIME TO RESET:  \t 6.000382900238037\n",
      "3101 \t TIME TO STEP:  0.06644988059997559\n",
      "3102 \t TIME TO STEP:  0.0289914608001709\n",
      "3103 \t TIME TO STEP:  0.020749330520629883\n",
      "3104 \t TIME TO STEP:  0.020441293716430664\n",
      "3105 \t TIME TO STEP:  0.029007673263549805\n",
      "3106 \t TIME TO STEP:  0.020264387130737305\n",
      "3107 \t TIME TO STEP:  0.020914554595947266\n",
      "3108 \t TIME TO STEP:  0.02105545997619629\n",
      "3109 \t TIME TO STEP:  0.020662784576416016\n"
     ]
    },
    {
     "name": "stderr",
     "output_type": "stream",
     "text": [
      "2020-04-20 16:12:59,941 Computing map for /data/gibson/Adrian.glb\n",
      "2020-04-20 16:13:05,665 Invalid map: /data/gibson/Adrian.glb/313\n",
      "2020-04-20 16:13:05,882 Computing map for /data/gibson/Adrian.glb\n"
     ]
    },
    {
     "name": "stdout",
     "output_type": "stream",
     "text": [
      "3110 \t TIME TO RESET:  \t 11.867761135101318\n",
      "3111 \t TIME TO STEP:  0.05515122413635254\n",
      "3112 \t TIME TO STEP:  0.02918720245361328\n",
      "3113 \t TIME TO STEP:  0.020018577575683594\n",
      "3114 \t TIME TO STEP:  0.020174026489257812\n",
      "3115 \t TIME TO STEP:  0.020520687103271484\n",
      "3116 \t TIME TO STEP:  0.0294952392578125\n",
      "3117 \t TIME TO STEP:  0.02061152458190918\n",
      "3118 \t TIME TO STEP:  0.021699905395507812\n",
      "3119 \t TIME TO STEP:  0.020301342010498047\n"
     ]
    },
    {
     "name": "stderr",
     "output_type": "stream",
     "text": [
      "2020-04-20 16:13:12,064 Computing map for /data/gibson/Adrian.glb\n"
     ]
    },
    {
     "name": "stdout",
     "output_type": "stream",
     "text": [
      "3120 \t TIME TO RESET:  \t 5.912126064300537\n",
      "3121 \t TIME TO STEP:  0.03862452507019043\n",
      "3122 \t TIME TO STEP:  0.02039051055908203\n",
      "3123 \t TIME TO STEP:  0.020119905471801758\n",
      "3124 \t TIME TO STEP:  0.0291900634765625\n",
      "3125 \t TIME TO STEP:  0.0535430908203125\n",
      "3126 \t TIME TO STEP:  0.0204925537109375\n",
      "3127 \t TIME TO STEP:  0.021100759506225586\n",
      "3128 \t TIME TO STEP:  0.020719289779663086\n",
      "3129 \t TIME TO STEP:  0.05353569984436035\n"
     ]
    },
    {
     "name": "stderr",
     "output_type": "stream",
     "text": [
      "2020-04-20 16:13:18,257 Computing map for /data/gibson/Adrian.glb\n"
     ]
    },
    {
     "name": "stdout",
     "output_type": "stream",
     "text": [
      "3130 \t TIME TO RESET:  \t 5.928394079208374\n",
      "3131 \t TIME TO STEP:  0.020978450775146484\n",
      "3132 \t TIME TO STEP:  0.02075815200805664\n",
      "3133 \t TIME TO STEP:  0.020234346389770508\n",
      "3134 \t TIME TO STEP:  0.020316123962402344\n",
      "3135 \t TIME TO STEP:  0.05368638038635254\n",
      "3136 \t TIME TO STEP:  0.02010488510131836\n",
      "3137 \t TIME TO STEP:  0.02102351188659668\n",
      "3138 \t TIME TO STEP:  0.020312070846557617\n",
      "3139 \t TIME TO STEP:  0.03602147102355957\n"
     ]
    },
    {
     "name": "stderr",
     "output_type": "stream",
     "text": [
      "2020-04-20 16:13:24,421 Computing map for /data/gibson/Adrian.glb\n",
      "2020-04-20 16:13:30,104 Invalid map: /data/gibson/Adrian.glb/316\n",
      "2020-04-20 16:13:30,325 Computing map for /data/gibson/Adrian.glb\n"
     ]
    },
    {
     "name": "stdout",
     "output_type": "stream",
     "text": [
      "3140 \t TIME TO RESET:  \t 11.942928552627563\n",
      "3141 \t TIME TO STEP:  0.057662248611450195\n",
      "3142 \t TIME TO STEP:  0.05330681800842285\n",
      "3143 \t TIME TO STEP:  0.020487308502197266\n",
      "3144 \t TIME TO STEP:  0.020096540451049805\n",
      "3145 \t TIME TO STEP:  0.02079319953918457\n",
      "3146 \t TIME TO STEP:  0.020281076431274414\n",
      "3147 \t TIME TO STEP:  0.02203369140625\n",
      "3148 \t TIME TO STEP:  0.02208113670349121\n",
      "3149 \t TIME TO STEP:  0.03646445274353027\n"
     ]
    },
    {
     "name": "stderr",
     "output_type": "stream",
     "text": [
      "2020-04-20 16:13:36,633 Computing map for /data/gibson/Adrian.glb\n"
     ]
    },
    {
     "name": "stdout",
     "output_type": "stream",
     "text": [
      "3150 \t TIME TO RESET:  \t 5.86230206489563\n",
      "3151 \t TIME TO STEP:  0.037784576416015625\n",
      "3152 \t TIME TO STEP:  0.02867603302001953\n",
      "3153 \t TIME TO STEP:  0.0201871395111084\n",
      "3154 \t TIME TO STEP:  0.02046036720275879\n",
      "3155 \t TIME TO STEP:  0.02017807960510254\n",
      "3156 \t TIME TO STEP:  0.02084827423095703\n",
      "3157 \t TIME TO STEP:  0.021426677703857422\n",
      "3158 \t TIME TO STEP:  0.02126169204711914\n",
      "3159 \t TIME TO STEP:  0.021238327026367188\n"
     ]
    },
    {
     "name": "stderr",
     "output_type": "stream",
     "text": [
      "2020-04-20 16:13:42,708 Computing map for /data/gibson/Adrian.glb\n"
     ]
    },
    {
     "name": "stdout",
     "output_type": "stream",
     "text": [
      "3160 \t TIME TO RESET:  \t 5.894555568695068\n",
      "3161 \t TIME TO STEP:  0.06917428970336914\n",
      "3162 \t TIME TO STEP:  0.01982569694519043\n",
      "3163 \t TIME TO STEP:  0.019833087921142578\n",
      "3164 \t TIME TO STEP:  0.02054286003112793\n",
      "3165 \t TIME TO STEP:  0.021510601043701172\n",
      "3166 \t TIME TO STEP:  0.02064347267150879\n",
      "3167 \t TIME TO STEP:  0.019985198974609375\n",
      "3168 \t TIME TO STEP:  0.021204710006713867\n",
      "3169 \t TIME TO STEP:  0.020081520080566406\n"
     ]
    },
    {
     "name": "stderr",
     "output_type": "stream",
     "text": [
      "2020-04-20 16:13:48,833 Computing map for /data/gibson/Adrian.glb\n"
     ]
    },
    {
     "name": "stdout",
     "output_type": "stream",
     "text": [
      "3170 \t TIME TO RESET:  \t 6.015847206115723\n",
      "3171 \t TIME TO STEP:  0.020607471466064453\n",
      "3172 \t TIME TO STEP:  0.028354167938232422\n",
      "3173 \t TIME TO STEP:  0.01987910270690918\n",
      "3174 \t TIME TO STEP:  0.020355701446533203\n",
      "3175 \t TIME TO STEP:  0.02063298225402832\n",
      "3176 \t TIME TO STEP:  0.05391740798950195\n",
      "3177 \t TIME TO STEP:  0.05476093292236328\n",
      "3178 \t TIME TO STEP:  0.06602859497070312\n",
      "3179 \t TIME TO STEP:  0.0709998607635498\n"
     ]
    },
    {
     "name": "stderr",
     "output_type": "stream",
     "text": [
      "2020-04-20 16:13:55,194 Computing map for /data/gibson/Adrian.glb\n",
      "2020-04-20 16:14:00,793 Invalid map: /data/gibson/Adrian.glb/320\n",
      "2020-04-20 16:14:01,018 Computing map for /data/gibson/Adrian.glb\n",
      "2020-04-20 16:14:06,622 Invalid map: /data/gibson/Adrian.glb/320\n",
      "2020-04-20 16:14:06,863 Computing map for /data/gibson/Adrian.glb\n",
      "2020-04-20 16:14:12,574 Invalid map: /data/gibson/Adrian.glb/320\n",
      "2020-04-20 16:14:12,793 Computing map for /data/gibson/Adrian.glb\n",
      "2020-04-20 16:14:18,497 Invalid map: /data/gibson/Adrian.glb/320\n",
      "2020-04-20 16:14:18,718 Computing map for /data/gibson/Adrian.glb\n"
     ]
    },
    {
     "name": "stdout",
     "output_type": "stream",
     "text": [
      "3180 \t TIME TO RESET:  \t 29.391582489013672\n",
      "3181 \t TIME TO STEP:  0.07283282279968262\n",
      "3182 \t TIME TO STEP:  0.02087879180908203\n",
      "3183 \t TIME TO STEP:  0.020711183547973633\n",
      "3184 \t TIME TO STEP:  0.020914316177368164\n",
      "3185 \t TIME TO STEP:  0.05573320388793945\n",
      "3186 \t TIME TO STEP:  0.04560446739196777\n",
      "3187 \t TIME TO STEP:  0.02019977569580078\n",
      "3188 \t TIME TO STEP:  0.020216703414916992\n",
      "3189 \t TIME TO STEP:  0.02761054039001465\n"
     ]
    },
    {
     "name": "stderr",
     "output_type": "stream",
     "text": [
      "2020-04-20 16:14:24,910 Computing map for /data/gibson/Adrian.glb\n"
     ]
    },
    {
     "name": "stdout",
     "output_type": "stream",
     "text": [
      "3190 \t TIME TO RESET:  \t 5.964648246765137\n",
      "3191 \t TIME TO STEP:  0.04883575439453125\n",
      "3192 \t TIME TO STEP:  0.049324989318847656\n",
      "3193 \t TIME TO STEP:  0.027730941772460938\n",
      "3194 \t TIME TO STEP:  0.0193326473236084\n",
      "3195 \t TIME TO STEP:  0.020403385162353516\n",
      "3196 \t TIME TO STEP:  0.019484281539916992\n",
      "3197 \t TIME TO STEP:  0.030137062072753906\n",
      "3198 \t TIME TO STEP:  0.02994394302368164\n",
      "3199 \t TIME TO STEP:  0.033978939056396484\n"
     ]
    },
    {
     "name": "stderr",
     "output_type": "stream",
     "text": [
      "2020-04-20 16:14:31,152 Computing map for /data/gibson/Adrian.glb\n"
     ]
    },
    {
     "name": "stdout",
     "output_type": "stream",
     "text": [
      "3200 \t TIME TO RESET:  \t 5.9248206615448\n",
      "3201 \t TIME TO STEP:  0.0500636100769043\n",
      "3202 \t TIME TO STEP:  0.019804716110229492\n",
      "3203 \t TIME TO STEP:  0.01992940902709961\n",
      "3204 \t TIME TO STEP:  0.019654512405395508\n",
      "3205 \t TIME TO STEP:  0.01937413215637207\n",
      "3206 \t TIME TO STEP:  0.01956009864807129\n",
      "3207 \t TIME TO STEP:  0.019878864288330078\n",
      "3208 \t TIME TO STEP:  0.019655466079711914\n",
      "3209 \t TIME TO STEP:  0.020084381103515625\n"
     ]
    },
    {
     "name": "stderr",
     "output_type": "stream",
     "text": [
      "2020-04-20 16:14:37,312 Computing map for /data/gibson/Adrian.glb\n",
      "2020-04-20 16:14:43,022 Invalid map: /data/gibson/Adrian.glb/323\n",
      "2020-04-20 16:14:43,240 Computing map for /data/gibson/Adrian.glb\n",
      "2020-04-20 16:14:48,982 Invalid map: /data/gibson/Adrian.glb/323\n",
      "2020-04-20 16:14:49,203 Computing map for /data/gibson/Adrian.glb\n"
     ]
    },
    {
     "name": "stdout",
     "output_type": "stream",
     "text": [
      "3210 \t TIME TO RESET:  \t 17.934979915618896\n",
      "3211 \t TIME TO STEP:  0.08094573020935059\n",
      "3212 \t TIME TO STEP:  0.05787348747253418\n",
      "3213 \t TIME TO STEP:  0.06790757179260254\n",
      "3214 \t TIME TO STEP:  0.029540061950683594\n",
      "3215 \t TIME TO STEP:  0.05041193962097168\n",
      "3216 \t TIME TO STEP:  0.020032644271850586\n",
      "3217 \t TIME TO STEP:  0.03440570831298828\n",
      "3218 \t TIME TO STEP:  0.021036386489868164\n",
      "3219 \t TIME TO STEP:  0.031313419342041016\n"
     ]
    },
    {
     "name": "stderr",
     "output_type": "stream",
     "text": [
      "2020-04-20 16:14:55,606 Computing map for /data/gibson/Adrian.glb\n"
     ]
    },
    {
     "name": "stdout",
     "output_type": "stream",
     "text": [
      "3220 \t TIME TO RESET:  \t 5.752004384994507\n",
      "3221 \t TIME TO STEP:  0.06481599807739258\n",
      "3222 \t TIME TO STEP:  0.05460357666015625\n",
      "3223 \t TIME TO STEP:  0.04360699653625488\n",
      "3224 \t TIME TO STEP:  0.020211458206176758\n",
      "3225 \t TIME TO STEP:  0.019929885864257812\n",
      "3226 \t TIME TO STEP:  0.020442485809326172\n",
      "3227 \t TIME TO STEP:  0.02168750762939453\n",
      "3228 \t TIME TO STEP:  0.02071547508239746\n",
      "3229 \t TIME TO STEP:  0.02047109603881836\n"
     ]
    },
    {
     "name": "stderr",
     "output_type": "stream",
     "text": [
      "2020-04-20 16:15:01,656 Computing map for /data/gibson/Adrian.glb\n",
      "2020-04-20 16:15:07,207 Invalid map: /data/gibson/Adrian.glb/325\n",
      "2020-04-20 16:15:07,429 Computing map for /data/gibson/Adrian.glb\n",
      "2020-04-20 16:15:13,171 Invalid map: /data/gibson/Adrian.glb/325\n",
      "2020-04-20 16:15:13,390 Computing map for /data/gibson/Adrian.glb\n",
      "2020-04-20 16:15:19,006 Invalid map: /data/gibson/Adrian.glb/325\n",
      "2020-04-20 16:15:19,227 Computing map for /data/gibson/Adrian.glb\n"
     ]
    },
    {
     "name": "stdout",
     "output_type": "stream",
     "text": [
      "3230 \t TIME TO RESET:  \t 23.46420931816101\n",
      "3231 \t TIME TO STEP:  0.08188271522521973\n",
      "3232 \t TIME TO STEP:  0.051543474197387695\n",
      "3233 \t TIME TO STEP:  0.05668210983276367\n",
      "3234 \t TIME TO STEP:  0.10359525680541992\n",
      "3235 \t TIME TO STEP:  0.050221920013427734\n",
      "3236 \t TIME TO STEP:  0.05713987350463867\n",
      "3237 \t TIME TO STEP:  0.03581571578979492\n",
      "3238 \t TIME TO STEP:  0.026456594467163086\n",
      "3239 \t TIME TO STEP:  0.019248247146606445\n"
     ]
    },
    {
     "name": "stderr",
     "output_type": "stream",
     "text": [
      "2020-04-20 16:15:25,602 Computing map for /data/gibson/Adrian.glb\n",
      "2020-04-20 16:15:31,138 Invalid map: /data/gibson/Adrian.glb/326\n",
      "2020-04-20 16:15:31,380 Computing map for /data/gibson/Adrian.glb\n",
      "2020-04-20 16:15:37,138 Invalid map: /data/gibson/Adrian.glb/326\n",
      "2020-04-20 16:15:37,370 Computing map for /data/gibson/Adrian.glb\n"
     ]
    },
    {
     "name": "stdout",
     "output_type": "stream",
     "text": [
      "3240 \t TIME TO RESET:  \t 17.77220368385315\n",
      "3241 \t TIME TO STEP:  0.10053348541259766\n",
      "3242 \t TIME TO STEP:  0.0850062370300293\n",
      "3243 \t TIME TO STEP:  0.04256129264831543\n",
      "3244 \t TIME TO STEP:  0.056699514389038086\n",
      "3245 \t TIME TO STEP:  0.02036881446838379\n",
      "3246 \t TIME TO STEP:  0.019842863082885742\n",
      "3247 \t TIME TO STEP:  0.020253896713256836\n",
      "3248 \t TIME TO STEP:  0.019888877868652344\n",
      "3249 \t TIME TO STEP:  0.019829273223876953\n"
     ]
    },
    {
     "name": "stderr",
     "output_type": "stream",
     "text": [
      "2020-04-20 16:15:43,763 Computing map for /data/gibson/Adrian.glb\n",
      "2020-04-20 16:15:49,513 Invalid map: /data/gibson/Adrian.glb/327\n",
      "2020-04-20 16:15:49,734 Computing map for /data/gibson/Adrian.glb\n",
      "2020-04-20 16:15:55,462 Invalid map: /data/gibson/Adrian.glb/327\n",
      "2020-04-20 16:15:55,702 Computing map for /data/gibson/Adrian.glb\n"
     ]
    },
    {
     "name": "stdout",
     "output_type": "stream",
     "text": [
      "3250 \t TIME TO RESET:  \t 17.9909451007843\n",
      "3251 \t TIME TO STEP:  0.051903724670410156\n",
      "3252 \t TIME TO STEP:  0.0377039909362793\n",
      "3253 \t TIME TO STEP:  0.0202789306640625\n",
      "3254 \t TIME TO STEP:  0.020825862884521484\n",
      "3255 \t TIME TO STEP:  0.02088761329650879\n",
      "3256 \t TIME TO STEP:  0.020580530166625977\n",
      "3257 \t TIME TO STEP:  0.020334243774414062\n",
      "3258 \t TIME TO STEP:  0.021036386489868164\n",
      "3259 \t TIME TO STEP:  0.021047115325927734\n"
     ]
    },
    {
     "name": "stderr",
     "output_type": "stream",
     "text": [
      "2020-04-20 16:16:01,992 Computing map for /data/gibson/Adrian.glb\n"
     ]
    },
    {
     "name": "stdout",
     "output_type": "stream",
     "text": [
      "3260 \t TIME TO RESET:  \t 5.8588879108428955\n",
      "3261 \t TIME TO STEP:  0.04748082160949707\n",
      "3262 \t TIME TO STEP:  0.02046036720275879\n",
      "3263 \t TIME TO STEP:  0.020092248916625977\n",
      "3264 \t TIME TO STEP:  0.020267248153686523\n",
      "3265 \t TIME TO STEP:  0.020589828491210938\n",
      "3266 \t TIME TO STEP:  0.020418882369995117\n",
      "3267 \t TIME TO STEP:  0.020694971084594727\n",
      "3268 \t TIME TO STEP:  0.03263282775878906\n",
      "3269 \t TIME TO STEP:  0.02137279510498047\n"
     ]
    },
    {
     "name": "stderr",
     "output_type": "stream",
     "text": [
      "2020-04-20 16:16:08,081 Computing map for /data/gibson/Adrian.glb\n"
     ]
    },
    {
     "name": "stdout",
     "output_type": "stream",
     "text": [
      "3270 \t TIME TO RESET:  \t 6.071350336074829\n",
      "3271 \t TIME TO STEP:  0.03686785697937012\n",
      "3272 \t TIME TO STEP:  0.03740286827087402\n",
      "3273 \t TIME TO STEP:  0.020973920822143555\n",
      "3274 \t TIME TO STEP:  0.020585298538208008\n",
      "3275 \t TIME TO STEP:  0.020841360092163086\n",
      "3276 \t TIME TO STEP:  0.020682811737060547\n",
      "3277 \t TIME TO STEP:  0.03153228759765625\n",
      "3278 \t TIME TO STEP:  0.02169346809387207\n",
      "3279 \t TIME TO STEP:  0.02021193504333496\n"
     ]
    },
    {
     "name": "stderr",
     "output_type": "stream",
     "text": [
      "2020-04-20 16:16:14,397 Computing map for /data/gibson/Adrian.glb\n"
     ]
    },
    {
     "name": "stdout",
     "output_type": "stream",
     "text": [
      "3280 \t TIME TO RESET:  \t 6.011265754699707\n",
      "3281 \t TIME TO STEP:  0.06352949142456055\n",
      "3282 \t TIME TO STEP:  0.020309925079345703\n",
      "3283 \t TIME TO STEP:  0.033179283142089844\n",
      "3284 \t TIME TO STEP:  0.020676612854003906\n",
      "3285 \t TIME TO STEP:  0.021525144577026367\n",
      "3286 \t TIME TO STEP:  0.050191640853881836\n",
      "3287 \t TIME TO STEP:  0.020461559295654297\n",
      "3288 \t TIME TO STEP:  0.020595550537109375\n",
      "3289 \t TIME TO STEP:  0.02036571502685547\n"
     ]
    },
    {
     "name": "stderr",
     "output_type": "stream",
     "text": [
      "2020-04-20 16:16:20,666 Computing map for /data/gibson/Adrian.glb\n"
     ]
    },
    {
     "name": "stdout",
     "output_type": "stream",
     "text": [
      "3290 \t TIME TO RESET:  \t 5.954756021499634\n",
      "3291 \t TIME TO STEP:  0.05849051475524902\n",
      "3292 \t TIME TO STEP:  0.029172658920288086\n",
      "3293 \t TIME TO STEP:  0.028905153274536133\n",
      "3294 \t TIME TO STEP:  0.03749203681945801\n",
      "3295 \t TIME TO STEP:  0.020284652709960938\n",
      "3296 \t TIME TO STEP:  0.020250558853149414\n",
      "3297 \t TIME TO STEP:  0.022731781005859375\n",
      "3298 \t TIME TO STEP:  0.03816819190979004\n",
      "3299 \t TIME TO STEP:  0.020335912704467773\n"
     ]
    },
    {
     "name": "stderr",
     "output_type": "stream",
     "text": [
      "2020-04-20 16:16:26,896 Computing map for /data/gibson/Adrian.glb\n",
      "2020-04-20 16:16:32,494 Invalid map: /data/gibson/Adrian.glb/332\n",
      "2020-04-20 16:16:32,694 Computing map for /data/gibson/Adrian.glb\n",
      "2020-04-20 16:16:38,322 Invalid map: /data/gibson/Adrian.glb/332\n",
      "2020-04-20 16:16:38,546 Computing map for /data/gibson/Adrian.glb\n"
     ]
    },
    {
     "name": "stdout",
     "output_type": "stream",
     "text": [
      "3300 \t TIME TO RESET:  \t 17.56227684020996\n",
      "3301 \t TIME TO STEP:  0.07172179222106934\n",
      "3302 \t TIME TO STEP:  0.038043975830078125\n",
      "3303 \t TIME TO STEP:  0.03713226318359375\n",
      "3304 \t TIME TO STEP:  0.02003645896911621\n",
      "3305 \t TIME TO STEP:  0.020348072052001953\n",
      "3306 \t TIME TO STEP:  0.020954132080078125\n",
      "3307 \t TIME TO STEP:  0.020494937896728516\n",
      "3308 \t TIME TO STEP:  0.020491600036621094\n",
      "3309 \t TIME TO STEP:  0.02082681655883789\n"
     ]
    },
    {
     "name": "stderr",
     "output_type": "stream",
     "text": [
      "2020-04-20 16:16:44,732 Computing map for /data/gibson/Adrian.glb\n"
     ]
    },
    {
     "name": "stdout",
     "output_type": "stream",
     "text": [
      "3310 \t TIME TO RESET:  \t 6.038044691085815\n",
      "3311 \t TIME TO STEP:  0.03175544738769531\n",
      "3312 \t TIME TO STEP:  0.022337675094604492\n",
      "3313 \t TIME TO STEP:  0.020255327224731445\n",
      "3314 \t TIME TO STEP:  0.02017807960510254\n",
      "3315 \t TIME TO STEP:  0.020143508911132812\n",
      "3316 \t TIME TO STEP:  0.020521879196166992\n",
      "3317 \t TIME TO STEP:  0.021216154098510742\n",
      "3318 \t TIME TO STEP:  0.020583391189575195\n",
      "3319 \t TIME TO STEP:  0.020145177841186523\n"
     ]
    },
    {
     "name": "stderr",
     "output_type": "stream",
     "text": [
      "2020-04-20 16:16:50,965 Computing map for /data/gibson/Adrian.glb\n"
     ]
    },
    {
     "name": "stdout",
     "output_type": "stream",
     "text": [
      "3320 \t TIME TO RESET:  \t 5.923074960708618\n",
      "3321 \t TIME TO STEP:  0.06803131103515625\n",
      "3322 \t TIME TO STEP:  0.06813383102416992\n",
      "3323 \t TIME TO STEP:  0.06820249557495117\n",
      "3324 \t TIME TO STEP:  0.06821084022521973\n",
      "3325 \t TIME TO STEP:  0.055246829986572266\n",
      "3326 \t TIME TO STEP:  0.054540395736694336\n",
      "3327 \t TIME TO STEP:  0.0549161434173584\n",
      "3328 \t TIME TO STEP:  0.029372215270996094\n",
      "3329 \t TIME TO STEP:  0.04697751998901367\n"
     ]
    },
    {
     "name": "stderr",
     "output_type": "stream",
     "text": [
      "2020-04-20 16:16:57,402 Computing map for /data/gibson/Adrian.glb\n",
      "2020-04-20 16:17:03,084 Invalid map: /data/gibson/Adrian.glb/335\n",
      "2020-04-20 16:17:03,300 Computing map for /data/gibson/Adrian.glb\n",
      "2020-04-20 16:17:09,028 Invalid map: /data/gibson/Adrian.glb/335\n",
      "2020-04-20 16:17:09,243 Computing map for /data/gibson/Adrian.glb\n"
     ]
    },
    {
     "name": "stdout",
     "output_type": "stream",
     "text": [
      "3330 \t TIME TO RESET:  \t 17.66666316986084\n",
      "3331 \t TIME TO STEP:  0.03941512107849121\n",
      "3332 \t TIME TO STEP:  0.021424055099487305\n",
      "3333 \t TIME TO STEP:  0.02104783058166504\n",
      "3334 \t TIME TO STEP:  0.020645856857299805\n",
      "3335 \t TIME TO STEP:  0.0202486515045166\n",
      "3336 \t TIME TO STEP:  0.022667407989501953\n",
      "3337 \t TIME TO STEP:  0.02107691764831543\n",
      "3338 \t TIME TO STEP:  0.02130270004272461\n"
     ]
    },
    {
     "name": "stderr",
     "output_type": "stream",
     "text": [
      "2020-04-20 16:17:15,262 Computing map for /data/gibson/Adrian.glb\n"
     ]
    },
    {
     "name": "stdout",
     "output_type": "stream",
     "text": [
      "3339 \t TIME TO STEP:  0.02059006690979004\n"
     ]
    },
    {
     "name": "stderr",
     "output_type": "stream",
     "text": [
      "2020-04-20 16:17:20,965 Invalid map: /data/gibson/Adrian.glb/336\n",
      "2020-04-20 16:17:21,189 Computing map for /data/gibson/Adrian.glb\n"
     ]
    },
    {
     "name": "stdout",
     "output_type": "stream",
     "text": [
      "3340 \t TIME TO RESET:  \t 11.875184535980225\n",
      "3341 \t TIME TO STEP:  0.04134011268615723\n",
      "3342 \t TIME TO STEP:  0.020363569259643555\n",
      "3343 \t TIME TO STEP:  0.020806074142456055\n",
      "3344 \t TIME TO STEP:  0.019861698150634766\n",
      "3345 \t TIME TO STEP:  0.027571678161621094\n",
      "3346 \t TIME TO STEP:  0.054346323013305664\n",
      "3347 \t TIME TO STEP:  0.023303508758544922\n",
      "3348 \t TIME TO STEP:  0.03417181968688965\n",
      "3349 \t TIME TO STEP:  0.021280527114868164\n"
     ]
    },
    {
     "name": "stderr",
     "output_type": "stream",
     "text": [
      "2020-04-20 16:17:27,456 Computing map for /data/gibson/Adrian.glb\n"
     ]
    },
    {
     "name": "stdout",
     "output_type": "stream",
     "text": [
      "3350 \t TIME TO RESET:  \t 6.034643650054932\n",
      "3351 \t TIME TO STEP:  0.029052734375\n",
      "3352 \t TIME TO STEP:  0.020287275314331055\n",
      "3353 \t TIME TO STEP:  0.028326749801635742\n",
      "3354 \t TIME TO STEP:  0.020161867141723633\n",
      "3355 \t TIME TO STEP:  0.019854307174682617\n",
      "3356 \t TIME TO STEP:  0.01993846893310547\n",
      "3357 \t TIME TO STEP:  0.020597219467163086\n",
      "3358 \t TIME TO STEP:  0.020308971405029297\n",
      "3359 \t TIME TO STEP:  0.020446300506591797\n"
     ]
    },
    {
     "name": "stderr",
     "output_type": "stream",
     "text": [
      "2020-04-20 16:17:33,654 Computing map for /data/gibson/Adrian.glb\n",
      "2020-04-20 16:17:39,289 Invalid map: /data/gibson/Adrian.glb/338\n",
      "2020-04-20 16:17:39,504 Computing map for /data/gibson/Adrian.glb\n",
      "2020-04-20 16:17:45,164 Invalid map: /data/gibson/Adrian.glb/338\n",
      "2020-04-20 16:17:45,380 Computing map for /data/gibson/Adrian.glb\n",
      "2020-04-20 16:17:51,121 Invalid map: /data/gibson/Adrian.glb/338\n",
      "2020-04-20 16:17:51,362 Computing map for /data/gibson/Adrian.glb\n"
     ]
    },
    {
     "name": "stdout",
     "output_type": "stream",
     "text": [
      "3360 \t TIME TO RESET:  \t 23.67396640777588\n",
      "3361 \t TIME TO STEP:  0.07271385192871094\n",
      "3362 \t TIME TO STEP:  0.028487682342529297\n",
      "3363 \t TIME TO STEP:  0.01950836181640625\n",
      "3364 \t TIME TO STEP:  0.01974201202392578\n",
      "3365 \t TIME TO STEP:  0.019799232482910156\n",
      "3366 \t TIME TO STEP:  0.019822359085083008\n",
      "3367 \t TIME TO STEP:  0.019909381866455078\n",
      "3368 \t TIME TO STEP:  0.03546881675720215\n",
      "3369 \t TIME TO STEP:  0.01989150047302246\n"
     ]
    },
    {
     "name": "stderr",
     "output_type": "stream",
     "text": [
      "2020-04-20 16:17:57,592 Computing map for /data/gibson/Adrian.glb\n",
      "2020-04-20 16:18:03,188 Invalid map: /data/gibson/Adrian.glb/339\n",
      "2020-04-20 16:18:03,405 Computing map for /data/gibson/Adrian.glb\n",
      "2020-04-20 16:18:09,094 Invalid map: /data/gibson/Adrian.glb/339\n",
      "2020-04-20 16:18:09,308 Computing map for /data/gibson/Adrian.glb\n"
     ]
    },
    {
     "name": "stdout",
     "output_type": "stream",
     "text": [
      "3370 \t TIME TO RESET:  \t 17.72438073158264\n",
      "3371 \t TIME TO STEP:  0.047396183013916016\n",
      "3372 \t TIME TO STEP:  0.049401044845581055\n",
      "3373 \t TIME TO STEP:  0.022191762924194336\n",
      "3374 \t TIME TO STEP:  0.033934593200683594\n",
      "3375 \t TIME TO STEP:  0.020427703857421875\n",
      "3376 \t TIME TO STEP:  0.020132780075073242\n",
      "3377 \t TIME TO STEP:  0.03622245788574219\n",
      "3378 \t TIME TO STEP:  0.020610570907592773\n",
      "3379 \t TIME TO STEP:  0.019771099090576172\n"
     ]
    },
    {
     "name": "stderr",
     "output_type": "stream",
     "text": [
      "2020-04-20 16:18:15,591 Computing map for /data/gibson/Adrian.glb\n"
     ]
    },
    {
     "name": "stdout",
     "output_type": "stream",
     "text": [
      "3380 \t TIME TO RESET:  \t 6.006296396255493\n",
      "3381 \t TIME TO STEP:  0.03501129150390625\n",
      "3382 \t TIME TO STEP:  0.05500507354736328\n",
      "3383 \t TIME TO STEP:  0.03623509407043457\n",
      "3384 \t TIME TO STEP:  0.02008056640625\n",
      "3385 \t TIME TO STEP:  0.019739627838134766\n",
      "3386 \t TIME TO STEP:  0.019459009170532227\n",
      "3387 \t TIME TO STEP:  0.020476818084716797\n",
      "3388 \t TIME TO STEP:  0.019961118698120117\n",
      "3389 \t TIME TO STEP:  0.021083593368530273\n"
     ]
    },
    {
     "name": "stderr",
     "output_type": "stream",
     "text": [
      "2020-04-20 16:18:21,840 Computing map for /data/gibson/Adrian.glb\n",
      "2020-04-20 16:18:27,481 Invalid map: /data/gibson/Adrian.glb/341\n",
      "2020-04-20 16:18:27,696 Computing map for /data/gibson/Adrian.glb\n",
      "2020-04-20 16:18:33,380 Invalid map: /data/gibson/Adrian.glb/341\n",
      "2020-04-20 16:18:33,627 Computing map for /data/gibson/Adrian.glb\n"
     ]
    },
    {
     "name": "stdout",
     "output_type": "stream",
     "text": [
      "3390 \t TIME TO RESET:  \t 17.78503441810608\n",
      "3391 \t TIME TO STEP:  0.06780314445495605\n",
      "3392 \t TIME TO STEP:  0.03448748588562012\n",
      "3393 \t TIME TO STEP:  0.020842790603637695\n",
      "3394 \t TIME TO STEP:  0.020470857620239258\n",
      "3395 \t TIME TO STEP:  0.0205838680267334\n",
      "3396 \t TIME TO STEP:  0.019896507263183594\n",
      "3397 \t TIME TO STEP:  0.020136356353759766\n",
      "3398 \t TIME TO STEP:  0.036795854568481445\n",
      "3399 \t TIME TO STEP:  0.019629240036010742\n"
     ]
    },
    {
     "name": "stderr",
     "output_type": "stream",
     "text": [
      "2020-04-20 16:18:39,881 Computing map for /data/gibson/Adrian.glb\n"
     ]
    },
    {
     "name": "stdout",
     "output_type": "stream",
     "text": [
      "3400 \t TIME TO RESET:  \t 6.028890132904053\n",
      "3401 \t TIME TO STEP:  0.05143857002258301\n",
      "3402 \t TIME TO STEP:  0.019461631774902344\n",
      "3403 \t TIME TO STEP:  0.020401716232299805\n",
      "3404 \t TIME TO STEP:  0.020438432693481445\n",
      "3405 \t TIME TO STEP:  0.02007889747619629\n",
      "3406 \t TIME TO STEP:  0.02004528045654297\n",
      "3407 \t TIME TO STEP:  0.019975900650024414\n",
      "3408 \t TIME TO STEP:  0.020024538040161133\n",
      "3409 \t TIME TO STEP:  0.022246599197387695\n"
     ]
    },
    {
     "name": "stderr",
     "output_type": "stream",
     "text": [
      "2020-04-20 16:18:46,134 Computing map for /data/gibson/Adrian.glb\n",
      "2020-04-20 16:18:51,849 Invalid map: /data/gibson/Adrian.glb/343\n",
      "2020-04-20 16:18:52,077 Computing map for /data/gibson/Adrian.glb\n"
     ]
    },
    {
     "name": "stdout",
     "output_type": "stream",
     "text": [
      "3410 \t TIME TO RESET:  \t 11.893306493759155\n",
      "3411 \t TIME TO STEP:  0.057412147521972656\n",
      "3412 \t TIME TO STEP:  0.046814680099487305\n",
      "3413 \t TIME TO STEP:  0.03677725791931152\n",
      "3414 \t TIME TO STEP:  0.07003164291381836\n",
      "3415 \t TIME TO STEP:  0.07826566696166992\n",
      "3416 \t TIME TO STEP:  0.04213452339172363\n",
      "3417 \t TIME TO STEP:  0.05065608024597168\n",
      "3418 \t TIME TO STEP:  0.019496679306030273\n",
      "3419 \t TIME TO STEP:  0.05737662315368652\n"
     ]
    },
    {
     "name": "stderr",
     "output_type": "stream",
     "text": [
      "2020-04-20 16:18:58,491 Computing map for /data/gibson/Adrian.glb\n",
      "2020-04-20 16:19:04,206 Invalid map: /data/gibson/Adrian.glb/344\n",
      "2020-04-20 16:19:04,429 Computing map for /data/gibson/Adrian.glb\n",
      "2020-04-20 16:19:10,122 Invalid map: /data/gibson/Adrian.glb/344\n",
      "2020-04-20 16:19:10,340 Computing map for /data/gibson/Adrian.glb\n",
      "2020-04-20 16:19:16,033 Invalid map: /data/gibson/Adrian.glb/344\n",
      "2020-04-20 16:19:16,275 Computing map for /data/gibson/Adrian.glb\n"
     ]
    },
    {
     "name": "stdout",
     "output_type": "stream",
     "text": [
      "3420 \t TIME TO RESET:  \t 23.74080204963684\n",
      "3421 \t TIME TO STEP:  0.061232566833496094\n",
      "3422 \t TIME TO STEP:  0.021156787872314453\n",
      "3423 \t TIME TO STEP:  0.020165681838989258\n",
      "3424 \t TIME TO STEP:  0.028273820877075195\n",
      "3425 \t TIME TO STEP:  0.02006053924560547\n",
      "3426 \t TIME TO STEP:  0.020087242126464844\n",
      "3427 \t TIME TO STEP:  0.02003312110900879\n",
      "3428 \t TIME TO STEP:  0.02106022834777832\n",
      "3429 \t TIME TO STEP:  0.020104169845581055\n"
     ]
    },
    {
     "name": "stderr",
     "output_type": "stream",
     "text": [
      "2020-04-20 16:19:22,457 Computing map for /data/gibson/Adrian.glb\n"
     ]
    },
    {
     "name": "stdout",
     "output_type": "stream",
     "text": [
      "3430 \t TIME TO RESET:  \t 5.839824914932251\n",
      "3431 \t TIME TO STEP:  0.03958415985107422\n",
      "3432 \t TIME TO STEP:  0.05443549156188965\n",
      "3433 \t TIME TO STEP:  0.05139589309692383\n",
      "3434 \t TIME TO STEP:  0.028778553009033203\n",
      "3435 \t TIME TO STEP:  0.019756078720092773\n",
      "3436 \t TIME TO STEP:  0.021050214767456055\n",
      "3437 \t TIME TO STEP:  0.036252737045288086\n",
      "3438 \t TIME TO STEP:  0.023282766342163086\n",
      "3439 \t TIME TO STEP:  0.03826332092285156\n"
     ]
    },
    {
     "name": "stderr",
     "output_type": "stream",
     "text": [
      "2020-04-20 16:19:28,615 Computing map for /data/gibson/Adrian.glb\n",
      "2020-04-20 16:19:34,332 Invalid map: /data/gibson/Adrian.glb/346\n",
      "2020-04-20 16:19:34,564 Computing map for /data/gibson/Adrian.glb\n"
     ]
    },
    {
     "name": "stdout",
     "output_type": "stream",
     "text": [
      "3440 \t TIME TO RESET:  \t 11.832737922668457\n",
      "3441 \t TIME TO STEP:  0.02274942398071289\n",
      "3442 \t TIME TO STEP:  0.02091217041015625\n",
      "3443 \t TIME TO STEP:  0.03879213333129883\n",
      "3444 \t TIME TO STEP:  0.029531478881835938\n",
      "3445 \t TIME TO STEP:  0.020819425582885742\n",
      "3446 \t TIME TO STEP:  0.020410537719726562\n",
      "3447 \t TIME TO STEP:  0.02070927619934082\n",
      "3448 \t TIME TO STEP:  0.05455827713012695\n",
      "3449 \t TIME TO STEP:  0.0513918399810791\n"
     ]
    },
    {
     "name": "stderr",
     "output_type": "stream",
     "text": [
      "2020-04-20 16:19:40,726 Computing map for /data/gibson/Adrian.glb\n",
      "2020-04-20 16:19:46,516 Invalid map: /data/gibson/Adrian.glb/347\n",
      "2020-04-20 16:19:46,732 Computing map for /data/gibson/Adrian.glb\n",
      "2020-04-20 16:19:52,396 Invalid map: /data/gibson/Adrian.glb/347\n",
      "2020-04-20 16:19:52,606 Computing map for /data/gibson/Adrian.glb\n"
     ]
    },
    {
     "name": "stdout",
     "output_type": "stream",
     "text": [
      "3450 \t TIME TO RESET:  \t 17.873224020004272\n",
      "3451 \t TIME TO STEP:  0.04003596305847168\n",
      "3452 \t TIME TO STEP:  0.021983623504638672\n",
      "3453 \t TIME TO STEP:  0.020299673080444336\n",
      "3454 \t TIME TO STEP:  0.020234346389770508\n",
      "3455 \t TIME TO STEP:  0.020467519760131836\n",
      "3456 \t TIME TO STEP:  0.02023482322692871\n",
      "3457 \t TIME TO STEP:  0.020837783813476562\n",
      "3458 \t TIME TO STEP:  0.020766735076904297\n",
      "3459 \t TIME TO STEP:  0.02039170265197754\n"
     ]
    },
    {
     "name": "stderr",
     "output_type": "stream",
     "text": [
      "2020-04-20 16:19:58,808 Computing map for /data/gibson/Adrian.glb\n",
      "2020-04-20 16:20:04,458 Invalid map: /data/gibson/Adrian.glb/348\n",
      "2020-04-20 16:20:04,674 Computing map for /data/gibson/Adrian.glb\n",
      "2020-04-20 16:20:10,393 Invalid map: /data/gibson/Adrian.glb/348\n",
      "2020-04-20 16:20:10,619 Computing map for /data/gibson/Adrian.glb\n"
     ]
    },
    {
     "name": "stdout",
     "output_type": "stream",
     "text": [
      "3460 \t TIME TO RESET:  \t 17.6803457736969\n",
      "3461 \t TIME TO STEP:  0.07911968231201172\n",
      "3462 \t TIME TO STEP:  0.045272111892700195\n",
      "3463 \t TIME TO STEP:  0.019992828369140625\n",
      "3464 \t TIME TO STEP:  0.05328178405761719\n",
      "3465 \t TIME TO STEP:  0.05353975296020508\n",
      "3466 \t TIME TO STEP:  0.0199432373046875\n",
      "3467 \t TIME TO STEP:  0.020697832107543945\n",
      "3468 \t TIME TO STEP:  0.020243167877197266\n",
      "3469 \t TIME TO STEP:  0.0204312801361084\n"
     ]
    },
    {
     "name": "stderr",
     "output_type": "stream",
     "text": [
      "2020-04-20 16:20:16,836 Computing map for /data/gibson/Adrian.glb\n"
     ]
    },
    {
     "name": "stdout",
     "output_type": "stream",
     "text": [
      "3470 \t TIME TO RESET:  \t 6.011884450912476\n",
      "3471 \t TIME TO STEP:  0.06496739387512207\n",
      "3472 \t TIME TO STEP:  0.04316520690917969\n",
      "3473 \t TIME TO STEP:  0.03488898277282715\n",
      "3474 \t TIME TO STEP:  0.02819204330444336\n",
      "3475 \t TIME TO STEP:  0.019974708557128906\n",
      "3476 \t TIME TO STEP:  0.020961999893188477\n",
      "3477 \t TIME TO STEP:  0.02063584327697754\n",
      "3478 \t TIME TO STEP:  0.01994013786315918\n",
      "3479 \t TIME TO STEP:  0.06209683418273926\n"
     ]
    },
    {
     "name": "stderr",
     "output_type": "stream",
     "text": [
      "2020-04-20 16:20:23,132 Computing map for /data/gibson/Adrian.glb\n",
      "2020-04-20 16:20:28,698 Invalid map: /data/gibson/Adrian.glb/350\n",
      "2020-04-20 16:20:28,909 Computing map for /data/gibson/Adrian.glb\n",
      "2020-04-20 16:20:34,561 Invalid map: /data/gibson/Adrian.glb/350\n",
      "2020-04-20 16:20:34,793 Computing map for /data/gibson/Adrian.glb\n"
     ]
    },
    {
     "name": "stdout",
     "output_type": "stream",
     "text": [
      "3480 \t TIME TO RESET:  \t 17.639015436172485\n",
      "3481 \t TIME TO STEP:  0.03660154342651367\n",
      "3482 \t TIME TO STEP:  0.021008014678955078\n",
      "3483 \t TIME TO STEP:  0.036362648010253906\n",
      "3484 \t TIME TO STEP:  0.0633840560913086\n",
      "3485 \t TIME TO STEP:  0.03579092025756836\n",
      "3486 \t TIME TO STEP:  0.021286725997924805\n",
      "3487 \t TIME TO STEP:  0.020090579986572266\n",
      "3488 \t TIME TO STEP:  0.02044224739074707\n",
      "3489 \t TIME TO STEP:  0.01953744888305664\n"
     ]
    },
    {
     "name": "stderr",
     "output_type": "stream",
     "text": [
      "2020-04-20 16:20:41,075 Computing map for /data/gibson/Adrian.glb\n"
     ]
    },
    {
     "name": "stdout",
     "output_type": "stream",
     "text": [
      "3490 \t TIME TO RESET:  \t 6.026313543319702\n",
      "3491 \t TIME TO STEP:  0.03152012825012207\n",
      "3492 \t TIME TO STEP:  0.020759105682373047\n",
      "3493 \t TIME TO STEP:  0.03691983222961426\n",
      "3494 \t TIME TO STEP:  0.039075613021850586\n",
      "3495 \t TIME TO STEP:  0.02107381820678711\n",
      "3496 \t TIME TO STEP:  0.03614401817321777\n",
      "3497 \t TIME TO STEP:  0.02025914192199707\n",
      "3498 \t TIME TO STEP:  0.02016162872314453\n",
      "3499 \t TIME TO STEP:  0.02053213119506836\n"
     ]
    },
    {
     "name": "stderr",
     "output_type": "stream",
     "text": [
      "2020-04-20 16:20:47,357 Computing map for /data/gibson/Adrian.glb\n"
     ]
    },
    {
     "name": "stdout",
     "output_type": "stream",
     "text": [
      "3500 \t TIME TO RESET:  \t 6.0324485301971436\n",
      "3501 \t TIME TO STEP:  0.04606795310974121\n",
      "3502 \t TIME TO STEP:  0.021350622177124023\n",
      "3503 \t TIME TO STEP:  0.020746469497680664\n",
      "3504 \t TIME TO STEP:  0.05196189880371094\n",
      "3505 \t TIME TO STEP:  0.04781484603881836\n",
      "3506 \t TIME TO STEP:  0.0645444393157959\n",
      "3507 \t TIME TO STEP:  0.07280087471008301\n",
      "3508 \t TIME TO STEP:  0.05019354820251465\n",
      "3509 \t TIME TO STEP:  0.049201011657714844\n"
     ]
    },
    {
     "name": "stderr",
     "output_type": "stream",
     "text": [
      "2020-04-20 16:20:53,813 Computing map for /data/gibson/Adrian.glb\n",
      "2020-04-20 16:20:59,646 Invalid map: /data/gibson/Adrian.glb/353\n",
      "2020-04-20 16:20:59,895 Computing map for /data/gibson/Adrian.glb\n",
      "2020-04-20 16:21:05,589 Invalid map: /data/gibson/Adrian.glb/353\n",
      "2020-04-20 16:21:05,830 Computing map for /data/gibson/Adrian.glb\n"
     ]
    },
    {
     "name": "stdout",
     "output_type": "stream",
     "text": [
      "3510 \t TIME TO RESET:  \t 17.94007968902588\n",
      "3511 \t TIME TO STEP:  0.049629926681518555\n",
      "3512 \t TIME TO STEP:  0.03801774978637695\n",
      "3513 \t TIME TO STEP:  0.020138978958129883\n",
      "3514 \t TIME TO STEP:  0.020361900329589844\n",
      "3515 \t TIME TO STEP:  0.04946017265319824\n",
      "3516 \t TIME TO STEP:  0.04393148422241211\n",
      "3517 \t TIME TO STEP:  0.0806725025177002\n",
      "3518 \t TIME TO STEP:  0.06673765182495117\n",
      "3519 \t TIME TO STEP:  0.03714871406555176\n"
     ]
    },
    {
     "name": "stderr",
     "output_type": "stream",
     "text": [
      "2020-04-20 16:21:12,147 Computing map for /data/gibson/Adrian.glb\n"
     ]
    },
    {
     "name": "stdout",
     "output_type": "stream",
     "text": [
      "3520 \t TIME TO RESET:  \t 5.986699342727661\n",
      "3521 \t TIME TO STEP:  0.049683570861816406\n",
      "3522 \t TIME TO STEP:  0.02106499671936035\n",
      "3523 \t TIME TO STEP:  0.02069091796875\n",
      "3524 \t TIME TO STEP:  0.020688533782958984\n",
      "3525 \t TIME TO STEP:  0.031693458557128906\n",
      "3526 \t TIME TO STEP:  0.02058243751525879\n",
      "3527 \t TIME TO STEP:  0.031378746032714844\n",
      "3528 \t TIME TO STEP:  0.022525787353515625\n",
      "3529 \t TIME TO STEP:  0.020476579666137695\n"
     ]
    },
    {
     "name": "stderr",
     "output_type": "stream",
     "text": [
      "2020-04-20 16:21:18,379 Computing map for /data/gibson/Adrian.glb\n"
     ]
    },
    {
     "name": "stdout",
     "output_type": "stream",
     "text": [
      "3530 \t TIME TO RESET:  \t 5.880869388580322\n",
      "3531 \t TIME TO STEP:  0.0671546459197998\n",
      "3532 \t TIME TO STEP:  0.0542752742767334\n",
      "3533 \t TIME TO STEP:  0.05749940872192383\n",
      "3534 \t TIME TO STEP:  0.029882431030273438\n",
      "3535 \t TIME TO STEP:  0.04594016075134277\n",
      "3536 \t TIME TO STEP:  0.020599365234375\n",
      "3537 \t TIME TO STEP:  0.020103931427001953\n",
      "3538 \t TIME TO STEP:  0.02075505256652832\n",
      "3539 \t TIME TO STEP:  0.02016162872314453\n"
     ]
    },
    {
     "name": "stderr",
     "output_type": "stream",
     "text": [
      "2020-04-20 16:21:24,639 Computing map for /data/gibson/Adrian.glb\n"
     ]
    },
    {
     "name": "stdout",
     "output_type": "stream",
     "text": [
      "3540 \t TIME TO RESET:  \t 5.951663017272949\n",
      "3541 \t TIME TO STEP:  0.05953383445739746\n",
      "3542 \t TIME TO STEP:  0.03135538101196289\n",
      "3543 \t TIME TO STEP:  0.07137560844421387\n",
      "3544 \t TIME TO STEP:  0.05086231231689453\n",
      "3545 \t TIME TO STEP:  0.051464080810546875\n",
      "3546 \t TIME TO STEP:  0.04245328903198242\n",
      "3547 \t TIME TO STEP:  0.019086599349975586\n",
      "3548 \t TIME TO STEP:  0.04976773262023926\n",
      "3549 \t TIME TO STEP:  0.02797102928161621\n"
     ]
    },
    {
     "name": "stderr",
     "output_type": "stream",
     "text": [
      "2020-04-20 16:21:30,974 Computing map for /data/gibson/Adrian.glb\n"
     ]
    },
    {
     "name": "stdout",
     "output_type": "stream",
     "text": [
      "3550 \t TIME TO RESET:  \t 5.945690870285034\n",
      "3551 \t TIME TO STEP:  0.04738473892211914\n",
      "3552 \t TIME TO STEP:  0.02046036720275879\n",
      "3553 \t TIME TO STEP:  0.020545005798339844\n",
      "3554 \t TIME TO STEP:  0.020795345306396484\n",
      "3555 \t TIME TO STEP:  0.01997661590576172\n",
      "3556 \t TIME TO STEP:  0.019850969314575195\n",
      "3557 \t TIME TO STEP:  0.0208737850189209\n",
      "3558 \t TIME TO STEP:  0.02003645896911621\n",
      "3559 \t TIME TO STEP:  0.021813392639160156\n"
     ]
    },
    {
     "name": "stderr",
     "output_type": "stream",
     "text": [
      "2020-04-20 16:21:37,126 Computing map for /data/gibson/Adrian.glb\n"
     ]
    },
    {
     "name": "stdout",
     "output_type": "stream",
     "text": [
      "3560 \t TIME TO RESET:  \t 6.083102703094482\n",
      "3561 \t TIME TO STEP:  0.043871164321899414\n",
      "3562 \t TIME TO STEP:  0.020546436309814453\n",
      "3563 \t TIME TO STEP:  0.020429372787475586\n",
      "3564 \t TIME TO STEP:  0.020120620727539062\n",
      "3565 \t TIME TO STEP:  0.02106785774230957\n",
      "3566 \t TIME TO STEP:  0.020740032196044922\n",
      "3567 \t TIME TO STEP:  0.01994919776916504\n",
      "3568 \t TIME TO STEP:  0.019897937774658203\n",
      "3569 \t TIME TO STEP:  0.020051002502441406\n"
     ]
    },
    {
     "name": "stderr",
     "output_type": "stream",
     "text": [
      "2020-04-20 16:21:43,424 Computing map for /data/gibson/Adrian.glb\n",
      "2020-04-20 16:21:49,052 Invalid map: /data/gibson/Adrian.glb/359\n",
      "2020-04-20 16:21:49,270 Computing map for /data/gibson/Adrian.glb\n",
      "2020-04-20 16:21:54,849 Invalid map: /data/gibson/Adrian.glb/359\n",
      "2020-04-20 16:21:55,094 Computing map for /data/gibson/Adrian.glb\n",
      "2020-04-20 16:22:00,813 Invalid map: /data/gibson/Adrian.glb/359\n",
      "2020-04-20 16:22:01,025 Computing map for /data/gibson/Adrian.glb\n",
      "2020-04-20 16:22:06,794 Invalid map: /data/gibson/Adrian.glb/359\n",
      "2020-04-20 16:22:07,021 Computing map for /data/gibson/Adrian.glb\n"
     ]
    },
    {
     "name": "stdout",
     "output_type": "stream",
     "text": [
      "3570 \t TIME TO RESET:  \t 29.606969833374023\n",
      "3571 \t TIME TO STEP:  0.06011795997619629\n",
      "3572 \t TIME TO STEP:  0.021137714385986328\n",
      "3573 \t TIME TO STEP:  0.035282135009765625\n",
      "3574 \t TIME TO STEP:  0.020446300506591797\n",
      "3575 \t TIME TO STEP:  0.05051541328430176\n",
      "3576 \t TIME TO STEP:  0.0359501838684082\n",
      "3577 \t TIME TO STEP:  0.052686214447021484\n",
      "3578 \t TIME TO STEP:  0.02840566635131836\n",
      "3579 \t TIME TO STEP:  0.05543160438537598\n"
     ]
    },
    {
     "name": "stderr",
     "output_type": "stream",
     "text": [
      "2020-04-20 16:22:13,355 Computing map for /data/gibson/Adrian.glb\n"
     ]
    },
    {
     "name": "stdout",
     "output_type": "stream",
     "text": [
      "3580 \t TIME TO RESET:  \t 5.798646688461304\n",
      "3581 \t TIME TO STEP:  0.023695707321166992\n",
      "3582 \t TIME TO STEP:  0.03845930099487305\n",
      "3583 \t TIME TO STEP:  0.02827000617980957\n",
      "3584 \t TIME TO STEP:  0.053612470626831055\n",
      "3585 \t TIME TO STEP:  0.02155470848083496\n",
      "3586 \t TIME TO STEP:  0.02025628089904785\n",
      "3587 \t TIME TO STEP:  0.029584884643554688\n",
      "3588 \t TIME TO STEP:  0.020190000534057617\n",
      "3589 \t TIME TO STEP:  0.02031111717224121\n"
     ]
    },
    {
     "name": "stderr",
     "output_type": "stream",
     "text": [
      "2020-04-20 16:22:19,429 Computing map for /data/gibson/Adrian.glb\n"
     ]
    },
    {
     "name": "stdout",
     "output_type": "stream",
     "text": [
      "3590 \t TIME TO RESET:  \t 5.964872121810913\n",
      "3591 \t TIME TO STEP:  0.037512779235839844\n",
      "3592 \t TIME TO STEP:  0.05176997184753418\n",
      "3593 \t TIME TO STEP:  0.07411003112792969\n",
      "3594 \t TIME TO STEP:  0.08005666732788086\n",
      "3595 \t TIME TO STEP:  0.04038500785827637\n",
      "3596 \t TIME TO STEP:  0.037070512771606445\n",
      "3597 \t TIME TO STEP:  0.052509307861328125\n",
      "3598 \t TIME TO STEP:  0.07240438461303711\n",
      "3599 \t TIME TO STEP:  0.02077770233154297\n"
     ]
    },
    {
     "name": "stderr",
     "output_type": "stream",
     "text": [
      "2020-04-20 16:22:25,863 Computing map for /data/gibson/Adrian.glb\n",
      "2020-04-20 16:22:31,528 Invalid map: /data/gibson/Adrian.glb/362\n",
      "2020-04-20 16:22:31,751 Computing map for /data/gibson/Adrian.glb\n",
      "2020-04-20 16:22:37,379 Invalid map: /data/gibson/Adrian.glb/362\n",
      "2020-04-20 16:22:37,612 Computing map for /data/gibson/Adrian.glb\n",
      "2020-04-20 16:22:43,278 Invalid map: /data/gibson/Adrian.glb/362\n",
      "2020-04-20 16:22:43,486 Computing map for /data/gibson/Adrian.glb\n",
      "2020-04-20 16:22:49,196 Invalid map: /data/gibson/Adrian.glb/362\n",
      "2020-04-20 16:22:49,421 Computing map for /data/gibson/Adrian.glb\n"
     ]
    },
    {
     "name": "stdout",
     "output_type": "stream",
     "text": [
      "3600 \t TIME TO RESET:  \t 29.487576484680176\n",
      "3601 \t TIME TO STEP:  0.055872440338134766\n",
      "3602 \t TIME TO STEP:  0.021335601806640625\n",
      "3603 \t TIME TO STEP:  0.020892858505249023\n",
      "3604 \t TIME TO STEP:  0.020886898040771484\n",
      "3605 \t TIME TO STEP:  0.0201416015625\n",
      "3606 \t TIME TO STEP:  0.02007603645324707\n",
      "3607 \t TIME TO STEP:  0.03149271011352539\n",
      "3608 \t TIME TO STEP:  0.02142786979675293\n",
      "3609 \t TIME TO STEP:  0.020923614501953125\n"
     ]
    },
    {
     "name": "stderr",
     "output_type": "stream",
     "text": [
      "2020-04-20 16:22:55,599 Computing map for /data/gibson/Adrian.glb\n",
      "2020-04-20 16:23:01,249 Invalid map: /data/gibson/Adrian.glb/363\n",
      "2020-04-20 16:23:01,467 Computing map for /data/gibson/Adrian.glb\n"
     ]
    },
    {
     "name": "stdout",
     "output_type": "stream",
     "text": [
      "3610 \t TIME TO RESET:  \t 11.769988536834717\n",
      "3611 \t TIME TO STEP:  0.06681442260742188\n",
      "3612 \t TIME TO STEP:  0.04646730422973633\n",
      "3613 \t TIME TO STEP:  0.05219769477844238\n",
      "3614 \t TIME TO STEP:  0.05526852607727051\n",
      "3615 \t TIME TO STEP:  0.03652644157409668\n",
      "3616 \t TIME TO STEP:  0.019925832748413086\n",
      "3617 \t TIME TO STEP:  0.020499467849731445\n",
      "3618 \t TIME TO STEP:  0.02033376693725586\n",
      "3619 \t TIME TO STEP:  0.020130157470703125\n"
     ]
    },
    {
     "name": "stderr",
     "output_type": "stream",
     "text": [
      "2020-04-20 16:23:07,701 Computing map for /data/gibson/Adrian.glb\n",
      "2020-04-20 16:23:13,220 Invalid map: /data/gibson/Adrian.glb/364\n",
      "2020-04-20 16:23:13,445 Computing map for /data/gibson/Adrian.glb\n"
     ]
    },
    {
     "name": "stdout",
     "output_type": "stream",
     "text": [
      "3620 \t TIME TO RESET:  \t 11.63538408279419\n",
      "3621 \t TIME TO STEP:  0.02996087074279785\n",
      "3622 \t TIME TO STEP:  0.020207881927490234\n",
      "3623 \t TIME TO STEP:  0.020070791244506836\n",
      "3624 \t TIME TO STEP:  0.04033398628234863\n",
      "3625 \t TIME TO STEP:  0.020866870880126953\n",
      "3626 \t TIME TO STEP:  0.029404878616333008\n",
      "3627 \t TIME TO STEP:  0.020021677017211914\n",
      "3628 \t TIME TO STEP:  0.019965648651123047\n",
      "3629 \t TIME TO STEP:  0.02106308937072754\n"
     ]
    },
    {
     "name": "stderr",
     "output_type": "stream",
     "text": [
      "2020-04-20 16:23:19,572 Computing map for /data/gibson/Adrian.glb\n"
     ]
    },
    {
     "name": "stdout",
     "output_type": "stream",
     "text": [
      "3630 \t TIME TO RESET:  \t 5.962318420410156\n",
      "3631 \t TIME TO STEP:  0.07059741020202637\n",
      "3632 \t TIME TO STEP:  0.02028632164001465\n",
      "3633 \t TIME TO STEP:  0.019775390625\n",
      "3634 \t TIME TO STEP:  0.02061915397644043\n",
      "3635 \t TIME TO STEP:  0.020478487014770508\n",
      "3636 \t TIME TO STEP:  0.03494524955749512\n",
      "3637 \t TIME TO STEP:  0.02930593490600586\n",
      "3638 \t TIME TO STEP:  0.01969766616821289\n",
      "3639 \t TIME TO STEP:  0.0340428352355957\n"
     ]
    },
    {
     "name": "stderr",
     "output_type": "stream",
     "text": [
      "2020-04-20 16:23:25,784 Computing map for /data/gibson/Adrian.glb\n",
      "2020-04-20 16:23:31,440 Invalid map: /data/gibson/Adrian.glb/366\n",
      "2020-04-20 16:23:31,671 Computing map for /data/gibson/Adrian.glb\n"
     ]
    },
    {
     "name": "stdout",
     "output_type": "stream",
     "text": [
      "3640 \t TIME TO RESET:  \t 11.766640663146973\n",
      "3641 \t TIME TO STEP:  0.06832480430603027\n",
      "3642 \t TIME TO STEP:  0.021063804626464844\n",
      "3643 \t TIME TO STEP:  0.0697014331817627\n",
      "3644 \t TIME TO STEP:  0.04634904861450195\n",
      "3645 \t TIME TO STEP:  0.053340911865234375\n",
      "3646 \t TIME TO STEP:  0.05438089370727539\n",
      "3647 \t TIME TO STEP:  0.060945749282836914\n",
      "3648 \t TIME TO STEP:  0.03701615333557129\n",
      "3649 \t TIME TO STEP:  0.053375959396362305\n"
     ]
    },
    {
     "name": "stderr",
     "output_type": "stream",
     "text": [
      "2020-04-20 16:23:38,019 Computing map for /data/gibson/Adrian.glb\n"
     ]
    },
    {
     "name": "stdout",
     "output_type": "stream",
     "text": [
      "3650 \t TIME TO RESET:  \t 5.967332601547241\n",
      "3651 \t TIME TO STEP:  0.02309441566467285\n",
      "3652 \t TIME TO STEP:  0.020763158798217773\n",
      "3653 \t TIME TO STEP:  0.02039813995361328\n",
      "3654 \t TIME TO STEP:  0.02017951011657715\n",
      "3655 \t TIME TO STEP:  0.020231246948242188\n",
      "3656 \t TIME TO STEP:  0.020847797393798828\n",
      "3657 \t TIME TO STEP:  0.020551443099975586\n",
      "3658 \t TIME TO STEP:  0.0354764461517334\n",
      "3659 \t TIME TO STEP:  0.02130913734436035\n"
     ]
    },
    {
     "name": "stderr",
     "output_type": "stream",
     "text": [
      "2020-04-20 16:23:44,204 Computing map for /data/gibson/Adrian.glb\n",
      "2020-04-20 16:23:49,757 Invalid map: /data/gibson/Adrian.glb/368\n",
      "2020-04-20 16:23:49,975 Computing map for /data/gibson/Adrian.glb\n",
      "2020-04-20 16:23:55,592 Invalid map: /data/gibson/Adrian.glb/368\n",
      "2020-04-20 16:23:55,807 Computing map for /data/gibson/Adrian.glb\n",
      "2020-04-20 16:24:01,437 Invalid map: /data/gibson/Adrian.glb/368\n",
      "2020-04-20 16:24:01,690 Computing map for /data/gibson/Adrian.glb\n"
     ]
    },
    {
     "name": "stdout",
     "output_type": "stream",
     "text": [
      "3660 \t TIME TO RESET:  \t 23.37476420402527\n",
      "3661 \t TIME TO STEP:  0.05080604553222656\n",
      "3662 \t TIME TO STEP:  0.05106496810913086\n",
      "3663 \t TIME TO STEP:  0.022523880004882812\n",
      "3664 \t TIME TO STEP:  0.02058243751525879\n",
      "3665 \t TIME TO STEP:  0.020288467407226562\n",
      "3666 \t TIME TO STEP:  0.02067279815673828\n",
      "3667 \t TIME TO STEP:  0.021563053131103516\n",
      "3668 \t TIME TO STEP:  0.03347301483154297\n",
      "3669 \t TIME TO STEP:  0.02125835418701172\n"
     ]
    },
    {
     "name": "stderr",
     "output_type": "stream",
     "text": [
      "2020-04-20 16:24:07,836 Computing map for /data/gibson/Adrian.glb\n"
     ]
    },
    {
     "name": "stdout",
     "output_type": "stream",
     "text": [
      "3670 \t TIME TO RESET:  \t 5.706088066101074\n",
      "3671 \t TIME TO STEP:  0.0672616958618164\n",
      "3672 \t TIME TO STEP:  0.02870488166809082\n",
      "3673 \t TIME TO STEP:  0.05221962928771973\n",
      "3674 \t TIME TO STEP:  0.045133113861083984\n",
      "3675 \t TIME TO STEP:  0.052710771560668945\n",
      "3676 \t TIME TO STEP:  0.06450033187866211\n",
      "3677 \t TIME TO STEP:  0.02048778533935547\n",
      "3678 \t TIME TO STEP:  0.019965410232543945\n",
      "3679 \t TIME TO STEP:  0.03180074691772461\n"
     ]
    },
    {
     "name": "stderr",
     "output_type": "stream",
     "text": [
      "2020-04-20 16:24:13,918 Computing map for /data/gibson/Adrian.glb\n"
     ]
    },
    {
     "name": "stdout",
     "output_type": "stream",
     "text": [
      "3680 \t TIME TO RESET:  \t 6.013014078140259\n",
      "3681 \t TIME TO STEP:  0.05306887626647949\n",
      "3682 \t TIME TO STEP:  0.06582474708557129\n",
      "3683 \t TIME TO STEP:  0.053546905517578125\n",
      "3684 \t TIME TO STEP:  0.06947517395019531\n",
      "3685 \t TIME TO STEP:  0.04694318771362305\n",
      "3686 \t TIME TO STEP:  0.05290579795837402\n",
      "3687 \t TIME TO STEP:  0.07063555717468262\n",
      "3688 \t TIME TO STEP:  0.05484461784362793\n",
      "3689 \t TIME TO STEP:  0.08324646949768066\n"
     ]
    },
    {
     "name": "stderr",
     "output_type": "stream",
     "text": [
      "2020-04-20 16:24:20,487 Computing map for /data/gibson/Adrian.glb\n",
      "2020-04-20 16:24:26,124 Invalid map: /data/gibson/Adrian.glb/371\n",
      "2020-04-20 16:24:26,343 Computing map for /data/gibson/Adrian.glb\n",
      "2020-04-20 16:24:31,983 Invalid map: /data/gibson/Adrian.glb/371\n",
      "2020-04-20 16:24:32,214 Computing map for /data/gibson/Adrian.glb\n"
     ]
    },
    {
     "name": "stdout",
     "output_type": "stream",
     "text": [
      "3690 \t TIME TO RESET:  \t 17.70577621459961\n",
      "3691 \t TIME TO STEP:  0.03666996955871582\n",
      "3692 \t TIME TO STEP:  0.021876811981201172\n",
      "3693 \t TIME TO STEP:  0.020073890686035156\n",
      "3694 \t TIME TO STEP:  0.020472049713134766\n",
      "3695 \t TIME TO STEP:  0.020336389541625977\n",
      "3696 \t TIME TO STEP:  0.020742416381835938\n",
      "3697 \t TIME TO STEP:  0.02180933952331543\n",
      "3698 \t TIME TO STEP:  0.021246671676635742\n",
      "3699 \t TIME TO STEP:  0.0213773250579834\n"
     ]
    },
    {
     "name": "stderr",
     "output_type": "stream",
     "text": [
      "2020-04-20 16:24:38,418 Computing map for /data/gibson/Adrian.glb\n",
      "2020-04-20 16:24:44,022 Invalid map: /data/gibson/Adrian.glb/372\n",
      "2020-04-20 16:24:44,244 Computing map for /data/gibson/Adrian.glb\n",
      "2020-04-20 16:24:49,765 Invalid map: /data/gibson/Adrian.glb/372\n",
      "2020-04-20 16:24:49,985 Computing map for /data/gibson/Adrian.glb\n",
      "2020-04-20 16:24:55,559 Invalid map: /data/gibson/Adrian.glb/372\n",
      "2020-04-20 16:24:55,780 Computing map for /data/gibson/Adrian.glb\n"
     ]
    },
    {
     "name": "stdout",
     "output_type": "stream",
     "text": [
      "3700 \t TIME TO RESET:  \t 23.199665307998657\n",
      "3701 \t TIME TO STEP:  0.04069972038269043\n",
      "3702 \t TIME TO STEP:  0.021419048309326172\n",
      "3703 \t TIME TO STEP:  0.029294252395629883\n",
      "3704 \t TIME TO STEP:  0.037186622619628906\n",
      "3705 \t TIME TO STEP:  0.020405054092407227\n",
      "3706 \t TIME TO STEP:  0.03396463394165039\n",
      "3707 \t TIME TO STEP:  0.02965068817138672\n",
      "3708 \t TIME TO STEP:  0.02039194107055664\n",
      "3709 \t TIME TO STEP:  0.02068018913269043\n"
     ]
    },
    {
     "name": "stderr",
     "output_type": "stream",
     "text": [
      "2020-04-20 16:25:01,840 Computing map for /data/gibson/Adrian.glb\n",
      "2020-04-20 16:25:07,359 Invalid map: /data/gibson/Adrian.glb/373\n",
      "2020-04-20 16:25:07,577 Computing map for /data/gibson/Adrian.glb\n",
      "2020-04-20 16:25:13,045 Invalid map: /data/gibson/Adrian.glb/373\n",
      "2020-04-20 16:25:13,257 Computing map for /data/gibson/Adrian.glb\n"
     ]
    },
    {
     "name": "stdout",
     "output_type": "stream",
     "text": [
      "3710 \t TIME TO RESET:  \t 17.241653203964233\n",
      "3711 \t TIME TO STEP:  0.050185441970825195\n",
      "3712 \t TIME TO STEP:  0.06578826904296875\n",
      "3713 \t TIME TO STEP:  0.05096840858459473\n",
      "3714 \t TIME TO STEP:  0.03501129150390625\n",
      "3715 \t TIME TO STEP:  0.05407261848449707\n",
      "3716 \t TIME TO STEP:  0.05290532112121582\n",
      "3717 \t TIME TO STEP:  0.051500797271728516\n",
      "3718 \t TIME TO STEP:  0.028194665908813477\n",
      "3719 \t TIME TO STEP:  0.05124402046203613\n"
     ]
    },
    {
     "name": "stderr",
     "output_type": "stream",
     "text": [
      "2020-04-20 16:25:19,537 Computing map for /data/gibson/Adrian.glb\n"
     ]
    },
    {
     "name": "stdout",
     "output_type": "stream",
     "text": [
      "3720 \t TIME TO RESET:  \t 5.788117170333862\n",
      "3721 \t TIME TO STEP:  0.03966045379638672\n",
      "3722 \t TIME TO STEP:  0.021544218063354492\n",
      "3723 \t TIME TO STEP:  0.05411100387573242\n",
      "3724 \t TIME TO STEP:  0.020061254501342773\n",
      "3725 \t TIME TO STEP:  0.019849061965942383\n",
      "3726 \t TIME TO STEP:  0.01991891860961914\n",
      "3727 \t TIME TO STEP:  0.020262956619262695\n",
      "3728 \t TIME TO STEP:  0.03670930862426758\n",
      "3729 \t TIME TO STEP:  0.02113795280456543\n"
     ]
    },
    {
     "name": "stderr",
     "output_type": "stream",
     "text": [
      "2020-04-20 16:25:25,577 Computing map for /data/gibson/Adrian.glb\n"
     ]
    },
    {
     "name": "stdout",
     "output_type": "stream",
     "text": [
      "3730 \t TIME TO RESET:  \t 5.773041009902954\n",
      "3731 \t TIME TO STEP:  0.05342721939086914\n",
      "3732 \t TIME TO STEP:  0.02074432373046875\n",
      "3733 \t TIME TO STEP:  0.05237078666687012\n",
      "3734 \t TIME TO STEP:  0.05293726921081543\n",
      "3735 \t TIME TO STEP:  0.06889033317565918\n",
      "3736 \t TIME TO STEP:  0.06621122360229492\n",
      "3737 \t TIME TO STEP:  0.02727532386779785\n",
      "3738 \t TIME TO STEP:  0.019742965698242188\n",
      "3739 \t TIME TO STEP:  0.01976609230041504\n"
     ]
    },
    {
     "name": "stderr",
     "output_type": "stream",
     "text": [
      "2020-04-20 16:25:31,737 Computing map for /data/gibson/Adrian.glb\n",
      "2020-04-20 16:25:37,388 Invalid map: /data/gibson/Adrian.glb/376\n",
      "2020-04-20 16:25:37,593 Computing map for /data/gibson/Adrian.glb\n"
     ]
    },
    {
     "name": "stdout",
     "output_type": "stream",
     "text": [
      "3740 \t TIME TO RESET:  \t 11.782515525817871\n",
      "3741 \t TIME TO STEP:  0.04646587371826172\n",
      "3742 \t TIME TO STEP:  0.019945383071899414\n",
      "3743 \t TIME TO STEP:  0.019921064376831055\n",
      "3744 \t TIME TO STEP:  0.02005457878112793\n",
      "3745 \t TIME TO STEP:  0.020674943923950195\n",
      "3746 \t TIME TO STEP:  0.02060079574584961\n",
      "3747 \t TIME TO STEP:  0.02921605110168457\n",
      "3748 \t TIME TO STEP:  0.020124197006225586\n",
      "3749 \t TIME TO STEP:  0.021541118621826172\n"
     ]
    },
    {
     "name": "stderr",
     "output_type": "stream",
     "text": [
      "2020-04-20 16:25:43,747 Computing map for /data/gibson/Adrian.glb\n"
     ]
    },
    {
     "name": "stdout",
     "output_type": "stream",
     "text": [
      "3750 \t TIME TO RESET:  \t 6.0754780769348145\n",
      "3751 \t TIME TO STEP:  0.06806087493896484\n",
      "3752 \t TIME TO STEP:  0.05545377731323242\n",
      "3753 \t TIME TO STEP:  0.052872657775878906\n",
      "3754 \t TIME TO STEP:  0.029753446578979492\n",
      "3755 \t TIME TO STEP:  0.020886898040771484\n",
      "3756 \t TIME TO STEP:  0.0538945198059082\n",
      "3757 \t TIME TO STEP:  0.06751561164855957\n",
      "3758 \t TIME TO STEP:  0.055629730224609375\n",
      "3759 \t TIME TO STEP:  0.05490231513977051\n"
     ]
    },
    {
     "name": "stderr",
     "output_type": "stream",
     "text": [
      "2020-04-20 16:25:50,302 Computing map for /data/gibson/Adrian.glb\n"
     ]
    },
    {
     "name": "stdout",
     "output_type": "stream",
     "text": [
      "3760 \t TIME TO RESET:  \t 6.0196027755737305\n",
      "3761 \t TIME TO STEP:  0.029207706451416016\n",
      "3762 \t TIME TO STEP:  0.020401477813720703\n",
      "3763 \t TIME TO STEP:  0.020120620727539062\n",
      "3764 \t TIME TO STEP:  0.020668506622314453\n",
      "3765 \t TIME TO STEP:  0.020303964614868164\n",
      "3766 \t TIME TO STEP:  0.020566940307617188\n",
      "3767 \t TIME TO STEP:  0.028943777084350586\n",
      "3768 \t TIME TO STEP:  0.020697593688964844\n",
      "3769 \t TIME TO STEP:  0.020075559616088867\n"
     ]
    },
    {
     "name": "stderr",
     "output_type": "stream",
     "text": [
      "2020-04-20 16:25:56,484 Computing map for /data/gibson/Adrian.glb\n"
     ]
    },
    {
     "name": "stdout",
     "output_type": "stream",
     "text": [
      "3770 \t TIME TO RESET:  \t 6.0043556690216064\n",
      "3771 \t TIME TO STEP:  0.05991649627685547\n",
      "3772 \t TIME TO STEP:  0.02048516273498535\n",
      "3773 \t TIME TO STEP:  0.02009725570678711\n",
      "3774 \t TIME TO STEP:  0.020498991012573242\n",
      "3775 \t TIME TO STEP:  0.02106451988220215\n",
      "3776 \t TIME TO STEP:  0.029582738876342773\n",
      "3777 \t TIME TO STEP:  0.028397798538208008\n",
      "3778 \t TIME TO STEP:  0.041951656341552734\n",
      "3779 \t TIME TO STEP:  0.02776169776916504\n"
     ]
    },
    {
     "name": "stderr",
     "output_type": "stream",
     "text": [
      "2020-04-20 16:26:02,772 Computing map for /data/gibson/Adrian.glb\n"
     ]
    },
    {
     "name": "stdout",
     "output_type": "stream",
     "text": [
      "3780 \t TIME TO RESET:  \t 5.862222194671631\n",
      "3781 \t TIME TO STEP:  0.020551204681396484\n",
      "3782 \t TIME TO STEP:  0.021142244338989258\n",
      "3783 \t TIME TO STEP:  0.028776168823242188\n",
      "3784 \t TIME TO STEP:  0.055275917053222656\n",
      "3785 \t TIME TO STEP:  0.06752419471740723\n",
      "3786 \t TIME TO STEP:  0.053643226623535156\n",
      "3787 \t TIME TO STEP:  0.06122922897338867\n",
      "3788 \t TIME TO STEP:  0.07581377029418945\n",
      "3789 \t TIME TO STEP:  0.054227590560913086\n"
     ]
    },
    {
     "name": "stderr",
     "output_type": "stream",
     "text": [
      "2020-04-20 16:26:09,082 Computing map for /data/gibson/Adrian.glb\n"
     ]
    },
    {
     "name": "stdout",
     "output_type": "stream",
     "text": [
      "3790 \t TIME TO RESET:  \t 5.877005577087402\n",
      "3791 \t TIME TO STEP:  0.055649757385253906\n",
      "3792 \t TIME TO STEP:  0.02017974853515625\n",
      "3793 \t TIME TO STEP:  0.02002239227294922\n",
      "3794 \t TIME TO STEP:  0.071319580078125\n",
      "3795 \t TIME TO STEP:  0.029583454132080078\n",
      "3796 \t TIME TO STEP:  0.0378267765045166\n",
      "3797 \t TIME TO STEP:  0.01992177963256836\n",
      "3798 \t TIME TO STEP:  0.02631521224975586\n",
      "3799 \t TIME TO STEP:  0.01967310905456543\n"
     ]
    },
    {
     "name": "stderr",
     "output_type": "stream",
     "text": [
      "2020-04-20 16:26:15,249 Computing map for /data/gibson/Adrian.glb\n"
     ]
    },
    {
     "name": "stdout",
     "output_type": "stream",
     "text": [
      "3800 \t TIME TO RESET:  \t 6.03950572013855\n",
      "3801 \t TIME TO STEP:  0.023781538009643555\n",
      "3802 \t TIME TO STEP:  0.05545520782470703\n",
      "3803 \t TIME TO STEP:  0.053666114807128906\n",
      "3804 \t TIME TO STEP:  0.03736281394958496\n",
      "3805 \t TIME TO STEP:  0.05488109588623047\n",
      "3806 \t TIME TO STEP:  0.020761966705322266\n",
      "3807 \t TIME TO STEP:  0.020310401916503906\n",
      "3808 \t TIME TO STEP:  0.020154714584350586\n",
      "3809 \t TIME TO STEP:  0.02071237564086914\n"
     ]
    },
    {
     "name": "stderr",
     "output_type": "stream",
     "text": [
      "2020-04-20 16:26:21,609 Computing map for /data/gibson/Adrian.glb\n"
     ]
    },
    {
     "name": "stdout",
     "output_type": "stream",
     "text": [
      "3810 \t TIME TO RESET:  \t 5.914130210876465\n",
      "3811 \t TIME TO STEP:  0.027576684951782227\n",
      "3812 \t TIME TO STEP:  0.02124309539794922\n",
      "3813 \t TIME TO STEP:  0.028319597244262695\n",
      "3814 \t TIME TO STEP:  0.020653724670410156\n",
      "3815 \t TIME TO STEP:  0.053098440170288086\n",
      "3816 \t TIME TO STEP:  0.09239745140075684\n",
      "3817 \t TIME TO STEP:  0.04633593559265137\n",
      "3818 \t TIME TO STEP:  0.020366668701171875\n",
      "3819 \t TIME TO STEP:  0.020055294036865234\n"
     ]
    },
    {
     "name": "stderr",
     "output_type": "stream",
     "text": [
      "2020-04-20 16:26:27,863 Computing map for /data/gibson/Adrian.glb\n"
     ]
    },
    {
     "name": "stdout",
     "output_type": "stream",
     "text": [
      "3820 \t TIME TO RESET:  \t 5.910712480545044\n",
      "3821 \t TIME TO STEP:  0.05621957778930664\n",
      "3822 \t TIME TO STEP:  0.05208134651184082\n",
      "3823 \t TIME TO STEP:  0.028711557388305664\n",
      "3824 \t TIME TO STEP:  0.029819011688232422\n",
      "3825 \t TIME TO STEP:  0.030150413513183594\n",
      "3826 \t TIME TO STEP:  0.08962655067443848\n",
      "3827 \t TIME TO STEP:  0.02164173126220703\n",
      "3828 \t TIME TO STEP:  0.020488500595092773\n",
      "3829 \t TIME TO STEP:  0.02006387710571289\n"
     ]
    },
    {
     "name": "stderr",
     "output_type": "stream",
     "text": [
      "2020-04-20 16:26:34,115 Computing map for /data/gibson/Adrian.glb\n"
     ]
    },
    {
     "name": "stdout",
     "output_type": "stream",
     "text": [
      "3830 \t TIME TO RESET:  \t 5.97279691696167\n",
      "3831 \t TIME TO STEP:  0.04644608497619629\n",
      "3832 \t TIME TO STEP:  0.06694459915161133\n",
      "3833 \t TIME TO STEP:  0.06362366676330566\n",
      "3834 \t TIME TO STEP:  0.05317258834838867\n",
      "3835 \t TIME TO STEP:  0.06673288345336914\n",
      "3836 \t TIME TO STEP:  0.03717923164367676\n",
      "3837 \t TIME TO STEP:  0.01986074447631836\n",
      "3838 \t TIME TO STEP:  0.01999354362487793\n",
      "3839 \t TIME TO STEP:  0.019978046417236328\n"
     ]
    },
    {
     "name": "stderr",
     "output_type": "stream",
     "text": [
      "2020-04-20 16:26:40,485 Computing map for /data/gibson/Adrian.glb\n"
     ]
    },
    {
     "name": "stdout",
     "output_type": "stream",
     "text": [
      "3840 \t TIME TO RESET:  \t 5.9087910652160645\n",
      "3841 \t TIME TO STEP:  0.07044053077697754\n",
      "3842 \t TIME TO STEP:  0.05110764503479004\n",
      "3843 \t TIME TO STEP:  0.07709169387817383\n",
      "3844 \t TIME TO STEP:  0.05010652542114258\n",
      "3845 \t TIME TO STEP:  0.018837690353393555\n",
      "3846 \t TIME TO STEP:  0.025458097457885742\n",
      "3847 \t TIME TO STEP:  0.018990278244018555\n",
      "3848 \t TIME TO STEP:  0.018892765045166016\n",
      "3849 \t TIME TO STEP:  0.0187222957611084\n"
     ]
    },
    {
     "name": "stderr",
     "output_type": "stream",
     "text": [
      "2020-04-20 16:26:46,735 Computing map for /data/gibson/Adrian.glb\n"
     ]
    },
    {
     "name": "stdout",
     "output_type": "stream",
     "text": [
      "3850 \t TIME TO RESET:  \t 6.013155937194824\n",
      "3851 \t TIME TO STEP:  0.05686330795288086\n",
      "3852 \t TIME TO STEP:  0.02101421356201172\n",
      "3853 \t TIME TO STEP:  0.02071380615234375\n",
      "3854 \t TIME TO STEP:  0.02031874656677246\n",
      "3855 \t TIME TO STEP:  0.05112290382385254\n",
      "3856 \t TIME TO STEP:  0.04771780967712402\n",
      "3857 \t TIME TO STEP:  0.03919363021850586\n",
      "3858 \t TIME TO STEP:  0.07424807548522949\n",
      "3859 \t TIME TO STEP:  0.08338236808776855\n"
     ]
    },
    {
     "name": "stderr",
     "output_type": "stream",
     "text": [
      "2020-04-20 16:26:53,166 Computing map for /data/gibson/Adrian.glb\n"
     ]
    },
    {
     "name": "stdout",
     "output_type": "stream",
     "text": [
      "3860 \t TIME TO RESET:  \t 5.86941123008728\n",
      "3861 \t TIME TO STEP:  0.0408017635345459\n",
      "3862 \t TIME TO STEP:  0.05431199073791504\n",
      "3863 \t TIME TO STEP:  0.0496821403503418\n",
      "3864 \t TIME TO STEP:  0.047252655029296875\n",
      "3865 \t TIME TO STEP:  0.02266073226928711\n",
      "3866 \t TIME TO STEP:  0.020905017852783203\n",
      "3867 \t TIME TO STEP:  0.020378589630126953\n",
      "3868 \t TIME TO STEP:  0.020905494689941406\n",
      "3869 \t TIME TO STEP:  0.020684480667114258\n"
     ]
    },
    {
     "name": "stderr",
     "output_type": "stream",
     "text": [
      "2020-04-20 16:26:59,333 Computing map for /data/gibson/Adrian.glb\n"
     ]
    },
    {
     "name": "stdout",
     "output_type": "stream",
     "text": [
      "3870 \t TIME TO RESET:  \t 5.911856174468994\n",
      "3871 \t TIME TO STEP:  0.021300792694091797\n",
      "3872 \t TIME TO STEP:  0.022327661514282227\n",
      "3873 \t TIME TO STEP:  0.02106332778930664\n",
      "3874 \t TIME TO STEP:  0.020830154418945312\n",
      "3875 \t TIME TO STEP:  0.020632505416870117\n",
      "3876 \t TIME TO STEP:  0.020467281341552734\n",
      "3877 \t TIME TO STEP:  0.020227432250976562\n",
      "3878 \t TIME TO STEP:  0.02039647102355957\n",
      "3879 \t TIME TO STEP:  0.020365476608276367\n"
     ]
    },
    {
     "name": "stderr",
     "output_type": "stream",
     "text": [
      "2020-04-20 16:27:05,422 Computing map for /data/gibson/Adrian.glb\n"
     ]
    },
    {
     "name": "stdout",
     "output_type": "stream",
     "text": [
      "3880 \t TIME TO RESET:  \t 5.939831018447876\n",
      "3881 \t TIME TO STEP:  0.05489182472229004\n",
      "3882 \t TIME TO STEP:  0.05440258979797363\n",
      "3883 \t TIME TO STEP:  0.01983332633972168\n",
      "3884 \t TIME TO STEP:  0.0534360408782959\n",
      "3885 \t TIME TO STEP:  0.038031578063964844\n",
      "3886 \t TIME TO STEP:  0.02010369300842285\n",
      "3887 \t TIME TO STEP:  0.020549774169921875\n",
      "3888 \t TIME TO STEP:  0.020743608474731445\n",
      "3889 \t TIME TO STEP:  0.02042078971862793\n"
     ]
    },
    {
     "name": "stderr",
     "output_type": "stream",
     "text": [
      "2020-04-20 16:27:11,701 Computing map for /data/gibson/Adrian.glb\n"
     ]
    },
    {
     "name": "stdout",
     "output_type": "stream",
     "text": [
      "3890 \t TIME TO RESET:  \t 5.999462842941284\n",
      "3891 \t TIME TO STEP:  0.054071664810180664\n",
      "3892 \t TIME TO STEP:  0.038446664810180664\n",
      "3893 \t TIME TO STEP:  0.05619668960571289\n",
      "3894 \t TIME TO STEP:  0.054969072341918945\n",
      "3895 \t TIME TO STEP:  0.035573482513427734\n",
      "3896 \t TIME TO STEP:  0.03449249267578125\n",
      "3897 \t TIME TO STEP:  0.02126312255859375\n",
      "3898 \t TIME TO STEP:  0.020153284072875977\n",
      "3899 \t TIME TO STEP:  0.02026534080505371\n"
     ]
    },
    {
     "name": "stderr",
     "output_type": "stream",
     "text": [
      "2020-04-20 16:27:18,040 Computing map for /data/gibson/Adrian.glb\n"
     ]
    },
    {
     "name": "stdout",
     "output_type": "stream",
     "text": [
      "3900 \t TIME TO RESET:  \t 5.994128704071045\n",
      "3901 \t TIME TO STEP:  0.06695055961608887\n",
      "3902 \t TIME TO STEP:  0.052045345306396484\n",
      "3903 \t TIME TO STEP:  0.051757097244262695\n",
      "3904 \t TIME TO STEP:  0.05212759971618652\n",
      "3905 \t TIME TO STEP:  0.07631158828735352\n",
      "3906 \t TIME TO STEP:  0.08072185516357422\n",
      "3907 \t TIME TO STEP:  0.05213451385498047\n",
      "3908 \t TIME TO STEP:  0.05153679847717285\n",
      "3909 \t TIME TO STEP:  0.053457021713256836\n"
     ]
    },
    {
     "name": "stderr",
     "output_type": "stream",
     "text": [
      "2020-04-20 16:27:24,535 Computing map for /data/gibson/Adrian.glb\n"
     ]
    },
    {
     "name": "stdout",
     "output_type": "stream",
     "text": [
      "3910 \t TIME TO RESET:  \t 5.914966106414795\n",
      "3911 \t TIME TO STEP:  0.022348403930664062\n",
      "3912 \t TIME TO STEP:  0.07039403915405273\n",
      "3913 \t TIME TO STEP:  0.02128005027770996\n",
      "3914 \t TIME TO STEP:  0.028634309768676758\n",
      "3915 \t TIME TO STEP:  0.01961040496826172\n",
      "3916 \t TIME TO STEP:  0.020730972290039062\n",
      "3917 \t TIME TO STEP:  0.020932912826538086\n",
      "3918 \t TIME TO STEP:  0.020357847213745117\n",
      "3919 \t TIME TO STEP:  0.019591331481933594\n"
     ]
    },
    {
     "name": "stderr",
     "output_type": "stream",
     "text": [
      "2020-04-20 16:27:30,709 Computing map for /data/gibson/Adrian.glb\n"
     ]
    },
    {
     "name": "stdout",
     "output_type": "stream",
     "text": [
      "3920 \t TIME TO RESET:  \t 5.9674601554870605\n",
      "3921 \t TIME TO STEP:  0.050582170486450195\n",
      "3922 \t TIME TO STEP:  0.01961350440979004\n",
      "3923 \t TIME TO STEP:  0.020151615142822266\n",
      "3924 \t TIME TO STEP:  0.019831180572509766\n",
      "3925 \t TIME TO STEP:  0.01990532875061035\n",
      "3926 \t TIME TO STEP:  0.019875288009643555\n",
      "3927 \t TIME TO STEP:  0.020129919052124023\n",
      "3928 \t TIME TO STEP:  0.02014327049255371\n",
      "3929 \t TIME TO STEP:  0.021163225173950195\n"
     ]
    },
    {
     "name": "stderr",
     "output_type": "stream",
     "text": [
      "2020-04-20 16:27:36,886 Computing map for /data/gibson/Adrian.glb\n"
     ]
    },
    {
     "name": "stdout",
     "output_type": "stream",
     "text": [
      "3930 \t TIME TO RESET:  \t 5.908431529998779\n",
      "3931 \t TIME TO STEP:  0.03734755516052246\n",
      "3932 \t TIME TO STEP:  0.03740501403808594\n",
      "3933 \t TIME TO STEP:  0.020806074142456055\n",
      "3934 \t TIME TO STEP:  0.020369529724121094\n",
      "3935 \t TIME TO STEP:  0.01959061622619629\n",
      "3936 \t TIME TO STEP:  0.020143747329711914\n",
      "3937 \t TIME TO STEP:  0.019610166549682617\n",
      "3938 \t TIME TO STEP:  0.019713878631591797\n",
      "3939 \t TIME TO STEP:  0.020880699157714844\n"
     ]
    },
    {
     "name": "stderr",
     "output_type": "stream",
     "text": [
      "2020-04-20 16:27:43,015 Computing map for /data/gibson/Adrian.glb\n"
     ]
    },
    {
     "name": "stdout",
     "output_type": "stream",
     "text": [
      "3940 \t TIME TO RESET:  \t 5.984559774398804\n",
      "3941 \t TIME TO STEP:  0.05759906768798828\n",
      "3942 \t TIME TO STEP:  0.06466889381408691\n",
      "3943 \t TIME TO STEP:  0.053640127182006836\n",
      "3944 \t TIME TO STEP:  0.055214643478393555\n",
      "3945 \t TIME TO STEP:  0.054250240325927734\n",
      "3946 \t TIME TO STEP:  0.053865671157836914\n",
      "3947 \t TIME TO STEP:  0.06753158569335938\n",
      "3948 \t TIME TO STEP:  0.05028867721557617\n",
      "3949 \t TIME TO STEP:  0.019692420959472656\n"
     ]
    },
    {
     "name": "stderr",
     "output_type": "stream",
     "text": [
      "2020-04-20 16:27:49,473 Computing map for /data/gibson/Adrian.glb\n"
     ]
    },
    {
     "name": "stdout",
     "output_type": "stream",
     "text": [
      "3950 \t TIME TO RESET:  \t 5.9051032066345215\n",
      "3951 \t TIME TO STEP:  0.04774069786071777\n",
      "3952 \t TIME TO STEP:  0.020609378814697266\n",
      "3953 \t TIME TO STEP:  0.028533935546875\n",
      "3954 \t TIME TO STEP:  0.021553993225097656\n",
      "3955 \t TIME TO STEP:  0.030451536178588867\n",
      "3956 \t TIME TO STEP:  0.020239591598510742\n",
      "3957 \t TIME TO STEP:  0.020428180694580078\n",
      "3958 \t TIME TO STEP:  0.039510250091552734\n",
      "3959 \t TIME TO STEP:  0.020395994186401367\n"
     ]
    },
    {
     "name": "stderr",
     "output_type": "stream",
     "text": [
      "2020-04-20 16:27:55,631 Computing map for /data/gibson/Adrian.glb\n"
     ]
    },
    {
     "name": "stdout",
     "output_type": "stream",
     "text": [
      "3960 \t TIME TO RESET:  \t 5.798028945922852\n",
      "3961 \t TIME TO STEP:  0.055367231369018555\n",
      "3962 \t TIME TO STEP:  0.05440115928649902\n",
      "3963 \t TIME TO STEP:  0.020203590393066406\n",
      "3964 \t TIME TO STEP:  0.0203399658203125\n",
      "3965 \t TIME TO STEP:  0.020252704620361328\n",
      "3966 \t TIME TO STEP:  0.03229117393493652\n",
      "3967 \t TIME TO STEP:  0.021008014678955078\n",
      "3968 \t TIME TO STEP:  0.01973724365234375\n",
      "3969 \t TIME TO STEP:  0.019997596740722656\n"
     ]
    },
    {
     "name": "stderr",
     "output_type": "stream",
     "text": [
      "2020-04-20 16:28:01,690 Computing map for /data/gibson/Adrian.glb\n",
      "2020-04-20 16:28:07,485 Invalid map: /data/gibson/Adrian.glb/399\n",
      "2020-04-20 16:28:07,722 Computing map for /data/gibson/Adrian.glb\n"
     ]
    },
    {
     "name": "stdout",
     "output_type": "stream",
     "text": [
      "3970 \t TIME TO RESET:  \t 11.972965240478516\n",
      "3971 \t TIME TO STEP:  0.05497288703918457\n",
      "3972 \t TIME TO STEP:  0.06873536109924316\n",
      "3973 \t TIME TO STEP:  0.04897022247314453\n",
      "3974 \t TIME TO STEP:  0.020191192626953125\n",
      "3975 \t TIME TO STEP:  0.02107548713684082\n",
      "3976 \t TIME TO STEP:  0.03945302963256836\n",
      "3977 \t TIME TO STEP:  0.020606517791748047\n",
      "3978 \t TIME TO STEP:  0.019617319107055664\n",
      "3979 \t TIME TO STEP:  0.01980876922607422\n"
     ]
    },
    {
     "name": "stderr",
     "output_type": "stream",
     "text": [
      "2020-04-20 16:28:13,982 Computing map for /data/gibson/Adrian.glb\n",
      "2020-04-20 16:28:19,569 Invalid map: /data/gibson/Adrian.glb/400\n",
      "2020-04-20 16:28:19,781 Computing map for /data/gibson/Adrian.glb\n"
     ]
    },
    {
     "name": "stdout",
     "output_type": "stream",
     "text": [
      "3980 \t TIME TO RESET:  \t 11.744469404220581\n",
      "3981 \t TIME TO STEP:  0.029529333114624023\n",
      "3982 \t TIME TO STEP:  0.0361478328704834\n",
      "3983 \t TIME TO STEP:  0.02041006088256836\n",
      "3984 \t TIME TO STEP:  0.05331587791442871\n",
      "3985 \t TIME TO STEP:  0.0524599552154541\n",
      "3986 \t TIME TO STEP:  0.09551692008972168\n",
      "3987 \t TIME TO STEP:  0.05491995811462402\n",
      "3988 \t TIME TO STEP:  0.019609928131103516\n",
      "3989 \t TIME TO STEP:  0.05276894569396973\n"
     ]
    },
    {
     "name": "stderr",
     "output_type": "stream",
     "text": [
      "2020-04-20 16:28:26,170 Computing map for /data/gibson/Adrian.glb\n"
     ]
    },
    {
     "name": "stdout",
     "output_type": "stream",
     "text": [
      "3990 \t TIME TO RESET:  \t 5.979346036911011\n",
      "3991 \t TIME TO STEP:  0.0518651008605957\n",
      "3992 \t TIME TO STEP:  0.04502606391906738\n",
      "3993 \t TIME TO STEP:  0.020228862762451172\n",
      "3994 \t TIME TO STEP:  0.020302534103393555\n",
      "3995 \t TIME TO STEP:  0.020282268524169922\n",
      "3996 \t TIME TO STEP:  0.020474672317504883\n",
      "3997 \t TIME TO STEP:  0.021709203720092773\n",
      "3998 \t TIME TO STEP:  0.021010637283325195\n",
      "3999 \t TIME TO STEP:  0.0207674503326416\n"
     ]
    },
    {
     "name": "stderr",
     "output_type": "stream",
     "text": [
      "2020-04-20 16:28:32,364 Computing map for /data/gibson/Adrian.glb\n"
     ]
    },
    {
     "name": "stdout",
     "output_type": "stream",
     "text": [
      "4000 \t TIME TO RESET:  \t 5.869821548461914\n",
      "4001 \t TIME TO STEP:  0.05240297317504883\n",
      "4002 \t TIME TO STEP:  0.01938652992248535\n",
      "4003 \t TIME TO STEP:  0.02001333236694336\n",
      "4004 \t TIME TO STEP:  0.02013993263244629\n",
      "4005 \t TIME TO STEP:  0.019800901412963867\n",
      "4006 \t TIME TO STEP:  0.02118706703186035\n",
      "4007 \t TIME TO STEP:  0.020358800888061523\n",
      "4008 \t TIME TO STEP:  0.020571231842041016\n",
      "4009 \t TIME TO STEP:  0.022855043411254883\n"
     ]
    },
    {
     "name": "stderr",
     "output_type": "stream",
     "text": [
      "2020-04-20 16:28:38,470 Computing map for /data/gibson/Adrian.glb\n"
     ]
    },
    {
     "name": "stdout",
     "output_type": "stream",
     "text": [
      "4010 \t TIME TO RESET:  \t 5.982747316360474\n",
      "4011 \t TIME TO STEP:  0.06423449516296387\n",
      "4012 \t TIME TO STEP:  0.021411895751953125\n",
      "4013 \t TIME TO STEP:  0.05450940132141113\n",
      "4014 \t TIME TO STEP:  0.053389549255371094\n",
      "4015 \t TIME TO STEP:  0.028720855712890625\n",
      "4016 \t TIME TO STEP:  0.053629159927368164\n",
      "4017 \t TIME TO STEP:  0.05476260185241699\n",
      "4018 \t TIME TO STEP:  0.08273983001708984\n",
      "4019 \t TIME TO STEP:  0.06949710845947266\n"
     ]
    },
    {
     "name": "stderr",
     "output_type": "stream",
     "text": [
      "2020-04-20 16:28:44,919 Computing map for /data/gibson/Adrian.glb\n"
     ]
    },
    {
     "name": "stdout",
     "output_type": "stream",
     "text": [
      "4020 \t TIME TO RESET:  \t 6.0222697257995605\n",
      "4021 \t TIME TO STEP:  0.0610198974609375\n",
      "4022 \t TIME TO STEP:  0.06827759742736816\n",
      "4023 \t TIME TO STEP:  0.03600645065307617\n",
      "4024 \t TIME TO STEP:  0.029239654541015625\n",
      "4025 \t TIME TO STEP:  0.056333065032958984\n",
      "4026 \t TIME TO STEP:  0.0443723201751709\n",
      "4027 \t TIME TO STEP:  0.09020304679870605\n",
      "4028 \t TIME TO STEP:  0.07854676246643066\n",
      "4029 \t TIME TO STEP:  0.03603768348693848\n"
     ]
    },
    {
     "name": "stderr",
     "output_type": "stream",
     "text": [
      "2020-04-20 16:28:51,472 Computing map for /data/gibson/Adrian.glb\n",
      "2020-04-20 16:28:57,181 Invalid map: /data/gibson/Adrian.glb/405\n",
      "2020-04-20 16:28:57,406 Computing map for /data/gibson/Adrian.glb\n"
     ]
    },
    {
     "name": "stdout",
     "output_type": "stream",
     "text": [
      "4030 \t TIME TO RESET:  \t 11.934144020080566\n",
      "4031 \t TIME TO STEP:  0.029611825942993164\n",
      "4032 \t TIME TO STEP:  0.020125150680541992\n",
      "4033 \t TIME TO STEP:  0.020437002182006836\n",
      "4034 \t TIME TO STEP:  0.0207064151763916\n",
      "4035 \t TIME TO STEP:  0.020140409469604492\n",
      "4036 \t TIME TO STEP:  0.02065110206604004\n",
      "4037 \t TIME TO STEP:  0.020490646362304688\n",
      "4038 \t TIME TO STEP:  0.020711183547973633\n",
      "4039 \t TIME TO STEP:  0.03170299530029297\n"
     ]
    },
    {
     "name": "stderr",
     "output_type": "stream",
     "text": [
      "2020-04-20 16:29:03,593 Computing map for /data/gibson/Adrian.glb\n"
     ]
    },
    {
     "name": "stdout",
     "output_type": "stream",
     "text": [
      "4040 \t TIME TO RESET:  \t 5.813584566116333\n",
      "4041 \t TIME TO STEP:  0.040990352630615234\n",
      "4042 \t TIME TO STEP:  0.020471572875976562\n",
      "4043 \t TIME TO STEP:  0.05278611183166504\n",
      "4044 \t TIME TO STEP:  0.03615617752075195\n",
      "4045 \t TIME TO STEP:  0.01987314224243164\n",
      "4046 \t TIME TO STEP:  0.020252704620361328\n",
      "4047 \t TIME TO STEP:  0.022149085998535156\n",
      "4048 \t TIME TO STEP:  0.02066326141357422\n",
      "4049 \t TIME TO STEP:  0.020350217819213867\n"
     ]
    },
    {
     "name": "stderr",
     "output_type": "stream",
     "text": [
      "2020-04-20 16:29:09,684 Computing map for /data/gibson/Adrian.glb\n",
      "2020-04-20 16:29:15,302 Invalid map: /data/gibson/Adrian.glb/407\n",
      "2020-04-20 16:29:15,519 Computing map for /data/gibson/Adrian.glb\n"
     ]
    },
    {
     "name": "stdout",
     "output_type": "stream",
     "text": [
      "4050 \t TIME TO RESET:  \t 11.875955820083618\n",
      "4051 \t TIME TO STEP:  0.07734251022338867\n",
      "4052 \t TIME TO STEP:  0.029929161071777344\n",
      "4053 \t TIME TO STEP:  0.03712964057922363\n",
      "4054 \t TIME TO STEP:  0.0627603530883789\n",
      "4055 \t TIME TO STEP:  0.021401166915893555\n",
      "4056 \t TIME TO STEP:  0.020052194595336914\n",
      "4057 \t TIME TO STEP:  0.02001047134399414\n",
      "4058 \t TIME TO STEP:  0.022580385208129883\n",
      "4059 \t TIME TO STEP:  0.020227909088134766\n"
     ]
    },
    {
     "name": "stderr",
     "output_type": "stream",
     "text": [
      "2020-04-20 16:29:21,851 Computing map for /data/gibson/Adrian.glb\n"
     ]
    },
    {
     "name": "stdout",
     "output_type": "stream",
     "text": [
      "4060 \t TIME TO RESET:  \t 5.914147853851318\n",
      "4061 \t TIME TO STEP:  0.023246049880981445\n",
      "4062 \t TIME TO STEP:  0.02072763442993164\n",
      "4063 \t TIME TO STEP:  0.02054142951965332\n",
      "4064 \t TIME TO STEP:  0.02098679542541504\n",
      "4065 \t TIME TO STEP:  0.020840883255004883\n",
      "4066 \t TIME TO STEP:  0.02120351791381836\n",
      "4067 \t TIME TO STEP:  0.05918002128601074\n",
      "4068 \t TIME TO STEP:  0.07869839668273926\n",
      "4069 \t TIME TO STEP:  0.06253170967102051\n"
     ]
    },
    {
     "name": "stderr",
     "output_type": "stream",
     "text": [
      "2020-04-20 16:29:28,113 Computing map for /data/gibson/Adrian.glb\n",
      "2020-04-20 16:29:33,782 Invalid map: /data/gibson/Adrian.glb/409\n",
      "2020-04-20 16:29:34,010 Computing map for /data/gibson/Adrian.glb\n",
      "2020-04-20 16:29:39,653 Invalid map: /data/gibson/Adrian.glb/409\n",
      "2020-04-20 16:29:39,880 Computing map for /data/gibson/Adrian.glb\n",
      "2020-04-20 16:29:45,346 Invalid map: /data/gibson/Adrian.glb/409\n",
      "2020-04-20 16:29:45,570 Computing map for /data/gibson/Adrian.glb\n",
      "2020-04-20 16:29:51,076 Invalid map: /data/gibson/Adrian.glb/409\n",
      "2020-04-20 16:29:51,301 Computing map for /data/gibson/Adrian.glb\n"
     ]
    },
    {
     "name": "stdout",
     "output_type": "stream",
     "text": [
      "4070 \t TIME TO RESET:  \t 29.073782205581665\n",
      "4071 \t TIME TO STEP:  0.05456352233886719\n",
      "4072 \t TIME TO STEP:  0.021677494049072266\n",
      "4073 \t TIME TO STEP:  0.020944833755493164\n",
      "4074 \t TIME TO STEP:  0.02042841911315918\n",
      "4075 \t TIME TO STEP:  0.0202944278717041\n",
      "4076 \t TIME TO STEP:  0.021133899688720703\n",
      "4077 \t TIME TO STEP:  0.02188253402709961\n",
      "4078 \t TIME TO STEP:  0.02043914794921875\n",
      "4079 \t TIME TO STEP:  0.020984649658203125\n"
     ]
    },
    {
     "name": "stderr",
     "output_type": "stream",
     "text": [
      "2020-04-20 16:29:57,384 Computing map for /data/gibson/Adrian.glb\n",
      "2020-04-20 16:30:02,887 Invalid map: /data/gibson/Adrian.glb/410\n",
      "2020-04-20 16:30:03,128 Computing map for /data/gibson/Adrian.glb\n"
     ]
    },
    {
     "name": "stdout",
     "output_type": "stream",
     "text": [
      "4080 \t TIME TO RESET:  \t 11.565844535827637\n",
      "4081 \t TIME TO STEP:  0.03738689422607422\n",
      "4082 \t TIME TO STEP:  0.0665287971496582\n",
      "4083 \t TIME TO STEP:  0.054590463638305664\n",
      "4084 \t TIME TO STEP:  0.06512308120727539\n",
      "4085 \t TIME TO STEP:  0.049105167388916016\n",
      "4086 \t TIME TO STEP:  0.027602434158325195\n",
      "4087 \t TIME TO STEP:  0.03425121307373047\n",
      "4088 \t TIME TO STEP:  0.0348818302154541\n",
      "4089 \t TIME TO STEP:  0.01935577392578125\n"
     ]
    },
    {
     "name": "stderr",
     "output_type": "stream",
     "text": [
      "2020-04-20 16:30:09,345 Computing map for /data/gibson/Adrian.glb\n",
      "2020-04-20 16:30:14,885 Invalid map: /data/gibson/Adrian.glb/411\n",
      "2020-04-20 16:30:15,102 Computing map for /data/gibson/Adrian.glb\n",
      "2020-04-20 16:30:20,548 Invalid map: /data/gibson/Adrian.glb/411\n",
      "2020-04-20 16:30:20,747 Computing map for /data/gibson/Adrian.glb\n"
     ]
    },
    {
     "name": "stdout",
     "output_type": "stream",
     "text": [
      "4090 \t TIME TO RESET:  \t 17.08898425102234\n",
      "4091 \t TIME TO STEP:  0.06754922866821289\n",
      "4092 \t TIME TO STEP:  0.07873725891113281\n",
      "4093 \t TIME TO STEP:  0.030004024505615234\n",
      "4094 \t TIME TO STEP:  0.05502581596374512\n",
      "4095 \t TIME TO STEP:  0.06790709495544434\n",
      "4096 \t TIME TO STEP:  0.052480220794677734\n",
      "4097 \t TIME TO STEP:  0.04400348663330078\n",
      "4098 \t TIME TO STEP:  0.020038366317749023\n",
      "4099 \t TIME TO STEP:  0.020409822463989258\n"
     ]
    },
    {
     "name": "stderr",
     "output_type": "stream",
     "text": [
      "2020-04-20 16:30:26,875 Computing map for /data/gibson/Adrian.glb\n"
     ]
    },
    {
     "name": "stdout",
     "output_type": "stream",
     "text": [
      "4100 \t TIME TO RESET:  \t 5.6780359745025635\n",
      "4101 \t TIME TO STEP:  0.053954362869262695\n",
      "4102 \t TIME TO STEP:  0.05319714546203613\n",
      "4103 \t TIME TO STEP:  0.03620028495788574\n",
      "4104 \t TIME TO STEP:  0.0198824405670166\n",
      "4105 \t TIME TO STEP:  0.019607067108154297\n",
      "4106 \t TIME TO STEP:  0.01986098289489746\n",
      "4107 \t TIME TO STEP:  0.033210039138793945\n",
      "4108 \t TIME TO STEP:  0.0206143856048584\n",
      "4109 \t TIME TO STEP:  0.03734898567199707\n"
     ]
    },
    {
     "name": "stderr",
     "output_type": "stream",
     "text": [
      "2020-04-20 16:30:32,839 Computing map for /data/gibson/Adrian.glb\n"
     ]
    },
    {
     "name": "stdout",
     "output_type": "stream",
     "text": [
      "4110 \t TIME TO RESET:  \t 5.667277097702026\n",
      "4111 \t TIME TO STEP:  0.035608530044555664\n",
      "4112 \t TIME TO STEP:  0.036505937576293945\n",
      "4113 \t TIME TO STEP:  0.026918888092041016\n",
      "4114 \t TIME TO STEP:  0.02744150161743164\n",
      "4115 \t TIME TO STEP:  0.02088332176208496\n",
      "4116 \t TIME TO STEP:  0.020000219345092773\n",
      "4117 \t TIME TO STEP:  0.019761085510253906\n",
      "4118 \t TIME TO STEP:  0.028339385986328125\n",
      "4119 \t TIME TO STEP:  0.01972174644470215\n"
     ]
    },
    {
     "name": "stderr",
     "output_type": "stream",
     "text": [
      "2020-04-20 16:30:38,749 Computing map for /data/gibson/Adrian.glb\n"
     ]
    },
    {
     "name": "stdout",
     "output_type": "stream",
     "text": [
      "4120 \t TIME TO RESET:  \t 5.753571033477783\n",
      "4121 \t TIME TO STEP:  0.04461336135864258\n",
      "4122 \t TIME TO STEP:  0.02048039436340332\n",
      "4123 \t TIME TO STEP:  0.02044534683227539\n",
      "4124 \t TIME TO STEP:  0.019746065139770508\n",
      "4125 \t TIME TO STEP:  0.020168066024780273\n",
      "4126 \t TIME TO STEP:  0.020730972290039062\n",
      "4127 \t TIME TO STEP:  0.02013373374938965\n",
      "4128 \t TIME TO STEP:  0.020405292510986328\n"
     ]
    },
    {
     "name": "stderr",
     "output_type": "stream",
     "text": [
      "2020-04-20 16:30:44,689 Computing map for /data/gibson/Adrian.glb\n"
     ]
    },
    {
     "name": "stdout",
     "output_type": "stream",
     "text": [
      "4129 \t TIME TO STEP:  0.02101421356201172\n"
     ]
    },
    {
     "name": "stderr",
     "output_type": "stream",
     "text": [
      "2020-04-20 16:30:50,298 Invalid map: /data/gibson/Adrian.glb/415\n",
      "2020-04-20 16:30:50,512 Computing map for /data/gibson/Adrian.glb\n"
     ]
    },
    {
     "name": "stdout",
     "output_type": "stream",
     "text": [
      "4130 \t TIME TO RESET:  \t 11.673532247543335\n",
      "4131 \t TIME TO STEP:  0.051773786544799805\n",
      "4132 \t TIME TO STEP:  0.05154013633728027\n",
      "4133 \t TIME TO STEP:  0.028495073318481445\n",
      "4134 \t TIME TO STEP:  0.01987290382385254\n",
      "4135 \t TIME TO STEP:  0.02015376091003418\n",
      "4136 \t TIME TO STEP:  0.02057933807373047\n",
      "4137 \t TIME TO STEP:  0.022057294845581055\n",
      "4138 \t TIME TO STEP:  0.02037954330444336\n",
      "4139 \t TIME TO STEP:  0.02054142951965332\n"
     ]
    },
    {
     "name": "stderr",
     "output_type": "stream",
     "text": [
      "2020-04-20 16:30:56,638 Computing map for /data/gibson/Adrian.glb\n",
      "2020-04-20 16:31:02,159 Invalid map: /data/gibson/Adrian.glb/416\n",
      "2020-04-20 16:31:02,379 Computing map for /data/gibson/Adrian.glb\n",
      "2020-04-20 16:31:07,772 Invalid map: /data/gibson/Adrian.glb/416\n",
      "2020-04-20 16:31:07,992 Computing map for /data/gibson/Adrian.glb\n",
      "2020-04-20 16:31:13,491 Invalid map: /data/gibson/Adrian.glb/416\n",
      "2020-04-20 16:31:13,713 Computing map for /data/gibson/Adrian.glb\n",
      "2020-04-20 16:31:19,299 Invalid map: /data/gibson/Adrian.glb/416\n",
      "2020-04-20 16:31:19,522 Computing map for /data/gibson/Adrian.glb\n",
      "2020-04-20 16:31:25,065 Invalid map: /data/gibson/Adrian.glb/416\n",
      "2020-04-20 16:31:25,291 Computing map for /data/gibson/Adrian.glb\n"
     ]
    },
    {
     "name": "stdout",
     "output_type": "stream",
     "text": [
      "4140 \t TIME TO RESET:  \t 34.50469732284546\n",
      "4141 \t TIME TO STEP:  0.04997563362121582\n",
      "4142 \t TIME TO STEP:  0.03575849533081055\n",
      "4143 \t TIME TO STEP:  0.02077651023864746\n",
      "4144 \t TIME TO STEP:  0.020067214965820312\n",
      "4145 \t TIME TO STEP:  0.032315731048583984\n",
      "4146 \t TIME TO STEP:  0.02090167999267578\n",
      "4147 \t TIME TO STEP:  0.02985668182373047\n",
      "4148 \t TIME TO STEP:  0.020532608032226562\n",
      "4149 \t TIME TO STEP:  0.05208230018615723\n"
     ]
    },
    {
     "name": "stderr",
     "output_type": "stream",
     "text": [
      "2020-04-20 16:31:31,436 Computing map for /data/gibson/Adrian.glb\n",
      "2020-04-20 16:31:36,994 Invalid map: /data/gibson/Adrian.glb/417\n",
      "2020-04-20 16:31:37,228 Computing map for /data/gibson/Adrian.glb\n"
     ]
    },
    {
     "name": "stdout",
     "output_type": "stream",
     "text": [
      "4150 \t TIME TO RESET:  \t 11.656910181045532\n",
      "4151 \t TIME TO STEP:  0.0843820571899414\n",
      "4152 \t TIME TO STEP:  0.022066593170166016\n",
      "4153 \t TIME TO STEP:  0.01999378204345703\n",
      "4154 \t TIME TO STEP:  0.020349979400634766\n",
      "4155 \t TIME TO STEP:  0.019724130630493164\n",
      "4156 \t TIME TO STEP:  0.02020549774169922\n",
      "4157 \t TIME TO STEP:  0.020259857177734375\n",
      "4158 \t TIME TO STEP:  0.020465373992919922\n",
      "4159 \t TIME TO STEP:  0.01967167854309082\n"
     ]
    },
    {
     "name": "stderr",
     "output_type": "stream",
     "text": [
      "2020-04-20 16:31:43,328 Computing map for /data/gibson/Adrian.glb\n"
     ]
    },
    {
     "name": "stdout",
     "output_type": "stream",
     "text": [
      "4160 \t TIME TO RESET:  \t 5.741365909576416\n",
      "4161 \t TIME TO STEP:  0.05666470527648926\n",
      "4162 \t TIME TO STEP:  0.07725834846496582\n",
      "4163 \t TIME TO STEP:  0.036765336990356445\n",
      "4164 \t TIME TO STEP:  0.07808446884155273\n",
      "4165 \t TIME TO STEP:  0.052663564682006836\n",
      "4166 \t TIME TO STEP:  0.03594231605529785\n",
      "4167 \t TIME TO STEP:  0.020061016082763672\n",
      "4168 \t TIME TO STEP:  0.019982576370239258\n",
      "4169 \t TIME TO STEP:  0.020660877227783203\n"
     ]
    },
    {
     "name": "stderr",
     "output_type": "stream",
     "text": [
      "2020-04-20 16:31:49,486 Computing map for /data/gibson/Adrian.glb\n"
     ]
    },
    {
     "name": "stdout",
     "output_type": "stream",
     "text": [
      "4170 \t TIME TO RESET:  \t 5.905194997787476\n",
      "4171 \t TIME TO STEP:  0.02021026611328125\n",
      "4172 \t TIME TO STEP:  0.019787073135375977\n",
      "4173 \t TIME TO STEP:  0.020196914672851562\n",
      "4174 \t TIME TO STEP:  0.020407438278198242\n",
      "4175 \t TIME TO STEP:  0.020282506942749023\n",
      "4176 \t TIME TO STEP:  0.019936800003051758\n",
      "4177 \t TIME TO STEP:  0.02025580406188965\n",
      "4178 \t TIME TO STEP:  0.029409170150756836\n",
      "4179 \t TIME TO STEP:  0.03604555130004883\n"
     ]
    },
    {
     "name": "stderr",
     "output_type": "stream",
     "text": [
      "2020-04-20 16:31:55,590 Computing map for /data/gibson/Adrian.glb\n",
      "2020-04-20 16:32:01,260 Invalid map: /data/gibson/Adrian.glb/420\n",
      "2020-04-20 16:32:01,488 Computing map for /data/gibson/Adrian.glb\n",
      "2020-04-20 16:32:07,145 Invalid map: /data/gibson/Adrian.glb/420\n",
      "2020-04-20 16:32:07,359 Computing map for /data/gibson/Adrian.glb\n"
     ]
    },
    {
     "name": "stdout",
     "output_type": "stream",
     "text": [
      "4180 \t TIME TO RESET:  \t 17.572311878204346\n",
      "4181 \t TIME TO STEP:  0.08568882942199707\n",
      "4182 \t TIME TO STEP:  0.05508017539978027\n",
      "4183 \t TIME TO STEP:  0.05858898162841797\n",
      "4184 \t TIME TO STEP:  0.05418968200683594\n",
      "4185 \t TIME TO STEP:  0.02888631820678711\n",
      "4186 \t TIME TO STEP:  0.054755449295043945\n",
      "4187 \t TIME TO STEP:  0.05362558364868164\n",
      "4188 \t TIME TO STEP:  0.038022756576538086\n",
      "4189 \t TIME TO STEP:  0.029595613479614258\n"
     ]
    },
    {
     "name": "stderr",
     "output_type": "stream",
     "text": [
      "2020-04-20 16:32:13,626 Computing map for /data/gibson/Adrian.glb\n"
     ]
    },
    {
     "name": "stdout",
     "output_type": "stream",
     "text": [
      "4190 \t TIME TO RESET:  \t 5.768128871917725\n",
      "4191 \t TIME TO STEP:  0.05551862716674805\n",
      "4192 \t TIME TO STEP:  0.03809714317321777\n",
      "4193 \t TIME TO STEP:  0.020748615264892578\n",
      "4194 \t TIME TO STEP:  0.020747900009155273\n",
      "4195 \t TIME TO STEP:  0.020407438278198242\n",
      "4196 \t TIME TO STEP:  0.020419836044311523\n",
      "4197 \t TIME TO STEP:  0.020508766174316406\n",
      "4198 \t TIME TO STEP:  0.021114110946655273\n",
      "4199 \t TIME TO STEP:  0.020632028579711914\n"
     ]
    },
    {
     "name": "stderr",
     "output_type": "stream",
     "text": [
      "2020-04-20 16:32:19,624 Computing map for /data/gibson/Adrian.glb\n"
     ]
    },
    {
     "name": "stdout",
     "output_type": "stream",
     "text": [
      "4200 \t TIME TO RESET:  \t 5.8074939250946045\n",
      "4201 \t TIME TO STEP:  0.020380020141601562\n",
      "4202 \t TIME TO STEP:  0.020517349243164062\n",
      "4203 \t TIME TO STEP:  0.05584883689880371\n",
      "4204 \t TIME TO STEP:  0.04077315330505371\n",
      "4205 \t TIME TO STEP:  0.02151942253112793\n",
      "4206 \t TIME TO STEP:  0.020447969436645508\n",
      "4207 \t TIME TO STEP:  0.02031397819519043\n",
      "4208 \t TIME TO STEP:  0.021608829498291016\n",
      "4209 \t TIME TO STEP:  0.021497488021850586\n"
     ]
    },
    {
     "name": "stderr",
     "output_type": "stream",
     "text": [
      "2020-04-20 16:32:25,679 Computing map for /data/gibson/Adrian.glb\n"
     ]
    },
    {
     "name": "stdout",
     "output_type": "stream",
     "text": [
      "4210 \t TIME TO RESET:  \t 5.746264219284058\n",
      "4211 \t TIME TO STEP:  0.07774472236633301\n",
      "4212 \t TIME TO STEP:  0.05842995643615723\n",
      "4213 \t TIME TO STEP:  0.02226543426513672\n",
      "4214 \t TIME TO STEP:  0.022393226623535156\n",
      "4215 \t TIME TO STEP:  0.0228579044342041\n",
      "4216 \t TIME TO STEP:  0.02259683609008789\n",
      "4217 \t TIME TO STEP:  0.022797346115112305\n",
      "4218 \t TIME TO STEP:  0.03635859489440918\n",
      "4219 \t TIME TO STEP:  0.04061317443847656\n"
     ]
    },
    {
     "name": "stderr",
     "output_type": "stream",
     "text": [
      "2020-04-20 16:32:31,736 Computing map for /data/gibson/Adrian.glb\n",
      "2020-04-20 16:32:37,309 Invalid map: /data/gibson/Adrian.glb/424\n",
      "2020-04-20 16:32:37,518 Computing map for /data/gibson/Adrian.glb\n"
     ]
    },
    {
     "name": "stdout",
     "output_type": "stream",
     "text": [
      "4220 \t TIME TO RESET:  \t 11.592002630233765\n",
      "4221 \t TIME TO STEP:  0.05568575859069824\n",
      "4222 \t TIME TO STEP:  0.054750919342041016\n",
      "4223 \t TIME TO STEP:  0.02077484130859375\n",
      "4224 \t TIME TO STEP:  0.03773379325866699\n",
      "4225 \t TIME TO STEP:  0.02834939956665039\n",
      "4226 \t TIME TO STEP:  0.03724932670593262\n",
      "4227 \t TIME TO STEP:  0.046044111251831055\n",
      "4228 \t TIME TO STEP:  0.020562410354614258\n",
      "4229 \t TIME TO STEP:  0.020455360412597656\n"
     ]
    },
    {
     "name": "stderr",
     "output_type": "stream",
     "text": [
      "2020-04-20 16:32:43,676 Computing map for /data/gibson/Adrian.glb\n"
     ]
    },
    {
     "name": "stdout",
     "output_type": "stream",
     "text": [
      "4230 \t TIME TO RESET:  \t 5.81212306022644\n",
      "4231 \t TIME TO STEP:  0.04129838943481445\n",
      "4232 \t TIME TO STEP:  0.030542850494384766\n",
      "4233 \t TIME TO STEP:  0.02030181884765625\n",
      "4234 \t TIME TO STEP:  0.020426034927368164\n",
      "4235 \t TIME TO STEP:  0.02027130126953125\n",
      "4236 \t TIME TO STEP:  0.02077341079711914\n",
      "4237 \t TIME TO STEP:  0.020546436309814453\n",
      "4238 \t TIME TO STEP:  0.02040886878967285\n",
      "4239 \t TIME TO STEP:  0.021772384643554688\n"
     ]
    },
    {
     "name": "stderr",
     "output_type": "stream",
     "text": [
      "2020-04-20 16:32:49,696 Computing map for /data/gibson/Adrian.glb\n",
      "2020-04-20 16:32:55,389 Invalid map: /data/gibson/Adrian.glb/426\n",
      "2020-04-20 16:32:55,602 Computing map for /data/gibson/Adrian.glb\n"
     ]
    },
    {
     "name": "stdout",
     "output_type": "stream",
     "text": [
      "4240 \t TIME TO RESET:  \t 11.605160474777222\n",
      "4241 \t TIME TO STEP:  0.07009053230285645\n",
      "4242 \t TIME TO STEP:  0.054224491119384766\n",
      "4243 \t TIME TO STEP:  0.028321266174316406\n",
      "4244 \t TIME TO STEP:  0.03722095489501953\n",
      "4245 \t TIME TO STEP:  0.05831122398376465\n",
      "4246 \t TIME TO STEP:  0.021152019500732422\n",
      "4247 \t TIME TO STEP:  0.05394244194030762\n",
      "4248 \t TIME TO STEP:  0.020848751068115234\n",
      "4249 \t TIME TO STEP:  0.053940534591674805\n"
     ]
    },
    {
     "name": "stderr",
     "output_type": "stream",
     "text": [
      "2020-04-20 16:33:01,704 Computing map for /data/gibson/Adrian.glb\n",
      "2020-04-20 16:33:07,151 Invalid map: /data/gibson/Adrian.glb/427\n",
      "2020-04-20 16:33:07,371 Computing map for /data/gibson/Adrian.glb\n",
      "2020-04-20 16:33:12,881 Invalid map: /data/gibson/Adrian.glb/427\n",
      "2020-04-20 16:33:13,102 Computing map for /data/gibson/Adrian.glb\n",
      "2020-04-20 16:33:18,608 Invalid map: /data/gibson/Adrian.glb/427\n",
      "2020-04-20 16:33:18,825 Computing map for /data/gibson/Adrian.glb\n"
     ]
    },
    {
     "name": "stdout",
     "output_type": "stream",
     "text": [
      "4250 \t TIME TO RESET:  \t 22.918043613433838\n",
      "4251 \t TIME TO STEP:  0.08254480361938477\n",
      "4252 \t TIME TO STEP:  0.051819562911987305\n",
      "4253 \t TIME TO STEP:  0.04980015754699707\n",
      "4254 \t TIME TO STEP:  0.03852415084838867\n",
      "4255 \t TIME TO STEP:  0.07230210304260254\n",
      "4256 \t TIME TO STEP:  0.05012226104736328\n",
      "4257 \t TIME TO STEP:  0.020087480545043945\n",
      "4258 \t TIME TO STEP:  0.020531415939331055\n",
      "4259 \t TIME TO STEP:  0.02029109001159668\n"
     ]
    },
    {
     "name": "stderr",
     "output_type": "stream",
     "text": [
      "2020-04-20 16:33:25,026 Computing map for /data/gibson/Adrian.glb\n",
      "2020-04-20 16:33:30,533 Invalid map: /data/gibson/Adrian.glb/428\n",
      "2020-04-20 16:33:30,754 Computing map for /data/gibson/Adrian.glb\n"
     ]
    },
    {
     "name": "stdout",
     "output_type": "stream",
     "text": [
      "4260 \t TIME TO RESET:  \t 11.621415376663208\n",
      "4261 \t TIME TO STEP:  0.040825605392456055\n",
      "4262 \t TIME TO STEP:  0.09023666381835938\n",
      "4263 \t TIME TO STEP:  0.05553078651428223\n",
      "4264 \t TIME TO STEP:  0.020740985870361328\n",
      "4265 \t TIME TO STEP:  0.029347658157348633\n",
      "4266 \t TIME TO STEP:  0.04881596565246582\n",
      "4267 \t TIME TO STEP:  0.02202773094177246\n",
      "4268 \t TIME TO STEP:  0.03557920455932617\n",
      "4269 \t TIME TO STEP:  0.030417680740356445\n"
     ]
    },
    {
     "name": "stderr",
     "output_type": "stream",
     "text": [
      "2020-04-20 16:33:37,028 Computing map for /data/gibson/Adrian.glb\n"
     ]
    },
    {
     "name": "stdout",
     "output_type": "stream",
     "text": [
      "4270 \t TIME TO RESET:  \t 5.798792362213135\n",
      "4271 \t TIME TO STEP:  0.021333932876586914\n",
      "4272 \t TIME TO STEP:  0.03216433525085449\n",
      "4273 \t TIME TO STEP:  0.020683765411376953\n",
      "4274 \t TIME TO STEP:  0.0599822998046875\n",
      "4275 \t TIME TO STEP:  0.020826101303100586\n",
      "4276 \t TIME TO STEP:  0.020556211471557617\n",
      "4277 \t TIME TO STEP:  0.020998001098632812\n",
      "4278 \t TIME TO STEP:  0.021236181259155273\n",
      "4279 \t TIME TO STEP:  0.03841376304626465\n"
     ]
    },
    {
     "name": "stderr",
     "output_type": "stream",
     "text": [
      "2020-04-20 16:33:43,077 Computing map for /data/gibson/Adrian.glb\n"
     ]
    },
    {
     "name": "stdout",
     "output_type": "stream",
     "text": [
      "4280 \t TIME TO RESET:  \t 5.656817436218262\n",
      "4281 \t TIME TO STEP:  0.05313992500305176\n",
      "4282 \t TIME TO STEP:  0.043595314025878906\n",
      "4283 \t TIME TO STEP:  0.06328535079956055\n",
      "4284 \t TIME TO STEP:  0.05302929878234863\n",
      "4285 \t TIME TO STEP:  0.020604372024536133\n",
      "4286 \t TIME TO STEP:  0.05352592468261719\n",
      "4287 \t TIME TO STEP:  0.04932045936584473\n",
      "4288 \t TIME TO STEP:  0.0360112190246582\n",
      "4289 \t TIME TO STEP:  0.019563674926757812\n"
     ]
    },
    {
     "name": "stderr",
     "output_type": "stream",
     "text": [
      "2020-04-20 16:33:49,130 Computing map for /data/gibson/Adrian.glb\n",
      "2020-04-20 16:33:54,500 Invalid map: /data/gibson/Adrian.glb/431\n",
      "2020-04-20 16:33:54,718 Computing map for /data/gibson/Adrian.glb\n",
      "2020-04-20 16:34:00,203 Invalid map: /data/gibson/Adrian.glb/431\n",
      "2020-04-20 16:34:00,425 Computing map for /data/gibson/Adrian.glb\n",
      "2020-04-20 16:34:05,953 Invalid map: /data/gibson/Adrian.glb/431\n",
      "2020-04-20 16:34:06,176 Computing map for /data/gibson/Adrian.glb\n",
      "2020-04-20 16:34:11,613 Invalid map: /data/gibson/Adrian.glb/431\n",
      "2020-04-20 16:34:11,832 Computing map for /data/gibson/Adrian.glb\n",
      "2020-04-20 16:34:17,303 Invalid map: /data/gibson/Adrian.glb/431\n",
      "2020-04-20 16:34:17,523 Computing map for /data/gibson/Adrian.glb\n",
      "2020-04-20 16:34:23,200 Invalid map: /data/gibson/Adrian.glb/431\n",
      "2020-04-20 16:34:23,430 Computing map for /data/gibson/Adrian.glb\n"
     ]
    },
    {
     "name": "stdout",
     "output_type": "stream",
     "text": [
      "4290 \t TIME TO RESET:  \t 40.25770330429077\n",
      "4291 \t TIME TO STEP:  0.08407974243164062\n",
      "4292 \t TIME TO STEP:  0.020551204681396484\n",
      "4293 \t TIME TO STEP:  0.020076751708984375\n",
      "4294 \t TIME TO STEP:  0.022138595581054688\n",
      "4295 \t TIME TO STEP:  0.020212173461914062\n",
      "4296 \t TIME TO STEP:  0.0208742618560791\n",
      "4297 \t TIME TO STEP:  0.022110939025878906\n",
      "4298 \t TIME TO STEP:  0.02119898796081543\n",
      "4299 \t TIME TO STEP:  0.021038055419921875\n"
     ]
    },
    {
     "name": "stderr",
     "output_type": "stream",
     "text": [
      "2020-04-20 16:34:29,661 Computing map for /data/gibson/Adrian.glb\n"
     ]
    },
    {
     "name": "stdout",
     "output_type": "stream",
     "text": [
      "4300 \t TIME TO RESET:  \t 5.9397313594818115\n",
      "4301 \t TIME TO STEP:  0.05492544174194336\n",
      "4302 \t TIME TO STEP:  0.020402908325195312\n",
      "4303 \t TIME TO STEP:  0.02226090431213379\n",
      "4304 \t TIME TO STEP:  0.021432161331176758\n",
      "4305 \t TIME TO STEP:  0.02061939239501953\n",
      "4306 \t TIME TO STEP:  0.020884275436401367\n",
      "4307 \t TIME TO STEP:  0.020990848541259766\n",
      "4308 \t TIME TO STEP:  0.05427265167236328\n",
      "4309 \t TIME TO STEP:  0.020287275314331055\n"
     ]
    },
    {
     "name": "stderr",
     "output_type": "stream",
     "text": [
      "2020-04-20 16:34:35,861 Computing map for /data/gibson/Adrian.glb\n",
      "2020-04-20 16:34:41,413 Invalid map: /data/gibson/Adrian.glb/433\n",
      "2020-04-20 16:34:41,656 Computing map for /data/gibson/Adrian.glb\n",
      "2020-04-20 16:34:47,238 Invalid map: /data/gibson/Adrian.glb/433\n",
      "2020-04-20 16:34:47,461 Computing map for /data/gibson/Adrian.glb\n",
      "2020-04-20 16:34:52,949 Invalid map: /data/gibson/Adrian.glb/433\n",
      "2020-04-20 16:34:53,181 Computing map for /data/gibson/Adrian.glb\n"
     ]
    },
    {
     "name": "stdout",
     "output_type": "stream",
     "text": [
      "4310 \t TIME TO RESET:  \t 23.176828145980835\n",
      "4311 \t TIME TO STEP:  0.08508968353271484\n",
      "4312 \t TIME TO STEP:  0.03734421730041504\n",
      "4313 \t TIME TO STEP:  0.035689592361450195\n",
      "4314 \t TIME TO STEP:  0.021437644958496094\n",
      "4315 \t TIME TO STEP:  0.020471572875976562\n",
      "4316 \t TIME TO STEP:  0.020974397659301758\n",
      "4317 \t TIME TO STEP:  0.03130054473876953\n",
      "4318 \t TIME TO STEP:  0.0204315185546875\n",
      "4319 \t TIME TO STEP:  0.020673036575317383\n"
     ]
    },
    {
     "name": "stderr",
     "output_type": "stream",
     "text": [
      "2020-04-20 16:34:59,310 Computing map for /data/gibson/Adrian.glb\n"
     ]
    },
    {
     "name": "stdout",
     "output_type": "stream",
     "text": [
      "4320 \t TIME TO RESET:  \t 5.855454444885254\n",
      "4321 \t TIME TO STEP:  0.04512357711791992\n",
      "4322 \t TIME TO STEP:  0.02105569839477539\n",
      "4323 \t TIME TO STEP:  0.020739316940307617\n",
      "4324 \t TIME TO STEP:  0.05377388000488281\n",
      "4325 \t TIME TO STEP:  0.02032923698425293\n",
      "4326 \t TIME TO STEP:  0.037351369857788086\n",
      "4327 \t TIME TO STEP:  0.02611374855041504\n",
      "4328 \t TIME TO STEP:  0.0534210205078125\n",
      "4329 \t TIME TO STEP:  0.06958532333374023\n"
     ]
    },
    {
     "name": "stderr",
     "output_type": "stream",
     "text": [
      "2020-04-20 16:35:05,520 Computing map for /data/gibson/Adrian.glb\n"
     ]
    },
    {
     "name": "stdout",
     "output_type": "stream",
     "text": [
      "4330 \t TIME TO RESET:  \t 5.859678030014038\n",
      "4331 \t TIME TO STEP:  0.05524086952209473\n",
      "4332 \t TIME TO STEP:  0.054485321044921875\n",
      "4333 \t TIME TO STEP:  0.03633594512939453\n",
      "4334 \t TIME TO STEP:  0.06699633598327637\n",
      "4335 \t TIME TO STEP:  0.049681663513183594\n",
      "4336 \t TIME TO STEP:  0.02054882049560547\n",
      "4337 \t TIME TO STEP:  0.049219369888305664\n",
      "4338 \t TIME TO STEP:  0.04223346710205078\n",
      "4339 \t TIME TO STEP:  0.027965307235717773\n"
     ]
    },
    {
     "name": "stderr",
     "output_type": "stream",
     "text": [
      "2020-04-20 16:35:11,780 Computing map for /data/gibson/Adrian.glb\n",
      "2020-04-20 16:35:17,490 Invalid map: /data/gibson/Adrian.glb/436\n",
      "2020-04-20 16:35:17,725 Computing map for /data/gibson/Adrian.glb\n",
      "2020-04-20 16:35:23,224 Invalid map: /data/gibson/Adrian.glb/436\n",
      "2020-04-20 16:35:23,443 Computing map for /data/gibson/Adrian.glb\n"
     ]
    },
    {
     "name": "stdout",
     "output_type": "stream",
     "text": [
      "4340 \t TIME TO RESET:  \t 17.53142476081848\n",
      "4341 \t TIME TO STEP:  0.08026456832885742\n",
      "4342 \t TIME TO STEP:  0.030557870864868164\n",
      "4343 \t TIME TO STEP:  0.020418405532836914\n",
      "4344 \t TIME TO STEP:  0.020523786544799805\n",
      "4345 \t TIME TO STEP:  0.020932435989379883\n",
      "4346 \t TIME TO STEP:  0.020911693572998047\n",
      "4347 \t TIME TO STEP:  0.022838354110717773\n",
      "4348 \t TIME TO STEP:  0.020943641662597656\n",
      "4349 \t TIME TO STEP:  0.03182578086853027\n"
     ]
    },
    {
     "name": "stderr",
     "output_type": "stream",
     "text": [
      "2020-04-20 16:35:29,597 Computing map for /data/gibson/Adrian.glb\n",
      "2020-04-20 16:35:35,169 Invalid map: /data/gibson/Adrian.glb/437\n",
      "2020-04-20 16:35:35,390 Computing map for /data/gibson/Adrian.glb\n",
      "2020-04-20 16:35:40,839 Invalid map: /data/gibson/Adrian.glb/437\n",
      "2020-04-20 16:35:41,057 Computing map for /data/gibson/Adrian.glb\n",
      "2020-04-20 16:35:46,667 Invalid map: /data/gibson/Adrian.glb/437\n",
      "2020-04-20 16:35:46,885 Computing map for /data/gibson/Adrian.glb\n"
     ]
    },
    {
     "name": "stdout",
     "output_type": "stream",
     "text": [
      "4350 \t TIME TO RESET:  \t 23.18324613571167\n",
      "4351 \t TIME TO STEP:  0.10146188735961914\n",
      "4352 \t TIME TO STEP:  0.05470895767211914\n",
      "4353 \t TIME TO STEP:  0.044568538665771484\n",
      "4354 \t TIME TO STEP:  0.021387815475463867\n",
      "4355 \t TIME TO STEP:  0.054045677185058594\n",
      "4356 \t TIME TO STEP:  0.05325126647949219\n",
      "4357 \t TIME TO STEP:  0.053020477294921875\n",
      "4358 \t TIME TO STEP:  0.05705833435058594\n",
      "4359 \t TIME TO STEP:  0.028754234313964844\n"
     ]
    },
    {
     "name": "stderr",
     "output_type": "stream",
     "text": [
      "2020-04-20 16:35:53,255 Computing map for /data/gibson/Adrian.glb\n",
      "2020-04-20 16:35:58,871 Invalid map: /data/gibson/Adrian.glb/438\n",
      "2020-04-20 16:35:59,094 Computing map for /data/gibson/Adrian.glb\n"
     ]
    },
    {
     "name": "stdout",
     "output_type": "stream",
     "text": [
      "4360 \t TIME TO RESET:  \t 11.727034091949463\n",
      "4361 \t TIME TO STEP:  0.04859471321105957\n",
      "4362 \t TIME TO STEP:  0.020431995391845703\n",
      "4363 \t TIME TO STEP:  0.01979851722717285\n",
      "4364 \t TIME TO STEP:  0.02013421058654785\n",
      "4365 \t TIME TO STEP:  0.019781112670898438\n",
      "4366 \t TIME TO STEP:  0.020058870315551758\n",
      "4367 \t TIME TO STEP:  0.019611597061157227\n",
      "4368 \t TIME TO STEP:  0.01979851722717285\n",
      "4369 \t TIME TO STEP:  0.020093441009521484\n"
     ]
    },
    {
     "name": "stderr",
     "output_type": "stream",
     "text": [
      "2020-04-20 16:36:05,171 Computing map for /data/gibson/Adrian.glb\n"
     ]
    },
    {
     "name": "stdout",
     "output_type": "stream",
     "text": [
      "4370 \t TIME TO RESET:  \t 5.908758163452148\n",
      "4371 \t TIME TO STEP:  0.05158424377441406\n",
      "4372 \t TIME TO STEP:  0.01943492889404297\n",
      "4373 \t TIME TO STEP:  0.026315927505493164\n",
      "4374 \t TIME TO STEP:  0.05091595649719238\n",
      "4375 \t TIME TO STEP:  0.04940080642700195\n",
      "4376 \t TIME TO STEP:  0.02793264389038086\n",
      "4377 \t TIME TO STEP:  0.04801011085510254\n",
      "4378 \t TIME TO STEP:  0.026694059371948242\n",
      "4379 \t TIME TO STEP:  0.03300881385803223\n"
     ]
    },
    {
     "name": "stderr",
     "output_type": "stream",
     "text": [
      "2020-04-20 16:36:11,413 Computing map for /data/gibson/Adrian.glb\n"
     ]
    },
    {
     "name": "stdout",
     "output_type": "stream",
     "text": [
      "4380 \t TIME TO RESET:  \t 5.728301525115967\n",
      "4381 \t TIME TO STEP:  0.04884529113769531\n",
      "4382 \t TIME TO STEP:  0.04015660285949707\n",
      "4383 \t TIME TO STEP:  0.046431779861450195\n",
      "4384 \t TIME TO STEP:  0.047437429428100586\n",
      "4385 \t TIME TO STEP:  0.019139766693115234\n",
      "4386 \t TIME TO STEP:  0.02020406723022461\n",
      "4387 \t TIME TO STEP:  0.01942157745361328\n",
      "4388 \t TIME TO STEP:  0.019459962844848633\n",
      "4389 \t TIME TO STEP:  0.020035505294799805\n"
     ]
    },
    {
     "name": "stderr",
     "output_type": "stream",
     "text": [
      "2020-04-20 16:36:17,409 Computing map for /data/gibson/Adrian.glb\n"
     ]
    },
    {
     "name": "stdout",
     "output_type": "stream",
     "text": [
      "4390 \t TIME TO RESET:  \t 5.627633571624756\n",
      "4391 \t TIME TO STEP:  0.04044938087463379\n",
      "4392 \t TIME TO STEP:  0.05151224136352539\n",
      "4393 \t TIME TO STEP:  0.019951343536376953\n",
      "4394 \t TIME TO STEP:  0.020066022872924805\n",
      "4395 \t TIME TO STEP:  0.02029705047607422\n",
      "4396 \t TIME TO STEP:  0.020427703857421875\n",
      "4397 \t TIME TO STEP:  0.044499874114990234\n",
      "4398 \t TIME TO STEP:  0.020721912384033203\n",
      "4399 \t TIME TO STEP:  0.01990675926208496\n"
     ]
    },
    {
     "name": "stderr",
     "output_type": "stream",
     "text": [
      "2020-04-20 16:36:23,313 Computing map for /data/gibson/Adrian.glb\n"
     ]
    },
    {
     "name": "stdout",
     "output_type": "stream",
     "text": [
      "4400 \t TIME TO RESET:  \t 5.7426438331604\n",
      "4401 \t TIME TO STEP:  0.028898239135742188\n",
      "4402 \t TIME TO STEP:  0.037622928619384766\n",
      "4403 \t TIME TO STEP:  0.020821332931518555\n",
      "4404 \t TIME TO STEP:  0.020799636840820312\n",
      "4405 \t TIME TO STEP:  0.020238637924194336\n",
      "4406 \t TIME TO STEP:  0.02131366729736328\n",
      "4407 \t TIME TO STEP:  0.020163774490356445\n",
      "4408 \t TIME TO STEP:  0.02064824104309082\n",
      "4409 \t TIME TO STEP:  0.021313905715942383\n"
     ]
    },
    {
     "name": "stderr",
     "output_type": "stream",
     "text": [
      "2020-04-20 16:36:29,280 Computing map for /data/gibson/Adrian.glb\n",
      "2020-04-20 16:36:34,727 Invalid map: /data/gibson/Adrian.glb/443\n",
      "2020-04-20 16:36:34,944 Computing map for /data/gibson/Adrian.glb\n"
     ]
    },
    {
     "name": "stdout",
     "output_type": "stream",
     "text": [
      "4410 \t TIME TO RESET:  \t 11.396284103393555\n",
      "4411 \t TIME TO STEP:  0.020847082138061523\n",
      "4412 \t TIME TO STEP:  0.020221233367919922\n",
      "4413 \t TIME TO STEP:  0.019875288009643555\n",
      "4414 \t TIME TO STEP:  0.01989603042602539\n",
      "4415 \t TIME TO STEP:  0.019951581954956055\n",
      "4416 \t TIME TO STEP:  0.02722930908203125\n",
      "4417 \t TIME TO STEP:  0.01979684829711914\n",
      "4418 \t TIME TO STEP:  0.0199892520904541\n",
      "4419 \t TIME TO STEP:  0.020276308059692383\n"
     ]
    },
    {
     "name": "stderr",
     "output_type": "stream",
     "text": [
      "2020-04-20 16:36:40,852 Computing map for /data/gibson/Adrian.glb\n",
      "2020-04-20 16:36:46,318 Invalid map: /data/gibson/Adrian.glb/444\n",
      "2020-04-20 16:36:46,530 Computing map for /data/gibson/Adrian.glb\n"
     ]
    },
    {
     "name": "stdout",
     "output_type": "stream",
     "text": [
      "4420 \t TIME TO RESET:  \t 11.315957307815552\n",
      "4421 \t TIME TO STEP:  0.07475090026855469\n",
      "4422 \t TIME TO STEP:  0.03202462196350098\n",
      "4423 \t TIME TO STEP:  0.04622459411621094\n",
      "4424 \t TIME TO STEP:  0.02026844024658203\n",
      "4425 \t TIME TO STEP:  0.02888178825378418\n",
      "4426 \t TIME TO STEP:  0.02092599868774414\n",
      "4427 \t TIME TO STEP:  0.020142555236816406\n",
      "4428 \t TIME TO STEP:  0.02018427848815918\n",
      "4429 \t TIME TO STEP:  0.020729541778564453\n"
     ]
    },
    {
     "name": "stderr",
     "output_type": "stream",
     "text": [
      "2020-04-20 16:36:52,456 Computing map for /data/gibson/Adrian.glb\n",
      "2020-04-20 16:36:57,914 Invalid map: /data/gibson/Adrian.glb/445\n",
      "2020-04-20 16:36:58,145 Computing map for /data/gibson/Adrian.glb\n",
      "2020-04-20 16:37:03,694 Invalid map: /data/gibson/Adrian.glb/445\n",
      "2020-04-20 16:37:03,907 Computing map for /data/gibson/Adrian.glb\n",
      "2020-04-20 16:37:09,387 Invalid map: /data/gibson/Adrian.glb/445\n",
      "2020-04-20 16:37:09,614 Computing map for /data/gibson/Adrian.glb\n"
     ]
    },
    {
     "name": "stdout",
     "output_type": "stream",
     "text": [
      "4430 \t TIME TO RESET:  \t 22.90574026107788\n",
      "4431 \t TIME TO STEP:  0.07215237617492676\n",
      "4432 \t TIME TO STEP:  0.04397726058959961\n",
      "4433 \t TIME TO STEP:  0.03476738929748535\n",
      "4434 \t TIME TO STEP:  0.06175351142883301\n",
      "4435 \t TIME TO STEP:  0.07117509841918945\n",
      "4436 \t TIME TO STEP:  0.029253482818603516\n",
      "4437 \t TIME TO STEP:  0.0380861759185791\n",
      "4438 \t TIME TO STEP:  0.020613908767700195\n",
      "4439 \t TIME TO STEP:  0.02940058708190918\n"
     ]
    },
    {
     "name": "stderr",
     "output_type": "stream",
     "text": [
      "2020-04-20 16:37:15,765 Computing map for /data/gibson/Adrian.glb\n"
     ]
    },
    {
     "name": "stdout",
     "output_type": "stream",
     "text": [
      "4440 \t TIME TO RESET:  \t 5.846071720123291\n",
      "4441 \t TIME TO STEP:  0.020509004592895508\n",
      "4442 \t TIME TO STEP:  0.020111560821533203\n",
      "4443 \t TIME TO STEP:  0.029767513275146484\n",
      "4444 \t TIME TO STEP:  0.02947831153869629\n",
      "4445 \t TIME TO STEP:  0.028061628341674805\n",
      "4446 \t TIME TO STEP:  0.020343303680419922\n",
      "4447 \t TIME TO STEP:  0.019882678985595703\n",
      "4448 \t TIME TO STEP:  0.020484209060668945\n",
      "4449 \t TIME TO STEP:  0.022220849990844727\n"
     ]
    },
    {
     "name": "stderr",
     "output_type": "stream",
     "text": [
      "2020-04-20 16:37:21,824 Computing map for /data/gibson/Adrian.glb\n",
      "2020-04-20 16:37:27,340 Invalid map: /data/gibson/Adrian.glb/447\n",
      "2020-04-20 16:37:27,556 Computing map for /data/gibson/Adrian.glb\n"
     ]
    },
    {
     "name": "stdout",
     "output_type": "stream",
     "text": [
      "4450 \t TIME TO RESET:  \t 11.536360502243042\n",
      "4451 \t TIME TO STEP:  0.05206799507141113\n",
      "4452 \t TIME TO STEP:  0.02034592628479004\n",
      "4453 \t TIME TO STEP:  0.07021450996398926\n",
      "4454 \t TIME TO STEP:  0.04224705696105957\n",
      "4455 \t TIME TO STEP:  0.045693397521972656\n",
      "4456 \t TIME TO STEP:  0.048948049545288086\n",
      "4457 \t TIME TO STEP:  0.05009603500366211\n",
      "4458 \t TIME TO STEP:  0.027842283248901367\n",
      "4459 \t TIME TO STEP:  0.049048423767089844\n"
     ]
    },
    {
     "name": "stderr",
     "output_type": "stream",
     "text": [
      "2020-04-20 16:37:33,770 Computing map for /data/gibson/Adrian.glb\n",
      "2020-04-20 16:37:39,340 Invalid map: /data/gibson/Adrian.glb/448\n",
      "2020-04-20 16:37:39,539 Computing map for /data/gibson/Adrian.glb\n",
      "2020-04-20 16:37:45,065 Invalid map: /data/gibson/Adrian.glb/448\n",
      "2020-04-20 16:37:45,286 Computing map for /data/gibson/Adrian.glb\n",
      "2020-04-20 16:37:50,701 Invalid map: /data/gibson/Adrian.glb/448\n",
      "2020-04-20 16:37:50,926 Computing map for /data/gibson/Adrian.glb\n"
     ]
    },
    {
     "name": "stdout",
     "output_type": "stream",
     "text": [
      "4460 \t TIME TO RESET:  \t 22.861586809158325\n",
      "4461 \t TIME TO STEP:  0.08115315437316895\n",
      "4462 \t TIME TO STEP:  0.029864072799682617\n",
      "4463 \t TIME TO STEP:  0.020111799240112305\n",
      "4464 \t TIME TO STEP:  0.020819664001464844\n",
      "4465 \t TIME TO STEP:  0.03452444076538086\n",
      "4466 \t TIME TO STEP:  0.022398710250854492\n",
      "4467 \t TIME TO STEP:  0.0205535888671875\n",
      "4468 \t TIME TO STEP:  0.020865678787231445\n",
      "4469 \t TIME TO STEP:  0.02025461196899414\n"
     ]
    },
    {
     "name": "stderr",
     "output_type": "stream",
     "text": [
      "2020-04-20 16:37:56,928 Computing map for /data/gibson/Adrian.glb\n",
      "2020-04-20 16:38:02,343 Invalid map: /data/gibson/Adrian.glb/449\n",
      "2020-04-20 16:38:02,556 Computing map for /data/gibson/Adrian.glb\n"
     ]
    },
    {
     "name": "stdout",
     "output_type": "stream",
     "text": [
      "4470 \t TIME TO RESET:  \t 11.408442497253418\n",
      "4471 \t TIME TO STEP:  0.035925865173339844\n",
      "4472 \t TIME TO STEP:  0.02105879783630371\n",
      "4473 \t TIME TO STEP:  0.01993107795715332\n",
      "4474 \t TIME TO STEP:  0.02019953727722168\n",
      "4475 \t TIME TO STEP:  0.028745651245117188\n",
      "4476 \t TIME TO STEP:  0.02850961685180664\n",
      "4477 \t TIME TO STEP:  0.020813465118408203\n",
      "4478 \t TIME TO STEP:  0.038501739501953125\n",
      "4479 \t TIME TO STEP:  0.020351171493530273\n"
     ]
    },
    {
     "name": "stderr",
     "output_type": "stream",
     "text": [
      "2020-04-20 16:38:08,535 Computing map for /data/gibson/Adrian.glb\n"
     ]
    },
    {
     "name": "stdout",
     "output_type": "stream",
     "text": [
      "4480 \t TIME TO RESET:  \t 5.677076101303101\n",
      "4481 \t TIME TO STEP:  0.020575761795043945\n",
      "4482 \t TIME TO STEP:  0.02032947540283203\n",
      "4483 \t TIME TO STEP:  0.020914077758789062\n",
      "4484 \t TIME TO STEP:  0.022312164306640625\n",
      "4485 \t TIME TO STEP:  0.020537376403808594\n",
      "4486 \t TIME TO STEP:  0.021013736724853516\n",
      "4487 \t TIME TO STEP:  0.019931554794311523\n",
      "4488 \t TIME TO STEP:  0.02071976661682129\n",
      "4489 \t TIME TO STEP:  0.02005171775817871\n"
     ]
    },
    {
     "name": "stderr",
     "output_type": "stream",
     "text": [
      "2020-04-20 16:38:14,409 Computing map for /data/gibson/Adrian.glb\n"
     ]
    },
    {
     "name": "stdout",
     "output_type": "stream",
     "text": [
      "4490 \t TIME TO RESET:  \t 5.663769721984863\n",
      "4491 \t TIME TO STEP:  0.05437278747558594\n",
      "4492 \t TIME TO STEP:  0.0204007625579834\n",
      "4493 \t TIME TO STEP:  0.05324435234069824\n",
      "4494 \t TIME TO STEP:  0.03720736503601074\n",
      "4495 \t TIME TO STEP:  0.02042412757873535\n",
      "4496 \t TIME TO STEP:  0.021019458770751953\n",
      "4497 \t TIME TO STEP:  0.03182554244995117\n",
      "4498 \t TIME TO STEP:  0.05461239814758301\n",
      "4499 \t TIME TO STEP:  0.028937578201293945\n"
     ]
    },
    {
     "name": "stderr",
     "output_type": "stream",
     "text": [
      "2020-04-20 16:38:20,400 Computing map for /data/gibson/Adrian.glb\n",
      "2020-04-20 16:38:25,950 Invalid map: /data/gibson/Adrian.glb/452\n",
      "2020-04-20 16:38:26,163 Computing map for /data/gibson/Adrian.glb\n",
      "2020-04-20 16:38:31,581 Invalid map: /data/gibson/Adrian.glb/452\n",
      "2020-04-20 16:38:31,811 Computing map for /data/gibson/Adrian.glb\n"
     ]
    },
    {
     "name": "stdout",
     "output_type": "stream",
     "text": [
      "4500 \t TIME TO RESET:  \t 17.073325872421265\n",
      "4501 \t TIME TO STEP:  0.03638744354248047\n",
      "4502 \t TIME TO STEP:  0.029088497161865234\n",
      "4503 \t TIME TO STEP:  0.02020883560180664\n",
      "4504 \t TIME TO STEP:  0.021738290786743164\n",
      "4505 \t TIME TO STEP:  0.02021336555480957\n",
      "4506 \t TIME TO STEP:  0.04955887794494629\n",
      "4507 \t TIME TO STEP:  0.020098209381103516\n",
      "4508 \t TIME TO STEP:  0.020598173141479492\n",
      "4509 \t TIME TO STEP:  0.01950359344482422\n"
     ]
    },
    {
     "name": "stderr",
     "output_type": "stream",
     "text": [
      "2020-04-20 16:38:37,706 Computing map for /data/gibson/Adrian.glb\n"
     ]
    },
    {
     "name": "stdout",
     "output_type": "stream",
     "text": [
      "4510 \t TIME TO RESET:  \t 5.836572647094727\n",
      "4511 \t TIME TO STEP:  0.0335078239440918\n",
      "4512 \t TIME TO STEP:  0.0270841121673584\n",
      "4513 \t TIME TO STEP:  0.01939845085144043\n",
      "4514 \t TIME TO STEP:  0.021390199661254883\n",
      "4515 \t TIME TO STEP:  0.01958942413330078\n",
      "4516 \t TIME TO STEP:  0.019986629486083984\n",
      "4517 \t TIME TO STEP:  0.01940178871154785\n",
      "4518 \t TIME TO STEP:  0.019613265991210938\n",
      "4519 \t TIME TO STEP:  0.019644737243652344\n"
     ]
    },
    {
     "name": "stderr",
     "output_type": "stream",
     "text": [
      "2020-04-20 16:38:43,758 Computing map for /data/gibson/Adrian.glb\n",
      "2020-04-20 16:38:49,204 Invalid map: /data/gibson/Adrian.glb/454\n",
      "2020-04-20 16:38:49,420 Computing map for /data/gibson/Adrian.glb\n",
      "2020-04-20 16:38:54,828 Invalid map: /data/gibson/Adrian.glb/454\n",
      "2020-04-20 16:38:55,045 Computing map for /data/gibson/Adrian.glb\n"
     ]
    },
    {
     "name": "stdout",
     "output_type": "stream",
     "text": [
      "4520 \t TIME TO RESET:  \t 17.005520582199097\n",
      "4521 \t TIME TO STEP:  0.05092787742614746\n",
      "4522 \t TIME TO STEP:  0.020244836807250977\n",
      "4523 \t TIME TO STEP:  0.02124476432800293\n",
      "4524 \t TIME TO STEP:  0.020801067352294922\n",
      "4525 \t TIME TO STEP:  0.02065896987915039\n",
      "4526 \t TIME TO STEP:  0.021648645401000977\n",
      "4527 \t TIME TO STEP:  0.020680904388427734\n",
      "4528 \t TIME TO STEP:  0.02031993865966797\n",
      "4529 \t TIME TO STEP:  0.02978229522705078\n"
     ]
    },
    {
     "name": "stderr",
     "output_type": "stream",
     "text": [
      "2020-04-20 16:39:00,979 Computing map for /data/gibson/Adrian.glb\n",
      "2020-04-20 16:39:06,409 Invalid map: /data/gibson/Adrian.glb/455\n",
      "2020-04-20 16:39:06,624 Computing map for /data/gibson/Adrian.glb\n",
      "2020-04-20 16:39:12,085 Invalid map: /data/gibson/Adrian.glb/455\n",
      "2020-04-20 16:39:12,299 Computing map for /data/gibson/Adrian.glb\n",
      "2020-04-20 16:39:17,774 Invalid map: /data/gibson/Adrian.glb/455\n",
      "2020-04-20 16:39:17,995 Computing map for /data/gibson/Adrian.glb\n"
     ]
    },
    {
     "name": "stdout",
     "output_type": "stream",
     "text": [
      "4530 \t TIME TO RESET:  \t 22.7337646484375\n",
      "4531 \t TIME TO STEP:  0.0722055435180664\n",
      "4532 \t TIME TO STEP:  0.020532608032226562\n",
      "4533 \t TIME TO STEP:  0.02081918716430664\n",
      "4534 \t TIME TO STEP:  0.020096302032470703\n",
      "4535 \t TIME TO STEP:  0.020772933959960938\n",
      "4536 \t TIME TO STEP:  0.046152591705322266\n",
      "4537 \t TIME TO STEP:  0.02056574821472168\n",
      "4538 \t TIME TO STEP:  0.020882606506347656\n",
      "4539 \t TIME TO STEP:  0.05386519432067871\n"
     ]
    },
    {
     "name": "stderr",
     "output_type": "stream",
     "text": [
      "2020-04-20 16:39:24,016 Computing map for /data/gibson/Adrian.glb\n"
     ]
    },
    {
     "name": "stdout",
     "output_type": "stream",
     "text": [
      "4540 \t TIME TO RESET:  \t 5.7261176109313965\n",
      "4541 \t TIME TO STEP:  0.04697084426879883\n",
      "4542 \t TIME TO STEP:  0.020011425018310547\n",
      "4543 \t TIME TO STEP:  0.01997971534729004\n",
      "4544 \t TIME TO STEP:  0.019717931747436523\n",
      "4545 \t TIME TO STEP:  0.019543170928955078\n",
      "4546 \t TIME TO STEP:  0.019661664962768555\n",
      "4547 \t TIME TO STEP:  0.019746065139770508\n",
      "4548 \t TIME TO STEP:  0.01974320411682129\n",
      "4549 \t TIME TO STEP:  0.019992828369140625\n"
     ]
    },
    {
     "name": "stderr",
     "output_type": "stream",
     "text": [
      "2020-04-20 16:39:29,954 Computing map for /data/gibson/Adrian.glb\n"
     ]
    },
    {
     "name": "stdout",
     "output_type": "stream",
     "text": [
      "4550 \t TIME TO RESET:  \t 5.678956031799316\n",
      "4551 \t TIME TO STEP:  0.021341562271118164\n",
      "4552 \t TIME TO STEP:  0.054147958755493164\n",
      "4553 \t TIME TO STEP:  0.02010321617126465\n",
      "4554 \t TIME TO STEP:  0.06787729263305664\n",
      "4555 \t TIME TO STEP:  0.05329155921936035\n",
      "4556 \t TIME TO STEP:  0.027940750122070312\n",
      "4557 \t TIME TO STEP:  0.019589900970458984\n",
      "4558 \t TIME TO STEP:  0.05223584175109863\n",
      "4559 \t TIME TO STEP:  0.05161166191101074\n"
     ]
    },
    {
     "name": "stderr",
     "output_type": "stream",
     "text": [
      "2020-04-20 16:39:36,010 Computing map for /data/gibson/Adrian.glb\n",
      "2020-04-20 16:39:41,428 Invalid map: /data/gibson/Adrian.glb/458\n",
      "2020-04-20 16:39:41,641 Computing map for /data/gibson/Adrian.glb\n",
      "2020-04-20 16:39:47,075 Invalid map: /data/gibson/Adrian.glb/458\n",
      "2020-04-20 16:39:47,291 Computing map for /data/gibson/Adrian.glb\n"
     ]
    },
    {
     "name": "stdout",
     "output_type": "stream",
     "text": [
      "4560 \t TIME TO RESET:  \t 17.041999340057373\n",
      "4561 \t TIME TO STEP:  0.07164478302001953\n",
      "4562 \t TIME TO STEP:  0.037706613540649414\n",
      "4563 \t TIME TO STEP:  0.06724882125854492\n",
      "4564 \t TIME TO STEP:  0.04677534103393555\n",
      "4565 \t TIME TO STEP:  0.019970178604125977\n",
      "4566 \t TIME TO STEP:  0.019675731658935547\n",
      "4567 \t TIME TO STEP:  0.019802331924438477\n",
      "4568 \t TIME TO STEP:  0.019980907440185547\n",
      "4569 \t TIME TO STEP:  0.019805908203125\n"
     ]
    },
    {
     "name": "stderr",
     "output_type": "stream",
     "text": [
      "2020-04-20 16:39:53,362 Computing map for /data/gibson/Adrian.glb\n"
     ]
    },
    {
     "name": "stdout",
     "output_type": "stream",
     "text": [
      "4570 \t TIME TO RESET:  \t 5.754281759262085\n",
      "4571 \t TIME TO STEP:  0.05310177803039551\n",
      "4572 \t TIME TO STEP:  0.05375170707702637\n",
      "4573 \t TIME TO STEP:  0.05237936973571777\n",
      "4574 \t TIME TO STEP:  0.0515131950378418\n",
      "4575 \t TIME TO STEP:  0.050565242767333984\n",
      "4576 \t TIME TO STEP:  0.05148887634277344\n",
      "4577 \t TIME TO STEP:  0.05100893974304199\n",
      "4578 \t TIME TO STEP:  0.0201261043548584\n",
      "4579 \t TIME TO STEP:  0.036145925521850586\n"
     ]
    },
    {
     "name": "stderr",
     "output_type": "stream",
     "text": [
      "2020-04-20 16:39:59,561 Computing map for /data/gibson/Adrian.glb\n",
      "2020-04-20 16:40:05,078 Invalid map: /data/gibson/Adrian.glb/460\n",
      "2020-04-20 16:40:05,291 Computing map for /data/gibson/Adrian.glb\n"
     ]
    },
    {
     "name": "stdout",
     "output_type": "stream",
     "text": [
      "4580 \t TIME TO RESET:  \t 11.642699480056763\n",
      "4581 \t TIME TO STEP:  0.0554196834564209\n",
      "4582 \t TIME TO STEP:  0.029927492141723633\n",
      "4583 \t TIME TO STEP:  0.03591728210449219\n",
      "4584 \t TIME TO STEP:  0.02142810821533203\n",
      "4585 \t TIME TO STEP:  0.02102065086364746\n",
      "4586 \t TIME TO STEP:  0.020801067352294922\n",
      "4587 \t TIME TO STEP:  0.02055501937866211\n",
      "4588 \t TIME TO STEP:  0.02046513557434082\n",
      "4589 \t TIME TO STEP:  0.02058243751525879\n"
     ]
    },
    {
     "name": "stderr",
     "output_type": "stream",
     "text": [
      "2020-04-20 16:40:11,424 Computing map for /data/gibson/Adrian.glb\n",
      "2020-04-20 16:40:16,854 Invalid map: /data/gibson/Adrian.glb/461\n",
      "2020-04-20 16:40:17,068 Computing map for /data/gibson/Adrian.glb\n"
     ]
    },
    {
     "name": "stdout",
     "output_type": "stream",
     "text": [
      "4590 \t TIME TO RESET:  \t 11.319956541061401\n",
      "4591 \t TIME TO STEP:  0.06755447387695312\n",
      "4592 \t TIME TO STEP:  0.046654701232910156\n",
      "4593 \t TIME TO STEP:  0.036240577697753906\n",
      "4594 \t TIME TO STEP:  0.020425081253051758\n",
      "4595 \t TIME TO STEP:  0.019849300384521484\n",
      "4596 \t TIME TO STEP:  0.04829859733581543\n",
      "4597 \t TIME TO STEP:  0.06344366073608398\n",
      "4598 \t TIME TO STEP:  0.05431771278381348\n",
      "4599 \t TIME TO STEP:  0.04995250701904297\n"
     ]
    },
    {
     "name": "stderr",
     "output_type": "stream",
     "text": [
      "2020-04-20 16:40:23,153 Computing map for /data/gibson/Adrian.glb\n"
     ]
    },
    {
     "name": "stdout",
     "output_type": "stream",
     "text": [
      "4600 \t TIME TO RESET:  \t 5.7080395221710205\n",
      "4601 \t TIME TO STEP:  0.025563955307006836\n",
      "4602 \t TIME TO STEP:  0.020811796188354492\n",
      "4603 \t TIME TO STEP:  0.02006077766418457\n",
      "4604 \t TIME TO STEP:  0.020328998565673828\n",
      "4605 \t TIME TO STEP:  0.02019786834716797\n",
      "4606 \t TIME TO STEP:  0.020572423934936523\n",
      "4607 \t TIME TO STEP:  0.02063775062561035\n",
      "4608 \t TIME TO STEP:  0.020560503005981445\n",
      "4609 \t TIME TO STEP:  0.020098447799682617\n"
     ]
    },
    {
     "name": "stderr",
     "output_type": "stream",
     "text": [
      "2020-04-20 16:40:29,053 Computing map for /data/gibson/Adrian.glb\n",
      "2020-04-20 16:40:34,584 Invalid map: /data/gibson/Adrian.glb/463\n",
      "2020-04-20 16:40:34,805 Computing map for /data/gibson/Adrian.glb\n"
     ]
    },
    {
     "name": "stdout",
     "output_type": "stream",
     "text": [
      "4610 \t TIME TO RESET:  \t 11.466912746429443\n",
      "4611 \t TIME TO STEP:  0.02959156036376953\n",
      "4612 \t TIME TO STEP:  0.02050328254699707\n",
      "4613 \t TIME TO STEP:  0.020372629165649414\n",
      "4614 \t TIME TO STEP:  0.02025771141052246\n",
      "4615 \t TIME TO STEP:  0.020128250122070312\n",
      "4616 \t TIME TO STEP:  0.020521879196166992\n",
      "4617 \t TIME TO STEP:  0.020231962203979492\n",
      "4618 \t TIME TO STEP:  0.020722627639770508\n",
      "4619 \t TIME TO STEP:  0.053726911544799805\n"
     ]
    },
    {
     "name": "stderr",
     "output_type": "stream",
     "text": [
      "2020-04-20 16:40:40,749 Computing map for /data/gibson/Adrian.glb\n"
     ]
    },
    {
     "name": "stdout",
     "output_type": "stream",
     "text": [
      "4620 \t TIME TO RESET:  \t 5.746591329574585\n",
      "4621 \t TIME TO STEP:  0.03772163391113281\n",
      "4622 \t TIME TO STEP:  0.020264387130737305\n",
      "4623 \t TIME TO STEP:  0.020540237426757812\n",
      "4624 \t TIME TO STEP:  0.020238876342773438\n",
      "4625 \t TIME TO STEP:  0.020071983337402344\n",
      "4626 \t TIME TO STEP:  0.02093958854675293\n",
      "4627 \t TIME TO STEP:  0.020752906799316406\n",
      "4628 \t TIME TO STEP:  0.020763635635375977\n",
      "4629 \t TIME TO STEP:  0.03237748146057129\n"
     ]
    },
    {
     "name": "stderr",
     "output_type": "stream",
     "text": [
      "2020-04-20 16:40:46,712 Computing map for /data/gibson/Adrian.glb\n"
     ]
    },
    {
     "name": "stdout",
     "output_type": "stream",
     "text": [
      "4630 \t TIME TO RESET:  \t 5.825436115264893\n",
      "4631 \t TIME TO STEP:  0.04752922058105469\n",
      "4632 \t TIME TO STEP:  0.021206378936767578\n",
      "4633 \t TIME TO STEP:  0.020374536514282227\n",
      "4634 \t TIME TO STEP:  0.02075958251953125\n",
      "4635 \t TIME TO STEP:  0.020231008529663086\n",
      "4636 \t TIME TO STEP:  0.020033836364746094\n",
      "4637 \t TIME TO STEP:  0.02051401138305664\n",
      "4638 \t TIME TO STEP:  0.020754337310791016\n",
      "4639 \t TIME TO STEP:  0.03179192543029785\n"
     ]
    },
    {
     "name": "stderr",
     "output_type": "stream",
     "text": [
      "2020-04-20 16:40:52,759 Computing map for /data/gibson/Adrian.glb\n"
     ]
    },
    {
     "name": "stdout",
     "output_type": "stream",
     "text": [
      "4640 \t TIME TO RESET:  \t 5.695465326309204\n",
      "4641 \t TIME TO STEP:  0.020760536193847656\n",
      "4642 \t TIME TO STEP:  0.02048969268798828\n",
      "4643 \t TIME TO STEP:  0.0205385684967041\n",
      "4644 \t TIME TO STEP:  0.020235538482666016\n",
      "4645 \t TIME TO STEP:  0.020283222198486328\n",
      "4646 \t TIME TO STEP:  0.02016305923461914\n",
      "4647 \t TIME TO STEP:  0.02030205726623535\n",
      "4648 \t TIME TO STEP:  0.01987147331237793\n",
      "4649 \t TIME TO STEP:  0.02020740509033203\n"
     ]
    },
    {
     "name": "stderr",
     "output_type": "stream",
     "text": [
      "2020-04-20 16:40:58,639 Computing map for /data/gibson/Adrian.glb\n"
     ]
    },
    {
     "name": "stdout",
     "output_type": "stream",
     "text": [
      "4650 \t TIME TO RESET:  \t 5.841097593307495\n",
      "4651 \t TIME TO STEP:  0.044145822525024414\n",
      "4652 \t TIME TO STEP:  0.0200502872467041\n",
      "4653 \t TIME TO STEP:  0.020002126693725586\n",
      "4654 \t TIME TO STEP:  0.020064115524291992\n",
      "4655 \t TIME TO STEP:  0.020484209060668945\n",
      "4656 \t TIME TO STEP:  0.02019333839416504\n",
      "4657 \t TIME TO STEP:  0.019955158233642578\n",
      "4658 \t TIME TO STEP:  0.020038843154907227\n"
     ]
    },
    {
     "name": "stderr",
     "output_type": "stream",
     "text": [
      "2020-04-20 16:41:04,672 Computing map for /data/gibson/Adrian.glb\n"
     ]
    },
    {
     "name": "stdout",
     "output_type": "stream",
     "text": [
      "4659 \t TIME TO STEP:  0.020189523696899414\n"
     ]
    },
    {
     "name": "stderr",
     "output_type": "stream",
     "text": [
      "2020-04-20 16:41:10,329 Invalid map: /data/gibson/Adrian.glb/468\n",
      "2020-04-20 16:41:10,551 Computing map for /data/gibson/Adrian.glb\n"
     ]
    },
    {
     "name": "stdout",
     "output_type": "stream",
     "text": [
      "4660 \t TIME TO RESET:  \t 11.61447525024414\n",
      "4661 \t TIME TO STEP:  0.036516666412353516\n",
      "4662 \t TIME TO STEP:  0.02111196517944336\n",
      "4663 \t TIME TO STEP:  0.020910978317260742\n",
      "4664 \t TIME TO STEP:  0.05468392372131348\n",
      "4665 \t TIME TO STEP:  0.06861639022827148\n",
      "4666 \t TIME TO STEP:  0.05614447593688965\n",
      "4667 \t TIME TO STEP:  0.0296170711517334\n",
      "4668 \t TIME TO STEP:  0.028748273849487305\n",
      "4669 \t TIME TO STEP:  0.020457983016967773\n"
     ]
    },
    {
     "name": "stderr",
     "output_type": "stream",
     "text": [
      "2020-04-20 16:41:16,641 Computing map for /data/gibson/Adrian.glb\n",
      "2020-04-20 16:41:22,164 Invalid map: /data/gibson/Adrian.glb/469\n",
      "2020-04-20 16:41:22,406 Computing map for /data/gibson/Adrian.glb\n"
     ]
    },
    {
     "name": "stdout",
     "output_type": "stream",
     "text": [
      "4670 \t TIME TO RESET:  \t 11.569360494613647\n",
      "4671 \t TIME TO STEP:  0.05542778968811035\n",
      "4672 \t TIME TO STEP:  0.0433964729309082\n",
      "4673 \t TIME TO STEP:  0.020148277282714844\n",
      "4674 \t TIME TO STEP:  0.05479717254638672\n",
      "4675 \t TIME TO STEP:  0.044287681579589844\n",
      "4676 \t TIME TO STEP:  0.019857168197631836\n",
      "4677 \t TIME TO STEP:  0.020307302474975586\n",
      "4678 \t TIME TO STEP:  0.020812034606933594\n",
      "4679 \t TIME TO STEP:  0.019707202911376953\n"
     ]
    },
    {
     "name": "stderr",
     "output_type": "stream",
     "text": [
      "2020-04-20 16:41:28,521 Computing map for /data/gibson/Adrian.glb\n",
      "2020-04-20 16:41:33,963 Invalid map: /data/gibson/Adrian.glb/470\n",
      "2020-04-20 16:41:34,181 Computing map for /data/gibson/Adrian.glb\n",
      "2020-04-20 16:41:39,662 Invalid map: /data/gibson/Adrian.glb/470\n",
      "2020-04-20 16:41:39,879 Computing map for /data/gibson/Adrian.glb\n",
      "2020-04-20 16:41:45,419 Invalid map: /data/gibson/Adrian.glb/470\n",
      "2020-04-20 16:41:45,641 Computing map for /data/gibson/Adrian.glb\n",
      "2020-04-20 16:41:51,046 Invalid map: /data/gibson/Adrian.glb/470\n",
      "2020-04-20 16:41:51,268 Computing map for /data/gibson/Adrian.glb\n",
      "2020-04-20 16:41:56,798 Invalid map: /data/gibson/Adrian.glb/470\n",
      "2020-04-20 16:41:57,007 Computing map for /data/gibson/Adrian.glb\n",
      "2020-04-20 16:42:02,556 Invalid map: /data/gibson/Adrian.glb/470\n",
      "2020-04-20 16:42:02,780 Computing map for /data/gibson/Adrian.glb\n",
      "2020-04-20 16:42:08,252 Invalid map: /data/gibson/Adrian.glb/470\n",
      "2020-04-20 16:42:08,470 Computing map for /data/gibson/Adrian.glb\n",
      "2020-04-20 16:42:13,913 Invalid map: /data/gibson/Adrian.glb/470\n",
      "2020-04-20 16:42:14,138 Computing map for /data/gibson/Adrian.glb\n",
      "2020-04-20 16:42:19,551 Invalid map: /data/gibson/Adrian.glb/470\n",
      "2020-04-20 16:42:19,788 Computing map for /data/gibson/Adrian.glb\n"
     ]
    },
    {
     "name": "stdout",
     "output_type": "stream",
     "text": [
      "4680 \t TIME TO RESET:  \t 57.11573076248169\n",
      "4681 \t TIME TO STEP:  0.0848684310913086\n",
      "4682 \t TIME TO STEP:  0.05499529838562012\n",
      "4683 \t TIME TO STEP:  0.06458687782287598\n",
      "4684 \t TIME TO STEP:  0.029465436935424805\n",
      "4685 \t TIME TO STEP:  0.05327582359313965\n",
      "4686 \t TIME TO STEP:  0.053911447525024414\n",
      "4687 \t TIME TO STEP:  0.06478595733642578\n",
      "4688 \t TIME TO STEP:  0.03803658485412598\n",
      "4689 \t TIME TO STEP:  0.05069994926452637\n"
     ]
    },
    {
     "name": "stderr",
     "output_type": "stream",
     "text": [
      "2020-04-20 16:42:26,123 Computing map for /data/gibson/Adrian.glb\n"
     ]
    },
    {
     "name": "stdout",
     "output_type": "stream",
     "text": [
      "4690 \t TIME TO RESET:  \t 5.8073413372039795\n",
      "4691 \t TIME TO STEP:  0.05332303047180176\n",
      "4692 \t TIME TO STEP:  0.06639862060546875\n",
      "4693 \t TIME TO STEP:  0.04587507247924805\n",
      "4694 \t TIME TO STEP:  0.03846287727355957\n",
      "4695 \t TIME TO STEP:  0.05276823043823242\n",
      "4696 \t TIME TO STEP:  0.02971029281616211\n",
      "4697 \t TIME TO STEP:  0.019987821578979492\n",
      "4698 \t TIME TO STEP:  0.020689725875854492\n",
      "4699 \t TIME TO STEP:  0.020534992218017578\n"
     ]
    },
    {
     "name": "stderr",
     "output_type": "stream",
     "text": [
      "2020-04-20 16:42:32,290 Computing map for /data/gibson/Adrian.glb\n"
     ]
    },
    {
     "name": "stdout",
     "output_type": "stream",
     "text": [
      "4700 \t TIME TO RESET:  \t 5.878617286682129\n",
      "4701 \t TIME TO STEP:  0.028701066970825195\n",
      "4702 \t TIME TO STEP:  0.020311832427978516\n",
      "4703 \t TIME TO STEP:  0.02030324935913086\n",
      "4704 \t TIME TO STEP:  0.02047443389892578\n",
      "4705 \t TIME TO STEP:  0.03536415100097656\n",
      "4706 \t TIME TO STEP:  0.02847123146057129\n",
      "4707 \t TIME TO STEP:  0.02030158042907715\n",
      "4708 \t TIME TO STEP:  0.020295381546020508\n",
      "4709 \t TIME TO STEP:  0.021502017974853516\n"
     ]
    },
    {
     "name": "stderr",
     "output_type": "stream",
     "text": [
      "2020-04-20 16:42:38,387 Computing map for /data/gibson/Adrian.glb\n"
     ]
    },
    {
     "name": "stdout",
     "output_type": "stream",
     "text": [
      "4710 \t TIME TO RESET:  \t 5.798931360244751\n",
      "4711 \t TIME TO STEP:  0.05495929718017578\n",
      "4712 \t TIME TO STEP:  0.02071666717529297\n",
      "4713 \t TIME TO STEP:  0.0539858341217041\n",
      "4714 \t TIME TO STEP:  0.03718304634094238\n",
      "4715 \t TIME TO STEP:  0.02035808563232422\n",
      "4716 \t TIME TO STEP:  0.02022528648376465\n",
      "4717 \t TIME TO STEP:  0.02107095718383789\n",
      "4718 \t TIME TO STEP:  0.022930622100830078\n",
      "4719 \t TIME TO STEP:  0.020203828811645508\n"
     ]
    },
    {
     "name": "stderr",
     "output_type": "stream",
     "text": [
      "2020-04-20 16:42:44,455 Computing map for /data/gibson/Adrian.glb\n",
      "2020-04-20 16:42:50,039 Invalid map: /data/gibson/Adrian.glb/474\n",
      "2020-04-20 16:42:50,254 Computing map for /data/gibson/Adrian.glb\n"
     ]
    },
    {
     "name": "stdout",
     "output_type": "stream",
     "text": [
      "4720 \t TIME TO RESET:  \t 11.531996965408325\n",
      "4721 \t TIME TO STEP:  0.04008173942565918\n",
      "4722 \t TIME TO STEP:  0.05289745330810547\n",
      "4723 \t TIME TO STEP:  0.028628110885620117\n",
      "4724 \t TIME TO STEP:  0.030300140380859375\n",
      "4725 \t TIME TO STEP:  0.020058631896972656\n",
      "4726 \t TIME TO STEP:  0.019936800003051758\n",
      "4727 \t TIME TO STEP:  0.021437644958496094\n",
      "4728 \t TIME TO STEP:  0.020374059677124023\n",
      "4729 \t TIME TO STEP:  0.020430803298950195\n"
     ]
    },
    {
     "name": "stderr",
     "output_type": "stream",
     "text": [
      "2020-04-20 16:42:56,233 Computing map for /data/gibson/Adrian.glb\n"
     ]
    },
    {
     "name": "stdout",
     "output_type": "stream",
     "text": [
      "4730 \t TIME TO RESET:  \t 5.739528179168701\n",
      "4731 \t TIME TO STEP:  0.06942415237426758\n",
      "4732 \t TIME TO STEP:  0.020645618438720703\n",
      "4733 \t TIME TO STEP:  0.020029783248901367\n",
      "4734 \t TIME TO STEP:  0.020157575607299805\n",
      "4735 \t TIME TO STEP:  0.020030736923217773\n",
      "4736 \t TIME TO STEP:  0.020737648010253906\n",
      "4737 \t TIME TO STEP:  0.020541667938232422\n",
      "4738 \t TIME TO STEP:  0.02138805389404297\n",
      "4739 \t TIME TO STEP:  0.020450353622436523\n"
     ]
    },
    {
     "name": "stderr",
     "output_type": "stream",
     "text": [
      "2020-04-20 16:43:02,209 Computing map for /data/gibson/Adrian.glb\n"
     ]
    },
    {
     "name": "stdout",
     "output_type": "stream",
     "text": [
      "4740 \t TIME TO RESET:  \t 5.79835844039917\n",
      "4741 \t TIME TO STEP:  0.05414915084838867\n",
      "4742 \t TIME TO STEP:  0.020257234573364258\n",
      "4743 \t TIME TO STEP:  0.02037978172302246\n",
      "4744 \t TIME TO STEP:  0.020549774169921875\n",
      "4745 \t TIME TO STEP:  0.02044820785522461\n",
      "4746 \t TIME TO STEP:  0.020533084869384766\n",
      "4747 \t TIME TO STEP:  0.020836830139160156\n",
      "4748 \t TIME TO STEP:  0.019791126251220703\n",
      "4749 \t TIME TO STEP:  0.03253293037414551\n"
     ]
    },
    {
     "name": "stderr",
     "output_type": "stream",
     "text": [
      "2020-04-20 16:43:08,244 Computing map for /data/gibson/Adrian.glb\n",
      "2020-04-20 16:43:13,725 Invalid map: /data/gibson/Adrian.glb/477\n",
      "2020-04-20 16:43:13,957 Computing map for /data/gibson/Adrian.glb\n"
     ]
    },
    {
     "name": "stdout",
     "output_type": "stream",
     "text": [
      "4750 \t TIME TO RESET:  \t 11.364142179489136\n",
      "4751 \t TIME TO STEP:  0.05144166946411133\n",
      "4752 \t TIME TO STEP:  0.05324387550354004\n",
      "4753 \t TIME TO STEP:  0.020222187042236328\n",
      "4754 \t TIME TO STEP:  0.028164386749267578\n",
      "4755 \t TIME TO STEP:  0.0515596866607666\n",
      "4756 \t TIME TO STEP:  0.04936790466308594\n",
      "4757 \t TIME TO STEP:  0.0622403621673584\n",
      "4758 \t TIME TO STEP:  0.026434659957885742\n",
      "4759 \t TIME TO STEP:  0.04761862754821777\n"
     ]
    },
    {
     "name": "stderr",
     "output_type": "stream",
     "text": [
      "2020-04-20 16:43:19,977 Computing map for /data/gibson/Adrian.glb\n",
      "2020-04-20 16:43:25,402 Invalid map: /data/gibson/Adrian.glb/478\n",
      "2020-04-20 16:43:25,644 Computing map for /data/gibson/Adrian.glb\n",
      "2020-04-20 16:43:31,054 Invalid map: /data/gibson/Adrian.glb/478\n",
      "2020-04-20 16:43:31,269 Computing map for /data/gibson/Adrian.glb\n"
     ]
    },
    {
     "name": "stdout",
     "output_type": "stream",
     "text": [
      "4760 \t TIME TO RESET:  \t 16.937070846557617\n",
      "4761 \t TIME TO STEP:  0.04919862747192383\n",
      "4762 \t TIME TO STEP:  0.03174877166748047\n",
      "4763 \t TIME TO STEP:  0.020314693450927734\n",
      "4764 \t TIME TO STEP:  0.03782367706298828\n",
      "4765 \t TIME TO STEP:  0.020025014877319336\n",
      "4766 \t TIME TO STEP:  0.031221389770507812\n",
      "4767 \t TIME TO STEP:  0.023960351943969727\n",
      "4768 \t TIME TO STEP:  0.03138613700866699\n",
      "4769 \t TIME TO STEP:  0.020367860794067383\n"
     ]
    },
    {
     "name": "stderr",
     "output_type": "stream",
     "text": [
      "2020-04-20 16:43:37,197 Computing map for /data/gibson/Adrian.glb\n",
      "2020-04-20 16:43:42,658 Invalid map: /data/gibson/Adrian.glb/479\n",
      "2020-04-20 16:43:42,874 Computing map for /data/gibson/Adrian.glb\n"
     ]
    },
    {
     "name": "stdout",
     "output_type": "stream",
     "text": [
      "4770 \t TIME TO RESET:  \t 11.524614572525024\n",
      "4771 \t TIME TO STEP:  0.057099342346191406\n",
      "4772 \t TIME TO STEP:  0.05428624153137207\n",
      "4773 \t TIME TO STEP:  0.06555318832397461\n",
      "4774 \t TIME TO STEP:  0.029681682586669922\n",
      "4775 \t TIME TO STEP:  0.036171674728393555\n",
      "4776 \t TIME TO STEP:  0.02045583724975586\n",
      "4777 \t TIME TO STEP:  0.05455493927001953\n",
      "4778 \t TIME TO STEP:  0.03681635856628418\n",
      "4779 \t TIME TO STEP:  0.07578849792480469\n"
     ]
    },
    {
     "name": "stderr",
     "output_type": "stream",
     "text": [
      "2020-04-20 16:43:49,163 Computing map for /data/gibson/Adrian.glb\n",
      "2020-04-20 16:43:54,692 Invalid map: /data/gibson/Adrian.glb/480\n",
      "2020-04-20 16:43:54,911 Computing map for /data/gibson/Adrian.glb\n"
     ]
    },
    {
     "name": "stdout",
     "output_type": "stream",
     "text": [
      "4780 \t TIME TO RESET:  \t 11.550384521484375\n",
      "4781 \t TIME TO STEP:  0.05518531799316406\n",
      "4782 \t TIME TO STEP:  0.054993391036987305\n",
      "4783 \t TIME TO STEP:  0.05226635932922363\n",
      "4784 \t TIME TO STEP:  0.04891157150268555\n",
      "4785 \t TIME TO STEP:  0.020728349685668945\n",
      "4786 \t TIME TO STEP:  0.020238876342773438\n",
      "4787 \t TIME TO STEP:  0.02013707160949707\n",
      "4788 \t TIME TO STEP:  0.02058887481689453\n",
      "4789 \t TIME TO STEP:  0.020908355712890625\n"
     ]
    },
    {
     "name": "stderr",
     "output_type": "stream",
     "text": [
      "2020-04-20 16:44:01,023 Computing map for /data/gibson/Adrian.glb\n"
     ]
    },
    {
     "name": "stdout",
     "output_type": "stream",
     "text": [
      "4790 \t TIME TO RESET:  \t 6.004410266876221\n",
      "4791 \t TIME TO STEP:  0.053815603256225586\n",
      "4792 \t TIME TO STEP:  0.029424190521240234\n",
      "4793 \t TIME TO STEP:  0.020570755004882812\n",
      "4794 \t TIME TO STEP:  0.020442485809326172\n",
      "4795 \t TIME TO STEP:  0.02888798713684082\n",
      "4796 \t TIME TO STEP:  0.02062702178955078\n",
      "4797 \t TIME TO STEP:  0.020556926727294922\n",
      "4798 \t TIME TO STEP:  0.02209329605102539\n",
      "4799 \t TIME TO STEP:  0.021030426025390625\n"
     ]
    },
    {
     "name": "stderr",
     "output_type": "stream",
     "text": [
      "2020-04-20 16:44:07,269 Computing map for /data/gibson/Adrian.glb\n",
      "2020-04-20 16:44:12,720 Invalid map: /data/gibson/Adrian.glb/482\n",
      "2020-04-20 16:44:12,937 Computing map for /data/gibson/Adrian.glb\n"
     ]
    },
    {
     "name": "stdout",
     "output_type": "stream",
     "text": [
      "4800 \t TIME TO RESET:  \t 11.414705753326416\n",
      "4801 \t TIME TO STEP:  0.04615354537963867\n",
      "4802 \t TIME TO STEP:  0.02004241943359375\n",
      "4803 \t TIME TO STEP:  0.02021026611328125\n",
      "4804 \t TIME TO STEP:  0.020270109176635742\n",
      "4805 \t TIME TO STEP:  0.020880699157714844\n",
      "4806 \t TIME TO STEP:  0.02041006088256836\n",
      "4807 \t TIME TO STEP:  0.020255327224731445\n",
      "4808 \t TIME TO STEP:  0.020305395126342773\n"
     ]
    },
    {
     "name": "stderr",
     "output_type": "stream",
     "text": [
      "2020-04-20 16:44:18,874 Computing map for /data/gibson/Adrian.glb\n"
     ]
    },
    {
     "name": "stdout",
     "output_type": "stream",
     "text": [
      "4809 \t TIME TO STEP:  0.02148914337158203\n"
     ]
    },
    {
     "name": "stderr",
     "output_type": "stream",
     "text": [
      "2020-04-20 16:44:24,303 Invalid map: /data/gibson/Adrian.glb/483\n",
      "2020-04-20 16:44:24,533 Computing map for /data/gibson/Adrian.glb\n"
     ]
    },
    {
     "name": "stdout",
     "output_type": "stream",
     "text": [
      "4810 \t TIME TO RESET:  \t 11.318731307983398\n",
      "4811 \t TIME TO STEP:  0.04609870910644531\n",
      "4812 \t TIME TO STEP:  0.020089149475097656\n",
      "4813 \t TIME TO STEP:  0.034366607666015625\n",
      "4814 \t TIME TO STEP:  0.027092456817626953\n",
      "4815 \t TIME TO STEP:  0.03711962699890137\n",
      "4816 \t TIME TO STEP:  0.03876852989196777\n",
      "4817 \t TIME TO STEP:  0.023853540420532227\n",
      "4818 \t TIME TO STEP:  0.021546602249145508\n",
      "4819 \t TIME TO STEP:  0.0207674503326416\n"
     ]
    },
    {
     "name": "stderr",
     "output_type": "stream",
     "text": [
      "2020-04-20 16:44:30,482 Computing map for /data/gibson/Adrian.glb\n",
      "2020-04-20 16:44:36,042 Invalid map: /data/gibson/Adrian.glb/484\n",
      "2020-04-20 16:44:36,247 Computing map for /data/gibson/Adrian.glb\n",
      "2020-04-20 16:44:41,774 Invalid map: /data/gibson/Adrian.glb/484\n",
      "2020-04-20 16:44:42,008 Computing map for /data/gibson/Adrian.glb\n"
     ]
    },
    {
     "name": "stdout",
     "output_type": "stream",
     "text": [
      "4820 \t TIME TO RESET:  \t 17.284268379211426\n",
      "4821 \t TIME TO STEP:  0.08781838417053223\n",
      "4822 \t TIME TO STEP:  0.02189946174621582\n",
      "4823 \t TIME TO STEP:  0.05275321006774902\n",
      "4824 \t TIME TO STEP:  0.019759416580200195\n",
      "4825 \t TIME TO STEP:  0.06154489517211914\n",
      "4826 \t TIME TO STEP:  0.0503387451171875\n",
      "4827 \t TIME TO STEP:  0.020102977752685547\n",
      "4828 \t TIME TO STEP:  0.019405603408813477\n",
      "4829 \t TIME TO STEP:  0.03424406051635742\n"
     ]
    },
    {
     "name": "stderr",
     "output_type": "stream",
     "text": [
      "2020-04-20 16:44:48,135 Computing map for /data/gibson/Adrian.glb\n",
      "2020-04-20 16:44:53,640 Invalid map: /data/gibson/Adrian.glb/485\n",
      "2020-04-20 16:44:53,879 Computing map for /data/gibson/Adrian.glb\n"
     ]
    },
    {
     "name": "stdout",
     "output_type": "stream",
     "text": [
      "4830 \t TIME TO RESET:  \t 11.412855625152588\n",
      "4831 \t TIME TO STEP:  0.059302568435668945\n",
      "4832 \t TIME TO STEP:  0.0800323486328125\n",
      "4833 \t TIME TO STEP:  0.06574177742004395\n",
      "4834 \t TIME TO STEP:  0.04212236404418945\n",
      "4835 \t TIME TO STEP:  0.02700519561767578\n",
      "4836 \t TIME TO STEP:  0.04287886619567871\n",
      "4837 \t TIME TO STEP:  0.04779934883117676\n",
      "4838 \t TIME TO STEP:  0.02774524688720703\n",
      "4839 \t TIME TO STEP:  0.019324064254760742\n"
     ]
    },
    {
     "name": "stderr",
     "output_type": "stream",
     "text": [
      "2020-04-20 16:44:59,960 Computing map for /data/gibson/Adrian.glb\n",
      "2020-04-20 16:45:05,363 Invalid map: /data/gibson/Adrian.glb/486\n",
      "2020-04-20 16:45:05,598 Computing map for /data/gibson/Adrian.glb\n"
     ]
    },
    {
     "name": "stdout",
     "output_type": "stream",
     "text": [
      "4840 \t TIME TO RESET:  \t 11.480109453201294\n",
      "4841 \t TIME TO STEP:  0.02982616424560547\n",
      "4842 \t TIME TO STEP:  0.02028942108154297\n",
      "4843 \t TIME TO STEP:  0.019806861877441406\n",
      "4844 \t TIME TO STEP:  0.02020120620727539\n",
      "4845 \t TIME TO STEP:  0.020561695098876953\n",
      "4846 \t TIME TO STEP:  0.021088361740112305\n",
      "4847 \t TIME TO STEP:  0.020478010177612305\n",
      "4848 \t TIME TO STEP:  0.02019667625427246\n",
      "4849 \t TIME TO STEP:  0.02041172981262207\n"
     ]
    },
    {
     "name": "stderr",
     "output_type": "stream",
     "text": [
      "2020-04-20 16:45:11,640 Computing map for /data/gibson/Adrian.glb\n",
      "2020-04-20 16:45:17,104 Invalid map: /data/gibson/Adrian.glb/487\n",
      "2020-04-20 16:45:17,325 Computing map for /data/gibson/Adrian.glb\n",
      "2020-04-20 16:45:22,899 Invalid map: /data/gibson/Adrian.glb/487\n",
      "2020-04-20 16:45:23,127 Computing map for /data/gibson/Adrian.glb\n"
     ]
    },
    {
     "name": "stdout",
     "output_type": "stream",
     "text": [
      "4850 \t TIME TO RESET:  \t 17.264566659927368\n",
      "4851 \t TIME TO STEP:  0.0483241081237793\n",
      "4852 \t TIME TO STEP:  0.020888328552246094\n",
      "4853 \t TIME TO STEP:  0.02823019027709961\n",
      "4854 \t TIME TO STEP:  0.019959688186645508\n",
      "4855 \t TIME TO STEP:  0.019957542419433594\n",
      "4856 \t TIME TO STEP:  0.020317792892456055\n",
      "4857 \t TIME TO STEP:  0.03133344650268555\n",
      "4858 \t TIME TO STEP:  0.021479368209838867\n",
      "4859 \t TIME TO STEP:  0.020271778106689453\n"
     ]
    },
    {
     "name": "stderr",
     "output_type": "stream",
     "text": [
      "2020-04-20 16:45:29,130 Computing map for /data/gibson/Adrian.glb\n",
      "2020-04-20 16:45:34,583 Invalid map: /data/gibson/Adrian.glb/488\n",
      "2020-04-20 16:45:34,816 Computing map for /data/gibson/Adrian.glb\n"
     ]
    },
    {
     "name": "stdout",
     "output_type": "stream",
     "text": [
      "4860 \t TIME TO RESET:  \t 11.415268898010254\n",
      "4861 \t TIME TO STEP:  0.04549551010131836\n",
      "4862 \t TIME TO STEP:  0.02074289321899414\n",
      "4863 \t TIME TO STEP:  0.01991891860961914\n",
      "4864 \t TIME TO STEP:  0.020073652267456055\n",
      "4865 \t TIME TO STEP:  0.019701004028320312\n",
      "4866 \t TIME TO STEP:  0.020548582077026367\n",
      "4867 \t TIME TO STEP:  0.020238161087036133\n",
      "4868 \t TIME TO STEP:  0.020517349243164062\n",
      "4869 \t TIME TO STEP:  0.02158522605895996\n"
     ]
    },
    {
     "name": "stderr",
     "output_type": "stream",
     "text": [
      "2020-04-20 16:45:40,758 Computing map for /data/gibson/Adrian.glb\n"
     ]
    },
    {
     "name": "stdout",
     "output_type": "stream",
     "text": [
      "4870 \t TIME TO RESET:  \t 5.701795816421509\n",
      "4871 \t TIME TO STEP:  0.05326342582702637\n",
      "4872 \t TIME TO STEP:  0.05069875717163086\n",
      "4873 \t TIME TO STEP:  0.051259517669677734\n",
      "4874 \t TIME TO STEP:  0.045142412185668945\n",
      "4875 \t TIME TO STEP:  0.02166914939880371\n",
      "4876 \t TIME TO STEP:  0.020221948623657227\n",
      "4877 \t TIME TO STEP:  0.020376920700073242\n",
      "4878 \t TIME TO STEP:  0.029027223587036133\n",
      "4879 \t TIME TO STEP:  0.02016925811767578\n"
     ]
    },
    {
     "name": "stderr",
     "output_type": "stream",
     "text": [
      "2020-04-20 16:45:46,772 Computing map for /data/gibson/Adrian.glb\n"
     ]
    },
    {
     "name": "stdout",
     "output_type": "stream",
     "text": [
      "4880 \t TIME TO RESET:  \t 5.7077178955078125\n",
      "4881 \t TIME TO STEP:  0.047658443450927734\n",
      "4882 \t TIME TO STEP:  0.0197603702545166\n",
      "4883 \t TIME TO STEP:  0.02023625373840332\n",
      "4884 \t TIME TO STEP:  0.020576000213623047\n",
      "4885 \t TIME TO STEP:  0.027458906173706055\n",
      "4886 \t TIME TO STEP:  0.01994180679321289\n",
      "4887 \t TIME TO STEP:  0.0201265811920166\n",
      "4888 \t TIME TO STEP:  0.020218610763549805\n",
      "4889 \t TIME TO STEP:  0.05215144157409668\n"
     ]
    },
    {
     "name": "stderr",
     "output_type": "stream",
     "text": [
      "2020-04-20 16:45:52,732 Computing map for /data/gibson/Adrian.glb\n"
     ]
    },
    {
     "name": "stdout",
     "output_type": "stream",
     "text": [
      "4890 \t TIME TO RESET:  \t 5.791662693023682\n",
      "4891 \t TIME TO STEP:  0.05332517623901367\n",
      "4892 \t TIME TO STEP:  0.043434858322143555\n",
      "4893 \t TIME TO STEP:  0.020232439041137695\n",
      "4894 \t TIME TO STEP:  0.02970409393310547\n",
      "4895 \t TIME TO STEP:  0.019558429718017578\n",
      "4896 \t TIME TO STEP:  0.03527092933654785\n",
      "4897 \t TIME TO STEP:  0.03496837615966797\n",
      "4898 \t TIME TO STEP:  0.020677566528320312\n",
      "4899 \t TIME TO STEP:  0.020702838897705078\n"
     ]
    },
    {
     "name": "stderr",
     "output_type": "stream",
     "text": [
      "2020-04-20 16:45:58,804 Computing map for /data/gibson/Adrian.glb\n"
     ]
    },
    {
     "name": "stdout",
     "output_type": "stream",
     "text": [
      "4900 \t TIME TO RESET:  \t 5.720995664596558\n",
      "4901 \t TIME TO STEP:  0.02884364128112793\n",
      "4902 \t TIME TO STEP:  0.02019786834716797\n",
      "4903 \t TIME TO STEP:  0.01987481117248535\n",
      "4904 \t TIME TO STEP:  0.019720792770385742\n",
      "4905 \t TIME TO STEP:  0.019932985305786133\n",
      "4906 \t TIME TO STEP:  0.019994497299194336\n",
      "4907 \t TIME TO STEP:  0.019961118698120117\n",
      "4908 \t TIME TO STEP:  0.02026653289794922\n",
      "4909 \t TIME TO STEP:  0.02024102210998535\n"
     ]
    },
    {
     "name": "stderr",
     "output_type": "stream",
     "text": [
      "2020-04-20 16:46:04,710 Computing map for /data/gibson/Adrian.glb\n",
      "2020-04-20 16:46:10,098 Invalid map: /data/gibson/Adrian.glb/493\n",
      "2020-04-20 16:46:10,309 Computing map for /data/gibson/Adrian.glb\n",
      "2020-04-20 16:46:15,783 Invalid map: /data/gibson/Adrian.glb/493\n",
      "2020-04-20 16:46:16,008 Computing map for /data/gibson/Adrian.glb\n",
      "2020-04-20 16:46:21,455 Invalid map: /data/gibson/Adrian.glb/493\n",
      "2020-04-20 16:46:21,670 Computing map for /data/gibson/Adrian.glb\n",
      "2020-04-20 16:46:27,247 Invalid map: /data/gibson/Adrian.glb/493\n",
      "2020-04-20 16:46:27,481 Computing map for /data/gibson/Adrian.glb\n",
      "2020-04-20 16:46:32,914 Invalid map: /data/gibson/Adrian.glb/493\n",
      "2020-04-20 16:46:33,122 Computing map for /data/gibson/Adrian.glb\n"
     ]
    },
    {
     "name": "stdout",
     "output_type": "stream",
     "text": [
      "4910 \t TIME TO RESET:  \t 34.112321853637695\n",
      "4911 \t TIME TO STEP:  0.08339357376098633\n",
      "4912 \t TIME TO STEP:  0.021471023559570312\n",
      "4913 \t TIME TO STEP:  0.03525352478027344\n",
      "4914 \t TIME TO STEP:  0.02014446258544922\n",
      "4915 \t TIME TO STEP:  0.020119190216064453\n",
      "4916 \t TIME TO STEP:  0.02977728843688965\n",
      "4917 \t TIME TO STEP:  0.020568370819091797\n",
      "4918 \t TIME TO STEP:  0.02032017707824707\n",
      "4919 \t TIME TO STEP:  0.020333051681518555\n"
     ]
    },
    {
     "name": "stderr",
     "output_type": "stream",
     "text": [
      "2020-04-20 16:46:39,097 Computing map for /data/gibson/Adrian.glb\n",
      "2020-04-20 16:46:44,590 Invalid map: /data/gibson/Adrian.glb/494\n",
      "2020-04-20 16:46:44,848 Computing map for /data/gibson/Adrian.glb\n"
     ]
    },
    {
     "name": "stdout",
     "output_type": "stream",
     "text": [
      "4920 \t TIME TO RESET:  \t 11.638617515563965\n",
      "4921 \t TIME TO STEP:  0.060621023178100586\n",
      "4922 \t TIME TO STEP:  0.04259943962097168\n",
      "4923 \t TIME TO STEP:  0.050823211669921875\n",
      "4924 \t TIME TO STEP:  0.05676150321960449\n",
      "4925 \t TIME TO STEP:  0.054164886474609375\n",
      "4926 \t TIME TO STEP:  0.05342268943786621\n",
      "4927 \t TIME TO STEP:  0.06731510162353516\n",
      "4928 \t TIME TO STEP:  0.06905150413513184\n",
      "4929 \t TIME TO STEP:  0.07572674751281738\n"
     ]
    },
    {
     "name": "stderr",
     "output_type": "stream",
     "text": [
      "2020-04-20 16:46:51,273 Computing map for /data/gibson/Adrian.glb\n",
      "2020-04-20 16:46:56,764 Invalid map: /data/gibson/Adrian.glb/495\n",
      "2020-04-20 16:46:56,973 Computing map for /data/gibson/Adrian.glb\n"
     ]
    },
    {
     "name": "stdout",
     "output_type": "stream",
     "text": [
      "4930 \t TIME TO RESET:  \t 11.513025283813477\n",
      "4931 \t TIME TO STEP:  0.056697845458984375\n",
      "4932 \t TIME TO STEP:  0.02057671546936035\n",
      "4933 \t TIME TO STEP:  0.02012157440185547\n",
      "4934 \t TIME TO STEP:  0.020386934280395508\n",
      "4935 \t TIME TO STEP:  0.029202699661254883\n",
      "4936 \t TIME TO STEP:  0.02020120620727539\n",
      "4937 \t TIME TO STEP:  0.020122766494750977\n",
      "4938 \t TIME TO STEP:  0.021030426025390625\n",
      "4939 \t TIME TO STEP:  0.01997685432434082\n"
     ]
    },
    {
     "name": "stderr",
     "output_type": "stream",
     "text": [
      "2020-04-20 16:47:03,025 Computing map for /data/gibson/Adrian.glb\n"
     ]
    },
    {
     "name": "stdout",
     "output_type": "stream",
     "text": [
      "4940 \t TIME TO RESET:  \t 5.737602710723877\n",
      "4941 \t TIME TO STEP:  0.10069704055786133\n",
      "4942 \t TIME TO STEP:  0.02088022232055664\n",
      "4943 \t TIME TO STEP:  0.027024030685424805\n",
      "4944 \t TIME TO STEP:  0.019937753677368164\n",
      "4945 \t TIME TO STEP:  0.019889116287231445\n",
      "4946 \t TIME TO STEP:  0.02962660789489746\n",
      "4947 \t TIME TO STEP:  0.019410133361816406\n",
      "4948 \t TIME TO STEP:  0.04822659492492676\n",
      "4949 \t TIME TO STEP:  0.020830154418945312\n"
     ]
    },
    {
     "name": "stderr",
     "output_type": "stream",
     "text": [
      "2020-04-20 16:47:09,054 Computing map for /data/gibson/Adrian.glb\n"
     ]
    },
    {
     "name": "stdout",
     "output_type": "stream",
     "text": [
      "4950 \t TIME TO RESET:  \t 5.682636737823486\n",
      "4951 \t TIME TO STEP:  0.021074295043945312\n",
      "4952 \t TIME TO STEP:  0.02046680450439453\n",
      "4953 \t TIME TO STEP:  0.020638704299926758\n",
      "4954 \t TIME TO STEP:  0.02034735679626465\n",
      "4955 \t TIME TO STEP:  0.03156328201293945\n",
      "4956 \t TIME TO STEP:  0.02047133445739746\n",
      "4957 \t TIME TO STEP:  0.02111029624938965\n",
      "4958 \t TIME TO STEP:  0.02050495147705078\n",
      "4959 \t TIME TO STEP:  0.020617246627807617\n"
     ]
    },
    {
     "name": "stderr",
     "output_type": "stream",
     "text": [
      "2020-04-20 16:47:14,969 Computing map for /data/gibson/Adrian.glb\n"
     ]
    },
    {
     "name": "stdout",
     "output_type": "stream",
     "text": [
      "4960 \t TIME TO RESET:  \t 5.744155406951904\n",
      "4961 \t TIME TO STEP:  0.023191213607788086\n",
      "4962 \t TIME TO STEP:  0.06770873069763184\n",
      "4963 \t TIME TO STEP:  0.01991581916809082\n",
      "4964 \t TIME TO STEP:  0.020922422409057617\n",
      "4965 \t TIME TO STEP:  0.020442724227905273\n",
      "4966 \t TIME TO STEP:  0.01972484588623047\n",
      "4967 \t TIME TO STEP:  0.019992828369140625\n",
      "4968 \t TIME TO STEP:  0.032175302505493164\n",
      "4969 \t TIME TO STEP:  0.022363901138305664\n"
     ]
    },
    {
     "name": "stderr",
     "output_type": "stream",
     "text": [
      "2020-04-20 16:47:20,937 Computing map for /data/gibson/Adrian.glb\n"
     ]
    },
    {
     "name": "stdout",
     "output_type": "stream",
     "text": [
      "4970 \t TIME TO RESET:  \t 5.710543155670166\n",
      "4971 \t TIME TO STEP:  0.05127286911010742\n",
      "4972 \t TIME TO STEP:  0.04923248291015625\n",
      "4973 \t TIME TO STEP:  0.019769906997680664\n",
      "4974 \t TIME TO STEP:  0.01954197883605957\n",
      "4975 \t TIME TO STEP:  0.01960897445678711\n",
      "4976 \t TIME TO STEP:  0.020450115203857422\n",
      "4977 \t TIME TO STEP:  0.019772052764892578\n",
      "4978 \t TIME TO STEP:  0.02005147933959961\n",
      "4979 \t TIME TO STEP:  0.027347803115844727\n"
     ]
    },
    {
     "name": "stderr",
     "output_type": "stream",
     "text": [
      "2020-04-20 16:47:26,903 Computing map for /data/gibson/Adrian.glb\n",
      "2020-04-20 16:47:32,332 Invalid map: /data/gibson/Adrian.glb/500\n",
      "2020-04-20 16:47:32,550 Computing map for /data/gibson/Adrian.glb\n"
     ]
    },
    {
     "name": "stdout",
     "output_type": "stream",
     "text": [
      "4980 \t TIME TO RESET:  \t 11.337586641311646\n",
      "4981 \t TIME TO STEP:  0.02908182144165039\n",
      "4982 \t TIME TO STEP:  0.05004167556762695\n",
      "4983 \t TIME TO STEP:  0.019957780838012695\n",
      "4984 \t TIME TO STEP:  0.020058155059814453\n",
      "4985 \t TIME TO STEP:  0.02022528648376465\n",
      "4986 \t TIME TO STEP:  0.027853727340698242\n",
      "4987 \t TIME TO STEP:  0.02056407928466797\n",
      "4988 \t TIME TO STEP:  0.029485702514648438\n",
      "4989 \t TIME TO STEP:  0.052371978759765625\n"
     ]
    },
    {
     "name": "stderr",
     "output_type": "stream",
     "text": [
      "2020-04-20 16:47:38,498 Computing map for /data/gibson/Adrian.glb\n"
     ]
    },
    {
     "name": "stdout",
     "output_type": "stream",
     "text": [
      "4990 \t TIME TO RESET:  \t 5.756523132324219\n",
      "4991 \t TIME TO STEP:  0.02170538902282715\n",
      "4992 \t TIME TO STEP:  0.019638776779174805\n",
      "4993 \t TIME TO STEP:  0.05162191390991211\n",
      "4994 \t TIME TO STEP:  0.04546785354614258\n",
      "4995 \t TIME TO STEP:  0.01984095573425293\n",
      "4996 \t TIME TO STEP:  0.020015478134155273\n",
      "4997 \t TIME TO STEP:  0.020123720169067383\n",
      "4998 \t TIME TO STEP:  0.03580880165100098\n",
      "4999 \t TIME TO STEP:  0.03288722038269043\n"
     ]
    },
    {
     "name": "stderr",
     "output_type": "stream",
     "text": [
      "2020-04-20 16:47:44,541 Computing map for /data/gibson/Adrian.glb\n",
      "2020-04-20 16:47:50,098 Invalid map: /data/gibson/Adrian.glb/502\n",
      "2020-04-20 16:47:50,314 Computing map for /data/gibson/Adrian.glb\n",
      "2020-04-20 16:47:55,764 Invalid map: /data/gibson/Adrian.glb/502\n",
      "2020-04-20 16:47:55,971 Computing map for /data/gibson/Adrian.glb\n"
     ]
    },
    {
     "name": "stdout",
     "output_type": "stream",
     "text": [
      "5000 \t TIME TO RESET:  \t 17.338232278823853\n",
      "5001 \t TIME TO STEP:  0.03578662872314453\n",
      "5002 \t TIME TO STEP:  0.021564483642578125\n",
      "5003 \t TIME TO STEP:  0.019881725311279297\n",
      "5004 \t TIME TO STEP:  0.020209312438964844\n",
      "5005 \t TIME TO STEP:  0.020184755325317383\n",
      "5006 \t TIME TO STEP:  0.020178556442260742\n",
      "5007 \t TIME TO STEP:  0.020212888717651367\n",
      "5008 \t TIME TO STEP:  0.019667863845825195\n",
      "5009 \t TIME TO STEP:  0.02010059356689453\n"
     ]
    },
    {
     "name": "stderr",
     "output_type": "stream",
     "text": [
      "2020-04-20 16:48:02,044 Computing map for /data/gibson/Adrian.glb\n"
     ]
    },
    {
     "name": "stdout",
     "output_type": "stream",
     "text": [
      "5010 \t TIME TO RESET:  \t 5.957118034362793\n",
      "5011 \t TIME TO STEP:  0.05404186248779297\n",
      "5012 \t TIME TO STEP:  0.05573415756225586\n",
      "5013 \t TIME TO STEP:  0.04696798324584961\n",
      "5014 \t TIME TO STEP:  0.019954442977905273\n",
      "5015 \t TIME TO STEP:  0.019952058792114258\n",
      "5016 \t TIME TO STEP:  0.02075672149658203\n",
      "5017 \t TIME TO STEP:  0.05172538757324219\n",
      "5018 \t TIME TO STEP:  0.02141547203063965\n",
      "5019 \t TIME TO STEP:  0.051706552505493164\n"
     ]
    },
    {
     "name": "stderr",
     "output_type": "stream",
     "text": [
      "2020-04-20 16:48:08,375 Computing map for /data/gibson/Adrian.glb\n"
     ]
    },
    {
     "name": "stdout",
     "output_type": "stream",
     "text": [
      "5020 \t TIME TO RESET:  \t 6.015952825546265\n",
      "5021 \t TIME TO STEP:  0.02926349639892578\n",
      "5022 \t TIME TO STEP:  0.020477294921875\n",
      "5023 \t TIME TO STEP:  0.021068572998046875\n",
      "5024 \t TIME TO STEP:  0.020064353942871094\n",
      "5025 \t TIME TO STEP:  0.01983475685119629\n",
      "5026 \t TIME TO STEP:  0.01992321014404297\n",
      "5027 \t TIME TO STEP:  0.020246505737304688\n",
      "5028 \t TIME TO STEP:  0.02069878578186035\n",
      "5029 \t TIME TO STEP:  0.019971609115600586\n"
     ]
    },
    {
     "name": "stderr",
     "output_type": "stream",
     "text": [
      "2020-04-20 16:48:14,597 Computing map for /data/gibson/Adrian.glb\n"
     ]
    },
    {
     "name": "stdout",
     "output_type": "stream",
     "text": [
      "5030 \t TIME TO RESET:  \t 5.920645475387573\n",
      "5031 \t TIME TO STEP:  0.0379331111907959\n",
      "5032 \t TIME TO STEP:  0.020607471466064453\n",
      "5033 \t TIME TO STEP:  0.04533529281616211\n",
      "5034 \t TIME TO STEP:  0.05337119102478027\n",
      "5035 \t TIME TO STEP:  0.059114933013916016\n",
      "5036 \t TIME TO STEP:  0.020453691482543945\n",
      "5037 \t TIME TO STEP:  0.020642757415771484\n",
      "5038 \t TIME TO STEP:  0.020047903060913086\n",
      "5039 \t TIME TO STEP:  0.020659208297729492\n"
     ]
    },
    {
     "name": "stderr",
     "output_type": "stream",
     "text": [
      "2020-04-20 16:48:20,796 Computing map for /data/gibson/Adrian.glb\n"
     ]
    },
    {
     "name": "stdout",
     "output_type": "stream",
     "text": [
      "5040 \t TIME TO RESET:  \t 6.002398729324341\n",
      "5041 \t TIME TO STEP:  0.0388796329498291\n",
      "5042 \t TIME TO STEP:  0.02092289924621582\n",
      "5043 \t TIME TO STEP:  0.02040243148803711\n",
      "5044 \t TIME TO STEP:  0.02040553092956543\n",
      "5045 \t TIME TO STEP:  0.020259380340576172\n",
      "5046 \t TIME TO STEP:  0.020547866821289062\n",
      "5047 \t TIME TO STEP:  0.021108388900756836\n",
      "5048 \t TIME TO STEP:  0.021342039108276367\n",
      "5049 \t TIME TO STEP:  0.06581902503967285\n"
     ]
    },
    {
     "name": "stderr",
     "output_type": "stream",
     "text": [
      "2020-04-20 16:48:27,056 Computing map for /data/gibson/Adrian.glb\n"
     ]
    },
    {
     "name": "stdout",
     "output_type": "stream",
     "text": [
      "5050 \t TIME TO RESET:  \t 5.882217645645142\n",
      "5051 \t TIME TO STEP:  0.020613670349121094\n",
      "5052 \t TIME TO STEP:  0.0209808349609375\n",
      "5053 \t TIME TO STEP:  0.020694971084594727\n",
      "5054 \t TIME TO STEP:  0.020231008529663086\n",
      "5055 \t TIME TO STEP:  0.02084040641784668\n",
      "5056 \t TIME TO STEP:  0.02059483528137207\n",
      "5057 \t TIME TO STEP:  0.02039504051208496\n",
      "5058 \t TIME TO STEP:  0.03193259239196777\n",
      "5059 \t TIME TO STEP:  0.020615816116333008\n"
     ]
    },
    {
     "name": "stderr",
     "output_type": "stream",
     "text": [
      "2020-04-20 16:48:33,124 Computing map for /data/gibson/Adrian.glb\n"
     ]
    },
    {
     "name": "stdout",
     "output_type": "stream",
     "text": [
      "5060 \t TIME TO RESET:  \t 5.815303564071655\n",
      "5061 \t TIME TO STEP:  0.05615568161010742\n",
      "5062 \t TIME TO STEP:  0.020165205001831055\n",
      "5063 \t TIME TO STEP:  0.05330848693847656\n",
      "5064 \t TIME TO STEP:  0.02030038833618164\n",
      "5065 \t TIME TO STEP:  0.05845975875854492\n",
      "5066 \t TIME TO STEP:  0.021817445755004883\n",
      "5067 \t TIME TO STEP:  0.020563125610351562\n",
      "5068 \t TIME TO STEP:  0.020748138427734375\n",
      "5069 \t TIME TO STEP:  0.021145105361938477\n"
     ]
    },
    {
     "name": "stderr",
     "output_type": "stream",
     "text": [
      "2020-04-20 16:48:39,231 Computing map for /data/gibson/Adrian.glb\n",
      "2020-04-20 16:48:45,020 Invalid map: /data/gibson/Adrian.glb/509\n",
      "2020-04-20 16:48:45,240 Computing map for /data/gibson/Adrian.glb\n"
     ]
    },
    {
     "name": "stdout",
     "output_type": "stream",
     "text": [
      "5070 \t TIME TO RESET:  \t 11.934853315353394\n",
      "5071 \t TIME TO STEP:  0.05427098274230957\n",
      "5072 \t TIME TO STEP:  0.020521879196166992\n",
      "5073 \t TIME TO STEP:  0.019995927810668945\n",
      "5074 \t TIME TO STEP:  0.020108938217163086\n",
      "5075 \t TIME TO STEP:  0.020105600357055664\n",
      "5076 \t TIME TO STEP:  0.020481109619140625\n",
      "5077 \t TIME TO STEP:  0.020886659622192383\n",
      "5078 \t TIME TO STEP:  0.020363569259643555\n",
      "5079 \t TIME TO STEP:  0.02054429054260254\n"
     ]
    },
    {
     "name": "stderr",
     "output_type": "stream",
     "text": [
      "2020-04-20 16:48:51,387 Computing map for /data/gibson/Adrian.glb\n"
     ]
    },
    {
     "name": "stdout",
     "output_type": "stream",
     "text": [
      "5080 \t TIME TO RESET:  \t 5.97005033493042\n",
      "5081 \t TIME TO STEP:  0.04620647430419922\n",
      "5082 \t TIME TO STEP:  0.035015106201171875\n",
      "5083 \t TIME TO STEP:  0.019759416580200195\n",
      "5084 \t TIME TO STEP:  0.01964282989501953\n",
      "5085 \t TIME TO STEP:  0.02736043930053711\n",
      "5086 \t TIME TO STEP:  0.05214571952819824\n",
      "5087 \t TIME TO STEP:  0.050986528396606445\n",
      "5088 \t TIME TO STEP:  0.03579592704772949\n",
      "5089 \t TIME TO STEP:  0.01936936378479004\n"
     ]
    },
    {
     "name": "stderr",
     "output_type": "stream",
     "text": [
      "2020-04-20 16:48:57,664 Computing map for /data/gibson/Adrian.glb\n"
     ]
    },
    {
     "name": "stdout",
     "output_type": "stream",
     "text": [
      "5090 \t TIME TO RESET:  \t 5.977002143859863\n",
      "5091 \t TIME TO STEP:  0.07074570655822754\n",
      "5092 \t TIME TO STEP:  0.03732180595397949\n",
      "5093 \t TIME TO STEP:  0.020558595657348633\n",
      "5094 \t TIME TO STEP:  0.01965785026550293\n",
      "5095 \t TIME TO STEP:  0.020204544067382812\n",
      "5096 \t TIME TO STEP:  0.019689321517944336\n",
      "5097 \t TIME TO STEP:  0.02028203010559082\n",
      "5098 \t TIME TO STEP:  0.020482540130615234\n",
      "5099 \t TIME TO STEP:  0.01974201202392578\n"
     ]
    },
    {
     "name": "stderr",
     "output_type": "stream",
     "text": [
      "2020-04-20 16:49:03,892 Computing map for /data/gibson/Adrian.glb\n"
     ]
    },
    {
     "name": "stdout",
     "output_type": "stream",
     "text": [
      "5100 \t TIME TO RESET:  \t 6.003592252731323\n",
      "5101 \t TIME TO STEP:  0.05952930450439453\n",
      "5102 \t TIME TO STEP:  0.037879228591918945\n",
      "5103 \t TIME TO STEP:  0.07694554328918457\n",
      "5104 \t TIME TO STEP:  0.07738733291625977\n",
      "5105 \t TIME TO STEP:  0.06513285636901855\n",
      "5106 \t TIME TO STEP:  0.05378842353820801\n",
      "5107 \t TIME TO STEP:  0.05273747444152832\n",
      "5108 \t TIME TO STEP:  0.055765390396118164\n",
      "5109 \t TIME TO STEP:  0.052275657653808594\n"
     ]
    },
    {
     "name": "stderr",
     "output_type": "stream",
     "text": [
      "2020-04-20 16:49:10,427 Computing map for /data/gibson/Adrian.glb\n"
     ]
    },
    {
     "name": "stdout",
     "output_type": "stream",
     "text": [
      "5110 \t TIME TO RESET:  \t 5.952555418014526\n",
      "5111 \t TIME TO STEP:  0.03843069076538086\n",
      "5112 \t TIME TO STEP:  0.053925275802612305\n",
      "5113 \t TIME TO STEP:  0.05191683769226074\n",
      "5114 \t TIME TO STEP:  0.029055356979370117\n",
      "5115 \t TIME TO STEP:  0.020449399948120117\n",
      "5116 \t TIME TO STEP:  0.02126002311706543\n",
      "5117 \t TIME TO STEP:  0.019955873489379883\n",
      "5118 \t TIME TO STEP:  0.021041393280029297\n",
      "5119 \t TIME TO STEP:  0.020088911056518555\n"
     ]
    },
    {
     "name": "stderr",
     "output_type": "stream",
     "text": [
      "2020-04-20 16:49:16,666 Computing map for /data/gibson/Adrian.glb\n",
      "2020-04-20 16:49:22,375 Invalid map: /data/gibson/Adrian.glb/514\n",
      "2020-04-20 16:49:22,603 Computing map for /data/gibson/Adrian.glb\n"
     ]
    },
    {
     "name": "stdout",
     "output_type": "stream",
     "text": [
      "5120 \t TIME TO RESET:  \t 11.829304456710815\n",
      "5121 \t TIME TO STEP:  0.05622696876525879\n",
      "5122 \t TIME TO STEP:  0.06671667098999023\n",
      "5123 \t TIME TO STEP:  0.044097185134887695\n",
      "5124 \t TIME TO STEP:  0.028211593627929688\n",
      "5125 \t TIME TO STEP:  0.04474186897277832\n",
      "5126 \t TIME TO STEP:  0.059819936752319336\n",
      "5127 \t TIME TO STEP:  0.019700050354003906\n",
      "5128 \t TIME TO STEP:  0.01978898048400879\n",
      "5129 \t TIME TO STEP:  0.019712448120117188\n"
     ]
    },
    {
     "name": "stderr",
     "output_type": "stream",
     "text": [
      "2020-04-20 16:49:28,850 Computing map for /data/gibson/Adrian.glb\n"
     ]
    },
    {
     "name": "stdout",
     "output_type": "stream",
     "text": [
      "5130 \t TIME TO RESET:  \t 5.839319229125977\n",
      "5131 \t TIME TO STEP:  0.04484415054321289\n",
      "5132 \t TIME TO STEP:  0.04428410530090332\n",
      "5133 \t TIME TO STEP:  0.02121257781982422\n",
      "5134 \t TIME TO STEP:  0.020792245864868164\n",
      "5135 \t TIME TO STEP:  0.02085733413696289\n",
      "5136 \t TIME TO STEP:  0.020412206649780273\n",
      "5137 \t TIME TO STEP:  0.020374298095703125\n",
      "5138 \t TIME TO STEP:  0.02133035659790039\n",
      "5139 \t TIME TO STEP:  0.019924163818359375\n"
     ]
    },
    {
     "name": "stderr",
     "output_type": "stream",
     "text": [
      "2020-04-20 16:49:34,921 Computing map for /data/gibson/Adrian.glb\n"
     ]
    },
    {
     "name": "stdout",
     "output_type": "stream",
     "text": [
      "5140 \t TIME TO RESET:  \t 5.878341436386108\n",
      "5141 \t TIME TO STEP:  0.021744966506958008\n",
      "5142 \t TIME TO STEP:  0.020272254943847656\n",
      "5143 \t TIME TO STEP:  0.05054068565368652\n",
      "5144 \t TIME TO STEP:  0.021333694458007812\n",
      "5145 \t TIME TO STEP:  0.0206911563873291\n",
      "5146 \t TIME TO STEP:  0.021014690399169922\n",
      "5147 \t TIME TO STEP:  0.03185629844665527\n",
      "5148 \t TIME TO STEP:  0.022226572036743164\n",
      "5149 \t TIME TO STEP:  0.020679950714111328\n"
     ]
    },
    {
     "name": "stderr",
     "output_type": "stream",
     "text": [
      "2020-04-20 16:49:41,037 Computing map for /data/gibson/Adrian.glb\n",
      "2020-04-20 16:49:46,656 Invalid map: /data/gibson/Adrian.glb/517\n",
      "2020-04-20 16:49:46,882 Computing map for /data/gibson/Adrian.glb\n"
     ]
    },
    {
     "name": "stdout",
     "output_type": "stream",
     "text": [
      "5150 \t TIME TO RESET:  \t 11.799749374389648\n",
      "5151 \t TIME TO STEP:  0.030448436737060547\n",
      "5152 \t TIME TO STEP:  0.020879268646240234\n",
      "5153 \t TIME TO STEP:  0.020853042602539062\n",
      "5154 \t TIME TO STEP:  0.020162105560302734\n",
      "5155 \t TIME TO STEP:  0.02016282081604004\n",
      "5156 \t TIME TO STEP:  0.02925276756286621\n",
      "5157 \t TIME TO STEP:  0.020277738571166992\n",
      "5158 \t TIME TO STEP:  0.03529787063598633\n",
      "5159 \t TIME TO STEP:  0.020991802215576172\n"
     ]
    },
    {
     "name": "stderr",
     "output_type": "stream",
     "text": [
      "2020-04-20 16:49:53,057 Computing map for /data/gibson/Adrian.glb\n"
     ]
    },
    {
     "name": "stdout",
     "output_type": "stream",
     "text": [
      "5160 \t TIME TO RESET:  \t 5.895687103271484\n",
      "5161 \t TIME TO STEP:  0.02167367935180664\n",
      "5162 \t TIME TO STEP:  0.02083301544189453\n",
      "5163 \t TIME TO STEP:  0.020512819290161133\n",
      "5164 \t TIME TO STEP:  0.021447420120239258\n",
      "5165 \t TIME TO STEP:  0.020600318908691406\n",
      "5166 \t TIME TO STEP:  0.020375728607177734\n",
      "5167 \t TIME TO STEP:  0.020928382873535156\n",
      "5168 \t TIME TO STEP:  0.02030181884765625\n",
      "5169 \t TIME TO STEP:  0.020771265029907227\n"
     ]
    },
    {
     "name": "stderr",
     "output_type": "stream",
     "text": [
      "2020-04-20 16:49:59,141 Computing map for /data/gibson/Adrian.glb\n",
      "2020-04-20 16:50:04,867 Invalid map: /data/gibson/Adrian.glb/519\n",
      "2020-04-20 16:50:05,096 Computing map for /data/gibson/Adrian.glb\n",
      "2020-04-20 16:50:10,743 Invalid map: /data/gibson/Adrian.glb/519\n",
      "2020-04-20 16:50:10,962 Computing map for /data/gibson/Adrian.glb\n",
      "2020-04-20 16:50:16,559 Invalid map: /data/gibson/Adrian.glb/519\n",
      "2020-04-20 16:50:16,784 Computing map for /data/gibson/Adrian.glb\n",
      "2020-04-20 16:50:22,411 Invalid map: /data/gibson/Adrian.glb/519\n",
      "2020-04-20 16:50:22,620 Computing map for /data/gibson/Adrian.glb\n"
     ]
    },
    {
     "name": "stdout",
     "output_type": "stream",
     "text": [
      "5170 \t TIME TO RESET:  \t 29.37954831123352\n",
      "5171 \t TIME TO STEP:  0.0963284969329834\n",
      "5172 \t TIME TO STEP:  0.021474123001098633\n",
      "5173 \t TIME TO STEP:  0.020597457885742188\n",
      "5174 \t TIME TO STEP:  0.07177329063415527\n",
      "5175 \t TIME TO STEP:  0.06880903244018555\n",
      "5176 \t TIME TO STEP:  0.049768924713134766\n",
      "5177 \t TIME TO STEP:  0.06753897666931152\n",
      "5178 \t TIME TO STEP:  0.05592679977416992\n",
      "5179 \t TIME TO STEP:  0.054654598236083984\n"
     ]
    },
    {
     "name": "stderr",
     "output_type": "stream",
     "text": [
      "2020-04-20 16:50:29,044 Computing map for /data/gibson/Adrian.glb\n"
     ]
    },
    {
     "name": "stdout",
     "output_type": "stream",
     "text": [
      "5180 \t TIME TO RESET:  \t 6.051567316055298\n",
      "5181 \t TIME TO STEP:  0.03209662437438965\n",
      "5182 \t TIME TO STEP:  0.02291131019592285\n",
      "5183 \t TIME TO STEP:  0.021070003509521484\n",
      "5184 \t TIME TO STEP:  0.020578861236572266\n",
      "5185 \t TIME TO STEP:  0.020598173141479492\n",
      "5186 \t TIME TO STEP:  0.020388364791870117\n",
      "5187 \t TIME TO STEP:  0.020341157913208008\n",
      "5188 \t TIME TO STEP:  0.020827770233154297\n",
      "5189 \t TIME TO STEP:  0.02074265480041504\n"
     ]
    },
    {
     "name": "stderr",
     "output_type": "stream",
     "text": [
      "2020-04-20 16:50:35,277 Computing map for /data/gibson/Adrian.glb\n",
      "2020-04-20 16:50:40,933 Invalid map: /data/gibson/Adrian.glb/521\n",
      "2020-04-20 16:50:41,166 Computing map for /data/gibson/Adrian.glb\n",
      "2020-04-20 16:50:46,888 Invalid map: /data/gibson/Adrian.glb/521\n",
      "2020-04-20 16:50:47,117 Computing map for /data/gibson/Adrian.glb\n"
     ]
    },
    {
     "name": "stdout",
     "output_type": "stream",
     "text": [
      "5190 \t TIME TO RESET:  \t 17.731486558914185\n",
      "5191 \t TIME TO STEP:  0.07119965553283691\n",
      "5192 \t TIME TO STEP:  0.0564727783203125\n",
      "5193 \t TIME TO STEP:  0.020036697387695312\n",
      "5194 \t TIME TO STEP:  0.02057504653930664\n",
      "5195 \t TIME TO STEP:  0.020374536514282227\n",
      "5196 \t TIME TO STEP:  0.020824909210205078\n",
      "5197 \t TIME TO STEP:  0.029085636138916016\n",
      "5198 \t TIME TO STEP:  0.02049732208251953\n",
      "5199 \t TIME TO STEP:  0.020136117935180664\n"
     ]
    },
    {
     "name": "stderr",
     "output_type": "stream",
     "text": [
      "2020-04-20 16:50:53,296 Computing map for /data/gibson/Adrian.glb\n",
      "2020-04-20 16:50:58,974 Invalid map: /data/gibson/Adrian.glb/522\n",
      "2020-04-20 16:50:59,192 Computing map for /data/gibson/Adrian.glb\n",
      "2020-04-20 16:51:04,928 Invalid map: /data/gibson/Adrian.glb/522\n",
      "2020-04-20 16:51:05,178 Computing map for /data/gibson/Adrian.glb\n"
     ]
    },
    {
     "name": "stdout",
     "output_type": "stream",
     "text": [
      "5200 \t TIME TO RESET:  \t 17.87489104270935\n",
      "5201 \t TIME TO STEP:  0.06160092353820801\n",
      "5202 \t TIME TO STEP:  0.020488500595092773\n",
      "5203 \t TIME TO STEP:  0.020487546920776367\n",
      "5204 \t TIME TO STEP:  0.020215272903442383\n",
      "5205 \t TIME TO STEP:  0.020238161087036133\n",
      "5206 \t TIME TO STEP:  0.020467281341552734\n",
      "5207 \t TIME TO STEP:  0.020826101303100586\n",
      "5208 \t TIME TO STEP:  0.03022909164428711\n",
      "5209 \t TIME TO STEP:  0.020517826080322266\n"
     ]
    },
    {
     "name": "stderr",
     "output_type": "stream",
     "text": [
      "2020-04-20 16:51:11,407 Computing map for /data/gibson/Adrian.glb\n",
      "2020-04-20 16:51:17,049 Invalid map: /data/gibson/Adrian.glb/523\n",
      "2020-04-20 16:51:17,264 Computing map for /data/gibson/Adrian.glb\n"
     ]
    },
    {
     "name": "stdout",
     "output_type": "stream",
     "text": [
      "5210 \t TIME TO RESET:  \t 11.749197244644165\n",
      "5211 \t TIME TO STEP:  0.05247831344604492\n",
      "5212 \t TIME TO STEP:  0.05633902549743652\n",
      "5213 \t TIME TO STEP:  0.052910804748535156\n",
      "5214 \t TIME TO STEP:  0.07734370231628418\n",
      "5215 \t TIME TO STEP:  0.057488441467285156\n",
      "5216 \t TIME TO STEP:  0.057962656021118164\n",
      "5217 \t TIME TO STEP:  0.04952549934387207\n",
      "5218 \t TIME TO STEP:  0.020769119262695312\n",
      "5219 \t TIME TO STEP:  0.0226900577545166\n"
     ]
    },
    {
     "name": "stderr",
     "output_type": "stream",
     "text": [
      "2020-04-20 16:51:23,603 Computing map for /data/gibson/Adrian.glb\n"
     ]
    },
    {
     "name": "stdout",
     "output_type": "stream",
     "text": [
      "5220 \t TIME TO RESET:  \t 5.901723384857178\n",
      "5221 \t TIME TO STEP:  0.03786325454711914\n",
      "5222 \t TIME TO STEP:  0.030036449432373047\n",
      "5223 \t TIME TO STEP:  0.020456314086914062\n",
      "5224 \t TIME TO STEP:  0.0291140079498291\n",
      "5225 \t TIME TO STEP:  0.020411252975463867\n",
      "5226 \t TIME TO STEP:  0.020268917083740234\n",
      "5227 \t TIME TO STEP:  0.0379183292388916\n",
      "5228 \t TIME TO STEP:  0.0214540958404541\n",
      "5229 \t TIME TO STEP:  0.020237207412719727\n"
     ]
    },
    {
     "name": "stderr",
     "output_type": "stream",
     "text": [
      "2020-04-20 16:51:29,754 Computing map for /data/gibson/Adrian.glb\n",
      "2020-04-20 16:51:35,522 Invalid map: /data/gibson/Adrian.glb/525\n",
      "2020-04-20 16:51:35,737 Computing map for /data/gibson/Adrian.glb\n"
     ]
    },
    {
     "name": "stdout",
     "output_type": "stream",
     "text": [
      "5230 \t TIME TO RESET:  \t 11.899353742599487\n",
      "5231 \t TIME TO STEP:  0.04659104347229004\n",
      "5232 \t TIME TO STEP:  0.0210416316986084\n",
      "5233 \t TIME TO STEP:  0.021042823791503906\n",
      "5234 \t TIME TO STEP:  0.020717144012451172\n",
      "5235 \t TIME TO STEP:  0.03216743469238281\n",
      "5236 \t TIME TO STEP:  0.02089381217956543\n",
      "5237 \t TIME TO STEP:  0.02071094512939453\n",
      "5238 \t TIME TO STEP:  0.021322965621948242\n",
      "5239 \t TIME TO STEP:  0.020594358444213867\n"
     ]
    },
    {
     "name": "stderr",
     "output_type": "stream",
     "text": [
      "2020-04-20 16:51:41,877 Computing map for /data/gibson/Adrian.glb\n",
      "2020-04-20 16:51:47,488 Invalid map: /data/gibson/Adrian.glb/526\n",
      "2020-04-20 16:51:47,702 Computing map for /data/gibson/Adrian.glb\n",
      "2020-04-20 16:51:53,355 Invalid map: /data/gibson/Adrian.glb/526\n",
      "2020-04-20 16:51:53,581 Computing map for /data/gibson/Adrian.glb\n",
      "2020-04-20 16:51:59,265 Invalid map: /data/gibson/Adrian.glb/526\n",
      "2020-04-20 16:51:59,489 Computing map for /data/gibson/Adrian.glb\n"
     ]
    },
    {
     "name": "stdout",
     "output_type": "stream",
     "text": [
      "5240 \t TIME TO RESET:  \t 23.46935272216797\n",
      "5241 \t TIME TO STEP:  0.07253003120422363\n",
      "5242 \t TIME TO STEP:  0.02090597152709961\n",
      "5243 \t TIME TO STEP:  0.020311355590820312\n",
      "5244 \t TIME TO STEP:  0.020775318145751953\n",
      "5245 \t TIME TO STEP:  0.02014899253845215\n",
      "5246 \t TIME TO STEP:  0.020756959915161133\n",
      "5247 \t TIME TO STEP:  0.02019667625427246\n",
      "5248 \t TIME TO STEP:  0.021433115005493164\n",
      "5249 \t TIME TO STEP:  0.02018117904663086\n"
     ]
    },
    {
     "name": "stderr",
     "output_type": "stream",
     "text": [
      "2020-04-20 16:52:05,586 Computing map for /data/gibson/Adrian.glb\n",
      "2020-04-20 16:52:11,236 Invalid map: /data/gibson/Adrian.glb/527\n",
      "2020-04-20 16:52:11,451 Computing map for /data/gibson/Adrian.glb\n",
      "2020-04-20 16:52:17,147 Invalid map: /data/gibson/Adrian.glb/527\n",
      "2020-04-20 16:52:17,363 Computing map for /data/gibson/Adrian.glb\n"
     ]
    },
    {
     "name": "stdout",
     "output_type": "stream",
     "text": [
      "5250 \t TIME TO RESET:  \t 17.679752111434937\n",
      "5251 \t TIME TO STEP:  0.029834270477294922\n",
      "5252 \t TIME TO STEP:  0.05467391014099121\n",
      "5253 \t TIME TO STEP:  0.020001649856567383\n",
      "5254 \t TIME TO STEP:  0.019831180572509766\n",
      "5255 \t TIME TO STEP:  0.03306388854980469\n",
      "5256 \t TIME TO STEP:  0.020599842071533203\n",
      "5257 \t TIME TO STEP:  0.020409107208251953\n",
      "5258 \t TIME TO STEP:  0.02029705047607422\n",
      "5259 \t TIME TO STEP:  0.020389795303344727\n"
     ]
    },
    {
     "name": "stderr",
     "output_type": "stream",
     "text": [
      "2020-04-20 16:52:23,500 Computing map for /data/gibson/Adrian.glb\n",
      "2020-04-20 16:52:29,034 Invalid map: /data/gibson/Adrian.glb/528\n",
      "2020-04-20 16:52:29,236 Computing map for /data/gibson/Adrian.glb\n"
     ]
    },
    {
     "name": "stdout",
     "output_type": "stream",
     "text": [
      "5260 \t TIME TO RESET:  \t 11.731546401977539\n",
      "5261 \t TIME TO STEP:  0.03402566909790039\n",
      "5262 \t TIME TO STEP:  0.020465850830078125\n",
      "5263 \t TIME TO STEP:  0.06553316116333008\n",
      "5264 \t TIME TO STEP:  0.048270225524902344\n",
      "5265 \t TIME TO STEP:  0.02105402946472168\n",
      "5266 \t TIME TO STEP:  0.06845331192016602\n",
      "5267 \t TIME TO STEP:  0.035363197326660156\n",
      "5268 \t TIME TO STEP:  0.052197933197021484\n",
      "5269 \t TIME TO STEP:  0.036385297775268555\n"
     ]
    },
    {
     "name": "stderr",
     "output_type": "stream",
     "text": [
      "2020-04-20 16:52:35,626 Computing map for /data/gibson/Adrian.glb\n"
     ]
    },
    {
     "name": "stdout",
     "output_type": "stream",
     "text": [
      "5270 \t TIME TO RESET:  \t 6.03001070022583\n",
      "5271 \t TIME TO STEP:  0.05629897117614746\n",
      "5272 \t TIME TO STEP:  0.020328998565673828\n",
      "5273 \t TIME TO STEP:  0.02060532569885254\n",
      "5274 \t TIME TO STEP:  0.020842790603637695\n",
      "5275 \t TIME TO STEP:  0.0206143856048584\n",
      "5276 \t TIME TO STEP:  0.020376205444335938\n",
      "5277 \t TIME TO STEP:  0.020205974578857422\n",
      "5278 \t TIME TO STEP:  0.021509647369384766\n",
      "5279 \t TIME TO STEP:  0.02042531967163086\n"
     ]
    },
    {
     "name": "stderr",
     "output_type": "stream",
     "text": [
      "2020-04-20 16:52:41,868 Computing map for /data/gibson/Adrian.glb\n",
      "2020-04-20 16:52:47,611 Invalid map: /data/gibson/Adrian.glb/530\n",
      "2020-04-20 16:52:47,828 Computing map for /data/gibson/Adrian.glb\n",
      "2020-04-20 16:52:53,530 Invalid map: /data/gibson/Adrian.glb/530\n",
      "2020-04-20 16:52:53,761 Computing map for /data/gibson/Adrian.glb\n",
      "2020-04-20 16:52:59,388 Invalid map: /data/gibson/Adrian.glb/530\n",
      "2020-04-20 16:52:59,615 Computing map for /data/gibson/Adrian.glb\n"
     ]
    },
    {
     "name": "stdout",
     "output_type": "stream",
     "text": [
      "5280 \t TIME TO RESET:  \t 23.6584894657135\n",
      "5281 \t TIME TO STEP:  0.04936099052429199\n",
      "5282 \t TIME TO STEP:  0.05304431915283203\n",
      "5283 \t TIME TO STEP:  0.05378985404968262\n",
      "5284 \t TIME TO STEP:  0.05396246910095215\n",
      "5285 \t TIME TO STEP:  0.06738877296447754\n",
      "5286 \t TIME TO STEP:  0.04333353042602539\n",
      "5287 \t TIME TO STEP:  0.019675254821777344\n",
      "5288 \t TIME TO STEP:  0.019697904586791992\n",
      "5289 \t TIME TO STEP:  0.019818782806396484\n"
     ]
    },
    {
     "name": "stderr",
     "output_type": "stream",
     "text": [
      "2020-04-20 16:53:05,924 Computing map for /data/gibson/Adrian.glb\n",
      "2020-04-20 16:53:11,591 Invalid map: /data/gibson/Adrian.glb/531\n",
      "2020-04-20 16:53:11,837 Computing map for /data/gibson/Adrian.glb\n"
     ]
    },
    {
     "name": "stdout",
     "output_type": "stream",
     "text": [
      "5290 \t TIME TO RESET:  \t 11.852428197860718\n",
      "5291 \t TIME TO STEP:  0.021364688873291016\n",
      "5292 \t TIME TO STEP:  0.0214083194732666\n",
      "5293 \t TIME TO STEP:  0.020334959030151367\n",
      "5294 \t TIME TO STEP:  0.021121740341186523\n",
      "5295 \t TIME TO STEP:  0.020458221435546875\n",
      "5296 \t TIME TO STEP:  0.02067089080810547\n",
      "5297 \t TIME TO STEP:  0.020856618881225586\n",
      "5298 \t TIME TO STEP:  0.02031731605529785\n",
      "5299 \t TIME TO STEP:  0.020577430725097656\n"
     ]
    },
    {
     "name": "stderr",
     "output_type": "stream",
     "text": [
      "2020-04-20 16:53:17,947 Computing map for /data/gibson/Adrian.glb\n"
     ]
    },
    {
     "name": "stdout",
     "output_type": "stream",
     "text": [
      "5300 \t TIME TO RESET:  \t 5.743530988693237\n",
      "5301 \t TIME TO STEP:  0.022206544876098633\n",
      "5302 \t TIME TO STEP:  0.05351519584655762\n",
      "5303 \t TIME TO STEP:  0.05320262908935547\n",
      "5304 \t TIME TO STEP:  0.02032184600830078\n",
      "5305 \t TIME TO STEP:  0.02026677131652832\n",
      "5306 \t TIME TO STEP:  0.02030491828918457\n",
      "5307 \t TIME TO STEP:  0.0202486515045166\n",
      "5308 \t TIME TO STEP:  0.020483970642089844\n",
      "5309 \t TIME TO STEP:  0.02038097381591797\n"
     ]
    },
    {
     "name": "stderr",
     "output_type": "stream",
     "text": [
      "2020-04-20 16:53:23,946 Computing map for /data/gibson/Adrian.glb\n"
     ]
    },
    {
     "name": "stdout",
     "output_type": "stream",
     "text": [
      "5310 \t TIME TO RESET:  \t 5.756690502166748\n",
      "5311 \t TIME TO STEP:  0.0298917293548584\n",
      "5312 \t TIME TO STEP:  0.036362409591674805\n",
      "5313 \t TIME TO STEP:  0.060031890869140625\n",
      "5314 \t TIME TO STEP:  0.04696369171142578\n",
      "5315 \t TIME TO STEP:  0.048090457916259766\n",
      "5316 \t TIME TO STEP:  0.033307552337646484\n",
      "5317 \t TIME TO STEP:  0.019704580307006836\n",
      "5318 \t TIME TO STEP:  0.04794788360595703\n",
      "5319 \t TIME TO STEP:  0.049096107482910156\n"
     ]
    },
    {
     "name": "stderr",
     "output_type": "stream",
     "text": [
      "2020-04-20 16:53:30,073 Computing map for /data/gibson/Adrian.glb\n",
      "2020-04-20 16:53:35,603 Invalid map: /data/gibson/Adrian.glb/534\n",
      "2020-04-20 16:53:35,815 Computing map for /data/gibson/Adrian.glb\n"
     ]
    },
    {
     "name": "stdout",
     "output_type": "stream",
     "text": [
      "5320 \t TIME TO RESET:  \t 11.495162725448608\n",
      "5321 \t TIME TO STEP:  0.020589590072631836\n",
      "5322 \t TIME TO STEP:  0.051371097564697266\n",
      "5323 \t TIME TO STEP:  0.03366804122924805\n",
      "5324 \t TIME TO STEP:  0.03348660469055176\n",
      "5325 \t TIME TO STEP:  0.019433021545410156\n",
      "5326 \t TIME TO STEP:  0.04795050621032715\n",
      "5327 \t TIME TO STEP:  0.035103559494018555\n",
      "5328 \t TIME TO STEP:  0.01932811737060547\n",
      "5329 \t TIME TO STEP:  0.020095109939575195\n"
     ]
    },
    {
     "name": "stderr",
     "output_type": "stream",
     "text": [
      "2020-04-20 16:53:41,849 Computing map for /data/gibson/Adrian.glb\n"
     ]
    },
    {
     "name": "stdout",
     "output_type": "stream",
     "text": [
      "5330 \t TIME TO RESET:  \t 5.761042594909668\n",
      "5331 \t TIME TO STEP:  0.05546236038208008\n",
      "5332 \t TIME TO STEP:  0.05076408386230469\n",
      "5333 \t TIME TO STEP:  0.037111520767211914\n",
      "5334 \t TIME TO STEP:  0.020174741744995117\n",
      "5335 \t TIME TO STEP:  0.019884109497070312\n",
      "5336 \t TIME TO STEP:  0.021483421325683594\n",
      "5337 \t TIME TO STEP:  0.020511627197265625\n",
      "5338 \t TIME TO STEP:  0.02032184600830078\n",
      "5339 \t TIME TO STEP:  0.020483016967773438\n"
     ]
    },
    {
     "name": "stderr",
     "output_type": "stream",
     "text": [
      "2020-04-20 16:53:47,878 Computing map for /data/gibson/Adrian.glb\n",
      "2020-04-20 16:53:53,418 Invalid map: /data/gibson/Adrian.glb/536\n",
      "2020-04-20 16:53:53,635 Computing map for /data/gibson/Adrian.glb\n"
     ]
    },
    {
     "name": "stdout",
     "output_type": "stream",
     "text": [
      "5340 \t TIME TO RESET:  \t 11.43825364112854\n",
      "5341 \t TIME TO STEP:  0.08288192749023438\n",
      "5342 \t TIME TO STEP:  0.029343128204345703\n",
      "5343 \t TIME TO STEP:  0.020046234130859375\n",
      "5344 \t TIME TO STEP:  0.020386934280395508\n",
      "5345 \t TIME TO STEP:  0.0202176570892334\n",
      "5346 \t TIME TO STEP:  0.02011251449584961\n",
      "5347 \t TIME TO STEP:  0.021905183792114258\n",
      "5348 \t TIME TO STEP:  0.02101755142211914\n",
      "5349 \t TIME TO STEP:  0.03507184982299805\n"
     ]
    },
    {
     "name": "stderr",
     "output_type": "stream",
     "text": [
      "2020-04-20 16:53:59,611 Computing map for /data/gibson/Adrian.glb\n"
     ]
    },
    {
     "name": "stdout",
     "output_type": "stream",
     "text": [
      "5350 \t TIME TO RESET:  \t 5.808058977127075\n",
      "5351 \t TIME TO STEP:  0.030331850051879883\n",
      "5352 \t TIME TO STEP:  0.019958019256591797\n",
      "5353 \t TIME TO STEP:  0.05305957794189453\n",
      "5354 \t TIME TO STEP:  0.08252835273742676\n",
      "5355 \t TIME TO STEP:  0.08330607414245605\n",
      "5356 \t TIME TO STEP:  0.022777080535888672\n",
      "5357 \t TIME TO STEP:  0.07246065139770508\n",
      "5358 \t TIME TO STEP:  0.055451393127441406\n",
      "5359 \t TIME TO STEP:  0.036910295486450195\n"
     ]
    },
    {
     "name": "stderr",
     "output_type": "stream",
     "text": [
      "2020-04-20 16:54:05,883 Computing map for /data/gibson/Adrian.glb\n"
     ]
    },
    {
     "name": "stdout",
     "output_type": "stream",
     "text": [
      "5360 \t TIME TO RESET:  \t 5.903152227401733\n",
      "5361 \t TIME TO STEP:  0.04589056968688965\n",
      "5362 \t TIME TO STEP:  0.02025127410888672\n",
      "5363 \t TIME TO STEP:  0.03615975379943848\n",
      "5364 \t TIME TO STEP:  0.0391693115234375\n",
      "5365 \t TIME TO STEP:  0.019878625869750977\n",
      "5366 \t TIME TO STEP:  0.02016425132751465\n",
      "5367 \t TIME TO STEP:  0.02057647705078125\n",
      "5368 \t TIME TO STEP:  0.020620346069335938\n",
      "5369 \t TIME TO STEP:  0.020313739776611328\n"
     ]
    },
    {
     "name": "stderr",
     "output_type": "stream",
     "text": [
      "2020-04-20 16:54:12,006 Computing map for /data/gibson/Adrian.glb\n"
     ]
    },
    {
     "name": "stdout",
     "output_type": "stream",
     "text": [
      "5370 \t TIME TO RESET:  \t 5.803506374359131\n",
      "5371 \t TIME TO STEP:  0.023853540420532227\n",
      "5372 \t TIME TO STEP:  0.02162766456604004\n",
      "5373 \t TIME TO STEP:  0.019812822341918945\n",
      "5374 \t TIME TO STEP:  0.020470857620239258\n",
      "5375 \t TIME TO STEP:  0.019949674606323242\n",
      "5376 \t TIME TO STEP:  0.019904136657714844\n",
      "5377 \t TIME TO STEP:  0.01973414421081543\n",
      "5378 \t TIME TO STEP:  0.03002643585205078\n",
      "5379 \t TIME TO STEP:  0.02004265785217285\n"
     ]
    },
    {
     "name": "stderr",
     "output_type": "stream",
     "text": [
      "2020-04-20 16:54:18,004 Computing map for /data/gibson/Adrian.glb\n"
     ]
    },
    {
     "name": "stdout",
     "output_type": "stream",
     "text": [
      "5380 \t TIME TO RESET:  \t 5.6881184577941895\n",
      "5381 \t TIME TO STEP:  0.030068635940551758\n",
      "5382 \t TIME TO STEP:  0.020400285720825195\n",
      "5383 \t TIME TO STEP:  0.01994490623474121\n",
      "5384 \t TIME TO STEP:  0.0203554630279541\n",
      "5385 \t TIME TO STEP:  0.01997971534729004\n",
      "5386 \t TIME TO STEP:  0.020769834518432617\n",
      "5387 \t TIME TO STEP:  0.0200498104095459\n",
      "5388 \t TIME TO STEP:  0.03706717491149902\n",
      "5389 \t TIME TO STEP:  0.029560089111328125\n"
     ]
    },
    {
     "name": "stderr",
     "output_type": "stream",
     "text": [
      "2020-04-20 16:54:23,936 Computing map for /data/gibson/Adrian.glb\n",
      "2020-04-20 16:54:29,616 Invalid map: /data/gibson/Adrian.glb/541\n",
      "2020-04-20 16:54:29,862 Computing map for /data/gibson/Adrian.glb\n"
     ]
    },
    {
     "name": "stdout",
     "output_type": "stream",
     "text": [
      "5390 \t TIME TO RESET:  \t 11.773472309112549\n",
      "5391 \t TIME TO STEP:  0.05735635757446289\n",
      "5392 \t TIME TO STEP:  0.02878546714782715\n",
      "5393 \t TIME TO STEP:  0.06284928321838379\n",
      "5394 \t TIME TO STEP:  0.06953072547912598\n",
      "5395 \t TIME TO STEP:  0.06724858283996582\n",
      "5396 \t TIME TO STEP:  0.051366567611694336\n",
      "5397 \t TIME TO STEP:  0.05246591567993164\n",
      "5398 \t TIME TO STEP:  0.01985645294189453\n",
      "5399 \t TIME TO STEP:  0.021545886993408203\n"
     ]
    },
    {
     "name": "stderr",
     "output_type": "stream",
     "text": [
      "2020-04-20 16:54:36,120 Computing map for /data/gibson/Adrian.glb\n",
      "2020-04-20 16:54:41,563 Invalid map: /data/gibson/Adrian.glb/542\n",
      "2020-04-20 16:54:41,800 Computing map for /data/gibson/Adrian.glb\n"
     ]
    },
    {
     "name": "stdout",
     "output_type": "stream",
     "text": [
      "5400 \t TIME TO RESET:  \t 11.46257472038269\n",
      "5401 \t TIME TO STEP:  0.05595755577087402\n",
      "5402 \t TIME TO STEP:  0.06519532203674316\n",
      "5403 \t TIME TO STEP:  0.0246584415435791\n",
      "5404 \t TIME TO STEP:  0.02062392234802246\n",
      "5405 \t TIME TO STEP:  0.020310640335083008\n",
      "5406 \t TIME TO STEP:  0.021288394927978516\n",
      "5407 \t TIME TO STEP:  0.03018021583557129\n",
      "5408 \t TIME TO STEP:  0.020393848419189453\n",
      "5409 \t TIME TO STEP:  0.0205233097076416\n"
     ]
    },
    {
     "name": "stderr",
     "output_type": "stream",
     "text": [
      "2020-04-20 16:54:47,848 Computing map for /data/gibson/Adrian.glb\n"
     ]
    },
    {
     "name": "stdout",
     "output_type": "stream",
     "text": [
      "5410 \t TIME TO RESET:  \t 5.83760404586792\n",
      "5411 \t TIME TO STEP:  0.03126692771911621\n",
      "5412 \t TIME TO STEP:  0.020261049270629883\n",
      "5413 \t TIME TO STEP:  0.06725621223449707\n",
      "5414 \t TIME TO STEP:  0.07475805282592773\n",
      "5415 \t TIME TO STEP:  0.06867575645446777\n",
      "5416 \t TIME TO STEP:  0.055400848388671875\n",
      "5417 \t TIME TO STEP:  0.09007430076599121\n",
      "5418 \t TIME TO STEP:  0.05852246284484863\n",
      "5419 \t TIME TO STEP:  0.0468752384185791\n"
     ]
    },
    {
     "name": "stderr",
     "output_type": "stream",
     "text": [
      "2020-04-20 16:54:54,221 Computing map for /data/gibson/Adrian.glb\n"
     ]
    },
    {
     "name": "stdout",
     "output_type": "stream",
     "text": [
      "5420 \t TIME TO RESET:  \t 5.973649263381958\n",
      "5421 \t TIME TO STEP:  0.08257460594177246\n",
      "5422 \t TIME TO STEP:  0.023475170135498047\n",
      "5423 \t TIME TO STEP:  0.021154403686523438\n",
      "5424 \t TIME TO STEP:  0.021496057510375977\n",
      "5425 \t TIME TO STEP:  0.02098393440246582\n",
      "5426 \t TIME TO STEP:  0.020570039749145508\n",
      "5427 \t TIME TO STEP:  0.03274655342102051\n",
      "5428 \t TIME TO STEP:  0.02125239372253418\n",
      "5429 \t TIME TO STEP:  0.020783185958862305\n"
     ]
    },
    {
     "name": "stderr",
     "output_type": "stream",
     "text": [
      "2020-04-20 16:55:00,459 Computing map for /data/gibson/Adrian.glb\n"
     ]
    },
    {
     "name": "stdout",
     "output_type": "stream",
     "text": [
      "5430 \t TIME TO RESET:  \t 5.938629865646362\n",
      "5431 \t TIME TO STEP:  0.029367446899414062\n",
      "5432 \t TIME TO STEP:  0.020993709564208984\n",
      "5433 \t TIME TO STEP:  0.029088973999023438\n",
      "5434 \t TIME TO STEP:  0.020214080810546875\n",
      "5435 \t TIME TO STEP:  0.029604196548461914\n",
      "5436 \t TIME TO STEP:  0.020407915115356445\n",
      "5437 \t TIME TO STEP:  0.0596156120300293\n",
      "5438 \t TIME TO STEP:  0.021223783493041992\n",
      "5439 \t TIME TO STEP:  0.02132272720336914\n"
     ]
    },
    {
     "name": "stderr",
     "output_type": "stream",
     "text": [
      "2020-04-20 16:55:06,654 Computing map for /data/gibson/Adrian.glb\n"
     ]
    },
    {
     "name": "stdout",
     "output_type": "stream",
     "text": [
      "5440 \t TIME TO RESET:  \t 5.942450523376465\n",
      "5441 \t TIME TO STEP:  0.07104158401489258\n",
      "5442 \t TIME TO STEP:  0.045450687408447266\n",
      "5443 \t TIME TO STEP:  0.020874977111816406\n",
      "5444 \t TIME TO STEP:  0.020412921905517578\n",
      "5445 \t TIME TO STEP:  0.02872157096862793\n",
      "5446 \t TIME TO STEP:  0.05266380310058594\n",
      "5447 \t TIME TO STEP:  0.026851654052734375\n",
      "5448 \t TIME TO STEP:  0.0269625186920166\n",
      "5449 \t TIME TO STEP:  0.038969993591308594\n"
     ]
    },
    {
     "name": "stderr",
     "output_type": "stream",
     "text": [
      "2020-04-20 16:55:12,920 Computing map for /data/gibson/Adrian.glb\n"
     ]
    },
    {
     "name": "stdout",
     "output_type": "stream",
     "text": [
      "5450 \t TIME TO RESET:  \t 6.036452770233154\n",
      "5451 \t TIME TO STEP:  0.055985212326049805\n",
      "5452 \t TIME TO STEP:  0.043546199798583984\n",
      "5453 \t TIME TO STEP:  0.0756540298461914\n",
      "5454 \t TIME TO STEP:  0.048911094665527344\n",
      "5455 \t TIME TO STEP:  0.02031850814819336\n",
      "5456 \t TIME TO STEP:  0.029382705688476562\n",
      "5457 \t TIME TO STEP:  0.020336151123046875\n",
      "5458 \t TIME TO STEP:  0.020437240600585938\n",
      "5459 \t TIME TO STEP:  0.020156145095825195\n"
     ]
    },
    {
     "name": "stderr",
     "output_type": "stream",
     "text": [
      "2020-04-20 16:55:19,297 Computing map for /data/gibson/Adrian.glb\n",
      "2020-04-20 16:55:25,076 Invalid map: /data/gibson/Adrian.glb/548\n",
      "2020-04-20 16:55:25,315 Computing map for /data/gibson/Adrian.glb\n"
     ]
    },
    {
     "name": "stdout",
     "output_type": "stream",
     "text": [
      "5460 \t TIME TO RESET:  \t 12.084792852401733\n",
      "5461 \t TIME TO STEP:  0.02313709259033203\n",
      "5462 \t TIME TO STEP:  0.02121257781982422\n",
      "5463 \t TIME TO STEP:  0.020984172821044922\n",
      "5464 \t TIME TO STEP:  0.02091360092163086\n",
      "5465 \t TIME TO STEP:  0.03214621543884277\n",
      "5466 \t TIME TO STEP:  0.021638870239257812\n",
      "5467 \t TIME TO STEP:  0.020654916763305664\n",
      "5468 \t TIME TO STEP:  0.020940780639648438\n",
      "5469 \t TIME TO STEP:  0.01955413818359375\n"
     ]
    },
    {
     "name": "stderr",
     "output_type": "stream",
     "text": [
      "2020-04-20 16:55:31,587 Computing map for /data/gibson/Adrian.glb\n"
     ]
    },
    {
     "name": "stdout",
     "output_type": "stream",
     "text": [
      "5470 \t TIME TO RESET:  \t 5.969532251358032\n",
      "5471 \t TIME TO STEP:  0.05185437202453613\n",
      "5472 \t TIME TO STEP:  0.04199624061584473\n",
      "5473 \t TIME TO STEP:  0.03516364097595215\n",
      "5474 \t TIME TO STEP:  0.0331883430480957\n",
      "5475 \t TIME TO STEP:  0.021180391311645508\n",
      "5476 \t TIME TO STEP:  0.021647930145263672\n",
      "5477 \t TIME TO STEP:  0.0202939510345459\n",
      "5478 \t TIME TO STEP:  0.019752025604248047\n",
      "5479 \t TIME TO STEP:  0.020095109939575195\n"
     ]
    },
    {
     "name": "stderr",
     "output_type": "stream",
     "text": [
      "2020-04-20 16:55:37,818 Computing map for /data/gibson/Adrian.glb\n",
      "2020-04-20 16:55:43,590 Invalid map: /data/gibson/Adrian.glb/550\n",
      "2020-04-20 16:55:43,795 Computing map for /data/gibson/Adrian.glb\n"
     ]
    },
    {
     "name": "stdout",
     "output_type": "stream",
     "text": [
      "5480 \t TIME TO RESET:  \t 11.938994646072388\n",
      "5481 \t TIME TO STEP:  0.059653520584106445\n",
      "5482 \t TIME TO STEP:  0.020458459854125977\n",
      "5483 \t TIME TO STEP:  0.02084493637084961\n",
      "5484 \t TIME TO STEP:  0.021683931350708008\n",
      "5485 \t TIME TO STEP:  0.021421432495117188\n",
      "5486 \t TIME TO STEP:  0.02032303810119629\n",
      "5487 \t TIME TO STEP:  0.0672757625579834\n",
      "5488 \t TIME TO STEP:  0.06207013130187988\n",
      "5489 \t TIME TO STEP:  0.05057334899902344\n"
     ]
    },
    {
     "name": "stderr",
     "output_type": "stream",
     "text": [
      "2020-04-20 16:55:50,114 Computing map for /data/gibson/Adrian.glb\n"
     ]
    },
    {
     "name": "stdout",
     "output_type": "stream",
     "text": [
      "5490 \t TIME TO RESET:  \t 5.889575958251953\n",
      "5491 \t TIME TO STEP:  0.028324365615844727\n",
      "5492 \t TIME TO STEP:  0.019780635833740234\n",
      "5493 \t TIME TO STEP:  0.03598475456237793\n",
      "5494 \t TIME TO STEP:  0.02025151252746582\n",
      "5495 \t TIME TO STEP:  0.01949024200439453\n",
      "5496 \t TIME TO STEP:  0.051557302474975586\n",
      "5497 \t TIME TO STEP:  0.028554916381835938\n",
      "5498 \t TIME TO STEP:  0.05013608932495117\n",
      "5499 \t TIME TO STEP:  0.05197334289550781\n"
     ]
    },
    {
     "name": "stderr",
     "output_type": "stream",
     "text": [
      "2020-04-20 16:55:56,306 Computing map for /data/gibson/Adrian.glb\n"
     ]
    },
    {
     "name": "stdout",
     "output_type": "stream",
     "text": [
      "5500 \t TIME TO RESET:  \t 5.931795597076416\n",
      "5501 \t TIME TO STEP:  0.03169679641723633\n",
      "5502 \t TIME TO STEP:  0.0200042724609375\n",
      "5503 \t TIME TO STEP:  0.01960897445678711\n",
      "5504 \t TIME TO STEP:  0.02013397216796875\n",
      "5505 \t TIME TO STEP:  0.01999378204345703\n",
      "5506 \t TIME TO STEP:  0.0432889461517334\n",
      "5507 \t TIME TO STEP:  0.03400468826293945\n",
      "5508 \t TIME TO STEP:  0.026758432388305664\n",
      "5509 \t TIME TO STEP:  0.02877497673034668\n"
     ]
    },
    {
     "name": "stderr",
     "output_type": "stream",
     "text": [
      "2020-04-20 16:56:02,483 Computing map for /data/gibson/Adrian.glb\n"
     ]
    },
    {
     "name": "stdout",
     "output_type": "stream",
     "text": [
      "5510 \t TIME TO RESET:  \t 5.9681220054626465\n",
      "5511 \t TIME TO STEP:  0.05394387245178223\n",
      "5512 \t TIME TO STEP:  0.051975250244140625\n",
      "5513 \t TIME TO STEP:  0.036711931228637695\n",
      "5514 \t TIME TO STEP:  0.05263996124267578\n",
      "5515 \t TIME TO STEP:  0.02025580406188965\n",
      "5516 \t TIME TO STEP:  0.020048141479492188\n",
      "5517 \t TIME TO STEP:  0.020217418670654297\n",
      "5518 \t TIME TO STEP:  0.02006816864013672\n",
      "5519 \t TIME TO STEP:  0.02008366584777832\n"
     ]
    },
    {
     "name": "stderr",
     "output_type": "stream",
     "text": [
      "2020-04-20 16:56:08,744 Computing map for /data/gibson/Adrian.glb\n"
     ]
    },
    {
     "name": "stdout",
     "output_type": "stream",
     "text": [
      "5520 \t TIME TO RESET:  \t 6.007911920547485\n",
      "5521 \t TIME TO STEP:  0.03148674964904785\n",
      "5522 \t TIME TO STEP:  0.020910024642944336\n",
      "5523 \t TIME TO STEP:  0.020146846771240234\n",
      "5524 \t TIME TO STEP:  0.06762433052062988\n",
      "5525 \t TIME TO STEP:  0.052582502365112305\n",
      "5526 \t TIME TO STEP:  0.021512985229492188\n",
      "5527 \t TIME TO STEP:  0.058381080627441406\n",
      "5528 \t TIME TO STEP:  0.0200347900390625\n",
      "5529 \t TIME TO STEP:  0.02012157440185547\n"
     ]
    },
    {
     "name": "stderr",
     "output_type": "stream",
     "text": [
      "2020-04-20 16:56:15,076 Computing map for /data/gibson/Adrian.glb\n",
      "2020-04-20 16:56:20,545 Invalid map: /data/gibson/Adrian.glb/555\n",
      "2020-04-20 16:56:20,759 Computing map for /data/gibson/Adrian.glb\n",
      "2020-04-20 16:56:26,426 Invalid map: /data/gibson/Adrian.glb/555\n",
      "2020-04-20 16:56:26,642 Computing map for /data/gibson/Adrian.glb\n"
     ]
    },
    {
     "name": "stdout",
     "output_type": "stream",
     "text": [
      "5530 \t TIME TO RESET:  \t 17.485952138900757\n",
      "5531 \t TIME TO STEP:  0.08150720596313477\n",
      "5532 \t TIME TO STEP:  0.04833221435546875\n",
      "5533 \t TIME TO STEP:  0.021076679229736328\n",
      "5534 \t TIME TO STEP:  0.020860910415649414\n",
      "5535 \t TIME TO STEP:  0.021151065826416016\n",
      "5536 \t TIME TO STEP:  0.022901296615600586\n",
      "5537 \t TIME TO STEP:  0.0202944278717041\n",
      "5538 \t TIME TO STEP:  0.020782470703125\n",
      "5539 \t TIME TO STEP:  0.020464181900024414\n"
     ]
    },
    {
     "name": "stderr",
     "output_type": "stream",
     "text": [
      "2020-04-20 16:56:32,856 Computing map for /data/gibson/Adrian.glb\n",
      "2020-04-20 16:56:38,550 Invalid map: /data/gibson/Adrian.glb/556\n",
      "2020-04-20 16:56:38,763 Computing map for /data/gibson/Adrian.glb\n"
     ]
    },
    {
     "name": "stdout",
     "output_type": "stream",
     "text": [
      "5540 \t TIME TO RESET:  \t 11.89922833442688\n",
      "5541 \t TIME TO STEP:  0.02986311912536621\n",
      "5542 \t TIME TO STEP:  0.020936965942382812\n",
      "5543 \t TIME TO STEP:  0.020386219024658203\n",
      "5544 \t TIME TO STEP:  0.020716428756713867\n",
      "5545 \t TIME TO STEP:  0.021014690399169922\n",
      "5546 \t TIME TO STEP:  0.02117443084716797\n",
      "5547 \t TIME TO STEP:  0.02114272117614746\n",
      "5548 \t TIME TO STEP:  0.021291255950927734\n",
      "5549 \t TIME TO STEP:  0.021603107452392578\n"
     ]
    },
    {
     "name": "stderr",
     "output_type": "stream",
     "text": [
      "2020-04-20 16:56:44,928 Computing map for /data/gibson/Adrian.glb\n"
     ]
    },
    {
     "name": "stdout",
     "output_type": "stream",
     "text": [
      "5550 \t TIME TO RESET:  \t 6.039585590362549\n",
      "5551 \t TIME TO STEP:  0.056860923767089844\n",
      "5552 \t TIME TO STEP:  0.04535269737243652\n",
      "5553 \t TIME TO STEP:  0.05412602424621582\n",
      "5554 \t TIME TO STEP:  0.06672930717468262\n",
      "5555 \t TIME TO STEP:  0.021219730377197266\n",
      "5556 \t TIME TO STEP:  0.028243064880371094\n",
      "5557 \t TIME TO STEP:  0.020322799682617188\n",
      "5558 \t TIME TO STEP:  0.020860910415649414\n",
      "5559 \t TIME TO STEP:  0.020094871520996094\n"
     ]
    },
    {
     "name": "stderr",
     "output_type": "stream",
     "text": [
      "2020-04-20 16:56:51,316 Computing map for /data/gibson/Adrian.glb\n"
     ]
    },
    {
     "name": "stdout",
     "output_type": "stream",
     "text": [
      "5560 \t TIME TO RESET:  \t 5.943264007568359\n",
      "5561 \t TIME TO STEP:  0.04155254364013672\n",
      "5562 \t TIME TO STEP:  0.05484580993652344\n",
      "5563 \t TIME TO STEP:  0.035114288330078125\n",
      "5564 \t TIME TO STEP:  0.029419660568237305\n",
      "5565 \t TIME TO STEP:  0.04443669319152832\n",
      "5566 \t TIME TO STEP:  0.021374225616455078\n",
      "5567 \t TIME TO STEP:  0.02021646499633789\n",
      "5568 \t TIME TO STEP:  0.028011322021484375\n",
      "5569 \t TIME TO STEP:  0.0217440128326416\n"
     ]
    },
    {
     "name": "stderr",
     "output_type": "stream",
     "text": [
      "2020-04-20 16:56:57,553 Computing map for /data/gibson/Adrian.glb\n"
     ]
    },
    {
     "name": "stdout",
     "output_type": "stream",
     "text": [
      "5570 \t TIME TO RESET:  \t 5.88644814491272\n",
      "5571 \t TIME TO STEP:  0.037250518798828125\n",
      "5572 \t TIME TO STEP:  0.021371126174926758\n",
      "5573 \t TIME TO STEP:  0.02025151252746582\n",
      "5574 \t TIME TO STEP:  0.021303653717041016\n",
      "5575 \t TIME TO STEP:  0.06692981719970703\n",
      "5576 \t TIME TO STEP:  0.028975725173950195\n",
      "5577 \t TIME TO STEP:  0.020596742630004883\n",
      "5578 \t TIME TO STEP:  0.020302772521972656\n",
      "5579 \t TIME TO STEP:  0.020780324935913086\n"
     ]
    },
    {
     "name": "stderr",
     "output_type": "stream",
     "text": [
      "2020-04-20 16:57:12,148 Computing map for /data/gibson/Albertville.glb\n",
      "2020-04-20 16:57:18,684 Invalid map: /data/gibson/Albertville.glb/560\n",
      "2020-04-20 16:57:18,928 Computing map for /data/gibson/Albertville.glb\n",
      "2020-04-20 16:57:25,428 Invalid map: /data/gibson/Albertville.glb/560\n",
      "2020-04-20 16:57:25,710 Computing map for /data/gibson/Albertville.glb\n"
     ]
    },
    {
     "name": "stdout",
     "output_type": "stream",
     "text": [
      "5580 \t TIME TO RESET:  \t 28.773600339889526\n",
      "5581 \t TIME TO STEP:  0.06174206733703613\n",
      "5582 \t TIME TO STEP:  0.055457353591918945\n",
      "5583 \t TIME TO STEP:  0.06865787506103516\n",
      "5584 \t TIME TO STEP:  0.04514908790588379\n",
      "5585 \t TIME TO STEP:  0.05216646194458008\n",
      "5586 \t TIME TO STEP:  0.05556154251098633\n",
      "5587 \t TIME TO STEP:  0.052884817123413086\n",
      "5588 \t TIME TO STEP:  0.02802586555480957\n",
      "5589 \t TIME TO STEP:  0.05264925956726074\n"
     ]
    },
    {
     "name": "stderr",
     "output_type": "stream",
     "text": [
      "2020-04-20 16:57:33,003 Computing map for /data/gibson/Albertville.glb\n",
      "2020-04-20 16:57:39,527 Invalid map: /data/gibson/Albertville.glb/561\n",
      "2020-04-20 16:57:39,762 Computing map for /data/gibson/Albertville.glb\n"
     ]
    },
    {
     "name": "stdout",
     "output_type": "stream",
     "text": [
      "5590 \t TIME TO RESET:  \t 13.559373378753662\n",
      "5591 \t TIME TO STEP:  0.04376077651977539\n",
      "5592 \t TIME TO STEP:  0.019735336303710938\n",
      "5593 \t TIME TO STEP:  0.01970195770263672\n",
      "5594 \t TIME TO STEP:  0.020128488540649414\n",
      "5595 \t TIME TO STEP:  0.019460678100585938\n",
      "5596 \t TIME TO STEP:  0.02023148536682129\n",
      "5597 \t TIME TO STEP:  0.01996755599975586\n",
      "5598 \t TIME TO STEP:  0.020093679428100586\n",
      "5599 \t TIME TO STEP:  0.020741701126098633\n"
     ]
    },
    {
     "name": "stderr",
     "output_type": "stream",
     "text": [
      "2020-04-20 16:57:46,740 Computing map for /data/gibson/Albertville.glb\n",
      "2020-04-20 16:57:53,107 Invalid map: /data/gibson/Albertville.glb/562\n",
      "2020-04-20 16:57:53,379 Computing map for /data/gibson/Albertville.glb\n",
      "2020-04-20 16:57:59,801 Invalid map: /data/gibson/Albertville.glb/562\n",
      "2020-04-20 16:58:00,050 Computing map for /data/gibson/Albertville.glb\n",
      "2020-04-20 16:58:06,456 Invalid map: /data/gibson/Albertville.glb/562\n",
      "2020-04-20 16:58:06,728 Computing map for /data/gibson/Albertville.glb\n"
     ]
    },
    {
     "name": "stdout",
     "output_type": "stream",
     "text": [
      "5600 \t TIME TO RESET:  \t 26.783294677734375\n",
      "5601 \t TIME TO STEP:  0.08579063415527344\n",
      "5602 \t TIME TO STEP:  0.037494659423828125\n",
      "5603 \t TIME TO STEP:  0.020020008087158203\n",
      "5604 \t TIME TO STEP:  0.02091526985168457\n",
      "5605 \t TIME TO STEP:  0.02029109001159668\n",
      "5606 \t TIME TO STEP:  0.021077871322631836\n",
      "5607 \t TIME TO STEP:  0.020572185516357422\n",
      "5608 \t TIME TO STEP:  0.02026987075805664\n",
      "5609 \t TIME TO STEP:  0.02048635482788086\n"
     ]
    },
    {
     "name": "stderr",
     "output_type": "stream",
     "text": [
      "2020-04-20 16:58:13,795 Computing map for /data/gibson/Albertville.glb\n",
      "2020-04-20 16:58:20,098 Invalid map: /data/gibson/Albertville.glb/563\n",
      "2020-04-20 16:58:20,345 Computing map for /data/gibson/Albertville.glb\n"
     ]
    },
    {
     "name": "stdout",
     "output_type": "stream",
     "text": [
      "5610 \t TIME TO RESET:  \t 13.258619785308838\n",
      "5611 \t TIME TO STEP:  0.05526280403137207\n",
      "5612 \t TIME TO STEP:  0.04794192314147949\n",
      "5613 \t TIME TO STEP:  0.02028369903564453\n",
      "5614 \t TIME TO STEP:  0.019963502883911133\n",
      "5615 \t TIME TO STEP:  0.020666837692260742\n",
      "5616 \t TIME TO STEP:  0.02038407325744629\n",
      "5617 \t TIME TO STEP:  0.020799636840820312\n",
      "5618 \t TIME TO STEP:  0.02053070068359375\n",
      "5619 \t TIME TO STEP:  0.02001476287841797\n"
     ]
    },
    {
     "name": "stderr",
     "output_type": "stream",
     "text": [
      "2020-04-20 16:58:27,300 Computing map for /data/gibson/Albertville.glb\n"
     ]
    },
    {
     "name": "stdout",
     "output_type": "stream",
     "text": [
      "5620 \t TIME TO RESET:  \t 6.674084186553955\n",
      "5621 \t TIME TO STEP:  0.029438495635986328\n",
      "5622 \t TIME TO STEP:  0.019991159439086914\n",
      "5623 \t TIME TO STEP:  0.02014946937561035\n",
      "5624 \t TIME TO STEP:  0.020047903060913086\n",
      "5625 \t TIME TO STEP:  0.0201413631439209\n",
      "5626 \t TIME TO STEP:  0.020152807235717773\n",
      "5627 \t TIME TO STEP:  0.02036571502685547\n",
      "5628 \t TIME TO STEP:  0.02013111114501953\n",
      "5629 \t TIME TO STEP:  0.020153045654296875\n"
     ]
    },
    {
     "name": "stderr",
     "output_type": "stream",
     "text": [
      "2020-04-20 16:58:34,191 Computing map for /data/gibson/Albertville.glb\n"
     ]
    },
    {
     "name": "stdout",
     "output_type": "stream",
     "text": [
      "5630 \t TIME TO RESET:  \t 6.834926128387451\n",
      "5631 \t TIME TO STEP:  0.056412458419799805\n",
      "5632 \t TIME TO STEP:  0.05441617965698242\n",
      "5633 \t TIME TO STEP:  0.03637385368347168\n",
      "5634 \t TIME TO STEP:  0.05285239219665527\n",
      "5635 \t TIME TO STEP:  0.03710317611694336\n",
      "5636 \t TIME TO STEP:  0.06771540641784668\n",
      "5637 \t TIME TO STEP:  0.031096935272216797\n",
      "5638 \t TIME TO STEP:  0.05284833908081055\n",
      "5639 \t TIME TO STEP:  0.028138160705566406\n"
     ]
    },
    {
     "name": "stderr",
     "output_type": "stream",
     "text": [
      "2020-04-20 16:58:41,403 Computing map for /data/gibson/Albertville.glb\n"
     ]
    },
    {
     "name": "stdout",
     "output_type": "stream",
     "text": [
      "5640 \t TIME TO RESET:  \t 6.490102529525757\n",
      "5641 \t TIME TO STEP:  0.05564069747924805\n",
      "5642 \t TIME TO STEP:  0.05222511291503906\n",
      "5643 \t TIME TO STEP:  0.027958393096923828\n",
      "5644 \t TIME TO STEP:  0.01968526840209961\n",
      "5645 \t TIME TO STEP:  0.021555423736572266\n",
      "5646 \t TIME TO STEP:  0.029848098754882812\n",
      "5647 \t TIME TO STEP:  0.020537614822387695\n",
      "5648 \t TIME TO STEP:  0.022454023361206055\n",
      "5649 \t TIME TO STEP:  0.02090311050415039\n"
     ]
    },
    {
     "name": "stderr",
     "output_type": "stream",
     "text": [
      "2020-04-20 16:58:48,178 Computing map for /data/gibson/Albertville.glb\n"
     ]
    },
    {
     "name": "stdout",
     "output_type": "stream",
     "text": [
      "5650 \t TIME TO RESET:  \t 6.628476858139038\n",
      "5651 \t TIME TO STEP:  0.06879210472106934\n",
      "5652 \t TIME TO STEP:  0.020024538040161133\n",
      "5653 \t TIME TO STEP:  0.02003312110900879\n",
      "5654 \t TIME TO STEP:  0.01964259147644043\n",
      "5655 \t TIME TO STEP:  0.019774198532104492\n",
      "5656 \t TIME TO STEP:  0.020351171493530273\n",
      "5657 \t TIME TO STEP:  0.020668983459472656\n",
      "5658 \t TIME TO STEP:  0.019216060638427734\n",
      "5659 \t TIME TO STEP:  0.019505023956298828\n"
     ]
    },
    {
     "name": "stderr",
     "output_type": "stream",
     "text": [
      "2020-04-20 16:58:55,045 Computing map for /data/gibson/Albertville.glb\n"
     ]
    },
    {
     "name": "stdout",
     "output_type": "stream",
     "text": [
      "5660 \t TIME TO RESET:  \t 6.820820093154907\n",
      "5661 \t TIME TO STEP:  0.09071874618530273\n",
      "5662 \t TIME TO STEP:  0.020973682403564453\n",
      "5663 \t TIME TO STEP:  0.020475149154663086\n",
      "5664 \t TIME TO STEP:  0.020589828491210938\n",
      "5665 \t TIME TO STEP:  0.020117998123168945\n",
      "5666 \t TIME TO STEP:  0.020219087600708008\n",
      "5667 \t TIME TO STEP:  0.02190423011779785\n",
      "5668 \t TIME TO STEP:  0.020160198211669922\n",
      "5669 \t TIME TO STEP:  0.020531654357910156\n"
     ]
    },
    {
     "name": "stderr",
     "output_type": "stream",
     "text": [
      "2020-04-20 16:59:02,104 Computing map for /data/gibson/Albertville.glb\n",
      "2020-04-20 16:59:08,585 Invalid map: /data/gibson/Albertville.glb/569\n",
      "2020-04-20 16:59:08,837 Computing map for /data/gibson/Albertville.glb\n"
     ]
    },
    {
     "name": "stdout",
     "output_type": "stream",
     "text": [
      "5670 \t TIME TO RESET:  \t 13.485850095748901\n",
      "5671 \t TIME TO STEP:  0.021509170532226562\n",
      "5672 \t TIME TO STEP:  0.029169082641601562\n",
      "5673 \t TIME TO STEP:  0.020717620849609375\n",
      "5674 \t TIME TO STEP:  0.020306110382080078\n",
      "5675 \t TIME TO STEP:  0.020160675048828125\n",
      "5676 \t TIME TO STEP:  0.020369768142700195\n",
      "5677 \t TIME TO STEP:  0.01971435546875\n",
      "5678 \t TIME TO STEP:  0.020206451416015625\n",
      "5679 \t TIME TO STEP:  0.020467758178710938\n"
     ]
    },
    {
     "name": "stderr",
     "output_type": "stream",
     "text": [
      "2020-04-20 16:59:15,823 Computing map for /data/gibson/Albertville.glb\n"
     ]
    },
    {
     "name": "stdout",
     "output_type": "stream",
     "text": [
      "5680 \t TIME TO RESET:  \t 6.790889739990234\n",
      "5681 \t TIME TO STEP:  0.03824424743652344\n",
      "5682 \t TIME TO STEP:  0.04511117935180664\n",
      "5683 \t TIME TO STEP:  0.05203986167907715\n",
      "5684 \t TIME TO STEP:  0.052666425704956055\n",
      "5685 \t TIME TO STEP:  0.02051401138305664\n",
      "5686 \t TIME TO STEP:  0.01991128921508789\n",
      "5687 \t TIME TO STEP:  0.02990555763244629\n",
      "5688 \t TIME TO STEP:  0.027970314025878906\n",
      "5689 \t TIME TO STEP:  0.053621530532836914\n"
     ]
    },
    {
     "name": "stderr",
     "output_type": "stream",
     "text": [
      "2020-04-20 16:59:22,902 Computing map for /data/gibson/Albertville.glb\n",
      "2020-04-20 16:59:29,282 Invalid map: /data/gibson/Albertville.glb/571\n",
      "2020-04-20 16:59:29,542 Computing map for /data/gibson/Albertville.glb\n",
      "2020-04-20 16:59:36,060 Invalid map: /data/gibson/Albertville.glb/571\n",
      "2020-04-20 16:59:36,296 Computing map for /data/gibson/Albertville.glb\n"
     ]
    },
    {
     "name": "stdout",
     "output_type": "stream",
     "text": [
      "5690 \t TIME TO RESET:  \t 20.11871337890625\n",
      "5691 \t TIME TO STEP:  0.08378839492797852\n",
      "5692 \t TIME TO STEP:  0.029595613479614258\n",
      "5693 \t TIME TO STEP:  0.021353960037231445\n",
      "5694 \t TIME TO STEP:  0.02042555809020996\n",
      "5695 \t TIME TO STEP:  0.020195960998535156\n",
      "5696 \t TIME TO STEP:  0.020264148712158203\n",
      "5697 \t TIME TO STEP:  0.02136969566345215\n",
      "5698 \t TIME TO STEP:  0.020311832427978516\n",
      "5699 \t TIME TO STEP:  0.020267009735107422\n"
     ]
    },
    {
     "name": "stderr",
     "output_type": "stream",
     "text": [
      "2020-04-20 16:59:43,304 Computing map for /data/gibson/Albertville.glb\n"
     ]
    },
    {
     "name": "stdout",
     "output_type": "stream",
     "text": [
      "5700 \t TIME TO RESET:  \t 6.802236318588257\n",
      "5701 \t TIME TO STEP:  0.04604077339172363\n",
      "5702 \t TIME TO STEP:  0.031511783599853516\n",
      "5703 \t TIME TO STEP:  0.020997285842895508\n",
      "5704 \t TIME TO STEP:  0.020509719848632812\n",
      "5705 \t TIME TO STEP:  0.020172834396362305\n",
      "5706 \t TIME TO STEP:  0.02022409439086914\n",
      "5707 \t TIME TO STEP:  0.020550251007080078\n",
      "5708 \t TIME TO STEP:  0.0208590030670166\n",
      "5709 \t TIME TO STEP:  0.03752279281616211\n"
     ]
    },
    {
     "name": "stderr",
     "output_type": "stream",
     "text": [
      "2020-04-20 16:59:50,365 Computing map for /data/gibson/Albertville.glb\n",
      "2020-04-20 16:59:56,898 Invalid map: /data/gibson/Albertville.glb/573\n",
      "2020-04-20 16:59:57,127 Computing map for /data/gibson/Albertville.glb\n"
     ]
    },
    {
     "name": "stdout",
     "output_type": "stream",
     "text": [
      "5710 \t TIME TO RESET:  \t 13.419009923934937\n",
      "5711 \t TIME TO STEP:  0.05482172966003418\n",
      "5712 \t TIME TO STEP:  0.051860809326171875\n",
      "5713 \t TIME TO STEP:  0.0454709529876709\n",
      "5714 \t TIME TO STEP:  0.019862890243530273\n",
      "5715 \t TIME TO STEP:  0.019753694534301758\n",
      "5716 \t TIME TO STEP:  0.02131366729736328\n",
      "5717 \t TIME TO STEP:  0.022743940353393555\n",
      "5718 \t TIME TO STEP:  0.020289897918701172\n",
      "5719 \t TIME TO STEP:  0.02035379409790039\n"
     ]
    },
    {
     "name": "stderr",
     "output_type": "stream",
     "text": [
      "2020-04-20 17:00:04,010 Computing map for /data/gibson/Albertville.glb\n"
     ]
    },
    {
     "name": "stdout",
     "output_type": "stream",
     "text": [
      "5720 \t TIME TO RESET:  \t 6.597832441329956\n",
      "5721 \t TIME TO STEP:  0.06669187545776367\n",
      "5722 \t TIME TO STEP:  0.03811240196228027\n",
      "5723 \t TIME TO STEP:  0.05639314651489258\n",
      "5724 \t TIME TO STEP:  0.055144548416137695\n",
      "5725 \t TIME TO STEP:  0.029204130172729492\n",
      "5726 \t TIME TO STEP:  0.021584749221801758\n",
      "5727 \t TIME TO STEP:  0.0207669734954834\n",
      "5728 \t TIME TO STEP:  0.020486116409301758\n",
      "5729 \t TIME TO STEP:  0.020852327346801758\n"
     ]
    },
    {
     "name": "stderr",
     "output_type": "stream",
     "text": [
      "2020-04-20 17:00:10,972 Computing map for /data/gibson/Albertville.glb\n"
     ]
    },
    {
     "name": "stdout",
     "output_type": "stream",
     "text": [
      "5730 \t TIME TO RESET:  \t 6.850883960723877\n",
      "5731 \t TIME TO STEP:  0.06585288047790527\n",
      "5732 \t TIME TO STEP:  0.020871639251708984\n",
      "5733 \t TIME TO STEP:  0.03872799873352051\n",
      "5734 \t TIME TO STEP:  0.02010345458984375\n",
      "5735 \t TIME TO STEP:  0.020459413528442383\n",
      "5736 \t TIME TO STEP:  0.020362377166748047\n",
      "5737 \t TIME TO STEP:  0.02092266082763672\n",
      "5738 \t TIME TO STEP:  0.021277427673339844\n",
      "5739 \t TIME TO STEP:  0.021937131881713867\n"
     ]
    },
    {
     "name": "stderr",
     "output_type": "stream",
     "text": [
      "2020-04-20 17:00:18,101 Computing map for /data/gibson/Albertville.glb\n"
     ]
    },
    {
     "name": "stdout",
     "output_type": "stream",
     "text": [
      "5740 \t TIME TO RESET:  \t 6.728533744812012\n",
      "5741 \t TIME TO STEP:  0.03412771224975586\n",
      "5742 \t TIME TO STEP:  0.036418914794921875\n",
      "5743 \t TIME TO STEP:  0.035445213317871094\n",
      "5744 \t TIME TO STEP:  0.021087646484375\n",
      "5745 \t TIME TO STEP:  0.021236896514892578\n",
      "5746 \t TIME TO STEP:  0.03131914138793945\n",
      "5747 \t TIME TO STEP:  0.02153325080871582\n",
      "5748 \t TIME TO STEP:  0.03540849685668945\n",
      "5749 \t TIME TO STEP:  0.023322105407714844\n"
     ]
    },
    {
     "name": "stderr",
     "output_type": "stream",
     "text": [
      "2020-04-20 17:00:25,079 Computing map for /data/gibson/Albertville.glb\n"
     ]
    },
    {
     "name": "stdout",
     "output_type": "stream",
     "text": [
      "5750 \t TIME TO RESET:  \t 6.693962574005127\n",
      "5751 \t TIME TO STEP:  0.04702472686767578\n",
      "5752 \t TIME TO STEP:  0.020920276641845703\n",
      "5753 \t TIME TO STEP:  0.020337820053100586\n",
      "5754 \t TIME TO STEP:  0.02007460594177246\n",
      "5755 \t TIME TO STEP:  0.020247220993041992\n",
      "5756 \t TIME TO STEP:  0.020458221435546875\n",
      "5757 \t TIME TO STEP:  0.019986391067504883\n",
      "5758 \t TIME TO STEP:  0.02009105682373047\n",
      "5759 \t TIME TO STEP:  0.021422624588012695\n"
     ]
    },
    {
     "name": "stderr",
     "output_type": "stream",
     "text": [
      "2020-04-20 17:00:31,978 Computing map for /data/gibson/Albertville.glb\n"
     ]
    },
    {
     "name": "stdout",
     "output_type": "stream",
     "text": [
      "5760 \t TIME TO RESET:  \t 6.77829384803772\n",
      "5761 \t TIME TO STEP:  0.055188655853271484\n",
      "5762 \t TIME TO STEP:  0.05463409423828125\n",
      "5763 \t TIME TO STEP:  0.053368330001831055\n",
      "5764 \t TIME TO STEP:  0.0705256462097168\n",
      "5765 \t TIME TO STEP:  0.08370637893676758\n",
      "5766 \t TIME TO STEP:  0.042935848236083984\n",
      "5767 \t TIME TO STEP:  0.04790329933166504\n",
      "5768 \t TIME TO STEP:  0.02041149139404297\n",
      "5769 \t TIME TO STEP:  0.020201921463012695\n"
     ]
    },
    {
     "name": "stderr",
     "output_type": "stream",
     "text": [
      "2020-04-20 17:00:39,203 Computing map for /data/gibson/Albertville.glb\n"
     ]
    },
    {
     "name": "stdout",
     "output_type": "stream",
     "text": [
      "5770 \t TIME TO RESET:  \t 6.786480903625488\n",
      "5771 \t TIME TO STEP:  0.02209639549255371\n",
      "5772 \t TIME TO STEP:  0.02077174186706543\n",
      "5773 \t TIME TO STEP:  0.021175861358642578\n",
      "5774 \t TIME TO STEP:  0.020847797393798828\n",
      "5775 \t TIME TO STEP:  0.02018284797668457\n",
      "5776 \t TIME TO STEP:  0.020483732223510742\n",
      "5777 \t TIME TO STEP:  0.020592451095581055\n",
      "5778 \t TIME TO STEP:  0.020224809646606445\n",
      "5779 \t TIME TO STEP:  0.020650863647460938\n"
     ]
    },
    {
     "name": "stderr",
     "output_type": "stream",
     "text": [
      "2020-04-20 17:00:46,158 Computing map for /data/gibson/Albertville.glb\n",
      "2020-04-20 17:00:52,718 Invalid map: /data/gibson/Albertville.glb/580\n",
      "2020-04-20 17:00:52,951 Computing map for /data/gibson/Albertville.glb\n"
     ]
    },
    {
     "name": "stdout",
     "output_type": "stream",
     "text": [
      "5780 \t TIME TO RESET:  \t 13.497050762176514\n",
      "5781 \t TIME TO STEP:  0.04429173469543457\n",
      "5782 \t TIME TO STEP:  0.07639241218566895\n",
      "5783 \t TIME TO STEP:  0.0540008544921875\n",
      "5784 \t TIME TO STEP:  0.07546186447143555\n",
      "5785 \t TIME TO STEP:  0.036792755126953125\n",
      "5786 \t TIME TO STEP:  0.03690767288208008\n",
      "5787 \t TIME TO STEP:  0.021169185638427734\n",
      "5788 \t TIME TO STEP:  0.02095317840576172\n",
      "5789 \t TIME TO STEP:  0.04875016212463379\n"
     ]
    },
    {
     "name": "stderr",
     "output_type": "stream",
     "text": [
      "2020-04-20 17:01:00,097 Computing map for /data/gibson/Albertville.glb\n",
      "2020-04-20 17:01:06,472 Invalid map: /data/gibson/Albertville.glb/581\n",
      "2020-04-20 17:01:06,708 Computing map for /data/gibson/Albertville.glb\n",
      "2020-04-20 17:01:13,104 Invalid map: /data/gibson/Albertville.glb/581\n",
      "2020-04-20 17:01:13,352 Computing map for /data/gibson/Albertville.glb\n"
     ]
    },
    {
     "name": "stdout",
     "output_type": "stream",
     "text": [
      "5790 \t TIME TO RESET:  \t 20.018887281417847\n",
      "5791 \t TIME TO STEP:  0.08228254318237305\n",
      "5792 \t TIME TO STEP:  0.020692825317382812\n",
      "5793 \t TIME TO STEP:  0.01983022689819336\n",
      "5794 \t TIME TO STEP:  0.02848649024963379\n",
      "5795 \t TIME TO STEP:  0.01972484588623047\n",
      "5796 \t TIME TO STEP:  0.01968836784362793\n",
      "5797 \t TIME TO STEP:  0.02151179313659668\n",
      "5798 \t TIME TO STEP:  0.019783496856689453\n",
      "5799 \t TIME TO STEP:  0.01981067657470703\n"
     ]
    },
    {
     "name": "stderr",
     "output_type": "stream",
     "text": [
      "2020-04-20 17:01:20,373 Computing map for /data/gibson/Albertville.glb\n",
      "2020-04-20 17:01:26,784 Invalid map: /data/gibson/Albertville.glb/582\n",
      "2020-04-20 17:01:27,041 Computing map for /data/gibson/Albertville.glb\n"
     ]
    },
    {
     "name": "stdout",
     "output_type": "stream",
     "text": [
      "5800 \t TIME TO RESET:  \t 13.49105954170227\n",
      "5801 \t TIME TO STEP:  0.03599405288696289\n",
      "5802 \t TIME TO STEP:  0.020627975463867188\n",
      "5803 \t TIME TO STEP:  0.03542160987854004\n",
      "5804 \t TIME TO STEP:  0.01944875717163086\n",
      "5805 \t TIME TO STEP:  0.019602537155151367\n",
      "5806 \t TIME TO STEP:  0.021697044372558594\n",
      "5807 \t TIME TO STEP:  0.02046966552734375\n",
      "5808 \t TIME TO STEP:  0.019849300384521484\n",
      "5809 \t TIME TO STEP:  0.021386384963989258\n"
     ]
    },
    {
     "name": "stderr",
     "output_type": "stream",
     "text": [
      "2020-04-20 17:01:34,079 Computing map for /data/gibson/Albertville.glb\n"
     ]
    },
    {
     "name": "stdout",
     "output_type": "stream",
     "text": [
      "5810 \t TIME TO RESET:  \t 6.79851770401001\n",
      "5811 \t TIME TO STEP:  0.05121254920959473\n",
      "5812 \t TIME TO STEP:  0.05359959602355957\n",
      "5813 \t TIME TO STEP:  0.035816192626953125\n",
      "5814 \t TIME TO STEP:  0.02015852928161621\n",
      "5815 \t TIME TO STEP:  0.020193099975585938\n",
      "5816 \t TIME TO STEP:  0.019748687744140625\n",
      "5817 \t TIME TO STEP:  0.022701025009155273\n",
      "5818 \t TIME TO STEP:  0.02010655403137207\n",
      "5819 \t TIME TO STEP:  0.020021677017211914\n"
     ]
    },
    {
     "name": "stderr",
     "output_type": "stream",
     "text": [
      "2020-04-20 17:01:41,115 Computing map for /data/gibson/Albertville.glb\n"
     ]
    },
    {
     "name": "stdout",
     "output_type": "stream",
     "text": [
      "5820 \t TIME TO RESET:  \t 6.791205644607544\n",
      "5821 \t TIME TO STEP:  0.05302548408508301\n",
      "5822 \t TIME TO STEP:  0.09507584571838379\n",
      "5823 \t TIME TO STEP:  0.053214311599731445\n",
      "5824 \t TIME TO STEP:  0.03910994529724121\n",
      "5825 \t TIME TO STEP:  0.02263164520263672\n",
      "5826 \t TIME TO STEP:  0.020523786544799805\n",
      "5827 \t TIME TO STEP:  0.020348072052001953\n",
      "5828 \t TIME TO STEP:  0.020415782928466797\n",
      "5829 \t TIME TO STEP:  0.020023822784423828\n"
     ]
    },
    {
     "name": "stderr",
     "output_type": "stream",
     "text": [
      "2020-04-20 17:01:48,255 Computing map for /data/gibson/Albertville.glb\n"
     ]
    },
    {
     "name": "stdout",
     "output_type": "stream",
     "text": [
      "5830 \t TIME TO RESET:  \t 6.782537221908569\n",
      "5831 \t TIME TO STEP:  0.03458356857299805\n",
      "5832 \t TIME TO STEP:  0.05593156814575195\n",
      "5833 \t TIME TO STEP:  0.03817868232727051\n",
      "5834 \t TIME TO STEP:  0.020645856857299805\n",
      "5835 \t TIME TO STEP:  0.08036231994628906\n",
      "5836 \t TIME TO STEP:  0.021908998489379883\n",
      "5837 \t TIME TO STEP:  0.02870488166809082\n",
      "5838 \t TIME TO STEP:  0.05459403991699219\n",
      "5839 \t TIME TO STEP:  0.0204923152923584\n"
     ]
    },
    {
     "name": "stderr",
     "output_type": "stream",
     "text": [
      "2020-04-20 17:01:55,386 Computing map for /data/gibson/Albertville.glb\n"
     ]
    },
    {
     "name": "stdout",
     "output_type": "stream",
     "text": [
      "5840 \t TIME TO RESET:  \t 6.562699556350708\n",
      "5841 \t TIME TO STEP:  0.06016683578491211\n",
      "5842 \t TIME TO STEP:  0.029212236404418945\n",
      "5843 \t TIME TO STEP:  0.02041935920715332\n",
      "5844 \t TIME TO STEP:  0.02047562599182129\n",
      "5845 \t TIME TO STEP:  0.020577192306518555\n",
      "5846 \t TIME TO STEP:  0.0203859806060791\n",
      "5847 \t TIME TO STEP:  0.02027726173400879\n",
      "5848 \t TIME TO STEP:  0.022554397583007812\n",
      "5849 \t TIME TO STEP:  0.020318269729614258\n"
     ]
    },
    {
     "name": "stderr",
     "output_type": "stream",
     "text": [
      "2020-04-20 17:02:02,215 Computing map for /data/gibson/Albertville.glb\n"
     ]
    },
    {
     "name": "stdout",
     "output_type": "stream",
     "text": [
      "5850 \t TIME TO RESET:  \t 6.847519636154175\n",
      "5851 \t TIME TO STEP:  0.05631136894226074\n",
      "5852 \t TIME TO STEP:  0.053488731384277344\n",
      "5853 \t TIME TO STEP:  0.028729677200317383\n",
      "5854 \t TIME TO STEP:  0.020253658294677734\n",
      "5855 \t TIME TO STEP:  0.020224332809448242\n",
      "5856 \t TIME TO STEP:  0.020563840866088867\n",
      "5857 \t TIME TO STEP:  0.02058577537536621\n",
      "5858 \t TIME TO STEP:  0.020692825317382812\n",
      "5859 \t TIME TO STEP:  0.020705223083496094\n"
     ]
    },
    {
     "name": "stderr",
     "output_type": "stream",
     "text": [
      "2020-04-20 17:02:09,330 Computing map for /data/gibson/Albertville.glb\n"
     ]
    },
    {
     "name": "stdout",
     "output_type": "stream",
     "text": [
      "5860 \t TIME TO RESET:  \t 6.8140480518341064\n",
      "5861 \t TIME TO STEP:  0.02180933952331543\n",
      "5862 \t TIME TO STEP:  0.06664252281188965\n",
      "5863 \t TIME TO STEP:  0.049634695053100586\n",
      "5864 \t TIME TO STEP:  0.09215807914733887\n",
      "5865 \t TIME TO STEP:  0.030242919921875\n",
      "5866 \t TIME TO STEP:  0.0196988582611084\n",
      "5867 \t TIME TO STEP:  0.01950550079345703\n",
      "5868 \t TIME TO STEP:  0.01965022087097168\n",
      "5869 \t TIME TO STEP:  0.019710779190063477\n"
     ]
    },
    {
     "name": "stderr",
     "output_type": "stream",
     "text": [
      "2020-04-20 17:02:16,474 Computing map for /data/gibson/Albertville.glb\n",
      "2020-04-20 17:02:22,877 Invalid map: /data/gibson/Albertville.glb/589\n",
      "2020-04-20 17:02:23,133 Computing map for /data/gibson/Albertville.glb\n"
     ]
    },
    {
     "name": "stdout",
     "output_type": "stream",
     "text": [
      "5870 \t TIME TO RESET:  \t 13.32560682296753\n",
      "5871 \t TIME TO STEP:  0.030157804489135742\n",
      "5872 \t TIME TO STEP:  0.021150827407836914\n",
      "5873 \t TIME TO STEP:  0.02039361000061035\n",
      "5874 \t TIME TO STEP:  0.020267963409423828\n",
      "5875 \t TIME TO STEP:  0.020486831665039062\n",
      "5876 \t TIME TO STEP:  0.020256519317626953\n",
      "5877 \t TIME TO STEP:  0.02029252052307129\n",
      "5878 \t TIME TO STEP:  0.03144407272338867\n",
      "5879 \t TIME TO STEP:  0.0539093017578125\n"
     ]
    },
    {
     "name": "stderr",
     "output_type": "stream",
     "text": [
      "2020-04-20 17:02:30,042 Computing map for /data/gibson/Albertville.glb\n"
     ]
    },
    {
     "name": "stdout",
     "output_type": "stream",
     "text": [
      "5880 \t TIME TO RESET:  \t 6.705476760864258\n",
      "5881 \t TIME TO STEP:  0.03620100021362305\n",
      "5882 \t TIME TO STEP:  0.022726058959960938\n",
      "5883 \t TIME TO STEP:  0.02120065689086914\n",
      "5884 \t TIME TO STEP:  0.020745515823364258\n",
      "5885 \t TIME TO STEP:  0.0202786922454834\n",
      "5886 \t TIME TO STEP:  0.020180463790893555\n",
      "5887 \t TIME TO STEP:  0.02083730697631836\n",
      "5888 \t TIME TO STEP:  0.02086806297302246\n",
      "5889 \t TIME TO STEP:  0.021054744720458984\n"
     ]
    },
    {
     "name": "stderr",
     "output_type": "stream",
     "text": [
      "2020-04-20 17:02:36,942 Computing map for /data/gibson/Albertville.glb\n"
     ]
    },
    {
     "name": "stdout",
     "output_type": "stream",
     "text": [
      "5890 \t TIME TO RESET:  \t 6.6730804443359375\n",
      "5891 \t TIME TO STEP:  0.05486893653869629\n",
      "5892 \t TIME TO STEP:  0.03806781768798828\n",
      "5893 \t TIME TO STEP:  0.0204622745513916\n",
      "5894 \t TIME TO STEP:  0.020879745483398438\n",
      "5895 \t TIME TO STEP:  0.02051401138305664\n",
      "5896 \t TIME TO STEP:  0.02084064483642578\n",
      "5897 \t TIME TO STEP:  0.020943403244018555\n",
      "5898 \t TIME TO STEP:  0.021419763565063477\n",
      "5899 \t TIME TO STEP:  0.021009445190429688\n"
     ]
    },
    {
     "name": "stderr",
     "output_type": "stream",
     "text": [
      "2020-04-20 17:02:43,839 Computing map for /data/gibson/Albertville.glb\n"
     ]
    },
    {
     "name": "stdout",
     "output_type": "stream",
     "text": [
      "5900 \t TIME TO RESET:  \t 6.730600118637085\n",
      "5901 \t TIME TO STEP:  0.04647207260131836\n",
      "5902 \t TIME TO STEP:  0.020114898681640625\n",
      "5903 \t TIME TO STEP:  0.02068161964416504\n",
      "5904 \t TIME TO STEP:  0.03175163269042969\n",
      "5905 \t TIME TO STEP:  0.021090269088745117\n",
      "5906 \t TIME TO STEP:  0.020906686782836914\n",
      "5907 \t TIME TO STEP:  0.020203590393066406\n",
      "5908 \t TIME TO STEP:  0.020442962646484375\n",
      "5909 \t TIME TO STEP:  0.0294954776763916\n"
     ]
    },
    {
     "name": "stderr",
     "output_type": "stream",
     "text": [
      "2020-04-20 17:02:50,844 Computing map for /data/gibson/Albertville.glb\n"
     ]
    },
    {
     "name": "stdout",
     "output_type": "stream",
     "text": [
      "5910 \t TIME TO RESET:  \t 6.739910840988159\n",
      "5911 \t TIME TO STEP:  0.04167032241821289\n",
      "5912 \t TIME TO STEP:  0.022121906280517578\n",
      "5913 \t TIME TO STEP:  0.04456377029418945\n",
      "5914 \t TIME TO STEP:  0.03741335868835449\n",
      "5915 \t TIME TO STEP:  0.020510196685791016\n",
      "5916 \t TIME TO STEP:  0.020132780075073242\n",
      "5917 \t TIME TO STEP:  0.020390033721923828\n",
      "5918 \t TIME TO STEP:  0.021486282348632812\n",
      "5919 \t TIME TO STEP:  0.020270824432373047\n"
     ]
    },
    {
     "name": "stderr",
     "output_type": "stream",
     "text": [
      "2020-04-20 17:02:57,802 Computing map for /data/gibson/Albertville.glb\n",
      "2020-04-20 17:03:04,425 Invalid map: /data/gibson/Albertville.glb/594\n",
      "2020-04-20 17:03:04,677 Computing map for /data/gibson/Albertville.glb\n"
     ]
    },
    {
     "name": "stdout",
     "output_type": "stream",
     "text": [
      "5920 \t TIME TO RESET:  \t 13.654258966445923\n",
      "5921 \t TIME TO STEP:  0.02409052848815918\n",
      "5922 \t TIME TO STEP:  0.02099299430847168\n",
      "5923 \t TIME TO STEP:  0.02093362808227539\n",
      "5924 \t TIME TO STEP:  0.020832300186157227\n",
      "5925 \t TIME TO STEP:  0.0206606388092041\n",
      "5926 \t TIME TO STEP:  0.0209348201751709\n",
      "5927 \t TIME TO STEP:  0.02038860321044922\n",
      "5928 \t TIME TO STEP:  0.020342111587524414\n",
      "5929 \t TIME TO STEP:  0.020178794860839844\n"
     ]
    },
    {
     "name": "stderr",
     "output_type": "stream",
     "text": [
      "2020-04-20 17:03:11,674 Computing map for /data/gibson/Albertville.glb\n"
     ]
    },
    {
     "name": "stdout",
     "output_type": "stream",
     "text": [
      "5930 \t TIME TO RESET:  \t 6.8290793895721436\n",
      "5931 \t TIME TO STEP:  0.05398297309875488\n",
      "5932 \t TIME TO STEP:  0.07137870788574219\n",
      "5933 \t TIME TO STEP:  0.04547452926635742\n",
      "5934 \t TIME TO STEP:  0.08188056945800781\n",
      "5935 \t TIME TO STEP:  0.05992841720581055\n",
      "5936 \t TIME TO STEP:  0.038805246353149414\n",
      "5937 \t TIME TO STEP:  0.05431652069091797\n",
      "5938 \t TIME TO STEP:  0.02060866355895996\n",
      "5939 \t TIME TO STEP:  0.11040759086608887\n"
     ]
    },
    {
     "name": "stderr",
     "output_type": "stream",
     "text": [
      "2020-04-20 17:03:19,039 Computing map for /data/gibson/Albertville.glb\n",
      "2020-04-20 17:03:25,523 Invalid map: /data/gibson/Albertville.glb/596\n",
      "2020-04-20 17:03:25,755 Computing map for /data/gibson/Albertville.glb\n"
     ]
    },
    {
     "name": "stdout",
     "output_type": "stream",
     "text": [
      "5940 \t TIME TO RESET:  \t 13.462454795837402\n",
      "5941 \t TIME TO STEP:  0.0460968017578125\n",
      "5942 \t TIME TO STEP:  0.021590471267700195\n",
      "5943 \t TIME TO STEP:  0.0206143856048584\n",
      "5944 \t TIME TO STEP:  0.0208127498626709\n",
      "5945 \t TIME TO STEP:  0.020726442337036133\n",
      "5946 \t TIME TO STEP:  0.020740985870361328\n",
      "5947 \t TIME TO STEP:  0.020299196243286133\n",
      "5948 \t TIME TO STEP:  0.020966768264770508\n",
      "5949 \t TIME TO STEP:  0.021448850631713867\n"
     ]
    },
    {
     "name": "stderr",
     "output_type": "stream",
     "text": [
      "2020-04-20 17:03:32,686 Computing map for /data/gibson/Albertville.glb\n"
     ]
    },
    {
     "name": "stdout",
     "output_type": "stream",
     "text": [
      "5950 \t TIME TO RESET:  \t 6.8057427406311035\n",
      "5951 \t TIME TO STEP:  0.10239744186401367\n",
      "5952 \t TIME TO STEP:  0.021685361862182617\n",
      "5953 \t TIME TO STEP:  0.053000688552856445\n",
      "5954 \t TIME TO STEP:  0.02059769630432129\n",
      "5955 \t TIME TO STEP:  0.020986318588256836\n",
      "5956 \t TIME TO STEP:  0.020901918411254883\n",
      "5957 \t TIME TO STEP:  0.02385234832763672\n",
      "5958 \t TIME TO STEP:  0.021360397338867188\n",
      "5959 \t TIME TO STEP:  0.020370006561279297\n"
     ]
    },
    {
     "name": "stderr",
     "output_type": "stream",
     "text": [
      "2020-04-20 17:03:39,819 Computing map for /data/gibson/Albertville.glb\n"
     ]
    },
    {
     "name": "stdout",
     "output_type": "stream",
     "text": [
      "5960 \t TIME TO RESET:  \t 6.699299335479736\n",
      "5961 \t TIME TO STEP:  0.0475001335144043\n",
      "5962 \t TIME TO STEP:  0.021479368209838867\n",
      "5963 \t TIME TO STEP:  0.03425264358520508\n",
      "5964 \t TIME TO STEP:  0.021013259887695312\n",
      "5965 \t TIME TO STEP:  0.03663945198059082\n",
      "5966 \t TIME TO STEP:  0.03542304039001465\n",
      "5967 \t TIME TO STEP:  0.0212094783782959\n",
      "5968 \t TIME TO STEP:  0.02048039436340332\n",
      "5969 \t TIME TO STEP:  0.020482301712036133\n"
     ]
    },
    {
     "name": "stderr",
     "output_type": "stream",
     "text": [
      "2020-04-20 17:03:46,781 Computing map for /data/gibson/Albertville.glb\n"
     ]
    },
    {
     "name": "stdout",
     "output_type": "stream",
     "text": [
      "5970 \t TIME TO RESET:  \t 6.726706266403198\n",
      "5971 \t TIME TO STEP:  0.05515003204345703\n",
      "5972 \t TIME TO STEP:  0.020733356475830078\n",
      "5973 \t TIME TO STEP:  0.04486823081970215\n",
      "5974 \t TIME TO STEP:  0.02900552749633789\n",
      "5975 \t TIME TO STEP:  0.02185964584350586\n",
      "5976 \t TIME TO STEP:  0.02116990089416504\n",
      "5977 \t TIME TO STEP:  0.0224759578704834\n",
      "5978 \t TIME TO STEP:  0.020944833755493164\n",
      "5979 \t TIME TO STEP:  0.0202639102935791\n"
     ]
    },
    {
     "name": "stderr",
     "output_type": "stream",
     "text": [
      "2020-04-20 17:03:53,737 Computing map for /data/gibson/Albertville.glb\n"
     ]
    },
    {
     "name": "stdout",
     "output_type": "stream",
     "text": [
      "5980 \t TIME TO RESET:  \t 6.742058277130127\n",
      "5981 \t TIME TO STEP:  0.06024575233459473\n",
      "5982 \t TIME TO STEP:  0.05449223518371582\n",
      "5983 \t TIME TO STEP:  0.04012298583984375\n",
      "5984 \t TIME TO STEP:  0.06742501258850098\n",
      "5985 \t TIME TO STEP:  0.060831546783447266\n",
      "5986 \t TIME TO STEP:  0.054956912994384766\n",
      "5987 \t TIME TO STEP:  0.05350351333618164\n",
      "5988 \t TIME TO STEP:  0.020188570022583008\n",
      "5989 \t TIME TO STEP:  0.021648406982421875\n"
     ]
    },
    {
     "name": "stderr",
     "output_type": "stream",
     "text": [
      "2020-04-20 17:04:00,942 Computing map for /data/gibson/Albertville.glb\n"
     ]
    },
    {
     "name": "stdout",
     "output_type": "stream",
     "text": [
      "5990 \t TIME TO RESET:  \t 6.793819189071655\n",
      "5991 \t TIME TO STEP:  0.055065155029296875\n",
      "5992 \t TIME TO STEP:  0.028751850128173828\n",
      "5993 \t TIME TO STEP:  0.06739950180053711\n",
      "5994 \t TIME TO STEP:  0.020339250564575195\n",
      "5995 \t TIME TO STEP:  0.020243167877197266\n",
      "5996 \t TIME TO STEP:  0.022233009338378906\n",
      "5997 \t TIME TO STEP:  0.020593881607055664\n",
      "5998 \t TIME TO STEP:  0.020101070404052734\n",
      "5999 \t TIME TO STEP:  0.02033853530883789\n"
     ]
    },
    {
     "name": "stderr",
     "output_type": "stream",
     "text": [
      "2020-04-20 17:04:07,987 Computing map for /data/gibson/Albertville.glb\n",
      "2020-04-20 17:04:14,543 Invalid map: /data/gibson/Albertville.glb/602\n",
      "2020-04-20 17:04:14,787 Computing map for /data/gibson/Albertville.glb\n",
      "2020-04-20 17:04:21,259 Invalid map: /data/gibson/Albertville.glb/602\n",
      "2020-04-20 17:04:21,500 Computing map for /data/gibson/Albertville.glb\n",
      "2020-04-20 17:04:27,974 Invalid map: /data/gibson/Albertville.glb/602\n",
      "2020-04-20 17:04:28,234 Computing map for /data/gibson/Albertville.glb\n"
     ]
    },
    {
     "name": "stdout",
     "output_type": "stream",
     "text": [
      "6000 \t TIME TO RESET:  \t 27.109676361083984\n",
      "6001 \t TIME TO STEP:  0.09704899787902832\n",
      "6002 \t TIME TO STEP:  0.021625280380249023\n",
      "6003 \t TIME TO STEP:  0.021050691604614258\n",
      "6004 \t TIME TO STEP:  0.0314633846282959\n",
      "6005 \t TIME TO STEP:  0.020720243453979492\n",
      "6006 \t TIME TO STEP:  0.021708011627197266\n",
      "6007 \t TIME TO STEP:  0.02046036720275879\n",
      "6008 \t TIME TO STEP:  0.028598785400390625\n",
      "6009 \t TIME TO STEP:  0.020578622817993164\n"
     ]
    },
    {
     "name": "stderr",
     "output_type": "stream",
     "text": [
      "2020-04-20 17:04:35,412 Computing map for /data/gibson/Albertville.glb\n",
      "2020-04-20 17:04:41,848 Invalid map: /data/gibson/Albertville.glb/603\n",
      "2020-04-20 17:04:42,129 Computing map for /data/gibson/Albertville.glb\n"
     ]
    },
    {
     "name": "stdout",
     "output_type": "stream",
     "text": [
      "6010 \t TIME TO RESET:  \t 13.538118362426758\n",
      "6011 \t TIME TO STEP:  0.041316986083984375\n",
      "6012 \t TIME TO STEP:  0.06478118896484375\n",
      "6013 \t TIME TO STEP:  0.051506757736206055\n",
      "6014 \t TIME TO STEP:  0.02011728286743164\n",
      "6015 \t TIME TO STEP:  0.030319929122924805\n",
      "6016 \t TIME TO STEP:  0.028938770294189453\n",
      "6017 \t TIME TO STEP:  0.019742727279663086\n",
      "6018 \t TIME TO STEP:  0.019882917404174805\n",
      "6019 \t TIME TO STEP:  0.020045757293701172\n"
     ]
    },
    {
     "name": "stderr",
     "output_type": "stream",
     "text": [
      "2020-04-20 17:04:49,245 Computing map for /data/gibson/Albertville.glb\n",
      "2020-04-20 17:04:55,763 Invalid map: /data/gibson/Albertville.glb/604\n",
      "2020-04-20 17:04:56,015 Computing map for /data/gibson/Albertville.glb\n",
      "2020-04-20 17:05:02,502 Invalid map: /data/gibson/Albertville.glb/604\n",
      "2020-04-20 17:05:02,774 Computing map for /data/gibson/Albertville.glb\n"
     ]
    },
    {
     "name": "stdout",
     "output_type": "stream",
     "text": [
      "6020 \t TIME TO RESET:  \t 20.28513479232788\n",
      "6021 \t TIME TO STEP:  0.037606000900268555\n",
      "6022 \t TIME TO STEP:  0.06840252876281738\n",
      "6023 \t TIME TO STEP:  0.037731170654296875\n",
      "6024 \t TIME TO STEP:  0.019872188568115234\n",
      "6025 \t TIME TO STEP:  0.020023584365844727\n",
      "6026 \t TIME TO STEP:  0.020169496536254883\n",
      "6027 \t TIME TO STEP:  0.020324230194091797\n",
      "6028 \t TIME TO STEP:  0.02022576332092285\n",
      "6029 \t TIME TO STEP:  0.020258426666259766\n"
     ]
    },
    {
     "name": "stderr",
     "output_type": "stream",
     "text": [
      "2020-04-20 17:05:09,774 Computing map for /data/gibson/Albertville.glb\n",
      "2020-04-20 17:05:16,270 Invalid map: /data/gibson/Albertville.glb/605\n",
      "2020-04-20 17:05:16,505 Computing map for /data/gibson/Albertville.glb\n",
      "2020-04-20 17:05:23,023 Invalid map: /data/gibson/Albertville.glb/605\n",
      "2020-04-20 17:05:23,258 Computing map for /data/gibson/Albertville.glb\n"
     ]
    },
    {
     "name": "stdout",
     "output_type": "stream",
     "text": [
      "6030 \t TIME TO RESET:  \t 20.155476093292236\n",
      "6031 \t TIME TO STEP:  0.08553266525268555\n",
      "6032 \t TIME TO STEP:  0.020146608352661133\n",
      "6033 \t TIME TO STEP:  0.020030975341796875\n",
      "6034 \t TIME TO STEP:  0.02018451690673828\n",
      "6035 \t TIME TO STEP:  0.021167278289794922\n",
      "6036 \t TIME TO STEP:  0.020303726196289062\n",
      "6037 \t TIME TO STEP:  0.020531177520751953\n",
      "6038 \t TIME TO STEP:  0.020679950714111328\n",
      "6039 \t TIME TO STEP:  0.020167827606201172\n"
     ]
    },
    {
     "name": "stderr",
     "output_type": "stream",
     "text": [
      "2020-04-20 17:05:30,198 Computing map for /data/gibson/Albertville.glb\n"
     ]
    },
    {
     "name": "stdout",
     "output_type": "stream",
     "text": [
      "6040 \t TIME TO RESET:  \t 6.810515403747559\n",
      "6041 \t TIME TO STEP:  0.04782700538635254\n",
      "6042 \t TIME TO STEP:  0.05146908760070801\n",
      "6043 \t TIME TO STEP:  0.020240068435668945\n",
      "6044 \t TIME TO STEP:  0.020873546600341797\n",
      "6045 \t TIME TO STEP:  0.020352840423583984\n",
      "6046 \t TIME TO STEP:  0.03193259239196777\n",
      "6047 \t TIME TO STEP:  0.02994561195373535\n",
      "6048 \t TIME TO STEP:  0.0633995532989502\n",
      "6049 \t TIME TO STEP:  0.07235503196716309\n"
     ]
    },
    {
     "name": "stderr",
     "output_type": "stream",
     "text": [
      "2020-04-20 17:05:37,403 Computing map for /data/gibson/Albertville.glb\n",
      "2020-04-20 17:05:43,985 Invalid map: /data/gibson/Albertville.glb/607\n",
      "2020-04-20 17:05:44,265 Computing map for /data/gibson/Albertville.glb\n",
      "2020-04-20 17:05:50,732 Invalid map: /data/gibson/Albertville.glb/607\n",
      "2020-04-20 17:05:50,990 Computing map for /data/gibson/Albertville.glb\n",
      "2020-04-20 17:05:57,403 Invalid map: /data/gibson/Albertville.glb/607\n",
      "2020-04-20 17:05:57,639 Computing map for /data/gibson/Albertville.glb\n"
     ]
    },
    {
     "name": "stdout",
     "output_type": "stream",
     "text": [
      "6050 \t TIME TO RESET:  \t 27.06446099281311\n",
      "6051 \t TIME TO STEP:  0.05017685890197754\n",
      "6052 \t TIME TO STEP:  0.054613590240478516\n",
      "6053 \t TIME TO STEP:  0.05815482139587402\n",
      "6054 \t TIME TO STEP:  0.02092742919921875\n",
      "6055 \t TIME TO STEP:  0.020357131958007812\n",
      "6056 \t TIME TO STEP:  0.02104783058166504\n",
      "6057 \t TIME TO STEP:  0.020843029022216797\n",
      "6058 \t TIME TO STEP:  0.020157337188720703\n",
      "6059 \t TIME TO STEP:  0.02063274383544922\n"
     ]
    },
    {
     "name": "stderr",
     "output_type": "stream",
     "text": [
      "2020-04-20 17:06:04,721 Computing map for /data/gibson/Albertville.glb\n"
     ]
    },
    {
     "name": "stdout",
     "output_type": "stream",
     "text": [
      "6060 \t TIME TO RESET:  \t 6.877528667449951\n",
      "6061 \t TIME TO STEP:  0.04819655418395996\n",
      "6062 \t TIME TO STEP:  0.03177237510681152\n",
      "6063 \t TIME TO STEP:  0.046494245529174805\n",
      "6064 \t TIME TO STEP:  0.06711101531982422\n",
      "6065 \t TIME TO STEP:  0.05071568489074707\n",
      "6066 \t TIME TO STEP:  0.06391119956970215\n",
      "6067 \t TIME TO STEP:  0.028949260711669922\n",
      "6068 \t TIME TO STEP:  0.053858041763305664\n",
      "6069 \t TIME TO STEP:  0.05116558074951172\n"
     ]
    },
    {
     "name": "stderr",
     "output_type": "stream",
     "text": [
      "2020-04-20 17:06:12,047 Computing map for /data/gibson/Albertville.glb\n",
      "2020-04-20 17:06:18,515 Invalid map: /data/gibson/Albertville.glb/609\n",
      "2020-04-20 17:06:18,764 Computing map for /data/gibson/Albertville.glb\n",
      "2020-04-20 17:06:25,372 Invalid map: /data/gibson/Albertville.glb/609\n",
      "2020-04-20 17:06:25,639 Computing map for /data/gibson/Albertville.glb\n"
     ]
    },
    {
     "name": "stdout",
     "output_type": "stream",
     "text": [
      "6070 \t TIME TO RESET:  \t 20.394904613494873\n",
      "6071 \t TIME TO STEP:  0.08611774444580078\n",
      "6072 \t TIME TO STEP:  0.05794835090637207\n",
      "6073 \t TIME TO STEP:  0.03466987609863281\n",
      "6074 \t TIME TO STEP:  0.03595757484436035\n",
      "6075 \t TIME TO STEP:  0.021631956100463867\n",
      "6076 \t TIME TO STEP:  0.0346829891204834\n",
      "6077 \t TIME TO STEP:  0.02413630485534668\n",
      "6078 \t TIME TO STEP:  0.020165443420410156\n",
      "6079 \t TIME TO STEP:  0.020426273345947266\n"
     ]
    },
    {
     "name": "stderr",
     "output_type": "stream",
     "text": [
      "2020-04-20 17:06:32,753 Computing map for /data/gibson/Albertville.glb\n"
     ]
    },
    {
     "name": "stdout",
     "output_type": "stream",
     "text": [
      "6080 \t TIME TO RESET:  \t 6.701613903045654\n",
      "6081 \t TIME TO STEP:  0.0530548095703125\n",
      "6082 \t TIME TO STEP:  0.020113706588745117\n",
      "6083 \t TIME TO STEP:  0.020175933837890625\n",
      "6084 \t TIME TO STEP:  0.02077460289001465\n",
      "6085 \t TIME TO STEP:  0.02075934410095215\n",
      "6086 \t TIME TO STEP:  0.020125389099121094\n",
      "6087 \t TIME TO STEP:  0.02939462661743164\n",
      "6088 \t TIME TO STEP:  0.02123880386352539\n",
      "6089 \t TIME TO STEP:  0.02059197425842285\n"
     ]
    },
    {
     "name": "stderr",
     "output_type": "stream",
     "text": [
      "2020-04-20 17:06:39,704 Computing map for /data/gibson/Albertville.glb\n"
     ]
    },
    {
     "name": "stdout",
     "output_type": "stream",
     "text": [
      "6090 \t TIME TO RESET:  \t 6.8423683643341064\n",
      "6091 \t TIME TO STEP:  0.038967132568359375\n",
      "6092 \t TIME TO STEP:  0.021830081939697266\n",
      "6093 \t TIME TO STEP:  0.020514488220214844\n",
      "6094 \t TIME TO STEP:  0.02034139633178711\n",
      "6095 \t TIME TO STEP:  0.020403623580932617\n",
      "6096 \t TIME TO STEP:  0.020227432250976562\n",
      "6097 \t TIME TO STEP:  0.019795894622802734\n",
      "6098 \t TIME TO STEP:  0.020447969436645508\n",
      "6099 \t TIME TO STEP:  0.024641036987304688\n"
     ]
    },
    {
     "name": "stderr",
     "output_type": "stream",
     "text": [
      "2020-04-20 17:06:46,755 Computing map for /data/gibson/Albertville.glb\n",
      "2020-04-20 17:06:53,200 Invalid map: /data/gibson/Albertville.glb/612\n",
      "2020-04-20 17:06:53,425 Computing map for /data/gibson/Albertville.glb\n"
     ]
    },
    {
     "name": "stdout",
     "output_type": "stream",
     "text": [
      "6100 \t TIME TO RESET:  \t 13.346068620681763\n",
      "6101 \t TIME TO STEP:  0.028533935546875\n",
      "6102 \t TIME TO STEP:  0.020028114318847656\n",
      "6103 \t TIME TO STEP:  0.020236968994140625\n",
      "6104 \t TIME TO STEP:  0.019876718521118164\n",
      "6105 \t TIME TO STEP:  0.019725799560546875\n",
      "6106 \t TIME TO STEP:  0.01988840103149414\n",
      "6107 \t TIME TO STEP:  0.020507335662841797\n",
      "6108 \t TIME TO STEP:  0.019907712936401367\n",
      "6109 \t TIME TO STEP:  0.020171165466308594\n"
     ]
    },
    {
     "name": "stderr",
     "output_type": "stream",
     "text": [
      "2020-04-20 17:07:00,288 Computing map for /data/gibson/Albertville.glb\n"
     ]
    },
    {
     "name": "stdout",
     "output_type": "stream",
     "text": [
      "6110 \t TIME TO RESET:  \t 6.737887859344482\n",
      "6111 \t TIME TO STEP:  0.04536795616149902\n",
      "6112 \t TIME TO STEP:  0.07437896728515625\n",
      "6113 \t TIME TO STEP:  0.06133770942687988\n",
      "6114 \t TIME TO STEP:  0.05230998992919922\n",
      "6115 \t TIME TO STEP:  0.034638166427612305\n",
      "6116 \t TIME TO STEP:  0.020946979522705078\n",
      "6117 \t TIME TO STEP:  0.020446062088012695\n",
      "6118 \t TIME TO STEP:  0.020354747772216797\n",
      "6119 \t TIME TO STEP:  0.037584543228149414\n"
     ]
    },
    {
     "name": "stderr",
     "output_type": "stream",
     "text": [
      "2020-04-20 17:07:07,406 Computing map for /data/gibson/Albertville.glb\n"
     ]
    },
    {
     "name": "stdout",
     "output_type": "stream",
     "text": [
      "6120 \t TIME TO RESET:  \t 6.77771520614624\n",
      "6121 \t TIME TO STEP:  0.03753852844238281\n",
      "6122 \t TIME TO STEP:  0.029684782028198242\n",
      "6123 \t TIME TO STEP:  0.020079851150512695\n",
      "6124 \t TIME TO STEP:  0.060272216796875\n",
      "6125 \t TIME TO STEP:  0.020812273025512695\n",
      "6126 \t TIME TO STEP:  0.02032613754272461\n",
      "6127 \t TIME TO STEP:  0.05179595947265625\n",
      "6128 \t TIME TO STEP:  0.028661489486694336\n",
      "6129 \t TIME TO STEP:  0.019975900650024414\n"
     ]
    },
    {
     "name": "stderr",
     "output_type": "stream",
     "text": [
      "2020-04-20 17:07:14,458 Computing map for /data/gibson/Albertville.glb\n"
     ]
    },
    {
     "name": "stdout",
     "output_type": "stream",
     "text": [
      "6130 \t TIME TO RESET:  \t 6.745836019515991\n",
      "6131 \t TIME TO STEP:  0.056878089904785156\n",
      "6132 \t TIME TO STEP:  0.020861387252807617\n",
      "6133 \t TIME TO STEP:  0.02054905891418457\n",
      "6134 \t TIME TO STEP:  0.029118061065673828\n",
      "6135 \t TIME TO STEP:  0.05160403251647949\n",
      "6136 \t TIME TO STEP:  0.0200498104095459\n",
      "6137 \t TIME TO STEP:  0.051424264907836914\n",
      "6138 \t TIME TO STEP:  0.020394086837768555\n",
      "6139 \t TIME TO STEP:  0.04378557205200195\n"
     ]
    },
    {
     "name": "stderr",
     "output_type": "stream",
     "text": [
      "2020-04-20 17:07:21,548 Computing map for /data/gibson/Albertville.glb\n"
     ]
    },
    {
     "name": "stdout",
     "output_type": "stream",
     "text": [
      "6140 \t TIME TO RESET:  \t 6.835625171661377\n",
      "6141 \t TIME TO STEP:  0.03003072738647461\n",
      "6142 \t TIME TO STEP:  0.06863045692443848\n",
      "6143 \t TIME TO STEP:  0.05413246154785156\n",
      "6144 \t TIME TO STEP:  0.06494998931884766\n",
      "6145 \t TIME TO STEP:  0.05310368537902832\n",
      "6146 \t TIME TO STEP:  0.07381415367126465\n",
      "6147 \t TIME TO STEP:  0.03701066970825195\n",
      "6148 \t TIME TO STEP:  0.02013683319091797\n",
      "6149 \t TIME TO STEP:  0.020001888275146484\n"
     ]
    },
    {
     "name": "stderr",
     "output_type": "stream",
     "text": [
      "2020-04-20 17:07:28,771 Computing map for /data/gibson/Albertville.glb\n"
     ]
    },
    {
     "name": "stdout",
     "output_type": "stream",
     "text": [
      "6150 \t TIME TO RESET:  \t 6.711994409561157\n",
      "6151 \t TIME TO STEP:  0.05784153938293457\n",
      "6152 \t TIME TO STEP:  0.020212650299072266\n",
      "6153 \t TIME TO STEP:  0.02004218101501465\n",
      "6154 \t TIME TO STEP:  0.02043318748474121\n",
      "6155 \t TIME TO STEP:  0.020256996154785156\n",
      "6156 \t TIME TO STEP:  0.02029109001159668\n",
      "6157 \t TIME TO STEP:  0.02076888084411621\n",
      "6158 \t TIME TO STEP:  0.020259618759155273\n",
      "6159 \t TIME TO STEP:  0.020297765731811523\n"
     ]
    },
    {
     "name": "stderr",
     "output_type": "stream",
     "text": [
      "2020-04-20 17:07:35,721 Computing map for /data/gibson/Albertville.glb\n"
     ]
    },
    {
     "name": "stdout",
     "output_type": "stream",
     "text": [
      "6160 \t TIME TO RESET:  \t 6.609540939331055\n",
      "6161 \t TIME TO STEP:  0.037042856216430664\n",
      "6162 \t TIME TO STEP:  0.06947875022888184\n",
      "6163 \t TIME TO STEP:  0.0222928524017334\n",
      "6164 \t TIME TO STEP:  0.02210521697998047\n",
      "6165 \t TIME TO STEP:  0.05006766319274902\n",
      "6166 \t TIME TO STEP:  0.05503988265991211\n",
      "6167 \t TIME TO STEP:  0.019756793975830078\n",
      "6168 \t TIME TO STEP:  0.02014636993408203\n",
      "6169 \t TIME TO STEP:  0.020226001739501953\n"
     ]
    },
    {
     "name": "stderr",
     "output_type": "stream",
     "text": [
      "2020-04-20 17:07:42,652 Computing map for /data/gibson/Albertville.glb\n"
     ]
    },
    {
     "name": "stdout",
     "output_type": "stream",
     "text": [
      "6170 \t TIME TO RESET:  \t 6.748975515365601\n",
      "6171 \t TIME TO STEP:  0.023528337478637695\n",
      "6172 \t TIME TO STEP:  0.04650163650512695\n",
      "6173 \t TIME TO STEP:  0.03709888458251953\n",
      "6174 \t TIME TO STEP:  0.021448612213134766\n",
      "6175 \t TIME TO STEP:  0.020599365234375\n",
      "6176 \t TIME TO STEP:  0.02080535888671875\n",
      "6177 \t TIME TO STEP:  0.020546913146972656\n",
      "6178 \t TIME TO STEP:  0.029911041259765625\n",
      "6179 \t TIME TO STEP:  0.020297527313232422\n"
     ]
    },
    {
     "name": "stderr",
     "output_type": "stream",
     "text": [
      "2020-04-20 17:07:49,619 Computing map for /data/gibson/Albertville.glb\n"
     ]
    },
    {
     "name": "stdout",
     "output_type": "stream",
     "text": [
      "6180 \t TIME TO RESET:  \t 6.796337127685547\n",
      "6181 \t TIME TO STEP:  0.05022311210632324\n",
      "6182 \t TIME TO STEP:  0.020954608917236328\n",
      "6183 \t TIME TO STEP:  0.02063298225402832\n",
      "6184 \t TIME TO STEP:  0.020931243896484375\n",
      "6185 \t TIME TO STEP:  0.020618677139282227\n",
      "6186 \t TIME TO STEP:  0.03612709045410156\n",
      "6187 \t TIME TO STEP:  0.02130126953125\n",
      "6188 \t TIME TO STEP:  0.023213863372802734\n",
      "6189 \t TIME TO STEP:  0.0207059383392334\n"
     ]
    },
    {
     "name": "stderr",
     "output_type": "stream",
     "text": [
      "2020-04-20 17:07:56,678 Computing map for /data/gibson/Albertville.glb\n"
     ]
    },
    {
     "name": "stdout",
     "output_type": "stream",
     "text": [
      "6190 \t TIME TO RESET:  \t 6.865844249725342\n",
      "6191 \t TIME TO STEP:  0.04264950752258301\n",
      "6192 \t TIME TO STEP:  0.020509719848632812\n",
      "6193 \t TIME TO STEP:  0.01995849609375\n",
      "6194 \t TIME TO STEP:  0.020854711532592773\n",
      "6195 \t TIME TO STEP:  0.02192211151123047\n",
      "6196 \t TIME TO STEP:  0.029184818267822266\n",
      "6197 \t TIME TO STEP:  0.02021646499633789\n",
      "6198 \t TIME TO STEP:  0.02029109001159668\n",
      "6199 \t TIME TO STEP:  0.022127389907836914\n"
     ]
    },
    {
     "name": "stderr",
     "output_type": "stream",
     "text": [
      "2020-04-20 17:08:03,749 Computing map for /data/gibson/Albertville.glb\n"
     ]
    },
    {
     "name": "stdout",
     "output_type": "stream",
     "text": [
      "6200 \t TIME TO RESET:  \t 6.745201110839844\n",
      "6201 \t TIME TO STEP:  0.02455759048461914\n",
      "6202 \t TIME TO STEP:  0.021217823028564453\n",
      "6203 \t TIME TO STEP:  0.02025127410888672\n",
      "6204 \t TIME TO STEP:  0.020230531692504883\n",
      "6205 \t TIME TO STEP:  0.020138978958129883\n",
      "6206 \t TIME TO STEP:  0.020219802856445312\n",
      "6207 \t TIME TO STEP:  0.020784854888916016\n",
      "6208 \t TIME TO STEP:  0.020486831665039062\n",
      "6209 \t TIME TO STEP:  0.0206911563873291\n"
     ]
    },
    {
     "name": "stderr",
     "output_type": "stream",
     "text": [
      "2020-04-20 17:08:10,680 Computing map for /data/gibson/Albertville.glb\n"
     ]
    },
    {
     "name": "stdout",
     "output_type": "stream",
     "text": [
      "6210 \t TIME TO RESET:  \t 6.858618259429932\n",
      "6211 \t TIME TO STEP:  0.040429115295410156\n",
      "6212 \t TIME TO STEP:  0.02055501937866211\n",
      "6213 \t TIME TO STEP:  0.02037811279296875\n",
      "6214 \t TIME TO STEP:  0.020076990127563477\n",
      "6215 \t TIME TO STEP:  0.020389318466186523\n",
      "6216 \t TIME TO STEP:  0.020604610443115234\n",
      "6217 \t TIME TO STEP:  0.020507335662841797\n",
      "6218 \t TIME TO STEP:  0.020259857177734375\n",
      "6219 \t TIME TO STEP:  0.02113056182861328\n"
     ]
    },
    {
     "name": "stderr",
     "output_type": "stream",
     "text": [
      "2020-04-20 17:08:17,773 Computing map for /data/gibson/Albertville.glb\n"
     ]
    },
    {
     "name": "stdout",
     "output_type": "stream",
     "text": [
      "6220 \t TIME TO RESET:  \t 6.866288185119629\n",
      "6221 \t TIME TO STEP:  0.0453944206237793\n",
      "6222 \t TIME TO STEP:  0.04511308670043945\n",
      "6223 \t TIME TO STEP:  0.026913166046142578\n",
      "6224 \t TIME TO STEP:  0.03847479820251465\n",
      "6225 \t TIME TO STEP:  0.02120804786682129\n",
      "6226 \t TIME TO STEP:  0.020282983779907227\n",
      "6227 \t TIME TO STEP:  0.03489255905151367\n",
      "6228 \t TIME TO STEP:  0.026546955108642578\n",
      "6229 \t TIME TO STEP:  0.02023148536682129\n"
     ]
    },
    {
     "name": "stderr",
     "output_type": "stream",
     "text": [
      "2020-04-20 17:08:24,929 Computing map for /data/gibson/Albertville.glb\n"
     ]
    },
    {
     "name": "stdout",
     "output_type": "stream",
     "text": [
      "6230 \t TIME TO RESET:  \t 6.704657316207886\n",
      "6231 \t TIME TO STEP:  0.026425600051879883\n",
      "6232 \t TIME TO STEP:  0.02063465118408203\n",
      "6233 \t TIME TO STEP:  0.05397510528564453\n",
      "6234 \t TIME TO STEP:  0.05285286903381348\n",
      "6235 \t TIME TO STEP:  0.05235695838928223\n",
      "6236 \t TIME TO STEP:  0.05695605278015137\n",
      "6237 \t TIME TO STEP:  0.0210263729095459\n",
      "6238 \t TIME TO STEP:  0.03429245948791504\n",
      "6239 \t TIME TO STEP:  0.02777695655822754\n"
     ]
    },
    {
     "name": "stderr",
     "output_type": "stream",
     "text": [
      "2020-04-20 17:08:31,990 Computing map for /data/gibson/Albertville.glb\n"
     ]
    },
    {
     "name": "stdout",
     "output_type": "stream",
     "text": [
      "6240 \t TIME TO RESET:  \t 6.994343042373657\n",
      "6241 \t TIME TO STEP:  0.05154013633728027\n",
      "6242 \t TIME TO STEP:  0.05337715148925781\n",
      "6243 \t TIME TO STEP:  0.02968144416809082\n",
      "6244 \t TIME TO STEP:  0.029605388641357422\n",
      "6245 \t TIME TO STEP:  0.020227670669555664\n",
      "6246 \t TIME TO STEP:  0.02184891700744629\n",
      "6247 \t TIME TO STEP:  0.02140974998474121\n",
      "6248 \t TIME TO STEP:  0.020075082778930664\n",
      "6249 \t TIME TO STEP:  0.02020883560180664\n"
     ]
    },
    {
     "name": "stderr",
     "output_type": "stream",
     "text": [
      "2020-04-20 17:08:39,199 Computing map for /data/gibson/Albertville.glb\n"
     ]
    },
    {
     "name": "stdout",
     "output_type": "stream",
     "text": [
      "6250 \t TIME TO RESET:  \t 6.700100898742676\n",
      "6251 \t TIME TO STEP:  0.07678389549255371\n",
      "6252 \t TIME TO STEP:  0.020086050033569336\n",
      "6253 \t TIME TO STEP:  0.020516395568847656\n",
      "6254 \t TIME TO STEP:  0.02029871940612793\n",
      "6255 \t TIME TO STEP:  0.03546261787414551\n",
      "6256 \t TIME TO STEP:  0.020910978317260742\n",
      "6257 \t TIME TO STEP:  0.021265029907226562\n",
      "6258 \t TIME TO STEP:  0.0202023983001709\n",
      "6259 \t TIME TO STEP:  0.022610902786254883\n"
     ]
    },
    {
     "name": "stderr",
     "output_type": "stream",
     "text": [
      "2020-04-20 17:08:46,173 Computing map for /data/gibson/Albertville.glb\n"
     ]
    },
    {
     "name": "stdout",
     "output_type": "stream",
     "text": [
      "6260 \t TIME TO RESET:  \t 6.808156967163086\n",
      "6261 \t TIME TO STEP:  0.03889274597167969\n",
      "6262 \t TIME TO STEP:  0.020856142044067383\n",
      "6263 \t TIME TO STEP:  0.020243167877197266\n",
      "6264 \t TIME TO STEP:  0.03608536720275879\n",
      "6265 \t TIME TO STEP:  0.01978325843811035\n",
      "6266 \t TIME TO STEP:  0.019752025604248047\n",
      "6267 \t TIME TO STEP:  0.020079851150512695\n",
      "6268 \t TIME TO STEP:  0.019953012466430664\n",
      "6269 \t TIME TO STEP:  0.02185964584350586\n"
     ]
    },
    {
     "name": "stderr",
     "output_type": "stream",
     "text": [
      "2020-04-20 17:08:53,214 Computing map for /data/gibson/Albertville.glb\n"
     ]
    },
    {
     "name": "stdout",
     "output_type": "stream",
     "text": [
      "6270 \t TIME TO RESET:  \t 6.710866212844849\n",
      "6271 \t TIME TO STEP:  0.07964777946472168\n",
      "6272 \t TIME TO STEP:  0.031128883361816406\n",
      "6273 \t TIME TO STEP:  0.020671606063842773\n",
      "6274 \t TIME TO STEP:  0.020112276077270508\n",
      "6275 \t TIME TO STEP:  0.035347700119018555\n",
      "6276 \t TIME TO STEP:  0.05161023139953613\n",
      "6277 \t TIME TO STEP:  0.05067586898803711\n",
      "6278 \t TIME TO STEP:  0.027068376541137695\n",
      "6279 \t TIME TO STEP:  0.020622730255126953\n"
     ]
    },
    {
     "name": "stderr",
     "output_type": "stream",
     "text": [
      "2020-04-20 17:09:00,261 Computing map for /data/gibson/Albertville.glb\n",
      "2020-04-20 17:09:06,742 Invalid map: /data/gibson/Albertville.glb/630\n",
      "2020-04-20 17:09:06,976 Computing map for /data/gibson/Albertville.glb\n",
      "2020-04-20 17:09:13,475 Invalid map: /data/gibson/Albertville.glb/630\n",
      "2020-04-20 17:09:13,710 Computing map for /data/gibson/Albertville.glb\n"
     ]
    },
    {
     "name": "stdout",
     "output_type": "stream",
     "text": [
      "6280 \t TIME TO RESET:  \t 20.209083557128906\n",
      "6281 \t TIME TO STEP:  0.06206035614013672\n",
      "6282 \t TIME TO STEP:  0.055052757263183594\n",
      "6283 \t TIME TO STEP:  0.06551742553710938\n",
      "6284 \t TIME TO STEP:  0.03051137924194336\n",
      "6285 \t TIME TO STEP:  0.04179668426513672\n",
      "6286 \t TIME TO STEP:  0.05633807182312012\n",
      "6287 \t TIME TO STEP:  0.04591822624206543\n",
      "6288 \t TIME TO STEP:  0.038214683532714844\n",
      "6289 \t TIME TO STEP:  0.02132892608642578\n"
     ]
    },
    {
     "name": "stderr",
     "output_type": "stream",
     "text": [
      "2020-04-20 17:09:20,878 Computing map for /data/gibson/Albertville.glb\n",
      "2020-04-20 17:09:27,386 Invalid map: /data/gibson/Albertville.glb/631\n",
      "2020-04-20 17:09:27,638 Computing map for /data/gibson/Albertville.glb\n",
      "2020-04-20 17:09:34,146 Invalid map: /data/gibson/Albertville.glb/631\n",
      "2020-04-20 17:09:34,415 Computing map for /data/gibson/Albertville.glb\n"
     ]
    },
    {
     "name": "stdout",
     "output_type": "stream",
     "text": [
      "6290 \t TIME TO RESET:  \t 20.248591899871826\n",
      "6291 \t TIME TO STEP:  0.04025149345397949\n",
      "6292 \t TIME TO STEP:  0.021559953689575195\n",
      "6293 \t TIME TO STEP:  0.028163671493530273\n",
      "6294 \t TIME TO STEP:  0.021541595458984375\n",
      "6295 \t TIME TO STEP:  0.021057844161987305\n",
      "6296 \t TIME TO STEP:  0.020380496978759766\n",
      "6297 \t TIME TO STEP:  0.02077937126159668\n",
      "6298 \t TIME TO STEP:  0.01987314224243164\n",
      "6299 \t TIME TO STEP:  0.02135920524597168\n"
     ]
    },
    {
     "name": "stderr",
     "output_type": "stream",
     "text": [
      "2020-04-20 17:09:41,347 Computing map for /data/gibson/Albertville.glb\n"
     ]
    },
    {
     "name": "stdout",
     "output_type": "stream",
     "text": [
      "6300 \t TIME TO RESET:  \t 6.734332084655762\n",
      "6301 \t TIME TO STEP:  0.06801533699035645\n",
      "6302 \t TIME TO STEP:  0.058747053146362305\n",
      "6303 \t TIME TO STEP:  0.04554152488708496\n",
      "6304 \t TIME TO STEP:  0.020021915435791016\n",
      "6305 \t TIME TO STEP:  0.021561622619628906\n",
      "6306 \t TIME TO STEP:  0.02070140838623047\n",
      "6307 \t TIME TO STEP:  0.020829439163208008\n",
      "6308 \t TIME TO STEP:  0.02018117904663086\n",
      "6309 \t TIME TO STEP:  0.02051401138305664\n"
     ]
    },
    {
     "name": "stderr",
     "output_type": "stream",
     "text": [
      "2020-04-20 17:09:48,360 Computing map for /data/gibson/Albertville.glb\n"
     ]
    },
    {
     "name": "stdout",
     "output_type": "stream",
     "text": [
      "6310 \t TIME TO RESET:  \t 6.602543830871582\n",
      "6311 \t TIME TO STEP:  0.05610084533691406\n",
      "6312 \t TIME TO STEP:  0.036102294921875\n",
      "6313 \t TIME TO STEP:  0.02008533477783203\n",
      "6314 \t TIME TO STEP:  0.020320653915405273\n",
      "6315 \t TIME TO STEP:  0.020424365997314453\n",
      "6316 \t TIME TO STEP:  0.020277976989746094\n",
      "6317 \t TIME TO STEP:  0.021112442016601562\n",
      "6318 \t TIME TO STEP:  0.021188735961914062\n",
      "6319 \t TIME TO STEP:  0.020275592803955078\n"
     ]
    },
    {
     "name": "stderr",
     "output_type": "stream",
     "text": [
      "2020-04-20 17:09:55,207 Computing map for /data/gibson/Albertville.glb\n",
      "2020-04-20 17:10:01,702 Invalid map: /data/gibson/Albertville.glb/634\n",
      "2020-04-20 17:10:01,959 Computing map for /data/gibson/Albertville.glb\n"
     ]
    },
    {
     "name": "stdout",
     "output_type": "stream",
     "text": [
      "6320 \t TIME TO RESET:  \t 13.437390089035034\n",
      "6321 \t TIME TO STEP:  0.03123760223388672\n",
      "6322 \t TIME TO STEP:  0.021462440490722656\n",
      "6323 \t TIME TO STEP:  0.020692825317382812\n",
      "6324 \t TIME TO STEP:  0.020493030548095703\n",
      "6325 \t TIME TO STEP:  0.02076864242553711\n",
      "6326 \t TIME TO STEP:  0.028777360916137695\n",
      "6327 \t TIME TO STEP:  0.020287036895751953\n",
      "6328 \t TIME TO STEP:  0.02078986167907715\n",
      "6329 \t TIME TO STEP:  0.020648717880249023\n"
     ]
    },
    {
     "name": "stderr",
     "output_type": "stream",
     "text": [
      "2020-04-20 17:10:08,882 Computing map for /data/gibson/Albertville.glb\n",
      "2020-04-20 17:10:15,343 Invalid map: /data/gibson/Albertville.glb/635\n",
      "2020-04-20 17:10:15,610 Computing map for /data/gibson/Albertville.glb\n"
     ]
    },
    {
     "name": "stdout",
     "output_type": "stream",
     "text": [
      "6330 \t TIME TO RESET:  \t 13.557129621505737\n",
      "6331 \t TIME TO STEP:  0.041088104248046875\n",
      "6332 \t TIME TO STEP:  0.021250009536743164\n",
      "6333 \t TIME TO STEP:  0.02015066146850586\n",
      "6334 \t TIME TO STEP:  0.02059173583984375\n",
      "6335 \t TIME TO STEP:  0.020724058151245117\n",
      "6336 \t TIME TO STEP:  0.020833253860473633\n",
      "6337 \t TIME TO STEP:  0.020395994186401367\n",
      "6338 \t TIME TO STEP:  0.020560026168823242\n",
      "6339 \t TIME TO STEP:  0.021022558212280273\n"
     ]
    },
    {
     "name": "stderr",
     "output_type": "stream",
     "text": [
      "2020-04-20 17:10:22,619 Computing map for /data/gibson/Albertville.glb\n",
      "2020-04-20 17:10:29,070 Invalid map: /data/gibson/Albertville.glb/636\n",
      "2020-04-20 17:10:29,330 Computing map for /data/gibson/Albertville.glb\n",
      "2020-04-20 17:10:35,874 Invalid map: /data/gibson/Albertville.glb/636\n",
      "2020-04-20 17:10:36,107 Computing map for /data/gibson/Albertville.glb\n"
     ]
    },
    {
     "name": "stdout",
     "output_type": "stream",
     "text": [
      "6340 \t TIME TO RESET:  \t 20.235897541046143\n",
      "6341 \t TIME TO STEP:  0.07456517219543457\n",
      "6342 \t TIME TO STEP:  0.02084970474243164\n",
      "6343 \t TIME TO STEP:  0.020626306533813477\n",
      "6344 \t TIME TO STEP:  0.02027273178100586\n",
      "6345 \t TIME TO STEP:  0.020310640335083008\n",
      "6346 \t TIME TO STEP:  0.02020740509033203\n",
      "6347 \t TIME TO STEP:  0.01981830596923828\n",
      "6348 \t TIME TO STEP:  0.032581329345703125\n",
      "6349 \t TIME TO STEP:  0.020578861236572266\n"
     ]
    },
    {
     "name": "stderr",
     "output_type": "stream",
     "text": [
      "2020-04-20 17:10:43,133 Computing map for /data/gibson/Albertville.glb\n",
      "2020-04-20 17:10:49,577 Invalid map: /data/gibson/Albertville.glb/637\n",
      "2020-04-20 17:10:49,829 Computing map for /data/gibson/Albertville.glb\n"
     ]
    },
    {
     "name": "stdout",
     "output_type": "stream",
     "text": [
      "6350 \t TIME TO RESET:  \t 13.403508186340332\n",
      "6351 \t TIME TO STEP:  0.05447220802307129\n",
      "6352 \t TIME TO STEP:  0.03792428970336914\n",
      "6353 \t TIME TO STEP:  0.06459879875183105\n",
      "6354 \t TIME TO STEP:  0.04225730895996094\n",
      "6355 \t TIME TO STEP:  0.01995396614074707\n",
      "6356 \t TIME TO STEP:  0.021184921264648438\n",
      "6357 \t TIME TO STEP:  0.02086615562438965\n",
      "6358 \t TIME TO STEP:  0.02034306526184082\n",
      "6359 \t TIME TO STEP:  0.020404815673828125\n"
     ]
    },
    {
     "name": "stderr",
     "output_type": "stream",
     "text": [
      "2020-04-20 17:10:56,838 Computing map for /data/gibson/Albertville.glb\n"
     ]
    },
    {
     "name": "stdout",
     "output_type": "stream",
     "text": [
      "6360 \t TIME TO RESET:  \t 6.682601690292358\n",
      "6361 \t TIME TO STEP:  0.05581831932067871\n",
      "6362 \t TIME TO STEP:  0.02037835121154785\n",
      "6363 \t TIME TO STEP:  0.02050948143005371\n",
      "6364 \t TIME TO STEP:  0.02042865753173828\n",
      "6365 \t TIME TO STEP:  0.05425572395324707\n",
      "6366 \t TIME TO STEP:  0.05417609214782715\n",
      "6367 \t TIME TO STEP:  0.020436525344848633\n",
      "6368 \t TIME TO STEP:  0.10005450248718262\n",
      "6369 \t TIME TO STEP:  0.0283355712890625\n"
     ]
    },
    {
     "name": "stderr",
     "output_type": "stream",
     "text": [
      "2020-04-20 17:11:03,859 Computing map for /data/gibson/Albertville.glb\n"
     ]
    },
    {
     "name": "stdout",
     "output_type": "stream",
     "text": [
      "6370 \t TIME TO RESET:  \t 6.7200927734375\n",
      "6371 \t TIME TO STEP:  0.022914409637451172\n",
      "6372 \t TIME TO STEP:  0.07046937942504883\n",
      "6373 \t TIME TO STEP:  0.03615975379943848\n",
      "6374 \t TIME TO STEP:  0.020555496215820312\n",
      "6375 \t TIME TO STEP:  0.04504132270812988\n",
      "6376 \t TIME TO STEP:  0.021790266036987305\n",
      "6377 \t TIME TO STEP:  0.0212554931640625\n",
      "6378 \t TIME TO STEP:  0.02043294906616211\n",
      "6379 \t TIME TO STEP:  0.02012181282043457\n"
     ]
    },
    {
     "name": "stderr",
     "output_type": "stream",
     "text": [
      "2020-04-20 17:11:10,869 Computing map for /data/gibson/Albertville.glb\n"
     ]
    },
    {
     "name": "stdout",
     "output_type": "stream",
     "text": [
      "6380 \t TIME TO RESET:  \t 6.782130241394043\n",
      "6381 \t TIME TO STEP:  0.03026723861694336\n",
      "6382 \t TIME TO STEP:  0.020414113998413086\n",
      "6383 \t TIME TO STEP:  0.02048969268798828\n",
      "6384 \t TIME TO STEP:  0.02005481719970703\n",
      "6385 \t TIME TO STEP:  0.020890474319458008\n",
      "6386 \t TIME TO STEP:  0.020801305770874023\n",
      "6387 \t TIME TO STEP:  0.0201566219329834\n",
      "6388 \t TIME TO STEP:  0.020259857177734375\n",
      "6389 \t TIME TO STEP:  0.028066396713256836\n"
     ]
    },
    {
     "name": "stderr",
     "output_type": "stream",
     "text": [
      "2020-04-20 17:11:17,875 Computing map for /data/gibson/Albertville.glb\n",
      "2020-04-20 17:11:24,413 Invalid map: /data/gibson/Albertville.glb/641\n",
      "2020-04-20 17:11:24,667 Computing map for /data/gibson/Albertville.glb\n",
      "2020-04-20 17:11:31,140 Invalid map: /data/gibson/Albertville.glb/641\n",
      "2020-04-20 17:11:31,387 Computing map for /data/gibson/Albertville.glb\n"
     ]
    },
    {
     "name": "stdout",
     "output_type": "stream",
     "text": [
      "6390 \t TIME TO RESET:  \t 20.422412872314453\n",
      "6391 \t TIME TO STEP:  0.08423972129821777\n",
      "6392 \t TIME TO STEP:  0.056697845458984375\n",
      "6393 \t TIME TO STEP:  0.02008676528930664\n",
      "6394 \t TIME TO STEP:  0.020107746124267578\n",
      "6395 \t TIME TO STEP:  0.020007848739624023\n",
      "6396 \t TIME TO STEP:  0.021914005279541016\n",
      "6397 \t TIME TO STEP:  0.0205075740814209\n",
      "6398 \t TIME TO STEP:  0.020688772201538086\n",
      "6399 \t TIME TO STEP:  0.020166635513305664\n"
     ]
    },
    {
     "name": "stderr",
     "output_type": "stream",
     "text": [
      "2020-04-20 17:11:38,587 Computing map for /data/gibson/Albertville.glb\n"
     ]
    },
    {
     "name": "stdout",
     "output_type": "stream",
     "text": [
      "6400 \t TIME TO RESET:  \t 6.853196382522583\n",
      "6401 \t TIME TO STEP:  0.05650138854980469\n",
      "6402 \t TIME TO STEP:  0.0602879524230957\n",
      "6403 \t TIME TO STEP:  0.027935028076171875\n",
      "6404 \t TIME TO STEP:  0.019986867904663086\n",
      "6405 \t TIME TO STEP:  0.020984172821044922\n",
      "6406 \t TIME TO STEP:  0.029221773147583008\n",
      "6407 \t TIME TO STEP:  0.020085811614990234\n",
      "6408 \t TIME TO STEP:  0.020130634307861328\n",
      "6409 \t TIME TO STEP:  0.023218870162963867\n"
     ]
    },
    {
     "name": "stderr",
     "output_type": "stream",
     "text": [
      "2020-04-20 17:11:45,688 Computing map for /data/gibson/Albertville.glb\n"
     ]
    },
    {
     "name": "stdout",
     "output_type": "stream",
     "text": [
      "6410 \t TIME TO RESET:  \t 6.794953107833862\n",
      "6411 \t TIME TO STEP:  0.05347633361816406\n",
      "6412 \t TIME TO STEP:  0.038301944732666016\n",
      "6413 \t TIME TO STEP:  0.029439687728881836\n",
      "6414 \t TIME TO STEP:  0.03815150260925293\n",
      "6415 \t TIME TO STEP:  0.054018259048461914\n",
      "6416 \t TIME TO STEP:  0.0803229808807373\n",
      "6417 \t TIME TO STEP:  0.03163862228393555\n",
      "6418 \t TIME TO STEP:  0.033475399017333984\n",
      "6419 \t TIME TO STEP:  0.026115894317626953\n"
     ]
    },
    {
     "name": "stderr",
     "output_type": "stream",
     "text": [
      "2020-04-20 17:11:52,911 Computing map for /data/gibson/Albertville.glb\n"
     ]
    },
    {
     "name": "stdout",
     "output_type": "stream",
     "text": [
      "6420 \t TIME TO RESET:  \t 6.902173042297363\n",
      "6421 \t TIME TO STEP:  0.04063606262207031\n",
      "6422 \t TIME TO STEP:  0.0637362003326416\n",
      "6423 \t TIME TO STEP:  0.040270090103149414\n",
      "6424 \t TIME TO STEP:  0.029906272888183594\n",
      "6425 \t TIME TO STEP:  0.027256250381469727\n",
      "6426 \t TIME TO STEP:  0.03886914253234863\n",
      "6427 \t TIME TO STEP:  0.0435788631439209\n",
      "6428 \t TIME TO STEP:  0.020386457443237305\n",
      "6429 \t TIME TO STEP:  0.01996135711669922\n"
     ]
    },
    {
     "name": "stderr",
     "output_type": "stream",
     "text": [
      "2020-04-20 17:12:00,132 Computing map for /data/gibson/Albertville.glb\n"
     ]
    },
    {
     "name": "stdout",
     "output_type": "stream",
     "text": [
      "6430 \t TIME TO RESET:  \t 7.002634286880493\n",
      "6431 \t TIME TO STEP:  0.03957819938659668\n",
      "6432 \t TIME TO STEP:  0.028719186782836914\n",
      "6433 \t TIME TO STEP:  0.019528865814208984\n",
      "6434 \t TIME TO STEP:  0.019689083099365234\n",
      "6435 \t TIME TO STEP:  0.019899606704711914\n",
      "6436 \t TIME TO STEP:  0.02020573616027832\n",
      "6437 \t TIME TO STEP:  0.019997119903564453\n",
      "6438 \t TIME TO STEP:  0.01982259750366211\n",
      "6439 \t TIME TO STEP:  0.02037215232849121\n"
     ]
    },
    {
     "name": "stderr",
     "output_type": "stream",
     "text": [
      "2020-04-20 17:12:07,310 Computing map for /data/gibson/Albertville.glb\n",
      "2020-04-20 17:12:13,909 Invalid map: /data/gibson/Albertville.glb/646\n",
      "2020-04-20 17:12:14,165 Computing map for /data/gibson/Albertville.glb\n",
      "2020-04-20 17:12:20,597 Invalid map: /data/gibson/Albertville.glb/646\n",
      "2020-04-20 17:12:20,822 Computing map for /data/gibson/Albertville.glb\n"
     ]
    },
    {
     "name": "stdout",
     "output_type": "stream",
     "text": [
      "6440 \t TIME TO RESET:  \t 20.281391859054565\n",
      "6441 \t TIME TO STEP:  0.08495545387268066\n",
      "6442 \t TIME TO STEP:  0.05318856239318848\n",
      "6443 \t TIME TO STEP:  0.020091533660888672\n",
      "6444 \t TIME TO STEP:  0.020386219024658203\n",
      "6445 \t TIME TO STEP:  0.020594120025634766\n",
      "6446 \t TIME TO STEP:  0.022426605224609375\n",
      "6447 \t TIME TO STEP:  0.02110910415649414\n",
      "6448 \t TIME TO STEP:  0.020502567291259766\n",
      "6449 \t TIME TO STEP:  0.020364999771118164\n"
     ]
    },
    {
     "name": "stderr",
     "output_type": "stream",
     "text": [
      "2020-04-20 17:12:27,903 Computing map for /data/gibson/Albertville.glb\n"
     ]
    },
    {
     "name": "stdout",
     "output_type": "stream",
     "text": [
      "6450 \t TIME TO RESET:  \t 6.6576247215271\n",
      "6451 \t TIME TO STEP:  0.05563688278198242\n",
      "6452 \t TIME TO STEP:  0.03691363334655762\n",
      "6453 \t TIME TO STEP:  0.02994370460510254\n",
      "6454 \t TIME TO STEP:  0.02073812484741211\n",
      "6455 \t TIME TO STEP:  0.03697824478149414\n",
      "6456 \t TIME TO STEP:  0.020604848861694336\n",
      "6457 \t TIME TO STEP:  0.020456552505493164\n",
      "6458 \t TIME TO STEP:  0.03871583938598633\n",
      "6459 \t TIME TO STEP:  0.02892160415649414\n"
     ]
    },
    {
     "name": "stderr",
     "output_type": "stream",
     "text": [
      "2020-04-20 17:12:34,864 Computing map for /data/gibson/Albertville.glb\n",
      "2020-04-20 17:12:41,335 Invalid map: /data/gibson/Albertville.glb/648\n",
      "2020-04-20 17:12:41,599 Computing map for /data/gibson/Albertville.glb\n"
     ]
    },
    {
     "name": "stdout",
     "output_type": "stream",
     "text": [
      "6460 \t TIME TO RESET:  \t 13.68690538406372\n",
      "6461 \t TIME TO STEP:  0.023829221725463867\n",
      "6462 \t TIME TO STEP:  0.051656246185302734\n",
      "6463 \t TIME TO STEP:  0.05180811882019043\n",
      "6464 \t TIME TO STEP:  0.05306410789489746\n",
      "6465 \t TIME TO STEP:  0.03561878204345703\n",
      "6466 \t TIME TO STEP:  0.021070003509521484\n",
      "6467 \t TIME TO STEP:  0.02053523063659668\n",
      "6468 \t TIME TO STEP:  0.02004861831665039\n",
      "6469 \t TIME TO STEP:  0.01984548568725586\n"
     ]
    },
    {
     "name": "stderr",
     "output_type": "stream",
     "text": [
      "2020-04-20 17:12:48,825 Computing map for /data/gibson/Albertville.glb\n"
     ]
    },
    {
     "name": "stdout",
     "output_type": "stream",
     "text": [
      "6470 \t TIME TO RESET:  \t 6.691288948059082\n",
      "6471 \t TIME TO STEP:  0.03741598129272461\n",
      "6472 \t TIME TO STEP:  0.01991415023803711\n",
      "6473 \t TIME TO STEP:  0.019957304000854492\n",
      "6474 \t TIME TO STEP:  0.020693540573120117\n",
      "6475 \t TIME TO STEP:  0.020580530166625977\n",
      "6476 \t TIME TO STEP:  0.020956993103027344\n",
      "6477 \t TIME TO STEP:  0.020936250686645508\n",
      "6478 \t TIME TO STEP:  0.02064657211303711\n",
      "6479 \t TIME TO STEP:  0.020026683807373047\n"
     ]
    },
    {
     "name": "stderr",
     "output_type": "stream",
     "text": [
      "2020-04-20 17:12:55,705 Computing map for /data/gibson/Albertville.glb\n",
      "2020-04-20 17:13:02,072 Invalid map: /data/gibson/Albertville.glb/650\n",
      "2020-04-20 17:13:02,304 Computing map for /data/gibson/Albertville.glb\n"
     ]
    },
    {
     "name": "stdout",
     "output_type": "stream",
     "text": [
      "6480 \t TIME TO RESET:  \t 13.324515581130981\n",
      "6481 \t TIME TO STEP:  0.05454373359680176\n",
      "6482 \t TIME TO STEP:  0.02017498016357422\n",
      "6483 \t TIME TO STEP:  0.019992589950561523\n",
      "6484 \t TIME TO STEP:  0.020819664001464844\n",
      "6485 \t TIME TO STEP:  0.020973920822143555\n",
      "6486 \t TIME TO STEP:  0.020455121994018555\n",
      "6487 \t TIME TO STEP:  0.020795822143554688\n",
      "6488 \t TIME TO STEP:  0.03287053108215332\n",
      "6489 \t TIME TO STEP:  0.021668434143066406\n"
     ]
    },
    {
     "name": "stderr",
     "output_type": "stream",
     "text": [
      "2020-04-20 17:13:09,283 Computing map for /data/gibson/Albertville.glb\n"
     ]
    },
    {
     "name": "stdout",
     "output_type": "stream",
     "text": [
      "6490 \t TIME TO RESET:  \t 6.776994466781616\n",
      "6491 \t TIME TO STEP:  0.04851412773132324\n",
      "6492 \t TIME TO STEP:  0.022258758544921875\n",
      "6493 \t TIME TO STEP:  0.0510096549987793\n",
      "6494 \t TIME TO STEP:  0.054511070251464844\n",
      "6495 \t TIME TO STEP:  0.052556753158569336\n",
      "6496 \t TIME TO STEP:  0.050115108489990234\n",
      "6497 \t TIME TO STEP:  0.05144453048706055\n",
      "6498 \t TIME TO STEP:  0.028899669647216797\n",
      "6499 \t TIME TO STEP:  0.020854949951171875\n"
     ]
    },
    {
     "name": "stderr",
     "output_type": "stream",
     "text": [
      "2020-04-20 17:13:16,452 Computing map for /data/gibson/Albertville.glb\n"
     ]
    },
    {
     "name": "stdout",
     "output_type": "stream",
     "text": [
      "6500 \t TIME TO RESET:  \t 6.769962787628174\n",
      "6501 \t TIME TO STEP:  0.035299062728881836\n",
      "6502 \t TIME TO STEP:  0.019682645797729492\n",
      "6503 \t TIME TO STEP:  0.02057480812072754\n",
      "6504 \t TIME TO STEP:  0.037311553955078125\n",
      "6505 \t TIME TO STEP:  0.028855323791503906\n",
      "6506 \t TIME TO STEP:  0.05191683769226074\n",
      "6507 \t TIME TO STEP:  0.02926921844482422\n",
      "6508 \t TIME TO STEP:  0.03844714164733887\n",
      "6509 \t TIME TO STEP:  0.02797842025756836\n"
     ]
    },
    {
     "name": "stderr",
     "output_type": "stream",
     "text": [
      "2020-04-20 17:13:23,521 Computing map for /data/gibson/Albertville.glb\n"
     ]
    },
    {
     "name": "stdout",
     "output_type": "stream",
     "text": [
      "6510 \t TIME TO RESET:  \t 6.758400917053223\n",
      "6511 \t TIME TO STEP:  0.04715371131896973\n",
      "6512 \t TIME TO STEP:  0.051817893981933594\n",
      "6513 \t TIME TO STEP:  0.04410696029663086\n",
      "6514 \t TIME TO STEP:  0.019793033599853516\n",
      "6515 \t TIME TO STEP:  0.05218648910522461\n",
      "6516 \t TIME TO STEP:  0.028717994689941406\n",
      "6517 \t TIME TO STEP:  0.05258059501647949\n",
      "6518 \t TIME TO STEP:  0.028535842895507812\n",
      "6519 \t TIME TO STEP:  0.029116153717041016\n"
     ]
    },
    {
     "name": "stderr",
     "output_type": "stream",
     "text": [
      "2020-04-20 17:13:30,620 Computing map for /data/gibson/Albertville.glb\n"
     ]
    },
    {
     "name": "stdout",
     "output_type": "stream",
     "text": [
      "6520 \t TIME TO RESET:  \t 6.730989694595337\n",
      "6521 \t TIME TO STEP:  0.02812647819519043\n",
      "6522 \t TIME TO STEP:  0.05100584030151367\n",
      "6523 \t TIME TO STEP:  0.05303311347961426\n",
      "6524 \t TIME TO STEP:  0.05083799362182617\n",
      "6525 \t TIME TO STEP:  0.02055048942565918\n",
      "6526 \t TIME TO STEP:  0.034856557846069336\n",
      "6527 \t TIME TO STEP:  0.02109360694885254\n",
      "6528 \t TIME TO STEP:  0.01964545249938965\n",
      "6529 \t TIME TO STEP:  0.019708633422851562\n"
     ]
    },
    {
     "name": "stderr",
     "output_type": "stream",
     "text": [
      "2020-04-20 17:13:37,649 Computing map for /data/gibson/Albertville.glb\n"
     ]
    },
    {
     "name": "stdout",
     "output_type": "stream",
     "text": [
      "6530 \t TIME TO RESET:  \t 6.80765700340271\n",
      "6531 \t TIME TO STEP:  0.05088663101196289\n",
      "6532 \t TIME TO STEP:  0.020241260528564453\n",
      "6533 \t TIME TO STEP:  0.02061915397644043\n",
      "6534 \t TIME TO STEP:  0.01992964744567871\n",
      "6535 \t TIME TO STEP:  0.020249128341674805\n",
      "6536 \t TIME TO STEP:  0.020176410675048828\n",
      "6537 \t TIME TO STEP:  0.020288467407226562\n",
      "6538 \t TIME TO STEP:  0.02033400535583496\n",
      "6539 \t TIME TO STEP:  0.022298574447631836\n"
     ]
    },
    {
     "name": "stderr",
     "output_type": "stream",
     "text": [
      "2020-04-20 17:13:44,686 Computing map for /data/gibson/Albertville.glb\n"
     ]
    },
    {
     "name": "stdout",
     "output_type": "stream",
     "text": [
      "6540 \t TIME TO RESET:  \t 6.693406105041504\n",
      "6541 \t TIME TO STEP:  0.052583932876586914\n",
      "6542 \t TIME TO STEP:  0.03653311729431152\n",
      "6543 \t TIME TO STEP:  0.020113229751586914\n",
      "6544 \t TIME TO STEP:  0.019772768020629883\n",
      "6545 \t TIME TO STEP:  0.019715070724487305\n",
      "6546 \t TIME TO STEP:  0.019942522048950195\n",
      "6547 \t TIME TO STEP:  0.027766942977905273\n",
      "6548 \t TIME TO STEP:  0.020642757415771484\n",
      "6549 \t TIME TO STEP:  0.019910335540771484\n"
     ]
    },
    {
     "name": "stderr",
     "output_type": "stream",
     "text": [
      "2020-04-20 17:13:51,625 Computing map for /data/gibson/Albertville.glb\n"
     ]
    },
    {
     "name": "stdout",
     "output_type": "stream",
     "text": [
      "6550 \t TIME TO RESET:  \t 6.771067142486572\n",
      "6551 \t TIME TO STEP:  0.03358149528503418\n",
      "6552 \t TIME TO STEP:  0.0356292724609375\n",
      "6553 \t TIME TO STEP:  0.053278207778930664\n",
      "6554 \t TIME TO STEP:  0.019571304321289062\n",
      "6555 \t TIME TO STEP:  0.01983809471130371\n",
      "6556 \t TIME TO STEP:  0.01985311508178711\n",
      "6557 \t TIME TO STEP:  0.04770469665527344\n",
      "6558 \t TIME TO STEP:  0.05037546157836914\n",
      "6559 \t TIME TO STEP:  0.05405378341674805\n"
     ]
    },
    {
     "name": "stderr",
     "output_type": "stream",
     "text": [
      "2020-04-20 17:13:58,694 Computing map for /data/gibson/Albertville.glb\n"
     ]
    },
    {
     "name": "stdout",
     "output_type": "stream",
     "text": [
      "6560 \t TIME TO RESET:  \t 6.656950950622559\n",
      "6561 \t TIME TO STEP:  0.028226137161254883\n",
      "6562 \t TIME TO STEP:  0.01998281478881836\n",
      "6563 \t TIME TO STEP:  0.01959848403930664\n",
      "6564 \t TIME TO STEP:  0.01986408233642578\n",
      "6565 \t TIME TO STEP:  0.01963210105895996\n",
      "6566 \t TIME TO STEP:  0.01973271369934082\n",
      "6567 \t TIME TO STEP:  0.019715547561645508\n",
      "6568 \t TIME TO STEP:  0.0197603702545166\n",
      "6569 \t TIME TO STEP:  0.01967310905456543\n"
     ]
    },
    {
     "name": "stderr",
     "output_type": "stream",
     "text": [
      "2020-04-20 17:14:05,563 Computing map for /data/gibson/Albertville.glb\n",
      "2020-04-20 17:14:12,586 Invalid map: /data/gibson/Albertville.glb/659\n",
      "2020-04-20 17:14:12,811 Computing map for /data/gibson/Albertville.glb\n",
      "2020-04-20 17:14:19,166 Invalid map: /data/gibson/Albertville.glb/659\n",
      "2020-04-20 17:14:19,403 Computing map for /data/gibson/Albertville.glb\n"
     ]
    },
    {
     "name": "stdout",
     "output_type": "stream",
     "text": [
      "6570 \t TIME TO RESET:  \t 20.57668137550354\n",
      "6571 \t TIME TO STEP:  0.08243298530578613\n",
      "6572 \t TIME TO STEP:  0.06646323204040527\n",
      "6573 \t TIME TO STEP:  0.05208873748779297\n",
      "6574 \t TIME TO STEP:  0.04514575004577637\n",
      "6575 \t TIME TO STEP:  0.020044565200805664\n",
      "6576 \t TIME TO STEP:  0.020255327224731445\n",
      "6577 \t TIME TO STEP:  0.03803515434265137\n",
      "6578 \t TIME TO STEP:  0.02019476890563965\n",
      "6579 \t TIME TO STEP:  0.020106792449951172\n"
     ]
    },
    {
     "name": "stderr",
     "output_type": "stream",
     "text": [
      "2020-04-20 17:14:26,506 Computing map for /data/gibson/Albertville.glb\n",
      "2020-04-20 17:14:32,925 Invalid map: /data/gibson/Albertville.glb/660\n",
      "2020-04-20 17:14:33,202 Computing map for /data/gibson/Albertville.glb\n"
     ]
    },
    {
     "name": "stdout",
     "output_type": "stream",
     "text": [
      "6580 \t TIME TO RESET:  \t 13.403111219406128\n",
      "6581 \t TIME TO STEP:  0.03209376335144043\n",
      "6582 \t TIME TO STEP:  0.021326065063476562\n",
      "6583 \t TIME TO STEP:  0.02094554901123047\n",
      "6584 \t TIME TO STEP:  0.029781103134155273\n",
      "6585 \t TIME TO STEP:  0.03790760040283203\n",
      "6586 \t TIME TO STEP:  0.02078104019165039\n",
      "6587 \t TIME TO STEP:  0.02128124237060547\n",
      "6588 \t TIME TO STEP:  0.020381450653076172\n",
      "6589 \t TIME TO STEP:  0.02097773551940918\n"
     ]
    },
    {
     "name": "stderr",
     "output_type": "stream",
     "text": [
      "2020-04-20 17:14:40,142 Computing map for /data/gibson/Albertville.glb\n",
      "2020-04-20 17:14:46,541 Invalid map: /data/gibson/Albertville.glb/661\n",
      "2020-04-20 17:14:46,796 Computing map for /data/gibson/Albertville.glb\n",
      "2020-04-20 17:14:53,013 Invalid map: /data/gibson/Albertville.glb/661\n",
      "2020-04-20 17:14:53,253 Computing map for /data/gibson/Albertville.glb\n"
     ]
    },
    {
     "name": "stdout",
     "output_type": "stream",
     "text": [
      "6590 \t TIME TO RESET:  \t 19.804540634155273\n",
      "6591 \t TIME TO STEP:  0.08428120613098145\n",
      "6592 \t TIME TO STEP:  0.020524978637695312\n",
      "6593 \t TIME TO STEP:  0.028544187545776367\n",
      "6594 \t TIME TO STEP:  0.020406484603881836\n",
      "6595 \t TIME TO STEP:  0.0198671817779541\n",
      "6596 \t TIME TO STEP:  0.020034313201904297\n",
      "6597 \t TIME TO STEP:  0.022295713424682617\n",
      "6598 \t TIME TO STEP:  0.02174544334411621\n",
      "6599 \t TIME TO STEP:  0.020532846450805664\n"
     ]
    },
    {
     "name": "stderr",
     "output_type": "stream",
     "text": [
      "2020-04-20 17:15:00,198 Computing map for /data/gibson/Albertville.glb\n"
     ]
    },
    {
     "name": "stdout",
     "output_type": "stream",
     "text": [
      "6600 \t TIME TO RESET:  \t 6.675419330596924\n",
      "6601 \t TIME TO STEP:  0.03919863700866699\n",
      "6602 \t TIME TO STEP:  0.05082392692565918\n",
      "6603 \t TIME TO STEP:  0.038172245025634766\n",
      "6604 \t TIME TO STEP:  0.0203704833984375\n",
      "6605 \t TIME TO STEP:  0.020308494567871094\n",
      "6606 \t TIME TO STEP:  0.019933462142944336\n",
      "6607 \t TIME TO STEP:  0.020284175872802734\n",
      "6608 \t TIME TO STEP:  0.020081281661987305\n",
      "6609 \t TIME TO STEP:  0.019950389862060547\n"
     ]
    },
    {
     "name": "stderr",
     "output_type": "stream",
     "text": [
      "2020-04-20 17:15:07,140 Computing map for /data/gibson/Albertville.glb\n",
      "2020-04-20 17:15:13,550 Invalid map: /data/gibson/Albertville.glb/663\n",
      "2020-04-20 17:15:13,809 Computing map for /data/gibson/Albertville.glb\n"
     ]
    },
    {
     "name": "stdout",
     "output_type": "stream",
     "text": [
      "6610 \t TIME TO RESET:  \t 13.505603551864624\n",
      "6611 \t TIME TO STEP:  0.05804800987243652\n",
      "6612 \t TIME TO STEP:  0.05390739440917969\n",
      "6613 \t TIME TO STEP:  0.06583333015441895\n",
      "6614 \t TIME TO STEP:  0.02844071388244629\n",
      "6615 \t TIME TO STEP:  0.031116008758544922\n",
      "6616 \t TIME TO STEP:  0.02035689353942871\n",
      "6617 \t TIME TO STEP:  0.021556377410888672\n",
      "6618 \t TIME TO STEP:  0.02102971076965332\n",
      "6619 \t TIME TO STEP:  0.02084803581237793\n"
     ]
    },
    {
     "name": "stderr",
     "output_type": "stream",
     "text": [
      "2020-04-20 17:15:20,957 Computing map for /data/gibson/Albertville.glb\n"
     ]
    },
    {
     "name": "stdout",
     "output_type": "stream",
     "text": [
      "6620 \t TIME TO RESET:  \t 6.806230545043945\n",
      "6621 \t TIME TO STEP:  0.05118298530578613\n",
      "6622 \t TIME TO STEP:  0.043183088302612305\n",
      "6623 \t TIME TO STEP:  0.042841196060180664\n",
      "6624 \t TIME TO STEP:  0.07703185081481934\n",
      "6625 \t TIME TO STEP:  0.021549701690673828\n",
      "6626 \t TIME TO STEP:  0.020190954208374023\n",
      "6627 \t TIME TO STEP:  0.020251750946044922\n",
      "6628 \t TIME TO STEP:  0.020629405975341797\n",
      "6629 \t TIME TO STEP:  0.020156383514404297\n"
     ]
    },
    {
     "name": "stderr",
     "output_type": "stream",
     "text": [
      "2020-04-20 17:15:28,085 Computing map for /data/gibson/Albertville.glb\n"
     ]
    },
    {
     "name": "stdout",
     "output_type": "stream",
     "text": [
      "6630 \t TIME TO RESET:  \t 6.865664482116699\n",
      "6631 \t TIME TO STEP:  0.06456470489501953\n",
      "6632 \t TIME TO STEP:  0.021748065948486328\n",
      "6633 \t TIME TO STEP:  0.020323991775512695\n",
      "6634 \t TIME TO STEP:  0.020583629608154297\n",
      "6635 \t TIME TO STEP:  0.05332040786743164\n",
      "6636 \t TIME TO STEP:  0.020405292510986328\n",
      "6637 \t TIME TO STEP:  0.023804903030395508\n",
      "6638 \t TIME TO STEP:  0.020520448684692383\n",
      "6639 \t TIME TO STEP:  0.02077007293701172\n"
     ]
    },
    {
     "name": "stderr",
     "output_type": "stream",
     "text": [
      "2020-04-20 17:15:35,204 Computing map for /data/gibson/Albertville.glb\n"
     ]
    },
    {
     "name": "stdout",
     "output_type": "stream",
     "text": [
      "6640 \t TIME TO RESET:  \t 6.798643112182617\n",
      "6641 \t TIME TO STEP:  0.0541834831237793\n",
      "6642 \t TIME TO STEP:  0.07007837295532227\n",
      "6643 \t TIME TO STEP:  0.020705223083496094\n",
      "6644 \t TIME TO STEP:  0.04804491996765137\n",
      "6645 \t TIME TO STEP:  0.021678924560546875\n",
      "6646 \t TIME TO STEP:  0.03489232063293457\n",
      "6647 \t TIME TO STEP:  0.020733356475830078\n",
      "6648 \t TIME TO STEP:  0.020642518997192383\n",
      "6649 \t TIME TO STEP:  0.020629167556762695\n"
     ]
    },
    {
     "name": "stderr",
     "output_type": "stream",
     "text": [
      "2020-04-20 17:15:42,336 Computing map for /data/gibson/Albertville.glb\n"
     ]
    },
    {
     "name": "stdout",
     "output_type": "stream",
     "text": [
      "6650 \t TIME TO RESET:  \t 6.8724846839904785\n",
      "6651 \t TIME TO STEP:  0.021285533905029297\n",
      "6652 \t TIME TO STEP:  0.020156145095825195\n",
      "6653 \t TIME TO STEP:  0.02135300636291504\n",
      "6654 \t TIME TO STEP:  0.021636247634887695\n",
      "6655 \t TIME TO STEP:  0.020430803298950195\n",
      "6656 \t TIME TO STEP:  0.020391225814819336\n",
      "6657 \t TIME TO STEP:  0.020116090774536133\n",
      "6658 \t TIME TO STEP:  0.020224571228027344\n",
      "6659 \t TIME TO STEP:  0.020894527435302734\n"
     ]
    },
    {
     "name": "stderr",
     "output_type": "stream",
     "text": [
      "2020-04-20 17:15:49,357 Computing map for /data/gibson/Albertville.glb\n"
     ]
    },
    {
     "name": "stdout",
     "output_type": "stream",
     "text": [
      "6660 \t TIME TO RESET:  \t 6.756067514419556\n",
      "6661 \t TIME TO STEP:  0.07052469253540039\n",
      "6662 \t TIME TO STEP:  0.02169346809387207\n",
      "6663 \t TIME TO STEP:  0.021190404891967773\n",
      "6664 \t TIME TO STEP:  0.020509719848632812\n",
      "6665 \t TIME TO STEP:  0.021068096160888672\n",
      "6666 \t TIME TO STEP:  0.020975112915039062\n",
      "6667 \t TIME TO STEP:  0.021196365356445312\n",
      "6668 \t TIME TO STEP:  0.022017240524291992\n",
      "6669 \t TIME TO STEP:  0.02120232582092285\n"
     ]
    },
    {
     "name": "stderr",
     "output_type": "stream",
     "text": [
      "2020-04-20 17:15:56,380 Computing map for /data/gibson/Albertville.glb\n",
      "2020-04-20 17:16:03,047 Invalid map: /data/gibson/Albertville.glb/669\n",
      "2020-04-20 17:16:03,294 Computing map for /data/gibson/Albertville.glb\n"
     ]
    },
    {
     "name": "stdout",
     "output_type": "stream",
     "text": [
      "6670 \t TIME TO RESET:  \t 13.894334316253662\n",
      "6671 \t TIME TO STEP:  0.02151012420654297\n",
      "6672 \t TIME TO STEP:  0.021358251571655273\n",
      "6673 \t TIME TO STEP:  0.058448076248168945\n",
      "6674 \t TIME TO STEP:  0.045314788818359375\n",
      "6675 \t TIME TO STEP:  0.05335044860839844\n",
      "6676 \t TIME TO STEP:  0.04879927635192871\n",
      "6677 \t TIME TO STEP:  0.02169489860534668\n",
      "6678 \t TIME TO STEP:  0.02114248275756836\n",
      "6679 \t TIME TO STEP:  0.0209963321685791\n"
     ]
    },
    {
     "name": "stderr",
     "output_type": "stream",
     "text": [
      "2020-04-20 17:16:10,621 Computing map for /data/gibson/Albertville.glb\n",
      "2020-04-20 17:16:17,225 Invalid map: /data/gibson/Albertville.glb/670\n",
      "2020-04-20 17:16:17,486 Computing map for /data/gibson/Albertville.glb\n"
     ]
    },
    {
     "name": "stdout",
     "output_type": "stream",
     "text": [
      "6680 \t TIME TO RESET:  \t 13.85853624343872\n",
      "6681 \t TIME TO STEP:  0.04055166244506836\n",
      "6682 \t TIME TO STEP:  0.030358076095581055\n",
      "6683 \t TIME TO STEP:  0.02253103256225586\n",
      "6684 \t TIME TO STEP:  0.020870447158813477\n",
      "6685 \t TIME TO STEP:  0.020733118057250977\n",
      "6686 \t TIME TO STEP:  0.020810604095458984\n",
      "6687 \t TIME TO STEP:  0.03806900978088379\n",
      "6688 \t TIME TO STEP:  0.022722244262695312\n",
      "6689 \t TIME TO STEP:  0.021668672561645508\n"
     ]
    },
    {
     "name": "stderr",
     "output_type": "stream",
     "text": [
      "2020-04-20 17:16:24,711 Computing map for /data/gibson/Albertville.glb\n"
     ]
    },
    {
     "name": "stdout",
     "output_type": "stream",
     "text": [
      "6690 \t TIME TO RESET:  \t 6.972069263458252\n",
      "6691 \t TIME TO STEP:  0.03788614273071289\n",
      "6692 \t TIME TO STEP:  0.05725216865539551\n",
      "6693 \t TIME TO STEP:  0.06848669052124023\n",
      "6694 \t TIME TO STEP:  0.03712320327758789\n",
      "6695 \t TIME TO STEP:  0.028764963150024414\n",
      "6696 \t TIME TO STEP:  0.0503997802734375\n",
      "6697 \t TIME TO STEP:  0.052243709564208984\n",
      "6698 \t TIME TO STEP:  0.022023439407348633\n",
      "6699 \t TIME TO STEP:  0.021576404571533203\n"
     ]
    },
    {
     "name": "stderr",
     "output_type": "stream",
     "text": [
      "2020-04-20 17:16:32,061 Computing map for /data/gibson/Albertville.glb\n"
     ]
    },
    {
     "name": "stdout",
     "output_type": "stream",
     "text": [
      "6700 \t TIME TO RESET:  \t 7.090333700180054\n",
      "6701 \t TIME TO STEP:  0.02113795280456543\n",
      "6702 \t TIME TO STEP:  0.02061772346496582\n",
      "6703 \t TIME TO STEP:  0.0201261043548584\n",
      "6704 \t TIME TO STEP:  0.020002126693725586\n",
      "6705 \t TIME TO STEP:  0.02029895782470703\n",
      "6706 \t TIME TO STEP:  0.02002096176147461\n",
      "6707 \t TIME TO STEP:  0.020847082138061523\n",
      "6708 \t TIME TO STEP:  0.021131515502929688\n",
      "6709 \t TIME TO STEP:  0.022325515747070312\n"
     ]
    },
    {
     "name": "stderr",
     "output_type": "stream",
     "text": [
      "2020-04-20 17:16:39,354 Computing map for /data/gibson/Albertville.glb\n",
      "2020-04-20 17:16:45,939 Invalid map: /data/gibson/Albertville.glb/673\n",
      "2020-04-20 17:16:46,180 Computing map for /data/gibson/Albertville.glb\n"
     ]
    },
    {
     "name": "stdout",
     "output_type": "stream",
     "text": [
      "6710 \t TIME TO RESET:  \t 13.836770296096802\n",
      "6711 \t TIME TO STEP:  0.06633424758911133\n",
      "6712 \t TIME TO STEP:  0.05559682846069336\n",
      "6713 \t TIME TO STEP:  0.0440366268157959\n",
      "6714 \t TIME TO STEP:  0.019964933395385742\n",
      "6715 \t TIME TO STEP:  0.055701255798339844\n",
      "6716 \t TIME TO STEP:  0.01992511749267578\n",
      "6717 \t TIME TO STEP:  0.04180908203125\n",
      "6718 \t TIME TO STEP:  0.029530763626098633\n",
      "6719 \t TIME TO STEP:  0.02006363868713379\n"
     ]
    },
    {
     "name": "stderr",
     "output_type": "stream",
     "text": [
      "2020-04-20 17:16:53,497 Computing map for /data/gibson/Albertville.glb\n"
     ]
    },
    {
     "name": "stdout",
     "output_type": "stream",
     "text": [
      "6720 \t TIME TO RESET:  \t 6.8807713985443115\n",
      "6721 \t TIME TO STEP:  0.02843761444091797\n",
      "6722 \t TIME TO STEP:  0.020526647567749023\n",
      "6723 \t TIME TO STEP:  0.020238399505615234\n",
      "6724 \t TIME TO STEP:  0.020984172821044922\n",
      "6725 \t TIME TO STEP:  0.021219730377197266\n",
      "6726 \t TIME TO STEP:  0.02054572105407715\n",
      "6727 \t TIME TO STEP:  0.020798206329345703\n",
      "6728 \t TIME TO STEP:  0.020690441131591797\n",
      "6729 \t TIME TO STEP:  0.021126985549926758\n"
     ]
    },
    {
     "name": "stderr",
     "output_type": "stream",
     "text": [
      "2020-04-20 17:17:00,594 Computing map for /data/gibson/Albertville.glb\n"
     ]
    },
    {
     "name": "stdout",
     "output_type": "stream",
     "text": [
      "6730 \t TIME TO RESET:  \t 6.8424670696258545\n",
      "6731 \t TIME TO STEP:  0.07099676132202148\n",
      "6732 \t TIME TO STEP:  0.02054429054260254\n",
      "6733 \t TIME TO STEP:  0.020796775817871094\n",
      "6734 \t TIME TO STEP:  0.020578622817993164\n",
      "6735 \t TIME TO STEP:  0.020506858825683594\n",
      "6736 \t TIME TO STEP:  0.03222346305847168\n",
      "6737 \t TIME TO STEP:  0.02146458625793457\n",
      "6738 \t TIME TO STEP:  0.020708560943603516\n",
      "6739 \t TIME TO STEP:  0.02065300941467285\n"
     ]
    },
    {
     "name": "stderr",
     "output_type": "stream",
     "text": [
      "2020-04-20 17:17:07,666 Computing map for /data/gibson/Albertville.glb\n"
     ]
    },
    {
     "name": "stdout",
     "output_type": "stream",
     "text": [
      "6740 \t TIME TO RESET:  \t 6.801630735397339\n",
      "6741 \t TIME TO STEP:  0.028315067291259766\n",
      "6742 \t TIME TO STEP:  0.020775556564331055\n",
      "6743 \t TIME TO STEP:  0.045328617095947266\n",
      "6744 \t TIME TO STEP:  0.02012181282043457\n",
      "6745 \t TIME TO STEP:  0.02001500129699707\n",
      "6746 \t TIME TO STEP:  0.02019643783569336\n",
      "6747 \t TIME TO STEP:  0.020209789276123047\n",
      "6748 \t TIME TO STEP:  0.02082371711730957\n",
      "6749 \t TIME TO STEP:  0.02054619789123535\n"
     ]
    },
    {
     "name": "stderr",
     "output_type": "stream",
     "text": [
      "2020-04-20 17:17:14,684 Computing map for /data/gibson/Albertville.glb\n"
     ]
    },
    {
     "name": "stdout",
     "output_type": "stream",
     "text": [
      "6750 \t TIME TO RESET:  \t 6.785062789916992\n",
      "6751 \t TIME TO STEP:  0.038785696029663086\n",
      "6752 \t TIME TO STEP:  0.029621124267578125\n",
      "6753 \t TIME TO STEP:  0.037206411361694336\n",
      "6754 \t TIME TO STEP:  0.021932601928710938\n",
      "6755 \t TIME TO STEP:  0.06052541732788086\n",
      "6756 \t TIME TO STEP:  0.027330636978149414\n",
      "6757 \t TIME TO STEP:  0.026845693588256836\n",
      "6758 \t TIME TO STEP:  0.037271976470947266\n",
      "6759 \t TIME TO STEP:  0.021249055862426758\n"
     ]
    },
    {
     "name": "stderr",
     "output_type": "stream",
     "text": [
      "2020-04-20 17:17:21,866 Computing map for /data/gibson/Albertville.glb\n",
      "2020-04-20 17:17:28,405 Invalid map: /data/gibson/Albertville.glb/678\n",
      "2020-04-20 17:17:28,669 Computing map for /data/gibson/Albertville.glb\n"
     ]
    },
    {
     "name": "stdout",
     "output_type": "stream",
     "text": [
      "6760 \t TIME TO RESET:  \t 13.608593463897705\n",
      "6761 \t TIME TO STEP:  0.0707244873046875\n",
      "6762 \t TIME TO STEP:  0.021207094192504883\n",
      "6763 \t TIME TO STEP:  0.020737171173095703\n",
      "6764 \t TIME TO STEP:  0.02056288719177246\n",
      "6765 \t TIME TO STEP:  0.021341800689697266\n",
      "6766 \t TIME TO STEP:  0.021854877471923828\n",
      "6767 \t TIME TO STEP:  0.037421226501464844\n",
      "6768 \t TIME TO STEP:  0.021623611450195312\n",
      "6769 \t TIME TO STEP:  0.02063608169555664\n"
     ]
    },
    {
     "name": "stderr",
     "output_type": "stream",
     "text": [
      "2020-04-20 17:17:35,660 Computing map for /data/gibson/Albertville.glb\n",
      "2020-04-20 17:17:42,101 Invalid map: /data/gibson/Albertville.glb/679\n",
      "2020-04-20 17:17:42,363 Computing map for /data/gibson/Albertville.glb\n"
     ]
    },
    {
     "name": "stdout",
     "output_type": "stream",
     "text": [
      "6770 \t TIME TO RESET:  \t 13.538578033447266\n",
      "6771 \t TIME TO STEP:  0.03332710266113281\n",
      "6772 \t TIME TO STEP:  0.056298255920410156\n",
      "6773 \t TIME TO STEP:  0.029675722122192383\n",
      "6774 \t TIME TO STEP:  0.04279971122741699\n",
      "6775 \t TIME TO STEP:  0.019886255264282227\n",
      "6776 \t TIME TO STEP:  0.019764184951782227\n",
      "6777 \t TIME TO STEP:  0.06373143196105957\n",
      "6778 \t TIME TO STEP:  0.044667959213256836\n",
      "6779 \t TIME TO STEP:  0.021123409271240234\n"
     ]
    },
    {
     "name": "stderr",
     "output_type": "stream",
     "text": [
      "2020-04-20 17:17:49,530 Computing map for /data/gibson/Albertville.glb\n"
     ]
    },
    {
     "name": "stdout",
     "output_type": "stream",
     "text": [
      "6780 \t TIME TO RESET:  \t 6.789649248123169\n",
      "6781 \t TIME TO STEP:  0.022459030151367188\n",
      "6782 \t TIME TO STEP:  0.03660321235656738\n",
      "6783 \t TIME TO STEP:  0.04932403564453125\n",
      "6784 \t TIME TO STEP:  0.04929542541503906\n",
      "6785 \t TIME TO STEP:  0.051633596420288086\n",
      "6786 \t TIME TO STEP:  0.04549694061279297\n",
      "6787 \t TIME TO STEP:  0.019650697708129883\n",
      "6788 \t TIME TO STEP:  0.020022153854370117\n",
      "6789 \t TIME TO STEP:  0.0201723575592041\n"
     ]
    },
    {
     "name": "stderr",
     "output_type": "stream",
     "text": [
      "2020-04-20 17:17:56,632 Computing map for /data/gibson/Albertville.glb\n"
     ]
    },
    {
     "name": "stdout",
     "output_type": "stream",
     "text": [
      "6790 \t TIME TO RESET:  \t 6.711256742477417\n",
      "6791 \t TIME TO STEP:  0.043898582458496094\n",
      "6792 \t TIME TO STEP:  0.05496621131896973\n",
      "6793 \t TIME TO STEP:  0.05303788185119629\n",
      "6794 \t TIME TO STEP:  0.054535865783691406\n",
      "6795 \t TIME TO STEP:  0.05444145202636719\n",
      "6796 \t TIME TO STEP:  0.06540131568908691\n",
      "6797 \t TIME TO STEP:  0.05395102500915527\n",
      "6798 \t TIME TO STEP:  0.05286765098571777\n",
      "6799 \t TIME TO STEP:  0.11377954483032227\n"
     ]
    },
    {
     "name": "stderr",
     "output_type": "stream",
     "text": [
      "2020-04-20 17:18:03,881 Computing map for /data/gibson/Albertville.glb\n"
     ]
    },
    {
     "name": "stdout",
     "output_type": "stream",
     "text": [
      "6800 \t TIME TO RESET:  \t 6.81018590927124\n",
      "6801 \t TIME TO STEP:  0.0572054386138916\n",
      "6802 \t TIME TO STEP:  0.020877361297607422\n",
      "6803 \t TIME TO STEP:  0.020282268524169922\n",
      "6804 \t TIME TO STEP:  0.0200192928314209\n",
      "6805 \t TIME TO STEP:  0.031163930892944336\n",
      "6806 \t TIME TO STEP:  0.020980119705200195\n",
      "6807 \t TIME TO STEP:  0.020464658737182617\n",
      "6808 \t TIME TO STEP:  0.022003650665283203\n",
      "6809 \t TIME TO STEP:  0.020211219787597656\n"
     ]
    },
    {
     "name": "stderr",
     "output_type": "stream",
     "text": [
      "2020-04-20 17:18:10,936 Computing map for /data/gibson/Albertville.glb\n",
      "2020-04-20 17:18:17,328 Invalid map: /data/gibson/Albertville.glb/683\n",
      "2020-04-20 17:18:17,575 Computing map for /data/gibson/Albertville.glb\n"
     ]
    },
    {
     "name": "stdout",
     "output_type": "stream",
     "text": [
      "6810 \t TIME TO RESET:  \t 13.270263433456421\n",
      "6811 \t TIME TO STEP:  0.05498385429382324\n",
      "6812 \t TIME TO STEP:  0.02058267593383789\n",
      "6813 \t TIME TO STEP:  0.06640362739562988\n",
      "6814 \t TIME TO STEP:  0.020885467529296875\n",
      "6815 \t TIME TO STEP:  0.06278395652770996\n",
      "6816 \t TIME TO STEP:  0.049803733825683594\n",
      "6817 \t TIME TO STEP:  0.028000831604003906\n",
      "6818 \t TIME TO STEP:  0.019854068756103516\n",
      "6819 \t TIME TO STEP:  0.01981377601623535\n"
     ]
    },
    {
     "name": "stderr",
     "output_type": "stream",
     "text": [
      "2020-04-20 17:18:24,551 Computing map for /data/gibson/Albertville.glb\n",
      "2020-04-20 17:18:30,787 Invalid map: /data/gibson/Albertville.glb/684\n",
      "2020-04-20 17:18:31,042 Computing map for /data/gibson/Albertville.glb\n"
     ]
    },
    {
     "name": "stdout",
     "output_type": "stream",
     "text": [
      "6820 \t TIME TO RESET:  \t 12.995715141296387\n",
      "6821 \t TIME TO STEP:  0.05020928382873535\n",
      "6822 \t TIME TO STEP:  0.05459451675415039\n",
      "6823 \t TIME TO STEP:  0.06666088104248047\n",
      "6824 \t TIME TO STEP:  0.05166912078857422\n",
      "6825 \t TIME TO STEP:  0.04347825050354004\n",
      "6826 \t TIME TO STEP:  0.06366181373596191\n",
      "6827 \t TIME TO STEP:  0.02646660804748535\n",
      "6828 \t TIME TO STEP:  0.02013707160949707\n",
      "6829 \t TIME TO STEP:  0.019800186157226562\n"
     ]
    },
    {
     "name": "stderr",
     "output_type": "stream",
     "text": [
      "2020-04-20 17:18:37,945 Computing map for /data/gibson/Albertville.glb\n"
     ]
    },
    {
     "name": "stdout",
     "output_type": "stream",
     "text": [
      "6830 \t TIME TO RESET:  \t 6.558838844299316\n",
      "6831 \t TIME TO STEP:  0.036061763763427734\n",
      "6832 \t TIME TO STEP:  0.020220279693603516\n",
      "6833 \t TIME TO STEP:  0.04764056205749512\n",
      "6834 \t TIME TO STEP:  0.0199124813079834\n",
      "6835 \t TIME TO STEP:  0.019954681396484375\n",
      "6836 \t TIME TO STEP:  0.020023345947265625\n",
      "6837 \t TIME TO STEP:  0.035003662109375\n",
      "6838 \t TIME TO STEP:  0.0204317569732666\n",
      "6839 \t TIME TO STEP:  0.019931554794311523\n"
     ]
    },
    {
     "name": "stderr",
     "output_type": "stream",
     "text": [
      "2020-04-20 17:18:44,741 Computing map for /data/gibson/Albertville.glb\n",
      "2020-04-20 17:18:51,006 Invalid map: /data/gibson/Albertville.glb/686\n",
      "2020-04-20 17:18:51,259 Computing map for /data/gibson/Albertville.glb\n"
     ]
    },
    {
     "name": "stdout",
     "output_type": "stream",
     "text": [
      "6840 \t TIME TO RESET:  \t 13.146897077560425\n",
      "6841 \t TIME TO STEP:  0.05637335777282715\n",
      "6842 \t TIME TO STEP:  0.020263195037841797\n",
      "6843 \t TIME TO STEP:  0.05201888084411621\n",
      "6844 \t TIME TO STEP:  0.02026963233947754\n",
      "6845 \t TIME TO STEP:  0.020215272903442383\n",
      "6846 \t TIME TO STEP:  0.02032470703125\n",
      "6847 \t TIME TO STEP:  0.02296137809753418\n",
      "6848 \t TIME TO STEP:  0.020356416702270508\n",
      "6849 \t TIME TO STEP:  0.02160477638244629\n"
     ]
    },
    {
     "name": "stderr",
     "output_type": "stream",
     "text": [
      "2020-04-20 17:18:58,148 Computing map for /data/gibson/Albertville.glb\n",
      "2020-04-20 17:19:04,623 Invalid map: /data/gibson/Albertville.glb/687\n",
      "2020-04-20 17:19:04,870 Computing map for /data/gibson/Albertville.glb\n"
     ]
    },
    {
     "name": "stdout",
     "output_type": "stream",
     "text": [
      "6850 \t TIME TO RESET:  \t 13.605452299118042\n",
      "6851 \t TIME TO STEP:  0.05476665496826172\n",
      "6852 \t TIME TO STEP:  0.06662583351135254\n",
      "6853 \t TIME TO STEP:  0.020622730255126953\n",
      "6854 \t TIME TO STEP:  0.02079939842224121\n",
      "6855 \t TIME TO STEP:  0.02052903175354004\n",
      "6856 \t TIME TO STEP:  0.021090984344482422\n",
      "6857 \t TIME TO STEP:  0.021096467971801758\n",
      "6858 \t TIME TO STEP:  0.02091693878173828\n",
      "6859 \t TIME TO STEP:  0.020876169204711914\n"
     ]
    },
    {
     "name": "stderr",
     "output_type": "stream",
     "text": [
      "2020-04-20 17:19:12,033 Computing map for /data/gibson/Albertville.glb\n"
     ]
    },
    {
     "name": "stdout",
     "output_type": "stream",
     "text": [
      "6860 \t TIME TO RESET:  \t 6.915515661239624\n",
      "6861 \t TIME TO STEP:  0.029619932174682617\n",
      "6862 \t TIME TO STEP:  0.05341839790344238\n",
      "6863 \t TIME TO STEP:  0.0523374080657959\n",
      "6864 \t TIME TO STEP:  0.023786306381225586\n",
      "6865 \t TIME TO STEP:  0.020908594131469727\n",
      "6866 \t TIME TO STEP:  0.021266698837280273\n",
      "6867 \t TIME TO STEP:  0.02244734764099121\n",
      "6868 \t TIME TO STEP:  0.0880734920501709\n",
      "6869 \t TIME TO STEP:  0.04468488693237305\n"
     ]
    },
    {
     "name": "stderr",
     "output_type": "stream",
     "text": [
      "2020-04-20 17:19:19,331 Computing map for /data/gibson/Albertville.glb\n",
      "2020-04-20 17:19:25,954 Invalid map: /data/gibson/Albertville.glb/689\n",
      "2020-04-20 17:19:26,191 Computing map for /data/gibson/Albertville.glb\n"
     ]
    },
    {
     "name": "stdout",
     "output_type": "stream",
     "text": [
      "6870 \t TIME TO RESET:  \t 13.767231941223145\n",
      "6871 \t TIME TO STEP:  0.05098390579223633\n",
      "6872 \t TIME TO STEP:  0.04381084442138672\n",
      "6873 \t TIME TO STEP:  0.07410621643066406\n",
      "6874 \t TIME TO STEP:  0.0758969783782959\n",
      "6875 \t TIME TO STEP:  0.024664878845214844\n",
      "6876 \t TIME TO STEP:  0.04257631301879883\n",
      "6877 \t TIME TO STEP:  0.020795106887817383\n",
      "6878 \t TIME TO STEP:  0.024161577224731445\n",
      "6879 \t TIME TO STEP:  0.026450395584106445\n"
     ]
    },
    {
     "name": "stderr",
     "output_type": "stream",
     "text": [
      "2020-04-20 17:19:33,462 Computing map for /data/gibson/Albertville.glb\n"
     ]
    },
    {
     "name": "stdout",
     "output_type": "stream",
     "text": [
      "6880 \t TIME TO RESET:  \t 6.6431825160980225\n",
      "6881 \t TIME TO STEP:  0.028537511825561523\n",
      "6882 \t TIME TO STEP:  0.019932031631469727\n",
      "6883 \t TIME TO STEP:  0.0200960636138916\n",
      "6884 \t TIME TO STEP:  0.02019476890563965\n",
      "6885 \t TIME TO STEP:  0.0201265811920166\n",
      "6886 \t TIME TO STEP:  0.02020573616027832\n",
      "6887 \t TIME TO STEP:  0.020215511322021484\n",
      "6888 \t TIME TO STEP:  0.020129680633544922\n",
      "6889 \t TIME TO STEP:  0.020192384719848633\n"
     ]
    },
    {
     "name": "stderr",
     "output_type": "stream",
     "text": [
      "2020-04-20 17:19:40,312 Computing map for /data/gibson/Albertville.glb\n"
     ]
    },
    {
     "name": "stdout",
     "output_type": "stream",
     "text": [
      "6890 \t TIME TO RESET:  \t 6.920865058898926\n",
      "6891 \t TIME TO STEP:  0.03648567199707031\n",
      "6892 \t TIME TO STEP:  0.019907474517822266\n",
      "6893 \t TIME TO STEP:  0.02029561996459961\n",
      "6894 \t TIME TO STEP:  0.020532608032226562\n",
      "6895 \t TIME TO STEP:  0.02071547508239746\n",
      "6896 \t TIME TO STEP:  0.02108311653137207\n",
      "6897 \t TIME TO STEP:  0.02124762535095215\n",
      "6898 \t TIME TO STEP:  0.021242380142211914\n",
      "6899 \t TIME TO STEP:  0.020737409591674805\n"
     ]
    },
    {
     "name": "stderr",
     "output_type": "stream",
     "text": [
      "2020-04-20 17:19:47,422 Computing map for /data/gibson/Albertville.glb\n"
     ]
    },
    {
     "name": "stdout",
     "output_type": "stream",
     "text": [
      "6900 \t TIME TO RESET:  \t 6.749775409698486\n",
      "6901 \t TIME TO STEP:  0.023735523223876953\n",
      "6902 \t TIME TO STEP:  0.021382570266723633\n",
      "6903 \t TIME TO STEP:  0.020208358764648438\n",
      "6904 \t TIME TO STEP:  0.02029705047607422\n",
      "6905 \t TIME TO STEP:  0.020908355712890625\n",
      "6906 \t TIME TO STEP:  0.037221431732177734\n",
      "6907 \t TIME TO STEP:  0.05334043502807617\n",
      "6908 \t TIME TO STEP:  0.04578208923339844\n",
      "6909 \t TIME TO STEP:  0.028493642807006836\n"
     ]
    },
    {
     "name": "stderr",
     "output_type": "stream",
     "text": [
      "2020-04-20 17:19:54,418 Computing map for /data/gibson/Albertville.glb\n",
      "2020-04-20 17:20:00,899 Invalid map: /data/gibson/Albertville.glb/693\n",
      "2020-04-20 17:20:01,128 Computing map for /data/gibson/Albertville.glb\n"
     ]
    },
    {
     "name": "stdout",
     "output_type": "stream",
     "text": [
      "6910 \t TIME TO RESET:  \t 13.369431734085083\n",
      "6911 \t TIME TO STEP:  0.05541276931762695\n",
      "6912 \t TIME TO STEP:  0.02110004425048828\n",
      "6913 \t TIME TO STEP:  0.020656108856201172\n",
      "6914 \t TIME TO STEP:  0.020091772079467773\n",
      "6915 \t TIME TO STEP:  0.021464109420776367\n",
      "6916 \t TIME TO STEP:  0.02039051055908203\n",
      "6917 \t TIME TO STEP:  0.020450353622436523\n",
      "6918 \t TIME TO STEP:  0.019991636276245117\n",
      "6919 \t TIME TO STEP:  0.020748376846313477\n"
     ]
    },
    {
     "name": "stderr",
     "output_type": "stream",
     "text": [
      "2020-04-20 17:20:08,006 Computing map for /data/gibson/Albertville.glb\n",
      "2020-04-20 17:20:14,375 Invalid map: /data/gibson/Albertville.glb/694\n",
      "2020-04-20 17:20:14,649 Computing map for /data/gibson/Albertville.glb\n",
      "2020-04-20 17:20:21,071 Invalid map: /data/gibson/Albertville.glb/694\n",
      "2020-04-20 17:20:21,328 Computing map for /data/gibson/Albertville.glb\n",
      "2020-04-20 17:20:27,492 Invalid map: /data/gibson/Albertville.glb/694\n",
      "2020-04-20 17:20:27,719 Computing map for /data/gibson/Albertville.glb\n"
     ]
    },
    {
     "name": "stdout",
     "output_type": "stream",
     "text": [
      "6920 \t TIME TO RESET:  \t 26.22363567352295\n",
      "6921 \t TIME TO STEP:  0.08552050590515137\n",
      "6922 \t TIME TO STEP:  0.06823134422302246\n",
      "6923 \t TIME TO STEP:  0.02014946937561035\n",
      "6924 \t TIME TO STEP:  0.03775930404663086\n",
      "6925 \t TIME TO STEP:  0.06696534156799316\n",
      "6926 \t TIME TO STEP:  0.061749935150146484\n",
      "6927 \t TIME TO STEP:  0.049887895584106445\n",
      "6928 \t TIME TO STEP:  0.019512653350830078\n",
      "6929 \t TIME TO STEP:  0.01980447769165039\n"
     ]
    },
    {
     "name": "stderr",
     "output_type": "stream",
     "text": [
      "2020-04-20 17:20:34,689 Computing map for /data/gibson/Albertville.glb\n",
      "2020-04-20 17:20:41,061 Invalid map: /data/gibson/Albertville.glb/695\n",
      "2020-04-20 17:20:41,307 Computing map for /data/gibson/Albertville.glb\n"
     ]
    },
    {
     "name": "stdout",
     "output_type": "stream",
     "text": [
      "6930 \t TIME TO RESET:  \t 13.275468111038208\n",
      "6931 \t TIME TO STEP:  0.058489084243774414\n",
      "6932 \t TIME TO STEP:  0.05037999153137207\n",
      "6933 \t TIME TO STEP:  0.03181195259094238\n",
      "6934 \t TIME TO STEP:  0.020654678344726562\n",
      "6935 \t TIME TO STEP:  0.02040886878967285\n",
      "6936 \t TIME TO STEP:  0.020543336868286133\n",
      "6937 \t TIME TO STEP:  0.021210193634033203\n",
      "6938 \t TIME TO STEP:  0.02113509178161621\n",
      "6939 \t TIME TO STEP:  0.020920991897583008\n"
     ]
    },
    {
     "name": "stderr",
     "output_type": "stream",
     "text": [
      "2020-04-20 17:20:48,197 Computing map for /data/gibson/Albertville.glb\n"
     ]
    },
    {
     "name": "stdout",
     "output_type": "stream",
     "text": [
      "6940 \t TIME TO RESET:  \t 6.762082815170288\n",
      "6941 \t TIME TO STEP:  0.02212357521057129\n",
      "6942 \t TIME TO STEP:  0.0466156005859375\n",
      "6943 \t TIME TO STEP:  0.020455121994018555\n",
      "6944 \t TIME TO STEP:  0.020209312438964844\n",
      "6945 \t TIME TO STEP:  0.029244422912597656\n",
      "6946 \t TIME TO STEP:  0.020276784896850586\n",
      "6947 \t TIME TO STEP:  0.020149946212768555\n",
      "6948 \t TIME TO STEP:  0.02033209800720215\n",
      "6949 \t TIME TO STEP:  0.020874977111816406\n"
     ]
    },
    {
     "name": "stderr",
     "output_type": "stream",
     "text": [
      "2020-04-20 17:20:55,189 Computing map for /data/gibson/Albertville.glb\n"
     ]
    },
    {
     "name": "stdout",
     "output_type": "stream",
     "text": [
      "6950 \t TIME TO RESET:  \t 6.638598203659058\n",
      "6951 \t TIME TO STEP:  0.029958724975585938\n",
      "6952 \t TIME TO STEP:  0.0320887565612793\n",
      "6953 \t TIME TO STEP:  0.021200180053710938\n",
      "6954 \t TIME TO STEP:  0.021204233169555664\n",
      "6955 \t TIME TO STEP:  0.020705699920654297\n",
      "6956 \t TIME TO STEP:  0.02073836326599121\n",
      "6957 \t TIME TO STEP:  0.020780563354492188\n",
      "6958 \t TIME TO STEP:  0.020586013793945312\n",
      "6959 \t TIME TO STEP:  0.02149176597595215\n"
     ]
    },
    {
     "name": "stderr",
     "output_type": "stream",
     "text": [
      "2020-04-20 17:21:02,034 Computing map for /data/gibson/Albertville.glb\n"
     ]
    },
    {
     "name": "stdout",
     "output_type": "stream",
     "text": [
      "6960 \t TIME TO RESET:  \t 6.654213905334473\n",
      "6961 \t TIME TO STEP:  0.03859734535217285\n",
      "6962 \t TIME TO STEP:  0.054259300231933594\n",
      "6963 \t TIME TO STEP:  0.06989336013793945\n",
      "6964 \t TIME TO STEP:  0.028201580047607422\n",
      "6965 \t TIME TO STEP:  0.02155280113220215\n",
      "6966 \t TIME TO STEP:  0.0204312801361084\n",
      "6967 \t TIME TO STEP:  0.020319700241088867\n",
      "6968 \t TIME TO STEP:  0.03995180130004883\n",
      "6969 \t TIME TO STEP:  0.020460844039916992\n"
     ]
    },
    {
     "name": "stderr",
     "output_type": "stream",
     "text": [
      "2020-04-20 17:21:09,028 Computing map for /data/gibson/Albertville.glb\n",
      "2020-04-20 17:21:15,313 Invalid map: /data/gibson/Albertville.glb/699\n",
      "2020-04-20 17:21:15,583 Computing map for /data/gibson/Albertville.glb\n",
      "2020-04-20 17:21:21,729 Invalid map: /data/gibson/Albertville.glb/699\n",
      "2020-04-20 17:21:22,000 Computing map for /data/gibson/Albertville.glb\n",
      "2020-04-20 17:21:28,250 Invalid map: /data/gibson/Albertville.glb/699\n",
      "2020-04-20 17:21:28,528 Computing map for /data/gibson/Albertville.glb\n"
     ]
    },
    {
     "name": "stdout",
     "output_type": "stream",
     "text": [
      "6970 \t TIME TO RESET:  \t 26.05626344680786\n",
      "6971 \t TIME TO STEP:  0.09650063514709473\n",
      "6972 \t TIME TO STEP:  0.0534360408782959\n",
      "6973 \t TIME TO STEP:  0.02049541473388672\n",
      "6974 \t TIME TO STEP:  0.020565032958984375\n",
      "6975 \t TIME TO STEP:  0.020350933074951172\n",
      "6976 \t TIME TO STEP:  0.020375728607177734\n",
      "6977 \t TIME TO STEP:  0.020350933074951172\n",
      "6978 \t TIME TO STEP:  0.020748615264892578\n",
      "6979 \t TIME TO STEP:  0.032065629959106445\n"
     ]
    },
    {
     "name": "stderr",
     "output_type": "stream",
     "text": [
      "2020-04-20 17:21:35,386 Computing map for /data/gibson/Albertville.glb\n"
     ]
    },
    {
     "name": "stdout",
     "output_type": "stream",
     "text": [
      "6980 \t TIME TO RESET:  \t 6.516517162322998\n",
      "6981 \t TIME TO STEP:  0.08949041366577148\n",
      "6982 \t TIME TO STEP:  0.0742502212524414\n",
      "6983 \t TIME TO STEP:  0.06791830062866211\n",
      "6984 \t TIME TO STEP:  0.028605222702026367\n",
      "6985 \t TIME TO STEP:  0.026914119720458984\n",
      "6986 \t TIME TO STEP:  0.035925865173339844\n",
      "6987 \t TIME TO STEP:  0.019982099533081055\n",
      "6988 \t TIME TO STEP:  0.020305871963500977\n",
      "6989 \t TIME TO STEP:  0.02047896385192871\n"
     ]
    },
    {
     "name": "stderr",
     "output_type": "stream",
     "text": [
      "2020-04-20 17:21:42,288 Computing map for /data/gibson/Albertville.glb\n"
     ]
    },
    {
     "name": "stdout",
     "output_type": "stream",
     "text": [
      "6990 \t TIME TO RESET:  \t 6.6064581871032715\n",
      "6991 \t TIME TO STEP:  0.02380204200744629\n",
      "6992 \t TIME TO STEP:  0.0507054328918457\n",
      "6993 \t TIME TO STEP:  0.03059697151184082\n",
      "6994 \t TIME TO STEP:  0.042963266372680664\n",
      "6995 \t TIME TO STEP:  0.05465507507324219\n",
      "6996 \t TIME TO STEP:  0.04914975166320801\n",
      "6997 \t TIME TO STEP:  0.019902944564819336\n",
      "6998 \t TIME TO STEP:  0.019759178161621094\n",
      "6999 \t TIME TO STEP:  0.019910335540771484\n"
     ]
    },
    {
     "name": "stderr",
     "output_type": "stream",
     "text": [
      "2020-04-20 17:21:49,194 Computing map for /data/gibson/Albertville.glb\n",
      "2020-04-20 17:21:55,461 Invalid map: /data/gibson/Albertville.glb/702\n",
      "2020-04-20 17:21:55,692 Computing map for /data/gibson/Albertville.glb\n"
     ]
    },
    {
     "name": "stdout",
     "output_type": "stream",
     "text": [
      "7000 \t TIME TO RESET:  \t 13.048040628433228\n",
      "7001 \t TIME TO STEP:  0.03451037406921387\n",
      "7002 \t TIME TO STEP:  0.020808696746826172\n",
      "7003 \t TIME TO STEP:  0.020206212997436523\n",
      "7004 \t TIME TO STEP:  0.01997852325439453\n",
      "7005 \t TIME TO STEP:  0.020225048065185547\n",
      "7006 \t TIME TO STEP:  0.020064592361450195\n",
      "7007 \t TIME TO STEP:  0.020398855209350586\n",
      "7008 \t TIME TO STEP:  0.04424142837524414\n",
      "7009 \t TIME TO STEP:  0.05596733093261719\n"
     ]
    },
    {
     "name": "stderr",
     "output_type": "stream",
     "text": [
      "2020-04-20 17:22:02,534 Computing map for /data/gibson/Albertville.glb\n"
     ]
    },
    {
     "name": "stdout",
     "output_type": "stream",
     "text": [
      "7010 \t TIME TO RESET:  \t 6.641628980636597\n",
      "7011 \t TIME TO STEP:  0.08608293533325195\n",
      "7012 \t TIME TO STEP:  0.02983689308166504\n",
      "7013 \t TIME TO STEP:  0.036355018615722656\n",
      "7014 \t TIME TO STEP:  0.0202486515045166\n",
      "7015 \t TIME TO STEP:  0.055639028549194336\n",
      "7016 \t TIME TO STEP:  0.06112933158874512\n",
      "7017 \t TIME TO STEP:  0.0295712947845459\n",
      "7018 \t TIME TO STEP:  0.02067279815673828\n",
      "7019 \t TIME TO STEP:  0.020962238311767578\n"
     ]
    },
    {
     "name": "stderr",
     "output_type": "stream",
     "text": [
      "2020-04-20 17:22:09,514 Computing map for /data/gibson/Albertville.glb\n",
      "2020-04-20 17:22:15,824 Invalid map: /data/gibson/Albertville.glb/704\n",
      "2020-04-20 17:22:16,054 Computing map for /data/gibson/Albertville.glb\n"
     ]
    },
    {
     "name": "stdout",
     "output_type": "stream",
     "text": [
      "7020 \t TIME TO RESET:  \t 13.132031202316284\n",
      "7021 \t TIME TO STEP:  0.04607224464416504\n",
      "7022 \t TIME TO STEP:  0.020131826400756836\n",
      "7023 \t TIME TO STEP:  0.02004718780517578\n",
      "7024 \t TIME TO STEP:  0.020198822021484375\n",
      "7025 \t TIME TO STEP:  0.058751821517944336\n",
      "7026 \t TIME TO STEP:  0.022605180740356445\n",
      "7027 \t TIME TO STEP:  0.0227816104888916\n",
      "7028 \t TIME TO STEP:  0.02250385284423828\n",
      "7029 \t TIME TO STEP:  0.022046566009521484\n"
     ]
    },
    {
     "name": "stderr",
     "output_type": "stream",
     "text": [
      "2020-04-20 17:22:22,929 Computing map for /data/gibson/Albertville.glb\n"
     ]
    },
    {
     "name": "stdout",
     "output_type": "stream",
     "text": [
      "7030 \t TIME TO RESET:  \t 6.582874774932861\n",
      "7031 \t TIME TO STEP:  0.032058000564575195\n",
      "7032 \t TIME TO STEP:  0.022229671478271484\n",
      "7033 \t TIME TO STEP:  0.03362131118774414\n",
      "7034 \t TIME TO STEP:  0.05789923667907715\n",
      "7035 \t TIME TO STEP:  0.020421266555786133\n",
      "7036 \t TIME TO STEP:  0.02006673812866211\n",
      "7037 \t TIME TO STEP:  0.02015972137451172\n",
      "7038 \t TIME TO STEP:  0.02026081085205078\n",
      "7039 \t TIME TO STEP:  0.020216941833496094\n"
     ]
    },
    {
     "name": "stderr",
     "output_type": "stream",
     "text": [
      "2020-04-20 17:22:29,726 Computing map for /data/gibson/Albertville.glb\n"
     ]
    },
    {
     "name": "stdout",
     "output_type": "stream",
     "text": [
      "7040 \t TIME TO RESET:  \t 6.602999448776245\n",
      "7041 \t TIME TO STEP:  0.08350944519042969\n",
      "7042 \t TIME TO STEP:  0.05185532569885254\n",
      "7043 \t TIME TO STEP:  0.02086496353149414\n",
      "7044 \t TIME TO STEP:  0.021065950393676758\n",
      "7045 \t TIME TO STEP:  0.029849529266357422\n",
      "7046 \t TIME TO STEP:  0.020157814025878906\n",
      "7047 \t TIME TO STEP:  0.020517826080322266\n",
      "7048 \t TIME TO STEP:  0.019530534744262695\n",
      "7049 \t TIME TO STEP:  0.020224332809448242\n"
     ]
    },
    {
     "name": "stderr",
     "output_type": "stream",
     "text": [
      "2020-04-20 17:22:36,610 Computing map for /data/gibson/Albertville.glb\n"
     ]
    },
    {
     "name": "stdout",
     "output_type": "stream",
     "text": [
      "7050 \t TIME TO RESET:  \t 6.505553483963013\n",
      "7051 \t TIME TO STEP:  0.06499075889587402\n",
      "7052 \t TIME TO STEP:  0.06413984298706055\n",
      "7053 \t TIME TO STEP:  0.045705318450927734\n",
      "7054 \t TIME TO STEP:  0.021332740783691406\n",
      "7055 \t TIME TO STEP:  0.02190375328063965\n",
      "7056 \t TIME TO STEP:  0.021159887313842773\n",
      "7057 \t TIME TO STEP:  0.020143747329711914\n",
      "7058 \t TIME TO STEP:  0.020169734954833984\n",
      "7059 \t TIME TO STEP:  0.020072460174560547\n"
     ]
    },
    {
     "name": "stderr",
     "output_type": "stream",
     "text": [
      "2020-04-20 17:22:43,479 Computing map for /data/gibson/Albertville.glb\n"
     ]
    },
    {
     "name": "stdout",
     "output_type": "stream",
     "text": [
      "7060 \t TIME TO RESET:  \t 6.618559837341309\n",
      "7061 \t TIME TO STEP:  0.033763885498046875\n",
      "7062 \t TIME TO STEP:  0.030102252960205078\n",
      "7063 \t TIME TO STEP:  0.020620107650756836\n",
      "7064 \t TIME TO STEP:  0.02788996696472168\n",
      "7065 \t TIME TO STEP:  0.01999378204345703\n",
      "7066 \t TIME TO STEP:  0.02056598663330078\n",
      "7067 \t TIME TO STEP:  0.020166873931884766\n",
      "7068 \t TIME TO STEP:  0.01970076560974121\n",
      "7069 \t TIME TO STEP:  0.022006750106811523\n"
     ]
    },
    {
     "name": "stderr",
     "output_type": "stream",
     "text": [
      "2020-04-20 17:22:50,280 Computing map for /data/gibson/Albertville.glb\n"
     ]
    },
    {
     "name": "stdout",
     "output_type": "stream",
     "text": [
      "7070 \t TIME TO RESET:  \t 6.636605739593506\n",
      "7071 \t TIME TO STEP:  0.05821847915649414\n",
      "7072 \t TIME TO STEP:  0.030193567276000977\n",
      "7073 \t TIME TO STEP:  0.052437543869018555\n",
      "7074 \t TIME TO STEP:  0.036058902740478516\n",
      "7075 \t TIME TO STEP:  0.020006656646728516\n",
      "7076 \t TIME TO STEP:  0.021869421005249023\n",
      "7077 \t TIME TO STEP:  0.027902841567993164\n",
      "7078 \t TIME TO STEP:  0.01938486099243164\n",
      "7079 \t TIME TO STEP:  0.027001619338989258\n"
     ]
    },
    {
     "name": "stderr",
     "output_type": "stream",
     "text": [
      "2020-04-20 17:22:57,199 Computing map for /data/gibson/Albertville.glb\n"
     ]
    },
    {
     "name": "stdout",
     "output_type": "stream",
     "text": [
      "7080 \t TIME TO RESET:  \t 6.552314043045044\n",
      "7081 \t TIME TO STEP:  0.03981184959411621\n",
      "7082 \t TIME TO STEP:  0.02017664909362793\n",
      "7083 \t TIME TO STEP:  0.026631832122802734\n",
      "7084 \t TIME TO STEP:  0.026647090911865234\n",
      "7085 \t TIME TO STEP:  0.019684553146362305\n",
      "7086 \t TIME TO STEP:  0.01947021484375\n",
      "7087 \t TIME TO STEP:  0.01942610740661621\n",
      "7088 \t TIME TO STEP:  0.019883394241333008\n",
      "7089 \t TIME TO STEP:  0.020368099212646484\n"
     ]
    },
    {
     "name": "stderr",
     "output_type": "stream",
     "text": [
      "2020-04-20 17:23:03,940 Computing map for /data/gibson/Albertville.glb\n",
      "2020-04-20 17:23:10,522 Invalid map: /data/gibson/Albertville.glb/711\n",
      "2020-04-20 17:23:10,798 Computing map for /data/gibson/Albertville.glb\n",
      "2020-04-20 17:23:17,303 Invalid map: /data/gibson/Albertville.glb/711\n",
      "2020-04-20 17:23:17,601 Computing map for /data/gibson/Albertville.glb\n",
      "2020-04-20 17:23:24,237 Invalid map: /data/gibson/Albertville.glb/711\n",
      "2020-04-20 17:23:24,524 Computing map for /data/gibson/Albertville.glb\n"
     ]
    },
    {
     "name": "stdout",
     "output_type": "stream",
     "text": [
      "7090 \t TIME TO RESET:  \t 27.67195439338684\n",
      "7091 \t TIME TO STEP:  0.03966546058654785\n",
      "7092 \t TIME TO STEP:  0.03706932067871094\n",
      "7093 \t TIME TO STEP:  0.045996904373168945\n",
      "7094 \t TIME TO STEP:  0.02454543113708496\n",
      "7095 \t TIME TO STEP:  0.02355790138244629\n",
      "7096 \t TIME TO STEP:  0.02465367317199707\n",
      "7097 \t TIME TO STEP:  0.02419281005859375\n",
      "7098 \t TIME TO STEP:  0.023411989212036133\n",
      "7099 \t TIME TO STEP:  0.02368640899658203\n"
     ]
    },
    {
     "name": "stderr",
     "output_type": "stream",
     "text": [
      "2020-04-20 17:23:31,942 Computing map for /data/gibson/Albertville.glb\n"
     ]
    },
    {
     "name": "stdout",
     "output_type": "stream",
     "text": [
      "7100 \t TIME TO RESET:  \t 7.354284763336182\n",
      "7101 \t TIME TO STEP:  0.047100067138671875\n",
      "7102 \t TIME TO STEP:  0.023993968963623047\n",
      "7103 \t TIME TO STEP:  0.02547311782836914\n",
      "7104 \t TIME TO STEP:  0.0330500602722168\n",
      "7105 \t TIME TO STEP:  0.04008340835571289\n",
      "7106 \t TIME TO STEP:  0.03914451599121094\n",
      "7107 \t TIME TO STEP:  0.02426624298095703\n",
      "7108 \t TIME TO STEP:  0.025308609008789062\n",
      "7109 \t TIME TO STEP:  0.024541139602661133\n"
     ]
    },
    {
     "name": "stderr",
     "output_type": "stream",
     "text": [
      "2020-04-20 17:23:39,610 Computing map for /data/gibson/Albertville.glb\n"
     ]
    },
    {
     "name": "stdout",
     "output_type": "stream",
     "text": [
      "7110 \t TIME TO RESET:  \t 7.687330961227417\n",
      "7111 \t TIME TO STEP:  0.08549141883850098\n",
      "7112 \t TIME TO STEP:  0.04346966743469238\n",
      "7113 \t TIME TO STEP:  0.023450136184692383\n",
      "7114 \t TIME TO STEP:  0.02335953712463379\n",
      "7115 \t TIME TO STEP:  0.023511409759521484\n",
      "7116 \t TIME TO STEP:  0.03671097755432129\n",
      "7117 \t TIME TO STEP:  0.02304673194885254\n",
      "7118 \t TIME TO STEP:  0.022213459014892578\n",
      "7119 \t TIME TO STEP:  0.022594690322875977\n"
     ]
    },
    {
     "name": "stderr",
     "output_type": "stream",
     "text": [
      "2020-04-20 17:23:47,601 Computing map for /data/gibson/Albertville.glb\n",
      "2020-04-20 17:23:55,218 Invalid map: /data/gibson/Albertville.glb/714\n",
      "2020-04-20 17:23:55,487 Computing map for /data/gibson/Albertville.glb\n"
     ]
    },
    {
     "name": "stdout",
     "output_type": "stream",
     "text": [
      "7120 \t TIME TO RESET:  \t 15.958861112594604\n",
      "7121 \t TIME TO STEP:  0.06578707695007324\n",
      "7122 \t TIME TO STEP:  0.058264732360839844\n",
      "7123 \t TIME TO STEP:  0.07059264183044434\n",
      "7124 \t TIME TO STEP:  0.02710700035095215\n",
      "7125 \t TIME TO STEP:  0.06990194320678711\n",
      "7126 \t TIME TO STEP:  0.031001806259155273\n",
      "7127 \t TIME TO STEP:  0.10034346580505371\n",
      "7128 \t TIME TO STEP:  0.07515931129455566\n",
      "7129 \t TIME TO STEP:  0.050594329833984375\n"
     ]
    },
    {
     "name": "stderr",
     "output_type": "stream",
     "text": [
      "2020-04-20 17:24:04,086 Computing map for /data/gibson/Albertville.glb\n",
      "2020-04-20 17:24:12,769 Invalid map: /data/gibson/Albertville.glb/715\n",
      "2020-04-20 17:24:13,190 Computing map for /data/gibson/Albertville.glb\n",
      "2020-04-20 17:24:23,065 Invalid map: /data/gibson/Albertville.glb/715\n",
      "2020-04-20 17:24:23,510 Computing map for /data/gibson/Albertville.glb\n",
      "2020-04-20 17:24:33,991 Invalid map: /data/gibson/Albertville.glb/715\n",
      "2020-04-20 17:24:34,392 Computing map for /data/gibson/Albertville.glb\n"
     ]
    },
    {
     "name": "stdout",
     "output_type": "stream",
     "text": [
      "7130 \t TIME TO RESET:  \t 42.21861672401428\n",
      "7131 \t TIME TO STEP:  0.06486701965332031\n",
      "7132 \t TIME TO STEP:  0.04256153106689453\n",
      "7133 \t TIME TO STEP:  0.04030776023864746\n",
      "7134 \t TIME TO STEP:  0.03012537956237793\n",
      "7135 \t TIME TO STEP:  0.037038564682006836\n",
      "7136 \t TIME TO STEP:  0.054761648178100586\n",
      "7137 \t TIME TO STEP:  0.03904557228088379\n",
      "7138 \t TIME TO STEP:  0.03781485557556152\n",
      "7139 \t TIME TO STEP:  0.03759622573852539\n"
     ]
    },
    {
     "name": "stderr",
     "output_type": "stream",
     "text": [
      "2020-04-20 17:24:46,898 Computing map for /data/gibson/Albertville.glb\n"
     ]
    },
    {
     "name": "stdout",
     "output_type": "stream",
     "text": [
      "7140 \t TIME TO RESET:  \t 12.087400436401367\n",
      "7141 \t TIME TO STEP:  0.03981161117553711\n",
      "7142 \t TIME TO STEP:  0.03863120079040527\n",
      "7143 \t TIME TO STEP:  0.0373382568359375\n",
      "7144 \t TIME TO STEP:  0.037142276763916016\n",
      "7145 \t TIME TO STEP:  0.0386505126953125\n",
      "7146 \t TIME TO STEP:  0.056394338607788086\n",
      "7147 \t TIME TO STEP:  0.06317019462585449\n",
      "7148 \t TIME TO STEP:  0.11019015312194824\n",
      "7149 \t TIME TO STEP:  0.05765509605407715\n"
     ]
    },
    {
     "name": "stderr",
     "output_type": "stream",
     "text": [
      "2020-04-20 17:24:59,479 Computing map for /data/gibson/Albertville.glb\n"
     ]
    },
    {
     "name": "stdout",
     "output_type": "stream",
     "text": [
      "7150 \t TIME TO RESET:  \t 12.69779372215271\n",
      "7151 \t TIME TO STEP:  0.07312464714050293\n",
      "7152 \t TIME TO STEP:  0.05779099464416504\n",
      "7153 \t TIME TO STEP:  0.1083064079284668\n",
      "7154 \t TIME TO STEP:  0.0910799503326416\n",
      "7155 \t TIME TO STEP:  0.10038042068481445\n",
      "7156 \t TIME TO STEP:  0.07580065727233887\n",
      "7157 \t TIME TO STEP:  0.039412498474121094\n",
      "7158 \t TIME TO STEP:  0.04051709175109863\n",
      "7159 \t TIME TO STEP:  0.04483199119567871\n"
     ]
    },
    {
     "name": "stderr",
     "output_type": "stream",
     "text": [
      "2020-04-20 17:25:12,766 Computing map for /data/gibson/Albertville.glb\n",
      "2020-04-20 17:25:25,123 Invalid map: /data/gibson/Albertville.glb/718\n",
      "2020-04-20 17:25:25,670 Computing map for /data/gibson/Albertville.glb\n",
      "2020-04-20 17:25:38,320 Invalid map: /data/gibson/Albertville.glb/718\n",
      "2020-04-20 17:25:38,859 Computing map for /data/gibson/Albertville.glb\n"
     ]
    },
    {
     "name": "stdout",
     "output_type": "stream",
     "text": [
      "7160 \t TIME TO RESET:  \t 39.297993183135986\n",
      "7161 \t TIME TO STEP:  0.13198184967041016\n",
      "7162 \t TIME TO STEP:  0.15025997161865234\n",
      "7163 \t TIME TO STEP:  0.13398361206054688\n",
      "7164 \t TIME TO STEP:  0.0745859146118164\n",
      "7165 \t TIME TO STEP:  0.04027223587036133\n",
      "7166 \t TIME TO STEP:  0.04418635368347168\n",
      "7167 \t TIME TO STEP:  0.05054426193237305\n",
      "7168 \t TIME TO STEP:  0.038353681564331055\n",
      "7169 \t TIME TO STEP:  0.040194034576416016\n"
     ]
    },
    {
     "name": "stderr",
     "output_type": "stream",
     "text": [
      "2020-04-20 17:25:52,877 Computing map for /data/gibson/Albertville.glb\n"
     ]
    },
    {
     "name": "stdout",
     "output_type": "stream",
     "text": [
      "7170 \t TIME TO RESET:  \t 13.676390409469604\n",
      "7171 \t TIME TO STEP:  0.07515621185302734\n",
      "7172 \t TIME TO STEP:  0.08754301071166992\n",
      "7173 \t TIME TO STEP:  0.04982709884643555\n",
      "7174 \t TIME TO STEP:  0.054999589920043945\n",
      "7175 \t TIME TO STEP:  0.05029463768005371\n",
      "7176 \t TIME TO STEP:  0.05942106246948242\n",
      "7177 \t TIME TO STEP:  0.047728776931762695\n",
      "7178 \t TIME TO STEP:  0.04562258720397949\n",
      "7179 \t TIME TO STEP:  0.04399609565734863\n"
     ]
    },
    {
     "name": "stderr",
     "output_type": "stream",
     "text": [
      "2020-04-20 17:26:07,061 Computing map for /data/gibson/Albertville.glb\n",
      "2020-04-20 17:26:20,310 Invalid map: /data/gibson/Albertville.glb/720\n",
      "2020-04-20 17:26:20,867 Computing map for /data/gibson/Albertville.glb\n"
     ]
    },
    {
     "name": "stdout",
     "output_type": "stream",
     "text": [
      "7180 \t TIME TO RESET:  \t 27.453550815582275\n",
      "7181 \t TIME TO STEP:  0.08623671531677246\n",
      "7182 \t TIME TO STEP:  0.050287723541259766\n",
      "7183 \t TIME TO STEP:  0.0478205680847168\n",
      "7184 \t TIME TO STEP:  0.05036640167236328\n",
      "7185 \t TIME TO STEP:  0.04613614082336426\n",
      "7186 \t TIME TO STEP:  0.05524802207946777\n",
      "7187 \t TIME TO STEP:  0.049503326416015625\n",
      "7188 \t TIME TO STEP:  0.04946112632751465\n",
      "7189 \t TIME TO STEP:  0.04523611068725586\n"
     ]
    },
    {
     "name": "stderr",
     "output_type": "stream",
     "text": [
      "2020-04-20 17:26:35,070 Computing map for /data/gibson/Albertville.glb\n"
     ]
    },
    {
     "name": "stdout",
     "output_type": "stream",
     "text": [
      "7190 \t TIME TO RESET:  \t 13.95692753791809\n",
      "7191 \t TIME TO STEP:  0.04688453674316406\n",
      "7192 \t TIME TO STEP:  0.08821344375610352\n",
      "7193 \t TIME TO STEP:  0.13101720809936523\n",
      "7194 \t TIME TO STEP:  0.14337563514709473\n",
      "7195 \t TIME TO STEP:  0.07844257354736328\n",
      "7196 \t TIME TO STEP:  0.049181461334228516\n",
      "7197 \t TIME TO STEP:  0.04813337326049805\n",
      "7198 \t TIME TO STEP:  0.046537160873413086\n",
      "7199 \t TIME TO STEP:  0.05316591262817383\n"
     ]
    },
    {
     "name": "stderr",
     "output_type": "stream",
     "text": [
      "2020-04-20 17:26:49,661 Computing map for /data/gibson/Albertville.glb\n",
      "2020-04-20 17:27:03,621 Invalid map: /data/gibson/Albertville.glb/722\n",
      "2020-04-20 17:27:04,241 Computing map for /data/gibson/Albertville.glb\n"
     ]
    },
    {
     "name": "stdout",
     "output_type": "stream",
     "text": [
      "7200 \t TIME TO RESET:  \t 28.85106587409973\n",
      "7201 \t TIME TO STEP:  0.11684417724609375\n",
      "7202 \t TIME TO STEP:  0.14700078964233398\n",
      "7203 \t TIME TO STEP:  0.07077240943908691\n",
      "7204 \t TIME TO STEP:  0.10698676109313965\n",
      "7205 \t TIME TO STEP:  0.04913163185119629\n",
      "7206 \t TIME TO STEP:  0.05064105987548828\n",
      "7207 \t TIME TO STEP:  0.04719090461730957\n",
      "7208 \t TIME TO STEP:  0.05236387252807617\n",
      "7209 \t TIME TO STEP:  0.05054879188537598\n"
     ]
    },
    {
     "name": "stderr",
     "output_type": "stream",
     "text": [
      "2020-04-20 17:27:19,214 Computing map for /data/gibson/Albertville.glb\n"
     ]
    },
    {
     "name": "stdout",
     "output_type": "stream",
     "text": [
      "7210 \t TIME TO RESET:  \t 13.279266834259033\n",
      "7211 \t TIME TO STEP:  0.15218877792358398\n",
      "7212 \t TIME TO STEP:  0.15776824951171875\n",
      "7213 \t TIME TO STEP:  0.05404925346374512\n",
      "7214 \t TIME TO STEP:  0.04796242713928223\n",
      "7215 \t TIME TO STEP:  0.04802727699279785\n",
      "7216 \t TIME TO STEP:  0.04391193389892578\n",
      "7217 \t TIME TO STEP:  0.047867536544799805\n",
      "7218 \t TIME TO STEP:  0.05060410499572754\n",
      "7219 \t TIME TO STEP:  0.0536656379699707\n"
     ]
    },
    {
     "name": "stderr",
     "output_type": "stream",
     "text": [
      "2020-04-20 17:27:33,203 Computing map for /data/gibson/Albertville.glb\n"
     ]
    },
    {
     "name": "stdout",
     "output_type": "stream",
     "text": [
      "7220 \t TIME TO RESET:  \t 13.689587593078613\n",
      "7221 \t TIME TO STEP:  0.09484481811523438\n",
      "7222 \t TIME TO STEP:  0.17800140380859375\n",
      "7223 \t TIME TO STEP:  0.18749356269836426\n",
      "7224 \t TIME TO STEP:  0.10890316963195801\n",
      "7225 \t TIME TO STEP:  0.07463574409484863\n",
      "7226 \t TIME TO STEP:  0.0808870792388916\n",
      "7227 \t TIME TO STEP:  0.15810537338256836\n",
      "7228 \t TIME TO STEP:  0.16454744338989258\n",
      "7229 \t TIME TO STEP:  0.06583905220031738\n"
     ]
    },
    {
     "name": "stderr",
     "output_type": "stream",
     "text": [
      "2020-04-20 17:27:48,034 Computing map for /data/gibson/Albertville.glb\n"
     ]
    },
    {
     "name": "stdout",
     "output_type": "stream",
     "text": [
      "7230 \t TIME TO RESET:  \t 13.990304946899414\n",
      "7231 \t TIME TO STEP:  0.05399632453918457\n",
      "7232 \t TIME TO STEP:  0.034975290298461914\n",
      "7233 \t TIME TO STEP:  0.0382990837097168\n",
      "7234 \t TIME TO STEP:  0.036179304122924805\n",
      "7235 \t TIME TO STEP:  0.042653799057006836\n",
      "7236 \t TIME TO STEP:  0.05970883369445801\n",
      "7237 \t TIME TO STEP:  0.040368080139160156\n",
      "7238 \t TIME TO STEP:  0.04367208480834961\n",
      "7239 \t TIME TO STEP:  0.04857134819030762\n"
     ]
    },
    {
     "name": "stderr",
     "output_type": "stream",
     "text": [
      "2020-04-20 17:28:02,335 Computing map for /data/gibson/Albertville.glb\n"
     ]
    },
    {
     "name": "stdout",
     "output_type": "stream",
     "text": [
      "7240 \t TIME TO RESET:  \t 14.77208662033081\n",
      "7241 \t TIME TO STEP:  0.1692495346069336\n",
      "7242 \t TIME TO STEP:  0.08582162857055664\n",
      "7243 \t TIME TO STEP:  0.08804893493652344\n",
      "7244 \t TIME TO STEP:  0.10088777542114258\n",
      "7245 \t TIME TO STEP:  0.060605525970458984\n",
      "7246 \t TIME TO STEP:  0.07336640357971191\n",
      "7247 \t TIME TO STEP:  0.0639805793762207\n",
      "7248 \t TIME TO STEP:  0.06487727165222168\n",
      "7249 \t TIME TO STEP:  0.05111575126647949\n"
     ]
    },
    {
     "name": "stderr",
     "output_type": "stream",
     "text": [
      "2020-04-20 17:28:17,947 Computing map for /data/gibson/Albertville.glb\n",
      "2020-04-20 17:28:32,002 Invalid map: /data/gibson/Albertville.glb/727\n",
      "2020-04-20 17:28:32,703 Computing map for /data/gibson/Albertville.glb\n"
     ]
    },
    {
     "name": "stdout",
     "output_type": "stream",
     "text": [
      "7250 \t TIME TO RESET:  \t 29.533715963363647\n",
      "7251 \t TIME TO STEP:  0.08232474327087402\n",
      "7252 \t TIME TO STEP:  0.13782763481140137\n",
      "7253 \t TIME TO STEP:  0.1253070831298828\n",
      "7254 \t TIME TO STEP:  0.09804320335388184\n",
      "7255 \t TIME TO STEP:  0.09648275375366211\n",
      "7256 \t TIME TO STEP:  0.05085039138793945\n",
      "7257 \t TIME TO STEP:  0.03725123405456543\n",
      "7258 \t TIME TO STEP:  0.11648941040039062\n",
      "7259 \t TIME TO STEP:  0.07343339920043945\n"
     ]
    },
    {
     "name": "stderr",
     "output_type": "stream",
     "text": [
      "2020-04-20 17:28:48,234 Computing map for /data/gibson/Albertville.glb\n"
     ]
    },
    {
     "name": "stdout",
     "output_type": "stream",
     "text": [
      "7260 \t TIME TO RESET:  \t 14.945735931396484\n",
      "7261 \t TIME TO STEP:  0.12365341186523438\n",
      "7262 \t TIME TO STEP:  0.29630303382873535\n",
      "7263 \t TIME TO STEP:  0.1359882354736328\n",
      "7264 \t TIME TO STEP:  0.04096865653991699\n",
      "7265 \t TIME TO STEP:  0.045377492904663086\n",
      "7266 \t TIME TO STEP:  0.05239272117614746\n",
      "7267 \t TIME TO STEP:  0.04515814781188965\n",
      "7268 \t TIME TO STEP:  0.04915165901184082\n",
      "7269 \t TIME TO STEP:  0.04798102378845215\n"
     ]
    },
    {
     "name": "stderr",
     "output_type": "stream",
     "text": [
      "2020-04-20 17:29:03,928 Computing map for /data/gibson/Albertville.glb\n",
      "2020-04-20 17:29:16,461 Invalid map: /data/gibson/Albertville.glb/729\n",
      "2020-04-20 17:29:17,709 Computing map for /data/gibson/Albertville.glb\n"
     ]
    },
    {
     "name": "stdout",
     "output_type": "stream",
     "text": [
      "7270 \t TIME TO RESET:  \t 38.502848863601685\n",
      "7271 \t TIME TO STEP:  0.09762048721313477\n",
      "7272 \t TIME TO STEP:  0.04755997657775879\n",
      "7273 \t TIME TO STEP:  0.04059553146362305\n",
      "7274 \t TIME TO STEP:  0.04279351234436035\n",
      "7275 \t TIME TO STEP:  0.04015755653381348\n",
      "7276 \t TIME TO STEP:  0.04637622833251953\n",
      "7277 \t TIME TO STEP:  0.04713249206542969\n",
      "7278 \t TIME TO STEP:  0.045027732849121094\n",
      "7279 \t TIME TO STEP:  0.04295229911804199\n"
     ]
    },
    {
     "name": "stderr",
     "output_type": "stream",
     "text": [
      "2020-04-20 17:29:42,912 Computing map for /data/gibson/Albertville.glb\n"
     ]
    },
    {
     "name": "stdout",
     "output_type": "stream",
     "text": [
      "7280 \t TIME TO RESET:  \t 22.386658191680908\n",
      "7281 \t TIME TO STEP:  0.6093611717224121\n",
      "7282 \t TIME TO STEP:  0.13388514518737793\n",
      "7283 \t TIME TO STEP:  0.059256792068481445\n",
      "7284 \t TIME TO STEP:  0.227463960647583\n",
      "7285 \t TIME TO STEP:  0.13223886489868164\n",
      "7286 \t TIME TO STEP:  0.24053597450256348\n",
      "7287 \t TIME TO STEP:  0.1776118278503418\n",
      "7288 \t TIME TO STEP:  0.26303935050964355\n",
      "7289 \t TIME TO STEP:  0.30905938148498535\n"
     ]
    },
    {
     "name": "stderr",
     "output_type": "stream",
     "text": [
      "2020-04-20 17:30:08,217 Computing map for /data/gibson/Albertville.glb\n"
     ]
    },
    {
     "name": "stdout",
     "output_type": "stream",
     "text": [
      "7290 \t TIME TO RESET:  \t 12.423341512680054\n",
      "7291 \t TIME TO STEP:  0.09557843208312988\n",
      "7292 \t TIME TO STEP:  0.08986091613769531\n",
      "7293 \t TIME TO STEP:  0.0361175537109375\n",
      "7294 \t TIME TO STEP:  0.0316004753112793\n",
      "7295 \t TIME TO STEP:  0.04121851921081543\n",
      "7296 \t TIME TO STEP:  0.045316457748413086\n",
      "7297 \t TIME TO STEP:  0.04294466972351074\n",
      "7298 \t TIME TO STEP:  0.0339353084564209\n",
      "7299 \t TIME TO STEP:  0.032670021057128906\n"
     ]
    },
    {
     "name": "stderr",
     "output_type": "stream",
     "text": [
      "2020-04-20 17:30:20,274 Computing map for /data/gibson/Albertville.glb\n"
     ]
    },
    {
     "name": "stdout",
     "output_type": "stream",
     "text": [
      "7300 \t TIME TO RESET:  \t 9.405065774917603\n",
      "7301 \t TIME TO STEP:  0.07977676391601562\n",
      "7302 \t TIME TO STEP:  0.04062175750732422\n",
      "7303 \t TIME TO STEP:  0.03579235076904297\n",
      "7304 \t TIME TO STEP:  0.03576040267944336\n",
      "7305 \t TIME TO STEP:  0.038898468017578125\n",
      "7306 \t TIME TO STEP:  0.03122425079345703\n",
      "7307 \t TIME TO STEP:  0.03343534469604492\n",
      "7308 \t TIME TO STEP:  0.03205275535583496\n",
      "7309 \t TIME TO STEP:  0.039595842361450195\n"
     ]
    },
    {
     "name": "stderr",
     "output_type": "stream",
     "text": [
      "2020-04-20 17:30:30,041 Computing map for /data/gibson/Albertville.glb\n"
     ]
    },
    {
     "name": "stdout",
     "output_type": "stream",
     "text": [
      "7310 \t TIME TO RESET:  \t 10.71966552734375\n",
      "7311 \t TIME TO STEP:  0.09949326515197754\n",
      "7312 \t TIME TO STEP:  0.09140157699584961\n",
      "7313 \t TIME TO STEP:  0.10146474838256836\n",
      "7314 \t TIME TO STEP:  0.04154491424560547\n",
      "7315 \t TIME TO STEP:  0.035103559494018555\n",
      "7316 \t TIME TO STEP:  0.029840707778930664\n",
      "7317 \t TIME TO STEP:  0.03280043601989746\n",
      "7318 \t TIME TO STEP:  0.04376554489135742\n",
      "7319 \t TIME TO STEP:  0.03728318214416504\n"
     ]
    },
    {
     "name": "stderr",
     "output_type": "stream",
     "text": [
      "2020-04-20 17:30:41,259 Computing map for /data/gibson/Albertville.glb\n"
     ]
    },
    {
     "name": "stdout",
     "output_type": "stream",
     "text": [
      "7320 \t TIME TO RESET:  \t 10.508235931396484\n",
      "7321 \t TIME TO STEP:  0.09552693367004395\n",
      "7322 \t TIME TO STEP:  0.034271240234375\n",
      "7323 \t TIME TO STEP:  0.03638339042663574\n",
      "7324 \t TIME TO STEP:  0.03801250457763672\n",
      "7325 \t TIME TO STEP:  0.03833937644958496\n",
      "7326 \t TIME TO STEP:  0.03220701217651367\n",
      "7327 \t TIME TO STEP:  0.02968740463256836\n",
      "7328 \t TIME TO STEP:  0.029983997344970703\n",
      "7329 \t TIME TO STEP:  0.04079914093017578\n"
     ]
    },
    {
     "name": "stderr",
     "output_type": "stream",
     "text": [
      "2020-04-20 17:30:52,100 Computing map for /data/gibson/Albertville.glb\n",
      "2020-04-20 17:31:02,452 Invalid map: /data/gibson/Albertville.glb/735\n",
      "2020-04-20 17:31:02,893 Computing map for /data/gibson/Albertville.glb\n"
     ]
    },
    {
     "name": "stdout",
     "output_type": "stream",
     "text": [
      "7330 \t TIME TO RESET:  \t 21.945907592773438\n",
      "7331 \t TIME TO STEP:  0.06676650047302246\n",
      "7332 \t TIME TO STEP:  0.09531998634338379\n",
      "7333 \t TIME TO STEP:  0.09821081161499023\n",
      "7334 \t TIME TO STEP:  0.059871673583984375\n",
      "7335 \t TIME TO STEP:  0.04954886436462402\n",
      "7336 \t TIME TO STEP:  0.09262967109680176\n",
      "7337 \t TIME TO STEP:  0.07821488380432129\n",
      "7338 \t TIME TO STEP:  0.06683659553527832\n",
      "7339 \t TIME TO STEP:  0.039078712463378906\n"
     ]
    },
    {
     "name": "stderr",
     "output_type": "stream",
     "text": [
      "2020-04-20 17:31:14,879 Computing map for /data/gibson/Albertville.glb\n",
      "2020-04-20 17:31:25,137 Invalid map: /data/gibson/Albertville.glb/736\n",
      "2020-04-20 17:31:25,512 Computing map for /data/gibson/Albertville.glb\n",
      "2020-04-20 17:31:34,813 Invalid map: /data/gibson/Albertville.glb/736\n",
      "2020-04-20 17:31:35,180 Computing map for /data/gibson/Albertville.glb\n"
     ]
    },
    {
     "name": "stdout",
     "output_type": "stream",
     "text": [
      "7340 \t TIME TO RESET:  \t 30.493443965911865\n",
      "7341 \t TIME TO STEP:  0.06128716468811035\n",
      "7342 \t TIME TO STEP:  0.06261277198791504\n",
      "7343 \t TIME TO STEP:  0.09189605712890625\n",
      "7344 \t TIME TO STEP:  0.03959226608276367\n",
      "7345 \t TIME TO STEP:  0.039649009704589844\n",
      "7346 \t TIME TO STEP:  0.041394710540771484\n",
      "7347 \t TIME TO STEP:  0.030071020126342773\n",
      "7348 \t TIME TO STEP:  0.061553001403808594\n",
      "7349 \t TIME TO STEP:  0.03594255447387695\n"
     ]
    },
    {
     "name": "stderr",
     "output_type": "stream",
     "text": [
      "2020-04-20 17:31:45,665 Computing map for /data/gibson/Albertville.glb\n"
     ]
    },
    {
     "name": "stdout",
     "output_type": "stream",
     "text": [
      "7350 \t TIME TO RESET:  \t 10.097255229949951\n",
      "7351 \t TIME TO STEP:  0.14632010459899902\n",
      "7352 \t TIME TO STEP:  0.06716513633728027\n",
      "7353 \t TIME TO STEP:  0.09376311302185059\n",
      "7354 \t TIME TO STEP:  0.04361391067504883\n",
      "7355 \t TIME TO STEP:  0.07080554962158203\n",
      "7356 \t TIME TO STEP:  0.05232954025268555\n",
      "7357 \t TIME TO STEP:  0.049765586853027344\n",
      "7358 \t TIME TO STEP:  0.03726553916931152\n",
      "7359 \t TIME TO STEP:  0.03931617736816406\n"
     ]
    },
    {
     "name": "stderr",
     "output_type": "stream",
     "text": [
      "2020-04-20 17:31:56,404 Computing map for /data/gibson/Albertville.glb\n"
     ]
    },
    {
     "name": "stdout",
     "output_type": "stream",
     "text": [
      "7360 \t TIME TO RESET:  \t 9.49198055267334\n",
      "7361 \t TIME TO STEP:  0.07202386856079102\n",
      "7362 \t TIME TO STEP:  0.030300617218017578\n",
      "7363 \t TIME TO STEP:  0.03837418556213379\n",
      "7364 \t TIME TO STEP:  0.03351116180419922\n",
      "7365 \t TIME TO STEP:  0.03625607490539551\n",
      "7366 \t TIME TO STEP:  0.04815030097961426\n",
      "7367 \t TIME TO STEP:  0.030819177627563477\n",
      "7368 \t TIME TO STEP:  0.04298830032348633\n",
      "7369 \t TIME TO STEP:  0.10504794120788574\n"
     ]
    },
    {
     "name": "stderr",
     "output_type": "stream",
     "text": [
      "2020-04-20 17:32:06,294 Computing map for /data/gibson/Albertville.glb\n"
     ]
    },
    {
     "name": "stdout",
     "output_type": "stream",
     "text": [
      "7370 \t TIME TO RESET:  \t 8.674026012420654\n",
      "7371 \t TIME TO STEP:  0.07488536834716797\n",
      "7372 \t TIME TO STEP:  0.036743879318237305\n",
      "7373 \t TIME TO STEP:  0.049585819244384766\n",
      "7374 \t TIME TO STEP:  0.043038368225097656\n",
      "7375 \t TIME TO STEP:  0.030052661895751953\n",
      "7376 \t TIME TO STEP:  0.034044504165649414\n",
      "7377 \t TIME TO STEP:  0.03679013252258301\n",
      "7378 \t TIME TO STEP:  0.03938651084899902\n",
      "7379 \t TIME TO STEP:  0.07171201705932617\n"
     ]
    },
    {
     "name": "stderr",
     "output_type": "stream",
     "text": [
      "2020-04-20 17:32:15,421 Computing map for /data/gibson/Albertville.glb\n"
     ]
    },
    {
     "name": "stdout",
     "output_type": "stream",
     "text": [
      "7380 \t TIME TO RESET:  \t 9.973757982254028\n",
      "7381 \t TIME TO STEP:  0.08162212371826172\n",
      "7382 \t TIME TO STEP:  0.04480242729187012\n",
      "7383 \t TIME TO STEP:  0.04230070114135742\n",
      "7384 \t TIME TO STEP:  0.05034828186035156\n",
      "7385 \t TIME TO STEP:  0.04239153861999512\n",
      "7386 \t TIME TO STEP:  0.03133797645568848\n",
      "7387 \t TIME TO STEP:  0.04276776313781738\n",
      "7388 \t TIME TO STEP:  0.04404044151306152\n",
      "7389 \t TIME TO STEP:  0.04764556884765625\n"
     ]
    },
    {
     "name": "stderr",
     "output_type": "stream",
     "text": [
      "2020-04-20 17:32:26,072 Computing map for /data/gibson/Albertville.glb\n"
     ]
    },
    {
     "name": "stdout",
     "output_type": "stream",
     "text": [
      "7390 \t TIME TO RESET:  \t 11.526760816574097\n",
      "7391 \t TIME TO STEP:  0.043103933334350586\n",
      "7392 \t TIME TO STEP:  0.1065976619720459\n",
      "7393 \t TIME TO STEP:  0.07161784172058105\n",
      "7394 \t TIME TO STEP:  0.09636569023132324\n",
      "7395 \t TIME TO STEP:  0.04537081718444824\n",
      "7396 \t TIME TO STEP:  0.04677915573120117\n",
      "7397 \t TIME TO STEP:  0.03242921829223633\n",
      "7398 \t TIME TO STEP:  0.04064583778381348\n",
      "7399 \t TIME TO STEP:  0.03256058692932129\n"
     ]
    },
    {
     "name": "stderr",
     "output_type": "stream",
     "text": [
      "2020-04-20 17:32:37,973 Computing map for /data/gibson/Albertville.glb\n",
      "2020-04-20 17:32:49,662 Invalid map: /data/gibson/Albertville.glb/742\n",
      "2020-04-20 17:32:49,991 Computing map for /data/gibson/Albertville.glb\n"
     ]
    },
    {
     "name": "stdout",
     "output_type": "stream",
     "text": [
      "7400 \t TIME TO RESET:  \t 23.37861657142639\n",
      "7401 \t TIME TO STEP:  0.09844350814819336\n",
      "7402 \t TIME TO STEP:  0.03873562812805176\n",
      "7403 \t TIME TO STEP:  0.04451489448547363\n",
      "7404 \t TIME TO STEP:  0.04542660713195801\n",
      "7405 \t TIME TO STEP:  0.035562992095947266\n",
      "7406 \t TIME TO STEP:  0.03875374794006348\n",
      "7407 \t TIME TO STEP:  0.03508138656616211\n",
      "7408 \t TIME TO STEP:  0.03221559524536133\n",
      "7409 \t TIME TO STEP:  0.04231452941894531\n"
     ]
    },
    {
     "name": "stderr",
     "output_type": "stream",
     "text": [
      "2020-04-20 17:33:01,780 Computing map for /data/gibson/Albertville.glb\n",
      "2020-04-20 17:33:11,117 Invalid map: /data/gibson/Albertville.glb/743\n",
      "2020-04-20 17:33:11,465 Computing map for /data/gibson/Albertville.glb\n",
      "2020-04-20 17:33:20,088 Invalid map: /data/gibson/Albertville.glb/743\n",
      "2020-04-20 17:33:20,445 Computing map for /data/gibson/Albertville.glb\n",
      "2020-04-20 17:33:30,166 Invalid map: /data/gibson/Albertville.glb/743\n",
      "2020-04-20 17:33:30,446 Computing map for /data/gibson/Albertville.glb\n"
     ]
    },
    {
     "name": "stdout",
     "output_type": "stream",
     "text": [
      "7410 \t TIME TO RESET:  \t 39.619322299957275\n",
      "7411 \t TIME TO STEP:  0.10924506187438965\n",
      "7412 \t TIME TO STEP:  0.05711531639099121\n",
      "7413 \t TIME TO STEP:  0.04829239845275879\n",
      "7414 \t TIME TO STEP:  0.046866416931152344\n",
      "7415 \t TIME TO STEP:  0.052371978759765625\n",
      "7416 \t TIME TO STEP:  0.04569649696350098\n",
      "7417 \t TIME TO STEP:  0.060599565505981445\n",
      "7418 \t TIME TO STEP:  0.04562997817993164\n",
      "7419 \t TIME TO STEP:  0.050923824310302734\n"
     ]
    },
    {
     "name": "stderr",
     "output_type": "stream",
     "text": [
      "2020-04-20 17:33:41,956 Computing map for /data/gibson/Albertville.glb\n",
      "2020-04-20 17:33:51,856 Invalid map: /data/gibson/Albertville.glb/744\n",
      "2020-04-20 17:33:52,509 Computing map for /data/gibson/Albertville.glb\n"
     ]
    },
    {
     "name": "stdout",
     "output_type": "stream",
     "text": [
      "7420 \t TIME TO RESET:  \t 22.48461389541626\n",
      "7421 \t TIME TO STEP:  0.03907656669616699\n",
      "7422 \t TIME TO STEP:  0.03825092315673828\n",
      "7423 \t TIME TO STEP:  0.03547501564025879\n",
      "7424 \t TIME TO STEP:  0.042078256607055664\n",
      "7425 \t TIME TO STEP:  0.03968691825866699\n",
      "7426 \t TIME TO STEP:  0.03737187385559082\n",
      "7427 \t TIME TO STEP:  0.05260896682739258\n",
      "7428 \t TIME TO STEP:  0.04133248329162598\n",
      "7429 \t TIME TO STEP:  0.04272341728210449\n"
     ]
    },
    {
     "name": "stderr",
     "output_type": "stream",
     "text": [
      "2020-04-20 17:34:04,816 Computing map for /data/gibson/Albertville.glb\n"
     ]
    },
    {
     "name": "stdout",
     "output_type": "stream",
     "text": [
      "7430 \t TIME TO RESET:  \t 11.672711610794067\n",
      "7431 \t TIME TO STEP:  0.13082289695739746\n",
      "7432 \t TIME TO STEP:  0.060117483139038086\n",
      "7433 \t TIME TO STEP:  0.05001640319824219\n",
      "7434 \t TIME TO STEP:  0.04731249809265137\n",
      "7435 \t TIME TO STEP:  0.04060816764831543\n",
      "7436 \t TIME TO STEP:  0.04428601264953613\n",
      "7437 \t TIME TO STEP:  0.03749275207519531\n",
      "7438 \t TIME TO STEP:  0.11064696311950684\n",
      "7439 \t TIME TO STEP:  0.07474827766418457\n"
     ]
    },
    {
     "name": "stderr",
     "output_type": "stream",
     "text": [
      "2020-04-20 17:34:17,191 Computing map for /data/gibson/Albertville.glb\n",
      "2020-04-20 17:34:27,524 Invalid map: /data/gibson/Albertville.glb/746\n",
      "2020-04-20 17:34:27,928 Computing map for /data/gibson/Albertville.glb\n",
      "2020-04-20 17:34:37,466 Invalid map: /data/gibson/Albertville.glb/746\n",
      "2020-04-20 17:34:37,809 Computing map for /data/gibson/Albertville.glb\n"
     ]
    },
    {
     "name": "stdout",
     "output_type": "stream",
     "text": [
      "7440 \t TIME TO RESET:  \t 30.68191623687744\n",
      "7441 \t TIME TO STEP:  0.13013148307800293\n",
      "7442 \t TIME TO STEP:  0.12073302268981934\n",
      "7443 \t TIME TO STEP:  0.048094749450683594\n",
      "7444 \t TIME TO STEP:  0.11178398132324219\n",
      "7445 \t TIME TO STEP:  0.042986392974853516\n",
      "7446 \t TIME TO STEP:  0.05600380897521973\n",
      "7447 \t TIME TO STEP:  0.0391535758972168\n",
      "7448 \t TIME TO STEP:  0.07247161865234375\n",
      "7449 \t TIME TO STEP:  0.06176471710205078\n"
     ]
    },
    {
     "name": "stderr",
     "output_type": "stream",
     "text": [
      "2020-04-20 17:34:48,276 Computing map for /data/gibson/Albertville.glb\n"
     ]
    },
    {
     "name": "stdout",
     "output_type": "stream",
     "text": [
      "7450 \t TIME TO RESET:  \t 10.114381313323975\n",
      "7451 \t TIME TO STEP:  0.10466551780700684\n",
      "7452 \t TIME TO STEP:  0.0441434383392334\n",
      "7453 \t TIME TO STEP:  0.0803062915802002\n",
      "7454 \t TIME TO STEP:  0.0456089973449707\n",
      "7455 \t TIME TO STEP:  0.04547381401062012\n",
      "7456 \t TIME TO STEP:  0.10204577445983887\n",
      "7457 \t TIME TO STEP:  0.05508708953857422\n",
      "7458 \t TIME TO STEP:  0.05009102821350098\n",
      "7459 \t TIME TO STEP:  0.04352521896362305\n"
     ]
    },
    {
     "name": "stderr",
     "output_type": "stream",
     "text": [
      "2020-04-20 17:34:59,066 Computing map for /data/gibson/Albertville.glb\n"
     ]
    },
    {
     "name": "stdout",
     "output_type": "stream",
     "text": [
      "7460 \t TIME TO RESET:  \t 10.97398328781128\n",
      "7461 \t TIME TO STEP:  0.04046010971069336\n",
      "7462 \t TIME TO STEP:  0.04525589942932129\n",
      "7463 \t TIME TO STEP:  0.060515403747558594\n",
      "7464 \t TIME TO STEP:  0.07111883163452148\n",
      "7465 \t TIME TO STEP:  0.05500960350036621\n",
      "7466 \t TIME TO STEP:  0.047917842864990234\n",
      "7467 \t TIME TO STEP:  0.0774686336517334\n",
      "7468 \t TIME TO STEP:  0.09958600997924805\n",
      "7469 \t TIME TO STEP:  0.04420113563537598\n"
     ]
    },
    {
     "name": "stderr",
     "output_type": "stream",
     "text": [
      "2020-04-20 17:35:10,752 Computing map for /data/gibson/Albertville.glb\n",
      "2020-04-20 17:35:22,624 Invalid map: /data/gibson/Albertville.glb/749\n",
      "2020-04-20 17:35:22,970 Computing map for /data/gibson/Albertville.glb\n",
      "2020-04-20 17:35:32,436 Invalid map: /data/gibson/Albertville.glb/749\n",
      "2020-04-20 17:35:32,991 Computing map for /data/gibson/Albertville.glb\n",
      "2020-04-20 17:35:42,820 Invalid map: /data/gibson/Albertville.glb/749\n",
      "2020-04-20 17:35:43,202 Computing map for /data/gibson/Albertville.glb\n",
      "2020-04-20 17:35:55,833 Invalid map: /data/gibson/Albertville.glb/749\n",
      "2020-04-20 17:35:56,219 Computing map for /data/gibson/Albertville.glb\n"
     ]
    },
    {
     "name": "stdout",
     "output_type": "stream",
     "text": [
      "7470 \t TIME TO RESET:  \t 56.82531118392944\n",
      "7471 \t TIME TO STEP:  0.05078005790710449\n",
      "7472 \t TIME TO STEP:  0.03835487365722656\n",
      "7473 \t TIME TO STEP:  0.0431215763092041\n",
      "7474 \t TIME TO STEP:  0.05608415603637695\n",
      "7475 \t TIME TO STEP:  0.05506396293640137\n",
      "7476 \t TIME TO STEP:  0.05042552947998047\n",
      "7477 \t TIME TO STEP:  0.046599626541137695\n",
      "7478 \t TIME TO STEP:  0.04159116744995117\n",
      "7479 \t TIME TO STEP:  0.08044075965881348\n"
     ]
    },
    {
     "name": "stderr",
     "output_type": "stream",
     "text": [
      "2020-04-20 17:36:07,838 Computing map for /data/gibson/Albertville.glb\n",
      "2020-04-20 17:36:17,066 Invalid map: /data/gibson/Albertville.glb/750\n",
      "2020-04-20 17:36:17,524 Computing map for /data/gibson/Albertville.glb\n",
      "2020-04-20 17:36:27,244 Invalid map: /data/gibson/Albertville.glb/750\n",
      "2020-04-20 17:36:27,958 Computing map for /data/gibson/Albertville.glb\n"
     ]
    },
    {
     "name": "stdout",
     "output_type": "stream",
     "text": [
      "7480 \t TIME TO RESET:  \t 30.958433389663696\n",
      "7481 \t TIME TO STEP:  0.07100939750671387\n",
      "7482 \t TIME TO STEP:  0.0367434024810791\n",
      "7483 \t TIME TO STEP:  0.03902697563171387\n",
      "7484 \t TIME TO STEP:  0.12138032913208008\n",
      "7485 \t TIME TO STEP:  0.06036686897277832\n",
      "7486 \t TIME TO STEP:  0.13333582878112793\n",
      "7487 \t TIME TO STEP:  0.10098576545715332\n",
      "7488 \t TIME TO STEP:  0.04019331932067871\n",
      "7489 \t TIME TO STEP:  0.045886993408203125\n"
     ]
    },
    {
     "name": "stderr",
     "output_type": "stream",
     "text": [
      "2020-04-20 17:36:39,643 Computing map for /data/gibson/Albertville.glb\n",
      "2020-04-20 17:36:49,710 Invalid map: /data/gibson/Albertville.glb/751\n",
      "2020-04-20 17:36:50,063 Computing map for /data/gibson/Albertville.glb\n"
     ]
    },
    {
     "name": "stdout",
     "output_type": "stream",
     "text": [
      "7490 \t TIME TO RESET:  \t 20.9136164188385\n",
      "7491 \t TIME TO STEP:  0.09923934936523438\n",
      "7492 \t TIME TO STEP:  0.07124495506286621\n",
      "7493 \t TIME TO STEP:  0.04697871208190918\n",
      "7494 \t TIME TO STEP:  0.04184150695800781\n",
      "7495 \t TIME TO STEP:  0.0527796745300293\n",
      "7496 \t TIME TO STEP:  0.04194211959838867\n",
      "7497 \t TIME TO STEP:  0.0497283935546875\n",
      "7498 \t TIME TO STEP:  0.049987077713012695\n",
      "7499 \t TIME TO STEP:  0.03728652000427246\n"
     ]
    },
    {
     "name": "stderr",
     "output_type": "stream",
     "text": [
      "2020-04-20 17:37:01,076 Computing map for /data/gibson/Albertville.glb\n"
     ]
    },
    {
     "name": "stdout",
     "output_type": "stream",
     "text": [
      "7500 \t TIME TO RESET:  \t 10.747352600097656\n",
      "7501 \t TIME TO STEP:  0.07036495208740234\n",
      "7502 \t TIME TO STEP:  0.036083221435546875\n",
      "7503 \t TIME TO STEP:  0.04581403732299805\n",
      "7504 \t TIME TO STEP:  0.03903985023498535\n",
      "7505 \t TIME TO STEP:  0.04316282272338867\n",
      "7506 \t TIME TO STEP:  0.040086984634399414\n",
      "7507 \t TIME TO STEP:  0.07425236701965332\n",
      "7508 \t TIME TO STEP:  0.04171323776245117\n",
      "7509 \t TIME TO STEP:  0.04508781433105469\n"
     ]
    },
    {
     "name": "stderr",
     "output_type": "stream",
     "text": [
      "2020-04-20 17:37:12,177 Computing map for /data/gibson/Albertville.glb\n"
     ]
    },
    {
     "name": "stdout",
     "output_type": "stream",
     "text": [
      "7510 \t TIME TO RESET:  \t 10.568973541259766\n",
      "7511 \t TIME TO STEP:  0.04131174087524414\n",
      "7512 \t TIME TO STEP:  0.03162884712219238\n",
      "7513 \t TIME TO STEP:  0.08412432670593262\n",
      "7514 \t TIME TO STEP:  0.03482174873352051\n",
      "7515 \t TIME TO STEP:  0.039180755615234375\n",
      "7516 \t TIME TO STEP:  0.033252716064453125\n",
      "7517 \t TIME TO STEP:  0.04196047782897949\n",
      "7518 \t TIME TO STEP:  0.03866744041442871\n",
      "7519 \t TIME TO STEP:  0.07813286781311035\n"
     ]
    },
    {
     "name": "stderr",
     "output_type": "stream",
     "text": [
      "2020-04-20 17:37:23,106 Computing map for /data/gibson/Albertville.glb\n"
     ]
    },
    {
     "name": "stdout",
     "output_type": "stream",
     "text": [
      "7520 \t TIME TO RESET:  \t 9.754690170288086\n",
      "7521 \t TIME TO STEP:  0.11219954490661621\n",
      "7522 \t TIME TO STEP:  0.11836409568786621\n",
      "7523 \t TIME TO STEP:  0.038059234619140625\n",
      "7524 \t TIME TO STEP:  0.03782391548156738\n",
      "7525 \t TIME TO STEP:  0.05117440223693848\n",
      "7526 \t TIME TO STEP:  0.03982424736022949\n",
      "7527 \t TIME TO STEP:  0.04796910285949707\n",
      "7528 \t TIME TO STEP:  0.04999589920043945\n",
      "7529 \t TIME TO STEP:  0.04978466033935547\n"
     ]
    },
    {
     "name": "stderr",
     "output_type": "stream",
     "text": [
      "2020-04-20 17:37:33,465 Computing map for /data/gibson/Albertville.glb\n"
     ]
    },
    {
     "name": "stdout",
     "output_type": "stream",
     "text": [
      "7530 \t TIME TO RESET:  \t 11.69533395767212\n",
      "7531 \t TIME TO STEP:  0.07893991470336914\n",
      "7532 \t TIME TO STEP:  0.10282182693481445\n",
      "7533 \t TIME TO STEP:  0.03950810432434082\n",
      "7534 \t TIME TO STEP:  0.043462514877319336\n",
      "7535 \t TIME TO STEP:  0.06261277198791504\n",
      "7536 \t TIME TO STEP:  0.04219460487365723\n",
      "7537 \t TIME TO STEP:  0.05502915382385254\n",
      "7538 \t TIME TO STEP:  0.05052661895751953\n",
      "7539 \t TIME TO STEP:  0.034697532653808594\n"
     ]
    },
    {
     "name": "stderr",
     "output_type": "stream",
     "text": [
      "2020-04-20 17:37:45,689 Computing map for /data/gibson/Albertville.glb\n"
     ]
    },
    {
     "name": "stdout",
     "output_type": "stream",
     "text": [
      "7540 \t TIME TO RESET:  \t 12.586230278015137\n",
      "7541 \t TIME TO STEP:  0.09733963012695312\n",
      "7542 \t TIME TO STEP:  0.029280662536621094\n",
      "7543 \t TIME TO STEP:  0.035253286361694336\n",
      "7544 \t TIME TO STEP:  0.03546404838562012\n",
      "7545 \t TIME TO STEP:  0.0760049819946289\n",
      "7546 \t TIME TO STEP:  0.04721713066101074\n",
      "7547 \t TIME TO STEP:  0.04181098937988281\n",
      "7548 \t TIME TO STEP:  0.029953956604003906\n",
      "7549 \t TIME TO STEP:  0.028223752975463867\n"
     ]
    },
    {
     "name": "stderr",
     "output_type": "stream",
     "text": [
      "2020-04-20 17:37:58,524 Computing map for /data/gibson/Albertville.glb\n"
     ]
    },
    {
     "name": "stdout",
     "output_type": "stream",
     "text": [
      "7550 \t TIME TO RESET:  \t 10.900129795074463\n",
      "7551 \t TIME TO STEP:  0.10148811340332031\n",
      "7552 \t TIME TO STEP:  0.04031038284301758\n",
      "7553 \t TIME TO STEP:  0.03541970252990723\n",
      "7554 \t TIME TO STEP:  0.031084537506103516\n",
      "7555 \t TIME TO STEP:  0.04091310501098633\n",
      "7556 \t TIME TO STEP:  0.04973626136779785\n",
      "7557 \t TIME TO STEP:  0.03225421905517578\n",
      "7558 \t TIME TO STEP:  0.042296409606933594\n",
      "7559 \t TIME TO STEP:  0.05186796188354492\n"
     ]
    },
    {
     "name": "stderr",
     "output_type": "stream",
     "text": [
      "2020-04-20 17:38:09,985 Computing map for /data/gibson/Albertville.glb\n"
     ]
    },
    {
     "name": "stdout",
     "output_type": "stream",
     "text": [
      "7560 \t TIME TO RESET:  \t 10.168078899383545\n",
      "7561 \t TIME TO STEP:  0.047628164291381836\n",
      "7562 \t TIME TO STEP:  0.045098304748535156\n",
      "7563 \t TIME TO STEP:  0.044112205505371094\n",
      "7564 \t TIME TO STEP:  0.04530501365661621\n",
      "7565 \t TIME TO STEP:  0.051062822341918945\n",
      "7566 \t TIME TO STEP:  0.049428462982177734\n",
      "7567 \t TIME TO STEP:  0.04481649398803711\n",
      "7568 \t TIME TO STEP:  0.04641866683959961\n",
      "7569 \t TIME TO STEP:  0.04613447189331055\n"
     ]
    },
    {
     "name": "stderr",
     "output_type": "stream",
     "text": [
      "2020-04-20 17:38:20,613 Computing map for /data/gibson/Albertville.glb\n",
      "2020-04-20 17:38:31,095 Invalid map: /data/gibson/Albertville.glb/759\n",
      "2020-04-20 17:38:31,635 Computing map for /data/gibson/Albertville.glb\n"
     ]
    },
    {
     "name": "stdout",
     "output_type": "stream",
     "text": [
      "7570 \t TIME TO RESET:  \t 22.638416051864624\n",
      "7571 \t TIME TO STEP:  0.05941295623779297\n",
      "7572 \t TIME TO STEP:  0.0418248176574707\n",
      "7573 \t TIME TO STEP:  0.03664731979370117\n",
      "7574 \t TIME TO STEP:  0.027660846710205078\n",
      "7575 \t TIME TO STEP:  0.02871084213256836\n",
      "7576 \t TIME TO STEP:  0.059909820556640625\n",
      "7577 \t TIME TO STEP:  0.027629852294921875\n",
      "7578 \t TIME TO STEP:  0.07380890846252441\n",
      "7579 \t TIME TO STEP:  0.0803375244140625\n"
     ]
    },
    {
     "name": "stderr",
     "output_type": "stream",
     "text": [
      "2020-04-20 17:38:43,489 Computing map for /data/gibson/Albertville.glb\n"
     ]
    },
    {
     "name": "stdout",
     "output_type": "stream",
     "text": [
      "7580 \t TIME TO RESET:  \t 10.691068649291992\n",
      "7581 \t TIME TO STEP:  0.09646105766296387\n",
      "7582 \t TIME TO STEP:  0.09558248519897461\n",
      "7583 \t TIME TO STEP:  0.057489871978759766\n",
      "7584 \t TIME TO STEP:  0.03964710235595703\n",
      "7585 \t TIME TO STEP:  0.04288792610168457\n",
      "7586 \t TIME TO STEP:  0.04233956336975098\n",
      "7587 \t TIME TO STEP:  0.036337852478027344\n",
      "7588 \t TIME TO STEP:  0.03846883773803711\n",
      "7589 \t TIME TO STEP:  0.03340768814086914\n"
     ]
    },
    {
     "name": "stderr",
     "output_type": "stream",
     "text": [
      "2020-04-20 17:38:54,863 Computing map for /data/gibson/Albertville.glb\n",
      "2020-04-20 17:39:05,248 Invalid map: /data/gibson/Albertville.glb/761\n",
      "2020-04-20 17:39:05,809 Computing map for /data/gibson/Albertville.glb\n"
     ]
    },
    {
     "name": "stdout",
     "output_type": "stream",
     "text": [
      "7590 \t TIME TO RESET:  \t 22.35348105430603\n",
      "7591 \t TIME TO STEP:  0.07749152183532715\n",
      "7592 \t TIME TO STEP:  0.11465859413146973\n",
      "7593 \t TIME TO STEP:  0.11956357955932617\n",
      "7594 \t TIME TO STEP:  0.11913061141967773\n",
      "7595 \t TIME TO STEP:  0.13243794441223145\n",
      "7596 \t TIME TO STEP:  0.1474137306213379\n",
      "7597 \t TIME TO STEP:  0.04794716835021973\n",
      "7598 \t TIME TO STEP:  0.04913759231567383\n",
      "7599 \t TIME TO STEP:  0.0482177734375\n"
     ]
    },
    {
     "name": "stderr",
     "output_type": "stream",
     "text": [
      "2020-04-20 17:39:18,112 Computing map for /data/gibson/Albertville.glb\n"
     ]
    },
    {
     "name": "stdout",
     "output_type": "stream",
     "text": [
      "7600 \t TIME TO RESET:  \t 11.819547176361084\n",
      "7601 \t TIME TO STEP:  0.04423928260803223\n",
      "7602 \t TIME TO STEP:  0.08279013633728027\n",
      "7603 \t TIME TO STEP:  0.10420870780944824\n",
      "7604 \t TIME TO STEP:  0.22345471382141113\n",
      "7605 \t TIME TO STEP:  0.19697904586791992\n",
      "7606 \t TIME TO STEP:  0.13390398025512695\n",
      "7607 \t TIME TO STEP:  0.057775020599365234\n",
      "7608 \t TIME TO STEP:  0.04044771194458008\n",
      "7609 \t TIME TO STEP:  0.07625651359558105\n"
     ]
    },
    {
     "name": "stderr",
     "output_type": "stream",
     "text": [
      "2020-04-20 17:39:30,717 Computing map for /data/gibson/Albertville.glb\n"
     ]
    },
    {
     "name": "stdout",
     "output_type": "stream",
     "text": [
      "7610 \t TIME TO RESET:  \t 10.661682367324829\n",
      "7611 \t TIME TO STEP:  0.09412312507629395\n",
      "7612 \t TIME TO STEP:  0.08362627029418945\n",
      "7613 \t TIME TO STEP:  0.05949687957763672\n",
      "7614 \t TIME TO STEP:  0.05011439323425293\n",
      "7615 \t TIME TO STEP:  0.04341912269592285\n",
      "7616 \t TIME TO STEP:  0.04046273231506348\n",
      "7617 \t TIME TO STEP:  0.03260231018066406\n",
      "7618 \t TIME TO STEP:  0.041829586029052734\n",
      "7619 \t TIME TO STEP:  0.041236162185668945\n"
     ]
    },
    {
     "name": "stderr",
     "output_type": "stream",
     "text": [
      "2020-04-20 17:39:41,841 Computing map for /data/gibson/Albertville.glb\n"
     ]
    },
    {
     "name": "stdout",
     "output_type": "stream",
     "text": [
      "7620 \t TIME TO RESET:  \t 9.429056406021118\n",
      "7621 \t TIME TO STEP:  0.10605168342590332\n",
      "7622 \t TIME TO STEP:  0.10560059547424316\n",
      "7623 \t TIME TO STEP:  0.029912948608398438\n",
      "7624 \t TIME TO STEP:  0.06314826011657715\n",
      "7625 \t TIME TO STEP:  0.08456635475158691\n",
      "7626 \t TIME TO STEP:  0.031137704849243164\n",
      "7627 \t TIME TO STEP:  0.10731935501098633\n",
      "7628 \t TIME TO STEP:  0.10561490058898926\n",
      "7629 \t TIME TO STEP:  0.12129759788513184\n"
     ]
    },
    {
     "name": "stderr",
     "output_type": "stream",
     "text": [
      "2020-04-20 17:39:52,164 Computing map for /data/gibson/Albertville.glb\n"
     ]
    },
    {
     "name": "stdout",
     "output_type": "stream",
     "text": [
      "7630 \t TIME TO RESET:  \t 9.408522844314575\n",
      "7631 \t TIME TO STEP:  0.11140894889831543\n",
      "7632 \t TIME TO STEP:  0.04629254341125488\n",
      "7633 \t TIME TO STEP:  0.04967093467712402\n",
      "7634 \t TIME TO STEP:  0.05822610855102539\n",
      "7635 \t TIME TO STEP:  0.04630637168884277\n",
      "7636 \t TIME TO STEP:  0.039931535720825195\n",
      "7637 \t TIME TO STEP:  0.046268463134765625\n",
      "7638 \t TIME TO STEP:  0.04370236396789551\n",
      "7639 \t TIME TO STEP:  0.0429534912109375\n"
     ]
    },
    {
     "name": "stderr",
     "output_type": "stream",
     "text": [
      "2020-04-20 17:40:02,050 Computing map for /data/gibson/Albertville.glb\n"
     ]
    },
    {
     "name": "stdout",
     "output_type": "stream",
     "text": [
      "7640 \t TIME TO RESET:  \t 9.908383846282959\n",
      "7641 \t TIME TO STEP:  0.10151124000549316\n",
      "7642 \t TIME TO STEP:  0.042385101318359375\n",
      "7643 \t TIME TO STEP:  0.09523653984069824\n",
      "7644 \t TIME TO STEP:  0.06361150741577148\n",
      "7645 \t TIME TO STEP:  0.03429865837097168\n",
      "7646 \t TIME TO STEP:  0.0823206901550293\n",
      "7647 \t TIME TO STEP:  0.08801031112670898\n",
      "7648 \t TIME TO STEP:  0.0577547550201416\n",
      "7649 \t TIME TO STEP:  0.10121798515319824\n"
     ]
    },
    {
     "name": "stderr",
     "output_type": "stream",
     "text": [
      "2020-04-20 17:40:12,660 Computing map for /data/gibson/Albertville.glb\n"
     ]
    },
    {
     "name": "stdout",
     "output_type": "stream",
     "text": [
      "7650 \t TIME TO RESET:  \t 10.209915161132812\n",
      "7651 \t TIME TO STEP:  0.07104825973510742\n",
      "7652 \t TIME TO STEP:  0.07649350166320801\n",
      "7653 \t TIME TO STEP:  0.07799315452575684\n",
      "7654 \t TIME TO STEP:  0.03944540023803711\n",
      "7655 \t TIME TO STEP:  0.04473471641540527\n",
      "7656 \t TIME TO STEP:  0.04126596450805664\n",
      "7657 \t TIME TO STEP:  0.035439252853393555\n",
      "7658 \t TIME TO STEP:  0.04341840744018555\n",
      "7659 \t TIME TO STEP:  0.03875231742858887\n"
     ]
    },
    {
     "name": "stderr",
     "output_type": "stream",
     "text": [
      "2020-04-20 17:40:23,337 Computing map for /data/gibson/Albertville.glb\n"
     ]
    },
    {
     "name": "stdout",
     "output_type": "stream",
     "text": [
      "7660 \t TIME TO RESET:  \t 10.57358717918396\n",
      "7661 \t TIME TO STEP:  0.0964670181274414\n",
      "7662 \t TIME TO STEP:  0.03879880905151367\n",
      "7663 \t TIME TO STEP:  0.04133892059326172\n",
      "7664 \t TIME TO STEP:  0.09536361694335938\n",
      "7665 \t TIME TO STEP:  0.03906106948852539\n",
      "7666 \t TIME TO STEP:  0.04226207733154297\n",
      "7667 \t TIME TO STEP:  0.044805288314819336\n",
      "7668 \t TIME TO STEP:  0.02989673614501953\n",
      "7669 \t TIME TO STEP:  0.041614532470703125\n"
     ]
    },
    {
     "name": "stderr",
     "output_type": "stream",
     "text": [
      "2020-04-20 17:40:34,482 Computing map for /data/gibson/Albertville.glb\n"
     ]
    },
    {
     "name": "stdout",
     "output_type": "stream",
     "text": [
      "7670 \t TIME TO RESET:  \t 11.354242086410522\n",
      "7671 \t TIME TO STEP:  0.03237318992614746\n",
      "7672 \t TIME TO STEP:  0.04762125015258789\n",
      "7673 \t TIME TO STEP:  0.03889775276184082\n",
      "7674 \t TIME TO STEP:  0.05066537857055664\n",
      "7675 \t TIME TO STEP:  0.0452723503112793\n",
      "7676 \t TIME TO STEP:  0.0293886661529541\n",
      "7677 \t TIME TO STEP:  0.03920888900756836\n",
      "7678 \t TIME TO STEP:  0.03997087478637695\n",
      "7679 \t TIME TO STEP:  0.03988313674926758\n"
     ]
    },
    {
     "name": "stderr",
     "output_type": "stream",
     "text": [
      "2020-04-20 17:40:46,141 Computing map for /data/gibson/Albertville.glb\n",
      "2020-04-20 17:40:56,206 Invalid map: /data/gibson/Albertville.glb/770\n",
      "2020-04-20 17:40:56,657 Computing map for /data/gibson/Albertville.glb\n"
     ]
    },
    {
     "name": "stdout",
     "output_type": "stream",
     "text": [
      "7680 \t TIME TO RESET:  \t 20.695459365844727\n",
      "7681 \t TIME TO STEP:  0.12487506866455078\n",
      "7682 \t TIME TO STEP:  0.11148309707641602\n",
      "7683 \t TIME TO STEP:  0.05870199203491211\n",
      "7684 \t TIME TO STEP:  0.10319399833679199\n",
      "7685 \t TIME TO STEP:  0.0928652286529541\n",
      "7686 \t TIME TO STEP:  0.046150922775268555\n",
      "7687 \t TIME TO STEP:  0.04189801216125488\n",
      "7688 \t TIME TO STEP:  0.03649640083312988\n",
      "7689 \t TIME TO STEP:  0.044066667556762695\n"
     ]
    },
    {
     "name": "stderr",
     "output_type": "stream",
     "text": [
      "2020-04-20 17:41:07,375 Computing map for /data/gibson/Albertville.glb\n"
     ]
    },
    {
     "name": "stdout",
     "output_type": "stream",
     "text": [
      "7690 \t TIME TO RESET:  \t 10.433398008346558\n",
      "7691 \t TIME TO STEP:  0.09023880958557129\n",
      "7692 \t TIME TO STEP:  0.08881473541259766\n",
      "7693 \t TIME TO STEP:  0.0436556339263916\n",
      "7694 \t TIME TO STEP:  0.031092405319213867\n",
      "7695 \t TIME TO STEP:  0.11494636535644531\n",
      "7696 \t TIME TO STEP:  0.03809475898742676\n",
      "7697 \t TIME TO STEP:  0.05936861038208008\n",
      "7698 \t TIME TO STEP:  0.08241009712219238\n",
      "7699 \t TIME TO STEP:  0.03883218765258789\n"
     ]
    },
    {
     "name": "stderr",
     "output_type": "stream",
     "text": [
      "2020-04-20 17:41:18,361 Computing map for /data/gibson/Albertville.glb\n"
     ]
    },
    {
     "name": "stdout",
     "output_type": "stream",
     "text": [
      "7700 \t TIME TO RESET:  \t 10.86677360534668\n",
      "7701 \t TIME TO STEP:  0.09342741966247559\n",
      "7702 \t TIME TO STEP:  0.10363149642944336\n",
      "7703 \t TIME TO STEP:  0.05230832099914551\n",
      "7704 \t TIME TO STEP:  0.03641557693481445\n",
      "7705 \t TIME TO STEP:  0.05855154991149902\n",
      "7706 \t TIME TO STEP:  0.04468870162963867\n",
      "7707 \t TIME TO STEP:  0.09867501258850098\n",
      "7708 \t TIME TO STEP:  0.033199310302734375\n",
      "7709 \t TIME TO STEP:  0.04298806190490723\n"
     ]
    },
    {
     "name": "stderr",
     "output_type": "stream",
     "text": [
      "2020-04-20 17:41:30,012 Computing map for /data/gibson/Albertville.glb\n"
     ]
    },
    {
     "name": "stdout",
     "output_type": "stream",
     "text": [
      "7710 \t TIME TO RESET:  \t 10.443645715713501\n",
      "7711 \t TIME TO STEP:  0.10466504096984863\n",
      "7712 \t TIME TO STEP:  0.10064435005187988\n",
      "7713 \t TIME TO STEP:  0.07814455032348633\n",
      "7714 \t TIME TO STEP:  0.046813249588012695\n",
      "7715 \t TIME TO STEP:  0.04343295097351074\n",
      "7716 \t TIME TO STEP:  0.04009699821472168\n",
      "7717 \t TIME TO STEP:  0.050519704818725586\n",
      "7718 \t TIME TO STEP:  0.042833566665649414\n",
      "7719 \t TIME TO STEP:  0.048216819763183594\n"
     ]
    },
    {
     "name": "stderr",
     "output_type": "stream",
     "text": [
      "2020-04-20 17:41:41,144 Computing map for /data/gibson/Albertville.glb\n",
      "2020-04-20 17:41:50,885 Invalid map: /data/gibson/Albertville.glb/774\n",
      "2020-04-20 17:41:51,353 Computing map for /data/gibson/Albertville.glb\n"
     ]
    },
    {
     "name": "stdout",
     "output_type": "stream",
     "text": [
      "7720 \t TIME TO RESET:  \t 20.04825758934021\n",
      "7721 \t TIME TO STEP:  0.1047666072845459\n",
      "7722 \t TIME TO STEP:  0.04720330238342285\n",
      "7723 \t TIME TO STEP:  0.037451982498168945\n",
      "7724 \t TIME TO STEP:  0.04222393035888672\n",
      "7725 \t TIME TO STEP:  0.03928709030151367\n",
      "7726 \t TIME TO STEP:  0.04257535934448242\n",
      "7727 \t TIME TO STEP:  0.041600704193115234\n",
      "7728 \t TIME TO STEP:  0.042917490005493164\n",
      "7729 \t TIME TO STEP:  0.042433738708496094\n"
     ]
    },
    {
     "name": "stderr",
     "output_type": "stream",
     "text": [
      "2020-04-20 17:42:01,456 Computing map for /data/gibson/Albertville.glb\n"
     ]
    },
    {
     "name": "stdout",
     "output_type": "stream",
     "text": [
      "7730 \t TIME TO RESET:  \t 11.369608879089355\n",
      "7731 \t TIME TO STEP:  0.05265188217163086\n",
      "7732 \t TIME TO STEP:  0.07112264633178711\n",
      "7733 \t TIME TO STEP:  0.04579353332519531\n",
      "7734 \t TIME TO STEP:  0.04532480239868164\n",
      "7735 \t TIME TO STEP:  0.034833431243896484\n",
      "7736 \t TIME TO STEP:  0.03368830680847168\n",
      "7737 \t TIME TO STEP:  0.043332815170288086\n",
      "7738 \t TIME TO STEP:  0.04169631004333496\n",
      "7739 \t TIME TO STEP:  0.04910087585449219\n"
     ]
    },
    {
     "name": "stderr",
     "output_type": "stream",
     "text": [
      "2020-04-20 17:42:13,194 Computing map for /data/gibson/Albertville.glb\n",
      "2020-04-20 17:42:24,693 Invalid map: /data/gibson/Albertville.glb/776\n",
      "2020-04-20 17:42:25,100 Computing map for /data/gibson/Albertville.glb\n"
     ]
    },
    {
     "name": "stdout",
     "output_type": "stream",
     "text": [
      "7740 \t TIME TO RESET:  \t 22.57468318939209\n",
      "7741 \t TIME TO STEP:  0.09289193153381348\n",
      "7742 \t TIME TO STEP:  0.048795461654663086\n",
      "7743 \t TIME TO STEP:  0.04937124252319336\n",
      "7744 \t TIME TO STEP:  0.05219316482543945\n",
      "7745 \t TIME TO STEP:  0.04268789291381836\n",
      "7746 \t TIME TO STEP:  0.03365135192871094\n",
      "7747 \t TIME TO STEP:  0.037805795669555664\n",
      "7748 \t TIME TO STEP:  0.03302359580993652\n",
      "7749 \t TIME TO STEP:  0.029622554779052734\n"
     ]
    },
    {
     "name": "stderr",
     "output_type": "stream",
     "text": [
      "2020-04-20 17:42:36,137 Computing map for /data/gibson/Albertville.glb\n"
     ]
    },
    {
     "name": "stdout",
     "output_type": "stream",
     "text": [
      "7750 \t TIME TO RESET:  \t 10.126704692840576\n",
      "7751 \t TIME TO STEP:  0.04481816291809082\n",
      "7752 \t TIME TO STEP:  0.049910783767700195\n",
      "7753 \t TIME TO STEP:  0.06931829452514648\n",
      "7754 \t TIME TO STEP:  0.09968733787536621\n",
      "7755 \t TIME TO STEP:  0.09982872009277344\n",
      "7756 \t TIME TO STEP:  0.09897756576538086\n",
      "7757 \t TIME TO STEP:  0.12174773216247559\n",
      "7758 \t TIME TO STEP:  0.09930181503295898\n",
      "7759 \t TIME TO STEP:  0.04129338264465332\n"
     ]
    },
    {
     "name": "stderr",
     "output_type": "stream",
     "text": [
      "2020-04-20 17:42:46,964 Computing map for /data/gibson/Albertville.glb\n"
     ]
    },
    {
     "name": "stdout",
     "output_type": "stream",
     "text": [
      "7760 \t TIME TO RESET:  \t 11.175097942352295\n",
      "7761 \t TIME TO STEP:  0.0928657054901123\n",
      "7762 \t TIME TO STEP:  0.1099557876586914\n",
      "7763 \t TIME TO STEP:  0.0800333023071289\n",
      "7764 \t TIME TO STEP:  0.09232950210571289\n",
      "7765 \t TIME TO STEP:  0.10893988609313965\n",
      "7766 \t TIME TO STEP:  0.07294917106628418\n",
      "7767 \t TIME TO STEP:  0.08800935745239258\n",
      "7768 \t TIME TO STEP:  0.0645136833190918\n",
      "7769 \t TIME TO STEP:  0.03660893440246582\n"
     ]
    },
    {
     "name": "stderr",
     "output_type": "stream",
     "text": [
      "2020-04-20 17:42:59,183 Computing map for /data/gibson/Albertville.glb\n"
     ]
    },
    {
     "name": "stdout",
     "output_type": "stream",
     "text": [
      "7770 \t TIME TO RESET:  \t 10.752512693405151\n",
      "7771 \t TIME TO STEP:  0.09928703308105469\n",
      "7772 \t TIME TO STEP:  0.03844094276428223\n",
      "7773 \t TIME TO STEP:  0.03424477577209473\n",
      "7774 \t TIME TO STEP:  0.029173851013183594\n",
      "7775 \t TIME TO STEP:  0.036812782287597656\n",
      "7776 \t TIME TO STEP:  0.027373552322387695\n",
      "7777 \t TIME TO STEP:  0.030867815017700195\n",
      "7778 \t TIME TO STEP:  0.026740550994873047\n",
      "7779 \t TIME TO STEP:  0.02793574333190918\n"
     ]
    },
    {
     "name": "stderr",
     "output_type": "stream",
     "text": [
      "2020-04-20 17:43:09,980 Computing map for /data/gibson/Albertville.glb\n"
     ]
    },
    {
     "name": "stdout",
     "output_type": "stream",
     "text": [
      "7780 \t TIME TO RESET:  \t 10.927659273147583\n",
      "7781 \t TIME TO STEP:  0.10757708549499512\n",
      "7782 \t TIME TO STEP:  0.1134650707244873\n",
      "7783 \t TIME TO STEP:  0.11729168891906738\n",
      "7784 \t TIME TO STEP:  0.05484747886657715\n",
      "7785 \t TIME TO STEP:  0.05498909950256348\n",
      "7786 \t TIME TO STEP:  0.08707737922668457\n",
      "7787 \t TIME TO STEP:  0.06380176544189453\n",
      "7788 \t TIME TO STEP:  0.047905921936035156\n",
      "7789 \t TIME TO STEP:  0.04645705223083496\n"
     ]
    },
    {
     "name": "stderr",
     "output_type": "stream",
     "text": [
      "2020-04-20 17:43:21,676 Computing map for /data/gibson/Albertville.glb\n"
     ]
    },
    {
     "name": "stdout",
     "output_type": "stream",
     "text": [
      "7790 \t TIME TO RESET:  \t 10.123317241668701\n",
      "7791 \t TIME TO STEP:  0.06917953491210938\n",
      "7792 \t TIME TO STEP:  0.0678415298461914\n",
      "7793 \t TIME TO STEP:  0.04224562644958496\n",
      "7794 \t TIME TO STEP:  0.04344010353088379\n",
      "7795 \t TIME TO STEP:  0.0423130989074707\n",
      "7796 \t TIME TO STEP:  0.04132342338562012\n",
      "7797 \t TIME TO STEP:  0.028252840042114258\n",
      "7798 \t TIME TO STEP:  0.03181743621826172\n",
      "7799 \t TIME TO STEP:  0.04056191444396973\n"
     ]
    },
    {
     "name": "stderr",
     "output_type": "stream",
     "text": [
      "2020-04-20 17:43:32,103 Computing map for /data/gibson/Albertville.glb\n"
     ]
    },
    {
     "name": "stdout",
     "output_type": "stream",
     "text": [
      "7800 \t TIME TO RESET:  \t 9.343271970748901\n",
      "7801 \t TIME TO STEP:  0.09262895584106445\n",
      "7802 \t TIME TO STEP:  0.047640323638916016\n",
      "7803 \t TIME TO STEP:  0.09195280075073242\n",
      "7804 \t TIME TO STEP:  0.10223245620727539\n",
      "7805 \t TIME TO STEP:  0.04131126403808594\n",
      "7806 \t TIME TO STEP:  0.1013638973236084\n",
      "7807 \t TIME TO STEP:  0.05496788024902344\n",
      "7808 \t TIME TO STEP:  0.11279153823852539\n",
      "7809 \t TIME TO STEP:  0.07417845726013184\n"
     ]
    },
    {
     "name": "stderr",
     "output_type": "stream",
     "text": [
      "2020-04-20 17:43:42,306 Computing map for /data/gibson/Albertville.glb\n",
      "2020-04-20 17:43:52,078 Invalid map: /data/gibson/Albertville.glb/783\n",
      "2020-04-20 17:43:52,506 Computing map for /data/gibson/Albertville.glb\n",
      "2020-04-20 17:44:03,181 Invalid map: /data/gibson/Albertville.glb/783\n",
      "2020-04-20 17:44:03,639 Computing map for /data/gibson/Albertville.glb\n",
      "2020-04-20 17:44:14,319 Invalid map: /data/gibson/Albertville.glb/783\n",
      "2020-04-20 17:44:14,783 Computing map for /data/gibson/Albertville.glb\n",
      "2020-04-20 17:44:23,925 Invalid map: /data/gibson/Albertville.glb/783\n",
      "2020-04-20 17:44:24,206 Computing map for /data/gibson/Albertville.glb\n",
      "2020-04-20 17:44:33,666 Invalid map: /data/gibson/Albertville.glb/783\n",
      "2020-04-20 17:44:34,049 Computing map for /data/gibson/Albertville.glb\n"
     ]
    },
    {
     "name": "stdout",
     "output_type": "stream",
     "text": [
      "7810 \t TIME TO RESET:  \t 62.89704203605652\n",
      "7811 \t TIME TO STEP:  0.0563817024230957\n",
      "7812 \t TIME TO STEP:  0.08815622329711914\n",
      "7813 \t TIME TO STEP:  0.09904170036315918\n",
      "7814 \t TIME TO STEP:  0.04444265365600586\n",
      "7815 \t TIME TO STEP:  0.042012691497802734\n",
      "7816 \t TIME TO STEP:  0.04061317443847656\n",
      "7817 \t TIME TO STEP:  0.04148459434509277\n",
      "7818 \t TIME TO STEP:  0.045500755310058594\n",
      "7819 \t TIME TO STEP:  0.06539011001586914\n"
     ]
    },
    {
     "name": "stderr",
     "output_type": "stream",
     "text": [
      "2020-04-20 17:44:45,853 Computing map for /data/gibson/Albertville.glb\n",
      "2020-04-20 17:44:55,945 Invalid map: /data/gibson/Albertville.glb/784\n",
      "2020-04-20 17:44:56,257 Computing map for /data/gibson/Albertville.glb\n"
     ]
    },
    {
     "name": "stdout",
     "output_type": "stream",
     "text": [
      "7820 \t TIME TO RESET:  \t 21.167932271957397\n",
      "7821 \t TIME TO STEP:  0.04600119590759277\n",
      "7822 \t TIME TO STEP:  0.10992622375488281\n",
      "7823 \t TIME TO STEP:  0.04229998588562012\n",
      "7824 \t TIME TO STEP:  0.034715890884399414\n",
      "7825 \t TIME TO STEP:  0.07386517524719238\n",
      "7826 \t TIME TO STEP:  0.04984855651855469\n",
      "7827 \t TIME TO STEP:  0.03592681884765625\n",
      "7828 \t TIME TO STEP:  0.0941627025604248\n",
      "7829 \t TIME TO STEP:  0.04463648796081543\n"
     ]
    },
    {
     "name": "stderr",
     "output_type": "stream",
     "text": [
      "2020-04-20 17:45:07,388 Computing map for /data/gibson/Albertville.glb\n"
     ]
    },
    {
     "name": "stdout",
     "output_type": "stream",
     "text": [
      "7830 \t TIME TO RESET:  \t 11.832386255264282\n",
      "7831 \t TIME TO STEP:  0.05111551284790039\n",
      "7832 \t TIME TO STEP:  0.03584599494934082\n",
      "7833 \t TIME TO STEP:  0.04257941246032715\n",
      "7834 \t TIME TO STEP:  0.05466198921203613\n",
      "7835 \t TIME TO STEP:  0.043389081954956055\n",
      "7836 \t TIME TO STEP:  0.05648970603942871\n",
      "7837 \t TIME TO STEP:  0.04962635040283203\n",
      "7838 \t TIME TO STEP:  0.04482674598693848\n",
      "7839 \t TIME TO STEP:  0.04810070991516113\n"
     ]
    },
    {
     "name": "stderr",
     "output_type": "stream",
     "text": [
      "2020-04-20 17:45:19,620 Computing map for /data/gibson/Albertville.glb\n",
      "2020-04-20 17:45:29,341 Invalid map: /data/gibson/Albertville.glb/786\n",
      "2020-04-20 17:45:29,795 Computing map for /data/gibson/Albertville.glb\n"
     ]
    },
    {
     "name": "stdout",
     "output_type": "stream",
     "text": [
      "7840 \t TIME TO RESET:  \t 20.060596466064453\n",
      "7841 \t TIME TO STEP:  0.08909964561462402\n",
      "7842 \t TIME TO STEP:  0.15996885299682617\n",
      "7843 \t TIME TO STEP:  0.15155506134033203\n",
      "7844 \t TIME TO STEP:  0.06093788146972656\n",
      "7845 \t TIME TO STEP:  0.039879798889160156\n",
      "7846 \t TIME TO STEP:  0.05102849006652832\n",
      "7847 \t TIME TO STEP:  0.030336856842041016\n",
      "7848 \t TIME TO STEP:  0.03759121894836426\n",
      "7849 \t TIME TO STEP:  0.031012296676635742\n"
     ]
    },
    {
     "name": "stderr",
     "output_type": "stream",
     "text": [
      "2020-04-20 17:45:40,565 Computing map for /data/gibson/Albertville.glb\n"
     ]
    },
    {
     "name": "stdout",
     "output_type": "stream",
     "text": [
      "7850 \t TIME TO RESET:  \t 11.821024894714355\n",
      "7851 \t TIME TO STEP:  0.09560632705688477\n",
      "7852 \t TIME TO STEP:  0.10168600082397461\n",
      "7853 \t TIME TO STEP:  0.04778409004211426\n",
      "7854 \t TIME TO STEP:  0.04509758949279785\n",
      "7855 \t TIME TO STEP:  0.028524398803710938\n",
      "7856 \t TIME TO STEP:  0.09927105903625488\n",
      "7857 \t TIME TO STEP:  0.031458139419555664\n",
      "7858 \t TIME TO STEP:  0.03398871421813965\n",
      "7859 \t TIME TO STEP:  0.028345584869384766\n"
     ]
    },
    {
     "name": "stderr",
     "output_type": "stream",
     "text": [
      "2020-04-20 17:45:52,964 Computing map for /data/gibson/Albertville.glb\n"
     ]
    },
    {
     "name": "stdout",
     "output_type": "stream",
     "text": [
      "7860 \t TIME TO RESET:  \t 12.067538976669312\n",
      "7861 \t TIME TO STEP:  0.12553668022155762\n",
      "7862 \t TIME TO STEP:  0.13913369178771973\n",
      "7863 \t TIME TO STEP:  0.04400801658630371\n",
      "7864 \t TIME TO STEP:  0.04195261001586914\n",
      "7865 \t TIME TO STEP:  0.05086469650268555\n",
      "7866 \t TIME TO STEP:  0.04492688179016113\n",
      "7867 \t TIME TO STEP:  0.07180190086364746\n",
      "7868 \t TIME TO STEP:  0.03954505920410156\n",
      "7869 \t TIME TO STEP:  0.059523820877075195\n"
     ]
    },
    {
     "name": "stderr",
     "output_type": "stream",
     "text": [
      "2020-04-20 17:46:05,759 Computing map for /data/gibson/Albertville.glb\n",
      "2020-04-20 17:46:15,978 Invalid map: /data/gibson/Albertville.glb/789\n",
      "2020-04-20 17:46:16,411 Computing map for /data/gibson/Albertville.glb\n"
     ]
    },
    {
     "name": "stdout",
     "output_type": "stream",
     "text": [
      "7870 \t TIME TO RESET:  \t 21.844804048538208\n",
      "7871 \t TIME TO STEP:  0.056436777114868164\n",
      "7872 \t TIME TO STEP:  0.06987929344177246\n",
      "7873 \t TIME TO STEP:  0.11650919914245605\n",
      "7874 \t TIME TO STEP:  0.08954215049743652\n",
      "7875 \t TIME TO STEP:  0.08755850791931152\n",
      "7876 \t TIME TO STEP:  0.07726621627807617\n",
      "7877 \t TIME TO STEP:  0.04125380516052246\n",
      "7878 \t TIME TO STEP:  0.1253495216369629\n",
      "7879 \t TIME TO STEP:  0.1269388198852539\n"
     ]
    },
    {
     "name": "stderr",
     "output_type": "stream",
     "text": [
      "2020-04-20 17:46:28,273 Computing map for /data/gibson/Albertville.glb\n"
     ]
    },
    {
     "name": "stdout",
     "output_type": "stream",
     "text": [
      "7880 \t TIME TO RESET:  \t 11.00440764427185\n",
      "7881 \t TIME TO STEP:  0.03143906593322754\n",
      "7882 \t TIME TO STEP:  0.08604955673217773\n",
      "7883 \t TIME TO STEP:  0.07587099075317383\n",
      "7884 \t TIME TO STEP:  0.0298159122467041\n",
      "7885 \t TIME TO STEP:  0.11372613906860352\n",
      "7886 \t TIME TO STEP:  0.07720184326171875\n",
      "7887 \t TIME TO STEP:  0.0953683853149414\n",
      "7888 \t TIME TO STEP:  0.03780794143676758\n",
      "7889 \t TIME TO STEP:  0.029011964797973633\n"
     ]
    },
    {
     "name": "stderr",
     "output_type": "stream",
     "text": [
      "2020-04-20 17:46:39,617 Computing map for /data/gibson/Albertville.glb\n",
      "2020-04-20 17:46:49,364 Invalid map: /data/gibson/Albertville.glb/791\n",
      "2020-04-20 17:46:49,904 Computing map for /data/gibson/Albertville.glb\n",
      "2020-04-20 17:46:59,939 Invalid map: /data/gibson/Albertville.glb/791\n",
      "2020-04-20 17:47:00,391 Computing map for /data/gibson/Albertville.glb\n"
     ]
    },
    {
     "name": "stdout",
     "output_type": "stream",
     "text": [
      "7890 \t TIME TO RESET:  \t 31.099598169326782\n",
      "7891 \t TIME TO STEP:  0.0689082145690918\n",
      "7892 \t TIME TO STEP:  0.08174729347229004\n",
      "7893 \t TIME TO STEP:  0.04793906211853027\n",
      "7894 \t TIME TO STEP:  0.040354013442993164\n",
      "7895 \t TIME TO STEP:  0.02853703498840332\n",
      "7896 \t TIME TO STEP:  0.06379008293151855\n",
      "7897 \t TIME TO STEP:  0.04264402389526367\n",
      "7898 \t TIME TO STEP:  0.03742551803588867\n",
      "7899 \t TIME TO STEP:  0.10319852828979492\n"
     ]
    },
    {
     "name": "stderr",
     "output_type": "stream",
     "text": [
      "2020-04-20 17:47:11,191 Computing map for /data/gibson/Albertville.glb\n",
      "2020-04-20 17:47:21,705 Invalid map: /data/gibson/Albertville.glb/792\n",
      "2020-04-20 17:47:22,218 Computing map for /data/gibson/Albertville.glb\n"
     ]
    },
    {
     "name": "stdout",
     "output_type": "stream",
     "text": [
      "7900 \t TIME TO RESET:  \t 22.77377486228943\n",
      "7901 \t TIME TO STEP:  0.0628824234008789\n",
      "7902 \t TIME TO STEP:  0.03560328483581543\n",
      "7903 \t TIME TO STEP:  0.03488516807556152\n",
      "7904 \t TIME TO STEP:  0.03396463394165039\n",
      "7905 \t TIME TO STEP:  0.03272509574890137\n",
      "7906 \t TIME TO STEP:  0.04076123237609863\n",
      "7907 \t TIME TO STEP:  0.03981304168701172\n",
      "7908 \t TIME TO STEP:  0.03668093681335449\n",
      "7909 \t TIME TO STEP:  0.04902815818786621\n"
     ]
    },
    {
     "name": "stderr",
     "output_type": "stream",
     "text": [
      "2020-04-20 17:47:34,467 Computing map for /data/gibson/Albertville.glb\n"
     ]
    },
    {
     "name": "stdout",
     "output_type": "stream",
     "text": [
      "7910 \t TIME TO RESET:  \t 11.448357105255127\n",
      "7911 \t TIME TO STEP:  0.03217720985412598\n",
      "7912 \t TIME TO STEP:  0.029344797134399414\n",
      "7913 \t TIME TO STEP:  0.07200765609741211\n",
      "7914 \t TIME TO STEP:  0.028492212295532227\n",
      "7915 \t TIME TO STEP:  0.03817605972290039\n",
      "7916 \t TIME TO STEP:  0.03927922248840332\n",
      "7917 \t TIME TO STEP:  0.0287320613861084\n",
      "7918 \t TIME TO STEP:  0.047400474548339844\n",
      "7919 \t TIME TO STEP:  0.02916097640991211\n"
     ]
    },
    {
     "name": "stderr",
     "output_type": "stream",
     "text": [
      "2020-04-20 17:47:46,172 Computing map for /data/gibson/Albertville.glb\n"
     ]
    },
    {
     "name": "stdout",
     "output_type": "stream",
     "text": [
      "7920 \t TIME TO RESET:  \t 9.919201612472534\n",
      "7921 \t TIME TO STEP:  0.08650088310241699\n",
      "7922 \t TIME TO STEP:  0.0387110710144043\n",
      "7923 \t TIME TO STEP:  0.04074287414550781\n",
      "7924 \t TIME TO STEP:  0.043083906173706055\n",
      "7925 \t TIME TO STEP:  0.03928661346435547\n",
      "7926 \t TIME TO STEP:  0.042990922927856445\n",
      "7927 \t TIME TO STEP:  0.04001593589782715\n",
      "7928 \t TIME TO STEP:  0.03154110908508301\n",
      "7929 \t TIME TO STEP:  0.032016754150390625\n"
     ]
    },
    {
     "name": "stderr",
     "output_type": "stream",
     "text": [
      "2020-04-20 17:47:56,458 Computing map for /data/gibson/Albertville.glb\n"
     ]
    },
    {
     "name": "stdout",
     "output_type": "stream",
     "text": [
      "7930 \t TIME TO RESET:  \t 12.474530696868896\n",
      "7931 \t TIME TO STEP:  0.09525203704833984\n",
      "7932 \t TIME TO STEP:  0.10806822776794434\n",
      "7933 \t TIME TO STEP:  0.04640483856201172\n",
      "7934 \t TIME TO STEP:  0.04266166687011719\n",
      "7935 \t TIME TO STEP:  0.036234378814697266\n",
      "7936 \t TIME TO STEP:  0.04006004333496094\n",
      "7937 \t TIME TO STEP:  0.05252695083618164\n",
      "7938 \t TIME TO STEP:  0.05146598815917969\n",
      "7939 \t TIME TO STEP:  0.04175281524658203\n"
     ]
    },
    {
     "name": "stderr",
     "output_type": "stream",
     "text": [
      "2020-04-20 17:48:09,488 Computing map for /data/gibson/Albertville.glb\n"
     ]
    },
    {
     "name": "stdout",
     "output_type": "stream",
     "text": [
      "7940 \t TIME TO RESET:  \t 10.198604345321655\n",
      "7941 \t TIME TO STEP:  0.09772801399230957\n",
      "7942 \t TIME TO STEP:  0.06253790855407715\n",
      "7943 \t TIME TO STEP:  0.044188737869262695\n",
      "7944 \t TIME TO STEP:  0.040971994400024414\n",
      "7945 \t TIME TO STEP:  0.04206562042236328\n",
      "7946 \t TIME TO STEP:  0.09785795211791992\n",
      "7947 \t TIME TO STEP:  0.06912803649902344\n",
      "7948 \t TIME TO STEP:  0.029663801193237305\n",
      "7949 \t TIME TO STEP:  0.06438827514648438\n"
     ]
    },
    {
     "name": "stderr",
     "output_type": "stream",
     "text": [
      "2020-04-20 17:48:20,320 Computing map for /data/gibson/Albertville.glb\n"
     ]
    },
    {
     "name": "stdout",
     "output_type": "stream",
     "text": [
      "7950 \t TIME TO RESET:  \t 10.598238706588745\n",
      "7951 \t TIME TO STEP:  0.04224038124084473\n",
      "7952 \t TIME TO STEP:  0.03984832763671875\n",
      "7953 \t TIME TO STEP:  0.04345893859863281\n",
      "7954 \t TIME TO STEP:  0.04535365104675293\n",
      "7955 \t TIME TO STEP:  0.060418128967285156\n",
      "7956 \t TIME TO STEP:  0.0942232608795166\n",
      "7957 \t TIME TO STEP:  0.04799509048461914\n",
      "7958 \t TIME TO STEP:  0.03237032890319824\n",
      "7959 \t TIME TO STEP:  0.035131216049194336\n"
     ]
    },
    {
     "name": "stderr",
     "output_type": "stream",
     "text": [
      "2020-04-20 17:48:31,303 Computing map for /data/gibson/Albertville.glb\n",
      "2020-04-20 17:48:41,397 Invalid map: /data/gibson/Albertville.glb/798\n",
      "2020-04-20 17:48:41,763 Computing map for /data/gibson/Albertville.glb\n"
     ]
    },
    {
     "name": "stdout",
     "output_type": "stream",
     "text": [
      "7960 \t TIME TO RESET:  \t 20.82830572128296\n",
      "7961 \t TIME TO STEP:  0.049277305603027344\n",
      "7962 \t TIME TO STEP:  0.16120338439941406\n",
      "7963 \t TIME TO STEP:  0.14064693450927734\n",
      "7964 \t TIME TO STEP:  0.1105647087097168\n",
      "7965 \t TIME TO STEP:  0.11420345306396484\n",
      "7966 \t TIME TO STEP:  0.07623124122619629\n",
      "7967 \t TIME TO STEP:  0.04782748222351074\n",
      "7968 \t TIME TO STEP:  0.042630910873413086\n",
      "7969 \t TIME TO STEP:  0.04383230209350586\n"
     ]
    },
    {
     "name": "stderr",
     "output_type": "stream",
     "text": [
      "2020-04-20 17:48:53,035 Computing map for /data/gibson/Albertville.glb\n",
      "2020-04-20 17:49:02,383 Invalid map: /data/gibson/Albertville.glb/799\n",
      "2020-04-20 17:49:02,944 Computing map for /data/gibson/Albertville.glb\n"
     ]
    },
    {
     "name": "stdout",
     "output_type": "stream",
     "text": [
      "7970 \t TIME TO RESET:  \t 20.52056097984314\n",
      "7971 \t TIME TO STEP:  0.03781843185424805\n",
      "7972 \t TIME TO STEP:  0.04184126853942871\n",
      "7973 \t TIME TO STEP:  0.07133984565734863\n",
      "7974 \t TIME TO STEP:  0.0435335636138916\n",
      "7975 \t TIME TO STEP:  0.054860591888427734\n",
      "7976 \t TIME TO STEP:  0.07555818557739258\n",
      "7977 \t TIME TO STEP:  0.09796380996704102\n",
      "7978 \t TIME TO STEP:  0.08273887634277344\n",
      "7979 \t TIME TO STEP:  0.05736064910888672\n"
     ]
    },
    {
     "name": "stderr",
     "output_type": "stream",
     "text": [
      "2020-04-20 17:49:13,945 Computing map for /data/gibson/Albertville.glb\n",
      "2020-04-20 17:49:24,090 Invalid map: /data/gibson/Albertville.glb/800\n",
      "2020-04-20 17:49:24,668 Computing map for /data/gibson/Albertville.glb\n",
      "2020-04-20 17:49:34,271 Invalid map: /data/gibson/Albertville.glb/800\n",
      "2020-04-20 17:49:34,714 Computing map for /data/gibson/Albertville.glb\n"
     ]
    },
    {
     "name": "stdout",
     "output_type": "stream",
     "text": [
      "7980 \t TIME TO RESET:  \t 30.804959058761597\n",
      "7981 \t TIME TO STEP:  0.048398494720458984\n",
      "7982 \t TIME TO STEP:  0.10525655746459961\n",
      "7983 \t TIME TO STEP:  0.09301900863647461\n",
      "7984 \t TIME TO STEP:  0.03706836700439453\n",
      "7985 \t TIME TO STEP:  0.03824806213378906\n",
      "7986 \t TIME TO STEP:  0.02811121940612793\n",
      "7987 \t TIME TO STEP:  0.04034137725830078\n",
      "7988 \t TIME TO STEP:  0.03040790557861328\n",
      "7989 \t TIME TO STEP:  0.09963178634643555\n"
     ]
    },
    {
     "name": "stderr",
     "output_type": "stream",
     "text": [
      "2020-04-20 17:49:45,225 Computing map for /data/gibson/Albertville.glb\n",
      "2020-04-20 17:49:56,599 Invalid map: /data/gibson/Albertville.glb/801\n",
      "2020-04-20 17:49:56,916 Computing map for /data/gibson/Albertville.glb\n",
      "2020-04-20 17:50:05,998 Invalid map: /data/gibson/Albertville.glb/801\n",
      "2020-04-20 17:50:06,566 Computing map for /data/gibson/Albertville.glb\n"
     ]
    },
    {
     "name": "stdout",
     "output_type": "stream",
     "text": [
      "7990 \t TIME TO RESET:  \t 31.332640647888184\n",
      "7991 \t TIME TO STEP:  0.10876607894897461\n",
      "7992 \t TIME TO STEP:  0.039615631103515625\n",
      "7993 \t TIME TO STEP:  0.03946375846862793\n",
      "7994 \t TIME TO STEP:  0.08294677734375\n",
      "7995 \t TIME TO STEP:  0.05678057670593262\n",
      "7996 \t TIME TO STEP:  0.030923128128051758\n",
      "7997 \t TIME TO STEP:  0.07382416725158691\n",
      "7998 \t TIME TO STEP:  0.03751540184020996\n",
      "7999 \t TIME TO STEP:  0.0934302806854248\n"
     ]
    },
    {
     "name": "stderr",
     "output_type": "stream",
     "text": [
      "2020-04-20 17:50:17,328 Computing map for /data/gibson/Albertville.glb\n"
     ]
    },
    {
     "name": "stdout",
     "output_type": "stream",
     "text": [
      "8000 \t TIME TO RESET:  \t 10.062517881393433\n",
      "8001 \t TIME TO STEP:  0.05325436592102051\n",
      "8002 \t TIME TO STEP:  0.04140901565551758\n",
      "8003 \t TIME TO STEP:  0.03076934814453125\n",
      "8004 \t TIME TO STEP:  0.04282188415527344\n",
      "8005 \t TIME TO STEP:  0.04081106185913086\n",
      "8006 \t TIME TO STEP:  0.03887009620666504\n",
      "8007 \t TIME TO STEP:  0.042916059494018555\n",
      "8008 \t TIME TO STEP:  0.04900002479553223\n",
      "8009 \t TIME TO STEP:  0.04253196716308594\n"
     ]
    },
    {
     "name": "stderr",
     "output_type": "stream",
     "text": [
      "2020-04-20 17:50:27,907 Computing map for /data/gibson/Albertville.glb\n"
     ]
    },
    {
     "name": "stdout",
     "output_type": "stream",
     "text": [
      "8010 \t TIME TO RESET:  \t 9.199343204498291\n",
      "8011 \t TIME TO STEP:  0.09324383735656738\n",
      "8012 \t TIME TO STEP:  0.08372616767883301\n",
      "8013 \t TIME TO STEP:  0.044045209884643555\n",
      "8014 \t TIME TO STEP:  0.04260993003845215\n",
      "8015 \t TIME TO STEP:  0.04055523872375488\n",
      "8016 \t TIME TO STEP:  0.04322648048400879\n",
      "8017 \t TIME TO STEP:  0.03393864631652832\n",
      "8018 \t TIME TO STEP:  0.04608869552612305\n",
      "8019 \t TIME TO STEP:  0.03747057914733887\n"
     ]
    },
    {
     "name": "stderr",
     "output_type": "stream",
     "text": [
      "2020-04-20 17:50:37,409 Computing map for /data/gibson/Albertville.glb\n"
     ]
    },
    {
     "name": "stdout",
     "output_type": "stream",
     "text": [
      "8020 \t TIME TO RESET:  \t 9.312172174453735\n",
      "8021 \t TIME TO STEP:  0.0787196159362793\n",
      "8022 \t TIME TO STEP:  0.0349881649017334\n",
      "8023 \t TIME TO STEP:  0.03674507141113281\n",
      "8024 \t TIME TO STEP:  0.03032851219177246\n",
      "8025 \t TIME TO STEP:  0.038076162338256836\n",
      "8026 \t TIME TO STEP:  0.029356002807617188\n",
      "8027 \t TIME TO STEP:  0.044930219650268555\n",
      "8028 \t TIME TO STEP:  0.03133702278137207\n",
      "8029 \t TIME TO STEP:  0.03841805458068848\n"
     ]
    },
    {
     "name": "stderr",
     "output_type": "stream",
     "text": [
      "2020-04-20 17:50:47,068 Computing map for /data/gibson/Albertville.glb\n"
     ]
    },
    {
     "name": "stdout",
     "output_type": "stream",
     "text": [
      "8030 \t TIME TO RESET:  \t 9.88841986656189\n",
      "8031 \t TIME TO STEP:  0.10970449447631836\n",
      "8032 \t TIME TO STEP:  0.08997511863708496\n"
     ]
    }
   ],
   "source": [
    "for i in range(100000):\n",
    "    if i%10==0:\n",
    "        strt = time.time()\n",
    "        obs, info = one_env.reset()\n",
    "        eend = time.time()\n",
    "        print(i,'\\t','TIME TO RESET: ','\\t',eend-strt)\n",
    "    else:\n",
    "        strt = time.time()\n",
    "        obs, reward, done, info = one_env.step(action=1)\n",
    "        obs_new = torch.from_numpy(np.asarray(one_env.res(obs['rgb'])).transpose(2, 0, 1)).unsqueeze(0).float().to(device)\n",
    "        infos = [info]\n",
    "        eend = time.time()\n",
    "        print(i,'\\t','TIME TO STEP: ',eend-strt)"
   ]
  },
  {
   "cell_type": "code",
   "execution_count": 12,
   "metadata": {},
   "outputs": [],
   "source": [
    "# Add frames to memory\n",
    "last_obs = obs_new.detach()\n",
    "for i in range(72+1):\n",
    "    for env_idx in range(num_scenes):\n",
    "        env_obs = obs_new[env_idx].to(\"cpu\")\n",
    "        env_poses = torch.from_numpy(np.asarray(\n",
    "            infos[env_idx]['sensor_pose']\n",
    "        )).float().to(\"cpu\")\n",
    "        env_gt_fp_projs = torch.from_numpy(np.asarray(\n",
    "            infos[env_idx]['fp_proj']\n",
    "        )).unsqueeze(0).float().to(\"cpu\")\n",
    "        env_gt_fp_explored = torch.from_numpy(np.asarray(\n",
    "            infos[env_idx]['fp_explored']\n",
    "        )).unsqueeze(0).float().to(\"cpu\")\n",
    "        env_gt_pose_err = torch.from_numpy(np.asarray(\n",
    "            infos[env_idx]['pose_err']\n",
    "        )).float().to(\"cpu\")\n",
    "        slam_memory.push(\n",
    "            (last_obs[env_idx].cpu(), env_obs, env_poses),\n",
    "            (env_gt_fp_projs, env_gt_fp_explored, env_gt_pose_err))"
   ]
  },
  {
   "cell_type": "code",
   "execution_count": 101,
   "metadata": {},
   "outputs": [
    {
     "name": "stdout",
     "output_type": "stream",
     "text": [
      "tensor(0.2127, device='cuda:0', grad_fn=<AddBackward0>)\n"
     ]
    }
   ],
   "source": [
    "#if len(slam_memory) > args.slam_batch_size:\n",
    "inputs, outputs = slam_memory.sample(args.slam_batch_size)\n",
    "b_obs_last, b_obs, b_poses = inputs\n",
    "gt_fp_projs, gt_fp_explored, gt_pose_err = outputs\n",
    "b_obs = b_obs.to(device)\n",
    "b_obs_last = b_obs_last.to(device)\n",
    "b_poses = b_poses.to(device)\n",
    "gt_fp_projs = gt_fp_projs.to(device)\n",
    "gt_fp_explored = gt_fp_explored.to(device)\n",
    "gt_pose_err = gt_pose_err.to(device)\n",
    "\n",
    "b_proj_pred, b_fp_exp_pred, _, _, b_pose_err_pred, _ = \\\n",
    "                        nslam_module(b_obs_last, b_obs, b_poses,\n",
    "                                     None, None, None,\n",
    "                                     build_maps=False)\n",
    "loss = 0\n",
    "if args.proj_loss_coeff > 0:\n",
    "    proj_loss = F.binary_cross_entropy(b_proj_pred,\n",
    "                                       gt_fp_projs)\n",
    "    costs.append(proj_loss.item())\n",
    "    loss += args.proj_loss_coeff * proj_loss\n",
    "\n",
    "if args.exp_loss_coeff > 0:\n",
    "    exp_loss = F.binary_cross_entropy(b_fp_exp_pred,\n",
    "                                      gt_fp_explored)\n",
    "    exp_costs.append(exp_loss.item())\n",
    "    loss += args.exp_loss_coeff * exp_loss\n",
    "\n",
    "if args.pose_loss_coeff > 0:\n",
    "    pose_loss = torch.nn.MSELoss()(b_pose_err_pred,\n",
    "                                   gt_pose_err)\n",
    "    pose_costs.append(args.pose_loss_coeff *\n",
    "                      pose_loss.item())\n",
    "    loss += args.pose_loss_coeff * pose_loss\n",
    "\n",
    "if args.train_slam:\n",
    "    slam_optimizer.zero_grad()\n",
    "    loss.backward()\n",
    "    slam_optimizer.step()\n",
    "\n",
    "#del b_obs_last, b_obs, b_poses\n",
    "#del gt_fp_projs, gt_fp_explored, gt_pose_err\n",
    "#del b_proj_pred, b_fp_exp_pred, b_pose_err_pred\n",
    "\n",
    "print(loss)"
   ]
  },
  {
   "cell_type": "code",
   "execution_count": 102,
   "metadata": {},
   "outputs": [
    {
     "data": {
      "text/plain": [
       "<matplotlib.image.AxesImage at 0x7ff8a68449b0>"
      ]
     },
     "execution_count": 102,
     "metadata": {},
     "output_type": "execute_result"
    },
    {
     "data": {
      "image/png": "[encoded data removed]",
      "text/plain": [
       "<Figure size 432x288 with 1 Axes>"
      ]
     },
     "metadata": {
      "needs_background": "light"
     },
     "output_type": "display_data"
    }
   ],
   "source": [
    "plt.imshow(gt_fp_projs[5][0].detach().cpu().numpy())"
   ]
  },
  {
   "cell_type": "code",
   "execution_count": 103,
   "metadata": {},
   "outputs": [
    {
     "data": {
      "text/plain": [
       "<matplotlib.image.AxesImage at 0x7ff8a6629f60>"
      ]
     },
     "execution_count": 103,
     "metadata": {},
     "output_type": "execute_result"
    },
    {
     "data": {
      "image/png": "[encoded data removed]",
      "text/plain": [
       "<Figure size 432x288 with 1 Axes>"
      ]
     },
     "metadata": {
      "needs_background": "light"
     },
     "output_type": "display_data"
    }
   ],
   "source": [
    "plt.imshow(b_proj_pred[5][0].detach().cpu().numpy())"
   ]
  },
  {
   "cell_type": "code",
   "execution_count": 71,
   "metadata": {},
   "outputs": [
    {
     "ename": "TypeError",
     "evalue": "Invalid shape (3, 128, 128) for image data",
     "output_type": "error",
     "traceback": [
      "\u001b[0;31m---------------------------------------------------------------------------\u001b[0m",
      "\u001b[0;31mTypeError\u001b[0m                                 Traceback (most recent call last)",
      "\u001b[0;32m<ipython-input-71-3e0200f632b0>\u001b[0m in \u001b[0;36m<module>\u001b[0;34m\u001b[0m\n\u001b[1;32m     16\u001b[0m \u001b[0max3\u001b[0m\u001b[0;34m.\u001b[0m\u001b[0mimshow\u001b[0m\u001b[0;34m(\u001b[0m\u001b[0mone_env\u001b[0m\u001b[0;34m.\u001b[0m\u001b[0mmap\u001b[0m\u001b[0;34m)\u001b[0m\u001b[0;34m\u001b[0m\u001b[0;34m\u001b[0m\u001b[0m\n\u001b[1;32m     17\u001b[0m \u001b[0max3\u001b[0m\u001b[0;34m.\u001b[0m\u001b[0madd_patch\u001b[0m\u001b[0;34m(\u001b[0m\u001b[0mcirc3\u001b[0m\u001b[0;34m)\u001b[0m\u001b[0;34m\u001b[0m\u001b[0;34m\u001b[0m\u001b[0m\n\u001b[0;32m---> 18\u001b[0;31m \u001b[0max4\u001b[0m\u001b[0;34m.\u001b[0m\u001b[0mimshow\u001b[0m\u001b[0;34m(\u001b[0m\u001b[0mobs\u001b[0m\u001b[0;34m[\u001b[0m\u001b[0;34m'rgb'\u001b[0m\u001b[0;34m]\u001b[0m\u001b[0;34m)\u001b[0m\u001b[0;34m\u001b[0m\u001b[0;34m\u001b[0m\u001b[0m\n\u001b[0m\u001b[1;32m     19\u001b[0m \u001b[0mtop_down_map\u001b[0m \u001b[0;34m=\u001b[0m \u001b[0mdraw_top_down_map\u001b[0m\u001b[0;34m(\u001b[0m\u001b[0minfo\u001b[0m\u001b[0;34m,\u001b[0m \u001b[0mone_env\u001b[0m\u001b[0;34m.\u001b[0m\u001b[0mobs\u001b[0m\u001b[0;34m[\u001b[0m\u001b[0;34m\"heading\"\u001b[0m\u001b[0;34m]\u001b[0m\u001b[0;34m[\u001b[0m\u001b[0;36m0\u001b[0m\u001b[0;34m]\u001b[0m\u001b[0;34m,\u001b[0m \u001b[0mobs\u001b[0m\u001b[0;34m[\u001b[0m\u001b[0;34m'rgb'\u001b[0m\u001b[0;34m]\u001b[0m\u001b[0;34m[\u001b[0m\u001b[0;36m0\u001b[0m\u001b[0;34m]\u001b[0m\u001b[0;34m.\u001b[0m\u001b[0mshape\u001b[0m\u001b[0;34m[\u001b[0m\u001b[0;36m0\u001b[0m\u001b[0;34m]\u001b[0m\u001b[0;34m)\u001b[0m\u001b[0;34m\u001b[0m\u001b[0;34m\u001b[0m\u001b[0m\n\u001b[1;32m     20\u001b[0m \u001b[0max5\u001b[0m\u001b[0;34m.\u001b[0m\u001b[0mimshow\u001b[0m\u001b[0;34m(\u001b[0m\u001b[0mtop_down_map\u001b[0m\u001b[0;34m)\u001b[0m\u001b[0;34m\u001b[0m\u001b[0;34m\u001b[0m\u001b[0m\n",
      "\u001b[0;32m/opt/conda/envs/habitat/lib/python3.6/site-packages/matplotlib/__init__.py\u001b[0m in \u001b[0;36minner\u001b[0;34m(ax, data, *args, **kwargs)\u001b[0m\n\u001b[1;32m   1563\u001b[0m     \u001b[0;32mdef\u001b[0m \u001b[0minner\u001b[0m\u001b[0;34m(\u001b[0m\u001b[0max\u001b[0m\u001b[0;34m,\u001b[0m \u001b[0;34m*\u001b[0m\u001b[0margs\u001b[0m\u001b[0;34m,\u001b[0m \u001b[0mdata\u001b[0m\u001b[0;34m=\u001b[0m\u001b[0;32mNone\u001b[0m\u001b[0;34m,\u001b[0m \u001b[0;34m**\u001b[0m\u001b[0mkwargs\u001b[0m\u001b[0;34m)\u001b[0m\u001b[0;34m:\u001b[0m\u001b[0;34m\u001b[0m\u001b[0;34m\u001b[0m\u001b[0m\n\u001b[1;32m   1564\u001b[0m         \u001b[0;32mif\u001b[0m \u001b[0mdata\u001b[0m \u001b[0;32mis\u001b[0m \u001b[0;32mNone\u001b[0m\u001b[0;34m:\u001b[0m\u001b[0;34m\u001b[0m\u001b[0;34m\u001b[0m\u001b[0m\n\u001b[0;32m-> 1565\u001b[0;31m             \u001b[0;32mreturn\u001b[0m \u001b[0mfunc\u001b[0m\u001b[0;34m(\u001b[0m\u001b[0max\u001b[0m\u001b[0;34m,\u001b[0m \u001b[0;34m*\u001b[0m\u001b[0mmap\u001b[0m\u001b[0;34m(\u001b[0m\u001b[0msanitize_sequence\u001b[0m\u001b[0;34m,\u001b[0m \u001b[0margs\u001b[0m\u001b[0;34m)\u001b[0m\u001b[0;34m,\u001b[0m \u001b[0;34m**\u001b[0m\u001b[0mkwargs\u001b[0m\u001b[0;34m)\u001b[0m\u001b[0;34m\u001b[0m\u001b[0;34m\u001b[0m\u001b[0m\n\u001b[0m\u001b[1;32m   1566\u001b[0m \u001b[0;34m\u001b[0m\u001b[0m\n\u001b[1;32m   1567\u001b[0m         \u001b[0mbound\u001b[0m \u001b[0;34m=\u001b[0m \u001b[0mnew_sig\u001b[0m\u001b[0;34m.\u001b[0m\u001b[0mbind\u001b[0m\u001b[0;34m(\u001b[0m\u001b[0max\u001b[0m\u001b[0;34m,\u001b[0m \u001b[0;34m*\u001b[0m\u001b[0margs\u001b[0m\u001b[0;34m,\u001b[0m \u001b[0;34m**\u001b[0m\u001b[0mkwargs\u001b[0m\u001b[0;34m)\u001b[0m\u001b[0;34m\u001b[0m\u001b[0;34m\u001b[0m\u001b[0m\n",
      "\u001b[0;32m/opt/conda/envs/habitat/lib/python3.6/site-packages/matplotlib/cbook/deprecation.py\u001b[0m in \u001b[0;36mwrapper\u001b[0;34m(*args, **kwargs)\u001b[0m\n\u001b[1;32m    356\u001b[0m                 \u001b[0;34mf\"%(removal)s.  If any parameter follows {name!r}, they \"\u001b[0m\u001b[0;34m\u001b[0m\u001b[0;34m\u001b[0m\u001b[0m\n\u001b[1;32m    357\u001b[0m                 f\"should be pass as keyword, not positionally.\")\n\u001b[0;32m--> 358\u001b[0;31m         \u001b[0;32mreturn\u001b[0m \u001b[0mfunc\u001b[0m\u001b[0;34m(\u001b[0m\u001b[0;34m*\u001b[0m\u001b[0margs\u001b[0m\u001b[0;34m,\u001b[0m \u001b[0;34m**\u001b[0m\u001b[0mkwargs\u001b[0m\u001b[0;34m)\u001b[0m\u001b[0;34m\u001b[0m\u001b[0;34m\u001b[0m\u001b[0m\n\u001b[0m\u001b[1;32m    359\u001b[0m \u001b[0;34m\u001b[0m\u001b[0m\n\u001b[1;32m    360\u001b[0m     \u001b[0;32mreturn\u001b[0m \u001b[0mwrapper\u001b[0m\u001b[0;34m\u001b[0m\u001b[0;34m\u001b[0m\u001b[0m\n",
      "\u001b[0;32m/opt/conda/envs/habitat/lib/python3.6/site-packages/matplotlib/cbook/deprecation.py\u001b[0m in \u001b[0;36mwrapper\u001b[0;34m(*args, **kwargs)\u001b[0m\n\u001b[1;32m    356\u001b[0m                 \u001b[0;34mf\"%(removal)s.  If any parameter follows {name!r}, they \"\u001b[0m\u001b[0;34m\u001b[0m\u001b[0;34m\u001b[0m\u001b[0m\n\u001b[1;32m    357\u001b[0m                 f\"should be pass as keyword, not positionally.\")\n\u001b[0;32m--> 358\u001b[0;31m         \u001b[0;32mreturn\u001b[0m \u001b[0mfunc\u001b[0m\u001b[0;34m(\u001b[0m\u001b[0;34m*\u001b[0m\u001b[0margs\u001b[0m\u001b[0;34m,\u001b[0m \u001b[0;34m**\u001b[0m\u001b[0mkwargs\u001b[0m\u001b[0;34m)\u001b[0m\u001b[0;34m\u001b[0m\u001b[0;34m\u001b[0m\u001b[0m\n\u001b[0m\u001b[1;32m    359\u001b[0m \u001b[0;34m\u001b[0m\u001b[0m\n\u001b[1;32m    360\u001b[0m     \u001b[0;32mreturn\u001b[0m \u001b[0mwrapper\u001b[0m\u001b[0;34m\u001b[0m\u001b[0;34m\u001b[0m\u001b[0m\n",
      "\u001b[0;32m/opt/conda/envs/habitat/lib/python3.6/site-packages/matplotlib/axes/_axes.py\u001b[0m in \u001b[0;36mimshow\u001b[0;34m(self, X, cmap, norm, aspect, interpolation, alpha, vmin, vmax, origin, extent, shape, filternorm, filterrad, imlim, resample, url, **kwargs)\u001b[0m\n\u001b[1;32m   5613\u001b[0m                               resample=resample, **kwargs)\n\u001b[1;32m   5614\u001b[0m \u001b[0;34m\u001b[0m\u001b[0m\n\u001b[0;32m-> 5615\u001b[0;31m         \u001b[0mim\u001b[0m\u001b[0;34m.\u001b[0m\u001b[0mset_data\u001b[0m\u001b[0;34m(\u001b[0m\u001b[0mX\u001b[0m\u001b[0;34m)\u001b[0m\u001b[0;34m\u001b[0m\u001b[0;34m\u001b[0m\u001b[0m\n\u001b[0m\u001b[1;32m   5616\u001b[0m         \u001b[0mim\u001b[0m\u001b[0;34m.\u001b[0m\u001b[0mset_alpha\u001b[0m\u001b[0;34m(\u001b[0m\u001b[0malpha\u001b[0m\u001b[0;34m)\u001b[0m\u001b[0;34m\u001b[0m\u001b[0;34m\u001b[0m\u001b[0m\n\u001b[1;32m   5617\u001b[0m         \u001b[0;32mif\u001b[0m \u001b[0mim\u001b[0m\u001b[0;34m.\u001b[0m\u001b[0mget_clip_path\u001b[0m\u001b[0;34m(\u001b[0m\u001b[0;34m)\u001b[0m \u001b[0;32mis\u001b[0m \u001b[0;32mNone\u001b[0m\u001b[0;34m:\u001b[0m\u001b[0;34m\u001b[0m\u001b[0;34m\u001b[0m\u001b[0m\n",
      "\u001b[0;32m/opt/conda/envs/habitat/lib/python3.6/site-packages/matplotlib/image.py\u001b[0m in \u001b[0;36mset_data\u001b[0;34m(self, A)\u001b[0m\n\u001b[1;32m    697\u001b[0m                 or self._A.ndim == 3 and self._A.shape[-1] in [3, 4]):\n\u001b[1;32m    698\u001b[0m             raise TypeError(\"Invalid shape {} for image data\"\n\u001b[0;32m--> 699\u001b[0;31m                             .format(self._A.shape))\n\u001b[0m\u001b[1;32m    700\u001b[0m \u001b[0;34m\u001b[0m\u001b[0m\n\u001b[1;32m    701\u001b[0m         \u001b[0;32mif\u001b[0m \u001b[0mself\u001b[0m\u001b[0;34m.\u001b[0m\u001b[0m_A\u001b[0m\u001b[0;34m.\u001b[0m\u001b[0mndim\u001b[0m \u001b[0;34m==\u001b[0m \u001b[0;36m3\u001b[0m\u001b[0;34m:\u001b[0m\u001b[0;34m\u001b[0m\u001b[0;34m\u001b[0m\u001b[0m\n",
      "\u001b[0;31mTypeError\u001b[0m: Invalid shape (3, 128, 128) for image data"
     ]
    },
    {
     "data": {
      "image/png": "[encoded data removed]",
      "text/plain": [
       "<Figure size 1080x720 with 6 Axes>"
      ]
     },
     "metadata": {
      "needs_background": "light"
     },
     "output_type": "display_data"
    }
   ],
   "source": [
    "f = plt.figure(figsize=(15,10))\n",
    "ax = f.add_subplot(231)\n",
    "ax2 = f.add_subplot(232)\n",
    "ax3 = f.add_subplot(233)\n",
    "ax4 = f.add_subplot(234)\n",
    "ax5 = f.add_subplot(235)\n",
    "ax6 = f.add_subplot(236)\n",
    "circ = Circle((one_env.mapper_gt_pose[0]/10*2,one_env.mapper_gt_pose[1]/10*2),3,color='red')\n",
    "circ2 = Circle((one_env.mapper_gt_pose[0]/10*2,one_env.mapper_gt_pose[1]/10*2),3,color='red')\n",
    "circ3 = Circle((one_env.mapper_gt_pose[0]/10*2,one_env.mapper_gt_pose[1]/10*2),3,color='red')\n",
    "circ4 = Circle((one_env.mapper_gt_pose[0]/10*2,one_env.mapper_gt_pose[1]/10*2),3,color='red')\n",
    "ax.imshow(one_env.explorable_map)\n",
    "ax.add_patch(circ)\n",
    "ax2.imshow(one_env.explored_map)\n",
    "ax2.add_patch(circ2)\n",
    "ax3.imshow(one_env.map)\n",
    "ax3.add_patch(circ3)\n",
    "ax4.imshow(obs['rgb'])\n",
    "top_down_map = draw_top_down_map(info, one_env.obs[\"heading\"][0], obs['rgb'][0].shape[0])\n",
    "ax5.imshow(top_down_map)\n",
    "ax6.imshow(one_env.collison_map)\n",
    "ax6.add_patch(circ4)\n",
    "print(one_env.last_sim_location)\n",
    "print([one_env.mapper_gt_pose[0]/10*2,one_env.mapper_gt_pose[1]/10*2,one_env.mapper_gt_pose[2]])"
   ]
  }
 ],
 "metadata": {
  "kernelspec": {
   "display_name": "Python 3",
   "language": "python",
   "name": "python3"
  },
  "language_info": {
   "codemirror_mode": {
    "name": "ipython",
    "version": 3
   },
   "file_extension": ".py",
   "mimetype": "text/x-python",
   "name": "python",
   "nbconvert_exporter": "python",
   "pygments_lexer": "ipython3",
   "version": "3.6.10"
  }
 },
 "nbformat": 4,
 "nbformat_minor": 4
}
