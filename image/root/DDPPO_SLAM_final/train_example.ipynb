{
 "cells": [
  {
   "cell_type": "code",
   "execution_count": 2,
   "metadata": {},
   "outputs": [],
   "source": [
    "import argparse\n",
    "import random\n",
    "import numpy as np\n",
    "from habitat_baselines.config.default import get_config\n",
    "import habitat\n",
    "import os\n",
    "from habitat import Config, logger\n",
    "from habitat import Config, Dataset\n",
    "import matplotlib.pyplot as plt\n",
    "import transformations as tf\n",
    "import quaternion\n",
    "os.environ[\"CUDA_DEVICE_ORDER\"]=\"PCI_BUS_ID\"   \n",
    "os.environ[\"CUDA_VISIBLE_DEVICES\"]=\"2\""
   ]
  },
  {
   "cell_type": "code",
   "execution_count": 3,
   "metadata": {},
   "outputs": [],
   "source": [
    "import contextlib\n",
    "import time\n",
    "from collections import OrderedDict, defaultdict, deque\n",
    "from typing import Any, Dict, List, Optional\n",
    "from habitat_baselines.rl.ddppo.algo.ddp_utils import (\n",
    "    EXIT,\n",
    "    REQUEUE,\n",
    "    add_signal_handlers,\n",
    "    init_distrib_slurm,\n",
    "    load_interrupted_state,\n",
    "    requeue_job,\n",
    "    save_interrupted_state,\n",
    ")\n",
    "from habitat_baselines.common.baseline_registry import baseline_registry\n",
    "#from habitat_baselines.common.env_utils import construct_envs\n",
    "from habitat_baselines.common.environments import get_env_class\n",
    "from habitat_baselines.common.rollout_storage import RolloutStorage\n",
    "from habitat_baselines.common.tensorboard_utils import TensorboardWriter\n",
    "from habitat_baselines.common.utils import batch_obs, linear_decay\n",
    "import numpy as np\n",
    "import torch\n",
    "import torch.distributed as distrib\n",
    "import torch.nn as nn\n",
    "from gym import spaces\n",
    "from gym.spaces.dict_space import Dict as SpaceDict\n",
    "from torch.optim.lr_scheduler import LambdaLR\n",
    "from resnet_policy import PointNavResNetPolicy\n",
    "from habitat_baselines.rl.ddppo.algo.ddppo import DDPPO\n",
    "from habitat_baselines.common.base_trainer import BaseRLTrainer\n",
    "from habitat_baselines.common.baseline_registry import baseline_registry\n",
    "from habitat.tasks.nav.shortest_path_follower import ShortestPathFollower"
   ]
  },
  {
   "cell_type": "code",
   "execution_count": 4,
   "metadata": {},
   "outputs": [],
   "source": [
    "from ppotrainer import PPOTrainer\n",
    "from ddpotrainer import DDPPOTrainer\n",
    "from constructenv import construct_envs\n",
    "from env import MyRLEnvNew\n",
    "from habitat import make_dataset\n",
    "from constructenv import make_env_fn\n",
    "from vectorenv import VectorEnv\n",
    "from utils import FrameSkip, FrameStack, draw_top_down_map\n",
    "from arguments import get_args"
   ]
  },
  {
   "cell_type": "markdown",
   "metadata": {},
   "source": [
    "# Config init"
   ]
  },
  {
   "cell_type": "code",
   "execution_count": 5,
   "metadata": {},
   "outputs": [],
   "source": [
    "import fileinput\n",
    "filename = \"/habitat-api/habitat_baselines/config/pointnav/ddppo_pointnav.yaml\"\n",
    "with fileinput.FileInput(filename, inplace=True, backup='.bak') as file:\n",
    "    for line in file:\n",
    "        print(line.replace('\\\"configs/tasks/pointnav_gibson.yaml\\\"', '\\\"/habitat-api/configs/tasks/pointnav_gibson.yaml\\\"'), end='')\n",
    "with fileinput.FileInput(filename, inplace=True, backup='.bak') as file:        \n",
    "    for line in file:    \n",
    "        print(line.replace('GLOO', 'NCCL'), end='')"
   ]
  },
  {
   "cell_type": "code",
   "execution_count": 6,
   "metadata": {},
   "outputs": [],
   "source": [
    "W = 256#640\n",
    "H = 256#360\n",
    "config_paths=\"/data/challenge_pointnav2020.local.rgbd.yaml\"\n",
    "config = habitat.get_config(config_paths=config_paths)\n",
    "config.defrost()\n",
    "config.SIMULATOR.RGB_SENSOR.HEIGHT = H\n",
    "config.SIMULATOR.RGB_SENSOR.WIDTH = W\n",
    "config.SIMULATOR.DEPTH_SENSOR.HEIGHT = H\n",
    "config.SIMULATOR.DEPTH_SENSOR.WIDTH = W\n",
    "config.DATASET.DATA_PATH = '/data/v1/{split}/{split}.json.gz'\n",
    "config.TASK.MEASUREMENTS.append(\"TOP_DOWN_MAP\")\n",
    "config.TASK.SENSORS = [\"HEADING_SENSOR\", \"COMPASS_SENSOR\", \"GPS_SENSOR\", \"POINTGOAL_SENSOR\", \"POINTGOAL_WITH_GPS_COMPASS_SENSOR\"]\n",
    "config.TASK.POINTGOAL_WITH_GPS_COMPASS_SENSOR.DIMENSIONALITY = 3\n",
    "config.TASK.POINTGOAL_WITH_GPS_COMPASS_SENSOR.GOAL_FORMAT = \"CARTESIAN\"\n",
    "config.TASK.POINTGOAL_SENSOR.DIMENSIONALITY = 3\n",
    "config.TASK.POINTGOAL_SENSOR.GOAL_FORMAT = \"CARTESIAN\"\n",
    "config.TASK.GPS_SENSOR.DIMENSIONALITY = 3\n",
    "config.TASK.GPS_SENSOR.GOAL_FORMAT = \"CARTESIAN\"\n",
    "config.TASK.AGENT_POSITION_SENSOR = habitat.Config()\n",
    "config.TASK.AGENT_POSITION_SENSOR.TYPE = \"position_sensor\"\n",
    "config.TASK.AGENT_POSITION_SENSOR.ANSWER_TO_LIFE = 42\n",
    "config.TASK.SENSORS.append(\"AGENT_POSITION_SENSOR\")\n",
    "config.SIMULATOR.TURN_ANGLE = 10#0.5\n",
    "config.SIMULATOR.TILT_ANGLE = 10#0.5\n",
    "config.SIMULATOR.FORWARD_STEP_SIZE = 0.25#0.0125\n",
    "config.ENVIRONMENT.MAX_EPISODE_STEPS = 500#*20\n",
    "config.TASK.TOP_DOWN_MAP.MAX_EPISODE_STEPS = 500#*20\n",
    "config.DATASET.SCENES_DIR = '/data'\n",
    "config.DATASET.SPLIT = 'val'\n",
    "config.SIMULATOR.SCENE = '/data/gibson/Aldrich.glb'\n",
    "#config.SIMULATOR_GPU_ID = 0\n",
    "config.freeze()"
   ]
  },
  {
   "cell_type": "code",
   "execution_count": 7,
   "metadata": {},
   "outputs": [],
   "source": [
    "config2 = get_config('/habitat-api/habitat_baselines/config/pointnav/ddppo_pointnav.yaml', [])\n",
    "ii = 0\n",
    "for i in config2.TASK_CONFIG.keys():\n",
    "    config2.TASK_CONFIG[i] = config[i]\n",
    "    ii+=1\n",
    "config = config2    "
   ]
  },
  {
   "cell_type": "code",
   "execution_count": 8,
   "metadata": {},
   "outputs": [],
   "source": [
    "config.defrost()\n",
    "config.TASK_CONFIG.DATASET.DATA_PATH = '/data/v1/{split}/{split}.json.gz'\n",
    "config.TASK_CONFIG.DATASET.SCENES_DIR = '/data'\n",
    "config.TASK_CONFIG.DATASET.SPLIT = 'val'\n",
    "config.TASK_CONFIG.SIMULATOR.SCENE = '/data/gibson/Aldrich.glb'\n",
    "config.TASK_CONFIG.TASK.GOAL_SENSOR_UUID = 'pos'#'pointgoal_with_gps_compass'\n",
    "config.NUM_UPDATES = 50000\n",
    "config.ENV_NAME = 'MyRLEnvNew'\n",
    "config.NUM_PROCESSES = 30\n",
    "config.RL.FRAMESKIP = 1\n",
    "config.RL.FRAMESTACK = 1\n",
    "config.freeze()"
   ]
  },
  {
   "cell_type": "code",
   "execution_count": 9,
   "metadata": {},
   "outputs": [
    {
     "name": "stdout",
     "output_type": "stream",
     "text": [
      "Auto GPU config:\n",
      "Number of processes: 9\n",
      "Number of processes on GPU 0: 9\n",
      "Number of processes per GPU: 0\n"
     ]
    }
   ],
   "source": [
    "argumnts = ''\n",
    "args = get_args(argumnts)\n",
    "device = args.device = torch.device(\"cuda:0\" if args.cuda else \"cpu\")\n",
    "args.num_processes = 1"
   ]
  },
  {
   "cell_type": "markdown",
   "metadata": {},
   "source": [
    "# Test env"
   ]
  },
  {
   "cell_type": "code",
   "execution_count": 7,
   "metadata": {},
   "outputs": [],
   "source": [
    "from typing import Any, Dict, Iterator, List, Optional, Tuple, Type, Union\n",
    "from gym.spaces.dict_space import Dict as SpaceDict\n",
    "from habitat.config import Config\n",
    "from habitat.core.dataset import Dataset, Episode, EpisodeIterator\n",
    "from habitat.core.embodied_task import EmbodiedTask, Metrics\n",
    "from habitat.core.simulator import Observations, Simulator\n",
    "from habitat.datasets import make_dataset\n",
    "from habitat.sims import make_sim\n",
    "from habitat.tasks import make_task\n",
    "from collections import OrderedDict, defaultdict, deque\n",
    "import gym\n",
    "import numba"
   ]
  },
  {
   "cell_type": "code",
   "execution_count": 8,
   "metadata": {},
   "outputs": [],
   "source": [
    "class Env:\n",
    "\n",
    "    observation_space: SpaceDict\n",
    "    action_space: SpaceDict\n",
    "    _config: Config\n",
    "    _dataset: Optional[Dataset]\n",
    "    number_of_episodes: Optional[int]\n",
    "    _episodes: List[Type[Episode]]\n",
    "    _current_episode_index: Optional[int]\n",
    "    _current_episode: Optional[Type[Episode]]\n",
    "    _episode_iterator: Optional[Iterator]\n",
    "    _sim: Simulator\n",
    "    _task: EmbodiedTask\n",
    "    _max_episode_seconds: int\n",
    "    _max_episode_steps: int\n",
    "    _elapsed_steps: int\n",
    "    _episode_start_time: Optional[float]\n",
    "    _episode_over: bool\n",
    "\n",
    "    def __init__(\n",
    "        self, config: Config, dataset: Optional[Dataset] = None\n",
    "    ) -> None:\n",
    "\n",
    "        assert config.is_frozen(), (\n",
    "            \"Freeze the config before creating the \"\n",
    "            \"environment, use config.freeze().\")\n",
    "        self._config = config\n",
    "        self._dataset = dataset\n",
    "        self._current_episode_index = None\n",
    "        if self._dataset is None and config.DATASET.TYPE:\n",
    "            self._dataset = make_dataset(\n",
    "                id_dataset=config.DATASET.TYPE, config=config.DATASET\n",
    "            )\n",
    "        self._episodes = self._dataset.episodes if self._dataset else []\n",
    "        self._current_episode = None\n",
    "        iter_option_dict = {\n",
    "            k.lower(): v\n",
    "            for k, v in config.ENVIRONMENT.ITERATOR_OPTIONS.items()\n",
    "        }\n",
    "        self._episode_iterator = self._dataset.get_episode_iterator(\n",
    "            **iter_option_dict\n",
    "        )\n",
    "\n",
    "        # load the first scene if dataset is present\n",
    "        if self._dataset:\n",
    "            assert (\n",
    "                len(self._dataset.episodes) > 0\n",
    "            ), \"dataset should have non-empty episodes list\"\n",
    "            self._config.defrost()\n",
    "            self._config.SIMULATOR.SCENE = self._dataset.episodes[0].scene_id\n",
    "            self._config.freeze()\n",
    "\n",
    "            self.number_of_episodes = len(self._dataset.episodes)\n",
    "        else:\n",
    "            self.number_of_episodes = None\n",
    "\n",
    "        self._sim = make_sim(\n",
    "            id_sim=self._config.SIMULATOR.TYPE, config=self._config.SIMULATOR)\n",
    "        self.follower = ShortestPathFollower(self._sim, 0.36, False)\n",
    "        self._task = make_task(\n",
    "            self._config.TASK.TYPE,\n",
    "            config=self._config.TASK,\n",
    "            sim=self._sim,\n",
    "            dataset=self._dataset)\n",
    "        self.observation_space = SpaceDict(\n",
    "            {\n",
    "                **self._sim.sensor_suite.observation_spaces.spaces,\n",
    "                **self._task.sensor_suite.observation_spaces.spaces,\n",
    "            })\n",
    "        self.action_space = self._task.action_space\n",
    "        self._max_episode_seconds = (\n",
    "            self._config.ENVIRONMENT.MAX_EPISODE_SECONDS)\n",
    "        self._max_episode_steps = self._config.ENVIRONMENT.MAX_EPISODE_STEPS\n",
    "        self._elapsed_steps = 0\n",
    "        self._episode_start_time: Optional[float] = None\n",
    "        self._episode_over = False\n",
    "\n",
    "    @property\n",
    "    def current_episode(self) -> Type[Episode]:\n",
    "        assert self._current_episode is not None\n",
    "        return self._current_episode\n",
    "\n",
    "    @current_episode.setter\n",
    "    def current_episode(self, episode: Type[Episode]) -> None:\n",
    "        self._current_episode = episode\n",
    "\n",
    "    @property\n",
    "    def episode_iterator(self) -> Iterator:\n",
    "        return self._episode_iterator\n",
    "\n",
    "    @episode_iterator.setter\n",
    "    def episode_iterator(self, new_iter: Iterator) -> None:\n",
    "        self._episode_iterator = new_iter\n",
    "\n",
    "    @property\n",
    "    def episodes(self) -> List[Type[Episode]]:\n",
    "        return self._episodes\n",
    "\n",
    "    @episodes.setter\n",
    "    def episodes(self, episodes: List[Type[Episode]]) -> None:\n",
    "        assert (\n",
    "            len(episodes) > 0\n",
    "        ), \"Environment doesn't accept empty episodes list.\"\n",
    "        self._episodes = episodes\n",
    "\n",
    "    @property\n",
    "    def sim(self) -> Simulator:\n",
    "        return self._sim\n",
    "\n",
    "    @property\n",
    "    def episode_start_time(self) -> Optional[float]:\n",
    "        return self._episode_start_time\n",
    "\n",
    "    @property\n",
    "    def episode_over(self) -> bool:\n",
    "        return self._episode_over\n",
    "\n",
    "    @property\n",
    "    def task(self) -> EmbodiedTask:\n",
    "        return self._task\n",
    "\n",
    "    @property\n",
    "    def _elapsed_seconds(self) -> float:\n",
    "        assert (\n",
    "            self._episode_start_time\n",
    "        ), \"Elapsed seconds requested before episode was started.\"\n",
    "        return time.time() - self._episode_start_time\n",
    "\n",
    "    def get_metrics(self) -> Metrics:\n",
    "        return self._task.measurements.get_metrics()\n",
    "\n",
    "    def _past_limit(self) -> bool:\n",
    "        if (\n",
    "            self._max_episode_steps != 0\n",
    "            and self._max_episode_steps <= self._elapsed_steps\n",
    "        ):\n",
    "            return True\n",
    "        elif (\n",
    "            self._max_episode_seconds != 0\n",
    "            and self._max_episode_seconds <= self._elapsed_seconds\n",
    "        ):\n",
    "            return True\n",
    "        return False\n",
    "\n",
    "    def _reset_stats(self) -> None:\n",
    "        self._episode_start_time = time.time()\n",
    "        self._elapsed_steps = 0\n",
    "        self._episode_over = False\n",
    "\n",
    "    def reset(self) -> Observations:\n",
    "        r\"\"\"Resets the environments and returns the initial observations.\n",
    "        :return: initial observations from the environment.\n",
    "        \"\"\"\n",
    "        self._reset_stats()\n",
    "        \n",
    "        self.map_size_cm = 2400\n",
    "        self.curr_loc = [self.map_size_cm/100.0/2.0,\n",
    "                         self.map_size_cm/100.0/2.0, 0.]\n",
    "        self.last_sim_location = self.get_sim_location()\n",
    "        self.trux = 0; self.truy = 0; self.truz = 0\n",
    "        \n",
    "        assert len(self.episodes) > 0, \"Episodes list is empty\"\n",
    "        if self._current_episode is not None:\n",
    "            self._current_episode._shortest_path_cache = None\n",
    "\n",
    "        # Delete the shortest path cache of the current episode\n",
    "        # Caching it for the next time we see this episode isn't really worth\n",
    "        # it\n",
    "        if self._current_episode is not None:\n",
    "            self._current_episode._shortest_path_cache = None\n",
    "\n",
    "        self._current_episode = next(self._episode_iterator)\n",
    "        self.reconfigure(self._config)\n",
    "\n",
    "        observations = self.task.reset(episode=self.current_episode)\n",
    "        self.goal = observations['pointgoal']\n",
    "        observations['real_pos'] = [self.trux,self.truy]\n",
    "        self._task.measurements.reset_measures(\n",
    "            episode=self.current_episode, task=self.task)\n",
    "\n",
    "        return observations\n",
    "\n",
    "    def _update_step_stats(self) -> None:\n",
    "        self._elapsed_steps += 1\n",
    "        self._episode_over = not self._task.is_episode_active\n",
    "        if self._past_limit():\n",
    "            self._episode_over = True\n",
    "\n",
    "        if self.episode_iterator is not None and isinstance(\n",
    "            self.episode_iterator, EpisodeIterator):\n",
    "            self.episode_iterator.step_taken()\n",
    "\n",
    "    def step(\n",
    "        self, action: Union[int, str, Dict[str, Any]], **kwargs) -> Observations:\n",
    "\n",
    "        gl = np.array(list(self.goal)+[0.])\n",
    "        frf = np.copy(gl[1])\n",
    "        gl[1]=gl[2]\n",
    "        gl[2]=frf\n",
    "        print(gl)\n",
    "        best_action = self.follower.get_next_action(gl)\n",
    "        assert (\n",
    "            self._episode_start_time is not None\n",
    "        ), \"Cannot call step before calling reset\"\n",
    "        assert (\n",
    "            self._episode_over is False\n",
    "        ), \"Episode over, call reset before calling step\"\n",
    "        # Support simpler interface as well\n",
    "        if isinstance(action, str) or isinstance(action, (int, np.integer)):\n",
    "            action = {\"action\": best_action}#action}\n",
    "            \n",
    "        \n",
    "        observations = self.task.step(action=action, episode=self.current_episode)\n",
    "        \n",
    "        dx_gt, dy_gt, do_gt = self.get_gt_pose_change()\n",
    "        self.curr_loc = pu.get_new_pose(self.curr_loc,\n",
    "                               (dx_gt, dy_gt, do_gt))\n",
    "        self.trux = self.curr_loc[0]-12\n",
    "        self.truy = self.curr_loc[1]-12\n",
    "        \n",
    "        observations['real_pos'] = [self.trux,self.truy]\n",
    "\n",
    "        self._task.measurements.update_measures(\n",
    "            episode=self.current_episode, action=action, task=self.task)\n",
    "        self._update_step_stats()\n",
    "        return observations\n",
    "\n",
    "    @staticmethod\n",
    "    @numba.njit\n",
    "    def _seed_numba(seed: int):\n",
    "        random.seed(seed)\n",
    "        np.random.seed(seed)\n",
    "\n",
    "    def seed(self, seed: int) -> None:\n",
    "        random.seed(seed)\n",
    "        np.random.seed(seed)\n",
    "        self._seed_numba(seed)\n",
    "        self._sim.seed(seed)\n",
    "        self._task.seed(seed)\n",
    "\n",
    "    def reconfigure(self, config: Config) -> None:\n",
    "        self._config = config\n",
    "        self._config.defrost()\n",
    "        self._config.SIMULATOR = self._task.overwrite_sim_config(\n",
    "            self._config.SIMULATOR, self.current_episode)\n",
    "        self._config.freeze()\n",
    "        self._sim.reconfigure(self._config.SIMULATOR)\n",
    "\n",
    "    def render(self, mode=\"rgb\") -> np.ndarray:\n",
    "        return self._sim.render(mode)\n",
    "\n",
    "    def close(self) -> None:\n",
    "        self._sim.close()\n",
    "        \n",
    "    def get_sim_location(self):\n",
    "        agent_state = self._sim.get_agent_state(0)\n",
    "        x = -agent_state.position[2]\n",
    "        y = -agent_state.position[0]\n",
    "        axis = quaternion.as_euler_angles(agent_state.rotation)[0]\n",
    "        if (axis%(2*np.pi)) < 0.1 or (axis%(2*np.pi)) > 2*np.pi - 0.1:\n",
    "            o = quaternion.as_euler_angles(agent_state.rotation)[1]\n",
    "        else:\n",
    "            o = 2*np.pi - quaternion.as_euler_angles(agent_state.rotation)[1]\n",
    "        if o > np.pi:\n",
    "            o -= 2 * np.pi\n",
    "        return x, y, o\n",
    "    \n",
    "    def get_gt_pose_change(self):\n",
    "        curr_sim_pose = self.get_sim_location()\n",
    "        dx, dy, do = pu.get_rel_pose_change(curr_sim_pose, self.last_sim_location)\n",
    "        self.last_sim_location = curr_sim_pose\n",
    "        return dx, dy, do"
   ]
  },
  {
   "cell_type": "code",
   "execution_count": 9,
   "metadata": {},
   "outputs": [
    {
     "name": "stderr",
     "output_type": "stream",
     "text": [
      "2020-05-16 16:57:22,620 Initializing dataset PointNav-v1\n",
      "2020-05-16 16:57:22,637 initializing sim Sim-v0\n",
      "2020-05-16 16:57:28,570 Initializing task Nav-v0\n"
     ]
    }
   ],
   "source": [
    "env = Env(config=config)"
   ]
  },
  {
   "cell_type": "code",
   "execution_count": 11,
   "metadata": {},
   "outputs": [],
   "source": [
    "obs  = env.reset()"
   ]
  },
  {
   "cell_type": "code",
   "execution_count": 17,
   "metadata": {},
   "outputs": [
    {
     "data": {
      "text/plain": [
       "[-11.20059, 0.15825, -4.1339]"
      ]
     },
     "execution_count": 17,
     "metadata": {},
     "output_type": "execute_result"
    }
   ],
   "source": [
    "env._current_episode.goals[0].position"
   ]
  },
  {
   "cell_type": "code",
   "execution_count": null,
   "metadata": {},
   "outputs": [],
   "source": [
    "env.habitat_env.current_episode.goals[0].position"
   ]
  },
  {
   "cell_type": "code",
   "execution_count": 14,
   "metadata": {},
   "outputs": [
    {
     "data": {
      "text/plain": [
       "NavigationEpisode(episode_id=1, scene_id='/data/gibson/Cantwell.glb', start_position=[-0.27251, 0.15825, -1.17589], start_rotation=[0, 0.95258, 0, -0.30428], info={'geodesic_distance': 12.50322}, goals=[NavigationGoal(position=[-11.20059, 0.15825, -4.1339], radius=None)], start_room=None, shortest_paths=None)"
      ]
     },
     "execution_count": 14,
     "metadata": {},
     "output_type": "execute_result"
    }
   ],
   "source": [
    "env._current_episode"
   ]
  },
  {
   "cell_type": "markdown",
   "metadata": {},
   "source": [
    "## Construct one env (example)"
   ]
  },
  {
   "cell_type": "code",
   "execution_count": 10,
   "metadata": {},
   "outputs": [
    {
     "name": "stderr",
     "output_type": "stream",
     "text": [
      "2020-05-14 19:41:18,314 Initializing dataset PointNav-v1\n",
      "2020-05-14 19:41:18,339 initializing sim Sim-v0\n"
     ]
    },
    {
     "name": "stdout",
     "output_type": "stream",
     "text": [
      "MyRLEnvNew\n"
     ]
    },
    {
     "name": "stderr",
     "output_type": "stream",
     "text": [
      "2020-05-14 19:41:24,518 Initializing task Nav-v0\n"
     ]
    }
   ],
   "source": [
    "print(config.ENV_NAME)\n",
    "env_class = get_env_class(config.ENV_NAME)\n",
    "dataset = make_dataset(config.TASK_CONFIG.DATASET.TYPE, config=config.TASK_CONFIG.DATASET)\n",
    "one_env = env_class(config=config, dataset=dataset)"
   ]
  },
  {
   "cell_type": "code",
   "execution_count": 11,
   "metadata": {},
   "outputs": [],
   "source": [
    "goal_radius = config.TASK_CONFIG.SIMULATOR.FORWARD_STEP_SIZE\n",
    "follower = ShortestPathFollower(one_env.habitat_env.sim, goal_radius, False)"
   ]
  },
  {
   "cell_type": "code",
   "execution_count": 16,
   "metadata": {},
   "outputs": [
    {
     "data": {
      "text/plain": [
       "[-13.14364, 0.15825, -5.08375]"
      ]
     },
     "execution_count": 16,
     "metadata": {},
     "output_type": "execute_result"
    }
   ],
   "source": [
    "one_env.habitat_env.current_episode.goals[0].position"
   ]
  },
  {
   "cell_type": "code",
   "execution_count": 23,
   "metadata": {},
   "outputs": [
    {
     "data": {
      "text/plain": [
       "[-13.14364, 0.15825, -5.08375]"
      ]
     },
     "execution_count": 23,
     "metadata": {},
     "output_type": "execute_result"
    }
   ],
   "source": [
    "one_env.habitat_env.current_episode.goals[0].position"
   ]
  },
  {
   "cell_type": "code",
   "execution_count": 26,
   "metadata": {},
   "outputs": [
    {
     "data": {
      "text/plain": [
       "[-4.69643, 0.15825, -2.90618]"
      ]
     },
     "execution_count": 26,
     "metadata": {},
     "output_type": "execute_result"
    }
   ],
   "source": [
    "one_env.habitat_env.current_episode.start_position"
   ]
  },
  {
   "cell_type": "code",
   "execution_count": 20,
   "metadata": {},
   "outputs": [
    {
     "data": {
      "text/plain": [
       "array([-3.6716154 , -3.19518046])"
      ]
     },
     "execution_count": 20,
     "metadata": {},
     "output_type": "execute_result"
    }
   ],
   "source": [
    "obs['pos']"
   ]
  },
  {
   "cell_type": "code",
   "execution_count": 12,
   "metadata": {},
   "outputs": [],
   "source": [
    "actor_critic = PointNavResNetPolicy(\n",
    "            observation_space=one_env.observation_space,\n",
    "            action_space=one_env.action_space,\n",
    "            hidden_size=config.RL.PPO.hidden_size,\n",
    "            rnn_type=config.RL.DDPPO.rnn_type,\n",
    "            num_recurrent_layers=config.RL.DDPPO.num_recurrent_layers,\n",
    "            backbone=config.RL.DDPPO.backbone,\n",
    "            goal_sensor_uuid=config.TASK_CONFIG.TASK.GOAL_SENSOR_UUID,\n",
    "            normalize_visual_inputs=False,\n",
    "        )\n",
    "actor_critic.to(device);"
   ]
  },
  {
   "cell_type": "code",
   "execution_count": 13,
   "metadata": {},
   "outputs": [
    {
     "data": {
      "text/plain": [
       "<All keys matched successfully>"
      ]
     },
     "execution_count": 13,
     "metadata": {},
     "output_type": "execute_result"
    }
   ],
   "source": [
    "pretrained_state = torch.load('ckpt.143.pth', map_location=\"cpu\")\n",
    "actor_critic.load_state_dict({k[len(\"actor_critic.\") :]: v for k, v in pretrained_state[\"state_dict\"].items() if \"actor_critic\" in k})"
   ]
  },
  {
   "cell_type": "code",
   "execution_count": 14,
   "metadata": {},
   "outputs": [],
   "source": [
    "obs_space = one_env.observation_space\n",
    "ppo_cfg = config.RL.PPO"
   ]
  },
  {
   "cell_type": "code",
   "execution_count": 15,
   "metadata": {},
   "outputs": [],
   "source": [
    "obs = one_env.reset()\n",
    "r = 0\n",
    "rollouts = RolloutStorage(\n",
    "            500,\n",
    "            1,\n",
    "            obs_space,\n",
    "            one_env.action_space,\n",
    "            ppo_cfg.hidden_size,\n",
    "            num_recurrent_layers=actor_critic.net.num_recurrent_layers)\n",
    "rollouts.to(device)\n",
    "batch = batch_obs([obs])\n",
    "for sensor in rollouts.observations:\n",
    "    rollouts.observations[sensor][0].copy_(batch[sensor])"
   ]
  },
  {
   "cell_type": "code",
   "execution_count": 22,
   "metadata": {},
   "outputs": [
    {
     "name": "stdout",
     "output_type": "stream",
     "text": [
      "0.06469511985778809\n",
      "Pointgoal \t [4.25462167 7.61546787]\n",
      "Pointg+gp \t [8.18456616 3.43373073]\n",
      "Agent_Pos \t [-4.680323  -2.4098177]\n",
      "Truee_X_Y \t [0.41520889099247904, -0.2784934279541355]\n",
      "Goaal_X_Y \t [-7.615467872611734, -4.2546216688251155]\n",
      "[8.03067676 3.97612824]\n"
     ]
    },
    {
     "data": {
      "text/plain": [
       "<matplotlib.image.AxesImage at 0x7f69d0f4d940>"
      ]
     },
     "execution_count": 22,
     "metadata": {},
     "output_type": "execute_result"
    },
    {
     "data": {
      "image/png": "[encoded data removed]",
      "text/plain": [
       "<Figure size 432x288 with 2 Axes>"
      ]
     },
     "metadata": {
      "needs_background": "light"
     },
     "output_type": "display_data"
    }
   ],
   "source": [
    "ti = time.time()\n",
    "for i in range(1):\n",
    "    \n",
    "    step_observation = {k: v[rollouts.step] for k, v in rollouts.observations.items()}\n",
    "    \n",
    "    #print(rollouts.prev_actions[rollouts.step])\n",
    "    #print(rollouts.masks[rollouts.step])\n",
    "    (values, actions, actions_log_probs, recurrent_hidden_states) = actor_critic.act(\n",
    "                step_observation,\n",
    "                rollouts.recurrent_hidden_states[rollouts.step],\n",
    "                rollouts.prev_actions[rollouts.step],\n",
    "                rollouts.masks[rollouts.step])\n",
    "    #print('Action: ',actions.item(),actions_log_probs.item(),values.item())\n",
    "    best_action = follower.get_next_action(one_env.habitat_env.current_episode.goals[0].position)\n",
    "    observations, rewards, dones, infos = one_env.step(action=best_action)#actions.item())\n",
    "\n",
    "    batch = batch_obs([observations])\n",
    "    rewards = torch.tensor(rewards, dtype=torch.float, device=device)\n",
    "    #rewards = rewards.unsqueeze(1)\n",
    "    masks = torch.tensor(\n",
    "            [[0.0] if dones else [1.0]],\n",
    "            dtype=torch.float,\n",
    "            device=device)\n",
    "    rollouts.insert(\n",
    "            batch,\n",
    "            recurrent_hidden_states,\n",
    "            actions,\n",
    "            actions_log_probs,\n",
    "            values,\n",
    "            rewards,\n",
    "            masks)\n",
    "    r+=rewards\n",
    "me = time.time()\n",
    "print(me-ti)\n",
    "print('Pointgoal','\\t',one_env.obs['pointgoal'][[0,2]])\n",
    "print('Pointg+gp','\\t',one_env.obs['pointgoal_with_gps_compass'][[0,2]])\n",
    "print('Agent_Pos','\\t',one_env.obs['agent_position'][0][[0,2]])\n",
    "print('Truee_X_Y','\\t',[one_env.trux,one_env.truy])\n",
    "print('Goaal_X_Y','\\t',[one_env.goalx,one_env.goaly])\n",
    "print(observations['pos'])\n",
    "top_down_map = draw_top_down_map(infos, one_env.obs[\"heading\"][0], one_env.obs['rgb'][0].shape[0])\n",
    "plt.subplot(1, 2, 1)\n",
    "plt.imshow(top_down_map)\n",
    "plt.subplot(1, 2, 2)\n",
    "plt.imshow(observations['rgb'])"
   ]
  },
  {
   "cell_type": "code",
   "execution_count": 369,
   "metadata": {},
   "outputs": [
    {
     "name": "stdout",
     "output_type": "stream",
     "text": [
      "[-0.18346214] [0.5126654] [0.32920325] [0.32920325]\n"
     ]
    }
   ],
   "source": [
    "prev_compas = one_env.obs['compass']\n",
    "one_env.step(action=3)\n",
    "curr_compas = one_env.obs['compass']\n",
    "df = curr_compas - prev_compas\n",
    "if abs(df) > np.pi:\n",
    "    if curr_compas > prev_compas:\n",
    "        df = curr_compas - prev_compas - 2 * np.pi\n",
    "    else:\n",
    "        df = curr_compas - prev_compas + 2 * np.pi    \n",
    "print(df,prev_compas,curr_compas,one_env.obs['compass'])        \n",
    "#one_env.obs['compass']"
   ]
  },
  {
   "cell_type": "markdown",
   "metadata": {},
   "source": [
    "## EVALUATE"
   ]
  },
  {
   "cell_type": "code",
   "execution_count": 10,
   "metadata": {},
   "outputs": [],
   "source": [
    "from gym.spaces.box import Box\n",
    "from resnet_policy import PointNavResNetPolicy\n",
    "from habitat_baselines.common.rollout_storage import RolloutStorage\n",
    "import transformations as tf\n",
    "from habitat_baselines.common.utils import batch_obs, linear_decay\n",
    "import argparse\n",
    "import habitat\n",
    "import random\n",
    "import numpy as np\n",
    "from scipy.spatial.transform import Rotation as R\n",
    "import torch\n",
    "import os\n",
    "os.environ[\"CUDA_DEVICE_ORDER\"]=\"PCI_BUS_ID\"   \n",
    "os.environ[\"CUDA_VISIBLE_DEVICES\"]=\"3\""
   ]
  },
  {
   "cell_type": "code",
   "execution_count": 11,
   "metadata": {},
   "outputs": [
    {
     "name": "stdout",
     "output_type": "stream",
     "text": [
      "mkdir: cannot create directory ‘/habitat-challenge-data’: File exists\n"
     ]
    }
   ],
   "source": [
    "!mkdir /habitat-challenge-data\n",
    "!cp /data/challenge_pointnav2020.local.rgbd.yaml /habitat-challenge-data/challenge_pointnav2020.local.rgbd.yaml"
   ]
  },
  {
   "cell_type": "code",
   "execution_count": 11,
   "metadata": {},
   "outputs": [],
   "source": [
    "parser = argparse.ArgumentParser()\n",
    "parser.add_argument(\"--evaluation\", type=str, required=False, choices=[\"local\", \"remote\"], default=\"local\")\n",
    "args = parser.parse_args('')"
   ]
  },
  {
   "cell_type": "code",
   "execution_count": 12,
   "metadata": {},
   "outputs": [],
   "source": [
    "from typing import Any, Dict, Iterator, List, Optional, Tuple, Type, Union\n",
    "import gym\n",
    "import numba\n",
    "import numpy as np\n",
    "from gym.spaces.dict_space import Dict as SpaceDict\n",
    "from habitat.config import Config\n",
    "from habitat.core.dataset import Dataset, Episode, EpisodeIterator\n",
    "from habitat.core.embodied_task import EmbodiedTask, Metrics\n",
    "from habitat.core.simulator import Observations, Simulator\n",
    "from habitat.datasets import make_dataset\n",
    "from habitat.sims import make_sim\n",
    "from habitat.tasks import make_task\n",
    "\n",
    "class Env:\n",
    "\n",
    "    observation_space: SpaceDict\n",
    "    action_space: SpaceDict\n",
    "    _config: Config\n",
    "    _dataset: Optional[Dataset]\n",
    "    number_of_episodes: Optional[int]\n",
    "    _episodes: List[Type[Episode]]\n",
    "    _current_episode_index: Optional[int]\n",
    "    _current_episode: Optional[Type[Episode]]\n",
    "    _episode_iterator: Optional[Iterator]\n",
    "    _sim: Simulator\n",
    "    _task: EmbodiedTask\n",
    "    _max_episode_seconds: int\n",
    "    _max_episode_steps: int\n",
    "    _elapsed_steps: int\n",
    "    _episode_start_time: Optional[float]\n",
    "    _episode_over: bool\n",
    "\n",
    "    def __init__(\n",
    "        self, config: Config, dataset: Optional[Dataset] = None\n",
    "    ) -> None:\n",
    "\n",
    "        assert config.is_frozen(), (\n",
    "            \"Freeze the config before creating the \"\n",
    "            \"environment, use config.freeze().\")\n",
    "        self._config = config\n",
    "        self._dataset = dataset\n",
    "        self._current_episode_index = None\n",
    "        if self._dataset is None and config.DATASET.TYPE:\n",
    "            self._dataset = make_dataset(\n",
    "                id_dataset=config.DATASET.TYPE, config=config.DATASET\n",
    "            )\n",
    "        self._episodes = self._dataset.episodes if self._dataset else []\n",
    "        self._current_episode = None\n",
    "        iter_option_dict = {\n",
    "            k.lower(): v\n",
    "            for k, v in config.ENVIRONMENT.ITERATOR_OPTIONS.items()\n",
    "        }\n",
    "        self._episode_iterator = self._dataset.get_episode_iterator(\n",
    "            **iter_option_dict\n",
    "        )\n",
    "\n",
    "        # load the first scene if dataset is present\n",
    "        if self._dataset:\n",
    "            assert (\n",
    "                len(self._dataset.episodes) > 0\n",
    "            ), \"dataset should have non-empty episodes list\"\n",
    "            self._config.defrost()\n",
    "            self._config.SIMULATOR.SCENE = self._dataset.episodes[0].scene_id\n",
    "            self._config.freeze()\n",
    "\n",
    "            self.number_of_episodes = len(self._dataset.episodes)\n",
    "        else:\n",
    "            self.number_of_episodes = None\n",
    "\n",
    "        self._sim = make_sim(\n",
    "            id_sim=self._config.SIMULATOR.TYPE, config=self._config.SIMULATOR)\n",
    "        self._task = make_task(\n",
    "            self._config.TASK.TYPE,\n",
    "            config=self._config.TASK,\n",
    "            sim=self._sim,\n",
    "            dataset=self._dataset)\n",
    "        self.observation_space = SpaceDict(\n",
    "            {\n",
    "                **self._sim.sensor_suite.observation_spaces.spaces,\n",
    "                **self._task.sensor_suite.observation_spaces.spaces,\n",
    "            })\n",
    "        self.action_space = self._task.action_space\n",
    "        self._max_episode_seconds = (\n",
    "            self._config.ENVIRONMENT.MAX_EPISODE_SECONDS)\n",
    "        self._max_episode_steps = self._config.ENVIRONMENT.MAX_EPISODE_STEPS\n",
    "        self._elapsed_steps = 0\n",
    "        self._episode_start_time: Optional[float] = None\n",
    "        self._episode_over = False\n",
    "\n",
    "    @property\n",
    "    def current_episode(self) -> Type[Episode]:\n",
    "        assert self._current_episode is not None\n",
    "        return self._current_episode\n",
    "\n",
    "    @current_episode.setter\n",
    "    def current_episode(self, episode: Type[Episode]) -> None:\n",
    "        self._current_episode = episode\n",
    "\n",
    "    @property\n",
    "    def episode_iterator(self) -> Iterator:\n",
    "        return self._episode_iterator\n",
    "\n",
    "    @episode_iterator.setter\n",
    "    def episode_iterator(self, new_iter: Iterator) -> None:\n",
    "        self._episode_iterator = new_iter\n",
    "\n",
    "    @property\n",
    "    def episodes(self) -> List[Type[Episode]]:\n",
    "        return self._episodes\n",
    "\n",
    "    @episodes.setter\n",
    "    def episodes(self, episodes: List[Type[Episode]]) -> None:\n",
    "        assert (\n",
    "            len(episodes) > 0\n",
    "        ), \"Environment doesn't accept empty episodes list.\"\n",
    "        self._episodes = episodes\n",
    "\n",
    "    @property\n",
    "    def sim(self) -> Simulator:\n",
    "        return self._sim\n",
    "\n",
    "    @property\n",
    "    def episode_start_time(self) -> Optional[float]:\n",
    "        return self._episode_start_time\n",
    "\n",
    "    @property\n",
    "    def episode_over(self) -> bool:\n",
    "        return self._episode_over\n",
    "\n",
    "    @property\n",
    "    def task(self) -> EmbodiedTask:\n",
    "        return self._task\n",
    "\n",
    "    @property\n",
    "    def _elapsed_seconds(self) -> float:\n",
    "        assert (\n",
    "            self._episode_start_time\n",
    "        ), \"Elapsed seconds requested before episode was started.\"\n",
    "        return time.time() - self._episode_start_time\n",
    "\n",
    "    def get_metrics(self) -> Metrics:\n",
    "        return self._task.measurements.get_metrics()\n",
    "\n",
    "    def _past_limit(self) -> bool:\n",
    "        if (\n",
    "            self._max_episode_steps != 0\n",
    "            and self._max_episode_steps <= self._elapsed_steps\n",
    "        ):\n",
    "            return True\n",
    "        elif (\n",
    "            self._max_episode_seconds != 0\n",
    "            and self._max_episode_seconds <= self._elapsed_seconds\n",
    "        ):\n",
    "            return True\n",
    "        return False\n",
    "\n",
    "    def _reset_stats(self) -> None:\n",
    "        self._episode_start_time = time.time()\n",
    "        self._elapsed_steps = 0\n",
    "        self._episode_over = False\n",
    "\n",
    "    def reset(self) -> Observations:\n",
    "        r\"\"\"Resets the environments and returns the initial observations.\n",
    "        :return: initial observations from the environment.\n",
    "        \"\"\"\n",
    "        self._reset_stats()\n",
    "\n",
    "        assert len(self.episodes) > 0, \"Episodes list is empty\"\n",
    "        if self._current_episode is not None:\n",
    "            self._current_episode._shortest_path_cache = None\n",
    "\n",
    "        # Delete the shortest path cache of the current episode\n",
    "        # Caching it for the next time we see this episode isn't really worth\n",
    "        # it\n",
    "        if self._current_episode is not None:\n",
    "            self._current_episode._shortest_path_cache = None\n",
    "\n",
    "        self._current_episode = next(self._episode_iterator)\n",
    "        self.reconfigure(self._config)\n",
    "\n",
    "        observations = self.task.reset(episode=self.current_episode)\n",
    "        self._task.measurements.reset_measures(\n",
    "            episode=self.current_episode, task=self.task)\n",
    "\n",
    "        return observations\n",
    "\n",
    "    def _update_step_stats(self) -> None:\n",
    "        self._elapsed_steps += 1\n",
    "        self._episode_over = not self._task.is_episode_active\n",
    "        if self._past_limit():\n",
    "            self._episode_over = True\n",
    "\n",
    "        if self.episode_iterator is not None and isinstance(\n",
    "            self.episode_iterator, EpisodeIterator):\n",
    "            self.episode_iterator.step_taken()\n",
    "\n",
    "    def step(\n",
    "        self, action: Union[int, str, Dict[str, Any]], **kwargs) -> Observations:\n",
    "\n",
    "        assert (\n",
    "            self._episode_start_time is not None\n",
    "        ), \"Cannot call step before calling reset\"\n",
    "        assert (\n",
    "            self._episode_over is False\n",
    "        ), \"Episode over, call reset before calling step\"\n",
    "        # Support simpler interface as well\n",
    "        if isinstance(action, str) or isinstance(action, (int, np.integer)):\n",
    "            action = {\"action\": action}\n",
    "            \n",
    "        for i in range(20):    \n",
    "            observations = self.task.step(action=action, episode=self.current_episode)\n",
    "            if done:\n",
    "                break \n",
    "        self._task.measurements.update_measures(\n",
    "            episode=self.current_episode, action=action, task=self.task)\n",
    "        self._update_step_stats()\n",
    "        return observations\n",
    "\n",
    "    @staticmethod\n",
    "    @numba.njit\n",
    "    def _seed_numba(seed: int):\n",
    "        random.seed(seed)\n",
    "        np.random.seed(seed)\n",
    "\n",
    "    def seed(self, seed: int) -> None:\n",
    "        random.seed(seed)\n",
    "        np.random.seed(seed)\n",
    "        self._seed_numba(seed)\n",
    "        self._sim.seed(seed)\n",
    "        self._task.seed(seed)\n",
    "\n",
    "    def reconfigure(self, config: Config) -> None:\n",
    "        self._config = config\n",
    "        self._config.defrost()\n",
    "        self._config.SIMULATOR = self._task.overwrite_sim_config(\n",
    "            self._config.SIMULATOR, self.current_episode)\n",
    "        self._config.freeze()\n",
    "        self._sim.reconfigure(self._config.SIMULATOR)\n",
    "\n",
    "    def render(self, mode=\"rgb\") -> np.ndarray:\n",
    "        return self._sim.render(mode)\n",
    "\n",
    "    def close(self) -> None:\n",
    "        self._sim.close()"
   ]
  },
  {
   "cell_type": "code",
   "execution_count": 13,
   "metadata": {},
   "outputs": [],
   "source": [
    "from habitat.core.logging import logger\n",
    "from collections import defaultdict\n",
    "from typing import Dict, Optional\n",
    "\n",
    "from habitat.config.default import get_config\n",
    "from habitat.core.agent import Agent\n",
    "from habitat.core.env import Env\n",
    "\n",
    "class Benchmark:\n",
    "    r\"\"\"Benchmark for evaluating agents in environments.\n",
    "    \"\"\"\n",
    "\n",
    "    def __init__(\n",
    "        self, config_paths: Optional[str] = None, eval_remote=False\n",
    "    ) -> None:\n",
    "        r\"\"\"..\n",
    "\n",
    "        :param config_paths: file to be used for creating the environment\n",
    "        :param eval_remote: boolean indicating whether evaluation should be run remotely or locally\n",
    "        \"\"\"\n",
    "        config_env = get_config(config_paths)\n",
    "        config_env.defrost()\n",
    "        config_env.TASK.AGENT_POSITION_SENSOR = habitat.Config()\n",
    "        config_env.TASK.AGENT_POSITION_SENSOR.TYPE = \"position_sensor\"\n",
    "        config_env.TASK.AGENT_POSITION_SENSOR.ANSWER_TO_LIFE = 42\n",
    "        config_env.TASK.SENSORS.append(\"AGENT_POSITION_SENSOR\")\n",
    "        config_env.SIMULATOR.TURN_ANGLE = 0.5\n",
    "        config_env.SIMULATOR.TILT_ANGLE = 0.5\n",
    "        config_env.SIMULATOR.FORWARD_STEP_SIZE = 0.0125\n",
    "        config_env.ENVIRONMENT.MAX_EPISODE_STEPS = 500*20\n",
    "        config_env.TASK.TOP_DOWN_MAP.MAX_EPISODE_STEPS = 500*20\n",
    "        config_env.freeze()\n",
    "        self._eval_remote = eval_remote\n",
    "        \n",
    "        \n",
    "\n",
    "        if self._eval_remote is True:\n",
    "            self._env = None\n",
    "        else:\n",
    "            self._env = Env(config=config_env)\n",
    "            self._env.seed(0)\n",
    "\n",
    "    def remote_evaluate(\n",
    "        self, agent: Agent, num_episodes: Optional[int] = None\n",
    "    ):\n",
    "        # The modules imported below are specific to habitat-challenge remote evaluation.\n",
    "        # These modules are not part of the habitat-api repository.\n",
    "        import evaluation_pb2\n",
    "        import evaluation_pb2_grpc\n",
    "        import evalai_environment_habitat\n",
    "        import grpc\n",
    "        import pickle\n",
    "        import time\n",
    "\n",
    "        time.sleep(60)\n",
    "\n",
    "        def pack_for_grpc(entity):\n",
    "            return pickle.dumps(entity)\n",
    "\n",
    "        def unpack_for_grpc(entity):\n",
    "            return pickle.loads(entity)\n",
    "\n",
    "        def remote_ep_over(stub):\n",
    "            res_env = unpack_for_grpc(\n",
    "                stub.episode_over(evaluation_pb2.Package()).SerializedEntity\n",
    "            )\n",
    "            return res_env[\"episode_over\"]\n",
    "\n",
    "        channel = grpc.insecure_channel(\"localhost:8085\")\n",
    "        stub = evaluation_pb2_grpc.EnvironmentStub(channel)\n",
    "\n",
    "        base_num_episodes = unpack_for_grpc(\n",
    "            stub.num_episodes(evaluation_pb2.Package()).SerializedEntity\n",
    "        )\n",
    "        num_episodes = base_num_episodes[\"num_episodes\"]\n",
    "\n",
    "        agg_metrics: Dict = defaultdict(float)\n",
    "        count_episodes = 0\n",
    "\n",
    "        while count_episodes < num_episodes:\n",
    "            logger.info(\"Current Episode: {}\".format(count_episodes))\n",
    "            agent.reset()\n",
    "            res_env = unpack_for_grpc(\n",
    "                stub.reset(evaluation_pb2.Package()).SerializedEntity\n",
    "            )\n",
    "            obs = res_env[\"observations\"]\n",
    "\n",
    "            while not remote_ep_over(stub):\n",
    "                action = agent.act(obs)\n",
    "\n",
    "                res_env = unpack_for_grpc(\n",
    "                    stub.act_on_environment(\n",
    "                        evaluation_pb2.Package(\n",
    "                            SerializedEntity=pack_for_grpc(action)\n",
    "                        )\n",
    "                    ).SerializedEntity\n",
    "                )\n",
    "\n",
    "            metrics = unpack_for_grpc(\n",
    "                stub.get_metrics(\n",
    "                    evaluation_pb2.Package(\n",
    "                        SerializedEntity=pack_for_grpc(action)\n",
    "                    )\n",
    "                    ).SerializedEntity\n",
    "                )\n",
    "\n",
    "            metrics = unpack_for_grpc(\n",
    "                stub.get_metrics(\n",
    "                    evaluation_pb2.Package(\n",
    "                        SerializedEntity=pack_for_grpc(action)\n",
    "                    )\n",
    "                ).SerializedEntity\n",
    "            )\n",
    "\n",
    "            for m, v in metrics[\"metrics\"].items():\n",
    "                agg_metrics[m] += v\n",
    "            count_episodes += 1\n",
    "\n",
    "        avg_metrics = {k: v / count_episodes for k, v in agg_metrics.items()}\n",
    "\n",
    "        stub.evalai_update_submission(evaluation_pb2.Package())\n",
    "\n",
    "        return avg_metrics\n",
    "\n",
    "    def local_evaluate(self, agent: Agent, num_episodes: Optional[int] = None):\n",
    "        if num_episodes is None:\n",
    "            num_episodes = len(self._env.episodes)\n",
    "        else:\n",
    "            assert num_episodes <= len(self._env.episodes), (\n",
    "                \"num_episodes({}) is larger than number of episodes \"\n",
    "                \"in environment ({})\".format(\n",
    "                    num_episodes, len(self._env.episodes)\n",
    "                )\n",
    "            )\n",
    "\n",
    "        assert num_episodes > 0, \"num_episodes should be greater than 0\"\n",
    "        agg_metrics: Dict = defaultdict(float)\n",
    "\n",
    "        count_episodes = 0\n",
    "        while count_episodes < num_episodes:\n",
    "            agent.reset()\n",
    "            observations = self._env.reset()\n",
    "\n",
    "            while not self._env.episode_over:\n",
    "                action = agent.act(observations)\n",
    "                observations = self._env.step(action)\n",
    "\n",
    "            metrics = self._env.get_metrics()\n",
    "            for m, v in metrics.items():\n",
    "                agg_metrics[m] += v\n",
    "            count_episodes += 1\n",
    "\n",
    "        avg_metrics = {k: v / count_episodes for k, v in agg_metrics.items()}\n",
    "\n",
    "        return avg_metrics\n",
    "\n",
    "    def evaluate(\n",
    "        self, agent: Agent, num_episodes: Optional[int] = None\n",
    "    ) -> Dict[str, float]:\n",
    "        r\"\"\"..\n",
    "\n",
    "        :param agent: agent to be evaluated in environment.\n",
    "        :param num_episodes: count of number of episodes for which the\n",
    "            evaluation should be run.\n",
    "        :return: dict containing metrics tracked by environment.\n",
    "        \"\"\"\n",
    "\n",
    "        if self._eval_remote is True:\n",
    "            return self.remote_evaluate(agent, num_episodes)\n",
    "        else:\n",
    "            return self.local_evaluate(agent, num_episodes)\n",
    "                    \n",
    "\n",
    "class Challenge(Benchmark):\n",
    "    def __init__(self, eval_remote=False):\n",
    "        config_paths = os.environ[\"CHALLENGE_CONFIG_FILE\"]\n",
    "        super().__init__(config_paths, eval_remote=eval_remote)\n",
    "\n",
    "    def submit(self, agent):\n",
    "        metrics = super().evaluate(agent)\n",
    "        for k, v in metrics.items():\n",
    "            logger.info(\"{}: {}\".format(k, v))"
   ]
  },
  {
   "cell_type": "code",
   "execution_count": 14,
   "metadata": {},
   "outputs": [],
   "source": [
    "class dotdict(dict):\n",
    "    \"\"\"dot.notation access to dictionary attributes\"\"\"\n",
    "    __getattr__ = dict.get\n",
    "    __setattr__ = dict.__setitem__\n",
    "    __delattr__ = dict.__delitem__"
   ]
  },
  {
   "cell_type": "code",
   "execution_count": 15,
   "metadata": {},
   "outputs": [],
   "source": [
    "from utils import AgentPositionSensor,draw_top_down_map,inverse_transform,make_train_data,RewardForwardFilter,RunningMeanStd,global_grad_norm_\n",
    "class RandomAgent(habitat.Agent):\n",
    "    def __init__(self, task_config: habitat.Config):\n",
    "        self._POSSIBLE_ACTIONS = task_config.TASK.POSSIBLE_ACTIONS\n",
    "        self.trux = 0; self.truy = 0; self.truz = 0\n",
    "        self.goalx = 0; self.goaly = 0\n",
    "        self.xdif = 0; self.ydif = 0\n",
    "        \n",
    "        self.obs_space = dotdict()\n",
    "        self.obs_space.spaces = {}\n",
    "        self.obs_space.spaces['depth'] = Box(low=-1000, high=1000, shape=(256,256,1), dtype=np.float32)\n",
    "        self.obs_space.spaces['rgb'] = Box(low=-1000, high=1000, shape=(256,256,3), dtype=np.float32)\n",
    "        self.obs_space.spaces['pos'] = Box(low=-1000, high=1000, shape=(2,), dtype=np.float32)\n",
    "\n",
    "        self.act_space = dotdict()\n",
    "        self.act_space.n = 4\n",
    "        self.act_space.shape = [1]\n",
    "        \n",
    "        self.device = torch.device(\"cuda:0\" if torch.cuda.is_available() else \"cpu\")\n",
    "        \n",
    "        self.actor_critic = PointNavResNetPolicy(\n",
    "            observation_space=self.obs_space,\n",
    "            action_space=self.act_space,\n",
    "            hidden_size=512,\n",
    "            rnn_type='LSTM',\n",
    "            num_recurrent_layers=2,\n",
    "            backbone='resnet50',\n",
    "            goal_sensor_uuid='pos',\n",
    "            normalize_visual_inputs=False,\n",
    "        )\n",
    "        self.actor_critic.to(self.device);\n",
    "        \n",
    "        pretrained_state = torch.load('ckpt.143.pth', map_location=\"cpu\")\n",
    "        self.actor_critic.load_state_dict({k[len(\"actor_critic.\") :]: v for k, v in pretrained_state[\"state_dict\"].items() if \"actor_critic\" in k})\n",
    "        self.step = 0\n",
    "        \n",
    "        \n",
    "    def reset(self):\n",
    "        self.step = 0\n",
    "        self.rollouts = RolloutStorage(\n",
    "            500,\n",
    "            1,\n",
    "            self.obs_space,\n",
    "            self.act_space,\n",
    "            512,\n",
    "            num_recurrent_layers=self.actor_critic.net.num_recurrent_layers)\n",
    "        self.rollouts.to(self.device)\n",
    "        self.trux = 0; self.truy = 0\n",
    "        print('RESET')\n",
    "        \n",
    "\n",
    "    def act(self, observations):\n",
    "        if self.step==0:\n",
    "            self.vector = np.array([0., 0., 0.])\n",
    "            self.vector1 = np.array([0.25, 0., 0.])\n",
    "            self.r = R.from_rotvec([0, 0, 0])\n",
    "            self.r2 = R.from_rotvec([0, -np.pi/9, 0])\n",
    "            self.r3 = R.from_rotvec([0, np.pi/9, 0])\n",
    "            xx,yy = observations['pointgoal']\n",
    "            self.is_started = False\n",
    "            self.goalx, self.goaly = inverse_transform(yy, xx, 0, 0, np.pi)\n",
    "            #self.publish_true_path(observations['agent_position'])\n",
    "            self.xdif,self.ydif = self.trux-self.goalx, self.truy-self.goaly\n",
    "            observations['pos'] = [self.xdif,self.ydif]\n",
    "            del observations['agent_position']\n",
    "            batch = batch_obs([observations])\n",
    "            for sensor in self.rollouts.observations:\n",
    "                self.rollouts.observations[sensor][0].copy_(batch[sensor])\n",
    "        else:\n",
    "            #self.publish_true_path(observations['agent_position'])\n",
    "            self.trux,self.truy = self.vector[0], self.vector[2]\n",
    "            self.xdif,self.ydif = self.trux-self.goalx, self.truy-self.goaly\n",
    "            observations['pos'] = [self.xdif,self.ydif]\n",
    "            del observations['agent_position']\n",
    "            del observations['pointgoal']\n",
    "            \n",
    "            batch = batch_obs([observations])\n",
    "            rewards = torch.tensor(0, dtype=torch.float, device=self.device)\n",
    "            masks = torch.tensor([[1.0]],dtype=torch.float,device=self.device)\n",
    "            self.rollouts.insert(batch,self.recurrent_hidden_states,self.actions,\n",
    "                            self.actions_log_probs,self.values,rewards,masks)\n",
    "            \n",
    "        self.step+=1\n",
    "        # rgb depth pointgoal\n",
    "        step_observation = {k: v[self.rollouts.step] for k, v in self.rollouts.observations.items()}\n",
    "        #print('\\t',self.rollouts.prev_actions[self.rollouts.step],self.rollouts.step)\n",
    "        \n",
    "        \n",
    "        (self.values, self.actions, self.actions_log_probs, self.recurrent_hidden_states) = self.actor_critic.act(\n",
    "                step_observation,\n",
    "                self.rollouts.recurrent_hidden_states[self.rollouts.step],\n",
    "                self.rollouts.prev_actions[self.rollouts.step],\n",
    "                self.rollouts.masks[self.rollouts.step])\n",
    "        \n",
    "        #print(self.actions.item())\n",
    "        \n",
    "        act = self.actions.item()\n",
    "        #act = np.random.choice(self._POSSIBLE_ACTIONS)}\n",
    "\n",
    "        if act==1:\n",
    "            self.vector+=self.r.apply(self.vector1)\n",
    "        if act==2:\n",
    "            self.r = self.r*self.r2\n",
    "        if act==3:\n",
    "            self.r = self.r*self.r3\n",
    "        #print(self.vector, [self.trux,self.truy])    \n",
    "        #print((self.r).as_euler('xyz', degrees=True))   \n",
    "        \n",
    "        return {\"action\": act}\n",
    "    \n",
    "    \n",
    "    \n",
    "    def publish_true_path(self, pose):\n",
    "\n",
    "        position, rotation = pose\n",
    "        y, z, x = position\n",
    "        cur_orientation = rotation\n",
    "        cur_euler_angles = tf.euler_from_quaternion([cur_orientation.w, cur_orientation.x, cur_orientation.z, cur_orientation.y])\n",
    "        cur_x_angle, cur_y_angle, cur_z_angle = cur_euler_angles\n",
    "        cur_z_angle += np.pi\n",
    "\n",
    "        if not self.is_started:\n",
    "            self.is_started = True\n",
    "            self.slam_start_angle = cur_z_angle\n",
    "            self.slam_start_x = x\n",
    "            self.slam_start_y = y\n",
    "            self.slam_start_z = z\n",
    "        # if SLAM is running, transform global coords to RViz coords\n",
    "        rviz_x, rviz_y = inverse_transform(x, y, self.slam_start_x, self.slam_start_y, self.slam_start_angle)\n",
    "        rviz_z = z - self.slam_start_z\n",
    "        cur_quaternion = tf.quaternion_from_euler(0, 0, cur_z_angle - self.slam_start_angle)\n",
    "        cur_orientation.w = cur_quaternion[0]\n",
    "        cur_orientation.x = cur_quaternion[1]\n",
    "        cur_orientation.y = cur_quaternion[2]\n",
    "        cur_orientation.z = cur_quaternion[3]\n",
    "        x, y, z = rviz_x, rviz_y, rviz_z\n",
    "        self.trux = x; self.truy = y; self.truz = z;  "
   ]
  },
  {
   "cell_type": "code",
   "execution_count": 16,
   "metadata": {},
   "outputs": [
    {
     "name": "stderr",
     "output_type": "stream",
     "text": [
      "2020-05-02 22:24:53,502 Initializing dataset PointNav-v1\n",
      "2020-05-02 22:24:53,507 initializing sim Sim-v0\n",
      "2020-05-02 22:24:55,158 Initializing task Nav-v0\n"
     ]
    }
   ],
   "source": [
    "challenge = Challenge(eval_remote=False)"
   ]
  },
  {
   "cell_type": "code",
   "execution_count": 19,
   "metadata": {},
   "outputs": [
    {
     "data": {
      "text/plain": [
       "{'rgb': array([[[126, 133, 163],\n",
       "         [117, 199, 158],\n",
       "         [133, 142, 151],\n",
       "         ...,\n",
       "         [130, 143, 128],\n",
       "         [119, 166, 168],\n",
       "         [157, 180, 150]],\n",
       " \n",
       "        [[113, 139, 123],\n",
       "         [154, 179, 130],\n",
       "         [158, 167, 150],\n",
       "         ...,\n",
       "         [191, 106, 163],\n",
       "         [130, 171, 169],\n",
       "         [153, 139, 176]],\n",
       " \n",
       "        [[113, 156, 157],\n",
       "         [140, 184, 168],\n",
       "         [123, 153, 156],\n",
       "         ...,\n",
       "         [141, 189, 195],\n",
       "         [147, 176, 176],\n",
       "         [161, 201, 185]],\n",
       " \n",
       "        ...,\n",
       " \n",
       "        [[ 67, 184, 144],\n",
       "         [107,  89, 142],\n",
       "         [147, 111, 109],\n",
       "         ...,\n",
       "         [184, 212, 177],\n",
       "         [197, 206, 177],\n",
       "         [162, 167, 195]],\n",
       " \n",
       "        [[123, 170,  99],\n",
       "         [112, 127, 115],\n",
       "         [121, 121,  95],\n",
       "         ...,\n",
       "         [173, 237, 170],\n",
       "         [157, 175, 140],\n",
       "         [166, 160, 208]],\n",
       " \n",
       "        [[150, 158, 139],\n",
       "         [105, 162, 113],\n",
       "         [128, 118,  48],\n",
       "         ...,\n",
       "         [140, 204, 165],\n",
       "         [200, 183, 186],\n",
       "         [202, 195, 212]]], dtype=uint8),\n",
       " 'depth': array([[[0.],\n",
       "         [0.],\n",
       "         [0.],\n",
       "         ...,\n",
       "         [0.],\n",
       "         [0.],\n",
       "         [0.]],\n",
       " \n",
       "        [[0.],\n",
       "         [0.],\n",
       "         [0.],\n",
       "         ...,\n",
       "         [0.],\n",
       "         [0.],\n",
       "         [0.]],\n",
       " \n",
       "        [[0.],\n",
       "         [0.],\n",
       "         [0.],\n",
       "         ...,\n",
       "         [0.],\n",
       "         [0.],\n",
       "         [0.]],\n",
       " \n",
       "        ...,\n",
       " \n",
       "        [[0.],\n",
       "         [0.],\n",
       "         [0.],\n",
       "         ...,\n",
       "         [0.],\n",
       "         [0.],\n",
       "         [0.]],\n",
       " \n",
       "        [[0.],\n",
       "         [0.],\n",
       "         [0.],\n",
       "         ...,\n",
       "         [0.],\n",
       "         [0.],\n",
       "         [0.]],\n",
       " \n",
       "        [[0.],\n",
       "         [0.],\n",
       "         [0.],\n",
       "         ...,\n",
       "         [0.],\n",
       "         [0.],\n",
       "         [0.]]], dtype=float32),\n",
       " 'pointgoal': array([1.4698113 , 0.48380813], dtype=float32),\n",
       " 'agent_position': (array([-2.128078 ,  1.0485151,  0.9308841], dtype=float32),\n",
       "  quaternion(-0.506893455982208, 0, 0.862008690834045, 0))}"
      ]
     },
     "execution_count": 19,
     "metadata": {},
     "output_type": "execute_result"
    }
   ],
   "source": [
    "challenge._env.reset()"
   ]
  },
  {
   "cell_type": "code",
   "execution_count": 186,
   "metadata": {},
   "outputs": [],
   "source": [
    "config_env = get_config(os.environ[\"CHALLENGE_CONFIG_FILE\"])\n",
    "agent = RandomAgent(task_config=config_env)"
   ]
  },
  {
   "cell_type": "code",
   "execution_count": null,
   "metadata": {},
   "outputs": [
    {
     "name": "stdout",
     "output_type": "stream",
     "text": [
      "RESET\n"
     ]
    }
   ],
   "source": [
    "challenge.submit(agent)"
   ]
  },
  {
   "cell_type": "code",
   "execution_count": null,
   "metadata": {},
   "outputs": [],
   "source": []
  },
  {
   "cell_type": "code",
   "execution_count": 8,
   "metadata": {},
   "outputs": [],
   "source": [
    "config_env = get_config(os.environ[\"CHALLENGE_CONFIG_FILE\"])"
   ]
  },
  {
   "cell_type": "code",
   "execution_count": 9,
   "metadata": {},
   "outputs": [
    {
     "data": {
      "text/plain": [
       "Config({'SEED': 100, 'ENVIRONMENT': Config({'MAX_EPISODE_STEPS': 500, 'MAX_EPISODE_SECONDS': 10000000, 'ITERATOR_OPTIONS': Config({'CYCLE': True, 'SHUFFLE': False, 'GROUP_BY_SCENE': True, 'NUM_EPISODE_SAMPLE': -1, 'MAX_SCENE_REPEAT_EPISODES': -1, 'MAX_SCENE_REPEAT_STEPS': 10000, 'STEP_REPETITION_RANGE': 0.2})}), 'TASK': Config({'TYPE': 'Nav-v0', 'SUCCESS_DISTANCE': 0.36, 'SENSORS': ['POINTGOAL_SENSOR'], 'MEASUREMENTS': ['DISTANCE_TO_GOAL', 'SUCCESS', 'SPL'], 'GOAL_SENSOR_UUID': 'pointgoal', 'POSSIBLE_ACTIONS': ['STOP', 'MOVE_FORWARD', 'TURN_LEFT', 'TURN_RIGHT'], 'ACTIONS': Config({'STOP': Config({'TYPE': 'StopAction'}), 'MOVE_FORWARD': Config({'TYPE': 'MoveForwardAction'}), 'TURN_LEFT': Config({'TYPE': 'TurnLeftAction'}), 'TURN_RIGHT': Config({'TYPE': 'TurnRightAction'}), 'LOOK_UP': Config({'TYPE': 'LookUpAction'}), 'LOOK_DOWN': Config({'TYPE': 'LookDownAction'}), 'TELEPORT': Config({'TYPE': 'TeleportAction'}), 'ANSWER': Config({'TYPE': 'AnswerAction'})}), 'POINTGOAL_SENSOR': Config({'TYPE': 'PointGoalSensor', 'GOAL_FORMAT': 'POLAR', 'DIMENSIONALITY': 2}), 'POINTGOAL_WITH_GPS_COMPASS_SENSOR': Config({'TYPE': 'PointGoalWithGPSCompassSensor', 'GOAL_FORMAT': 'POLAR', 'DIMENSIONALITY': 2}), 'OBJECTGOAL_SENSOR': Config({'TYPE': 'ObjectGoalSensor', 'GOAL_SPEC': 'TASK_CATEGORY_ID', 'GOAL_SPEC_MAX_VAL': 50}), 'HEADING_SENSOR': Config({'TYPE': 'HeadingSensor'}), 'COMPASS_SENSOR': Config({'TYPE': 'CompassSensor'}), 'GPS_SENSOR': Config({'TYPE': 'GPSSensor', 'DIMENSIONALITY': 2}), 'PROXIMITY_SENSOR': Config({'TYPE': 'ProximitySensor', 'MAX_DETECTION_RADIUS': 2.0}), 'SUCCESS': Config({'TYPE': 'Success', 'SUCCESS_DISTANCE': 0.36}), 'SPL': Config({'TYPE': 'SPL'}), 'SOFT_SPL': Config({'TYPE': 'SoftSPL'}), 'TOP_DOWN_MAP': Config({'TYPE': 'TopDownMap', 'MAX_EPISODE_STEPS': 1000, 'MAP_PADDING': 3, 'NUM_TOPDOWN_MAP_SAMPLE_POINTS': 20000, 'MAP_RESOLUTION': 1250, 'DRAW_SOURCE': True, 'DRAW_BORDER': True, 'DRAW_SHORTEST_PATH': True, 'FOG_OF_WAR': Config({'DRAW': True, 'VISIBILITY_DIST': 5.0, 'FOV': 90}), 'DRAW_VIEW_POINTS': True, 'DRAW_GOAL_POSITIONS': True, 'DRAW_GOAL_AABBS': True}), 'COLLISIONS': Config({'TYPE': 'Collisions'}), 'QUESTION_SENSOR': Config({'TYPE': 'QuestionSensor'}), 'CORRECT_ANSWER': Config({'TYPE': 'CorrectAnswer'}), 'EPISODE_INFO': Config({'TYPE': 'EpisodeInfo'}), 'INSTRUCTION_SENSOR': Config({'TYPE': 'InstructionSensor'}), 'INSTRUCTION_SENSOR_UUID': 'instruction', 'DISTANCE_TO_GOAL': Config({'TYPE': 'DistanceToGoal', 'DISTANCE_TO': 'POINT'}), 'ANSWER_ACCURACY': Config({'TYPE': 'AnswerAccuracy'})}), 'SIMULATOR': Config({'TYPE': 'Sim-v0', 'ACTION_SPACE_CONFIG': 'pyrobotnoisy', 'FORWARD_STEP_SIZE': 0.25, 'SCENE': 'data/scene_datasets/habitat-test-scenes/van-gogh-room.glb', 'SEED': 100, 'TURN_ANGLE': 10, 'TILT_ANGLE': 15, 'DEFAULT_AGENT_ID': 0, 'RGB_SENSOR': Config({'HEIGHT': 256, 'WIDTH': 256, 'HFOV': 70, 'POSITION': [0, 0.88, 0], 'ORIENTATION': [0.0, 0.0, 0.0], 'TYPE': 'HabitatSimRGBSensor', 'NOISE_MODEL': 'GaussianNoiseModel', 'NOISE_MODEL_KWARGS': Config({'intensity_constant': 0.1})}), 'DEPTH_SENSOR': Config({'HEIGHT': 256, 'WIDTH': 256, 'HFOV': 70, 'POSITION': [0, 0.88, 0], 'ORIENTATION': [0.0, 0.0, 0.0], 'TYPE': 'HabitatSimDepthSensor', 'MIN_DEPTH': 0.1, 'MAX_DEPTH': 10.0, 'NORMALIZE_DEPTH': True, 'NOISE_MODEL': 'RedwoodDepthNoiseModel'}), 'SEMANTIC_SENSOR': Config({'HEIGHT': 480, 'WIDTH': 640, 'HFOV': 90, 'POSITION': [0, 1.25, 0], 'ORIENTATION': [0.0, 0.0, 0.0], 'TYPE': 'HabitatSimSemanticSensor'}), 'AGENT_0': Config({'HEIGHT': 0.88, 'RADIUS': 0.18, 'MASS': 32.0, 'LINEAR_ACCELERATION': 20.0, 'ANGULAR_ACCELERATION': 12.56, 'LINEAR_FRICTION': 0.5, 'ANGULAR_FRICTION': 1.0, 'COEFFICIENT_OF_RESTITUTION': 0.0, 'SENSORS': ['RGB_SENSOR', 'DEPTH_SENSOR'], 'IS_SET_START_STATE': False, 'START_POSITION': [0, 0, 0], 'START_ROTATION': [0, 0, 0, 1]}), 'AGENTS': ['AGENT_0'], 'HABITAT_SIM_V0': Config({'GPU_DEVICE_ID': 0, 'GPU_GPU': False, 'ALLOW_SLIDING': False, 'ENABLE_PHYSICS': False, 'PHYSICS_CONFIG_FILE': './data/default.phys_scene_config.json'}), 'NOISE_MODEL': Config({'ROBOT': 'LoCoBot', 'CONTROLLER': 'Proportional', 'NOISE_MULTIPLIER': 0.5})}), 'PYROBOT': Config({'ROBOTS': ['locobot'], 'ROBOT': 'locobot', 'SENSORS': ['RGB_SENSOR', 'DEPTH_SENSOR', 'BUMP_SENSOR'], 'BASE_CONTROLLER': 'proportional', 'BASE_PLANNER': 'none', 'RGB_SENSOR': Config({'HEIGHT': 480, 'WIDTH': 640, 'TYPE': 'PyRobotRGBSensor', 'CENTER_CROP': False}), 'DEPTH_SENSOR': Config({'HEIGHT': 480, 'WIDTH': 640, 'TYPE': 'PyRobotDepthSensor', 'MIN_DEPTH': 0.0, 'MAX_DEPTH': 5.0, 'NORMALIZE_DEPTH': True, 'CENTER_CROP': False}), 'BUMP_SENSOR': Config({'TYPE': 'PyRobotBumpSensor'}), 'LOCOBOT': Config({'ACTIONS': ['BASE_ACTIONS', 'CAMERA_ACTIONS'], 'BASE_ACTIONS': ['go_to_relative', 'go_to_absolute'], 'CAMERA_ACTIONS': ['set_pan', 'set_tilt', 'set_pan_tilt']})}), 'DATASET': Config({'TYPE': 'PointNav-v1', 'SPLIT': 'val_mini', 'SCENES_DIR': 'habitat-challenge-data/data/scene_datasets/', 'CONTENT_SCENES': ['*'], 'DATA_PATH': 'habitat-challenge-data/pointgoal_gibson_v2/{split}/{split}.json.gz'})})"
      ]
     },
     "execution_count": 9,
     "metadata": {},
     "output_type": "execute_result"
    }
   ],
   "source": []
  },
  {
   "cell_type": "code",
   "execution_count": null,
   "metadata": {},
   "outputs": [],
   "source": [
    "2020-04-28 18:32:02,004 distance_to_goal: 2.920840401450793\n",
    "2020-04-28 18:32:02,006 success: 0.03333333333333333\n",
    "2020-04-28 18:32:02,007 spl: 0.010942113252719475\n",
    "            \n",
    "2020-04-28 18:55:30,074 distance_to_goal: 2.937317087252935\n",
    "2020-04-28 18:55:30,075 success: 0.06666666666666667\n",
    "2020-04-28 18:55:30,075 spl: 0.03299149653561261            "
   ]
  },
  {
   "cell_type": "code",
   "execution_count": 126,
   "metadata": {},
   "outputs": [],
   "source": [
    "from scipy.spatial.transform import Rotation as R"
   ]
  },
  {
   "cell_type": "code",
   "execution_count": 127,
   "metadata": {},
   "outputs": [],
   "source": [
    "vector = np.array([0., 0., 0.])\n",
    "vector1 = np.array([0.25, 0., 0.])\n",
    "r = R.from_rotvec([0, 0, 0])\n",
    "r2 = R.from_rotvec([0, np.pi/9, 0])\n",
    "r3 = R.from_rotvec([0, -np.pi/9, 0])"
   ]
  },
  {
   "cell_type": "code",
   "execution_count": 148,
   "metadata": {},
   "outputs": [
    {
     "name": "stdout",
     "output_type": "stream",
     "text": [
      "[ 3.87266666  0.         -2.41045354]\n",
      "[ 0. 40.  0.]\n"
     ]
    }
   ],
   "source": [
    "d = 1\n",
    "if d==1:\n",
    "    vector+=r.apply(vector1)\n",
    "if d==2:\n",
    "    r = r*r2\n",
    "if d==3:\n",
    "    r = r*r3\n",
    "print(vector)    \n",
    "print((r).as_euler('xyz', degrees=True))    "
   ]
  },
  {
   "cell_type": "code",
   "execution_count": 90,
   "metadata": {},
   "outputs": [
    {
     "data": {
      "text/plain": [
       "array([0.25, 0.  , 0.  ])"
      ]
     },
     "execution_count": 90,
     "metadata": {},
     "output_type": "execute_result"
    }
   ],
   "source": [
    "r.apply(vector1)"
   ]
  },
  {
   "cell_type": "code",
   "execution_count": 52,
   "metadata": {},
   "outputs": [
    {
     "ename": "TypeError",
     "evalue": "unsupported operand type(s) for *: 'int' and 'Rotation'",
     "output_type": "error",
     "traceback": [
      "\u001b[0;31m---------------------------------------------------------------------------\u001b[0m",
      "\u001b[0;31mTypeError\u001b[0m                                 Traceback (most recent call last)",
      "\u001b[0;32m<ipython-input-52-b2be99a22a99>\u001b[0m in \u001b[0;36m<module>\u001b[0;34m\u001b[0m\n\u001b[0;32m----> 1\u001b[0;31m \u001b[0mnp\u001b[0m\u001b[0;34m.\u001b[0m\u001b[0marray\u001b[0m\u001b[0;34m(\u001b[0m\u001b[0;34m[\u001b[0m\u001b[0;36m0\u001b[0m\u001b[0;34m,\u001b[0m\u001b[0;36m1\u001b[0m\u001b[0;34m,\u001b[0m\u001b[0;36m0\u001b[0m\u001b[0;34m]\u001b[0m\u001b[0;34m)\u001b[0m\u001b[0;34m*\u001b[0m\u001b[0mr\u001b[0m\u001b[0;34m\u001b[0m\u001b[0;34m\u001b[0m\u001b[0m\n\u001b[0m",
      "\u001b[0;31mTypeError\u001b[0m: unsupported operand type(s) for *: 'int' and 'Rotation'"
     ]
    }
   ],
   "source": [
    "np.array([0,1,0])*r"
   ]
  },
  {
   "cell_type": "code",
   "execution_count": 46,
   "metadata": {},
   "outputs": [
    {
     "data": {
      "text/plain": [
       "array([ 0.,  0., 20.])"
      ]
     },
     "execution_count": 46,
     "metadata": {},
     "output_type": "execute_result"
    }
   ],
   "source": [
    "(r).as_euler('xyz', degrees=True)"
   ]
  },
  {
   "cell_type": "code",
   "execution_count": 37,
   "metadata": {},
   "outputs": [
    {
     "data": {
      "text/plain": [
       "array([ 0.,  0., 60.])"
      ]
     },
     "execution_count": 37,
     "metadata": {},
     "output_type": "execute_result"
    }
   ],
   "source": [
    "(r*r).as_euler('xyz', degrees=True)"
   ]
  },
  {
   "cell_type": "code",
   "execution_count": 40,
   "metadata": {},
   "outputs": [],
   "source": [
    "from pyquaternion import Quaternion"
   ]
  },
  {
   "cell_type": "code",
   "execution_count": 47,
   "metadata": {},
   "outputs": [],
   "source": [
    "q1 = Quaternion(axis=[1., 0., 0.], angle=np.pi/9)"
   ]
  },
  {
   "cell_type": "code",
   "execution_count": 49,
   "metadata": {},
   "outputs": [
    {
     "data": {
      "text/plain": [
       "Quaternion(0.984807753012208, 0.17364817766693033, 0.0, 0.0)"
      ]
     },
     "execution_count": 49,
     "metadata": {},
     "output_type": "execute_result"
    }
   ],
   "source": [
    "q1.normalised"
   ]
  },
  {
   "cell_type": "code",
   "execution_count": null,
   "metadata": {},
   "outputs": [],
   "source": []
  }
 ],
 "metadata": {
  "kernelspec": {
   "display_name": "Python 3",
   "language": "python",
   "name": "python3"
  },
  "language_info": {
   "codemirror_mode": {
    "name": "ipython",
    "version": 3
   },
   "file_extension": ".py",
   "mimetype": "text/x-python",
   "name": "python",
   "nbconvert_exporter": "python",
   "pygments_lexer": "ipython3",
   "version": "3.6.10"
  }
 },
 "nbformat": 4,
 "nbformat_minor": 4
}
