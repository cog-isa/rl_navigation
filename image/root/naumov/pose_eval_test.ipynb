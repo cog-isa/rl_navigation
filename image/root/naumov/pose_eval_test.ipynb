{
 "cells": [
  {
   "cell_type": "code",
   "execution_count": 5,
   "metadata": {},
   "outputs": [],
   "source": [
    "import numpy as np\n",
    "from pose_evaluation_utils import * \n",
    "import quaternion\n",
    "from scipy.spatial.transform import Rotation as R"
   ]
  },
  {
   "cell_type": "markdown",
   "metadata": {},
   "source": [
    "rot2quat --> correct (1 test)\n",
    "quat2mat --> correct (1 test) ???\n",
    "mat2euler --> correct (1 test)\n",
    "euler2mat --> correct (1 test)\n",
    "euler2quat --> correct (1 test)"
   ]
  },
  {
   "cell_type": "code",
   "execution_count": 28,
   "metadata": {},
   "outputs": [
    {
     "name": "stdout",
     "output_type": "stream",
     "text": [
      "DF-VO:\n",
      " (0.9821815456405263, 0.0, -0.1879345934179944, 0.0)\n",
      "\n",
      "Scipy:\n",
      " [ 0.         -0.18793459  0.          0.98218155]\n"
     ]
    }
   ],
   "source": [
    "# rot2quat\n",
    "R_test = [[ 0.92936118,  0.,         -0.36917178],\n",
    "         [ 0.,          1.,          0.],\n",
    "         [ 0.36917178,  0.,          0.92936118]]\n",
    "\n",
    "q_approx = rot2quat(R_test)\n",
    "q_func = R.from_matrix(R_test).as_quat()\n",
    "\n",
    "print('DF-VO:\\n {}\\n\\nScipy:\\n {}'.format(q_approx, q_func))"
   ]
  },
  {
   "cell_type": "code",
   "execution_count": 23,
   "metadata": {},
   "outputs": [
    {
     "name": "stdout",
     "output_type": "stream",
     "text": [
      "DF-VO:\n",
      " [[ 0.92936118  0.         -0.36917178]\n",
      " [ 0.          1.          0.        ]\n",
      " [ 0.36917178  0.          0.92936118]]\n",
      "\n",
      "Scipy:\n",
      " [[ 0.92936118  0.         -0.36917178]\n",
      " [ 0.          1.          0.        ]\n",
      " [ 0.36917178  0.          0.92936118]]\n"
     ]
    }
   ],
   "source": [
    "# quat2mat\n",
    "q_test = [0.0, 0.18793459236621857, 0.0, -0.9821815490722656]\n",
    "q_test_wxyz = [-0.9821815490722656, 0.0, 0.18793459236621857, 0.0]\n",
    "\n",
    "R_approx = quat2mat(q_test_wxyz)\n",
    "R_func = R.from_quat(q_test).as_matrix()\n",
    "print('DF-VO:\\n {}\\n\\nScipy:\\n {}'.format(R_approx, R_func))"
   ]
  },
  {
   "cell_type": "code",
   "execution_count": 18,
   "metadata": {},
   "outputs": [
    {
     "name": "stdout",
     "output_type": "stream",
     "text": [
      "DF-VO:\n",
      " (-0.0, -0.37811769029318026, -0.0)\n",
      "\n",
      "Scipy:\n",
      " [ 0.         -0.37811769  0.        ]\n"
     ]
    }
   ],
   "source": [
    "# mat2euler\n",
    "eul_approx = mat2euler(R_test)\n",
    "eul_func = R.from_matrix(R_test).as_euler('zyx')\n",
    "print('DF-VO:\\n {}\\n\\nScipy:\\n {}'.format(eul_approx, eul_func))"
   ]
  },
  {
   "cell_type": "code",
   "execution_count": 21,
   "metadata": {},
   "outputs": [
    {
     "name": "stdout",
     "output_type": "stream",
     "text": [
      "DF-VO:\n",
      " [[ 0.92936118  0.         -0.36917178]\n",
      " [ 0.          1.          0.        ]\n",
      " [ 0.36917178  0.          0.92936118]]\n",
      "\n",
      "Scipy:\n",
      " [[ 0.92936118 -0.         -0.36917178]\n",
      " [ 0.          1.         -0.        ]\n",
      " [ 0.36917178  0.          0.92936118]]\n"
     ]
    }
   ],
   "source": [
    "# euler2mat\n",
    "eul_test = [0.0, -0.37811769029318026, 0.0]\n",
    "\n",
    "R_fe_approx = euler2mat(*eul_test)\n",
    "R_fe_func = R.from_euler('zyx', eul_test).as_matrix()\n",
    "print('DF-VO:\\n {}\\n\\nScipy:\\n {}'.format(R_fe_approx, R_fe_func))"
   ]
  },
  {
   "cell_type": "code",
   "execution_count": 22,
   "metadata": {},
   "outputs": [
    {
     "name": "stdout",
     "output_type": "stream",
     "text": [
      "DF-VO:\n",
      " [ 0.98218155  0.         -0.18793459  0.        ]\n",
      "\n",
      "Scipy:\n",
      " [ 0.         -0.18793459  0.          0.98218155]\n"
     ]
    }
   ],
   "source": [
    "# euler2quat\n",
    "q_fe_approx = euler2quat(*eul_test)\n",
    "q_fe_func = R.from_euler('zyx', eul_test).as_quat()\n",
    "print('DF-VO:\\n {}\\n\\nScipy:\\n {}'.format(q_fe_approx, q_fe_func))"
   ]
  },
  {
   "cell_type": "code",
   "execution_count": 34,
   "metadata": {},
   "outputs": [
    {
     "name": "stdout",
     "output_type": "stream",
     "text": [
      "Before:\n",
      " [-0.9821815490722656, 0.0, 0.18793459236621857, 0.0]\n",
      "\n",
      "After:\n",
      " (0.9821815459558763, 0.0, -0.18793459176991598, 0.0)\n"
     ]
    }
   ],
   "source": [
    "q_test2 = rot2quat(quat2mat(q_test_wxyz))\n",
    "print('Before:\\n {}\\n\\nAfter:\\n {}'.format(q_test_wxyz, q_test2))"
   ]
  },
  {
   "cell_type": "code",
   "execution_count": 59,
   "metadata": {},
   "outputs": [
    {
     "name": "stdout",
     "output_type": "stream",
     "text": [
      "Before:\n",
      " [ 0.         -0.98218155  0.          0.18793459]\n",
      "\n",
      "After:\n",
      " [ 0.          0.98218155  0.         -0.18793459]\n"
     ]
    }
   ],
   "source": [
    "q_test0 = np.array([0.0, -0.9821815459558763, 0.0, 0.18793459176991603])\n",
    "q_test3 = R.from_matrix(R.from_quat(q_test0).as_matrix()).as_quat()\n",
    "print('Before:\\n {}\\n\\nAfter:\\n {}'.format(q_test0, q_test3))"
   ]
  },
  {
   "cell_type": "code",
   "execution_count": null,
   "metadata": {},
   "outputs": [],
   "source": []
  }
 ],
 "metadata": {
  "kernelspec": {
   "display_name": "Python 3",
   "language": "python",
   "name": "python3"
  },
  "language_info": {
   "codemirror_mode": {
    "name": "ipython",
    "version": 3
   },
   "file_extension": ".py",
   "mimetype": "text/x-python",
   "name": "python",
   "nbconvert_exporter": "python",
   "pygments_lexer": "ipython3",
   "version": "3.6.10"
  }
 },
 "nbformat": 4,
 "nbformat_minor": 4
}
