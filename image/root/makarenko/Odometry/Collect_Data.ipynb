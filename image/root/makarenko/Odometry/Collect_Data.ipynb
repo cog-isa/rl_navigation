{
 "cells": [
  {
   "cell_type": "code",
   "execution_count": 1,
   "metadata": {},
   "outputs": [
    {
     "name": "stdout",
     "output_type": "stream",
     "text": [
      "ln: failed to create symbolic link '/habitat-api/data/data': File exists\n"
     ]
    }
   ],
   "source": [
    "!ln -s /data /habitat-api/data"
   ]
  },
  {
   "cell_type": "code",
   "execution_count": 2,
   "metadata": {},
   "outputs": [],
   "source": [
    "import habitat\n",
    "import numpy as np\n",
    "from tqdm.notebook import tqdm, trange\n",
    "import torch\n",
    "import matplotlib.pyplot as plt\n",
    "import random\n",
    "import torch.nn as nn\n",
    "# from tensorboardX import SummaryWriter\n",
    "from Vec_env import create_envs\n",
    "from Utils import AverageMeter, DepthNorm\n",
    "from Data import getTrainTestData\n",
    "from Loss import ssim\n",
    "import os"
   ]
  },
  {
   "cell_type": "code",
   "execution_count": 3,
   "metadata": {},
   "outputs": [
    {
     "name": "stdout",
     "output_type": "stream",
     "text": [
      "/habitat-api\n",
      "CODE_OF_CONDUCT.md  README.md  \u001b[0m\u001b[01;34mhabitat\u001b[0m/            \u001b[01;34mres\u001b[0m/\n",
      "CONTRIBUTING.md     \u001b[01;34mconfigs\u001b[0m/   \u001b[01;34mhabitat.egg-info\u001b[0m/   setup.cfg\n",
      "Dockerfile          \u001b[01;36mdata\u001b[0m@      \u001b[01;34mhabitat_baselines\u001b[0m/  setup.py\n",
      "LICENSE             \u001b[01;34mdocs\u001b[0m/      pyproject.toml      \u001b[01;34mtest\u001b[0m/\n",
      "MANIFEST.in         \u001b[01;34mexamples\u001b[0m/  requirements.txt    \u001b[01;34mwandb\u001b[0m/\n"
     ]
    }
   ],
   "source": [
    "%cd ../../../habitat-api/\n",
    "%ls"
   ]
  },
  {
   "cell_type": "markdown",
   "metadata": {},
   "source": [
    "#### Create vector of envs for parallel online training"
   ]
  },
  {
   "cell_type": "code",
   "execution_count": 4,
   "metadata": {},
   "outputs": [],
   "source": [
    "H = 360\n",
    "W = 640\n",
    "#----- Previous pointnav config\n",
    "# config = habitat.get_config(config_paths='configs/tasks/pointnav_gibson.yaml')\n",
    "# config.defrost()\n",
    "# config.SIMULATOR.AGENT_0.SENSORS = ['RGB_SENSOR',  'DEPTH_SENSOR']\n",
    "# config.SIMULATOR.RGB_SENSOR.HEIGHT = H\n",
    "# config.SIMULATOR.RGB_SENSOR.WIDTH = W\n",
    "# config.SIMULATOR.DEPTH_SENSOR.HEIGHT = H\n",
    "# config.SIMULATOR.DEPTH_SENSOR.WIDTH = W\n",
    "# config.TASK.SENSORS = [\"HEADING_SENSOR\", \"COMPASS_SENSOR\", \"GPS_SENSOR\", \"POINTGOAL_SENSOR\", \"POINTGOAL_WITH_GPS_COMPASS_SENSOR\"]\n",
    "# config.TASK.POINTGOAL_WITH_GPS_COMPASS_SENSOR.DIMENSIONALITY = 3\n",
    "# config.TASK.POINTGOAL_WITH_GPS_COMPASS_SENSOR.GOAL_FORMAT = \"CARTESIAN\"\n",
    "# config.TASK.POINTGOAL_SENSOR.DIMENSIONALITY = 3\n",
    "# config.TASK.POINTGOAL_SENSOR.GOAL_FORMAT = \"CARTESIAN\"\n",
    "# config.TASK.GPS_SENSOR.DIMENSIONALITY = 3\n",
    "# config.TASK.GPS_SENSOR.GOAL_FORMAT = \"CARTESIAN\"\n",
    "# # config.DATASET.DATA_PATH = 'data/datasets/pointnav/gibson/v1/val/val.json.gz'\n",
    "# config.freeze()\n",
    "# envs = create_envs(1, config)"
   ]
  },
  {
   "cell_type": "code",
   "execution_count": 5,
   "metadata": {},
   "outputs": [
    {
     "name": "stderr",
     "output_type": "stream",
     "text": [
      "2020-04-26 17:42:54,187 Initializing dataset PointNav-v1\n",
      "2020-04-26 17:42:54,199 initializing sim Sim-v0\n",
      "2020-04-26 17:42:58,679 Initializing task Nav-v0\n"
     ]
    }
   ],
   "source": [
    "config_paths=\"./data/habitat-challenge/habitat-challenge-data/challenge_pointnav2020.local.rgbd.yaml\"\n",
    "config = habitat.get_config(config_paths=config_paths)\n",
    "config.defrost()\n",
    "config.SIMULATOR.RGB_SENSOR.HEIGHT = H\n",
    "config.SIMULATOR.RGB_SENSOR.WIDTH = W\n",
    "#noise = 0\n",
    "config.SIMULATOR.RGB_SENSOR.NOISE_MODEL_KWARGS.intensity_constant = 0\n",
    "# config.SIMULATOR.AGENT_0.RADIUS = 0\n",
    "# config.SIMULATOR.NOISE_MODEL.NOISE_MULTIPLIER = 0\n",
    "# config.SIMULATOR.RGB_SENSOR.POSITION = [0, 0, 0]\n",
    "# config.SIMULATOR.DEPTH_SENSOR.POSITION = [0, 0, 0]\n",
    "config.SIMULATOR.DEPTH_SENSOR.HEIGHT = H\n",
    "config.SIMULATOR.DEPTH_SENSOR.WIDTH = W\n",
    "# config.SIMULATOR.DEPTH_SENSOR.NOISE_MODEL = False\n",
    "config.DATASET.DATA_PATH = './data/datasets/pointnav/gibson/v1/{split}/{split}.json.gz'\n",
    "# config.DATASET.SPLIT = 'train'\n",
    "# config.DATASET.SPLIT = 'val'\n",
    "config.DATASET.SPLIT = 'val_mini'\n",
    "config.DATASET.SCENES_DIR = '/data/scene_datasets/'\n",
    "config.TASK.MEASUREMENTS.append(\"TOP_DOWN_MAP\")\n",
    "config.TASK.SENSORS = [\"HEADING_SENSOR\", \"COMPASS_SENSOR\", \"GPS_SENSOR\", \"POINTGOAL_SENSOR\", \"POINTGOAL_WITH_GPS_COMPASS_SENSOR\"]\n",
    "config.TASK.POINTGOAL_WITH_GPS_COMPASS_SENSOR.DIMENSIONALITY = 3\n",
    "config.TASK.POINTGOAL_WITH_GPS_COMPASS_SENSOR.GOAL_FORMAT = \"CARTESIAN\"\n",
    "config.TASK.POINTGOAL_SENSOR.DIMENSIONALITY = 3\n",
    "config.TASK.POINTGOAL_SENSOR.GOAL_FORMAT = \"CARTESIAN\"\n",
    "config.TASK.GPS_SENSOR.DIMENSIONALITY = 3\n",
    "config.TASK.GPS_SENSOR.GOAL_FORMAT = \"CARTESIAN\"\n",
    "config.freeze()\n",
    "envs = create_envs(1, config)"
   ]
  },
  {
   "cell_type": "code",
   "execution_count": 6,
   "metadata": {},
   "outputs": [
    {
     "data": {
      "text/plain": [
       "<matplotlib.image.AxesImage at 0x7f07bdbcb128>"
      ]
     },
     "execution_count": 6,
     "metadata": {},
     "output_type": "execute_result"
    },
    {
     "data": {
      "image/png": "[encoded data removed]",
      "text/plain": [
       "<Figure size 432x288 with 1 Axes>"
      ]
     },
     "metadata": {
      "needs_background": "light"
     },
     "output_type": "display_data"
    }
   ],
   "source": [
    "plt.imshow(np.concatenate((envs.reset()[0]['depth'], envs.reset()[0]['depth'], envs.reset()[0]['depth']), axis=2))"
   ]
  },
  {
   "cell_type": "code",
   "execution_count": 7,
   "metadata": {},
   "outputs": [
    {
     "name": "stdout",
     "output_type": "stream",
     "text": [
      "Action 2\n",
      "Compas:  [0.322689] Gps:  [ 1.9618182e-02 -3.5762787e-06  1.3911825e-03]\n",
      "Compas:  [0.60954714] Gps:  [-9.1354446e-03 -3.5762787e-06  1.7131833e-02]\n",
      "Compas:  [0.7038162] Gps:  [-4.2904824e-02 -3.5762787e-06 -4.3498946e-04]\n",
      "Compas:  [0.90958685] Gps:  [-8.2690708e-02 -3.5762787e-06  1.8896243e-02]\n",
      "Compas:  [1.1645855] Gps:  [-9.4778195e-02 -3.5762787e-06 -1.1523453e-03]\n",
      "Compas:  [1.4239575] Gps:  [-8.4245093e-02 -3.5762787e-06 -2.8409531e-02]\n",
      "Compas:  [1.7049682] Gps:  [-5.8914036e-02 -3.5762787e-06 -4.9177866e-02]\n",
      "Compas:  [1.9220899] Gps:  [-7.2770059e-02 -3.5762787e-06 -3.3082042e-02]\n",
      "Compas:  [2.0385022] Gps:  [-9.7234510e-02 -3.5762787e-06 -1.9731458e-02]\n",
      "Compas:  [2.1560247] Gps:  [-4.2617522e-02 -3.5762787e-06  5.1738080e-02]\n",
      "Compas:  [2.3616872] Gps:  [-1.4901084e-02 -3.5762787e-06  8.0031067e-02]\n",
      "Compas:  [2.5648146] Gps:  [ 5.1582891e-02 -3.5762787e-06  1.1783862e-01]\n",
      "Compas:  [2.7420733] Gps:  [ 1.0884533e-02 -3.5762787e-06  8.5289069e-02]\n",
      "Compas:  [2.928029] Gps:  [-1.0307044e-02 -3.5762787e-06  9.1063030e-02]\n",
      "Compas:  [-3.0069299] Gps:  [ 1.9407691e-02 -3.5762787e-06  1.0766094e-01]\n",
      "Compas:  [-2.8121016] Gps:  [ 5.8348697e-02 -3.5762787e-06  1.3428794e-01]\n",
      "Compas:  [-2.6596496] Gps:  [ 5.79723269e-02 -3.57627869e-06  1.24880716e-01]\n",
      "Compas:  [-2.503476] Gps:  [ 2.1720793e-02 -3.5762787e-06  1.2386668e-01]\n",
      "Compas:  [-2.4081268] Gps:  [-3.6383069e-03 -3.5762787e-06  1.4129327e-01]\n",
      "Compas:  [-2.1668744] Gps:  [ 1.8188521e-02 -3.5762787e-06  1.3173604e-01]\n",
      "-------\n",
      "Action 1\n",
      "Compas:  [-2.2716854] Gps:  [ 1.5400790e-01 -3.5762787e-06  2.0088373e-01]\n",
      "Compas:  [-2.1536424] Gps:  [ 1.5400790e-01 -3.5762787e-06  2.0088373e-01]\n",
      "Compas:  [-2.068674] Gps:  [ 1.5400790e-01 -3.5762787e-06  2.0088373e-01]\n",
      "Compas:  [-2.0406885] Gps:  [ 1.5400790e-01 -3.5762787e-06  2.0088373e-01]\n",
      "Compas:  [-2.0324337] Gps:  [ 1.5400790e-01 -3.5762787e-06  2.0088373e-01]\n",
      "Compas:  [-2.1055052] Gps:  [ 1.5400790e-01 -3.5762787e-06  2.0088373e-01]\n",
      "Compas:  [-2.1712165] Gps:  [ 1.5400790e-01 -3.5762787e-06  2.0088373e-01]\n",
      "Compas:  [-2.2606378] Gps:  [ 1.5400790e-01 -3.5762787e-06  2.0088373e-01]\n",
      "Compas:  [-2.1750724] Gps:  [ 1.5400790e-01 -3.5762787e-06  2.0088373e-01]\n",
      "Compas:  [-2.2354689] Gps:  [ 1.5400790e-01 -3.5762787e-06  2.0088373e-01]\n",
      "Compas:  [-2.2238214] Gps:  [ 1.5400790e-01 -3.5762787e-06  2.0088373e-01]\n",
      "Compas:  [-2.374443] Gps:  [ 1.5400790e-01 -3.5762787e-06  2.0088373e-01]\n",
      "Compas:  [-2.1900702] Gps:  [ 1.5400790e-01 -3.5762787e-06  2.0088373e-01]\n",
      "Compas:  [-2.0563047] Gps:  [ 1.5400790e-01 -3.5762787e-06  2.0088373e-01]\n",
      "Compas:  [-2.1016915] Gps:  [ 1.5400790e-01 -3.5762787e-06  2.0088373e-01]\n",
      "Compas:  [-2.1329424] Gps:  [ 1.5400790e-01 -3.5762787e-06  2.0088373e-01]\n",
      "Compas:  [-2.1169271] Gps:  [ 1.5400790e-01 -3.5762787e-06  2.0088373e-01]\n",
      "Compas:  [-1.9993392] Gps:  [ 1.5400790e-01 -3.5762787e-06  2.0088373e-01]\n",
      "Compas:  [-2.034949] Gps:  [ 1.5400790e-01 -3.5762787e-06  2.0088373e-01]\n",
      "Compas:  [-1.8925225] Gps:  [ 1.5400790e-01 -3.5762787e-06  2.0088373e-01]\n"
     ]
    }
   ],
   "source": [
    "print(\"Action 2\")\n",
    "envs.reset()\n",
    "for i in range(20):\n",
    "    obs = envs.step([2])[0]\n",
    "    print('Compas: ', obs['compass'], 'Gps: ', obs['gps'])\n",
    "print('-------')\n",
    "print('Action 1')\n",
    "for i in range(20):\n",
    "    obs = envs.step([1])[0]\n",
    "    print('Compas: ', obs['compass'], 'Gps: ', obs['gps'])"
   ]
  },
  {
   "cell_type": "markdown",
   "metadata": {},
   "source": [
    "## Collect dataset"
   ]
  },
  {
   "cell_type": "code",
   "execution_count": 8,
   "metadata": {},
   "outputs": [],
   "source": [
    "from PIL import Image\n",
    "import csv"
   ]
  },
  {
   "cell_type": "code",
   "execution_count": 9,
   "metadata": {},
   "outputs": [],
   "source": [
    "# (prev_depth * 256).astype(np.uint8).shape"
   ]
  },
  {
   "cell_type": "markdown",
   "metadata": {},
   "source": [
    "## Train"
   ]
  },
  {
   "cell_type": "code",
   "execution_count": 10,
   "metadata": {},
   "outputs": [
    {
     "data": {
      "application/vnd.jupyter.widget-view+json": {
       "model_id": "7ab65dd9cf114c2d8c0d31da34a03aa4",
       "version_major": 2,
       "version_minor": 0
      },
      "text/plain": [
       "HBox(children=(FloatProgress(value=0.0, max=5000.0), HTML(value='')))"
      ]
     },
     "metadata": {},
     "output_type": "display_data"
    },
    {
     "name": "stdout",
     "output_type": "stream",
     "text": [
      "\n"
     ]
    }
   ],
   "source": [
    "obs = envs.reset()[0]\n",
    "prev_rgb = None\n",
    "prev_depth = None\n",
    "prev_gps = None\n",
    "prev_compas = None\n",
    "curr_rgb = obs['rgb']\n",
    "curr_depth = obs['depth']\n",
    "curr_gps = obs['gps']\n",
    "curr_compas = obs['compass'] + np.pi\n",
    "\n",
    "# print(envs.step([1])[0]['gps'] - prev_gps)\n",
    "with open('./data/Odom_data/Without_noise/Train/train.csv', mode='w') as file:\n",
    "    test_writer = csv.writer(file, delimiter=',', quotechar='\\\"', quoting=csv.QUOTE_MINIMAL)\n",
    "    for i in trange(5000):\n",
    "        act = np.random.choice(4)\n",
    "        obs = envs.step([act])[0]\n",
    "        if act == 0:\n",
    "            prev_rgb = None\n",
    "            prev_depth = None\n",
    "            prev_gps = None\n",
    "            prev_compas = None\n",
    "            curr_rgb = obs['rgb']\n",
    "            curr_depth = obs['depth']\n",
    "            curr_gps = obs['gps']\n",
    "            curr_compas = obs['compass'] + np.pi\n",
    "        else:\n",
    "            prev_rgb, curr_rgb = curr_rgb, obs['rgb']\n",
    "            prev_depth, curr_depth = curr_depth, obs['depth']\n",
    "            prev_gps, curr_gps = curr_gps, obs['gps']\n",
    "            prev_compas, curr_compas = curr_compas, obs['compass'] + np.pi\n",
    "        if prev_rgb is not None:\n",
    "            rgb0 = Image.fromarray(prev_rgb)\n",
    "            rgb1 = Image.fromarray(curr_rgb)\n",
    "            depth0 = Image.fromarray((prev_depth[:,:,0] * 256).astype(np.uint8))\n",
    "            depth1 = Image.fromarray((curr_depth[:,:,0] * 256).astype(np.uint8))\n",
    "            rgb0.save('./data/Odom_data/Without_noise/Train/{}_r0.png'.format(i))\n",
    "            rgb1.save('./data/Odom_data/Without_noise/Train/{}_r1.png'.format(i))\n",
    "            depth0.save('./data/Odom_data/Without_noise/Train/{}_d0.png'.format(i))\n",
    "            depth1.save('./data/Odom_data/Without_noise/Train/{}_d1.png'.format(i))\n",
    "            df = curr_compas - prev_compas\n",
    "            if abs(df) > np.pi:\n",
    "                if curr_compas > prev_compas:\n",
    "                    df = curr_compas - prev_compas - 2 * np.pi\n",
    "                else:\n",
    "                    df = curr_compas - prev_compas + 2 * np.pi\n",
    "                \n",
    "            test_writer.writerow(['{}_r0.png'.format(i), \n",
    "                                  '{}_r1.png'.format(i),\n",
    "                                  '{}_d0.png'.format(i),\n",
    "                                  '{}_d1.png'.format(i),\n",
    "                                  curr_gps - prev_gps,\n",
    "                                  df,\n",
    "                                  prev_compas - np.pi])"
   ]
  },
  {
   "cell_type": "markdown",
   "metadata": {},
   "source": [
    "## Validation"
   ]
  },
  {
   "cell_type": "code",
   "execution_count": 11,
   "metadata": {},
   "outputs": [
    {
     "name": "stderr",
     "output_type": "stream",
     "text": [
      "2020-04-26 18:08:14,542 Initializing dataset PointNav-v1\n",
      "2020-04-26 18:08:14,565 initializing sim Sim-v0\n",
      "2020-04-26 18:08:19,892 Initializing task Nav-v0\n"
     ]
    }
   ],
   "source": [
    "config_paths=\"./data/habitat-challenge/habitat-challenge-data/challenge_pointnav2020.local.rgbd.yaml\"\n",
    "config = habitat.get_config(config_paths=config_paths)\n",
    "config.defrost()\n",
    "config.SIMULATOR.RGB_SENSOR.HEIGHT = H\n",
    "config.SIMULATOR.RGB_SENSOR.WIDTH = W\n",
    "#noise = 0\n",
    "config.SIMULATOR.RGB_SENSOR.NOISE_MODEL_KWARGS.intensity_constant = 0\n",
    "# config.SIMULATOR.AGENT_0.RADIUS = 0\n",
    "# config.SIMULATOR.NOISE_MODEL.NOISE_MULTIPLIER = 0\n",
    "# config.SIMULATOR.RGB_SENSOR.POSITION = [0, 0, 0]\n",
    "# config.SIMULATOR.DEPTH_SENSOR.POSITION = [0, 0, 0]\n",
    "config.SIMULATOR.DEPTH_SENSOR.HEIGHT = H\n",
    "config.SIMULATOR.DEPTH_SENSOR.WIDTH = W\n",
    "config.DATASET.DATA_PATH = './data/datasets/pointnav/gibson/v1/{split}/{split}.json.gz'\n",
    "# config.DATASET.SPLIT = 'val'\n",
    "config.DATASET.SPLIT = 'val_mini'\n",
    "config.DATASET.SCENES_DIR = '/data/scene_datasets/'\n",
    "config.TASK.MEASUREMENTS.append(\"TOP_DOWN_MAP\")\n",
    "config.TASK.SENSORS = [\"HEADING_SENSOR\", \"COMPASS_SENSOR\", \"GPS_SENSOR\", \"POINTGOAL_SENSOR\", \"POINTGOAL_WITH_GPS_COMPASS_SENSOR\"]\n",
    "config.TASK.POINTGOAL_WITH_GPS_COMPASS_SENSOR.DIMENSIONALITY = 3\n",
    "config.TASK.POINTGOAL_WITH_GPS_COMPASS_SENSOR.GOAL_FORMAT = \"CARTESIAN\"\n",
    "config.TASK.POINTGOAL_SENSOR.DIMENSIONALITY = 3\n",
    "config.TASK.POINTGOAL_SENSOR.GOAL_FORMAT = \"CARTESIAN\"\n",
    "config.TASK.GPS_SENSOR.DIMENSIONALITY = 3\n",
    "config.TASK.GPS_SENSOR.GOAL_FORMAT = \"CARTESIAN\"\n",
    "config.freeze()\n",
    "envs = create_envs(1, config)"
   ]
  },
  {
   "cell_type": "code",
   "execution_count": 12,
   "metadata": {},
   "outputs": [
    {
     "data": {
      "application/vnd.jupyter.widget-view+json": {
       "model_id": "b0c4001b55764070a964943d6045a8b2",
       "version_major": 2,
       "version_minor": 0
      },
      "text/plain": [
       "HBox(children=(FloatProgress(value=0.0, max=500.0), HTML(value='')))"
      ]
     },
     "metadata": {},
     "output_type": "display_data"
    },
    {
     "name": "stdout",
     "output_type": "stream",
     "text": [
      "\n"
     ]
    }
   ],
   "source": [
    "obs = envs.reset()[0]\n",
    "prev_rgb = None\n",
    "prev_depth = None\n",
    "prev_gps = None\n",
    "prev_compas = None\n",
    "curr_rgb = obs['rgb']\n",
    "curr_depth = obs['depth']\n",
    "curr_gps = obs['gps']\n",
    "curr_compas = obs['compass'] + np.pi\n",
    "\n",
    "# print(envs.step([1])[0]['gps'] - prev_gps)\n",
    "with open('./data/Odom_data/Without_noise/Val/val.csv', mode='w') as file:\n",
    "    test_writer = csv.writer(file, delimiter=',', quotechar='\\\"', quoting=csv.QUOTE_MINIMAL)\n",
    "    for i in trange(500):\n",
    "        act = np.random.choice(4)\n",
    "        obs = envs.step([act])[0]\n",
    "        if act == 0:\n",
    "            prev_rgb = None\n",
    "            prev_depth = None\n",
    "            prev_gps = None\n",
    "            prev_compas = None\n",
    "            curr_rgb = obs['rgb']\n",
    "            curr_depth = obs['depth']\n",
    "            curr_gps = obs['gps']\n",
    "            curr_compas = obs['compass'] + np.pi\n",
    "        else:\n",
    "            prev_rgb, curr_rgb = curr_rgb, obs['rgb']\n",
    "            prev_depth, curr_depth = curr_depth, obs['depth']\n",
    "            prev_gps, curr_gps = curr_gps, obs['gps']\n",
    "            prev_compas, curr_compas = curr_compas, obs['compass'] + np.pi\n",
    "        if prev_rgb is not None:\n",
    "            rgb0 = Image.fromarray(prev_rgb)\n",
    "            rgb1 = Image.fromarray(curr_rgb)\n",
    "            depth0 = Image.fromarray((prev_depth[:,:,0] * 256).astype(np.uint8))\n",
    "            depth1 = Image.fromarray((curr_depth[:,:,0] * 256).astype(np.uint8))\n",
    "            rgb0.save('./data/Odom_data/Without_noise/Val/{}_r0.png'.format(i))\n",
    "            rgb1.save('./data/Odom_data/Without_noise/Val/{}_r1.png'.format(i))\n",
    "            depth0.save('./data/Odom_data/Without_noise/Val/{}_d0.png'.format(i))\n",
    "            depth1.save('./data/Odom_data/Without_noise/Val/{}_d1.png'.format(i))\n",
    "            df = curr_compas - prev_compas\n",
    "            if abs(df) > np.pi:\n",
    "                if curr_compas > prev_compas:\n",
    "                    df = curr_compas - prev_compas - 2 * np.pi\n",
    "                else:\n",
    "                    df = curr_compas - prev_compas + 2 * np.pi\n",
    "                \n",
    "            test_writer.writerow(['{}_r0.png'.format(i),\n",
    "                                  '{}_r1.png'.format(i),\n",
    "                                  '{}_d0.png'.format(i),\n",
    "                                  '{}_d1.png'.format(i),\n",
    "                                  curr_gps - prev_gps,\n",
    "                                  df,\n",
    "                                  prev_compas - np.pi])"
   ]
  },
  {
   "cell_type": "code",
   "execution_count": 13,
   "metadata": {},
   "outputs": [
    {
     "data": {
      "text/plain": [
       "<matplotlib.image.AxesImage at 0x7f07bce86c18>"
      ]
     },
     "execution_count": 13,
     "metadata": {},
     "output_type": "execute_result"
    },
    {
     "data": {
      "image/png": "[encoded data removed]",
      "text/plain": [
       "<Figure size 432x288 with 1 Axes>"
      ]
     },
     "metadata": {
      "needs_background": "light"
     },
     "output_type": "display_data"
    }
   ],
   "source": [
    "plt.imshow(np.concatenate((envs.reset()[0]['depth'], envs.reset()[0]['depth'], envs.reset()[0]['depth']), axis=2))"
   ]
  },
  {
   "cell_type": "code",
   "execution_count": 14,
   "metadata": {},
   "outputs": [
    {
     "data": {
      "text/plain": [
       "(360, 640, 1)"
      ]
     },
     "execution_count": 14,
     "metadata": {},
     "output_type": "execute_result"
    }
   ],
   "source": [
    "envs.reset()[0]['depth'].shape"
   ]
  },
  {
   "cell_type": "code",
   "execution_count": 15,
   "metadata": {},
   "outputs": [
    {
     "data": {
      "text/plain": [
       "1.0"
      ]
     },
     "execution_count": 15,
     "metadata": {},
     "output_type": "execute_result"
    }
   ],
   "source": [
    "envs.reset()[0]['depth'].max()"
   ]
  },
  {
   "cell_type": "code",
   "execution_count": 16,
   "metadata": {},
   "outputs": [
    {
     "name": "stdout",
     "output_type": "stream",
     "text": [
      "Action 2\n",
      "Compas:  [0.151275] Gps:  [-2.1205205e-02 -3.5762787e-06 -2.4772740e-03]\n",
      "Compas:  [0.17290165] Gps:  [ 0.00984416  0.         -0.02727184]\n",
      "Compas:  [0.11353463] Gps:  [-0.03090178  0.          0.04180898]\n",
      "Compas:  [0.32102057] Gps:  [0.01080503 0.         0.02388446]\n",
      "Compas:  [0.21973777] Gps:  [ 0.01816383  0.         -0.04421479]\n",
      "Compas:  [0.2188127] Gps:  [ 0.02122854  0.         -0.03651717]\n",
      "Compas:  [0.21528721] Gps:  [-0.0157944   0.         -0.02895668]\n",
      "Compas:  [0.13520801] Gps:  [-0.01066973  0.         -0.00366637]\n",
      "Compas:  [0.29227686] Gps:  [-0.01868523  0.         -0.03952894]\n",
      "Compas:  [0.20044887] Gps:  [-0.0213703   0.         -0.01579335]\n",
      "Compas:  [0.1496284] Gps:  [ 0.03116214  0.         -0.03042978]\n",
      "Compas:  [0.20213675] Gps:  [ 0.00402695  0.         -0.02218075]\n",
      "Compas:  [0.22168398] Gps:  [ 0.00185268  0.         -0.00531913]\n",
      "Compas:  [0.18689704] Gps:  [-0.01676418  0.         -0.02956158]\n",
      "Compas:  [0.13137221] Gps:  [ 0.01272159  0.         -0.00227466]\n",
      "Compas:  [0.20656204] Gps:  [0.02719146 0.         0.01956661]\n",
      "Compas:  [-6.0760326] Gps:  [ 0.0224199   0.         -0.01399122]\n",
      "Compas:  [0.22071409] Gps:  [ 0.02690712  0.         -0.0374911 ]\n",
      "Compas:  [0.13355112] Gps:  [-0.01724063  0.          0.01764889]\n",
      "Compas:  [0.219378] Gps:  [ 0.04096543  0.         -0.01433085]\n",
      "-------\n",
      "Action 1\n",
      "Compas:  [0.04079866] Gps:  [0.08086853 0.         0.30552092]\n",
      "Compas:  [-0.02003169] Gps:  [0.12256449 0.         0.09607633]\n",
      "Compas:  [-0.13457465] Gps:  [0. 0. 0.]\n",
      "Compas:  [-0.04257131] Gps:  [0. 0. 0.]\n",
      "Compas:  [-0.11543107] Gps:  [0. 0. 0.]\n",
      "Compas:  [-0.03952336] Gps:  [0. 0. 0.]\n",
      "Compas:  [-0.02920914] Gps:  [0. 0. 0.]\n",
      "Compas:  [-0.02715564] Gps:  [0. 0. 0.]\n",
      "Compas:  [-0.04427838] Gps:  [0. 0. 0.]\n",
      "Compas:  [0.03393388] Gps:  [0. 0. 0.]\n",
      "Compas:  [-0.03361559] Gps:  [0. 0. 0.]\n",
      "Compas:  [0.07204461] Gps:  [0. 0. 0.]\n",
      "Compas:  [-0.05052042] Gps:  [0. 0. 0.]\n",
      "Compas:  [0.072824] Gps:  [0. 0. 0.]\n",
      "Compas:  [-0.04499078] Gps:  [0. 0. 0.]\n",
      "Compas:  [-0.04220581] Gps:  [0. 0. 0.]\n",
      "Compas:  [-0.01535273] Gps:  [0. 0. 0.]\n",
      "Compas:  [0.1845212] Gps:  [0. 0. 0.]\n",
      "Compas:  [-0.01007366] Gps:  [0. 0. 0.]\n",
      "Compas:  [-0.11224675] Gps:  [0. 0. 0.]\n"
     ]
    }
   ],
   "source": [
    "print(\"Action 2\")\n",
    "obs = envs.reset()\n",
    "last_obs2 = obs[0]['gps']\n",
    "cur_obs2 = None\n",
    "last_obs = obs[0]['compass']\n",
    "cur_obs = None\n",
    "for i in range(20):\n",
    "    obs = envs.step([2])[0]\n",
    "    cur_obs = obs['compass']\n",
    "    cur_obs2 = obs['gps']\n",
    "    print('Compas: ',cur_obs-last_obs, 'Gps: ',cur_obs2-last_obs2)\n",
    "    last_obs = cur_obs\n",
    "    last_obs2 = cur_obs2\n",
    "print('-------')\n",
    "print('Action 1')\n",
    "for i in range(20):\n",
    "    obs = envs.step([1])[0]\n",
    "    cur_obs = obs['compass']\n",
    "    cur_obs2 = obs['gps']\n",
    "    print('Compas: ',cur_obs-last_obs, 'Gps: ',cur_obs2-last_obs2)\n",
    "    last_obs = cur_obs\n",
    "    last_obs2 = cur_obs2"
   ]
  },
  {
   "cell_type": "code",
   "execution_count": null,
   "metadata": {},
   "outputs": [],
   "source": []
  }
 ],
 "metadata": {
  "kernelspec": {
   "display_name": "Python 3",
   "language": "python",
   "name": "python3"
  },
  "language_info": {
   "codemirror_mode": {
    "name": "ipython",
    "version": 3
   },
   "file_extension": ".py",
   "mimetype": "text/x-python",
   "name": "python",
   "nbconvert_exporter": "python",
   "pygments_lexer": "ipython3",
   "version": "3.6.10"
  }
 },
 "nbformat": 4,
 "nbformat_minor": 4
}
