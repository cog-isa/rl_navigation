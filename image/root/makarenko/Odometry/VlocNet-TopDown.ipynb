{
 "cells": [
  {
   "cell_type": "code",
   "execution_count": 1,
   "metadata": {},
   "outputs": [
    {
     "name": "stdout",
     "output_type": "stream",
     "text": [
      "ln: failed to create symbolic link '/habitat-api/data/data': File exists\n"
     ]
    }
   ],
   "source": [
    "!ln -s /data /habitat-api/data"
   ]
  },
  {
   "cell_type": "code",
   "execution_count": 2,
   "metadata": {},
   "outputs": [],
   "source": [
    "import habitat\n",
    "import numpy as np\n",
    "from tqdm.notebook import tqdm, trange\n",
    "import torch\n",
    "import matplotlib.pyplot as plt\n",
    "import random\n",
    "import torch.nn as nn\n",
    "# from tensorboardX import SummaryWriter\n",
    "from Vec_env import create_envs\n",
    "from Model import VLocNetPretrained, VLocNet\n",
    "from Utils import AverageMeter, DepthNorm\n",
    "from Data import getTrainTestData\n",
    "from Loss import ssim\n",
    "import wandb\n",
    "import os\n",
    "from map_builder import MapBuilder\n",
    "import skimage.morphology"
   ]
  },
  {
   "cell_type": "code",
   "execution_count": 3,
   "metadata": {},
   "outputs": [
    {
     "name": "stdout",
     "output_type": "stream",
     "text": [
      "/habitat-api\n",
      "CODE_OF_CONDUCT.md  README.md  \u001b[0m\u001b[01;34mhabitat\u001b[0m/            \u001b[01;34mres\u001b[0m/\n",
      "CONTRIBUTING.md     \u001b[01;34mconfigs\u001b[0m/   \u001b[01;34mhabitat.egg-info\u001b[0m/   setup.cfg\n",
      "Dockerfile          \u001b[01;36mdata\u001b[0m@      \u001b[01;34mhabitat_baselines\u001b[0m/  setup.py\n",
      "LICENSE             \u001b[01;34mdocs\u001b[0m/      pyproject.toml      \u001b[01;34mtest\u001b[0m/\n",
      "MANIFEST.in         \u001b[01;34mexamples\u001b[0m/  requirements.txt    \u001b[01;34mwandb\u001b[0m/\n"
     ]
    }
   ],
   "source": [
    "%cd ../../../habitat-api/\n",
    "%ls"
   ]
  },
  {
   "cell_type": "markdown",
   "metadata": {},
   "source": [
    "#### Create vector of envs for parallel online training"
   ]
  },
  {
   "cell_type": "code",
   "execution_count": 4,
   "metadata": {},
   "outputs": [],
   "source": [
    "H = 360\n",
    "W = 640\n",
    "#----- Previous pointnav config\n",
    "# config = habitat.get_config(config_paths='configs/tasks/pointnav_gibson.yaml')\n",
    "# config.defrost()\n",
    "# config.SIMULATOR.AGENT_0.SENSORS = ['RGB_SENSOR',  'DEPTH_SENSOR']\n",
    "# config.SIMULATOR.RGB_SENSOR.HEIGHT = H\n",
    "# config.SIMULATOR.RGB_SENSOR.WIDTH = W\n",
    "# config.SIMULATOR.DEPTH_SENSOR.HEIGHT = H\n",
    "# config.SIMULATOR.DEPTH_SENSOR.WIDTH = W\n",
    "# config.TASK.SENSORS = [\"HEADING_SENSOR\", \"COMPASS_SENSOR\", \"GPS_SENSOR\", \"POINTGOAL_SENSOR\", \"POINTGOAL_WITH_GPS_COMPASS_SENSOR\"]\n",
    "# config.TASK.POINTGOAL_WITH_GPS_COMPASS_SENSOR.DIMENSIONALITY = 3\n",
    "# config.TASK.POINTGOAL_WITH_GPS_COMPASS_SENSOR.GOAL_FORMAT = \"CARTESIAN\"\n",
    "# config.TASK.POINTGOAL_SENSOR.DIMENSIONALITY = 3\n",
    "# config.TASK.POINTGOAL_SENSOR.GOAL_FORMAT = \"CARTESIAN\"\n",
    "# config.TASK.GPS_SENSOR.DIMENSIONALITY = 3\n",
    "# config.TASK.GPS_SENSOR.GOAL_FORMAT = \"CARTESIAN\"\n",
    "# # config.DATASET.DATA_PATH = 'data/datasets/pointnav/gibson/v1/val/val.json.gz'\n",
    "# config.freeze()\n",
    "# envs = create_envs(1, config)"
   ]
  },
  {
   "cell_type": "code",
   "execution_count": 5,
   "metadata": {},
   "outputs": [],
   "source": [
    "# config_paths=\"./data/habitat-challenge/habitat-challenge-data/challenge_pointnav2020.local.rgbd.yaml\"\n",
    "# config = habitat.get_config(config_paths=config_paths)\n",
    "# config.defrost()\n",
    "# config.SIMULATOR.RGB_SENSOR.HEIGHT = H\n",
    "# config.SIMULATOR.RGB_SENSOR.WIDTH = W\n",
    "# # config.SIMULATOR.AGENT_0.RADIUS = 0\n",
    "# # config.SIMULATOR.NOISE_MODEL.NOISE_MULTIPLIER = 0\n",
    "# # config.SIMULATOR.RGB_SENSOR.POSITION = [0, 0, 0]\n",
    "# # config.SIMULATOR.DEPTH_SENSOR.POSITION = [0, 0, 0]\n",
    "# config.SIMULATOR.DEPTH_SENSOR.HEIGHT = H\n",
    "# config.SIMULATOR.DEPTH_SENSOR.WIDTH = W\n",
    "# config.DATASET.DATA_PATH = './data/datasets/pointnav/gibson/v1/{split}/{split}.json.gz'\n",
    "# config.DATASET.SPLIT = 'val'\n",
    "# config.DATASET.SCENES_DIR = '/data/scene_datasets/'\n",
    "# config.TASK.MEASUREMENTS.append(\"TOP_DOWN_MAP\")\n",
    "# config.TASK.SENSORS = [\"HEADING_SENSOR\", \"COMPASS_SENSOR\", \"GPS_SENSOR\", \"POINTGOAL_SENSOR\", \"POINTGOAL_WITH_GPS_COMPASS_SENSOR\"]\n",
    "# config.TASK.POINTGOAL_WITH_GPS_COMPASS_SENSOR.DIMENSIONALITY = 3\n",
    "# config.TASK.POINTGOAL_WITH_GPS_COMPASS_SENSOR.GOAL_FORMAT = \"CARTESIAN\"\n",
    "# config.TASK.POINTGOAL_SENSOR.DIMENSIONALITY = 3\n",
    "# config.TASK.POINTGOAL_SENSOR.GOAL_FORMAT = \"CARTESIAN\"\n",
    "# config.TASK.GPS_SENSOR.DIMENSIONALITY = 3\n",
    "# config.TASK.GPS_SENSOR.GOAL_FORMAT = \"CARTESIAN\"\n",
    "# config.freeze()\n",
    "# envs = create_envs(1, config)"
   ]
  },
  {
   "cell_type": "code",
   "execution_count": 6,
   "metadata": {},
   "outputs": [],
   "source": [
    "def build_mapper():\n",
    "        params = {}\n",
    "        params['frame_width'] = 640\n",
    "        params['frame_height'] = 360\n",
    "        params['fov'] =  70\n",
    "        params['resolution'] = 5\n",
    "        params['map_size_cm'] = 2400\n",
    "        params['agent_min_z'] = 25\n",
    "        params['agent_max_z'] = 150\n",
    "        params['agent_height'] = 0.88 * 100\n",
    "        params['agent_view_angle'] = 0\n",
    "        params['du_scale'] = 1\n",
    "        params['vision_range'] = 128\n",
    "        params['visualize'] = 0\n",
    "        params['obs_threshold'] = 1\n",
    "        obstacle_boundary = 5\n",
    "        mapper = MapBuilder(params)\n",
    "        return mapper\n",
    "\n",
    "mapper = build_mapper()"
   ]
  },
  {
   "cell_type": "code",
   "execution_count": 7,
   "metadata": {},
   "outputs": [],
   "source": [
    "# envs.reset()"
   ]
  },
  {
   "cell_type": "code",
   "execution_count": 8,
   "metadata": {},
   "outputs": [
    {
     "name": "stdout",
     "output_type": "stream",
     "text": [
      "CODE_OF_CONDUCT.md  MANIFEST.in  docs\t\t   habitat_baselines  setup.cfg\n",
      "CONTRIBUTING.md     README.md\t examples\t   pyproject.toml     setup.py\n",
      "Dockerfile\t    configs\t habitat\t   requirements.txt   test\n",
      "LICENSE\t\t    data\t habitat.egg-info  res\t\t      wandb\n"
     ]
    }
   ],
   "source": [
    "!ls "
   ]
  },
  {
   "cell_type": "code",
   "execution_count": 9,
   "metadata": {},
   "outputs": [
    {
     "name": "stdout",
     "output_type": "stream",
     "text": [
      "0.14147973\n"
     ]
    }
   ],
   "source": [
    "path_to_csv = './data/Odom_data/Train/train.csv'\n",
    "with open(path_to_csv, mode='r') as csv_file:\n",
    "        for row in csv_file:\n",
    "            row = row.strip()\n",
    "#             print(np.array(list(map(np.float, row.split(',')[5].strip('[]')))) + 1)\n",
    "            print(np.float(row.split(',')[5].strip('[]')))\n",
    "            break"
   ]
  },
  {
   "cell_type": "markdown",
   "metadata": {},
   "source": [
    "#### Create net"
   ]
  },
  {
   "cell_type": "code",
   "execution_count": 10,
   "metadata": {},
   "outputs": [],
   "source": [
    "net = VLocNetPretrained()"
   ]
  },
  {
   "cell_type": "code",
   "execution_count": 11,
   "metadata": {},
   "outputs": [
    {
     "name": "stdout",
     "output_type": "stream",
     "text": [
      "cuda:2\n"
     ]
    }
   ],
   "source": [
    "device = torch.device('cuda:2' if torch.cuda.is_available() else 'cpu')\n",
    "net.to(device)\n",
    "print(device)"
   ]
  },
  {
   "cell_type": "markdown",
   "metadata": {},
   "source": [
    "#### Import datasets"
   ]
  },
  {
   "cell_type": "code",
   "execution_count": 12,
   "metadata": {},
   "outputs": [
    {
     "name": "stdout",
     "output_type": "stream",
     "text": [
      "Loading dataset Loaded (3737)\n",
      "Loading dataset Loaded (371)\n"
     ]
    }
   ],
   "source": [
    "batch_size = 16\n",
    "train_data, test_data = getTrainTestData(batch_size, 'data/Odom_data/Without_noise/')"
   ]
  },
  {
   "cell_type": "code",
   "execution_count": 13,
   "metadata": {},
   "outputs": [
    {
     "name": "stdout",
     "output_type": "stream",
     "text": [
      "16\n",
      "(16, 128, 128)\n"
     ]
    },
    {
     "data": {
      "image/png": "[encoded data removed]",
      "text/plain": [
       "<Figure size 432x288 with 1 Axes>"
      ]
     },
     "metadata": {
      "needs_background": "light"
     },
     "output_type": "display_data"
    }
   ],
   "source": [
    "for batch in train_data:\n",
    "#     print(batch['depth0'].permute(0,2,3,1).shape)\n",
    "#     print(batch['depth0'].shape)\n",
    "    print(len(mapper.get_top_down_map(batch['depth0'].squeeze(1).numpy() * 1000)))\n",
    "    print(mapper.get_top_down_map(batch['depth0'].squeeze(1).numpy() * 1000).shape)\n",
    "    plt.imshow((mapper.get_top_down_map(batch['depth0'].squeeze(1).numpy() * 1000)[0]))\n",
    "    break"
   ]
  },
  {
   "cell_type": "code",
   "execution_count": 14,
   "metadata": {},
   "outputs": [
    {
     "name": "stdout",
     "output_type": "stream",
     "text": [
      "True\n",
      "[2. 3. 4. 2. 3. 4.]\n"
     ]
    }
   ],
   "source": [
    "a = np.array([])\n",
    "print(a.shape == (0,))\n",
    "a = np.append(a, [[2,3,4]])\n",
    "a = np.append(a, [[2,3,4]])\n",
    "print(a)"
   ]
  },
  {
   "cell_type": "code",
   "execution_count": 15,
   "metadata": {},
   "outputs": [
    {
     "data": {
      "text/html": [
       "\n",
       "                Logging results to <a href=\"https://wandb.com\" target=\"_blank\">Weights & Biases</a> <a href=\"https://docs.wandb.com/integrations/jupyter.html\" target=\"_blank\">(Documentation)</a>.<br/>\n",
       "                Project page: <a href=\"https://app.wandb.ai/stepan-makarenko/vloc_net\" target=\"_blank\">https://app.wandb.ai/stepan-makarenko/vloc_net</a><br/>\n",
       "                Run page: <a href=\"https://app.wandb.ai/stepan-makarenko/vloc_net/runs/3ibhq71e\" target=\"_blank\">https://app.wandb.ai/stepan-makarenko/vloc_net/runs/3ibhq71e</a><br/>\n",
       "            "
      ],
      "text/plain": [
       "<IPython.core.display.HTML object>"
      ]
     },
     "metadata": {},
     "output_type": "display_data"
    },
    {
     "name": "stderr",
     "output_type": "stream",
     "text": [
      "\u001b[34m\u001b[1mwandb\u001b[0m: Wandb version 0.8.32 is available!  To upgrade, please run:\n",
      "\u001b[34m\u001b[1mwandb\u001b[0m:  $ pip install wandb --upgrade\n"
     ]
    },
    {
     "data": {
      "text/plain": [
       "W&B Run: https://app.wandb.ai/stepan-makarenko/vloc_net/runs/3ibhq71e"
      ]
     },
     "execution_count": 15,
     "metadata": {},
     "output_type": "execute_result"
    }
   ],
   "source": [
    "# Logging\n",
    "wandb.init(project=\"vloc_net\", entity='stepan-makarenko')\n",
    "# wandb.watch(net)"
   ]
  },
  {
   "cell_type": "code",
   "execution_count": 16,
   "metadata": {},
   "outputs": [
    {
     "name": "stdout",
     "output_type": "stream",
     "text": [
      "torch.Size([16, 3, 360, 640])\n"
     ]
    }
   ],
   "source": [
    "for i in train_data:\n",
    "    print(i['rgb0'].shape)\n",
    "    break"
   ]
  },
  {
   "cell_type": "markdown",
   "metadata": {},
   "source": [
    "#### Train on collected dataset"
   ]
  },
  {
   "cell_type": "code",
   "execution_count": 17,
   "metadata": {},
   "outputs": [
    {
     "data": {
      "application/vnd.jupyter.widget-view+json": {
       "model_id": "a2cff1c17ded4e7eb320e892d63d2e56",
       "version_major": 2,
       "version_minor": 0
      },
      "text/plain": [
       "HBox(children=(FloatProgress(value=0.0, max=50.0), HTML(value='')))"
      ]
     },
     "metadata": {},
     "output_type": "display_data"
    },
    {
     "data": {
      "application/vnd.jupyter.widget-view+json": {
       "model_id": "d8486842f6a04823a93c298aa537e6c3",
       "version_major": 2,
       "version_minor": 0
      },
      "text/plain": [
       "HBox(children=(FloatProgress(value=1.0, bar_style='info', max=1.0), HTML(value='')))"
      ]
     },
     "metadata": {},
     "output_type": "display_data"
    },
    {
     "name": "stdout",
     "output_type": "stream",
     "text": [
      "\n"
     ]
    },
    {
     "name": "stderr",
     "output_type": "stream",
     "text": [
      "\u001b[34m\u001b[1mwandb\u001b[0m: Wandb version 0.8.32 is available!  To upgrade, please run:\n",
      "\u001b[34m\u001b[1mwandb\u001b[0m:  $ pip install wandb --upgrade\n"
     ]
    },
    {
     "data": {
      "application/vnd.jupyter.widget-view+json": {
       "model_id": "8b8af461a7a148a2a7bbecc79ee565ce",
       "version_major": 2,
       "version_minor": 0
      },
      "text/plain": [
       "HBox(children=(FloatProgress(value=1.0, bar_style='info', max=1.0), HTML(value='')))"
      ]
     },
     "metadata": {},
     "output_type": "display_data"
    },
    {
     "name": "stdout",
     "output_type": "stream",
     "text": [
      "\n"
     ]
    },
    {
     "data": {
      "application/vnd.jupyter.widget-view+json": {
       "model_id": "f5c2ac7310c245a0995777b637535319",
       "version_major": 2,
       "version_minor": 0
      },
      "text/plain": [
       "HBox(children=(FloatProgress(value=1.0, bar_style='info', max=1.0), HTML(value='')))"
      ]
     },
     "metadata": {},
     "output_type": "display_data"
    },
    {
     "name": "stdout",
     "output_type": "stream",
     "text": [
      "\n"
     ]
    },
    {
     "data": {
      "application/vnd.jupyter.widget-view+json": {
       "model_id": "ac7b74ed06a84f2caff0280094d9d294",
       "version_major": 2,
       "version_minor": 0
      },
      "text/plain": [
       "HBox(children=(FloatProgress(value=1.0, bar_style='info', max=1.0), HTML(value='')))"
      ]
     },
     "metadata": {},
     "output_type": "display_data"
    },
    {
     "name": "stdout",
     "output_type": "stream",
     "text": [
      "\n"
     ]
    },
    {
     "data": {
      "application/vnd.jupyter.widget-view+json": {
       "model_id": "f9c85e12868d4fe4832e79ad6f8671c3",
       "version_major": 2,
       "version_minor": 0
      },
      "text/plain": [
       "HBox(children=(FloatProgress(value=1.0, bar_style='info', max=1.0), HTML(value='')))"
      ]
     },
     "metadata": {},
     "output_type": "display_data"
    },
    {
     "name": "stdout",
     "output_type": "stream",
     "text": [
      "\n"
     ]
    },
    {
     "data": {
      "application/vnd.jupyter.widget-view+json": {
       "model_id": "e76a6f993f8145ecb0c28455cad27fe4",
       "version_major": 2,
       "version_minor": 0
      },
      "text/plain": [
       "HBox(children=(FloatProgress(value=1.0, bar_style='info', max=1.0), HTML(value='')))"
      ]
     },
     "metadata": {},
     "output_type": "display_data"
    },
    {
     "name": "stdout",
     "output_type": "stream",
     "text": [
      "\n"
     ]
    },
    {
     "data": {
      "application/vnd.jupyter.widget-view+json": {
       "model_id": "3e034a56633542e8b0f2b3146abc7069",
       "version_major": 2,
       "version_minor": 0
      },
      "text/plain": [
       "HBox(children=(FloatProgress(value=1.0, bar_style='info', max=1.0), HTML(value='')))"
      ]
     },
     "metadata": {},
     "output_type": "display_data"
    },
    {
     "name": "stdout",
     "output_type": "stream",
     "text": [
      "\n"
     ]
    },
    {
     "data": {
      "application/vnd.jupyter.widget-view+json": {
       "model_id": "e450dba1297a47f99de21d23c55c25ac",
       "version_major": 2,
       "version_minor": 0
      },
      "text/plain": [
       "HBox(children=(FloatProgress(value=1.0, bar_style='info', max=1.0), HTML(value='')))"
      ]
     },
     "metadata": {},
     "output_type": "display_data"
    },
    {
     "name": "stdout",
     "output_type": "stream",
     "text": [
      "\n"
     ]
    },
    {
     "data": {
      "application/vnd.jupyter.widget-view+json": {
       "model_id": "0eece20c29cf40b88358e8e1af8683aa",
       "version_major": 2,
       "version_minor": 0
      },
      "text/plain": [
       "HBox(children=(FloatProgress(value=1.0, bar_style='info', max=1.0), HTML(value='')))"
      ]
     },
     "metadata": {},
     "output_type": "display_data"
    },
    {
     "name": "stdout",
     "output_type": "stream",
     "text": [
      "\n"
     ]
    },
    {
     "data": {
      "application/vnd.jupyter.widget-view+json": {
       "model_id": "55d0c701cfdc4132857118417586e23a",
       "version_major": 2,
       "version_minor": 0
      },
      "text/plain": [
       "HBox(children=(FloatProgress(value=1.0, bar_style='info', max=1.0), HTML(value='')))"
      ]
     },
     "metadata": {},
     "output_type": "display_data"
    },
    {
     "name": "stdout",
     "output_type": "stream",
     "text": [
      "\n"
     ]
    },
    {
     "data": {
      "application/vnd.jupyter.widget-view+json": {
       "model_id": "1c71866156184909a56eabc95e66681a",
       "version_major": 2,
       "version_minor": 0
      },
      "text/plain": [
       "HBox(children=(FloatProgress(value=1.0, bar_style='info', max=1.0), HTML(value='')))"
      ]
     },
     "metadata": {},
     "output_type": "display_data"
    },
    {
     "name": "stdout",
     "output_type": "stream",
     "text": [
      "\n"
     ]
    },
    {
     "data": {
      "application/vnd.jupyter.widget-view+json": {
       "model_id": "9c626c782f94426aaae8200075474d77",
       "version_major": 2,
       "version_minor": 0
      },
      "text/plain": [
       "HBox(children=(FloatProgress(value=1.0, bar_style='info', max=1.0), HTML(value='')))"
      ]
     },
     "metadata": {},
     "output_type": "display_data"
    },
    {
     "name": "stdout",
     "output_type": "stream",
     "text": [
      "\n"
     ]
    },
    {
     "data": {
      "application/vnd.jupyter.widget-view+json": {
       "model_id": "6edbfefb251642b182ab1aa614248b59",
       "version_major": 2,
       "version_minor": 0
      },
      "text/plain": [
       "HBox(children=(FloatProgress(value=1.0, bar_style='info', max=1.0), HTML(value='')))"
      ]
     },
     "metadata": {},
     "output_type": "display_data"
    },
    {
     "name": "stdout",
     "output_type": "stream",
     "text": [
      "\n"
     ]
    },
    {
     "data": {
      "application/vnd.jupyter.widget-view+json": {
       "model_id": "83e29c4c81b843d6b6d1f5b1e9b3e446",
       "version_major": 2,
       "version_minor": 0
      },
      "text/plain": [
       "HBox(children=(FloatProgress(value=1.0, bar_style='info', max=1.0), HTML(value='')))"
      ]
     },
     "metadata": {},
     "output_type": "display_data"
    },
    {
     "name": "stdout",
     "output_type": "stream",
     "text": [
      "\n"
     ]
    },
    {
     "data": {
      "application/vnd.jupyter.widget-view+json": {
       "model_id": "858827f21f0b452b914733e823641577",
       "version_major": 2,
       "version_minor": 0
      },
      "text/plain": [
       "HBox(children=(FloatProgress(value=1.0, bar_style='info', max=1.0), HTML(value='')))"
      ]
     },
     "metadata": {},
     "output_type": "display_data"
    },
    {
     "name": "stdout",
     "output_type": "stream",
     "text": [
      "\n"
     ]
    },
    {
     "data": {
      "application/vnd.jupyter.widget-view+json": {
       "model_id": "6d14d2e68c034359955dde9d4192b154",
       "version_major": 2,
       "version_minor": 0
      },
      "text/plain": [
       "HBox(children=(FloatProgress(value=1.0, bar_style='info', max=1.0), HTML(value='')))"
      ]
     },
     "metadata": {},
     "output_type": "display_data"
    },
    {
     "name": "stdout",
     "output_type": "stream",
     "text": [
      "\n"
     ]
    },
    {
     "data": {
      "application/vnd.jupyter.widget-view+json": {
       "model_id": "a6aa522bfaa84e5ba2efeac94384dbe9",
       "version_major": 2,
       "version_minor": 0
      },
      "text/plain": [
       "HBox(children=(FloatProgress(value=1.0, bar_style='info', max=1.0), HTML(value='')))"
      ]
     },
     "metadata": {},
     "output_type": "display_data"
    },
    {
     "name": "stdout",
     "output_type": "stream",
     "text": [
      "\n"
     ]
    },
    {
     "data": {
      "application/vnd.jupyter.widget-view+json": {
       "model_id": "0f18d9ba21cf47ca9db073a99dfa0b3a",
       "version_major": 2,
       "version_minor": 0
      },
      "text/plain": [
       "HBox(children=(FloatProgress(value=1.0, bar_style='info', max=1.0), HTML(value='')))"
      ]
     },
     "metadata": {},
     "output_type": "display_data"
    },
    {
     "name": "stdout",
     "output_type": "stream",
     "text": [
      "\n"
     ]
    },
    {
     "data": {
      "application/vnd.jupyter.widget-view+json": {
       "model_id": "e857b70e90f842c9b9537d25e1862f20",
       "version_major": 2,
       "version_minor": 0
      },
      "text/plain": [
       "HBox(children=(FloatProgress(value=1.0, bar_style='info', max=1.0), HTML(value='')))"
      ]
     },
     "metadata": {},
     "output_type": "display_data"
    },
    {
     "name": "stdout",
     "output_type": "stream",
     "text": [
      "\n"
     ]
    },
    {
     "data": {
      "application/vnd.jupyter.widget-view+json": {
       "model_id": "5278b86f0e224dbfa487dadc3bb640d6",
       "version_major": 2,
       "version_minor": 0
      },
      "text/plain": [
       "HBox(children=(FloatProgress(value=1.0, bar_style='info', max=1.0), HTML(value='')))"
      ]
     },
     "metadata": {},
     "output_type": "display_data"
    },
    {
     "name": "stdout",
     "output_type": "stream",
     "text": [
      "\n"
     ]
    },
    {
     "data": {
      "application/vnd.jupyter.widget-view+json": {
       "model_id": "b448c4f756b74ce8bf0ed357191b2f28",
       "version_major": 2,
       "version_minor": 0
      },
      "text/plain": [
       "HBox(children=(FloatProgress(value=1.0, bar_style='info', max=1.0), HTML(value='')))"
      ]
     },
     "metadata": {},
     "output_type": "display_data"
    },
    {
     "name": "stdout",
     "output_type": "stream",
     "text": [
      "\n"
     ]
    },
    {
     "data": {
      "application/vnd.jupyter.widget-view+json": {
       "model_id": "3c0d3b72f30a45d7943325dd5da1a161",
       "version_major": 2,
       "version_minor": 0
      },
      "text/plain": [
       "HBox(children=(FloatProgress(value=1.0, bar_style='info', max=1.0), HTML(value='')))"
      ]
     },
     "metadata": {},
     "output_type": "display_data"
    },
    {
     "name": "stdout",
     "output_type": "stream",
     "text": [
      "\n"
     ]
    },
    {
     "data": {
      "application/vnd.jupyter.widget-view+json": {
       "model_id": "1a6bdfd905e74a6cbc66eea2a40e81e0",
       "version_major": 2,
       "version_minor": 0
      },
      "text/plain": [
       "HBox(children=(FloatProgress(value=1.0, bar_style='info', max=1.0), HTML(value='')))"
      ]
     },
     "metadata": {},
     "output_type": "display_data"
    },
    {
     "name": "stdout",
     "output_type": "stream",
     "text": [
      "\n"
     ]
    },
    {
     "data": {
      "application/vnd.jupyter.widget-view+json": {
       "model_id": "92f584d581ca448498a643dac1c26f57",
       "version_major": 2,
       "version_minor": 0
      },
      "text/plain": [
       "HBox(children=(FloatProgress(value=1.0, bar_style='info', max=1.0), HTML(value='')))"
      ]
     },
     "metadata": {},
     "output_type": "display_data"
    },
    {
     "name": "stdout",
     "output_type": "stream",
     "text": [
      "\n"
     ]
    },
    {
     "data": {
      "application/vnd.jupyter.widget-view+json": {
       "model_id": "e887542bb412470fa579042ba4d60de6",
       "version_major": 2,
       "version_minor": 0
      },
      "text/plain": [
       "HBox(children=(FloatProgress(value=1.0, bar_style='info', max=1.0), HTML(value='')))"
      ]
     },
     "metadata": {},
     "output_type": "display_data"
    },
    {
     "name": "stdout",
     "output_type": "stream",
     "text": [
      "\n"
     ]
    },
    {
     "data": {
      "application/vnd.jupyter.widget-view+json": {
       "model_id": "770e9a2800a44091b867a3120ac7b114",
       "version_major": 2,
       "version_minor": 0
      },
      "text/plain": [
       "HBox(children=(FloatProgress(value=1.0, bar_style='info', max=1.0), HTML(value='')))"
      ]
     },
     "metadata": {},
     "output_type": "display_data"
    },
    {
     "name": "stdout",
     "output_type": "stream",
     "text": [
      "\n"
     ]
    },
    {
     "data": {
      "application/vnd.jupyter.widget-view+json": {
       "model_id": "12eb30878090449f9035a7c5d7e9741a",
       "version_major": 2,
       "version_minor": 0
      },
      "text/plain": [
       "HBox(children=(FloatProgress(value=1.0, bar_style='info', max=1.0), HTML(value='')))"
      ]
     },
     "metadata": {},
     "output_type": "display_data"
    },
    {
     "name": "stdout",
     "output_type": "stream",
     "text": [
      "\n"
     ]
    },
    {
     "data": {
      "application/vnd.jupyter.widget-view+json": {
       "model_id": "240cd2ece5ca4137be12768301738563",
       "version_major": 2,
       "version_minor": 0
      },
      "text/plain": [
       "HBox(children=(FloatProgress(value=1.0, bar_style='info', max=1.0), HTML(value='')))"
      ]
     },
     "metadata": {},
     "output_type": "display_data"
    },
    {
     "name": "stdout",
     "output_type": "stream",
     "text": [
      "\n"
     ]
    },
    {
     "data": {
      "application/vnd.jupyter.widget-view+json": {
       "model_id": "e2f0a9645c5d4d11beae877bce2ac305",
       "version_major": 2,
       "version_minor": 0
      },
      "text/plain": [
       "HBox(children=(FloatProgress(value=1.0, bar_style='info', max=1.0), HTML(value='')))"
      ]
     },
     "metadata": {},
     "output_type": "display_data"
    },
    {
     "name": "stdout",
     "output_type": "stream",
     "text": [
      "\n"
     ]
    },
    {
     "data": {
      "application/vnd.jupyter.widget-view+json": {
       "model_id": "bbd49634772b4193a0e9feb3bfad2312",
       "version_major": 2,
       "version_minor": 0
      },
      "text/plain": [
       "HBox(children=(FloatProgress(value=1.0, bar_style='info', max=1.0), HTML(value='')))"
      ]
     },
     "metadata": {},
     "output_type": "display_data"
    },
    {
     "name": "stdout",
     "output_type": "stream",
     "text": [
      "\n"
     ]
    },
    {
     "data": {
      "application/vnd.jupyter.widget-view+json": {
       "model_id": "a1bf887e399f42b28e947a634ef2f92c",
       "version_major": 2,
       "version_minor": 0
      },
      "text/plain": [
       "HBox(children=(FloatProgress(value=1.0, bar_style='info', max=1.0), HTML(value='')))"
      ]
     },
     "metadata": {},
     "output_type": "display_data"
    },
    {
     "name": "stdout",
     "output_type": "stream",
     "text": [
      "\n"
     ]
    },
    {
     "data": {
      "application/vnd.jupyter.widget-view+json": {
       "model_id": "a187e3bd457142e19cfc6de9fd8257e4",
       "version_major": 2,
       "version_minor": 0
      },
      "text/plain": [
       "HBox(children=(FloatProgress(value=1.0, bar_style='info', max=1.0), HTML(value='')))"
      ]
     },
     "metadata": {},
     "output_type": "display_data"
    },
    {
     "name": "stdout",
     "output_type": "stream",
     "text": [
      "\n"
     ]
    },
    {
     "data": {
      "application/vnd.jupyter.widget-view+json": {
       "model_id": "150bc2818e184696b6a0af7f04397798",
       "version_major": 2,
       "version_minor": 0
      },
      "text/plain": [
       "HBox(children=(FloatProgress(value=1.0, bar_style='info', max=1.0), HTML(value='')))"
      ]
     },
     "metadata": {},
     "output_type": "display_data"
    },
    {
     "name": "stdout",
     "output_type": "stream",
     "text": [
      "\n"
     ]
    },
    {
     "data": {
      "application/vnd.jupyter.widget-view+json": {
       "model_id": "08f561ca2f104767a8ceac334ff5f4c1",
       "version_major": 2,
       "version_minor": 0
      },
      "text/plain": [
       "HBox(children=(FloatProgress(value=1.0, bar_style='info', max=1.0), HTML(value='')))"
      ]
     },
     "metadata": {},
     "output_type": "display_data"
    },
    {
     "name": "stdout",
     "output_type": "stream",
     "text": [
      "\n"
     ]
    },
    {
     "data": {
      "application/vnd.jupyter.widget-view+json": {
       "model_id": "2deae7a368a7463e87d852b26a8dfb66",
       "version_major": 2,
       "version_minor": 0
      },
      "text/plain": [
       "HBox(children=(FloatProgress(value=1.0, bar_style='info', max=1.0), HTML(value='')))"
      ]
     },
     "metadata": {},
     "output_type": "display_data"
    },
    {
     "name": "stdout",
     "output_type": "stream",
     "text": [
      "\n"
     ]
    },
    {
     "data": {
      "application/vnd.jupyter.widget-view+json": {
       "model_id": "1df4f2432dc04c97be467234230ada20",
       "version_major": 2,
       "version_minor": 0
      },
      "text/plain": [
       "HBox(children=(FloatProgress(value=1.0, bar_style='info', max=1.0), HTML(value='')))"
      ]
     },
     "metadata": {},
     "output_type": "display_data"
    },
    {
     "name": "stdout",
     "output_type": "stream",
     "text": [
      "\n"
     ]
    },
    {
     "data": {
      "application/vnd.jupyter.widget-view+json": {
       "model_id": "2342f1aa928a49689b223225ef740b40",
       "version_major": 2,
       "version_minor": 0
      },
      "text/plain": [
       "HBox(children=(FloatProgress(value=1.0, bar_style='info', max=1.0), HTML(value='')))"
      ]
     },
     "metadata": {},
     "output_type": "display_data"
    },
    {
     "name": "stdout",
     "output_type": "stream",
     "text": [
      "\n"
     ]
    },
    {
     "data": {
      "application/vnd.jupyter.widget-view+json": {
       "model_id": "d9aee51699af442a941ee06f0d6e2880",
       "version_major": 2,
       "version_minor": 0
      },
      "text/plain": [
       "HBox(children=(FloatProgress(value=1.0, bar_style='info', max=1.0), HTML(value='')))"
      ]
     },
     "metadata": {},
     "output_type": "display_data"
    },
    {
     "name": "stdout",
     "output_type": "stream",
     "text": [
      "\n"
     ]
    },
    {
     "data": {
      "application/vnd.jupyter.widget-view+json": {
       "model_id": "38a7d96bf7ff43c4af0ba8efb62eeb7c",
       "version_major": 2,
       "version_minor": 0
      },
      "text/plain": [
       "HBox(children=(FloatProgress(value=1.0, bar_style='info', max=1.0), HTML(value='')))"
      ]
     },
     "metadata": {},
     "output_type": "display_data"
    },
    {
     "name": "stdout",
     "output_type": "stream",
     "text": [
      "\n"
     ]
    },
    {
     "data": {
      "application/vnd.jupyter.widget-view+json": {
       "model_id": "2e55bae9217546b8b2c7532e267746c1",
       "version_major": 2,
       "version_minor": 0
      },
      "text/plain": [
       "HBox(children=(FloatProgress(value=1.0, bar_style='info', max=1.0), HTML(value='')))"
      ]
     },
     "metadata": {},
     "output_type": "display_data"
    },
    {
     "name": "stdout",
     "output_type": "stream",
     "text": [
      "\n"
     ]
    },
    {
     "data": {
      "application/vnd.jupyter.widget-view+json": {
       "model_id": "539033b3f72342199c51cc899593c9bb",
       "version_major": 2,
       "version_minor": 0
      },
      "text/plain": [
       "HBox(children=(FloatProgress(value=1.0, bar_style='info', max=1.0), HTML(value='')))"
      ]
     },
     "metadata": {},
     "output_type": "display_data"
    },
    {
     "name": "stdout",
     "output_type": "stream",
     "text": [
      "\n"
     ]
    },
    {
     "data": {
      "application/vnd.jupyter.widget-view+json": {
       "model_id": "e7e8c62ad51641629fceb9015b7f0c45",
       "version_major": 2,
       "version_minor": 0
      },
      "text/plain": [
       "HBox(children=(FloatProgress(value=1.0, bar_style='info', max=1.0), HTML(value='')))"
      ]
     },
     "metadata": {},
     "output_type": "display_data"
    },
    {
     "name": "stdout",
     "output_type": "stream",
     "text": [
      "\n"
     ]
    },
    {
     "data": {
      "application/vnd.jupyter.widget-view+json": {
       "model_id": "f6989ebb46194c0083f10c914b59163a",
       "version_major": 2,
       "version_minor": 0
      },
      "text/plain": [
       "HBox(children=(FloatProgress(value=1.0, bar_style='info', max=1.0), HTML(value='')))"
      ]
     },
     "metadata": {},
     "output_type": "display_data"
    },
    {
     "name": "stdout",
     "output_type": "stream",
     "text": [
      "\n"
     ]
    },
    {
     "data": {
      "application/vnd.jupyter.widget-view+json": {
       "model_id": "1531fa1eaf8d4051ab175c7dfac70cff",
       "version_major": 2,
       "version_minor": 0
      },
      "text/plain": [
       "HBox(children=(FloatProgress(value=1.0, bar_style='info', max=1.0), HTML(value='')))"
      ]
     },
     "metadata": {},
     "output_type": "display_data"
    },
    {
     "name": "stdout",
     "output_type": "stream",
     "text": [
      "\n"
     ]
    },
    {
     "data": {
      "application/vnd.jupyter.widget-view+json": {
       "model_id": "f7dc4e890cb04026b2b7415f538f9189",
       "version_major": 2,
       "version_minor": 0
      },
      "text/plain": [
       "HBox(children=(FloatProgress(value=1.0, bar_style='info', max=1.0), HTML(value='')))"
      ]
     },
     "metadata": {},
     "output_type": "display_data"
    },
    {
     "name": "stdout",
     "output_type": "stream",
     "text": [
      "\n"
     ]
    },
    {
     "data": {
      "application/vnd.jupyter.widget-view+json": {
       "model_id": "d250bc64a9e84bfa8d76e82923804112",
       "version_major": 2,
       "version_minor": 0
      },
      "text/plain": [
       "HBox(children=(FloatProgress(value=1.0, bar_style='info', max=1.0), HTML(value='')))"
      ]
     },
     "metadata": {},
     "output_type": "display_data"
    },
    {
     "name": "stdout",
     "output_type": "stream",
     "text": [
      "\n"
     ]
    },
    {
     "data": {
      "application/vnd.jupyter.widget-view+json": {
       "model_id": "6ff159116940468b90149a26aa6d1c65",
       "version_major": 2,
       "version_minor": 0
      },
      "text/plain": [
       "HBox(children=(FloatProgress(value=1.0, bar_style='info', max=1.0), HTML(value='')))"
      ]
     },
     "metadata": {},
     "output_type": "display_data"
    },
    {
     "name": "stdout",
     "output_type": "stream",
     "text": [
      "\n"
     ]
    },
    {
     "data": {
      "application/vnd.jupyter.widget-view+json": {
       "model_id": "9ba00ddb5c334d15b1a086ea0ab355e5",
       "version_major": 2,
       "version_minor": 0
      },
      "text/plain": [
       "HBox(children=(FloatProgress(value=1.0, bar_style='info', max=1.0), HTML(value='')))"
      ]
     },
     "metadata": {},
     "output_type": "display_data"
    },
    {
     "name": "stdout",
     "output_type": "stream",
     "text": [
      "\n"
     ]
    },
    {
     "data": {
      "application/vnd.jupyter.widget-view+json": {
       "model_id": "8e94676001ba4f0093a4985ad7941c4c",
       "version_major": 2,
       "version_minor": 0
      },
      "text/plain": [
       "HBox(children=(FloatProgress(value=1.0, bar_style='info', max=1.0), HTML(value='')))"
      ]
     },
     "metadata": {},
     "output_type": "display_data"
    },
    {
     "name": "stdout",
     "output_type": "stream",
     "text": [
      "\n"
     ]
    },
    {
     "data": {
      "application/vnd.jupyter.widget-view+json": {
       "model_id": "1ed9373145174f40825b6e9ba041a07a",
       "version_major": 2,
       "version_minor": 0
      },
      "text/plain": [
       "HBox(children=(FloatProgress(value=1.0, bar_style='info', max=1.0), HTML(value='')))"
      ]
     },
     "metadata": {},
     "output_type": "display_data"
    },
    {
     "name": "stdout",
     "output_type": "stream",
     "text": [
      "\n"
     ]
    },
    {
     "data": {
      "application/vnd.jupyter.widget-view+json": {
       "model_id": "17c2940e465d4b4a9eb50f93d4c237d8",
       "version_major": 2,
       "version_minor": 0
      },
      "text/plain": [
       "HBox(children=(FloatProgress(value=1.0, bar_style='info', max=1.0), HTML(value='')))"
      ]
     },
     "metadata": {},
     "output_type": "display_data"
    },
    {
     "name": "stdout",
     "output_type": "stream",
     "text": [
      "\n"
     ]
    },
    {
     "data": {
      "application/vnd.jupyter.widget-view+json": {
       "model_id": "356d8add64574114b6549237185eca6b",
       "version_major": 2,
       "version_minor": 0
      },
      "text/plain": [
       "HBox(children=(FloatProgress(value=1.0, bar_style='info', max=1.0), HTML(value='')))"
      ]
     },
     "metadata": {},
     "output_type": "display_data"
    },
    {
     "name": "stdout",
     "output_type": "stream",
     "text": [
      "\n"
     ]
    },
    {
     "data": {
      "application/vnd.jupyter.widget-view+json": {
       "model_id": "6606167bba134565a70bf66e1bc286c0",
       "version_major": 2,
       "version_minor": 0
      },
      "text/plain": [
       "HBox(children=(FloatProgress(value=1.0, bar_style='info', max=1.0), HTML(value='')))"
      ]
     },
     "metadata": {},
     "output_type": "display_data"
    },
    {
     "name": "stdout",
     "output_type": "stream",
     "text": [
      "\n"
     ]
    },
    {
     "data": {
      "application/vnd.jupyter.widget-view+json": {
       "model_id": "a79bf328d0624cf1910acb3302c3ca49",
       "version_major": 2,
       "version_minor": 0
      },
      "text/plain": [
       "HBox(children=(FloatProgress(value=1.0, bar_style='info', max=1.0), HTML(value='')))"
      ]
     },
     "metadata": {},
     "output_type": "display_data"
    },
    {
     "name": "stdout",
     "output_type": "stream",
     "text": [
      "\n"
     ]
    },
    {
     "data": {
      "application/vnd.jupyter.widget-view+json": {
       "model_id": "75cc4c03018943b28d8ec76677cd50f3",
       "version_major": 2,
       "version_minor": 0
      },
      "text/plain": [
       "HBox(children=(FloatProgress(value=1.0, bar_style='info', max=1.0), HTML(value='')))"
      ]
     },
     "metadata": {},
     "output_type": "display_data"
    },
    {
     "name": "stdout",
     "output_type": "stream",
     "text": [
      "\n"
     ]
    },
    {
     "data": {
      "application/vnd.jupyter.widget-view+json": {
       "model_id": "4ee60935dd0047ae840d144210e1e07b",
       "version_major": 2,
       "version_minor": 0
      },
      "text/plain": [
       "HBox(children=(FloatProgress(value=1.0, bar_style='info', max=1.0), HTML(value='')))"
      ]
     },
     "metadata": {},
     "output_type": "display_data"
    },
    {
     "name": "stdout",
     "output_type": "stream",
     "text": [
      "\n",
      "Epoch    28: reducing learning rate of group 0 to 2.0000e-05.\n"
     ]
    },
    {
     "data": {
      "application/vnd.jupyter.widget-view+json": {
       "model_id": "1f4e29b819704fc6827d6367adfc2d34",
       "version_major": 2,
       "version_minor": 0
      },
      "text/plain": [
       "HBox(children=(FloatProgress(value=1.0, bar_style='info', max=1.0), HTML(value='')))"
      ]
     },
     "metadata": {},
     "output_type": "display_data"
    },
    {
     "name": "stdout",
     "output_type": "stream",
     "text": [
      "\n"
     ]
    },
    {
     "data": {
      "application/vnd.jupyter.widget-view+json": {
       "model_id": "dad9ecd23cf14a4ea905e7d600c5525b",
       "version_major": 2,
       "version_minor": 0
      },
      "text/plain": [
       "HBox(children=(FloatProgress(value=1.0, bar_style='info', max=1.0), HTML(value='')))"
      ]
     },
     "metadata": {},
     "output_type": "display_data"
    },
    {
     "name": "stdout",
     "output_type": "stream",
     "text": [
      "\n"
     ]
    },
    {
     "data": {
      "application/vnd.jupyter.widget-view+json": {
       "model_id": "005fc8d613534b40a69fd38b57593fbb",
       "version_major": 2,
       "version_minor": 0
      },
      "text/plain": [
       "HBox(children=(FloatProgress(value=1.0, bar_style='info', max=1.0), HTML(value='')))"
      ]
     },
     "metadata": {},
     "output_type": "display_data"
    },
    {
     "name": "stdout",
     "output_type": "stream",
     "text": [
      "\n"
     ]
    },
    {
     "data": {
      "application/vnd.jupyter.widget-view+json": {
       "model_id": "b917f8e079c84097aaf7211c38b72d9c",
       "version_major": 2,
       "version_minor": 0
      },
      "text/plain": [
       "HBox(children=(FloatProgress(value=1.0, bar_style='info', max=1.0), HTML(value='')))"
      ]
     },
     "metadata": {},
     "output_type": "display_data"
    },
    {
     "name": "stdout",
     "output_type": "stream",
     "text": [
      "\n"
     ]
    },
    {
     "data": {
      "application/vnd.jupyter.widget-view+json": {
       "model_id": "1742643f39a24dbfb18a8a0270ea6137",
       "version_major": 2,
       "version_minor": 0
      },
      "text/plain": [
       "HBox(children=(FloatProgress(value=1.0, bar_style='info', max=1.0), HTML(value='')))"
      ]
     },
     "metadata": {},
     "output_type": "display_data"
    },
    {
     "name": "stdout",
     "output_type": "stream",
     "text": [
      "\n"
     ]
    },
    {
     "data": {
      "application/vnd.jupyter.widget-view+json": {
       "model_id": "ebcaddf6f7234cea87f4c178eeea86c5",
       "version_major": 2,
       "version_minor": 0
      },
      "text/plain": [
       "HBox(children=(FloatProgress(value=1.0, bar_style='info', max=1.0), HTML(value='')))"
      ]
     },
     "metadata": {},
     "output_type": "display_data"
    },
    {
     "name": "stdout",
     "output_type": "stream",
     "text": [
      "\n"
     ]
    },
    {
     "data": {
      "application/vnd.jupyter.widget-view+json": {
       "model_id": "3de17d2469844088a9b0ffd24d242ea1",
       "version_major": 2,
       "version_minor": 0
      },
      "text/plain": [
       "HBox(children=(FloatProgress(value=1.0, bar_style='info', max=1.0), HTML(value='')))"
      ]
     },
     "metadata": {},
     "output_type": "display_data"
    },
    {
     "name": "stdout",
     "output_type": "stream",
     "text": [
      "\n"
     ]
    },
    {
     "data": {
      "application/vnd.jupyter.widget-view+json": {
       "model_id": "299dc7a49aad4c7f997de580054b5edb",
       "version_major": 2,
       "version_minor": 0
      },
      "text/plain": [
       "HBox(children=(FloatProgress(value=1.0, bar_style='info', max=1.0), HTML(value='')))"
      ]
     },
     "metadata": {},
     "output_type": "display_data"
    },
    {
     "name": "stdout",
     "output_type": "stream",
     "text": [
      "\n"
     ]
    },
    {
     "data": {
      "application/vnd.jupyter.widget-view+json": {
       "model_id": "0e7927a4c52a46db90f6e95284fa9ac2",
       "version_major": 2,
       "version_minor": 0
      },
      "text/plain": [
       "HBox(children=(FloatProgress(value=1.0, bar_style='info', max=1.0), HTML(value='')))"
      ]
     },
     "metadata": {},
     "output_type": "display_data"
    },
    {
     "name": "stdout",
     "output_type": "stream",
     "text": [
      "\n"
     ]
    },
    {
     "data": {
      "application/vnd.jupyter.widget-view+json": {
       "model_id": "bcdc15cfa9c547ddaa8de0eb870e8b49",
       "version_major": 2,
       "version_minor": 0
      },
      "text/plain": [
       "HBox(children=(FloatProgress(value=1.0, bar_style='info', max=1.0), HTML(value='')))"
      ]
     },
     "metadata": {},
     "output_type": "display_data"
    },
    {
     "name": "stdout",
     "output_type": "stream",
     "text": [
      "\n"
     ]
    },
    {
     "data": {
      "application/vnd.jupyter.widget-view+json": {
       "model_id": "c2dbd733807d49869fc32c02dd01d516",
       "version_major": 2,
       "version_minor": 0
      },
      "text/plain": [
       "HBox(children=(FloatProgress(value=1.0, bar_style='info', max=1.0), HTML(value='')))"
      ]
     },
     "metadata": {},
     "output_type": "display_data"
    },
    {
     "name": "stdout",
     "output_type": "stream",
     "text": [
      "\n"
     ]
    },
    {
     "data": {
      "application/vnd.jupyter.widget-view+json": {
       "model_id": "243ccff86a5345648a8f671cbbd8d4e3",
       "version_major": 2,
       "version_minor": 0
      },
      "text/plain": [
       "HBox(children=(FloatProgress(value=1.0, bar_style='info', max=1.0), HTML(value='')))"
      ]
     },
     "metadata": {},
     "output_type": "display_data"
    },
    {
     "name": "stdout",
     "output_type": "stream",
     "text": [
      "\n"
     ]
    },
    {
     "data": {
      "application/vnd.jupyter.widget-view+json": {
       "model_id": "0ad0bfae463643e681037547baa79c2a",
       "version_major": 2,
       "version_minor": 0
      },
      "text/plain": [
       "HBox(children=(FloatProgress(value=1.0, bar_style='info', max=1.0), HTML(value='')))"
      ]
     },
     "metadata": {},
     "output_type": "display_data"
    },
    {
     "name": "stdout",
     "output_type": "stream",
     "text": [
      "\n"
     ]
    },
    {
     "data": {
      "application/vnd.jupyter.widget-view+json": {
       "model_id": "4e9bccd680cd4c36b75c7bb7d19fc950",
       "version_major": 2,
       "version_minor": 0
      },
      "text/plain": [
       "HBox(children=(FloatProgress(value=1.0, bar_style='info', max=1.0), HTML(value='')))"
      ]
     },
     "metadata": {},
     "output_type": "display_data"
    },
    {
     "name": "stdout",
     "output_type": "stream",
     "text": [
      "\n"
     ]
    },
    {
     "data": {
      "application/vnd.jupyter.widget-view+json": {
       "model_id": "e3f6d00fe6fb4041a32ae7b136b555c5",
       "version_major": 2,
       "version_minor": 0
      },
      "text/plain": [
       "HBox(children=(FloatProgress(value=1.0, bar_style='info', max=1.0), HTML(value='')))"
      ]
     },
     "metadata": {},
     "output_type": "display_data"
    },
    {
     "name": "stdout",
     "output_type": "stream",
     "text": [
      "\n"
     ]
    },
    {
     "data": {
      "application/vnd.jupyter.widget-view+json": {
       "model_id": "cc2f5a593be24d30bb351d4d1686b1f0",
       "version_major": 2,
       "version_minor": 0
      },
      "text/plain": [
       "HBox(children=(FloatProgress(value=1.0, bar_style='info', max=1.0), HTML(value='')))"
      ]
     },
     "metadata": {},
     "output_type": "display_data"
    },
    {
     "name": "stdout",
     "output_type": "stream",
     "text": [
      "\n"
     ]
    },
    {
     "data": {
      "application/vnd.jupyter.widget-view+json": {
       "model_id": "03c7a624979d4a54a6634ea93088778a",
       "version_major": 2,
       "version_minor": 0
      },
      "text/plain": [
       "HBox(children=(FloatProgress(value=1.0, bar_style='info', max=1.0), HTML(value='')))"
      ]
     },
     "metadata": {},
     "output_type": "display_data"
    },
    {
     "name": "stdout",
     "output_type": "stream",
     "text": [
      "\n"
     ]
    },
    {
     "data": {
      "application/vnd.jupyter.widget-view+json": {
       "model_id": "58293245365945d8af4887e9f54b441c",
       "version_major": 2,
       "version_minor": 0
      },
      "text/plain": [
       "HBox(children=(FloatProgress(value=1.0, bar_style='info', max=1.0), HTML(value='')))"
      ]
     },
     "metadata": {},
     "output_type": "display_data"
    },
    {
     "name": "stdout",
     "output_type": "stream",
     "text": [
      "\n"
     ]
    },
    {
     "data": {
      "application/vnd.jupyter.widget-view+json": {
       "model_id": "25873af875784a788e456b2d3b28efb2",
       "version_major": 2,
       "version_minor": 0
      },
      "text/plain": [
       "HBox(children=(FloatProgress(value=1.0, bar_style='info', max=1.0), HTML(value='')))"
      ]
     },
     "metadata": {},
     "output_type": "display_data"
    },
    {
     "name": "stdout",
     "output_type": "stream",
     "text": [
      "\n"
     ]
    },
    {
     "data": {
      "application/vnd.jupyter.widget-view+json": {
       "model_id": "ee31fcd282d342cf9dd1735b2246fc36",
       "version_major": 2,
       "version_minor": 0
      },
      "text/plain": [
       "HBox(children=(FloatProgress(value=1.0, bar_style='info', max=1.0), HTML(value='')))"
      ]
     },
     "metadata": {},
     "output_type": "display_data"
    },
    {
     "name": "stdout",
     "output_type": "stream",
     "text": [
      "\n"
     ]
    },
    {
     "data": {
      "application/vnd.jupyter.widget-view+json": {
       "model_id": "ed303001589d496096d57a9ad7f574f6",
       "version_major": 2,
       "version_minor": 0
      },
      "text/plain": [
       "HBox(children=(FloatProgress(value=1.0, bar_style='info', max=1.0), HTML(value='')))"
      ]
     },
     "metadata": {},
     "output_type": "display_data"
    },
    {
     "name": "stdout",
     "output_type": "stream",
     "text": [
      "\n"
     ]
    },
    {
     "data": {
      "application/vnd.jupyter.widget-view+json": {
       "model_id": "1050798fbf0241c4908b76f50d7ad705",
       "version_major": 2,
       "version_minor": 0
      },
      "text/plain": [
       "HBox(children=(FloatProgress(value=1.0, bar_style='info', max=1.0), HTML(value='')))"
      ]
     },
     "metadata": {},
     "output_type": "display_data"
    },
    {
     "name": "stdout",
     "output_type": "stream",
     "text": [
      "\n"
     ]
    },
    {
     "data": {
      "application/vnd.jupyter.widget-view+json": {
       "model_id": "1b4ad6297e0d4e6abb5a04ee4b59df3a",
       "version_major": 2,
       "version_minor": 0
      },
      "text/plain": [
       "HBox(children=(FloatProgress(value=1.0, bar_style='info', max=1.0), HTML(value='')))"
      ]
     },
     "metadata": {},
     "output_type": "display_data"
    },
    {
     "name": "stdout",
     "output_type": "stream",
     "text": [
      "\n"
     ]
    },
    {
     "data": {
      "application/vnd.jupyter.widget-view+json": {
       "model_id": "703f2fa810b24a79aed3c429c94f1a24",
       "version_major": 2,
       "version_minor": 0
      },
      "text/plain": [
       "HBox(children=(FloatProgress(value=1.0, bar_style='info', max=1.0), HTML(value='')))"
      ]
     },
     "metadata": {},
     "output_type": "display_data"
    },
    {
     "name": "stdout",
     "output_type": "stream",
     "text": [
      "\n"
     ]
    },
    {
     "data": {
      "application/vnd.jupyter.widget-view+json": {
       "model_id": "7f960ac025cf4e32bdddc2a25fd384ca",
       "version_major": 2,
       "version_minor": 0
      },
      "text/plain": [
       "HBox(children=(FloatProgress(value=1.0, bar_style='info', max=1.0), HTML(value='')))"
      ]
     },
     "metadata": {},
     "output_type": "display_data"
    },
    {
     "name": "stdout",
     "output_type": "stream",
     "text": [
      "\n"
     ]
    },
    {
     "data": {
      "application/vnd.jupyter.widget-view+json": {
       "model_id": "8f0fbf3f908e4410a52cec6cfddde316",
       "version_major": 2,
       "version_minor": 0
      },
      "text/plain": [
       "HBox(children=(FloatProgress(value=1.0, bar_style='info', max=1.0), HTML(value='')))"
      ]
     },
     "metadata": {},
     "output_type": "display_data"
    },
    {
     "name": "stdout",
     "output_type": "stream",
     "text": [
      "\n"
     ]
    },
    {
     "data": {
      "application/vnd.jupyter.widget-view+json": {
       "model_id": "c1c3ed5ee9264df7bd2ef8a84c3a2015",
       "version_major": 2,
       "version_minor": 0
      },
      "text/plain": [
       "HBox(children=(FloatProgress(value=1.0, bar_style='info', max=1.0), HTML(value='')))"
      ]
     },
     "metadata": {},
     "output_type": "display_data"
    },
    {
     "name": "stdout",
     "output_type": "stream",
     "text": [
      "\n"
     ]
    },
    {
     "data": {
      "application/vnd.jupyter.widget-view+json": {
       "model_id": "1bbd35abb9ae4dddaa99bdafd000fd72",
       "version_major": 2,
       "version_minor": 0
      },
      "text/plain": [
       "HBox(children=(FloatProgress(value=1.0, bar_style='info', max=1.0), HTML(value='')))"
      ]
     },
     "metadata": {},
     "output_type": "display_data"
    },
    {
     "name": "stdout",
     "output_type": "stream",
     "text": [
      "\n"
     ]
    },
    {
     "data": {
      "application/vnd.jupyter.widget-view+json": {
       "model_id": "d59a151929d34b4e965369eb221a6431",
       "version_major": 2,
       "version_minor": 0
      },
      "text/plain": [
       "HBox(children=(FloatProgress(value=1.0, bar_style='info', max=1.0), HTML(value='')))"
      ]
     },
     "metadata": {},
     "output_type": "display_data"
    },
    {
     "name": "stdout",
     "output_type": "stream",
     "text": [
      "\n"
     ]
    },
    {
     "data": {
      "application/vnd.jupyter.widget-view+json": {
       "model_id": "8e8b9a38b57448f3bf857bfd86d64801",
       "version_major": 2,
       "version_minor": 0
      },
      "text/plain": [
       "HBox(children=(FloatProgress(value=1.0, bar_style='info', max=1.0), HTML(value='')))"
      ]
     },
     "metadata": {},
     "output_type": "display_data"
    },
    {
     "name": "stdout",
     "output_type": "stream",
     "text": [
      "\n"
     ]
    },
    {
     "data": {
      "application/vnd.jupyter.widget-view+json": {
       "model_id": "85917f8eeba14c0a819a9d7fd19ef5d9",
       "version_major": 2,
       "version_minor": 0
      },
      "text/plain": [
       "HBox(children=(FloatProgress(value=1.0, bar_style='info', max=1.0), HTML(value='')))"
      ]
     },
     "metadata": {},
     "output_type": "display_data"
    },
    {
     "name": "stdout",
     "output_type": "stream",
     "text": [
      "\n"
     ]
    },
    {
     "data": {
      "application/vnd.jupyter.widget-view+json": {
       "model_id": "0af6e2561b1f47a5b42156e6c6f891f9",
       "version_major": 2,
       "version_minor": 0
      },
      "text/plain": [
       "HBox(children=(FloatProgress(value=1.0, bar_style='info', max=1.0), HTML(value='')))"
      ]
     },
     "metadata": {},
     "output_type": "display_data"
    },
    {
     "name": "stdout",
     "output_type": "stream",
     "text": [
      "\n"
     ]
    },
    {
     "data": {
      "application/vnd.jupyter.widget-view+json": {
       "model_id": "e241d1473d0e4431817c5e8f362f1f26",
       "version_major": 2,
       "version_minor": 0
      },
      "text/plain": [
       "HBox(children=(FloatProgress(value=1.0, bar_style='info', max=1.0), HTML(value='')))"
      ]
     },
     "metadata": {},
     "output_type": "display_data"
    },
    {
     "name": "stdout",
     "output_type": "stream",
     "text": [
      "\n"
     ]
    },
    {
     "data": {
      "application/vnd.jupyter.widget-view+json": {
       "model_id": "40c3d937e7bf4b3abf90faf9b5824a37",
       "version_major": 2,
       "version_minor": 0
      },
      "text/plain": [
       "HBox(children=(FloatProgress(value=1.0, bar_style='info', max=1.0), HTML(value='')))"
      ]
     },
     "metadata": {},
     "output_type": "display_data"
    },
    {
     "name": "stdout",
     "output_type": "stream",
     "text": [
      "\n"
     ]
    },
    {
     "data": {
      "application/vnd.jupyter.widget-view+json": {
       "model_id": "770c9a9671594542a4756dd57ac20ef7",
       "version_major": 2,
       "version_minor": 0
      },
      "text/plain": [
       "HBox(children=(FloatProgress(value=1.0, bar_style='info', max=1.0), HTML(value='')))"
      ]
     },
     "metadata": {},
     "output_type": "display_data"
    },
    {
     "name": "stdout",
     "output_type": "stream",
     "text": [
      "\n"
     ]
    },
    {
     "data": {
      "application/vnd.jupyter.widget-view+json": {
       "model_id": "cbdea9e38c504da0b4b8b8472b8553b1",
       "version_major": 2,
       "version_minor": 0
      },
      "text/plain": [
       "HBox(children=(FloatProgress(value=1.0, bar_style='info', max=1.0), HTML(value='')))"
      ]
     },
     "metadata": {},
     "output_type": "display_data"
    },
    {
     "name": "stdout",
     "output_type": "stream",
     "text": [
      "\n",
      "Epoch    46: reducing learning rate of group 0 to 4.0000e-06.\n"
     ]
    },
    {
     "data": {
      "application/vnd.jupyter.widget-view+json": {
       "model_id": "db9b883ae2ef4d2a9f95ed4800f66149",
       "version_major": 2,
       "version_minor": 0
      },
      "text/plain": [
       "HBox(children=(FloatProgress(value=1.0, bar_style='info', max=1.0), HTML(value='')))"
      ]
     },
     "metadata": {},
     "output_type": "display_data"
    },
    {
     "name": "stdout",
     "output_type": "stream",
     "text": [
      "\n"
     ]
    },
    {
     "data": {
      "application/vnd.jupyter.widget-view+json": {
       "model_id": "374a97448ce24b8aa830581905f161e7",
       "version_major": 2,
       "version_minor": 0
      },
      "text/plain": [
       "HBox(children=(FloatProgress(value=1.0, bar_style='info', max=1.0), HTML(value='')))"
      ]
     },
     "metadata": {},
     "output_type": "display_data"
    },
    {
     "name": "stdout",
     "output_type": "stream",
     "text": [
      "\n"
     ]
    },
    {
     "data": {
      "application/vnd.jupyter.widget-view+json": {
       "model_id": "96dcee4744984340a8a253923381c620",
       "version_major": 2,
       "version_minor": 0
      },
      "text/plain": [
       "HBox(children=(FloatProgress(value=1.0, bar_style='info', max=1.0), HTML(value='')))"
      ]
     },
     "metadata": {},
     "output_type": "display_data"
    },
    {
     "name": "stdout",
     "output_type": "stream",
     "text": [
      "\n"
     ]
    },
    {
     "data": {
      "application/vnd.jupyter.widget-view+json": {
       "model_id": "fca4e6c446ff44c79b9d0e2e9f8daa4b",
       "version_major": 2,
       "version_minor": 0
      },
      "text/plain": [
       "HBox(children=(FloatProgress(value=1.0, bar_style='info', max=1.0), HTML(value='')))"
      ]
     },
     "metadata": {},
     "output_type": "display_data"
    },
    {
     "name": "stdout",
     "output_type": "stream",
     "text": [
      "\n"
     ]
    },
    {
     "data": {
      "application/vnd.jupyter.widget-view+json": {
       "model_id": "4fc2660800124ef2b0cfc72468c38b54",
       "version_major": 2,
       "version_minor": 0
      },
      "text/plain": [
       "HBox(children=(FloatProgress(value=1.0, bar_style='info', max=1.0), HTML(value='')))"
      ]
     },
     "metadata": {},
     "output_type": "display_data"
    },
    {
     "name": "stdout",
     "output_type": "stream",
     "text": [
      "\n"
     ]
    },
    {
     "data": {
      "application/vnd.jupyter.widget-view+json": {
       "model_id": "bdb124e0a3f4406e8644f97cee85a89f",
       "version_major": 2,
       "version_minor": 0
      },
      "text/plain": [
       "HBox(children=(FloatProgress(value=1.0, bar_style='info', max=1.0), HTML(value='')))"
      ]
     },
     "metadata": {},
     "output_type": "display_data"
    },
    {
     "name": "stdout",
     "output_type": "stream",
     "text": [
      "\n"
     ]
    },
    {
     "data": {
      "application/vnd.jupyter.widget-view+json": {
       "model_id": "b52ca0a9638f487f9964fe01fed212a1",
       "version_major": 2,
       "version_minor": 0
      },
      "text/plain": [
       "HBox(children=(FloatProgress(value=1.0, bar_style='info', max=1.0), HTML(value='')))"
      ]
     },
     "metadata": {},
     "output_type": "display_data"
    },
    {
     "name": "stdout",
     "output_type": "stream",
     "text": [
      "\n"
     ]
    },
    {
     "data": {
      "application/vnd.jupyter.widget-view+json": {
       "model_id": "b2a0b54d0e28406ebf2fc11334ba6fe6",
       "version_major": 2,
       "version_minor": 0
      },
      "text/plain": [
       "HBox(children=(FloatProgress(value=1.0, bar_style='info', max=1.0), HTML(value='')))"
      ]
     },
     "metadata": {},
     "output_type": "display_data"
    },
    {
     "name": "stdout",
     "output_type": "stream",
     "text": [
      "\n",
      "\n"
     ]
    }
   ],
   "source": [
    "# import copy\n",
    "\n",
    "def train(net, train_loader, test_loader):\n",
    "    device = 'cuda:1' if torch.cuda.is_available() else 'cpu'\n",
    "    N = len(train_loader)\n",
    "    \n",
    "    net.to(device)\n",
    "    losses_train = AverageMeter()\n",
    "    losses_test = AverageMeter()\n",
    "    \n",
    "    best_test_loss = float(np.inf)\n",
    "#     best_model = copy.deepcopy(net)\n",
    "        \n",
    "    optimizer = torch.optim.Adam(net.parameters(), lr=1e-4, betas=(0.9, 0.999))\n",
    "    scheduler = torch.optim.lr_scheduler.ReduceLROnPlateau(optimizer, 'min', patience=8, verbose=True, factor=0.2)\n",
    "    l1_criterion = nn.L1Loss()\n",
    "    \n",
    "    \n",
    "    for epoch in trange(50):\n",
    "        net.train()\n",
    "        for i, sample_batched in tqdm(enumerate(train_loader)):\n",
    "            optimizer.zero_grad()\n",
    "#             Prepare sample and target\n",
    "#             rgb0 = sample_batched['rgb0'].to(device)\n",
    "#             rgb1 = sample_batched['rgb1'].to(device)\n",
    "#             depth0 = sample_batched['depth0'].to(device)\n",
    "#             depth1 = sample_batched['depth1'].to(device)\n",
    "        \n",
    "            # Predict on top down maps:\n",
    "            top_down0 = mapper.get_top_down_map(sample_batched['depth0'].squeeze(1).numpy())\n",
    "            top_down0 = torch.FloatTensor(top_down0).unsqueeze(1).to(device)\n",
    "            top_down1 = mapper.get_top_down_map(sample_batched['depth1'].squeeze(1).numpy())\n",
    "            top_down1 = torch.FloatTensor(top_down1).unsqueeze(1).to(device)\n",
    "            \n",
    "            in0 = torch.cat((top_down0, top_down0, top_down0), dim=1)\n",
    "            in1 = torch.cat((top_down1, top_down1, top_down1), dim=1)\n",
    "            \n",
    "            \n",
    "                \n",
    "            # Predict on depths\n",
    "#             depth0 = nn.functional.interpolate(depth0, (144, 256))\n",
    "#             depth1 = nn.functional.interpolate(depth0, (144, 256))\n",
    "            \n",
    "#             depth0 = torch.cat((depth0, depth0, depth0), dim=1)\n",
    "#             depth1 = torch.cat((depth1, depth1, depth1), dim=1)\n",
    "                       \n",
    "            compas = sample_batched['compas'].to(device)\n",
    "#             pred_T, pred_R = net.forward((rgb0, rgb1))\n",
    "            loc_dT, pred_R = net.forward((in0, in1))\n",
    "            to_glob = torch.tensor([[[torch.cos(fi), 0, -torch.sin(fi)],\n",
    "                                       [0, 1, 0], \n",
    "                                       [torch.sin(fi), 0, torch.cos(fi)]] for fi in compas])\n",
    "            to_glob = to_glob.to(device)\n",
    "#             print()\n",
    "            pred_T = torch.matmul(to_glob, loc_dT.unsqueeze(2)).squeeze(2)\n",
    "#             print(loc_dT.shape, to_glob.shape, pred_T.shape)\n",
    "            \n",
    "#             print(pred_T, sample_batched['d_gps'].to(device))\n",
    "#             print(pred_R, sample_batched['d_compas'].to(device))\n",
    "            loss_T = l1_criterion(pred_T, sample_batched['d_gps'].to(device))\n",
    "            loss_R = l1_criterion(pred_R, sample_batched['d_compas'].to(device))\n",
    "#             print(loss_T, loss_R)\n",
    "#             loss = loss_T + loss_R\n",
    "            loss = loss_T + loss_R\n",
    "#             losses_train.update(loss.data.item(), rgb0.size(0))\n",
    "            losses_train.update(loss.data.item(), in0.size(0))\n",
    "            \n",
    "            loss.backward()\n",
    "            optimizer.step()\n",
    "            \n",
    "        # Log progress\n",
    "#             niter = epoch*N+i\n",
    "#         if i % 5 == 0:\n",
    "            # Print to console\n",
    "#                 print('Epoch: [{0}][{1}/{2}] : train_loss = {loss.val:.4f} ({loss.avg:.4f})'.format(epoch, i, N, loss=losses_train))\n",
    "\n",
    "        # Log to WB\n",
    "        wandb.log({'Epoch': epoch, 'Train loss': losses_train.avg})\n",
    "        losses_train.reset()\n",
    "        \n",
    "        net.eval()\n",
    "        with torch.no_grad():\n",
    "            for j, sample_batched in tqdm(enumerate(test_loader)):\n",
    "\n",
    "                # Prepare sample and target\n",
    "#                 rgb0 = sample_batched['rgb0'].to(device)\n",
    "#                 rgb1 = sample_batched['rgb1'].to(device)\n",
    "#                 depth0 = sample_batched['depth0'].to(device)\n",
    "#                 depth1 = sample_batched['depth1'].to(device)\n",
    "                \n",
    "                # Predict on top down maps:\n",
    "                top_down0 = mapper.get_top_down_map(sample_batched['depth0'].squeeze(1).numpy())\n",
    "                top_down0 = torch.FloatTensor(top_down0).unsqueeze(1).to(device)\n",
    "                top_down1 = mapper.get_top_down_map(sample_batched['depth1'].squeeze(1).numpy())\n",
    "                top_down1 = torch.FloatTensor(top_down1).unsqueeze(1).to(device)\n",
    "\n",
    "                in0 = torch.cat((top_down0, top_down0, top_down0), dim=1)\n",
    "                in1 = torch.cat((top_down1, top_down1, top_down1), dim=1)\n",
    "                \n",
    "                # Predict on depths\n",
    "#                 depth0 = nn.functional.interpolate(depth0, (144, 256))\n",
    "#                 depth1 = nn.functional.interpolate(depth0, (144, 256))\n",
    "\n",
    "#                 depth0 = torch.cat((depth0, depth0, depth0), dim=1)\n",
    "#                 depth1 = torch.cat((depth1, depth1, depth1), dim=1)\n",
    "                       \n",
    "            \n",
    "                compas = sample_batched['compas'].to(device)\n",
    "#             pred_T, pred_R = net.forward((rgb0, rgb1))\n",
    "                loc_dT, pred_R = net.forward((in0, in1))\n",
    "                to_glob = torch.tensor([[[torch.cos(fi), 0, -torch.sin(fi)],\n",
    "                                       [0, 1, 0], \n",
    "                                       [torch.sin(fi), 0, torch.cos(fi)]] for fi in compas])\n",
    "                to_glob = to_glob.to(device)\n",
    "                pred_T = torch.matmul(to_glob, loc_dT.unsqueeze(2)).squeeze(2) \n",
    "\n",
    "                loss_T = l1_criterion(pred_T, sample_batched['d_gps'].to(device))\n",
    "                loss_R = l1_criterion(pred_R, sample_batched['d_compas'].to(device))\n",
    "                loss_T_abs = loss_T / sample_batched['d_gps'].to(device).abs().mean()\n",
    "                loss_R_abs = loss_R / sample_batched['d_compas'].to(device).abs().mean()\n",
    "#                 loss = loss_T + loss_R\n",
    "                loss = loss_T\n",
    "#                 losses_test.update(loss.data.item(), rgb0.size(0))\n",
    "                losses_test.update(loss.data.item(), in0.size(0))\n",
    "\n",
    "#             if losses_test.avg < best_test_loss:\n",
    "# #                         torch.save(net.state_dict(), os.path.join(wandb.run.dir, 'model.pt'))\n",
    "# #                         torch.save(net.state_dict(), \"model.pt\")\n",
    "#                 wandb.save('model.pt')\n",
    "# #                         torch.save(net.state_dict(), 'best_net.pt')\n",
    "# #                         best_model = copy.deepcopy(net)\n",
    "#                 best_test_loss = losses_test.avg\n",
    "            # Print to console\n",
    "#                 print('Epoch: [{0}][{1}/{2}] : test_loss = {loss.avg:.4f}'.format(epoch, i, N, loss=losses_test))\n",
    "\n",
    "        # Log to WB\n",
    "        wandb.log({'Epoch': epoch, 'Test loss': losses_test.avg,\n",
    "                   'Reletive gps loss': loss_T_abs, 'Reletive compas loss': loss_R_abs})\n",
    "#                 print(loss_T_abs, loss_R_abs)\n",
    "        \n",
    "        scheduler.step(losses_test.avg)\n",
    "        losses_test.reset()\n",
    "            \n",
    "\n",
    "    return net\n",
    "\n",
    "net = train(net, train_data, test_data)"
   ]
  },
  {
   "cell_type": "code",
   "execution_count": 18,
   "metadata": {},
   "outputs": [
    {
     "name": "stdout",
     "output_type": "stream",
     "text": [
      "\n"
     ]
    }
   ],
   "source": [
    "for j, sample_batched in enumerate(train_data):\n",
    "    compas = sample_batched['compas']\n",
    "    print()\n",
    "    break"
   ]
  },
  {
   "cell_type": "code",
   "execution_count": 23,
   "metadata": {},
   "outputs": [
    {
     "name": "stdout",
     "output_type": "stream",
     "text": [
      "Compas tensor([[0.0125],\n",
      "        [0.0125],\n",
      "        [0.0125],\n",
      "        [0.0125],\n",
      "        [0.0125],\n",
      "        [0.0125],\n",
      "        [0.0125],\n",
      "        [0.0125],\n",
      "        [0.0125],\n",
      "        [0.0125],\n",
      "        [0.0125],\n",
      "        [0.0125],\n",
      "        [0.0125],\n",
      "        [0.0125],\n",
      "        [0.0125],\n",
      "        [0.0125]], device='cuda:1', grad_fn=<AddmmBackward>) tensor([[-0.2792],\n",
      "        [ 0.1283],\n",
      "        [ 0.1442],\n",
      "        [ 0.2735],\n",
      "        [ 0.0022],\n",
      "        [ 0.2325],\n",
      "        [ 0.1327],\n",
      "        [-0.1656],\n",
      "        [-0.1858],\n",
      "        [ 0.3054],\n",
      "        [ 0.0436],\n",
      "        [ 0.2072],\n",
      "        [ 0.0904],\n",
      "        [-0.1990],\n",
      "        [-0.2497],\n",
      "        [-0.2488]])\n",
      "Gps tensor([[ 0.0012, -0.0003, -0.0029],\n",
      "        [ 0.0013, -0.0003, -0.0028],\n",
      "        [ 0.0016, -0.0003, -0.0027],\n",
      "        [ 0.0009, -0.0003, -0.0030],\n",
      "        [ 0.0012, -0.0003, -0.0029],\n",
      "        [ 0.0026, -0.0003, -0.0017],\n",
      "        [ 0.0010, -0.0003, -0.0030],\n",
      "        [ 0.0012, -0.0003, -0.0029],\n",
      "        [ 0.0003, -0.0003, -0.0031],\n",
      "        [ 0.0007, -0.0003, -0.0030],\n",
      "        [-0.0006, -0.0003, -0.0031],\n",
      "        [ 0.0006, -0.0003, -0.0031],\n",
      "        [ 0.0017, -0.0003, -0.0026],\n",
      "        [ 0.0012, -0.0003, -0.0029],\n",
      "        [ 0.0022, -0.0003, -0.0022],\n",
      "        [ 0.0012, -0.0003, -0.0029]], device='cuda:1',\n",
      "       grad_fn=<SqueezeBackward1>) tensor([[ 0.0000e+00,  0.0000e+00,  0.0000e+00],\n",
      "        [ 0.0000e+00,  0.0000e+00,  0.0000e+00],\n",
      "        [ 0.0000e+00,  0.0000e+00,  0.0000e+00],\n",
      "        [-2.8186e-02,  0.0000e+00,  1.6412e-02],\n",
      "        [ 5.6798e-02,  0.0000e+00, -2.5706e-01],\n",
      "        [ 5.5416e-03,  0.0000e+00,  3.1292e-04],\n",
      "        [-2.8381e-02,  1.9372e-07,  3.6200e-03],\n",
      "        [ 3.5321e-02,  0.0000e+00,  4.2880e-03],\n",
      "        [-4.4352e-03,  0.0000e+00, -2.1046e-02],\n",
      "        [ 1.9869e-02,  0.0000e+00,  1.7191e-02],\n",
      "        [-7.2778e-02,  0.0000e+00, -2.6305e-01],\n",
      "        [-5.7784e-02,  1.9372e-07,  7.0584e-03],\n",
      "        [ 1.9159e-02,  0.0000e+00, -2.3958e-01],\n",
      "        [-2.9202e-02,  0.0000e+00, -8.2529e-03],\n",
      "        [ 2.2352e-07,  0.0000e+00,  5.9605e-08],\n",
      "        [-1.1447e-02,  0.0000e+00,  1.3012e-02]])\n",
      "Compas tensor([[0.0125],\n",
      "        [0.0125],\n",
      "        [0.0125],\n",
      "        [0.0125],\n",
      "        [0.0125],\n",
      "        [0.0125],\n",
      "        [0.0125],\n",
      "        [0.0125],\n",
      "        [0.0125],\n",
      "        [0.0125],\n",
      "        [0.0125],\n",
      "        [0.0125],\n",
      "        [0.0125],\n",
      "        [0.0125],\n",
      "        [0.0125],\n",
      "        [0.0125]], device='cuda:1', grad_fn=<AddmmBackward>) tensor([[ 0.1199],\n",
      "        [ 0.1831],\n",
      "        [ 0.2362],\n",
      "        [ 0.0509],\n",
      "        [-0.0434],\n",
      "        [ 0.2427],\n",
      "        [ 0.0395],\n",
      "        [-0.0183],\n",
      "        [-0.1494],\n",
      "        [-0.2329],\n",
      "        [-0.2617],\n",
      "        [-0.0889],\n",
      "        [ 0.1362],\n",
      "        [ 0.0631],\n",
      "        [-0.2126],\n",
      "        [ 0.0132]])\n",
      "Gps tensor([[ 0.0012, -0.0003, -0.0029],\n",
      "        [ 0.0013, -0.0003, -0.0028],\n",
      "        [ 0.0016, -0.0003, -0.0027],\n",
      "        [ 0.0009, -0.0003, -0.0030],\n",
      "        [ 0.0012, -0.0003, -0.0029],\n",
      "        [ 0.0026, -0.0003, -0.0017],\n",
      "        [ 0.0010, -0.0003, -0.0030],\n",
      "        [ 0.0012, -0.0003, -0.0029],\n",
      "        [ 0.0003, -0.0003, -0.0031],\n",
      "        [ 0.0007, -0.0003, -0.0030],\n",
      "        [-0.0006, -0.0003, -0.0031],\n",
      "        [ 0.0006, -0.0003, -0.0031],\n",
      "        [ 0.0017, -0.0003, -0.0026],\n",
      "        [ 0.0012, -0.0003, -0.0029],\n",
      "        [ 0.0022, -0.0003, -0.0022],\n",
      "        [ 0.0012, -0.0003, -0.0029]], device='cuda:1',\n",
      "       grad_fn=<SqueezeBackward1>) tensor([[ 9.9698e-03,  1.9372e-07, -3.4437e-02],\n",
      "        [ 2.8775e-02,  1.9372e-07,  6.3477e-03],\n",
      "        [-1.3119e-02,  0.0000e+00,  2.2288e-02],\n",
      "        [ 0.0000e+00,  0.0000e+00,  0.0000e+00],\n",
      "        [ 1.8538e-02,  1.9372e-07, -2.4471e-01],\n",
      "        [ 1.8268e-02,  1.9372e-07,  2.8403e-02],\n",
      "        [-1.0706e-02,  0.0000e+00, -2.2918e-01],\n",
      "        [ 0.0000e+00,  0.0000e+00,  0.0000e+00],\n",
      "        [-3.1939e-03,  1.9372e-07,  1.9856e-03],\n",
      "        [ 1.9005e-02,  0.0000e+00,  5.1821e-03],\n",
      "        [-9.0180e-03,  0.0000e+00, -3.9385e-03],\n",
      "        [-4.8972e-04,  0.0000e+00, -2.2466e-01],\n",
      "        [-6.6276e-02,  1.9372e-07, -1.2923e-02],\n",
      "        [ 0.0000e+00,  0.0000e+00,  0.0000e+00],\n",
      "        [ 1.6544e-02,  0.0000e+00, -3.0229e-02],\n",
      "        [ 1.2945e-01,  0.0000e+00, -2.7066e-01]])\n",
      "Compas tensor([[0.0125],\n",
      "        [0.0125],\n",
      "        [0.0125],\n",
      "        [0.0125],\n",
      "        [0.0125],\n",
      "        [0.0125],\n",
      "        [0.0125],\n",
      "        [0.0125],\n",
      "        [0.0125],\n",
      "        [0.0125],\n",
      "        [0.0125],\n",
      "        [0.0125],\n",
      "        [0.0125],\n",
      "        [0.0125],\n",
      "        [0.0125],\n",
      "        [0.0125]], device='cuda:1', grad_fn=<AddmmBackward>) tensor([[ 0.1969],\n",
      "        [ 0.1846],\n",
      "        [-0.2124],\n",
      "        [ 0.1980],\n",
      "        [-0.1203],\n",
      "        [-0.0860],\n",
      "        [-0.2146],\n",
      "        [-0.1968],\n",
      "        [-0.1557],\n",
      "        [ 0.0982],\n",
      "        [-0.1621],\n",
      "        [-0.1799],\n",
      "        [-0.1873],\n",
      "        [ 0.2273],\n",
      "        [-0.1147],\n",
      "        [ 0.0599]])\n",
      "Gps tensor([[ 0.0012, -0.0003, -0.0029],\n",
      "        [ 0.0013, -0.0003, -0.0028],\n",
      "        [ 0.0016, -0.0003, -0.0027],\n",
      "        [ 0.0009, -0.0003, -0.0030],\n",
      "        [ 0.0012, -0.0003, -0.0029],\n",
      "        [ 0.0026, -0.0003, -0.0017],\n",
      "        [ 0.0010, -0.0003, -0.0030],\n",
      "        [ 0.0012, -0.0003, -0.0029],\n",
      "        [ 0.0003, -0.0003, -0.0031],\n",
      "        [ 0.0007, -0.0003, -0.0030],\n",
      "        [-0.0006, -0.0003, -0.0031],\n",
      "        [ 0.0006, -0.0003, -0.0031],\n",
      "        [ 0.0017, -0.0003, -0.0026],\n",
      "        [ 0.0012, -0.0003, -0.0029],\n",
      "        [ 0.0022, -0.0003, -0.0022],\n",
      "        [ 0.0012, -0.0003, -0.0029]], device='cuda:1',\n",
      "       grad_fn=<SqueezeBackward1>) tensor([[-3.0611e-02,  0.0000e+00,  2.3552e-02],\n",
      "        [ 9.1980e-02,  0.0000e+00, -2.1043e-01],\n",
      "        [ 9.2251e-03,  0.0000e+00,  8.2220e-03],\n",
      "        [ 2.0022e-02,  0.0000e+00,  5.3413e-03],\n",
      "        [-1.4555e-02,  0.0000e+00,  1.5172e-02],\n",
      "        [ 9.9298e-03,  0.0000e+00, -1.2203e-01],\n",
      "        [-7.9940e-03,  1.9372e-07,  4.2023e-02],\n",
      "        [-1.2692e-02,  0.0000e+00,  3.7977e-03],\n",
      "        [ 5.0804e-03,  0.0000e+00, -1.5459e-02],\n",
      "        [ 1.0944e-01,  1.9372e-07, -2.8288e-01],\n",
      "        [ 0.0000e+00,  0.0000e+00,  0.0000e+00],\n",
      "        [-7.5943e-03,  1.9372e-07,  3.9247e-03],\n",
      "        [-6.2535e-03,  0.0000e+00,  1.8755e-02],\n",
      "        [ 0.0000e+00,  0.0000e+00,  0.0000e+00],\n",
      "        [-8.8504e-04,  0.0000e+00, -2.0855e-03],\n",
      "        [ 7.6546e-02,  1.9372e-07, -2.6714e-01]])\n"
     ]
    }
   ],
   "source": [
    "n = 2\n",
    "net.eval()\n",
    "device = 'cuda:1' if torch.cuda.is_available() else 'cpu'\n",
    "for i, sample_batched in enumerate(train_data):\n",
    "    top_down0 = mapper.get_top_down_map(sample_batched['depth0'].squeeze(1).numpy())\n",
    "    top_down0 = torch.FloatTensor(top_down0).unsqueeze(1).to(device)\n",
    "    top_down1 = mapper.get_top_down_map(sample_batched['depth1'].squeeze(1).numpy())\n",
    "    top_down1 = torch.FloatTensor(top_down1).unsqueeze(1).to(device)\n",
    "\n",
    "    in0 = torch.cat((top_down0, top_down0, top_down0), dim=1)\n",
    "    in1 = torch.cat((top_down1, top_down1, top_down1), dim=1)\n",
    "    loc_dT, pred_R = net.forward((in0, in1))\n",
    "    to_glob = torch.tensor([[[torch.cos(fi), 0, -torch.sin(fi)],\n",
    "                           [0, 1, 0], \n",
    "                           [torch.sin(fi), 0, torch.cos(fi)]] for fi in compas])\n",
    "    to_glob = to_glob.to(device)\n",
    "    pred_T = torch.matmul(to_glob, loc_dT.unsqueeze(2)).squeeze(2)\n",
    "    print('Compas', pred_R, sample_batched['d_compas'])\n",
    "    print('Gps', pred_T, sample_batched['d_gps'])\n",
    "    if i >= n: \n",
    "        break"
   ]
  },
  {
   "cell_type": "code",
   "execution_count": null,
   "metadata": {},
   "outputs": [],
   "source": [
    "a = torch.rand((10, 2), requires_grad=True)\n",
    "c = torch.rand(1, requires_grad=True)"
   ]
  },
  {
   "cell_type": "code",
   "execution_count": null,
   "metadata": {},
   "outputs": [],
   "source": [
    "nn.ELU(inplace=True)(torch.FloatTensor([0.1, -0.1, -10]))"
   ]
  },
  {
   "cell_type": "markdown",
   "metadata": {},
   "source": [
    "#### Create pretrained ppo agent to perform actions in environment\n"
   ]
  },
  {
   "cell_type": "code",
   "execution_count": null,
   "metadata": {},
   "outputs": [],
   "source": [
    "from habitat_baselines.agents.ppo_agents import PPOAgent, get_default_config\n",
    "agent_config = get_default_config()\n",
    "agent_config.INPUT_TYPE = \"rgbd\"\n",
    "agent_config.MODEL_PATH = \"./data/agents/rgbd.pth\"\n",
    "agent = PPOAgent(agent_config)\n",
    "agent.reset()"
   ]
  },
  {
   "cell_type": "markdown",
   "metadata": {},
   "source": [
    "#### Define training loop and helpfull augmentations"
   ]
  },
  {
   "cell_type": "code",
   "execution_count": null,
   "metadata": {},
   "outputs": [],
   "source": [
    "def train(net, X_train, y_train, losses_train, epoch):\n",
    "        \n",
    "    optimizer = torch.optim.Adam(net.parameters(), lr=1e-5, betas=(0.9, 0.999))\n",
    "    l1_criterion = nn.L1Loss()\n",
    "    \n",
    "    ###Train loop\n",
    "    for i in range(epoch):\n",
    "        optimizer.zero_grad()\n",
    "        net.train()\n",
    "\n",
    "        image = torch.autograd.Variable(X_train.to(device))\n",
    "        depth = torch.autograd.Variable(y_train.to(device, non_blocking=True))\n",
    "\n",
    "        # Normalize depth\n",
    "        depth_n = DepthNorm(depth)\n",
    "\n",
    "        output = net.forward(image)\n",
    "        output = nn.functional.interpolate(output, (256, 256))\n",
    "\n",
    "        l_depth = l1_criterion(output, depth_n)\n",
    "        l_ssim = torch.clamp((1 - ssim(output, depth_n, val_range = 1000.0 / 10.0)) * 0.5, 0, 1)\n",
    "        loss = (1.0 * l_ssim) + (0.1 * l_depth)\n",
    "        losses_train.update(loss.data.item(), image.size(0))\n",
    "\n",
    "        loss.backward()\n",
    "        optimizer.step()\n",
    "    \n",
    "    ###\n",
    "    return net, losses_train\n",
    "\n",
    "class RandomHorizontalFlip:\n",
    "    def __call__(self, sample):\n",
    "        image, depth = sample['rgb'], sample['depth']\n",
    "        \n",
    "        if random.random() < 0.5:\n",
    "            image = np.flip(image, 1)\n",
    "            depth = np.flip(depth, 1)\n",
    "        \n",
    "        return {'rgb': image, 'depth': depth}\n",
    "\n",
    "class RandomChannelSwap:\n",
    "    def __init__(self, probability):\n",
    "        from itertools import permutations\n",
    "        self.probability = probability\n",
    "        self.indices = list(permutations(range(3), 3))\n",
    "    \n",
    "    def __call__(self, sample):\n",
    "        image, depth = sample['rgb'], sample['depth']\n",
    "\n",
    "        if random.random() < self.probability:\n",
    "            image = image[...,list(self.indices[random.randint(0, len(self.indices) -1)])]\n",
    "        \n",
    "        return {'rgb': image, 'depth': depth}"
   ]
  },
  {
   "cell_type": "code",
   "execution_count": null,
   "metadata": {},
   "outputs": [],
   "source": [
    "observations = envs.reset()\n",
    "\n",
    "X_train = []\n",
    "y_train = []\n",
    "epoch = 2\n",
    "\n",
    "\n",
    "l1_criterion = nn.L1Loss()\n",
    "losses_train = AverageMeter()\n",
    "losses_test = AverageMeter()\n",
    "best_test_loss = float(np.inf)\n",
    "\n",
    "for i in tqdm(range(1000000)):\n",
    "    \n",
    "    \n",
    "    actions = []\n",
    "    for observ in observations: \n",
    "        action = agent.act(observ)\n",
    "        actions.append(action['action'])\n",
    "        \n",
    "        observ = RandomChannelSwap(0.5)(RandomHorizontalFlip()(observ))\n",
    "        observ['depth'] = np.clip(observ['depth'] * 1000, 10, 1000)\n",
    "        \n",
    "        X_train.append(np.swapaxes(observ['rgb'],0,1)/255)\n",
    "        y_train.append(np.swapaxes(observ['depth'],0,1))\n",
    "\n",
    "    if (i + 1) % 8 == 0:\n",
    "        X_train = torch.FloatTensor(X_train).permute(0, 3, 2, 1)\n",
    "        y_train = torch.FloatTensor(y_train).permute(0, 3, 2, 1)\n",
    "        \n",
    "        \n",
    "        net, losses_train = train(net, X_train, y_train, losses_train, epoch)\n",
    "\n",
    "        ###\n",
    "        if i % 2 == 1:\n",
    "            print('epoch {} : train_loss = {}'.format(i, losses_train.avg))\n",
    "            wandb.log({'Iteration': i, 'Online train loss': losses_train.val})\n",
    "        \n",
    "        losses_train.reset()\n",
    "        X_train = []\n",
    "        y_train = []\n",
    "        \n",
    "    if (i) % 300 == 0:\n",
    "        with torch.no_grad():\n",
    "            net.eval()\n",
    "\n",
    "            for sample_batched in tqdm(test_data):\n",
    "            \n",
    "                image = torch.autograd.Variable(sample_batched['image'].to(device))\n",
    "                depth = torch.autograd.Variable(sample_batched['depth'].to(device, non_blocking=True))\n",
    "\n",
    "                # Normalize depth\n",
    "\n",
    "                output = DepthNorm(net.forward(image))\n",
    "                output = nn.functional.interpolate(output, (256, 256))\n",
    "                \n",
    "                l_depth = l1_criterion(output, depth)\n",
    "                l_ssim = torch.clamp((1 - ssim(output, depth, val_range = 1000.0 / 10.0)) * 0.5, 0, 1)\n",
    "                loss = (1.0 * l_ssim) + (0.1 * l_depth)\n",
    "                losses_test.update(loss.data.item(), image.size(0))\n",
    "                \n",
    "            ### Image save\n",
    "\n",
    "            scen_num = np.random.randint(batch_size)\n",
    "            for d in test_data:\n",
    "                x = d['image'][scen_num]\n",
    "                y = d['depth'][scen_num] / 1000\n",
    "                x = x.permute(1,2,0)\n",
    "                y = y.permute(1,2,0)\n",
    "                break\n",
    "\n",
    "            d = d['image'].to(device)\n",
    "            my_depth = net.forward(d)\n",
    "            my_depth = nn.functional.interpolate(my_depth, (256, 256))\n",
    "            my_depth = my_depth.permute(0, 2, 3, 1)\n",
    "            my_depth_numpy = my_depth.cpu().detach().numpy()[scen_num]\n",
    "\n",
    "            fig = plt.figure(figsize=(15,15))\n",
    "            a = fig.add_subplot(1, 3, 1)\n",
    "            imgplot = plt.imshow(x)\n",
    "            a.set_title('Img')\n",
    "            a = fig.add_subplot(1, 3, 2)\n",
    "            imgplot = plt.imshow(np.concatenate((y, y, y), axis=2))\n",
    "            a.set_title('True_depth')\n",
    "            a = fig.add_subplot(1, 3, 3)\n",
    "            imgplot = plt.imshow(np.concatenate((1/my_depth_numpy, 1/my_depth_numpy, 1/my_depth_numpy), axis=2))\n",
    "            a.set_title('Predict_depth')\n",
    "            \n",
    "            wandb.log({'Iteration': i, 'Online example depth': wandb.Image(fig)})\n",
    "\n",
    "            ###\n",
    "        print('epoch {} : test_loss = {}'.format(i, losses_test.avg))\n",
    "        wandb.log({'Iteration': i, 'Online test loss': losses_test.avg})\n",
    "\n",
    "        if losses_test.avg < best_test_loss:\n",
    "            torch.save(net.state_dict(), \"online_model.pt\")\n",
    "            wandb.save('online_model.pt')\n",
    "            best_test_loss = losses_test.avg\n",
    "        losses_test.reset()\n",
    "    \n",
    "    actions = np.array(actions)\n",
    "    actions = (actions + 1) % 4\n",
    "    observations = envs.step(actions)"
   ]
  },
  {
   "cell_type": "code",
   "execution_count": null,
   "metadata": {},
   "outputs": [],
   "source": []
  },
  {
   "cell_type": "code",
   "execution_count": null,
   "metadata": {},
   "outputs": [],
   "source": []
  }
 ],
 "metadata": {
  "kernelspec": {
   "display_name": "Python 3",
   "language": "python",
   "name": "python3"
  },
  "language_info": {
   "codemirror_mode": {
    "name": "ipython",
    "version": 3
   },
   "file_extension": ".py",
   "mimetype": "text/x-python",
   "name": "python",
   "nbconvert_exporter": "python",
   "pygments_lexer": "ipython3",
   "version": "3.6.10"
  }
 },
 "nbformat": 4,
 "nbformat_minor": 4
}
