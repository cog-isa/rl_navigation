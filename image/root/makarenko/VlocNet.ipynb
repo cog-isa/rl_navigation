{
 "cells": [
  {
   "cell_type": "code",
   "execution_count": 1,
   "metadata": {},
   "outputs": [
    {
     "name": "stdout",
     "output_type": "stream",
     "text": [
      "ln: failed to create symbolic link '/habitat-api/data/data': File exists\n"
     ]
    }
   ],
   "source": [
    "!ln -s /data /habitat-api/data"
   ]
  },
  {
   "cell_type": "code",
   "execution_count": 2,
   "metadata": {},
   "outputs": [],
   "source": [
    "import habitat\n",
    "import numpy as np\n",
    "from tqdm.notebook import tqdm, trange\n",
    "import torch\n",
    "import matplotlib.pyplot as plt\n",
    "import random\n",
    "import torch.nn as nn\n",
    "# from tensorboardX import SummaryWriter\n",
    "from Vec_env import create_envs\n",
    "from Model import VLocNetPretrained, VLocNet\n",
    "from Utils import AverageMeter, DepthNorm\n",
    "from Data import getTrainTestData\n",
    "from Loss import ssim\n",
    "import wandb\n",
    "import os\n",
    "from map_builder import MapBuilder\n",
    "import skimage.morphology"
   ]
  },
  {
   "cell_type": "code",
   "execution_count": 3,
   "metadata": {},
   "outputs": [
    {
     "name": "stdout",
     "output_type": "stream",
     "text": [
      "/habitat-api\n",
      "CODE_OF_CONDUCT.md  README.md  \u001b[0m\u001b[01;34mhabitat\u001b[0m/            \u001b[01;34mres\u001b[0m/\n",
      "CONTRIBUTING.md     \u001b[01;34mconfigs\u001b[0m/   \u001b[01;34mhabitat.egg-info\u001b[0m/   setup.cfg\n",
      "Dockerfile          \u001b[01;36mdata\u001b[0m@      \u001b[01;34mhabitat_baselines\u001b[0m/  setup.py\n",
      "LICENSE             \u001b[01;34mdocs\u001b[0m/      pyproject.toml      \u001b[01;34mtest\u001b[0m/\n",
      "MANIFEST.in         \u001b[01;34mexamples\u001b[0m/  requirements.txt    \u001b[01;34mwandb\u001b[0m/\n"
     ]
    }
   ],
   "source": [
    "%cd ../../../habitat-api/\n",
    "%ls"
   ]
  },
  {
   "cell_type": "markdown",
   "metadata": {},
   "source": [
    "#### Create vector of envs for parallel online training"
   ]
  },
  {
   "cell_type": "code",
   "execution_count": 4,
   "metadata": {},
   "outputs": [],
   "source": [
    "H = 360\n",
    "W = 640\n",
    "#----- Previous pointnav config\n",
    "# config = habitat.get_config(config_paths='configs/tasks/pointnav_gibson.yaml')\n",
    "# config.defrost()\n",
    "# config.SIMULATOR.AGENT_0.SENSORS = ['RGB_SENSOR',  'DEPTH_SENSOR']\n",
    "# config.SIMULATOR.RGB_SENSOR.HEIGHT = H\n",
    "# config.SIMULATOR.RGB_SENSOR.WIDTH = W\n",
    "# config.SIMULATOR.DEPTH_SENSOR.HEIGHT = H\n",
    "# config.SIMULATOR.DEPTH_SENSOR.WIDTH = W\n",
    "# config.TASK.SENSORS = [\"HEADING_SENSOR\", \"COMPASS_SENSOR\", \"GPS_SENSOR\", \"POINTGOAL_SENSOR\", \"POINTGOAL_WITH_GPS_COMPASS_SENSOR\"]\n",
    "# config.TASK.POINTGOAL_WITH_GPS_COMPASS_SENSOR.DIMENSIONALITY = 3\n",
    "# config.TASK.POINTGOAL_WITH_GPS_COMPASS_SENSOR.GOAL_FORMAT = \"CARTESIAN\"\n",
    "# config.TASK.POINTGOAL_SENSOR.DIMENSIONALITY = 3\n",
    "# config.TASK.POINTGOAL_SENSOR.GOAL_FORMAT = \"CARTESIAN\"\n",
    "# config.TASK.GPS_SENSOR.DIMENSIONALITY = 3\n",
    "# config.TASK.GPS_SENSOR.GOAL_FORMAT = \"CARTESIAN\"\n",
    "# # config.DATASET.DATA_PATH = 'data/datasets/pointnav/gibson/v1/val/val.json.gz'\n",
    "# config.freeze()\n",
    "# envs = create_envs(1, config)"
   ]
  },
  {
   "cell_type": "code",
   "execution_count": 5,
   "metadata": {},
   "outputs": [],
   "source": [
    "# config_paths=\"./data/habitat-challenge/habitat-challenge-data/challenge_pointnav2020.local.rgbd.yaml\"\n",
    "# config = habitat.get_config(config_paths=config_paths)\n",
    "# config.defrost()\n",
    "# config.SIMULATOR.RGB_SENSOR.HEIGHT = H\n",
    "# config.SIMULATOR.RGB_SENSOR.WIDTH = W\n",
    "# # config.SIMULATOR.AGENT_0.RADIUS = 0\n",
    "# # config.SIMULATOR.NOISE_MODEL.NOISE_MULTIPLIER = 0\n",
    "# # config.SIMULATOR.RGB_SENSOR.POSITION = [0, 0, 0]\n",
    "# # config.SIMULATOR.DEPTH_SENSOR.POSITION = [0, 0, 0]\n",
    "# config.SIMULATOR.DEPTH_SENSOR.HEIGHT = H\n",
    "# config.SIMULATOR.DEPTH_SENSOR.WIDTH = W\n",
    "# config.DATASET.DATA_PATH = './data/datasets/pointnav/gibson/v1/{split}/{split}.json.gz'\n",
    "# config.DATASET.SPLIT = 'val'\n",
    "# config.DATASET.SCENES_DIR = '/data/scene_datasets/'\n",
    "# config.TASK.MEASUREMENTS.append(\"TOP_DOWN_MAP\")\n",
    "# config.TASK.SENSORS = [\"HEADING_SENSOR\", \"COMPASS_SENSOR\", \"GPS_SENSOR\", \"POINTGOAL_SENSOR\", \"POINTGOAL_WITH_GPS_COMPASS_SENSOR\"]\n",
    "# config.TASK.POINTGOAL_WITH_GPS_COMPASS_SENSOR.DIMENSIONALITY = 3\n",
    "# config.TASK.POINTGOAL_WITH_GPS_COMPASS_SENSOR.GOAL_FORMAT = \"CARTESIAN\"\n",
    "# config.TASK.POINTGOAL_SENSOR.DIMENSIONALITY = 3\n",
    "# config.TASK.POINTGOAL_SENSOR.GOAL_FORMAT = \"CARTESIAN\"\n",
    "# config.TASK.GPS_SENSOR.DIMENSIONALITY = 3\n",
    "# config.TASK.GPS_SENSOR.GOAL_FORMAT = \"CARTESIAN\"\n",
    "# config.freeze()\n",
    "# envs = create_envs(1, config)"
   ]
  },
  {
   "cell_type": "code",
   "execution_count": 6,
   "metadata": {},
   "outputs": [],
   "source": [
    "def build_mapper():\n",
    "        params = {}\n",
    "        params['frame_width'] = 640\n",
    "        params['frame_height'] = 360\n",
    "        params['fov'] =  70\n",
    "        params['resolution'] = 5\n",
    "        params['map_size_cm'] = 2400\n",
    "        params['agent_min_z'] = 25\n",
    "        params['agent_max_z'] = 150\n",
    "        params['agent_height'] = 0.88 * 100\n",
    "        params['agent_view_angle'] = 0\n",
    "        params['du_scale'] = 1\n",
    "        params['vision_range'] = 64\n",
    "        params['visualize'] = 0\n",
    "        params['obs_threshold'] = 1\n",
    "        obstacle_boundary = 5\n",
    "        mapper = MapBuilder(params)\n",
    "        return mapper\n",
    "\n",
    "mapper = build_mapper()"
   ]
  },
  {
   "cell_type": "code",
   "execution_count": 7,
   "metadata": {},
   "outputs": [],
   "source": [
    "# envs.reset()"
   ]
  },
  {
   "cell_type": "code",
   "execution_count": 8,
   "metadata": {},
   "outputs": [
    {
     "name": "stdout",
     "output_type": "stream",
     "text": [
      "CODE_OF_CONDUCT.md  MANIFEST.in  docs\t\t   habitat_baselines  setup.cfg\n",
      "CONTRIBUTING.md     README.md\t examples\t   pyproject.toml     setup.py\n",
      "Dockerfile\t    configs\t habitat\t   requirements.txt   test\n",
      "LICENSE\t\t    data\t habitat.egg-info  res\t\t      wandb\n"
     ]
    }
   ],
   "source": [
    "!ls "
   ]
  },
  {
   "cell_type": "code",
   "execution_count": 9,
   "metadata": {},
   "outputs": [
    {
     "name": "stdout",
     "output_type": "stream",
     "text": [
      "0.14147973\n"
     ]
    }
   ],
   "source": [
    "path_to_csv = './data/Odom_data/Train/train.csv'\n",
    "with open(path_to_csv, mode='r') as csv_file:\n",
    "        for row in csv_file:\n",
    "            row = row.strip()\n",
    "#             print(np.array(list(map(np.float, row.split(',')[5].strip('[]')))) + 1)\n",
    "            print(np.float(row.split(',')[5].strip('[]')))\n",
    "            break"
   ]
  },
  {
   "cell_type": "markdown",
   "metadata": {},
   "source": [
    "#### Create net"
   ]
  },
  {
   "cell_type": "code",
   "execution_count": 10,
   "metadata": {},
   "outputs": [],
   "source": [
    "net = VLocNetPretrained()"
   ]
  },
  {
   "cell_type": "code",
   "execution_count": 11,
   "metadata": {},
   "outputs": [
    {
     "name": "stdout",
     "output_type": "stream",
     "text": [
      "cuda:0\n"
     ]
    }
   ],
   "source": [
    "device = torch.device('cuda:0' if torch.cuda.is_available() else 'cpu')\n",
    "net.to(device)\n",
    "print(device)"
   ]
  },
  {
   "cell_type": "markdown",
   "metadata": {},
   "source": [
    "#### Import datasets"
   ]
  },
  {
   "cell_type": "code",
   "execution_count": 12,
   "metadata": {},
   "outputs": [
    {
     "name": "stdout",
     "output_type": "stream",
     "text": [
      "Loading dataset Loaded (3737)\n",
      "Loading dataset Loaded (371)\n"
     ]
    }
   ],
   "source": [
    "batch_size = 16\n",
    "train_data, test_data = getTrainTestData(batch_size, 'data/Odom_data/Without_noise/')"
   ]
  },
  {
   "cell_type": "code",
   "execution_count": 13,
   "metadata": {},
   "outputs": [
    {
     "name": "stdout",
     "output_type": "stream",
     "text": [
      "16\n",
      "(16, 64, 64)\n"
     ]
    },
    {
     "data": {
      "image/png": "[encoded data removed]",
      "text/plain": [
       "<Figure size 432x288 with 1 Axes>"
      ]
     },
     "metadata": {
      "needs_background": "light"
     },
     "output_type": "display_data"
    }
   ],
   "source": [
    "for batch in train_data:\n",
    "#     print(batch['depth0'].permute(0,2,3,1).shape)\n",
    "#     print(batch['depth0'].shape)\n",
    "    print(len(mapper.get_top_down_map(batch['depth0'].squeeze(1).numpy() * 1000)))\n",
    "    print(mapper.get_top_down_map(batch['depth0'].squeeze(1).numpy() * 1000).shape)\n",
    "    plt.imshow((mapper.get_top_down_map(batch['depth0'].squeeze(1).numpy() * 1000)[0]))\n",
    "    break"
   ]
  },
  {
   "cell_type": "code",
   "execution_count": 14,
   "metadata": {},
   "outputs": [
    {
     "name": "stdout",
     "output_type": "stream",
     "text": [
      "True\n",
      "[2. 3. 4. 2. 3. 4.]\n"
     ]
    }
   ],
   "source": [
    "a = np.array([])\n",
    "print(a.shape == (0,))\n",
    "a = np.append(a, [[2,3,4]])\n",
    "a = np.append(a, [[2,3,4]])\n",
    "print(a)"
   ]
  },
  {
   "cell_type": "code",
   "execution_count": 16,
   "metadata": {},
   "outputs": [
    {
     "data": {
      "text/html": [
       "\n",
       "                Logging results to <a href=\"https://wandb.com\" target=\"_blank\">Weights & Biases</a> <a href=\"https://docs.wandb.com/integrations/jupyter.html\" target=\"_blank\">(Documentation)</a>.<br/>\n",
       "                Project page: <a href=\"https://app.wandb.ai/stepan-makarenko/vloc_net\" target=\"_blank\">https://app.wandb.ai/stepan-makarenko/vloc_net</a><br/>\n",
       "                Run page: <a href=\"https://app.wandb.ai/stepan-makarenko/vloc_net/runs/8rbywx1h\" target=\"_blank\">https://app.wandb.ai/stepan-makarenko/vloc_net/runs/8rbywx1h</a><br/>\n",
       "            "
      ],
      "text/plain": [
       "<IPython.core.display.HTML object>"
      ]
     },
     "metadata": {},
     "output_type": "display_data"
    },
    {
     "name": "stderr",
     "output_type": "stream",
     "text": [
      "\u001b[34m\u001b[1mwandb\u001b[0m: Wandb version 0.8.32 is available!  To upgrade, please run:\n",
      "\u001b[34m\u001b[1mwandb\u001b[0m:  $ pip install wandb --upgrade\n"
     ]
    },
    {
     "data": {
      "text/plain": [
       "W&B Run: https://app.wandb.ai/stepan-makarenko/vloc_net/runs/8rbywx1h"
      ]
     },
     "execution_count": 16,
     "metadata": {},
     "output_type": "execute_result"
    }
   ],
   "source": [
    "# Logging\n",
    "wandb.init(project=\"vloc_net\", entity='stepan-makarenko')\n",
    "# wandb.watch(net)"
   ]
  },
  {
   "cell_type": "code",
   "execution_count": 17,
   "metadata": {},
   "outputs": [
    {
     "name": "stdout",
     "output_type": "stream",
     "text": [
      "torch.Size([16, 3, 360, 640])\n"
     ]
    }
   ],
   "source": [
    "for i in train_data:\n",
    "    print(i['rgb0'].shape)\n",
    "    break"
   ]
  },
  {
   "cell_type": "markdown",
   "metadata": {},
   "source": [
    "#### Train on collected dataset"
   ]
  },
  {
   "cell_type": "code",
   "execution_count": null,
   "metadata": {},
   "outputs": [
    {
     "data": {
      "application/vnd.jupyter.widget-view+json": {
       "model_id": "b3267492467343149746decb37672907",
       "version_major": 2,
       "version_minor": 0
      },
      "text/plain": [
       "HBox(children=(FloatProgress(value=0.0, max=80.0), HTML(value='')))"
      ]
     },
     "metadata": {},
     "output_type": "display_data"
    },
    {
     "data": {
      "application/vnd.jupyter.widget-view+json": {
       "model_id": "afb6e8e8f4f94422aa571cb9138be04a",
       "version_major": 2,
       "version_minor": 0
      },
      "text/plain": [
       "HBox(children=(FloatProgress(value=1.0, bar_style='info', max=1.0), HTML(value='')))"
      ]
     },
     "metadata": {},
     "output_type": "display_data"
    },
    {
     "name": "stdout",
     "output_type": "stream",
     "text": [
      "\n"
     ]
    },
    {
     "name": "stderr",
     "output_type": "stream",
     "text": [
      "\u001b[34m\u001b[1mwandb\u001b[0m: Wandb version 0.8.32 is available!  To upgrade, please run:\n",
      "\u001b[34m\u001b[1mwandb\u001b[0m:  $ pip install wandb --upgrade\n"
     ]
    },
    {
     "data": {
      "application/vnd.jupyter.widget-view+json": {
       "model_id": "1c75ff564a334021a7e9c33600f8f914",
       "version_major": 2,
       "version_minor": 0
      },
      "text/plain": [
       "HBox(children=(FloatProgress(value=1.0, bar_style='info', max=1.0), HTML(value='')))"
      ]
     },
     "metadata": {},
     "output_type": "display_data"
    },
    {
     "name": "stdout",
     "output_type": "stream",
     "text": [
      "\n"
     ]
    },
    {
     "data": {
      "application/vnd.jupyter.widget-view+json": {
       "model_id": "1e5ff69e975d43cd85a96e1333f11105",
       "version_major": 2,
       "version_minor": 0
      },
      "text/plain": [
       "HBox(children=(FloatProgress(value=1.0, bar_style='info', max=1.0), HTML(value='')))"
      ]
     },
     "metadata": {},
     "output_type": "display_data"
    },
    {
     "name": "stdout",
     "output_type": "stream",
     "text": [
      "\n"
     ]
    },
    {
     "data": {
      "application/vnd.jupyter.widget-view+json": {
       "model_id": "79f1266722d049e3aa7023b702145bbf",
       "version_major": 2,
       "version_minor": 0
      },
      "text/plain": [
       "HBox(children=(FloatProgress(value=1.0, bar_style='info', max=1.0), HTML(value='')))"
      ]
     },
     "metadata": {},
     "output_type": "display_data"
    },
    {
     "name": "stdout",
     "output_type": "stream",
     "text": [
      "\n"
     ]
    },
    {
     "data": {
      "application/vnd.jupyter.widget-view+json": {
       "model_id": "6f83b52645e94a11b35cb0d127f13ab1",
       "version_major": 2,
       "version_minor": 0
      },
      "text/plain": [
       "HBox(children=(FloatProgress(value=1.0, bar_style='info', max=1.0), HTML(value='')))"
      ]
     },
     "metadata": {},
     "output_type": "display_data"
    },
    {
     "name": "stdout",
     "output_type": "stream",
     "text": [
      "\n"
     ]
    },
    {
     "data": {
      "application/vnd.jupyter.widget-view+json": {
       "model_id": "cdff9c4c4aa84829ae28302b4caa6fbe",
       "version_major": 2,
       "version_minor": 0
      },
      "text/plain": [
       "HBox(children=(FloatProgress(value=1.0, bar_style='info', max=1.0), HTML(value='')))"
      ]
     },
     "metadata": {},
     "output_type": "display_data"
    },
    {
     "name": "stdout",
     "output_type": "stream",
     "text": [
      "\n"
     ]
    },
    {
     "data": {
      "application/vnd.jupyter.widget-view+json": {
       "model_id": "6973bb80cac34632b3e13a8f0afe9759",
       "version_major": 2,
       "version_minor": 0
      },
      "text/plain": [
       "HBox(children=(FloatProgress(value=1.0, bar_style='info', max=1.0), HTML(value='')))"
      ]
     },
     "metadata": {},
     "output_type": "display_data"
    },
    {
     "name": "stdout",
     "output_type": "stream",
     "text": [
      "\n"
     ]
    },
    {
     "data": {
      "application/vnd.jupyter.widget-view+json": {
       "model_id": "29d2336f64654e0c8d0f47384c2b057f",
       "version_major": 2,
       "version_minor": 0
      },
      "text/plain": [
       "HBox(children=(FloatProgress(value=1.0, bar_style='info', max=1.0), HTML(value='')))"
      ]
     },
     "metadata": {},
     "output_type": "display_data"
    },
    {
     "name": "stdout",
     "output_type": "stream",
     "text": [
      "\n"
     ]
    },
    {
     "data": {
      "application/vnd.jupyter.widget-view+json": {
       "model_id": "b8986ded12a049f698d95747a9da1a50",
       "version_major": 2,
       "version_minor": 0
      },
      "text/plain": [
       "HBox(children=(FloatProgress(value=1.0, bar_style='info', max=1.0), HTML(value='')))"
      ]
     },
     "metadata": {},
     "output_type": "display_data"
    },
    {
     "name": "stdout",
     "output_type": "stream",
     "text": [
      "\n"
     ]
    },
    {
     "data": {
      "application/vnd.jupyter.widget-view+json": {
       "model_id": "735a04c0e5834a90a4a912c5ea1d317a",
       "version_major": 2,
       "version_minor": 0
      },
      "text/plain": [
       "HBox(children=(FloatProgress(value=1.0, bar_style='info', max=1.0), HTML(value='')))"
      ]
     },
     "metadata": {},
     "output_type": "display_data"
    },
    {
     "name": "stdout",
     "output_type": "stream",
     "text": [
      "\n"
     ]
    },
    {
     "data": {
      "application/vnd.jupyter.widget-view+json": {
       "model_id": "3ced64705dfb4cfeb1595065d4b4e55b",
       "version_major": 2,
       "version_minor": 0
      },
      "text/plain": [
       "HBox(children=(FloatProgress(value=1.0, bar_style='info', max=1.0), HTML(value='')))"
      ]
     },
     "metadata": {},
     "output_type": "display_data"
    },
    {
     "name": "stdout",
     "output_type": "stream",
     "text": [
      "\n"
     ]
    },
    {
     "data": {
      "application/vnd.jupyter.widget-view+json": {
       "model_id": "d9858694255a4a7b8b46519a77729eb4",
       "version_major": 2,
       "version_minor": 0
      },
      "text/plain": [
       "HBox(children=(FloatProgress(value=1.0, bar_style='info', max=1.0), HTML(value='')))"
      ]
     },
     "metadata": {},
     "output_type": "display_data"
    },
    {
     "name": "stdout",
     "output_type": "stream",
     "text": [
      "\n"
     ]
    },
    {
     "data": {
      "application/vnd.jupyter.widget-view+json": {
       "model_id": "9c95d1bacd7b41fa931f6aea65f89c74",
       "version_major": 2,
       "version_minor": 0
      },
      "text/plain": [
       "HBox(children=(FloatProgress(value=1.0, bar_style='info', max=1.0), HTML(value='')))"
      ]
     },
     "metadata": {},
     "output_type": "display_data"
    },
    {
     "name": "stdout",
     "output_type": "stream",
     "text": [
      "\n"
     ]
    },
    {
     "data": {
      "application/vnd.jupyter.widget-view+json": {
       "model_id": "538003cd6b5c478d8e3097b5e1ab2976",
       "version_major": 2,
       "version_minor": 0
      },
      "text/plain": [
       "HBox(children=(FloatProgress(value=1.0, bar_style='info', max=1.0), HTML(value='')))"
      ]
     },
     "metadata": {},
     "output_type": "display_data"
    },
    {
     "name": "stdout",
     "output_type": "stream",
     "text": [
      "\n"
     ]
    },
    {
     "data": {
      "application/vnd.jupyter.widget-view+json": {
       "model_id": "ee9fa2c349f2417ca23965739182ebeb",
       "version_major": 2,
       "version_minor": 0
      },
      "text/plain": [
       "HBox(children=(FloatProgress(value=1.0, bar_style='info', max=1.0), HTML(value='')))"
      ]
     },
     "metadata": {},
     "output_type": "display_data"
    },
    {
     "name": "stdout",
     "output_type": "stream",
     "text": [
      "\n"
     ]
    },
    {
     "data": {
      "application/vnd.jupyter.widget-view+json": {
       "model_id": "641a706a93034bcf8a1c82230580f522",
       "version_major": 2,
       "version_minor": 0
      },
      "text/plain": [
       "HBox(children=(FloatProgress(value=1.0, bar_style='info', max=1.0), HTML(value='')))"
      ]
     },
     "metadata": {},
     "output_type": "display_data"
    },
    {
     "name": "stdout",
     "output_type": "stream",
     "text": [
      "\n"
     ]
    },
    {
     "data": {
      "application/vnd.jupyter.widget-view+json": {
       "model_id": "f3afc67a04564d558ec4bab2bffa3384",
       "version_major": 2,
       "version_minor": 0
      },
      "text/plain": [
       "HBox(children=(FloatProgress(value=1.0, bar_style='info', max=1.0), HTML(value='')))"
      ]
     },
     "metadata": {},
     "output_type": "display_data"
    },
    {
     "name": "stdout",
     "output_type": "stream",
     "text": [
      "\n"
     ]
    },
    {
     "data": {
      "application/vnd.jupyter.widget-view+json": {
       "model_id": "f1decee21b9f4b978593d1385bc1bf63",
       "version_major": 2,
       "version_minor": 0
      },
      "text/plain": [
       "HBox(children=(FloatProgress(value=1.0, bar_style='info', max=1.0), HTML(value='')))"
      ]
     },
     "metadata": {},
     "output_type": "display_data"
    },
    {
     "name": "stdout",
     "output_type": "stream",
     "text": [
      "\n"
     ]
    },
    {
     "data": {
      "application/vnd.jupyter.widget-view+json": {
       "model_id": "238976268ea1433cae1c14c7757d16c6",
       "version_major": 2,
       "version_minor": 0
      },
      "text/plain": [
       "HBox(children=(FloatProgress(value=1.0, bar_style='info', max=1.0), HTML(value='')))"
      ]
     },
     "metadata": {},
     "output_type": "display_data"
    },
    {
     "name": "stdout",
     "output_type": "stream",
     "text": [
      "\n"
     ]
    },
    {
     "data": {
      "application/vnd.jupyter.widget-view+json": {
       "model_id": "2cae682837b5441da51d5be086edc627",
       "version_major": 2,
       "version_minor": 0
      },
      "text/plain": [
       "HBox(children=(FloatProgress(value=1.0, bar_style='info', max=1.0), HTML(value='')))"
      ]
     },
     "metadata": {},
     "output_type": "display_data"
    },
    {
     "name": "stdout",
     "output_type": "stream",
     "text": [
      "\n"
     ]
    },
    {
     "data": {
      "application/vnd.jupyter.widget-view+json": {
       "model_id": "825eb51b5a1e4e93bddfe90ba1d299b0",
       "version_major": 2,
       "version_minor": 0
      },
      "text/plain": [
       "HBox(children=(FloatProgress(value=1.0, bar_style='info', max=1.0), HTML(value='')))"
      ]
     },
     "metadata": {},
     "output_type": "display_data"
    },
    {
     "name": "stdout",
     "output_type": "stream",
     "text": [
      "\n"
     ]
    },
    {
     "data": {
      "application/vnd.jupyter.widget-view+json": {
       "model_id": "3cc152ecd6294b2cb715e421b5cadb0f",
       "version_major": 2,
       "version_minor": 0
      },
      "text/plain": [
       "HBox(children=(FloatProgress(value=1.0, bar_style='info', max=1.0), HTML(value='')))"
      ]
     },
     "metadata": {},
     "output_type": "display_data"
    },
    {
     "name": "stdout",
     "output_type": "stream",
     "text": [
      "\n"
     ]
    },
    {
     "data": {
      "application/vnd.jupyter.widget-view+json": {
       "model_id": "e71e5f3dc6cc49c9a9137a03dda9b6fb",
       "version_major": 2,
       "version_minor": 0
      },
      "text/plain": [
       "HBox(children=(FloatProgress(value=1.0, bar_style='info', max=1.0), HTML(value='')))"
      ]
     },
     "metadata": {},
     "output_type": "display_data"
    },
    {
     "name": "stdout",
     "output_type": "stream",
     "text": [
      "\n"
     ]
    },
    {
     "data": {
      "application/vnd.jupyter.widget-view+json": {
       "model_id": "87ae6aafff2a42f88f3b13d43c28d2fe",
       "version_major": 2,
       "version_minor": 0
      },
      "text/plain": [
       "HBox(children=(FloatProgress(value=1.0, bar_style='info', max=1.0), HTML(value='')))"
      ]
     },
     "metadata": {},
     "output_type": "display_data"
    },
    {
     "name": "stdout",
     "output_type": "stream",
     "text": [
      "\n"
     ]
    },
    {
     "data": {
      "application/vnd.jupyter.widget-view+json": {
       "model_id": "1d663979b80f40859e0f48838c23aef9",
       "version_major": 2,
       "version_minor": 0
      },
      "text/plain": [
       "HBox(children=(FloatProgress(value=1.0, bar_style='info', max=1.0), HTML(value='')))"
      ]
     },
     "metadata": {},
     "output_type": "display_data"
    },
    {
     "name": "stdout",
     "output_type": "stream",
     "text": [
      "\n"
     ]
    },
    {
     "data": {
      "application/vnd.jupyter.widget-view+json": {
       "model_id": "2bf9a12b33254c439b53bd0d4661d3b9",
       "version_major": 2,
       "version_minor": 0
      },
      "text/plain": [
       "HBox(children=(FloatProgress(value=1.0, bar_style='info', max=1.0), HTML(value='')))"
      ]
     },
     "metadata": {},
     "output_type": "display_data"
    },
    {
     "name": "stdout",
     "output_type": "stream",
     "text": [
      "\n"
     ]
    },
    {
     "data": {
      "application/vnd.jupyter.widget-view+json": {
       "model_id": "8b182427c62a45f09973f3fdfb3485db",
       "version_major": 2,
       "version_minor": 0
      },
      "text/plain": [
       "HBox(children=(FloatProgress(value=1.0, bar_style='info', max=1.0), HTML(value='')))"
      ]
     },
     "metadata": {},
     "output_type": "display_data"
    },
    {
     "name": "stdout",
     "output_type": "stream",
     "text": [
      "\n"
     ]
    },
    {
     "data": {
      "application/vnd.jupyter.widget-view+json": {
       "model_id": "5cf1bf49c4c24b6b93ca8b9f9754810b",
       "version_major": 2,
       "version_minor": 0
      },
      "text/plain": [
       "HBox(children=(FloatProgress(value=1.0, bar_style='info', max=1.0), HTML(value='')))"
      ]
     },
     "metadata": {},
     "output_type": "display_data"
    },
    {
     "name": "stdout",
     "output_type": "stream",
     "text": [
      "\n"
     ]
    },
    {
     "data": {
      "application/vnd.jupyter.widget-view+json": {
       "model_id": "a261cdfc6b0b4ff38dbcc3977cfaac8a",
       "version_major": 2,
       "version_minor": 0
      },
      "text/plain": [
       "HBox(children=(FloatProgress(value=1.0, bar_style='info', max=1.0), HTML(value='')))"
      ]
     },
     "metadata": {},
     "output_type": "display_data"
    },
    {
     "name": "stdout",
     "output_type": "stream",
     "text": [
      "\n"
     ]
    },
    {
     "data": {
      "application/vnd.jupyter.widget-view+json": {
       "model_id": "f778fb73ecf84b3f83809e66119ddc89",
       "version_major": 2,
       "version_minor": 0
      },
      "text/plain": [
       "HBox(children=(FloatProgress(value=1.0, bar_style='info', max=1.0), HTML(value='')))"
      ]
     },
     "metadata": {},
     "output_type": "display_data"
    },
    {
     "name": "stdout",
     "output_type": "stream",
     "text": [
      "\n"
     ]
    },
    {
     "data": {
      "application/vnd.jupyter.widget-view+json": {
       "model_id": "d57ea3c131e7498aa615cd34a3ca9e78",
       "version_major": 2,
       "version_minor": 0
      },
      "text/plain": [
       "HBox(children=(FloatProgress(value=1.0, bar_style='info', max=1.0), HTML(value='')))"
      ]
     },
     "metadata": {},
     "output_type": "display_data"
    },
    {
     "name": "stdout",
     "output_type": "stream",
     "text": [
      "\n"
     ]
    },
    {
     "data": {
      "application/vnd.jupyter.widget-view+json": {
       "model_id": "312eec67b835411ab88750e3f6addcca",
       "version_major": 2,
       "version_minor": 0
      },
      "text/plain": [
       "HBox(children=(FloatProgress(value=1.0, bar_style='info', max=1.0), HTML(value='')))"
      ]
     },
     "metadata": {},
     "output_type": "display_data"
    },
    {
     "name": "stdout",
     "output_type": "stream",
     "text": [
      "\n"
     ]
    },
    {
     "data": {
      "application/vnd.jupyter.widget-view+json": {
       "model_id": "c995a83a40584010b3e94adc8c8523b9",
       "version_major": 2,
       "version_minor": 0
      },
      "text/plain": [
       "HBox(children=(FloatProgress(value=1.0, bar_style='info', max=1.0), HTML(value='')))"
      ]
     },
     "metadata": {},
     "output_type": "display_data"
    },
    {
     "name": "stdout",
     "output_type": "stream",
     "text": [
      "\n"
     ]
    },
    {
     "data": {
      "application/vnd.jupyter.widget-view+json": {
       "model_id": "e393bd6a15114eb4be662c3a1d9efa0b",
       "version_major": 2,
       "version_minor": 0
      },
      "text/plain": [
       "HBox(children=(FloatProgress(value=1.0, bar_style='info', max=1.0), HTML(value='')))"
      ]
     },
     "metadata": {},
     "output_type": "display_data"
    },
    {
     "name": "stdout",
     "output_type": "stream",
     "text": [
      "\n"
     ]
    },
    {
     "data": {
      "application/vnd.jupyter.widget-view+json": {
       "model_id": "593ef1f7ab554728b3930a5288ef777b",
       "version_major": 2,
       "version_minor": 0
      },
      "text/plain": [
       "HBox(children=(FloatProgress(value=1.0, bar_style='info', max=1.0), HTML(value='')))"
      ]
     },
     "metadata": {},
     "output_type": "display_data"
    },
    {
     "name": "stdout",
     "output_type": "stream",
     "text": [
      "\n"
     ]
    },
    {
     "data": {
      "application/vnd.jupyter.widget-view+json": {
       "model_id": "627060856cd24060bb1a716d5f19b12a",
       "version_major": 2,
       "version_minor": 0
      },
      "text/plain": [
       "HBox(children=(FloatProgress(value=1.0, bar_style='info', max=1.0), HTML(value='')))"
      ]
     },
     "metadata": {},
     "output_type": "display_data"
    },
    {
     "name": "stdout",
     "output_type": "stream",
     "text": [
      "\n"
     ]
    },
    {
     "data": {
      "application/vnd.jupyter.widget-view+json": {
       "model_id": "96c8ee26684f478cae1150633409a28b",
       "version_major": 2,
       "version_minor": 0
      },
      "text/plain": [
       "HBox(children=(FloatProgress(value=1.0, bar_style='info', max=1.0), HTML(value='')))"
      ]
     },
     "metadata": {},
     "output_type": "display_data"
    },
    {
     "name": "stdout",
     "output_type": "stream",
     "text": [
      "\n"
     ]
    },
    {
     "data": {
      "application/vnd.jupyter.widget-view+json": {
       "model_id": "e3edefa1babe4e8b9bab53fa1a99e16d",
       "version_major": 2,
       "version_minor": 0
      },
      "text/plain": [
       "HBox(children=(FloatProgress(value=1.0, bar_style='info', max=1.0), HTML(value='')))"
      ]
     },
     "metadata": {},
     "output_type": "display_data"
    },
    {
     "name": "stdout",
     "output_type": "stream",
     "text": [
      "\n"
     ]
    },
    {
     "data": {
      "application/vnd.jupyter.widget-view+json": {
       "model_id": "f3de18fd2e194ae2a2de7c6d5281e718",
       "version_major": 2,
       "version_minor": 0
      },
      "text/plain": [
       "HBox(children=(FloatProgress(value=1.0, bar_style='info', max=1.0), HTML(value='')))"
      ]
     },
     "metadata": {},
     "output_type": "display_data"
    },
    {
     "name": "stdout",
     "output_type": "stream",
     "text": [
      "\n"
     ]
    },
    {
     "data": {
      "application/vnd.jupyter.widget-view+json": {
       "model_id": "e4e2292497164755898ab49c48238ffa",
       "version_major": 2,
       "version_minor": 0
      },
      "text/plain": [
       "HBox(children=(FloatProgress(value=1.0, bar_style='info', max=1.0), HTML(value='')))"
      ]
     },
     "metadata": {},
     "output_type": "display_data"
    },
    {
     "name": "stdout",
     "output_type": "stream",
     "text": [
      "\n"
     ]
    },
    {
     "data": {
      "application/vnd.jupyter.widget-view+json": {
       "model_id": "ff034a9813684535b63faa4a24a88f40",
       "version_major": 2,
       "version_minor": 0
      },
      "text/plain": [
       "HBox(children=(FloatProgress(value=1.0, bar_style='info', max=1.0), HTML(value='')))"
      ]
     },
     "metadata": {},
     "output_type": "display_data"
    },
    {
     "name": "stdout",
     "output_type": "stream",
     "text": [
      "\n"
     ]
    },
    {
     "data": {
      "application/vnd.jupyter.widget-view+json": {
       "model_id": "311c4be0ee7f40b19bd3428606fdb154",
       "version_major": 2,
       "version_minor": 0
      },
      "text/plain": [
       "HBox(children=(FloatProgress(value=1.0, bar_style='info', max=1.0), HTML(value='')))"
      ]
     },
     "metadata": {},
     "output_type": "display_data"
    },
    {
     "name": "stdout",
     "output_type": "stream",
     "text": [
      "\n"
     ]
    },
    {
     "data": {
      "application/vnd.jupyter.widget-view+json": {
       "model_id": "0fc9556321484f778a84384a4b399562",
       "version_major": 2,
       "version_minor": 0
      },
      "text/plain": [
       "HBox(children=(FloatProgress(value=1.0, bar_style='info', max=1.0), HTML(value='')))"
      ]
     },
     "metadata": {},
     "output_type": "display_data"
    },
    {
     "name": "stdout",
     "output_type": "stream",
     "text": [
      "\n"
     ]
    },
    {
     "data": {
      "application/vnd.jupyter.widget-view+json": {
       "model_id": "abf42031f4494fdfb81caeded53de04e",
       "version_major": 2,
       "version_minor": 0
      },
      "text/plain": [
       "HBox(children=(FloatProgress(value=1.0, bar_style='info', max=1.0), HTML(value='')))"
      ]
     },
     "metadata": {},
     "output_type": "display_data"
    },
    {
     "name": "stdout",
     "output_type": "stream",
     "text": [
      "\n"
     ]
    },
    {
     "data": {
      "application/vnd.jupyter.widget-view+json": {
       "model_id": "f7013b2d3c5e42f9ac9589c7f4541d66",
       "version_major": 2,
       "version_minor": 0
      },
      "text/plain": [
       "HBox(children=(FloatProgress(value=1.0, bar_style='info', max=1.0), HTML(value='')))"
      ]
     },
     "metadata": {},
     "output_type": "display_data"
    },
    {
     "name": "stdout",
     "output_type": "stream",
     "text": [
      "\n"
     ]
    },
    {
     "data": {
      "application/vnd.jupyter.widget-view+json": {
       "model_id": "4bc32f67a8b840a398bb02850223da34",
       "version_major": 2,
       "version_minor": 0
      },
      "text/plain": [
       "HBox(children=(FloatProgress(value=1.0, bar_style='info', max=1.0), HTML(value='')))"
      ]
     },
     "metadata": {},
     "output_type": "display_data"
    },
    {
     "name": "stdout",
     "output_type": "stream",
     "text": [
      "\n"
     ]
    },
    {
     "data": {
      "application/vnd.jupyter.widget-view+json": {
       "model_id": "3fd2367ae184464aa9cb49f3877ccbf6",
       "version_major": 2,
       "version_minor": 0
      },
      "text/plain": [
       "HBox(children=(FloatProgress(value=1.0, bar_style='info', max=1.0), HTML(value='')))"
      ]
     },
     "metadata": {},
     "output_type": "display_data"
    },
    {
     "name": "stdout",
     "output_type": "stream",
     "text": [
      "\n"
     ]
    },
    {
     "data": {
      "application/vnd.jupyter.widget-view+json": {
       "model_id": "c1d2fbd67f084a2986c75dc7276e8e2d",
       "version_major": 2,
       "version_minor": 0
      },
      "text/plain": [
       "HBox(children=(FloatProgress(value=1.0, bar_style='info', max=1.0), HTML(value='')))"
      ]
     },
     "metadata": {},
     "output_type": "display_data"
    },
    {
     "name": "stdout",
     "output_type": "stream",
     "text": [
      "\n"
     ]
    },
    {
     "data": {
      "application/vnd.jupyter.widget-view+json": {
       "model_id": "2ffe98b990ec4270a0deb1aa06e69b7a",
       "version_major": 2,
       "version_minor": 0
      },
      "text/plain": [
       "HBox(children=(FloatProgress(value=1.0, bar_style='info', max=1.0), HTML(value='')))"
      ]
     },
     "metadata": {},
     "output_type": "display_data"
    },
    {
     "name": "stdout",
     "output_type": "stream",
     "text": [
      "\n"
     ]
    },
    {
     "data": {
      "application/vnd.jupyter.widget-view+json": {
       "model_id": "787face2e1a94e5a846354b8488dfe29",
       "version_major": 2,
       "version_minor": 0
      },
      "text/plain": [
       "HBox(children=(FloatProgress(value=1.0, bar_style='info', max=1.0), HTML(value='')))"
      ]
     },
     "metadata": {},
     "output_type": "display_data"
    },
    {
     "name": "stdout",
     "output_type": "stream",
     "text": [
      "\n"
     ]
    },
    {
     "data": {
      "application/vnd.jupyter.widget-view+json": {
       "model_id": "087febb2cd36424c839f625a83c676ff",
       "version_major": 2,
       "version_minor": 0
      },
      "text/plain": [
       "HBox(children=(FloatProgress(value=1.0, bar_style='info', max=1.0), HTML(value='')))"
      ]
     },
     "metadata": {},
     "output_type": "display_data"
    },
    {
     "name": "stdout",
     "output_type": "stream",
     "text": [
      "\n"
     ]
    },
    {
     "data": {
      "application/vnd.jupyter.widget-view+json": {
       "model_id": "d656440b4fbd47b28f85ec339b1dfea1",
       "version_major": 2,
       "version_minor": 0
      },
      "text/plain": [
       "HBox(children=(FloatProgress(value=1.0, bar_style='info', max=1.0), HTML(value='')))"
      ]
     },
     "metadata": {},
     "output_type": "display_data"
    },
    {
     "name": "stdout",
     "output_type": "stream",
     "text": [
      "\n"
     ]
    },
    {
     "data": {
      "application/vnd.jupyter.widget-view+json": {
       "model_id": "c3db188826af4421afca4859e8c941e4",
       "version_major": 2,
       "version_minor": 0
      },
      "text/plain": [
       "HBox(children=(FloatProgress(value=1.0, bar_style='info', max=1.0), HTML(value='')))"
      ]
     },
     "metadata": {},
     "output_type": "display_data"
    },
    {
     "name": "stdout",
     "output_type": "stream",
     "text": [
      "\n"
     ]
    },
    {
     "data": {
      "application/vnd.jupyter.widget-view+json": {
       "model_id": "eeb6ee8ff2364324a5bd241dfc55a988",
       "version_major": 2,
       "version_minor": 0
      },
      "text/plain": [
       "HBox(children=(FloatProgress(value=1.0, bar_style='info', max=1.0), HTML(value='')))"
      ]
     },
     "metadata": {},
     "output_type": "display_data"
    },
    {
     "name": "stdout",
     "output_type": "stream",
     "text": [
      "\n"
     ]
    },
    {
     "data": {
      "application/vnd.jupyter.widget-view+json": {
       "model_id": "fdc6dfff29924bc880acf6efc3b7f349",
       "version_major": 2,
       "version_minor": 0
      },
      "text/plain": [
       "HBox(children=(FloatProgress(value=1.0, bar_style='info', max=1.0), HTML(value='')))"
      ]
     },
     "metadata": {},
     "output_type": "display_data"
    },
    {
     "name": "stdout",
     "output_type": "stream",
     "text": [
      "\n"
     ]
    },
    {
     "data": {
      "application/vnd.jupyter.widget-view+json": {
       "model_id": "d7f18b5013c34a88afe6f5231287025f",
       "version_major": 2,
       "version_minor": 0
      },
      "text/plain": [
       "HBox(children=(FloatProgress(value=1.0, bar_style='info', max=1.0), HTML(value='')))"
      ]
     },
     "metadata": {},
     "output_type": "display_data"
    },
    {
     "name": "stdout",
     "output_type": "stream",
     "text": [
      "\n"
     ]
    },
    {
     "data": {
      "application/vnd.jupyter.widget-view+json": {
       "model_id": "b770369751954c2a89b40fbc6e10f9cd",
       "version_major": 2,
       "version_minor": 0
      },
      "text/plain": [
       "HBox(children=(FloatProgress(value=1.0, bar_style='info', max=1.0), HTML(value='')))"
      ]
     },
     "metadata": {},
     "output_type": "display_data"
    },
    {
     "name": "stdout",
     "output_type": "stream",
     "text": [
      "\n"
     ]
    },
    {
     "data": {
      "application/vnd.jupyter.widget-view+json": {
       "model_id": "e18384b6dd0649c6ac8f002cc0fc4911",
       "version_major": 2,
       "version_minor": 0
      },
      "text/plain": [
       "HBox(children=(FloatProgress(value=1.0, bar_style='info', max=1.0), HTML(value='')))"
      ]
     },
     "metadata": {},
     "output_type": "display_data"
    },
    {
     "name": "stdout",
     "output_type": "stream",
     "text": [
      "\n"
     ]
    },
    {
     "data": {
      "application/vnd.jupyter.widget-view+json": {
       "model_id": "b2e747c7c6bd4967948f6b3ecaece8d4",
       "version_major": 2,
       "version_minor": 0
      },
      "text/plain": [
       "HBox(children=(FloatProgress(value=1.0, bar_style='info', max=1.0), HTML(value='')))"
      ]
     },
     "metadata": {},
     "output_type": "display_data"
    },
    {
     "name": "stdout",
     "output_type": "stream",
     "text": [
      "\n"
     ]
    },
    {
     "data": {
      "application/vnd.jupyter.widget-view+json": {
       "model_id": "79929f93098c4cdca2b02f4cfa486f68",
       "version_major": 2,
       "version_minor": 0
      },
      "text/plain": [
       "HBox(children=(FloatProgress(value=1.0, bar_style='info', max=1.0), HTML(value='')))"
      ]
     },
     "metadata": {},
     "output_type": "display_data"
    },
    {
     "name": "stdout",
     "output_type": "stream",
     "text": [
      "\n"
     ]
    },
    {
     "data": {
      "application/vnd.jupyter.widget-view+json": {
       "model_id": "da90063a1af04c1396b83259d36b9f40",
       "version_major": 2,
       "version_minor": 0
      },
      "text/plain": [
       "HBox(children=(FloatProgress(value=1.0, bar_style='info', max=1.0), HTML(value='')))"
      ]
     },
     "metadata": {},
     "output_type": "display_data"
    },
    {
     "name": "stdout",
     "output_type": "stream",
     "text": [
      "\n"
     ]
    },
    {
     "data": {
      "application/vnd.jupyter.widget-view+json": {
       "model_id": "db7dfcc1b4c94fb0ab609e31e9d28126",
       "version_major": 2,
       "version_minor": 0
      },
      "text/plain": [
       "HBox(children=(FloatProgress(value=1.0, bar_style='info', max=1.0), HTML(value='')))"
      ]
     },
     "metadata": {},
     "output_type": "display_data"
    },
    {
     "name": "stdout",
     "output_type": "stream",
     "text": [
      "\n"
     ]
    },
    {
     "data": {
      "application/vnd.jupyter.widget-view+json": {
       "model_id": "468560e543d347c4bc3714647203db77",
       "version_major": 2,
       "version_minor": 0
      },
      "text/plain": [
       "HBox(children=(FloatProgress(value=1.0, bar_style='info', max=1.0), HTML(value='')))"
      ]
     },
     "metadata": {},
     "output_type": "display_data"
    },
    {
     "name": "stdout",
     "output_type": "stream",
     "text": [
      "\n"
     ]
    },
    {
     "data": {
      "application/vnd.jupyter.widget-view+json": {
       "model_id": "bfe3606c43c54066997052a0476fa584",
       "version_major": 2,
       "version_minor": 0
      },
      "text/plain": [
       "HBox(children=(FloatProgress(value=1.0, bar_style='info', max=1.0), HTML(value='')))"
      ]
     },
     "metadata": {},
     "output_type": "display_data"
    },
    {
     "name": "stdout",
     "output_type": "stream",
     "text": [
      "\n"
     ]
    },
    {
     "data": {
      "application/vnd.jupyter.widget-view+json": {
       "model_id": "16f19890625c4494acb864bdb4e2f8b9",
       "version_major": 2,
       "version_minor": 0
      },
      "text/plain": [
       "HBox(children=(FloatProgress(value=1.0, bar_style='info', max=1.0), HTML(value='')))"
      ]
     },
     "metadata": {},
     "output_type": "display_data"
    },
    {
     "name": "stdout",
     "output_type": "stream",
     "text": [
      "\n"
     ]
    },
    {
     "data": {
      "application/vnd.jupyter.widget-view+json": {
       "model_id": "d2c8d38823e34dc699fcfc79685ffe63",
       "version_major": 2,
       "version_minor": 0
      },
      "text/plain": [
       "HBox(children=(FloatProgress(value=1.0, bar_style='info', max=1.0), HTML(value='')))"
      ]
     },
     "metadata": {},
     "output_type": "display_data"
    }
   ],
   "source": [
    "# import copy\n",
    "\n",
    "def train(net, train_loader, test_loader):\n",
    "    device = 'cuda:1' if torch.cuda.is_available() else 'cpu'\n",
    "    N = len(train_loader)\n",
    "    \n",
    "    net.to(device)\n",
    "    losses_train = AverageMeter()\n",
    "    losses_test = AverageMeter()\n",
    "    \n",
    "    best_test_loss = float(np.inf)\n",
    "#     best_model = copy.deepcopy(net)\n",
    "        \n",
    "    optimizer = torch.optim.Adam(net.parameters(), lr=1e-4, betas=(0.9, 0.999))\n",
    "    scheduler = torch.optim.lr_scheduler.ReduceLROnPlateau(optimizer, 'min', patience=8, verbose=True, factor=0.2)\n",
    "    l1_criterion = nn.L1Loss()\n",
    "    \n",
    "    \n",
    "    for epoch in trange(80):\n",
    "        net.train()\n",
    "        for i, sample_batched in tqdm(enumerate(train_loader)):\n",
    "            optimizer.zero_grad()\n",
    "#             Prepare sample and target\n",
    "#             rgb0 = sample_batched['rgb0'].to(device)\n",
    "#             rgb1 = sample_batched['rgb1'].to(device)\n",
    "#             depth0 = sample_batched['depth0'].to(device)\n",
    "#             depth1 = sample_batched['depth1'].to(device)\n",
    "        \n",
    "            # Predict on top down maps:\n",
    "            top_down0 = mapper.get_top_down_map(sample_batched['depth0'].squeeze(1).numpy())\n",
    "            top_down0 = torch.FloatTensor(top_down0).unsqueeze(1).to(device)\n",
    "            top_down1 = mapper.get_top_down_map(sample_batched['depth1'].squeeze(1).numpy())\n",
    "            top_down1 = torch.FloatTensor(top_down1).unsqueeze(1).to(device)\n",
    "            \n",
    "            in0 = torch.cat((top_down0, top_down0, top_down0), dim=1)\n",
    "            in1 = torch.cat((top_down1, top_down1, top_down1), dim=1)\n",
    "            \n",
    "            \n",
    "                \n",
    "            # Predict on depths\n",
    "#             depth0 = nn.functional.interpolate(depth0, (144, 256))\n",
    "#             depth1 = nn.functional.interpolate(depth0, (144, 256))\n",
    "            \n",
    "#             depth0 = torch.cat((depth0, depth0, depth0), dim=1)\n",
    "#             depth1 = torch.cat((depth1, depth1, depth1), dim=1)\n",
    "                       \n",
    "            compas = sample_batched['compas'].to(device)\n",
    "#             pred_T, pred_R = net.forward((rgb0, rgb1))\n",
    "            loc_dT, pred_R = net.forward((in0, in1))\n",
    "            to_glob = torch.tensor([[[torch.cos(fi), 0, -torch.sin(fi)],\n",
    "                                       [0, 1, 0], \n",
    "                                       [torch.sin(fi), 0, torch.cos(fi)]] for fi in compas])\n",
    "            to_glob = to_glob.to(device)\n",
    "#             print()\n",
    "            pred_T = torch.matmul(to_glob, loc_dT.unsqueeze(2)).squeeze(2)\n",
    "#             print(loc_dT.shape, to_glob.shape, pred_T.shape)\n",
    "            \n",
    "#             print(pred_T, sample_batched['d_gps'].to(device))\n",
    "#             print(pred_R, sample_batched['d_compas'].to(device))\n",
    "            loss_T = l1_criterion(pred_T, sample_batched['d_gps'].to(device))\n",
    "            loss_R = l1_criterion(pred_R, sample_batched['d_compas'].to(device))\n",
    "#             print(loss_T, loss_R)\n",
    "#             loss = loss_T + loss_R\n",
    "            loss = loss_T\n",
    "#             losses_train.update(loss.data.item(), rgb0.size(0))\n",
    "            losses_train.update(loss.data.item(), in0.size(0))\n",
    "            \n",
    "            loss.backward()\n",
    "            optimizer.step()\n",
    "            \n",
    "        # Log progress\n",
    "#             niter = epoch*N+i\n",
    "#         if i % 5 == 0:\n",
    "            # Print to console\n",
    "#                 print('Epoch: [{0}][{1}/{2}] : train_loss = {loss.val:.4f} ({loss.avg:.4f})'.format(epoch, i, N, loss=losses_train))\n",
    "\n",
    "        # Log to WB\n",
    "        wandb.log({'Epoch': epoch, 'Train loss': losses_train.avg})\n",
    "        losses_train.reset()\n",
    "        \n",
    "        net.eval()\n",
    "        with torch.no_grad():\n",
    "            for j, sample_batched in tqdm(enumerate(test_loader)):\n",
    "\n",
    "                # Prepare sample and target\n",
    "#                 rgb0 = sample_batched['rgb0'].to(device)\n",
    "#                 rgb1 = sample_batched['rgb1'].to(device)\n",
    "#                 depth0 = sample_batched['depth0'].to(device)\n",
    "#                 depth1 = sample_batched['depth1'].to(device)\n",
    "                \n",
    "                # Predict on top down maps:\n",
    "                top_down0 = mapper.get_top_down_map(sample_batched['depth0'].squeeze(1).numpy())\n",
    "                top_down0 = torch.FloatTensor(top_down0).unsqueeze(1).to(device)\n",
    "                top_down1 = mapper.get_top_down_map(sample_batched['depth1'].squeeze(1).numpy())\n",
    "                top_down1 = torch.FloatTensor(top_down1).unsqueeze(1).to(device)\n",
    "\n",
    "                in0 = torch.cat((top_down0, top_down0, top_down0), dim=1)\n",
    "                in1 = torch.cat((top_down1, top_down1, top_down1), dim=1)\n",
    "                \n",
    "                # Predict on depths\n",
    "#                 depth0 = nn.functional.interpolate(depth0, (144, 256))\n",
    "#                 depth1 = nn.functional.interpolate(depth0, (144, 256))\n",
    "\n",
    "#                 depth0 = torch.cat((depth0, depth0, depth0), dim=1)\n",
    "#                 depth1 = torch.cat((depth1, depth1, depth1), dim=1)\n",
    "                       \n",
    "            \n",
    "                compas = sample_batched['compas'].to(device)\n",
    "#             pred_T, pred_R = net.forward((rgb0, rgb1))\n",
    "                loc_dT, pred_R = net.forward((in0, in1))\n",
    "                to_glob = torch.tensor([[[torch.cos(fi), 0, -torch.sin(fi)],\n",
    "                                       [0, 1, 0], \n",
    "                                       [torch.sin(fi), 0, torch.cos(fi)]] for fi in compas])\n",
    "                to_glob = to_glob.to(device)\n",
    "                pred_T = torch.matmul(to_glob, loc_dT.unsqueeze(2)).squeeze(2) \n",
    "\n",
    "                loss_T = l1_criterion(pred_T, sample_batched['d_gps'].to(device))\n",
    "                loss_R = l1_criterion(pred_R, sample_batched['d_compas'].to(device))\n",
    "                loss_T_abs = loss_T / sample_batched['d_gps'].to(device).abs().mean()\n",
    "                loss_R_abs = loss_R / sample_batched['d_compas'].to(device).abs().mean()\n",
    "#                 loss = loss_T + loss_R\n",
    "                loss = loss_T\n",
    "#                 losses_test.update(loss.data.item(), rgb0.size(0))\n",
    "                losses_test.update(loss.data.item(), in0.size(0))\n",
    "\n",
    "#             if losses_test.avg < best_test_loss:\n",
    "# #                         torch.save(net.state_dict(), os.path.join(wandb.run.dir, 'model.pt'))\n",
    "# #                         torch.save(net.state_dict(), \"model.pt\")\n",
    "#                 wandb.save('model.pt')\n",
    "# #                         torch.save(net.state_dict(), 'best_net.pt')\n",
    "# #                         best_model = copy.deepcopy(net)\n",
    "#                 best_test_loss = losses_test.avg\n",
    "            # Print to console\n",
    "#                 print('Epoch: [{0}][{1}/{2}] : test_loss = {loss.avg:.4f}'.format(epoch, i, N, loss=losses_test))\n",
    "\n",
    "        # Log to WB\n",
    "        wandb.log({'Epoch': epoch, 'Test loss': losses_test.avg,\n",
    "                   'Reletive gps loss': loss_T_abs, 'Reletive compas loss': loss_R_abs})\n",
    "#                 print(loss_T_abs, loss_R_abs)\n",
    "        \n",
    "        scheduler.step(losses_test.avg)\n",
    "        losses_test.reset()\n",
    "            \n",
    "\n",
    "    return net\n",
    "\n",
    "net = train(net, train_data, test_data)"
   ]
  },
  {
   "cell_type": "code",
   "execution_count": 21,
   "metadata": {},
   "outputs": [
    {
     "name": "stdout",
     "output_type": "stream",
     "text": [
      "\n"
     ]
    }
   ],
   "source": [
    "for j, sample_batched in enumerate(train_data):\n",
    "    compas = sample_batched['compas']\n",
    "    print()\n",
    "    break"
   ]
  },
  {
   "cell_type": "code",
   "execution_count": 24,
   "metadata": {},
   "outputs": [
    {
     "ename": "RuntimeError",
     "evalue": "Expected tensor for argument #1 'input' to have the same device as tensor for argument #2 'weight'; but device 0 does not equal 1 (while checking arguments for cudnn_convolution)",
     "output_type": "error",
     "traceback": [
      "\u001b[0;31m---------------------------------------------------------------------------\u001b[0m",
      "\u001b[0;31mRuntimeError\u001b[0m                              Traceback (most recent call last)",
      "\u001b[0;32m<ipython-input-24-257d20fd5af5>\u001b[0m in \u001b[0;36m<module>\u001b[0;34m\u001b[0m\n\u001b[1;32m      9\u001b[0m     \u001b[0min0\u001b[0m \u001b[0;34m=\u001b[0m \u001b[0mtorch\u001b[0m\u001b[0;34m.\u001b[0m\u001b[0mcat\u001b[0m\u001b[0;34m(\u001b[0m\u001b[0;34m(\u001b[0m\u001b[0mtop_down0\u001b[0m\u001b[0;34m,\u001b[0m \u001b[0mtop_down0\u001b[0m\u001b[0;34m,\u001b[0m \u001b[0mtop_down0\u001b[0m\u001b[0;34m)\u001b[0m\u001b[0;34m,\u001b[0m \u001b[0mdim\u001b[0m\u001b[0;34m=\u001b[0m\u001b[0;36m1\u001b[0m\u001b[0;34m)\u001b[0m\u001b[0;34m\u001b[0m\u001b[0;34m\u001b[0m\u001b[0m\n\u001b[1;32m     10\u001b[0m     \u001b[0min1\u001b[0m \u001b[0;34m=\u001b[0m \u001b[0mtorch\u001b[0m\u001b[0;34m.\u001b[0m\u001b[0mcat\u001b[0m\u001b[0;34m(\u001b[0m\u001b[0;34m(\u001b[0m\u001b[0mtop_down1\u001b[0m\u001b[0;34m,\u001b[0m \u001b[0mtop_down1\u001b[0m\u001b[0;34m,\u001b[0m \u001b[0mtop_down1\u001b[0m\u001b[0;34m)\u001b[0m\u001b[0;34m,\u001b[0m \u001b[0mdim\u001b[0m\u001b[0;34m=\u001b[0m\u001b[0;36m1\u001b[0m\u001b[0;34m)\u001b[0m\u001b[0;34m\u001b[0m\u001b[0;34m\u001b[0m\u001b[0m\n\u001b[0;32m---> 11\u001b[0;31m     \u001b[0mprint\u001b[0m\u001b[0;34m(\u001b[0m\u001b[0;34m'Compas'\u001b[0m\u001b[0;34m,\u001b[0m \u001b[0mnet\u001b[0m\u001b[0;34m(\u001b[0m\u001b[0;34m(\u001b[0m\u001b[0min0\u001b[0m\u001b[0;34m,\u001b[0m \u001b[0min1\u001b[0m\u001b[0;34m)\u001b[0m\u001b[0;34m)\u001b[0m\u001b[0;34m,\u001b[0m \u001b[0mi\u001b[0m\u001b[0;34m[\u001b[0m\u001b[0;34m'd_compas'\u001b[0m\u001b[0;34m]\u001b[0m\u001b[0;34m)\u001b[0m\u001b[0;34m\u001b[0m\u001b[0;34m\u001b[0m\u001b[0m\n\u001b[0m\u001b[1;32m     12\u001b[0m     \u001b[0mprint\u001b[0m\u001b[0;34m(\u001b[0m\u001b[0;34m'Gps'\u001b[0m\u001b[0;34m,\u001b[0m \u001b[0mnet\u001b[0m\u001b[0;34m(\u001b[0m\u001b[0;34m(\u001b[0m\u001b[0mi\u001b[0m\u001b[0;34m[\u001b[0m\u001b[0;34m'rgb0'\u001b[0m\u001b[0;34m]\u001b[0m\u001b[0;34m.\u001b[0m\u001b[0mto\u001b[0m\u001b[0;34m(\u001b[0m\u001b[0;34m'cuda:1'\u001b[0m\u001b[0;34m)\u001b[0m\u001b[0;34m,\u001b[0m \u001b[0mi\u001b[0m\u001b[0;34m[\u001b[0m\u001b[0;34m'rgb1'\u001b[0m\u001b[0;34m]\u001b[0m\u001b[0;34m.\u001b[0m\u001b[0mto\u001b[0m\u001b[0;34m(\u001b[0m\u001b[0;34m'cuda:1'\u001b[0m\u001b[0;34m)\u001b[0m\u001b[0;34m)\u001b[0m\u001b[0;34m)\u001b[0m\u001b[0;34m[\u001b[0m\u001b[0;36m0\u001b[0m\u001b[0;34m]\u001b[0m\u001b[0;34m,\u001b[0m \u001b[0mi\u001b[0m\u001b[0;34m[\u001b[0m\u001b[0;34m'd_gps'\u001b[0m\u001b[0;34m]\u001b[0m\u001b[0;34m)\u001b[0m\u001b[0;34m\u001b[0m\u001b[0;34m\u001b[0m\u001b[0m\n\u001b[1;32m     13\u001b[0m     \u001b[0;32mif\u001b[0m \u001b[0mi\u001b[0m \u001b[0;34m>=\u001b[0m \u001b[0mn\u001b[0m\u001b[0;34m:\u001b[0m\u001b[0;34m\u001b[0m\u001b[0;34m\u001b[0m\u001b[0m\n",
      "\u001b[0;32m/opt/conda/envs/habitat/lib/python3.6/site-packages/torch-1.4.0-py3.6-linux-x86_64.egg/torch/nn/modules/module.py\u001b[0m in \u001b[0;36m__call__\u001b[0;34m(self, *input, **kwargs)\u001b[0m\n\u001b[1;32m    530\u001b[0m             \u001b[0mresult\u001b[0m \u001b[0;34m=\u001b[0m \u001b[0mself\u001b[0m\u001b[0;34m.\u001b[0m\u001b[0m_slow_forward\u001b[0m\u001b[0;34m(\u001b[0m\u001b[0;34m*\u001b[0m\u001b[0minput\u001b[0m\u001b[0;34m,\u001b[0m \u001b[0;34m**\u001b[0m\u001b[0mkwargs\u001b[0m\u001b[0;34m)\u001b[0m\u001b[0;34m\u001b[0m\u001b[0;34m\u001b[0m\u001b[0m\n\u001b[1;32m    531\u001b[0m         \u001b[0;32melse\u001b[0m\u001b[0;34m:\u001b[0m\u001b[0;34m\u001b[0m\u001b[0;34m\u001b[0m\u001b[0m\n\u001b[0;32m--> 532\u001b[0;31m             \u001b[0mresult\u001b[0m \u001b[0;34m=\u001b[0m \u001b[0mself\u001b[0m\u001b[0;34m.\u001b[0m\u001b[0mforward\u001b[0m\u001b[0;34m(\u001b[0m\u001b[0;34m*\u001b[0m\u001b[0minput\u001b[0m\u001b[0;34m,\u001b[0m \u001b[0;34m**\u001b[0m\u001b[0mkwargs\u001b[0m\u001b[0;34m)\u001b[0m\u001b[0;34m\u001b[0m\u001b[0;34m\u001b[0m\u001b[0m\n\u001b[0m\u001b[1;32m    533\u001b[0m         \u001b[0;32mfor\u001b[0m \u001b[0mhook\u001b[0m \u001b[0;32min\u001b[0m \u001b[0mself\u001b[0m\u001b[0;34m.\u001b[0m\u001b[0m_forward_hooks\u001b[0m\u001b[0;34m.\u001b[0m\u001b[0mvalues\u001b[0m\u001b[0;34m(\u001b[0m\u001b[0;34m)\u001b[0m\u001b[0;34m:\u001b[0m\u001b[0;34m\u001b[0m\u001b[0;34m\u001b[0m\u001b[0m\n\u001b[1;32m    534\u001b[0m             \u001b[0mhook_result\u001b[0m \u001b[0;34m=\u001b[0m \u001b[0mhook\u001b[0m\u001b[0;34m(\u001b[0m\u001b[0mself\u001b[0m\u001b[0;34m,\u001b[0m \u001b[0minput\u001b[0m\u001b[0;34m,\u001b[0m \u001b[0mresult\u001b[0m\u001b[0;34m)\u001b[0m\u001b[0;34m\u001b[0m\u001b[0;34m\u001b[0m\u001b[0m\n",
      "\u001b[0;32m~/makarenko/Odometry/Model.py\u001b[0m in \u001b[0;36mforward\u001b[0;34m(self, x)\u001b[0m\n\u001b[1;32m    233\u001b[0m \u001b[0;34m\u001b[0m\u001b[0m\n\u001b[1;32m    234\u001b[0m \u001b[0;31m#         print('Head1', out0.shape, out0.grad_fn, out0.max().backward())\u001b[0m\u001b[0;34m\u001b[0m\u001b[0;34m\u001b[0m\u001b[0;34m\u001b[0m\u001b[0m\n\u001b[0;32m--> 235\u001b[0;31m         \u001b[0mout0\u001b[0m \u001b[0;34m=\u001b[0m \u001b[0mself\u001b[0m\u001b[0;34m.\u001b[0m\u001b[0modom_en1\u001b[0m\u001b[0;34m(\u001b[0m\u001b[0mrgb0\u001b[0m\u001b[0;34m)\u001b[0m\u001b[0;34m\u001b[0m\u001b[0;34m\u001b[0m\u001b[0m\n\u001b[0m\u001b[1;32m    236\u001b[0m \u001b[0;31m#         print('enc1', out0.shape, out0.grad_fn, out0.max().backward())\u001b[0m\u001b[0;34m\u001b[0m\u001b[0;34m\u001b[0m\u001b[0;34m\u001b[0m\u001b[0m\n\u001b[1;32m    237\u001b[0m \u001b[0;34m\u001b[0m\u001b[0m\n",
      "\u001b[0;32m/opt/conda/envs/habitat/lib/python3.6/site-packages/torch-1.4.0-py3.6-linux-x86_64.egg/torch/nn/modules/module.py\u001b[0m in \u001b[0;36m__call__\u001b[0;34m(self, *input, **kwargs)\u001b[0m\n\u001b[1;32m    530\u001b[0m             \u001b[0mresult\u001b[0m \u001b[0;34m=\u001b[0m \u001b[0mself\u001b[0m\u001b[0;34m.\u001b[0m\u001b[0m_slow_forward\u001b[0m\u001b[0;34m(\u001b[0m\u001b[0;34m*\u001b[0m\u001b[0minput\u001b[0m\u001b[0;34m,\u001b[0m \u001b[0;34m**\u001b[0m\u001b[0mkwargs\u001b[0m\u001b[0;34m)\u001b[0m\u001b[0;34m\u001b[0m\u001b[0;34m\u001b[0m\u001b[0m\n\u001b[1;32m    531\u001b[0m         \u001b[0;32melse\u001b[0m\u001b[0;34m:\u001b[0m\u001b[0;34m\u001b[0m\u001b[0;34m\u001b[0m\u001b[0m\n\u001b[0;32m--> 532\u001b[0;31m             \u001b[0mresult\u001b[0m \u001b[0;34m=\u001b[0m \u001b[0mself\u001b[0m\u001b[0;34m.\u001b[0m\u001b[0mforward\u001b[0m\u001b[0;34m(\u001b[0m\u001b[0;34m*\u001b[0m\u001b[0minput\u001b[0m\u001b[0;34m,\u001b[0m \u001b[0;34m**\u001b[0m\u001b[0mkwargs\u001b[0m\u001b[0;34m)\u001b[0m\u001b[0;34m\u001b[0m\u001b[0;34m\u001b[0m\u001b[0m\n\u001b[0m\u001b[1;32m    533\u001b[0m         \u001b[0;32mfor\u001b[0m \u001b[0mhook\u001b[0m \u001b[0;32min\u001b[0m \u001b[0mself\u001b[0m\u001b[0;34m.\u001b[0m\u001b[0m_forward_hooks\u001b[0m\u001b[0;34m.\u001b[0m\u001b[0mvalues\u001b[0m\u001b[0;34m(\u001b[0m\u001b[0;34m)\u001b[0m\u001b[0;34m:\u001b[0m\u001b[0;34m\u001b[0m\u001b[0;34m\u001b[0m\u001b[0m\n\u001b[1;32m    534\u001b[0m             \u001b[0mhook_result\u001b[0m \u001b[0;34m=\u001b[0m \u001b[0mhook\u001b[0m\u001b[0;34m(\u001b[0m\u001b[0mself\u001b[0m\u001b[0;34m,\u001b[0m \u001b[0minput\u001b[0m\u001b[0;34m,\u001b[0m \u001b[0mresult\u001b[0m\u001b[0;34m)\u001b[0m\u001b[0;34m\u001b[0m\u001b[0;34m\u001b[0m\u001b[0m\n",
      "\u001b[0;32m/opt/conda/envs/habitat/lib/python3.6/site-packages/torch-1.4.0-py3.6-linux-x86_64.egg/torch/nn/modules/container.py\u001b[0m in \u001b[0;36mforward\u001b[0;34m(self, input)\u001b[0m\n\u001b[1;32m     98\u001b[0m     \u001b[0;32mdef\u001b[0m \u001b[0mforward\u001b[0m\u001b[0;34m(\u001b[0m\u001b[0mself\u001b[0m\u001b[0;34m,\u001b[0m \u001b[0minput\u001b[0m\u001b[0;34m)\u001b[0m\u001b[0;34m:\u001b[0m\u001b[0;34m\u001b[0m\u001b[0;34m\u001b[0m\u001b[0m\n\u001b[1;32m     99\u001b[0m         \u001b[0;32mfor\u001b[0m \u001b[0mmodule\u001b[0m \u001b[0;32min\u001b[0m \u001b[0mself\u001b[0m\u001b[0;34m:\u001b[0m\u001b[0;34m\u001b[0m\u001b[0;34m\u001b[0m\u001b[0m\n\u001b[0;32m--> 100\u001b[0;31m             \u001b[0minput\u001b[0m \u001b[0;34m=\u001b[0m \u001b[0mmodule\u001b[0m\u001b[0;34m(\u001b[0m\u001b[0minput\u001b[0m\u001b[0;34m)\u001b[0m\u001b[0;34m\u001b[0m\u001b[0;34m\u001b[0m\u001b[0m\n\u001b[0m\u001b[1;32m    101\u001b[0m         \u001b[0;32mreturn\u001b[0m \u001b[0minput\u001b[0m\u001b[0;34m\u001b[0m\u001b[0;34m\u001b[0m\u001b[0m\n\u001b[1;32m    102\u001b[0m \u001b[0;34m\u001b[0m\u001b[0m\n",
      "\u001b[0;32m/opt/conda/envs/habitat/lib/python3.6/site-packages/torch-1.4.0-py3.6-linux-x86_64.egg/torch/nn/modules/module.py\u001b[0m in \u001b[0;36m__call__\u001b[0;34m(self, *input, **kwargs)\u001b[0m\n\u001b[1;32m    530\u001b[0m             \u001b[0mresult\u001b[0m \u001b[0;34m=\u001b[0m \u001b[0mself\u001b[0m\u001b[0;34m.\u001b[0m\u001b[0m_slow_forward\u001b[0m\u001b[0;34m(\u001b[0m\u001b[0;34m*\u001b[0m\u001b[0minput\u001b[0m\u001b[0;34m,\u001b[0m \u001b[0;34m**\u001b[0m\u001b[0mkwargs\u001b[0m\u001b[0;34m)\u001b[0m\u001b[0;34m\u001b[0m\u001b[0;34m\u001b[0m\u001b[0m\n\u001b[1;32m    531\u001b[0m         \u001b[0;32melse\u001b[0m\u001b[0;34m:\u001b[0m\u001b[0;34m\u001b[0m\u001b[0;34m\u001b[0m\u001b[0m\n\u001b[0;32m--> 532\u001b[0;31m             \u001b[0mresult\u001b[0m \u001b[0;34m=\u001b[0m \u001b[0mself\u001b[0m\u001b[0;34m.\u001b[0m\u001b[0mforward\u001b[0m\u001b[0;34m(\u001b[0m\u001b[0;34m*\u001b[0m\u001b[0minput\u001b[0m\u001b[0;34m,\u001b[0m \u001b[0;34m**\u001b[0m\u001b[0mkwargs\u001b[0m\u001b[0;34m)\u001b[0m\u001b[0;34m\u001b[0m\u001b[0;34m\u001b[0m\u001b[0m\n\u001b[0m\u001b[1;32m    533\u001b[0m         \u001b[0;32mfor\u001b[0m \u001b[0mhook\u001b[0m \u001b[0;32min\u001b[0m \u001b[0mself\u001b[0m\u001b[0;34m.\u001b[0m\u001b[0m_forward_hooks\u001b[0m\u001b[0;34m.\u001b[0m\u001b[0mvalues\u001b[0m\u001b[0;34m(\u001b[0m\u001b[0;34m)\u001b[0m\u001b[0;34m:\u001b[0m\u001b[0;34m\u001b[0m\u001b[0;34m\u001b[0m\u001b[0m\n\u001b[1;32m    534\u001b[0m             \u001b[0mhook_result\u001b[0m \u001b[0;34m=\u001b[0m \u001b[0mhook\u001b[0m\u001b[0;34m(\u001b[0m\u001b[0mself\u001b[0m\u001b[0;34m,\u001b[0m \u001b[0minput\u001b[0m\u001b[0;34m,\u001b[0m \u001b[0mresult\u001b[0m\u001b[0;34m)\u001b[0m\u001b[0;34m\u001b[0m\u001b[0;34m\u001b[0m\u001b[0m\n",
      "\u001b[0;32m/opt/conda/envs/habitat/lib/python3.6/site-packages/torch-1.4.0-py3.6-linux-x86_64.egg/torch/nn/modules/conv.py\u001b[0m in \u001b[0;36mforward\u001b[0;34m(self, input)\u001b[0m\n\u001b[1;32m    343\u001b[0m \u001b[0;34m\u001b[0m\u001b[0m\n\u001b[1;32m    344\u001b[0m     \u001b[0;32mdef\u001b[0m \u001b[0mforward\u001b[0m\u001b[0;34m(\u001b[0m\u001b[0mself\u001b[0m\u001b[0;34m,\u001b[0m \u001b[0minput\u001b[0m\u001b[0;34m)\u001b[0m\u001b[0;34m:\u001b[0m\u001b[0;34m\u001b[0m\u001b[0;34m\u001b[0m\u001b[0m\n\u001b[0;32m--> 345\u001b[0;31m         \u001b[0;32mreturn\u001b[0m \u001b[0mself\u001b[0m\u001b[0;34m.\u001b[0m\u001b[0mconv2d_forward\u001b[0m\u001b[0;34m(\u001b[0m\u001b[0minput\u001b[0m\u001b[0;34m,\u001b[0m \u001b[0mself\u001b[0m\u001b[0;34m.\u001b[0m\u001b[0mweight\u001b[0m\u001b[0;34m)\u001b[0m\u001b[0;34m\u001b[0m\u001b[0;34m\u001b[0m\u001b[0m\n\u001b[0m\u001b[1;32m    346\u001b[0m \u001b[0;34m\u001b[0m\u001b[0m\n\u001b[1;32m    347\u001b[0m \u001b[0;32mclass\u001b[0m \u001b[0mConv3d\u001b[0m\u001b[0;34m(\u001b[0m\u001b[0m_ConvNd\u001b[0m\u001b[0;34m)\u001b[0m\u001b[0;34m:\u001b[0m\u001b[0;34m\u001b[0m\u001b[0;34m\u001b[0m\u001b[0m\n",
      "\u001b[0;32m/opt/conda/envs/habitat/lib/python3.6/site-packages/torch-1.4.0-py3.6-linux-x86_64.egg/torch/nn/modules/conv.py\u001b[0m in \u001b[0;36mconv2d_forward\u001b[0;34m(self, input, weight)\u001b[0m\n\u001b[1;32m    340\u001b[0m                             _pair(0), self.dilation, self.groups)\n\u001b[1;32m    341\u001b[0m         return F.conv2d(input, weight, self.bias, self.stride,\n\u001b[0;32m--> 342\u001b[0;31m                         self.padding, self.dilation, self.groups)\n\u001b[0m\u001b[1;32m    343\u001b[0m \u001b[0;34m\u001b[0m\u001b[0m\n\u001b[1;32m    344\u001b[0m     \u001b[0;32mdef\u001b[0m \u001b[0mforward\u001b[0m\u001b[0;34m(\u001b[0m\u001b[0mself\u001b[0m\u001b[0;34m,\u001b[0m \u001b[0minput\u001b[0m\u001b[0;34m)\u001b[0m\u001b[0;34m:\u001b[0m\u001b[0;34m\u001b[0m\u001b[0;34m\u001b[0m\u001b[0m\n",
      "\u001b[0;31mRuntimeError\u001b[0m: Expected tensor for argument #1 'input' to have the same device as tensor for argument #2 'weight'; but device 0 does not equal 1 (while checking arguments for cudnn_convolution)"
     ]
    }
   ],
   "source": [
    "n = 10\n",
    "net.eval()\n",
    "for i, sample_batched in enumerate(train_data):\n",
    "    top_down0 = mapper.get_top_down_map(sample_batched['depth0'].squeeze(1).numpy())\n",
    "    top_down0 = torch.FloatTensor(top_down0).unsqueeze(1).to(device)\n",
    "    top_down1 = mapper.get_top_down_map(sample_batched['depth1'].squeeze(1).numpy())\n",
    "    top_down1 = torch.FloatTensor(top_down1).unsqueeze(1).to(device)\n",
    "\n",
    "    in0 = torch.cat((top_down0, top_down0, top_down0), dim=1)\n",
    "    in1 = torch.cat((top_down1, top_down1, top_down1), dim=1)\n",
    "    print('Compas', net((in0, in1)), i['d_compas'])\n",
    "    print('Gps', net((in0, in1)), i['d_gps'])\n",
    "    if i >= n: \n",
    "        break"
   ]
  },
  {
   "cell_type": "code",
   "execution_count": null,
   "metadata": {},
   "outputs": [],
   "source": [
    "a = torch.rand((10, 2), requires_grad=True)\n",
    "c = torch.rand(1, requires_grad=True)"
   ]
  },
  {
   "cell_type": "code",
   "execution_count": null,
   "metadata": {},
   "outputs": [],
   "source": [
    "nn.ELU(inplace=True)(torch.FloatTensor([0.1, -0.1, -10]))"
   ]
  },
  {
   "cell_type": "markdown",
   "metadata": {},
   "source": [
    "#### Create pretrained ppo agent to perform actions in environment\n"
   ]
  },
  {
   "cell_type": "code",
   "execution_count": null,
   "metadata": {},
   "outputs": [],
   "source": [
    "from habitat_baselines.agents.ppo_agents import PPOAgent, get_default_config\n",
    "agent_config = get_default_config()\n",
    "agent_config.INPUT_TYPE = \"rgbd\"\n",
    "agent_config.MODEL_PATH = \"./data/agents/rgbd.pth\"\n",
    "agent = PPOAgent(agent_config)\n",
    "agent.reset()"
   ]
  },
  {
   "cell_type": "markdown",
   "metadata": {},
   "source": [
    "#### Define training loop and helpfull augmentations"
   ]
  },
  {
   "cell_type": "code",
   "execution_count": null,
   "metadata": {},
   "outputs": [],
   "source": [
    "def train(net, X_train, y_train, losses_train, epoch):\n",
    "        \n",
    "    optimizer = torch.optim.Adam(net.parameters(), lr=1e-5, betas=(0.9, 0.999))\n",
    "    l1_criterion = nn.L1Loss()\n",
    "    \n",
    "    ###Train loop\n",
    "    for i in range(epoch):\n",
    "        optimizer.zero_grad()\n",
    "        net.train()\n",
    "\n",
    "        image = torch.autograd.Variable(X_train.to(device))\n",
    "        depth = torch.autograd.Variable(y_train.to(device, non_blocking=True))\n",
    "\n",
    "        # Normalize depth\n",
    "        depth_n = DepthNorm(depth)\n",
    "\n",
    "        output = net.forward(image)\n",
    "        output = nn.functional.interpolate(output, (256, 256))\n",
    "\n",
    "        l_depth = l1_criterion(output, depth_n)\n",
    "        l_ssim = torch.clamp((1 - ssim(output, depth_n, val_range = 1000.0 / 10.0)) * 0.5, 0, 1)\n",
    "        loss = (1.0 * l_ssim) + (0.1 * l_depth)\n",
    "        losses_train.update(loss.data.item(), image.size(0))\n",
    "\n",
    "        loss.backward()\n",
    "        optimizer.step()\n",
    "    \n",
    "    ###\n",
    "    return net, losses_train\n",
    "\n",
    "class RandomHorizontalFlip:\n",
    "    def __call__(self, sample):\n",
    "        image, depth = sample['rgb'], sample['depth']\n",
    "        \n",
    "        if random.random() < 0.5:\n",
    "            image = np.flip(image, 1)\n",
    "            depth = np.flip(depth, 1)\n",
    "        \n",
    "        return {'rgb': image, 'depth': depth}\n",
    "\n",
    "class RandomChannelSwap:\n",
    "    def __init__(self, probability):\n",
    "        from itertools import permutations\n",
    "        self.probability = probability\n",
    "        self.indices = list(permutations(range(3), 3))\n",
    "    \n",
    "    def __call__(self, sample):\n",
    "        image, depth = sample['rgb'], sample['depth']\n",
    "\n",
    "        if random.random() < self.probability:\n",
    "            image = image[...,list(self.indices[random.randint(0, len(self.indices) -1)])]\n",
    "        \n",
    "        return {'rgb': image, 'depth': depth}"
   ]
  },
  {
   "cell_type": "code",
   "execution_count": null,
   "metadata": {},
   "outputs": [],
   "source": [
    "observations = envs.reset()\n",
    "\n",
    "X_train = []\n",
    "y_train = []\n",
    "epoch = 2\n",
    "\n",
    "\n",
    "l1_criterion = nn.L1Loss()\n",
    "losses_train = AverageMeter()\n",
    "losses_test = AverageMeter()\n",
    "best_test_loss = float(np.inf)\n",
    "\n",
    "for i in tqdm(range(1000000)):\n",
    "    \n",
    "    \n",
    "    actions = []\n",
    "    for observ in observations: \n",
    "        action = agent.act(observ)\n",
    "        actions.append(action['action'])\n",
    "        \n",
    "        observ = RandomChannelSwap(0.5)(RandomHorizontalFlip()(observ))\n",
    "        observ['depth'] = np.clip(observ['depth'] * 1000, 10, 1000)\n",
    "        \n",
    "        X_train.append(np.swapaxes(observ['rgb'],0,1)/255)\n",
    "        y_train.append(np.swapaxes(observ['depth'],0,1))\n",
    "\n",
    "    if (i + 1) % 8 == 0:\n",
    "        X_train = torch.FloatTensor(X_train).permute(0, 3, 2, 1)\n",
    "        y_train = torch.FloatTensor(y_train).permute(0, 3, 2, 1)\n",
    "        \n",
    "        \n",
    "        net, losses_train = train(net, X_train, y_train, losses_train, epoch)\n",
    "\n",
    "        ###\n",
    "        if i % 2 == 1:\n",
    "            print('epoch {} : train_loss = {}'.format(i, losses_train.avg))\n",
    "            wandb.log({'Iteration': i, 'Online train loss': losses_train.val})\n",
    "        \n",
    "        losses_train.reset()\n",
    "        X_train = []\n",
    "        y_train = []\n",
    "        \n",
    "    if (i) % 300 == 0:\n",
    "        with torch.no_grad():\n",
    "            net.eval()\n",
    "\n",
    "            for sample_batched in tqdm(test_data):\n",
    "            \n",
    "                image = torch.autograd.Variable(sample_batched['image'].to(device))\n",
    "                depth = torch.autograd.Variable(sample_batched['depth'].to(device, non_blocking=True))\n",
    "\n",
    "                # Normalize depth\n",
    "\n",
    "                output = DepthNorm(net.forward(image))\n",
    "                output = nn.functional.interpolate(output, (256, 256))\n",
    "                \n",
    "                l_depth = l1_criterion(output, depth)\n",
    "                l_ssim = torch.clamp((1 - ssim(output, depth, val_range = 1000.0 / 10.0)) * 0.5, 0, 1)\n",
    "                loss = (1.0 * l_ssim) + (0.1 * l_depth)\n",
    "                losses_test.update(loss.data.item(), image.size(0))\n",
    "                \n",
    "            ### Image save\n",
    "\n",
    "            scen_num = np.random.randint(batch_size)\n",
    "            for d in test_data:\n",
    "                x = d['image'][scen_num]\n",
    "                y = d['depth'][scen_num] / 1000\n",
    "                x = x.permute(1,2,0)\n",
    "                y = y.permute(1,2,0)\n",
    "                break\n",
    "\n",
    "            d = d['image'].to(device)\n",
    "            my_depth = net.forward(d)\n",
    "            my_depth = nn.functional.interpolate(my_depth, (256, 256))\n",
    "            my_depth = my_depth.permute(0, 2, 3, 1)\n",
    "            my_depth_numpy = my_depth.cpu().detach().numpy()[scen_num]\n",
    "\n",
    "            fig = plt.figure(figsize=(15,15))\n",
    "            a = fig.add_subplot(1, 3, 1)\n",
    "            imgplot = plt.imshow(x)\n",
    "            a.set_title('Img')\n",
    "            a = fig.add_subplot(1, 3, 2)\n",
    "            imgplot = plt.imshow(np.concatenate((y, y, y), axis=2))\n",
    "            a.set_title('True_depth')\n",
    "            a = fig.add_subplot(1, 3, 3)\n",
    "            imgplot = plt.imshow(np.concatenate((1/my_depth_numpy, 1/my_depth_numpy, 1/my_depth_numpy), axis=2))\n",
    "            a.set_title('Predict_depth')\n",
    "            \n",
    "            wandb.log({'Iteration': i, 'Online example depth': wandb.Image(fig)})\n",
    "\n",
    "            ###\n",
    "        print('epoch {} : test_loss = {}'.format(i, losses_test.avg))\n",
    "        wandb.log({'Iteration': i, 'Online test loss': losses_test.avg})\n",
    "\n",
    "        if losses_test.avg < best_test_loss:\n",
    "            torch.save(net.state_dict(), \"online_model.pt\")\n",
    "            wandb.save('online_model.pt')\n",
    "            best_test_loss = losses_test.avg\n",
    "        losses_test.reset()\n",
    "    \n",
    "    actions = np.array(actions)\n",
    "    actions = (actions + 1) % 4\n",
    "    observations = envs.step(actions)"
   ]
  },
  {
   "cell_type": "code",
   "execution_count": null,
   "metadata": {},
   "outputs": [],
   "source": []
  },
  {
   "cell_type": "code",
   "execution_count": null,
   "metadata": {},
   "outputs": [],
   "source": []
  }
 ],
 "metadata": {
  "kernelspec": {
   "display_name": "Python 3",
   "language": "python",
   "name": "python3"
  },
  "language_info": {
   "codemirror_mode": {
    "name": "ipython",
    "version": 3
   },
   "file_extension": ".py",
   "mimetype": "text/x-python",
   "name": "python",
   "nbconvert_exporter": "python",
   "pygments_lexer": "ipython3",
   "version": "3.6.10"
  }
 },
 "nbformat": 4,
 "nbformat_minor": 4
}
