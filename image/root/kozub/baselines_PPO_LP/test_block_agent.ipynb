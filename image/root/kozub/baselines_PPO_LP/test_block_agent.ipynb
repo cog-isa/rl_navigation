{
 "cells": [
  {
   "cell_type": "code",
   "execution_count": 1,
   "metadata": {},
   "outputs": [
    {
     "name": "stderr",
     "output_type": "stream",
     "text": [
      "/opt/conda/lib/python3.7/site-packages/tensorboard/compat/tensorflow_stub/dtypes.py:541: FutureWarning: Passing (type, 1) or '1type' as a synonym of type is deprecated; in a future version of numpy, it will be understood as (type, (1,)) / '(1,)type'.\n",
      "  _np_qint8 = np.dtype([(\"qint8\", np.int8, 1)])\n",
      "/opt/conda/lib/python3.7/site-packages/tensorboard/compat/tensorflow_stub/dtypes.py:542: FutureWarning: Passing (type, 1) or '1type' as a synonym of type is deprecated; in a future version of numpy, it will be understood as (type, (1,)) / '(1,)type'.\n",
      "  _np_quint8 = np.dtype([(\"quint8\", np.uint8, 1)])\n",
      "/opt/conda/lib/python3.7/site-packages/tensorboard/compat/tensorflow_stub/dtypes.py:543: FutureWarning: Passing (type, 1) or '1type' as a synonym of type is deprecated; in a future version of numpy, it will be understood as (type, (1,)) / '(1,)type'.\n",
      "  _np_qint16 = np.dtype([(\"qint16\", np.int16, 1)])\n",
      "/opt/conda/lib/python3.7/site-packages/tensorboard/compat/tensorflow_stub/dtypes.py:544: FutureWarning: Passing (type, 1) or '1type' as a synonym of type is deprecated; in a future version of numpy, it will be understood as (type, (1,)) / '(1,)type'.\n",
      "  _np_quint16 = np.dtype([(\"quint16\", np.uint16, 1)])\n",
      "/opt/conda/lib/python3.7/site-packages/tensorboard/compat/tensorflow_stub/dtypes.py:545: FutureWarning: Passing (type, 1) or '1type' as a synonym of type is deprecated; in a future version of numpy, it will be understood as (type, (1,)) / '(1,)type'.\n",
      "  _np_qint32 = np.dtype([(\"qint32\", np.int32, 1)])\n",
      "/opt/conda/lib/python3.7/site-packages/tensorboard/compat/tensorflow_stub/dtypes.py:550: FutureWarning: Passing (type, 1) or '1type' as a synonym of type is deprecated; in a future version of numpy, it will be understood as (type, (1,)) / '(1,)type'.\n",
      "  np_resource = np.dtype([(\"resource\", np.ubyte, 1)])\n"
     ]
    }
   ],
   "source": [
    "import cv2\n",
    "import time\n",
    "import numpy as np\n",
    "from IPython.display import clear_output\n",
    "import matplotlib.pyplot as plt\n",
    "\n",
    "\n",
    "import habitat\n",
    "from habitat.sims.habitat_simulator.actions import HabitatSimActions\n",
    "\n",
    "from common import environments\n",
    "import common.default_blocks as db\n",
    "from agents.kozub_agent import BlockAgent\n",
    "import matplotlib.pyplot as plt\n",
    "from common.baseline_registry import baseline_registry\n",
    "from config.default import get_config"
   ]
  },
  {
   "cell_type": "code",
   "execution_count": 2,
   "metadata": {},
   "outputs": [],
   "source": [
    "# set keystroke constant\n",
    "F, L, R, S=  \"w\", \"a\", \"d\", \"f\"\n",
    "class keybord_agent():\n",
    "    def __init__(self):\n",
    "        pass\n",
    "    def reset(self):\n",
    "        pass\n",
    "    def act(self, *args):\n",
    "        not_valid_key = True\n",
    "        while not_valid_key:\n",
    "            not_valid_key = False\n",
    "            print('waitkEY')\n",
    "            keystroke = cv2.waitKey(0)\n",
    "\n",
    "            if keystroke == ord(F):\n",
    "                action = HabitatSimActions.MOVE_FORWARD\n",
    "                #agent.set_last_action((action - 1) % 4)\n",
    "                print(\"action: FORWARD\")\n",
    "            elif keystroke == ord(L):\n",
    "                action = HabitatSimActions.TURN_LEFT\n",
    "                #agent.set_last_action((action - 1) % 4)\n",
    "                print(\"action: LEFT\")\n",
    "            elif keystroke == ord(R):\n",
    "                action = HabitatSimActions.TURN_RIGHT\n",
    "                #agent.set_last_action((action - 1) % 4)\n",
    "                print(\"action: RIGHT\")\n",
    "            elif keystroke == ord(S):\n",
    "                action = HabitatSimActions.STOP\n",
    "                #agent.setlast_action((action - 1) % 4)\n",
    "                print(\"action: FINISH\")\n",
    "            else:\n",
    "                not_valid_key = True\n",
    "                print(\"INVALID KEY\")\n",
    "        return {'action' : action-1}"
   ]
  },
  {
   "cell_type": "code",
   "execution_count": 3,
   "metadata": {},
   "outputs": [],
   "source": [
    "def show_rgb(image, cv):\n",
    "    if cv:\n",
    "        cv2.imshow(\"RGB\", transform_rgb_bgr(image))\n",
    "    else:\n",
    "        plt.imshow(image)\n",
    "        plt.plot()\n",
    "        time.sleep(1)\n",
    "\n",
    "def show_rgb(image, cv):\n",
    "    if cv:\n",
    "        cv2.imshow(\"RGB\", transform_rgb_bgr(image))\n",
    "    else:\n",
    "        plt.imshow(image)\n",
    "        plt.plot()\n",
    "        time.sleep(1)\n",
    "\n",
    "def transform_rgb_bgr(imsage):\n",
    "    return image[:, :, [2, 1, 0]]"
   ]
  },
  {
   "cell_type": "code",
   "execution_count": 4,
   "metadata": {},
   "outputs": [],
   "source": [
    "def main(episodes = 1, steps = 50, env_name = 'NavRLEnv', keybord_control = False, \n",
    "         show_step_info = False, show_episode_info = False,\n",
    "         rgb = False, cv_rgb = False, cv_control = False):\n",
    "\n",
    "    if env_name == 'NavRLEnv':\n",
    "        config = get_config(\"./config/pointnav/test_agent_pointnav.yaml\")\n",
    "        config.defrost()\n",
    "        config.TASK_CONFIG.DATASET.DATA_PATH = \"/habitat-api/data/datasets/pointnav/gibson/v1/val/val.json.gz\"\n",
    "        config.RL.SUCCESS_REWARD = 10\n",
    "        \n",
    "        config.SENSORS = ['RGB_SENSOR']\n",
    "        config.TASK_CONFIG.PYROBOT.SENSORS = ['RGB_SENSOR']\n",
    "        config.TASK_CONFIG.SIMULATOR.AGENT_0.SENSORS = ['RGB_SENSOR']\n",
    "        \n",
    "        #set model path\n",
    "        config.AGENT.MODEL_PATH = \"./LP_weights.pth\"     \n",
    "        config.freeze()\n",
    "    else:\n",
    "        config = get_config(\"./config/pointnav/train_LP_pointnav.yaml\")\n",
    "        config.defrost()\n",
    "        config.TASK_CONFIG.DATASET.DATA_PATH=\"/habitat-api/data/datasets/pointnav/gibson/v1/train/content/Azusa.json.gz\"\n",
    "        config.RL.SUCCESS_REWARD = 1\n",
    "        config.TASK_CONFIG.TASK.POSSIBLE_ACTIONS = ['MOVE_FORWARD', 'TURN_LEFT', 'TURN_RIGHT']\n",
    "        config.freeze()\n",
    "\n",
    "    # Agent:\n",
    "    if keybord_control:\n",
    "        agent = keybord_agent()\n",
    "    else:\n",
    "        agent = BlockAgent(config)\n",
    "    # Environment:\n",
    "    env = baseline_registry.get_env(config.ENV_NAME)(config=config)\n",
    "    \n",
    "    #Main Cycle\n",
    "    spls = []\n",
    "    for i in range(episodes):\n",
    "        observation = env.reset()\n",
    "        count_steps = 0\n",
    "        agent.reset()\n",
    "        if show_step_info:\n",
    "            print(\"Agent stepping around inside environment.\")\n",
    "            print(\"Destination, distance: {:3f}, theta(radians): {:.2f}\".format(\n",
    "                observation['pointgoal_with_gps_compass'][0], observation['pointgoal_with_gps_compass'][1]))\n",
    "\n",
    "        if rgb or keybord_control:\n",
    "            show_rgb(observation['rgb'], cv_rgb)\n",
    "\n",
    "        action = None\n",
    "        done = False\n",
    "        while not action == HabitatSimActions.STOP\\\n",
    "                and count_steps < steps and not done:\n",
    "\n",
    "            action = agent.act(env, observation)\n",
    "\n",
    "            observation, reward, done, info = env.step(**action)\n",
    "            count_steps += 1\n",
    "\n",
    "            if rgb or keybord_control:\n",
    "                show_rgb(observation['rgb'], cv_rgb)\n",
    "            if show_step_info:\n",
    "                print('agent chose action:', action)\n",
    "                print(\"Destination, distance: {:3f}, theta(radians): {:.2f}, reward: {:.2f}\".format(\n",
    "                    observation['pointgoal_with_gps_compass'][0], observation['pointgoal_with_gps_compass'][1], reward))\n",
    "\n",
    "                \n",
    "        spls.append(info['spl'])\n",
    "        \n",
    "        if show_episode_info:\n",
    "            print(\"Episode finished after {} steps.\".format(count_steps))\n",
    "            if action['action'] == HabitatSimActions.STOP and observation['pointgoal_with_gps_compass'][0] < 0.2:\n",
    "                print(\"you successfully navigated to destination point with spl: \", info)\n",
    "            else:\n",
    "                print(\"your navigation was unsuccessful\")\n",
    "                \n",
    "    clear_output()\n",
    "    plt.plot(spls, label='spl')\n",
    "    plt.legend()\n",
    "    plt.plot()\n",
    "    print('mean spl: ', np.mean(spls))\n",
    "    env.close()"
   ]
  },
  {
   "cell_type": "code",
   "execution_count": 5,
   "metadata": {},
   "outputs": [
    {
     "name": "stdout",
     "output_type": "stream",
     "text": [
      "mean spl:  0.7801142927096438\n"
     ]
    },
    {
     "data": {
      "image/png": "[encoded data removed]",
      "text/plain": [
       "<Figure size 432x288 with 1 Axes>"
      ]
     },
     "metadata": {
      "needs_background": "light"
     },
     "output_type": "display_data"
    }
   ],
   "source": [
    "if __name__ == \"__main__\":\n",
    "    obs = main(episodes = 20, \n",
    "               steps = 500, \n",
    "               env_name = 'NavRLEnv',\n",
    "               keybord_control=False, \n",
    "               show_step_info = False, \n",
    "               show_episode_info = True,\n",
    "               rgb = False, \n",
    "               cv_rgb = True, \n",
    "               cv_control = True)"
   ]
  }
 ],
 "metadata": {
  "kernelspec": {
   "display_name": "Python 3",
   "language": "python",
   "name": "python3"
  },
  "language_info": {
   "codemirror_mode": {
    "name": "ipython",
    "version": 3
   },
   "file_extension": ".py",
   "mimetype": "text/x-python",
   "name": "python",
   "nbconvert_exporter": "python",
   "pygments_lexer": "ipython3",
   "version": "3.7.0"
  }
 },
 "nbformat": 4,
 "nbformat_minor": 4
}
