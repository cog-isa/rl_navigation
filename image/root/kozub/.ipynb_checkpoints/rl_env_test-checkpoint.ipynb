{
 "cells": [
  {
   "cell_type": "code",
   "execution_count": 1,
   "metadata": {},
   "outputs": [],
   "source": [
    "!ln -s /home/data /habitat-api/data\n",
    "!ln -s /habitat-api /home/habitat-api\n",
    "!cp ./configs/default2.py /habitat-api/habitat/config/default.py"
   ]
  },
  {
   "cell_type": "code",
   "execution_count": 1,
   "metadata": {},
   "outputs": [
    {
     "name": "stderr",
     "output_type": "stream",
     "text": [
      "/opt/conda/envs/habitat/lib/python3.6/site-packages/tensorflow/python/framework/dtypes.py:516: FutureWarning: Passing (type, 1) or '1type' as a synonym of type is deprecated; in a future version of numpy, it will be understood as (type, (1,)) / '(1,)type'.\n",
      "  _np_qint8 = np.dtype([(\"qint8\", np.int8, 1)])\n",
      "/opt/conda/envs/habitat/lib/python3.6/site-packages/tensorflow/python/framework/dtypes.py:517: FutureWarning: Passing (type, 1) or '1type' as a synonym of type is deprecated; in a future version of numpy, it will be understood as (type, (1,)) / '(1,)type'.\n",
      "  _np_quint8 = np.dtype([(\"quint8\", np.uint8, 1)])\n",
      "/opt/conda/envs/habitat/lib/python3.6/site-packages/tensorflow/python/framework/dtypes.py:518: FutureWarning: Passing (type, 1) or '1type' as a synonym of type is deprecated; in a future version of numpy, it will be understood as (type, (1,)) / '(1,)type'.\n",
      "  _np_qint16 = np.dtype([(\"qint16\", np.int16, 1)])\n",
      "/opt/conda/envs/habitat/lib/python3.6/site-packages/tensorflow/python/framework/dtypes.py:519: FutureWarning: Passing (type, 1) or '1type' as a synonym of type is deprecated; in a future version of numpy, it will be understood as (type, (1,)) / '(1,)type'.\n",
      "  _np_quint16 = np.dtype([(\"quint16\", np.uint16, 1)])\n",
      "/opt/conda/envs/habitat/lib/python3.6/site-packages/tensorflow/python/framework/dtypes.py:520: FutureWarning: Passing (type, 1) or '1type' as a synonym of type is deprecated; in a future version of numpy, it will be understood as (type, (1,)) / '(1,)type'.\n",
      "  _np_qint32 = np.dtype([(\"qint32\", np.int32, 1)])\n",
      "/opt/conda/envs/habitat/lib/python3.6/site-packages/tensorflow/python/framework/dtypes.py:525: FutureWarning: Passing (type, 1) or '1type' as a synonym of type is deprecated; in a future version of numpy, it will be understood as (type, (1,)) / '(1,)type'.\n",
      "  np_resource = np.dtype([(\"resource\", np.ubyte, 1)])\n",
      "/opt/conda/envs/habitat/lib/python3.6/site-packages/tensorboard/compat/tensorflow_stub/dtypes.py:541: FutureWarning: Passing (type, 1) or '1type' as a synonym of type is deprecated; in a future version of numpy, it will be understood as (type, (1,)) / '(1,)type'.\n",
      "  _np_qint8 = np.dtype([(\"qint8\", np.int8, 1)])\n",
      "/opt/conda/envs/habitat/lib/python3.6/site-packages/tensorboard/compat/tensorflow_stub/dtypes.py:542: FutureWarning: Passing (type, 1) or '1type' as a synonym of type is deprecated; in a future version of numpy, it will be understood as (type, (1,)) / '(1,)type'.\n",
      "  _np_quint8 = np.dtype([(\"quint8\", np.uint8, 1)])\n",
      "/opt/conda/envs/habitat/lib/python3.6/site-packages/tensorboard/compat/tensorflow_stub/dtypes.py:543: FutureWarning: Passing (type, 1) or '1type' as a synonym of type is deprecated; in a future version of numpy, it will be understood as (type, (1,)) / '(1,)type'.\n",
      "  _np_qint16 = np.dtype([(\"qint16\", np.int16, 1)])\n",
      "/opt/conda/envs/habitat/lib/python3.6/site-packages/tensorboard/compat/tensorflow_stub/dtypes.py:544: FutureWarning: Passing (type, 1) or '1type' as a synonym of type is deprecated; in a future version of numpy, it will be understood as (type, (1,)) / '(1,)type'.\n",
      "  _np_quint16 = np.dtype([(\"quint16\", np.uint16, 1)])\n",
      "/opt/conda/envs/habitat/lib/python3.6/site-packages/tensorboard/compat/tensorflow_stub/dtypes.py:545: FutureWarning: Passing (type, 1) or '1type' as a synonym of type is deprecated; in a future version of numpy, it will be understood as (type, (1,)) / '(1,)type'.\n",
      "  _np_qint32 = np.dtype([(\"qint32\", np.int32, 1)])\n",
      "/opt/conda/envs/habitat/lib/python3.6/site-packages/tensorboard/compat/tensorflow_stub/dtypes.py:550: FutureWarning: Passing (type, 1) or '1type' as a synonym of type is deprecated; in a future version of numpy, it will be understood as (type, (1,)) / '(1,)type'.\n",
      "  np_resource = np.dtype([(\"resource\", np.ubyte, 1)])\n"
     ]
    }
   ],
   "source": [
    "import cv2\n",
    "import time\n",
    "import numpy as np\n",
    "import habitat\n",
    "from habitat.sims.habitat_simulator.actions import HabitatSimActions\n",
    "\n",
    "from environment import environments\n",
    "import common.default_blocks as db\n",
    "import matplotlib.pyplot as plt\n",
    "\n",
    "import sys\n",
    "sys.path.append('./agents/map_and_plan_agent2/')\n",
    "sys.path.append('./agents/')\n",
    "\n",
    "# set keystroke constant\n",
    "F, L, R, S=  \"w\", \"a\", \"d\", \"f\""
   ]
  },
  {
   "cell_type": "code",
   "execution_count": 2,
   "metadata": {},
   "outputs": [],
   "source": [
    "class keybord_agent():\n",
    "    def __init__(self):\n",
    "        pass\n",
    "    def reset(self):\n",
    "        pass\n",
    "    def act(self, *args):\n",
    "        not_valid_key = True\n",
    "        while not_valid_key:\n",
    "            not_valid_key = False\n",
    "            keystroke = input()\n",
    "            if keystroke == F:\n",
    "                action = HabitatSimActions.MOVE_FORWARD\n",
    "                #agent.set_last_action((action - 1) % 4)\n",
    "                print(\"action: FORWARD\")\n",
    "            elif keystroke == L:\n",
    "                action = HabitatSimActions.TURN_LEFT\n",
    "                #agent.set_last_action((action - 1) % 4)\n",
    "                print(\"action: LEFT\")\n",
    "            elif keystroke == R:\n",
    "                action = HabitatSimActions.TURN_RIGHT\n",
    "                #agent.set_last_action((action - 1) % 4)\n",
    "                print(\"action: RIGHT\")\n",
    "            elif keystroke == S:\n",
    "                action = HabitatSimActions.STOP\n",
    "                #agent.set_last_action((action - 1) % 4)\n",
    "                print(\"action: FINISH\")\n",
    "            else:\n",
    "                not_valid_key = True\n",
    "                print(\"INVALID KEY\")     \n",
    "        return action"
   ]
  },
  {
   "cell_type": "code",
   "execution_count": 3,
   "metadata": {},
   "outputs": [],
   "source": [
    "def transform_rgb_bgr(image):\n",
    "    return image[:, :, [2, 1, 0]]"
   ]
  },
  {
   "cell_type": "code",
   "execution_count": 4,
   "metadata": {},
   "outputs": [],
   "source": [
    "def unpack_obs(obs):\n",
    "    return {'pointgoal_with_gps_compass': obs[:2], 'rgb': obs[2:].reshape([256,256,3])}"
   ]
  },
  {
   "cell_type": "code",
   "execution_count": 5,
   "metadata": {},
   "outputs": [],
   "source": [
    "def main(episodes = 1, steps = 50, keybord_control = False, show_rgb = False):\n",
    "    # Agent:\n",
    "    if not keybord_control:\n",
    "        model_path = './LP_PPO_model'\n",
    "        agent = db.ApenAIPPOBlockAgent(config.ENVIRONMENT.MAPSCALE, model_path, 25)\n",
    "    else:\n",
    "        agent = keybord_agent()\n",
    "\n",
    "    # Environment:\n",
    "    env = environments.NavRLEnvLocalPolicy(\n",
    "        config=habitat.get_config(\"./configs/pointnav_kozub.yaml\"))\n",
    "\n",
    "    for i in range(episodes):\n",
    "        observations = env.reset()\n",
    "        observations = unpack_obs(observations)\n",
    "        count_steps = 0\n",
    "        agent.reset()\n",
    "        \n",
    "        print(\"Destination, distance: {:3f}, theta(radians): {:.2f}\".format(\n",
    "            observations['pointgoal_with_gps_compass'][0], observations['pointgoal_with_gps_compass'][1]))\n",
    "        #cv2.imshow(\"RGB\", transform_rgb_bgr(observations[\"rgb\"]))\n",
    "        plt.imshow(transform_rgb_bgr(observations['rgb']))\n",
    "        plt.plot()\n",
    "        time.sleep(1)\n",
    "        print(\"Agent stepping around inside environment.\")\n",
    "\n",
    "        action = None\n",
    "        while not action == HabitatSimActions.STOP and count_steps<steps:\n",
    "\n",
    "            #observations['pointgoal'] = observations['pointgoal_with_gps_compass']\n",
    "            action = agent.act(observations, count_steps)\n",
    "            print('agent chose action:', action)\n",
    "\n",
    "\n",
    "            observations, r, d, inf = env.step(action)\n",
    "            observations = unpack_obs(observations)\n",
    "            count_steps += 1\n",
    "\n",
    "            if show_rgb:\n",
    "                #cv2.imshow(\"RGB\", transform_rgb_bgr(observations['rgb']))\n",
    "                plt.imshow(transform_rgb_bgr(observations['rgb']))\n",
    "                plt.plot()\n",
    "                time.sleep(1)\n",
    "                \n",
    "            print(\"Destination, distance: {:3f}, theta(radians): {:.2f}, reward: {:.2f}\".format(\n",
    "                observations['pointgoal_with_gps_compass'][0], observations['pointgoal_with_gps_compass'][1], r))\n",
    "\n",
    "\n",
    "        print(\"Episode finished after {} steps.\".format(count_steps))\n",
    "        if action == HabitatSimActions.STOP and observations['pointgoal_with_gps_compass'][0] < 0.2:\n",
    "            print(\"you successfully navigated to destination point\")\n",
    "        else:\n",
    "            print(\"your navigation wads unsuccessful\")\n",
    "            \n",
    "    env.close()"
   ]
  },
  {
   "cell_type": "code",
   "execution_count": 6,
   "metadata": {},
   "outputs": [],
   "source": [
    "import os\n",
    "os.environ[\"CUDA_DEVICE_ORDER\"] = \"PCI_BUS_ID\"\n",
    "os.environ[\"CUDA_VISIBLE_DEVICES\"] = \"0\""
   ]
  },
  {
   "cell_type": "code",
   "execution_count": 7,
   "metadata": {},
   "outputs": [
    {
     "name": "stderr",
     "output_type": "stream",
     "text": [
      "2020-01-27 16:33:55,059 Initializing dataset PointNav-v1\n",
      "2020-01-27 16:33:59,224 initializing sim Sim-v0\n",
      "2020-01-27 16:34:03,218 Initializing task Nav-v0\n"
     ]
    },
    {
     "ename": "AttributeError",
     "evalue": "'numpy.ndarray' object has no attribute 'rehsape'",
     "output_type": "error",
     "traceback": [
      "\u001b[0;31m---------------------------------------------------------------------------\u001b[0m",
      "\u001b[0;31mAttributeError\u001b[0m                            Traceback (most recent call last)",
      "\u001b[0;32m<ipython-input-7-25d792fe006f>\u001b[0m in \u001b[0;36m<module>\u001b[0;34m\u001b[0m\n\u001b[1;32m      1\u001b[0m \u001b[0;32mif\u001b[0m \u001b[0m__name__\u001b[0m \u001b[0;34m==\u001b[0m \u001b[0;34m\"__main__\"\u001b[0m\u001b[0;34m:\u001b[0m\u001b[0;34m\u001b[0m\u001b[0;34m\u001b[0m\u001b[0m\n\u001b[0;32m----> 2\u001b[0;31m     \u001b[0mmain\u001b[0m\u001b[0;34m(\u001b[0m\u001b[0mepisodes\u001b[0m \u001b[0;34m=\u001b[0m \u001b[0;36m1\u001b[0m\u001b[0;34m,\u001b[0m \u001b[0msteps\u001b[0m \u001b[0;34m=\u001b[0m \u001b[0;36m50\u001b[0m\u001b[0;34m,\u001b[0m \u001b[0mkeybord_control\u001b[0m \u001b[0;34m=\u001b[0m \u001b[0;32mTrue\u001b[0m\u001b[0;34m,\u001b[0m \u001b[0mshow_rgb\u001b[0m \u001b[0;34m=\u001b[0m \u001b[0;32mTrue\u001b[0m\u001b[0;34m)\u001b[0m\u001b[0;34m\u001b[0m\u001b[0;34m\u001b[0m\u001b[0m\n\u001b[0m",
      "\u001b[0;32m<ipython-input-5-cd063a142d19>\u001b[0m in \u001b[0;36mmain\u001b[0;34m(episodes, steps, keybord_control, show_rgb)\u001b[0m\n\u001b[1;32m     13\u001b[0m     \u001b[0;32mfor\u001b[0m \u001b[0mi\u001b[0m \u001b[0;32min\u001b[0m \u001b[0mrange\u001b[0m\u001b[0;34m(\u001b[0m\u001b[0mepisodes\u001b[0m\u001b[0;34m)\u001b[0m\u001b[0;34m:\u001b[0m\u001b[0;34m\u001b[0m\u001b[0;34m\u001b[0m\u001b[0m\n\u001b[1;32m     14\u001b[0m         \u001b[0mobservations\u001b[0m \u001b[0;34m=\u001b[0m \u001b[0menv\u001b[0m\u001b[0;34m.\u001b[0m\u001b[0mreset\u001b[0m\u001b[0;34m(\u001b[0m\u001b[0;34m)\u001b[0m\u001b[0;34m\u001b[0m\u001b[0;34m\u001b[0m\u001b[0m\n\u001b[0;32m---> 15\u001b[0;31m         \u001b[0mobservations\u001b[0m \u001b[0;34m=\u001b[0m \u001b[0munpack_obs\u001b[0m\u001b[0;34m(\u001b[0m\u001b[0mobservations\u001b[0m\u001b[0;34m)\u001b[0m\u001b[0;34m\u001b[0m\u001b[0;34m\u001b[0m\u001b[0m\n\u001b[0m\u001b[1;32m     16\u001b[0m         \u001b[0mcount_steps\u001b[0m \u001b[0;34m=\u001b[0m \u001b[0;36m0\u001b[0m\u001b[0;34m\u001b[0m\u001b[0;34m\u001b[0m\u001b[0m\n\u001b[1;32m     17\u001b[0m         \u001b[0magent\u001b[0m\u001b[0;34m.\u001b[0m\u001b[0mreset\u001b[0m\u001b[0;34m(\u001b[0m\u001b[0;34m)\u001b[0m\u001b[0;34m\u001b[0m\u001b[0;34m\u001b[0m\u001b[0m\n",
      "\u001b[0;32m<ipython-input-4-57fd4f6a0d87>\u001b[0m in \u001b[0;36munpack_obs\u001b[0;34m(obs)\u001b[0m\n\u001b[1;32m      1\u001b[0m \u001b[0;32mdef\u001b[0m \u001b[0munpack_obs\u001b[0m\u001b[0;34m(\u001b[0m\u001b[0mobs\u001b[0m\u001b[0;34m)\u001b[0m\u001b[0;34m:\u001b[0m\u001b[0;34m\u001b[0m\u001b[0;34m\u001b[0m\u001b[0m\n\u001b[0;32m----> 2\u001b[0;31m     \u001b[0;32mreturn\u001b[0m \u001b[0;34m{\u001b[0m\u001b[0;34m'pointgoal_with_gps_compass'\u001b[0m\u001b[0;34m:\u001b[0m \u001b[0mobs\u001b[0m\u001b[0;34m[\u001b[0m\u001b[0;34m:\u001b[0m\u001b[0;36m2\u001b[0m\u001b[0;34m]\u001b[0m\u001b[0;34m,\u001b[0m \u001b[0;34m'rgb'\u001b[0m\u001b[0;34m:\u001b[0m \u001b[0mobs\u001b[0m\u001b[0;34m[\u001b[0m\u001b[0;36m2\u001b[0m\u001b[0;34m:\u001b[0m\u001b[0;34m]\u001b[0m\u001b[0;34m.\u001b[0m\u001b[0mrehsape\u001b[0m\u001b[0;34m(\u001b[0m\u001b[0;34m[\u001b[0m\u001b[0;36m256\u001b[0m\u001b[0;34m,\u001b[0m\u001b[0;36m256\u001b[0m\u001b[0;34m,\u001b[0m\u001b[0;36m3\u001b[0m\u001b[0;34m]\u001b[0m\u001b[0;34m)\u001b[0m\u001b[0;34m}\u001b[0m\u001b[0;34m\u001b[0m\u001b[0;34m\u001b[0m\u001b[0m\n\u001b[0m",
      "\u001b[0;31mAttributeError\u001b[0m: 'numpy.ndarray' object has no attribute 'rehsape'"
     ]
    }
   ],
   "source": [
    "if __name__ == \"__main__\":\n",
    "    main(episodes = 1, steps = 50, keybord_control = True, show_rgb = True)"
   ]
  },
  {
   "cell_type": "code",
   "execution_count": null,
   "metadata": {},
   "outputs": [],
   "source": []
  }
 ],
 "metadata": {
  "kernelspec": {
   "display_name": "Python 3",
   "language": "python",
   "name": "python3"
  }
 },
 "nbformat": 4,
 "nbformat_minor": 2
}
