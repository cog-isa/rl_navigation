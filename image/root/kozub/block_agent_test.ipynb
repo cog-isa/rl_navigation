{
 "cells": [
  {
   "cell_type": "code",
   "execution_count": 1,
   "metadata": {},
   "outputs": [
    {
     "name": "stdout",
     "output_type": "stream",
     "text": [
      "Using device: cuda:3\n",
      "\n"
     ]
    }
   ],
   "source": [
    "import cv2\n",
    "import habitat\n",
    "from environment import environments\n",
    "import common.default_blocks as db\n",
    "\n",
    "\n",
    "FORWARD_KEY=\"w\"\n",
    "LEFT_KEY=\"a\"\n",
    "RIGHT_KEY=\"d\"\n",
    "FINISH=\"f\"\n"
   ]
  },
  {
   "cell_type": "code",
   "execution_count": 2,
   "metadata": {},
   "outputs": [],
   "source": [
    "def TransforRgbToBgr(image):\n",
    "    return image[:, :, [2, 1, 0]]"
   ]
  },
  {
   "cell_type": "code",
   "execution_count": 3,
   "metadata": {},
   "outputs": [
    {
     "name": "stderr",
     "output_type": "stream",
     "text": [
      "2019-12-10 18:17:10,162 Initializing dataset PointNav-v1\n",
      "2019-12-10 18:17:21,504 initializing sim Sim-v0\n",
      "I1210 18:17:35.805145 8341 simulator.py:127] Loaded navmesh data/scene_datasets/gibson/Albertville.navmesh\n",
      "2019-12-10 18:17:35,848 Initializing task Nav-v0\n"
     ]
    },
    {
     "name": "stdout",
     "output_type": "stream",
     "text": [
      "Environment creation successful\n"
     ]
    }
   ],
   "source": [
    "scale = 0.03\n",
    "agent = db.PPOBlockAgent(scale)\n",
    "\n",
    "env = environments.NavRLEnv(\n",
    "    config=habitat.get_config(\"./configs/pointnav_kozub.yaml\"))\n",
    "\n",
    "print(\"Environment creation successful\")"
   ]
  },
  {
   "cell_type": "code",
   "execution_count": 4,
   "metadata": {},
   "outputs": [
    {
     "name": "stderr",
     "output_type": "stream",
     "text": [
      "I1210 18:17:47.992318 8341 simulator.py:127] Loaded navmesh data/scene_datasets/gibson/Adrian.navmesh\n"
     ]
    }
   ],
   "source": [
    "s = env.reset()"
   ]
  },
  {
   "cell_type": "code",
   "execution_count": 26,
   "metadata": {},
   "outputs": [
    {
     "name": "stdout",
     "output_type": "stream",
     "text": [
      "[0.51613952 1.77937199]\n",
      "torch.Size([1, 1, 4, 4]) torch.Size([1, 2])\n",
      "torch.Size([1, 16]) torch.Size([1, 2])\n",
      "gps_local_goal:  [0.51613952 1.77937199]\n",
      "agent_pos:  [ 0.28728881  1.50935793 -2.39962147]\n",
      "relative_goal_vec:  [ 0.42 -0.3 ]\n",
      "pointgoal_with_gps:  [6.8758864 1.058676 ]\n",
      "agent_chose actinon: 1 with_probability: 0.3442007005214691\n"
     ]
    }
   ],
   "source": [
    "import importlib\n",
    "importlib.reload(db)\n",
    "agent = db.PPOBlockAgent(scale)\n",
    "action_prob, action = agent.act(env, s, show_info = True)"
   ]
  },
  {
   "cell_type": "code",
   "execution_count": 30,
   "metadata": {},
   "outputs": [
    {
     "data": {
      "text/plain": [
       "(0.24542592465877533, 0)"
      ]
     },
     "execution_count": 30,
     "metadata": {},
     "output_type": "execute_result"
    }
   ],
   "source": [
    "action"
   ]
  },
  {
   "cell_type": "code",
   "execution_count": null,
   "metadata": {},
   "outputs": [
    {
     "name": "stdout",
     "output_type": "stream",
     "text": [
      "\n",
      "-------step 0 -------------\n",
      "[0.51613952 1.77937199]\n",
      "torch.Size([1, 1, 4, 4]) torch.Size([1, 2])\n",
      "torch.Size([1, 16]) torch.Size([1, 2])\n",
      "gps_local_goal:  [0.51613952 1.77937199]\n",
      "agent_pos:  [ 0.28728881  1.50935793 -2.39962147]\n",
      "relative_goal_vec:  [ 0.42 -0.3 ]\n",
      "pointgoal_with_gps:  [6.8758864 1.058676 ]\n",
      "agent_chose actinon: 0 with_probability: 0.24542592465877533\n",
      "----------------------------------\n"
     ]
    }
   ],
   "source": [
    "steps = 500\n",
    "for i in range(steps):\n",
    "\n",
    "        print()\n",
    "        print('-------step', i, '-------------')\n",
    "        #choose action\n",
    "        action_prob, action = agent.act(env, s, show_info = True)\n",
    "        print('----------------------------------')\n",
    "\n",
    "\n",
    "        cv2.imshow(\"RGB\", TransforRgbToBgr(s['rgb']))\n",
    "        cv2.waitKey(0)\n",
    "\n",
    "\n",
    "        s, r, d, i = env.step(action)\n",
    "        if d:\n",
    "            print(env.get_info(s))\n",
    "            break\n",
    "\n",
    "        #plt.contourf(distance_map.T)\n",
    "        #plt.show()"
   ]
  },
  {
   "cell_type": "code",
   "execution_count": null,
   "metadata": {},
   "outputs": [],
   "source": [
    "env.close()"
   ]
  }
 ],
 "metadata": {
  "kernelspec": {
   "display_name": "Python 3",
   "language": "python",
   "name": "python3"
  },
  "language_info": {
   "codemirror_mode": {
    "name": "ipython",
    "version": 3
   },
   "file_extension": ".py",
   "mimetype": "text/x-python",
   "name": "python",
   "nbconvert_exporter": "python",
   "pygments_lexer": "ipython3",
   "version": "3.6.9"
  }
 },
 "nbformat": 4,
 "nbformat_minor": 2
}
