{
 "cells": [
  {
   "cell_type": "code",
   "execution_count": 2,
   "metadata": {},
   "outputs": [],
   "source": [
    "import argparse\n",
    "import random\n",
    "import numpy as np\n",
    "from habitat_baselines.config.default import get_config\n",
    "import habitat\n",
    "import os\n",
    "from habitat import Config, logger\n",
    "from habitat import Config, Dataset\n",
    "import matplotlib.pyplot as plt\n",
    "import transformations as tf"
   ]
  },
  {
   "cell_type": "code",
   "execution_count": 3,
   "metadata": {},
   "outputs": [],
   "source": [
    "import contextlib\n",
    "import time\n",
    "from collections import OrderedDict, defaultdict, deque\n",
    "from typing import Any, Dict, List, Optional\n",
    "from habitat_baselines.rl.ddppo.algo.ddp_utils import (\n",
    "    EXIT,\n",
    "    REQUEUE,\n",
    "    add_signal_handlers,\n",
    "    init_distrib_slurm,\n",
    "    load_interrupted_state,\n",
    "    requeue_job,\n",
    "    save_interrupted_state,\n",
    ")\n",
    "from habitat.tasks.nav.shortest_path_follower import ShortestPathFollower\n",
    "from habitat_baselines.common.baseline_registry import baseline_registry\n",
    "#from habitat_baselines.common.env_utils import construct_envs\n",
    "from habitat_baselines.common.environments import get_env_class\n",
    "from habitat_baselines.common.rollout_storage import RolloutStorage\n",
    "from habitat_baselines.common.tensorboard_utils import TensorboardWriter\n",
    "from habitat_baselines.common.utils import batch_obs, linear_decay\n",
    "import numpy as np\n",
    "import torch\n",
    "import torch.distributed as distrib\n",
    "import torch.nn as nn\n",
    "from gym import spaces\n",
    "from gym.spaces.dict_space import Dict as SpaceDict\n",
    "from torch.optim.lr_scheduler import LambdaLR\n",
    "from habitat_baselines.rl.ddppo.policy.resnet_policy import PointNavResNetPolicy\n",
    "from habitat_baselines.rl.ddppo.algo.ddppo import DDPPO\n",
    "from habitat_baselines.common.base_trainer import BaseRLTrainer\n",
    "from habitat_baselines.common.baseline_registry import baseline_registry"
   ]
  },
  {
   "cell_type": "code",
   "execution_count": 4,
   "metadata": {},
   "outputs": [],
   "source": [
    "from ppotrainer import PPOTrainer\n",
    "from ddpotrainer import DDPPOTrainer\n",
    "from constructenv import construct_envs\n",
    "from env import MyRLEnvNew\n",
    "from habitat import make_dataset\n",
    "from constructenv import make_env_fn\n",
    "from vectorenv import VectorEnv\n",
    "from utils import FrameSkip, FrameStack, draw_top_down_map"
   ]
  },
  {
   "cell_type": "code",
   "execution_count": 5,
   "metadata": {},
   "outputs": [],
   "source": [
    "os.environ[\"CUDA_DEVICE_ORDER\"]=\"PCI_BUS_ID\"   \n",
    "os.environ[\"CUDA_VISIBLE_DEVICES\"]=\"0,3\""
   ]
  },
  {
   "cell_type": "markdown",
   "metadata": {},
   "source": [
    "# Config init"
   ]
  },
  {
   "cell_type": "code",
   "execution_count": 6,
   "metadata": {},
   "outputs": [],
   "source": [
    "import fileinput\n",
    "filename = \"/habitat-api/habitat_baselines/config/pointnav/ddppo_pointnav.yaml\"\n",
    "with fileinput.FileInput(filename, inplace=True, backup='.bak') as file:\n",
    "    for line in file:\n",
    "        print(line.replace('\\\"configs/tasks/pointnav_gibson.yaml\\\"', '\\\"/habitat-api/configs/tasks/pointnav_gibson.yaml\\\"'), end='')\n",
    "with fileinput.FileInput(filename, inplace=True, backup='.bak') as file:        \n",
    "    for line in file:    \n",
    "        print(line.replace('GLOO', 'NCCL'), end='')"
   ]
  },
  {
   "cell_type": "code",
   "execution_count": 7,
   "metadata": {},
   "outputs": [],
   "source": [
    "W = 640\n",
    "H = 360\n",
    "config_paths=\"/data/challenge_pointnav2020.local.rgbd.yaml\"\n",
    "config = habitat.get_config(config_paths=config_paths)\n",
    "config.defrost()\n",
    "config.SIMULATOR.RGB_SENSOR.HEIGHT = H\n",
    "config.SIMULATOR.RGB_SENSOR.WIDTH = W\n",
    "config.SIMULATOR.DEPTH_SENSOR.HEIGHT = H\n",
    "config.SIMULATOR.DEPTH_SENSOR.WIDTH = W\n",
    "config.DATASET.DATA_PATH = '/data/v2/{split}/{split}.json.gz'\n",
    "config.TASK.MEASUREMENTS.append(\"TOP_DOWN_MAP\")\n",
    "config.TASK.SENSORS = [\"HEADING_SENSOR\", \"COMPASS_SENSOR\", \"GPS_SENSOR\", \"POINTGOAL_SENSOR\", \"POINTGOAL_WITH_GPS_COMPASS_SENSOR\"]\n",
    "config.TASK.POINTGOAL_WITH_GPS_COMPASS_SENSOR.DIMENSIONALITY = 3\n",
    "config.TASK.POINTGOAL_WITH_GPS_COMPASS_SENSOR.GOAL_FORMAT = \"CARTESIAN\"\n",
    "config.TASK.POINTGOAL_SENSOR.DIMENSIONALITY = 3\n",
    "config.TASK.POINTGOAL_SENSOR.GOAL_FORMAT = \"CARTESIAN\"\n",
    "config.TASK.GPS_SENSOR.DIMENSIONALITY = 3\n",
    "config.TASK.GPS_SENSOR.GOAL_FORMAT = \"CARTESIAN\"\n",
    "config.TASK.AGENT_POSITION_SENSOR = habitat.Config()\n",
    "config.TASK.AGENT_POSITION_SENSOR.TYPE = \"position_sensor\"\n",
    "config.TASK.AGENT_POSITION_SENSOR.ANSWER_TO_LIFE = 42\n",
    "config.TASK.SENSORS.append(\"AGENT_POSITION_SENSOR\")\n",
    "config.SIMULATOR.TURN_ANGLE = 10#0.5\n",
    "config.SIMULATOR.TILT_ANGLE = 10#0.5\n",
    "config.SIMULATOR.FORWARD_STEP_SIZE = 0.25#0.0125\n",
    "config.ENVIRONMENT.MAX_EPISODE_STEPS = 150#*20\n",
    "config.TASK.TOP_DOWN_MAP.MAX_EPISODE_STEPS = 150#*20\n",
    "config.DATASET.SCENES_DIR = '/data'\n",
    "config.DATASET.SPLIT = 'train'\n",
    "config.SIMULATOR.SCENE = '/data/gibson/Aldrich.glb'\n",
    "#config.SIMULATOR_GPU_ID = 0\n",
    "config.freeze()"
   ]
  },
  {
   "cell_type": "code",
   "execution_count": 8,
   "metadata": {},
   "outputs": [],
   "source": [
    "config2 = get_config('/habitat-api/habitat_baselines/config/pointnav/ddppo_pointnav.yaml', [])\n",
    "ii = 0\n",
    "for i in config2.TASK_CONFIG.keys():\n",
    "    config2.TASK_CONFIG[i] = config[i]\n",
    "    ii+=1\n",
    "config = config2    "
   ]
  },
  {
   "cell_type": "code",
   "execution_count": 9,
   "metadata": {},
   "outputs": [],
   "source": [
    "config.defrost()\n",
    "config.TASK_CONFIG.DATASET.DATA_PATH = '/data/v2/{split}/{split}.json.gz'\n",
    "config.TASK_CONFIG.DATASET.SCENES_DIR = '/data'\n",
    "config.TASK_CONFIG.DATASET.SPLIT = 'train'\n",
    "config.TASK_CONFIG.SIMULATOR.SCENE = '/data/gibson/Aldrich.glb'\n",
    "config.TASK_CONFIG.TASK.GOAL_SENSOR_UUID = 'pos'#'pointgoal_with_gps_compass'\n",
    "config.RL.PPO.num_steps = config.TASK_CONFIG.ENVIRONMENT.MAX_EPISODE_STEPS\n",
    "config.RL.PPO.lr = 0.000005\n",
    "config.NUM_UPDATES = 50000\n",
    "config.ENV_NAME = 'MyRLEnvNew'\n",
    "config.NUM_PROCESSES = 10\n",
    "config.RL.FRAMESKIP = 1\n",
    "config.RL.FRAMESTACK = 1\n",
    "config.freeze()"
   ]
  },
  {
   "cell_type": "markdown",
   "metadata": {},
   "source": [
    "## Construct one env (example)"
   ]
  },
  {
   "cell_type": "code",
   "execution_count": 10,
   "metadata": {},
   "outputs": [
    {
     "name": "stderr",
     "output_type": "stream",
     "text": [
      "2020-05-24 21:59:02,433 Initializing dataset PointNav-v1\n"
     ]
    },
    {
     "name": "stdout",
     "output_type": "stream",
     "text": [
      "MyRLEnvNew\n"
     ]
    },
    {
     "name": "stderr",
     "output_type": "stream",
     "text": [
      "2020-05-24 22:00:18,248 initializing sim Sim-v0\n",
      "2020-05-24 22:00:22,407 Initializing task Nav-v0\n"
     ]
    }
   ],
   "source": [
    "print(config.ENV_NAME)\n",
    "env_class = get_env_class(config.ENV_NAME)\n",
    "dataset = make_dataset(config.TASK_CONFIG.DATASET.TYPE, config=config.TASK_CONFIG.DATASET)\n",
    "one_env = env_class(config=config, dataset=dataset)"
   ]
  },
  {
   "cell_type": "code",
   "execution_count": 11,
   "metadata": {},
   "outputs": [
    {
     "ename": "NameError",
     "evalue": "name 'res' is not defined",
     "output_type": "error",
     "traceback": [
      "\u001b[0;31m---------------------------------------------------------------------------\u001b[0m",
      "\u001b[0;31mNameError\u001b[0m                                 Traceback (most recent call last)",
      "\u001b[0;32m<ipython-input-11-6d0429368abd>\u001b[0m in \u001b[0;36m<module>\u001b[0;34m\u001b[0m\n\u001b[0;32m----> 1\u001b[0;31m \u001b[0mobs\u001b[0m \u001b[0;34m=\u001b[0m \u001b[0mone_env\u001b[0m\u001b[0;34m.\u001b[0m\u001b[0mreset\u001b[0m\u001b[0;34m(\u001b[0m\u001b[0;34m)\u001b[0m\u001b[0;34m\u001b[0m\u001b[0;34m\u001b[0m\u001b[0m\n\u001b[0m\u001b[1;32m      2\u001b[0m \u001b[0mfollower\u001b[0m \u001b[0;34m=\u001b[0m \u001b[0mShortestPathFollower\u001b[0m\u001b[0;34m(\u001b[0m\u001b[0mone_env\u001b[0m\u001b[0;34m.\u001b[0m\u001b[0mhabitat_env\u001b[0m\u001b[0;34m.\u001b[0m\u001b[0msim\u001b[0m\u001b[0;34m,\u001b[0m \u001b[0;36m0.36\u001b[0m\u001b[0;34m,\u001b[0m \u001b[0;32mFalse\u001b[0m\u001b[0;34m)\u001b[0m\u001b[0;34m\u001b[0m\u001b[0;34m\u001b[0m\u001b[0m\n",
      "\u001b[0;32m~/DDPPO_final/env.py\u001b[0m in \u001b[0;36mreset\u001b[0;34m(self)\u001b[0m\n\u001b[1;32m    120\u001b[0m         \u001b[0mself\u001b[0m\u001b[0;34m.\u001b[0m\u001b[0mstate\u001b[0m\u001b[0;34m[\u001b[0m\u001b[0;34m'rgb'\u001b[0m\u001b[0;34m]\u001b[0m\u001b[0;34m,\u001b[0m \u001b[0mself\u001b[0m\u001b[0;34m.\u001b[0m\u001b[0mstate\u001b[0m\u001b[0;34m[\u001b[0m\u001b[0;34m'depth'\u001b[0m\u001b[0;34m]\u001b[0m\u001b[0;34m,\u001b[0m \u001b[0mself\u001b[0m\u001b[0;34m.\u001b[0m\u001b[0mstate\u001b[0m\u001b[0;34m[\u001b[0m\u001b[0;34m'pos'\u001b[0m\u001b[0;34m]\u001b[0m \u001b[0;34m=\u001b[0m \u001b[0mobservation\u001b[0m\u001b[0;34m[\u001b[0m\u001b[0;34m'rgb'\u001b[0m\u001b[0;34m]\u001b[0m\u001b[0;34m,\u001b[0m \u001b[0mobservation\u001b[0m\u001b[0;34m[\u001b[0m\u001b[0;34m'depth'\u001b[0m\u001b[0;34m]\u001b[0m\u001b[0;34m,\u001b[0m \u001b[0mnp\u001b[0m\u001b[0;34m.\u001b[0m\u001b[0marray\u001b[0m\u001b[0;34m(\u001b[0m\u001b[0;34m[\u001b[0m\u001b[0mxdif\u001b[0m\u001b[0;34m,\u001b[0m\u001b[0mydif\u001b[0m\u001b[0;34m]\u001b[0m\u001b[0;34m)\u001b[0m\u001b[0;34m\u001b[0m\u001b[0;34m\u001b[0m\u001b[0m\n\u001b[1;32m    121\u001b[0m \u001b[0;34m\u001b[0m\u001b[0m\n\u001b[0;32m--> 122\u001b[0;31m         \u001b[0mobservation\u001b[0m\u001b[0;34m[\u001b[0m\u001b[0;34m'rgb'\u001b[0m\u001b[0;34m]\u001b[0m \u001b[0;34m=\u001b[0m \u001b[0mnp\u001b[0m\u001b[0;34m.\u001b[0m\u001b[0mcopy\u001b[0m\u001b[0;34m(\u001b[0m\u001b[0mres\u001b[0m\u001b[0;34m(\u001b[0m\u001b[0mobservation\u001b[0m\u001b[0;34m[\u001b[0m\u001b[0;34m'rgb'\u001b[0m\u001b[0;34m]\u001b[0m\u001b[0;34m)\u001b[0m\u001b[0;34m)\u001b[0m\u001b[0;34m\u001b[0m\u001b[0;34m\u001b[0m\u001b[0m\n\u001b[0m\u001b[1;32m    123\u001b[0m         \u001b[0mmmax\u001b[0m \u001b[0;34m=\u001b[0m \u001b[0mnp\u001b[0m\u001b[0;34m.\u001b[0m\u001b[0mcopy\u001b[0m\u001b[0;34m(\u001b[0m\u001b[0mobservation\u001b[0m\u001b[0;34m[\u001b[0m\u001b[0;34m'depth'\u001b[0m\u001b[0;34m]\u001b[0m\u001b[0;34m)\u001b[0m\u001b[0;34m.\u001b[0m\u001b[0mmax\u001b[0m\u001b[0;34m(\u001b[0m\u001b[0;34m)\u001b[0m\u001b[0;34m\u001b[0m\u001b[0;34m\u001b[0m\u001b[0m\n\u001b[1;32m    124\u001b[0m         \u001b[0mshape\u001b[0m \u001b[0;34m=\u001b[0m \u001b[0mobservation\u001b[0m\u001b[0;34m[\u001b[0m\u001b[0;34m'depth'\u001b[0m\u001b[0;34m]\u001b[0m\u001b[0;34m.\u001b[0m\u001b[0mshape\u001b[0m\u001b[0;34m\u001b[0m\u001b[0;34m\u001b[0m\u001b[0m\n",
      "\u001b[0;31mNameError\u001b[0m: name 'res' is not defined"
     ]
    }
   ],
   "source": [
    "obs = one_env.reset()\n",
    "follower = ShortestPathFollower(one_env.habitat_env.sim, 0.36, False)"
   ]
  },
  {
   "cell_type": "code",
   "execution_count": 39,
   "metadata": {},
   "outputs": [
    {
     "name": "stdout",
     "output_type": "stream",
     "text": [
      "DONE\n"
     ]
    }
   ],
   "source": [
    "for i in range(10):\n",
    "    best_action = follower.get_next_action(one_env.habitat_env.current_episode.goals[0].position)\n",
    "    if best_action==0 or best_action==None:\n",
    "        print('DONE')\n",
    "        break\n",
    "    obs, reward, done, info = one_env.step(action=best_action)\n",
    "    print(reward)\n",
    "    print(best_action)"
   ]
  },
  {
   "cell_type": "code",
   "execution_count": 40,
   "metadata": {},
   "outputs": [
    {
     "name": "stdout",
     "output_type": "stream",
     "text": [
      "[-8.42523866293927, -7.349551993816139]\n",
      "[-8.74532781409798, -7.1897156026353395]\n"
     ]
    }
   ],
   "source": [
    "print([one_env.trux,one_env.truy])\n",
    "print([one_env.goalx,one_env.goaly])"
   ]
  },
  {
   "cell_type": "code",
   "execution_count": 13,
   "metadata": {
    "collapsed": true,
    "jupyter": {
     "outputs_hidden": true
    }
   },
   "outputs": [
    {
     "ename": "NameError",
     "evalue": "name 'AGENT_SPRITE' is not defined",
     "output_type": "error",
     "traceback": [
      "\u001b[0;31m---------------------------------------------------------------------------\u001b[0m",
      "\u001b[0;31mNameError\u001b[0m                                 Traceback (most recent call last)",
      "\u001b[0;32m<ipython-input-13-3b94fb46b2da>\u001b[0m in \u001b[0;36m<module>\u001b[0;34m\u001b[0m\n\u001b[1;32m      1\u001b[0m \u001b[0mobservations\u001b[0m\u001b[0;34m,\u001b[0m \u001b[0mrewards\u001b[0m\u001b[0;34m,\u001b[0m \u001b[0mdones\u001b[0m\u001b[0;34m,\u001b[0m \u001b[0minfos\u001b[0m \u001b[0;34m=\u001b[0m \u001b[0mone_env\u001b[0m\u001b[0;34m.\u001b[0m\u001b[0mstep\u001b[0m\u001b[0;34m(\u001b[0m\u001b[0maction\u001b[0m\u001b[0;34m=\u001b[0m\u001b[0;36m3\u001b[0m\u001b[0;34m)\u001b[0m\u001b[0;34m\u001b[0m\u001b[0;34m\u001b[0m\u001b[0m\n\u001b[0;32m----> 2\u001b[0;31m \u001b[0mtop_down_map\u001b[0m \u001b[0;34m=\u001b[0m \u001b[0mdraw_top_down_map\u001b[0m\u001b[0;34m(\u001b[0m\u001b[0minfos\u001b[0m\u001b[0;34m,\u001b[0m \u001b[0mone_env\u001b[0m\u001b[0;34m.\u001b[0m\u001b[0mobs\u001b[0m\u001b[0;34m[\u001b[0m\u001b[0;34m\"heading\"\u001b[0m\u001b[0;34m]\u001b[0m\u001b[0;34m[\u001b[0m\u001b[0;36m0\u001b[0m\u001b[0;34m]\u001b[0m\u001b[0;34m,\u001b[0m \u001b[0mone_env\u001b[0m\u001b[0;34m.\u001b[0m\u001b[0mobs\u001b[0m\u001b[0;34m[\u001b[0m\u001b[0;34m'rgb'\u001b[0m\u001b[0;34m]\u001b[0m\u001b[0;34m[\u001b[0m\u001b[0;36m0\u001b[0m\u001b[0;34m]\u001b[0m\u001b[0;34m.\u001b[0m\u001b[0mshape\u001b[0m\u001b[0;34m[\u001b[0m\u001b[0;36m0\u001b[0m\u001b[0;34m]\u001b[0m\u001b[0;34m)\u001b[0m\u001b[0;34m\u001b[0m\u001b[0;34m\u001b[0m\u001b[0m\n\u001b[0m\u001b[1;32m      3\u001b[0m \u001b[0mplt\u001b[0m\u001b[0;34m.\u001b[0m\u001b[0mrcParams\u001b[0m\u001b[0;34m[\u001b[0m\u001b[0;34m\"figure.figsize\"\u001b[0m\u001b[0;34m]\u001b[0m \u001b[0;34m=\u001b[0m \u001b[0;34m[\u001b[0m\u001b[0;36m10\u001b[0m\u001b[0;34m,\u001b[0m\u001b[0;36m10\u001b[0m\u001b[0;34m]\u001b[0m\u001b[0;34m\u001b[0m\u001b[0;34m\u001b[0m\u001b[0m\n\u001b[1;32m      4\u001b[0m \u001b[0mplt\u001b[0m\u001b[0;34m.\u001b[0m\u001b[0msubplot\u001b[0m\u001b[0;34m(\u001b[0m\u001b[0;36m1\u001b[0m\u001b[0;34m,\u001b[0m \u001b[0;36m2\u001b[0m\u001b[0;34m,\u001b[0m \u001b[0;36m1\u001b[0m\u001b[0;34m)\u001b[0m\u001b[0;34m\u001b[0m\u001b[0;34m\u001b[0m\u001b[0m\n\u001b[1;32m      5\u001b[0m \u001b[0mplt\u001b[0m\u001b[0;34m.\u001b[0m\u001b[0mimshow\u001b[0m\u001b[0;34m(\u001b[0m\u001b[0mobservations\u001b[0m\u001b[0;34m[\u001b[0m\u001b[0;34m'depth'\u001b[0m\u001b[0;34m]\u001b[0m\u001b[0;34m[\u001b[0m\u001b[0;34m:\u001b[0m\u001b[0;34m,\u001b[0m\u001b[0;34m:\u001b[0m\u001b[0;34m,\u001b[0m\u001b[0;36m0\u001b[0m\u001b[0;34m]\u001b[0m\u001b[0;34m)\u001b[0m\u001b[0;34m\u001b[0m\u001b[0;34m\u001b[0m\u001b[0m\n",
      "\u001b[0;32m~/DDPPO/utils.py\u001b[0m in \u001b[0;36mdraw_top_down_map\u001b[0;34m(info, heading, output_size)\u001b[0m\n\u001b[1;32m    160\u001b[0m         \u001b[0mmap_agent_pos\u001b[0m\u001b[0;34m,\u001b[0m\u001b[0;34m\u001b[0m\u001b[0;34m\u001b[0m\u001b[0m\n\u001b[1;32m    161\u001b[0m         \u001b[0mheading\u001b[0m \u001b[0;34m-\u001b[0m \u001b[0mnp\u001b[0m\u001b[0;34m.\u001b[0m\u001b[0mpi\u001b[0m \u001b[0;34m/\u001b[0m \u001b[0;36m2\u001b[0m\u001b[0;34m,\u001b[0m\u001b[0;34m\u001b[0m\u001b[0;34m\u001b[0m\u001b[0m\n\u001b[0;32m--> 162\u001b[0;31m         \u001b[0magent_radius_px\u001b[0m\u001b[0;34m=\u001b[0m\u001b[0mtop_down_map\u001b[0m\u001b[0;34m.\u001b[0m\u001b[0mshape\u001b[0m\u001b[0;34m[\u001b[0m\u001b[0;36m0\u001b[0m\u001b[0;34m]\u001b[0m \u001b[0;34m/\u001b[0m \u001b[0;36m40\u001b[0m\u001b[0;34m,\u001b[0m\u001b[0;34m\u001b[0m\u001b[0;34m\u001b[0m\u001b[0m\n\u001b[0m\u001b[1;32m    163\u001b[0m     )\n\u001b[1;32m    164\u001b[0m     \u001b[0;32mreturn\u001b[0m \u001b[0mtop_down_map\u001b[0m\u001b[0;34m\u001b[0m\u001b[0;34m\u001b[0m\u001b[0m\n",
      "\u001b[0;32m/habitat-api/habitat/utils/visualizations/maps.py\u001b[0m in \u001b[0;36mdraw_agent\u001b[0;34m(image, agent_center_coord, agent_rotation, agent_radius_px)\u001b[0m\n\u001b[1;32m     72\u001b[0m     \u001b[0;31m# Rotate before resize to keep good resolution.\u001b[0m\u001b[0;34m\u001b[0m\u001b[0;34m\u001b[0m\u001b[0;34m\u001b[0m\u001b[0m\n\u001b[1;32m     73\u001b[0m     rotated_agent = scipy.ndimage.interpolation.rotate(\n\u001b[0;32m---> 74\u001b[0;31m         \u001b[0mAGENT_SPRITE\u001b[0m\u001b[0;34m,\u001b[0m \u001b[0magent_rotation\u001b[0m \u001b[0;34m*\u001b[0m \u001b[0;36m180\u001b[0m \u001b[0;34m/\u001b[0m \u001b[0mnp\u001b[0m\u001b[0;34m.\u001b[0m\u001b[0mpi\u001b[0m\u001b[0;34m\u001b[0m\u001b[0;34m\u001b[0m\u001b[0m\n\u001b[0m\u001b[1;32m     75\u001b[0m     )\n\u001b[1;32m     76\u001b[0m     \u001b[0;31m# Rescale because rotation may result in larger image than original, but\u001b[0m\u001b[0;34m\u001b[0m\u001b[0;34m\u001b[0m\u001b[0;34m\u001b[0m\u001b[0m\n",
      "\u001b[0;31mNameError\u001b[0m: name 'AGENT_SPRITE' is not defined"
     ]
    }
   ],
   "source": [
    "observations, rewards, dones, infos = one_env.step(action=3)\n",
    "top_down_map = draw_top_down_map(infos, one_env.obs[\"heading\"][0], one_env.obs['rgb'][0].shape[0])\n",
    "plt.rcParams[\"figure.figsize\"] = [10,10]\n",
    "plt.subplot(1, 2, 1)\n",
    "plt.imshow(observations['depth'][:,:,0])\n",
    "plt.subplot(1, 2, 2)\n",
    "plt.imshow(top_down_map)\n",
    "print('Env is done: ',dones)\n",
    "print('Current coordinates: ',[one_env.trux,one_env.truy])\n",
    "print('Goal coordinates: ',[one_env.goalx, one_env.goaly])\n",
    "print('Distance to goal: ',observations['pos'])"
   ]
  },
  {
   "cell_type": "markdown",
   "metadata": {},
   "source": [
    "## Construct multiple envs with VectorEnv (example)"
   ]
  },
  {
   "cell_type": "code",
   "execution_count": 10,
   "metadata": {
    "collapsed": true,
    "jupyter": {
     "outputs_hidden": true
    }
   },
   "outputs": [
    {
     "ename": "KeyboardInterrupt",
     "evalue": "",
     "output_type": "error",
     "traceback": [
      "\u001b[0;31m---------------------------------------------------------------------------\u001b[0m",
      "\u001b[0;31mKeyboardInterrupt\u001b[0m                         Traceback (most recent call last)",
      "\u001b[0;32m<ipython-input-10-a678e9620599>\u001b[0m in \u001b[0;36m<module>\u001b[0;34m\u001b[0m\n\u001b[1;32m      5\u001b[0m \u001b[0;34m\u001b[0m\u001b[0m\n\u001b[1;32m      6\u001b[0m envs = VectorEnv(make_env_fn=make_env_fn,\n\u001b[0;32m----> 7\u001b[0;31m                 env_fn_args=tuple(tuple(zip(configs, env_classes, range(num_processes)))))\n\u001b[0m",
      "\u001b[0;32m~/DDPPO/vectorenv.py\u001b[0m in \u001b[0;36m__init__\u001b[0;34m(self, make_env_fn, env_fn_args, auto_reset_done, multiprocessing_start_method)\u001b[0m\n\u001b[1;32m    100\u001b[0m         \u001b[0;32mfor\u001b[0m \u001b[0mwrite_fn\u001b[0m \u001b[0;32min\u001b[0m \u001b[0mself\u001b[0m\u001b[0;34m.\u001b[0m\u001b[0m_connection_write_fns\u001b[0m\u001b[0;34m:\u001b[0m\u001b[0;34m\u001b[0m\u001b[0;34m\u001b[0m\u001b[0m\n\u001b[1;32m    101\u001b[0m             \u001b[0mwrite_fn\u001b[0m\u001b[0;34m(\u001b[0m\u001b[0;34m(\u001b[0m\u001b[0mOBSERVATION_SPACE_COMMAND\u001b[0m\u001b[0;34m,\u001b[0m \u001b[0;32mNone\u001b[0m\u001b[0;34m)\u001b[0m\u001b[0;34m)\u001b[0m\u001b[0;34m\u001b[0m\u001b[0;34m\u001b[0m\u001b[0m\n\u001b[0;32m--> 102\u001b[0;31m         \u001b[0mself\u001b[0m\u001b[0;34m.\u001b[0m\u001b[0mobservation_spaces\u001b[0m \u001b[0;34m=\u001b[0m \u001b[0;34m[\u001b[0m\u001b[0mread_fn\u001b[0m\u001b[0;34m(\u001b[0m\u001b[0;34m)\u001b[0m \u001b[0;32mfor\u001b[0m \u001b[0mread_fn\u001b[0m \u001b[0;32min\u001b[0m \u001b[0mself\u001b[0m\u001b[0;34m.\u001b[0m\u001b[0m_connection_read_fns\u001b[0m\u001b[0;34m]\u001b[0m\u001b[0;34m\u001b[0m\u001b[0;34m\u001b[0m\u001b[0m\n\u001b[0m\u001b[1;32m    103\u001b[0m         \u001b[0;32mfor\u001b[0m \u001b[0mwrite_fn\u001b[0m \u001b[0;32min\u001b[0m \u001b[0mself\u001b[0m\u001b[0;34m.\u001b[0m\u001b[0m_connection_write_fns\u001b[0m\u001b[0;34m:\u001b[0m\u001b[0;34m\u001b[0m\u001b[0;34m\u001b[0m\u001b[0m\n\u001b[1;32m    104\u001b[0m             \u001b[0mwrite_fn\u001b[0m\u001b[0;34m(\u001b[0m\u001b[0;34m(\u001b[0m\u001b[0mACTION_SPACE_COMMAND\u001b[0m\u001b[0;34m,\u001b[0m \u001b[0;32mNone\u001b[0m\u001b[0;34m)\u001b[0m\u001b[0;34m)\u001b[0m\u001b[0;34m\u001b[0m\u001b[0;34m\u001b[0m\u001b[0m\n",
      "\u001b[0;32m~/DDPPO/vectorenv.py\u001b[0m in \u001b[0;36m<listcomp>\u001b[0;34m(.0)\u001b[0m\n\u001b[1;32m    100\u001b[0m         \u001b[0;32mfor\u001b[0m \u001b[0mwrite_fn\u001b[0m \u001b[0;32min\u001b[0m \u001b[0mself\u001b[0m\u001b[0;34m.\u001b[0m\u001b[0m_connection_write_fns\u001b[0m\u001b[0;34m:\u001b[0m\u001b[0;34m\u001b[0m\u001b[0;34m\u001b[0m\u001b[0m\n\u001b[1;32m    101\u001b[0m             \u001b[0mwrite_fn\u001b[0m\u001b[0;34m(\u001b[0m\u001b[0;34m(\u001b[0m\u001b[0mOBSERVATION_SPACE_COMMAND\u001b[0m\u001b[0;34m,\u001b[0m \u001b[0;32mNone\u001b[0m\u001b[0;34m)\u001b[0m\u001b[0;34m)\u001b[0m\u001b[0;34m\u001b[0m\u001b[0;34m\u001b[0m\u001b[0m\n\u001b[0;32m--> 102\u001b[0;31m         \u001b[0mself\u001b[0m\u001b[0;34m.\u001b[0m\u001b[0mobservation_spaces\u001b[0m \u001b[0;34m=\u001b[0m \u001b[0;34m[\u001b[0m\u001b[0mread_fn\u001b[0m\u001b[0;34m(\u001b[0m\u001b[0;34m)\u001b[0m \u001b[0;32mfor\u001b[0m \u001b[0mread_fn\u001b[0m \u001b[0;32min\u001b[0m \u001b[0mself\u001b[0m\u001b[0;34m.\u001b[0m\u001b[0m_connection_read_fns\u001b[0m\u001b[0;34m]\u001b[0m\u001b[0;34m\u001b[0m\u001b[0;34m\u001b[0m\u001b[0m\n\u001b[0m\u001b[1;32m    103\u001b[0m         \u001b[0;32mfor\u001b[0m \u001b[0mwrite_fn\u001b[0m \u001b[0;32min\u001b[0m \u001b[0mself\u001b[0m\u001b[0;34m.\u001b[0m\u001b[0m_connection_write_fns\u001b[0m\u001b[0;34m:\u001b[0m\u001b[0;34m\u001b[0m\u001b[0;34m\u001b[0m\u001b[0m\n\u001b[1;32m    104\u001b[0m             \u001b[0mwrite_fn\u001b[0m\u001b[0;34m(\u001b[0m\u001b[0;34m(\u001b[0m\u001b[0mACTION_SPACE_COMMAND\u001b[0m\u001b[0;34m,\u001b[0m \u001b[0;32mNone\u001b[0m\u001b[0;34m)\u001b[0m\u001b[0;34m)\u001b[0m\u001b[0;34m\u001b[0m\u001b[0;34m\u001b[0m\u001b[0m\n",
      "\u001b[0;32m/opt/conda/envs/habitat/lib/python3.6/multiprocessing/connection.py\u001b[0m in \u001b[0;36mrecv\u001b[0;34m(self)\u001b[0m\n\u001b[1;32m    248\u001b[0m         \u001b[0mself\u001b[0m\u001b[0;34m.\u001b[0m\u001b[0m_check_closed\u001b[0m\u001b[0;34m(\u001b[0m\u001b[0;34m)\u001b[0m\u001b[0;34m\u001b[0m\u001b[0;34m\u001b[0m\u001b[0m\n\u001b[1;32m    249\u001b[0m         \u001b[0mself\u001b[0m\u001b[0;34m.\u001b[0m\u001b[0m_check_readable\u001b[0m\u001b[0;34m(\u001b[0m\u001b[0;34m)\u001b[0m\u001b[0;34m\u001b[0m\u001b[0;34m\u001b[0m\u001b[0m\n\u001b[0;32m--> 250\u001b[0;31m         \u001b[0mbuf\u001b[0m \u001b[0;34m=\u001b[0m \u001b[0mself\u001b[0m\u001b[0;34m.\u001b[0m\u001b[0m_recv_bytes\u001b[0m\u001b[0;34m(\u001b[0m\u001b[0;34m)\u001b[0m\u001b[0;34m\u001b[0m\u001b[0;34m\u001b[0m\u001b[0m\n\u001b[0m\u001b[1;32m    251\u001b[0m         \u001b[0;32mreturn\u001b[0m \u001b[0m_ForkingPickler\u001b[0m\u001b[0;34m.\u001b[0m\u001b[0mloads\u001b[0m\u001b[0;34m(\u001b[0m\u001b[0mbuf\u001b[0m\u001b[0;34m.\u001b[0m\u001b[0mgetbuffer\u001b[0m\u001b[0;34m(\u001b[0m\u001b[0;34m)\u001b[0m\u001b[0;34m)\u001b[0m\u001b[0;34m\u001b[0m\u001b[0;34m\u001b[0m\u001b[0m\n\u001b[1;32m    252\u001b[0m \u001b[0;34m\u001b[0m\u001b[0m\n",
      "\u001b[0;32m/opt/conda/envs/habitat/lib/python3.6/multiprocessing/connection.py\u001b[0m in \u001b[0;36m_recv_bytes\u001b[0;34m(self, maxsize)\u001b[0m\n\u001b[1;32m    405\u001b[0m \u001b[0;34m\u001b[0m\u001b[0m\n\u001b[1;32m    406\u001b[0m     \u001b[0;32mdef\u001b[0m \u001b[0m_recv_bytes\u001b[0m\u001b[0;34m(\u001b[0m\u001b[0mself\u001b[0m\u001b[0;34m,\u001b[0m \u001b[0mmaxsize\u001b[0m\u001b[0;34m=\u001b[0m\u001b[0;32mNone\u001b[0m\u001b[0;34m)\u001b[0m\u001b[0;34m:\u001b[0m\u001b[0;34m\u001b[0m\u001b[0;34m\u001b[0m\u001b[0m\n\u001b[0;32m--> 407\u001b[0;31m         \u001b[0mbuf\u001b[0m \u001b[0;34m=\u001b[0m \u001b[0mself\u001b[0m\u001b[0;34m.\u001b[0m\u001b[0m_recv\u001b[0m\u001b[0;34m(\u001b[0m\u001b[0;36m4\u001b[0m\u001b[0;34m)\u001b[0m\u001b[0;34m\u001b[0m\u001b[0;34m\u001b[0m\u001b[0m\n\u001b[0m\u001b[1;32m    408\u001b[0m         \u001b[0msize\u001b[0m\u001b[0;34m,\u001b[0m \u001b[0;34m=\u001b[0m \u001b[0mstruct\u001b[0m\u001b[0;34m.\u001b[0m\u001b[0munpack\u001b[0m\u001b[0;34m(\u001b[0m\u001b[0;34m\"!i\"\u001b[0m\u001b[0;34m,\u001b[0m \u001b[0mbuf\u001b[0m\u001b[0;34m.\u001b[0m\u001b[0mgetvalue\u001b[0m\u001b[0;34m(\u001b[0m\u001b[0;34m)\u001b[0m\u001b[0;34m)\u001b[0m\u001b[0;34m\u001b[0m\u001b[0;34m\u001b[0m\u001b[0m\n\u001b[1;32m    409\u001b[0m         \u001b[0;32mif\u001b[0m \u001b[0mmaxsize\u001b[0m \u001b[0;32mis\u001b[0m \u001b[0;32mnot\u001b[0m \u001b[0;32mNone\u001b[0m \u001b[0;32mand\u001b[0m \u001b[0msize\u001b[0m \u001b[0;34m>\u001b[0m \u001b[0mmaxsize\u001b[0m\u001b[0;34m:\u001b[0m\u001b[0;34m\u001b[0m\u001b[0;34m\u001b[0m\u001b[0m\n",
      "\u001b[0;32m/opt/conda/envs/habitat/lib/python3.6/multiprocessing/connection.py\u001b[0m in \u001b[0;36m_recv\u001b[0;34m(self, size, read)\u001b[0m\n\u001b[1;32m    377\u001b[0m         \u001b[0mremaining\u001b[0m \u001b[0;34m=\u001b[0m \u001b[0msize\u001b[0m\u001b[0;34m\u001b[0m\u001b[0;34m\u001b[0m\u001b[0m\n\u001b[1;32m    378\u001b[0m         \u001b[0;32mwhile\u001b[0m \u001b[0mremaining\u001b[0m \u001b[0;34m>\u001b[0m \u001b[0;36m0\u001b[0m\u001b[0;34m:\u001b[0m\u001b[0;34m\u001b[0m\u001b[0;34m\u001b[0m\u001b[0m\n\u001b[0;32m--> 379\u001b[0;31m             \u001b[0mchunk\u001b[0m \u001b[0;34m=\u001b[0m \u001b[0mread\u001b[0m\u001b[0;34m(\u001b[0m\u001b[0mhandle\u001b[0m\u001b[0;34m,\u001b[0m \u001b[0mremaining\u001b[0m\u001b[0;34m)\u001b[0m\u001b[0;34m\u001b[0m\u001b[0;34m\u001b[0m\u001b[0m\n\u001b[0m\u001b[1;32m    380\u001b[0m             \u001b[0mn\u001b[0m \u001b[0;34m=\u001b[0m \u001b[0mlen\u001b[0m\u001b[0;34m(\u001b[0m\u001b[0mchunk\u001b[0m\u001b[0;34m)\u001b[0m\u001b[0;34m\u001b[0m\u001b[0;34m\u001b[0m\u001b[0m\n\u001b[1;32m    381\u001b[0m             \u001b[0;32mif\u001b[0m \u001b[0mn\u001b[0m \u001b[0;34m==\u001b[0m \u001b[0;36m0\u001b[0m\u001b[0;34m:\u001b[0m\u001b[0;34m\u001b[0m\u001b[0;34m\u001b[0m\u001b[0m\n",
      "\u001b[0;31mKeyboardInterrupt\u001b[0m: "
     ]
    }
   ],
   "source": [
    "num_processes = config.NUM_PROCESSES\n",
    "configs = [config.clone() for i in range(num_processes)]\n",
    "env_class = get_env_class(config.ENV_NAME)\n",
    "env_classes = [env_class for _ in range(num_processes)]\n",
    "\n",
    "envs = VectorEnv(make_env_fn=make_env_fn,\n",
    "                env_fn_args=tuple(tuple(zip(configs, env_classes, range(num_processes)))))"
   ]
  },
  {
   "cell_type": "code",
   "execution_count": null,
   "metadata": {},
   "outputs": [],
   "source": [
    "obs = envs.reset()"
   ]
  },
  {
   "cell_type": "code",
   "execution_count": null,
   "metadata": {},
   "outputs": [],
   "source": [
    "outputs = envs.step([2,0,2,2])\n",
    "\n",
    "observations, rewards, dones, infos = [list(x) for x in zip(*outputs)]\n",
    "\n",
    "OBSERVATION_SPACE_COMMAND = 'obs'\n",
    "for write_fn in envs._connection_write_fns:\n",
    "    write_fn((OBSERVATION_SPACE_COMMAND, None))\n",
    "obs = [read_fn() for read_fn in envs._connection_read_fns]\n",
    "\n",
    "OBSERVATION_SPACE_COMMAND = ['trux','truy','goalx','goaly']\n",
    "for i,command in enumerate(OBSERVATION_SPACE_COMMAND):\n",
    "    for write_fn in envs._connection_write_fns:\n",
    "        write_fn((command, None))\n",
    "    OBSERVATION_SPACE_COMMAND[i] = [read_fn() for read_fn in envs._connection_read_fns]\n",
    "\n",
    "figure, axes = plt.subplots(nrows=2, ncols=config.NUM_PROCESSES)\n",
    "for i in range(config.NUM_PROCESSES):\n",
    "    top_down_map = draw_top_down_map(infos[i], obs[i][\"heading\"][0], obs[i]['rgb'][0].shape[0])\n",
    "    axes[0, i].imshow(observations[i]['depth'][:,:,0])\n",
    "    axes[1, i].imshow(top_down_map)\n",
    "    \n",
    "print('Env is done: ',dones)\n",
    "print('Current coordinates: ',list(map(list, zip(*OBSERVATION_SPACE_COMMAND[:2]))))\n",
    "print('Goal coordinates: ',list(map(list, zip(*OBSERVATION_SPACE_COMMAND[2:]))))\n",
    "print('Distance to goal: ',[list(observations[i]['pos']) for i in range(config.NUM_PROCESSES)])"
   ]
  },
  {
   "cell_type": "markdown",
   "metadata": {},
   "source": [
    "## How to communicate with VectorEnv manually (example)"
   ]
  },
  {
   "cell_type": "code",
   "execution_count": null,
   "metadata": {},
   "outputs": [],
   "source": [
    "data = [0,0,0,0]\n",
    "STEP_COMMAND = \"step\"\n",
    "\n",
    "if isinstance(data[0], (int, np.integer, str)):\n",
    "    data = [{\"action\": {\"action\": action}} for action in data]\n",
    "envs._is_waiting = True\n",
    "for write_fn, args in zip(envs._connection_write_fns, data):\n",
    "    write_fn((STEP_COMMAND, args))\n",
    "\n",
    "outputs = []\n",
    "for read_fn in envs._connection_read_fns:\n",
    "    outputs.append(read_fn())\n",
    "observations, rewards, dones, infos = [list(x) for x in zip(*outputs)]    \n",
    "envs._is_waiting = False\n",
    "plt.imshow(observations[1]['depth'][:,:,0])"
   ]
  },
  {
   "cell_type": "code",
   "execution_count": null,
   "metadata": {},
   "outputs": [],
   "source": [
    "OBSERVATION_SPACE_COMMAND = 'obs'\n",
    "for write_fn in trainer.envs._connection_write_fns:\n",
    "    write_fn((OBSERVATION_SPACE_COMMAND, None))\n",
    "obs = [read_fn() for read_fn in trainer.envs._connection_read_fns]"
   ]
  },
  {
   "cell_type": "code",
   "execution_count": null,
   "metadata": {},
   "outputs": [],
   "source": [
    "outputs = trainer.envs.step([3 for i in range(config.NUM_PROCESSES)])\n",
    "observations, rewards, dones, infos = [list(x) for x in zip(*outputs)]"
   ]
  },
  {
   "cell_type": "markdown",
   "metadata": {},
   "source": [
    "# Run training process"
   ]
  },
  {
   "cell_type": "code",
   "execution_count": 10,
   "metadata": {},
   "outputs": [],
   "source": [
    "random.seed(config.TASK_CONFIG.SEED)\n",
    "np.random.seed(config.TASK_CONFIG.SEED)"
   ]
  },
  {
   "cell_type": "code",
   "execution_count": 11,
   "metadata": {},
   "outputs": [
    {
     "name": "stdout",
     "output_type": "stream",
     "text": [
      "Auto GPU config:\n",
      "Number of processes: 24\n",
      "Number of processes on GPU 0: 8\n",
      "Number of processes per GPU: 16\n"
     ]
    }
   ],
   "source": [
    "from arguments import get_args\n",
    "argumnts = ''\n",
    "args = get_args(argumnts)\n",
    "args.num_processes = config.NUM_PROCESSES\n",
    "config.defrost()\n",
    "config.RL.PPO.num_steps = config.TASK_CONFIG.ENVIRONMENT.MAX_EPISODE_STEPS\n",
    "config.RL.DDPPO.pretrained_weights = 'data/new_checkpoints/ckpt.94.pth'\n",
    "config.RL.DDPPO.pretrained_encoder = False\n",
    "config.RL.DDPPO.pretrained = False\n",
    "config.freeze()"
   ]
  },
  {
   "cell_type": "code",
   "execution_count": 12,
   "metadata": {},
   "outputs": [],
   "source": [
    "trainer_init = baseline_registry.get_trainer(config.TRAINER_NAME)"
   ]
  },
  {
   "cell_type": "code",
   "execution_count": 13,
   "metadata": {
    "collapsed": true,
    "jupyter": {
     "outputs_hidden": true
    }
   },
   "outputs": [
    {
     "name": "stderr",
     "output_type": "stream",
     "text": [
      "2020-05-28 18:46:45,429 config: BASE_TASK_CONFIG_PATH: /habitat-api/configs/tasks/pointnav_gibson.yaml\n",
      "CHECKPOINT_FOLDER: data/new_checkpoints\n",
      "CHECKPOINT_INTERVAL: 50\n",
      "CMD_TRAILING_OPTS: []\n",
      "ENV_NAME: MyRLEnvNew\n",
      "EVAL:\n",
      "  SPLIT: val\n",
      "  USE_CKPT_CONFIG: True\n",
      "EVAL_CKPT_PATH_DIR: data/new_checkpoints\n",
      "LOG_FILE: train.log\n",
      "LOG_INTERVAL: 10\n",
      "NUM_PROCESSES: 10\n",
      "NUM_UPDATES: 50000\n",
      "ORBSLAM2:\n",
      "  ANGLE_TH: 0.2617993877991494\n",
      "  BETA: 100\n",
      "  CAMERA_HEIGHT: 1.25\n",
      "  DEPTH_DENORM: 10.0\n",
      "  DIST_REACHED_TH: 0.15\n",
      "  DIST_TO_STOP: 0.05\n",
      "  D_OBSTACLE_MAX: 4.0\n",
      "  D_OBSTACLE_MIN: 0.1\n",
      "  H_OBSTACLE_MAX: 1.25\n",
      "  H_OBSTACLE_MIN: 0.375\n",
      "  MAP_CELL_SIZE: 0.1\n",
      "  MAP_SIZE: 40\n",
      "  MIN_PTS_IN_OBSTACLE: 320.0\n",
      "  NEXT_WAYPOINT_TH: 0.5\n",
      "  NUM_ACTIONS: 3\n",
      "  PLANNER_MAX_STEPS: 500\n",
      "  PREPROCESS_MAP: True\n",
      "  SLAM_SETTINGS_PATH: habitat_baselines/slambased/data/mp3d3_small1k.yaml\n",
      "  SLAM_VOCAB_PATH: habitat_baselines/slambased/data/ORBvoc.txt\n",
      "RL:\n",
      "  DDPPO:\n",
      "    backbone: resnet50\n",
      "    distrib_backend: NCCL\n",
      "    num_recurrent_layers: 2\n",
      "    pretrained: False\n",
      "    pretrained_encoder: False\n",
      "    pretrained_weights: data/new_checkpoints/ckpt.94.pth\n",
      "    reset_critic: True\n",
      "    rnn_type: LSTM\n",
      "    sync_frac: 0.6\n",
      "    train_encoder: True\n",
      "  FRAMESKIP: 1\n",
      "  FRAMESTACK: 1\n",
      "  PPO:\n",
      "    clip_param: 0.2\n",
      "    entropy_coef: 0.01\n",
      "    eps: 1e-05\n",
      "    gamma: 0.99\n",
      "    hidden_size: 512\n",
      "    lr: 5e-06\n",
      "    max_grad_norm: 0.2\n",
      "    num_mini_batch: 2\n",
      "    num_steps: 150\n",
      "    ppo_epoch: 2\n",
      "    reward_window_size: 50\n",
      "    tau: 0.95\n",
      "    use_gae: True\n",
      "    use_linear_clip_decay: False\n",
      "    use_linear_lr_decay: False\n",
      "    use_normalized_advantage: False\n",
      "    value_loss_coef: 0.5\n",
      "  REWARD_MEASURE: distance_to_goal\n",
      "  SLACK_REWARD: -0.01\n",
      "  SUCCESS_MEASURE: spl\n",
      "  SUCCESS_REWARD: 2.5\n",
      "SENSORS: ['DEPTH_SENSOR']\n",
      "SIMULATOR_GPU_ID: 0\n",
      "TASK_CONFIG:\n",
      "  DATASET:\n",
      "    CONTENT_SCENES: ['*']\n",
      "    DATA_PATH: /data/v2/{split}/{split}.json.gz\n",
      "    SCENES_DIR: /data\n",
      "    SPLIT: train\n",
      "    TYPE: PointNav-v1\n",
      "  ENVIRONMENT:\n",
      "    ITERATOR_OPTIONS:\n",
      "      CYCLE: True\n",
      "      GROUP_BY_SCENE: True\n",
      "      MAX_SCENE_REPEAT_EPISODES: -1\n",
      "      MAX_SCENE_REPEAT_STEPS: 10000\n",
      "      NUM_EPISODE_SAMPLE: -1\n",
      "      SHUFFLE: False\n",
      "      STEP_REPETITION_RANGE: 0.2\n",
      "    MAX_EPISODE_SECONDS: 10000000\n",
      "    MAX_EPISODE_STEPS: 150\n",
      "  PYROBOT:\n",
      "    BASE_CONTROLLER: proportional\n",
      "    BASE_PLANNER: none\n",
      "    BUMP_SENSOR:\n",
      "      TYPE: PyRobotBumpSensor\n",
      "    DEPTH_SENSOR:\n",
      "      CENTER_CROP: False\n",
      "      HEIGHT: 480\n",
      "      MAX_DEPTH: 5.0\n",
      "      MIN_DEPTH: 0.0\n",
      "      NORMALIZE_DEPTH: True\n",
      "      TYPE: PyRobotDepthSensor\n",
      "      WIDTH: 640\n",
      "    LOCOBOT:\n",
      "      ACTIONS: ['BASE_ACTIONS', 'CAMERA_ACTIONS']\n",
      "      BASE_ACTIONS: ['go_to_relative', 'go_to_absolute']\n",
      "      CAMERA_ACTIONS: ['set_pan', 'set_tilt', 'set_pan_tilt']\n",
      "    RGB_SENSOR:\n",
      "      CENTER_CROP: False\n",
      "      HEIGHT: 480\n",
      "      TYPE: PyRobotRGBSensor\n",
      "      WIDTH: 640\n",
      "    ROBOT: locobot\n",
      "    ROBOTS: ['locobot']\n",
      "    SENSORS: ['RGB_SENSOR', 'DEPTH_SENSOR', 'BUMP_SENSOR']\n",
      "  SEED: 100\n",
      "  SIMULATOR:\n",
      "    ACTION_SPACE_CONFIG: pyrobotnoisy\n",
      "    AGENTS: ['AGENT_0']\n",
      "    AGENT_0:\n",
      "      ANGULAR_ACCELERATION: 12.56\n",
      "      ANGULAR_FRICTION: 1.0\n",
      "      COEFFICIENT_OF_RESTITUTION: 0.0\n",
      "      HEIGHT: 0.88\n",
      "      IS_SET_START_STATE: False\n",
      "      LINEAR_ACCELERATION: 20.0\n",
      "      LINEAR_FRICTION: 0.5\n",
      "      MASS: 32.0\n",
      "      RADIUS: 0.18\n",
      "      SENSORS: ['RGB_SENSOR', 'DEPTH_SENSOR']\n",
      "      START_POSITION: [0, 0, 0]\n",
      "      START_ROTATION: [0, 0, 0, 1]\n",
      "    DEFAULT_AGENT_ID: 0\n",
      "    DEPTH_SENSOR:\n",
      "      HEIGHT: 360\n",
      "      HFOV: 70\n",
      "      MAX_DEPTH: 10.0\n",
      "      MIN_DEPTH: 0.1\n",
      "      NOISE_MODEL: RedwoodDepthNoiseModel\n",
      "      NORMALIZE_DEPTH: True\n",
      "      ORIENTATION: [0.0, 0.0, 0.0]\n",
      "      POSITION: [0, 0.88, 0]\n",
      "      TYPE: HabitatSimDepthSensor\n",
      "      WIDTH: 640\n",
      "    FORWARD_STEP_SIZE: 0.25\n",
      "    HABITAT_SIM_V0:\n",
      "      ALLOW_SLIDING: True\n",
      "      ENABLE_PHYSICS: False\n",
      "      GPU_DEVICE_ID: 0\n",
      "      GPU_GPU: False\n",
      "      PHYSICS_CONFIG_FILE: ./data/default.phys_scene_config.json\n",
      "    NOISE_MODEL:\n",
      "      CONTROLLER: Proportional\n",
      "      NOISE_MULTIPLIER: 0.5\n",
      "      ROBOT: LoCoBot\n",
      "    RGB_SENSOR:\n",
      "      HEIGHT: 360\n",
      "      HFOV: 70\n",
      "      NOISE_MODEL: GaussianNoiseModel\n",
      "      NOISE_MODEL_KWARGS:\n",
      "        intensity_constant: 0.1\n",
      "      ORIENTATION: [0.0, 0.0, 0.0]\n",
      "      POSITION: [0, 0.88, 0]\n",
      "      TYPE: HabitatSimRGBSensor\n",
      "      WIDTH: 640\n",
      "    SCENE: /data/gibson/Aldrich.glb\n",
      "    SEED: 100\n",
      "    SEMANTIC_SENSOR:\n",
      "      HEIGHT: 480\n",
      "      HFOV: 90\n",
      "      ORIENTATION: [0.0, 0.0, 0.0]\n",
      "      POSITION: [0, 1.25, 0]\n",
      "      TYPE: HabitatSimSemanticSensor\n",
      "      WIDTH: 640\n",
      "    TILT_ANGLE: 10\n",
      "    TURN_ANGLE: 10\n",
      "    TYPE: Sim-v0\n",
      "  TASK:\n",
      "    ACTIONS:\n",
      "      ANSWER:\n",
      "        TYPE: AnswerAction\n",
      "      LOOK_DOWN:\n",
      "        TYPE: LookDownAction\n",
      "      LOOK_UP:\n",
      "        TYPE: LookUpAction\n",
      "      MOVE_FORWARD:\n",
      "        TYPE: MoveForwardAction\n",
      "      STOP:\n",
      "        TYPE: StopAction\n",
      "      TELEPORT:\n",
      "        TYPE: TeleportAction\n",
      "      TURN_LEFT:\n",
      "        TYPE: TurnLeftAction\n",
      "      TURN_RIGHT:\n",
      "        TYPE: TurnRightAction\n",
      "    AGENT_POSITION_SENSOR:\n",
      "      ANSWER_TO_LIFE: 42\n",
      "      TYPE: position_sensor\n",
      "    ANSWER_ACCURACY:\n",
      "      TYPE: AnswerAccuracy\n",
      "    COLLISIONS:\n",
      "      TYPE: Collisions\n",
      "    COMPASS_SENSOR:\n",
      "      TYPE: CompassSensor\n",
      "    CORRECT_ANSWER:\n",
      "      TYPE: CorrectAnswer\n",
      "    DISTANCE_TO_GOAL:\n",
      "      DISTANCE_TO: POINT\n",
      "      TYPE: DistanceToGoal\n",
      "    EPISODE_INFO:\n",
      "      TYPE: EpisodeInfo\n",
      "    GOAL_SENSOR_UUID: pos\n",
      "    GPS_SENSOR:\n",
      "      DIMENSIONALITY: 3\n",
      "      GOAL_FORMAT: CARTESIAN\n",
      "      TYPE: GPSSensor\n",
      "    HEADING_SENSOR:\n",
      "      TYPE: HeadingSensor\n",
      "    INSTRUCTION_SENSOR:\n",
      "      TYPE: InstructionSensor\n",
      "    INSTRUCTION_SENSOR_UUID: instruction\n",
      "    MEASUREMENTS: ['DISTANCE_TO_GOAL', 'SUCCESS', 'SPL', 'SOFT_SPL', 'TOP_DOWN_MAP']\n",
      "    OBJECTGOAL_SENSOR:\n",
      "      GOAL_SPEC: TASK_CATEGORY_ID\n",
      "      GOAL_SPEC_MAX_VAL: 50\n",
      "      TYPE: ObjectGoalSensor\n",
      "    POINTGOAL_SENSOR:\n",
      "      DIMENSIONALITY: 3\n",
      "      GOAL_FORMAT: CARTESIAN\n",
      "      TYPE: PointGoalSensor\n",
      "    POINTGOAL_WITH_GPS_COMPASS_SENSOR:\n",
      "      DIMENSIONALITY: 3\n",
      "      GOAL_FORMAT: CARTESIAN\n",
      "      TYPE: PointGoalWithGPSCompassSensor\n",
      "    POSSIBLE_ACTIONS: ['STOP', 'MOVE_FORWARD', 'TURN_LEFT', 'TURN_RIGHT']\n",
      "    PROXIMITY_SENSOR:\n",
      "      MAX_DETECTION_RADIUS: 2.0\n",
      "      TYPE: ProximitySensor\n",
      "    QUESTION_SENSOR:\n",
      "      TYPE: QuestionSensor\n",
      "    SENSORS: ['HEADING_SENSOR', 'COMPASS_SENSOR', 'GPS_SENSOR', 'POINTGOAL_SENSOR', 'POINTGOAL_WITH_GPS_COMPASS_SENSOR', 'AGENT_POSITION_SENSOR']\n",
      "    SOFT_SPL:\n",
      "      TYPE: SoftSPL\n",
      "    SPL:\n",
      "      TYPE: SPL\n",
      "    SUCCESS:\n",
      "      SUCCESS_DISTANCE: 0.36\n",
      "      TYPE: Success\n",
      "    SUCCESS_DISTANCE: 0.36\n",
      "    TOP_DOWN_MAP:\n",
      "      DRAW_BORDER: True\n",
      "      DRAW_GOAL_AABBS: True\n",
      "      DRAW_GOAL_POSITIONS: True\n",
      "      DRAW_SHORTEST_PATH: True\n",
      "      DRAW_SOURCE: True\n",
      "      DRAW_VIEW_POINTS: True\n",
      "      FOG_OF_WAR:\n",
      "        DRAW: True\n",
      "        FOV: 90\n",
      "        VISIBILITY_DIST: 5.0\n",
      "      MAP_PADDING: 3\n",
      "      MAP_RESOLUTION: 1250\n",
      "      MAX_EPISODE_STEPS: 150\n",
      "      NUM_TOPDOWN_MAP_SAMPLE_POINTS: 20000\n",
      "      TYPE: TopDownMap\n",
      "    TYPE: Nav-v0\n",
      "TENSORBOARD_DIR: tb\n",
      "TEST_EPISODE_COUNT: 994\n",
      "TORCH_GPU_ID: 0\n",
      "TRAINER_NAME: ddppo\n",
      "VIDEO_DIR: video_dir\n",
      "VIDEO_OPTION: []\n"
     ]
    }
   ],
   "source": [
    "trainer = trainer_init(config)"
   ]
  },
  {
   "cell_type": "code",
   "execution_count": 14,
   "metadata": {},
   "outputs": [
    {
     "name": "stderr",
     "output_type": "stream",
     "text": [
      "2020-05-28 18:46:50,800 Initializing dataset PointNav-v1\n"
     ]
    },
    {
     "name": "stdout",
     "output_type": "stream",
     "text": [
      "0\n",
      "1\n",
      "1\n",
      "1\n",
      "1\n",
      "1\n",
      "1\n",
      "1\n",
      "1\n",
      "1\n",
      "1\n"
     ]
    },
    {
     "name": "stderr",
     "output_type": "stream",
     "text": [
      "2020-05-28 18:47:11,422 agent number of trainable parameters: 12454917\n"
     ]
    }
   ],
   "source": [
    "trainer.train_init(args)"
   ]
  },
  {
   "cell_type": "code",
   "execution_count": 15,
   "metadata": {},
   "outputs": [
    {
     "data": {
      "text/plain": [
       "<All keys matched successfully>"
      ]
     },
     "execution_count": 15,
     "metadata": {},
     "output_type": "execute_result"
    }
   ],
   "source": [
    "pretrained_state = torch.load(config.RL.DDPPO.pretrained_weights, map_location=\"cpu\")\n",
    "trainer.actor_critic.load_state_dict({k[len(\"actor_critic.\") :]: v for k, v in pretrained_state[\"state_dict\"].items()})"
   ]
  },
  {
   "cell_type": "code",
   "execution_count": null,
   "metadata": {},
   "outputs": [
    {
     "name": "stdout",
     "output_type": "stream",
     "text": [
      "RESET\n",
      "{'distance_to_goal': 2.063289451599121, 'softspl': 0.6022128105163574, 'spl': 0.0, 'success': 0.0, 'top_down_map.agent_angle': -1.3942545890808105}\n",
      "{'distance_to_goal': 3.1058331298828126, 'softspl': 0.44567634582519533, 'spl': 0.06314438819885254, 'success': 0.08, 'top_down_map.agent_angle': -1.5142601013183594}\n",
      "{'distance_to_goal': 2.8387554931640624, 'softspl': 0.4567730712890625, 'spl': 0.04490628719329834, 'success': 0.06, 'top_down_map.agent_angle': -1.4932855224609376}\n",
      "{'distance_to_goal': 2.8724660237630206, 'softspl': 0.46991312662760415, 'spl': 0.04981921831766764, 'success': 0.06666666666666667, 'top_down_map.agent_angle': -1.5522231038411458}\n",
      "{'distance_to_goal': 2.9186529541015624, 'softspl': 0.4684936141967773, 'spl': 0.03736441373825073, 'success': 0.05, 'top_down_map.agent_angle': -1.528429718017578}\n",
      "{'distance_to_goal': 2.8378771134005247, 'softspl': 0.48035955065079317, 'spl': 0.041117602632245946, 'success': 0.05343511450381679, 'top_down_map.agent_angle': -1.5739826464471016}\n",
      "{'distance_to_goal': 2.8177364226310484, 'softspl': 0.4861358642578125, 'spl': 0.03475100609564012, 'success': 0.04516129032258064, 'top_down_map.agent_angle': -1.610293677545363}\n",
      "{'distance_to_goal': 2.716613936293972, 'softspl': 0.493040574704363, 'spl': 0.03558576823583717, 'success': 0.04918032786885246, 'top_down_map.agent_angle': -1.6961709944928278}\n",
      "{'distance_to_goal': 2.7699356819819476, 'softspl': 0.48493379759557037, 'spl': 0.03161259993766118, 'success': 0.043689320388349516, 'top_down_map.agent_angle': -1.6679509727700244}\n",
      "{'distance_to_goal': 2.707559610129426, 'softspl': 0.49166218507955, 'spl': 0.03491904704867514, 'success': 0.04721030042918455, 'top_down_map.agent_angle': -1.6572917889116148}\n"
     ]
    },
    {
     "name": "stderr",
     "output_type": "stream",
     "text": [
      "2020-05-28 18:53:20,128 update: 10\tfps: 46.551\t\n",
      "2020-05-28 18:53:20,130 update: 10\tenv-time: 293.686s\tpth-time: 60.128s\tframes: 16500.0\n",
      "2020-05-28 18:53:20,131 Average window size: 11  distance_to_goal: 2.708  reward: 3.513  softspl: 0.492  spl: 0.034  success: 0.046  top_down_map.agent_angle: -1.728\n"
     ]
    },
    {
     "name": "stdout",
     "output_type": "stream",
     "text": [
      "{'distance_to_goal': 2.7078445843809864, 'softspl': 0.49220538961476296, 'spl': 0.03408396929159932, 'success': 0.04597701149425287, 'top_down_map.agent_angle': -1.7279784688547652}\n",
      "{'distance_to_goal': 2.7731493023079885, 'softspl': 0.48904214778416594, 'spl': 0.03404988705272406, 'success': 0.045774647887323945, 'top_down_map.agent_angle': -1.6778301185285542}\n",
      "{'distance_to_goal': 2.7598691878780244, 'softspl': 0.48821854129914316, 'spl': 0.031194090074108494, 'success': 0.041935483870967745, 'top_down_map.agent_angle': -1.6999214418472783}\n",
      "{'distance_to_goal': 2.7344513831779973, 'softspl': 0.4869408412286413, 'spl': 0.03414624476293374, 'success': 0.04678362573099415, 'top_down_map.agent_angle': -1.6699093824241593}\n",
      "{'distance_to_goal': 2.741518601127293, 'softspl': 0.48624262602432916, 'spl': 0.0317337383394656, 'success': 0.043478260869565216, 'top_down_map.agent_angle': -1.6920637047809104}\n",
      "{'distance_to_goal': 2.7455004820690205, 'softspl': 0.4890918683156409, 'spl': 0.031853452590282334, 'success': 0.043256997455470736, 'top_down_map.agent_angle': -1.6768146544012406}\n",
      "{'distance_to_goal': 2.7769760892963182, 'softspl': 0.49065596700564135, 'spl': 0.03143182106652339, 'success': 0.04275534441805225, 'top_down_map.agent_angle': -1.6806363719659294}\n",
      "{'distance_to_goal': 2.7935733795166016, 'softspl': 0.48727587291172575, 'spl': 0.031460857817104886, 'success': 0.04241071428571429, 'top_down_map.agent_angle': -1.6409055164882116}\n",
      "{'distance_to_goal': 2.801959983457809, 'softspl': 0.48728069569329796, 'spl': 0.03112393505168411, 'success': 0.041928721174004195, 'top_down_map.agent_angle': -1.6634014777417452}\n",
      "{'distance_to_goal': 2.818488254015189, 'softspl': 0.48474841478811315, 'spl': 0.02957393828616199, 'success': 0.0398406374501992, 'top_down_map.agent_angle': -1.6832795770044822}\n"
     ]
    },
    {
     "name": "stderr",
     "output_type": "stream",
     "text": [
      "2020-05-28 18:58:29,605 update: 20\tfps: 47.445\t\n",
      "2020-05-28 18:58:29,608 update: 20\tenv-time: 548.907s\tpth-time: 113.934s\tframes: 31500.0\n",
      "2020-05-28 18:58:29,609 Average window size: 21  distance_to_goal: 2.815  reward: 3.354  softspl: 0.484  spl: 0.030  success: 0.040  top_down_map.agent_angle: -1.647\n"
     ]
    },
    {
     "name": "stdout",
     "output_type": "stream",
     "text": [
      "{'distance_to_goal': 2.8146984281994047, 'softspl': 0.4839163353329613, 'spl': 0.02972510746547154, 'success': 0.04, 'top_down_map.agent_angle': -1.6472735305059525}\n",
      "{'distance_to_goal': 2.8039470880681816, 'softspl': 0.4876619096235795, 'spl': 0.029794776222922585, 'success': 0.04, 'top_down_map.agent_angle': -1.632542169744318}\n",
      "{'distance_to_goal': 2.789397400008124, 'softspl': 0.4873910570062013, 'spl': 0.02840056659030749, 'success': 0.038128249566724434, 'top_down_map.agent_angle': -1.6328811513282604}\n",
      "{'distance_to_goal': 2.7988385996802805, 'softspl': 0.4855207688737624, 'spl': 0.02952163054211305, 'success': 0.039603960396039604, 'top_down_map.agent_angle': -1.6395240506716686}\n",
      "{'distance_to_goal': 2.8086190125765205, 'softspl': 0.48619674995988843, 'spl': 0.028262414073492115, 'success': 0.037914691943127965, 'top_down_map.agent_angle': -1.6421287982573065}\n",
      "{'distance_to_goal': 2.7716505160144447, 'softspl': 0.4875518706630004, 'spl': 0.02927658276975695, 'success': 0.03927492447129909, 'top_down_map.agent_angle': -1.6225904942999434}\n",
      "{'distance_to_goal': 2.779698748921239, 'softspl': 0.48796879967977835, 'spl': 0.029232313466626546, 'success': 0.03924418604651163, 'top_down_map.agent_angle': -1.637774800145349}\n",
      "{'distance_to_goal': 2.7718615125109265, 'softspl': 0.49083482435533216, 'spl': 0.028128435895159527, 'success': 0.03776223776223776, 'top_down_map.agent_angle': -1.620248989291958}\n",
      "{'distance_to_goal': 2.795893502042621, 'softspl': 0.4906902467465465, 'spl': 0.0293346878010629, 'success': 0.03908355795148248, 'top_down_map.agent_angle': -1.626903112365229}\n",
      "{'distance_to_goal': 2.778487741403194, 'softspl': 0.491671963807346, 'spl': 0.029219556507573134, 'success': 0.03911342894393742, 'top_down_map.agent_angle': -1.640549243195893}\n"
     ]
    },
    {
     "name": "stderr",
     "output_type": "stream",
     "text": [
      "2020-05-28 19:03:44,768 update: 30\tfps: 47.493\t\n",
      "2020-05-28 19:03:44,772 update: 30\tenv-time: 807.346s\tpth-time: 170.069s\tframes: 46500.0\n",
      "2020-05-28 19:03:44,773 Average window size: 31  distance_to_goal: 2.788  reward: 3.308  softspl: 0.493  spl: 0.028  success: 0.038  top_down_map.agent_angle: -1.630\n"
     ]
    },
    {
     "name": "stdout",
     "output_type": "stream",
     "text": [
      "{'distance_to_goal': 2.7881608442826704, 'softspl': 0.49271385115806504, 'spl': 0.028297222021854286, 'success': 0.03787878787878788, 'top_down_map.agent_angle': -1.629899920839252}\n",
      "{'distance_to_goal': 2.7585871483899207, 'softspl': 0.49298333598983707, 'spl': 0.029279725124716903, 'success': 0.0389768574908648, 'top_down_map.agent_angle': -1.621755397857034}\n",
      "{'distance_to_goal': 2.758694166850707, 'softspl': 0.49190302872405034, 'spl': 0.030104126048453143, 'success': 0.04004711425206125, 'top_down_map.agent_angle': -1.6276412622386631}\n",
      "{'distance_to_goal': 2.7563621817791764, 'softspl': 0.4928351430652889, 'spl': 0.030190747171572198, 'success': 0.04004576659038902, 'top_down_map.agent_angle': -1.6157314553686355}\n",
      "{'distance_to_goal': 2.7632080078125, 'softspl': 0.49283671061197915, 'spl': 0.02931857003106011, 'success': 0.03888888888888889, 'top_down_map.agent_angle': -1.6312147352430555}\n",
      "{'distance_to_goal': 2.7609939822635137, 'softspl': 0.4937372980891047, 'spl': 0.028526176246436868, 'success': 0.03783783783783784, 'top_down_map.agent_angle': -1.6388992557010136}\n",
      "{'distance_to_goal': 2.762568492869348, 'softspl': 0.493675544810972, 'spl': 0.028492665817308877, 'success': 0.03785488958990536, 'top_down_map.agent_angle': -1.6462969694729233}\n",
      "{'distance_to_goal': 2.747403571942101, 'softspl': 0.4958927646005081, 'spl': 0.02901803935232338, 'success': 0.03885480572597137, 'top_down_map.agent_angle': -1.6437542687164495}\n",
      "{'distance_to_goal': 2.753493107647535, 'softspl': 0.49532856124330804, 'spl': 0.02894199036981955, 'success': 0.03884462151394422, 'top_down_map.agent_angle': -1.6435867856698207}\n",
      "{'distance_to_goal': 2.749545344325897, 'softspl': 0.49628878426019946, 'spl': 0.028184052697671026, 'success': 0.037827352085354024, 'top_down_map.agent_angle': -1.6451671759441684}\n"
     ]
    },
    {
     "name": "stderr",
     "output_type": "stream",
     "text": [
      "2020-05-28 19:09:00,112 update: 40\tfps: 47.511\t\n",
      "2020-05-28 19:09:00,114 update: 40\tenv-time: 1065.439s\tpth-time: 226.729s\tframes: 61500.0\n",
      "2020-05-28 19:09:00,115 Average window size: 41  distance_to_goal: 2.740  reward: 3.371  softspl: 0.499  spl: 0.028  success: 0.038  top_down_map.agent_angle: -1.646\n"
     ]
    },
    {
     "name": "stdout",
     "output_type": "stream",
     "text": [
      "{'distance_to_goal': 2.739815386264191, 'softspl': 0.49865075926117547, 'spl': 0.028167984456303218, 'success': 0.03784295175023652, 'top_down_map.agent_angle': -1.6457498743495742}\n",
      "{'distance_to_goal': 2.7361949984115066, 'softspl': 0.4984982079807359, 'spl': 0.02837192196942962, 'success': 0.03789279112754159, 'top_down_map.agent_angle': -1.6514971551524953}\n",
      "{'distance_to_goal': 2.739835970901778, 'softspl': 0.4984657157121962, 'spl': 0.027631340747905356, 'success': 0.0369036903690369, 'top_down_map.agent_angle': -1.6322522511040167}\n",
      "{'distance_to_goal': 2.7338334204445425, 'softspl': 0.4985857144208022, 'spl': 0.027679547457627848, 'success': 0.03697183098591549, 'top_down_map.agent_angle': -1.6323717144173635}\n",
      "{'distance_to_goal': 2.7220601171537964, 'softspl': 0.5009457026194456, 'spl': 0.02785636763617949, 'success': 0.03710094909404659, 'top_down_map.agent_angle': -1.6396210533056514}\n",
      "{'distance_to_goal': 2.714149995721883, 'softspl': 0.5006128197069819, 'spl': 0.027810261444374606, 'success': 0.03706823925863521, 'top_down_map.agent_angle': -1.636811408257424}\n",
      "{'distance_to_goal': 2.7282704805072986, 'softspl': 0.5010711770308646, 'spl': 0.02714702330137554, 'success': 0.03618421052631579, 'top_down_map.agent_angle': -1.6302291468570107}\n",
      "{'distance_to_goal': 2.731606696922806, 'softspl': 0.5011277252541264, 'spl': 0.02721685449474292, 'success': 0.036231884057971016, 'top_down_map.agent_angle': -1.6379802415144424}\n",
      "{'distance_to_goal': 2.7267446427691246, 'softspl': 0.501211942558409, 'spl': 0.027224002200346265, 'success': 0.03627760252365931, 'top_down_map.agent_angle': -1.6492592604002365}\n",
      "{'distance_to_goal': 2.7155240986041345, 'softspl': 0.5024279162541054, 'spl': 0.026676997519350126, 'success': 0.03554868624420402, 'top_down_map.agent_angle': -1.6358836909534389}\n"
     ]
    },
    {
     "name": "stderr",
     "output_type": "stream",
     "text": [
      "2020-05-28 19:14:09,531 update: 50\tfps: 47.698\t\n",
      "2020-05-28 19:14:09,533 update: 50\tenv-time: 1318.022s\tpth-time: 283.012s\tframes: 76500.0\n",
      "2020-05-28 19:14:09,534 Average window size: 50  distance_to_goal: 2.718  reward: 3.403  softspl: 0.502  spl: 0.025  success: 0.034  top_down_map.agent_angle: -1.643\n"
     ]
    },
    {
     "name": "stdout",
     "output_type": "stream",
     "text": [
      "{'distance_to_goal': 2.7177239291070046, 'softspl': 0.5022415775263641, 'spl': 0.025496456276152525, 'success': 0.034055727554179564, 'top_down_map.agent_angle': -1.6431916889391447}\n",
      "{'distance_to_goal': 2.726244702751254, 'softspl': 0.5028900805814767, 'spl': 0.02558845649530858, 'success': 0.033950617283950615, 'top_down_map.agent_angle': -1.6484231831114968}\n",
      "{'distance_to_goal': 2.7291043462297764, 'softspl': 0.5036196010689522, 'spl': 0.02440024083494589, 'success': 0.032357473035439135, 'top_down_map.agent_angle': -1.6535110356076657}\n",
      "{'distance_to_goal': 2.731373517489415, 'softspl': 0.5042313949432256, 'spl': 0.026245804361603276, 'success': 0.03464203233256351, 'top_down_map.agent_angle': -1.6564776014602578}\n",
      "{'distance_to_goal': 2.740019546378776, 'softspl': 0.5032052203354958, 'spl': 0.025130392321314025, 'success': 0.033307513555383424, 'top_down_map.agent_angle': -1.6674955975261425}\n",
      "{'distance_to_goal': 2.7344657292068235, 'softspl': 0.5032638043923477, 'spl': 0.025014137615124447, 'success': 0.03315343099460293, 'top_down_map.agent_angle': -1.6736184313560138}\n",
      "{'distance_to_goal': 2.750770762665993, 'softspl': 0.5012956932015011, 'spl': 0.024594663013578655, 'success': 0.03233256351039261, 'top_down_map.agent_angle': -1.6590135440723635}\n",
      "{'distance_to_goal': 2.7338611975163336, 'softspl': 0.5038585384289729, 'spl': 0.02509833591704548, 'success': 0.033051498847040735, 'top_down_map.agent_angle': -1.6540046944057456}\n",
      "{'distance_to_goal': 2.731216008112981, 'softspl': 0.5048814978966346, 'spl': 0.024392132392296425, 'success': 0.03230769230769231, 'top_down_map.agent_angle': -1.6660963792067307}\n",
      "{'distance_to_goal': 2.709479974839066, 'softspl': 0.506336396882206, 'spl': 0.024932834938981734, 'success': 0.033051498847040735, 'top_down_map.agent_angle': -1.6528474190526519}\n"
     ]
    },
    {
     "name": "stderr",
     "output_type": "stream",
     "text": [
      "2020-05-28 19:19:32,222 update: 60\tfps: 47.494\t\n",
      "2020-05-28 19:19:32,226 update: 60\tenv-time: 1583.553s\tpth-time: 339.509s\tframes: 91500.0\n",
      "2020-05-28 19:19:32,227 Average window size: 50  distance_to_goal: 2.684  reward: 3.390  softspl: 0.507  spl: 0.025  success: 0.034  top_down_map.agent_angle: -1.658\n"
     ]
    },
    {
     "name": "stdout",
     "output_type": "stream",
     "text": [
      "{'distance_to_goal': 2.684168703973795, 'softspl': 0.5066383087461744, 'spl': 0.025290923348436304, 'success': 0.03366488140780413, 'top_down_map.agent_angle': -1.6580996407565034}\n",
      "{'distance_to_goal': 2.6748753499473583, 'softspl': 0.5071084926540965, 'spl': 0.02652507974761916, 'success': 0.03522205206738132, 'top_down_map.agent_angle': -1.6485489148640888}\n",
      "{'distance_to_goal': 2.6798730995807634, 'softspl': 0.5077207355013974, 'spl': 0.025161066695002288, 'success': 0.03315343099460293, 'top_down_map.agent_angle': -1.6581538074643407}\n",
      "{'distance_to_goal': 2.689744664267142, 'softspl': 0.5058127287172574, 'spl': 0.025560946236773522, 'success': 0.03389830508474576, 'top_down_map.agent_angle': -1.6407197972842835}\n",
      "{'distance_to_goal': 2.6839281737528893, 'softspl': 0.5055071767563077, 'spl': 0.026121683223589175, 'success': 0.03466872110939907, 'top_down_map.agent_angle': -1.6498141296104585}\n",
      "{'distance_to_goal': 2.6807669771634615, 'softspl': 0.5037112192007211, 'spl': 0.027100612933819112, 'success': 0.036153846153846154, 'top_down_map.agent_angle': -1.65634521484375}\n",
      "{'distance_to_goal': 2.67419452402735, 'softspl': 0.5046595498483244, 'spl': 0.028006887215495293, 'success': 0.03775038520801233, 'top_down_map.agent_angle': -1.662433265721302}\n",
      "{'distance_to_goal': 2.675646519144253, 'softspl': 0.5050817908886417, 'spl': 0.027555176348139997, 'success': 0.03715170278637771, 'top_down_map.agent_angle': -1.664502406636997}\n",
      "{'distance_to_goal': 2.686211784711464, 'softspl': 0.5050879492490076, 'spl': 0.027576520404180384, 'success': 0.037180480247869865, 'top_down_map.agent_angle': -1.6525249170943068}\n",
      "{'distance_to_goal': 2.6900174995770496, 'softspl': 0.5059335329508652, 'spl': 0.02694641962958599, 'success': 0.03634957463263728, 'top_down_map.agent_angle': -1.6656123114849188}\n"
     ]
    },
    {
     "name": "stderr",
     "output_type": "stream",
     "text": [
      "2020-05-28 19:24:54,317 update: 70\tfps: 47.362\t\n",
      "2020-05-28 19:24:54,321 update: 70\tenv-time: 1849.129s\tpth-time: 395.492s\tframes: 106500.0\n",
      "2020-05-28 19:24:54,322 Average window size: 50  distance_to_goal: 2.692  reward: 3.376  softspl: 0.505  spl: 0.027  success: 0.036  top_down_map.agent_angle: -1.682\n"
     ]
    },
    {
     "name": "stdout",
     "output_type": "stream",
     "text": [
      "{'distance_to_goal': 2.6918218366323474, 'softspl': 0.5049489457203451, 'spl': 0.026901233316113205, 'success': 0.03634957463263728, 'top_down_map.agent_angle': -1.6824770851459783}\n",
      "{'distance_to_goal': 2.7107780149477554, 'softspl': 0.5046411283983165, 'spl': 0.028542060970152865, 'success': 0.03869969040247678, 'top_down_map.agent_angle': -1.6823087993421053}\n",
      "{'distance_to_goal': 2.722786458333333, 'softspl': 0.5047145163366037, 'spl': 0.028624130958734558, 'success': 0.03875968992248062, 'top_down_map.agent_angle': -1.6895630829093993}\n",
      "{'distance_to_goal': 2.7219522165697674, 'softspl': 0.5032173570736435, 'spl': 0.028624130958734558, 'success': 0.03875968992248062, 'top_down_map.agent_angle': -1.6961584756540697}\n",
      "{'distance_to_goal': 2.754623353989156, 'softspl': 0.5019726505767089, 'spl': 0.02857288623576382, 'success': 0.038729666924864445, 'top_down_map.agent_angle': -1.704743968156952}\n",
      "{'distance_to_goal': 2.7457183814288477, 'softspl': 0.5015787477190884, 'spl': 0.029197268032419156, 'success': 0.03944315545243619, 'top_down_map.agent_angle': -1.703349126002997}\n",
      "{'distance_to_goal': 2.7383165588142884, 'softspl': 0.5017801684551431, 'spl': 0.029927680774520557, 'success': 0.04021655065738593, 'top_down_map.agent_angle': -1.7087151216889018}\n",
      "{'distance_to_goal': 2.7172129509531855, 'softspl': 0.5036542855634653, 'spl': 0.02980426213916204, 'success': 0.040154440154440155, 'top_down_map.agent_angle': -1.7090190637065636}\n",
      "{'distance_to_goal': 2.7231191195426945, 'softspl': 0.5030123696661768, 'spl': 0.03034846674228689, 'success': 0.040863531225905934, 'top_down_map.agent_angle': -1.704865419598111}\n",
      "{'distance_to_goal': 2.7208191671489197, 'softspl': 0.5026234285331067, 'spl': 0.03093578197337963, 'success': 0.041666666666666664, 'top_down_map.agent_angle': -1.7085895302854939}\n"
     ]
    },
    {
     "name": "stderr",
     "output_type": "stream",
     "text": [
      "2020-05-28 19:29:58,707 update: 80\tfps: 47.590\t\n",
      "2020-05-28 19:29:58,710 update: 80\tenv-time: 2096.858s\tpth-time: 451.574s\tframes: 121500.0\n",
      "2020-05-28 19:29:58,710 Average window size: 50  distance_to_goal: 2.736  reward: 3.401  softspl: 0.501  spl: 0.031  success: 0.042  top_down_map.agent_angle: -1.725\n"
     ]
    },
    {
     "name": "stdout",
     "output_type": "stream",
     "text": [
      "{'distance_to_goal': 2.7364276592548076, 'softspl': 0.5013169508713943, 'spl': 0.03136504540076623, 'success': 0.04230769230769231, 'top_down_map.agent_angle': -1.7248244065504807}\n",
      "{'distance_to_goal': 2.7575453130995777, 'softspl': 0.5002978215836051, 'spl': 0.03132896394063579, 'success': 0.0422102839600921, 'top_down_map.agent_angle': -1.7276409907425172}\n",
      "{'distance_to_goal': 2.7530019561205905, 'softspl': 0.5010182667363641, 'spl': 0.030669733059186875, 'success': 0.04141104294478527, 'top_down_map.agent_angle': -1.7343180837806749}\n",
      "{'distance_to_goal': 2.75165252919219, 'softspl': 0.500800280256987, 'spl': 0.03127510514777798, 'success': 0.04211332312404288, 'top_down_map.agent_angle': -1.7373353452813936}\n",
      "{'distance_to_goal': 2.7559036964864605, 'softspl': 0.49958602241847827, 'spl': 0.03177477547815062, 'success': 0.04271548436308162, 'top_down_map.agent_angle': -1.7344247220037186}\n",
      "{'distance_to_goal': 2.7405160757211537, 'softspl': 0.5006556282130616, 'spl': 0.0335547221315243, 'success': 0.04493526275704494, 'top_down_map.agent_angle': -1.730146328184501}\n",
      "{'distance_to_goal': 2.748262501490935, 'softspl': 0.4994963434816317, 'spl': 0.032652090523989145, 'success': 0.04351145038167939, 'top_down_map.agent_angle': -1.733485470837309}\n",
      "{'distance_to_goal': 2.7415847662195585, 'softspl': 0.4989193897450533, 'spl': 0.03306520946856866, 'success': 0.0441400304414003, 'top_down_map.agent_angle': -1.7380675805032344}\n",
      "{'distance_to_goal': 2.740653591373574, 'softspl': 0.4984294238652566, 'spl': 0.03370113010188926, 'success': 0.044866920152091254, 'top_down_map.agent_angle': -1.7399287814876425}\n",
      "{'distance_to_goal': 2.744325860679059, 'softspl': 0.4972608273959124, 'spl': 0.03370130188729224, 'success': 0.044764795144157814, 'top_down_map.agent_angle': -1.7407300656771623}\n"
     ]
    },
    {
     "name": "stderr",
     "output_type": "stream",
     "text": [
      "2020-05-28 19:34:57,372 update: 90\tfps: 47.866\t\n",
      "2020-05-28 19:34:57,376 update: 90\tenv-time: 2338.583s\tpth-time: 507.976s\tframes: 136500.0\n",
      "2020-05-28 19:34:57,377 Average window size: 50  distance_to_goal: 2.750  reward: 3.306  softspl: 0.497  spl: 0.033  success: 0.045  top_down_map.agent_angle: -1.733\n"
     ]
    },
    {
     "name": "stdout",
     "output_type": "stream",
     "text": [
      "{'distance_to_goal': 2.750214570223789, 'softspl': 0.4970175940190906, 'spl': 0.033463898975681305, 'success': 0.04466313398940197, 'top_down_map.agent_angle': -1.732564182555829}\n",
      "{'distance_to_goal': 2.7471465833609114, 'softspl': 0.49781104475936083, 'spl': 0.03402450549981237, 'success': 0.0453857791225416, 'top_down_map.agent_angle': -1.7485986845215582}\n",
      "{'distance_to_goal': 2.736379979509165, 'softspl': 0.49921364759011244, 'spl': 0.03459728007413903, 'success': 0.04610733182161754, 'top_down_map.agent_angle': -1.7609986920115268}\n",
      "{'distance_to_goal': 2.7589240405494713, 'softspl': 0.4958417264356354, 'spl': 0.034991722452676545, 'success': 0.04682779456193353, 'top_down_map.agent_angle': -1.745109811650302}\n",
      "{'distance_to_goal': 2.7512673906368104, 'softspl': 0.4971603197485591, 'spl': 0.03562952331404567, 'success': 0.047619047619047616, 'top_down_map.agent_angle': -1.748654366260393}\n",
      "{'distance_to_goal': 2.728514887971698, 'softspl': 0.4968151164504717, 'spl': 0.03732786070625737, 'success': 0.04981132075471698, 'top_down_map.agent_angle': -1.7536204672759435}\n",
      "{'distance_to_goal': 2.7186407985457457, 'softspl': 0.49625111775225905, 'spl': 0.03825789474579225, 'success': 0.05120481927710843, 'top_down_map.agent_angle': -1.7486592488116528}\n",
      "{'distance_to_goal': 2.7331262536951013, 'softspl': 0.49514046517220345, 'spl': 0.038675649030072555, 'success': 0.0518018018018018, 'top_down_map.agent_angle': -1.7384641721799925}\n",
      "{'distance_to_goal': 2.744937602411049, 'softspl': 0.493051136031133, 'spl': 0.03967646623818615, 'success': 0.05318352059925094, 'top_down_map.agent_angle': -1.76090311914794}\n",
      "{'distance_to_goal': 2.731146190168251, 'softspl': 0.494719025272651, 'spl': 0.040643158641704244, 'success': 0.054436987322893364, 'top_down_map.agent_angle': -1.7514156879194631}\n"
     ]
    },
    {
     "name": "stderr",
     "output_type": "stream",
     "text": [
      "2020-05-28 19:39:57,388 update: 100\tfps: 48.069\t\n",
      "2020-05-28 19:39:57,390 update: 100\tenv-time: 2581.392s\tpth-time: 564.662s\tframes: 151500.0\n",
      "2020-05-28 19:39:57,391 Average window size: 50  distance_to_goal: 2.723  reward: 3.300  softspl: 0.495  spl: 0.041  success: 0.055  top_down_map.agent_angle: -1.754\n"
     ]
    },
    {
     "name": "stdout",
     "output_type": "stream",
     "text": [
      "{'distance_to_goal': 2.7234245909960793, 'softspl': 0.49513095345757097, 'spl': 0.040601857123399865, 'success': 0.05451829723674384, 'top_down_map.agent_angle': -1.754162971433906}\n",
      "{'distance_to_goal': 2.705208856014283, 'softspl': 0.49529286299827296, 'spl': 0.04173490482982724, 'success': 0.05601194921583271, 'top_down_map.agent_angle': -1.7498911486533795}\n",
      "{'distance_to_goal': 2.6992451091888494, 'softspl': 0.4949485795851173, 'spl': 0.040960179809661205, 'success': 0.055100521221146684, 'top_down_map.agent_angle': -1.7366602507795048}\n",
      "{'distance_to_goal': 2.684396468472428, 'softspl': 0.49563627998357696, 'spl': 0.04125994633604737, 'success': 0.05551443375277572, 'top_down_map.agent_angle': -1.7324139237139156}\n",
      "{'distance_to_goal': 2.690392169230234, 'softspl': 0.4955952735679983, 'spl': 0.04190241325848529, 'success': 0.05642167780252413, 'top_down_map.agent_angle': -1.727729010068671}\n",
      "{'distance_to_goal': 2.6931485014892034, 'softspl': 0.4957114963148036, 'spl': 0.041557431309771735, 'success': 0.05584512285927029, 'top_down_map.agent_angle': -1.7389389572086746}\n",
      "{'distance_to_goal': 2.702136121800816, 'softspl': 0.49543327535295345, 'spl': 0.04200157425877602, 'success': 0.05637982195845697, 'top_down_map.agent_angle': -1.7491630757951595}\n",
      "{'distance_to_goal': 2.7142122708834133, 'softspl': 0.49363401514538646, 'spl': 0.041373774850156884, 'success': 0.05547337278106509, 'top_down_map.agent_angle': -1.7418844911473743}\n",
      "{'distance_to_goal': 2.739108765821323, 'softspl': 0.49225976779032704, 'spl': 0.04088628900024685, 'success': 0.05469327420546933, 'top_down_map.agent_angle': -1.7406531853404472}\n",
      "{'distance_to_goal': 2.7610100012722056, 'softspl': 0.49070612118916546, 'spl': 0.04100247827130366, 'success': 0.05477424130273871, 'top_down_map.agent_angle': -1.7327496848399333}\n"
     ]
    },
    {
     "name": "stderr",
     "output_type": "stream",
     "text": [
      "2020-05-28 19:45:00,628 update: 110\tfps: 48.192\t\n",
      "2020-05-28 19:45:00,631 update: 110\tenv-time: 2827.642s\tpth-time: 621.016s\tframes: 166500.0\n",
      "2020-05-28 19:45:00,632 Average window size: 50  distance_to_goal: 2.787  reward: 3.210  softspl: 0.488  spl: 0.040  success: 0.054  top_down_map.agent_angle: -1.733\n"
     ]
    },
    {
     "name": "stdout",
     "output_type": "stream",
     "text": [
      "{'distance_to_goal': 2.7874007976458945, 'softspl': 0.4881605280341035, 'spl': 0.040222156732528304, 'success': 0.05375552282768778, 'top_down_map.agent_angle': -1.7333009969854565}\n",
      "{'distance_to_goal': 2.7821104927090974, 'softspl': 0.48753302078079147, 'spl': 0.04274159499327225, 'success': 0.05722670579603815, 'top_down_map.agent_angle': -1.7487053202953045}\n",
      "{'distance_to_goal': 2.7707353071732954, 'softspl': 0.4883300691755636, 'spl': 0.04279714455702438, 'success': 0.05718475073313783, 'top_down_map.agent_angle': -1.757778850119135}\n",
      "{'distance_to_goal': 2.7661312799384126, 'softspl': 0.4884860073562956, 'spl': 0.041987676690094664, 'success': 0.05620437956204379, 'top_down_map.agent_angle': -1.7683645429402373}\n",
      "{'distance_to_goal': 2.7637161667885883, 'softspl': 0.49061808833782916, 'spl': 0.04058805520114187, 'success': 0.05413313825896123, 'top_down_map.agent_angle': -1.772654178287308}\n",
      "{'distance_to_goal': 2.781240234375, 'softspl': 0.4889967151988636, 'spl': 0.03963641079989347, 'success': 0.05236363636363636, 'top_down_map.agent_angle': -1.782509943181818}\n",
      "{'distance_to_goal': 2.7764703754765794, 'softspl': 0.49002613740808826, 'spl': 0.03957884157578324, 'success': 0.05228758169934641, 'top_down_map.agent_angle': -1.7660235679920115}\n",
      "{'distance_to_goal': 2.751852638134058, 'softspl': 0.49238630654155346, 'spl': 0.0400038732998613, 'success': 0.05289855072463768, 'top_down_map.agent_angle': -1.7828047158061595}\n",
      "{'distance_to_goal': 2.7650584527301443, 'softspl': 0.49186553404219313, 'spl': 0.040412803677445285, 'success': 0.053429602888086646, 'top_down_map.agent_angle': -1.7797502538357401}\n",
      "{'distance_to_goal': 2.768742231090263, 'softspl': 0.49157640142694836, 'spl': 0.040322396461701035, 'success': 0.05327573794096472, 'top_down_map.agent_angle': -1.7634723792409108}\n"
     ]
    },
    {
     "name": "stderr",
     "output_type": "stream",
     "text": [
      "2020-05-28 19:50:07,111 update: 120\tfps: 48.253\t\n",
      "2020-05-28 19:50:07,113 update: 120\tenv-time: 3077.453s\tpth-time: 677.145s\tframes: 181500.0\n",
      "2020-05-28 19:50:07,115 Average window size: 50  distance_to_goal: 2.747  reward: 3.194  softspl: 0.493  spl: 0.039  success: 0.052  top_down_map.agent_angle: -1.759\n"
     ]
    },
    {
     "name": "stdout",
     "output_type": "stream",
     "text": [
      "{'distance_to_goal': 2.7470938653032757, 'softspl': 0.49349178042319114, 'spl': 0.03938471146673501, 'success': 0.05183585313174946, 'top_down_map.agent_angle': -1.7588323012284017}\n",
      "{'distance_to_goal': 2.734754189677622, 'softspl': 0.49334129245801905, 'spl': 0.03818505933915062, 'success': 0.05028735632183908, 'top_down_map.agent_angle': -1.7513378625628593}\n",
      "{'distance_to_goal': 2.727146329811151, 'softspl': 0.49514370925134893, 'spl': 0.039383552057279954, 'success': 0.051798561151079135, 'top_down_map.agent_angle': -1.752298434689748}\n",
      "{'distance_to_goal': 2.715144880223343, 'softspl': 0.4956627661625315, 'spl': 0.03885796296837007, 'success': 0.051152737752161385, 'top_down_map.agent_angle': -1.7522574213121398}\n",
      "{'distance_to_goal': 2.743248782284917, 'softspl': 0.49311221117935566, 'spl': 0.03768153015532195, 'success': 0.04967602591792657, 'top_down_map.agent_angle': -1.7467813512419006}\n",
      "{'distance_to_goal': 2.7510119909527657, 'softspl': 0.49209884117389546, 'spl': 0.03739886448301118, 'success': 0.04956896551724138, 'top_down_map.agent_angle': -1.7528918036099137}\n",
      "{'distance_to_goal': 2.754757576098703, 'softspl': 0.4920477523583844, 'spl': 0.037347153215655675, 'success': 0.04971181556195965, 'top_down_map.agent_angle': -1.7389899262090238}\n",
      "{'distance_to_goal': 2.764210777200324, 'softspl': 0.4918896624988751, 'spl': 0.03687801594524782, 'success': 0.04895608351331893, 'top_down_map.agent_angle': -1.7335336024680525}\n",
      "{'distance_to_goal': 2.7519825479734576, 'softspl': 0.49243137791987984, 'spl': 0.038089068069348544, 'success': 0.05021520803443329, 'top_down_map.agent_angle': -1.7373810471215925}\n",
      "{'distance_to_goal': 2.755070396807554, 'softspl': 0.49268311425078687, 'spl': 0.03747723256941322, 'success': 0.04964028776978417, 'top_down_map.agent_angle': -1.718125070256295}\n"
     ]
    },
    {
     "name": "stderr",
     "output_type": "stream",
     "text": [
      "2020-05-28 19:55:18,789 update: 130\tfps: 48.243\t\n",
      "2020-05-28 19:55:18,791 update: 130\tenv-time: 3332.456s\tpth-time: 733.313s\tframes: 196500.0\n",
      "2020-05-28 19:55:18,792 Average window size: 50  distance_to_goal: 2.723  reward: 3.203  softspl: 0.495  spl: 0.039  success: 0.052  top_down_map.agent_angle: -1.710\n"
     ]
    },
    {
     "name": "stdout",
     "output_type": "stream",
     "text": [
      "{'distance_to_goal': 2.7232150880661394, 'softspl': 0.49529888885300594, 'spl': 0.03886507090521236, 'success': 0.05176132278936017, 'top_down_map.agent_angle': -1.709513375606578}\n",
      "{'distance_to_goal': 2.7284991739471325, 'softspl': 0.49311514686939967, 'spl': 0.04112245566528758, 'success': 0.055197132616487454, 'top_down_map.agent_angle': -1.7161125812051972}\n",
      "{'distance_to_goal': 2.7293909584603657, 'softspl': 0.4940416289538872, 'spl': 0.042768363460064615, 'success': 0.05738880918220947, 'top_down_map.agent_angle': -1.6919234288132174}\n",
      "{'distance_to_goal': 2.7251570228192445, 'softspl': 0.4932372168671313, 'spl': 0.04230766296386719, 'success': 0.05683453237410072, 'top_down_map.agent_angle': -1.6934696773830935}\n",
      "{'distance_to_goal': 2.7422667092871307, 'softspl': 0.49289563102694667, 'spl': 0.04077733431089328, 'success': 0.0547945205479452, 'top_down_map.agent_angle': -1.6938311103100216}\n",
      "{'distance_to_goal': 2.7451522651760056, 'softspl': 0.4927273015866334, 'spl': 0.04110014301606978, 'success': 0.05531609195402299, 'top_down_map.agent_angle': -1.6779883373742817}\n",
      "{'distance_to_goal': 2.7564126547280843, 'softspl': 0.4937914123094787, 'spl': 0.041935622090041036, 'success': 0.05627705627705628, 'top_down_map.agent_angle': -1.6631141211219336}\n",
      "{'distance_to_goal': 2.7566368119577005, 'softspl': 0.4933456233335593, 'spl': 0.04197737555183195, 'success': 0.05639913232104121, 'top_down_map.agent_angle': -1.6645101794107013}\n",
      "{'distance_to_goal': 2.7618975147972606, 'softspl': 0.493017542690947, 'spl': 0.043108271583590346, 'success': 0.05805515239477504, 'top_down_map.agent_angle': -1.6621749279980043}\n",
      "{'distance_to_goal': 2.7736662156181917, 'softspl': 0.49405277338076437, 'spl': 0.043831824563773714, 'success': 0.058823529411764705, 'top_down_map.agent_angle': -1.6597044923293391}\n"
     ]
    },
    {
     "name": "stderr",
     "output_type": "stream",
     "text": [
      "2020-05-28 20:00:31,463 update: 140\tfps: 48.224\t\n",
      "2020-05-28 20:00:31,534 update: 140\tenv-time: 3588.900s\tpth-time: 789.057s\tframes: 211500.0\n",
      "2020-05-28 20:00:31,536 Average window size: 50  distance_to_goal: 2.769  reward: 3.254  softspl: 0.492  spl: 0.043  success: 0.058  top_down_map.agent_angle: -1.664\n"
     ]
    },
    {
     "name": "stdout",
     "output_type": "stream",
     "text": [
      "{'distance_to_goal': 2.769244464724345, 'softspl': 0.49223489775234264, 'spl': 0.043363779392825465, 'success': 0.05822416302765648, 'top_down_map.agent_angle': -1.664301665415757}\n",
      "{'distance_to_goal': 2.7959223728553924, 'softspl': 0.49032280284075436, 'spl': 0.04302721986237348, 'success': 0.05809731299927379, 'top_down_map.agent_angle': -1.6455117130764343}\n",
      "{'distance_to_goal': 2.7865762551970352, 'softspl': 0.49084066637857016, 'spl': 0.04306747977145754, 'success': 0.05784526391901663, 'top_down_map.agent_angle': -1.6499316476861894}\n",
      "{'distance_to_goal': 2.8126616440094767, 'softspl': 0.4897868573020081, 'spl': 0.04362786358444269, 'success': 0.05848375451263538, 'top_down_map.agent_angle': -1.6458319818930505}\n",
      "{'distance_to_goal': 2.8199420369761428, 'softspl': 0.49004976358399854, 'spl': 0.04280225424358219, 'success': 0.057329462989840346, 'top_down_map.agent_angle': -1.6416600286874092}\n",
      "{'distance_to_goal': 2.8379582549628353, 'softspl': 0.48978097098214285, 'spl': 0.04324063086008317, 'success': 0.05801305293691081, 'top_down_map.agent_angle': -1.6414025675308195}\n",
      "{'distance_to_goal': 2.860129648807356, 'softspl': 0.48966816612515934, 'spl': 0.04386609849144921, 'success': 0.05899490167516387, 'top_down_map.agent_angle': -1.6408284208849235}\n",
      "{'distance_to_goal': 2.871667988723521, 'softspl': 0.4896164441996895, 'spl': 0.04326523473612839, 'success': 0.05843681519357195, 'top_down_map.agent_angle': -1.634134497409149}\n",
      "{'distance_to_goal': 2.896377217446964, 'softspl': 0.48762205245290785, 'spl': 0.042206081231318866, 'success': 0.0570592538405267, 'top_down_map.agent_angle': -1.6358077322032736}\n",
      "{'distance_to_goal': 2.902406488046072, 'softspl': 0.4874399328021751, 'spl': 0.0444597924858463, 'success': 0.06020558002936858, 'top_down_map.agent_angle': -1.6319592625734214}\n"
     ]
    },
    {
     "name": "stderr",
     "output_type": "stream",
     "text": [
      "2020-05-28 20:05:41,674 update: 150\tfps: 48.233\t\n",
      "2020-05-28 20:05:41,676 update: 150\tenv-time: 3842.592s\tpth-time: 844.997s\tframes: 226500.0\n",
      "2020-05-28 20:05:41,677 Average window size: 50  distance_to_goal: 2.952  reward: 3.198  softspl: 0.484  spl: 0.044  success: 0.059  top_down_map.agent_angle: -1.639\n"
     ]
    },
    {
     "name": "stdout",
     "output_type": "stream",
     "text": [
      "{'distance_to_goal': 2.9521498715124816, 'softspl': 0.48440260474027164, 'spl': 0.043824645391119736, 'success': 0.05947136563876652, 'top_down_map.agent_angle': -1.6389420071012297}\n",
      "{'distance_to_goal': 2.9638434040590407, 'softspl': 0.484711616769488, 'spl': 0.04512652013574579, 'success': 0.061254612546125464, 'top_down_map.agent_angle': -1.6632344038284133}\n",
      "{'distance_to_goal': 2.9930114293981482, 'softspl': 0.48281394675925926, 'spl': 0.045755561546043114, 'success': 0.06222222222222222, 'top_down_map.agent_angle': -1.645196216724537}\n",
      "{'distance_to_goal': 2.998041087962963, 'softspl': 0.4816021050347222, 'spl': 0.04762451171875, 'success': 0.06444444444444444, 'top_down_map.agent_angle': -1.6459682436342593}\n",
      "{'distance_to_goal': 2.9960051856338095, 'softspl': 0.4829428471868045, 'spl': 0.048437010994297106, 'success': 0.06528189910979229, 'top_down_map.agent_angle': -1.630001803887704}\n",
      "{'distance_to_goal': 3.010675702776228, 'softspl': 0.4815257390340169, 'spl': 0.04745693433852423, 'success': 0.06398809523809523, 'top_down_map.agent_angle': -1.6242047264462425}\n",
      "{'distance_to_goal': 3.042421481753356, 'softspl': 0.4798891208315856, 'spl': 0.048541769529793534, 'success': 0.06562266964951528, 'top_down_map.agent_angle': -1.6192988339508763}\n",
      "{'distance_to_goal': 3.0565230418932856, 'softspl': 0.4787643444064141, 'spl': 0.04879431069925685, 'success': 0.06601650412603151, 'top_down_map.agent_angle': -1.6260932298504314}\n",
      "{'distance_to_goal': 3.0600197656836086, 'softspl': 0.4810015370053451, 'spl': 0.04826664048214202, 'success': 0.06526631657914479, 'top_down_map.agent_angle': -1.6352344922168043}\n",
      "{'distance_to_goal': 3.044618727577417, 'softspl': 0.4837195174571611, 'spl': 0.04867356637453384, 'success': 0.06570996978851963, 'top_down_map.agent_angle': -1.630723659365559}\n"
     ]
    },
    {
     "name": "stderr",
     "output_type": "stream",
     "text": [
      "2020-05-28 20:10:37,619 update: 160\tfps: 48.378\t\n",
      "2020-05-28 20:10:37,622 update: 160\tenv-time: 4081.956s\tpth-time: 900.954s\tframes: 241500.0\n",
      "2020-05-28 20:10:37,623 Average window size: 50  distance_to_goal: 3.054  reward: 3.303  softspl: 0.484  spl: 0.048  success: 0.064  top_down_map.agent_angle: -1.613\n"
     ]
    },
    {
     "name": "stdout",
     "output_type": "stream",
     "text": [
      "{'distance_to_goal': 3.0541859221350225, 'softspl': 0.48424332657668306, 'spl': 0.047523019533835455, 'success': 0.06429652042360061, 'top_down_map.agent_angle': -1.6127176212651286}\n",
      "{'distance_to_goal': 3.0622695668152504, 'softspl': 0.48538203376920525, 'spl': 0.047164424959915, 'success': 0.0637329286798179, 'top_down_map.agent_angle': -1.6093668496301214}\n",
      "{'distance_to_goal': 3.077160160715987, 'softspl': 0.48468696780321074, 'spl': 0.047389228169511, 'success': 0.06402439024390244, 'top_down_map.agent_angle': -1.5980414413824313}\n",
      "{'distance_to_goal': 3.079892325437595, 'softspl': 0.4829137328915763, 'spl': 0.048378019753837875, 'success': 0.0654490106544901, 'top_down_map.agent_angle': -1.579466844439688}\n",
      "{'distance_to_goal': 3.094265948028331, 'softspl': 0.48290403404060583, 'spl': 0.05032328770682786, 'success': 0.0681470137825421, 'top_down_map.agent_angle': -1.5675495609207504}\n",
      "{'distance_to_goal': 3.0807023311685198, 'softspl': 0.4833000510748179, 'spl': 0.050903805925802216, 'success': 0.06901840490797546, 'top_down_map.agent_angle': -1.5714959454682706}\n",
      "{'distance_to_goal': 3.088299340050922, 'softspl': 0.4826667193354871, 'spl': 0.051638498386907906, 'success': 0.06994619523443504, 'top_down_map.agent_angle': -1.552775471692448}\n",
      "{'distance_to_goal': 3.071851337139423, 'softspl': 0.48381310096153846, 'spl': 0.05218731806828426, 'success': 0.07076923076923076, 'top_down_map.agent_angle': -1.5591304837740385}\n",
      "{'distance_to_goal': 3.0578086481293503, 'softspl': 0.48489906210726025, 'spl': 0.05286557934400377, 'success': 0.07192575406032482, 'top_down_map.agent_angle': -1.5580407988628673}\n",
      "{'distance_to_goal': 3.068898597493238, 'softspl': 0.48441363044278885, 'spl': 0.0549505313360341, 'success': 0.07496136012364761, 'top_down_map.agent_angle': -1.5650340438441848}\n"
     ]
    },
    {
     "name": "stderr",
     "output_type": "stream",
     "text": [
      "2020-05-28 20:15:35,536 update: 170\tfps: 48.489\t\n",
      "2020-05-28 20:15:35,538 update: 170\tenv-time: 4323.666s\tpth-time: 956.672s\tframes: 256500.0\n",
      "2020-05-28 20:15:35,539 Average window size: 50  distance_to_goal: 3.074  reward: 3.462  softspl: 0.486  spl: 0.057  success: 0.078  top_down_map.agent_angle: -1.562\n"
     ]
    },
    {
     "name": "stdout",
     "output_type": "stream",
     "text": [
      "{'distance_to_goal': 3.073618894025949, 'softspl': 0.48591066533331717, 'spl': 0.057155984395423846, 'success': 0.07823392718822618, 'top_down_map.agent_angle': -1.562197046257746}\n",
      "{'distance_to_goal': 3.0997185758842054, 'softspl': 0.4841475139292636, 'spl': 0.05757967335309169, 'success': 0.07906976744186046, 'top_down_map.agent_angle': -1.5543053915334302}\n",
      "{'distance_to_goal': 3.103706122925563, 'softspl': 0.4841759723165761, 'spl': 0.057759492293648095, 'success': 0.07919254658385093, 'top_down_map.agent_angle': -1.561213333414208}\n",
      "{'distance_to_goal': 3.1056890073029892, 'softspl': 0.4861556343410326, 'spl': 0.05839272019285593, 'success': 0.07996894409937888, 'top_down_map.agent_angle': -1.5507493107955648}\n",
      "{'distance_to_goal': 3.123109811562987, 'softspl': 0.48530611887899144, 'spl': 0.060159166282582506, 'success': 0.08255451713395638, 'top_down_map.agent_angle': -1.5465653559129187}\n",
      "{'distance_to_goal': 3.138680247710444, 'softspl': 0.4833055765296181, 'spl': 0.060974168665968435, 'success': 0.08339828526890102, 'top_down_map.agent_angle': -1.5623093305485192}\n",
      "{'distance_to_goal': 3.1543516781956353, 'softspl': 0.48210780321390295, 'spl': 0.06184182646491987, 'success': 0.08495713172252534, 'top_down_map.agent_angle': -1.5788486685868082}\n",
      "{'distance_to_goal': 3.181865721894501, 'softspl': 0.48086452632910004, 'spl': 0.060482638116559816, 'success': 0.08346333853354135, 'top_down_map.agent_angle': -1.5762415750536272}\n",
      "{'distance_to_goal': 3.1959103022780373, 'softspl': 0.48014465522171923, 'spl': 0.06043625472119293, 'success': 0.08333333333333333, 'top_down_map.agent_angle': -1.5799505406079635}\n",
      "{'distance_to_goal': 3.240595725995316, 'softspl': 0.4783076957089188, 'spl': 0.05781838672408641, 'success': 0.07962529274004684, 'top_down_map.agent_angle': -1.5757524905774298}\n"
     ]
    },
    {
     "name": "stderr",
     "output_type": "stream",
     "text": [
      "2020-05-28 20:20:45,266 update: 180\tfps: 48.486\t\n",
      "2020-05-28 20:20:45,273 update: 180\tenv-time: 4576.706s\tpth-time: 1012.815s\tframes: 271500.0\n",
      "2020-05-28 20:20:45,274 Average window size: 50  distance_to_goal: 3.245  reward: 3.518  softspl: 0.480  spl: 0.057  success: 0.078  top_down_map.agent_angle: -1.563\n"
     ]
    },
    {
     "name": "stdout",
     "output_type": "stream",
     "text": [
      "{'distance_to_goal': 3.245283386517019, 'softspl': 0.47971913512323944, 'spl': 0.05722463783896958, 'success': 0.0782472613458529, 'top_down_map.agent_angle': -1.5631268759475254}\n",
      "{'distance_to_goal': 3.239084983114722, 'softspl': 0.4793844559086237, 'spl': 0.05906243499779757, 'success': 0.08065779169929523, 'top_down_map.agent_angle': -1.574630175704777}\n",
      "{'distance_to_goal': 3.257793778731416, 'softspl': 0.4804801164844973, 'spl': 0.06068584579443894, 'success': 0.08294209702660407, 'top_down_map.agent_angle': -1.5681492383118154}\n",
      "{'distance_to_goal': 3.244643053788175, 'softspl': 0.4812450483616386, 'spl': 0.062005242427625784, 'success': 0.08457321848081441, 'top_down_map.agent_angle': -1.5674477191109535}\n",
      "{'distance_to_goal': 3.272640871062992, 'softspl': 0.48055929349163384, 'spl': 0.06216491939514641, 'success': 0.08503937007874016, 'top_down_map.agent_angle': -1.5864903727854331}\n",
      "{'distance_to_goal': 3.2770783213864885, 'softspl': 0.4800951553908091, 'spl': 0.06072721159186592, 'success': 0.08326787117046347, 'top_down_map.agent_angle': -1.590510294180823}\n",
      "{'distance_to_goal': 3.3099057904411766, 'softspl': 0.4803057981004902, 'spl': 0.06189965341605392, 'success': 0.08470588235294117, 'top_down_map.agent_angle': -1.5941592945772058}\n",
      "{'distance_to_goal': 3.31107728247549, 'softspl': 0.47937667547487745, 'spl': 0.06063596239276961, 'success': 0.08313725490196078, 'top_down_map.agent_angle': -1.5830483111213236}\n",
      "{'distance_to_goal': 3.2792346882370285, 'softspl': 0.4807925914068642, 'spl': 0.06162702812338775, 'success': 0.08411949685534591, 'top_down_map.agent_angle': -1.5892800385097288}\n",
      "{'distance_to_goal': 3.307163454451651, 'softspl': 0.4821287910893278, 'spl': 0.06333062033983147, 'success': 0.08647798742138364, 'top_down_map.agent_angle': -1.5797983805338542}\n"
     ]
    },
    {
     "name": "stderr",
     "output_type": "stream",
     "text": [
      "2020-05-28 20:25:55,243 update: 190\tfps: 48.481\t\n",
      "2020-05-28 20:25:55,247 update: 190\tenv-time: 4830.559s\tpth-time: 1068.439s\tframes: 286500.0\n",
      "2020-05-28 20:25:55,248 Average window size: 50  distance_to_goal: 3.306  reward: 3.635  softspl: 0.483  spl: 0.064  success: 0.088  top_down_map.agent_angle: -1.586\n"
     ]
    },
    {
     "name": "stdout",
     "output_type": "stream",
     "text": [
      "{'distance_to_goal': 3.3057974052880823, 'softspl': 0.48289864290955503, 'spl': 0.06434693972520594, 'success': 0.08760852407261246, 'top_down_map.agent_angle': -1.5861194011444357}\n",
      "{'distance_to_goal': 3.333131330286561, 'softspl': 0.4829484660634881, 'spl': 0.06422250619518899, 'success': 0.08774703557312254, 'top_down_map.agent_angle': -1.5846820574975296}\n",
      "{'distance_to_goal': 3.335120597718254, 'softspl': 0.4826780773344494, 'spl': 0.06416607205829923, 'success': 0.0880952380952381, 'top_down_map.agent_angle': -1.5942053416418651}\n",
      "{'distance_to_goal': 3.341525607638889, 'softspl': 0.4835104321676587, 'spl': 0.06456346663217696, 'success': 0.08888888888888889, 'top_down_map.agent_angle': -1.5897805834573413}\n",
      "{'distance_to_goal': 3.34682174706876, 'softspl': 0.48372389364318363, 'spl': 0.06306754689906474, 'success': 0.08664546899841018, 'top_down_map.agent_angle': -1.5773281467358904}\n",
      "{'distance_to_goal': 3.319798702865202, 'softspl': 0.48360517415751186, 'spl': 0.0628450624733243, 'success': 0.08630245447347586, 'top_down_map.agent_angle': -1.5800945556833927}\n",
      "{'distance_to_goal': 3.3026435229859463, 'softspl': 0.4848958043380097, 'spl': 0.06567553160026351, 'success': 0.0894695170229612, 'top_down_map.agent_angle': -1.565739454207492}\n",
      "{'distance_to_goal': 3.3152060856894843, 'softspl': 0.48471456860739087, 'spl': 0.06812868875170511, 'success': 0.09285714285714286, 'top_down_map.agent_angle': -1.5628806462363591}\n",
      "{'distance_to_goal': 3.318745529548145, 'softspl': 0.4847390913267068, 'spl': 0.06490315690977703, 'success': 0.08839779005524862, 'top_down_map.agent_angle': -1.5616601523961622}\n",
      "{'distance_to_goal': 3.2899620465299684, 'softspl': 0.4869910399620465, 'spl': 0.06657696071107305, 'success': 0.09069400630914827, 'top_down_map.agent_angle': -1.562058120871944}\n"
     ]
    },
    {
     "name": "stderr",
     "output_type": "stream",
     "text": [
      "2020-05-28 20:31:17,102 update: 200\tfps: 48.384\t\n",
      "2020-05-28 20:31:17,104 update: 200\tenv-time: 5096.355s\tpth-time: 1123.999s\tframes: 301500.0\n",
      "2020-05-28 20:31:17,105 Average window size: 50  distance_to_goal: 3.298  reward: 3.717  softspl: 0.487  spl: 0.065  success: 0.089  top_down_map.agent_angle: -1.557\n"
     ]
    },
    {
     "name": "stdout",
     "output_type": "stream",
     "text": [
      "{'distance_to_goal': 3.298389401799764, 'softspl': 0.4867135444839201, 'spl': 0.0650630923915716, 'success': 0.0889063729346971, 'top_down_map.agent_angle': -1.55673023286905}\n",
      "{'distance_to_goal': 3.3005947803887796, 'softspl': 0.48677190345103344, 'spl': 0.06622789638248955, 'success': 0.09055118110236221, 'top_down_map.agent_angle': -1.5672605499507875}\n",
      "{'distance_to_goal': 3.3076321819635828, 'softspl': 0.48821521668922246, 'spl': 0.06539604607529527, 'success': 0.08976377952755905, 'top_down_map.agent_angle': -1.564329132320374}\n",
      "{'distance_to_goal': 3.3195796942560927, 'softspl': 0.4859288053692512, 'spl': 0.06647205952578371, 'success': 0.09198113207547169, 'top_down_map.agent_angle': -1.5760739884286556}\n",
      "{'distance_to_goal': 3.329397212009804, 'softspl': 0.48530828737745096, 'spl': 0.06838153913909313, 'success': 0.09490196078431372, 'top_down_map.agent_angle': -1.5809924555759804}\n",
      "{'distance_to_goal': 3.3167437892772975, 'softspl': 0.4861392660208415, 'spl': 0.06745803964859093, 'success': 0.09347996857816182, 'top_down_map.agent_angle': -1.5812796497569717}\n",
      "{'distance_to_goal': 3.2962557444852942, 'softspl': 0.4866114238664216, 'spl': 0.06844474044500613, 'success': 0.09490196078431372, 'top_down_map.agent_angle': -1.5712138097426471}\n",
      "{'distance_to_goal': 3.288087856844536, 'softspl': 0.4871065631602545, 'spl': 0.06897316938676175, 'success': 0.0959119496855346, 'top_down_map.agent_angle': -1.5663449269420695}\n",
      "{'distance_to_goal': 3.3400990053473314, 'softspl': 0.48400246516875983, 'spl': 0.068144147025547, 'success': 0.09497645211930926, 'top_down_map.agent_angle': -1.5749706226390796}\n",
      "{'distance_to_goal': 3.3568278122547097, 'softspl': 0.48273050017783553, 'spl': 0.06717021349273634, 'success': 0.09340659340659341, 'top_down_map.agent_angle': -1.5581470531421704}\n"
     ]
    },
    {
     "name": "stderr",
     "output_type": "stream",
     "text": [
      "2020-05-28 20:36:10,447 update: 210\tfps: 48.507\t\n",
      "2020-05-28 20:36:10,451 update: 210\tenv-time: 5333.882s\tpth-time: 1179.203s\tframes: 316500.0\n",
      "2020-05-28 20:36:10,451 Average window size: 50  distance_to_goal: 3.364  reward: 3.688  softspl: 0.483  spl: 0.067  success: 0.094  top_down_map.agent_angle: -1.557\n"
     ]
    },
    {
     "name": "stdout",
     "output_type": "stream",
     "text": [
      "{'distance_to_goal': 3.3635998611930034, 'softspl': 0.4834594246726366, 'spl': 0.06727582703596391, 'success': 0.09355345911949685, 'top_down_map.agent_angle': -1.5568836140182782}\n",
      "{'distance_to_goal': 3.3562769396551726, 'softspl': 0.4847473814195974, 'spl': 0.06713720698341681, 'success': 0.0932601880877743, 'top_down_map.agent_angle': -1.5595238186348943}\n",
      "{'distance_to_goal': 3.373573129418696, 'softspl': 0.4834769729170758, 'spl': 0.06620034025301637, 'success': 0.09190887666928516, 'top_down_map.agent_angle': -1.5619084432381678}\n",
      "{'distance_to_goal': 3.3529444280660377, 'softspl': 0.48563840854092966, 'spl': 0.06442408891593886, 'success': 0.08962264150943396, 'top_down_map.agent_angle': -1.5635299202781054}\n",
      "{'distance_to_goal': 3.3732862285539214, 'softspl': 0.48422162224264703, 'spl': 0.0643866086473652, 'success': 0.08941176470588236, 'top_down_map.agent_angle': -1.5621407781862746}\n",
      "{'distance_to_goal': 3.3909720270963644, 'softspl': 0.4820383413402805, 'spl': 0.06406848779220521, 'success': 0.08913213448006255, 'top_down_map.agent_angle': -1.5572213895438332}\n",
      "{'distance_to_goal': 3.4031344826742367, 'softspl': 0.4811984475179865, 'spl': 0.06305042168266996, 'success': 0.08770555990602975, 'top_down_map.agent_angle': -1.5578295917555796}\n",
      "{'distance_to_goal': 3.415165992754684, 'softspl': 0.481444454863144, 'spl': 0.06493443199473373, 'success': 0.0897736143637783, 'top_down_map.agent_angle': -1.5594718748475311}\n",
      "{'distance_to_goal': 3.420220776139019, 'softspl': 0.4812958143953222, 'spl': 0.06265233238909475, 'success': 0.08644859813084112, 'top_down_map.agent_angle': -1.568379910192757}\n",
      "{'distance_to_goal': 3.4144315586119753, 'softspl': 0.4806219548867613, 'spl': 0.06295014614265407, 'success': 0.08631415241057543, 'top_down_map.agent_angle': -1.5759224187159797}\n"
     ]
    },
    {
     "name": "stderr",
     "output_type": "stream",
     "text": [
      "2020-05-28 20:40:54,027 update: 220\tfps: 48.690\t\n",
      "2020-05-28 20:40:54,030 update: 220\tenv-time: 5564.163s\tpth-time: 1232.079s\tframes: 331500.0\n",
      "2020-05-28 20:40:54,031 Average window size: 50  distance_to_goal: 3.417  reward: 3.605  softspl: 0.480  spl: 0.063  success: 0.086  top_down_map.agent_angle: -1.584\n"
     ]
    },
    {
     "name": "stdout",
     "output_type": "stream",
     "text": [
      "{'distance_to_goal': 3.4168975711332683, 'softspl': 0.48030540377249514, 'spl': 0.06255471789883268, 'success': 0.08560311284046693, 'top_down_map.agent_angle': -1.5840896309581711}\n",
      "{'distance_to_goal': 3.4400124564628483, 'softspl': 0.47845865255538894, 'spl': 0.061626304413881096, 'success': 0.08436532507739938, 'top_down_map.agent_angle': -1.5783195377503387}\n",
      "{'distance_to_goal': 3.4182586077117327, 'softspl': 0.48013080398334307, 'spl': 0.061920290504580054, 'success': 0.08469308469308469, 'top_down_map.agent_angle': -1.5893586936067405}\n",
      "{'distance_to_goal': 3.4044562288032947, 'softspl': 0.48212067360101746, 'spl': 0.06027892356695131, 'success': 0.08217054263565891, 'top_down_map.agent_angle': -1.5856784081274224}\n",
      "{'distance_to_goal': 3.4025706816421377, 'softspl': 0.4816068594627469, 'spl': 0.05905323929790376, 'success': 0.08055770720371805, 'top_down_map.agent_angle': -1.5853769788439194}\n",
      "{'distance_to_goal': 3.3709555929021318, 'softspl': 0.48431344438892926, 'spl': 0.05882364317428234, 'success': 0.07984496124031008, 'top_down_map.agent_angle': -1.5799374129421027}\n",
      "{'distance_to_goal': 3.3792054456648524, 'softspl': 0.4827905539220451, 'spl': 0.05964390115456114, 'success': 0.08087091757387248, 'top_down_map.agent_angle': -1.586839833118682}\n",
      "{'distance_to_goal': 3.3810132483424336, 'softspl': 0.48486470952978744, 'spl': 0.059989822078234695, 'success': 0.0811232449297972, 'top_down_map.agent_angle': -1.5917544074809868}\n",
      "{'distance_to_goal': 3.3547864522345825, 'softspl': 0.485839939042984, 'spl': 0.0631686589570831, 'success': 0.08508977361436378, 'top_down_map.agent_angle': -1.594755436274151}\n",
      "{'distance_to_goal': 3.3649770839432085, 'softspl': 0.4863107340304206, 'spl': 0.06251151853944062, 'success': 0.08430913348946135, 'top_down_map.agent_angle': -1.5959534596689597}\n"
     ]
    },
    {
     "name": "stderr",
     "output_type": "stream",
     "text": [
      "2020-05-28 20:45:27,349 update: 230\tfps: 48.929\t\n",
      "2020-05-28 20:45:27,352 update: 230\tenv-time: 5784.130s\tpth-time: 1285.005s\tframes: 346500.0\n",
      "2020-05-28 20:45:27,353 Average window size: 50  distance_to_goal: 3.384  reward: 3.626  softspl: 0.486  spl: 0.059  success: 0.081  top_down_map.agent_angle: -1.607\n"
     ]
    },
    {
     "name": "stdout",
     "output_type": "stream",
     "text": [
      "{'distance_to_goal': 3.384453858568075, 'softspl': 0.48618475446865217, 'spl': 0.059479708962597196, 'success': 0.08059467918622848, 'top_down_map.agent_angle': -1.6070201318588615}\n",
      "{'distance_to_goal': 3.370388412475586, 'softspl': 0.4879185676574707, 'spl': 0.05890777111053467, 'success': 0.0796875, 'top_down_map.agent_angle': -1.6023387908935547}\n",
      "{'distance_to_goal': 3.3838499549395946, 'softspl': 0.4875334147262276, 'spl': 0.05798519428874586, 'success': 0.07872174590802807, 'top_down_map.agent_angle': -1.5914789974364283}\n",
      "{'distance_to_goal': 3.3672432710518647, 'softspl': 0.4874643653330177, 'spl': 0.05918508439260392, 'success': 0.08003108003108003, 'top_down_map.agent_angle': -1.5898167181126166}\n",
      "{'distance_to_goal': 3.3682250503054694, 'softspl': 0.4861239484338635, 'spl': 0.0598883795312803, 'success': 0.08068269976726145, 'top_down_map.agent_angle': -1.594107971901668}\n",
      "{'distance_to_goal': 3.373795017334174, 'softspl': 0.4850370112641825, 'spl': 0.05931080654668105, 'success': 0.07990690457719161, 'top_down_map.agent_angle': -1.5921131782147013}\n",
      "{'distance_to_goal': 3.36512574188469, 'softspl': 0.48752152790394865, 'spl': 0.058835051780523256, 'success': 0.07906976744186046, 'top_down_map.agent_angle': -1.6057567980862404}\n",
      "{'distance_to_goal': 3.389859535116976, 'softspl': 0.48648295509474093, 'spl': 0.057194650034893414, 'success': 0.07733952049497293, 'top_down_map.agent_angle': -1.6106432850565546}\n",
      "{'distance_to_goal': 3.357447931772042, 'softspl': 0.4877053575744393, 'spl': 0.05610639036669809, 'success': 0.07579273008507348, 'top_down_map.agent_angle': -1.611084550826566}\n",
      "{'distance_to_goal': 3.3583788459683643, 'softspl': 0.48672061496310765, 'spl': 0.05477596212316443, 'success': 0.07407407407407407, 'top_down_map.agent_angle': -1.6125699266975309}\n"
     ]
    },
    {
     "name": "stderr",
     "output_type": "stream",
     "text": [
      "2020-05-28 20:50:02,130 update: 240\tfps: 49.141\t\n",
      "2020-05-28 20:50:02,134 update: 240\tenv-time: 6005.772s\tpth-time: 1337.724s\tframes: 361500.0\n",
      "2020-05-28 20:50:02,135 Average window size: 50  distance_to_goal: 3.360  reward: 3.543  softspl: 0.486  spl: 0.054  success: 0.073  top_down_map.agent_angle: -1.623\n"
     ]
    },
    {
     "name": "stdout",
     "output_type": "stream",
     "text": [
      "{'distance_to_goal': 3.3603711994876257, 'softspl': 0.4860004327689965, 'spl': 0.054175716910542945, 'success': 0.07347254447022429, 'top_down_map.agent_angle': -1.6234326285165313}\n",
      "{'distance_to_goal': 3.3506349541505793, 'softspl': 0.4876909764116795, 'spl': 0.053103119249969834, 'success': 0.07181467181467181, 'top_down_map.agent_angle': -1.6161975521838803}\n",
      "{'distance_to_goal': 3.3515892087586674, 'softspl': 0.48744396803375384, 'spl': 0.052966895198968966, 'success': 0.07164869029275808, 'top_down_map.agent_angle': -1.6296228723276194}\n",
      "{'distance_to_goal': 3.3404827631832177, 'softspl': 0.48855621361383755, 'spl': 0.052928639706324575, 'success': 0.07159353348729793, 'top_down_map.agent_angle': -1.652905705711124}\n",
      "{'distance_to_goal': 3.3515179391434646, 'softspl': 0.4895699745172322, 'spl': 0.05158116811942612, 'success': 0.06960556844547564, 'top_down_map.agent_angle': -1.651816572409126}\n",
      "{'distance_to_goal': 3.3872599000628383, 'softspl': 0.48712970117036447, 'spl': 0.04908090401138341, 'success': 0.06651198762567673, 'top_down_map.agent_angle': -1.661442283872293}\n",
      "{'distance_to_goal': 3.3838160849827057, 'softspl': 0.486859567159877, 'spl': 0.047247793562681654, 'success': 0.06379707916986933, 'top_down_map.agent_angle': -1.6709294007614335}\n",
      "{'distance_to_goal': 3.372205153245192, 'softspl': 0.48612398587740385, 'spl': 0.04894505427433894, 'success': 0.06615384615384616, 'top_down_map.agent_angle': -1.6825803786057691}\n",
      "{'distance_to_goal': 3.366262097939137, 'softspl': 0.4856210482322564, 'spl': 0.04853824327465933, 'success': 0.06548536209553159, 'top_down_map.agent_angle': -1.6679901922428737}\n",
      "{'distance_to_goal': 3.3569005408653845, 'softspl': 0.48633019080528844, 'spl': 0.04854929703932542, 'success': 0.06538461538461539, 'top_down_map.agent_angle': -1.6700354942908653}\n"
     ]
    },
    {
     "name": "stderr",
     "output_type": "stream",
     "text": [
      "2020-05-28 20:54:42,431 update: 250\tfps: 49.301\t\n",
      "2020-05-28 20:54:42,434 update: 250\tenv-time: 6232.625s\tpth-time: 1390.736s\tframes: 376500.0\n",
      "2020-05-28 20:54:42,436 Average window size: 50  distance_to_goal: 3.345  reward: 3.494  softspl: 0.489  spl: 0.048  success: 0.065  top_down_map.agent_angle: -1.678\n"
     ]
    },
    {
     "name": "stdout",
     "output_type": "stream",
     "text": [
      "{'distance_to_goal': 3.3445458009312596, 'softspl': 0.4888228784142185, 'spl': 0.04816129423689366, 'success': 0.065284178187404, 'top_down_map.agent_angle': -1.6776479319676458}\n",
      "{'distance_to_goal': 3.339389569742901, 'softspl': 0.4886426362091088, 'spl': 0.04710170075423152, 'success': 0.0636991557943208, 'top_down_map.agent_angle': -1.672664943879509}\n",
      "{'distance_to_goal': 3.3418227715459263, 'softspl': 0.49010231199858284, 'spl': 0.04588294414077512, 'success': 0.061491160645657184, 'top_down_map.agent_angle': -1.6808963807888162}\n",
      "{'distance_to_goal': 3.3109946225259415, 'softspl': 0.49303683164392775, 'spl': 0.04450742470860756, 'success': 0.05918524212144504, 'top_down_map.agent_angle': -1.6810303672655649}\n",
      "{'distance_to_goal': 3.303971204157066, 'softspl': 0.49422659925235213, 'spl': 0.0461253914781796, 'success': 0.06144393241167435, 'top_down_map.agent_angle': -1.6849044588853688}\n",
      "{'distance_to_goal': 3.3044474720042114, 'softspl': 0.4946196528342745, 'spl': 0.04480396989293704, 'success': 0.05972434915773354, 'top_down_map.agent_angle': -1.682050018544219}\n",
      "{'distance_to_goal': 3.304399529698243, 'softspl': 0.4945493600494175, 'spl': 0.04549493636676972, 'success': 0.060351413292589765, 'top_down_map.agent_angle': -1.6821154775830787}\n",
      "{'distance_to_goal': 3.250959442883003, 'softspl': 0.4996094122165587, 'spl': 0.045914661593553494, 'success': 0.06097560975609756, 'top_down_map.agent_angle': -1.6844201436856898}\n",
      "{'distance_to_goal': 3.247103705594605, 'softspl': 0.4994297201510258, 'spl': 0.047369956970214844, 'success': 0.06306990881458967, 'top_down_map.agent_angle': -1.6898733214404444}\n",
      "{'distance_to_goal': 3.2292022474234114, 'softspl': 0.5010116046207215, 'spl': 0.04883433470386961, 'success': 0.06505295007564296, 'top_down_map.agent_angle': -1.6992909580063351}\n"
     ]
    },
    {
     "name": "stderr",
     "output_type": "stream",
     "text": [
      "2020-05-28 20:59:24,591 update: 260\tfps: 49.439\t\n",
      "2020-05-28 20:59:24,594 update: 260\tenv-time: 6461.256s\tpth-time: 1443.737s\tframes: 391500.0\n",
      "2020-05-28 20:59:24,596 Average window size: 50  distance_to_goal: 3.214  reward: 3.593  softspl: 0.502  spl: 0.051  success: 0.069  top_down_map.agent_angle: -1.686\n"
     ]
    },
    {
     "name": "stdout",
     "output_type": "stream",
     "text": [
      "{'distance_to_goal': 3.2139043513328938, 'softspl': 0.5016742582687689, 'spl': 0.05124182510663444, 'success': 0.06857573474001508, 'top_down_map.agent_angle': -1.6862890477816503}\n",
      "{'distance_to_goal': 3.1816597300601956, 'softspl': 0.5046939663280662, 'spl': 0.05231090628894493, 'success': 0.06997742663656885, 'top_down_map.agent_angle': -1.6797523469831641}\n",
      "{'distance_to_goal': 3.1786726766557836, 'softspl': 0.5038353763409515, 'spl': 0.05234656832111416, 'success': 0.07014925373134329, 'top_down_map.agent_angle': -1.6805378017140857}\n",
      "{'distance_to_goal': 3.183985975922131, 'softspl': 0.503211122333737, 'spl': 0.05227728785416764, 'success': 0.07004470938897168, 'top_down_map.agent_angle': -1.6789685404247392}\n",
      "{'distance_to_goal': 3.1421399052748886, 'softspl': 0.506287618696601, 'spl': 0.05225502683007522, 'success': 0.06983655274888559, 'top_down_map.agent_angle': -1.6856780144293277}\n",
      "{'distance_to_goal': 3.125136458140289, 'softspl': 0.5054690033705522, 'spl': 0.053596660594219095, 'success': 0.07190511489992588, 'top_down_map.agent_angle': -1.6907583453020756}\n",
      "{'distance_to_goal': 3.1063966286235227, 'softspl': 0.505580028719881, 'spl': 0.05230383823682146, 'success': 0.07016248153618906, 'top_down_map.agent_angle': -1.6883333958410265}\n",
      "{'distance_to_goal': 3.0873702721402214, 'softspl': 0.5048047055177584, 'spl': 0.05289046509239506, 'success': 0.07084870848708487, 'top_down_map.agent_angle': -1.6696301674930811}\n",
      "{'distance_to_goal': 3.0735025560838256, 'softspl': 0.5067545272398911, 'spl': 0.0526046640235529, 'success': 0.07090103397341212, 'top_down_map.agent_angle': -1.6656979176283235}\n",
      "{'distance_to_goal': 3.0457835267366202, 'softspl': 0.5089054946675678, 'spl': 0.05342903025339076, 'success': 0.0718475073313783, 'top_down_map.agent_angle': -1.6694457649835044}\n"
     ]
    },
    {
     "name": "stderr",
     "output_type": "stream",
     "text": [
      "2020-05-28 21:04:04,966 update: 270\tfps: 49.577\t\n",
      "2020-05-28 21:04:04,968 update: 270\tenv-time: 6688.186s\tpth-time: 1496.763s\tframes: 406500.0\n",
      "2020-05-28 21:04:04,969 Average window size: 50  distance_to_goal: 3.011  reward: 3.569  softspl: 0.511  spl: 0.055  success: 0.074  top_down_map.agent_angle: -1.665\n"
     ]
    },
    {
     "name": "stdout",
     "output_type": "stream",
     "text": [
      "{'distance_to_goal': 3.010630416590242, 'softspl': 0.5113256710553467, 'spl': 0.055410159832400954, 'success': 0.07410124724871607, 'top_down_map.agent_angle': -1.6647612473060345}\n",
      "{'distance_to_goal': 3.0103482739293557, 'softspl': 0.5107686390464861, 'spl': 0.055849636630816483, 'success': 0.0746705710102489, 'top_down_map.agent_angle': -1.6658610264343887}\n",
      "{'distance_to_goal': 3.013042661260933, 'softspl': 0.5092722278294688, 'spl': 0.05610931440970641, 'success': 0.07507288629737609, 'top_down_map.agent_angle': -1.6557013953739979}\n",
      "{'distance_to_goal': 2.9948602720748547, 'softspl': 0.510183289993641, 'spl': 0.05800023744272631, 'success': 0.07776162790697674, 'top_down_map.agent_angle': -1.646642995435138}\n",
      "{'distance_to_goal': 2.9899494852140784, 'softspl': 0.5106875304732855, 'spl': 0.05882644099663235, 'success': 0.07910014513788098, 'top_down_map.agent_angle': -1.6340656252834724}\n",
      "{'distance_to_goal': 2.956404945566336, 'softspl': 0.5124404191110108, 'spl': 0.05853170677212602, 'success': 0.07870036101083032, 'top_down_map.agent_angle': -1.6190717015455776}\n",
      "{'distance_to_goal': 2.931091264461316, 'softspl': 0.5125505581164136, 'spl': 0.058012939585522304, 'success': 0.07809110629067245, 'top_down_map.agent_angle': -1.620748987425434}\n",
      "{'distance_to_goal': 2.9317449555980217, 'softspl': 0.5113661512196492, 'spl': 0.056713406130564296, 'success': 0.07697841726618705, 'top_down_map.agent_angle': -1.6265456384892085}\n",
      "{'distance_to_goal': 2.9158360635080647, 'softspl': 0.5095994518649194, 'spl': 0.05728180587932628, 'success': 0.07813620071684588, 'top_down_map.agent_angle': -1.629895763328853}\n",
      "{'distance_to_goal': 2.893615592146294, 'softspl': 0.5106008452172799, 'spl': 0.05652043076812244, 'success': 0.07697790449037777, 'top_down_map.agent_angle': -1.6111581140302031}\n"
     ]
    },
    {
     "name": "stderr",
     "output_type": "stream",
     "text": [
      "2020-05-28 21:08:51,904 update: 280\tfps: 49.669\t\n",
      "2020-05-28 21:08:51,907 update: 280\tenv-time: 6921.799s\tpth-time: 1549.662s\tframes: 421500.0\n",
      "2020-05-28 21:08:51,934 Average window size: 50  distance_to_goal: 2.894  reward: 3.458  softspl: 0.510  spl: 0.056  success: 0.076  top_down_map.agent_angle: -1.610\n"
     ]
    },
    {
     "name": "stdout",
     "output_type": "stream",
     "text": [
      "{'distance_to_goal': 2.893550520092461, 'softspl': 0.5101243693323257, 'spl': 0.055923082072229506, 'success': 0.07610241820768136, 'top_down_map.agent_angle': -1.6104093852796053}\n",
      "{'distance_to_goal': 2.8942971734519367, 'softspl': 0.508095508784204, 'spl': 0.0548327350413113, 'success': 0.07462686567164178, 'top_down_map.agent_angle': -1.612558545164801}\n",
      "{'distance_to_goal': 2.8919815290574062, 'softspl': 0.5086894856540131, 'spl': 0.05470497569321403, 'success': 0.0744153082919915, 'top_down_map.agent_angle': -1.606028664289511}\n",
      "{'distance_to_goal': 2.8839773946169496, 'softspl': 0.5093116409290959, 'spl': 0.05507413158160275, 'success': 0.07501769285208776, 'top_down_map.agent_angle': -1.597346797870223}\n",
      "{'distance_to_goal': 2.842707919535664, 'softspl': 0.5119779769983669, 'spl': 0.05536637602552856, 'success': 0.07556497175141243, 'top_down_map.agent_angle': -1.5950926010218043}\n",
      "{'distance_to_goal': 2.848251589401792, 'softspl': 0.5092509223471539, 'spl': 0.05509401858900101, 'success': 0.07519325368938862, 'top_down_map.agent_angle': -1.5914161666044448}\n",
      "{'distance_to_goal': 2.8468692132166025, 'softspl': 0.5092499506924965, 'spl': 0.05488712155635026, 'success': 0.07503506311360449, 'top_down_map.agent_angle': -1.593254014452577}\n",
      "{'distance_to_goal': 2.86629744671306, 'softspl': 0.5083496350200236, 'spl': 0.055396510105507044, 'success': 0.07563025210084033, 'top_down_map.agent_angle': -1.5994647370667017}\n",
      "{'distance_to_goal': 2.856023181084148, 'softspl': 0.5071494672551501, 'spl': 0.05582373635062958, 'success': 0.07611731843575419, 'top_down_map.agent_angle': -1.5951723919234462}\n",
      "{'distance_to_goal': 2.8283841227554043, 'softspl': 0.508837158543628, 'spl': 0.056611868460640584, 'success': 0.07670850767085077, 'top_down_map.agent_angle': -1.59237351676909}\n"
     ]
    },
    {
     "name": "stderr",
     "output_type": "stream",
     "text": [
      "2020-05-28 21:13:28,173 update: 290\tfps: 49.815\t\n",
      "2020-05-28 21:13:28,176 update: 290\tenv-time: 7144.456s\tpth-time: 1602.829s\tframes: 436500.0\n",
      "2020-05-28 21:13:28,177 Average window size: 50  distance_to_goal: 2.813  reward: 3.371  softspl: 0.510  spl: 0.058  success: 0.079  top_down_map.agent_angle: -1.587\n"
     ]
    },
    {
     "name": "stdout",
     "output_type": "stream",
     "text": [
      "{'distance_to_goal': 2.8125248220969707, 'softspl': 0.5095763140070073, 'spl': 0.05814105488131637, 'success': 0.0786908077994429, 'top_down_map.agent_angle': -1.5868455467117861}\n",
      "{'distance_to_goal': 2.7966832115284523, 'softspl': 0.509065054920628, 'spl': 0.058597344974938737, 'success': 0.0791117279666898, 'top_down_map.agent_angle': -1.5751841304866412}\n",
      "{'distance_to_goal': 2.7791258749783285, 'softspl': 0.5088009986401265, 'spl': 0.05913431535316076, 'success': 0.08044382801664356, 'top_down_map.agent_angle': -1.5470761366591539}\n",
      "{'distance_to_goal': 2.761701575969828, 'softspl': 0.5087386348329741, 'spl': 0.05985268428407867, 'success': 0.08137931034482758, 'top_down_map.agent_angle': -1.5374311355064656}\n",
      "{'distance_to_goal': 2.733505112314783, 'softspl': 0.5109358510833046, 'spl': 0.061401719475186835, 'success': 0.0833907649896623, 'top_down_map.agent_angle': -1.523607775887319}\n",
      "{'distance_to_goal': 2.703533922910197, 'softspl': 0.5137327837894669, 'spl': 0.06287935834822776, 'success': 0.08557625948930296, 'top_down_map.agent_angle': -1.5267122530624568}\n",
      "{'distance_to_goal': 2.6971058911200068, 'softspl': 0.5149313346085141, 'spl': 0.06276337699785049, 'success': 0.08539944903581267, 'top_down_map.agent_angle': -1.5197900188855888}\n",
      "{'distance_to_goal': 2.676206527217742, 'softspl': 0.5170397840302204, 'spl': 0.061028815003069774, 'success': 0.08304735758407687, 'top_down_map.agent_angle': -1.5308320955945436}\n",
      "{'distance_to_goal': 2.6499038487264555, 'softspl': 0.5189821008133562, 'spl': 0.06255475396979344, 'success': 0.08493150684931507, 'top_down_map.agent_angle': -1.5275599649507705}\n",
      "{'distance_to_goal': 2.6350703418703008, 'softspl': 0.518125814358339, 'spl': 0.06171921516882583, 'success': 0.08339029391660971, 'top_down_map.agent_angle': -1.513414050484877}\n"
     ]
    },
    {
     "name": "stderr",
     "output_type": "stream",
     "text": [
      "2020-05-28 21:18:01,806 update: 300\tfps: 49.966\t\n",
      "2020-05-28 21:18:01,808 update: 300\tenv-time: 7365.017s\tpth-time: 1655.486s\tframes: 451500.0\n",
      "2020-05-28 21:18:01,809 Average window size: 50  distance_to_goal: 2.619  reward: 3.371  softspl: 0.519  spl: 0.062  success: 0.084  top_down_map.agent_angle: -1.517\n"
     ]
    },
    {
     "name": "stdout",
     "output_type": "stream",
     "text": [
      "{'distance_to_goal': 2.6185660297279463, 'softspl': 0.5191631265167319, 'spl': 0.0620142861348082, 'success': 0.0837874659400545, 'top_down_map.agent_angle': -1.5172533248360864}\n",
      "{'distance_to_goal': 2.600013133310044, 'softspl': 0.5201028963414634, 'spl': 0.06170806264489647, 'success': 0.08333333333333333, 'top_down_map.agent_angle': -1.504129218538279}\n",
      "{'distance_to_goal': 2.600029296875, 'softspl': 0.5196356097722458, 'spl': 0.06281157930018538, 'success': 0.0847457627118644, 'top_down_map.agent_angle': -1.5097465903072034}\n",
      "{'distance_to_goal': 2.5788608930687205, 'softspl': 0.5206783142296463, 'spl': 0.06231476635890953, 'success': 0.08395396073121192, 'top_down_map.agent_angle': -1.507274134383463}\n",
      "{'distance_to_goal': 2.572700129328547, 'softspl': 0.521478931323902, 'spl': 0.0631936975427576, 'success': 0.08513513513513514, 'top_down_map.agent_angle': -1.5223601470122465}\n",
      "{'distance_to_goal': 2.569457596801347, 'softspl': 0.5209027942182239, 'spl': 0.06229410396280514, 'success': 0.08417508417508418, 'top_down_map.agent_angle': -1.5260627104377105}\n",
      "{'distance_to_goal': 2.5591516918320996, 'softspl': 0.5188808107440276, 'spl': 0.06287285456907701, 'success': 0.0847913862718708, 'top_down_map.agent_angle': -1.521406499726615}\n",
      "{'distance_to_goal': 2.5500396276707606, 'softspl': 0.5197284436643044, 'spl': 0.06093828450301775, 'success': 0.08209959623149395, 'top_down_map.agent_angle': -1.5218126340637619}\n",
      "{'distance_to_goal': 2.557054481146955, 'softspl': 0.518108958350858, 'spl': 0.06158880590590301, 'success': 0.08277254374158816, 'top_down_map.agent_angle': -1.5227333366630216}\n",
      "{'distance_to_goal': 2.5594887120475303, 'softspl': 0.5166166767538481, 'spl': 0.06046605400529379, 'success': 0.08119079837618404, 'top_down_map.agent_angle': -1.5248579094955177}\n"
     ]
    },
    {
     "name": "stderr",
     "output_type": "stream",
     "text": [
      "2020-05-28 21:22:42,368 update: 310\tfps: 50.071\t\n",
      "2020-05-28 21:22:42,371 update: 310\tenv-time: 7591.180s\tpth-time: 1709.362s\tframes: 466500.0\n",
      "2020-05-28 21:22:42,371 Average window size: 50  distance_to_goal: 2.562  reward: 3.284  softspl: 0.517  spl: 0.061  success: 0.082  top_down_map.agent_angle: -1.534\n"
     ]
    },
    {
     "name": "stdout",
     "output_type": "stream",
     "text": [
      "{'distance_to_goal': 2.562152968012475, 'softspl': 0.5169436557021241, 'spl': 0.06127917340536497, 'success': 0.08226567768037761, 'top_down_map.agent_angle': -1.534212777362188}\n",
      "{'distance_to_goal': 2.551050282748143, 'softspl': 0.5182313371718855, 'spl': 0.06197305147427309, 'success': 0.08305199189736664, 'top_down_map.agent_angle': -1.532048196425557}\n",
      "{'distance_to_goal': 2.5317920218602294, 'softspl': 0.5195830948525068, 'spl': 0.0634684643175536, 'success': 0.08507765023632681, 'top_down_map.agent_angle': -1.527958634896185}\n",
      "{'distance_to_goal': 2.569423636900743, 'softspl': 0.5171836425451553, 'spl': 0.062429836358193366, 'success': 0.0837272113436867, 'top_down_map.agent_angle': -1.5303014617445982}\n",
      "{'distance_to_goal': 2.5653821147665763, 'softspl': 0.5185048022031461, 'spl': 0.06122594789497262, 'success': 0.08186738836265223, 'top_down_map.agent_angle': -1.524757312986299}\n",
      "{'distance_to_goal': 2.580821291046039, 'softspl': 0.5165846197687458, 'spl': 0.0601596199505702, 'success': 0.08056872037914692, 'top_down_map.agent_angle': -1.5306598970675356}\n",
      "{'distance_to_goal': 2.57415609884165, 'softspl': 0.5175340785837789, 'spl': 0.06172996981971052, 'success': 0.08282416836388323, 'top_down_map.agent_angle': -1.5288278200313985}\n",
      "{'distance_to_goal': 2.579890884358062, 'softspl': 0.516831643536162, 'spl': 0.061803564469665694, 'success': 0.08265582655826559, 'top_down_map.agent_angle': -1.537194559567666}\n",
      "{'distance_to_goal': 2.6083381476848713, 'softspl': 0.51578102474135, 'spl': 0.06031074679205181, 'success': 0.0807327001356852, 'top_down_map.agent_angle': -1.5290085108018148}\n",
      "{'distance_to_goal': 2.6275245038078623, 'softspl': 0.5154853130052331, 'spl': 0.05971621623081443, 'success': 0.08032675289312458, 'top_down_map.agent_angle': -1.5281085799225664}\n"
     ]
    },
    {
     "name": "stderr",
     "output_type": "stream",
     "text": [
      "2020-05-28 21:27:47,096 update: 320\tfps: 50.045\t\n",
      "2020-05-28 21:27:47,100 update: 320\tenv-time: 7841.057s\tpth-time: 1763.788s\tframes: 481500.0\n",
      "2020-05-28 21:27:47,101 Average window size: 50  distance_to_goal: 2.620  reward: 3.308  softspl: 0.516  spl: 0.061  success: 0.082  top_down_map.agent_angle: -1.531\n"
     ]
    },
    {
     "name": "stdout",
     "output_type": "stream",
     "text": [
      "{'distance_to_goal': 2.62016245420075, 'softspl': 0.515629826229124, 'spl': 0.060858530825957526, 'success': 0.081799591002045, 'top_down_map.agent_angle': -1.5305528595241138}\n",
      "{'distance_to_goal': 2.6126690615381327, 'softspl': 0.5165423224954044, 'spl': 0.06215125004341762, 'success': 0.08344733242134063, 'top_down_map.agent_angle': -1.5398503628377223}\n",
      "{'distance_to_goal': 2.6324107792180014, 'softspl': 0.516491857968643, 'spl': 0.0601983615423538, 'success': 0.08076659822039699, 'top_down_map.agent_angle': -1.5371780552168892}\n",
      "{'distance_to_goal': 2.648051195183899, 'softspl': 0.5160171655306928, 'spl': 0.05939478409797239, 'success': 0.07956104252400549, 'top_down_map.agent_angle': -1.535981271165552}\n",
      "{'distance_to_goal': 2.667755085090878, 'softspl': 0.5158801085337363, 'spl': 0.05828213789826067, 'success': 0.07818930041152264, 'top_down_map.agent_angle': -1.5410524637774348}\n",
      "{'distance_to_goal': 2.668773745184075, 'softspl': 0.5168252187232448, 'spl': 0.05969403410611087, 'success': 0.08013698630136987, 'top_down_map.agent_angle': -1.5529821944563356}\n",
      "{'distance_to_goal': 2.672736147504745, 'softspl': 0.5178801416116718, 'spl': 0.058916206438842524, 'success': 0.07867494824016563, 'top_down_map.agent_angle': -1.558778750970497}\n",
      "{'distance_to_goal': 2.6899647706093965, 'softspl': 0.5189694048792909, 'spl': 0.05795840449868889, 'success': 0.0769764216366158, 'top_down_map.agent_angle': -1.5591964827496532}\n",
      "{'distance_to_goal': 2.7157246243050728, 'softspl': 0.5169467356074097, 'spl': 0.05849355521344575, 'success': 0.0778318276580959, 'top_down_map.agent_angle': -1.55287671967295}\n",
      "{'distance_to_goal': 2.7346743021051254, 'softspl': 0.5157473256897228, 'spl': 0.05870116804434166, 'success': 0.07810320781032078, 'top_down_map.agent_angle': -1.5700775529550208}\n"
     ]
    },
    {
     "name": "stderr",
     "output_type": "stream",
     "text": [
      "2020-05-28 21:32:26,033 update: 330\tfps: 50.150\t\n",
      "2020-05-28 21:32:26,037 update: 330\tenv-time: 8066.165s\tpth-time: 1817.185s\tframes: 496500.0\n",
      "2020-05-28 21:32:26,038 Average window size: 50  distance_to_goal: 2.735  reward: 3.405  softspl: 0.516  spl: 0.059  success: 0.078  top_down_map.agent_angle: -1.568\n"
     ]
    },
    {
     "name": "stdout",
     "output_type": "stream",
     "text": [
      "{'distance_to_goal': 2.7350243355826347, 'softspl': 0.5162405977708988, 'spl': 0.058824231289717636, 'success': 0.07826694619147449, 'top_down_map.agent_angle': -1.5683126282975193}\n",
      "{'distance_to_goal': 2.7422466131254373, 'softspl': 0.5160681775935969, 'spl': 0.057755141261576604, 'success': 0.07697690692792163, 'top_down_map.agent_angle': -1.5823411667905878}\n",
      "{'distance_to_goal': 2.7564262459543385, 'softspl': 0.5162673854093772, 'spl': 0.05616300034306115, 'success': 0.0748775367389783, 'top_down_map.agent_angle': -1.5895686860348146}\n",
      "{'distance_to_goal': 2.7676029325617555, 'softspl': 0.5148246567317799, 'spl': 0.05629072075718838, 'success': 0.07498248072880168, 'top_down_map.agent_angle': -1.5953818243036089}\n",
      "{'distance_to_goal': 2.759802683591005, 'softspl': 0.5161561731377372, 'spl': 0.056930472292869926, 'success': 0.0758959943780745, 'top_down_map.agent_angle': -1.5874057751010189}\n",
      "{'distance_to_goal': 2.7434650200546544, 'softspl': 0.5168420014159467, 'spl': 0.058077522998804434, 'success': 0.07757404795486601, 'top_down_map.agent_angle': -1.5821559029002115}\n",
      "{'distance_to_goal': 2.739799122884344, 'softspl': 0.5168851306307299, 'spl': 0.05695127801935494, 'success': 0.076163610719323, 'top_down_map.agent_angle': -1.588192615589739}\n",
      "{'distance_to_goal': 2.7570280820257405, 'softspl': 0.5178672026511812, 'spl': 0.0564848626786462, 'success': 0.07545839210155147, 'top_down_map.agent_angle': -1.5926622140558886}\n",
      "{'distance_to_goal': 2.7733074985655013, 'softspl': 0.5176975228692179, 'spl': 0.055861004328323624, 'success': 0.0748587570621469, 'top_down_map.agent_angle': -1.5968696895965748}\n",
      "{'distance_to_goal': 2.794694631113171, 'softspl': 0.5170476019045728, 'spl': 0.05434487229686672, 'success': 0.07274011299435028, 'top_down_map.agent_angle': -1.6108857063250352}\n"
     ]
    },
    {
     "name": "stderr",
     "output_type": "stream",
     "text": [
      "2020-05-28 21:37:05,066 update: 340\tfps: 50.249\t\n",
      "2020-05-28 21:37:05,068 update: 340\tenv-time: 8291.614s\tpth-time: 1870.339s\tframes: 511500.0\n",
      "2020-05-28 21:37:05,069 Average window size: 50  distance_to_goal: 2.821  reward: 3.472  softspl: 0.516  spl: 0.053  success: 0.071  top_down_map.agent_angle: -1.623\n"
     ]
    },
    {
     "name": "stdout",
     "output_type": "stream",
     "text": [
      "{'distance_to_goal': 2.8213826555276493, 'softspl': 0.516430004222973, 'spl': 0.05308851781983464, 'success': 0.07112375533428165, 'top_down_map.agent_angle': -1.6233752319856865}\n",
      "{'distance_to_goal': 2.8506787944043803, 'softspl': 0.5159360880186076, 'spl': 0.05308766922040543, 'success': 0.07051282051282051, 'top_down_map.agent_angle': -1.641956122852119}\n",
      "{'distance_to_goal': 2.87328367041995, 'softspl': 0.516137153166413, 'spl': 0.05230686111231588, 'success': 0.06948424068767908, 'top_down_map.agent_angle': -1.6482437264953438}\n",
      "{'distance_to_goal': 2.8876295082885304, 'softspl': 0.5154496387768818, 'spl': 0.051249268234417, 'success': 0.06810035842293907, 'top_down_map.agent_angle': -1.6628038194444446}\n",
      "{'distance_to_goal': 2.899430748370054, 'softspl': 0.5154080397791142, 'spl': 0.04988581156559128, 'success': 0.06618705035971223, 'top_down_map.agent_angle': -1.6610462216164568}\n",
      "{'distance_to_goal': 2.927970242655011, 'softspl': 0.5145752129145638, 'spl': 0.04902980064606615, 'success': 0.06488824801730353, 'top_down_map.agent_angle': -1.662088252523432}\n",
      "{'distance_to_goal': 2.951710503629251, 'softspl': 0.5126507064885583, 'spl': 0.04975373838123813, 'success': 0.0658465991316932, 'top_down_map.agent_angle': -1.6559422626854197}\n",
      "{'distance_to_goal': 2.9747515687409223, 'softspl': 0.5110327804443536, 'spl': 0.048395510073061344, 'success': 0.06390704429920116, 'top_down_map.agent_angle': -1.665484437409223}\n",
      "{'distance_to_goal': 2.9864761752915454, 'softspl': 0.5119441174209639, 'spl': 0.04816284402118828, 'success': 0.06341107871720117, 'top_down_map.agent_angle': -1.671588330505193}\n",
      "{'distance_to_goal': 3.022089186035871, 'softspl': 0.5102323696868137, 'spl': 0.048149684163173154, 'success': 0.0636896046852123, 'top_down_map.agent_angle': -1.6778791435990117}\n"
     ]
    },
    {
     "name": "stderr",
     "output_type": "stream",
     "text": [
      "2020-05-28 21:41:40,772 update: 350\tfps: 50.358\t\n",
      "2020-05-28 21:41:40,775 update: 350\tenv-time: 8514.018s\tpth-time: 1923.218s\tframes: 526500.0\n",
      "2020-05-28 21:41:40,776 Average window size: 50  distance_to_goal: 3.041  reward: 3.583  softspl: 0.510  spl: 0.048  success: 0.063  top_down_map.agent_angle: -1.690\n"
     ]
    },
    {
     "name": "stdout",
     "output_type": "stream",
     "text": [
      "{'distance_to_goal': 3.0412707241078, 'softspl': 0.5104684499890775, 'spl': 0.047762081323080505, 'success': 0.06328182487122884, 'top_down_map.agent_angle': -1.6900394936534215}\n",
      "{'distance_to_goal': 3.0474164568386684, 'softspl': 0.5110066282652685, 'spl': 0.048354962189641394, 'success': 0.0640176600441501, 'top_down_map.agent_angle': -1.6981114042954377}\n",
      "{'distance_to_goal': 3.0719342140186483, 'softspl': 0.509508682318593, 'spl': 0.048043441208990144, 'success': 0.06351550960118169, 'top_down_map.agent_angle': -1.6926233469119276}\n",
      "{'distance_to_goal': 3.087451208070793, 'softspl': 0.5083028625081079, 'spl': 0.04662240426393683, 'success': 0.061527057079318014, 'top_down_map.agent_angle': -1.671053355494811}\n",
      "{'distance_to_goal': 3.1186690309249627, 'softspl': 0.5072682622991734, 'spl': 0.04701112177538482, 'success': 0.061664190193164936, 'top_down_map.agent_angle': -1.6868633479986999}\n",
      "{'distance_to_goal': 3.1491702868086695, 'softspl': 0.5075497477578476, 'spl': 0.04674795746625093, 'success': 0.061285500747384154, 'top_down_map.agent_angle': -1.6906287588167974}\n",
      "{'distance_to_goal': 3.154623127340824, 'softspl': 0.5087897940074907, 'spl': 0.0484637999802493, 'success': 0.06367041198501873, 'top_down_map.agent_angle': -1.6936230834503745}\n",
      "{'distance_to_goal': 3.1829755288371437, 'softspl': 0.5083544500942888, 'spl': 0.0467035244966018, 'success': 0.06146926536731634, 'top_down_map.agent_angle': -1.6930940047554348}\n",
      "{'distance_to_goal': 3.1986379523026316, 'softspl': 0.5092489371622415, 'spl': 0.046331308121071724, 'success': 0.06090225563909774, 'top_down_map.agent_angle': -1.6945187676221805}\n",
      "{'distance_to_goal': 3.2064788472877357, 'softspl': 0.5070923312205189, 'spl': 0.04475459836563974, 'success': 0.05886792452830188, 'top_down_map.agent_angle': -1.6986685583726415}\n"
     ]
    },
    {
     "name": "stderr",
     "output_type": "stream",
     "text": [
      "2020-05-28 21:46:20,579 update: 360\tfps: 50.443\t\n",
      "2020-05-28 21:46:20,582 update: 360\tenv-time: 8740.128s\tpth-time: 1976.383s\tframes: 541500.0\n",
      "2020-05-28 21:46:20,582 Average window size: 50  distance_to_goal: 3.225  reward: 3.694  softspl: 0.507  spl: 0.043  success: 0.057  top_down_map.agent_angle: -1.702\n"
     ]
    },
    {
     "name": "stdout",
     "output_type": "stream",
     "text": [
      "{'distance_to_goal': 3.224858899714829, 'softspl': 0.5065240316064639, 'spl': 0.04330316115694807, 'success': 0.057034220532319393, 'top_down_map.agent_angle': -1.701586264258555}\n",
      "{'distance_to_goal': 3.2520261250953473, 'softspl': 0.5058607251293145, 'spl': 0.04177497089772984, 'success': 0.05491990846681922, 'top_down_map.agent_angle': -1.72501832451373}\n",
      "{'distance_to_goal': 3.254233267480843, 'softspl': 0.5062883515924329, 'spl': 0.043162089380724675, 'success': 0.056704980842911874, 'top_down_map.agent_angle': -1.7264569863505748}\n",
      "{'distance_to_goal': 3.2740688206959354, 'softspl': 0.5058739316975412, 'spl': 0.04495183383028931, 'success': 0.059049079754601226, 'top_down_map.agent_angle': -1.7268635568443251}\n",
      "{'distance_to_goal': 3.2855142978958494, 'softspl': 0.5074435680486165, 'spl': 0.046193189569659454, 'success': 0.06072252113758647, 'top_down_map.agent_angle': -1.7354356324461953}\n",
      "{'distance_to_goal': 3.3168700983929944, 'softspl': 0.5071716073662432, 'spl': 0.043944126096847336, 'success': 0.057736720554272515, 'top_down_map.agent_angle': -1.7527938032260393}\n",
      "{'distance_to_goal': 3.340499960665182, 'softspl': 0.5063278942861639, 'spl': 0.04241189284439146, 'success': 0.055770720371804805, 'top_down_map.agent_angle': -1.7382054170095855}\n",
      "{'distance_to_goal': 3.3205279963092464, 'softspl': 0.5063621206809683, 'spl': 0.04189543290571733, 'success': 0.05516705516705517, 'top_down_map.agent_angle': -1.7393298975330225}\n",
      "{'distance_to_goal': 3.3047805240328536, 'softspl': 0.507179556886664, 'spl': 0.041841029379267716, 'success': 0.0552099533437014, 'top_down_map.agent_angle': -1.7401948872472783}\n",
      "{'distance_to_goal': 3.3301430015297204, 'softspl': 0.5061809121867715, 'spl': 0.039997512829238906, 'success': 0.05283605283605284, 'top_down_map.agent_angle': -1.7228353243978245}\n"
     ]
    },
    {
     "name": "stderr",
     "output_type": "stream",
     "text": [
      "2020-05-28 21:50:53,389 update: 370\tfps: 50.555\t\n",
      "2020-05-28 21:50:53,393 update: 370\tenv-time: 8959.595s\tpth-time: 2029.300s\tframes: 556500.0\n",
      "2020-05-28 21:50:53,394 Average window size: 50  distance_to_goal: 3.361  reward: 3.825  softspl: 0.504  spl: 0.039  success: 0.051  top_down_map.agent_angle: -1.726\n"
     ]
    },
    {
     "name": "stdout",
     "output_type": "stream",
     "text": [
      "{'distance_to_goal': 3.3611934661865233, 'softspl': 0.5043730735778809, 'spl': 0.03851521611213684, 'success': 0.05078125, 'top_down_map.agent_angle': -1.7255672454833983}\n",
      "{'distance_to_goal': 3.369089086322322, 'softspl': 0.5043418472683737, 'spl': 0.0392550959821974, 'success': 0.05160281469898358, 'top_down_map.agent_angle': -1.7502093997385653}\n",
      "{'distance_to_goal': 3.3783390778186275, 'softspl': 0.5038338694852941, 'spl': 0.038856213139552696, 'success': 0.050980392156862744, 'top_down_map.agent_angle': -1.7712228094362745}\n",
      "{'distance_to_goal': 3.4017311859732073, 'softspl': 0.5030039012479068, 'spl': 0.03903993045936146, 'success': 0.0512214342001576, 'top_down_map.agent_angle': -1.7854456018518519}\n",
      "{'distance_to_goal': 3.42935761148382, 'softspl': 0.5026482609942285, 'spl': 0.03740651793807345, 'success': 0.0489344909234412, 'top_down_map.agent_angle': -1.7650392166535123}\n",
      "{'distance_to_goal': 3.4369065089779007, 'softspl': 0.5024337467473609, 'spl': 0.03777869028092936, 'success': 0.049723756906077346, 'top_down_map.agent_angle': -1.7469774350088791}\n",
      "{'distance_to_goal': 3.4370911705173777, 'softspl': 0.5020767380652646, 'spl': 0.03716606513772154, 'success': 0.04897314375987362, 'top_down_map.agent_angle': -1.742426240990324}\n",
      "{'distance_to_goal': 3.447841099330357, 'softspl': 0.5030105833023314, 'spl': 0.03629628136044457, 'success': 0.047619047619047616, 'top_down_map.agent_angle': -1.7690770709325396}\n",
      "{'distance_to_goal': 3.4527476033366535, 'softspl': 0.5023028005166833, 'spl': 0.035759136306337154, 'success': 0.04701195219123506, 'top_down_map.agent_angle': -1.767497393239542}\n",
      "{'distance_to_goal': 3.4787933057108624, 'softspl': 0.5026622930654703, 'spl': 0.035844821137742115, 'success': 0.04712460063897764, 'top_down_map.agent_angle': -1.770871293430511}\n"
     ]
    },
    {
     "name": "stderr",
     "output_type": "stream",
     "text": [
      "2020-05-28 21:55:39,673 update: 380\tfps: 50.602\t\n",
      "2020-05-28 21:55:39,676 update: 380\tenv-time: 9192.730s\tpth-time: 2082.028s\tframes: 571500.0\n",
      "2020-05-28 21:55:39,676 Average window size: 50  distance_to_goal: 3.504  reward: 3.908  softspl: 0.503  spl: 0.036  success: 0.047  top_down_map.agent_angle: -1.760\n"
     ]
    },
    {
     "name": "stdout",
     "output_type": "stream",
     "text": [
      "{'distance_to_goal': 3.5040375, 'softspl': 0.502761181640625, 'spl': 0.03608345947265625, 'success': 0.0472, 'top_down_map.agent_angle': -1.759987109375}\n",
      "{'distance_to_goal': 3.500229641101525, 'softspl': 0.5043485834357444, 'spl': 0.037959348332633175, 'success': 0.04975922953451043, 'top_down_map.agent_angle': -1.7781680675035112}\n",
      "{'distance_to_goal': 3.5525382749495966, 'softspl': 0.5020891743321573, 'spl': 0.03627041847475113, 'success': 0.04758064516129032, 'top_down_map.agent_angle': -1.7568048292590726}\n",
      "{'distance_to_goal': 3.6135564487721417, 'softspl': 0.5006639170377919, 'spl': 0.03566031832241973, 'success': 0.04669887278582931, 'top_down_map.agent_angle': -1.7710310833081724}\n",
      "{'distance_to_goal': 3.644317823840726, 'softspl': 0.4988605130103327, 'spl': 0.03409533654489825, 'success': 0.04435483870967742, 'top_down_map.agent_angle': -1.7705731791834678}\n",
      "{'distance_to_goal': 3.6594867428079416, 'softspl': 0.49690352923673015, 'spl': 0.03426111613911979, 'success': 0.04457050243111831, 'top_down_map.agent_angle': -1.7475435575364668}\n",
      "{'distance_to_goal': 3.6745597503313623, 'softspl': 0.49669912316476345, 'spl': 0.03383940468021163, 'success': 0.04404567699836868, 'top_down_map.agent_angle': -1.7529380512081973}\n",
      "{'distance_to_goal': 3.696370975475655, 'softspl': 0.49621851744706424, 'spl': 0.03335183263800538, 'success': 0.04337152209492635, 'top_down_map.agent_angle': -1.7414394946808511}\n",
      "{'distance_to_goal': 3.722915174918167, 'softspl': 0.49407849101114976, 'spl': 0.032626980845549686, 'success': 0.0425531914893617, 'top_down_map.agent_angle': -1.7221457923102497}\n",
      "{'distance_to_goal': 3.7305486650982, 'softspl': 0.49518826199046134, 'spl': 0.032626980845549686, 'success': 0.0425531914893617, 'top_down_map.agent_angle': -1.721157841908756}\n"
     ]
    },
    {
     "name": "stderr",
     "output_type": "stream",
     "text": [
      "2020-05-28 22:00:16,563 update: 390\tfps: 50.688\t\n",
      "2020-05-28 22:00:16,566 update: 390\tenv-time: 9416.577s\tpth-time: 2134.655s\tframes: 586500.0\n",
      "2020-05-28 22:00:16,567 Average window size: 50  distance_to_goal: 3.727  reward: 4.013  softspl: 0.497  spl: 0.032  success: 0.041  top_down_map.agent_angle: -1.721\n"
     ]
    },
    {
     "name": "stdout",
     "output_type": "stream",
     "text": [
      "{'distance_to_goal': 3.727466040981923, 'softspl': 0.4968915702675637, 'spl': 0.031524570436877314, 'success': 0.041084634346754315, 'top_down_map.agent_angle': -1.7207737392152835}\n",
      "{'distance_to_goal': 3.728163356357847, 'softspl': 0.4970933824851068, 'spl': 0.032218729362393755, 'success': 0.0419063270336894, 'top_down_map.agent_angle': -1.7338383720855588}\n",
      "{'distance_to_goal': 3.766074427040607, 'softspl': 0.49515704310654224, 'spl': 0.030873042819341546, 'success': 0.04019688269073011, 'top_down_map.agent_angle': -1.727968461597621}\n",
      "{'distance_to_goal': 3.7777313257497944, 'softspl': 0.4943479038009706, 'spl': 0.03151638936878916, 'success': 0.041084634346754315, 'top_down_map.agent_angle': -1.7239862847935497}\n",
      "{'distance_to_goal': 3.7736026776505778, 'softspl': 0.49403436742600043, 'spl': 0.032197033218031273, 'success': 0.04207920792079208, 'top_down_map.agent_angle': -1.7314239602671204}\n",
      "{'distance_to_goal': 3.764296102759473, 'softspl': 0.49594664220165774, 'spl': 0.03326275556837707, 'success': 0.04365733113673806, 'top_down_map.agent_angle': -1.7337461468415363}\n",
      "{'distance_to_goal': 3.762345444860537, 'softspl': 0.49759965376420456, 'spl': 0.03264683810147372, 'success': 0.04297520661157025, 'top_down_map.agent_angle': -1.7191285188533059}\n",
      "{'distance_to_goal': 3.7808000232246077, 'softspl': 0.4967771824680017, 'spl': 0.0319869421810084, 'success': 0.042113955408753095, 'top_down_map.agent_angle': -1.723808206673204}\n",
      "{'distance_to_goal': 3.7783792778122414, 'softspl': 0.49671672256255167, 'spl': 0.03265713107201361, 'success': 0.043010752688172046, 'top_down_map.agent_angle': -1.7207398773521505}\n",
      "{'distance_to_goal': 3.810881557843543, 'softspl': 0.49476441642306496, 'spl': 0.0340161607754941, 'success': 0.04470198675496689, 'top_down_map.agent_angle': -1.7141679170115893}\n"
     ]
    },
    {
     "name": "stderr",
     "output_type": "stream",
     "text": [
      "2020-05-28 22:04:54,923 update: 400\tfps: 50.763\t\n",
      "2020-05-28 22:04:54,927 update: 400\tenv-time: 9641.520s\tpth-time: 2187.645s\tframes: 601500.0\n",
      "2020-05-28 22:04:54,928 Average window size: 50  distance_to_goal: 3.832  reward: 4.054  softspl: 0.493  spl: 0.032  success: 0.042  top_down_map.agent_angle: -1.686\n"
     ]
    },
    {
     "name": "stdout",
     "output_type": "stream",
     "text": [
      "{'distance_to_goal': 3.8320450044014085, 'softspl': 0.4929813615724679, 'spl': 0.032089208114611384, 'success': 0.04225352112676056, 'top_down_map.agent_angle': -1.6860768239954433}\n",
      "{'distance_to_goal': 3.8466853557732175, 'softspl': 0.4926288155576285, 'spl': 0.03204390619129288, 'success': 0.04228855721393035, 'top_down_map.agent_angle': -1.6886137144680244}\n",
      "{'distance_to_goal': 3.863257786609362, 'softspl': 0.49283688979002693, 'spl': 0.032017357801739206, 'success': 0.04225352112676056, 'top_down_map.agent_angle': -1.7097764667046396}\n",
      "{'distance_to_goal': 3.8476789985440933, 'softspl': 0.4940521189456375, 'spl': 0.03132718256031614, 'success': 0.04159733777038269, 'top_down_map.agent_angle': -1.695902337250416}\n",
      "{'distance_to_goal': 3.8416611287603732, 'softspl': 0.495396885535529, 'spl': 0.030517840880081366, 'success': 0.04066390041493776, 'top_down_map.agent_angle': -1.69043151095695}\n",
      "{'distance_to_goal': 3.833727256800249, 'softspl': 0.4949039193086846, 'spl': 0.029936651058767326, 'success': 0.03986710963455149, 'top_down_map.agent_angle': -1.6942131574763808}\n",
      "{'distance_to_goal': 3.8352707379267277, 'softspl': 0.4960236180136345, 'spl': 0.03001269452478566, 'success': 0.03996669442131557, 'top_down_map.agent_angle': -1.6903800869067445}\n",
      "{'distance_to_goal': 3.8434128630705393, 'softspl': 0.49500717226400415, 'spl': 0.03177176827711683, 'success': 0.04232365145228216, 'top_down_map.agent_angle': -1.6790589138679979}\n",
      "{'distance_to_goal': 3.863552020451707, 'softspl': 0.49682520628968047, 'spl': 0.03128584735498738, 'success': 0.041631973355537054, 'top_down_map.agent_angle': -1.6821189454751249}\n",
      "{'distance_to_goal': 3.855870768229167, 'softspl': 0.49765818277994794, 'spl': 0.03166585286458334, 'success': 0.0425, 'top_down_map.agent_angle': -1.684077860514323}\n"
     ]
    },
    {
     "name": "stderr",
     "output_type": "stream",
     "text": [
      "2020-05-28 22:09:32,780 update: 410\tfps: 50.837\t\n",
      "2020-05-28 22:09:32,785 update: 410\tenv-time: 9866.156s\tpth-time: 2240.349s\tframes: 616500.0\n",
      "2020-05-28 22:09:32,786 Average window size: 50  distance_to_goal: 3.871  reward: 4.133  softspl: 0.498  spl: 0.032  success: 0.043  top_down_map.agent_angle: -1.672\n"
     ]
    },
    {
     "name": "stdout",
     "output_type": "stream",
     "text": [
      "{'distance_to_goal': 3.8708135685988325, 'softspl': 0.4976441142358215, 'spl': 0.03168796160700323, 'success': 0.042535446205170975, 'top_down_map.agent_angle': -1.6715623411762406}\n",
      "{'distance_to_goal': 3.8586736284289276, 'softspl': 0.499225061532367, 'spl': 0.030884917933843774, 'success': 0.04156275976724855, 'top_down_map.agent_angle': -1.66997666965399}\n",
      "{'distance_to_goal': 3.8609252727249173, 'softspl': 0.49992226368159204, 'spl': 0.028908699503783167, 'success': 0.03897180762852405, 'top_down_map.agent_angle': -1.6687254644745024}\n",
      "{'distance_to_goal': 3.864648193765599, 'softspl': 0.5000463603141899, 'spl': 0.027093201826098756, 'success': 0.036605657237936774, 'top_down_map.agent_angle': -1.6627023604864288}\n",
      "{'distance_to_goal': 3.879706950207469, 'softspl': 0.4982192929849585, 'spl': 0.02643510335708555, 'success': 0.03568464730290456, 'top_down_map.agent_angle': -1.6596045529693984}\n",
      "{'distance_to_goal': 3.8979904819542255, 'softspl': 0.4984037814894884, 'spl': 0.026403313346805905, 'success': 0.035625517812758904, 'top_down_map.agent_angle': -1.6637012446924193}\n",
      "{'distance_to_goal': 3.916014408352367, 'softspl': 0.49861251476199125, 'spl': 0.027061189923967634, 'success': 0.036544850498338874, 'top_down_map.agent_angle': -1.6534401522918396}\n",
      "{'distance_to_goal': 3.92072918290212, 'softspl': 0.49859284284406175, 'spl': 0.02710645236477491, 'success': 0.03657522859517872, 'top_down_map.agent_angle': -1.658403226958645}\n",
      "{'distance_to_goal': 3.9164905120012468, 'softspl': 0.5003527659529562, 'spl': 0.026376643382997583, 'success': 0.03574397339983375, 'top_down_map.agent_angle': -1.6618024234660744}\n",
      "{'distance_to_goal': 3.8942437875725537, 'softspl': 0.5018228053255857, 'spl': 0.0255924243832109, 'success': 0.03482587064676617, 'top_down_map.agent_angle': -1.6577281034605618}\n"
     ]
    },
    {
     "name": "stderr",
     "output_type": "stream",
     "text": [
      "2020-05-28 22:14:09,848 update: 420\tfps: 50.910\t\n",
      "2020-05-28 22:14:09,852 update: 420\tenv-time: 10090.024s\tpth-time: 2293.127s\tframes: 631500.0\n",
      "2020-05-28 22:14:09,853 Average window size: 50  distance_to_goal: 3.914  reward: 4.118  softspl: 0.501  spl: 0.024  success: 0.033  top_down_map.agent_angle: -1.641\n"
     ]
    },
    {
     "name": "stdout",
     "output_type": "stream",
     "text": [
      "{'distance_to_goal': 3.9135223084509967, 'softspl': 0.5013512899709303, 'spl': 0.02429325002372463, 'success': 0.03322259136212625, 'top_down_map.agent_angle': -1.6408740072155317}\n",
      "{'distance_to_goal': 3.892771656042703, 'softspl': 0.5034803197553898, 'spl': 0.02359716374284988, 'success': 0.03233830845771144, 'top_down_map.agent_angle': -1.6231607465601678}\n",
      "{'distance_to_goal': 3.8538994761560694, 'softspl': 0.5060970643450661, 'spl': 0.02539207086791488, 'success': 0.03468208092485549, 'top_down_map.agent_angle': -1.6208575726736685}\n",
      "{'distance_to_goal': 3.870186826952803, 'softspl': 0.5048000904910346, 'spl': 0.026795795311735173, 'success': 0.036273701566364384, 'top_down_map.agent_angle': -1.6171219865841406}\n",
      "{'distance_to_goal': 3.8792769746302382, 'softspl': 0.5032114422311524, 'spl': 0.027152281661648778, 'success': 0.03697617091207888, 'top_down_map.agent_angle': -1.6177476994209634}\n",
      "{'distance_to_goal': 3.891608760749386, 'softspl': 0.5022083129382934, 'spl': 0.02834686229309032, 'success': 0.03849303849303849, 'top_down_map.agent_angle': -1.6234955658783783}\n",
      "{'distance_to_goal': 3.889405293367347, 'softspl': 0.5001836535395409, 'spl': 0.028254301110092476, 'success': 0.03836734693877551, 'top_down_map.agent_angle': -1.6324055325255102}\n",
      "{'distance_to_goal': 3.8686213795731708, 'softspl': 0.5020654693851626, 'spl': 0.02943473753890371, 'success': 0.03983739837398374, 'top_down_map.agent_angle': -1.639231810530996}\n",
      "{'distance_to_goal': 3.8617692427201704, 'softspl': 0.501547132219587, 'spl': 0.029905960157320097, 'success': 0.040584415584415584, 'top_down_map.agent_angle': -1.6549305110782773}\n",
      "{'distance_to_goal': 3.8278084481361425, 'softspl': 0.5022722983089799, 'spl': 0.029847891635987514, 'success': 0.04051863857374392, 'top_down_map.agent_angle': -1.647246770379609}\n"
     ]
    },
    {
     "name": "stderr",
     "output_type": "stream",
     "text": [
      "2020-05-28 22:19:02,179 update: 430\tfps: 50.920\t\n",
      "2020-05-28 22:19:02,181 update: 430\tenv-time: 10328.698s\tpth-time: 2346.364s\tframes: 646500.0\n",
      "2020-05-28 22:19:02,182 Average window size: 50  distance_to_goal: 3.861  reward: 4.026  softspl: 0.501  spl: 0.029  success: 0.039  top_down_map.agent_angle: -1.627\n"
     ]
    },
    {
     "name": "stdout",
     "output_type": "stream",
     "text": [
      "{'distance_to_goal': 3.8606728626418154, 'softspl': 0.5010333439905794, 'spl': 0.028604869131524133, 'success': 0.03889789303079417, 'top_down_map.agent_angle': -1.627223776843598}\n",
      "{'distance_to_goal': 3.8337661310728746, 'softspl': 0.5018159318066802, 'spl': 0.028581707294170672, 'success': 0.038866396761133605, 'top_down_map.agent_angle': -1.6392642372532895}\n",
      "{'distance_to_goal': 3.828185096153846, 'softspl': 0.5019909816232287, 'spl': 0.03039340123473874, 'success': 0.04129554655870445, 'top_down_map.agent_angle': -1.6371540517459515}\n",
      "{'distance_to_goal': 3.8620711959814216, 'softspl': 0.5001311417735258, 'spl': 0.03090781734139931, 'success': 0.0420032310177706, 'top_down_map.agent_angle': -1.6392192193495052}\n",
      "{'distance_to_goal': 3.857184439367932, 'softspl': 0.5022006181214661, 'spl': 0.03292058473257333, 'success': 0.0444264943457189, 'top_down_map.agent_angle': -1.6579684502473748}\n",
      "{'distance_to_goal': 3.865452350674859, 'softspl': 0.5018428584244057, 'spl': 0.03284100233595953, 'success': 0.0443190975020145, 'top_down_map.agent_angle': -1.6579886904462127}\n",
      "{'distance_to_goal': 3.831670125325521, 'softspl': 0.5030242724296374, 'spl': 0.033900169225839466, 'success': 0.04567307692307692, 'top_down_map.agent_angle': -1.6543909708658855}\n",
      "{'distance_to_goal': 3.8038960529618473, 'softspl': 0.5045798918329568, 'spl': 0.03466216550773406, 'success': 0.046586345381526104, 'top_down_map.agent_angle': -1.657273233559237}\n",
      "{'distance_to_goal': 3.808328125, 'softspl': 0.502178271484375, 'spl': 0.03452351684570312, 'success': 0.0464, 'top_down_map.agent_angle': -1.644315234375}\n",
      "{'distance_to_goal': 3.794845350412689, 'softspl': 0.5008910064575876, 'spl': 0.03490068045701882, 'success': 0.046937151949085126, 'top_down_map.agent_angle': -1.6360583855409705}\n"
     ]
    },
    {
     "name": "stderr",
     "output_type": "stream",
     "text": [
      "2020-05-28 22:23:46,975 update: 440\tfps: 50.958\t\n",
      "2020-05-28 22:23:46,977 update: 440\tenv-time: 10560.119s\tpth-time: 2399.319s\tframes: 661500.0\n",
      "2020-05-28 22:23:46,978 Average window size: 50  distance_to_goal: 3.770  reward: 3.924  softspl: 0.502  spl: 0.035  success: 0.047  top_down_map.agent_angle: -1.623\n"
     ]
    },
    {
     "name": "stdout",
     "output_type": "stream",
     "text": [
      "{'distance_to_goal': 3.7698460578162174, 'softspl': 0.5020772282043021, 'spl': 0.03473065563083924, 'success': 0.046788263283108644, 'top_down_map.agent_angle': -1.6230932442939632}\n",
      "{'distance_to_goal': 3.7169471153846154, 'softspl': 0.5049198885742961, 'spl': 0.03515652226229493, 'success': 0.047581284694686754, 'top_down_map.agent_angle': -1.625294866115682}\n",
      "{'distance_to_goal': 3.711275866959353, 'softspl': 0.504686170425957, 'spl': 0.03381421722195331, 'success': 0.04577742699289661, 'top_down_map.agent_angle': -1.6140167549452447}\n",
      "{'distance_to_goal': 3.7286792818154995, 'softspl': 0.5040784065972905, 'spl': 0.03251987700383556, 'success': 0.044059795436664044, 'top_down_map.agent_angle': -1.6029010475572876}\n",
      "{'distance_to_goal': 3.7497596860305644, 'softspl': 0.5016902337627351, 'spl': 0.03247510975804822, 'success': 0.0438871473354232, 'top_down_map.agent_angle': -1.5994300961868142}\n",
      "{'distance_to_goal': 3.758104249951248, 'softspl': 0.49933404074444226, 'spl': 0.03234357432158615, 'success': 0.0436817472698908, 'top_down_map.agent_angle': -1.605128628973284}\n",
      "{'distance_to_goal': 3.7500995561770427, 'softspl': 0.4988298824325146, 'spl': 0.03347639388147495, 'success': 0.045136186770428015, 'top_down_map.agent_angle': -1.5996116549124513}\n",
      "{'distance_to_goal': 3.735145870708883, 'softspl': 0.5004491695051881, 'spl': 0.03245075660865375, 'success': 0.04344453064391001, 'top_down_map.agent_angle': -1.5955686487829712}\n"
     ]
    }
   ],
   "source": [
    "trainer.train()"
   ]
  },
  {
   "cell_type": "code",
   "execution_count": null,
   "metadata": {},
   "outputs": [],
   "source": [
    "pretrained_state = torch.load(config.RL.DDPPO.pretrained_weights, map_location=\"cpu\")\n",
    "trainer.actor_critic.net.visual_encoder.backbone.load_state_dict({k[len(\"actor_critic.net.visual_encoder.backbone.\") :]: v for k, v in pretrained_state[\"state_dict\"].items() if \"actor_critic.net.visual_encoder.backbone\" in k})\n",
    "for param in trainer.actor_critic.net.visual_encoder.backbone.parameters():\n",
    "    param.requires_grad = False\n",
    "trainer.actor_critic.net.prev_action_embedding.load_state_dict({k[len(\"actor_critic.net.prev_action_embedding.\") :]: v for k, v in pretrained_state[\"state_dict\"].items() if \"actor_critic.net.prev_action_embedding\" in k})\n",
    "for param in trainer.actor_critic.net.prev_action_embedding.parameters():\n",
    "    param.requires_grad = False\n",
    "trainer.actor_critic.net.tgt_embeding.load_state_dict({k[len(\"actor_critic.net.tgt_embeding.\") :]: v for k, v in pretrained_state[\"state_dict\"].items() if \"actor_critic.net.tgt_embeding\" in k})\n",
    "for param in trainer.actor_critic.net.tgt_embeding.parameters():\n",
    "    param.requires_grad = False\n",
    "trainer.actor_critic.net.visual_encoder.compression.load_state_dict({k[len(\"actor_critic.net.visual_encoder.compression.\") :]: v for k, v in pretrained_state[\"state_dict\"].items() if \"actor_critic.net.visual_encoder.compression\" in k})\n",
    "for param in trainer.actor_critic.net.visual_encoder.compression.parameters():\n",
    "    param.requires_grad = False\n",
    "trainer.actor_critic.net.visual_fc.load_state_dict({k[len(\"actor_critic.net.visual_fc.\") :]: v for k, v in pretrained_state[\"state_dict\"].items() if \"actor_critic.net.visual_fc\" in k})\n",
    "for param in trainer.actor_critic.net.visual_fc.parameters():\n",
    "    param.requires_grad = False\n",
    "trainer.actor_critic.net.state_encoder.load_state_dict({k[len(\"actor_critic.net.state_encoder.\") :]: v for k, v in pretrained_state[\"state_dict\"].items() if \"actor_critic.net.state_encoder\" in k})\n",
    "#for param in trainer.actor_critic.net.state_encoder.parameters():\n",
    "#    param.requires_grad = False\n",
    "trainer.actor_critic.critic.load_state_dict({k[len(\"actor_critic.critic.\") :]: v for k, v in pretrained_state[\"state_dict\"].items() if \"actor_critic.critic\" in k})\n",
    "#for param in trainer.actor_critic.critic.parameters():\n",
    "#    param.requires_grad = False\n",
    "trainer.actor_critic.action_distribution.load_state_dict({k[len(\"actor_critic.action_distribution.\") :]: v for k, v in pretrained_state[\"state_dict\"].items() if \"actor_critic.action_distribution\" in k})\n",
    "#for param in trainer.actor_critic.action_distribution.parameters():\n",
    "#    param.requires_grad = False"
   ]
  },
  {
   "cell_type": "code",
   "execution_count": null,
   "metadata": {},
   "outputs": [],
   "source": []
  }
 ],
 "metadata": {
  "kernelspec": {
   "display_name": "Python 3",
   "language": "python",
   "name": "python3"
  },
  "language_info": {
   "codemirror_mode": {
    "name": "ipython",
    "version": 3
   },
   "file_extension": ".py",
   "mimetype": "text/x-python",
   "name": "python",
   "nbconvert_exporter": "python",
   "pygments_lexer": "ipython3",
   "version": "3.6.10"
  }
 },
 "nbformat": 4,
 "nbformat_minor": 4
}
