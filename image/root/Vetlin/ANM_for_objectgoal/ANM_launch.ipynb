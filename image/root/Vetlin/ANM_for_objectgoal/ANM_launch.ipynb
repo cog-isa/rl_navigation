{
 "cells": [
  {
   "cell_type": "code",
   "execution_count": 1,
   "metadata": {},
   "outputs": [
    {
     "name": "stderr",
     "output_type": "stream",
     "text": [
      "/opt/conda/envs/habitat/lib/python3.6/site-packages/tensorboard/compat/tensorflow_stub/dtypes.py:541: FutureWarning: Passing (type, 1) or '1type' as a synonym of type is deprecated; in a future version of numpy, it will be understood as (type, (1,)) / '(1,)type'.\n",
      "  _np_qint8 = np.dtype([(\"qint8\", np.int8, 1)])\n",
      "/opt/conda/envs/habitat/lib/python3.6/site-packages/tensorboard/compat/tensorflow_stub/dtypes.py:542: FutureWarning: Passing (type, 1) or '1type' as a synonym of type is deprecated; in a future version of numpy, it will be understood as (type, (1,)) / '(1,)type'.\n",
      "  _np_quint8 = np.dtype([(\"quint8\", np.uint8, 1)])\n",
      "/opt/conda/envs/habitat/lib/python3.6/site-packages/tensorboard/compat/tensorflow_stub/dtypes.py:543: FutureWarning: Passing (type, 1) or '1type' as a synonym of type is deprecated; in a future version of numpy, it will be understood as (type, (1,)) / '(1,)type'.\n",
      "  _np_qint16 = np.dtype([(\"qint16\", np.int16, 1)])\n",
      "/opt/conda/envs/habitat/lib/python3.6/site-packages/tensorboard/compat/tensorflow_stub/dtypes.py:544: FutureWarning: Passing (type, 1) or '1type' as a synonym of type is deprecated; in a future version of numpy, it will be understood as (type, (1,)) / '(1,)type'.\n",
      "  _np_quint16 = np.dtype([(\"quint16\", np.uint16, 1)])\n",
      "/opt/conda/envs/habitat/lib/python3.6/site-packages/tensorboard/compat/tensorflow_stub/dtypes.py:545: FutureWarning: Passing (type, 1) or '1type' as a synonym of type is deprecated; in a future version of numpy, it will be understood as (type, (1,)) / '(1,)type'.\n",
      "  _np_qint32 = np.dtype([(\"qint32\", np.int32, 1)])\n",
      "/opt/conda/envs/habitat/lib/python3.6/site-packages/tensorboard/compat/tensorflow_stub/dtypes.py:550: FutureWarning: Passing (type, 1) or '1type' as a synonym of type is deprecated; in a future version of numpy, it will be understood as (type, (1,)) / '(1,)type'.\n",
      "  np_resource = np.dtype([(\"resource\", np.ubyte, 1)])\n"
     ]
    }
   ],
   "source": [
    "import time\n",
    "from collections import deque\n",
    "\n",
    "import os\n",
    "\n",
    "os.environ[\"OMP_NUM_THREADS\"] = \"1\"\n",
    "import numpy as np\n",
    "import torch\n",
    "import torch.nn as nn\n",
    "from torch.nn import functional as F\n",
    "\n",
    "import gym\n",
    "import logging\n",
    "from arguments import get_args\n",
    "from env import make_vec_envs\n",
    "from utils.storage import GlobalRolloutStorage, FIFOMemory\n",
    "from utils.optimization import get_optimizer\n",
    "from model import RL_Policy, Local_IL_Policy, Neural_SLAM_Module\n",
    "\n",
    "from ppo import PPO\n",
    "\n",
    "import sys\n",
    "import matplotlib\n",
    "\n",
    "if sys.platform == 'darwin':\n",
    "    matplotlib.use(\"tkagg\")\n",
    "import matplotlib.pyplot as plt\n",
    "\n",
    "from env import get_local_map_boundaries\n",
    "import matplotlib.pyplot as plt\n",
    "from matplotlib.patches import Circle\n",
    "%matplotlib inline"
   ]
  },
  {
   "cell_type": "code",
   "execution_count": 2,
   "metadata": {},
   "outputs": [
    {
     "name": "stdout",
     "output_type": "stream",
     "text": [
      "Auto GPU config:\n",
      "Number of processes: 36\n",
      "Number of processes on GPU 0: 4\n",
      "Number of processes per GPU: 16\n"
     ]
    }
   ],
   "source": [
    "argumnts = ''\n",
    "args = get_args(argumnts)\n",
    "\n",
    "args.num_processes = 1\n",
    "\n",
    "\n",
    "np.random.seed(args.seed)\n",
    "torch.manual_seed(args.seed)\n",
    "\n",
    "if args.cuda:\n",
    "    torch.cuda.manual_seed(args.seed)"
   ]
  },
  {
   "cell_type": "code",
   "execution_count": null,
   "metadata": {},
   "outputs": [],
   "source": []
  },
  {
   "cell_type": "code",
   "execution_count": 3,
   "metadata": {},
   "outputs": [],
   "source": [
    "log_dir = \"{}models/{}/\".format(args.dump_location, args.exp_name)\n",
    "dump_dir = \"{}dump/{}/\".format(args.dump_location, args.exp_name)\n",
    "if not os.path.exists(log_dir):\n",
    "        os.makedirs(log_dir)\n",
    "if not os.path.exists(\"{}/images/\".format(dump_dir)):\n",
    "    os.makedirs(\"{}/images/\".format(dump_dir))"
   ]
  },
  {
   "cell_type": "code",
   "execution_count": 7,
   "metadata": {},
   "outputs": [
    {
     "name": "stdout",
     "output_type": "stream",
     "text": [
      "Dumping at ./tmp/models/exp1/\n",
      "Namespace(alpha=0.99, auto_gpu_config=1, camera_height=1.25, clip_param=0.2, collision_threshold=0.2, cuda=True, du_scale=2, dump_location='./tmp/', entropy_coef=0.001, env_frame_height=480, env_frame_width=640, eps=1e-05, eval=0, exp_loss_coeff=1.0, exp_name='exp1', frame_height=480, frame_width=640, gamma=0.99, global_downscaling=2, global_hidden_size=256, global_lr=2.5e-05, goals_size=2, hfov=90.0, load_global='0', load_local='0', load_slam='0', local_hidden_size=512, local_optimizer='adam,lr=0.0001', local_policy_update_freq=5, log_interval=10, map_pred_threshold=0.5, map_resolution=5, map_size_cm=2400, max_episode_length=1000, max_grad_norm=0.5, no_cuda=False, noise_level=1.0, noisy_actions=1, noisy_odometry=1, num_episodes=1000000, num_global_steps=40, num_local_steps=25, num_mini_batch=18, num_processes=1, num_processes_on_first_gpu=4, num_processes_per_gpu=16, obs_threshold=1, obstacle_boundary=5, pose_loss_coeff=10000.0, ppo_epoch=4, pretrained_resnet=1, print_images=0, proj_loss_coeff=1.0, randomize_env_every=1000, save_interval=1, save_periodic=500000, save_trajectory_data='0', seed=1, short_goal_dist=1, sim_gpu_id=1, slam_batch_size=72, slam_iterations=10, slam_memory_size=500000, slam_optimizer='adam,lr=0.0001', split='train', task_config='tasks/pointnav_gibson.yaml', tau=0.95, total_num_scenes=72, train_global=1, train_local=1, train_slam=1, use_deterministic_local=0, use_gae=False, use_pose_estimation=2, use_recurrent_global=0, use_recurrent_local=1, value_loss_coef=0.5, vis_type=1, vision_range=64, visualize=0)\n"
     ]
    }
   ],
   "source": [
    "logging.basicConfig(\n",
    "        filename=log_dir + 'train.log',\n",
    "        level=logging.INFO)\n",
    "print(\"Dumping at {}\".format(log_dir))\n",
    "print(args)\n",
    "args.env_frame_height = 480\n",
    "args.env_frame_width = 640\n",
    "\n",
    "args.frame_height = 480\n",
    "args.frame_width = 640\n",
    "\n",
    "logging.info(args)\n"
   ]
  },
  {
   "cell_type": "code",
   "execution_count": 8,
   "metadata": {},
   "outputs": [],
   "source": [
    "num_scenes = args.num_processes\n",
    "num_episodes = int(args.num_episodes)\n",
    "device = args.device = torch.device(\"cuda:0\" if args.cuda else \"cpu\")\n",
    "policy_loss = 0\n",
    "\n",
    "best_cost = 100000\n",
    "costs = deque(maxlen=1000)\n",
    "exp_costs = deque(maxlen=1000)\n",
    "sem_costs = deque(maxlen=1000)\n",
    "pose_costs = deque(maxlen=1000)\n",
    "\n",
    "g_masks = torch.ones(num_scenes).float().to(device)\n",
    "l_masks = torch.zeros(num_scenes).float().to(device)\n",
    "\n",
    "best_local_loss = np.inf\n",
    "best_g_reward = -np.inf\n",
    "\n",
    "if args.eval:\n",
    "    traj_lengths = args.max_episode_length // args.num_local_steps\n",
    "    explored_area_log = np.zeros((num_scenes, num_episodes, traj_lengths))\n",
    "    explored_ratio_log = np.zeros((num_scenes, num_episodes, traj_lengths))\n",
    "\n",
    "g_episode_rewards = deque(maxlen=1000)\n",
    "\n",
    "l_action_losses = deque(maxlen=1000)\n",
    "\n",
    "g_value_losses = deque(maxlen=1000)\n",
    "g_action_losses = deque(maxlen=1000)\n",
    "g_dist_entropies = deque(maxlen=1000)\n",
    "\n",
    "per_step_g_rewards = deque(maxlen=1000)\n",
    "\n",
    "g_process_rewards = np.zeros((num_scenes))"
   ]
  },
  {
   "cell_type": "markdown",
   "metadata": {},
   "source": [
    "# One env"
   ]
  },
  {
   "cell_type": "code",
   "execution_count": 9,
   "metadata": {},
   "outputs": [
    {
     "name": "stdout",
     "output_type": "stream",
     "text": [
      "CONTENT_SCENES: ['*']\n",
      "DATA_PATH: /data/data/matterport_dataset/v1/tasks/mp3d-tasks/{split}/{split}.json.gz\n",
      "SCENES_DIR: /data/data/matterport_dataset/v1/tasks\n",
      "SPLIT: val_mini\n",
      "TYPE: ObjectNav-v1\n",
      "Loading /data/data/matterport_dataset/v1/tasks/mp3d/x8F5xyUWy9e/x8F5xyUWy9e.glb\n"
     ]
    }
   ],
   "source": [
    "from habitat.datasets.object_nav.object_nav_dataset import ObjectNavDatasetV1\n",
    "\n",
    "from vec_env import init_config\n",
    "i = 0\n",
    "basic_config = init_config()\n",
    "basic_config.defrost()\n",
    "basic_config.DATASET.SPLIT = args.split\n",
    "basic_config.freeze()\n",
    "scenes = ObjectNavDatasetV1.get_scenes_to_load(basic_config.DATASET)\n",
    "scene_split_size = int(np.floor(len(scenes) / args.num_processes))\n",
    "\n",
    "config_env = init_config()\n",
    "config_env.defrost()     \n",
    "if len(scenes) > 0:\n",
    "    config_env.DATASET.CONTENT_SCENES = scenes[i * scene_split_size: (i + 1) * scene_split_size]\n",
    "if i < args.num_processes_on_first_gpu:\n",
    "    gpu_id = 0\n",
    "else:\n",
    "    gpu_id = int((i - args.num_processes_on_first_gpu)\n",
    "                 // args.num_processes_per_gpu) + args.sim_gpu_id\n",
    "gpu_id = min(torch.cuda.device_count() - 1, gpu_id)\n",
    "config_env.SIMULATOR.HABITAT_SIM_V0.GPU_DEVICE_ID = gpu_id\n",
    "agent_sensors = []\n",
    "agent_sensors.append(\"RGB_SENSOR\")\n",
    "agent_sensors.append(\"DEPTH_SENSOR\")\n",
    "config_env.SIMULATOR.AGENT_0.SENSORS = agent_sensors\n",
    "config_env.ENVIRONMENT.MAX_EPISODE_STEPS = args.max_episode_length\n",
    "config_env.ENVIRONMENT.ITERATOR_OPTIONS.SHUFFLE = False\n",
    "config_env.SIMULATOR.RGB_SENSOR.WIDTH = args.env_frame_width\n",
    "config_env.SIMULATOR.RGB_SENSOR.HEIGHT = args.env_frame_height\n",
    "config_env.SIMULATOR.RGB_SENSOR.HFOV = args.hfov\n",
    "config_env.SIMULATOR.RGB_SENSOR.POSITION = [0, args.camera_height, 0]\n",
    "config_env.SIMULATOR.DEPTH_SENSOR.WIDTH = args.env_frame_width\n",
    "config_env.SIMULATOR.DEPTH_SENSOR.HEIGHT = args.env_frame_height\n",
    "config_env.SIMULATOR.DEPTH_SENSOR.HFOV = args.hfov\n",
    "config_env.SIMULATOR.DEPTH_SENSOR.POSITION = [0, args.camera_height, 0]\n",
    "config_env.SIMULATOR.TURN_ANGLE = 10\n",
    "config_env.DATASET.SPLIT = 'val_mini'\n",
    "config_env.DATASET.CONTENT_SCENES = ['*']\n",
    "\n",
    "config_env.TASK.MEASUREMENTS.append(\"TOP_DOWN_MAP\")\n",
    "config_env.TASK.SENSORS.append(\"HEADING_SENSOR\")\n",
    "config_env.SIMULATOR.AGENT_0.SENSORS.append('SEMANTIC_SENSOR')\n",
    "\n",
    "# config_env.DATASET.DATA_PATH = '/data/data/datasets/pointnav/habitat-test-scenes/v1/{split}/{split}.json.gz'\n",
    "# config_env.DATASET.SCENES_DIR = '/data/data/scene_datasets/'\n",
    "\n",
    "config_env.DATASET.SCENES_DIR = '/data/data/matterport_dataset/v1/tasks'\n",
    "config_env.DATASET.DATA_PATH = '/data/data/matterport_dataset/v1/tasks/mp3d-tasks/{split}/{split}.json.gz'\n",
    "\n",
    "# print(config_env.TASK.POINTGOAL_SENSOR)\n",
    "\n",
    "config_env.TASK.MEASUREMENTS = ['DISTANCE_TO_GOAL', 'SPL', 'TOP_DOWN_MAP']\n",
    "\n",
    "\n",
    "print(config_env.DATASET)\n",
    "\n",
    "# print(config_env.DATASET)\n",
    "\n",
    "\n",
    "# config_env.DA\n",
    "config_env.freeze()\n",
    "\n",
    "config_baseline = init_config()\n",
    "\n",
    "from habitat.datasets.object_nav.object_nav_dataset import ObjectNavDatasetV1\n",
    "dataset = ObjectNavDatasetV1(config_env.DATASET)\n",
    "config_env.defrost()\n",
    "config_env.SIMULATOR.SCENE = dataset.episodes[0].scene_id\n",
    "print(\"Loading {}\".format(config_env.SIMULATOR.SCENE))\n",
    "config_env.freeze()\n",
    "rank = range(args.num_processes)"
   ]
  },
  {
   "cell_type": "code",
   "execution_count": 10,
   "metadata": {},
   "outputs": [
    {
     "name": "stdout",
     "output_type": "stream",
     "text": [
      "DATASET:\n",
      "  CONTENT_SCENES: ['*']\n",
      "  DATA_PATH: /data/data/matterport_dataset/v1/tasks/mp3d-tasks/{split}/{split}.json.gz\n",
      "  SCENES_DIR: /data/data/matterport_dataset/v1/tasks\n",
      "  SPLIT: train\n",
      "  TYPE: ObjectNav-v1\n",
      "ENVIRONMENT:\n",
      "  ITERATOR_OPTIONS:\n",
      "    CYCLE: True\n",
      "    GROUP_BY_SCENE: True\n",
      "    MAX_SCENE_REPEAT_EPISODES: -1\n",
      "    MAX_SCENE_REPEAT_STEPS: 10000\n",
      "    NUM_EPISODE_SAMPLE: -1\n",
      "    SHUFFLE: False\n",
      "    STEP_REPETITION_RANGE: 0.2\n",
      "  MAX_EPISODE_SECONDS: 10000000\n",
      "  MAX_EPISODE_STEPS: 500\n",
      "PYROBOT:\n",
      "  BASE_CONTROLLER: proportional\n",
      "  BASE_PLANNER: none\n",
      "  BUMP_SENSOR:\n",
      "    TYPE: PyRobotBumpSensor\n",
      "  DEPTH_SENSOR:\n",
      "    CENTER_CROP: False\n",
      "    HEIGHT: 480\n",
      "    MAX_DEPTH: 5.0\n",
      "    MIN_DEPTH: 0.0\n",
      "    NORMALIZE_DEPTH: True\n",
      "    TYPE: PyRobotDepthSensor\n",
      "    WIDTH: 640\n",
      "  LOCOBOT:\n",
      "    ACTIONS: ['BASE_ACTIONS', 'CAMERA_ACTIONS']\n",
      "    BASE_ACTIONS: ['go_to_relative', 'go_to_absolute']\n",
      "    CAMERA_ACTIONS: ['set_pan', 'set_tilt', 'set_pan_tilt']\n",
      "  RGB_SENSOR:\n",
      "    CENTER_CROP: False\n",
      "    HEIGHT: 480\n",
      "    TYPE: PyRobotRGBSensor\n",
      "    WIDTH: 640\n",
      "  ROBOT: locobot\n",
      "  ROBOTS: ['locobot']\n",
      "  SENSORS: ['RGB_SENSOR', 'DEPTH_SENSOR', 'BUMP_SENSOR']\n",
      "SEED: 100\n",
      "SIMULATOR:\n",
      "  ACTION_SPACE_CONFIG: v1\n",
      "  AGENTS: ['AGENT_0']\n",
      "  AGENT_0:\n",
      "    ANGULAR_ACCELERATION: 12.56\n",
      "    ANGULAR_FRICTION: 1.0\n",
      "    COEFFICIENT_OF_RESTITUTION: 0.0\n",
      "    HEIGHT: 0.88\n",
      "    IS_SET_START_STATE: False\n",
      "    LINEAR_ACCELERATION: 20.0\n",
      "    LINEAR_FRICTION: 0.5\n",
      "    MASS: 32.0\n",
      "    RADIUS: 0.18\n",
      "    SENSORS: ['RGB_SENSOR', 'DEPTH_SENSOR', 'SEMANTIC_SENSOR']\n",
      "    START_POSITION: [0, 0, 0]\n",
      "    START_ROTATION: [0, 0, 0, 1]\n",
      "  DEFAULT_AGENT_ID: 0\n",
      "  DEPTH_SENSOR:\n",
      "    HEIGHT: 480\n",
      "    HFOV: 79\n",
      "    MAX_DEPTH: 5.0\n",
      "    MIN_DEPTH: 0.5\n",
      "    NORMALIZE_DEPTH: True\n",
      "    ORIENTATION: [0.0, 0.0, 0.0]\n",
      "    POSITION: [0, 0.88, 0]\n",
      "    TYPE: HabitatSimDepthSensor\n",
      "    WIDTH: 640\n",
      "  FORWARD_STEP_SIZE: 0.025\n",
      "  HABITAT_SIM_V0:\n",
      "    ALLOW_SLIDING: False\n",
      "    ENABLE_PHYSICS: False\n",
      "    GPU_DEVICE_ID: 0\n",
      "    GPU_GPU: False\n",
      "    PHYSICS_CONFIG_FILE: ./data/default.phys_scene_config.json\n",
      "  RGB_SENSOR:\n",
      "    HEIGHT: 480\n",
      "    HFOV: 79\n",
      "    ORIENTATION: [0.0, 0.0, 0.0]\n",
      "    POSITION: [0, 0.88, 0]\n",
      "    TYPE: HabitatSimRGBSensor\n",
      "    WIDTH: 640\n",
      "  SCENE: data/scene_datasets/habitat-test-scenes/van-gogh-room.glb\n",
      "  SEED: 100\n",
      "  SEMANTIC_SENSOR:\n",
      "    HEIGHT: 480\n",
      "    HFOV: 79\n",
      "    ORIENTATION: [0.0, 0.0, 0.0]\n",
      "    POSITION: [0, 0.88, 0]\n",
      "    TYPE: HabitatSimSemanticSensor\n",
      "    WIDTH: 640\n",
      "  TILT_ANGLE: 0.5\n",
      "  TURN_ANGLE: 0.5\n",
      "  TYPE: Sim-v0\n",
      "TASK:\n",
      "  ACTIONS:\n",
      "    ANSWER:\n",
      "      TYPE: AnswerAction\n",
      "    LOOK_DOWN:\n",
      "      TYPE: LookDownAction\n",
      "    LOOK_UP:\n",
      "      TYPE: LookUpAction\n",
      "    MOVE_FORWARD:\n",
      "      TYPE: MoveForwardAction\n",
      "    STOP:\n",
      "      TYPE: StopAction\n",
      "    TELEPORT:\n",
      "      TYPE: TeleportAction\n",
      "    TURN_LEFT:\n",
      "      TYPE: TurnLeftAction\n",
      "    TURN_RIGHT:\n",
      "      TYPE: TurnRightAction\n",
      "  ANSWER_ACCURACY:\n",
      "    TYPE: AnswerAccuracy\n",
      "  COLLISIONS:\n",
      "    TYPE: Collisions\n",
      "  COMPASS_SENSOR:\n",
      "    TYPE: CompassSensor\n",
      "  CORRECT_ANSWER:\n",
      "    TYPE: CorrectAnswer\n",
      "  DISTANCE_TO_GOAL:\n",
      "    DISTANCE_TO: VIEW_POINTS\n",
      "    TYPE: DistanceToGoal\n",
      "  EPISODE_INFO:\n",
      "    TYPE: EpisodeInfo\n",
      "  GOAL_SENSOR_UUID: objectgoal\n",
      "  GPS_SENSOR:\n",
      "    DIMENSIONALITY: 3\n",
      "    GOAL_FORMAT: CARTESIAN\n",
      "    TYPE: GPSSensor\n",
      "  HEADING_SENSOR:\n",
      "    TYPE: HeadingSensor\n",
      "  INSTRUCTION_SENSOR:\n",
      "    TYPE: InstructionSensor\n",
      "  INSTRUCTION_SENSOR_UUID: instruction\n",
      "  MEASUREMENTS: ['DISTANCE_TO_GOAL', 'SPL', 'TOP_DOWN_MAP']\n",
      "  OBJECTGOAL_SENSOR:\n",
      "    GOAL_SPEC: TASK_CATEGORY_ID\n",
      "    GOAL_SPEC_MAX_VAL: 50\n",
      "    TYPE: ObjectGoalSensor\n",
      "  POSSIBLE_ACTIONS: ['STOP', 'MOVE_FORWARD', 'TURN_LEFT', 'TURN_RIGHT', 'LOOK_UP', 'LOOK_DOWN']\n",
      "  PROXIMITY_SENSOR:\n",
      "    MAX_DETECTION_RADIUS: 2.0\n",
      "    TYPE: ProximitySensor\n",
      "  QUESTION_SENSOR:\n",
      "    TYPE: QuestionSensor\n",
      "  SENSORS: ['OBJECTGOAL_SENSOR', 'COMPASS_SENSOR', 'GPS_SENSOR', 'HEADING_SENSOR']\n",
      "  SPL:\n",
      "    SUCCESS_DISTANCE: 0.2\n",
      "    TYPE: SPL\n",
      "  SUCCESS:\n",
      "    SUCCESS_DISTANCE: 0.1\n",
      "  SUCCESS_DISTANCE: 0.1\n",
      "  TOP_DOWN_MAP:\n",
      "    DRAW_BORDER: True\n",
      "    DRAW_GOAL_AABBS: True\n",
      "    DRAW_GOAL_POSITIONS: True\n",
      "    DRAW_SHORTEST_PATH: True\n",
      "    DRAW_SOURCE: True\n",
      "    DRAW_VIEW_POINTS: True\n",
      "    FOG_OF_WAR:\n",
      "      DRAW: True\n",
      "      FOV: 90\n",
      "      VISIBILITY_DIST: 5.0\n",
      "    MAP_PADDING: 3\n",
      "    MAP_RESOLUTION: 1250\n",
      "    MAX_EPISODE_STEPS: 500\n",
      "    NUM_TOPDOWN_MAP_SAMPLE_POINTS: 20000\n",
      "    TYPE: TopDownMap\n",
      "  TYPE: ObjectNav-v1\n"
     ]
    }
   ],
   "source": [
    "print(config_baseline)"
   ]
  },
  {
   "cell_type": "code",
   "execution_count": 11,
   "metadata": {},
   "outputs": [],
   "source": [
    "def draw():\n",
    "    mapper_gt_pose = (one_env.curr_loc_gt[0]*100.0,\n",
    "                      one_env.curr_loc_gt[1]*100.0,\n",
    "                      np.deg2rad(one_env.curr_loc_gt[2]))\n",
    "    circ = Circle((mapper_gt_pose[0]/args.map_size_cm*500,mapper_gt_pose[1]/args.map_size_cm*500),3,color='white')\n",
    "    circ2 = Circle((mapper_gt_pose[0]/args.map_size_cm*500,mapper_gt_pose[1]/args.map_size_cm*500),3,color='white')\n",
    "    f = plt.figure(figsize=(15,10))\n",
    "    ax = f.add_subplot(231)\n",
    "    ax2 = f.add_subplot(232)\n",
    "    ax3 = f.add_subplot(233)\n",
    "    #ax4 = f.add_subplot(234)\n",
    "    #ax5 = f.add_subplot(235)\n",
    "    ax.set_aspect('equal')\n",
    "    ax2.set_aspect('equal')\n",
    "    ax3.set_aspect('equal')\n",
    "    #ax4.set_aspect('equal')\n",
    "    #ax5.set_aspect('equal')\n",
    "    ax.add_patch(circ)\n",
    "    ax2.add_patch(circ2)\n",
    "    ax.imshow(one_env.map)\n",
    "    ax.set_title('map')\n",
    "    ax2.imshow(one_env.explored_map)\n",
    "    ax2.set_title('explored_map ')\n",
    "    ax2.imshow(one_env.semantic_map)\n",
    "    ax2.set_title('semantic_map ')\n",
    "    ax3.imshow(np.transpose(obs, (1,2,0)))\n",
    "    #ax4.imshow(info['fp_explored'])\n",
    "    #ax4.set_title('fp_explored ')\n",
    "    #ax5.imshow(info['fp_proj'])\n",
    "    #ax5.set_title('fp_proj ')"
   ]
  },
  {
   "cell_type": "code",
   "execution_count": 12,
   "metadata": {},
   "outputs": [
    {
     "name": "stderr",
     "output_type": "stream",
     "text": [
      "2020-04-19 07:48:07,745 initializing sim Sim-v0\n",
      "2020-04-19 07:48:11,598 Initializing task ObjectNav-v1\n"
     ]
    }
   ],
   "source": [
    "from habitat_baselines.common.environments import get_env_class\n",
    "\n",
    "env_class = get_env_class(\"Exploration_Env\")\n",
    "\n",
    "one_env = env_class(args=args, rank=rank,\n",
    "                          config_env=config_env, config_baseline=config_baseline, dataset=dataset)"
   ]
  },
  {
   "cell_type": "code",
   "execution_count": 13,
   "metadata": {},
   "outputs": [
    {
     "data": {
      "text/plain": [
       "{'distance_to_goal': None, 'spl': None, 'top_down_map': None}"
      ]
     },
     "execution_count": 13,
     "metadata": {},
     "output_type": "execute_result"
    }
   ],
   "source": [
    "one_env._env.get_metrics()"
   ]
  },
  {
   "cell_type": "code",
   "execution_count": 15,
   "metadata": {},
   "outputs": [
    {
     "name": "stderr",
     "output_type": "stream",
     "text": [
      "2020-04-19 07:48:25,483 Computing map for /data/data/matterport_dataset/v1/tasks/mp3d/x8F5xyUWy9e/x8F5xyUWy9e.glb\n"
     ]
    },
    {
     "name": "stdout",
     "output_type": "stream",
     "text": [
      "[12.0, 12.0, 0.0]\n",
      "2400\n"
     ]
    }
   ],
   "source": [
    "obs, infos, full_obs = one_env.reset()\n",
    "print(one_env.curr_loc)\n",
    "print(args.map_size_cm)"
   ]
  },
  {
   "cell_type": "code",
   "execution_count": 16,
   "metadata": {},
   "outputs": [],
   "source": [
    "import habitat.utils.visualizations.maps as kek"
   ]
  },
  {
   "cell_type": "code",
   "execution_count": 17,
   "metadata": {},
   "outputs": [],
   "source": [
    "from habitat.utils.visualizations import maps\n",
    "from habitat.core.utils import try_cv2_import\n",
    "\n",
    "cv2 = try_cv2_import()\n",
    "\n",
    "def draw_top_down_map(info, heading, output_size):\n",
    "    top_down_map = maps.colorize_topdown_map(\n",
    "        info[\"top_down_map\"][\"map\"], info[\"top_down_map\"][\"fog_of_war_mask\"]\n",
    "    )\n",
    "    original_map_size = top_down_map.shape[:2]\n",
    "    map_scale = np.array(\n",
    "        (1, original_map_size[1] * 1.0 / original_map_size[0])\n",
    "    )\n",
    "    new_map_size = np.round(output_size * map_scale).astype(np.int32)\n",
    "    # OpenCV expects w, h but map size is in h, w\n",
    "    top_down_map = cv2.resize(top_down_map, (new_map_size[1], new_map_size[0]))\n",
    "\n",
    "    map_agent_pos = info[\"top_down_map\"][\"agent_map_coord\"]\n",
    "    map_agent_pos = np.round(\n",
    "        map_agent_pos * new_map_size / original_map_size\n",
    "    ).astype(np.int32)\n",
    "#     top_down_map = maps.draw_agent(\n",
    "#         top_down_map,\n",
    "#         map_agent_pos,\n",
    "#         heading - np.pi / 2,\n",
    "#         agent_radius_px=top_down_map.shape[0] / 40,\n",
    "#     )\n",
    "    return top_down_map"
   ]
  },
  {
   "cell_type": "code",
   "execution_count": 18,
   "metadata": {},
   "outputs": [
    {
     "ename": "NameError",
     "evalue": "name 'full_info' is not defined",
     "output_type": "error",
     "traceback": [
      "\u001b[0;31m---------------------------------------------------------------------------\u001b[0m",
      "\u001b[0;31mNameError\u001b[0m                                 Traceback (most recent call last)",
      "\u001b[0;32m<ipython-input-18-a1bb7c76e823>\u001b[0m in \u001b[0;36m<module>\u001b[0;34m\u001b[0m\n\u001b[0;32m----> 1\u001b[0;31m \u001b[0mm\u001b[0m \u001b[0;34m=\u001b[0m \u001b[0mdraw_top_down_map\u001b[0m\u001b[0;34m(\u001b[0m\u001b[0mfull_info\u001b[0m\u001b[0;34m,\u001b[0m \u001b[0mfull_obs\u001b[0m\u001b[0;34m[\u001b[0m\u001b[0;34m'heading'\u001b[0m\u001b[0;34m]\u001b[0m\u001b[0;34m,\u001b[0m \u001b[0;36m480\u001b[0m\u001b[0;34m)\u001b[0m\u001b[0;34m\u001b[0m\u001b[0;34m\u001b[0m\u001b[0m\n\u001b[0m\u001b[1;32m      2\u001b[0m \u001b[0;34m\u001b[0m\u001b[0m\n\u001b[1;32m      3\u001b[0m \u001b[0mplt\u001b[0m\u001b[0;34m.\u001b[0m\u001b[0mimshow\u001b[0m\u001b[0;34m(\u001b[0m\u001b[0mm\u001b[0m\u001b[0;34m)\u001b[0m\u001b[0;34m\u001b[0m\u001b[0;34m\u001b[0m\u001b[0m\n",
      "\u001b[0;31mNameError\u001b[0m: name 'full_info' is not defined"
     ]
    }
   ],
   "source": [
    "m = draw_top_down_map(full_info, full_obs['heading'], 480)\n",
    "\n",
    "plt.imshow(m)"
   ]
  },
  {
   "cell_type": "code",
   "execution_count": 15,
   "metadata": {},
   "outputs": [
    {
     "ename": "NameError",
     "evalue": "name 'full_info' is not defined",
     "output_type": "error",
     "traceback": [
      "\u001b[0;31m---------------------------------------------------------------------------\u001b[0m",
      "\u001b[0;31mNameError\u001b[0m                                 Traceback (most recent call last)",
      "\u001b[0;32m<ipython-input-15-78b1806eeb42>\u001b[0m in \u001b[0;36m<module>\u001b[0;34m\u001b[0m\n\u001b[0;32m----> 1\u001b[0;31m \u001b[0mn\u001b[0m \u001b[0;34m=\u001b[0m \u001b[0mfull_info\u001b[0m\u001b[0;34m[\u001b[0m\u001b[0;34m'top_down_map'\u001b[0m\u001b[0;34m]\u001b[0m\u001b[0;34m[\u001b[0m\u001b[0;34m'map'\u001b[0m\u001b[0;34m]\u001b[0m\u001b[0;34m\u001b[0m\u001b[0;34m\u001b[0m\u001b[0m\n\u001b[0m\u001b[1;32m      2\u001b[0m \u001b[0;34m\u001b[0m\u001b[0m\n\u001b[1;32m      3\u001b[0m \u001b[0mprint\u001b[0m\u001b[0;34m(\u001b[0m\u001b[0mn\u001b[0m \u001b[0;34m==\u001b[0m \u001b[0;36m9\u001b[0m\u001b[0;34m)\u001b[0m\u001b[0;34m\u001b[0m\u001b[0;34m\u001b[0m\u001b[0m\n\u001b[1;32m      4\u001b[0m \u001b[0;34m\u001b[0m\u001b[0m\n\u001b[1;32m      5\u001b[0m \u001b[0mplt\u001b[0m\u001b[0;34m.\u001b[0m\u001b[0mimshow\u001b[0m\u001b[0;34m(\u001b[0m\u001b[0mn\u001b[0m \u001b[0;34m==\u001b[0m \u001b[0;36m6\u001b[0m\u001b[0;34m)\u001b[0m\u001b[0;34m\u001b[0m\u001b[0;34m\u001b[0m\u001b[0m\n",
      "\u001b[0;31mNameError\u001b[0m: name 'full_info' is not defined"
     ]
    }
   ],
   "source": [
    "n = full_info['top_down_map']['map']\n",
    "\n",
    "print(n == 9) \n",
    "\n",
    "plt.imshow(n == 6)"
   ]
  },
  {
   "cell_type": "code",
   "execution_count": 19,
   "metadata": {},
   "outputs": [
    {
     "name": "stdout",
     "output_type": "stream",
     "text": [
      "dict_keys(['rgb', 'depth', 'semantic', 'objectgoal', 'compass', 'gps', 'heading'])\n"
     ]
    }
   ],
   "source": [
    "print(full_obs.keys())\n",
    "\n",
    "scene = one_env._env._sim.semantic_annotations()\n",
    "instance_id_to_label_id = {int(obj.id.split(\"_\")[-1]): obj.category.index() for obj in scene.objects}\n",
    "mapping = np.array([ instance_id_to_label_id[i] for i in range(len(instance_id_to_label_id)) ])"
   ]
  },
  {
   "cell_type": "code",
   "execution_count": 20,
   "metadata": {},
   "outputs": [],
   "source": [
    "scene = one_env._env._sim.semantic_annotations()\n",
    "index_to_title_map = {obj.category.index(): obj.category.name() for obj in scene.objects }\n",
    "index_to_title_map[-1] = 'nope'"
   ]
  },
  {
   "cell_type": "code",
   "execution_count": 19,
   "metadata": {},
   "outputs": [
    {
     "data": {
      "text/plain": [
       "'towel'"
      ]
     },
     "execution_count": 19,
     "metadata": {},
     "output_type": "execute_result"
    }
   ],
   "source": [
    "one_env._env.current_episode.goals[0].object_category"
   ]
  },
  {
   "cell_type": "code",
   "execution_count": 19,
   "metadata": {},
   "outputs": [
    {
     "data": {
      "text/plain": [
       "40"
      ]
     },
     "execution_count": 19,
     "metadata": {},
     "output_type": "execute_result"
    }
   ],
   "source": [
    "one_env._env._sim.semantic_annotations().objects[1].category.index()"
   ]
  },
  {
   "cell_type": "code",
   "execution_count": 20,
   "metadata": {},
   "outputs": [
    {
     "ename": "NameError",
     "evalue": "name 'mapping' is not defined",
     "output_type": "error",
     "traceback": [
      "\u001b[0;31m---------------------------------------------------------------------------\u001b[0m",
      "\u001b[0;31mNameError\u001b[0m                                 Traceback (most recent call last)",
      "\u001b[0;32m<ipython-input-20-b58bbeeab1ef>\u001b[0m in \u001b[0;36m<module>\u001b[0;34m\u001b[0m\n\u001b[0;32m----> 1\u001b[0;31m \u001b[0mplt\u001b[0m\u001b[0;34m.\u001b[0m\u001b[0mimshow\u001b[0m\u001b[0;34m(\u001b[0m\u001b[0mnp\u001b[0m\u001b[0;34m.\u001b[0m\u001b[0mtake\u001b[0m\u001b[0;34m(\u001b[0m\u001b[0mmapping\u001b[0m\u001b[0;34m,\u001b[0m \u001b[0mfull_obs\u001b[0m\u001b[0;34m[\u001b[0m\u001b[0;34m'semantic'\u001b[0m\u001b[0;34m]\u001b[0m\u001b[0;34m)\u001b[0m\u001b[0;34m)\u001b[0m\u001b[0;34m\u001b[0m\u001b[0;34m\u001b[0m\u001b[0m\n\u001b[0m\u001b[1;32m      2\u001b[0m \u001b[0;34m\u001b[0m\u001b[0m\n\u001b[1;32m      3\u001b[0m \u001b[0mlalka\u001b[0m \u001b[0;34m=\u001b[0m \u001b[0mdict\u001b[0m\u001b[0;34m(\u001b[0m\u001b[0;34m)\u001b[0m\u001b[0;34m\u001b[0m\u001b[0;34m\u001b[0m\u001b[0m\n\u001b[1;32m      4\u001b[0m \u001b[0;34m\u001b[0m\u001b[0m\n\u001b[1;32m      5\u001b[0m \u001b[0;32mfor\u001b[0m \u001b[0mline\u001b[0m \u001b[0;32min\u001b[0m \u001b[0mnp\u001b[0m\u001b[0;34m.\u001b[0m\u001b[0mtake\u001b[0m\u001b[0;34m(\u001b[0m\u001b[0mmapping\u001b[0m\u001b[0;34m,\u001b[0m \u001b[0mfull_obs\u001b[0m\u001b[0;34m[\u001b[0m\u001b[0;34m'semantic'\u001b[0m\u001b[0;34m]\u001b[0m\u001b[0;34m)\u001b[0m\u001b[0;34m:\u001b[0m\u001b[0;34m\u001b[0m\u001b[0;34m\u001b[0m\u001b[0m\n",
      "\u001b[0;31mNameError\u001b[0m: name 'mapping' is not defined"
     ]
    }
   ],
   "source": [
    "plt.imshow(np.take(mapping, full_obs['semantic']))\n",
    "\n",
    "lalka = dict()\n",
    "\n",
    "for line in np.take(mapping, full_obs['semantic']):\n",
    "    for el in line:\n",
    "        if index_to_title_map[el] in lalka:\n",
    "            lalka[index_to_title_map[el]] += 1\n",
    "        else:\n",
    "            lalka[index_to_title_map[el]] = 1 \n",
    "\n",
    "print(lalka)"
   ]
  },
  {
   "cell_type": "code",
   "execution_count": 39,
   "metadata": {},
   "outputs": [
    {
     "data": {
      "image/png": "[encoded data removed]",
      "text/plain": [
       "<Figure size 432x288 with 1 Axes>"
      ]
     },
     "metadata": {
      "needs_background": "light"
     },
     "output_type": "display_data"
    },
    {
     "data": {
      "image/png": "[encoded data removed]",
      "text/plain": [
       "<Figure size 432x288 with 1 Axes>"
      ]
     },
     "metadata": {
      "needs_background": "light"
     },
     "output_type": "display_data"
    },
    {
     "data": {
      "image/png": "[encoded data removed]",
      "text/plain": [
       "<Figure size 1080x720 with 3 Axes>"
      ]
     },
     "metadata": {
      "needs_background": "light"
     },
     "output_type": "display_data"
    }
   ],
   "source": [
    "actions = ['TURN_RIGHT', 'TURN_LEFT', 'MOVE_FORWARD']\n",
    "\n",
    "for i in range(3):\n",
    "    obs, reward, done, info, full_obs, full_info = one_env.step('TURN_LEFT')\n",
    "m = draw_top_down_map(full_info, full_obs['heading'], 480)\n",
    "plt.imshow(m)\n",
    "plt.show()\n",
    "plt.imshow(info['semantic_fp_proj'])\n",
    "# plt.imshow(kek.get_topdown_map(one_env._env._sim))\n",
    "draw()"
   ]
  },
  {
   "cell_type": "code",
   "execution_count": 45,
   "metadata": {},
   "outputs": [
    {
     "name": "stdout",
     "output_type": "stream",
     "text": [
      "(480, 640)\n"
     ]
    },
    {
     "data": {
      "text/plain": [
       "array([0., 0., 0., 0., 0., 0., 0., 0., 0., 0., 0., 0., 0., 0., 0., 0., 0.,\n",
       "       0., 0., 0., 0., 0., 0., 0., 0., 0., 0., 0., 0., 0., 0., 0., 0., 0.,\n",
       "       0., 0., 0., 0., 0., 0., 0., 0., 0., 0., 0., 0., 0., 0., 0., 0., 0.,\n",
       "       0., 0., 0., 0., 0., 0., 0., 0., 0., 0., 0., 0., 0., 0., 0., 0., 0.,\n",
       "       0., 0., 0., 0., 0., 0., 0., 0., 0., 0., 0., 0., 0., 0., 0., 0., 0.,\n",
       "       0., 0., 0., 0., 0., 0., 0., 0., 0., 0., 0., 0., 0., 0., 0., 0., 0.,\n",
       "       0., 0., 0., 0., 0., 0., 0., 0., 0., 0., 0., 0., 0., 0., 0., 0., 0.,\n",
       "       0., 0., 0., 0., 0., 0., 0., 0., 0., 0., 0., 0., 0., 0., 0., 0., 0.,\n",
       "       0., 0., 0., 0., 0., 0., 0., 0., 0., 0., 0., 0., 0., 0., 0., 0., 0.,\n",
       "       0., 0., 0., 0., 0., 0., 0., 0., 0., 0., 0., 0., 0., 0., 0., 0., 0.,\n",
       "       0., 0., 0., 0., 0., 0., 0., 0., 0., 0., 0., 0., 0., 0., 0., 0., 0.,\n",
       "       0., 0., 0., 0., 0., 0., 0., 0., 0., 0., 0., 0., 0., 0., 0., 0., 0.,\n",
       "       0., 0., 0., 0., 0., 0., 0., 0., 0., 0., 0., 0., 0., 0., 0., 0., 0.,\n",
       "       0., 0., 0., 0., 0., 0., 0., 0., 0., 0., 0., 0., 0., 0., 0., 0., 0.,\n",
       "       0., 0., 0., 0., 0., 0., 0., 0., 0., 0., 0., 0., 0., 0., 0., 0., 0.,\n",
       "       0., 0., 0., 0., 0., 0., 0., 0., 0., 0., 0., 0., 0., 0., 0., 0., 0.,\n",
       "       0., 0., 0., 0., 0., 0., 0., 0., 0., 0., 0., 0., 0., 0., 0., 0., 0.,\n",
       "       0., 0., 0., 0., 0., 0., 0., 0., 0., 0., 0., 0., 0., 0., 0., 0., 0.,\n",
       "       0., 0., 0., 0., 0., 0., 0., 0., 0., 0., 0., 0., 0., 0., 0., 0., 0.,\n",
       "       0., 0., 0., 0., 0., 0., 0., 0., 0., 0., 0., 0., 0., 0., 0., 0., 0.,\n",
       "       0., 0., 0., 0., 0., 0., 0., 0., 0., 0., 0., 0., 0., 0., 0., 0., 0.,\n",
       "       0., 0., 0., 0., 0., 0., 0., 0., 0., 0., 0., 0., 0., 0., 0., 0., 0.,\n",
       "       0., 0., 0., 0., 0., 0., 0., 0., 0., 0., 0., 0., 0., 0., 0., 0., 0.,\n",
       "       0., 0., 0., 0., 0., 0., 0., 0., 0., 0., 0., 0., 0., 0., 0., 0., 0.,\n",
       "       0., 0., 0., 0., 0., 0., 0., 0., 0., 0., 0., 0., 0., 0., 0., 0., 0.,\n",
       "       0., 0., 0., 0., 0., 0., 0., 0., 0., 0., 0., 0., 0., 0., 0., 0., 0.,\n",
       "       0., 0., 0., 0., 0., 0., 0., 0., 0., 0., 0., 0., 0., 0., 0., 0., 0.,\n",
       "       0., 0., 0., 0., 0., 0., 0., 0., 0., 0., 0., 0., 0., 0., 0., 0., 0.,\n",
       "       0., 0., 0., 0., 0., 0., 0., 0., 0., 0., 0., 0., 0., 0., 0., 0., 0.,\n",
       "       0., 0., 0., 0., 0., 0., 0., 0., 0., 0., 0., 0., 0., 0., 0., 0., 0.,\n",
       "       0., 0., 0., 0., 0., 0., 0., 0., 0., 0., 0., 0., 0., 0., 0., 0., 0.,\n",
       "       0., 0., 0., 0., 0., 0., 0., 0., 0., 0., 0., 0., 0., 0., 0., 0., 0.,\n",
       "       0., 0., 0., 0., 0., 0., 0., 0., 0., 0., 0., 0., 0., 0., 0., 0., 0.,\n",
       "       0., 0., 0., 0., 0., 0., 0., 0., 0., 0., 0., 0., 0., 0., 0., 0., 0.,\n",
       "       0., 0., 0., 0., 0., 0., 0., 0., 0., 0., 0., 0., 0., 0., 0., 0., 0.,\n",
       "       0., 0., 0., 0., 0., 0., 0., 0., 0., 0., 0., 0., 0., 0., 0., 0., 0.,\n",
       "       0., 0., 0., 0., 0., 0., 0., 0., 0., 0., 0., 0., 0., 0., 0., 0., 0.,\n",
       "       0., 0., 0., 0., 0., 0., 0., 0., 0., 0., 0.], dtype=float32)"
      ]
     },
     "execution_count": 45,
     "metadata": {},
     "output_type": "execute_result"
    }
   ],
   "source": [
    "kek = np.take(mapping, full_obs['semantic'])\n",
    "g = one_env._env.current_episode.goals[0].object_category\n",
    "\n",
    "print(kek.shape)\n",
    "\n",
    "((kek == objectgoal_mapping[g]) * full_obs['depth'][:,:,0])[51]"
   ]
  },
  {
   "cell_type": "code",
   "execution_count": 38,
   "metadata": {},
   "outputs": [],
   "source": [
    "scene = one_env._env._sim.semantic_annotations()\n",
    "instance_id_to_label_id = {int(obj.id.split(\"_\")[-1]): obj.category.index() for obj in scene.objects}\n",
    "        \n",
    "mapping = np.array([ instance_id_to_label_id[i] for i in range(len(instance_id_to_label_id)) ])\n",
    "objectgoal_mapping = {obj.category.name(): obj.category.index() for obj in scene.objects }"
   ]
  },
  {
   "cell_type": "markdown",
   "metadata": {},
   "source": [
    "# Multiple env"
   ]
  },
  {
   "cell_type": "code",
   "execution_count": 6,
   "metadata": {},
   "outputs": [],
   "source": [
    "def init_map_and_pose():\n",
    "    full_map.fill_(0.)\n",
    "    full_pose.fill_(0.)\n",
    "    full_pose[:, :2] = args.map_size_cm / 100.0 / 2.0\n",
    "\n",
    "    locs = full_pose.cpu().numpy()\n",
    "    planner_pose_inputs[:, :3] = locs\n",
    "    for e in range(num_scenes):\n",
    "        r, c = locs[e, 1], locs[e, 0]\n",
    "        loc_r, loc_c = [int(r * 100.0 / args.map_resolution),\n",
    "                        int(c * 100.0 / args.map_resolution)]\n",
    "\n",
    "        full_map[e, 2:, loc_r - 1:loc_r + 2, loc_c - 1:loc_c + 2] = 1.0\n",
    "\n",
    "        lmb[e] = get_local_map_boundaries((loc_r, loc_c),\n",
    "                                          (local_w, local_h),\n",
    "                                          (full_w, full_h), args)\n",
    "\n",
    "        planner_pose_inputs[e, 3:] = lmb[e]\n",
    "        origins[e] = [lmb[e][2] * args.map_resolution / 100.0,\n",
    "                      lmb[e][0] * args.map_resolution / 100.0, 0.]\n",
    "\n",
    "    for e in range(num_scenes):\n",
    "        local_map[e] = full_map[e, :, lmb[e, 0]:lmb[e, 1], lmb[e, 2]:lmb[e, 3]]\n",
    "        local_pose[e] = full_pose[e] - \\\n",
    "                        torch.from_numpy(origins[e]).to(device).float()"
   ]
  },
  {
   "cell_type": "code",
   "execution_count": 9,
   "metadata": {},
   "outputs": [
    {
     "name": "stdout",
     "output_type": "stream",
     "text": [
      "56\n"
     ]
    },
    {
     "ename": "ValueError",
     "evalue": "too many values to unpack (expected 2)",
     "output_type": "error",
     "traceback": [
      "\u001b[0;31m---------------------------------------------------------------------------\u001b[0m",
      "\u001b[0;31mValueError\u001b[0m                                Traceback (most recent call last)",
      "\u001b[0;32m<ipython-input-9-1bd580655625>\u001b[0m in \u001b[0;36m<module>\u001b[0;34m\u001b[0m\n\u001b[1;32m      1\u001b[0m \u001b[0mtorch\u001b[0m\u001b[0;34m.\u001b[0m\u001b[0mset_num_threads\u001b[0m\u001b[0;34m(\u001b[0m\u001b[0;36m1\u001b[0m\u001b[0;34m)\u001b[0m\u001b[0;34m\u001b[0m\u001b[0;34m\u001b[0m\u001b[0m\n\u001b[1;32m      2\u001b[0m \u001b[0menvs\u001b[0m \u001b[0;34m=\u001b[0m \u001b[0mmake_vec_envs\u001b[0m\u001b[0;34m(\u001b[0m\u001b[0margs\u001b[0m\u001b[0;34m)\u001b[0m\u001b[0;34m\u001b[0m\u001b[0;34m\u001b[0m\u001b[0m\n\u001b[0;32m----> 3\u001b[0;31m \u001b[0menvs\u001b[0m\u001b[0;34m.\u001b[0m\u001b[0mreset\u001b[0m\u001b[0;34m(\u001b[0m\u001b[0;34m)\u001b[0m\u001b[0;34m\u001b[0m\u001b[0;34m\u001b[0m\u001b[0m\n\u001b[0m",
      "\u001b[0;32m~/ANM/env.py\u001b[0m in \u001b[0;36mreset\u001b[0;34m(self)\u001b[0m\n\u001b[1;32m     44\u001b[0m \u001b[0;34m\u001b[0m\u001b[0m\n\u001b[1;32m     45\u001b[0m     \u001b[0;32mdef\u001b[0m \u001b[0mreset\u001b[0m\u001b[0;34m(\u001b[0m\u001b[0mself\u001b[0m\u001b[0;34m)\u001b[0m\u001b[0;34m:\u001b[0m\u001b[0;34m\u001b[0m\u001b[0;34m\u001b[0m\u001b[0m\n\u001b[0;32m---> 46\u001b[0;31m         \u001b[0mobs\u001b[0m\u001b[0;34m,\u001b[0m \u001b[0minfo\u001b[0m\u001b[0;34m,\u001b[0m \u001b[0mfull_obs\u001b[0m \u001b[0;34m=\u001b[0m \u001b[0mself\u001b[0m\u001b[0;34m.\u001b[0m\u001b[0mvenv\u001b[0m\u001b[0;34m.\u001b[0m\u001b[0mreset\u001b[0m\u001b[0;34m(\u001b[0m\u001b[0;34m)\u001b[0m\u001b[0;34m\u001b[0m\u001b[0;34m\u001b[0m\u001b[0m\n\u001b[0m\u001b[1;32m     47\u001b[0m         \u001b[0mobs\u001b[0m \u001b[0;34m=\u001b[0m \u001b[0mtorch\u001b[0m\u001b[0;34m.\u001b[0m\u001b[0mfrom_numpy\u001b[0m\u001b[0;34m(\u001b[0m\u001b[0mobs\u001b[0m\u001b[0;34m)\u001b[0m\u001b[0;34m.\u001b[0m\u001b[0mfloat\u001b[0m\u001b[0;34m(\u001b[0m\u001b[0;34m)\u001b[0m\u001b[0;34m.\u001b[0m\u001b[0mto\u001b[0m\u001b[0;34m(\u001b[0m\u001b[0mself\u001b[0m\u001b[0;34m.\u001b[0m\u001b[0mdevice\u001b[0m\u001b[0;34m)\u001b[0m\u001b[0;34m\u001b[0m\u001b[0;34m\u001b[0m\u001b[0m\n\u001b[1;32m     48\u001b[0m         \u001b[0;32mreturn\u001b[0m \u001b[0mobs\u001b[0m\u001b[0;34m,\u001b[0m \u001b[0minfo\u001b[0m\u001b[0;34m,\u001b[0m \u001b[0mfull_obs\u001b[0m\u001b[0;34m\u001b[0m\u001b[0;34m\u001b[0m\u001b[0m\n",
      "\u001b[0;32m~/ANM/vec_env.py\u001b[0m in \u001b[0;36mreset\u001b[0;34m(self)\u001b[0m\n\u001b[1;32m    466\u001b[0m         \u001b[0;32mfor\u001b[0m \u001b[0mread_fn\u001b[0m \u001b[0;32min\u001b[0m \u001b[0mself\u001b[0m\u001b[0;34m.\u001b[0m\u001b[0m_connection_read_fns\u001b[0m\u001b[0;34m:\u001b[0m\u001b[0;34m\u001b[0m\u001b[0;34m\u001b[0m\u001b[0m\n\u001b[1;32m    467\u001b[0m             \u001b[0mresults\u001b[0m\u001b[0;34m.\u001b[0m\u001b[0mappend\u001b[0m\u001b[0;34m(\u001b[0m\u001b[0mread_fn\u001b[0m\u001b[0;34m(\u001b[0m\u001b[0;34m)\u001b[0m\u001b[0;34m)\u001b[0m\u001b[0;34m\u001b[0m\u001b[0;34m\u001b[0m\u001b[0m\n\u001b[0;32m--> 468\u001b[0;31m         \u001b[0mobs\u001b[0m\u001b[0;34m,\u001b[0m \u001b[0minfos\u001b[0m \u001b[0;34m=\u001b[0m \u001b[0mzip\u001b[0m\u001b[0;34m(\u001b[0m\u001b[0;34m*\u001b[0m\u001b[0mresults\u001b[0m\u001b[0;34m)\u001b[0m\u001b[0;34m\u001b[0m\u001b[0;34m\u001b[0m\u001b[0m\n\u001b[0m\u001b[1;32m    469\u001b[0m \u001b[0;34m\u001b[0m\u001b[0m\n\u001b[1;32m    470\u001b[0m         \u001b[0mself\u001b[0m\u001b[0;34m.\u001b[0m\u001b[0m_is_waiting\u001b[0m \u001b[0;34m=\u001b[0m \u001b[0;32mFalse\u001b[0m\u001b[0;34m\u001b[0m\u001b[0;34m\u001b[0m\u001b[0m\n",
      "\u001b[0;31mValueError\u001b[0m: too many values to unpack (expected 2)"
     ]
    }
   ],
   "source": [
    "torch.set_num_threads(1)\n",
    "envs = make_vec_envs(args)\n",
    "envs.reset()"
   ]
  },
  {
   "cell_type": "code",
   "execution_count": 10,
   "metadata": {},
   "outputs": [
    {
     "ename": "BrokenPipeError",
     "evalue": "[Errno 32] Broken pipe",
     "output_type": "error",
     "traceback": [
      "\u001b[0;31m---------------------------------------------------------------------------\u001b[0m",
      "\u001b[0;31mBrokenPipeError\u001b[0m                           Traceback (most recent call last)",
      "\u001b[0;32m<ipython-input-10-29271d28a873>\u001b[0m in \u001b[0;36m<module>\u001b[0;34m\u001b[0m\n\u001b[0;32m----> 1\u001b[0;31m \u001b[0menvs\u001b[0m\u001b[0;34m.\u001b[0m\u001b[0mvenv\u001b[0m\u001b[0;34m.\u001b[0m\u001b[0mcurrent_episodes\u001b[0m\u001b[0;34m(\u001b[0m\u001b[0;34m)\u001b[0m\u001b[0;34m\u001b[0m\u001b[0;34m\u001b[0m\u001b[0m\n\u001b[0m",
      "\u001b[0;32m~/ANM/vec_env.py\u001b[0m in \u001b[0;36mcurrent_episodes\u001b[0;34m(self)\u001b[0m\n\u001b[1;32m    437\u001b[0m         \u001b[0mself\u001b[0m\u001b[0;34m.\u001b[0m\u001b[0m_is_waiting\u001b[0m \u001b[0;34m=\u001b[0m \u001b[0;32mTrue\u001b[0m\u001b[0;34m\u001b[0m\u001b[0;34m\u001b[0m\u001b[0m\n\u001b[1;32m    438\u001b[0m         \u001b[0;32mfor\u001b[0m \u001b[0mwrite_fn\u001b[0m \u001b[0;32min\u001b[0m \u001b[0mself\u001b[0m\u001b[0;34m.\u001b[0m\u001b[0m_connection_write_fns\u001b[0m\u001b[0;34m:\u001b[0m\u001b[0;34m\u001b[0m\u001b[0;34m\u001b[0m\u001b[0m\n\u001b[0;32m--> 439\u001b[0;31m             \u001b[0mwrite_fn\u001b[0m\u001b[0;34m(\u001b[0m\u001b[0;34m(\u001b[0m\u001b[0mEPISODE_COMMAND\u001b[0m\u001b[0;34m,\u001b[0m \u001b[0;32mNone\u001b[0m\u001b[0;34m)\u001b[0m\u001b[0;34m)\u001b[0m\u001b[0;34m\u001b[0m\u001b[0;34m\u001b[0m\u001b[0m\n\u001b[0m\u001b[1;32m    440\u001b[0m         \u001b[0mresults\u001b[0m \u001b[0;34m=\u001b[0m \u001b[0;34m[\u001b[0m\u001b[0;34m]\u001b[0m\u001b[0;34m\u001b[0m\u001b[0;34m\u001b[0m\u001b[0m\n\u001b[1;32m    441\u001b[0m         \u001b[0;32mfor\u001b[0m \u001b[0mread_fn\u001b[0m \u001b[0;32min\u001b[0m \u001b[0mself\u001b[0m\u001b[0;34m.\u001b[0m\u001b[0m_connection_read_fns\u001b[0m\u001b[0;34m:\u001b[0m\u001b[0;34m\u001b[0m\u001b[0;34m\u001b[0m\u001b[0m\n",
      "\u001b[0;32m/opt/conda/envs/habitat/lib/python3.6/multiprocessing/connection.py\u001b[0m in \u001b[0;36msend\u001b[0;34m(self, obj)\u001b[0m\n\u001b[1;32m    204\u001b[0m         \u001b[0mself\u001b[0m\u001b[0;34m.\u001b[0m\u001b[0m_check_closed\u001b[0m\u001b[0;34m(\u001b[0m\u001b[0;34m)\u001b[0m\u001b[0;34m\u001b[0m\u001b[0;34m\u001b[0m\u001b[0m\n\u001b[1;32m    205\u001b[0m         \u001b[0mself\u001b[0m\u001b[0;34m.\u001b[0m\u001b[0m_check_writable\u001b[0m\u001b[0;34m(\u001b[0m\u001b[0;34m)\u001b[0m\u001b[0;34m\u001b[0m\u001b[0;34m\u001b[0m\u001b[0m\n\u001b[0;32m--> 206\u001b[0;31m         \u001b[0mself\u001b[0m\u001b[0;34m.\u001b[0m\u001b[0m_send_bytes\u001b[0m\u001b[0;34m(\u001b[0m\u001b[0m_ForkingPickler\u001b[0m\u001b[0;34m.\u001b[0m\u001b[0mdumps\u001b[0m\u001b[0;34m(\u001b[0m\u001b[0mobj\u001b[0m\u001b[0;34m)\u001b[0m\u001b[0;34m)\u001b[0m\u001b[0;34m\u001b[0m\u001b[0;34m\u001b[0m\u001b[0m\n\u001b[0m\u001b[1;32m    207\u001b[0m \u001b[0;34m\u001b[0m\u001b[0m\n\u001b[1;32m    208\u001b[0m     \u001b[0;32mdef\u001b[0m \u001b[0mrecv_bytes\u001b[0m\u001b[0;34m(\u001b[0m\u001b[0mself\u001b[0m\u001b[0;34m,\u001b[0m \u001b[0mmaxlength\u001b[0m\u001b[0;34m=\u001b[0m\u001b[0;32mNone\u001b[0m\u001b[0;34m)\u001b[0m\u001b[0;34m:\u001b[0m\u001b[0;34m\u001b[0m\u001b[0;34m\u001b[0m\u001b[0m\n",
      "\u001b[0;32m/opt/conda/envs/habitat/lib/python3.6/multiprocessing/connection.py\u001b[0m in \u001b[0;36m_send_bytes\u001b[0;34m(self, buf)\u001b[0m\n\u001b[1;32m    402\u001b[0m             \u001b[0;31m# Also note we want to avoid sending a 0-length buffer separately,\u001b[0m\u001b[0;34m\u001b[0m\u001b[0;34m\u001b[0m\u001b[0;34m\u001b[0m\u001b[0m\n\u001b[1;32m    403\u001b[0m             \u001b[0;31m# to avoid \"broken pipe\" errors if the other end closed the pipe.\u001b[0m\u001b[0;34m\u001b[0m\u001b[0;34m\u001b[0m\u001b[0;34m\u001b[0m\u001b[0m\n\u001b[0;32m--> 404\u001b[0;31m             \u001b[0mself\u001b[0m\u001b[0;34m.\u001b[0m\u001b[0m_send\u001b[0m\u001b[0;34m(\u001b[0m\u001b[0mheader\u001b[0m \u001b[0;34m+\u001b[0m \u001b[0mbuf\u001b[0m\u001b[0;34m)\u001b[0m\u001b[0;34m\u001b[0m\u001b[0;34m\u001b[0m\u001b[0m\n\u001b[0m\u001b[1;32m    405\u001b[0m \u001b[0;34m\u001b[0m\u001b[0m\n\u001b[1;32m    406\u001b[0m     \u001b[0;32mdef\u001b[0m \u001b[0m_recv_bytes\u001b[0m\u001b[0;34m(\u001b[0m\u001b[0mself\u001b[0m\u001b[0;34m,\u001b[0m \u001b[0mmaxsize\u001b[0m\u001b[0;34m=\u001b[0m\u001b[0;32mNone\u001b[0m\u001b[0;34m)\u001b[0m\u001b[0;34m:\u001b[0m\u001b[0;34m\u001b[0m\u001b[0;34m\u001b[0m\u001b[0m\n",
      "\u001b[0;32m/opt/conda/envs/habitat/lib/python3.6/multiprocessing/connection.py\u001b[0m in \u001b[0;36m_send\u001b[0;34m(self, buf, write)\u001b[0m\n\u001b[1;32m    366\u001b[0m         \u001b[0mremaining\u001b[0m \u001b[0;34m=\u001b[0m \u001b[0mlen\u001b[0m\u001b[0;34m(\u001b[0m\u001b[0mbuf\u001b[0m\u001b[0;34m)\u001b[0m\u001b[0;34m\u001b[0m\u001b[0;34m\u001b[0m\u001b[0m\n\u001b[1;32m    367\u001b[0m         \u001b[0;32mwhile\u001b[0m \u001b[0;32mTrue\u001b[0m\u001b[0;34m:\u001b[0m\u001b[0;34m\u001b[0m\u001b[0;34m\u001b[0m\u001b[0m\n\u001b[0;32m--> 368\u001b[0;31m             \u001b[0mn\u001b[0m \u001b[0;34m=\u001b[0m \u001b[0mwrite\u001b[0m\u001b[0;34m(\u001b[0m\u001b[0mself\u001b[0m\u001b[0;34m.\u001b[0m\u001b[0m_handle\u001b[0m\u001b[0;34m,\u001b[0m \u001b[0mbuf\u001b[0m\u001b[0;34m)\u001b[0m\u001b[0;34m\u001b[0m\u001b[0;34m\u001b[0m\u001b[0m\n\u001b[0m\u001b[1;32m    369\u001b[0m             \u001b[0mremaining\u001b[0m \u001b[0;34m-=\u001b[0m \u001b[0mn\u001b[0m\u001b[0;34m\u001b[0m\u001b[0;34m\u001b[0m\u001b[0m\n\u001b[1;32m    370\u001b[0m             \u001b[0;32mif\u001b[0m \u001b[0mremaining\u001b[0m \u001b[0;34m==\u001b[0m \u001b[0;36m0\u001b[0m\u001b[0;34m:\u001b[0m\u001b[0;34m\u001b[0m\u001b[0;34m\u001b[0m\u001b[0m\n",
      "\u001b[0;31mBrokenPipeError\u001b[0m: [Errno 32] Broken pipe"
     ]
    }
   ],
   "source": [
    "envs.venv.current_episodes()"
   ]
  },
  {
   "cell_type": "code",
   "execution_count": 15,
   "metadata": {},
   "outputs": [],
   "source": [
    "torch.set_grad_enabled(False)\n",
    "map_size = args.map_size_cm // args.map_resolution\n",
    "full_w, full_h = map_size, map_size\n",
    "local_w, local_h = int(full_w / args.global_downscaling), \\\n",
    "                   int(full_h / args.global_downscaling)\n",
    "\n",
    "# Initializing full and local map\n",
    "full_map = torch.zeros(num_scenes, 5, full_w, full_h).float().to(device)\n",
    "local_map = torch.zeros(num_scenes, 5, local_w, local_h).float().to(device)\n",
    "\n",
    "# Initial full and local pose\n",
    "full_pose = torch.zeros(num_scenes, 3).float().to(device)\n",
    "local_pose = torch.zeros(num_scenes, 3).float().to(device)\n",
    "\n",
    "# Origin of local map\n",
    "origins = np.zeros((num_scenes, 3))\n",
    "\n",
    "# Local Map Boundaries\n",
    "lmb = np.zeros((num_scenes, 4)).astype(int)\n",
    "### Planner pose inputs has 7 dimensions\n",
    "### 1-3 store continuous global agent location\n",
    "### 4-7 store local map boundaries\n",
    "planner_pose_inputs = np.zeros((num_scenes, 7))"
   ]
  },
  {
   "cell_type": "code",
   "execution_count": 16,
   "metadata": {},
   "outputs": [],
   "source": [
    "init_map_and_pose()"
   ]
  },
  {
   "cell_type": "code",
   "execution_count": 17,
   "metadata": {},
   "outputs": [],
   "source": [
    "# Global policy observation space\n",
    "g_observation_space = gym.spaces.Box(0, 1,\n",
    "                                     (10, #8,\n",
    "                                      local_w,\n",
    "                                      local_h), dtype='uint8')\n",
    "# Global policy action space\n",
    "g_action_space = gym.spaces.Box(low=0.0, high=1.0,\n",
    "                                shape=(2,), dtype=np.float32)\n",
    "# Local policy observation space\n",
    "l_observation_space = gym.spaces.Box(0, 255,\n",
    "                                     (3,\n",
    "                                      args.frame_width,\n",
    "                                      args.frame_width), dtype='uint8')\n",
    "# Local and Global policy recurrent layer sizes\n",
    "l_hidden_size = args.local_hidden_size\n",
    "g_hidden_size = args.global_hidden_size"
   ]
  },
  {
   "cell_type": "code",
   "execution_count": 18,
   "metadata": {},
   "outputs": [],
   "source": [
    "# slam\n",
    "nslam_module = Neural_SLAM_Module(args).to(device)\n",
    "slam_optimizer = get_optimizer(nslam_module.parameters(),\n",
    "                               args.slam_optimizer)"
   ]
  },
  {
   "cell_type": "code",
   "execution_count": 19,
   "metadata": {},
   "outputs": [],
   "source": [
    "# Global policy\n",
    "g_policy = RL_Policy(g_observation_space.shape, g_action_space,\n",
    "                     base_kwargs={'recurrent': args.use_recurrent_global,\n",
    "                                  'hidden_size': g_hidden_size,\n",
    "                                  'downscaling': args.global_downscaling\n",
    "                                  }).to(device)\n",
    "g_agent = PPO(g_policy, args.clip_param, args.ppo_epoch,\n",
    "                   args.num_mini_batch, args.value_loss_coef,\n",
    "                   args.entropy_coef, lr=args.global_lr, eps=args.eps,\n",
    "                   max_grad_norm=args.max_grad_norm)\n",
    "\n",
    "# Local policy\n",
    "# l_policy = Local_IL_Policy(l_observation_space.shape, envs.action_space[0].n,\n",
    "#                            recurrent=args.use_recurrent_local,\n",
    "#                            hidden_size=l_hidden_size,\n",
    "#                            deterministic=args.use_deterministic_local).to(device)\n",
    "\n",
    "\n",
    "l_policy = Local_IL_Policy(l_observation_space.shape, one_env.action_space.n,\n",
    "                           recurrent=args.use_recurrent_local,\n",
    "                           hidden_size=l_hidden_size,\n",
    "                           deterministic=args.use_deterministic_local).to(device)\n",
    "\n",
    "\n",
    "local_optimizer = get_optimizer(l_policy.parameters(),\n",
    "                                args.local_optimizer)"
   ]
  },
  {
   "cell_type": "code",
   "execution_count": null,
   "metadata": {},
   "outputs": [],
   "source": []
  },
  {
   "cell_type": "code",
   "execution_count": 20,
   "metadata": {},
   "outputs": [],
   "source": [
    "# Storage\n",
    "g_rollouts = GlobalRolloutStorage(args.num_global_steps,\n",
    "                                  num_scenes, g_observation_space.shape,\n",
    "                                  g_action_space, g_policy.rec_state_size,\n",
    "                                  1).to(device)\n",
    "\n",
    "slam_memory = FIFOMemory(args.slam_memory_size)"
   ]
  },
  {
   "cell_type": "code",
   "execution_count": 21,
   "metadata": {},
   "outputs": [],
   "source": [
    "# Loading model\n",
    "if args.load_slam != \"0\":\n",
    "    print(\"Loading slam {}\".format(args.load_slam))\n",
    "    state_dict = torch.load(args.load_slam,\n",
    "                            map_location=lambda storage, loc: storage)\n",
    "    nslam_module.load_state_dict(state_dict)\n",
    "\n",
    "if not args.train_slam:\n",
    "    nslam_module.eval()\n",
    "\n",
    "if args.load_global != \"0\":\n",
    "    print(\"Loading global {}\".format(args.load_global))\n",
    "    state_dict = torch.load(args.load_global,\n",
    "                            map_location=lambda storage, loc: storage)\n",
    "    g_policy.load_state_dict(state_dict)\n",
    "\n",
    "if not args.train_global:\n",
    "    g_policy.eval()\n",
    "\n",
    "if args.load_local != \"0\":\n",
    "    print(\"Loading local {}\".format(args.load_local))\n",
    "    state_dict = torch.load(args.load_local,\n",
    "                            map_location=lambda storage, loc: storage)\n",
    "    l_policy.load_state_dict(state_dict)\n",
    "\n",
    "if not args.train_local:\n",
    "    l_policy.eval()"
   ]
  },
  {
   "cell_type": "code",
   "execution_count": 21,
   "metadata": {},
   "outputs": [
    {
     "ename": "KeyError",
     "evalue": "0",
     "output_type": "error",
     "traceback": [
      "\u001b[0;31m---------------------------------------------------------------------------\u001b[0m",
      "\u001b[0;31mKeyError\u001b[0m                                  Traceback (most recent call last)",
      "\u001b[0;32m<ipython-input-21-f671098a41dc>\u001b[0m in \u001b[0;36m<module>\u001b[0;34m\u001b[0m\n\u001b[1;32m      2\u001b[0m poses = torch.from_numpy(np.asarray(\n\u001b[1;32m      3\u001b[0m     [infos[env_idx]['sensor_pose'] for env_idx\n\u001b[0;32m----> 4\u001b[0;31m      in range(num_scenes)])\n\u001b[0m\u001b[1;32m      5\u001b[0m ).float().to(device)\n\u001b[1;32m      6\u001b[0m \u001b[0;34m\u001b[0m\u001b[0m\n",
      "\u001b[0;32m<ipython-input-21-f671098a41dc>\u001b[0m in \u001b[0;36m<listcomp>\u001b[0;34m(.0)\u001b[0m\n\u001b[1;32m      1\u001b[0m \u001b[0;31m# Predict map from frame 1:\u001b[0m\u001b[0;34m\u001b[0m\u001b[0;34m\u001b[0m\u001b[0;34m\u001b[0m\u001b[0m\n\u001b[1;32m      2\u001b[0m poses = torch.from_numpy(np.asarray(\n\u001b[0;32m----> 3\u001b[0;31m     [infos[env_idx]['sensor_pose'] for env_idx\n\u001b[0m\u001b[1;32m      4\u001b[0m      in range(num_scenes)])\n\u001b[1;32m      5\u001b[0m ).float().to(device)\n",
      "\u001b[0;31mKeyError\u001b[0m: 0"
     ]
    }
   ],
   "source": [
    "# Predict map from frame 1:\n",
    "poses = torch.from_numpy(np.asarray(\n",
    "    [infos[env_idx]['sensor_pose'] for env_idx\n",
    "     in range(num_scenes)])\n",
    ").float().to(device)\n",
    "\n",
    "_, _, local_map[:, 0, :, :], local_map[:, 1, :, :], local_map[:, 2, :, :], _, local_pose = \\\n",
    "    nslam_module(obs, obs, poses, local_map[:, 0, :, :],\n",
    "                 local_map[:, 1, :, :], local_pose, semantic_obs, semantic_obs)"
   ]
  },
  {
   "cell_type": "code",
   "execution_count": 22,
   "metadata": {},
   "outputs": [
    {
     "data": {
      "text/plain": [
       "<matplotlib.image.AxesImage at 0x7f4b83a92470>"
      ]
     },
     "execution_count": 22,
     "metadata": {},
     "output_type": "execute_result"
    },
    {
     "data": {
      "image/png": "[encoded data removed]",
      "text/plain": [
       "<Figure size 432x288 with 1 Axes>"
      ]
     },
     "metadata": {
      "needs_background": "light"
     },
     "output_type": "display_data"
    }
   ],
   "source": [
    "plt.imshow(local_map[0][1].cpu().numpy())"
   ]
  },
  {
   "cell_type": "code",
   "execution_count": 22,
   "metadata": {},
   "outputs": [
    {
     "data": {
      "text/plain": [
       "tensor([[36]], device='cuda:0')"
      ]
     },
     "execution_count": 22,
     "metadata": {},
     "output_type": "execute_result"
    }
   ],
   "source": [
    "# Compute Global policy input\n",
    "locs = local_pose.cpu().numpy()\n",
    "global_input = torch.zeros(num_scenes, 10, local_w, local_h)\n",
    "global_orientation = torch.zeros(num_scenes, 1).long()\n",
    "\n",
    "for e in range(num_scenes):\n",
    "    r, c = locs[e, 1], locs[e, 0]\n",
    "    loc_r, loc_c = [int(r * 100.0 / args.map_resolution),\n",
    "                    int(c * 100.0 / args.map_resolution)]\n",
    "\n",
    "    local_map[e, 3:, loc_r - 1:loc_r + 2, loc_c - 1:loc_c + 2] = 1.\n",
    "    global_orientation[e] = int((locs[e, 2] + 180.0) / 5.)\n",
    "\n",
    "global_input[:, 0:5, :, :] = local_map.detach()\n",
    "global_input[:, 5:, :, :] = nn.MaxPool2d(args.global_downscaling)(full_map)\n",
    "\n",
    "g_rollouts.obs[0].copy_(global_input)\n",
    "g_rollouts.extras[0].copy_(global_orientation)\n"
   ]
  },
  {
   "cell_type": "code",
   "execution_count": 23,
   "metadata": {},
   "outputs": [
    {
     "data": {
      "text/plain": [
       "torch.Size([41, 1, 10, 240, 240])"
      ]
     },
     "execution_count": 23,
     "metadata": {},
     "output_type": "execute_result"
    }
   ],
   "source": [
    "g_rollouts.obs.shape"
   ]
  },
  {
   "cell_type": "code",
   "execution_count": 24,
   "metadata": {},
   "outputs": [],
   "source": [
    "# Run Global Policy (global_goals = Long-Term Goal)\n",
    "g_value, g_action, g_action_log_prob, g_rec_states = \\\n",
    "    g_policy.act(\n",
    "        g_rollouts.obs[0],\n",
    "        g_rollouts.rec_states[0],\n",
    "        g_rollouts.masks[0],\n",
    "        extras=g_rollouts.extras[0],\n",
    "        deterministic=False)\n",
    "\n",
    "cpu_actions = nn.Sigmoid()(g_action).cpu().numpy()\n",
    "global_goals = [[int(action[0] * local_w), int(action[1] * local_h)]\n",
    "                for action in cpu_actions]"
   ]
  },
  {
   "cell_type": "code",
   "execution_count": 25,
   "metadata": {},
   "outputs": [
    {
     "data": {
      "text/plain": [
       "<torch.autograd.grad_mode.set_grad_enabled at 0x7fe6d9780e80>"
      ]
     },
     "execution_count": 25,
     "metadata": {},
     "output_type": "execute_result"
    }
   ],
   "source": [
    "# Compute planner inputs\n",
    "planner_inputs = [{} for e in range(num_scenes)]\n",
    "for e, p_input in enumerate(planner_inputs):\n",
    "    p_input['goal'] = global_goals[e]\n",
    "    p_input['map_pred'] = global_input[e, 0, :, :].detach().cpu().numpy()\n",
    "    p_input['exp_pred'] = global_input[e, 1, :, :].detach().cpu().numpy()\n",
    "    p_input['sem_pred'] = global_input[e, 2, :, :].detach().cpu().numpy()\n",
    "    p_input['pose_pred'] = planner_pose_inputs[e]\n",
    "    \n",
    "\n",
    "# Output stores local goals as well as the the ground-truth action\n",
    "output = one_env.get_short_term_goal(planner_inputs[0])\n",
    "\n",
    "# last_obs = obs.detach()\n",
    "last_obs = obs\n",
    "local_rec_states = torch.zeros(num_scenes, l_hidden_size).to(device)\n",
    "start = time.time()\n",
    "\n",
    "total_num_steps = -1\n",
    "g_reward = 0\n",
    "\n",
    "torch.set_grad_enabled(False)"
   ]
  },
  {
   "cell_type": "code",
   "execution_count": 31,
   "metadata": {},
   "outputs": [
    {
     "ename": "AttributeError",
     "evalue": "'numpy.ndarray' object has no attribute 'detach'",
     "output_type": "error",
     "traceback": [
      "\u001b[0;31m---------------------------------------------------------------------------\u001b[0m",
      "\u001b[0;31mAttributeError\u001b[0m                            Traceback (most recent call last)",
      "\u001b[0;32m<ipython-input-31-a6dfcabef0fb>\u001b[0m in \u001b[0;36m<module>\u001b[0;34m\u001b[0m\n\u001b[0;32m----> 1\u001b[0;31m \u001b[0mprint\u001b[0m\u001b[0;34m(\u001b[0m\u001b[0mobs\u001b[0m\u001b[0;34m.\u001b[0m\u001b[0mdetach\u001b[0m\u001b[0;34m(\u001b[0m\u001b[0;34m)\u001b[0m\u001b[0;34m)\u001b[0m\u001b[0;34m\u001b[0m\u001b[0;34m\u001b[0m\u001b[0m\n\u001b[0m",
      "\u001b[0;31mAttributeError\u001b[0m: 'numpy.ndarray' object has no attribute 'detach'"
     ]
    }
   ],
   "source": [
    "print(obs.detach())"
   ]
  },
  {
   "cell_type": "code",
   "execution_count": 26,
   "metadata": {},
   "outputs": [],
   "source": [
    "scene = one_env._env._sim.semantic_annotations()\n",
    "instance_id_to_label_id = {int(obj.id.split(\"_\")[-1]): obj.category.index() for obj in scene.objects}\n",
    "        \n",
    "mapping = np.array([ instance_id_to_label_id[i] for i in range(len(instance_id_to_label_id)) ])\n",
    "objectgoal_mapping = {obj.category.name(): obj.category.index() for obj in scene.objects }"
   ]
  },
  {
   "cell_type": "code",
   "execution_count": 27,
   "metadata": {},
   "outputs": [],
   "source": [
    "def prepare_sem_obs(observations):\n",
    "    depth = observations['depth']\n",
    "    semantic = observations['semantic']\n",
    "    \n",
    "    prepared_semantic = np.take(mapping, semantic)\n",
    "    \n",
    "    semantic_goal = one_env.current_episode.goals[0].object_category\n",
    "    \n",
    "    prepared_semantic = (prepared_semantic == objectgoal_mapping[semantic_goal])\n",
    "    \n",
    "    semantic_depth = depth[:,:,0] * prepared_semantic\n",
    "        \n",
    "    semantic_depth[semantic_depth == 0] = np.NaN\n",
    "    \n",
    "    return semantic_depth"
   ]
  },
  {
   "cell_type": "code",
   "execution_count": 28,
   "metadata": {},
   "outputs": [],
   "source": [
    "sem_obs = prepare_sem_obs(full_obs)"
   ]
  },
  {
   "cell_type": "code",
   "execution_count": 29,
   "metadata": {},
   "outputs": [
    {
     "name": "stdout",
     "output_type": "stream",
     "text": [
      "[70.  4.  2.]\n"
     ]
    }
   ],
   "source": [
    "print(output)"
   ]
  },
  {
   "cell_type": "code",
   "execution_count": 33,
   "metadata": {},
   "outputs": [
    {
     "ename": "RuntimeError",
     "evalue": "Expected 4-dimensional input for 4-dimensional weight 64 3 7 7, but got 3-dimensional input of size [3, 128, 128] instead",
     "output_type": "error",
     "traceback": [
      "\u001b[0;31m---------------------------------------------------------------------------\u001b[0m",
      "\u001b[0;31mRuntimeError\u001b[0m                              Traceback (most recent call last)",
      "\u001b[0;32m<ipython-input-33-6a25b2bf7677>\u001b[0m in \u001b[0;36m<module>\u001b[0;34m\u001b[0m\n\u001b[1;32m     26\u001b[0m                 \u001b[0mlocal_rec_states\u001b[0m\u001b[0;34m,\u001b[0m\u001b[0;34m\u001b[0m\u001b[0;34m\u001b[0m\u001b[0m\n\u001b[1;32m     27\u001b[0m                 \u001b[0mlocal_masks\u001b[0m\u001b[0;34m,\u001b[0m\u001b[0;34m\u001b[0m\u001b[0;34m\u001b[0m\u001b[0m\n\u001b[0;32m---> 28\u001b[0;31m                 \u001b[0mextras\u001b[0m\u001b[0;34m=\u001b[0m\u001b[0mlocal_goals\u001b[0m\u001b[0;34m,\u001b[0m\u001b[0;34m\u001b[0m\u001b[0;34m\u001b[0m\u001b[0m\n\u001b[0m\u001b[1;32m     29\u001b[0m             )\n\u001b[1;32m     30\u001b[0m \u001b[0;34m\u001b[0m\u001b[0m\n",
      "\u001b[0;32m/opt/conda/envs/habitat/lib/python3.6/site-packages/torch-1.4.0-py3.6-linux-x86_64.egg/torch/nn/modules/module.py\u001b[0m in \u001b[0;36m__call__\u001b[0;34m(self, *input, **kwargs)\u001b[0m\n\u001b[1;32m    530\u001b[0m             \u001b[0mresult\u001b[0m \u001b[0;34m=\u001b[0m \u001b[0mself\u001b[0m\u001b[0;34m.\u001b[0m\u001b[0m_slow_forward\u001b[0m\u001b[0;34m(\u001b[0m\u001b[0;34m*\u001b[0m\u001b[0minput\u001b[0m\u001b[0;34m,\u001b[0m \u001b[0;34m**\u001b[0m\u001b[0mkwargs\u001b[0m\u001b[0;34m)\u001b[0m\u001b[0;34m\u001b[0m\u001b[0;34m\u001b[0m\u001b[0m\n\u001b[1;32m    531\u001b[0m         \u001b[0;32melse\u001b[0m\u001b[0;34m:\u001b[0m\u001b[0;34m\u001b[0m\u001b[0;34m\u001b[0m\u001b[0m\n\u001b[0;32m--> 532\u001b[0;31m             \u001b[0mresult\u001b[0m \u001b[0;34m=\u001b[0m \u001b[0mself\u001b[0m\u001b[0;34m.\u001b[0m\u001b[0mforward\u001b[0m\u001b[0;34m(\u001b[0m\u001b[0;34m*\u001b[0m\u001b[0minput\u001b[0m\u001b[0;34m,\u001b[0m \u001b[0;34m**\u001b[0m\u001b[0mkwargs\u001b[0m\u001b[0;34m)\u001b[0m\u001b[0;34m\u001b[0m\u001b[0;34m\u001b[0m\u001b[0m\n\u001b[0m\u001b[1;32m    533\u001b[0m         \u001b[0;32mfor\u001b[0m \u001b[0mhook\u001b[0m \u001b[0;32min\u001b[0m \u001b[0mself\u001b[0m\u001b[0;34m.\u001b[0m\u001b[0m_forward_hooks\u001b[0m\u001b[0;34m.\u001b[0m\u001b[0mvalues\u001b[0m\u001b[0;34m(\u001b[0m\u001b[0;34m)\u001b[0m\u001b[0;34m:\u001b[0m\u001b[0;34m\u001b[0m\u001b[0;34m\u001b[0m\u001b[0m\n\u001b[1;32m    534\u001b[0m             \u001b[0mhook_result\u001b[0m \u001b[0;34m=\u001b[0m \u001b[0mhook\u001b[0m\u001b[0;34m(\u001b[0m\u001b[0mself\u001b[0m\u001b[0;34m,\u001b[0m \u001b[0minput\u001b[0m\u001b[0;34m,\u001b[0m \u001b[0mresult\u001b[0m\u001b[0;34m)\u001b[0m\u001b[0;34m\u001b[0m\u001b[0;34m\u001b[0m\u001b[0m\n",
      "\u001b[0;32m~/ANM/model.py\u001b[0m in \u001b[0;36mforward\u001b[0;34m(self, rgb, rnn_hxs, masks, extras)\u001b[0m\n\u001b[1;32m    376\u001b[0m                     \u001b[0mx\u001b[0m\u001b[0;34m[\u001b[0m\u001b[0mi\u001b[0m\u001b[0;34m]\u001b[0m \u001b[0;34m=\u001b[0m \u001b[0mtorch\u001b[0m\u001b[0;34m.\u001b[0m\u001b[0mtensor\u001b[0m\u001b[0;34m(\u001b[0m\u001b[0;34m[\u001b[0m\u001b[0;36m1.0\u001b[0m\u001b[0;34m,\u001b[0m \u001b[0;36m0.0\u001b[0m\u001b[0;34m,\u001b[0m \u001b[0;36m0.0\u001b[0m\u001b[0;34m]\u001b[0m\u001b[0;34m)\u001b[0m\u001b[0;34m\u001b[0m\u001b[0;34m\u001b[0m\u001b[0m\n\u001b[1;32m    377\u001b[0m         \u001b[0;32melse\u001b[0m\u001b[0;34m:\u001b[0m\u001b[0;34m\u001b[0m\u001b[0;34m\u001b[0m\u001b[0m\n\u001b[0;32m--> 378\u001b[0;31m             \u001b[0mresnet_output\u001b[0m \u001b[0;34m=\u001b[0m \u001b[0mself\u001b[0m\u001b[0;34m.\u001b[0m\u001b[0mresnet_l5\u001b[0m\u001b[0;34m(\u001b[0m\u001b[0mrgb\u001b[0m\u001b[0;34m[\u001b[0m\u001b[0;34m:\u001b[0m\u001b[0;36m3\u001b[0m\u001b[0;34m,\u001b[0m \u001b[0;34m:\u001b[0m\u001b[0;34m,\u001b[0m \u001b[0;34m:\u001b[0m\u001b[0;34m]\u001b[0m\u001b[0;34m)\u001b[0m\u001b[0;34m\u001b[0m\u001b[0;34m\u001b[0m\u001b[0m\n\u001b[0m\u001b[1;32m    379\u001b[0m             \u001b[0mconv_output\u001b[0m \u001b[0;34m=\u001b[0m \u001b[0mself\u001b[0m\u001b[0;34m.\u001b[0m\u001b[0mconv\u001b[0m\u001b[0;34m(\u001b[0m\u001b[0mresnet_output\u001b[0m\u001b[0;34m)\u001b[0m\u001b[0;34m\u001b[0m\u001b[0;34m\u001b[0m\u001b[0m\n\u001b[1;32m    380\u001b[0m \u001b[0;34m\u001b[0m\u001b[0m\n",
      "\u001b[0;32m/opt/conda/envs/habitat/lib/python3.6/site-packages/torch-1.4.0-py3.6-linux-x86_64.egg/torch/nn/modules/module.py\u001b[0m in \u001b[0;36m__call__\u001b[0;34m(self, *input, **kwargs)\u001b[0m\n\u001b[1;32m    530\u001b[0m             \u001b[0mresult\u001b[0m \u001b[0;34m=\u001b[0m \u001b[0mself\u001b[0m\u001b[0;34m.\u001b[0m\u001b[0m_slow_forward\u001b[0m\u001b[0;34m(\u001b[0m\u001b[0;34m*\u001b[0m\u001b[0minput\u001b[0m\u001b[0;34m,\u001b[0m \u001b[0;34m**\u001b[0m\u001b[0mkwargs\u001b[0m\u001b[0;34m)\u001b[0m\u001b[0;34m\u001b[0m\u001b[0;34m\u001b[0m\u001b[0m\n\u001b[1;32m    531\u001b[0m         \u001b[0;32melse\u001b[0m\u001b[0;34m:\u001b[0m\u001b[0;34m\u001b[0m\u001b[0;34m\u001b[0m\u001b[0m\n\u001b[0;32m--> 532\u001b[0;31m             \u001b[0mresult\u001b[0m \u001b[0;34m=\u001b[0m \u001b[0mself\u001b[0m\u001b[0;34m.\u001b[0m\u001b[0mforward\u001b[0m\u001b[0;34m(\u001b[0m\u001b[0;34m*\u001b[0m\u001b[0minput\u001b[0m\u001b[0;34m,\u001b[0m \u001b[0;34m**\u001b[0m\u001b[0mkwargs\u001b[0m\u001b[0;34m)\u001b[0m\u001b[0;34m\u001b[0m\u001b[0;34m\u001b[0m\u001b[0m\n\u001b[0m\u001b[1;32m    533\u001b[0m         \u001b[0;32mfor\u001b[0m \u001b[0mhook\u001b[0m \u001b[0;32min\u001b[0m \u001b[0mself\u001b[0m\u001b[0;34m.\u001b[0m\u001b[0m_forward_hooks\u001b[0m\u001b[0;34m.\u001b[0m\u001b[0mvalues\u001b[0m\u001b[0;34m(\u001b[0m\u001b[0;34m)\u001b[0m\u001b[0;34m:\u001b[0m\u001b[0;34m\u001b[0m\u001b[0;34m\u001b[0m\u001b[0m\n\u001b[1;32m    534\u001b[0m             \u001b[0mhook_result\u001b[0m \u001b[0;34m=\u001b[0m \u001b[0mhook\u001b[0m\u001b[0;34m(\u001b[0m\u001b[0mself\u001b[0m\u001b[0;34m,\u001b[0m \u001b[0minput\u001b[0m\u001b[0;34m,\u001b[0m \u001b[0mresult\u001b[0m\u001b[0;34m)\u001b[0m\u001b[0;34m\u001b[0m\u001b[0;34m\u001b[0m\u001b[0m\n",
      "\u001b[0;32m/opt/conda/envs/habitat/lib/python3.6/site-packages/torch-1.4.0-py3.6-linux-x86_64.egg/torch/nn/modules/container.py\u001b[0m in \u001b[0;36mforward\u001b[0;34m(self, input)\u001b[0m\n\u001b[1;32m     98\u001b[0m     \u001b[0;32mdef\u001b[0m \u001b[0mforward\u001b[0m\u001b[0;34m(\u001b[0m\u001b[0mself\u001b[0m\u001b[0;34m,\u001b[0m \u001b[0minput\u001b[0m\u001b[0;34m)\u001b[0m\u001b[0;34m:\u001b[0m\u001b[0;34m\u001b[0m\u001b[0;34m\u001b[0m\u001b[0m\n\u001b[1;32m     99\u001b[0m         \u001b[0;32mfor\u001b[0m \u001b[0mmodule\u001b[0m \u001b[0;32min\u001b[0m \u001b[0mself\u001b[0m\u001b[0;34m:\u001b[0m\u001b[0;34m\u001b[0m\u001b[0;34m\u001b[0m\u001b[0m\n\u001b[0;32m--> 100\u001b[0;31m             \u001b[0minput\u001b[0m \u001b[0;34m=\u001b[0m \u001b[0mmodule\u001b[0m\u001b[0;34m(\u001b[0m\u001b[0minput\u001b[0m\u001b[0;34m)\u001b[0m\u001b[0;34m\u001b[0m\u001b[0;34m\u001b[0m\u001b[0m\n\u001b[0m\u001b[1;32m    101\u001b[0m         \u001b[0;32mreturn\u001b[0m \u001b[0minput\u001b[0m\u001b[0;34m\u001b[0m\u001b[0;34m\u001b[0m\u001b[0m\n\u001b[1;32m    102\u001b[0m \u001b[0;34m\u001b[0m\u001b[0m\n",
      "\u001b[0;32m/opt/conda/envs/habitat/lib/python3.6/site-packages/torch-1.4.0-py3.6-linux-x86_64.egg/torch/nn/modules/module.py\u001b[0m in \u001b[0;36m__call__\u001b[0;34m(self, *input, **kwargs)\u001b[0m\n\u001b[1;32m    530\u001b[0m             \u001b[0mresult\u001b[0m \u001b[0;34m=\u001b[0m \u001b[0mself\u001b[0m\u001b[0;34m.\u001b[0m\u001b[0m_slow_forward\u001b[0m\u001b[0;34m(\u001b[0m\u001b[0;34m*\u001b[0m\u001b[0minput\u001b[0m\u001b[0;34m,\u001b[0m \u001b[0;34m**\u001b[0m\u001b[0mkwargs\u001b[0m\u001b[0;34m)\u001b[0m\u001b[0;34m\u001b[0m\u001b[0;34m\u001b[0m\u001b[0m\n\u001b[1;32m    531\u001b[0m         \u001b[0;32melse\u001b[0m\u001b[0;34m:\u001b[0m\u001b[0;34m\u001b[0m\u001b[0;34m\u001b[0m\u001b[0m\n\u001b[0;32m--> 532\u001b[0;31m             \u001b[0mresult\u001b[0m \u001b[0;34m=\u001b[0m \u001b[0mself\u001b[0m\u001b[0;34m.\u001b[0m\u001b[0mforward\u001b[0m\u001b[0;34m(\u001b[0m\u001b[0;34m*\u001b[0m\u001b[0minput\u001b[0m\u001b[0;34m,\u001b[0m \u001b[0;34m**\u001b[0m\u001b[0mkwargs\u001b[0m\u001b[0;34m)\u001b[0m\u001b[0;34m\u001b[0m\u001b[0;34m\u001b[0m\u001b[0m\n\u001b[0m\u001b[1;32m    533\u001b[0m         \u001b[0;32mfor\u001b[0m \u001b[0mhook\u001b[0m \u001b[0;32min\u001b[0m \u001b[0mself\u001b[0m\u001b[0;34m.\u001b[0m\u001b[0m_forward_hooks\u001b[0m\u001b[0;34m.\u001b[0m\u001b[0mvalues\u001b[0m\u001b[0;34m(\u001b[0m\u001b[0;34m)\u001b[0m\u001b[0;34m:\u001b[0m\u001b[0;34m\u001b[0m\u001b[0;34m\u001b[0m\u001b[0m\n\u001b[1;32m    534\u001b[0m             \u001b[0mhook_result\u001b[0m \u001b[0;34m=\u001b[0m \u001b[0mhook\u001b[0m\u001b[0;34m(\u001b[0m\u001b[0mself\u001b[0m\u001b[0;34m,\u001b[0m \u001b[0minput\u001b[0m\u001b[0;34m,\u001b[0m \u001b[0mresult\u001b[0m\u001b[0;34m)\u001b[0m\u001b[0;34m\u001b[0m\u001b[0;34m\u001b[0m\u001b[0m\n",
      "\u001b[0;32m/opt/conda/envs/habitat/lib/python3.6/site-packages/torch-1.4.0-py3.6-linux-x86_64.egg/torch/nn/modules/conv.py\u001b[0m in \u001b[0;36mforward\u001b[0;34m(self, input)\u001b[0m\n\u001b[1;32m    343\u001b[0m \u001b[0;34m\u001b[0m\u001b[0m\n\u001b[1;32m    344\u001b[0m     \u001b[0;32mdef\u001b[0m \u001b[0mforward\u001b[0m\u001b[0;34m(\u001b[0m\u001b[0mself\u001b[0m\u001b[0;34m,\u001b[0m \u001b[0minput\u001b[0m\u001b[0;34m)\u001b[0m\u001b[0;34m:\u001b[0m\u001b[0;34m\u001b[0m\u001b[0;34m\u001b[0m\u001b[0m\n\u001b[0;32m--> 345\u001b[0;31m         \u001b[0;32mreturn\u001b[0m \u001b[0mself\u001b[0m\u001b[0;34m.\u001b[0m\u001b[0mconv2d_forward\u001b[0m\u001b[0;34m(\u001b[0m\u001b[0minput\u001b[0m\u001b[0;34m,\u001b[0m \u001b[0mself\u001b[0m\u001b[0;34m.\u001b[0m\u001b[0mweight\u001b[0m\u001b[0;34m)\u001b[0m\u001b[0;34m\u001b[0m\u001b[0;34m\u001b[0m\u001b[0m\n\u001b[0m\u001b[1;32m    346\u001b[0m \u001b[0;34m\u001b[0m\u001b[0m\n\u001b[1;32m    347\u001b[0m \u001b[0;32mclass\u001b[0m \u001b[0mConv3d\u001b[0m\u001b[0;34m(\u001b[0m\u001b[0m_ConvNd\u001b[0m\u001b[0;34m)\u001b[0m\u001b[0;34m:\u001b[0m\u001b[0;34m\u001b[0m\u001b[0;34m\u001b[0m\u001b[0m\n",
      "\u001b[0;32m/opt/conda/envs/habitat/lib/python3.6/site-packages/torch-1.4.0-py3.6-linux-x86_64.egg/torch/nn/modules/conv.py\u001b[0m in \u001b[0;36mconv2d_forward\u001b[0;34m(self, input, weight)\u001b[0m\n\u001b[1;32m    340\u001b[0m                             _pair(0), self.dilation, self.groups)\n\u001b[1;32m    341\u001b[0m         return F.conv2d(input, weight, self.bias, self.stride,\n\u001b[0;32m--> 342\u001b[0;31m                         self.padding, self.dilation, self.groups)\n\u001b[0m\u001b[1;32m    343\u001b[0m \u001b[0;34m\u001b[0m\u001b[0m\n\u001b[1;32m    344\u001b[0m     \u001b[0;32mdef\u001b[0m \u001b[0mforward\u001b[0m\u001b[0;34m(\u001b[0m\u001b[0mself\u001b[0m\u001b[0;34m,\u001b[0m \u001b[0minput\u001b[0m\u001b[0;34m)\u001b[0m\u001b[0;34m:\u001b[0m\u001b[0;34m\u001b[0m\u001b[0;34m\u001b[0m\u001b[0m\n",
      "\u001b[0;31mRuntimeError\u001b[0m: Expected 4-dimensional input for 4-dimensional weight 64 3 7 7, but got 3-dimensional input of size [3, 128, 128] instead"
     ]
    }
   ],
   "source": [
    "for ep_num in range(num_episodes):\n",
    "        for step in range(args.max_episode_length):\n",
    "            total_num_steps += 1\n",
    "\n",
    "            g_step = (step // args.num_local_steps) % args.num_global_steps\n",
    "            eval_g_step = step // args.num_local_steps + 1\n",
    "            l_step = step % args.num_local_steps\n",
    "\n",
    "            # ------------------------------------------------------------------\n",
    "            # Local Policy\n",
    "            del last_obs\n",
    "            obs = torch.Tensor(obs)\n",
    "#             last_obs = obs.detach()\n",
    "            last_obs = obs\n",
    "            last_sem_obs = sem_obs\n",
    "            local_masks = l_masks\n",
    "#             local_goals = output[:-1].to(device).long()\n",
    "            local_goals = torch.Tensor(output[:-1].astype('long'))\n",
    "\n",
    "            \n",
    "            if args.train_local:\n",
    "                torch.set_grad_enabled(True)\n",
    "\n",
    "            action, action_prob, local_rec_states = l_policy(\n",
    "                obs,\n",
    "                local_rec_states,\n",
    "                local_masks,\n",
    "                extras=local_goals,\n",
    "            )\n",
    "\n",
    "            if args.train_local:\n",
    "                action_target = output[:, -1].long().to(device)\n",
    "                policy_loss += nn.CrossEntropyLoss()(action_prob, action_target)\n",
    "                torch.set_grad_enabled(False)\n",
    "            l_action = action.cpu()\n",
    "            # ------------------------------------------------------------------\n",
    "\n",
    "            # ------------------------------------------------------------------\n",
    "            # Env step\n",
    "#             obs, rew, done, infos = envs.step(l_action)\n",
    "            obs, rew, donw, infos, full_obs, _ = one_env.step(l_action)\n",
    "            sem_obs = prepare_sem_obs(full_obs)\n",
    "\n",
    "            l_masks = torch.FloatTensor([0 if x else 1\n",
    "                                         for x in done]).to(device)\n",
    "            g_masks *= l_masks\n",
    "            # ------------------------------------------------------------------\n",
    "\n",
    "            # ------------------------------------------------------------------\n",
    "            # Reinitialize variables when episode ends\n",
    "            if step == args.max_episode_length - 1:  # Last episode step\n",
    "                init_map_and_pose()\n",
    "                del last_obs\n",
    "                last_obs = obs\n",
    "                last_sem_obs = sem_obs \n",
    "#                 last_obs = obs.detach()\n",
    "            # ------------------------------------------------------------------\n",
    "\n",
    "            # ------------------------------------------------------------------\n",
    "            # Neural SLAM Module\n",
    "            if args.train_slam:\n",
    "                # Add frames to memory\n",
    "#                 for env_idx in range(num_scenes):\n",
    "#                     env_obs = obs[env_idx].to(\"cpu\")\n",
    "#                     env_poses = torch.from_numpy(np.asarray(\n",
    "#                         infos[env_idx]['sensor_pose']\n",
    "#                     )).float().to(\"cpu\")\n",
    "#                     env_gt_fp_projs = torch.from_numpy(np.asarray(\n",
    "#                         infos[env_idx]['fp_proj']\n",
    "#                     )).unsqueeze(0).float().to(\"cpu\")\n",
    "#                     env_gt_fp_explored = torch.from_numpy(np.asarray(\n",
    "#                         infos[env_idx]['fp_explored']\n",
    "#                     )).unsqueeze(0).float().to(\"cpu\")\n",
    "#                     env_gt_pose_err = torch.from_numpy(np.asarray(\n",
    "#                         infos[env_idx]['pose_err']\n",
    "#                     )).float().to(\"cpu\")\n",
    "#                     slam_memory.push(\n",
    "#                         (last_obs[env_idx].cpu(), env_obs, env_poses),\n",
    "#                         (env_gt_fp_projs, env_gt_fp_explored, env_gt_pose_err))\n",
    "\n",
    "                env_obs = obs.to(\"cpu\")\n",
    "                sem_obs = sem_obs.to(\"cpu\")    \n",
    "                env_poses = torch.from_numpy(np.asarray(\n",
    "                    infos['sensor_pose']\n",
    "                )).float().to(\"cpu\")\n",
    "                env_gt_fp_projs = torch.from_numpy(np.asarray(\n",
    "                    infos['fp_proj']\n",
    "                )).unsqueeze(0).float().to(\"cpu\")\n",
    "                env_gt_fp_explored = torch.from_numpy(np.asarray(\n",
    "                    infos['fp_explored']\n",
    "                )).unsqueeze(0).float().to(\"cpu\")\n",
    "                env_gt_pose_err = torch.from_numpy(np.asarray(\n",
    "                    infos['pose_err']\n",
    "                )).float().to(\"cpu\")\n",
    "                slam_memory.push(\n",
    "                    (last_obs.cpu(), env_obs, last_sem_obs.cpu(), sem_obs, env_poses),\n",
    "                    (env_gt_fp_projs, env_gt_fp_explored, env_gt_pose_err))\n",
    "\n",
    "            poses = torch.from_numpy(np.asarray(\n",
    "                [infos[env_idx]['sensor_pose'] for env_idx\n",
    "                 in range(num_scenes)])\n",
    "            ).float().to(device)\n",
    "\n",
    "            _, _, _, local_map[:, 0, :, :], local_map[:, 1, :, :], local_map[:, 2, :, :], _, local_pose = \\\n",
    "                nslam_module(last_obs, obs, poses, local_map[:, 0, :, :],\n",
    "                             local_map[:, 1, :, :], local_pose, sem_obs, sem_last_obs, build_maps=True)\n",
    "\n",
    "            locs = local_pose.cpu().numpy()\n",
    "            planner_pose_inputs[:, :4] = locs + origins\n",
    "            local_map[:, 3, :, :].fill_(0.)  # Resetting current location channel\n",
    "            for e in range(num_scenes):\n",
    "                r, c = locs[e, 1], locs[e, 0]\n",
    "                loc_r, loc_c = [int(r * 100.0 / args.map_resolution),\n",
    "                                int(c * 100.0 / args.map_resolution)]\n",
    "\n",
    "                local_map[e, 3:, loc_r - 2:loc_r + 3, loc_c - 2:loc_c + 3] = 1.\n",
    "            # ------------------------------------------------------------------\n",
    "\n",
    "            # ------------------------------------------------------------------\n",
    "            # Global Policy\n",
    "            if l_step == args.num_local_steps - 1:\n",
    "                # For every global step, update the full and local maps\n",
    "                for e in range(num_scenes):\n",
    "                    full_map[e, :, lmb[e, 0]:lmb[e, 1], lmb[e, 2]:lmb[e, 3]] = \\\n",
    "                        local_map[e]\n",
    "                    full_pose[e] = local_pose[e] + \\\n",
    "                                   torch.from_numpy(origins[e]).to(device).float()\n",
    "\n",
    "                    locs = full_pose[e].cpu().numpy()\n",
    "                    r, c = locs[1], locs[0]\n",
    "                    loc_r, loc_c = [int(r * 100.0 / args.map_resolution),\n",
    "                                    int(c * 100.0 / args.map_resolution)]\n",
    "\n",
    "                    lmb[e] = get_local_map_boundaries((loc_r, loc_c),\n",
    "                                                      (local_w, local_h),\n",
    "                                                      (full_w, full_h), args)\n",
    "\n",
    "                    planner_pose_inputs[e, 4:] = lmb[e]\n",
    "                    origins[e] = [lmb[e][2] * args.map_resolution / 100.0,\n",
    "                                  lmb[e][0] * args.map_resolution / 100.0, 0.]\n",
    "\n",
    "                    local_map[e] = full_map[e, :,\n",
    "                                   lmb[e, 0]:lmb[e, 1], lmb[e, 2]:lmb[e, 3]]\n",
    "                    local_pose[e] = full_pose[e] - \\\n",
    "                                    torch.from_numpy(origins[e]).to(device).float()\n",
    "\n",
    "                locs = local_pose.cpu().numpy()\n",
    "                for e in range(num_scenes):\n",
    "                    global_orientation[e] = int((locs[e, 2] + 180.0) / 5.)\n",
    "                global_input[:, 0:5, :, :] = local_map\n",
    "                global_input[:, 5:, :, :] = \\\n",
    "                    nn.MaxPool2d(args.global_downscaling)(full_map)\n",
    "\n",
    "                if False:\n",
    "                    for i in range(5):\n",
    "                        ax[i].clear()\n",
    "                        ax[i].set_yticks([])\n",
    "                        ax[i].set_xticks([])\n",
    "                        ax[i].set_yticklabels([])\n",
    "                        ax[i].set_xticklabels([])\n",
    "                        ax[i].imshow(global_input.cpu().numpy()[0, 5 + i])\n",
    "                    plt.gcf().canvas.flush_events()\n",
    "                    # plt.pause(0.1)\n",
    "                    fig.canvas.start_event_loop(0.001)\n",
    "                    plt.gcf().canvas.flush_events()\n",
    "\n",
    "                # Get exploration reward and metrics\n",
    "                g_reward = torch.from_numpy(np.asarray(\n",
    "                    [infos[env_idx]['exp_reward'] for env_idx\n",
    "                     in range(num_scenes)])\n",
    "                ).float().to(device)\n",
    "\n",
    "                if args.eval:\n",
    "                    g_reward = g_reward*50.0 # Convert reward to area in m2\n",
    "\n",
    "                g_process_rewards += g_reward.cpu().numpy()\n",
    "                g_total_rewards = g_process_rewards * \\\n",
    "                                  (1 - g_masks.cpu().numpy())\n",
    "                g_process_rewards *= g_masks.cpu().numpy()\n",
    "                per_step_g_rewards.append(np.mean(g_reward.cpu().numpy()))\n",
    "\n",
    "                if np.sum(g_total_rewards) != 0:\n",
    "                    for tr in g_total_rewards:\n",
    "                        g_episode_rewards.append(tr) if tr != 0 else None\n",
    "\n",
    "                if args.eval:\n",
    "                    exp_ratio = torch.from_numpy(np.asarray(\n",
    "                        [infos[env_idx]['exp_ratio'] for env_idx\n",
    "                         in range(num_scenes)])\n",
    "                    ).float()\n",
    "\n",
    "                    for e in range(num_scenes):\n",
    "                        explored_area_log[e, ep_num, eval_g_step - 1] = \\\n",
    "                            explored_area_log[e, ep_num, eval_g_step - 2] + \\\n",
    "                            g_reward[e].cpu().numpy()\n",
    "                        explored_ratio_log[e, ep_num, eval_g_step - 1] = \\\n",
    "                            explored_ratio_log[e, ep_num, eval_g_step - 2] + \\\n",
    "                            exp_ratio[e].cpu().numpy()\n",
    "\n",
    "                # Add samples to global policy storage\n",
    "                g_rollouts.insert(\n",
    "                    global_input, g_rec_states,\n",
    "                    g_action, g_action_log_prob, g_value,\n",
    "                    g_reward, g_masks, global_orientation\n",
    "                )\n",
    "\n",
    "                # Sample long-term goal from global policy\n",
    "                g_value, g_action, g_action_log_prob, g_rec_states = \\\n",
    "                    g_policy.act(\n",
    "                        g_rollouts.obs[g_step + 1],\n",
    "                        g_rollouts.rec_states[g_step + 1],\n",
    "                        g_rollouts.masks[g_step + 1],\n",
    "                        extras=g_rollouts.extras[g_step + 1],\n",
    "                        deterministic=False\n",
    "                    )\n",
    "                cpu_actions = nn.Sigmoid()(g_action).cpu().numpy()\n",
    "                global_goals = [[int(action[0] * local_w),\n",
    "                                 int(action[1] * local_h)]\n",
    "                                for action in cpu_actions]\n",
    "\n",
    "                g_reward = 0\n",
    "                g_masks = torch.ones(num_scenes).float().to(device)\n",
    "            # ------------------------------------------------------------------\n",
    "\n",
    "            # ------------------------------------------------------------------\n",
    "            # Get short term goal\n",
    "            planner_inputs = [{} for e in range(num_scenes)]\n",
    "            for e, p_input in enumerate(planner_inputs):\n",
    "                p_input['map_pred'] = local_map[e, 0, :, :].cpu().numpy()\n",
    "                p_input['exp_pred'] = local_map[e, 1, :, :].cpu().numpy()\n",
    "                p_input['sem_pred'] = local_map[e, 2, :, :].cpu().numpy()\n",
    "                p_input['pose_pred'] = planner_pose_inputs[e]\n",
    "                p_input['goal'] = global_goals[e]\n",
    "\n",
    "            output = one_env.get_short_term_goal(planner_inputs[0])\n",
    "#             output = envs.get_short_term_goal(planner_inputs)\n",
    "            # ------------------------------------------------------------------\n",
    "\n",
    "            ### TRAINING\n",
    "            torch.set_grad_enabled(True)\n",
    "            # ------------------------------------------------------------------\n",
    "            # Train Neural SLAM Module\n",
    "            if args.train_slam and len(slam_memory) > args.slam_batch_size:\n",
    "                for _ in range(args.slam_iterations):\n",
    "                    inputs, outputs = slam_memory.sample(args.slam_batch_size)\n",
    "                    b_obs_last, b_obs, b_sem_obs_last, b_sem_obs, b_poses = inputs\n",
    "                    gt_fp_projs, gt_fp_explored, gt_fp_sem, gt_pose_err = outputs\n",
    "\n",
    "                    b_obs = b_obs.to(device)\n",
    "                    b_obs_last = b_obs_last.to(device)\n",
    "                    b_sem_obs_last = b_sem_obs_last.to(device)\n",
    "                    b_sem_obs = b_sem_obs.to(device)\n",
    "                    b_poses = b_poses.to(device)\n",
    "\n",
    "                    gt_fp_projs = gt_fp_projs.to(device)\n",
    "                    gt_fp_explored = gt_fp_explored.to(device)\n",
    "                    gt_fp_sem = gt_fp_sem.to(device)\n",
    "                    gt_pose_err = gt_pose_err.to(device)\n",
    "\n",
    "                    b_proj_pred, b_fp_exp_pred, b_fp_sem_pred, _, _, _, b_pose_err_pred, _ = \\\n",
    "                        nslam_module(b_obs_last, b_obs, b_poses,\n",
    "                                     None, None, None,\n",
    "                                     b_sem_obs, b_sem_obs_last,\n",
    "                                     build_maps=False)\n",
    "                    loss = 0\n",
    "                    if args.proj_loss_coeff > 0:\n",
    "                        proj_loss = F.binary_cross_entropy(b_proj_pred,\n",
    "                                                           gt_fp_projs)\n",
    "                        costs.append(proj_loss.item())\n",
    "                        loss += args.proj_loss_coeff * proj_loss\n",
    "\n",
    "                    if args.exp_loss_coeff > 0:\n",
    "                        exp_loss = F.binary_cross_entropy(b_fp_exp_pred,\n",
    "                                                          gt_fp_explored)\n",
    "                        exp_costs.append(exp_loss.item())\n",
    "                        loss += args.exp_loss_coeff * exp_loss\n",
    "                        \n",
    "                    # replace arg\n",
    "                    if args.proj_loss_coeff > 0:\n",
    "                        semantic_loss = F.binary_cross_entropy(b_fp_sem_pred, gt_fp_sem)\n",
    "                        \n",
    "                        sem_costs.append(semantic_loss.item())\n",
    "                        # replace this\n",
    "                        loss += args.proj_loss_coeff * semantic_loss\n",
    "\n",
    "                    if args.pose_loss_coeff > 0:\n",
    "                        pose_loss = torch.nn.MSELoss()(b_pose_err_pred,\n",
    "                                                       gt_pose_err)\n",
    "                        pose_costs.append(args.pose_loss_coeff *\n",
    "                                          pose_loss.item())\n",
    "                        loss += args.pose_loss_coeff * pose_loss\n",
    "\n",
    "                    if args.train_slam:\n",
    "                        slam_optimizer.zero_grad()\n",
    "                        loss.backward()\n",
    "                        slam_optimizer.step()\n",
    "\n",
    "                    del b_obs_last, b_obs, b_poses, b_sem_obs, b_sem_obs_last\n",
    "                    del gt_fp_projs, gt_fp_explored, gt_fp_sem, gt_pose_err\n",
    "                    del b_proj_pred, b_fp_exp_pred, b_fp_sem_pred, b_pose_err_pred\n",
    "\n",
    "            # ------------------------------------------------------------------\n",
    "\n",
    "            # ------------------------------------------------------------------\n",
    "            # Train Local Policy\n",
    "            if (l_step + 1) % args.local_policy_update_freq == 0 \\\n",
    "                    and args.train_local:\n",
    "                local_optimizer.zero_grad()\n",
    "                policy_loss.backward()\n",
    "                local_optimizer.step()\n",
    "                l_action_losses.append(policy_loss.item())\n",
    "                policy_loss = 0\n",
    "                local_rec_states = local_rec_states.detach_()\n",
    "            # ------------------------------------------------------------------\n",
    "\n",
    "            # ------------------------------------------------------------------\n",
    "            # Train Global Policy\n",
    "            if g_step % args.num_global_steps == args.num_global_steps - 1 \\\n",
    "                    and l_step == args.num_local_steps - 1:\n",
    "                if args.train_global:\n",
    "                    g_next_value = g_policy.get_value(\n",
    "                        g_rollouts.obs[-1],\n",
    "                        g_rollouts.rec_states[-1],\n",
    "                        g_rollouts.masks[-1],\n",
    "                        extras=g_rollouts.extras[-1]\n",
    "                    ).detach()\n",
    "\n",
    "                    g_rollouts.compute_returns(g_next_value, args.use_gae,\n",
    "                                               args.gamma, args.tau)\n",
    "                    g_value_loss, g_action_loss, g_dist_entropy = \\\n",
    "                        g_agent.update(g_rollouts)\n",
    "                    g_value_losses.append(g_value_loss)\n",
    "                    g_action_losses.append(g_action_loss)\n",
    "                    g_dist_entropies.append(g_dist_entropy)\n",
    "                g_rollouts.after_update()\n",
    "            # ------------------------------------------------------------------\n",
    "\n",
    "            # Finish Training\n",
    "            torch.set_grad_enabled(False)\n",
    "            # ------------------------------------------------------------------\n",
    "\n",
    "            # ------------------------------------------------------------------\n",
    "            # Logging\n",
    "            if total_num_steps % args.log_interval == 0:\n",
    "                end = time.time()\n",
    "                time_elapsed = time.gmtime(end - start)\n",
    "                log = \" \".join([\n",
    "                    \"Time: {0:0=2d}d\".format(time_elapsed.tm_mday - 1),\n",
    "                    \"{},\".format(time.strftime(\"%Hh %Mm %Ss\", time_elapsed)),\n",
    "                    \"num timesteps {},\".format(total_num_steps *\n",
    "                                               num_scenes),\n",
    "                    \"FPS {},\".format(int(total_num_steps * num_scenes \\\n",
    "                                         / (end - start)))\n",
    "                ])\n",
    "\n",
    "                log += \"\\n\\tRewards:\"\n",
    "\n",
    "                if len(g_episode_rewards) > 0:\n",
    "                    log += \" \".join([\n",
    "                        \" Global step mean/med rew:\",\n",
    "                        \"{:.4f}/{:.4f},\".format(\n",
    "                            np.mean(per_step_g_rewards),\n",
    "                            np.median(per_step_g_rewards)),\n",
    "                        \" Global eps mean/med/min/max eps rew:\",\n",
    "                        \"{:.3f}/{:.3f}/{:.3f}/{:.3f},\".format(\n",
    "                            np.mean(g_episode_rewards),\n",
    "                            np.median(g_episode_rewards),\n",
    "                            np.min(g_episode_rewards),\n",
    "                            np.max(g_episode_rewards))\n",
    "                    ])\n",
    "\n",
    "                log += \"\\n\\tLosses:\"\n",
    "\n",
    "                if args.train_local and len(l_action_losses) > 0:\n",
    "                    log += \" \".join([\n",
    "                        \" Local Loss:\",\n",
    "                        \"{:.3f},\".format(\n",
    "                            np.mean(l_action_losses))\n",
    "                    ])\n",
    "\n",
    "                if args.train_global and len(g_value_losses) > 0:\n",
    "                    log += \" \".join([\n",
    "                        \" Global Loss value/action/dist:\",\n",
    "                        \"{:.3f}/{:.3f}/{:.3f},\".format(\n",
    "                            np.mean(g_value_losses),\n",
    "                            np.mean(g_action_losses),\n",
    "                            np.mean(g_dist_entropies))\n",
    "                    ])\n",
    "\n",
    "                if args.train_slam and len(costs) > 0:\n",
    "                    log += \" \".join([\n",
    "                        \" SLAM Loss proj/exp/pose:\"\n",
    "                        \"{:.4f}/{:.4f}/{:.4f}\".format(\n",
    "                            np.mean(costs),\n",
    "                            np.mean(exp_costs),\n",
    "                            np.mean(pose_costs))\n",
    "                    ])\n",
    "\n",
    "                print(log)\n",
    "                logging.info(log)\n",
    "            # ------------------------------------------------------------------\n",
    "\n",
    "            # ------------------------------------------------------------------\n",
    "            # Save best models\n",
    "            if (total_num_steps * num_scenes) % args.save_interval < \\\n",
    "                    num_scenes:\n",
    "\n",
    "                # Save Neural SLAM Model\n",
    "                if len(costs) >= 1000 and np.mean(costs) < best_cost \\\n",
    "                        and not args.eval:\n",
    "                    best_cost = np.mean(costs)\n",
    "                    torch.save(nslam_module.state_dict(),\n",
    "                               os.path.join(log_dir, \"model_best.slam\"))\n",
    "\n",
    "                # Save Local Policy Model\n",
    "                if len(l_action_losses) >= 100 and \\\n",
    "                        (np.mean(l_action_losses) <= best_local_loss) \\\n",
    "                        and not args.eval:\n",
    "                    torch.save(l_policy.state_dict(),\n",
    "                               os.path.join(log_dir, \"model_best.local\"))\n",
    "\n",
    "                    best_local_loss = np.mean(l_action_losses)\n",
    "\n",
    "                # Save Global Policy Model\n",
    "                if len(g_episode_rewards) >= 100 and \\\n",
    "                        (np.mean(g_episode_rewards) >= best_g_reward) \\\n",
    "                        and not args.eval:\n",
    "                    torch.save(g_policy.state_dict(),\n",
    "                               os.path.join(log_dir, \"model_best.global\"))\n",
    "                    best_g_reward = np.mean(g_episode_rewards)\n",
    "\n",
    "            # Save periodic models\n",
    "            if (total_num_steps * num_scenes) % args.save_periodic < \\\n",
    "                    num_scenes:\n",
    "                step = total_num_steps * num_scenes\n",
    "                if args.train_slam:\n",
    "                    torch.save(nslam_module.state_dict(),\n",
    "                               os.path.join(dump_dir,\n",
    "                                            \"periodic_{}.slam\".format(step)))\n",
    "                if args.train_local:\n",
    "                    torch.save(l_policy.state_dict(),\n",
    "                               os.path.join(dump_dir,\n",
    "                                            \"periodic_{}.local\".format(step)))\n",
    "                if args.train_global:\n",
    "                    torch.save(g_policy.state_dict(),\n",
    "                               os.path.join(dump_dir,\n",
    "                                            \"periodic_{}.global\".format(step)))\n",
    "            # ------------------------------------------------------------------"
   ]
  },
  {
   "cell_type": "code",
   "execution_count": null,
   "metadata": {},
   "outputs": [],
   "source": []
  }
 ],
 "metadata": {
  "kernelspec": {
   "display_name": "Python 3",
   "language": "python",
   "name": "python3"
  },
  "language_info": {
   "codemirror_mode": {
    "name": "ipython",
    "version": 3
   },
   "file_extension": ".py",
   "mimetype": "text/x-python",
   "name": "python",
   "nbconvert_exporter": "python",
   "pygments_lexer": "ipython3",
   "version": "3.6.10"
  }
 },
 "nbformat": 4,
 "nbformat_minor": 4
}
