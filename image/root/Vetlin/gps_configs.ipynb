{
 "cells": [
  {
   "cell_type": "code",
   "execution_count": 1,
   "metadata": {},
   "outputs": [],
   "source": [
    "import habitat\n",
    "from habitat.config.default import get_config\n",
    "%matplotlib inline\n",
    "import matplotlib.pyplot as plt\n",
    "from habitat.tasks.nav.shortest_path_follower import ShortestPathFollower\n",
    "from typing import Any\n",
    "import numpy as np"
   ]
  },
  {
   "cell_type": "code",
   "execution_count": 2,
   "metadata": {},
   "outputs": [],
   "source": [
    "config = habitat.get_config(config_paths=\"/data/data/challenge_pointnav2020.local.rgbd.yaml\")\n",
    "# config = get_config()"
   ]
  },
  {
   "cell_type": "code",
   "execution_count": 3,
   "metadata": {},
   "outputs": [],
   "source": [
    "config.defrost()\n",
    "\n",
    "config.DATASET.DATA_PATH = '/data/data/datasets/pointnav/habitat-test-scenes/v1/test/test.json.gz'\n",
    "# config.SIMULATOR.TURN_ANGLE = 0.5\n",
    "config.ENVIRONMENT.MAX_EPISODE_STEPS = 100000\n",
    "config.TASK.TOP_DOWN_MAP.MAX_EPISODE_STEPS = 100000\n",
    "config.DATASET.SCENES_DIR = '/data/data/scene_datasets'\n",
    "config.TASK.MEASUREMENTS.append(\"DISTANCE_TO_GOAL\")\n",
    "\n",
    "config.TASK.SENSORS = [\"POINTGOAL_WITH_GPS_COMPASS_SENSOR\", \"COMPASS_SENSOR\", \"GPS_SENSOR\", \"POINTGOAL_SENSOR\",]\n",
    "config.TASK.POINTGOAL_WITH_GPS_COMPASS_SENSOR.DIMENSIONALITY = 3\n",
    "config.TASK.POINTGOAL_WITH_GPS_COMPASS_SENSOR.GOAL_FORMAT = \"CARTESIAN\"\n",
    "\n",
    "config.TASK.POINTGOAL_SENSOR.DIMENSIONALITY = 3\n",
    "config.TASK.POINTGOAL_SENSOR.GOAL_FORMAT = \"CARTESIAN\"\n",
    "\n",
    "config.TASK.GPS_SENSOR.DIMENSIONALITY = 3\n",
    "\n",
    "config.freeze()"
   ]
  },
  {
   "cell_type": "code",
   "execution_count": 4,
   "metadata": {},
   "outputs": [],
   "source": [
    "class SimpleRLEnv(habitat.RLEnv):\n",
    "    def get_reward_range(self):\n",
    "        return [-1, 1]\n",
    "\n",
    "    def get_reward(self, observations):\n",
    "        return 0\n",
    "\n",
    "    def get_done(self, observations):\n",
    "        return self.habitat_env.episode_over\n",
    "\n",
    "    def get_info(self, observations):\n",
    "        return self.habitat_env.get_metrics()"
   ]
  },
  {
   "cell_type": "code",
   "execution_count": 5,
   "metadata": {},
   "outputs": [
    {
     "name": "stderr",
     "output_type": "stream",
     "text": [
      "2020-03-20 08:23:24,352 Initializing dataset PointNav-v1\n",
      "2020-03-20 08:23:24,365 initializing sim Sim-v0\n",
      "2020-03-20 08:23:27,928 Initializing task Nav-v0\n"
     ]
    }
   ],
   "source": [
    "env = SimpleRLEnv(config)"
   ]
  },
  {
   "cell_type": "code",
   "execution_count": 6,
   "metadata": {},
   "outputs": [],
   "source": [
    "observations = env.reset()"
   ]
  },
  {
   "cell_type": "code",
   "execution_count": 7,
   "metadata": {},
   "outputs": [
    {
     "name": "stdout",
     "output_type": "stream",
     "text": [
      "dict_keys(['rgb', 'depth', 'pointgoal_with_gps_compass', 'compass', 'gps', 'pointgoal'])\n"
     ]
    }
   ],
   "source": [
    "print(observations.keys())"
   ]
  },
  {
   "cell_type": "code",
   "execution_count": 9,
   "metadata": {},
   "outputs": [],
   "source": [
    "episode = env.current_episode\n",
    "\n",
    "goals = episode.goals\n",
    "cur_goal = goals[0]\n",
    "position = cur_goal.position"
   ]
  },
  {
   "cell_type": "code",
   "execution_count": 10,
   "metadata": {},
   "outputs": [
    {
     "data": {
      "text/plain": [
       "True"
      ]
     },
     "execution_count": 10,
     "metadata": {},
     "output_type": "execute_result"
    }
   ],
   "source": [
    "state = env.habitat_env._sim.get_agent_state()\n",
    "\n",
    "state.position = position\n",
    "\n",
    "env.habitat_env._sim.set_agent_state(state.position, state.rotation, 0, False)"
   ]
  },
  {
   "cell_type": "code",
   "execution_count": 11,
   "metadata": {},
   "outputs": [],
   "source": [
    "episode = env.current_episode\n",
    "\n",
    "goals = episode.goals\n",
    "cur_goal = goals[0]\n",
    "position = cur_goal.position"
   ]
  },
  {
   "cell_type": "code",
   "execution_count": 12,
   "metadata": {},
   "outputs": [
    {
     "data": {
      "text/plain": [
       "array([-4.1612463,  0.0320512,  6.3028803], dtype=float32)"
      ]
     },
     "execution_count": 12,
     "metadata": {},
     "output_type": "execute_result"
    }
   ],
   "source": [
    "observations = env.step('TURN_LEFT')[0]\n",
    "\n",
    "env.habitat_env._sim.get_agent_state().position"
   ]
  },
  {
   "cell_type": "code",
   "execution_count": 18,
   "metadata": {},
   "outputs": [],
   "source": [
    "start_position = env.current_episode.start_position\n",
    "cur_position = env.habitat_env._sim.get_agent_state().position"
   ]
  },
  {
   "cell_type": "code",
   "execution_count": 20,
   "metadata": {},
   "outputs": [
    {
     "name": "stdout",
     "output_type": "stream",
     "text": [
      "finish position:  [-4.124889850616455, 0.00991860032081604, 6.324680328369141]\n",
      "start position:  [0.11632350087165833, 0.20138363540172577, 16.983539581298828]\n",
      "gps:  [10.107671   -0.16933243  5.4962792 ]\n",
      "pointgoal:  [10.06576574 -0.19146504  5.502684  ]\n",
      "data:  [-0.04235396 -0.0221326  -0.00178203]\n",
      "cur position:  [-4.1612463  0.0320512  6.3028803]\n"
     ]
    }
   ],
   "source": [
    "print('finish position: ', position)\n",
    "print('start position: ', start_position)\n",
    "print('gps: ', observations['gps'])\n",
    "print('pointgoal: ', observations['pointgoal'])\n",
    "print('data: ', observations['pointgoal_with_gps_compass'])\n",
    "print('cur position: ', cur_position)"
   ]
  },
  {
   "cell_type": "code",
   "execution_count": null,
   "metadata": {},
   "outputs": [],
   "source": []
  }
 ],
 "metadata": {
  "kernelspec": {
   "display_name": "Python 3",
   "language": "python",
   "name": "python3"
  },
  "language_info": {
   "codemirror_mode": {
    "name": "ipython",
    "version": 3
   },
   "file_extension": ".py",
   "mimetype": "text/x-python",
   "name": "python",
   "nbconvert_exporter": "python",
   "pygments_lexer": "ipython3",
   "version": "3.6.10"
  }
 },
 "nbformat": 4,
 "nbformat_minor": 4
}
