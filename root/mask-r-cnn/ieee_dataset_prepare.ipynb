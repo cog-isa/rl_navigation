{
 "cells": [
  {
   "cell_type": "code",
   "execution_count": 2,
   "metadata": {},
   "outputs": [],
   "source": [
    "import habitat\n",
    "import numpy as np\n",
    "import matplotlib.pyplot as plt\n",
    "from habitat.tasks.nav.shortest_path_follower import ShortestPathFollower\n",
    "from PIL import Image\n",
    "import uuid\n",
    "import os\n",
    "import shutil\n",
    "from typing import Any\n",
    "import quaternion\n",
    "import random\n",
    "from env import Env\n",
    "import matplotlib.colors as mcolors\n",
    "from utils import draw_top_down_map, AgentPosition\n",
    "from matplotlib.colors import LinearSegmentedColormap\n",
    "import matplotlib"
   ]
  },
  {
   "cell_type": "code",
   "execution_count": 3,
   "metadata": {},
   "outputs": [],
   "source": [
    "import warnings\n",
    "warnings.filterwarnings('ignore')"
   ]
  },
  {
   "cell_type": "code",
   "execution_count": 4,
   "metadata": {},
   "outputs": [],
   "source": [
    "config = habitat.get_config(\"/data_config/challenge_objectnav2020.local.rgbd.yaml\")\n",
    "\n",
    "config.defrost()\n",
    "\n",
    "config.DATASET.DATA_PATH = '/data/datasets/objectnav/mp3d/v1/{split}/{split}.json.gz'\n",
    "config.DATASET.SCENES_DIR = '/data/scene_datasets'\n",
    "config.DATASET.SPLIT = \"val_mini\"\n",
    "\n",
    "config.SIMULATOR.HABITAT_SIM_V0.ALLOW_SLIDING = True\n",
    "#config.SIMULATOR.RGB_SENSOR.NOISE_MODEL_KWARGS.intensity_constant = 0.01\n",
    "#config.SIMULATOR.NOISE_MODEL.NOISE_MULTIPLIER = 0.0\n",
    "\n",
    "H = 320\n",
    "W = 640\n",
    "\n",
    "config.SIMULATOR.RGB_SENSOR.HEIGHT = H\n",
    "config.SIMULATOR.RGB_SENSOR.WIDTH = W\n",
    "config.SIMULATOR.DEPTH_SENSOR.HEIGHT = H\n",
    "config.SIMULATOR.DEPTH_SENSOR.WIDTH = W\n",
    "config.SIMULATOR.SEMANTIC_SENSOR.HEIGHT = H\n",
    "config.SIMULATOR.SEMANTIC_SENSOR.WIDTH = W\n",
    "\n",
    "config.PYROBOT.RGB_SENSOR.HEIGHT = H\n",
    "config.PYROBOT.RGB_SENSOR.WIDTH = W\n",
    "config.PYROBOT.DEPTH_SENSOR.HEIGHT = H\n",
    "config.PYROBOT.DEPTH_SENSOR.WIDTH = W\n",
    "\n",
    "config.SIMULATOR.HABITAT_SIM_V0.ALLOW_SLIDING = True\n",
    "\n",
    "config.SIMULATOR.AGENT_0.SENSORS.append('SEMANTIC_SENSOR')\n",
    "\n",
    "config.SIMULATOR.TURN_ANGLE = 5\n",
    "config.SIMULATOR.TILT_ANGLE = 5\n",
    "config.SIMULATOR.FORWARD_STEP_SIZE = 0.15\n",
    "\n",
    "config.TASK.MEASUREMENTS.append(\"TOP_DOWN_MAP\")\n",
    "config.TASK.SENSORS.append(\"HEADING_SENSOR\")\n",
    "config.TASK.SENSORS.append(\"GPS_SENSOR\")\n",
    "config.TASK.GPS_SENSOR.DIMENSIONALITY = 2\n",
    "config.TASK.GPS_SENSOR.GOAL_FORMAT = \"CARTESIAN\"\n",
    "\n",
    "config.TASK.AGENT_POSITION_SENSOR = habitat.Config()\n",
    "config.TASK.AGENT_POSITION_SENSOR.TYPE = \"my_supercool_sensor\"\n",
    "config.TASK.AGENT_POSITION_SENSOR.ANSWER_TO_LIFE = 42\n",
    "config.TASK.SENSORS.append(\"AGENT_POSITION_SENSOR\")\n",
    "\n",
    "config.freeze()"
   ]
  },
  {
   "cell_type": "code",
   "execution_count": 5,
   "metadata": {},
   "outputs": [
    {
     "name": "stdout",
     "output_type": "stream",
     "text": [
      "2020-07-16 10:30:47,545 Initializing dataset ObjectNav-v1\n",
      "Initializing dataset ObjectNav-v1\n",
      "2020-07-16 10:30:47,663 initializing sim Sim-v0\n",
      "initializing sim Sim-v0\n",
      "2020-07-16 10:30:52,131 Initializing task ObjectNav-v1\n",
      "Initializing task ObjectNav-v1\n",
      "The answer to life is 42\n"
     ]
    }
   ],
   "source": [
    "env = Env(config)"
   ]
  },
  {
   "cell_type": "code",
   "execution_count": 8,
   "metadata": {},
   "outputs": [],
   "source": [
    "observations, info, done = env.reset()"
   ]
  },
  {
   "cell_type": "code",
   "execution_count": 9,
   "metadata": {},
   "outputs": [
    {
     "name": "stdout",
     "output_type": "stream",
     "text": [
      "74\n"
     ]
    }
   ],
   "source": [
    "rgb = []\n",
    "depth = []\n",
    "semantic = []\n",
    "objectgoal = []\n",
    "compass = []\n",
    "gps = []\n",
    "heading = []\n",
    "top_down_map = []\n",
    "fog_of_war_mask = []\n",
    "agent_map_coord = []\n",
    "agent_angle = []\n",
    "mapping = None\n",
    "index_to_title_map = None\n",
    "\n",
    "i = 0\n",
    "while not done:\n",
    "    i+=1\n",
    "    observations, info, done = env.step(2,ideal_action=True)\n",
    "    scene = env.sim.semantic_annotations()\n",
    "    instance_id_to_label_id = {int(obj.id.split(\"_\")[-1]): obj.category.index() for obj in scene.objects}\n",
    "    mapping_ = np.array([ instance_id_to_label_id[i] for i in range(len(instance_id_to_label_id)) ])\n",
    "    index_to_title_map_ = {obj.category.index(): obj.category.name() for obj in scene.objects }\n",
    "    \n",
    "    \n",
    "    rgb.append(observations['rgb'])\n",
    "    depth.append(observations['depth'])\n",
    "    semantic.append(observations['semantic'])\n",
    "    objectgoal.append(observations['objectgoal'])\n",
    "    compass.append(observations['compass'])\n",
    "    gps.append(observations['gps'])\n",
    "    heading.append(observations['heading'])\n",
    "    top_down_map.append(info['top_down_map']['map'])\n",
    "    fog_of_war_mask.append(info['top_down_map']['fog_of_war_mask'])\n",
    "    agent_map_coord.append(info['top_down_map']['agent_map_coord'])\n",
    "    agent_angle.append(info['top_down_map']['agent_angle'])\n",
    "    mapping = mapping_\n",
    "    index_to_title_map = str(index_to_title_map_)\n",
    "print(i)    "
   ]
  },
  {
   "cell_type": "code",
   "execution_count": 10,
   "metadata": {},
   "outputs": [
    {
     "data": {
      "text/plain": [
       "\"{1: 'wall', 40: 'misc', 16: 'stairs', 4: 'door', 2: 'floor', 39: 'objects', 17: 'ceiling', 0: 'void', 14: 'plant', 24: 'column', -1: '', 5: 'table', 21: 'mirror', 15: 'sink', 7: 'cabinet', 28: 'lighting', 34: 'seating', 20: 'towel', 12: 'curtain', 9: 'window', 23: 'shower', 38: 'clothes', 11: 'bed', 35: 'board_panel', 37: 'appliances', 31: 'shelving', 26: 'counter', 22: 'tv_monitor', 3: 'chair'}\""
      ]
     },
     "execution_count": 10,
     "metadata": {},
     "output_type": "execute_result"
    }
   ],
   "source": [
    "index_to_title_map"
   ]
  },
  {
   "cell_type": "code",
   "execution_count": 11,
   "metadata": {},
   "outputs": [],
   "source": [
    "import h5py\n",
    "\n",
    "with h5py.File('data2.hdf5', 'w') as f:\n",
    "    f.create_dataset(\"rgb\", data=np.array(rgb))\n",
    "    f.create_dataset(\"depth\", data=np.array(depth))\n",
    "    f.create_dataset(\"semantic\", data=np.array(semantic))\n",
    "    f.create_dataset(\"objectgoal\", data=np.array(objectgoal))\n",
    "    f.create_dataset(\"compass\", data=np.array(compass))\n",
    "    f.create_dataset(\"gps\", data=np.array(gps))\n",
    "    f.create_dataset(\"heading\", data=np.array(heading))\n",
    "    f.create_dataset(\"top_down_map\", data=np.array(top_down_map))\n",
    "    f.create_dataset(\"fog_of_war_mask\", data=np.array(fog_of_war_mask))\n",
    "    f.create_dataset(\"agent_map_coord\", data=np.array(agent_map_coord))\n",
    "    f.create_dataset(\"agent_angle\", data=np.array(agent_angle))\n",
    "    f.create_dataset(\"mapping\", data=np.array(mapping))\n",
    "    f.create_dataset(\"index_to_title_map\", data=np.string_(index_to_title_map))"
   ]
  },
  {
   "cell_type": "code",
   "execution_count": null,
   "metadata": {},
   "outputs": [],
   "source": []
  }
 ],
 "metadata": {
  "kernelspec": {
   "display_name": "Python 3",
   "language": "python",
   "name": "python3"
  },
  "language_info": {
   "codemirror_mode": {
    "name": "ipython",
    "version": 3
   },
   "file_extension": ".py",
   "mimetype": "text/x-python",
   "name": "python",
   "nbconvert_exporter": "python",
   "pygments_lexer": "ipython3",
   "version": "3.6.10"
  }
 },
 "nbformat": 4,
 "nbformat_minor": 4
}
