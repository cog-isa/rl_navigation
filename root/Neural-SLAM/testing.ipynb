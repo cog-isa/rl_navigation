{
 "cells": [
  {
   "cell_type": "code",
   "execution_count": 1,
   "metadata": {},
   "outputs": [
    {
     "name": "stderr",
     "output_type": "stream",
     "text": [
      "usage: ipykernel_launcher.py [-h] [--seed SEED]\n",
      "                             [--auto_gpu_config AUTO_GPU_CONFIG]\n",
      "                             [--total_num_scenes TOTAL_NUM_SCENES]\n",
      "                             [-n NUM_PROCESSES]\n",
      "                             [--num_processes_per_gpu NUM_PROCESSES_PER_GPU]\n",
      "                             [--num_processes_on_first_gpu NUM_PROCESSES_ON_FIRST_GPU]\n",
      "                             [--num_episodes NUM_EPISODES] [--no_cuda]\n",
      "                             [--eval EVAL] [--train_global TRAIN_GLOBAL]\n",
      "                             [--train_local TRAIN_LOCAL]\n",
      "                             [--train_slam TRAIN_SLAM]\n",
      "                             [--log_interval LOG_INTERVAL]\n",
      "                             [--save_interval SAVE_INTERVAL]\n",
      "                             [-d DUMP_LOCATION] [--exp_name EXP_NAME]\n",
      "                             [--save_periodic SAVE_PERIODIC]\n",
      "                             [--load_slam LOAD_SLAM]\n",
      "                             [--load_global LOAD_GLOBAL]\n",
      "                             [--load_local LOAD_LOCAL] [-v VISUALIZE]\n",
      "                             [--vis_type VIS_TYPE]\n",
      "                             [--print_images PRINT_IMAGES]\n",
      "                             [--save_trajectory_data SAVE_TRAJECTORY_DATA]\n",
      "                             [-efw ENV_FRAME_WIDTH] [-efh ENV_FRAME_HEIGHT]\n",
      "                             [-fw FRAME_WIDTH] [-fh FRAME_HEIGHT]\n",
      "                             [-el MAX_EPISODE_LENGTH]\n",
      "                             [--sim_gpu_id SIM_GPU_ID]\n",
      "                             [--task_config TASK_CONFIG] [--split SPLIT]\n",
      "                             [-na NOISY_ACTIONS] [-no NOISY_ODOMETRY]\n",
      "                             [--camera_height CAMERA_HEIGHT] [--hfov HFOV]\n",
      "                             [--randomize_env_every RANDOMIZE_ENV_EVERY]\n",
      "                             [--global_lr GLOBAL_LR]\n",
      "                             [--global_hidden_size GLOBAL_HIDDEN_SIZE]\n",
      "                             [--eps EPS] [--alpha ALPHA] [--gamma GAMMA]\n",
      "                             [--use_gae] [--tau TAU]\n",
      "                             [--entropy_coef ENTROPY_COEF]\n",
      "                             [--value_loss_coef VALUE_LOSS_COEF]\n",
      "                             [--max_grad_norm MAX_GRAD_NORM]\n",
      "                             [--num_global_steps NUM_GLOBAL_STEPS]\n",
      "                             [--ppo_epoch PPO_EPOCH]\n",
      "                             [--num_mini_batch NUM_MINI_BATCH]\n",
      "                             [--clip_param CLIP_PARAM]\n",
      "                             [--use_recurrent_global USE_RECURRENT_GLOBAL]\n",
      "                             [--local_optimizer LOCAL_OPTIMIZER]\n",
      "                             [--num_local_steps NUM_LOCAL_STEPS]\n",
      "                             [--local_hidden_size LOCAL_HIDDEN_SIZE]\n",
      "                             [--short_goal_dist SHORT_GOAL_DIST]\n",
      "                             [--local_policy_update_freq LOCAL_POLICY_UPDATE_FREQ]\n",
      "                             [--use_recurrent_local USE_RECURRENT_LOCAL]\n",
      "                             [--use_deterministic_local USE_DETERMINISTIC_LOCAL]\n",
      "                             [-pe USE_POSE_ESTIMATION]\n",
      "                             [--goals_size GOALS_SIZE] [-pt PRETRAINED_RESNET]\n",
      "                             [--slam_optimizer SLAM_OPTIMIZER]\n",
      "                             [-sbs SLAM_BATCH_SIZE] [-sit SLAM_ITERATIONS]\n",
      "                             [-sms SLAM_MEMORY_SIZE]\n",
      "                             [--proj_loss_coeff PROJ_LOSS_COEFF]\n",
      "                             [--pose_loss_coeff POSE_LOSS_COEFF]\n",
      "                             [--exp_loss_coeff EXP_LOSS_COEFF]\n",
      "                             [--global_downscaling GLOBAL_DOWNSCALING]\n",
      "                             [--map_pred_threshold MAP_PRED_THRESHOLD]\n",
      "                             [--vision_range VISION_RANGE]\n",
      "                             [--obstacle_boundary OBSTACLE_BOUNDARY]\n",
      "                             [--map_resolution MAP_RESOLUTION]\n",
      "                             [--du_scale DU_SCALE] [--map_size_cm MAP_SIZE_CM]\n",
      "                             [-ot OBS_THRESHOLD] [-ct COLLISION_THRESHOLD]\n",
      "                             [-nl NOISE_LEVEL]\n",
      "ipykernel_launcher.py: error: ambiguous option: -f could match -fw, -fh\n"
     ]
    },
    {
     "ename": "SystemExit",
     "evalue": "2",
     "output_type": "error",
     "traceback": [
      "An exception has occurred, use %tb to see the full traceback.\n",
      "\u001b[0;31mSystemExit\u001b[0m\u001b[0;31m:\u001b[0m 2\n"
     ]
    },
    {
     "name": "stderr",
     "output_type": "stream",
     "text": [
      "/opt/conda/envs/habitat/lib/python3.6/site-packages/IPython/core/interactiveshell.py:3339: UserWarning: To exit: use 'exit', 'quit', or Ctrl-D.\n",
      "  warn(\"To exit: use 'exit', 'quit', or Ctrl-D.\", stacklevel=1)\n"
     ]
    }
   ],
   "source": [
    "from arguments import get_args\n",
    "\n",
    "get_args()"
   ]
  },
  {
   "cell_type": "code",
   "execution_count": 2,
   "metadata": {},
   "outputs": [],
   "source": [
    "import argparse "
   ]
  },
  {
   "cell_type": "code",
   "execution_count": 4,
   "metadata": {},
   "outputs": [],
   "source": [
    "parser = argparse.ArgumentParser(description='Active-Neural-SLAM')"
   ]
  },
  {
   "cell_type": "code",
   "execution_count": 5,
   "metadata": {
    "scrolled": true
   },
   "outputs": [
    {
     "data": {
      "text/plain": [
       "_StoreAction(option_strings=['--seed'], dest='seed', nargs=None, const=None, default=1, type=<class 'int'>, choices=None, help='random seed (default: 1)', metavar=None)"
      ]
     },
     "execution_count": 5,
     "metadata": {},
     "output_type": "execute_result"
    }
   ],
   "source": [
    "parser.add_argument('--seed', type=int, default=1,\n",
    "                        help='random seed (default: 1)')"
   ]
  },
  {
   "cell_type": "code",
   "execution_count": 8,
   "metadata": {},
   "outputs": [
    {
     "ename": "TypeError",
     "evalue": "get_default() missing 1 required positional argument: 'dest'",
     "output_type": "error",
     "traceback": [
      "\u001b[0;31m---------------------------------------------------------------------------\u001b[0m",
      "\u001b[0;31mTypeError\u001b[0m                                 Traceback (most recent call last)",
      "\u001b[0;32m<ipython-input-8-6505157e3a8b>\u001b[0m in \u001b[0;36m<module>\u001b[0;34m\u001b[0m\n\u001b[0;32m----> 1\u001b[0;31m \u001b[0mparser\u001b[0m\u001b[0;34m.\u001b[0m\u001b[0mget_default\u001b[0m\u001b[0;34m(\u001b[0m\u001b[0;34m)\u001b[0m\u001b[0;34m\u001b[0m\u001b[0;34m\u001b[0m\u001b[0m\n\u001b[0m",
      "\u001b[0;31mTypeError\u001b[0m: get_default() missing 1 required positional argument: 'dest'"
     ]
    }
   ],
   "source": [
    "parser.get_default()"
   ]
  }
 ],
 "metadata": {
  "kernelspec": {
   "display_name": "Python 3",
   "language": "python",
   "name": "python3"
  },
  "language_info": {
   "codemirror_mode": {
    "name": "ipython",
    "version": 3
   },
   "file_extension": ".py",
   "mimetype": "text/x-python",
   "name": "python",
   "nbconvert_exporter": "python",
   "pygments_lexer": "ipython3",
   "version": "3.6.10"
  }
 },
 "nbformat": 4,
 "nbformat_minor": 4
}
