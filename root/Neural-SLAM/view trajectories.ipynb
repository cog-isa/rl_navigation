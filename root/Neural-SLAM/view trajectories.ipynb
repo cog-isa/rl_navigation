{
 "cells": [
  {
   "cell_type": "code",
   "execution_count": 1,
   "metadata": {},
   "outputs": [],
   "source": [
    "from IPython.display import Video\n",
    "import moviepy.video.io.ImageSequenceClip\n",
    "import os\n",
    "from tqdm.notebook import tqdm\n",
    "\n",
    "episodes_path = 'tmp/dump/'"
   ]
  },
  {
   "cell_type": "code",
   "execution_count": 2,
   "metadata": {},
   "outputs": [],
   "source": [
    "def make_video_from_folder(folder_path, name):\n",
    "    image_files = os.listdir(folder_path)\n",
    "    image_files = sorted(os.listdir(folder_path), key=lambda x: int(x.split('-')[-1].split('.')[0]))\n",
    "    image_files = [os.path.join(folder_path, file) for file in image_files]\n",
    "    clip = moviepy.video.io.ImageSequenceClip.ImageSequenceClip(image_files, fps=20)\n",
    "    clip.write_videofile(name, verbose=False, logger=None)"
   ]
  },
  {
   "cell_type": "code",
   "execution_count": 3,
   "metadata": {},
   "outputs": [],
   "source": [
    "args = []\n",
    "for exp_name in os.listdir(episodes_path):\n",
    "    name = f'tmp/videos/video-{exp_name}.mp4'\n",
    "    args.append([os.path.join(episodes_path, exp_name, 'episodes/1/3'), name])\n",
    "\n",
    "def job(arg):\n",
    "    print('making', name)\n",
    "    make_video_from_folder(*arg)"
   ]
  },
  {
   "cell_type": "code",
   "execution_count": 4,
   "metadata": {},
   "outputs": [
    {
     "data": {
      "text/plain": [
       "[['tmp/dump/default-config/episodes/1/3',\n",
       "  'tmp/videos/video-default-config.mp4'],\n",
       " ['tmp/dump/little-noise/episodes/1/3', 'tmp/videos/video-little-noise.mp4'],\n",
       " ['tmp/dump/more-noise/episodes/1/3', 'tmp/videos/video-more-noise.mp4'],\n",
       " ['tmp/dump/zero-noise/episodes/1/3', 'tmp/videos/video-zero-noise.mp4'],\n",
       " ['tmp/dump/most-noise/episodes/1/3', 'tmp/videos/video-most-noise.mp4']]"
      ]
     },
     "execution_count": 4,
     "metadata": {},
     "output_type": "execute_result"
    }
   ],
   "source": [
    "args"
   ]
  },
  {
   "cell_type": "code",
   "execution_count": 5,
   "metadata": {
    "scrolled": true
   },
   "outputs": [
    {
     "data": {
      "application/vnd.jupyter.widget-view+json": {
       "model_id": "dda6360068f6478b991fac9fe38f806c",
       "version_major": 2,
       "version_minor": 0
      },
      "text/plain": [
       "HBox(children=(IntProgress(value=0, max=5), HTML(value='')))"
      ]
     },
     "metadata": {},
     "output_type": "display_data"
    },
    {
     "name": "stdout",
     "output_type": "stream",
     "text": [
      "\n"
     ]
    }
   ],
   "source": [
    "from joblib import Parallel, delayed\n",
    "\n",
    "# n_jobs=1 means: use all available cores\n",
    "element_information = Parallel(n_jobs=-1)(delayed(job)(arg) for arg in tqdm(args))"
   ]
  },
  {
   "cell_type": "code",
   "execution_count": 6,
   "metadata": {},
   "outputs": [
    {
     "data": {
      "text/html": [
       "<video src=\"tmp/videos/video-more-noise.mp4\" controls  >\n",
       "      Your browser does not support the <code>video</code> element.\n",
       "    </video>"
      ],
      "text/plain": [
       "<IPython.core.display.Video object>"
      ]
     },
     "execution_count": 6,
     "metadata": {},
     "output_type": "execute_result"
    }
   ],
   "source": [
    "Video('tmp/videos/video-more-noise.mp4')"
   ]
  },
  {
   "cell_type": "code",
   "execution_count": 7,
   "metadata": {},
   "outputs": [
    {
     "name": "stderr",
     "output_type": "stream",
     "text": [
      "\r",
      "t:   0%|          | 0/1000 [00:00<?, ?it/s, now=None]"
     ]
    },
    {
     "name": "stdout",
     "output_type": "stream",
     "text": [
      "Moviepy - Building video noise_comparison3.mp4.\n",
      "Moviepy - Writing video noise_comparison3.mp4\n",
      "\n"
     ]
    },
    {
     "name": "stderr",
     "output_type": "stream",
     "text": [
      "                                                               \r"
     ]
    },
    {
     "name": "stdout",
     "output_type": "stream",
     "text": [
      "Moviepy - Done !\n",
      "Moviepy - video ready noise_comparison3.mp4\n"
     ]
    }
   ],
   "source": [
    "from moviepy.editor import VideoFileClip, clips_array, vfx\n",
    "\n",
    "clips = [VideoFileClip(os.path.join('tmp/videos/', path)) for path in os.listdir('tmp/videos/')]\n",
    "final_clip = clips_array([[clips[2], clips[3]],\n",
    "                          [clips[4], clips[1]]])\n",
    "final_clip.resize(height=720).write_videofile(\"noise_comparison3.mp4\")"
   ]
  },
  {
   "cell_type": "code",
   "execution_count": 8,
   "metadata": {},
   "outputs": [
    {
     "data": {
      "text/html": [
       "<video src=\"noise_comparison2.mp4\" controls  >\n",
       "      Your browser does not support the <code>video</code> element.\n",
       "    </video>"
      ],
      "text/plain": [
       "<IPython.core.display.Video object>"
      ]
     },
     "execution_count": 8,
     "metadata": {},
     "output_type": "execute_result"
    }
   ],
   "source": [
    "Video('noise_comparison2.mp4')"
   ]
  },
  {
   "cell_type": "code",
   "execution_count": null,
   "metadata": {},
   "outputs": [],
   "source": []
  }
 ],
 "metadata": {
  "kernelspec": {
   "display_name": "Python 3",
   "language": "python",
   "name": "python3"
  },
  "language_info": {
   "codemirror_mode": {
    "name": "ipython",
    "version": 3
   },
   "file_extension": ".py",
   "mimetype": "text/x-python",
   "name": "python",
   "nbconvert_exporter": "python",
   "pygments_lexer": "ipython3",
   "version": "3.6.10"
  }
 },
 "nbformat": 4,
 "nbformat_minor": 4
}
