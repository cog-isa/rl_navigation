{
 "cells": [
  {
   "cell_type": "code",
   "execution_count": 50,
   "metadata": {},
   "outputs": [],
   "source": [
    "from IPython.display import Video\n",
    "import moviepy.video.io.ImageSequenceClip\n",
    "import os\n",
    "from tqdm.notebook import tqdm\n",
    "\n",
    "episodes_path = 'tmp/dump/exp1/episodes'"
   ]
  },
  {
   "cell_type": "code",
   "execution_count": 51,
   "metadata": {},
   "outputs": [],
   "source": [
    "def make_video_from_folder(folder_path, name):\n",
    "    image_files = os.listdir(folder_path)\n",
    "    image_files = sorted(os.listdir(folder_path), key=lambda x: int(x.split('-')[-1].split('.')[0]))\n",
    "    image_files = [os.path.join(folder_path, file) for file in image_files]\n",
    "    clip = moviepy.video.io.ImageSequenceClip.ImageSequenceClip(image_files, fps=20)\n",
    "    clip.write_videofile(name, verbose=False, logger=None)"
   ]
  },
  {
   "cell_type": "code",
   "execution_count": 52,
   "metadata": {},
   "outputs": [],
   "source": [
    "args = []\n",
    "for level1 in os.listdir(episodes_path):\n",
    "    for level2 in os.listdir(os.path.join(episodes_path, level1)):\n",
    "        name = f'tmp/videos/video-{level1}-{level2}.mp4'\n",
    "#         make_video_from_folder(os.path.join(episodes_path, level1, level2), name)\n",
    "#         print('made', name)\n",
    "        args.append([os.path.join(episodes_path, level1, level2), name])\n",
    "\n",
    "def job(arg):\n",
    "    print('making', name)\n",
    "    make_video_from_folder(*arg)"
   ]
  },
  {
   "cell_type": "code",
   "execution_count": 53,
   "metadata": {},
   "outputs": [
    {
     "data": {
      "text/plain": [
       "[['tmp/dump/exp1/episodes/3/1', 'tmp/videos/video-3-1.mp4'],\n",
       " ['tmp/dump/exp1/episodes/3/2', 'tmp/videos/video-3-2.mp4'],\n",
       " ['tmp/dump/exp1/episodes/3/3', 'tmp/videos/video-3-3.mp4'],\n",
       " ['tmp/dump/exp1/episodes/3/4', 'tmp/videos/video-3-4.mp4'],\n",
       " ['tmp/dump/exp1/episodes/3/5', 'tmp/videos/video-3-5.mp4'],\n",
       " ['tmp/dump/exp1/episodes/3/6', 'tmp/videos/video-3-6.mp4'],\n",
       " ['tmp/dump/exp1/episodes/2/1', 'tmp/videos/video-2-1.mp4'],\n",
       " ['tmp/dump/exp1/episodes/2/2', 'tmp/videos/video-2-2.mp4'],\n",
       " ['tmp/dump/exp1/episodes/2/3', 'tmp/videos/video-2-3.mp4'],\n",
       " ['tmp/dump/exp1/episodes/2/4', 'tmp/videos/video-2-4.mp4'],\n",
       " ['tmp/dump/exp1/episodes/2/5', 'tmp/videos/video-2-5.mp4'],\n",
       " ['tmp/dump/exp1/episodes/2/6', 'tmp/videos/video-2-6.mp4'],\n",
       " ['tmp/dump/exp1/episodes/5/1', 'tmp/videos/video-5-1.mp4'],\n",
       " ['tmp/dump/exp1/episodes/5/2', 'tmp/videos/video-5-2.mp4'],\n",
       " ['tmp/dump/exp1/episodes/5/3', 'tmp/videos/video-5-3.mp4'],\n",
       " ['tmp/dump/exp1/episodes/5/4', 'tmp/videos/video-5-4.mp4'],\n",
       " ['tmp/dump/exp1/episodes/5/5', 'tmp/videos/video-5-5.mp4'],\n",
       " ['tmp/dump/exp1/episodes/5/6', 'tmp/videos/video-5-6.mp4'],\n",
       " ['tmp/dump/exp1/episodes/8/1', 'tmp/videos/video-8-1.mp4'],\n",
       " ['tmp/dump/exp1/episodes/8/2', 'tmp/videos/video-8-2.mp4'],\n",
       " ['tmp/dump/exp1/episodes/8/3', 'tmp/videos/video-8-3.mp4'],\n",
       " ['tmp/dump/exp1/episodes/8/4', 'tmp/videos/video-8-4.mp4'],\n",
       " ['tmp/dump/exp1/episodes/8/5', 'tmp/videos/video-8-5.mp4'],\n",
       " ['tmp/dump/exp1/episodes/8/6', 'tmp/videos/video-8-6.mp4'],\n",
       " ['tmp/dump/exp1/episodes/6/1', 'tmp/videos/video-6-1.mp4'],\n",
       " ['tmp/dump/exp1/episodes/6/2', 'tmp/videos/video-6-2.mp4'],\n",
       " ['tmp/dump/exp1/episodes/6/3', 'tmp/videos/video-6-3.mp4'],\n",
       " ['tmp/dump/exp1/episodes/6/4', 'tmp/videos/video-6-4.mp4'],\n",
       " ['tmp/dump/exp1/episodes/6/5', 'tmp/videos/video-6-5.mp4'],\n",
       " ['tmp/dump/exp1/episodes/6/6', 'tmp/videos/video-6-6.mp4'],\n",
       " ['tmp/dump/exp1/episodes/9/1', 'tmp/videos/video-9-1.mp4'],\n",
       " ['tmp/dump/exp1/episodes/9/2', 'tmp/videos/video-9-2.mp4'],\n",
       " ['tmp/dump/exp1/episodes/9/3', 'tmp/videos/video-9-3.mp4'],\n",
       " ['tmp/dump/exp1/episodes/9/4', 'tmp/videos/video-9-4.mp4'],\n",
       " ['tmp/dump/exp1/episodes/9/5', 'tmp/videos/video-9-5.mp4'],\n",
       " ['tmp/dump/exp1/episodes/9/6', 'tmp/videos/video-9-6.mp4'],\n",
       " ['tmp/dump/exp1/episodes/7/1', 'tmp/videos/video-7-1.mp4'],\n",
       " ['tmp/dump/exp1/episodes/7/2', 'tmp/videos/video-7-2.mp4'],\n",
       " ['tmp/dump/exp1/episodes/7/3', 'tmp/videos/video-7-3.mp4'],\n",
       " ['tmp/dump/exp1/episodes/7/4', 'tmp/videos/video-7-4.mp4'],\n",
       " ['tmp/dump/exp1/episodes/7/5', 'tmp/videos/video-7-5.mp4'],\n",
       " ['tmp/dump/exp1/episodes/7/6', 'tmp/videos/video-7-6.mp4'],\n",
       " ['tmp/dump/exp1/episodes/4/1', 'tmp/videos/video-4-1.mp4'],\n",
       " ['tmp/dump/exp1/episodes/4/2', 'tmp/videos/video-4-2.mp4'],\n",
       " ['tmp/dump/exp1/episodes/4/3', 'tmp/videos/video-4-3.mp4'],\n",
       " ['tmp/dump/exp1/episodes/4/4', 'tmp/videos/video-4-4.mp4'],\n",
       " ['tmp/dump/exp1/episodes/4/5', 'tmp/videos/video-4-5.mp4'],\n",
       " ['tmp/dump/exp1/episodes/4/6', 'tmp/videos/video-4-6.mp4'],\n",
       " ['tmp/dump/exp1/episodes/1/1', 'tmp/videos/video-1-1.mp4'],\n",
       " ['tmp/dump/exp1/episodes/1/2', 'tmp/videos/video-1-2.mp4'],\n",
       " ['tmp/dump/exp1/episodes/1/3', 'tmp/videos/video-1-3.mp4'],\n",
       " ['tmp/dump/exp1/episodes/1/4', 'tmp/videos/video-1-4.mp4'],\n",
       " ['tmp/dump/exp1/episodes/1/5', 'tmp/videos/video-1-5.mp4'],\n",
       " ['tmp/dump/exp1/episodes/1/6', 'tmp/videos/video-1-6.mp4'],\n",
       " ['tmp/dump/exp1/episodes/11/1', 'tmp/videos/video-11-1.mp4'],\n",
       " ['tmp/dump/exp1/episodes/10/1', 'tmp/videos/video-10-1.mp4'],\n",
       " ['tmp/dump/exp1/episodes/13/1', 'tmp/videos/video-13-1.mp4'],\n",
       " ['tmp/dump/exp1/episodes/12/1', 'tmp/videos/video-12-1.mp4'],\n",
       " ['tmp/dump/exp1/episodes/14/1', 'tmp/videos/video-14-1.mp4'],\n",
       " ['tmp/dump/exp1/episodes/15/1', 'tmp/videos/video-15-1.mp4'],\n",
       " ['tmp/dump/exp1/episodes/17/1', 'tmp/videos/video-17-1.mp4'],\n",
       " ['tmp/dump/exp1/episodes/18/1', 'tmp/videos/video-18-1.mp4'],\n",
       " ['tmp/dump/exp1/episodes/19/1', 'tmp/videos/video-19-1.mp4'],\n",
       " ['tmp/dump/exp1/episodes/16/1', 'tmp/videos/video-16-1.mp4'],\n",
       " ['tmp/dump/exp1/episodes/22/1', 'tmp/videos/video-22-1.mp4'],\n",
       " ['tmp/dump/exp1/episodes/24/1', 'tmp/videos/video-24-1.mp4'],\n",
       " ['tmp/dump/exp1/episodes/20/1', 'tmp/videos/video-20-1.mp4'],\n",
       " ['tmp/dump/exp1/episodes/21/1', 'tmp/videos/video-21-1.mp4'],\n",
       " ['tmp/dump/exp1/episodes/23/1', 'tmp/videos/video-23-1.mp4']]"
      ]
     },
     "execution_count": 53,
     "metadata": {},
     "output_type": "execute_result"
    }
   ],
   "source": [
    "args"
   ]
  },
  {
   "cell_type": "code",
   "execution_count": 54,
   "metadata": {},
   "outputs": [
    {
     "data": {
      "application/vnd.jupyter.widget-view+json": {
       "model_id": "29ac637d0237422fa81af1a1f573fd07",
       "version_major": 2,
       "version_minor": 0
      },
      "text/plain": [
       "HBox(children=(IntProgress(value=0, max=69), HTML(value='')))"
      ]
     },
     "metadata": {},
     "output_type": "display_data"
    },
    {
     "name": "stdout",
     "output_type": "stream",
     "text": [
      "\n"
     ]
    },
    {
     "ename": "ValueError",
     "evalue": "Could not load \"\" \nReason: \"image file is truncated\"\nPlease see documentation at: http://pillow.readthedocs.io/en/latest/installation.html#external-libraries",
     "output_type": "error",
     "traceback": [
      "\u001b[0;31m---------------------------------------------------------------------------\u001b[0m",
      "\u001b[0;31m_RemoteTraceback\u001b[0m                          Traceback (most recent call last)",
      "\u001b[0;31m_RemoteTraceback\u001b[0m: \n\"\"\"\nTraceback (most recent call last):\n  File \"/opt/conda/envs/habitat/lib/python3.6/site-packages/PIL/ImageFile.py\", line 233, in load\n    s = read(self.decodermaxblock)\n  File \"/opt/conda/envs/habitat/lib/python3.6/site-packages/PIL/PngImagePlugin.py\", line 838, in load_read\n    cid, pos, length = self.png.read()\n  File \"/opt/conda/envs/habitat/lib/python3.6/site-packages/PIL/PngImagePlugin.py\", line 129, in read\n    length = i32(s)\n  File \"/opt/conda/envs/habitat/lib/python3.6/site-packages/PIL/_binary.py\", line 71, in i32be\n    return unpack_from(\">I\", c, o)[0]\nstruct.error: unpack_from requires a buffer of at least 4 bytes\n\nDuring handling of the above exception, another exception occurred:\n\nTraceback (most recent call last):\n  File \"/opt/conda/envs/habitat/lib/python3.6/site-packages/imageio/plugins/pillow.py\", line 669, in pil_try_read\n    im.getdata()[0]\n  File \"/opt/conda/envs/habitat/lib/python3.6/site-packages/PIL/Image.py\", line 1277, in getdata\n    self.load()\n  File \"/opt/conda/envs/habitat/lib/python3.6/site-packages/PIL/ImageFile.py\", line 239, in load\n    raise OSError(\"image file is truncated\")\nOSError: image file is truncated\n\nDuring handling of the above exception, another exception occurred:\n\nTraceback (most recent call last):\n  File \"/opt/conda/envs/habitat/lib/python3.6/site-packages/joblib/externals/loky/process_executor.py\", line 418, in _process_worker\n    r = call_item()\n  File \"/opt/conda/envs/habitat/lib/python3.6/site-packages/joblib/externals/loky/process_executor.py\", line 272, in __call__\n    return self.fn(*self.args, **self.kwargs)\n  File \"/opt/conda/envs/habitat/lib/python3.6/site-packages/joblib/_parallel_backends.py\", line 608, in __call__\n    return self.func(*args, **kwargs)\n  File \"/opt/conda/envs/habitat/lib/python3.6/site-packages/joblib/parallel.py\", line 256, in __call__\n    for func, args, kwargs in self.items]\n  File \"/opt/conda/envs/habitat/lib/python3.6/site-packages/joblib/parallel.py\", line 256, in <listcomp>\n    for func, args, kwargs in self.items]\n  File \"<ipython-input-52-d261f8e88de1>\", line 11, in job\n  File \"<ipython-input-51-1017af13baec>\", line 5, in make_video_from_folder\n  File \"/opt/conda/envs/habitat/lib/python3.6/site-packages/moviepy/video/io/ImageSequenceClip.py\", line 89, in __init__\n    image1=imread(image)\n  File \"/opt/conda/envs/habitat/lib/python3.6/site-packages/imageio/core/functions.py\", line 265, in imread\n    reader = read(uri, format, \"i\", **kwargs)\n  File \"/opt/conda/envs/habitat/lib/python3.6/site-packages/imageio/core/functions.py\", line 186, in get_reader\n    return format.get_reader(request)\n  File \"/opt/conda/envs/habitat/lib/python3.6/site-packages/imageio/core/format.py\", line 170, in get_reader\n    return self.Reader(self, request)\n  File \"/opt/conda/envs/habitat/lib/python3.6/site-packages/imageio/core/format.py\", line 221, in __init__\n    self._open(**self.request.kwargs.copy())\n  File \"/opt/conda/envs/habitat/lib/python3.6/site-packages/imageio/plugins/pillow.py\", line 298, in _open\n    return PillowFormat.Reader._open(self, pilmode=pilmode, as_gray=as_gray)\n  File \"/opt/conda/envs/habitat/lib/python3.6/site-packages/imageio/plugins/pillow.py\", line 135, in _open\n    pil_try_read(self._im)\n  File \"/opt/conda/envs/habitat/lib/python3.6/site-packages/imageio/plugins/pillow.py\", line 680, in pil_try_read\n    raise ValueError(error_message)\nValueError: Could not load \"\" \nReason: \"image file is truncated\"\nPlease see documentation at: http://pillow.readthedocs.io/en/latest/installation.html#external-libraries\n\"\"\"",
      "\nThe above exception was the direct cause of the following exception:\n",
      "\u001b[0;31mValueError\u001b[0m                                Traceback (most recent call last)",
      "\u001b[0;32m<ipython-input-54-7f994ac0cc91>\u001b[0m in \u001b[0;36m<module>\u001b[0;34m\u001b[0m\n\u001b[1;32m      2\u001b[0m \u001b[0;34m\u001b[0m\u001b[0m\n\u001b[1;32m      3\u001b[0m \u001b[0;31m# n_jobs=1 means: use all available cores\u001b[0m\u001b[0;34m\u001b[0m\u001b[0;34m\u001b[0m\u001b[0;34m\u001b[0m\u001b[0m\n\u001b[0;32m----> 4\u001b[0;31m \u001b[0melement_information\u001b[0m \u001b[0;34m=\u001b[0m \u001b[0mParallel\u001b[0m\u001b[0;34m(\u001b[0m\u001b[0mn_jobs\u001b[0m\u001b[0;34m=\u001b[0m\u001b[0;34m-\u001b[0m\u001b[0;36m1\u001b[0m\u001b[0;34m)\u001b[0m\u001b[0;34m(\u001b[0m\u001b[0mdelayed\u001b[0m\u001b[0;34m(\u001b[0m\u001b[0mjob\u001b[0m\u001b[0;34m)\u001b[0m\u001b[0;34m(\u001b[0m\u001b[0marg\u001b[0m\u001b[0;34m)\u001b[0m \u001b[0;32mfor\u001b[0m \u001b[0marg\u001b[0m \u001b[0;32min\u001b[0m \u001b[0mtqdm\u001b[0m\u001b[0;34m(\u001b[0m\u001b[0margs\u001b[0m\u001b[0;34m)\u001b[0m\u001b[0;34m)\u001b[0m\u001b[0;34m\u001b[0m\u001b[0;34m\u001b[0m\u001b[0m\n\u001b[0m",
      "\u001b[0;32m~opt/conda/envs/habitat/lib/python3.6/site-packages/joblib/parallel.py\u001b[0m in \u001b[0;36m__call__\u001b[0;34m(self, iterable)\u001b[0m\n\u001b[1;32m   1015\u001b[0m \u001b[0;34m\u001b[0m\u001b[0m\n\u001b[1;32m   1016\u001b[0m             \u001b[0;32mwith\u001b[0m \u001b[0mself\u001b[0m\u001b[0;34m.\u001b[0m\u001b[0m_backend\u001b[0m\u001b[0;34m.\u001b[0m\u001b[0mretrieval_context\u001b[0m\u001b[0;34m(\u001b[0m\u001b[0;34m)\u001b[0m\u001b[0;34m:\u001b[0m\u001b[0;34m\u001b[0m\u001b[0;34m\u001b[0m\u001b[0m\n\u001b[0;32m-> 1017\u001b[0;31m                 \u001b[0mself\u001b[0m\u001b[0;34m.\u001b[0m\u001b[0mretrieve\u001b[0m\u001b[0;34m(\u001b[0m\u001b[0;34m)\u001b[0m\u001b[0;34m\u001b[0m\u001b[0;34m\u001b[0m\u001b[0m\n\u001b[0m\u001b[1;32m   1018\u001b[0m             \u001b[0;31m# Make sure that we get a last message telling us we are done\u001b[0m\u001b[0;34m\u001b[0m\u001b[0;34m\u001b[0m\u001b[0;34m\u001b[0m\u001b[0m\n\u001b[1;32m   1019\u001b[0m             \u001b[0melapsed_time\u001b[0m \u001b[0;34m=\u001b[0m \u001b[0mtime\u001b[0m\u001b[0;34m.\u001b[0m\u001b[0mtime\u001b[0m\u001b[0;34m(\u001b[0m\u001b[0;34m)\u001b[0m \u001b[0;34m-\u001b[0m \u001b[0mself\u001b[0m\u001b[0;34m.\u001b[0m\u001b[0m_start_time\u001b[0m\u001b[0;34m\u001b[0m\u001b[0;34m\u001b[0m\u001b[0m\n",
      "\u001b[0;32m~opt/conda/envs/habitat/lib/python3.6/site-packages/joblib/parallel.py\u001b[0m in \u001b[0;36mretrieve\u001b[0;34m(self)\u001b[0m\n\u001b[1;32m    907\u001b[0m             \u001b[0;32mtry\u001b[0m\u001b[0;34m:\u001b[0m\u001b[0;34m\u001b[0m\u001b[0;34m\u001b[0m\u001b[0m\n\u001b[1;32m    908\u001b[0m                 \u001b[0;32mif\u001b[0m \u001b[0mgetattr\u001b[0m\u001b[0;34m(\u001b[0m\u001b[0mself\u001b[0m\u001b[0;34m.\u001b[0m\u001b[0m_backend\u001b[0m\u001b[0;34m,\u001b[0m \u001b[0;34m'supports_timeout'\u001b[0m\u001b[0;34m,\u001b[0m \u001b[0;32mFalse\u001b[0m\u001b[0;34m)\u001b[0m\u001b[0;34m:\u001b[0m\u001b[0;34m\u001b[0m\u001b[0;34m\u001b[0m\u001b[0m\n\u001b[0;32m--> 909\u001b[0;31m                     \u001b[0mself\u001b[0m\u001b[0;34m.\u001b[0m\u001b[0m_output\u001b[0m\u001b[0;34m.\u001b[0m\u001b[0mextend\u001b[0m\u001b[0;34m(\u001b[0m\u001b[0mjob\u001b[0m\u001b[0;34m.\u001b[0m\u001b[0mget\u001b[0m\u001b[0;34m(\u001b[0m\u001b[0mtimeout\u001b[0m\u001b[0;34m=\u001b[0m\u001b[0mself\u001b[0m\u001b[0;34m.\u001b[0m\u001b[0mtimeout\u001b[0m\u001b[0;34m)\u001b[0m\u001b[0;34m)\u001b[0m\u001b[0;34m\u001b[0m\u001b[0;34m\u001b[0m\u001b[0m\n\u001b[0m\u001b[1;32m    910\u001b[0m                 \u001b[0;32melse\u001b[0m\u001b[0;34m:\u001b[0m\u001b[0;34m\u001b[0m\u001b[0;34m\u001b[0m\u001b[0m\n\u001b[1;32m    911\u001b[0m                     \u001b[0mself\u001b[0m\u001b[0;34m.\u001b[0m\u001b[0m_output\u001b[0m\u001b[0;34m.\u001b[0m\u001b[0mextend\u001b[0m\u001b[0;34m(\u001b[0m\u001b[0mjob\u001b[0m\u001b[0;34m.\u001b[0m\u001b[0mget\u001b[0m\u001b[0;34m(\u001b[0m\u001b[0;34m)\u001b[0m\u001b[0;34m)\u001b[0m\u001b[0;34m\u001b[0m\u001b[0;34m\u001b[0m\u001b[0m\n",
      "\u001b[0;32m~opt/conda/envs/habitat/lib/python3.6/site-packages/joblib/_parallel_backends.py\u001b[0m in \u001b[0;36mwrap_future_result\u001b[0;34m(future, timeout)\u001b[0m\n\u001b[1;32m    560\u001b[0m         AsyncResults.get from multiprocessing.\"\"\"\n\u001b[1;32m    561\u001b[0m         \u001b[0;32mtry\u001b[0m\u001b[0;34m:\u001b[0m\u001b[0;34m\u001b[0m\u001b[0;34m\u001b[0m\u001b[0m\n\u001b[0;32m--> 562\u001b[0;31m             \u001b[0;32mreturn\u001b[0m \u001b[0mfuture\u001b[0m\u001b[0;34m.\u001b[0m\u001b[0mresult\u001b[0m\u001b[0;34m(\u001b[0m\u001b[0mtimeout\u001b[0m\u001b[0;34m=\u001b[0m\u001b[0mtimeout\u001b[0m\u001b[0;34m)\u001b[0m\u001b[0;34m\u001b[0m\u001b[0;34m\u001b[0m\u001b[0m\n\u001b[0m\u001b[1;32m    563\u001b[0m         \u001b[0;32mexcept\u001b[0m \u001b[0mLokyTimeoutError\u001b[0m\u001b[0;34m:\u001b[0m\u001b[0;34m\u001b[0m\u001b[0;34m\u001b[0m\u001b[0m\n\u001b[1;32m    564\u001b[0m             \u001b[0;32mraise\u001b[0m \u001b[0mTimeoutError\u001b[0m\u001b[0;34m(\u001b[0m\u001b[0;34m)\u001b[0m\u001b[0;34m\u001b[0m\u001b[0;34m\u001b[0m\u001b[0m\n",
      "\u001b[0;32m~opt/conda/envs/habitat/lib/python3.6/concurrent/futures/_base.py\u001b[0m in \u001b[0;36mresult\u001b[0;34m(self, timeout)\u001b[0m\n\u001b[1;32m    430\u001b[0m                 \u001b[0;32mraise\u001b[0m \u001b[0mCancelledError\u001b[0m\u001b[0;34m(\u001b[0m\u001b[0;34m)\u001b[0m\u001b[0;34m\u001b[0m\u001b[0;34m\u001b[0m\u001b[0m\n\u001b[1;32m    431\u001b[0m             \u001b[0;32melif\u001b[0m \u001b[0mself\u001b[0m\u001b[0;34m.\u001b[0m\u001b[0m_state\u001b[0m \u001b[0;34m==\u001b[0m \u001b[0mFINISHED\u001b[0m\u001b[0;34m:\u001b[0m\u001b[0;34m\u001b[0m\u001b[0;34m\u001b[0m\u001b[0m\n\u001b[0;32m--> 432\u001b[0;31m                 \u001b[0;32mreturn\u001b[0m \u001b[0mself\u001b[0m\u001b[0;34m.\u001b[0m\u001b[0m__get_result\u001b[0m\u001b[0;34m(\u001b[0m\u001b[0;34m)\u001b[0m\u001b[0;34m\u001b[0m\u001b[0;34m\u001b[0m\u001b[0m\n\u001b[0m\u001b[1;32m    433\u001b[0m             \u001b[0;32melse\u001b[0m\u001b[0;34m:\u001b[0m\u001b[0;34m\u001b[0m\u001b[0;34m\u001b[0m\u001b[0m\n\u001b[1;32m    434\u001b[0m                 \u001b[0;32mraise\u001b[0m \u001b[0mTimeoutError\u001b[0m\u001b[0;34m(\u001b[0m\u001b[0;34m)\u001b[0m\u001b[0;34m\u001b[0m\u001b[0;34m\u001b[0m\u001b[0m\n",
      "\u001b[0;32m~opt/conda/envs/habitat/lib/python3.6/concurrent/futures/_base.py\u001b[0m in \u001b[0;36m__get_result\u001b[0;34m(self)\u001b[0m\n\u001b[1;32m    382\u001b[0m     \u001b[0;32mdef\u001b[0m \u001b[0m__get_result\u001b[0m\u001b[0;34m(\u001b[0m\u001b[0mself\u001b[0m\u001b[0;34m)\u001b[0m\u001b[0;34m:\u001b[0m\u001b[0;34m\u001b[0m\u001b[0;34m\u001b[0m\u001b[0m\n\u001b[1;32m    383\u001b[0m         \u001b[0;32mif\u001b[0m \u001b[0mself\u001b[0m\u001b[0;34m.\u001b[0m\u001b[0m_exception\u001b[0m\u001b[0;34m:\u001b[0m\u001b[0;34m\u001b[0m\u001b[0;34m\u001b[0m\u001b[0m\n\u001b[0;32m--> 384\u001b[0;31m             \u001b[0;32mraise\u001b[0m \u001b[0mself\u001b[0m\u001b[0;34m.\u001b[0m\u001b[0m_exception\u001b[0m\u001b[0;34m\u001b[0m\u001b[0;34m\u001b[0m\u001b[0m\n\u001b[0m\u001b[1;32m    385\u001b[0m         \u001b[0;32melse\u001b[0m\u001b[0;34m:\u001b[0m\u001b[0;34m\u001b[0m\u001b[0;34m\u001b[0m\u001b[0m\n\u001b[1;32m    386\u001b[0m             \u001b[0;32mreturn\u001b[0m \u001b[0mself\u001b[0m\u001b[0;34m.\u001b[0m\u001b[0m_result\u001b[0m\u001b[0;34m\u001b[0m\u001b[0;34m\u001b[0m\u001b[0m\n",
      "\u001b[0;31mValueError\u001b[0m: Could not load \"\" \nReason: \"image file is truncated\"\nPlease see documentation at: http://pillow.readthedocs.io/en/latest/installation.html#external-libraries"
     ]
    }
   ],
   "source": [
    "from joblib import Parallel, delayed\n",
    "\n",
    "# n_jobs=1 means: use all available cores\n",
    "element_information = Parallel(n_jobs=-1)(delayed(job)(arg) for arg in tqdm(args))"
   ]
  },
  {
   "cell_type": "code",
   "execution_count": 45,
   "metadata": {},
   "outputs": [
    {
     "data": {
      "text/plain": [
       "[['tmp/dump/exp1/episodes/3/1', 'video-3-1.mp4'],\n",
       " ['tmp/dump/exp1/episodes/3/2', 'video-3-2.mp4'],\n",
       " ['tmp/dump/exp1/episodes/3/3', 'video-3-3.mp4'],\n",
       " ['tmp/dump/exp1/episodes/3/4', 'video-3-4.mp4'],\n",
       " ['tmp/dump/exp1/episodes/3/5', 'video-3-5.mp4'],\n",
       " ['tmp/dump/exp1/episodes/3/6', 'video-3-6.mp4'],\n",
       " ['tmp/dump/exp1/episodes/2/1', 'video-2-1.mp4'],\n",
       " ['tmp/dump/exp1/episodes/2/2', 'video-2-2.mp4'],\n",
       " ['tmp/dump/exp1/episodes/2/3', 'video-2-3.mp4'],\n",
       " ['tmp/dump/exp1/episodes/2/4', 'video-2-4.mp4'],\n",
       " ['tmp/dump/exp1/episodes/2/5', 'video-2-5.mp4'],\n",
       " ['tmp/dump/exp1/episodes/2/6', 'video-2-6.mp4'],\n",
       " ['tmp/dump/exp1/episodes/5/1', 'video-5-1.mp4'],\n",
       " ['tmp/dump/exp1/episodes/5/2', 'video-5-2.mp4'],\n",
       " ['tmp/dump/exp1/episodes/5/3', 'video-5-3.mp4'],\n",
       " ['tmp/dump/exp1/episodes/5/4', 'video-5-4.mp4'],\n",
       " ['tmp/dump/exp1/episodes/5/5', 'video-5-5.mp4'],\n",
       " ['tmp/dump/exp1/episodes/5/6', 'video-5-6.mp4'],\n",
       " ['tmp/dump/exp1/episodes/8/1', 'video-8-1.mp4'],\n",
       " ['tmp/dump/exp1/episodes/8/2', 'video-8-2.mp4'],\n",
       " ['tmp/dump/exp1/episodes/8/3', 'video-8-3.mp4'],\n",
       " ['tmp/dump/exp1/episodes/8/4', 'video-8-4.mp4'],\n",
       " ['tmp/dump/exp1/episodes/8/5', 'video-8-5.mp4'],\n",
       " ['tmp/dump/exp1/episodes/8/6', 'video-8-6.mp4'],\n",
       " ['tmp/dump/exp1/episodes/6/1', 'video-6-1.mp4'],\n",
       " ['tmp/dump/exp1/episodes/6/2', 'video-6-2.mp4'],\n",
       " ['tmp/dump/exp1/episodes/6/3', 'video-6-3.mp4'],\n",
       " ['tmp/dump/exp1/episodes/6/4', 'video-6-4.mp4'],\n",
       " ['tmp/dump/exp1/episodes/6/5', 'video-6-5.mp4'],\n",
       " ['tmp/dump/exp1/episodes/6/6', 'video-6-6.mp4'],\n",
       " ['tmp/dump/exp1/episodes/9/1', 'video-9-1.mp4'],\n",
       " ['tmp/dump/exp1/episodes/9/2', 'video-9-2.mp4'],\n",
       " ['tmp/dump/exp1/episodes/9/3', 'video-9-3.mp4'],\n",
       " ['tmp/dump/exp1/episodes/9/4', 'video-9-4.mp4'],\n",
       " ['tmp/dump/exp1/episodes/9/5', 'video-9-5.mp4'],\n",
       " ['tmp/dump/exp1/episodes/9/6', 'video-9-6.mp4'],\n",
       " ['tmp/dump/exp1/episodes/7/1', 'video-7-1.mp4'],\n",
       " ['tmp/dump/exp1/episodes/7/2', 'video-7-2.mp4'],\n",
       " ['tmp/dump/exp1/episodes/7/3', 'video-7-3.mp4'],\n",
       " ['tmp/dump/exp1/episodes/7/4', 'video-7-4.mp4'],\n",
       " ['tmp/dump/exp1/episodes/7/5', 'video-7-5.mp4'],\n",
       " ['tmp/dump/exp1/episodes/7/6', 'video-7-6.mp4'],\n",
       " ['tmp/dump/exp1/episodes/4/1', 'video-4-1.mp4'],\n",
       " ['tmp/dump/exp1/episodes/4/2', 'video-4-2.mp4'],\n",
       " ['tmp/dump/exp1/episodes/4/3', 'video-4-3.mp4'],\n",
       " ['tmp/dump/exp1/episodes/4/4', 'video-4-4.mp4'],\n",
       " ['tmp/dump/exp1/episodes/4/5', 'video-4-5.mp4'],\n",
       " ['tmp/dump/exp1/episodes/4/6', 'video-4-6.mp4'],\n",
       " ['tmp/dump/exp1/episodes/1/1', 'video-1-1.mp4'],\n",
       " ['tmp/dump/exp1/episodes/1/2', 'video-1-2.mp4'],\n",
       " ['tmp/dump/exp1/episodes/1/3', 'video-1-3.mp4'],\n",
       " ['tmp/dump/exp1/episodes/1/4', 'video-1-4.mp4'],\n",
       " ['tmp/dump/exp1/episodes/1/5', 'video-1-5.mp4'],\n",
       " ['tmp/dump/exp1/episodes/1/6', 'video-1-6.mp4']]"
      ]
     },
     "execution_count": 45,
     "metadata": {},
     "output_type": "execute_result"
    }
   ],
   "source": [
    "args"
   ]
  },
  {
   "cell_type": "code",
   "execution_count": 47,
   "metadata": {},
   "outputs": [
    {
     "data": {
      "text/html": [
       "<video src=\"video-1-5.mp4\" controls  >\n",
       "      Your browser does not support the <code>video</code> element.\n",
       "    </video>"
      ],
      "text/plain": [
       "<IPython.core.display.Video object>"
      ]
     },
     "execution_count": 47,
     "metadata": {},
     "output_type": "execute_result"
    }
   ],
   "source": [
    "Video('video-1-6.mp4')"
   ]
  },
  {
   "cell_type": "code",
   "execution_count": null,
   "metadata": {},
   "outputs": [],
   "source": []
  }
 ],
 "metadata": {
  "kernelspec": {
   "display_name": "Python 3",
   "language": "python",
   "name": "python3"
  },
  "language_info": {
   "codemirror_mode": {
    "name": "ipython",
    "version": 3
   },
   "file_extension": ".py",
   "mimetype": "text/x-python",
   "name": "python",
   "nbconvert_exporter": "python",
   "pygments_lexer": "ipython3",
   "version": "3.6.10"
  }
 },
 "nbformat": 4,
 "nbformat_minor": 4
}
