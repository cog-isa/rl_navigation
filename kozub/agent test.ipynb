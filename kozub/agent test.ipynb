{
 "cells": [
  {
   "cell_type": "code",
   "execution_count": 1,
   "metadata": {},
   "outputs": [
    {
     "name": "stderr",
     "output_type": "stream",
     "text": [
      "2019-12-09 14:56:43,912 Initializing dataset PointNav-v1\n",
      "2019-12-09 14:56:47,647 initializing sim Sim-v0\n",
      "I1209 14:56:51.926726 578 simulator.py:127] Loaded navmesh data/scene_datasets/gibson/Adrian.navmesh\n",
      "2019-12-09 14:56:51,961 Initializing task Nav-v0\n"
     ]
    },
    {
     "name": "stdout",
     "output_type": "stream",
     "text": [
      "Environment creation successful\n",
      "dict_keys(['rgb', 'depth', 'pointgoal_with_gps_compass'])\n",
      "AgentState(position=array([-9.273551  ,  0.06204152, -3.4377835 ], dtype=float32), rotation=quaternion(-0.685245096683502, 0, 0.72831255197525, 0), velocity=array([0., 0., 0.]), angular_velocity=array([0., 0., 0.]), force=array([0., 0., 0.]), torque=array([0., 0., 0.]), sensor_states={'rgb': SixDOFPose(position=array([-9.273551 ,  1.3120415, -3.4377835], dtype=float32), rotation=quaternion(-0.685245096683502, 0, 0.72831255197525, 0)), 'depth': SixDOFPose(position=array([-9.273551 ,  1.3120415, -3.4377835], dtype=float32), rotation=quaternion(-0.685245096683502, 0, 0.72831255197525, 0))})\n",
      "16.186414056238647\n",
      "\n"
     ]
    }
   ],
   "source": [
    "\n",
    "import cv2\n",
    "import numpy as np\n",
    "\n",
    "import habitat\n",
    "from habitat.sims.habitat_simulator.actions import HabitatSimActions\n",
    "from environment import environments\n",
    "from habitat.utils.visualizations import maps\n",
    "import matplotlib.pyplot as plt\n",
    "\n",
    "\n",
    "\n",
    "\n",
    "FORWARD_KEY=\"w\"\n",
    "LEFT_KEY=\"a\"\n",
    "RIGHT_KEY=\"d\"\n",
    "FINISH=\"f\"\n",
    "\n",
    "\n",
    "\n",
    "def main(episodes_number=10000, print_interval=20, reward_scale_f=0.01, epochs=3, time_horizon=20,\n",
    "       learning_rate=0.0005, gamma=0.98, eps_clip=0.1):\n",
    "\n",
    "    env = environments.NavRLEnv\\\n",
    "            (\n",
    "        config=habitat.get_config(\"./configs/pointnav_kozub.yaml\")\n",
    "        )\n",
    "    print(\"Environment creation successful\")\n",
    "\n",
    "    s = env.reset()\n",
    "\n",
    "    print(s.keys())\n",
    "    print(env.sim().get_agent_state())\n",
    "    top_down_map = maps.get_topdown_map(env.sim(), map_resolution=(250, 250))\n",
    "    print(np.linalg.norm(top_down_map))\n",
    "    #cv2.imshow(\"RGB\", top_down_map)\n",
    "    plt.imshow(top_down_map)\n",
    "    input()\n",
    "\n",
    "    env.close()\n",
    "    \n",
    "\n",
    "\n",
    "main()"
   ]
  }
 ],
 "metadata": {
  "kernelspec": {
   "display_name": "Python 3",
   "language": "python",
   "name": "python3"
  },
  "language_info": {
   "codemirror_mode": {
    "name": "ipython",
    "version": 3
   },
   "file_extension": ".py",
   "mimetype": "text/x-python",
   "name": "python",
   "nbconvert_exporter": "python",
   "pygments_lexer": "ipython3",
   "version": "3.6.9"
  }
 },
 "nbformat": 4,
 "nbformat_minor": 2
}
