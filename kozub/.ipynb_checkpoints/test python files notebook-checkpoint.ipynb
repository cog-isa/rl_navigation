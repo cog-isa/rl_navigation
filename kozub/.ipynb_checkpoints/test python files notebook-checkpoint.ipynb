{
 "cells": [
  {
   "cell_type": "code",
   "execution_count": 1,
   "metadata": {},
   "outputs": [
    {
     "name": "stdout",
     "output_type": "stream",
     "text": [
      "ln: failed to create symbolic link '/habitat-api/data/data': File exists\r\n"
     ]
    }
   ],
   "source": [
    "!ln -s /home/data /habitat-api/data"
   ]
  },
  {
   "cell_type": "code",
   "execution_count": 2,
   "metadata": {},
   "outputs": [],
   "source": [
    "!ln -s /habitat-api /home/habitat-api"
   ]
  },
  {
   "cell_type": "code",
   "execution_count": 1,
   "metadata": {},
   "outputs": [],
   "source": [
    "!cp ./configs/default.py /habitat-api/habitat/config/default.py"
   ]
  },
  {
   "cell_type": "code",
   "execution_count": 4,
   "metadata": {},
   "outputs": [
    {
     "name": "stdout",
     "output_type": "stream",
     "text": [
      "Collecting tokenizer\n",
      "\u001b[?25l  Downloading https://files.pythonhosted.org/packages/65/48/49fd393348a4dcb796e901732ebab32d7a37e826fa35b72702eeea2e2f77/tokenizer-2.0.3-py2.py3-none-any.whl (107kB)\n",
      "\u001b[K     |################################| 112kB 877kB/s eta 0:00:01\n",
      "\u001b[?25hCollecting stable-baselines\n",
      "\u001b[?25l  Downloading https://files.pythonhosted.org/packages/c0/05/f6651855083020c0363acf483450c23e38d96f5c18bec8bded113d528da5/stable_baselines-2.9.0-py3-none-any.whl (232kB)\n",
      "\u001b[K     |################################| 235kB 2.5MB/s eta 0:00:01\n",
      "\u001b[?25hCollecting joblib\n",
      "\u001b[?25l  Downloading https://files.pythonhosted.org/packages/28/5c/cf6a2b65a321c4a209efcdf64c2689efae2cb62661f8f6f4bb28547cf1bf/joblib-0.14.1-py2.py3-none-any.whl (294kB)\n",
      "\u001b[K     |################################| 296kB 2.8MB/s eta 0:00:01\n",
      "\u001b[?25hRequirement already satisfied: scipy in /opt/conda/envs/habitat/lib/python3.6/site-packages (from stable-baselines) (1.3.3)\n",
      "Requirement already satisfied: numpy in /opt/conda/envs/habitat/lib/python3.6/site-packages (from stable-baselines) (1.17.4)\n",
      "Requirement already satisfied: pandas in /opt/conda/envs/habitat/lib/python3.6/site-packages (from stable-baselines) (0.25.3)\n",
      "Requirement already satisfied: gym[atari,classic_control]>=0.10.9 in /opt/conda/envs/habitat/lib/python3.6/site-packages (from stable-baselines) (0.10.9)\n",
      "Requirement already satisfied: opencv-python in /opt/conda/envs/habitat/lib/python3.6/site-packages (from stable-baselines) (4.1.2.30)\n",
      "Requirement already satisfied: matplotlib in /opt/conda/envs/habitat/lib/python3.6/site-packages (from stable-baselines) (3.1.2)\n",
      "Collecting cloudpickle>=0.5.5\n",
      "  Downloading https://files.pythonhosted.org/packages/c1/49/334e279caa3231255725c8e860fa93e72083567625573421db8875846c14/cloudpickle-1.2.2-py2.py3-none-any.whl\n",
      "Requirement already satisfied: python-dateutil>=2.6.1 in /opt/conda/envs/habitat/lib/python3.6/site-packages (from pandas->stable-baselines) (2.8.1)\n",
      "Requirement already satisfied: pytz>=2017.2 in /opt/conda/envs/habitat/lib/python3.6/site-packages (from pandas->stable-baselines) (2019.3)\n",
      "Requirement already satisfied: pyglet>=1.2.0 in /opt/conda/envs/habitat/lib/python3.6/site-packages (from gym[atari,classic_control]>=0.10.9->stable-baselines) (1.4.8)\n",
      "Requirement already satisfied: requests>=2.0 in /opt/conda/envs/habitat/lib/python3.6/site-packages (from gym[atari,classic_control]>=0.10.9->stable-baselines) (2.22.0)\n",
      "Requirement already satisfied: six in /opt/conda/envs/habitat/lib/python3.6/site-packages (from gym[atari,classic_control]>=0.10.9->stable-baselines) (1.13.0)\n",
      "Collecting PyOpenGL; extra == \"atari\"\n",
      "\u001b[?25l  Downloading https://files.pythonhosted.org/packages/47/9a/8d9364533ebcaa13621994a63dcc6a6051e27671ae5e1715dac4af18cac2/PyOpenGL-3.1.5-py3-none-any.whl (2.4MB)\n",
      "\u001b[K     |################################| 2.4MB 3.5MB/s eta 0:00:01\n",
      "\u001b[?25hRequirement already satisfied: Pillow; extra == \"atari\" in /opt/conda/envs/habitat/lib/python3.6/site-packages (from gym[atari,classic_control]>=0.10.9->stable-baselines) (6.2.1)\n",
      "Collecting atari-py>=0.1.4; extra == \"atari\"\n",
      "\u001b[?25l  Downloading https://files.pythonhosted.org/packages/58/45/c2f6523aed89db6672b241fa1aafcfa54126c564be769c1360d298f03852/atari_py-0.2.6-cp36-cp36m-manylinux1_x86_64.whl (2.8MB)\n",
      "\u001b[K     |################################| 2.8MB 8.3MB/s eta 0:00:01\n",
      "\u001b[?25hRequirement already satisfied: pyparsing!=2.0.4,!=2.1.2,!=2.1.6,>=2.0.1 in /opt/conda/envs/habitat/lib/python3.6/site-packages (from matplotlib->stable-baselines) (2.4.5)\n",
      "Requirement already satisfied: cycler>=0.10 in /opt/conda/envs/habitat/lib/python3.6/site-packages (from matplotlib->stable-baselines) (0.10.0)\n",
      "Requirement already satisfied: kiwisolver>=1.0.1 in /opt/conda/envs/habitat/lib/python3.6/site-packages (from matplotlib->stable-baselines) (1.1.0)\n",
      "Requirement already satisfied: future in /opt/conda/envs/habitat/lib/python3.6/site-packages (from pyglet>=1.2.0->gym[atari,classic_control]>=0.10.9->stable-baselines) (0.18.2)\n",
      "Requirement already satisfied: urllib3!=1.25.0,!=1.25.1,<1.26,>=1.21.1 in /opt/conda/envs/habitat/lib/python3.6/site-packages (from requests>=2.0->gym[atari,classic_control]>=0.10.9->stable-baselines) (1.25.7)\n",
      "Requirement already satisfied: chardet<3.1.0,>=3.0.2 in /opt/conda/envs/habitat/lib/python3.6/site-packages (from requests>=2.0->gym[atari,classic_control]>=0.10.9->stable-baselines) (3.0.4)\n",
      "Requirement already satisfied: idna<2.9,>=2.5 in /opt/conda/envs/habitat/lib/python3.6/site-packages (from requests>=2.0->gym[atari,classic_control]>=0.10.9->stable-baselines) (2.8)\n",
      "Requirement already satisfied: certifi>=2017.4.17 in /opt/conda/envs/habitat/lib/python3.6/site-packages (from requests>=2.0->gym[atari,classic_control]>=0.10.9->stable-baselines) (2019.11.28)\n",
      "Requirement already satisfied: setuptools in /opt/conda/envs/habitat/lib/python3.6/site-packages (from kiwisolver>=1.0.1->matplotlib->stable-baselines) (42.0.2.post20191203)\n",
      "Installing collected packages: tokenizer, joblib, cloudpickle, stable-baselines, PyOpenGL, atari-py\n",
      "Successfully installed PyOpenGL-3.1.5 atari-py-0.2.6 cloudpickle-1.2.2 joblib-0.14.1 stable-baselines-2.9.0 tokenizer-2.0.3\n"
     ]
    }
   ],
   "source": [
    "!pip install tokenizer stable-baselines"
   ]
  },
  {
   "cell_type": "code",
   "execution_count": 10,
   "metadata": {},
   "outputs": [
    {
     "name": "stdout",
     "output_type": "stream",
     "text": [
      "Using device: cuda:1\n",
      "\n",
      "2020-01-21 18:10:04,478 Initializing dataset PointNav-v1\n",
      "2020-01-21 18:10:08,433 initializing sim Sim-v0\n",
      "2020-01-21 18:10:12,573 Initializing task Nav-v0\n",
      "Environment creation successful\n",
      "(257, 256, 3) (257, 256, 3)\n",
      "0.0\n"
     ]
    }
   ],
   "source": [
    "! python rl_env_block_agent.py"
   ]
  }
 ],
 "metadata": {
  "kernelspec": {
   "display_name": "Python 3",
   "language": "python",
   "name": "python3"
  },
  "language_info": {
   "codemirror_mode": {
    "name": "ipython",
    "version": 3
   },
   "file_extension": ".py",
   "mimetype": "text/x-python",
   "name": "python",
   "nbconvert_exporter": "python",
   "pygments_lexer": "ipython3",
   "version": "3.6.9"
  }
 },
 "nbformat": 4,
 "nbformat_minor": 2
}
